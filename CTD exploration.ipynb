{
 "cells": [
  {
   "cell_type": "markdown",
   "metadata": {},
   "source": [
    "\"\"\"\n",
    "Author: Ian Coleman\n",
    "Purpose: Explore CTD data\n",
    "\"\"\""
   ]
  },
  {
   "cell_type": "code",
   "execution_count": 16,
   "metadata": {},
   "outputs": [],
   "source": [
    "import pandas as pd\n",
    "import numpy as np\n",
    "import scipy as sp"
   ]
  },
  {
   "cell_type": "markdown",
   "metadata": {},
   "source": [
    "## Functions"
   ]
  },
  {
   "cell_type": "code",
   "execution_count": 19,
   "metadata": {},
   "outputs": [],
   "source": [
    "def overview_dfs (df_list):\n",
    "    \"\"\"\n",
    "    Input:\n",
    "        list: List of DFs\n",
    "    Output:\n",
    "        Prints info re NaNs, no. rows and cols\n",
    "    \"\"\"\n",
    "    for df in df_list:\n",
    "        print('\\nObservations: ', len(df))\n",
    "        print('Features: ', len(df.columns))\n",
    "        \n",
    "        print('Columns with NaNs:')\n",
    "        print(df.isnull().any().sum(), ' / ', len(df.columns))\n",
    "\n",
    "        print('\\nRows with NaNs:')\n",
    "        print(df.isnull().any(axis=1).sum(), ' / ', len(df))\n",
    "\n",
    "        print('_______________________')\n",
    "\n",
    "        print('\\nData Types:\\n')\n",
    "        print(df.dtypes) # check feat data type\n",
    "\n",
    "        print('_______________________')\n",
    "\n",
    "        print('\\nData Description:\\n')\n",
    "        print(df.describe())"
   ]
  },
  {
   "cell_type": "code",
   "execution_count": 25,
   "metadata": {},
   "outputs": [],
   "source": [
    "# Read in CTD sample, skipping the intro rows\n",
    "df = pd.read_csv('CTD_chem_gene_ixns.csv', skiprows=27, nrows=300)\n",
    "df = df.drop(0)\n",
    "df = df.rename(columns={'# ChemicalName': 'ChemicalName'}) # rename of a column"
   ]
  },
  {
   "cell_type": "code",
   "execution_count": 26,
   "metadata": {},
   "outputs": [
    {
     "name": "stdout",
     "output_type": "stream",
     "text": [
      "\n",
      "Observations:  299\n",
      "Features:  11\n",
      "Columns with NaNs:\n",
      "4  /  11\n",
      "\n",
      "Rows with NaNs:\n",
      "225  /  299\n",
      "_______________________\n",
      "\n",
      "Data Types:\n",
      "\n",
      "ChemicalName           object\n",
      "ChemicalID             object\n",
      "CasRN                  object\n",
      "GeneSymbol             object\n",
      "GeneID                float64\n",
      "GeneForms              object\n",
      "Organism               object\n",
      "OrganismID            float64\n",
      "Interaction            object\n",
      "InteractionActions     object\n",
      "PubMedIDs              object\n",
      "dtype: object\n",
      "_______________________\n",
      "\n",
      "Data Description:\n",
      "\n",
      "              GeneID    OrganismID\n",
      "count     299.000000    283.000000\n",
      "mean    11794.715719   9707.816254\n",
      "std     50146.327888    196.899590\n",
      "min        43.000000   9606.000000\n",
      "25%       841.000000   9606.000000\n",
      "50%      2993.000000   9606.000000\n",
      "75%      6069.500000   9606.000000\n",
      "max    440387.000000  10116.000000\n"
     ]
    }
   ],
   "source": [
    "overview_dfs([df])"
   ]
  },
  {
   "cell_type": "code",
   "execution_count": 27,
   "metadata": {},
   "outputs": [
    {
     "data": {
      "text/html": [
       "<div>\n",
       "<style scoped>\n",
       "    .dataframe tbody tr th:only-of-type {\n",
       "        vertical-align: middle;\n",
       "    }\n",
       "\n",
       "    .dataframe tbody tr th {\n",
       "        vertical-align: top;\n",
       "    }\n",
       "\n",
       "    .dataframe thead th {\n",
       "        text-align: right;\n",
       "    }\n",
       "</style>\n",
       "<table border=\"1\" class=\"dataframe\">\n",
       "  <thead>\n",
       "    <tr style=\"text-align: right;\">\n",
       "      <th></th>\n",
       "      <th>ChemicalName</th>\n",
       "      <th>ChemicalID</th>\n",
       "      <th>CasRN</th>\n",
       "      <th>GeneSymbol</th>\n",
       "      <th>GeneID</th>\n",
       "      <th>GeneForms</th>\n",
       "      <th>Organism</th>\n",
       "      <th>OrganismID</th>\n",
       "      <th>Interaction</th>\n",
       "      <th>InteractionActions</th>\n",
       "      <th>PubMedIDs</th>\n",
       "    </tr>\n",
       "  </thead>\n",
       "  <tbody>\n",
       "    <tr>\n",
       "      <th>1</th>\n",
       "      <td>10074-G5</td>\n",
       "      <td>C534883</td>\n",
       "      <td>NaN</td>\n",
       "      <td>MAX</td>\n",
       "      <td>4149.0</td>\n",
       "      <td>protein</td>\n",
       "      <td>NaN</td>\n",
       "      <td>NaN</td>\n",
       "      <td>10074-G5 affects the folding of and results in...</td>\n",
       "      <td>affects^binding|affects^folding|decreases^acti...</td>\n",
       "      <td>26474287</td>\n",
       "    </tr>\n",
       "    <tr>\n",
       "      <th>2</th>\n",
       "      <td>10074-G5</td>\n",
       "      <td>C534883</td>\n",
       "      <td>NaN</td>\n",
       "      <td>MAX</td>\n",
       "      <td>4149.0</td>\n",
       "      <td>protein</td>\n",
       "      <td>NaN</td>\n",
       "      <td>NaN</td>\n",
       "      <td>10074-G5 inhibits the reaction [MYC protein bi...</td>\n",
       "      <td>affects^binding|decreases^reaction</td>\n",
       "      <td>26474287</td>\n",
       "    </tr>\n",
       "    <tr>\n",
       "      <th>3</th>\n",
       "      <td>10074-G5</td>\n",
       "      <td>C534883</td>\n",
       "      <td>NaN</td>\n",
       "      <td>MYC</td>\n",
       "      <td>4609.0</td>\n",
       "      <td>protein</td>\n",
       "      <td>Homo sapiens</td>\n",
       "      <td>9606.0</td>\n",
       "      <td>10074-G5 analog results in decreased expressio...</td>\n",
       "      <td>decreases^expression</td>\n",
       "      <td>26036281</td>\n",
       "    </tr>\n",
       "    <tr>\n",
       "      <th>4</th>\n",
       "      <td>10074-G5</td>\n",
       "      <td>C534883</td>\n",
       "      <td>NaN</td>\n",
       "      <td>MYC</td>\n",
       "      <td>4609.0</td>\n",
       "      <td>protein</td>\n",
       "      <td>Homo sapiens</td>\n",
       "      <td>9606.0</td>\n",
       "      <td>10074-G5 results in decreased activity of MYC ...</td>\n",
       "      <td>decreases^activity</td>\n",
       "      <td>25716159</td>\n",
       "    </tr>\n",
       "    <tr>\n",
       "      <th>5</th>\n",
       "      <td>10074-G5</td>\n",
       "      <td>C534883</td>\n",
       "      <td>NaN</td>\n",
       "      <td>MYC</td>\n",
       "      <td>4609.0</td>\n",
       "      <td>protein</td>\n",
       "      <td>Homo sapiens</td>\n",
       "      <td>9606.0</td>\n",
       "      <td>10074-G5 results in decreased expression of MY...</td>\n",
       "      <td>decreases^expression</td>\n",
       "      <td>26036281</td>\n",
       "    </tr>\n",
       "  </tbody>\n",
       "</table>\n",
       "</div>"
      ],
      "text/plain": [
       "  ChemicalName ChemicalID CasRN GeneSymbol  GeneID GeneForms      Organism  \\\n",
       "1     10074-G5    C534883   NaN        MAX  4149.0   protein           NaN   \n",
       "2     10074-G5    C534883   NaN        MAX  4149.0   protein           NaN   \n",
       "3     10074-G5    C534883   NaN        MYC  4609.0   protein  Homo sapiens   \n",
       "4     10074-G5    C534883   NaN        MYC  4609.0   protein  Homo sapiens   \n",
       "5     10074-G5    C534883   NaN        MYC  4609.0   protein  Homo sapiens   \n",
       "\n",
       "   OrganismID                                        Interaction  \\\n",
       "1         NaN  10074-G5 affects the folding of and results in...   \n",
       "2         NaN  10074-G5 inhibits the reaction [MYC protein bi...   \n",
       "3      9606.0  10074-G5 analog results in decreased expressio...   \n",
       "4      9606.0  10074-G5 results in decreased activity of MYC ...   \n",
       "5      9606.0  10074-G5 results in decreased expression of MY...   \n",
       "\n",
       "                                  InteractionActions PubMedIDs  \n",
       "1  affects^binding|affects^folding|decreases^acti...  26474287  \n",
       "2                 affects^binding|decreases^reaction  26474287  \n",
       "3                               decreases^expression  26036281  \n",
       "4                                 decreases^activity  25716159  \n",
       "5                               decreases^expression  26036281  "
      ]
     },
     "execution_count": 27,
     "metadata": {},
     "output_type": "execute_result"
    }
   ],
   "source": [
    "df.head()"
   ]
  },
  {
   "cell_type": "code",
   "execution_count": 29,
   "metadata": {},
   "outputs": [],
   "source": [
    "# interaction_types = pd.read_csv('CTD_chem_gene_ixn_types.csv')"
   ]
  },
  {
   "cell_type": "code",
   "execution_count": 45,
   "metadata": {},
   "outputs": [],
   "source": [
    "def convert_df_nt (df, output_file):\n",
    "    \"\"\"\n",
    "    Input:\n",
    "        DF: some rows and columns of a dataframe\n",
    "        STR: name for the output file, include filetype .nt\n",
    "    Output:\n",
    "        NT file\n",
    "    \"\"\"\n",
    "    # open a text file of name output_file\n",
    "    # for row in df\n",
    "        # subject = '<' + url + chemical + '> '\n",
    "        # predicate = interactionAction + ' '\n",
    "        # object = '<' + url + gene + '> '\n",
    "        # write subject + predicate + object + '.'\n",
    "    f = open(output_file,'w')\n",
    "    for index, row in df.iterrows():\n",
    "        subj = '<' + 'http://identifiers.org/ctd.chemical/' + str(row['ChemicalID']) + '> '\n",
    "        pred = str(row['InteractionActions']) + ' '\n",
    "        obj = '<' + 'http://identifiers.org/ctd.gene/' + str(int(row['GeneID'])) + '> '\n",
    "        f.write(subj + pred + obj + '.' + '\\n')\n",
    "#     f.write('hello world')\n",
    "    f.close()\n",
    "    "
   ]
  },
  {
   "cell_type": "code",
   "execution_count": 46,
   "metadata": {},
   "outputs": [],
   "source": [
    "convert_df_nt(df.head(), 'output.nt')"
   ]
  },
  {
   "cell_type": "code",
   "execution_count": null,
   "metadata": {},
   "outputs": [],
   "source": []
  }
 ],
 "metadata": {
  "kernelspec": {
   "display_name": "Python 3",
   "language": "python",
   "name": "python3"
  },
  "language_info": {
   "codemirror_mode": {
    "name": "ipython",
    "version": 3
   },
   "file_extension": ".py",
   "mimetype": "text/x-python",
   "name": "python",
   "nbconvert_exporter": "python",
   "pygments_lexer": "ipython3",
   "version": "3.6.5"
  }
 },
 "nbformat": 4,
 "nbformat_minor": 2
}
