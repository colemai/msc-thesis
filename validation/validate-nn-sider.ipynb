{
 "cells": [
  {
   "cell_type": "markdown",
   "metadata": {},
   "source": [
    "# Validate NN on SIDER unseen database\n",
    "<b>Author</b>: Ian Coleman <br/>\n",
    "<b>Function</b>: Let's take the NN developed in Opa/ and test it out on an unseen database"
   ]
  },
  {
   "cell_type": "markdown",
   "metadata": {},
   "source": [
    "Ways to improve <br>\n",
    "- get more chems through disgenet\n",
    "- get more diseases by running opa2vec on ctd data freshly"
   ]
  },
  {
   "cell_type": "code",
   "execution_count": 1,
   "metadata": {},
   "outputs": [],
   "source": [
    "import tensorflow as tf\n",
    "from tensorflow import keras\n",
    "import numpy as np\n",
    "import matplotlib.pyplot as plt\n",
    "import pandas as pd\n",
    "from random import randint\n",
    "import random\n",
    "from sklearn.model_selection import train_test_split\n",
    "import sklearn\n",
    "from sklearn.metrics.pairwise import cosine_similarity\n",
    "from sklearn.metrics import roc_curve\n",
    "from sklearn.metrics import roc_auc_score\n",
    "from pandas_ml import ConfusionMatrix\n",
    "import json\n",
    "import subprocess\n",
    "import pickle\n",
    "import math\n",
    "\n",
    "#Set random seed\n",
    "np.random.seed(1606)"
   ]
  },
  {
   "cell_type": "code",
   "execution_count": 2,
   "metadata": {},
   "outputs": [],
   "source": [
    "# Right, what databases? Where can I get unseen chem-disease associations\n",
    "# Virtual Metabolic Human - ?nutrients\n",
    "# Sider - drugs\n",
    "# I want environmental chemicals, could use EPA toxic list but probably all in training database\n",
    "# How does this validation thing work, (i) import trained model (ii) create features for the chemical/diseases\n",
    "# (iii) predict"
   ]
  },
  {
   "cell_type": "code",
   "execution_count": 3,
   "metadata": {},
   "outputs": [],
   "source": [
    "# Import database of unqiue diseases with their vectors from opa-nn"
   ]
  },
  {
   "cell_type": "code",
   "execution_count": 4,
   "metadata": {},
   "outputs": [],
   "source": [
    "# import new chemicals with their actual disease associations, extract unique chems"
   ]
  },
  {
   "cell_type": "markdown",
   "metadata": {},
   "source": [
    "## 1. Sider"
   ]
  },
  {
   "cell_type": "code",
   "execution_count": 5,
   "metadata": {},
   "outputs": [],
   "source": [
    "# Import sider (all side effects)\n",
    "# SE = side effect\n",
    "# CID1 - \"flat compound\", i.e. stereo-isomers have been merged into one compound\n",
    "# CID2 - stereo-specific compound id\n",
    "colnames = ['CID1', 'CID2', 'UMLS', 'UMLS2Type', 'UMLS2', 'SEname']\n",
    "sider = pd.read_csv('../validation/data/meddra_all_se.tsv', sep='\\t', names=colnames)"
   ]
  },
  {
   "cell_type": "code",
   "execution_count": 6,
   "metadata": {},
   "outputs": [
    {
     "data": {
      "text/html": [
       "<div>\n",
       "<style scoped>\n",
       "    .dataframe tbody tr th:only-of-type {\n",
       "        vertical-align: middle;\n",
       "    }\n",
       "\n",
       "    .dataframe tbody tr th {\n",
       "        vertical-align: top;\n",
       "    }\n",
       "\n",
       "    .dataframe thead th {\n",
       "        text-align: right;\n",
       "    }\n",
       "</style>\n",
       "<table border=\"1\" class=\"dataframe\">\n",
       "  <thead>\n",
       "    <tr style=\"text-align: right;\">\n",
       "      <th></th>\n",
       "      <th>CID1</th>\n",
       "      <th>CID2</th>\n",
       "      <th>UMLS</th>\n",
       "      <th>UMLS2Type</th>\n",
       "      <th>UMLS2</th>\n",
       "      <th>SEname</th>\n",
       "    </tr>\n",
       "  </thead>\n",
       "  <tbody>\n",
       "    <tr>\n",
       "      <th>161261</th>\n",
       "      <td>CID100005314</td>\n",
       "      <td>CID000005314</td>\n",
       "      <td>C0042510</td>\n",
       "      <td>PT</td>\n",
       "      <td>C0042510</td>\n",
       "      <td>Ventricular fibrillation</td>\n",
       "    </tr>\n",
       "    <tr>\n",
       "      <th>59539</th>\n",
       "      <td>CID100003143</td>\n",
       "      <td>CID000148123</td>\n",
       "      <td>C0151738</td>\n",
       "      <td>LLT</td>\n",
       "      <td>C0151738</td>\n",
       "      <td>Large intestine perforation</td>\n",
       "    </tr>\n",
       "    <tr>\n",
       "      <th>87586</th>\n",
       "      <td>CID100003690</td>\n",
       "      <td>CID000003690</td>\n",
       "      <td>C0020542</td>\n",
       "      <td>PT</td>\n",
       "      <td>C0020542</td>\n",
       "      <td>Pulmonary hypertension</td>\n",
       "    </tr>\n",
       "  </tbody>\n",
       "</table>\n",
       "</div>"
      ],
      "text/plain": [
       "                CID1          CID2      UMLS UMLS2Type     UMLS2  \\\n",
       "161261  CID100005314  CID000005314  C0042510        PT  C0042510   \n",
       "59539   CID100003143  CID000148123  C0151738       LLT  C0151738   \n",
       "87586   CID100003690  CID000003690  C0020542        PT  C0020542   \n",
       "\n",
       "                             SEname  \n",
       "161261     Ventricular fibrillation  \n",
       "59539   Large intestine perforation  \n",
       "87586        Pulmonary hypertension  "
      ]
     },
     "execution_count": 6,
     "metadata": {},
     "output_type": "execute_result"
    }
   ],
   "source": [
    "sider.sample(3)"
   ]
  },
  {
   "cell_type": "markdown",
   "metadata": {},
   "source": [
    "### Get Disease MESH IDs for sider side effects\n",
    "Problem here is that sider uses UMLS, convert this to MESH\n",
    "<br> Commenting out the next few cells as the mapping process is intensive and I've saved map"
   ]
  },
  {
   "cell_type": "code",
   "execution_count": 7,
   "metadata": {},
   "outputs": [],
   "source": [
    "# # Import CTD Chemical-Disease Original CSV to get disease names, try semantic matching to get UMLS-MESH conversion\n",
    "# Read in CTD sample, skipping the intro rows\n",
    "cols = ['DiseaseID', 'DiseaseName', 'DirectEvidence']\n",
    "col_types = {   \n",
    "    'DiseaseID': 'category',\n",
    "    'DiseaseName': 'category',\n",
    "    'DirectEvidence': 'category'\n",
    "}\n",
    "df_cd = pd.read_csv('../ctd-to-nt/csvs/CTD_chemicals_diseases.csv', skiprows=27, usecols=cols, dtype=col_types)\n",
    "df_cd = df_cd.drop(0)\n",
    "df_cd = df_cd.dropna(subset=['DirectEvidence']) # drop if it doesn't have direct evidence"
   ]
  },
  {
   "cell_type": "code",
   "execution_count": 8,
   "metadata": {},
   "outputs": [],
   "source": [
    "# df_cd.head()"
   ]
  },
  {
   "cell_type": "code",
   "execution_count": 9,
   "metadata": {},
   "outputs": [],
   "source": [
    "# Make a mesh disease name to mesh id map for later use\n",
    "mesh_get_id = dict(zip(df_cd.DiseaseName, df_cd.DiseaseID))"
   ]
  },
  {
   "cell_type": "code",
   "execution_count": 10,
   "metadata": {},
   "outputs": [],
   "source": [
    "# # Process DiseaseID so as to be usable in url\n",
    "# df_cd['DiseaseID'] = df_cd['DiseaseID'].str.replace('MESH:', '')\n",
    "\n",
    "# #Specify type to optimise\n",
    "# df_cd['ChemicalID'] = df_cd.ChemicalID.astype(str)\n",
    "# # df_cd['InferenceGeneSymbol'] = df_cd.InferenceGeneSymbol.astype(str)"
   ]
  },
  {
   "cell_type": "code",
   "execution_count": 11,
   "metadata": {},
   "outputs": [],
   "source": [
    "# Use a measure of distance to match up disease names from ctd (MESH) and from sider (UMLS) \n",
    "from difflib import SequenceMatcher\n",
    "import pdb\n",
    "\n",
    "def similar(a, b):\n",
    "    return SequenceMatcher(None, a, b).ratio()\n",
    "\n",
    "def create_map(std_list, flawed_list):\n",
    "    flawed_list = (n for n in flawed_list)\n",
    "    team_map = {}\n",
    "    best_score = {}\n",
    "    for team in flawed_list:\n",
    "        scores = [similar(team, std_team) for std_team in std_list]\n",
    "        highest = max(scores)\n",
    "        if highest > 0.8:\n",
    "            index = scores.index(max(scores))\n",
    "            team_map[team] = std_list[index]\n",
    "    return team_map"
   ]
  },
  {
   "cell_type": "code",
   "execution_count": 12,
   "metadata": {},
   "outputs": [],
   "source": [
    "# umls = sorted(sider.SEname.unique())\n",
    "# mesh = sorted(df_cd.DiseaseName.unique())"
   ]
  },
  {
   "cell_type": "code",
   "execution_count": 13,
   "metadata": {},
   "outputs": [],
   "source": [
    "# Commenting out as takes ages, and am saving the map as pickle object\n",
    "# umls_mesh_map = create_map(umls, mesh)\n",
    "# umls_mesh_map_mod = {value:key for (key, value) in umls_mesh_map_mod.items()}"
   ]
  },
  {
   "cell_type": "code",
   "execution_count": 14,
   "metadata": {},
   "outputs": [],
   "source": [
    "# print(ummap)"
   ]
  },
  {
   "cell_type": "code",
   "execution_count": 15,
   "metadata": {},
   "outputs": [],
   "source": [
    "# # These are the incorrect mappings I've identified for a 0.8 similarity cutoff\n",
    "# remove = ('Agraphia', 'Angina, Stable', 'Cerebrospinal Fluid Otorrhea', 'Confusion',\n",
    "#          'Endarteritis', 'Fetal Growth Retardation', 'Glucose Intolerance', 'Hearing Disorders',\n",
    "#          'Hemoperitoneum', 'Hepatitis, Animal', 'Hip Contracture', 'Hyperoxaluria',\n",
    "#          'Hyperoxia', 'Hyperpigmentation','Hypolipoproteinemias',  'Intestinal Diseases',\n",
    "#          'Milk Hypersensitivity', 'Mucositis', 'Murine Acquired Immunodeficiency Syndrome', \n",
    "#          'Muscle Neoplasms', 'Mycotoxicosis', 'Olfaction Disorders','Osteopetrosis',\n",
    "#          'Peanut Hypersensitivity', 'Pharyngeal Neoplasms', 'Polycystic liver disease',\n",
    "#          'Pseudohypoparathyroidism', 'Psychomotor Agitation', 'Pulmonary Emphysema',\n",
    "#          'Purpura, Thrombocytopenic', 'Renal Insufficiency', 'Sciatic Neuropathy',\n",
    "#          'Simian Acquired Immunodeficiency Syndrome', 'Spinal Curvatures', 'Sporotrichosis',\n",
    "#          'Vipoma', 'Vitamin A Deficiency', 'Vitamin D Deficiency', 'Vitamin E Deficiency',\n",
    "#          'Wheat Hypersensitivity')\n",
    "# umls_mesh_map_mod = {key: umls_mesh_map[key] for key in umls_mesh_map if key not in remove}\n",
    "# # Muscle neoplasms is not the same as muscle spams\n",
    "# # 'Olfaction Disorders' != 'Ovulation disorder'"
   ]
  },
  {
   "cell_type": "code",
   "execution_count": 16,
   "metadata": {},
   "outputs": [],
   "source": [
    "# # Export map of UMLS:MESH\n",
    "# with open('umls_mesh_map'+ '.pkl', 'wb') as f:\n",
    "#         pickle.dump(umls_mesh_map_mod, f, pickle.HIGHEST_PROTOCOL)"
   ]
  },
  {
   "cell_type": "code",
   "execution_count": 17,
   "metadata": {},
   "outputs": [],
   "source": [
    "# Loading the map from pickle object - if you haven't created it you may need to uncomment above lines\n",
    "def load_obj(name):\n",
    "    with open(name + '.pkl', 'rb') as f:\n",
    "        return pickle.load(f)\n",
    "\n",
    "umls_mesh_map_mod = load_obj('umls_mesh_map')"
   ]
  },
  {
   "cell_type": "code",
   "execution_count": 18,
   "metadata": {},
   "outputs": [],
   "source": [
    "#Use the umls-mesh map to add mesh col to sider"
   ]
  },
  {
   "cell_type": "code",
   "execution_count": 19,
   "metadata": {},
   "outputs": [],
   "source": [
    "sider['MESH'] = sider.SEname.map(lambda x: umls_mesh_map_mod.get(str(x)))"
   ]
  },
  {
   "cell_type": "code",
   "execution_count": 20,
   "metadata": {},
   "outputs": [
    {
     "data": {
      "text/html": [
       "<div>\n",
       "<style scoped>\n",
       "    .dataframe tbody tr th:only-of-type {\n",
       "        vertical-align: middle;\n",
       "    }\n",
       "\n",
       "    .dataframe tbody tr th {\n",
       "        vertical-align: top;\n",
       "    }\n",
       "\n",
       "    .dataframe thead th {\n",
       "        text-align: right;\n",
       "    }\n",
       "</style>\n",
       "<table border=\"1\" class=\"dataframe\">\n",
       "  <thead>\n",
       "    <tr style=\"text-align: right;\">\n",
       "      <th></th>\n",
       "      <th>CID1</th>\n",
       "      <th>CID2</th>\n",
       "      <th>UMLS</th>\n",
       "      <th>UMLS2Type</th>\n",
       "      <th>UMLS2</th>\n",
       "      <th>SEname</th>\n",
       "      <th>MESH</th>\n",
       "    </tr>\n",
       "  </thead>\n",
       "  <tbody>\n",
       "    <tr>\n",
       "      <th>0</th>\n",
       "      <td>CID100000085</td>\n",
       "      <td>CID000010917</td>\n",
       "      <td>C0000729</td>\n",
       "      <td>LLT</td>\n",
       "      <td>C0000729</td>\n",
       "      <td>Abdominal cramps</td>\n",
       "      <td>None</td>\n",
       "    </tr>\n",
       "    <tr>\n",
       "      <th>1</th>\n",
       "      <td>CID100000085</td>\n",
       "      <td>CID000010917</td>\n",
       "      <td>C0000729</td>\n",
       "      <td>PT</td>\n",
       "      <td>C0000737</td>\n",
       "      <td>Abdominal pain</td>\n",
       "      <td>Abdominal Pain</td>\n",
       "    </tr>\n",
       "    <tr>\n",
       "      <th>2</th>\n",
       "      <td>CID100000085</td>\n",
       "      <td>CID000010917</td>\n",
       "      <td>C0000737</td>\n",
       "      <td>LLT</td>\n",
       "      <td>C0000737</td>\n",
       "      <td>Abdominal pain</td>\n",
       "      <td>Abdominal Pain</td>\n",
       "    </tr>\n",
       "    <tr>\n",
       "      <th>3</th>\n",
       "      <td>CID100000085</td>\n",
       "      <td>CID000010917</td>\n",
       "      <td>C0000737</td>\n",
       "      <td>PT</td>\n",
       "      <td>C0687713</td>\n",
       "      <td>Gastrointestinal pain</td>\n",
       "      <td>None</td>\n",
       "    </tr>\n",
       "    <tr>\n",
       "      <th>4</th>\n",
       "      <td>CID100000085</td>\n",
       "      <td>CID000010917</td>\n",
       "      <td>C0000737</td>\n",
       "      <td>PT</td>\n",
       "      <td>C0000737</td>\n",
       "      <td>Abdominal pain</td>\n",
       "      <td>Abdominal Pain</td>\n",
       "    </tr>\n",
       "  </tbody>\n",
       "</table>\n",
       "</div>"
      ],
      "text/plain": [
       "           CID1          CID2      UMLS UMLS2Type     UMLS2  \\\n",
       "0  CID100000085  CID000010917  C0000729       LLT  C0000729   \n",
       "1  CID100000085  CID000010917  C0000729        PT  C0000737   \n",
       "2  CID100000085  CID000010917  C0000737       LLT  C0000737   \n",
       "3  CID100000085  CID000010917  C0000737        PT  C0687713   \n",
       "4  CID100000085  CID000010917  C0000737        PT  C0000737   \n",
       "\n",
       "                  SEname            MESH  \n",
       "0       Abdominal cramps            None  \n",
       "1         Abdominal pain  Abdominal Pain  \n",
       "2         Abdominal pain  Abdominal Pain  \n",
       "3  Gastrointestinal pain            None  \n",
       "4         Abdominal pain  Abdominal Pain  "
      ]
     },
     "execution_count": 20,
     "metadata": {},
     "output_type": "execute_result"
    }
   ],
   "source": [
    "sider.head()"
   ]
  },
  {
   "cell_type": "code",
   "execution_count": 21,
   "metadata": {},
   "outputs": [
    {
     "name": "stdout",
     "output_type": "stream",
     "text": [
      "total sider rows:  309849\n",
      "sider rows with mesh value:  146773\n"
     ]
    }
   ],
   "source": [
    "print('total sider rows: ', sider.shape[0])\n",
    "print('sider rows with mesh value: ', sider[sider.MESH.map(lambda x: x is not None)].shape[0])"
   ]
  },
  {
   "cell_type": "code",
   "execution_count": 22,
   "metadata": {},
   "outputs": [],
   "source": [
    "sider_mod = sider[sider.MESH.map(lambda x: x is not None)]"
   ]
  },
  {
   "cell_type": "code",
   "execution_count": 23,
   "metadata": {},
   "outputs": [
    {
     "data": {
      "text/html": [
       "<div>\n",
       "<style scoped>\n",
       "    .dataframe tbody tr th:only-of-type {\n",
       "        vertical-align: middle;\n",
       "    }\n",
       "\n",
       "    .dataframe tbody tr th {\n",
       "        vertical-align: top;\n",
       "    }\n",
       "\n",
       "    .dataframe thead th {\n",
       "        text-align: right;\n",
       "    }\n",
       "</style>\n",
       "<table border=\"1\" class=\"dataframe\">\n",
       "  <thead>\n",
       "    <tr style=\"text-align: right;\">\n",
       "      <th></th>\n",
       "      <th>CID1</th>\n",
       "      <th>CID2</th>\n",
       "      <th>UMLS</th>\n",
       "      <th>UMLS2Type</th>\n",
       "      <th>UMLS2</th>\n",
       "      <th>SEname</th>\n",
       "      <th>MESH</th>\n",
       "    </tr>\n",
       "  </thead>\n",
       "  <tbody>\n",
       "    <tr>\n",
       "      <th>127407</th>\n",
       "      <td>CID100004595</td>\n",
       "      <td>CID000004595</td>\n",
       "      <td>C0013384</td>\n",
       "      <td>LLT</td>\n",
       "      <td>C0013384</td>\n",
       "      <td>Dyskinesia</td>\n",
       "      <td>Dyskinesias</td>\n",
       "    </tr>\n",
       "    <tr>\n",
       "      <th>300125</th>\n",
       "      <td>CID116132446</td>\n",
       "      <td>CID016132446</td>\n",
       "      <td>C0030305</td>\n",
       "      <td>PT</td>\n",
       "      <td>C0030305</td>\n",
       "      <td>Pancreatitis</td>\n",
       "      <td>Pancreatitis</td>\n",
       "    </tr>\n",
       "  </tbody>\n",
       "</table>\n",
       "</div>"
      ],
      "text/plain": [
       "                CID1          CID2      UMLS UMLS2Type     UMLS2  \\\n",
       "127407  CID100004595  CID000004595  C0013384       LLT  C0013384   \n",
       "300125  CID116132446  CID016132446  C0030305        PT  C0030305   \n",
       "\n",
       "              SEname          MESH  \n",
       "127407    Dyskinesia   Dyskinesias  \n",
       "300125  Pancreatitis  Pancreatitis  "
      ]
     },
     "execution_count": 23,
     "metadata": {},
     "output_type": "execute_result"
    }
   ],
   "source": [
    "sider_mod.sample(2)"
   ]
  },
  {
   "cell_type": "code",
   "execution_count": 24,
   "metadata": {},
   "outputs": [],
   "source": [
    "# Split out the two CID columns NOTE that each row can now potentially be two - one for each CID1 and CID2\n",
    "sider1 = sider_mod[['CID1', 'MESH']]\n",
    "sider2 = sider_mod[['CID2', 'MESH']]\n",
    "sider1.columns = ['CID', 'MESH']\n",
    "sider2.columns = ['CID', 'MESH']\n",
    "sider_mod = pd.concat([sider1, sider2], ignore_index=True)"
   ]
  },
  {
   "cell_type": "code",
   "execution_count": 25,
   "metadata": {},
   "outputs": [
    {
     "data": {
      "text/html": [
       "<div>\n",
       "<style scoped>\n",
       "    .dataframe tbody tr th:only-of-type {\n",
       "        vertical-align: middle;\n",
       "    }\n",
       "\n",
       "    .dataframe tbody tr th {\n",
       "        vertical-align: top;\n",
       "    }\n",
       "\n",
       "    .dataframe thead th {\n",
       "        text-align: right;\n",
       "    }\n",
       "</style>\n",
       "<table border=\"1\" class=\"dataframe\">\n",
       "  <thead>\n",
       "    <tr style=\"text-align: right;\">\n",
       "      <th></th>\n",
       "      <th>CID</th>\n",
       "      <th>MESH</th>\n",
       "    </tr>\n",
       "  </thead>\n",
       "  <tbody>\n",
       "    <tr>\n",
       "      <th>215305</th>\n",
       "      <td>CID000004927</td>\n",
       "      <td>Pruritus</td>\n",
       "    </tr>\n",
       "    <tr>\n",
       "      <th>161941</th>\n",
       "      <td>CID000002540</td>\n",
       "      <td>Hypersensitivity</td>\n",
       "    </tr>\n",
       "  </tbody>\n",
       "</table>\n",
       "</div>"
      ],
      "text/plain": [
       "                 CID              MESH\n",
       "215305  CID000004927          Pruritus\n",
       "161941  CID000002540  Hypersensitivity"
      ]
     },
     "execution_count": 25,
     "metadata": {},
     "output_type": "execute_result"
    }
   ],
   "source": [
    "sider_mod.sample(2)"
   ]
  },
  {
   "cell_type": "code",
   "execution_count": 26,
   "metadata": {},
   "outputs": [
    {
     "name": "stdout",
     "output_type": "stream",
     "text": [
      "Sider shape:  293546\n",
      "Total unique correlated chem:dis observations:  145635\n",
      "Unique chems:  2968\n",
      "Unique diseases:  1034\n"
     ]
    }
   ],
   "source": [
    "print('Sider shape: ', sider_mod.shape[0])\n",
    "sider_mod = sider_mod.drop_duplicates()\n",
    "print('Total unique correlated chem:dis observations: ', sider_mod.shape[0])\n",
    "print('Unique chems: ', sider_mod.CID.unique().shape[0])\n",
    "print('Unique diseases: ', sider_mod.MESH.unique().shape[0])"
   ]
  },
  {
   "cell_type": "code",
   "execution_count": 27,
   "metadata": {},
   "outputs": [],
   "source": [
    "# Chop out all chems that are in our training database\n",
    "# Read in training db chems (opa-nn notebook)\n",
    "chems_in_nn = pd.read_csv('../opa/chemsInNN.txt', names=['Chem'])\n",
    "chems_in_nn = chems_in_nn.dropna().drop_duplicates()\n",
    "chems_in_nn.shape[0]\n",
    "\n",
    "# Now chop from SIDER db\n",
    "nnChems = list(chems_in_nn.Chem)\n",
    "sider_mod['inNN'] = sider_mod.CID.map(lambda x: x in nnChems)\n",
    "sider_mod = sider_mod[sider_mod.inNN.map(lambda x: x == False)]\n",
    "sider_mod = sider_mod[['CID', 'MESH']]\n",
    "sider_mod = sider_mod.reset_index(drop=True)"
   ]
  },
  {
   "cell_type": "code",
   "execution_count": 28,
   "metadata": {},
   "outputs": [
    {
     "name": "stdout",
     "output_type": "stream",
     "text": [
      "Total unique correlated chem:dis observations:  145635\n",
      "Unique chems:  2968\n",
      "Unique diseases:  1034\n"
     ]
    }
   ],
   "source": [
    "print('Total unique correlated chem:dis observations: ', sider_mod.shape[0])\n",
    "print('Unique chems: ', sider_mod.CID.unique().shape[0])\n",
    "print('Unique diseases: ', sider_mod.MESH.unique().shape[0])"
   ]
  },
  {
   "cell_type": "code",
   "execution_count": 29,
   "metadata": {},
   "outputs": [],
   "source": [
    "# Now we have a set of chem:dis that are not in the NN training set"
   ]
  },
  {
   "cell_type": "code",
   "execution_count": 30,
   "metadata": {},
   "outputs": [],
   "source": [
    "# Next: Make each vector for these\n",
    "# Then: Run NN on them\n",
    "\n",
    "# Chemical entity - Gene Ontology embeddings (via associated genes)\n",
    "# Disease entity - Gene Ontology embeddings (via associated genes)\n",
    "# Disease entity - Human Phenotype Ontology embeddings (via associated phenotypes)\n",
    "# Disease entity - Mammalian Phenotype Ontology embeddings (via associated phenotypes)\n",
    "# Chemical entity - Chemical Entities of Biological Interest (CHEBI ) Ontology embeddings\n",
    "# Disease entity - Disease Ontology embeddings\n",
    "# Chemical entity - Human Interaction Network Ontology embeddings (via associated genes)\n",
    "# Disease entity - Human Interaction Network Ontology embeddings (via associated genes)\n"
   ]
  },
  {
   "cell_type": "code",
   "execution_count": 31,
   "metadata": {},
   "outputs": [],
   "source": [
    "# SIDER-GO vecs\n",
    "# For this I need chem-gene associations and disease-gene associations\n",
    "# Sources: CTD, Disgenet"
   ]
  },
  {
   "cell_type": "markdown",
   "metadata": {},
   "source": [
    "### Sider Go vecs\n",
    "First get IDs"
   ]
  },
  {
   "cell_type": "code",
   "execution_count": 32,
   "metadata": {},
   "outputs": [
    {
     "data": {
      "text/html": [
       "<div>\n",
       "<style scoped>\n",
       "    .dataframe tbody tr th:only-of-type {\n",
       "        vertical-align: middle;\n",
       "    }\n",
       "\n",
       "    .dataframe tbody tr th {\n",
       "        vertical-align: top;\n",
       "    }\n",
       "\n",
       "    .dataframe thead th {\n",
       "        text-align: right;\n",
       "    }\n",
       "</style>\n",
       "<table border=\"1\" class=\"dataframe\">\n",
       "  <thead>\n",
       "    <tr style=\"text-align: right;\">\n",
       "      <th></th>\n",
       "      <th>CID</th>\n",
       "      <th>MESH</th>\n",
       "    </tr>\n",
       "  </thead>\n",
       "  <tbody>\n",
       "    <tr>\n",
       "      <th>119514</th>\n",
       "      <td>CID005311051</td>\n",
       "      <td>Hyperglycemia</td>\n",
       "    </tr>\n",
       "    <tr>\n",
       "      <th>5944</th>\n",
       "      <td>CID100002375</td>\n",
       "      <td>Dysuria</td>\n",
       "    </tr>\n",
       "  </tbody>\n",
       "</table>\n",
       "</div>"
      ],
      "text/plain": [
       "                 CID           MESH\n",
       "119514  CID005311051  Hyperglycemia\n",
       "5944    CID100002375        Dysuria"
      ]
     },
     "execution_count": 32,
     "metadata": {},
     "output_type": "execute_result"
    }
   ],
   "source": [
    "sider_mod.sample(2)"
   ]
  },
  {
   "cell_type": "code",
   "execution_count": 33,
   "metadata": {},
   "outputs": [],
   "source": [
    "# Turn CID to CTD chemical ID with this map I made earlier \n",
    "# Load the map from pickle object\n",
    "def load_obj(name):\n",
    "    with open(name + '.pkl', 'rb') as f:\n",
    "        return pickle.load(f)\n",
    "\n",
    "ctd_cid_map = load_obj('../opa/ctd_cid_map')"
   ]
  },
  {
   "cell_type": "code",
   "execution_count": 34,
   "metadata": {},
   "outputs": [],
   "source": [
    "# Will need to standardise the CID and decode from bytes\n",
    "def cid_standardiser (cid):\n",
    "    # Must be format CID + 9 int chars, starting with 1 seemingly\n",
    "    cid = int(cid)\n",
    "    output = 'CID1' + '0' * (8 - len(str(cid))) + str(cid)\n",
    "    return output\n",
    "\n",
    "ctd_cid_map_df = pd.DataFrame.from_dict(ctd_cid_map, orient='index')"
   ]
  },
  {
   "cell_type": "code",
   "execution_count": 35,
   "metadata": {},
   "outputs": [],
   "source": [
    "# Process and reverse map\n",
    "ctd_cid_map_df[0] = ctd_cid_map_df[0].str.decode('utf-8')\n",
    "ctd_cid_map_df[0] = ctd_cid_map_df[0].map(lambda x: cid_standardiser(x))\n",
    "ctd_cid_map = dict(zip(ctd_cid_map_df[0], ctd_cid_map_df.index.values))"
   ]
  },
  {
   "cell_type": "code",
   "execution_count": 36,
   "metadata": {},
   "outputs": [],
   "source": [
    "# Now we have the map, apply it to our sider df\n",
    "sider_mod['ChemicalID'] = sider_mod.CID.map(lambda x: ctd_cid_map.get(x))"
   ]
  },
  {
   "cell_type": "code",
   "execution_count": 37,
   "metadata": {},
   "outputs": [
    {
     "name": "stdout",
     "output_type": "stream",
     "text": [
      "chem:dis combos:  31280\n",
      "unique chems:  595\n"
     ]
    }
   ],
   "source": [
    "print('chem:dis combos: ', sider_mod[sider_mod.ChemicalID.map(lambda x: x is not None)].shape[0])\n",
    "print('unique chems: ',sider_mod[sider_mod.ChemicalID.map(lambda x: x is not None)].ChemicalID.nunique())"
   ]
  },
  {
   "cell_type": "code",
   "execution_count": 38,
   "metadata": {},
   "outputs": [
    {
     "data": {
      "text/html": [
       "<div>\n",
       "<style scoped>\n",
       "    .dataframe tbody tr th:only-of-type {\n",
       "        vertical-align: middle;\n",
       "    }\n",
       "\n",
       "    .dataframe tbody tr th {\n",
       "        vertical-align: top;\n",
       "    }\n",
       "\n",
       "    .dataframe thead th {\n",
       "        text-align: right;\n",
       "    }\n",
       "</style>\n",
       "<table border=\"1\" class=\"dataframe\">\n",
       "  <thead>\n",
       "    <tr style=\"text-align: right;\">\n",
       "      <th></th>\n",
       "      <th>CID</th>\n",
       "      <th>MESH</th>\n",
       "      <th>ChemicalID</th>\n",
       "      <th>MESHid</th>\n",
       "    </tr>\n",
       "  </thead>\n",
       "  <tbody>\n",
       "    <tr>\n",
       "      <th>40</th>\n",
       "      <td>CID100000119</td>\n",
       "      <td>Angioedema</td>\n",
       "      <td>D005680</td>\n",
       "      <td>MESH:D000799</td>\n",
       "    </tr>\n",
       "    <tr>\n",
       "      <th>41</th>\n",
       "      <td>CID100000119</td>\n",
       "      <td>Pain</td>\n",
       "      <td>D005680</td>\n",
       "      <td>MESH:D010146</td>\n",
       "    </tr>\n",
       "    <tr>\n",
       "      <th>42</th>\n",
       "      <td>CID100000119</td>\n",
       "      <td>Urticaria</td>\n",
       "      <td>D005680</td>\n",
       "      <td>MESH:D014581</td>\n",
       "    </tr>\n",
       "    <tr>\n",
       "      <th>43</th>\n",
       "      <td>CID100000137</td>\n",
       "      <td>Anemia</td>\n",
       "      <td>D000622</td>\n",
       "      <td>MESH:D000740</td>\n",
       "    </tr>\n",
       "    <tr>\n",
       "      <th>44</th>\n",
       "      <td>CID100000137</td>\n",
       "      <td>Aphasia</td>\n",
       "      <td>D000622</td>\n",
       "      <td>MESH:D001037</td>\n",
       "    </tr>\n",
       "  </tbody>\n",
       "</table>\n",
       "</div>"
      ],
      "text/plain": [
       "             CID        MESH ChemicalID        MESHid\n",
       "40  CID100000119  Angioedema    D005680  MESH:D000799\n",
       "41  CID100000119        Pain    D005680  MESH:D010146\n",
       "42  CID100000119   Urticaria    D005680  MESH:D014581\n",
       "43  CID100000137      Anemia    D000622  MESH:D000740\n",
       "44  CID100000137     Aphasia    D000622  MESH:D001037"
      ]
     },
     "execution_count": 38,
     "metadata": {},
     "output_type": "execute_result"
    }
   ],
   "source": [
    "sider_mod = sider_mod[sider_mod.ChemicalID.map(lambda x: x is not None)]\n",
    "sider_mod['MESHid'] = sider_mod.MESH.map(lambda x: mesh_get_id.get(x))\n",
    "sider_mod.head()"
   ]
  },
  {
   "cell_type": "code",
   "execution_count": 39,
   "metadata": {},
   "outputs": [
    {
     "name": "stdout",
     "output_type": "stream",
     "text": [
      "Total unique correlated chem:dis observations:  31280\n",
      "Unique chems:  595\n",
      "Unique diseases:  886\n"
     ]
    }
   ],
   "source": [
    "print('Total unique correlated chem:dis observations: ', sider_mod.shape[0])\n",
    "print('Unique chems: ', sider_mod.CID.unique().shape[0])\n",
    "print('Unique diseases: ', sider_mod.MESHid.unique().shape[0])\n",
    "## Note that we're losing a lot when we take only chems in CTD - see if we can get gene assocs from elsewhere"
   ]
  },
  {
   "cell_type": "markdown",
   "metadata": {},
   "source": [
    "### Get chem-gene-vecs and dis-gene-vecs premade from CTD data"
   ]
  },
  {
   "cell_type": "code",
   "execution_count": 40,
   "metadata": {},
   "outputs": [],
   "source": [
    "# Import GOFUNC vecs directly, for diseases\n",
    "with open('../opa/go-gofuncs.lst', 'r') as file:\n",
    "    text = file.read()\n",
    "    \n",
    "# Strip and split vector data into list of lists [chem, vec]\n",
    "text = text.replace('\\n', '')\n",
    "text = text.split(']')\n",
    "text = [item.strip().split(' [') for item in text]\n",
    "\n",
    "# Turn it into a data frame\n",
    "df = pd.DataFrame(text)\n",
    "df.columns = ['ID', 'Vector']\n",
    "\n",
    "# Clean\n",
    "df = df.dropna()\n",
    "df['Vector'] = df.Vector.map(lambda x: x.rstrip().lstrip().replace('    ', ' ').replace('   ', ' ').replace('  ', ' ').replace(' ', ','))\n",
    "\n",
    "# Turn vector column into a list\n",
    "df['Vector'] = df.Vector.map(lambda x: x.split(','))"
   ]
  },
  {
   "cell_type": "code",
   "execution_count": 41,
   "metadata": {},
   "outputs": [
    {
     "data": {
      "text/plain": [
       "(586, 2)"
      ]
     },
     "execution_count": 41,
     "metadata": {},
     "output_type": "execute_result"
    }
   ],
   "source": [
    "df[df.ID.map(lambda x: ('MESH' not in x) & ('OMIM' not in x))].shape# 586"
   ]
  },
  {
   "cell_type": "code",
   "execution_count": 42,
   "metadata": {},
   "outputs": [],
   "source": [
    "# Get the chemical vecs, delete any row without a chemical vec\n",
    "chem_go_vecs = df[df.ID.map(lambda x: ('MESH' not in x) & ('OMIM' not in x))]\n",
    "chem_to_vec = dict(zip(chem_go_vecs.ID, chem_go_vecs.Vector))\n",
    "sider_mod['ChemGoVec'] = sider_mod.ChemicalID.map(lambda x: chem_to_vec.get(x))\n",
    "sider_mod = sider_mod[sider_mod.ChemGoVec.map(lambda x: x is not None)]"
   ]
  },
  {
   "cell_type": "code",
   "execution_count": 43,
   "metadata": {},
   "outputs": [],
   "source": [
    "# Get the disease vecs, delete any row without a disease vec\n",
    "dis_go_vecs = df[df.ID.map(lambda x: 'MESH' in x)]\n",
    "dis_to_vec = dict(zip(dis_go_vecs.ID, dis_go_vecs.Vector))\n",
    "sider_mod['DisGoVec'] = sider_mod.MESHid.map(lambda x: dis_to_vec.get(x))\n",
    "sider_mod = sider_mod[sider_mod.DisGoVec.map(lambda x: x is not None)]"
   ]
  },
  {
   "cell_type": "code",
   "execution_count": null,
   "metadata": {},
   "outputs": [],
   "source": []
  },
  {
   "cell_type": "code",
   "execution_count": 44,
   "metadata": {},
   "outputs": [
    {
     "data": {
      "text/html": [
       "<div>\n",
       "<style scoped>\n",
       "    .dataframe tbody tr th:only-of-type {\n",
       "        vertical-align: middle;\n",
       "    }\n",
       "\n",
       "    .dataframe tbody tr th {\n",
       "        vertical-align: top;\n",
       "    }\n",
       "\n",
       "    .dataframe thead th {\n",
       "        text-align: right;\n",
       "    }\n",
       "</style>\n",
       "<table border=\"1\" class=\"dataframe\">\n",
       "  <thead>\n",
       "    <tr style=\"text-align: right;\">\n",
       "      <th></th>\n",
       "      <th>CID</th>\n",
       "      <th>MESH</th>\n",
       "      <th>ChemicalID</th>\n",
       "      <th>MESHid</th>\n",
       "      <th>ChemGoVec</th>\n",
       "      <th>DisGoVec</th>\n",
       "    </tr>\n",
       "  </thead>\n",
       "  <tbody>\n",
       "    <tr>\n",
       "      <th>76</th>\n",
       "      <td>CID100000143</td>\n",
       "      <td>Anorexia</td>\n",
       "      <td>D002955</td>\n",
       "      <td>MESH:D000855</td>\n",
       "      <td>[-0.1928972, 0.04133245, -0.13697416, -0.05781...</td>\n",
       "      <td>[-0.03718876, 0.12608664, -0.0080918, -0.14357...</td>\n",
       "    </tr>\n",
       "    <tr>\n",
       "      <th>80</th>\n",
       "      <td>CID100000143</td>\n",
       "      <td>Diarrhea</td>\n",
       "      <td>D002955</td>\n",
       "      <td>MESH:D003967</td>\n",
       "      <td>[-0.1928972, 0.04133245, -0.13697416, -0.05781...</td>\n",
       "      <td>[7.43628596e-04, 1.31800339e-01, 2.09368542e-0...</td>\n",
       "    </tr>\n",
       "    <tr>\n",
       "      <th>83</th>\n",
       "      <td>CID100000143</td>\n",
       "      <td>Hypersensitivity</td>\n",
       "      <td>D002955</td>\n",
       "      <td>MESH:D006967</td>\n",
       "      <td>[-0.1928972, 0.04133245, -0.13697416, -0.05781...</td>\n",
       "      <td>[0.01048629, 0.12093927, 0.02683925, -0.134863...</td>\n",
       "    </tr>\n",
       "    <tr>\n",
       "      <th>87</th>\n",
       "      <td>CID100000143</td>\n",
       "      <td>Pruritus</td>\n",
       "      <td>D002955</td>\n",
       "      <td>MESH:D011537</td>\n",
       "      <td>[-0.1928972, 0.04133245, -0.13697416, -0.05781...</td>\n",
       "      <td>[-4.40565981e-02, 8.48817080e-02, -7.02312589e...</td>\n",
       "    </tr>\n",
       "    <tr>\n",
       "      <th>88</th>\n",
       "      <td>CID100000143</td>\n",
       "      <td>Stomatitis</td>\n",
       "      <td>D002955</td>\n",
       "      <td>MESH:D013280</td>\n",
       "      <td>[-0.1928972, 0.04133245, -0.13697416, -0.05781...</td>\n",
       "      <td>[-4.93375286e-02, 8.82932022e-02, 1.08785890e-...</td>\n",
       "    </tr>\n",
       "  </tbody>\n",
       "</table>\n",
       "</div>"
      ],
      "text/plain": [
       "             CID              MESH ChemicalID        MESHid  \\\n",
       "76  CID100000143          Anorexia    D002955  MESH:D000855   \n",
       "80  CID100000143          Diarrhea    D002955  MESH:D003967   \n",
       "83  CID100000143  Hypersensitivity    D002955  MESH:D006967   \n",
       "87  CID100000143          Pruritus    D002955  MESH:D011537   \n",
       "88  CID100000143        Stomatitis    D002955  MESH:D013280   \n",
       "\n",
       "                                            ChemGoVec  \\\n",
       "76  [-0.1928972, 0.04133245, -0.13697416, -0.05781...   \n",
       "80  [-0.1928972, 0.04133245, -0.13697416, -0.05781...   \n",
       "83  [-0.1928972, 0.04133245, -0.13697416, -0.05781...   \n",
       "87  [-0.1928972, 0.04133245, -0.13697416, -0.05781...   \n",
       "88  [-0.1928972, 0.04133245, -0.13697416, -0.05781...   \n",
       "\n",
       "                                             DisGoVec  \n",
       "76  [-0.03718876, 0.12608664, -0.0080918, -0.14357...  \n",
       "80  [7.43628596e-04, 1.31800339e-01, 2.09368542e-0...  \n",
       "83  [0.01048629, 0.12093927, 0.02683925, -0.134863...  \n",
       "87  [-4.40565981e-02, 8.48817080e-02, -7.02312589e...  \n",
       "88  [-4.93375286e-02, 8.82932022e-02, 1.08785890e-...  "
      ]
     },
     "execution_count": 44,
     "metadata": {},
     "output_type": "execute_result"
    }
   ],
   "source": [
    "sider_mod.head()"
   ]
  },
  {
   "cell_type": "code",
   "execution_count": 45,
   "metadata": {},
   "outputs": [
    {
     "name": "stdout",
     "output_type": "stream",
     "text": [
      "Number of chem-dis pairs with gofuncs:  1366\n",
      "Number of chems:  62\n",
      "Number of diseases:  166\n"
     ]
    }
   ],
   "source": [
    "has_dis_vec = sider_mod.DisGoVec.map(lambda x: x is not np.nan)\n",
    "has_chem_vec = sider_mod.ChemGoVec.map(lambda x: x is not None)\n",
    "sider_mod = sider_mod[has_dis_vec & has_chem_vec]\n",
    "print('Number of chem-dis pairs with gofuncs: ', sider_mod.shape[0])\n",
    "print('Number of chems: ', sider_mod.ChemicalID.nunique())\n",
    "print('Number of diseases: ', sider_mod.MESHid.nunique())"
   ]
  },
  {
   "cell_type": "markdown",
   "metadata": {},
   "source": [
    "### Del any pairs in the original NN dataset"
   ]
  },
  {
   "cell_type": "code",
   "execution_count": 46,
   "metadata": {},
   "outputs": [],
   "source": [
    "# Now to make it a real blind test we must del any chem-dis pairs in the NN db\n",
    "nn_chem_dis = pd.read_csv('../ctd-to-nt/chem-dis-pos-assocs.csv')\n",
    "nn_chem_dis.columns = ['ChemicalID', 'MESHid']\n",
    "\n",
    "# Remove from sider_mod any chem-dis pairs that exist in nn_chem_dis\n",
    "combined_cd = pd.merge(sider_mod[['ChemicalID', 'MESHid']], nn_chem_dis, on=['ChemicalID', 'MESHid'], how='left', indicator='Exist')\n",
    "combined_cd['Exist'] = np.where(combined_cd.Exist == 'both', True, False)\n",
    "not_in_nn = [not i for i in list(combined_cd.Exist)]\n",
    "sider_mod = sider_mod[not_in_nn]"
   ]
  },
  {
   "cell_type": "code",
   "execution_count": 47,
   "metadata": {},
   "outputs": [
    {
     "name": "stdout",
     "output_type": "stream",
     "text": [
      "Number of chem-dis pairs with gofuncs:  991\n",
      "Number of chems:  62\n",
      "Number of diseases:  151\n"
     ]
    }
   ],
   "source": [
    "has_dis_vec = sider_mod.DisGoVec.map(lambda x: x is not np.nan)\n",
    "has_chem_vec = sider_mod.ChemGoVec.map(lambda x: x is not None)\n",
    "sider_mod = sider_mod[has_dis_vec & has_chem_vec]\n",
    "print('Number of chem-dis pairs with gofuncs: ', sider_mod.shape[0])\n",
    "print('Number of chems: ', sider_mod.ChemicalID.nunique())\n",
    "print('Number of diseases: ', sider_mod.MESHid.nunique())"
   ]
  },
  {
   "cell_type": "code",
   "execution_count": null,
   "metadata": {},
   "outputs": [],
   "source": []
  },
  {
   "cell_type": "markdown",
   "metadata": {},
   "source": [
    "### Add control rows (all above are correlated)"
   ]
  },
  {
   "cell_type": "code",
   "execution_count": 48,
   "metadata": {},
   "outputs": [],
   "source": [
    "# Add control rows (all above are correlated)\n",
    "sider_mod['Correlation'] = 1"
   ]
  },
  {
   "cell_type": "code",
   "execution_count": 49,
   "metadata": {},
   "outputs": [
    {
     "data": {
      "text/html": [
       "<div>\n",
       "<style scoped>\n",
       "    .dataframe tbody tr th:only-of-type {\n",
       "        vertical-align: middle;\n",
       "    }\n",
       "\n",
       "    .dataframe tbody tr th {\n",
       "        vertical-align: top;\n",
       "    }\n",
       "\n",
       "    .dataframe thead th {\n",
       "        text-align: right;\n",
       "    }\n",
       "</style>\n",
       "<table border=\"1\" class=\"dataframe\">\n",
       "  <thead>\n",
       "    <tr style=\"text-align: right;\">\n",
       "      <th></th>\n",
       "      <th>CID1</th>\n",
       "      <th>CID2</th>\n",
       "      <th>UMLS</th>\n",
       "      <th>UMLS2Type</th>\n",
       "      <th>UMLS2</th>\n",
       "      <th>SEname</th>\n",
       "      <th>MESH</th>\n",
       "    </tr>\n",
       "  </thead>\n",
       "  <tbody>\n",
       "    <tr>\n",
       "      <th>0</th>\n",
       "      <td>CID100000085</td>\n",
       "      <td>CID000010917</td>\n",
       "      <td>C0000729</td>\n",
       "      <td>LLT</td>\n",
       "      <td>C0000729</td>\n",
       "      <td>Abdominal cramps</td>\n",
       "      <td>None</td>\n",
       "    </tr>\n",
       "    <tr>\n",
       "      <th>1</th>\n",
       "      <td>CID100000085</td>\n",
       "      <td>CID000010917</td>\n",
       "      <td>C0000729</td>\n",
       "      <td>PT</td>\n",
       "      <td>C0000737</td>\n",
       "      <td>Abdominal pain</td>\n",
       "      <td>Abdominal Pain</td>\n",
       "    </tr>\n",
       "    <tr>\n",
       "      <th>2</th>\n",
       "      <td>CID100000085</td>\n",
       "      <td>CID000010917</td>\n",
       "      <td>C0000737</td>\n",
       "      <td>LLT</td>\n",
       "      <td>C0000737</td>\n",
       "      <td>Abdominal pain</td>\n",
       "      <td>Abdominal Pain</td>\n",
       "    </tr>\n",
       "    <tr>\n",
       "      <th>3</th>\n",
       "      <td>CID100000085</td>\n",
       "      <td>CID000010917</td>\n",
       "      <td>C0000737</td>\n",
       "      <td>PT</td>\n",
       "      <td>C0687713</td>\n",
       "      <td>Gastrointestinal pain</td>\n",
       "      <td>None</td>\n",
       "    </tr>\n",
       "    <tr>\n",
       "      <th>4</th>\n",
       "      <td>CID100000085</td>\n",
       "      <td>CID000010917</td>\n",
       "      <td>C0000737</td>\n",
       "      <td>PT</td>\n",
       "      <td>C0000737</td>\n",
       "      <td>Abdominal pain</td>\n",
       "      <td>Abdominal Pain</td>\n",
       "    </tr>\n",
       "  </tbody>\n",
       "</table>\n",
       "</div>"
      ],
      "text/plain": [
       "           CID1          CID2      UMLS UMLS2Type     UMLS2  \\\n",
       "0  CID100000085  CID000010917  C0000729       LLT  C0000729   \n",
       "1  CID100000085  CID000010917  C0000729        PT  C0000737   \n",
       "2  CID100000085  CID000010917  C0000737       LLT  C0000737   \n",
       "3  CID100000085  CID000010917  C0000737        PT  C0687713   \n",
       "4  CID100000085  CID000010917  C0000737        PT  C0000737   \n",
       "\n",
       "                  SEname            MESH  \n",
       "0       Abdominal cramps            None  \n",
       "1         Abdominal pain  Abdominal Pain  \n",
       "2         Abdominal pain  Abdominal Pain  \n",
       "3  Gastrointestinal pain            None  \n",
       "4         Abdominal pain  Abdominal Pain  "
      ]
     },
     "execution_count": 49,
     "metadata": {},
     "output_type": "execute_result"
    }
   ],
   "source": [
    "sider.head()"
   ]
  },
  {
   "cell_type": "code",
   "execution_count": 50,
   "metadata": {},
   "outputs": [
    {
     "name": "stdout",
     "output_type": "stream",
     "text": [
      "Original shape:  (991, 7)\n",
      "Shape after dropping duplicates:  (991, 7)\n",
      "Shape after adding controls:  (1981, 7)\n",
      "Shape after dropping duplicates:  (1657, 7)\n"
     ]
    }
   ],
   "source": [
    "# Add unrelated pairs - control obs\n",
    "no_rows = (sider_mod.shape[0]-1)    # This is a parameter to be tuned --> how many uncorrelated pairs do we want\n",
    "print('Original shape: ', sider_mod.shape)\n",
    "sider_mod = sider_mod.drop_duplicates(subset=['ChemicalID', 'MESHid'], keep=False)\n",
    "print('Shape after dropping duplicates: ', sider_mod.shape)\n",
    "\n",
    "# Randomly select chems and diseases (as many as there are related pairs)\n",
    "df_chems = sider_mod[['ChemicalID', 'ChemGoVec']].drop_duplicates(subset=['ChemicalID']).reset_index(drop=True)\n",
    "df_dis = sider_mod[['MESHid', 'DisGoVec', 'MESH']].drop_duplicates(subset=['MESHid']).reset_index(drop=True)\n",
    "df_chems.columns = ['ID', 'Vector']\n",
    "df_dis.columns = ['ID', 'Vector', 'MESH']\n",
    "\n",
    "# print('chem size: ', df_chems.shape[0])\n",
    "# print('dis size: ', df_dis.shape[0])\n",
    "\n",
    "no_chems = len(df_chems) - 1\n",
    "no_dis = len(df_dis) - 1\n",
    "rand_chems = np.random.choice(no_chems, no_rows, replace=True)\n",
    "rand_dis = np.random.choice(no_dis, no_rows, replace=True)\n",
    "\n",
    "# Add the new pairs as rows\n",
    "for x in range(0, no_rows):\n",
    "    int1 = rand_chems[x]\n",
    "    int2 = rand_dis[x]\n",
    "    chem, chemvec = df_chems.loc[int1, 'ID'], df_chems.loc[int1, 'Vector']\n",
    "    dis, disvec, mesh = df_dis.loc[int2, 'ID'], df_dis.loc[int2, 'Vector'], df_dis.loc[int2, 'MESH']\n",
    "    sider_mod = sider_mod.append({'ChemicalID':chem, 'MESHid':dis, 'ChemGoVec':chemvec, 'DisGoVec': disvec, 'Correlation':0, 'MESH': mesh}, ignore_index=True)\n",
    "\n",
    "print('Shape after adding controls: ', sider_mod.shape)\n",
    "# Drop any duplicates (removes known correlated pairs accidentally generated as uncorrelated)\n",
    "sider_mod = sider_mod.drop_duplicates(subset=['ChemicalID', 'MESHid'], keep=False)\n",
    "print('Shape after dropping duplicates: ', sider_mod.shape)"
   ]
  },
  {
   "cell_type": "code",
   "execution_count": 51,
   "metadata": {},
   "outputs": [
    {
     "data": {
      "text/html": [
       "<div>\n",
       "<style scoped>\n",
       "    .dataframe tbody tr th:only-of-type {\n",
       "        vertical-align: middle;\n",
       "    }\n",
       "\n",
       "    .dataframe tbody tr th {\n",
       "        vertical-align: top;\n",
       "    }\n",
       "\n",
       "    .dataframe thead th {\n",
       "        text-align: right;\n",
       "    }\n",
       "</style>\n",
       "<table border=\"1\" class=\"dataframe\">\n",
       "  <thead>\n",
       "    <tr style=\"text-align: right;\">\n",
       "      <th></th>\n",
       "      <th>CID</th>\n",
       "      <th>MESH</th>\n",
       "      <th>ChemicalID</th>\n",
       "      <th>MESHid</th>\n",
       "      <th>ChemGoVec</th>\n",
       "      <th>DisGoVec</th>\n",
       "      <th>Correlation</th>\n",
       "    </tr>\n",
       "  </thead>\n",
       "  <tbody>\n",
       "    <tr>\n",
       "      <th>0</th>\n",
       "      <td>CID100000143</td>\n",
       "      <td>Hypersensitivity</td>\n",
       "      <td>D002955</td>\n",
       "      <td>MESH:D006967</td>\n",
       "      <td>[-0.1928972, 0.04133245, -0.13697416, -0.05781...</td>\n",
       "      <td>[0.01048629, 0.12093927, 0.02683925, -0.134863...</td>\n",
       "      <td>1</td>\n",
       "    </tr>\n",
       "    <tr>\n",
       "      <th>2</th>\n",
       "      <td>CID100000143</td>\n",
       "      <td>Urticaria</td>\n",
       "      <td>D002955</td>\n",
       "      <td>MESH:D014581</td>\n",
       "      <td>[-0.1928972, 0.04133245, -0.13697416, -0.05781...</td>\n",
       "      <td>[-0.15222934, 0.05032845, -0.21946777, -0.0608...</td>\n",
       "      <td>1</td>\n",
       "    </tr>\n",
       "    <tr>\n",
       "      <th>3</th>\n",
       "      <td>CID100000143</td>\n",
       "      <td>Acute Kidney Injury</td>\n",
       "      <td>D002955</td>\n",
       "      <td>MESH:D058186</td>\n",
       "      <td>[-0.1928972, 0.04133245, -0.13697416, -0.05781...</td>\n",
       "      <td>[0.01984936, 0.0847866, 0.04233291, -0.0797925...</td>\n",
       "      <td>1</td>\n",
       "    </tr>\n",
       "    <tr>\n",
       "      <th>4</th>\n",
       "      <td>CID100000143</td>\n",
       "      <td>Disease Progression</td>\n",
       "      <td>D002955</td>\n",
       "      <td>MESH:D018450</td>\n",
       "      <td>[-0.1928972, 0.04133245, -0.13697416, -0.05781...</td>\n",
       "      <td>[1.11526530e-03, 1.28473654e-01, 3.04674823e-0...</td>\n",
       "      <td>1</td>\n",
       "    </tr>\n",
       "    <tr>\n",
       "      <th>6</th>\n",
       "      <td>CID100000681</td>\n",
       "      <td>Atrial Fibrillation</td>\n",
       "      <td>D004298</td>\n",
       "      <td>MESH:D001281</td>\n",
       "      <td>[-6.34962916e-02, 1.08258978e-01, -2.02546176e...</td>\n",
       "      <td>[-1.60670001e-03, 1.17270418e-01, 1.88340824e-...</td>\n",
       "      <td>1</td>\n",
       "    </tr>\n",
       "  </tbody>\n",
       "</table>\n",
       "</div>"
      ],
      "text/plain": [
       "            CID                 MESH ChemicalID        MESHid  \\\n",
       "0  CID100000143     Hypersensitivity    D002955  MESH:D006967   \n",
       "2  CID100000143            Urticaria    D002955  MESH:D014581   \n",
       "3  CID100000143  Acute Kidney Injury    D002955  MESH:D058186   \n",
       "4  CID100000143  Disease Progression    D002955  MESH:D018450   \n",
       "6  CID100000681  Atrial Fibrillation    D004298  MESH:D001281   \n",
       "\n",
       "                                           ChemGoVec  \\\n",
       "0  [-0.1928972, 0.04133245, -0.13697416, -0.05781...   \n",
       "2  [-0.1928972, 0.04133245, -0.13697416, -0.05781...   \n",
       "3  [-0.1928972, 0.04133245, -0.13697416, -0.05781...   \n",
       "4  [-0.1928972, 0.04133245, -0.13697416, -0.05781...   \n",
       "6  [-6.34962916e-02, 1.08258978e-01, -2.02546176e...   \n",
       "\n",
       "                                            DisGoVec  Correlation  \n",
       "0  [0.01048629, 0.12093927, 0.02683925, -0.134863...            1  \n",
       "2  [-0.15222934, 0.05032845, -0.21946777, -0.0608...            1  \n",
       "3  [0.01984936, 0.0847866, 0.04233291, -0.0797925...            1  \n",
       "4  [1.11526530e-03, 1.28473654e-01, 3.04674823e-0...            1  \n",
       "6  [-1.60670001e-03, 1.17270418e-01, 1.88340824e-...            1  "
      ]
     },
     "execution_count": 51,
     "metadata": {},
     "output_type": "execute_result"
    }
   ],
   "source": [
    "sider_mod.head()"
   ]
  },
  {
   "cell_type": "code",
   "execution_count": null,
   "metadata": {},
   "outputs": [],
   "source": []
  },
  {
   "cell_type": "code",
   "execution_count": 52,
   "metadata": {},
   "outputs": [],
   "source": [
    "# sider_mod[['MESH', 'ChemicalID', 'Correlation']].sort_values(['ChemicalID'])"
   ]
  },
  {
   "cell_type": "code",
   "execution_count": 53,
   "metadata": {},
   "outputs": [],
   "source": [
    "# Manually looking at chem-dis associations. Some don't seem to exist like\n",
    "# Hypertension\tD019793\n",
    "# Neoplasms\tD019793\n",
    "# Don't seem to exist - google search but do exist in sider"
   ]
  },
  {
   "cell_type": "code",
   "execution_count": 54,
   "metadata": {},
   "outputs": [
    {
     "data": {
      "text/html": [
       "<div>\n",
       "<style scoped>\n",
       "    .dataframe tbody tr th:only-of-type {\n",
       "        vertical-align: middle;\n",
       "    }\n",
       "\n",
       "    .dataframe tbody tr th {\n",
       "        vertical-align: top;\n",
       "    }\n",
       "\n",
       "    .dataframe thead th {\n",
       "        text-align: right;\n",
       "    }\n",
       "</style>\n",
       "<table border=\"1\" class=\"dataframe\">\n",
       "  <thead>\n",
       "    <tr style=\"text-align: right;\">\n",
       "      <th></th>\n",
       "      <th>CID</th>\n",
       "      <th>MESH</th>\n",
       "      <th>ChemicalID</th>\n",
       "      <th>MESHid</th>\n",
       "      <th>ChemGoVec</th>\n",
       "      <th>DisGoVec</th>\n",
       "      <th>Correlation</th>\n",
       "    </tr>\n",
       "  </thead>\n",
       "  <tbody>\n",
       "    <tr>\n",
       "      <th>423</th>\n",
       "      <td>CID100003394</td>\n",
       "      <td>Skin Ulcer</td>\n",
       "      <td>D005480</td>\n",
       "      <td>MESH:D012883</td>\n",
       "      <td>[-0.19691008, 0.01246815, -0.21318772, -0.0904...</td>\n",
       "      <td>[-0.03957883, 0.13396174, -0.0498878, -0.09962...</td>\n",
       "      <td>1</td>\n",
       "    </tr>\n",
       "    <tr>\n",
       "      <th>1641</th>\n",
       "      <td>NaN</td>\n",
       "      <td>Adenocarcinoma of lung</td>\n",
       "      <td>D005013</td>\n",
       "      <td>MESH:C538231</td>\n",
       "      <td>[-0.09967206, 0.05885228, -0.1085031, -0.05162...</td>\n",
       "      <td>[-0.05705886, 0.09871884, 0.00668764, -0.11565...</td>\n",
       "      <td>0</td>\n",
       "    </tr>\n",
       "    <tr>\n",
       "      <th>156</th>\n",
       "      <td>CID100002818</td>\n",
       "      <td>Hypertriglyceridemia</td>\n",
       "      <td>D003024</td>\n",
       "      <td>MESH:D015228</td>\n",
       "      <td>[-0.0243297, 0.09980957, -0.01168219, -0.12672...</td>\n",
       "      <td>[-3.41259576e-02, 1.32385924e-01, 4.26359326e-...</td>\n",
       "      <td>1</td>\n",
       "    </tr>\n",
       "    <tr>\n",
       "      <th>1646</th>\n",
       "      <td>NaN</td>\n",
       "      <td>Trigeminal Neuralgia</td>\n",
       "      <td>D012968</td>\n",
       "      <td>MESH:D014277</td>\n",
       "      <td>[1.50684863e-02, 1.09219313e-01, 3.79371457e-0...</td>\n",
       "      <td>[-0.14551874, 0.05946752, -0.18298474, -0.0806...</td>\n",
       "      <td>0</td>\n",
       "    </tr>\n",
       "    <tr>\n",
       "      <th>1559</th>\n",
       "      <td>NaN</td>\n",
       "      <td>Hypersensitivity</td>\n",
       "      <td>D004221</td>\n",
       "      <td>MESH:D006967</td>\n",
       "      <td>[-0.15010051, 0.04692498, -0.16275029, -0.0622...</td>\n",
       "      <td>[0.01048629, 0.12093927, 0.02683925, -0.134863...</td>\n",
       "      <td>0</td>\n",
       "    </tr>\n",
       "  </tbody>\n",
       "</table>\n",
       "</div>"
      ],
      "text/plain": [
       "               CID                    MESH ChemicalID        MESHid  \\\n",
       "423   CID100003394              Skin Ulcer    D005480  MESH:D012883   \n",
       "1641           NaN  Adenocarcinoma of lung    D005013  MESH:C538231   \n",
       "156   CID100002818    Hypertriglyceridemia    D003024  MESH:D015228   \n",
       "1646           NaN    Trigeminal Neuralgia    D012968  MESH:D014277   \n",
       "1559           NaN        Hypersensitivity    D004221  MESH:D006967   \n",
       "\n",
       "                                              ChemGoVec  \\\n",
       "423   [-0.19691008, 0.01246815, -0.21318772, -0.0904...   \n",
       "1641  [-0.09967206, 0.05885228, -0.1085031, -0.05162...   \n",
       "156   [-0.0243297, 0.09980957, -0.01168219, -0.12672...   \n",
       "1646  [1.50684863e-02, 1.09219313e-01, 3.79371457e-0...   \n",
       "1559  [-0.15010051, 0.04692498, -0.16275029, -0.0622...   \n",
       "\n",
       "                                               DisGoVec  Correlation  \n",
       "423   [-0.03957883, 0.13396174, -0.0498878, -0.09962...            1  \n",
       "1641  [-0.05705886, 0.09871884, 0.00668764, -0.11565...            0  \n",
       "156   [-3.41259576e-02, 1.32385924e-01, 4.26359326e-...            1  \n",
       "1646  [-0.14551874, 0.05946752, -0.18298474, -0.0806...            0  \n",
       "1559  [0.01048629, 0.12093927, 0.02683925, -0.134863...            0  "
      ]
     },
     "execution_count": 54,
     "metadata": {},
     "output_type": "execute_result"
    }
   ],
   "source": [
    "sider_mod.sample(5)"
   ]
  },
  {
   "cell_type": "markdown",
   "metadata": {},
   "source": [
    "##  SIDER Phenotype Ontology "
   ]
  },
  {
   "cell_type": "code",
   "execution_count": 55,
   "metadata": {},
   "outputs": [
    {
     "name": "stdout",
     "output_type": "stream",
     "text": [
      "1671\n"
     ]
    }
   ],
   "source": [
    "# First get DOIDs --> importing map and applying it:\n",
    "mapper = pd.read_csv('../opa/chem_dis_to_CID_DOID.csv')\n",
    "print(mapper.DOID.nunique()) # 1671\n",
    "mesh_to_doid = dict(zip(mapper.ID, mapper.DOID))\n",
    "sider_mod['DOID'] = sider_mod.MESHid.map(lambda x: mesh_to_doid.get(x))"
   ]
  },
  {
   "cell_type": "code",
   "execution_count": 56,
   "metadata": {},
   "outputs": [],
   "source": [
    "# Standardise the DOIDs\n",
    "def doid_standardiser (doid):\n",
    "    doid = doid.replace(':', '_')\n",
    "    return doid\n",
    "\n",
    "sider_mod['DOID'] = sider_mod.DOID.map(lambda x: np.nan if isinstance(x, float) else doid_standardiser(x))"
   ]
  },
  {
   "cell_type": "code",
   "execution_count": 57,
   "metadata": {},
   "outputs": [],
   "source": [
    "# Simply load in the premade dis-phenVec maps\n",
    "def load_obj(name):\n",
    "    with open(name + '.pkl', 'rb') as f:\n",
    "        return pickle.load(f)\n",
    "\n",
    "dis_mpVec = load_obj('../opa/dis_mpVec_map')\n",
    "\n",
    "def load_obj(name):\n",
    "    with open(name + '.pkl', 'rb') as f:\n",
    "        return pickle.load(f)\n",
    "\n",
    "dis_hpVec = load_obj('../opa/dis_hpVec_map')"
   ]
  },
  {
   "cell_type": "code",
   "execution_count": 58,
   "metadata": {},
   "outputs": [],
   "source": [
    "# Apply the maps to add phenVecs to our dataframe\n",
    "empty_vec = [0] * 200\n",
    "\n",
    "sider_mod['disPhenVecMP'] = sider_mod.DOID.map(lambda x: dis_mpVec.get(x, empty_vec))\n",
    "sider_mod['disPhenVecHP'] = sider_mod.DOID.map(lambda x: dis_hpVec.get(x, empty_vec))"
   ]
  },
  {
   "cell_type": "code",
   "execution_count": 59,
   "metadata": {},
   "outputs": [
    {
     "data": {
      "text/html": [
       "<div>\n",
       "<style scoped>\n",
       "    .dataframe tbody tr th:only-of-type {\n",
       "        vertical-align: middle;\n",
       "    }\n",
       "\n",
       "    .dataframe tbody tr th {\n",
       "        vertical-align: top;\n",
       "    }\n",
       "\n",
       "    .dataframe thead th {\n",
       "        text-align: right;\n",
       "    }\n",
       "</style>\n",
       "<table border=\"1\" class=\"dataframe\">\n",
       "  <thead>\n",
       "    <tr style=\"text-align: right;\">\n",
       "      <th></th>\n",
       "      <th>CID</th>\n",
       "      <th>MESH</th>\n",
       "      <th>ChemicalID</th>\n",
       "      <th>MESHid</th>\n",
       "      <th>ChemGoVec</th>\n",
       "      <th>DisGoVec</th>\n",
       "      <th>Correlation</th>\n",
       "      <th>DOID</th>\n",
       "      <th>disPhenVecMP</th>\n",
       "      <th>disPhenVecHP</th>\n",
       "    </tr>\n",
       "  </thead>\n",
       "  <tbody>\n",
       "    <tr>\n",
       "      <th>0</th>\n",
       "      <td>CID100000143</td>\n",
       "      <td>Hypersensitivity</td>\n",
       "      <td>D002955</td>\n",
       "      <td>MESH:D006967</td>\n",
       "      <td>[-0.1928972, 0.04133245, -0.13697416, -0.05781...</td>\n",
       "      <td>[0.01048629, 0.12093927, 0.02683925, -0.134863...</td>\n",
       "      <td>1</td>\n",
       "      <td>DOID_1205</td>\n",
       "      <td>[3.05852331e-02, 1.36921287e-01, 5.83447553e-0...</td>\n",
       "      <td>[4.44701687e-02, 1.48065820e-01, 7.01489896e-0...</td>\n",
       "    </tr>\n",
       "    <tr>\n",
       "      <th>2</th>\n",
       "      <td>CID100000143</td>\n",
       "      <td>Urticaria</td>\n",
       "      <td>D002955</td>\n",
       "      <td>MESH:D014581</td>\n",
       "      <td>[-0.1928972, 0.04133245, -0.13697416, -0.05781...</td>\n",
       "      <td>[-0.15222934, 0.05032845, -0.21946777, -0.0608...</td>\n",
       "      <td>1</td>\n",
       "      <td>DOID_1555</td>\n",
       "      <td>[0.02479337, 0.11779714, 0.04578669, -0.118837...</td>\n",
       "      <td>[0.04158028, 0.15021026, 0.05177102, -0.128954...</td>\n",
       "    </tr>\n",
       "    <tr>\n",
       "      <th>3</th>\n",
       "      <td>CID100000143</td>\n",
       "      <td>Acute Kidney Injury</td>\n",
       "      <td>D002955</td>\n",
       "      <td>MESH:D058186</td>\n",
       "      <td>[-0.1928972, 0.04133245, -0.13697416, -0.05781...</td>\n",
       "      <td>[0.01984936, 0.0847866, 0.04233291, -0.0797925...</td>\n",
       "      <td>1</td>\n",
       "      <td>DOID_3021</td>\n",
       "      <td>[2.61312630e-02, 1.06001623e-01, 5.01475073e-0...</td>\n",
       "      <td>[4.42636572e-02, 1.56471714e-01, 5.58946170e-0...</td>\n",
       "    </tr>\n",
       "    <tr>\n",
       "      <th>4</th>\n",
       "      <td>CID100000143</td>\n",
       "      <td>Disease Progression</td>\n",
       "      <td>D002955</td>\n",
       "      <td>MESH:D018450</td>\n",
       "      <td>[-0.1928972, 0.04133245, -0.13697416, -0.05781...</td>\n",
       "      <td>[1.11526530e-03, 1.28473654e-01, 3.04674823e-0...</td>\n",
       "      <td>1</td>\n",
       "      <td>NaN</td>\n",
       "      <td>[0, 0, 0, 0, 0, 0, 0, 0, 0, 0, 0, 0, 0, 0, 0, ...</td>\n",
       "      <td>[0, 0, 0, 0, 0, 0, 0, 0, 0, 0, 0, 0, 0, 0, 0, ...</td>\n",
       "    </tr>\n",
       "    <tr>\n",
       "      <th>6</th>\n",
       "      <td>CID100000681</td>\n",
       "      <td>Atrial Fibrillation</td>\n",
       "      <td>D004298</td>\n",
       "      <td>MESH:D001281</td>\n",
       "      <td>[-6.34962916e-02, 1.08258978e-01, -2.02546176e...</td>\n",
       "      <td>[-1.60670001e-03, 1.17270418e-01, 1.88340824e-...</td>\n",
       "      <td>1</td>\n",
       "      <td>DOID_0060224</td>\n",
       "      <td>[5.46471141e-02, 1.52429357e-01, 7.47762397e-0...</td>\n",
       "      <td>[0.06875926, 0.15412922, 0.06408796, -0.108529...</td>\n",
       "    </tr>\n",
       "  </tbody>\n",
       "</table>\n",
       "</div>"
      ],
      "text/plain": [
       "            CID                 MESH ChemicalID        MESHid  \\\n",
       "0  CID100000143     Hypersensitivity    D002955  MESH:D006967   \n",
       "2  CID100000143            Urticaria    D002955  MESH:D014581   \n",
       "3  CID100000143  Acute Kidney Injury    D002955  MESH:D058186   \n",
       "4  CID100000143  Disease Progression    D002955  MESH:D018450   \n",
       "6  CID100000681  Atrial Fibrillation    D004298  MESH:D001281   \n",
       "\n",
       "                                           ChemGoVec  \\\n",
       "0  [-0.1928972, 0.04133245, -0.13697416, -0.05781...   \n",
       "2  [-0.1928972, 0.04133245, -0.13697416, -0.05781...   \n",
       "3  [-0.1928972, 0.04133245, -0.13697416, -0.05781...   \n",
       "4  [-0.1928972, 0.04133245, -0.13697416, -0.05781...   \n",
       "6  [-6.34962916e-02, 1.08258978e-01, -2.02546176e...   \n",
       "\n",
       "                                            DisGoVec  Correlation  \\\n",
       "0  [0.01048629, 0.12093927, 0.02683925, -0.134863...            1   \n",
       "2  [-0.15222934, 0.05032845, -0.21946777, -0.0608...            1   \n",
       "3  [0.01984936, 0.0847866, 0.04233291, -0.0797925...            1   \n",
       "4  [1.11526530e-03, 1.28473654e-01, 3.04674823e-0...            1   \n",
       "6  [-1.60670001e-03, 1.17270418e-01, 1.88340824e-...            1   \n",
       "\n",
       "           DOID                                       disPhenVecMP  \\\n",
       "0     DOID_1205  [3.05852331e-02, 1.36921287e-01, 5.83447553e-0...   \n",
       "2     DOID_1555  [0.02479337, 0.11779714, 0.04578669, -0.118837...   \n",
       "3     DOID_3021  [2.61312630e-02, 1.06001623e-01, 5.01475073e-0...   \n",
       "4           NaN  [0, 0, 0, 0, 0, 0, 0, 0, 0, 0, 0, 0, 0, 0, 0, ...   \n",
       "6  DOID_0060224  [5.46471141e-02, 1.52429357e-01, 7.47762397e-0...   \n",
       "\n",
       "                                        disPhenVecHP  \n",
       "0  [4.44701687e-02, 1.48065820e-01, 7.01489896e-0...  \n",
       "2  [0.04158028, 0.15021026, 0.05177102, -0.128954...  \n",
       "3  [4.42636572e-02, 1.56471714e-01, 5.58946170e-0...  \n",
       "4  [0, 0, 0, 0, 0, 0, 0, 0, 0, 0, 0, 0, 0, 0, 0, ...  \n",
       "6  [0.06875926, 0.15412922, 0.06408796, -0.108529...  "
      ]
     },
     "execution_count": 59,
     "metadata": {},
     "output_type": "execute_result"
    }
   ],
   "source": [
    "sider_mod.head()"
   ]
  },
  {
   "cell_type": "code",
   "execution_count": null,
   "metadata": {},
   "outputs": [],
   "source": []
  },
  {
   "cell_type": "code",
   "execution_count": null,
   "metadata": {},
   "outputs": [],
   "source": []
  },
  {
   "cell_type": "code",
   "execution_count": 60,
   "metadata": {},
   "outputs": [],
   "source": [
    "# Right let's add the rest of the features to our dataset"
   ]
  },
  {
   "cell_type": "markdown",
   "metadata": {},
   "source": [
    "### Add CHEBI vecs"
   ]
  },
  {
   "cell_type": "code",
   "execution_count": 61,
   "metadata": {},
   "outputs": [],
   "source": [
    "# Import chem2chebivec map made in opa-nn notebook\n",
    "def load_obj(name):\n",
    "    with open(name + '.pkl', 'rb') as f:\n",
    "        return pickle.load(f)\n",
    "\n",
    "chem2chebi = load_obj('../opa/chem2chebi')"
   ]
  },
  {
   "cell_type": "code",
   "execution_count": 62,
   "metadata": {},
   "outputs": [
    {
     "data": {
      "text/html": [
       "<div>\n",
       "<style scoped>\n",
       "    .dataframe tbody tr th:only-of-type {\n",
       "        vertical-align: middle;\n",
       "    }\n",
       "\n",
       "    .dataframe tbody tr th {\n",
       "        vertical-align: top;\n",
       "    }\n",
       "\n",
       "    .dataframe thead th {\n",
       "        text-align: right;\n",
       "    }\n",
       "</style>\n",
       "<table border=\"1\" class=\"dataframe\">\n",
       "  <thead>\n",
       "    <tr style=\"text-align: right;\">\n",
       "      <th></th>\n",
       "      <th>CID</th>\n",
       "      <th>MESH</th>\n",
       "      <th>ChemicalID</th>\n",
       "      <th>MESHid</th>\n",
       "      <th>ChemGoVec</th>\n",
       "      <th>DisGoVec</th>\n",
       "      <th>Correlation</th>\n",
       "      <th>DOID</th>\n",
       "      <th>disPhenVecMP</th>\n",
       "      <th>disPhenVecHP</th>\n",
       "    </tr>\n",
       "  </thead>\n",
       "  <tbody>\n",
       "    <tr>\n",
       "      <th>1121</th>\n",
       "      <td>NaN</td>\n",
       "      <td>Proteinuria</td>\n",
       "      <td>D003024</td>\n",
       "      <td>MESH:D011507</td>\n",
       "      <td>[-0.0243297, 0.09980957, -0.01168219, -0.12672...</td>\n",
       "      <td>[-1.23689458e-01, 2.06021965e-02, -1.98148027e...</td>\n",
       "      <td>0</td>\n",
       "      <td>DOID_576</td>\n",
       "      <td>[0.038631, 0.12100562, 0.06092621, -0.11268248...</td>\n",
       "      <td>[5.98250851e-02, 1.54849425e-01, 5.55189103e-0...</td>\n",
       "    </tr>\n",
       "    <tr>\n",
       "      <th>1032</th>\n",
       "      <td>NaN</td>\n",
       "      <td>Otitis Media</td>\n",
       "      <td>D002065</td>\n",
       "      <td>MESH:D010033</td>\n",
       "      <td>[-0.02266272, 0.10866198, 0.01653025, -0.12538...</td>\n",
       "      <td>[0.01173668, 0.08411296, 0.00439407, -0.083879...</td>\n",
       "      <td>0</td>\n",
       "      <td>DOID_10754</td>\n",
       "      <td>[2.77346596e-02, 1.19539544e-01, 6.01626299e-0...</td>\n",
       "      <td>[0.04242221, 0.15833516, 0.04688059, -0.118981...</td>\n",
       "    </tr>\n",
       "    <tr>\n",
       "      <th>203</th>\n",
       "      <td>CID100003121</td>\n",
       "      <td>Deafness</td>\n",
       "      <td>D014635</td>\n",
       "      <td>MESH:D003638</td>\n",
       "      <td>[-0.09201236, 0.06609955, -0.13402744, -0.1180...</td>\n",
       "      <td>[2.99392752e-02, 1.05787165e-01, 5.17426692e-0...</td>\n",
       "      <td>1</td>\n",
       "      <td>NaN</td>\n",
       "      <td>[0, 0, 0, 0, 0, 0, 0, 0, 0, 0, 0, 0, 0, 0, 0, ...</td>\n",
       "      <td>[0, 0, 0, 0, 0, 0, 0, 0, 0, 0, 0, 0, 0, 0, 0, ...</td>\n",
       "    </tr>\n",
       "    <tr>\n",
       "      <th>366</th>\n",
       "      <td>CID100003386</td>\n",
       "      <td>Hyperplasia</td>\n",
       "      <td>D005473</td>\n",
       "      <td>MESH:D006965</td>\n",
       "      <td>[-0.17009397, 0.01808067, -0.3474555, -0.16473...</td>\n",
       "      <td>[-2.88997646e-02, 1.38664156e-01, 3.66541967e-...</td>\n",
       "      <td>1</td>\n",
       "      <td>NaN</td>\n",
       "      <td>[0, 0, 0, 0, 0, 0, 0, 0, 0, 0, 0, 0, 0, 0, 0, ...</td>\n",
       "      <td>[0, 0, 0, 0, 0, 0, 0, 0, 0, 0, 0, 0, 0, 0, 0, ...</td>\n",
       "    </tr>\n",
       "  </tbody>\n",
       "</table>\n",
       "</div>"
      ],
      "text/plain": [
       "               CID          MESH ChemicalID        MESHid  \\\n",
       "1121           NaN   Proteinuria    D003024  MESH:D011507   \n",
       "1032           NaN  Otitis Media    D002065  MESH:D010033   \n",
       "203   CID100003121      Deafness    D014635  MESH:D003638   \n",
       "366   CID100003386   Hyperplasia    D005473  MESH:D006965   \n",
       "\n",
       "                                              ChemGoVec  \\\n",
       "1121  [-0.0243297, 0.09980957, -0.01168219, -0.12672...   \n",
       "1032  [-0.02266272, 0.10866198, 0.01653025, -0.12538...   \n",
       "203   [-0.09201236, 0.06609955, -0.13402744, -0.1180...   \n",
       "366   [-0.17009397, 0.01808067, -0.3474555, -0.16473...   \n",
       "\n",
       "                                               DisGoVec  Correlation  \\\n",
       "1121  [-1.23689458e-01, 2.06021965e-02, -1.98148027e...            0   \n",
       "1032  [0.01173668, 0.08411296, 0.00439407, -0.083879...            0   \n",
       "203   [2.99392752e-02, 1.05787165e-01, 5.17426692e-0...            1   \n",
       "366   [-2.88997646e-02, 1.38664156e-01, 3.66541967e-...            1   \n",
       "\n",
       "            DOID                                       disPhenVecMP  \\\n",
       "1121    DOID_576  [0.038631, 0.12100562, 0.06092621, -0.11268248...   \n",
       "1032  DOID_10754  [2.77346596e-02, 1.19539544e-01, 6.01626299e-0...   \n",
       "203          NaN  [0, 0, 0, 0, 0, 0, 0, 0, 0, 0, 0, 0, 0, 0, 0, ...   \n",
       "366          NaN  [0, 0, 0, 0, 0, 0, 0, 0, 0, 0, 0, 0, 0, 0, 0, ...   \n",
       "\n",
       "                                           disPhenVecHP  \n",
       "1121  [5.98250851e-02, 1.54849425e-01, 5.55189103e-0...  \n",
       "1032  [0.04242221, 0.15833516, 0.04688059, -0.118981...  \n",
       "203   [0, 0, 0, 0, 0, 0, 0, 0, 0, 0, 0, 0, 0, 0, 0, ...  \n",
       "366   [0, 0, 0, 0, 0, 0, 0, 0, 0, 0, 0, 0, 0, 0, 0, ...  "
      ]
     },
     "execution_count": 62,
     "metadata": {},
     "output_type": "execute_result"
    }
   ],
   "source": [
    "sider_mod.sample(4)"
   ]
  },
  {
   "cell_type": "code",
   "execution_count": 63,
   "metadata": {},
   "outputs": [],
   "source": [
    "sider_mod['CHEBIvec'] = sider_mod.ChemicalID.map(lambda x: chem2chebi.get(x, empty_vec))"
   ]
  },
  {
   "cell_type": "code",
   "execution_count": null,
   "metadata": {},
   "outputs": [],
   "source": []
  },
  {
   "cell_type": "markdown",
   "metadata": {},
   "source": [
    "### Add DO Vecs"
   ]
  },
  {
   "cell_type": "code",
   "execution_count": 64,
   "metadata": {},
   "outputs": [],
   "source": [
    "# Import Gofunc vec file\n",
    "with open('../opa/do-vecs.lst', 'r') as file:\n",
    "    text = file.read()\n",
    "    \n",
    "# Strip and split vector data into list of lists [disease, vec]\n",
    "text = text.replace('\\n', '')\n",
    "text = text.split(']')\n",
    "text = [item.strip().split(' [') for item in text]\n",
    "\n",
    "# Turn it into a data frame\n",
    "df = pd.DataFrame(text)\n",
    "df.columns = ['ID', 'Vector']\n",
    "\n",
    "# Clean\n",
    "df = df.dropna()\n",
    "df['Vector'] = df.Vector.map(lambda x: x.rstrip().lstrip().replace('    ', ' ').replace('   ', ' ').replace('  ', ' ').replace(' ', ','))\n",
    "\n",
    "# Turn vector column into a list\n",
    "df['Vector'] = df.Vector.map(lambda x: x.split(','))\n",
    "\n",
    "# Make a map of it (DisID to DOvec)\n",
    "dis_to_DOvec = dict(zip(df.ID, df.Vector))"
   ]
  },
  {
   "cell_type": "code",
   "execution_count": 65,
   "metadata": {},
   "outputs": [],
   "source": [
    "sider_mod['DOvec'] = sider_mod.MESHid.map(lambda x: dis_to_DOvec.get(x))"
   ]
  },
  {
   "cell_type": "code",
   "execution_count": 66,
   "metadata": {},
   "outputs": [],
   "source": [
    "# Change the DO vec elements from string to floats\n",
    "sider_mod['DOvec'] = sider_mod.DOvec.map(lambda x: [float(i) for i in x])"
   ]
  },
  {
   "cell_type": "code",
   "execution_count": 67,
   "metadata": {},
   "outputs": [
    {
     "data": {
      "text/html": [
       "<div>\n",
       "<style scoped>\n",
       "    .dataframe tbody tr th:only-of-type {\n",
       "        vertical-align: middle;\n",
       "    }\n",
       "\n",
       "    .dataframe tbody tr th {\n",
       "        vertical-align: top;\n",
       "    }\n",
       "\n",
       "    .dataframe thead th {\n",
       "        text-align: right;\n",
       "    }\n",
       "</style>\n",
       "<table border=\"1\" class=\"dataframe\">\n",
       "  <thead>\n",
       "    <tr style=\"text-align: right;\">\n",
       "      <th></th>\n",
       "      <th>CID</th>\n",
       "      <th>MESH</th>\n",
       "      <th>ChemicalID</th>\n",
       "      <th>MESHid</th>\n",
       "      <th>ChemGoVec</th>\n",
       "      <th>DisGoVec</th>\n",
       "      <th>Correlation</th>\n",
       "      <th>DOID</th>\n",
       "      <th>disPhenVecMP</th>\n",
       "      <th>disPhenVecHP</th>\n",
       "      <th>CHEBIvec</th>\n",
       "      <th>DOvec</th>\n",
       "    </tr>\n",
       "  </thead>\n",
       "  <tbody>\n",
       "    <tr>\n",
       "      <th>0</th>\n",
       "      <td>CID100000143</td>\n",
       "      <td>Hypersensitivity</td>\n",
       "      <td>D002955</td>\n",
       "      <td>MESH:D006967</td>\n",
       "      <td>[-0.1928972, 0.04133245, -0.13697416, -0.05781...</td>\n",
       "      <td>[0.01048629, 0.12093927, 0.02683925, -0.134863...</td>\n",
       "      <td>1</td>\n",
       "      <td>DOID_1205</td>\n",
       "      <td>[3.05852331e-02, 1.36921287e-01, 5.83447553e-0...</td>\n",
       "      <td>[4.44701687e-02, 1.48065820e-01, 7.01489896e-0...</td>\n",
       "      <td>[0.01772805, 0.05946666, 0.02581723, -0.057734...</td>\n",
       "      <td>[0.0323501714, 0.0718148202, 0.0226857904, -0....</td>\n",
       "    </tr>\n",
       "    <tr>\n",
       "      <th>2</th>\n",
       "      <td>CID100000143</td>\n",
       "      <td>Urticaria</td>\n",
       "      <td>D002955</td>\n",
       "      <td>MESH:D014581</td>\n",
       "      <td>[-0.1928972, 0.04133245, -0.13697416, -0.05781...</td>\n",
       "      <td>[-0.15222934, 0.05032845, -0.21946777, -0.0608...</td>\n",
       "      <td>1</td>\n",
       "      <td>DOID_1555</td>\n",
       "      <td>[0.02479337, 0.11779714, 0.04578669, -0.118837...</td>\n",
       "      <td>[0.04158028, 0.15021026, 0.05177102, -0.128954...</td>\n",
       "      <td>[0.01772805, 0.05946666, 0.02581723, -0.057734...</td>\n",
       "      <td>[0.02033558, 0.07687499, 0.03339575, -0.061590...</td>\n",
       "    </tr>\n",
       "    <tr>\n",
       "      <th>3</th>\n",
       "      <td>CID100000143</td>\n",
       "      <td>Acute Kidney Injury</td>\n",
       "      <td>D002955</td>\n",
       "      <td>MESH:D058186</td>\n",
       "      <td>[-0.1928972, 0.04133245, -0.13697416, -0.05781...</td>\n",
       "      <td>[0.01984936, 0.0847866, 0.04233291, -0.0797925...</td>\n",
       "      <td>1</td>\n",
       "      <td>DOID_3021</td>\n",
       "      <td>[2.61312630e-02, 1.06001623e-01, 5.01475073e-0...</td>\n",
       "      <td>[4.42636572e-02, 1.56471714e-01, 5.58946170e-0...</td>\n",
       "      <td>[0.01772805, 0.05946666, 0.02581723, -0.057734...</td>\n",
       "      <td>[0.0153563516, 0.0718724281, 0.0305716358, -0....</td>\n",
       "    </tr>\n",
       "    <tr>\n",
       "      <th>4</th>\n",
       "      <td>CID100000143</td>\n",
       "      <td>Disease Progression</td>\n",
       "      <td>D002955</td>\n",
       "      <td>MESH:D018450</td>\n",
       "      <td>[-0.1928972, 0.04133245, -0.13697416, -0.05781...</td>\n",
       "      <td>[1.11526530e-03, 1.28473654e-01, 3.04674823e-0...</td>\n",
       "      <td>1</td>\n",
       "      <td>NaN</td>\n",
       "      <td>[0, 0, 0, 0, 0, 0, 0, 0, 0, 0, 0, 0, 0, 0, 0, ...</td>\n",
       "      <td>[0, 0, 0, 0, 0, 0, 0, 0, 0, 0, 0, 0, 0, 0, 0, ...</td>\n",
       "      <td>[0.01772805, 0.05946666, 0.02581723, -0.057734...</td>\n",
       "      <td>[0.00961015, 0.0239394, 0.01371201, -0.0367966...</td>\n",
       "    </tr>\n",
       "    <tr>\n",
       "      <th>6</th>\n",
       "      <td>CID100000681</td>\n",
       "      <td>Atrial Fibrillation</td>\n",
       "      <td>D004298</td>\n",
       "      <td>MESH:D001281</td>\n",
       "      <td>[-6.34962916e-02, 1.08258978e-01, -2.02546176e...</td>\n",
       "      <td>[-1.60670001e-03, 1.17270418e-01, 1.88340824e-...</td>\n",
       "      <td>1</td>\n",
       "      <td>DOID_0060224</td>\n",
       "      <td>[5.46471141e-02, 1.52429357e-01, 7.47762397e-0...</td>\n",
       "      <td>[0.06875926, 0.15412922, 0.06408796, -0.108529...</td>\n",
       "      <td>[0.01396446, 0.05335214, 0.02592678, -0.054371...</td>\n",
       "      <td>[0.02116747, 0.06971144, 0.04062635, -0.064116...</td>\n",
       "    </tr>\n",
       "  </tbody>\n",
       "</table>\n",
       "</div>"
      ],
      "text/plain": [
       "            CID                 MESH ChemicalID        MESHid  \\\n",
       "0  CID100000143     Hypersensitivity    D002955  MESH:D006967   \n",
       "2  CID100000143            Urticaria    D002955  MESH:D014581   \n",
       "3  CID100000143  Acute Kidney Injury    D002955  MESH:D058186   \n",
       "4  CID100000143  Disease Progression    D002955  MESH:D018450   \n",
       "6  CID100000681  Atrial Fibrillation    D004298  MESH:D001281   \n",
       "\n",
       "                                           ChemGoVec  \\\n",
       "0  [-0.1928972, 0.04133245, -0.13697416, -0.05781...   \n",
       "2  [-0.1928972, 0.04133245, -0.13697416, -0.05781...   \n",
       "3  [-0.1928972, 0.04133245, -0.13697416, -0.05781...   \n",
       "4  [-0.1928972, 0.04133245, -0.13697416, -0.05781...   \n",
       "6  [-6.34962916e-02, 1.08258978e-01, -2.02546176e...   \n",
       "\n",
       "                                            DisGoVec  Correlation  \\\n",
       "0  [0.01048629, 0.12093927, 0.02683925, -0.134863...            1   \n",
       "2  [-0.15222934, 0.05032845, -0.21946777, -0.0608...            1   \n",
       "3  [0.01984936, 0.0847866, 0.04233291, -0.0797925...            1   \n",
       "4  [1.11526530e-03, 1.28473654e-01, 3.04674823e-0...            1   \n",
       "6  [-1.60670001e-03, 1.17270418e-01, 1.88340824e-...            1   \n",
       "\n",
       "           DOID                                       disPhenVecMP  \\\n",
       "0     DOID_1205  [3.05852331e-02, 1.36921287e-01, 5.83447553e-0...   \n",
       "2     DOID_1555  [0.02479337, 0.11779714, 0.04578669, -0.118837...   \n",
       "3     DOID_3021  [2.61312630e-02, 1.06001623e-01, 5.01475073e-0...   \n",
       "4           NaN  [0, 0, 0, 0, 0, 0, 0, 0, 0, 0, 0, 0, 0, 0, 0, ...   \n",
       "6  DOID_0060224  [5.46471141e-02, 1.52429357e-01, 7.47762397e-0...   \n",
       "\n",
       "                                        disPhenVecHP  \\\n",
       "0  [4.44701687e-02, 1.48065820e-01, 7.01489896e-0...   \n",
       "2  [0.04158028, 0.15021026, 0.05177102, -0.128954...   \n",
       "3  [4.42636572e-02, 1.56471714e-01, 5.58946170e-0...   \n",
       "4  [0, 0, 0, 0, 0, 0, 0, 0, 0, 0, 0, 0, 0, 0, 0, ...   \n",
       "6  [0.06875926, 0.15412922, 0.06408796, -0.108529...   \n",
       "\n",
       "                                            CHEBIvec  \\\n",
       "0  [0.01772805, 0.05946666, 0.02581723, -0.057734...   \n",
       "2  [0.01772805, 0.05946666, 0.02581723, -0.057734...   \n",
       "3  [0.01772805, 0.05946666, 0.02581723, -0.057734...   \n",
       "4  [0.01772805, 0.05946666, 0.02581723, -0.057734...   \n",
       "6  [0.01396446, 0.05335214, 0.02592678, -0.054371...   \n",
       "\n",
       "                                               DOvec  \n",
       "0  [0.0323501714, 0.0718148202, 0.0226857904, -0....  \n",
       "2  [0.02033558, 0.07687499, 0.03339575, -0.061590...  \n",
       "3  [0.0153563516, 0.0718724281, 0.0305716358, -0....  \n",
       "4  [0.00961015, 0.0239394, 0.01371201, -0.0367966...  \n",
       "6  [0.02116747, 0.06971144, 0.04062635, -0.064116...  "
      ]
     },
     "execution_count": 67,
     "metadata": {},
     "output_type": "execute_result"
    }
   ],
   "source": [
    "sider_mod.head()"
   ]
  },
  {
   "cell_type": "code",
   "execution_count": null,
   "metadata": {},
   "outputs": [],
   "source": []
  },
  {
   "cell_type": "markdown",
   "metadata": {},
   "source": [
    "### Get HINO Vecs"
   ]
  },
  {
   "cell_type": "code",
   "execution_count": 68,
   "metadata": {},
   "outputs": [],
   "source": [
    "# Import HINO vec file\n",
    "with open('../opa/hinoVecs.lst', 'r') as file:\n",
    "    text = file.read()\n",
    "    \n",
    "# Strip and split vector data into list of lists [chem, vec]\n",
    "text = text.replace('\\n', '')\n",
    "text = text.split(']')\n",
    "text = [item.strip().split(' [') for item in text]\n",
    "\n",
    "# Turn it into a data frame\n",
    "df = pd.DataFrame(text)\n",
    "df.columns = ['ID', 'Vector']\n",
    "\n",
    "# Clean\n",
    "df = df.dropna()\n",
    "df['Vector'] = df.Vector.map(lambda x: x.rstrip().lstrip().replace('    ', ' ').replace('   ', ' ').replace('  ', ' ').replace(' ', ','))\n",
    "\n",
    "# Turn vector column into a list\n",
    "df['Vector'] = df.Vector.map(lambda x: x.split(','))\n",
    "\n",
    "# Make a map of it (DisID to DOvec)\n",
    "entity_to_HINOvec = dict(zip(df.ID, df.Vector))"
   ]
  },
  {
   "cell_type": "code",
   "execution_count": 69,
   "metadata": {},
   "outputs": [],
   "source": [
    "sider_mod['dis_HINOvec'] = sider_mod.MESHid.map(lambda x: entity_to_HINOvec.get(x))\n",
    "sider_mod['chem_HINOvec'] = sider_mod.ChemicalID.map(lambda x: entity_to_HINOvec.get(x))"
   ]
  },
  {
   "cell_type": "code",
   "execution_count": 70,
   "metadata": {},
   "outputs": [
    {
     "name": "stdout",
     "output_type": "stream",
     "text": [
      "HINO dis vecs:  1294\n",
      "HINO chem vecs:  1021\n",
      "At least one hino vec:  1516\n"
     ]
    }
   ],
   "source": [
    "print('HINO dis vecs: ', sider_mod[sider_mod.dis_HINOvec.map(lambda x: x is not None)].shape[0])\n",
    "print('HINO chem vecs: ', sider_mod[sider_mod.chem_HINOvec.map(lambda x: x is not None)].shape[0])\n",
    "at_least_one = sider_mod.chem_HINOvec.map(lambda x: x is not None) | sider_mod.dis_HINOvec.map(lambda x: x is not None)\n",
    "print('At least one hino vec: ', sider_mod[at_least_one].shape[0])"
   ]
  },
  {
   "cell_type": "code",
   "execution_count": 71,
   "metadata": {},
   "outputs": [],
   "source": [
    "# Add empty vecs in place of None\n",
    "empty_vec = [0] * 200\n",
    "\n",
    "for col in ['dis_HINOvec', 'chem_HINOvec']:\n",
    "    sider_mod[col] = sider_mod[col].map(lambda x: empty_vec if x is None else x)"
   ]
  },
  {
   "cell_type": "code",
   "execution_count": 72,
   "metadata": {},
   "outputs": [],
   "source": [
    "# Change the HINO vec elements from string to floats\n",
    "sider_mod['dis_HINOvec'] = sider_mod.dis_HINOvec.map(lambda x: [float(i) for i in x])\n",
    "sider_mod['chem_HINOvec'] = sider_mod.chem_HINOvec.map(lambda x: [float(i) for i in x])"
   ]
  },
  {
   "cell_type": "code",
   "execution_count": 73,
   "metadata": {},
   "outputs": [
    {
     "data": {
      "text/html": [
       "<div>\n",
       "<style scoped>\n",
       "    .dataframe tbody tr th:only-of-type {\n",
       "        vertical-align: middle;\n",
       "    }\n",
       "\n",
       "    .dataframe tbody tr th {\n",
       "        vertical-align: top;\n",
       "    }\n",
       "\n",
       "    .dataframe thead th {\n",
       "        text-align: right;\n",
       "    }\n",
       "</style>\n",
       "<table border=\"1\" class=\"dataframe\">\n",
       "  <thead>\n",
       "    <tr style=\"text-align: right;\">\n",
       "      <th></th>\n",
       "      <th>CID</th>\n",
       "      <th>MESH</th>\n",
       "      <th>ChemicalID</th>\n",
       "      <th>MESHid</th>\n",
       "      <th>ChemGoVec</th>\n",
       "      <th>DisGoVec</th>\n",
       "      <th>Correlation</th>\n",
       "      <th>DOID</th>\n",
       "      <th>disPhenVecMP</th>\n",
       "      <th>disPhenVecHP</th>\n",
       "      <th>CHEBIvec</th>\n",
       "      <th>DOvec</th>\n",
       "      <th>dis_HINOvec</th>\n",
       "      <th>chem_HINOvec</th>\n",
       "    </tr>\n",
       "  </thead>\n",
       "  <tbody>\n",
       "    <tr>\n",
       "      <th>0</th>\n",
       "      <td>CID100000143</td>\n",
       "      <td>Hypersensitivity</td>\n",
       "      <td>D002955</td>\n",
       "      <td>MESH:D006967</td>\n",
       "      <td>[-0.1928972, 0.04133245, -0.13697416, -0.05781...</td>\n",
       "      <td>[0.01048629, 0.12093927, 0.02683925, -0.134863...</td>\n",
       "      <td>1</td>\n",
       "      <td>DOID_1205</td>\n",
       "      <td>[3.05852331e-02, 1.36921287e-01, 5.83447553e-0...</td>\n",
       "      <td>[4.44701687e-02, 1.48065820e-01, 7.01489896e-0...</td>\n",
       "      <td>[0.01772805, 0.05946666, 0.02581723, -0.057734...</td>\n",
       "      <td>[0.0323501714, 0.0718148202, 0.0226857904, -0....</td>\n",
       "      <td>[0.0131735466, 0.0484740399, 0.0218853857, -0....</td>\n",
       "      <td>[0.02397728, 0.09010118, 0.04078608, -0.085982...</td>\n",
       "    </tr>\n",
       "    <tr>\n",
       "      <th>2</th>\n",
       "      <td>CID100000143</td>\n",
       "      <td>Urticaria</td>\n",
       "      <td>D002955</td>\n",
       "      <td>MESH:D014581</td>\n",
       "      <td>[-0.1928972, 0.04133245, -0.13697416, -0.05781...</td>\n",
       "      <td>[-0.15222934, 0.05032845, -0.21946777, -0.0608...</td>\n",
       "      <td>1</td>\n",
       "      <td>DOID_1555</td>\n",
       "      <td>[0.02479337, 0.11779714, 0.04578669, -0.118837...</td>\n",
       "      <td>[0.04158028, 0.15021026, 0.05177102, -0.128954...</td>\n",
       "      <td>[0.01772805, 0.05946666, 0.02581723, -0.057734...</td>\n",
       "      <td>[0.02033558, 0.07687499, 0.03339575, -0.061590...</td>\n",
       "      <td>[0.01310632, 0.08857583, 0.04576511, -0.082742...</td>\n",
       "      <td>[0.02397728, 0.09010118, 0.04078608, -0.085982...</td>\n",
       "    </tr>\n",
       "    <tr>\n",
       "      <th>3</th>\n",
       "      <td>CID100000143</td>\n",
       "      <td>Acute Kidney Injury</td>\n",
       "      <td>D002955</td>\n",
       "      <td>MESH:D058186</td>\n",
       "      <td>[-0.1928972, 0.04133245, -0.13697416, -0.05781...</td>\n",
       "      <td>[0.01984936, 0.0847866, 0.04233291, -0.0797925...</td>\n",
       "      <td>1</td>\n",
       "      <td>DOID_3021</td>\n",
       "      <td>[2.61312630e-02, 1.06001623e-01, 5.01475073e-0...</td>\n",
       "      <td>[4.42636572e-02, 1.56471714e-01, 5.58946170e-0...</td>\n",
       "      <td>[0.01772805, 0.05946666, 0.02581723, -0.057734...</td>\n",
       "      <td>[0.0153563516, 0.0718724281, 0.0305716358, -0....</td>\n",
       "      <td>[0.0, 0.0, 0.0, 0.0, 0.0, 0.0, 0.0, 0.0, 0.0, ...</td>\n",
       "      <td>[0.02397728, 0.09010118, 0.04078608, -0.085982...</td>\n",
       "    </tr>\n",
       "    <tr>\n",
       "      <th>4</th>\n",
       "      <td>CID100000143</td>\n",
       "      <td>Disease Progression</td>\n",
       "      <td>D002955</td>\n",
       "      <td>MESH:D018450</td>\n",
       "      <td>[-0.1928972, 0.04133245, -0.13697416, -0.05781...</td>\n",
       "      <td>[1.11526530e-03, 1.28473654e-01, 3.04674823e-0...</td>\n",
       "      <td>1</td>\n",
       "      <td>NaN</td>\n",
       "      <td>[0, 0, 0, 0, 0, 0, 0, 0, 0, 0, 0, 0, 0, 0, 0, ...</td>\n",
       "      <td>[0, 0, 0, 0, 0, 0, 0, 0, 0, 0, 0, 0, 0, 0, 0, ...</td>\n",
       "      <td>[0.01772805, 0.05946666, 0.02581723, -0.057734...</td>\n",
       "      <td>[0.00961015, 0.0239394, 0.01371201, -0.0367966...</td>\n",
       "      <td>[0.0144636966, 0.0569347367, 0.0221220553, -0....</td>\n",
       "      <td>[0.02397728, 0.09010118, 0.04078608, -0.085982...</td>\n",
       "    </tr>\n",
       "    <tr>\n",
       "      <th>6</th>\n",
       "      <td>CID100000681</td>\n",
       "      <td>Atrial Fibrillation</td>\n",
       "      <td>D004298</td>\n",
       "      <td>MESH:D001281</td>\n",
       "      <td>[-6.34962916e-02, 1.08258978e-01, -2.02546176e...</td>\n",
       "      <td>[-1.60670001e-03, 1.17270418e-01, 1.88340824e-...</td>\n",
       "      <td>1</td>\n",
       "      <td>DOID_0060224</td>\n",
       "      <td>[5.46471141e-02, 1.52429357e-01, 7.47762397e-0...</td>\n",
       "      <td>[0.06875926, 0.15412922, 0.06408796, -0.108529...</td>\n",
       "      <td>[0.01396446, 0.05335214, 0.02592678, -0.054371...</td>\n",
       "      <td>[0.02116747, 0.06971144, 0.04062635, -0.064116...</td>\n",
       "      <td>[0.014063, 0.05615393, 0.02999277, -0.05821621...</td>\n",
       "      <td>[0.0187989, 0.07305145, 0.0346327, -0.07062967...</td>\n",
       "    </tr>\n",
       "  </tbody>\n",
       "</table>\n",
       "</div>"
      ],
      "text/plain": [
       "            CID                 MESH ChemicalID        MESHid  \\\n",
       "0  CID100000143     Hypersensitivity    D002955  MESH:D006967   \n",
       "2  CID100000143            Urticaria    D002955  MESH:D014581   \n",
       "3  CID100000143  Acute Kidney Injury    D002955  MESH:D058186   \n",
       "4  CID100000143  Disease Progression    D002955  MESH:D018450   \n",
       "6  CID100000681  Atrial Fibrillation    D004298  MESH:D001281   \n",
       "\n",
       "                                           ChemGoVec  \\\n",
       "0  [-0.1928972, 0.04133245, -0.13697416, -0.05781...   \n",
       "2  [-0.1928972, 0.04133245, -0.13697416, -0.05781...   \n",
       "3  [-0.1928972, 0.04133245, -0.13697416, -0.05781...   \n",
       "4  [-0.1928972, 0.04133245, -0.13697416, -0.05781...   \n",
       "6  [-6.34962916e-02, 1.08258978e-01, -2.02546176e...   \n",
       "\n",
       "                                            DisGoVec  Correlation  \\\n",
       "0  [0.01048629, 0.12093927, 0.02683925, -0.134863...            1   \n",
       "2  [-0.15222934, 0.05032845, -0.21946777, -0.0608...            1   \n",
       "3  [0.01984936, 0.0847866, 0.04233291, -0.0797925...            1   \n",
       "4  [1.11526530e-03, 1.28473654e-01, 3.04674823e-0...            1   \n",
       "6  [-1.60670001e-03, 1.17270418e-01, 1.88340824e-...            1   \n",
       "\n",
       "           DOID                                       disPhenVecMP  \\\n",
       "0     DOID_1205  [3.05852331e-02, 1.36921287e-01, 5.83447553e-0...   \n",
       "2     DOID_1555  [0.02479337, 0.11779714, 0.04578669, -0.118837...   \n",
       "3     DOID_3021  [2.61312630e-02, 1.06001623e-01, 5.01475073e-0...   \n",
       "4           NaN  [0, 0, 0, 0, 0, 0, 0, 0, 0, 0, 0, 0, 0, 0, 0, ...   \n",
       "6  DOID_0060224  [5.46471141e-02, 1.52429357e-01, 7.47762397e-0...   \n",
       "\n",
       "                                        disPhenVecHP  \\\n",
       "0  [4.44701687e-02, 1.48065820e-01, 7.01489896e-0...   \n",
       "2  [0.04158028, 0.15021026, 0.05177102, -0.128954...   \n",
       "3  [4.42636572e-02, 1.56471714e-01, 5.58946170e-0...   \n",
       "4  [0, 0, 0, 0, 0, 0, 0, 0, 0, 0, 0, 0, 0, 0, 0, ...   \n",
       "6  [0.06875926, 0.15412922, 0.06408796, -0.108529...   \n",
       "\n",
       "                                            CHEBIvec  \\\n",
       "0  [0.01772805, 0.05946666, 0.02581723, -0.057734...   \n",
       "2  [0.01772805, 0.05946666, 0.02581723, -0.057734...   \n",
       "3  [0.01772805, 0.05946666, 0.02581723, -0.057734...   \n",
       "4  [0.01772805, 0.05946666, 0.02581723, -0.057734...   \n",
       "6  [0.01396446, 0.05335214, 0.02592678, -0.054371...   \n",
       "\n",
       "                                               DOvec  \\\n",
       "0  [0.0323501714, 0.0718148202, 0.0226857904, -0....   \n",
       "2  [0.02033558, 0.07687499, 0.03339575, -0.061590...   \n",
       "3  [0.0153563516, 0.0718724281, 0.0305716358, -0....   \n",
       "4  [0.00961015, 0.0239394, 0.01371201, -0.0367966...   \n",
       "6  [0.02116747, 0.06971144, 0.04062635, -0.064116...   \n",
       "\n",
       "                                         dis_HINOvec  \\\n",
       "0  [0.0131735466, 0.0484740399, 0.0218853857, -0....   \n",
       "2  [0.01310632, 0.08857583, 0.04576511, -0.082742...   \n",
       "3  [0.0, 0.0, 0.0, 0.0, 0.0, 0.0, 0.0, 0.0, 0.0, ...   \n",
       "4  [0.0144636966, 0.0569347367, 0.0221220553, -0....   \n",
       "6  [0.014063, 0.05615393, 0.02999277, -0.05821621...   \n",
       "\n",
       "                                        chem_HINOvec  \n",
       "0  [0.02397728, 0.09010118, 0.04078608, -0.085982...  \n",
       "2  [0.02397728, 0.09010118, 0.04078608, -0.085982...  \n",
       "3  [0.02397728, 0.09010118, 0.04078608, -0.085982...  \n",
       "4  [0.02397728, 0.09010118, 0.04078608, -0.085982...  \n",
       "6  [0.0187989, 0.07305145, 0.0346327, -0.07062967...  "
      ]
     },
     "execution_count": 73,
     "metadata": {},
     "output_type": "execute_result"
    }
   ],
   "source": [
    "sider_mod.head()"
   ]
  },
  {
   "cell_type": "markdown",
   "metadata": {},
   "source": [
    "### Get PRO vecs"
   ]
  },
  {
   "cell_type": "code",
   "execution_count": 74,
   "metadata": {},
   "outputs": [],
   "source": [
    "# Import PRO vec file\n",
    "with open('../opa/PROVecs.lst', 'r') as file:\n",
    "    text = file.read()\n",
    "    \n",
    "# Strip and split vector data into list of lists [chem, vec]\n",
    "text = text.replace('\\n', '')\n",
    "text = text.split(']')\n",
    "text = [item.strip().split(' [') for item in text]\n",
    "\n",
    "# Turn it into a data frame\n",
    "df = pd.DataFrame(text)\n",
    "df.columns = ['ID', 'Vector']\n",
    "\n",
    "# Clean\n",
    "df = df.dropna()\n",
    "df['Vector'] = df.Vector.map(lambda x: x.rstrip().lstrip().replace('    ', ' ').replace('   ', ' ').replace('  ', ' ').replace(' ', ','))\n",
    "\n",
    "# Turn vector column into a list\n",
    "df['Vector'] = df.Vector.map(lambda x: x.split(','))\n",
    "\n",
    "# Make a map of it (DisID to DOvec)\n",
    "entity_to_PROvec = dict(zip(df.ID, df.Vector)) "
   ]
  },
  {
   "cell_type": "code",
   "execution_count": 75,
   "metadata": {},
   "outputs": [],
   "source": [
    "sider_mod['dis_PROvec'] = sider_mod.MESHid.map(lambda x: entity_to_PROvec.get(x))\n",
    "sider_mod['chem_PROvec'] = sider_mod.ChemicalID.map(lambda x: entity_to_PROvec.get(x))"
   ]
  },
  {
   "cell_type": "code",
   "execution_count": 76,
   "metadata": {},
   "outputs": [],
   "source": [
    "# Add empty vecs in place of None\n",
    "empty_vec = [0] * 200\n",
    "\n",
    "for col in ['dis_PROvec', 'chem_PROvec']:\n",
    "    sider_mod[col] = sider_mod[col].map(lambda x: empty_vec if x is None else x)"
   ]
  },
  {
   "cell_type": "code",
   "execution_count": 77,
   "metadata": {},
   "outputs": [],
   "source": [
    "# Change the vec elements from string to floats\n",
    "sider_mod['dis_PROvec'] = sider_mod.dis_PROvec.map(lambda x: [float(i) for i in x])\n",
    "sider_mod['chem_PROvec'] = sider_mod.chem_PROvec.map(lambda x: [float(i) for i in x])"
   ]
  },
  {
   "cell_type": "code",
   "execution_count": 78,
   "metadata": {},
   "outputs": [
    {
     "data": {
      "text/html": [
       "<div>\n",
       "<style scoped>\n",
       "    .dataframe tbody tr th:only-of-type {\n",
       "        vertical-align: middle;\n",
       "    }\n",
       "\n",
       "    .dataframe tbody tr th {\n",
       "        vertical-align: top;\n",
       "    }\n",
       "\n",
       "    .dataframe thead th {\n",
       "        text-align: right;\n",
       "    }\n",
       "</style>\n",
       "<table border=\"1\" class=\"dataframe\">\n",
       "  <thead>\n",
       "    <tr style=\"text-align: right;\">\n",
       "      <th></th>\n",
       "      <th>CID</th>\n",
       "      <th>MESH</th>\n",
       "      <th>ChemicalID</th>\n",
       "      <th>MESHid</th>\n",
       "      <th>ChemGoVec</th>\n",
       "      <th>DisGoVec</th>\n",
       "      <th>Correlation</th>\n",
       "      <th>DOID</th>\n",
       "      <th>disPhenVecMP</th>\n",
       "      <th>disPhenVecHP</th>\n",
       "      <th>CHEBIvec</th>\n",
       "      <th>DOvec</th>\n",
       "      <th>dis_HINOvec</th>\n",
       "      <th>chem_HINOvec</th>\n",
       "      <th>dis_PROvec</th>\n",
       "      <th>chem_PROvec</th>\n",
       "    </tr>\n",
       "  </thead>\n",
       "  <tbody>\n",
       "    <tr>\n",
       "      <th>132</th>\n",
       "      <td>CID100002662</td>\n",
       "      <td>Pulmonary Embolism</td>\n",
       "      <td>D000068579</td>\n",
       "      <td>MESH:D011655</td>\n",
       "      <td>[0.00211891, 0.07899864, 0.02812183, -0.078234...</td>\n",
       "      <td>[-0.09822737, 0.0335036, -0.05875964, -0.03581...</td>\n",
       "      <td>1</td>\n",
       "      <td>DOID_9477</td>\n",
       "      <td>[0.02974856, 0.10559778, 0.04610523, -0.100018...</td>\n",
       "      <td>[6.53055310e-02, 1.49755850e-01, 4.99520116e-0...</td>\n",
       "      <td>[0, 0, 0, 0, 0, 0, 0, 0, 0, 0, 0, 0, 0, 0, 0, ...</td>\n",
       "      <td>[0.0156938918, 0.0867972076, 0.0221232176, -0....</td>\n",
       "      <td>[0.0, 0.0, 0.0, 0.0, 0.0, 0.0, 0.0, 0.0, 0.0, ...</td>\n",
       "      <td>[0.0, 0.0, 0.0, 0.0, 0.0, 0.0, 0.0, 0.0, 0.0, ...</td>\n",
       "      <td>[0.00525787473, 0.0360455811, 0.0133509124, -0...</td>\n",
       "      <td>[0.06025169, 0.15407243, 0.07565367, -0.141278...</td>\n",
       "    </tr>\n",
       "    <tr>\n",
       "      <th>644</th>\n",
       "      <td>CID100027991</td>\n",
       "      <td>Hallucinations</td>\n",
       "      <td>D003894</td>\n",
       "      <td>MESH:D006212</td>\n",
       "      <td>[4.54983348e-03, 1.33685231e-01, 3.01043820e-0...</td>\n",
       "      <td>[1.38351833e-02, 1.00146689e-01, -1.20333534e-...</td>\n",
       "      <td>1</td>\n",
       "      <td>NaN</td>\n",
       "      <td>[0, 0, 0, 0, 0, 0, 0, 0, 0, 0, 0, 0, 0, 0, 0, ...</td>\n",
       "      <td>[0, 0, 0, 0, 0, 0, 0, 0, 0, 0, 0, 0, 0, 0, 0, ...</td>\n",
       "      <td>[1.65594146e-02, 4.69885767e-02, 2.39662267e-0...</td>\n",
       "      <td>[0.00156835, 0.03837546, 0.02150043, -0.032972...</td>\n",
       "      <td>[0.0, 0.0, 0.0, 0.0, 0.0, 0.0, 0.0, 0.0, 0.0, ...</td>\n",
       "      <td>[0.0067672865, 0.046747178, 0.017236983, -0.03...</td>\n",
       "      <td>[0.0143580418, 0.0460643508, 0.0373494849, -0....</td>\n",
       "      <td>[0.01404202, 0.03400609, 0.02124024, -0.044419...</td>\n",
       "    </tr>\n",
       "    <tr>\n",
       "      <th>765</th>\n",
       "      <td>CID100068740</td>\n",
       "      <td>Pain</td>\n",
       "      <td>C088658</td>\n",
       "      <td>MESH:D010146</td>\n",
       "      <td>[-0.0192352, 0.12388816, 0.05082998, -0.121224...</td>\n",
       "      <td>[-7.52816349e-03, 9.87071991e-02, -3.51563394e...</td>\n",
       "      <td>1</td>\n",
       "      <td>DOID_0060164</td>\n",
       "      <td>[0.020703, 0.10425372, 0.06019993, -0.10321342...</td>\n",
       "      <td>[0.0870415, 0.18313521, 0.04869605, -0.1033120...</td>\n",
       "      <td>[0.02015562, 0.06090377, 0.02371735, -0.060520...</td>\n",
       "      <td>[0.0221906733, 0.0621656179, 0.0342238694, -0....</td>\n",
       "      <td>[0.0179795623, 0.0671450794, 0.0407162756, -0....</td>\n",
       "      <td>[0.01677481, 0.04568736, 0.01816869, -0.042157...</td>\n",
       "      <td>[0.01871282, 0.08193666, 0.05205654, -0.092367...</td>\n",
       "      <td>[0.04957327, 0.10940924, 0.08774322, -0.119886...</td>\n",
       "    </tr>\n",
       "    <tr>\n",
       "      <th>1832</th>\n",
       "      <td>NaN</td>\n",
       "      <td>Acidosis</td>\n",
       "      <td>C520809</td>\n",
       "      <td>MESH:D000138</td>\n",
       "      <td>[2.99941711e-02, 1.30992413e-01, -9.42363346e-...</td>\n",
       "      <td>[1.93286445e-02, 1.23003952e-01, 4.37963828e-0...</td>\n",
       "      <td>0</td>\n",
       "      <td>DOID_0050758</td>\n",
       "      <td>[2.40530279e-02, 1.35453522e-01, 6.51230440e-0...</td>\n",
       "      <td>[4.35994193e-02, 1.77338064e-01, 6.37756735e-0...</td>\n",
       "      <td>[0, 0, 0, 0, 0, 0, 0, 0, 0, 0, 0, 0, 0, 0, 0, ...</td>\n",
       "      <td>[0.01223107, 0.05447845, 0.03592256, -0.060255...</td>\n",
       "      <td>[0.0152816297, 0.045640111, 0.0169180427, -0.0...</td>\n",
       "      <td>[0.0156728588, 0.0393506847, 0.0277857389, -0....</td>\n",
       "      <td>[0.00258124014, 0.0349172056, 0.0179528464, -0...</td>\n",
       "      <td>[0.00267311581, 0.0269108973, 0.0183382072, -0...</td>\n",
       "    </tr>\n",
       "    <tr>\n",
       "      <th>1003</th>\n",
       "      <td>NaN</td>\n",
       "      <td>Fibrosis</td>\n",
       "      <td>C056516</td>\n",
       "      <td>MESH:D005355</td>\n",
       "      <td>[-0.10259372, 0.03158976, -0.13119341, -0.0748...</td>\n",
       "      <td>[-0.01172249, 0.13109156, 0.00888951, -0.15944...</td>\n",
       "      <td>0</td>\n",
       "      <td>NaN</td>\n",
       "      <td>[0, 0, 0, 0, 0, 0, 0, 0, 0, 0, 0, 0, 0, 0, 0, ...</td>\n",
       "      <td>[0, 0, 0, 0, 0, 0, 0, 0, 0, 0, 0, 0, 0, 0, 0, ...</td>\n",
       "      <td>[0.01953488, 0.05832418, 0.0215925, -0.0734598...</td>\n",
       "      <td>[0.011856921, 0.0321784094, 0.0178192798, -0.0...</td>\n",
       "      <td>[0.0150483958, 0.0510327779, 0.0197701622, -0....</td>\n",
       "      <td>[0.0150026493, 0.0817026943, 0.0370404795, -0....</td>\n",
       "      <td>[0.0154910693, 0.0648032054, 0.0405438244, -0....</td>\n",
       "      <td>[0.03244242, 0.11643924, 0.07927948, -0.103942...</td>\n",
       "    </tr>\n",
       "    <tr>\n",
       "      <th>805</th>\n",
       "      <td>CID100082146</td>\n",
       "      <td>Hypersensitivity</td>\n",
       "      <td>C095105</td>\n",
       "      <td>MESH:D006967</td>\n",
       "      <td>[-1.14149982e-02, 1.23534575e-01, 4.01898324e-...</td>\n",
       "      <td>[0.01048629, 0.12093927, 0.02683925, -0.134863...</td>\n",
       "      <td>1</td>\n",
       "      <td>DOID_1205</td>\n",
       "      <td>[3.05852331e-02, 1.36921287e-01, 5.83447553e-0...</td>\n",
       "      <td>[4.44701687e-02, 1.48065820e-01, 7.01489896e-0...</td>\n",
       "      <td>[0.01104784, 0.0811751, 0.02639464, -0.0813666...</td>\n",
       "      <td>[0.0323501714, 0.0718148202, 0.0226857904, -0....</td>\n",
       "      <td>[0.0131735466, 0.0484740399, 0.0218853857, -0....</td>\n",
       "      <td>[0.0, 0.0, 0.0, 0.0, 0.0, 0.0, 0.0, 0.0, 0.0, ...</td>\n",
       "      <td>[0.0108111752, 0.0490850098, 0.038106367, -0.0...</td>\n",
       "      <td>[-0.00286633009, 0.0755436048, 0.0605314672, -...</td>\n",
       "    </tr>\n",
       "    <tr>\n",
       "      <th>1119</th>\n",
       "      <td>NaN</td>\n",
       "      <td>Dystonia</td>\n",
       "      <td>C108128</td>\n",
       "      <td>MESH:D004421</td>\n",
       "      <td>[3.36659923e-02, 1.05258629e-01, -3.89491096e-...</td>\n",
       "      <td>[2.21940875e-02, 1.03328131e-01, 4.64014374e-0...</td>\n",
       "      <td>0</td>\n",
       "      <td>DOID_543</td>\n",
       "      <td>[0.03356696, 0.1378114, 0.0644403, -0.12334467...</td>\n",
       "      <td>[4.53660190e-02, 1.53857276e-01, 5.68589233e-0...</td>\n",
       "      <td>[0, 0, 0, 0, 0, 0, 0, 0, 0, 0, 0, 0, 0, 0, 0, ...</td>\n",
       "      <td>[0.0312586166, 0.0807410479, 0.0347139612, -0....</td>\n",
       "      <td>[0.0188403018, 0.0431822352, 0.0268400479, -0....</td>\n",
       "      <td>[0.01628698, 0.04260838, 0.01876359, -0.041118...</td>\n",
       "      <td>[0.0148099, 0.0431435779, 0.0281828679, -0.040...</td>\n",
       "      <td>[0.00090492, 0.05994264, 0.03233665, -0.069343...</td>\n",
       "    </tr>\n",
       "    <tr>\n",
       "      <th>603</th>\n",
       "      <td>CID100005978</td>\n",
       "      <td>Intestinal Obstruction</td>\n",
       "      <td>D014750</td>\n",
       "      <td>MESH:D007415</td>\n",
       "      <td>[0.02965491, 0.10880372, 0.04334658, -0.113439...</td>\n",
       "      <td>[-0.00746287, 0.14074765, -0.00134251, -0.1557...</td>\n",
       "      <td>1</td>\n",
       "      <td>DOID_8437</td>\n",
       "      <td>[0.02977912, 0.11603101, 0.05039036, -0.108854...</td>\n",
       "      <td>[0.04598249, 0.16349453, 0.06612629, -0.132812...</td>\n",
       "      <td>[4.79505537e-03, 9.33838561e-02, 5.36614992e-0...</td>\n",
       "      <td>[0.0280748326, 0.0803671926, 0.0389995761, -0....</td>\n",
       "      <td>[0.00974175986, 0.0590910651, 0.0298414342, -0...</td>\n",
       "      <td>[0.0, 0.0, 0.0, 0.0, 0.0, 0.0, 0.0, 0.0, 0.0, ...</td>\n",
       "      <td>[0.03160229, 0.07520672, 0.0484142, -0.0722283...</td>\n",
       "      <td>[0.01587362, 0.03591713, 0.02736461, -0.036889...</td>\n",
       "    </tr>\n",
       "    <tr>\n",
       "      <th>393</th>\n",
       "      <td>CID100003386</td>\n",
       "      <td>Hyperuricemia</td>\n",
       "      <td>D005473</td>\n",
       "      <td>MESH:D033461</td>\n",
       "      <td>[-0.17009397, 0.01808067, -0.3474555, -0.16473...</td>\n",
       "      <td>[1.63829103e-02, 1.21408507e-01, -3.25293676e-...</td>\n",
       "      <td>1</td>\n",
       "      <td>DOID_1920</td>\n",
       "      <td>[0.02442656, 0.14061204, 0.05963011, -0.115171...</td>\n",
       "      <td>[0.03530318, 0.16593891, 0.05585731, -0.125786...</td>\n",
       "      <td>[0.00727077, 0.05299819, 0.02481131, -0.049112...</td>\n",
       "      <td>[0.0183377, 0.07108285, 0.03803683, -0.0703049...</td>\n",
       "      <td>[0.0, 0.0, 0.0, 0.0, 0.0, 0.0, 0.0, 0.0, 0.0, ...</td>\n",
       "      <td>[0.0363478102, 0.144311264, 0.0613140389, -0.1...</td>\n",
       "      <td>[0.00263378, 0.04712868, 0.0265272, -0.0483419...</td>\n",
       "      <td>[0.0374873, 0.17948729, 0.17558731, -0.1991960...</td>\n",
       "    </tr>\n",
       "    <tr>\n",
       "      <th>1790</th>\n",
       "      <td>NaN</td>\n",
       "      <td>Subarachnoid Hemorrhage</td>\n",
       "      <td>C010792</td>\n",
       "      <td>MESH:D013345</td>\n",
       "      <td>[0.01489374, 0.11761086, 0.04951559, -0.110714...</td>\n",
       "      <td>[-8.19592327e-02, 1.09936357e-01, -7.64746219e...</td>\n",
       "      <td>0</td>\n",
       "      <td>DOID_0060228</td>\n",
       "      <td>[0.01079678, 0.09617513, 0.0421772, -0.1027466...</td>\n",
       "      <td>[0.05360616, 0.1687279, 0.0551669, -0.11726358...</td>\n",
       "      <td>[0, 0, 0, 0, 0, 0, 0, 0, 0, 0, 0, 0, 0, 0, 0, ...</td>\n",
       "      <td>[0.02268115, 0.06369793, 0.02509757, -0.040526...</td>\n",
       "      <td>[0.00925999, 0.0410583, 0.01971564, -0.0444400...</td>\n",
       "      <td>[0.0077734822, 0.040110637, 0.017096259, -0.03...</td>\n",
       "      <td>[0.00887711, 0.04698301, 0.02177738, -0.030554...</td>\n",
       "      <td>[0.00637148, 0.05133118, 0.02642822, -0.055287...</td>\n",
       "    </tr>\n",
       "  </tbody>\n",
       "</table>\n",
       "</div>"
      ],
      "text/plain": [
       "               CID                     MESH  ChemicalID        MESHid  \\\n",
       "132   CID100002662       Pulmonary Embolism  D000068579  MESH:D011655   \n",
       "644   CID100027991           Hallucinations     D003894  MESH:D006212   \n",
       "765   CID100068740                     Pain     C088658  MESH:D010146   \n",
       "1832           NaN                 Acidosis     C520809  MESH:D000138   \n",
       "1003           NaN                 Fibrosis     C056516  MESH:D005355   \n",
       "805   CID100082146         Hypersensitivity     C095105  MESH:D006967   \n",
       "1119           NaN                 Dystonia     C108128  MESH:D004421   \n",
       "603   CID100005978   Intestinal Obstruction     D014750  MESH:D007415   \n",
       "393   CID100003386            Hyperuricemia     D005473  MESH:D033461   \n",
       "1790           NaN  Subarachnoid Hemorrhage     C010792  MESH:D013345   \n",
       "\n",
       "                                              ChemGoVec  \\\n",
       "132   [0.00211891, 0.07899864, 0.02812183, -0.078234...   \n",
       "644   [4.54983348e-03, 1.33685231e-01, 3.01043820e-0...   \n",
       "765   [-0.0192352, 0.12388816, 0.05082998, -0.121224...   \n",
       "1832  [2.99941711e-02, 1.30992413e-01, -9.42363346e-...   \n",
       "1003  [-0.10259372, 0.03158976, -0.13119341, -0.0748...   \n",
       "805   [-1.14149982e-02, 1.23534575e-01, 4.01898324e-...   \n",
       "1119  [3.36659923e-02, 1.05258629e-01, -3.89491096e-...   \n",
       "603   [0.02965491, 0.10880372, 0.04334658, -0.113439...   \n",
       "393   [-0.17009397, 0.01808067, -0.3474555, -0.16473...   \n",
       "1790  [0.01489374, 0.11761086, 0.04951559, -0.110714...   \n",
       "\n",
       "                                               DisGoVec  Correlation  \\\n",
       "132   [-0.09822737, 0.0335036, -0.05875964, -0.03581...            1   \n",
       "644   [1.38351833e-02, 1.00146689e-01, -1.20333534e-...            1   \n",
       "765   [-7.52816349e-03, 9.87071991e-02, -3.51563394e...            1   \n",
       "1832  [1.93286445e-02, 1.23003952e-01, 4.37963828e-0...            0   \n",
       "1003  [-0.01172249, 0.13109156, 0.00888951, -0.15944...            0   \n",
       "805   [0.01048629, 0.12093927, 0.02683925, -0.134863...            1   \n",
       "1119  [2.21940875e-02, 1.03328131e-01, 4.64014374e-0...            0   \n",
       "603   [-0.00746287, 0.14074765, -0.00134251, -0.1557...            1   \n",
       "393   [1.63829103e-02, 1.21408507e-01, -3.25293676e-...            1   \n",
       "1790  [-8.19592327e-02, 1.09936357e-01, -7.64746219e...            0   \n",
       "\n",
       "              DOID                                       disPhenVecMP  \\\n",
       "132      DOID_9477  [0.02974856, 0.10559778, 0.04610523, -0.100018...   \n",
       "644            NaN  [0, 0, 0, 0, 0, 0, 0, 0, 0, 0, 0, 0, 0, 0, 0, ...   \n",
       "765   DOID_0060164  [0.020703, 0.10425372, 0.06019993, -0.10321342...   \n",
       "1832  DOID_0050758  [2.40530279e-02, 1.35453522e-01, 6.51230440e-0...   \n",
       "1003           NaN  [0, 0, 0, 0, 0, 0, 0, 0, 0, 0, 0, 0, 0, 0, 0, ...   \n",
       "805      DOID_1205  [3.05852331e-02, 1.36921287e-01, 5.83447553e-0...   \n",
       "1119      DOID_543  [0.03356696, 0.1378114, 0.0644403, -0.12334467...   \n",
       "603      DOID_8437  [0.02977912, 0.11603101, 0.05039036, -0.108854...   \n",
       "393      DOID_1920  [0.02442656, 0.14061204, 0.05963011, -0.115171...   \n",
       "1790  DOID_0060228  [0.01079678, 0.09617513, 0.0421772, -0.1027466...   \n",
       "\n",
       "                                           disPhenVecHP  \\\n",
       "132   [6.53055310e-02, 1.49755850e-01, 4.99520116e-0...   \n",
       "644   [0, 0, 0, 0, 0, 0, 0, 0, 0, 0, 0, 0, 0, 0, 0, ...   \n",
       "765   [0.0870415, 0.18313521, 0.04869605, -0.1033120...   \n",
       "1832  [4.35994193e-02, 1.77338064e-01, 6.37756735e-0...   \n",
       "1003  [0, 0, 0, 0, 0, 0, 0, 0, 0, 0, 0, 0, 0, 0, 0, ...   \n",
       "805   [4.44701687e-02, 1.48065820e-01, 7.01489896e-0...   \n",
       "1119  [4.53660190e-02, 1.53857276e-01, 5.68589233e-0...   \n",
       "603   [0.04598249, 0.16349453, 0.06612629, -0.132812...   \n",
       "393   [0.03530318, 0.16593891, 0.05585731, -0.125786...   \n",
       "1790  [0.05360616, 0.1687279, 0.0551669, -0.11726358...   \n",
       "\n",
       "                                               CHEBIvec  \\\n",
       "132   [0, 0, 0, 0, 0, 0, 0, 0, 0, 0, 0, 0, 0, 0, 0, ...   \n",
       "644   [1.65594146e-02, 4.69885767e-02, 2.39662267e-0...   \n",
       "765   [0.02015562, 0.06090377, 0.02371735, -0.060520...   \n",
       "1832  [0, 0, 0, 0, 0, 0, 0, 0, 0, 0, 0, 0, 0, 0, 0, ...   \n",
       "1003  [0.01953488, 0.05832418, 0.0215925, -0.0734598...   \n",
       "805   [0.01104784, 0.0811751, 0.02639464, -0.0813666...   \n",
       "1119  [0, 0, 0, 0, 0, 0, 0, 0, 0, 0, 0, 0, 0, 0, 0, ...   \n",
       "603   [4.79505537e-03, 9.33838561e-02, 5.36614992e-0...   \n",
       "393   [0.00727077, 0.05299819, 0.02481131, -0.049112...   \n",
       "1790  [0, 0, 0, 0, 0, 0, 0, 0, 0, 0, 0, 0, 0, 0, 0, ...   \n",
       "\n",
       "                                                  DOvec  \\\n",
       "132   [0.0156938918, 0.0867972076, 0.0221232176, -0....   \n",
       "644   [0.00156835, 0.03837546, 0.02150043, -0.032972...   \n",
       "765   [0.0221906733, 0.0621656179, 0.0342238694, -0....   \n",
       "1832  [0.01223107, 0.05447845, 0.03592256, -0.060255...   \n",
       "1003  [0.011856921, 0.0321784094, 0.0178192798, -0.0...   \n",
       "805   [0.0323501714, 0.0718148202, 0.0226857904, -0....   \n",
       "1119  [0.0312586166, 0.0807410479, 0.0347139612, -0....   \n",
       "603   [0.0280748326, 0.0803671926, 0.0389995761, -0....   \n",
       "393   [0.0183377, 0.07108285, 0.03803683, -0.0703049...   \n",
       "1790  [0.02268115, 0.06369793, 0.02509757, -0.040526...   \n",
       "\n",
       "                                            dis_HINOvec  \\\n",
       "132   [0.0, 0.0, 0.0, 0.0, 0.0, 0.0, 0.0, 0.0, 0.0, ...   \n",
       "644   [0.0, 0.0, 0.0, 0.0, 0.0, 0.0, 0.0, 0.0, 0.0, ...   \n",
       "765   [0.0179795623, 0.0671450794, 0.0407162756, -0....   \n",
       "1832  [0.0152816297, 0.045640111, 0.0169180427, -0.0...   \n",
       "1003  [0.0150483958, 0.0510327779, 0.0197701622, -0....   \n",
       "805   [0.0131735466, 0.0484740399, 0.0218853857, -0....   \n",
       "1119  [0.0188403018, 0.0431822352, 0.0268400479, -0....   \n",
       "603   [0.00974175986, 0.0590910651, 0.0298414342, -0...   \n",
       "393   [0.0, 0.0, 0.0, 0.0, 0.0, 0.0, 0.0, 0.0, 0.0, ...   \n",
       "1790  [0.00925999, 0.0410583, 0.01971564, -0.0444400...   \n",
       "\n",
       "                                           chem_HINOvec  \\\n",
       "132   [0.0, 0.0, 0.0, 0.0, 0.0, 0.0, 0.0, 0.0, 0.0, ...   \n",
       "644   [0.0067672865, 0.046747178, 0.017236983, -0.03...   \n",
       "765   [0.01677481, 0.04568736, 0.01816869, -0.042157...   \n",
       "1832  [0.0156728588, 0.0393506847, 0.0277857389, -0....   \n",
       "1003  [0.0150026493, 0.0817026943, 0.0370404795, -0....   \n",
       "805   [0.0, 0.0, 0.0, 0.0, 0.0, 0.0, 0.0, 0.0, 0.0, ...   \n",
       "1119  [0.01628698, 0.04260838, 0.01876359, -0.041118...   \n",
       "603   [0.0, 0.0, 0.0, 0.0, 0.0, 0.0, 0.0, 0.0, 0.0, ...   \n",
       "393   [0.0363478102, 0.144311264, 0.0613140389, -0.1...   \n",
       "1790  [0.0077734822, 0.040110637, 0.017096259, -0.03...   \n",
       "\n",
       "                                             dis_PROvec  \\\n",
       "132   [0.00525787473, 0.0360455811, 0.0133509124, -0...   \n",
       "644   [0.0143580418, 0.0460643508, 0.0373494849, -0....   \n",
       "765   [0.01871282, 0.08193666, 0.05205654, -0.092367...   \n",
       "1832  [0.00258124014, 0.0349172056, 0.0179528464, -0...   \n",
       "1003  [0.0154910693, 0.0648032054, 0.0405438244, -0....   \n",
       "805   [0.0108111752, 0.0490850098, 0.038106367, -0.0...   \n",
       "1119  [0.0148099, 0.0431435779, 0.0281828679, -0.040...   \n",
       "603   [0.03160229, 0.07520672, 0.0484142, -0.0722283...   \n",
       "393   [0.00263378, 0.04712868, 0.0265272, -0.0483419...   \n",
       "1790  [0.00887711, 0.04698301, 0.02177738, -0.030554...   \n",
       "\n",
       "                                            chem_PROvec  \n",
       "132   [0.06025169, 0.15407243, 0.07565367, -0.141278...  \n",
       "644   [0.01404202, 0.03400609, 0.02124024, -0.044419...  \n",
       "765   [0.04957327, 0.10940924, 0.08774322, -0.119886...  \n",
       "1832  [0.00267311581, 0.0269108973, 0.0183382072, -0...  \n",
       "1003  [0.03244242, 0.11643924, 0.07927948, -0.103942...  \n",
       "805   [-0.00286633009, 0.0755436048, 0.0605314672, -...  \n",
       "1119  [0.00090492, 0.05994264, 0.03233665, -0.069343...  \n",
       "603   [0.01587362, 0.03591713, 0.02736461, -0.036889...  \n",
       "393   [0.0374873, 0.17948729, 0.17558731, -0.1991960...  \n",
       "1790  [0.00637148, 0.05133118, 0.02642822, -0.055287...  "
      ]
     },
     "execution_count": 78,
     "metadata": {},
     "output_type": "execute_result"
    }
   ],
   "source": [
    "sider_mod.sample(10)"
   ]
  },
  {
   "cell_type": "markdown",
   "metadata": {},
   "source": [
    "## SIDER Run NN"
   ]
  },
  {
   "cell_type": "code",
   "execution_count": 170,
   "metadata": {},
   "outputs": [
    {
     "name": "stdout",
     "output_type": "stream",
     "text": [
      "WARNING:tensorflow:No training configuration found in save file: the model was *not* compiled. Compile it manually.\n"
     ]
    }
   ],
   "source": [
    "# Load model (saved in opa-nn notebook)\n",
    "from tensorflow.keras.models import load_model\n",
    "# nn14022019auc921GoPhenCHEdoHI\n",
    "# nn15022019auc937GoPhenCHEdoHIpro\n",
    "# nn14022019auc921GoPhenCHEdoHI --> .586\n",
    "# nn15022019auc92GoPhenCHEdoHIpro --> .50\n",
    "model = load_model('../opa/nn15022019auc885GoHINOphen.h5')"
   ]
  },
  {
   "cell_type": "code",
   "execution_count": 171,
   "metadata": {},
   "outputs": [],
   "source": [
    "# Now let's see if saving and loading the model worked\n",
    "# Create a vector from go vec + empty vecs for the other desired vecs\n",
    "# Use NN to make predictions\n",
    "# Evaluate these"
   ]
  },
  {
   "cell_type": "code",
   "execution_count": 172,
   "metadata": {},
   "outputs": [
    {
     "name": "stdout",
     "output_type": "stream",
     "text": [
      "_________________________________________________________________\n",
      "Layer (type)                 Output Shape              Param #   \n",
      "=================================================================\n",
      "flatten_3 (Flatten)          (None, 800)               0         \n",
      "_________________________________________________________________\n",
      "dense_12 (Dense)             (None, 200)               160200    \n",
      "_________________________________________________________________\n",
      "dense_13 (Dense)             (None, 60)                12060     \n",
      "_________________________________________________________________\n",
      "dense_14 (Dense)             (None, 10)                610       \n",
      "_________________________________________________________________\n",
      "dense_15 (Dense)             (None, 1)                 11        \n",
      "=================================================================\n",
      "Total params: 172,881\n",
      "Trainable params: 172,881\n",
      "Non-trainable params: 0\n",
      "_________________________________________________________________\n"
     ]
    }
   ],
   "source": [
    "model.summary()"
   ]
  },
  {
   "cell_type": "markdown",
   "metadata": {},
   "source": [
    "### Preprocess vecs"
   ]
  },
  {
   "cell_type": "code",
   "execution_count": 173,
   "metadata": {},
   "outputs": [],
   "source": [
    "# # I thiiink that this model expects input shape 1600, so add empty vecs for the cols I don't have yet\n",
    "# empty_vec = [0] * 200\n",
    "\n",
    "# cols_to_do = ['disPhenVecMP', 'disPhenVecHP', 'CHEBIvec', 'DOvec', 'dis_HINOvec', 'chem_HINOvec', ]\n",
    "\n",
    "# for col in cols_to_do:\n",
    "#     sider_mod[col] = np.nan\n",
    "#     sider_mod[col] = sider_mod[col].map(lambda x: empty_vec)"
   ]
  },
  {
   "cell_type": "code",
   "execution_count": 174,
   "metadata": {},
   "outputs": [],
   "source": [
    "# Need to turn all to float\n",
    "all_vecs = ['ChemGoVec', 'DisGoVec', 'disPhenVecMP', 'disPhenVecHP', 'CHEBIvec', 'DOvec', 'dis_HINOvec', 'chem_HINOvec', ]\n",
    "\n",
    "for col in all_vecs:\n",
    "    sider_mod[col] = sider_mod[col].map(lambda x: [float(i) for i in x])"
   ]
  },
  {
   "cell_type": "code",
   "execution_count": 175,
   "metadata": {},
   "outputs": [
    {
     "name": "stdout",
     "output_type": "stream",
     "text": [
      "881\n",
      "776\n",
      "(1657, 16)\n"
     ]
    }
   ],
   "source": [
    "print(sider_mod[sider_mod.Correlation == 1].shape[0])\n",
    "print(sider_mod[sider_mod.Correlation == 0].shape[0])\n",
    "print(sider_mod.shape)"
   ]
  },
  {
   "cell_type": "code",
   "execution_count": 176,
   "metadata": {},
   "outputs": [
    {
     "data": {
      "text/html": [
       "<div>\n",
       "<style scoped>\n",
       "    .dataframe tbody tr th:only-of-type {\n",
       "        vertical-align: middle;\n",
       "    }\n",
       "\n",
       "    .dataframe tbody tr th {\n",
       "        vertical-align: top;\n",
       "    }\n",
       "\n",
       "    .dataframe thead th {\n",
       "        text-align: right;\n",
       "    }\n",
       "</style>\n",
       "<table border=\"1\" class=\"dataframe\">\n",
       "  <thead>\n",
       "    <tr style=\"text-align: right;\">\n",
       "      <th></th>\n",
       "      <th>CID</th>\n",
       "      <th>MESH</th>\n",
       "      <th>ChemicalID</th>\n",
       "      <th>MESHid</th>\n",
       "      <th>ChemGoVec</th>\n",
       "      <th>DisGoVec</th>\n",
       "      <th>Correlation</th>\n",
       "      <th>DOID</th>\n",
       "      <th>disPhenVecMP</th>\n",
       "      <th>disPhenVecHP</th>\n",
       "      <th>CHEBIvec</th>\n",
       "      <th>DOvec</th>\n",
       "      <th>dis_HINOvec</th>\n",
       "      <th>chem_HINOvec</th>\n",
       "      <th>dis_PROvec</th>\n",
       "      <th>chem_PROvec</th>\n",
       "    </tr>\n",
       "  </thead>\n",
       "  <tbody>\n",
       "    <tr>\n",
       "      <th>604</th>\n",
       "      <td>CID100005978</td>\n",
       "      <td>Pneumonia</td>\n",
       "      <td>D014750</td>\n",
       "      <td>MESH:D011014</td>\n",
       "      <td>[0.02965491, 0.10880372, 0.04334658, -0.113439...</td>\n",
       "      <td>[-0.10981419, 0.02052441, -0.20415413, -0.0357...</td>\n",
       "      <td>1</td>\n",
       "      <td>DOID_552</td>\n",
       "      <td>[0.03461778, 0.12718843, 0.05749597, -0.114553...</td>\n",
       "      <td>[0.04328105, 0.15122803, 0.05721117, -0.111103...</td>\n",
       "      <td>[0.00479505537, 0.0933838561, 0.0536614992, -0...</td>\n",
       "      <td>[0.01394993, 0.06581535, 0.03156545, -0.063000...</td>\n",
       "      <td>[0.02849239, 0.10294926, 0.04649258, -0.099316...</td>\n",
       "      <td>[0.0, 0.0, 0.0, 0.0, 0.0, 0.0, 0.0, 0.0, 0.0, ...</td>\n",
       "      <td>[0.0310054, 0.11531034, 0.09447175, -0.1186431...</td>\n",
       "      <td>[0.01587362, 0.03591713, 0.02736461, -0.036889...</td>\n",
       "    </tr>\n",
       "    <tr>\n",
       "      <th>1704</th>\n",
       "      <td>NaN</td>\n",
       "      <td>Splenomegaly</td>\n",
       "      <td>D014750</td>\n",
       "      <td>MESH:D013163</td>\n",
       "      <td>[0.02965491, 0.10880372, 0.04334658, -0.113439...</td>\n",
       "      <td>[-0.0909505263, 0.0255884528, -0.221973851, -0...</td>\n",
       "      <td>0</td>\n",
       "      <td>NaN</td>\n",
       "      <td>[0.0, 0.0, 0.0, 0.0, 0.0, 0.0, 0.0, 0.0, 0.0, ...</td>\n",
       "      <td>[0.0, 0.0, 0.0, 0.0, 0.0, 0.0, 0.0, 0.0, 0.0, ...</td>\n",
       "      <td>[0.00479505537, 0.0933838561, 0.0536614992, -0...</td>\n",
       "      <td>[0.0059688692, 0.0401449874, 0.0278134961, -0....</td>\n",
       "      <td>[0.00985397, 0.05246037, 0.03201986, -0.052521...</td>\n",
       "      <td>[0.0, 0.0, 0.0, 0.0, 0.0, 0.0, 0.0, 0.0, 0.0, ...</td>\n",
       "      <td>[0.03021841, 0.09208963, 0.05248984, -0.095798...</td>\n",
       "      <td>[0.01587362, 0.03591713, 0.02736461, -0.036889...</td>\n",
       "    </tr>\n",
       "    <tr>\n",
       "      <th>665</th>\n",
       "      <td>CID100040973</td>\n",
       "      <td>Urticaria</td>\n",
       "      <td>D017135</td>\n",
       "      <td>MESH:D014581</td>\n",
       "      <td>[0.01088468, 0.09196024, 0.04892443, -0.092027...</td>\n",
       "      <td>[-0.15222934, 0.05032845, -0.21946777, -0.0608...</td>\n",
       "      <td>1</td>\n",
       "      <td>DOID_1555</td>\n",
       "      <td>[0.02479337, 0.11779714, 0.04578669, -0.118837...</td>\n",
       "      <td>[0.04158028, 0.15021026, 0.05177102, -0.128954...</td>\n",
       "      <td>[0.01064619, 0.05261517, 0.03455541, -0.053472...</td>\n",
       "      <td>[0.02033558, 0.07687499, 0.03339575, -0.061590...</td>\n",
       "      <td>[0.01310632, 0.08857583, 0.04576511, -0.082742...</td>\n",
       "      <td>[0.0, 0.0, 0.0, 0.0, 0.0, 0.0, 0.0, 0.0, 0.0, ...</td>\n",
       "      <td>[0.03658045, 0.11332764, 0.07062415, -0.121959...</td>\n",
       "      <td>[0.0057065, 0.04991744, 0.03463568, -0.0479967...</td>\n",
       "    </tr>\n",
       "  </tbody>\n",
       "</table>\n",
       "</div>"
      ],
      "text/plain": [
       "               CID          MESH ChemicalID        MESHid  \\\n",
       "604   CID100005978     Pneumonia    D014750  MESH:D011014   \n",
       "1704           NaN  Splenomegaly    D014750  MESH:D013163   \n",
       "665   CID100040973     Urticaria    D017135  MESH:D014581   \n",
       "\n",
       "                                              ChemGoVec  \\\n",
       "604   [0.02965491, 0.10880372, 0.04334658, -0.113439...   \n",
       "1704  [0.02965491, 0.10880372, 0.04334658, -0.113439...   \n",
       "665   [0.01088468, 0.09196024, 0.04892443, -0.092027...   \n",
       "\n",
       "                                               DisGoVec  Correlation  \\\n",
       "604   [-0.10981419, 0.02052441, -0.20415413, -0.0357...            1   \n",
       "1704  [-0.0909505263, 0.0255884528, -0.221973851, -0...            0   \n",
       "665   [-0.15222934, 0.05032845, -0.21946777, -0.0608...            1   \n",
       "\n",
       "           DOID                                       disPhenVecMP  \\\n",
       "604    DOID_552  [0.03461778, 0.12718843, 0.05749597, -0.114553...   \n",
       "1704        NaN  [0.0, 0.0, 0.0, 0.0, 0.0, 0.0, 0.0, 0.0, 0.0, ...   \n",
       "665   DOID_1555  [0.02479337, 0.11779714, 0.04578669, -0.118837...   \n",
       "\n",
       "                                           disPhenVecHP  \\\n",
       "604   [0.04328105, 0.15122803, 0.05721117, -0.111103...   \n",
       "1704  [0.0, 0.0, 0.0, 0.0, 0.0, 0.0, 0.0, 0.0, 0.0, ...   \n",
       "665   [0.04158028, 0.15021026, 0.05177102, -0.128954...   \n",
       "\n",
       "                                               CHEBIvec  \\\n",
       "604   [0.00479505537, 0.0933838561, 0.0536614992, -0...   \n",
       "1704  [0.00479505537, 0.0933838561, 0.0536614992, -0...   \n",
       "665   [0.01064619, 0.05261517, 0.03455541, -0.053472...   \n",
       "\n",
       "                                                  DOvec  \\\n",
       "604   [0.01394993, 0.06581535, 0.03156545, -0.063000...   \n",
       "1704  [0.0059688692, 0.0401449874, 0.0278134961, -0....   \n",
       "665   [0.02033558, 0.07687499, 0.03339575, -0.061590...   \n",
       "\n",
       "                                            dis_HINOvec  \\\n",
       "604   [0.02849239, 0.10294926, 0.04649258, -0.099316...   \n",
       "1704  [0.00985397, 0.05246037, 0.03201986, -0.052521...   \n",
       "665   [0.01310632, 0.08857583, 0.04576511, -0.082742...   \n",
       "\n",
       "                                           chem_HINOvec  \\\n",
       "604   [0.0, 0.0, 0.0, 0.0, 0.0, 0.0, 0.0, 0.0, 0.0, ...   \n",
       "1704  [0.0, 0.0, 0.0, 0.0, 0.0, 0.0, 0.0, 0.0, 0.0, ...   \n",
       "665   [0.0, 0.0, 0.0, 0.0, 0.0, 0.0, 0.0, 0.0, 0.0, ...   \n",
       "\n",
       "                                             dis_PROvec  \\\n",
       "604   [0.0310054, 0.11531034, 0.09447175, -0.1186431...   \n",
       "1704  [0.03021841, 0.09208963, 0.05248984, -0.095798...   \n",
       "665   [0.03658045, 0.11332764, 0.07062415, -0.121959...   \n",
       "\n",
       "                                            chem_PROvec  \n",
       "604   [0.01587362, 0.03591713, 0.02736461, -0.036889...  \n",
       "1704  [0.01587362, 0.03591713, 0.02736461, -0.036889...  \n",
       "665   [0.0057065, 0.04991744, 0.03463568, -0.0479967...  "
      ]
     },
     "execution_count": 176,
     "metadata": {},
     "output_type": "execute_result"
    }
   ],
   "source": [
    "sider_mod.sample(3)"
   ]
  },
  {
   "cell_type": "code",
   "execution_count": 177,
   "metadata": {},
   "outputs": [],
   "source": [
    "# # Optionally remove all empty vecs\n",
    "# empty_vec = [0.0] * 200\n",
    "\n",
    "# for col in ['DisGoVec', 'ChemGoVec', 'disPhenVecMP', 'disPhenVecHP', 'CHEBIvec', 'DOvec', 'dis_HINOvec', 'chem_HINOvec', 'dis_PROvec']:\n",
    "#     sider_mod[col] = sider_mod[col].map(lambda x: np.nan if x == empty_vec else x)\n",
    "    \n",
    "# sider_mod = sider_mod.dropna(subset=['DisGoVec', 'ChemGoVec', 'disPhenVecMP', 'disPhenVecHP', 'CHEBIvec', 'DOvec', 'dis_HINOvec', 'chem_HINOvec'])"
   ]
  },
  {
   "cell_type": "code",
   "execution_count": 178,
   "metadata": {},
   "outputs": [
    {
     "name": "stdout",
     "output_type": "stream",
     "text": [
      "881\n",
      "776\n",
      "(1657, 16)\n"
     ]
    }
   ],
   "source": [
    "print(sider_mod[sider_mod.Correlation == 1].shape[0])\n",
    "print(sider_mod[sider_mod.Correlation == 0].shape[0])\n",
    "print(sider_mod.shape)"
   ]
  },
  {
   "cell_type": "code",
   "execution_count": 179,
   "metadata": {},
   "outputs": [],
   "source": [
    "# # Download sider_mod to run NN on it in Opa-nn notebook (compare and see if model load component failing)\n",
    "# sider_mod.to_csv('Sider_val.csv')"
   ]
  },
  {
   "cell_type": "code",
   "execution_count": 180,
   "metadata": {},
   "outputs": [],
   "source": [
    "# # For Keras, need to turn inputs into numpy arrays instead of pandas df\n",
    "# # First create single np array of all vecs... not pretty:\n",
    "# Dvecs = pd.DataFrame(sider_mod.DisGoVec.values.tolist(), index= sider_mod.index)\n",
    "# Cvecs = pd.DataFrame(sider_mod.ChemGoVec.values.tolist(), index= sider_mod.index)\n",
    "# gofuncs = Dvecs.merge(Cvecs, how='outer', left_index=True, right_index=True)\n",
    "\n",
    "# DMPvecs = pd.DataFrame(sider_mod.disPhenVecHP.values.tolist(), index= sider_mod.index)\n",
    "# DHPvecs = pd.DataFrame(sider_mod.disPhenVecMP.values.tolist(), index= sider_mod.index)\n",
    "# disPvecs = DMPvecs.merge(DHPvecs, how='outer', left_index=True, right_index=True)\n",
    "\n",
    "# all_X = disPvecs.merge(gofuncs, how='outer', left_index=True, right_index=True)\n",
    "\n",
    "# CHEBvecs = pd.DataFrame(sider_mod.CHEBIvec.values.tolist(), index = sider_mod.index)\n",
    "# all_X = CHEBvecs.merge(all_X, how='outer', left_index=True, right_index=True)\n",
    "\n",
    "# DOvecs = pd.DataFrame(sider_mod.DOvec.values.tolist(), index = sider_mod.index)\n",
    "# all_X = DOvecs.merge(all_X, how='outer', left_index=True, right_index=True)\n",
    "\n",
    "# dHINOvecs = pd.DataFrame(sider_mod.dis_HINOvec.values.tolist(), index=sider_mod.index)\n",
    "# cHINOvecs = pd.DataFrame(sider_mod.chem_HINOvec.values.tolist(), index=sider_mod.index)\n",
    "# hinovecs = cHINOvecs.merge(dHINOvecs, how='outer', left_index=True, right_index=True)\n",
    "# all_X = all_X.merge(hinovecs, how='outer', left_index=True, right_index=True)\n",
    "\n",
    "# all_X = np.array(all_X)"
   ]
  },
  {
   "cell_type": "code",
   "execution_count": 181,
   "metadata": {},
   "outputs": [],
   "source": [
    "# # try out dropping na rows --> does of course boost AUC significantly\n",
    "# sider_mod = sider_mod.dropna()\n",
    "# # need to re-add uncorrelated rows tho if dropping na\n",
    "\n",
    "# # Add unrelated pairs - control obs\n",
    "# no_rows = (sider_mod.shape[0]-1)   # This is a parameter to be tuned --> how many uncorrelated pairs do we want\n",
    "# print('Original shape: ', sider_mod.shape)\n",
    "# sider_mod = sider_mod.drop_duplicates(subset=['ChemicalID', 'MESHid'], keep=False)\n",
    "# print('Shape after dropping duplicates: ', sider_mod.shape)\n",
    "\n",
    "# # Randomly select chems and diseases (as many as there are related pairs)\n",
    "# df_chems = sider_mod[['ChemicalID', 'ChemGoVec']].drop_duplicates(subset=['ChemicalID']).reset_index(drop=True)\n",
    "# df_dis = sider_mod[['MESHid', 'DisGoVec', 'MESH']].drop_duplicates(subset=['MESHid']).reset_index(drop=True)\n",
    "# df_chems.columns = ['ID', 'Vector']\n",
    "# df_dis.columns = ['ID', 'Vector', 'MESH']\n",
    "\n",
    "# # print('chem size: ', df_chems.shape[0])\n",
    "# # print('dis size: ', df_dis.shape[0])\n",
    "\n",
    "# no_chems = len(df_chems) - 1\n",
    "# no_dis = len(df_dis) - 1\n",
    "# rand_chems = np.random.choice(no_chems, no_rows, replace=True)\n",
    "# rand_dis = np.random.choice(no_dis, no_rows, replace=True)\n",
    "\n",
    "# # Add the new pairs as rows\n",
    "# for x in range(0, no_rows):\n",
    "#     int1 = rand_chems[x]\n",
    "#     int2 = rand_dis[x]\n",
    "#     chem, chemvec = df_chems.loc[int1, 'ID'], df_chems.loc[int1, 'Vector']\n",
    "#     dis, disvec, mesh = df_dis.loc[int2, 'ID'], df_dis.loc[int2, 'Vector'], df_dis.loc[int2, 'MESH']\n",
    "#     sider_mod = sider_mod.append({'ChemicalID':chem, 'MESHid':dis, 'ChemGoVec':chemvec, 'DisGoVec': disvec, 'Correlation':0, 'MESH': mesh}, ignore_index=True)\n",
    "\n",
    "# print('Shape after adding controls: ', sider_mod.shape)\n",
    "# # Drop any duplicates (removes known correlated pairs accidentally generated as uncorrelated)\n",
    "# sider_mod = sider_mod.drop_duplicates(subset=['ChemicalID', 'MESHid'], keep=False)\n",
    "# print('Shape after dropping duplicates: ', sider_mod.shape)\n",
    "\n",
    "# # and re add empty vecs\n",
    "# empty_vec = [0] * 200\n",
    "\n",
    "# sider_mod['disPhenVecMP'] = sider_mod.DOID.map(lambda x: dis_mpVec.get(x, empty_vec))\n",
    "# sider_mod['disPhenVecHP'] = sider_mod.DOID.map(lambda x: dis_hpVec.get(x, empty_vec))"
   ]
  },
  {
   "cell_type": "code",
   "execution_count": 182,
   "metadata": {},
   "outputs": [],
   "source": [
    "# # Version for phen and gofunc vecs\n",
    "# # For Keras, need to turn inputs into numpy arrays instead of pandas df\n",
    "# # First create single np array of all vecs... not pretty:\n",
    "# Dvecs = pd.DataFrame(sider_mod.DisGoVec.values.tolist(), index= sider_mod.index)\n",
    "# Cvecs = pd.DataFrame(sider_mod.ChemGoVec.values.tolist(), index= sider_mod.index)\n",
    "# gofuncs = Dvecs.merge(Cvecs, how='outer', left_index=True, right_index=True)\n",
    "\n",
    "# DMPvecs = pd.DataFrame(sider_mod.disPhenVecHP.values.tolist(), index= sider_mod.index)\n",
    "# DHPvecs = pd.DataFrame(sider_mod.disPhenVecMP.values.tolist(), index= sider_mod.index)\n",
    "# disPvecs = DMPvecs.merge(DHPvecs, how='outer', left_index=True, right_index=True)\n",
    "\n",
    "# all_X = disPvecs.merge(gofuncs, how='outer', left_index=True, right_index=True)\n",
    "\n",
    "# all_X = np.array(all_X)"
   ]
  },
  {
   "cell_type": "code",
   "execution_count": 183,
   "metadata": {},
   "outputs": [],
   "source": [
    "# # Version for HINO, DO, CHEBI, disphen and gofunc vecs\n",
    "# # For Keras, need to turn inputs into numpy arrays instead of pandas df\n",
    "# # First create single np array of all vecs... not pretty:\n",
    "# Dvecs = pd.DataFrame(sider_mod.DisGoVec.values.tolist(), index= sider_mod.index)\n",
    "# Cvecs = pd.DataFrame(sider_mod.ChemGoVec.values.tolist(), index= sider_mod.index)\n",
    "# gofuncs = Dvecs.merge(Cvecs, how='outer', left_index=True, right_index=True)\n",
    "\n",
    "# DMPvecs = pd.DataFrame(sider_mod.disPhenVecHP.values.tolist(), index= sider_mod.index)\n",
    "# DHPvecs = pd.DataFrame(sider_mod.disPhenVecMP.values.tolist(), index= sider_mod.index)\n",
    "# disPvecs = DMPvecs.merge(DHPvecs, how='outer', left_index=True, right_index=True)\n",
    "\n",
    "# all_X = disPvecs.merge(gofuncs, how='outer', left_index=True, right_index=True)\n",
    "\n",
    "# CHEBvecs = pd.DataFrame(sider_mod.CHEBIvec.values.tolist(), index = sider_mod.index)\n",
    "# all_X = CHEBvecs.merge(all_X, how='outer', left_index=True, right_index=True)\n",
    "\n",
    "# DOvecs = pd.DataFrame(sider_mod.DOvec.values.tolist(), index = sider_mod.index)\n",
    "# all_X = DOvecs.merge(all_X, how='outer', left_index=True, right_index=True)\n",
    "\n",
    "# dHINOvecs = pd.DataFrame(sider_mod.dis_HINOvec.values.tolist(), index=sider_mod.index)\n",
    "# cHINOvecs = pd.DataFrame(sider_mod.chem_HINOvec.values.tolist(), index=sider_mod.index)\n",
    "# hinovecs = cHINOvecs.merge(dHINOvecs, how='outer', left_index=True, right_index=True)\n",
    "# all_X = all_X.merge(hinovecs, how='outer', left_index=True, right_index=True)\n",
    "\n",
    "# all_X = np.array(all_X)"
   ]
  },
  {
   "cell_type": "code",
   "execution_count": 198,
   "metadata": {},
   "outputs": [],
   "source": [
    "# # Version for PRO, HINO, DO, CHEBI, disphen and gofunc vecs\n",
    "# # For Keras, need to turn inputs into numpy arrays instead of pandas df\n",
    "# # First create single np array of all vecs... not pretty:\n",
    "# Dvecs = pd.DataFrame(sider_mod.DisGoVec.values.tolist(), index= sider_mod.index)\n",
    "# Cvecs = pd.DataFrame(sider_mod.ChemGoVec.values.tolist(), index= sider_mod.index)\n",
    "# gofuncs = Dvecs.merge(Cvecs, how='outer', left_index=True, right_index=True)\n",
    "\n",
    "# DMPvecs = pd.DataFrame(sider_mod.disPhenVecHP.values.tolist(), index= sider_mod.index)\n",
    "# DHPvecs = pd.DataFrame(sider_mod.disPhenVecMP.values.tolist(), index= sider_mod.index)\n",
    "# disPvecs = DMPvecs.merge(DHPvecs, how='outer', left_index=True, right_index=True)\n",
    "\n",
    "# all_X = disPvecs.merge(gofuncs, how='outer', left_index=True, right_index=True)\n",
    "\n",
    "# CHEBvecs = pd.DataFrame(sider_mod.CHEBIvec.values.tolist(), index = sider_mod.index)\n",
    "# all_X = CHEBvecs.merge(all_X, how='outer', left_index=True, right_index=True)\n",
    "\n",
    "# DOvecs = pd.DataFrame(sider_mod.DOvec.values.tolist(), index = sider_mod.index)\n",
    "# all_X = DOvecs.merge(all_X, how='outer', left_index=True, right_index=True)\n",
    "\n",
    "# dHINOvecs = pd.DataFrame(sider_mod.dis_HINOvec.values.tolist(), index=sider_mod.index)\n",
    "# cHINOvecs = pd.DataFrame(sider_mod.chem_HINOvec.values.tolist(), index=sider_mod.index)\n",
    "# hinovecs = cHINOvecs.merge(dHINOvecs, how='outer', left_index=True, right_index=True)\n",
    "# all_X = all_X.merge(hinovecs, how='outer', left_index=True, right_index=True)\n",
    "\n",
    "# dPROvecs = pd.DataFrame(sider_mod.dis_PROvec.values.tolist(), index=sider_mod.index)\n",
    "# cPROvecs = pd.DataFrame(sider_mod.chem_PROvec.values.tolist(), index=sider_mod.index)\n",
    "# PROvecs = cPROvecs.merge(dPROvecs, how='outer', left_index=True, right_index=True)\n",
    "# all_X = all_X.merge(PROvecs, how='outer', left_index=True, right_index=True)\n",
    "\n",
    "# all_X = np.array(all_X)"
   ]
  },
  {
   "cell_type": "code",
   "execution_count": 199,
   "metadata": {},
   "outputs": [],
   "source": [
    "# # Version for gofunc vecs and CHEBI\n",
    "# # For Keras, need to turn inputs into numpy arrays instead of pandas df\n",
    "# # First create single np array of all vecs... not pretty:\n",
    "# Dvecs = pd.DataFrame(sider_mod.DisGoVec.values.tolist(), index= sider_mod.index)\n",
    "# Cvecs = pd.DataFrame(sider_mod.ChemGoVec.values.tolist(), index= sider_mod.index)\n",
    "# all_X = Dvecs.merge(Cvecs, how='outer', left_index=True, right_index=True)\n",
    "\n",
    "# CHEBvecs = pd.DataFrame(sider_mod.CHEBIvec.values.tolist(), index = sider_mod.index)\n",
    "# all_X = CHEBvecs.merge(all_X, how='outer', left_index=True, right_index=True)\n",
    "\n",
    "# all_X = np.array(all_X)"
   ]
  },
  {
   "cell_type": "code",
   "execution_count": 200,
   "metadata": {},
   "outputs": [],
   "source": [
    "# # Version for gofunc vecs\n",
    "# # For Keras, need to turn inputs into numpy arrays instead of pandas df\n",
    "# # First create single np array of all vecs... not pretty:\n",
    "# Dvecs = pd.DataFrame(sider_mod.DisGoVec.values.tolist(), index= sider_mod.index)\n",
    "# Cvecs = pd.DataFrame(sider_mod.ChemGoVec.values.tolist(), index= sider_mod.index)\n",
    "# all_X = Dvecs.merge(Cvecs, how='outer', left_index=True, right_index=True)\n",
    "\n",
    "# all_X = np.array(all_X)"
   ]
  },
  {
   "cell_type": "code",
   "execution_count": 201,
   "metadata": {},
   "outputs": [],
   "source": [
    "# # Version for gofunc vecs and HINO\n",
    "# # For Keras, need to turn inputs into numpy arrays instead of pandas df\n",
    "# # First create single np array of all vecs... not pretty:\n",
    "# Dvecs = pd.DataFrame(sider_mod.DisGoVec.values.tolist(), index= sider_mod.index)\n",
    "# Cvecs = pd.DataFrame(sider_mod.ChemGoVec.values.tolist(), index= sider_mod.index)\n",
    "# all_X = Dvecs.merge(Cvecs, how='outer', left_index=True, right_index=True)\n",
    "\n",
    "# dHINOvecs = pd.DataFrame(sider_mod.dis_HINOvec.values.tolist(), index=sider_mod.index)\n",
    "# cHINOvecs = pd.DataFrame(sider_mod.chem_HINOvec.values.tolist(), index=sider_mod.index)\n",
    "# hinovecs = cHINOvecs.merge(dHINOvecs, how='outer', left_index=True, right_index=True)\n",
    "# all_X = all_X.merge(hinovecs, how='outer', left_index=True, right_index=True)\n",
    "\n",
    "# all_X = np.array(all_X)"
   ]
  },
  {
   "cell_type": "code",
   "execution_count": 202,
   "metadata": {},
   "outputs": [],
   "source": [
    "# Version for gofunc vecs and HINO\n",
    "# For Keras, need to turn inputs into numpy arrays instead of pandas df\n",
    "# First create single np array of all vecs... not pretty:\n",
    "Dvecs = pd.DataFrame(sider_mod.DisGoVec.values.tolist(), index= sider_mod.index)\n",
    "Cvecs = pd.DataFrame(sider_mod.ChemGoVec.values.tolist(), index= sider_mod.index)\n",
    "all_X = Dvecs.merge(Cvecs, how='outer', left_index=True, right_index=True)\n",
    "\n",
    "dHINOvecs = pd.DataFrame(sider_mod.dis_HINOvec.values.tolist(), index=sider_mod.index)\n",
    "cHINOvecs = pd.DataFrame(sider_mod.chem_HINOvec.values.tolist(), index=sider_mod.index)\n",
    "hinovecs = cHINOvecs.merge(dHINOvecs, how='outer', left_index=True, right_index=True)\n",
    "all_X = all_X.merge(hinovecs, how='outer', left_index=True, right_index=True)\n",
    "\n",
    "all_X = np.array(all_X)"
   ]
  },
  {
   "cell_type": "code",
   "execution_count": 203,
   "metadata": {},
   "outputs": [],
   "source": [
    "# Now create np array of the y output\n",
    "all_y = np.array(sider_mod.Correlation)"
   ]
  },
  {
   "cell_type": "code",
   "execution_count": 204,
   "metadata": {},
   "outputs": [
    {
     "name": "stdout",
     "output_type": "stream",
     "text": [
      "y shape:  (1657,)\n",
      "X shape:  (1657, 2000)\n"
     ]
    }
   ],
   "source": [
    "print('y shape: ', all_y.shape)\n",
    "print('X shape: ', all_X.shape)"
   ]
  },
  {
   "cell_type": "code",
   "execution_count": 205,
   "metadata": {},
   "outputs": [],
   "source": [
    "# sider_mod[['ChemicalID', 'MESHid', 'Correlation', 'ChemGoVec', 'DisGoVec']]"
   ]
  },
  {
   "cell_type": "code",
   "execution_count": 206,
   "metadata": {},
   "outputs": [],
   "source": [
    "# Now I have my validation db (tho small...) so Run NN, get predictions and accuracy"
   ]
  },
  {
   "cell_type": "code",
   "execution_count": 207,
   "metadata": {},
   "outputs": [],
   "source": [
    "# 2. Compile the model (give it loss func, optimise func and eval metric)\n",
    "model.compile(optimizer=tf.train.AdamOptimizer(), # determines how the model is adapted based on loss func\n",
    "              loss='binary_crossentropy', # measure of accuracy during training\n",
    "              metrics=['accuracy']) # measure for train and testing steps "
   ]
  },
  {
   "cell_type": "code",
   "execution_count": 208,
   "metadata": {},
   "outputs": [
    {
     "ename": "ValueError",
     "evalue": "Error when checking input: expected flatten_3_input to have shape (800,) but got array with shape (2000,)",
     "output_type": "error",
     "traceback": [
      "\u001b[0;31m---------------------------------------------------------------------------\u001b[0m",
      "\u001b[0;31mValueError\u001b[0m                                Traceback (most recent call last)",
      "\u001b[0;32m<ipython-input-208-62990bd4f082>\u001b[0m in \u001b[0;36m<module>\u001b[0;34m()\u001b[0m\n\u001b[1;32m      1\u001b[0m \u001b[0;31m# Accuracy\u001b[0m\u001b[0;34m\u001b[0m\u001b[0;34m\u001b[0m\u001b[0m\n\u001b[0;32m----> 2\u001b[0;31m \u001b[0mtest_loss\u001b[0m\u001b[0;34m,\u001b[0m \u001b[0mtest_acc\u001b[0m \u001b[0;34m=\u001b[0m \u001b[0mmodel\u001b[0m\u001b[0;34m.\u001b[0m\u001b[0mevaluate\u001b[0m\u001b[0;34m(\u001b[0m\u001b[0mall_X\u001b[0m\u001b[0;34m,\u001b[0m \u001b[0mall_y\u001b[0m\u001b[0;34m)\u001b[0m\u001b[0;34m\u001b[0m\u001b[0m\n\u001b[0m\u001b[1;32m      3\u001b[0m \u001b[0mprint\u001b[0m\u001b[0;34m(\u001b[0m\u001b[0;34m'Test accuracy:'\u001b[0m\u001b[0;34m,\u001b[0m \u001b[0mtest_acc\u001b[0m\u001b[0;34m)\u001b[0m\u001b[0;34m\u001b[0m\u001b[0m\n",
      "\u001b[0;32m~/.local/lib/python3.6/site-packages/tensorflow/python/keras/engine/training.py\u001b[0m in \u001b[0;36mevaluate\u001b[0;34m(self, x, y, batch_size, verbose, sample_weight, steps)\u001b[0m\n\u001b[1;32m   1677\u001b[0m         \u001b[0mcheck_steps\u001b[0m\u001b[0;34m=\u001b[0m\u001b[0;32mTrue\u001b[0m\u001b[0;34m,\u001b[0m\u001b[0;34m\u001b[0m\u001b[0m\n\u001b[1;32m   1678\u001b[0m         \u001b[0msteps_name\u001b[0m\u001b[0;34m=\u001b[0m\u001b[0;34m'steps'\u001b[0m\u001b[0;34m,\u001b[0m\u001b[0;34m\u001b[0m\u001b[0m\n\u001b[0;32m-> 1679\u001b[0;31m         steps=steps)\n\u001b[0m\u001b[1;32m   1680\u001b[0m \u001b[0;34m\u001b[0m\u001b[0m\n\u001b[1;32m   1681\u001b[0m     \u001b[0;32mif\u001b[0m \u001b[0mcontext\u001b[0m\u001b[0;34m.\u001b[0m\u001b[0mexecuting_eagerly\u001b[0m\u001b[0;34m(\u001b[0m\u001b[0;34m)\u001b[0m\u001b[0;34m:\u001b[0m\u001b[0;34m\u001b[0m\u001b[0m\n",
      "\u001b[0;32m~/.local/lib/python3.6/site-packages/tensorflow/python/keras/engine/training.py\u001b[0m in \u001b[0;36m_standardize_user_data\u001b[0;34m(self, x, y, sample_weight, class_weight, batch_size, check_steps, steps_name, steps, validation_split)\u001b[0m\n\u001b[1;32m    991\u001b[0m       \u001b[0mx\u001b[0m\u001b[0;34m,\u001b[0m \u001b[0my\u001b[0m \u001b[0;34m=\u001b[0m \u001b[0mnext_element\u001b[0m\u001b[0;34m\u001b[0m\u001b[0m\n\u001b[1;32m    992\u001b[0m     x, y, sample_weights = self._standardize_weights(x, y, sample_weight,\n\u001b[0;32m--> 993\u001b[0;31m                                                      class_weight, batch_size)\n\u001b[0m\u001b[1;32m    994\u001b[0m     \u001b[0;32mreturn\u001b[0m \u001b[0mx\u001b[0m\u001b[0;34m,\u001b[0m \u001b[0my\u001b[0m\u001b[0;34m,\u001b[0m \u001b[0msample_weights\u001b[0m\u001b[0;34m\u001b[0m\u001b[0m\n\u001b[1;32m    995\u001b[0m \u001b[0;34m\u001b[0m\u001b[0m\n",
      "\u001b[0;32m~/.local/lib/python3.6/site-packages/tensorflow/python/keras/engine/training.py\u001b[0m in \u001b[0;36m_standardize_weights\u001b[0;34m(self, x, y, sample_weight, class_weight, batch_size)\u001b[0m\n\u001b[1;32m   1110\u001b[0m         \u001b[0mfeed_input_shapes\u001b[0m\u001b[0;34m,\u001b[0m\u001b[0;34m\u001b[0m\u001b[0m\n\u001b[1;32m   1111\u001b[0m         \u001b[0mcheck_batch_axis\u001b[0m\u001b[0;34m=\u001b[0m\u001b[0;32mFalse\u001b[0m\u001b[0;34m,\u001b[0m  \u001b[0;31m# Don't enforce the batch size.\u001b[0m\u001b[0;34m\u001b[0m\u001b[0m\n\u001b[0;32m-> 1112\u001b[0;31m         exception_prefix='input')\n\u001b[0m\u001b[1;32m   1113\u001b[0m \u001b[0;34m\u001b[0m\u001b[0m\n\u001b[1;32m   1114\u001b[0m     \u001b[0;32mif\u001b[0m \u001b[0my\u001b[0m \u001b[0;32mis\u001b[0m \u001b[0;32mnot\u001b[0m \u001b[0;32mNone\u001b[0m\u001b[0;34m:\u001b[0m\u001b[0;34m\u001b[0m\u001b[0m\n",
      "\u001b[0;32m~/.local/lib/python3.6/site-packages/tensorflow/python/keras/engine/training_utils.py\u001b[0m in \u001b[0;36mstandardize_input_data\u001b[0;34m(data, names, shapes, check_batch_axis, exception_prefix)\u001b[0m\n\u001b[1;32m    323\u001b[0m                 \u001b[0;34m'Error when checking '\u001b[0m \u001b[0;34m+\u001b[0m \u001b[0mexception_prefix\u001b[0m \u001b[0;34m+\u001b[0m \u001b[0;34m': expected '\u001b[0m \u001b[0;34m+\u001b[0m\u001b[0;34m\u001b[0m\u001b[0m\n\u001b[1;32m    324\u001b[0m                 \u001b[0mnames\u001b[0m\u001b[0;34m[\u001b[0m\u001b[0mi\u001b[0m\u001b[0;34m]\u001b[0m \u001b[0;34m+\u001b[0m \u001b[0;34m' to have shape '\u001b[0m \u001b[0;34m+\u001b[0m \u001b[0mstr\u001b[0m\u001b[0;34m(\u001b[0m\u001b[0mshape\u001b[0m\u001b[0;34m)\u001b[0m \u001b[0;34m+\u001b[0m\u001b[0;34m\u001b[0m\u001b[0m\n\u001b[0;32m--> 325\u001b[0;31m                 ' but got array with shape ' + str(data_shape))\n\u001b[0m\u001b[1;32m    326\u001b[0m   \u001b[0;32mreturn\u001b[0m \u001b[0mdata\u001b[0m\u001b[0;34m\u001b[0m\u001b[0m\n\u001b[1;32m    327\u001b[0m \u001b[0;34m\u001b[0m\u001b[0m\n",
      "\u001b[0;31mValueError\u001b[0m: Error when checking input: expected flatten_3_input to have shape (800,) but got array with shape (2000,)"
     ]
    }
   ],
   "source": [
    "# Accuracy\n",
    "test_loss, test_acc = model.evaluate(all_X, all_y)\n",
    "print('Test accuracy:', test_acc)"
   ]
  },
  {
   "cell_type": "code",
   "execution_count": 209,
   "metadata": {},
   "outputs": [
    {
     "ename": "ValueError",
     "evalue": "Error when checking input: expected flatten_3_input to have shape (800,) but got array with shape (2000,)",
     "output_type": "error",
     "traceback": [
      "\u001b[0;31m---------------------------------------------------------------------------\u001b[0m",
      "\u001b[0;31mValueError\u001b[0m                                Traceback (most recent call last)",
      "\u001b[0;32m<ipython-input-209-3f8f303334f9>\u001b[0m in \u001b[0;36m<module>\u001b[0;34m()\u001b[0m\n\u001b[1;32m      1\u001b[0m \u001b[0;31m# Get actual predictions for test set\u001b[0m\u001b[0;34m\u001b[0m\u001b[0;34m\u001b[0m\u001b[0m\n\u001b[0;32m----> 2\u001b[0;31m \u001b[0mpredictions\u001b[0m \u001b[0;34m=\u001b[0m \u001b[0mmodel\u001b[0m\u001b[0;34m.\u001b[0m\u001b[0mpredict\u001b[0m\u001b[0;34m(\u001b[0m\u001b[0mall_X\u001b[0m\u001b[0;34m)\u001b[0m\u001b[0;34m\u001b[0m\u001b[0m\n\u001b[0m\u001b[1;32m      3\u001b[0m \u001b[0mrounded_predictions\u001b[0m \u001b[0;34m=\u001b[0m \u001b[0;34m[\u001b[0m\u001b[0mint\u001b[0m\u001b[0;34m(\u001b[0m\u001b[0mfloat\u001b[0m\u001b[0;34m(\u001b[0m\u001b[0mround\u001b[0m\u001b[0;34m(\u001b[0m\u001b[0mx\u001b[0m\u001b[0;34m[\u001b[0m\u001b[0;36m0\u001b[0m\u001b[0;34m]\u001b[0m\u001b[0;34m)\u001b[0m\u001b[0;34m)\u001b[0m\u001b[0;34m)\u001b[0m \u001b[0;32mfor\u001b[0m \u001b[0mx\u001b[0m \u001b[0;32min\u001b[0m \u001b[0mpredictions\u001b[0m\u001b[0;34m]\u001b[0m\u001b[0;34m\u001b[0m\u001b[0m\n",
      "\u001b[0;32m~/.local/lib/python3.6/site-packages/tensorflow/python/keras/engine/training.py\u001b[0m in \u001b[0;36mpredict\u001b[0;34m(self, x, batch_size, verbose, steps)\u001b[0m\n\u001b[1;32m   1750\u001b[0m     \u001b[0;31m# Validate and standardize user data.\u001b[0m\u001b[0;34m\u001b[0m\u001b[0;34m\u001b[0m\u001b[0m\n\u001b[1;32m   1751\u001b[0m     x, _, _ = self._standardize_user_data(\n\u001b[0;32m-> 1752\u001b[0;31m         x, check_steps=True, steps_name='steps', steps=steps)\n\u001b[0m\u001b[1;32m   1753\u001b[0m \u001b[0;34m\u001b[0m\u001b[0m\n\u001b[1;32m   1754\u001b[0m     \u001b[0;32mif\u001b[0m \u001b[0mcontext\u001b[0m\u001b[0;34m.\u001b[0m\u001b[0mexecuting_eagerly\u001b[0m\u001b[0;34m(\u001b[0m\u001b[0;34m)\u001b[0m\u001b[0;34m:\u001b[0m\u001b[0;34m\u001b[0m\u001b[0m\n",
      "\u001b[0;32m~/.local/lib/python3.6/site-packages/tensorflow/python/keras/engine/training.py\u001b[0m in \u001b[0;36m_standardize_user_data\u001b[0;34m(self, x, y, sample_weight, class_weight, batch_size, check_steps, steps_name, steps, validation_split)\u001b[0m\n\u001b[1;32m    991\u001b[0m       \u001b[0mx\u001b[0m\u001b[0;34m,\u001b[0m \u001b[0my\u001b[0m \u001b[0;34m=\u001b[0m \u001b[0mnext_element\u001b[0m\u001b[0;34m\u001b[0m\u001b[0m\n\u001b[1;32m    992\u001b[0m     x, y, sample_weights = self._standardize_weights(x, y, sample_weight,\n\u001b[0;32m--> 993\u001b[0;31m                                                      class_weight, batch_size)\n\u001b[0m\u001b[1;32m    994\u001b[0m     \u001b[0;32mreturn\u001b[0m \u001b[0mx\u001b[0m\u001b[0;34m,\u001b[0m \u001b[0my\u001b[0m\u001b[0;34m,\u001b[0m \u001b[0msample_weights\u001b[0m\u001b[0;34m\u001b[0m\u001b[0m\n\u001b[1;32m    995\u001b[0m \u001b[0;34m\u001b[0m\u001b[0m\n",
      "\u001b[0;32m~/.local/lib/python3.6/site-packages/tensorflow/python/keras/engine/training.py\u001b[0m in \u001b[0;36m_standardize_weights\u001b[0;34m(self, x, y, sample_weight, class_weight, batch_size)\u001b[0m\n\u001b[1;32m   1110\u001b[0m         \u001b[0mfeed_input_shapes\u001b[0m\u001b[0;34m,\u001b[0m\u001b[0;34m\u001b[0m\u001b[0m\n\u001b[1;32m   1111\u001b[0m         \u001b[0mcheck_batch_axis\u001b[0m\u001b[0;34m=\u001b[0m\u001b[0;32mFalse\u001b[0m\u001b[0;34m,\u001b[0m  \u001b[0;31m# Don't enforce the batch size.\u001b[0m\u001b[0;34m\u001b[0m\u001b[0m\n\u001b[0;32m-> 1112\u001b[0;31m         exception_prefix='input')\n\u001b[0m\u001b[1;32m   1113\u001b[0m \u001b[0;34m\u001b[0m\u001b[0m\n\u001b[1;32m   1114\u001b[0m     \u001b[0;32mif\u001b[0m \u001b[0my\u001b[0m \u001b[0;32mis\u001b[0m \u001b[0;32mnot\u001b[0m \u001b[0;32mNone\u001b[0m\u001b[0;34m:\u001b[0m\u001b[0;34m\u001b[0m\u001b[0m\n",
      "\u001b[0;32m~/.local/lib/python3.6/site-packages/tensorflow/python/keras/engine/training_utils.py\u001b[0m in \u001b[0;36mstandardize_input_data\u001b[0;34m(data, names, shapes, check_batch_axis, exception_prefix)\u001b[0m\n\u001b[1;32m    323\u001b[0m                 \u001b[0;34m'Error when checking '\u001b[0m \u001b[0;34m+\u001b[0m \u001b[0mexception_prefix\u001b[0m \u001b[0;34m+\u001b[0m \u001b[0;34m': expected '\u001b[0m \u001b[0;34m+\u001b[0m\u001b[0;34m\u001b[0m\u001b[0m\n\u001b[1;32m    324\u001b[0m                 \u001b[0mnames\u001b[0m\u001b[0;34m[\u001b[0m\u001b[0mi\u001b[0m\u001b[0;34m]\u001b[0m \u001b[0;34m+\u001b[0m \u001b[0;34m' to have shape '\u001b[0m \u001b[0;34m+\u001b[0m \u001b[0mstr\u001b[0m\u001b[0;34m(\u001b[0m\u001b[0mshape\u001b[0m\u001b[0;34m)\u001b[0m \u001b[0;34m+\u001b[0m\u001b[0;34m\u001b[0m\u001b[0m\n\u001b[0;32m--> 325\u001b[0;31m                 ' but got array with shape ' + str(data_shape))\n\u001b[0m\u001b[1;32m    326\u001b[0m   \u001b[0;32mreturn\u001b[0m \u001b[0mdata\u001b[0m\u001b[0;34m\u001b[0m\u001b[0m\n\u001b[1;32m    327\u001b[0m \u001b[0;34m\u001b[0m\u001b[0m\n",
      "\u001b[0;31mValueError\u001b[0m: Error when checking input: expected flatten_3_input to have shape (800,) but got array with shape (2000,)"
     ]
    }
   ],
   "source": [
    "# Get actual predictions for test set\n",
    "predictions = model.predict(all_X)\n",
    "rounded_predictions = [int(float(round(x[0]))) for x in predictions]"
   ]
  },
  {
   "cell_type": "code",
   "execution_count": 196,
   "metadata": {},
   "outputs": [
    {
     "name": "stdout",
     "output_type": "stream",
     "text": [
      "ROC AUC:  0.6148238295283008\n"
     ]
    }
   ],
   "source": [
    "# ROC AUC\n",
    "print('ROC AUC: ', roc_auc_score(all_y, predictions))\n",
    "# .52...\n",
    "# Right, options:\n",
    "# (i) Model is shit and doesn't work and thesis isn't looking great\n",
    "# (ii) WRONG -> Loading the model in isn't working properly - download data from here and run it in opa-nn\n",
    "# (iii) Sample size is too small to detect pattern, get bigger validation db...seems v unlikely\n",
    "# (iv) WRONG (prob)-> Good chance that a significant amount of the controls are actually correlated, import\n",
    "# controls from opa-nn training database? Is that cheating tho - actually, given that the controls are taken\n",
    "# from chems and diseases that have approval, it's prob safe to assume uncorr as otherwise would be included as corr\n",
    "# (v) Some of these side effects occur in less than 1% of patients... seems like quite a bulls eye! Try another \n",
    "# dataset\n",
    "# (vi) CHASE is a genius and highlighted that opa2vec will project the same data in different ways upon different\n",
    "# trainings so I need to train the validation vecs along with the original vecs"
   ]
  },
  {
   "cell_type": "code",
   "execution_count": 197,
   "metadata": {},
   "outputs": [
    {
     "name": "stdout",
     "output_type": "stream",
     "text": [
      "Chems : 62\n",
      "Dis : 151\n",
      "chem:dis obs:  1657\n",
      "of which are uncorrelated:  776\n"
     ]
    }
   ],
   "source": [
    "print('Chems :', sider_mod.ChemicalID.nunique())\n",
    "print('Dis :', sider_mod.MESH.nunique())\n",
    "print('chem:dis obs: ', sider_mod.shape[0])\n",
    "print('of which are uncorrelated: ', sider_mod[sider_mod.Correlation == 0].shape[0])"
   ]
  },
  {
   "cell_type": "code",
   "execution_count": null,
   "metadata": {},
   "outputs": [],
   "source": []
  },
  {
   "cell_type": "code",
   "execution_count": null,
   "metadata": {},
   "outputs": [],
   "source": []
  },
  {
   "cell_type": "code",
   "execution_count": null,
   "metadata": {},
   "outputs": [],
   "source": []
  },
  {
   "cell_type": "code",
   "execution_count": null,
   "metadata": {},
   "outputs": [],
   "source": []
  },
  {
   "cell_type": "code",
   "execution_count": null,
   "metadata": {},
   "outputs": [],
   "source": []
  },
  {
   "cell_type": "code",
   "execution_count": null,
   "metadata": {},
   "outputs": [],
   "source": []
  }
 ],
 "metadata": {
  "kernelspec": {
   "display_name": "Python 3",
   "language": "python",
   "name": "python3"
  },
  "language_info": {
   "codemirror_mode": {
    "name": "ipython",
    "version": 3
   },
   "file_extension": ".py",
   "mimetype": "text/x-python",
   "name": "python",
   "nbconvert_exporter": "python",
   "pygments_lexer": "ipython3",
   "version": "3.6.5"
  }
 },
 "nbformat": 4,
 "nbformat_minor": 2
}
