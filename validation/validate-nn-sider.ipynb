{
 "cells": [
  {
   "cell_type": "markdown",
   "metadata": {},
   "source": [
    "# Validate NN on SIDER unseen database\n",
    "<b>Author</b>: Ian Coleman <br/>\n",
    "<b>Function</b>: Let's take the NN developed in Opa/ and test it out on an unseen database"
   ]
  },
  {
   "cell_type": "markdown",
   "metadata": {},
   "source": [
    "Ways to improve <br>\n",
    "- get more chems through disgenet\n",
    "- get more diseases by running opa2vec on ctd data freshly"
   ]
  },
  {
   "cell_type": "code",
   "execution_count": 1,
   "metadata": {},
   "outputs": [],
   "source": [
    "import tensorflow as tf\n",
    "from tensorflow import keras\n",
    "import numpy as np\n",
    "import matplotlib.pyplot as plt\n",
    "import pandas as pd\n",
    "from random import randint\n",
    "import random\n",
    "from sklearn.model_selection import train_test_split\n",
    "import sklearn\n",
    "from sklearn.metrics.pairwise import cosine_similarity\n",
    "from sklearn.metrics import roc_curve\n",
    "from sklearn.metrics import roc_auc_score\n",
    "from pandas_ml import ConfusionMatrix\n",
    "import json\n",
    "import subprocess\n",
    "import pickle\n",
    "import math\n",
    "\n",
    "#Set random seed\n",
    "np.random.seed(1606)"
   ]
  },
  {
   "cell_type": "code",
   "execution_count": 2,
   "metadata": {},
   "outputs": [],
   "source": [
    "# Right, what databases? Where can I get unseen chem-disease associations\n",
    "# Virtual Metabolic Human - ?nutrients\n",
    "# Sider - drugs\n",
    "# I want environmental chemicals, could use EPA toxic list but probably all in training database\n",
    "# How does this validation thing work, (i) import trained model (ii) create features for the chemical/diseases\n",
    "# (iii) predict"
   ]
  },
  {
   "cell_type": "code",
   "execution_count": 3,
   "metadata": {},
   "outputs": [],
   "source": [
    "# Import database of unqiue diseases with their vectors from opa-nn"
   ]
  },
  {
   "cell_type": "code",
   "execution_count": 4,
   "metadata": {},
   "outputs": [],
   "source": [
    "# import new chemicals with their actual disease associations, extract unique chems"
   ]
  },
  {
   "cell_type": "markdown",
   "metadata": {},
   "source": [
    "## 1. Sider"
   ]
  },
  {
   "cell_type": "code",
   "execution_count": 5,
   "metadata": {},
   "outputs": [],
   "source": [
    "# Import sider (all side effects)\n",
    "# SE = side effect\n",
    "# CID1 - \"flat compound\", i.e. stereo-isomers have been merged into one compound\n",
    "# CID2 - stereo-specific compound id\n",
    "colnames = ['CID1', 'CID2', 'UMLS', 'UMLS2Type', 'UMLS2', 'SEname']\n",
    "sider = pd.read_csv('../validation/data/meddra_all_se.tsv', sep='\\t', names=colnames)"
   ]
  },
  {
   "cell_type": "code",
   "execution_count": 6,
   "metadata": {},
   "outputs": [
    {
     "data": {
      "text/html": [
       "<div>\n",
       "<style scoped>\n",
       "    .dataframe tbody tr th:only-of-type {\n",
       "        vertical-align: middle;\n",
       "    }\n",
       "\n",
       "    .dataframe tbody tr th {\n",
       "        vertical-align: top;\n",
       "    }\n",
       "\n",
       "    .dataframe thead th {\n",
       "        text-align: right;\n",
       "    }\n",
       "</style>\n",
       "<table border=\"1\" class=\"dataframe\">\n",
       "  <thead>\n",
       "    <tr style=\"text-align: right;\">\n",
       "      <th></th>\n",
       "      <th>CID1</th>\n",
       "      <th>CID2</th>\n",
       "      <th>UMLS</th>\n",
       "      <th>UMLS2Type</th>\n",
       "      <th>UMLS2</th>\n",
       "      <th>SEname</th>\n",
       "    </tr>\n",
       "  </thead>\n",
       "  <tbody>\n",
       "    <tr>\n",
       "      <th>161261</th>\n",
       "      <td>CID100005314</td>\n",
       "      <td>CID000005314</td>\n",
       "      <td>C0042510</td>\n",
       "      <td>PT</td>\n",
       "      <td>C0042510</td>\n",
       "      <td>Ventricular fibrillation</td>\n",
       "    </tr>\n",
       "    <tr>\n",
       "      <th>59539</th>\n",
       "      <td>CID100003143</td>\n",
       "      <td>CID000148123</td>\n",
       "      <td>C0151738</td>\n",
       "      <td>LLT</td>\n",
       "      <td>C0151738</td>\n",
       "      <td>Large intestine perforation</td>\n",
       "    </tr>\n",
       "    <tr>\n",
       "      <th>87586</th>\n",
       "      <td>CID100003690</td>\n",
       "      <td>CID000003690</td>\n",
       "      <td>C0020542</td>\n",
       "      <td>PT</td>\n",
       "      <td>C0020542</td>\n",
       "      <td>Pulmonary hypertension</td>\n",
       "    </tr>\n",
       "  </tbody>\n",
       "</table>\n",
       "</div>"
      ],
      "text/plain": [
       "                CID1          CID2      UMLS UMLS2Type     UMLS2  \\\n",
       "161261  CID100005314  CID000005314  C0042510        PT  C0042510   \n",
       "59539   CID100003143  CID000148123  C0151738       LLT  C0151738   \n",
       "87586   CID100003690  CID000003690  C0020542        PT  C0020542   \n",
       "\n",
       "                             SEname  \n",
       "161261     Ventricular fibrillation  \n",
       "59539   Large intestine perforation  \n",
       "87586        Pulmonary hypertension  "
      ]
     },
     "execution_count": 6,
     "metadata": {},
     "output_type": "execute_result"
    }
   ],
   "source": [
    "sider.sample(3)"
   ]
  },
  {
   "cell_type": "markdown",
   "metadata": {},
   "source": [
    "### Get Disease MESH IDs for sider side effects\n",
    "Problem here is that sider uses UMLS, convert this to MESH\n",
    "<br> Commenting out the next few cells as the mapping process is intensive and I've saved map"
   ]
  },
  {
   "cell_type": "code",
   "execution_count": 7,
   "metadata": {},
   "outputs": [],
   "source": [
    "# # Import CTD Chemical-Disease Original CSV to get disease names, try semantic matching to get UMLS-MESH conversion\n",
    "# Read in CTD sample, skipping the intro rows\n",
    "cols = ['DiseaseID', 'DiseaseName', 'DirectEvidence']\n",
    "col_types = {   \n",
    "    'DiseaseID': 'category',\n",
    "    'DiseaseName': 'category',\n",
    "    'DirectEvidence': 'category'\n",
    "}\n",
    "df_cd = pd.read_csv('../ctd-to-nt/csvs/CTD_chemicals_diseases.csv', skiprows=27, usecols=cols, dtype=col_types)\n",
    "df_cd = df_cd.drop(0)\n",
    "df_cd = df_cd.dropna(subset=['DirectEvidence']) # drop if it doesn't have direct evidence"
   ]
  },
  {
   "cell_type": "code",
   "execution_count": 8,
   "metadata": {},
   "outputs": [],
   "source": [
    "# df_cd.head()"
   ]
  },
  {
   "cell_type": "code",
   "execution_count": 9,
   "metadata": {},
   "outputs": [],
   "source": [
    "# Make a mesh disease name to mesh id map for later use\n",
    "mesh_get_id = dict(zip(df_cd.DiseaseName, df_cd.DiseaseID))"
   ]
  },
  {
   "cell_type": "code",
   "execution_count": 10,
   "metadata": {},
   "outputs": [],
   "source": [
    "# # Process DiseaseID so as to be usable in url\n",
    "# df_cd['DiseaseID'] = df_cd['DiseaseID'].str.replace('MESH:', '')\n",
    "\n",
    "# #Specify type to optimise\n",
    "# df_cd['ChemicalID'] = df_cd.ChemicalID.astype(str)\n",
    "# # df_cd['InferenceGeneSymbol'] = df_cd.InferenceGeneSymbol.astype(str)"
   ]
  },
  {
   "cell_type": "code",
   "execution_count": 11,
   "metadata": {},
   "outputs": [],
   "source": [
    "# Use a measure of distance to match up disease names from ctd (MESH) and from sider (UMLS) \n",
    "from difflib import SequenceMatcher\n",
    "import pdb\n",
    "\n",
    "def similar(a, b):\n",
    "    return SequenceMatcher(None, a, b).ratio()\n",
    "\n",
    "def create_map(std_list, flawed_list):\n",
    "    flawed_list = (n for n in flawed_list)\n",
    "    team_map = {}\n",
    "    best_score = {}\n",
    "    for team in flawed_list:\n",
    "        scores = [similar(team, std_team) for std_team in std_list]\n",
    "        highest = max(scores)\n",
    "        if highest > 0.8:\n",
    "            index = scores.index(max(scores))\n",
    "            team_map[team] = std_list[index]\n",
    "    return team_map"
   ]
  },
  {
   "cell_type": "code",
   "execution_count": 12,
   "metadata": {},
   "outputs": [],
   "source": [
    "# umls = sorted(sider.SEname.unique())\n",
    "# mesh = sorted(df_cd.DiseaseName.unique())"
   ]
  },
  {
   "cell_type": "code",
   "execution_count": 13,
   "metadata": {},
   "outputs": [],
   "source": [
    "# Commenting out as takes ages, and am saving the map as pickle object\n",
    "# umls_mesh_map = create_map(umls, mesh)\n",
    "# umls_mesh_map_mod = {value:key for (key, value) in umls_mesh_map_mod.items()}"
   ]
  },
  {
   "cell_type": "code",
   "execution_count": 14,
   "metadata": {},
   "outputs": [],
   "source": [
    "# print(ummap)"
   ]
  },
  {
   "cell_type": "code",
   "execution_count": 15,
   "metadata": {},
   "outputs": [],
   "source": [
    "# # These are the incorrect mappings I've identified for a 0.8 similarity cutoff\n",
    "# remove = ('Agraphia', 'Angina, Stable', 'Cerebrospinal Fluid Otorrhea', 'Confusion',\n",
    "#          'Endarteritis', 'Fetal Growth Retardation', 'Glucose Intolerance', 'Hearing Disorders',\n",
    "#          'Hemoperitoneum', 'Hepatitis, Animal', 'Hip Contracture', 'Hyperoxaluria',\n",
    "#          'Hyperoxia', 'Hyperpigmentation','Hypolipoproteinemias',  'Intestinal Diseases',\n",
    "#          'Milk Hypersensitivity', 'Mucositis', 'Murine Acquired Immunodeficiency Syndrome', \n",
    "#          'Muscle Neoplasms', 'Mycotoxicosis', 'Olfaction Disorders','Osteopetrosis',\n",
    "#          'Peanut Hypersensitivity', 'Pharyngeal Neoplasms', 'Polycystic liver disease',\n",
    "#          'Pseudohypoparathyroidism', 'Psychomotor Agitation', 'Pulmonary Emphysema',\n",
    "#          'Purpura, Thrombocytopenic', 'Renal Insufficiency', 'Sciatic Neuropathy',\n",
    "#          'Simian Acquired Immunodeficiency Syndrome', 'Spinal Curvatures', 'Sporotrichosis',\n",
    "#          'Vipoma', 'Vitamin A Deficiency', 'Vitamin D Deficiency', 'Vitamin E Deficiency',\n",
    "#          'Wheat Hypersensitivity')\n",
    "# umls_mesh_map_mod = {key: umls_mesh_map[key] for key in umls_mesh_map if key not in remove}\n",
    "# # Muscle neoplasms is not the same as muscle spams\n",
    "# # 'Olfaction Disorders' != 'Ovulation disorder'"
   ]
  },
  {
   "cell_type": "code",
   "execution_count": 16,
   "metadata": {},
   "outputs": [],
   "source": [
    "# # Export map of UMLS:MESH\n",
    "# with open('umls_mesh_map'+ '.pkl', 'wb') as f:\n",
    "#         pickle.dump(umls_mesh_map_mod, f, pickle.HIGHEST_PROTOCOL)"
   ]
  },
  {
   "cell_type": "code",
   "execution_count": 17,
   "metadata": {},
   "outputs": [],
   "source": [
    "# Loading the map from pickle object - if you haven't created it you may need to uncomment above lines\n",
    "def load_obj(name):\n",
    "    with open(name + '.pkl', 'rb') as f:\n",
    "        return pickle.load(f)\n",
    "\n",
    "umls_mesh_map_mod = load_obj('umls_mesh_map')"
   ]
  },
  {
   "cell_type": "code",
   "execution_count": 18,
   "metadata": {},
   "outputs": [],
   "source": [
    "#Use the umls-mesh map to add mesh col to sider"
   ]
  },
  {
   "cell_type": "code",
   "execution_count": 19,
   "metadata": {},
   "outputs": [],
   "source": [
    "sider['MESH'] = sider.SEname.map(lambda x: umls_mesh_map_mod.get(str(x)))"
   ]
  },
  {
   "cell_type": "code",
   "execution_count": 20,
   "metadata": {},
   "outputs": [
    {
     "data": {
      "text/html": [
       "<div>\n",
       "<style scoped>\n",
       "    .dataframe tbody tr th:only-of-type {\n",
       "        vertical-align: middle;\n",
       "    }\n",
       "\n",
       "    .dataframe tbody tr th {\n",
       "        vertical-align: top;\n",
       "    }\n",
       "\n",
       "    .dataframe thead th {\n",
       "        text-align: right;\n",
       "    }\n",
       "</style>\n",
       "<table border=\"1\" class=\"dataframe\">\n",
       "  <thead>\n",
       "    <tr style=\"text-align: right;\">\n",
       "      <th></th>\n",
       "      <th>CID1</th>\n",
       "      <th>CID2</th>\n",
       "      <th>UMLS</th>\n",
       "      <th>UMLS2Type</th>\n",
       "      <th>UMLS2</th>\n",
       "      <th>SEname</th>\n",
       "      <th>MESH</th>\n",
       "    </tr>\n",
       "  </thead>\n",
       "  <tbody>\n",
       "    <tr>\n",
       "      <th>0</th>\n",
       "      <td>CID100000085</td>\n",
       "      <td>CID000010917</td>\n",
       "      <td>C0000729</td>\n",
       "      <td>LLT</td>\n",
       "      <td>C0000729</td>\n",
       "      <td>Abdominal cramps</td>\n",
       "      <td>None</td>\n",
       "    </tr>\n",
       "    <tr>\n",
       "      <th>1</th>\n",
       "      <td>CID100000085</td>\n",
       "      <td>CID000010917</td>\n",
       "      <td>C0000729</td>\n",
       "      <td>PT</td>\n",
       "      <td>C0000737</td>\n",
       "      <td>Abdominal pain</td>\n",
       "      <td>Abdominal Pain</td>\n",
       "    </tr>\n",
       "    <tr>\n",
       "      <th>2</th>\n",
       "      <td>CID100000085</td>\n",
       "      <td>CID000010917</td>\n",
       "      <td>C0000737</td>\n",
       "      <td>LLT</td>\n",
       "      <td>C0000737</td>\n",
       "      <td>Abdominal pain</td>\n",
       "      <td>Abdominal Pain</td>\n",
       "    </tr>\n",
       "    <tr>\n",
       "      <th>3</th>\n",
       "      <td>CID100000085</td>\n",
       "      <td>CID000010917</td>\n",
       "      <td>C0000737</td>\n",
       "      <td>PT</td>\n",
       "      <td>C0687713</td>\n",
       "      <td>Gastrointestinal pain</td>\n",
       "      <td>None</td>\n",
       "    </tr>\n",
       "    <tr>\n",
       "      <th>4</th>\n",
       "      <td>CID100000085</td>\n",
       "      <td>CID000010917</td>\n",
       "      <td>C0000737</td>\n",
       "      <td>PT</td>\n",
       "      <td>C0000737</td>\n",
       "      <td>Abdominal pain</td>\n",
       "      <td>Abdominal Pain</td>\n",
       "    </tr>\n",
       "  </tbody>\n",
       "</table>\n",
       "</div>"
      ],
      "text/plain": [
       "           CID1          CID2      UMLS UMLS2Type     UMLS2  \\\n",
       "0  CID100000085  CID000010917  C0000729       LLT  C0000729   \n",
       "1  CID100000085  CID000010917  C0000729        PT  C0000737   \n",
       "2  CID100000085  CID000010917  C0000737       LLT  C0000737   \n",
       "3  CID100000085  CID000010917  C0000737        PT  C0687713   \n",
       "4  CID100000085  CID000010917  C0000737        PT  C0000737   \n",
       "\n",
       "                  SEname            MESH  \n",
       "0       Abdominal cramps            None  \n",
       "1         Abdominal pain  Abdominal Pain  \n",
       "2         Abdominal pain  Abdominal Pain  \n",
       "3  Gastrointestinal pain            None  \n",
       "4         Abdominal pain  Abdominal Pain  "
      ]
     },
     "execution_count": 20,
     "metadata": {},
     "output_type": "execute_result"
    }
   ],
   "source": [
    "sider.head()"
   ]
  },
  {
   "cell_type": "code",
   "execution_count": 21,
   "metadata": {},
   "outputs": [
    {
     "name": "stdout",
     "output_type": "stream",
     "text": [
      "total sider rows:  309849\n",
      "sider rows with mesh value:  146773\n"
     ]
    }
   ],
   "source": [
    "print('total sider rows: ', sider.shape[0])\n",
    "print('sider rows with mesh value: ', sider[sider.MESH.map(lambda x: x is not None)].shape[0])"
   ]
  },
  {
   "cell_type": "code",
   "execution_count": 22,
   "metadata": {},
   "outputs": [],
   "source": [
    "sider_mod = sider[sider.MESH.map(lambda x: x is not None)]"
   ]
  },
  {
   "cell_type": "code",
   "execution_count": 23,
   "metadata": {},
   "outputs": [
    {
     "data": {
      "text/html": [
       "<div>\n",
       "<style scoped>\n",
       "    .dataframe tbody tr th:only-of-type {\n",
       "        vertical-align: middle;\n",
       "    }\n",
       "\n",
       "    .dataframe tbody tr th {\n",
       "        vertical-align: top;\n",
       "    }\n",
       "\n",
       "    .dataframe thead th {\n",
       "        text-align: right;\n",
       "    }\n",
       "</style>\n",
       "<table border=\"1\" class=\"dataframe\">\n",
       "  <thead>\n",
       "    <tr style=\"text-align: right;\">\n",
       "      <th></th>\n",
       "      <th>CID1</th>\n",
       "      <th>CID2</th>\n",
       "      <th>UMLS</th>\n",
       "      <th>UMLS2Type</th>\n",
       "      <th>UMLS2</th>\n",
       "      <th>SEname</th>\n",
       "      <th>MESH</th>\n",
       "    </tr>\n",
       "  </thead>\n",
       "  <tbody>\n",
       "    <tr>\n",
       "      <th>127407</th>\n",
       "      <td>CID100004595</td>\n",
       "      <td>CID000004595</td>\n",
       "      <td>C0013384</td>\n",
       "      <td>LLT</td>\n",
       "      <td>C0013384</td>\n",
       "      <td>Dyskinesia</td>\n",
       "      <td>Dyskinesias</td>\n",
       "    </tr>\n",
       "    <tr>\n",
       "      <th>300125</th>\n",
       "      <td>CID116132446</td>\n",
       "      <td>CID016132446</td>\n",
       "      <td>C0030305</td>\n",
       "      <td>PT</td>\n",
       "      <td>C0030305</td>\n",
       "      <td>Pancreatitis</td>\n",
       "      <td>Pancreatitis</td>\n",
       "    </tr>\n",
       "  </tbody>\n",
       "</table>\n",
       "</div>"
      ],
      "text/plain": [
       "                CID1          CID2      UMLS UMLS2Type     UMLS2  \\\n",
       "127407  CID100004595  CID000004595  C0013384       LLT  C0013384   \n",
       "300125  CID116132446  CID016132446  C0030305        PT  C0030305   \n",
       "\n",
       "              SEname          MESH  \n",
       "127407    Dyskinesia   Dyskinesias  \n",
       "300125  Pancreatitis  Pancreatitis  "
      ]
     },
     "execution_count": 23,
     "metadata": {},
     "output_type": "execute_result"
    }
   ],
   "source": [
    "sider_mod.sample(2)"
   ]
  },
  {
   "cell_type": "code",
   "execution_count": 24,
   "metadata": {},
   "outputs": [],
   "source": [
    "# Split out the two CID columns NOTE that each row can now potentially be two - one for each CID1 and CID2\n",
    "sider1 = sider_mod[['CID1', 'MESH']]\n",
    "sider2 = sider_mod[['CID2', 'MESH']]\n",
    "sider1.columns = ['CID', 'MESH']\n",
    "sider2.columns = ['CID', 'MESH']\n",
    "sider_mod = pd.concat([sider1, sider2], ignore_index=True)"
   ]
  },
  {
   "cell_type": "code",
   "execution_count": 25,
   "metadata": {},
   "outputs": [
    {
     "data": {
      "text/html": [
       "<div>\n",
       "<style scoped>\n",
       "    .dataframe tbody tr th:only-of-type {\n",
       "        vertical-align: middle;\n",
       "    }\n",
       "\n",
       "    .dataframe tbody tr th {\n",
       "        vertical-align: top;\n",
       "    }\n",
       "\n",
       "    .dataframe thead th {\n",
       "        text-align: right;\n",
       "    }\n",
       "</style>\n",
       "<table border=\"1\" class=\"dataframe\">\n",
       "  <thead>\n",
       "    <tr style=\"text-align: right;\">\n",
       "      <th></th>\n",
       "      <th>CID</th>\n",
       "      <th>MESH</th>\n",
       "    </tr>\n",
       "  </thead>\n",
       "  <tbody>\n",
       "    <tr>\n",
       "      <th>215305</th>\n",
       "      <td>CID000004927</td>\n",
       "      <td>Pruritus</td>\n",
       "    </tr>\n",
       "    <tr>\n",
       "      <th>161941</th>\n",
       "      <td>CID000002540</td>\n",
       "      <td>Hypersensitivity</td>\n",
       "    </tr>\n",
       "  </tbody>\n",
       "</table>\n",
       "</div>"
      ],
      "text/plain": [
       "                 CID              MESH\n",
       "215305  CID000004927          Pruritus\n",
       "161941  CID000002540  Hypersensitivity"
      ]
     },
     "execution_count": 25,
     "metadata": {},
     "output_type": "execute_result"
    }
   ],
   "source": [
    "sider_mod.sample(2)"
   ]
  },
  {
   "cell_type": "code",
   "execution_count": 26,
   "metadata": {},
   "outputs": [
    {
     "name": "stdout",
     "output_type": "stream",
     "text": [
      "Sider shape:  293546\n",
      "Total unique correlated chem:dis observations:  145635\n",
      "Unique chems:  2968\n",
      "Unique diseases:  1034\n"
     ]
    }
   ],
   "source": [
    "print('Sider shape: ', sider_mod.shape[0])\n",
    "sider_mod = sider_mod.drop_duplicates()\n",
    "print('Total unique correlated chem:dis observations: ', sider_mod.shape[0])\n",
    "print('Unique chems: ', sider_mod.CID.unique().shape[0])\n",
    "print('Unique diseases: ', sider_mod.MESH.unique().shape[0])"
   ]
  },
  {
   "cell_type": "code",
   "execution_count": 27,
   "metadata": {},
   "outputs": [],
   "source": [
    "# Chop out all chems that are in our training database\n",
    "# Read in training db chems (opa-nn notebook)\n",
    "chems_in_nn = pd.read_csv('../opa/chemsInNN.txt', names=['Chem'])\n",
    "chems_in_nn = chems_in_nn.dropna().drop_duplicates()\n",
    "chems_in_nn.shape[0]\n",
    "\n",
    "# Now chop from SIDER db\n",
    "nnChems = list(chems_in_nn.Chem)\n",
    "sider_mod['inNN'] = sider_mod.CID.map(lambda x: x in nnChems)\n",
    "sider_mod = sider_mod[sider_mod.inNN.map(lambda x: x == False)]\n",
    "sider_mod = sider_mod[['CID', 'MESH']]\n",
    "sider_mod = sider_mod.reset_index(drop=True)"
   ]
  },
  {
   "cell_type": "code",
   "execution_count": 28,
   "metadata": {},
   "outputs": [
    {
     "name": "stdout",
     "output_type": "stream",
     "text": [
      "Total unique correlated chem:dis observations:  145635\n",
      "Unique chems:  2968\n",
      "Unique diseases:  1034\n"
     ]
    }
   ],
   "source": [
    "print('Total unique correlated chem:dis observations: ', sider_mod.shape[0])\n",
    "print('Unique chems: ', sider_mod.CID.unique().shape[0])\n",
    "print('Unique diseases: ', sider_mod.MESH.unique().shape[0])"
   ]
  },
  {
   "cell_type": "code",
   "execution_count": 29,
   "metadata": {},
   "outputs": [],
   "source": [
    "# Now we have a set of chem:dis that are not in the NN training set"
   ]
  },
  {
   "cell_type": "code",
   "execution_count": 30,
   "metadata": {},
   "outputs": [],
   "source": [
    "# Next: Make each vector for these\n",
    "# Then: Run NN on them\n",
    "\n",
    "# Chemical entity - Gene Ontology embeddings (via associated genes)\n",
    "# Disease entity - Gene Ontology embeddings (via associated genes)\n",
    "# Disease entity - Human Phenotype Ontology embeddings (via associated phenotypes)\n",
    "# Disease entity - Mammalian Phenotype Ontology embeddings (via associated phenotypes)\n",
    "# Chemical entity - Chemical Entities of Biological Interest (CHEBI ) Ontology embeddings\n",
    "# Disease entity - Disease Ontology embeddings\n",
    "# Chemical entity - Human Interaction Network Ontology embeddings (via associated genes)\n",
    "# Disease entity - Human Interaction Network Ontology embeddings (via associated genes)\n"
   ]
  },
  {
   "cell_type": "code",
   "execution_count": 31,
   "metadata": {},
   "outputs": [],
   "source": [
    "# SIDER-GO vecs\n",
    "# For this I need chem-gene associations and disease-gene associations\n",
    "# Sources: CTD, Disgenet"
   ]
  },
  {
   "cell_type": "markdown",
   "metadata": {},
   "source": [
    "### Sider Go vecs\n",
    "First get IDs"
   ]
  },
  {
   "cell_type": "code",
   "execution_count": 32,
   "metadata": {},
   "outputs": [
    {
     "data": {
      "text/html": [
       "<div>\n",
       "<style scoped>\n",
       "    .dataframe tbody tr th:only-of-type {\n",
       "        vertical-align: middle;\n",
       "    }\n",
       "\n",
       "    .dataframe tbody tr th {\n",
       "        vertical-align: top;\n",
       "    }\n",
       "\n",
       "    .dataframe thead th {\n",
       "        text-align: right;\n",
       "    }\n",
       "</style>\n",
       "<table border=\"1\" class=\"dataframe\">\n",
       "  <thead>\n",
       "    <tr style=\"text-align: right;\">\n",
       "      <th></th>\n",
       "      <th>CID</th>\n",
       "      <th>MESH</th>\n",
       "    </tr>\n",
       "  </thead>\n",
       "  <tbody>\n",
       "    <tr>\n",
       "      <th>119514</th>\n",
       "      <td>CID005311051</td>\n",
       "      <td>Hyperglycemia</td>\n",
       "    </tr>\n",
       "    <tr>\n",
       "      <th>5944</th>\n",
       "      <td>CID100002375</td>\n",
       "      <td>Dysuria</td>\n",
       "    </tr>\n",
       "  </tbody>\n",
       "</table>\n",
       "</div>"
      ],
      "text/plain": [
       "                 CID           MESH\n",
       "119514  CID005311051  Hyperglycemia\n",
       "5944    CID100002375        Dysuria"
      ]
     },
     "execution_count": 32,
     "metadata": {},
     "output_type": "execute_result"
    }
   ],
   "source": [
    "sider_mod.sample(2)"
   ]
  },
  {
   "cell_type": "code",
   "execution_count": 33,
   "metadata": {},
   "outputs": [],
   "source": [
    "# Turn CID to CTD chemical ID with this map I made earlier \n",
    "# Load the map from pickle object\n",
    "def load_obj(name):\n",
    "    with open(name + '.pkl', 'rb') as f:\n",
    "        return pickle.load(f)\n",
    "\n",
    "ctd_cid_map = load_obj('../opa/ctd_cid_map')"
   ]
  },
  {
   "cell_type": "code",
   "execution_count": 34,
   "metadata": {},
   "outputs": [],
   "source": [
    "# Will need to standardise the CID and decode from bytes\n",
    "def cid_standardiser (cid):\n",
    "    # Must be format CID + 9 int chars, starting with 1 seemingly\n",
    "    cid = int(cid)\n",
    "    output = 'CID1' + '0' * (8 - len(str(cid))) + str(cid)\n",
    "    return output\n",
    "\n",
    "ctd_cid_map_df = pd.DataFrame.from_dict(ctd_cid_map, orient='index')"
   ]
  },
  {
   "cell_type": "code",
   "execution_count": 35,
   "metadata": {},
   "outputs": [],
   "source": [
    "# Process and reverse map\n",
    "ctd_cid_map_df[0] = ctd_cid_map_df[0].str.decode('utf-8')\n",
    "ctd_cid_map_df[0] = ctd_cid_map_df[0].map(lambda x: cid_standardiser(x))\n",
    "ctd_cid_map = dict(zip(ctd_cid_map_df[0], ctd_cid_map_df.index.values))"
   ]
  },
  {
   "cell_type": "code",
   "execution_count": 36,
   "metadata": {},
   "outputs": [],
   "source": [
    "# Now we have the map, apply it to our sider df\n",
    "sider_mod['ChemicalID'] = sider_mod.CID.map(lambda x: ctd_cid_map.get(x))"
   ]
  },
  {
   "cell_type": "code",
   "execution_count": 37,
   "metadata": {},
   "outputs": [
    {
     "name": "stdout",
     "output_type": "stream",
     "text": [
      "chem:dis combos:  31280\n",
      "unique chems:  595\n"
     ]
    }
   ],
   "source": [
    "print('chem:dis combos: ', sider_mod[sider_mod.ChemicalID.map(lambda x: x is not None)].shape[0])\n",
    "print('unique chems: ',sider_mod[sider_mod.ChemicalID.map(lambda x: x is not None)].ChemicalID.nunique())"
   ]
  },
  {
   "cell_type": "code",
   "execution_count": 38,
   "metadata": {},
   "outputs": [
    {
     "data": {
      "text/html": [
       "<div>\n",
       "<style scoped>\n",
       "    .dataframe tbody tr th:only-of-type {\n",
       "        vertical-align: middle;\n",
       "    }\n",
       "\n",
       "    .dataframe tbody tr th {\n",
       "        vertical-align: top;\n",
       "    }\n",
       "\n",
       "    .dataframe thead th {\n",
       "        text-align: right;\n",
       "    }\n",
       "</style>\n",
       "<table border=\"1\" class=\"dataframe\">\n",
       "  <thead>\n",
       "    <tr style=\"text-align: right;\">\n",
       "      <th></th>\n",
       "      <th>CID</th>\n",
       "      <th>MESH</th>\n",
       "      <th>ChemicalID</th>\n",
       "      <th>MESHid</th>\n",
       "    </tr>\n",
       "  </thead>\n",
       "  <tbody>\n",
       "    <tr>\n",
       "      <th>40</th>\n",
       "      <td>CID100000119</td>\n",
       "      <td>Angioedema</td>\n",
       "      <td>D005680</td>\n",
       "      <td>MESH:D000799</td>\n",
       "    </tr>\n",
       "    <tr>\n",
       "      <th>41</th>\n",
       "      <td>CID100000119</td>\n",
       "      <td>Pain</td>\n",
       "      <td>D005680</td>\n",
       "      <td>MESH:D010146</td>\n",
       "    </tr>\n",
       "    <tr>\n",
       "      <th>42</th>\n",
       "      <td>CID100000119</td>\n",
       "      <td>Urticaria</td>\n",
       "      <td>D005680</td>\n",
       "      <td>MESH:D014581</td>\n",
       "    </tr>\n",
       "    <tr>\n",
       "      <th>43</th>\n",
       "      <td>CID100000137</td>\n",
       "      <td>Anemia</td>\n",
       "      <td>D000622</td>\n",
       "      <td>MESH:D000740</td>\n",
       "    </tr>\n",
       "    <tr>\n",
       "      <th>44</th>\n",
       "      <td>CID100000137</td>\n",
       "      <td>Aphasia</td>\n",
       "      <td>D000622</td>\n",
       "      <td>MESH:D001037</td>\n",
       "    </tr>\n",
       "  </tbody>\n",
       "</table>\n",
       "</div>"
      ],
      "text/plain": [
       "             CID        MESH ChemicalID        MESHid\n",
       "40  CID100000119  Angioedema    D005680  MESH:D000799\n",
       "41  CID100000119        Pain    D005680  MESH:D010146\n",
       "42  CID100000119   Urticaria    D005680  MESH:D014581\n",
       "43  CID100000137      Anemia    D000622  MESH:D000740\n",
       "44  CID100000137     Aphasia    D000622  MESH:D001037"
      ]
     },
     "execution_count": 38,
     "metadata": {},
     "output_type": "execute_result"
    }
   ],
   "source": [
    "sider_mod = sider_mod[sider_mod.ChemicalID.map(lambda x: x is not None)]\n",
    "sider_mod['MESHid'] = sider_mod.MESH.map(lambda x: mesh_get_id.get(x))\n",
    "sider_mod.head()"
   ]
  },
  {
   "cell_type": "code",
   "execution_count": 39,
   "metadata": {},
   "outputs": [
    {
     "name": "stdout",
     "output_type": "stream",
     "text": [
      "Total unique correlated chem:dis observations:  31280\n",
      "Unique chems:  595\n",
      "Unique diseases:  886\n"
     ]
    }
   ],
   "source": [
    "print('Total unique correlated chem:dis observations: ', sider_mod.shape[0])\n",
    "print('Unique chems: ', sider_mod.CID.unique().shape[0])\n",
    "print('Unique diseases: ', sider_mod.MESHid.unique().shape[0])\n",
    "## Note that we're losing a lot when we take only chems in CTD - see if we can get gene assocs from elsewhere"
   ]
  },
  {
   "cell_type": "markdown",
   "metadata": {},
   "source": [
    "### Get chem-gene-vecs and dis-gene-vecs premade from CTD data"
   ]
  },
  {
   "cell_type": "code",
   "execution_count": 40,
   "metadata": {},
   "outputs": [],
   "source": [
    "# Import GOFUNC vecs directly, for diseases\n",
    "with open('../opa/go-gofuncs.lst', 'r') as file:\n",
    "    text = file.read()\n",
    "    \n",
    "# Strip and split vector data into list of lists [chem, vec]\n",
    "text = text.replace('\\n', '')\n",
    "text = text.split(']')\n",
    "text = [item.strip().split(' [') for item in text]\n",
    "\n",
    "# Turn it into a data frame\n",
    "df = pd.DataFrame(text)\n",
    "df.columns = ['ID', 'Vector']\n",
    "\n",
    "# Clean\n",
    "df = df.dropna()\n",
    "df['Vector'] = df.Vector.map(lambda x: x.rstrip().lstrip().replace('    ', ' ').replace('   ', ' ').replace('  ', ' ').replace(' ', ','))\n",
    "\n",
    "# Turn vector column into a list\n",
    "df['Vector'] = df.Vector.map(lambda x: x.split(','))"
   ]
  },
  {
   "cell_type": "code",
   "execution_count": 41,
   "metadata": {},
   "outputs": [
    {
     "data": {
      "text/plain": [
       "(845, 2)"
      ]
     },
     "execution_count": 41,
     "metadata": {},
     "output_type": "execute_result"
    }
   ],
   "source": [
    "df[df.ID.map(lambda x: ('MESH' not in x) & ('OMIM' not in x))].shape# 586"
   ]
  },
  {
   "cell_type": "code",
   "execution_count": 42,
   "metadata": {},
   "outputs": [],
   "source": [
    "# Get the chemical vecs, delete any row without a chemical vec\n",
    "chem_go_vecs = df[df.ID.map(lambda x: ('MESH' not in x) & ('OMIM' not in x))]\n",
    "chem_to_vec = dict(zip(chem_go_vecs.ID, chem_go_vecs.Vector))\n",
    "sider_mod['ChemGoVec'] = sider_mod.ChemicalID.map(lambda x: chem_to_vec.get(x))\n",
    "sider_mod = sider_mod[sider_mod.ChemGoVec.map(lambda x: x is not None)]"
   ]
  },
  {
   "cell_type": "code",
   "execution_count": 43,
   "metadata": {},
   "outputs": [],
   "source": [
    "# Get the disease vecs, delete any row without a disease vec\n",
    "dis_go_vecs = df[df.ID.map(lambda x: 'MESH' in x)]\n",
    "dis_to_vec = dict(zip(dis_go_vecs.ID, dis_go_vecs.Vector))\n",
    "sider_mod['DisGoVec'] = sider_mod.MESHid.map(lambda x: dis_to_vec.get(x))\n",
    "sider_mod = sider_mod[sider_mod.DisGoVec.map(lambda x: x is not None)]"
   ]
  },
  {
   "cell_type": "code",
   "execution_count": null,
   "metadata": {},
   "outputs": [],
   "source": []
  },
  {
   "cell_type": "code",
   "execution_count": 44,
   "metadata": {},
   "outputs": [
    {
     "data": {
      "text/html": [
       "<div>\n",
       "<style scoped>\n",
       "    .dataframe tbody tr th:only-of-type {\n",
       "        vertical-align: middle;\n",
       "    }\n",
       "\n",
       "    .dataframe tbody tr th {\n",
       "        vertical-align: top;\n",
       "    }\n",
       "\n",
       "    .dataframe thead th {\n",
       "        text-align: right;\n",
       "    }\n",
       "</style>\n",
       "<table border=\"1\" class=\"dataframe\">\n",
       "  <thead>\n",
       "    <tr style=\"text-align: right;\">\n",
       "      <th></th>\n",
       "      <th>CID</th>\n",
       "      <th>MESH</th>\n",
       "      <th>ChemicalID</th>\n",
       "      <th>MESHid</th>\n",
       "      <th>ChemGoVec</th>\n",
       "      <th>DisGoVec</th>\n",
       "    </tr>\n",
       "  </thead>\n",
       "  <tbody>\n",
       "    <tr>\n",
       "      <th>76</th>\n",
       "      <td>CID100000143</td>\n",
       "      <td>Anorexia</td>\n",
       "      <td>D002955</td>\n",
       "      <td>MESH:D000855</td>\n",
       "      <td>[-0.04375384, 0.05983105, -0.11726998, -0.0517...</td>\n",
       "      <td>[-1.35700975e-04, 1.38808534e-01, 3.22125033e-...</td>\n",
       "    </tr>\n",
       "    <tr>\n",
       "      <th>80</th>\n",
       "      <td>CID100000143</td>\n",
       "      <td>Diarrhea</td>\n",
       "      <td>D002955</td>\n",
       "      <td>MESH:D003967</td>\n",
       "      <td>[-0.04375384, 0.05983105, -0.11726998, -0.0517...</td>\n",
       "      <td>[0.03242041, 0.13026166, 0.02192746, -0.127020...</td>\n",
       "    </tr>\n",
       "    <tr>\n",
       "      <th>83</th>\n",
       "      <td>CID100000143</td>\n",
       "      <td>Hypersensitivity</td>\n",
       "      <td>D002955</td>\n",
       "      <td>MESH:D006967</td>\n",
       "      <td>[-0.04375384, 0.05983105, -0.11726998, -0.0517...</td>\n",
       "      <td>[0.03163584, 0.12489144, 0.02595111, -0.142592...</td>\n",
       "    </tr>\n",
       "    <tr>\n",
       "      <th>87</th>\n",
       "      <td>CID100000143</td>\n",
       "      <td>Pruritus</td>\n",
       "      <td>D002955</td>\n",
       "      <td>MESH:D011537</td>\n",
       "      <td>[-0.04375384, 0.05983105, -0.11726998, -0.0517...</td>\n",
       "      <td>[-0.00294329, 0.09807964, -0.07707691, -0.0823...</td>\n",
       "    </tr>\n",
       "    <tr>\n",
       "      <th>88</th>\n",
       "      <td>CID100000143</td>\n",
       "      <td>Stomatitis</td>\n",
       "      <td>D002955</td>\n",
       "      <td>MESH:D013280</td>\n",
       "      <td>[-0.04375384, 0.05983105, -0.11726998, -0.0517...</td>\n",
       "      <td>[-0.011678, 0.09770971, 0.02659312, -0.0894378...</td>\n",
       "    </tr>\n",
       "  </tbody>\n",
       "</table>\n",
       "</div>"
      ],
      "text/plain": [
       "             CID              MESH ChemicalID        MESHid  \\\n",
       "76  CID100000143          Anorexia    D002955  MESH:D000855   \n",
       "80  CID100000143          Diarrhea    D002955  MESH:D003967   \n",
       "83  CID100000143  Hypersensitivity    D002955  MESH:D006967   \n",
       "87  CID100000143          Pruritus    D002955  MESH:D011537   \n",
       "88  CID100000143        Stomatitis    D002955  MESH:D013280   \n",
       "\n",
       "                                            ChemGoVec  \\\n",
       "76  [-0.04375384, 0.05983105, -0.11726998, -0.0517...   \n",
       "80  [-0.04375384, 0.05983105, -0.11726998, -0.0517...   \n",
       "83  [-0.04375384, 0.05983105, -0.11726998, -0.0517...   \n",
       "87  [-0.04375384, 0.05983105, -0.11726998, -0.0517...   \n",
       "88  [-0.04375384, 0.05983105, -0.11726998, -0.0517...   \n",
       "\n",
       "                                             DisGoVec  \n",
       "76  [-1.35700975e-04, 1.38808534e-01, 3.22125033e-...  \n",
       "80  [0.03242041, 0.13026166, 0.02192746, -0.127020...  \n",
       "83  [0.03163584, 0.12489144, 0.02595111, -0.142592...  \n",
       "87  [-0.00294329, 0.09807964, -0.07707691, -0.0823...  \n",
       "88  [-0.011678, 0.09770971, 0.02659312, -0.0894378...  "
      ]
     },
     "execution_count": 44,
     "metadata": {},
     "output_type": "execute_result"
    }
   ],
   "source": [
    "sider_mod.head()"
   ]
  },
  {
   "cell_type": "code",
   "execution_count": 45,
   "metadata": {},
   "outputs": [
    {
     "name": "stdout",
     "output_type": "stream",
     "text": [
      "Number of chem-dis pairs with gofuncs:  1366\n",
      "Number of chems:  62\n",
      "Number of diseases:  166\n"
     ]
    }
   ],
   "source": [
    "has_dis_vec = sider_mod.DisGoVec.map(lambda x: x is not np.nan)\n",
    "has_chem_vec = sider_mod.ChemGoVec.map(lambda x: x is not None)\n",
    "sider_mod = sider_mod[has_dis_vec & has_chem_vec]\n",
    "print('Number of chem-dis pairs with gofuncs: ', sider_mod.shape[0])\n",
    "print('Number of chems: ', sider_mod.ChemicalID.nunique())\n",
    "print('Number of diseases: ', sider_mod.MESHid.nunique())"
   ]
  },
  {
   "cell_type": "markdown",
   "metadata": {},
   "source": [
    "### Del any pairs in the original NN dataset"
   ]
  },
  {
   "cell_type": "code",
   "execution_count": 46,
   "metadata": {},
   "outputs": [],
   "source": [
    "# Now to make it a real blind test we must del any chem-dis pairs in the NN db\n",
    "nn_chem_dis = pd.read_csv('../ctd-to-nt/chem-dis-pos-assocs.csv')\n",
    "nn_chem_dis.columns = ['ChemicalID', 'MESHid']\n",
    "\n",
    "# Remove from sider_mod any chem-dis pairs that exist in nn_chem_dis\n",
    "combined_cd = pd.merge(sider_mod[['ChemicalID', 'MESHid']], nn_chem_dis, on=['ChemicalID', 'MESHid'], how='left', indicator='Exist')\n",
    "combined_cd['Exist'] = np.where(combined_cd.Exist == 'both', True, False)\n",
    "not_in_nn = [not i for i in list(combined_cd.Exist)]\n",
    "sider_mod = sider_mod[not_in_nn]"
   ]
  },
  {
   "cell_type": "code",
   "execution_count": 47,
   "metadata": {},
   "outputs": [
    {
     "name": "stdout",
     "output_type": "stream",
     "text": [
      "Number of chem-dis pairs with gofuncs:  991\n",
      "Number of chems:  62\n",
      "Number of diseases:  151\n"
     ]
    }
   ],
   "source": [
    "has_dis_vec = sider_mod.DisGoVec.map(lambda x: x is not np.nan)\n",
    "has_chem_vec = sider_mod.ChemGoVec.map(lambda x: x is not None)\n",
    "sider_mod = sider_mod[has_dis_vec & has_chem_vec]\n",
    "print('Number of chem-dis pairs with gofuncs: ', sider_mod.shape[0])\n",
    "print('Number of chems: ', sider_mod.ChemicalID.nunique())\n",
    "print('Number of diseases: ', sider_mod.MESHid.nunique())"
   ]
  },
  {
   "cell_type": "code",
   "execution_count": null,
   "metadata": {},
   "outputs": [],
   "source": []
  },
  {
   "cell_type": "markdown",
   "metadata": {},
   "source": [
    "### Add control rows (all above are correlated)"
   ]
  },
  {
   "cell_type": "code",
   "execution_count": 48,
   "metadata": {},
   "outputs": [],
   "source": [
    "# Add control rows (all above are correlated)\n",
    "sider_mod['Correlation'] = 1"
   ]
  },
  {
   "cell_type": "code",
   "execution_count": 49,
   "metadata": {},
   "outputs": [
    {
     "data": {
      "text/html": [
       "<div>\n",
       "<style scoped>\n",
       "    .dataframe tbody tr th:only-of-type {\n",
       "        vertical-align: middle;\n",
       "    }\n",
       "\n",
       "    .dataframe tbody tr th {\n",
       "        vertical-align: top;\n",
       "    }\n",
       "\n",
       "    .dataframe thead th {\n",
       "        text-align: right;\n",
       "    }\n",
       "</style>\n",
       "<table border=\"1\" class=\"dataframe\">\n",
       "  <thead>\n",
       "    <tr style=\"text-align: right;\">\n",
       "      <th></th>\n",
       "      <th>CID1</th>\n",
       "      <th>CID2</th>\n",
       "      <th>UMLS</th>\n",
       "      <th>UMLS2Type</th>\n",
       "      <th>UMLS2</th>\n",
       "      <th>SEname</th>\n",
       "      <th>MESH</th>\n",
       "    </tr>\n",
       "  </thead>\n",
       "  <tbody>\n",
       "    <tr>\n",
       "      <th>0</th>\n",
       "      <td>CID100000085</td>\n",
       "      <td>CID000010917</td>\n",
       "      <td>C0000729</td>\n",
       "      <td>LLT</td>\n",
       "      <td>C0000729</td>\n",
       "      <td>Abdominal cramps</td>\n",
       "      <td>None</td>\n",
       "    </tr>\n",
       "    <tr>\n",
       "      <th>1</th>\n",
       "      <td>CID100000085</td>\n",
       "      <td>CID000010917</td>\n",
       "      <td>C0000729</td>\n",
       "      <td>PT</td>\n",
       "      <td>C0000737</td>\n",
       "      <td>Abdominal pain</td>\n",
       "      <td>Abdominal Pain</td>\n",
       "    </tr>\n",
       "    <tr>\n",
       "      <th>2</th>\n",
       "      <td>CID100000085</td>\n",
       "      <td>CID000010917</td>\n",
       "      <td>C0000737</td>\n",
       "      <td>LLT</td>\n",
       "      <td>C0000737</td>\n",
       "      <td>Abdominal pain</td>\n",
       "      <td>Abdominal Pain</td>\n",
       "    </tr>\n",
       "    <tr>\n",
       "      <th>3</th>\n",
       "      <td>CID100000085</td>\n",
       "      <td>CID000010917</td>\n",
       "      <td>C0000737</td>\n",
       "      <td>PT</td>\n",
       "      <td>C0687713</td>\n",
       "      <td>Gastrointestinal pain</td>\n",
       "      <td>None</td>\n",
       "    </tr>\n",
       "    <tr>\n",
       "      <th>4</th>\n",
       "      <td>CID100000085</td>\n",
       "      <td>CID000010917</td>\n",
       "      <td>C0000737</td>\n",
       "      <td>PT</td>\n",
       "      <td>C0000737</td>\n",
       "      <td>Abdominal pain</td>\n",
       "      <td>Abdominal Pain</td>\n",
       "    </tr>\n",
       "  </tbody>\n",
       "</table>\n",
       "</div>"
      ],
      "text/plain": [
       "           CID1          CID2      UMLS UMLS2Type     UMLS2  \\\n",
       "0  CID100000085  CID000010917  C0000729       LLT  C0000729   \n",
       "1  CID100000085  CID000010917  C0000729        PT  C0000737   \n",
       "2  CID100000085  CID000010917  C0000737       LLT  C0000737   \n",
       "3  CID100000085  CID000010917  C0000737        PT  C0687713   \n",
       "4  CID100000085  CID000010917  C0000737        PT  C0000737   \n",
       "\n",
       "                  SEname            MESH  \n",
       "0       Abdominal cramps            None  \n",
       "1         Abdominal pain  Abdominal Pain  \n",
       "2         Abdominal pain  Abdominal Pain  \n",
       "3  Gastrointestinal pain            None  \n",
       "4         Abdominal pain  Abdominal Pain  "
      ]
     },
     "execution_count": 49,
     "metadata": {},
     "output_type": "execute_result"
    }
   ],
   "source": [
    "sider.head()"
   ]
  },
  {
   "cell_type": "code",
   "execution_count": 50,
   "metadata": {},
   "outputs": [
    {
     "name": "stdout",
     "output_type": "stream",
     "text": [
      "Original shape:  (991, 7)\n",
      "Shape after dropping duplicates:  (991, 7)\n",
      "Shape after adding controls:  (1981, 7)\n",
      "Shape after dropping duplicates:  (1657, 7)\n"
     ]
    }
   ],
   "source": [
    "# Add unrelated pairs - control obs\n",
    "no_rows = (sider_mod.shape[0]-1)    # This is a parameter to be tuned --> how many uncorrelated pairs do we want\n",
    "print('Original shape: ', sider_mod.shape)\n",
    "sider_mod = sider_mod.drop_duplicates(subset=['ChemicalID', 'MESHid'], keep=False)\n",
    "print('Shape after dropping duplicates: ', sider_mod.shape)\n",
    "\n",
    "# Randomly select chems and diseases (as many as there are related pairs)\n",
    "df_chems = sider_mod[['ChemicalID', 'ChemGoVec']].drop_duplicates(subset=['ChemicalID']).reset_index(drop=True)\n",
    "df_dis = sider_mod[['MESHid', 'DisGoVec', 'MESH']].drop_duplicates(subset=['MESHid']).reset_index(drop=True)\n",
    "df_chems.columns = ['ID', 'Vector']\n",
    "df_dis.columns = ['ID', 'Vector', 'MESH']\n",
    "\n",
    "# print('chem size: ', df_chems.shape[0])\n",
    "# print('dis size: ', df_dis.shape[0])\n",
    "\n",
    "no_chems = len(df_chems) - 1\n",
    "no_dis = len(df_dis) - 1\n",
    "rand_chems = np.random.choice(no_chems, no_rows, replace=True)\n",
    "rand_dis = np.random.choice(no_dis, no_rows, replace=True)\n",
    "\n",
    "# Add the new pairs as rows\n",
    "for x in range(0, no_rows):\n",
    "    int1 = rand_chems[x]\n",
    "    int2 = rand_dis[x]\n",
    "    chem, chemvec = df_chems.loc[int1, 'ID'], df_chems.loc[int1, 'Vector']\n",
    "    dis, disvec, mesh = df_dis.loc[int2, 'ID'], df_dis.loc[int2, 'Vector'], df_dis.loc[int2, 'MESH']\n",
    "    sider_mod = sider_mod.append({'ChemicalID':chem, 'MESHid':dis, 'ChemGoVec':chemvec, 'DisGoVec': disvec, 'Correlation':0, 'MESH': mesh}, ignore_index=True)\n",
    "\n",
    "print('Shape after adding controls: ', sider_mod.shape)\n",
    "# Drop any duplicates (removes known correlated pairs accidentally generated as uncorrelated)\n",
    "sider_mod = sider_mod.drop_duplicates(subset=['ChemicalID', 'MESHid'], keep=False)\n",
    "print('Shape after dropping duplicates: ', sider_mod.shape)"
   ]
  },
  {
   "cell_type": "code",
   "execution_count": 51,
   "metadata": {},
   "outputs": [
    {
     "data": {
      "text/html": [
       "<div>\n",
       "<style scoped>\n",
       "    .dataframe tbody tr th:only-of-type {\n",
       "        vertical-align: middle;\n",
       "    }\n",
       "\n",
       "    .dataframe tbody tr th {\n",
       "        vertical-align: top;\n",
       "    }\n",
       "\n",
       "    .dataframe thead th {\n",
       "        text-align: right;\n",
       "    }\n",
       "</style>\n",
       "<table border=\"1\" class=\"dataframe\">\n",
       "  <thead>\n",
       "    <tr style=\"text-align: right;\">\n",
       "      <th></th>\n",
       "      <th>CID</th>\n",
       "      <th>MESH</th>\n",
       "      <th>ChemicalID</th>\n",
       "      <th>MESHid</th>\n",
       "      <th>ChemGoVec</th>\n",
       "      <th>DisGoVec</th>\n",
       "      <th>Correlation</th>\n",
       "    </tr>\n",
       "  </thead>\n",
       "  <tbody>\n",
       "    <tr>\n",
       "      <th>0</th>\n",
       "      <td>CID100000143</td>\n",
       "      <td>Hypersensitivity</td>\n",
       "      <td>D002955</td>\n",
       "      <td>MESH:D006967</td>\n",
       "      <td>[-0.04375384, 0.05983105, -0.11726998, -0.0517...</td>\n",
       "      <td>[0.03163584, 0.12489144, 0.02595111, -0.142592...</td>\n",
       "      <td>1</td>\n",
       "    </tr>\n",
       "    <tr>\n",
       "      <th>2</th>\n",
       "      <td>CID100000143</td>\n",
       "      <td>Urticaria</td>\n",
       "      <td>D002955</td>\n",
       "      <td>MESH:D014581</td>\n",
       "      <td>[-0.04375384, 0.05983105, -0.11726998, -0.0517...</td>\n",
       "      <td>[-0.05275472, 0.06301367, -0.17321466, -0.0895...</td>\n",
       "      <td>1</td>\n",
       "    </tr>\n",
       "    <tr>\n",
       "      <th>3</th>\n",
       "      <td>CID100000143</td>\n",
       "      <td>Acute Kidney Injury</td>\n",
       "      <td>D002955</td>\n",
       "      <td>MESH:D058186</td>\n",
       "      <td>[-0.04375384, 0.05983105, -0.11726998, -0.0517...</td>\n",
       "      <td>[0.0238973, 0.07814123, 0.0345676, -0.08827752...</td>\n",
       "      <td>1</td>\n",
       "    </tr>\n",
       "    <tr>\n",
       "      <th>4</th>\n",
       "      <td>CID100000143</td>\n",
       "      <td>Disease Progression</td>\n",
       "      <td>D002955</td>\n",
       "      <td>MESH:D018450</td>\n",
       "      <td>[-0.04375384, 0.05983105, -0.11726998, -0.0517...</td>\n",
       "      <td>[0.03092173, 0.13223884, -0.04477117, -0.14742...</td>\n",
       "      <td>1</td>\n",
       "    </tr>\n",
       "    <tr>\n",
       "      <th>6</th>\n",
       "      <td>CID100000681</td>\n",
       "      <td>Atrial Fibrillation</td>\n",
       "      <td>D004298</td>\n",
       "      <td>MESH:D001281</td>\n",
       "      <td>[-0.01242278, 0.09383001, -0.07544384, -0.1446...</td>\n",
       "      <td>[0.02409604, 0.13129537, 0.0031278, -0.1579988...</td>\n",
       "      <td>1</td>\n",
       "    </tr>\n",
       "  </tbody>\n",
       "</table>\n",
       "</div>"
      ],
      "text/plain": [
       "            CID                 MESH ChemicalID        MESHid  \\\n",
       "0  CID100000143     Hypersensitivity    D002955  MESH:D006967   \n",
       "2  CID100000143            Urticaria    D002955  MESH:D014581   \n",
       "3  CID100000143  Acute Kidney Injury    D002955  MESH:D058186   \n",
       "4  CID100000143  Disease Progression    D002955  MESH:D018450   \n",
       "6  CID100000681  Atrial Fibrillation    D004298  MESH:D001281   \n",
       "\n",
       "                                           ChemGoVec  \\\n",
       "0  [-0.04375384, 0.05983105, -0.11726998, -0.0517...   \n",
       "2  [-0.04375384, 0.05983105, -0.11726998, -0.0517...   \n",
       "3  [-0.04375384, 0.05983105, -0.11726998, -0.0517...   \n",
       "4  [-0.04375384, 0.05983105, -0.11726998, -0.0517...   \n",
       "6  [-0.01242278, 0.09383001, -0.07544384, -0.1446...   \n",
       "\n",
       "                                            DisGoVec  Correlation  \n",
       "0  [0.03163584, 0.12489144, 0.02595111, -0.142592...            1  \n",
       "2  [-0.05275472, 0.06301367, -0.17321466, -0.0895...            1  \n",
       "3  [0.0238973, 0.07814123, 0.0345676, -0.08827752...            1  \n",
       "4  [0.03092173, 0.13223884, -0.04477117, -0.14742...            1  \n",
       "6  [0.02409604, 0.13129537, 0.0031278, -0.1579988...            1  "
      ]
     },
     "execution_count": 51,
     "metadata": {},
     "output_type": "execute_result"
    }
   ],
   "source": [
    "sider_mod.head()"
   ]
  },
  {
   "cell_type": "code",
   "execution_count": null,
   "metadata": {},
   "outputs": [],
   "source": []
  },
  {
   "cell_type": "code",
   "execution_count": 52,
   "metadata": {},
   "outputs": [],
   "source": [
    "# sider_mod[['MESH', 'ChemicalID', 'Correlation']].sort_values(['ChemicalID'])"
   ]
  },
  {
   "cell_type": "code",
   "execution_count": 53,
   "metadata": {},
   "outputs": [],
   "source": [
    "# Manually looking at chem-dis associations. Some don't seem to exist like\n",
    "# Hypertension\tD019793\n",
    "# Neoplasms\tD019793\n",
    "# Don't seem to exist - google search but do exist in sider"
   ]
  },
  {
   "cell_type": "code",
   "execution_count": 54,
   "metadata": {},
   "outputs": [
    {
     "data": {
      "text/html": [
       "<div>\n",
       "<style scoped>\n",
       "    .dataframe tbody tr th:only-of-type {\n",
       "        vertical-align: middle;\n",
       "    }\n",
       "\n",
       "    .dataframe tbody tr th {\n",
       "        vertical-align: top;\n",
       "    }\n",
       "\n",
       "    .dataframe thead th {\n",
       "        text-align: right;\n",
       "    }\n",
       "</style>\n",
       "<table border=\"1\" class=\"dataframe\">\n",
       "  <thead>\n",
       "    <tr style=\"text-align: right;\">\n",
       "      <th></th>\n",
       "      <th>CID</th>\n",
       "      <th>MESH</th>\n",
       "      <th>ChemicalID</th>\n",
       "      <th>MESHid</th>\n",
       "      <th>ChemGoVec</th>\n",
       "      <th>DisGoVec</th>\n",
       "      <th>Correlation</th>\n",
       "    </tr>\n",
       "  </thead>\n",
       "  <tbody>\n",
       "    <tr>\n",
       "      <th>423</th>\n",
       "      <td>CID100003394</td>\n",
       "      <td>Skin Ulcer</td>\n",
       "      <td>D005480</td>\n",
       "      <td>MESH:D012883</td>\n",
       "      <td>[-0.035742, 0.03456548, -0.217711, -0.06264855...</td>\n",
       "      <td>[-0.00760662, 0.10853698, -0.04041342, -0.1150...</td>\n",
       "      <td>1</td>\n",
       "    </tr>\n",
       "    <tr>\n",
       "      <th>1641</th>\n",
       "      <td>NaN</td>\n",
       "      <td>Adenocarcinoma of lung</td>\n",
       "      <td>D005013</td>\n",
       "      <td>MESH:C538231</td>\n",
       "      <td>[-6.23983219e-02, 3.05526033e-02, -6.98827058e...</td>\n",
       "      <td>[-1.99492890e-02, 1.23391971e-01, 5.40936664e-...</td>\n",
       "      <td>0</td>\n",
       "    </tr>\n",
       "    <tr>\n",
       "      <th>156</th>\n",
       "      <td>CID100002818</td>\n",
       "      <td>Hypertriglyceridemia</td>\n",
       "      <td>D003024</td>\n",
       "      <td>MESH:D015228</td>\n",
       "      <td>[0.00269767, 0.14648503, 0.00703032, -0.138347...</td>\n",
       "      <td>[0.01583762, 0.14497107, 0.0456062, -0.1102462...</td>\n",
       "      <td>1</td>\n",
       "    </tr>\n",
       "    <tr>\n",
       "      <th>1646</th>\n",
       "      <td>NaN</td>\n",
       "      <td>Trigeminal Neuralgia</td>\n",
       "      <td>D012968</td>\n",
       "      <td>MESH:D014277</td>\n",
       "      <td>[0.01459336, 0.10860223, 0.03106978, -0.113938...</td>\n",
       "      <td>[0.00975664, -0.00295015, -0.18856503, -0.0529...</td>\n",
       "      <td>0</td>\n",
       "    </tr>\n",
       "    <tr>\n",
       "      <th>1559</th>\n",
       "      <td>NaN</td>\n",
       "      <td>Hypersensitivity</td>\n",
       "      <td>D004221</td>\n",
       "      <td>MESH:D006967</td>\n",
       "      <td>[-4.41320464e-02, 4.18050997e-02, -1.52748421e...</td>\n",
       "      <td>[0.03163584, 0.12489144, 0.02595111, -0.142592...</td>\n",
       "      <td>0</td>\n",
       "    </tr>\n",
       "  </tbody>\n",
       "</table>\n",
       "</div>"
      ],
      "text/plain": [
       "               CID                    MESH ChemicalID        MESHid  \\\n",
       "423   CID100003394              Skin Ulcer    D005480  MESH:D012883   \n",
       "1641           NaN  Adenocarcinoma of lung    D005013  MESH:C538231   \n",
       "156   CID100002818    Hypertriglyceridemia    D003024  MESH:D015228   \n",
       "1646           NaN    Trigeminal Neuralgia    D012968  MESH:D014277   \n",
       "1559           NaN        Hypersensitivity    D004221  MESH:D006967   \n",
       "\n",
       "                                              ChemGoVec  \\\n",
       "423   [-0.035742, 0.03456548, -0.217711, -0.06264855...   \n",
       "1641  [-6.23983219e-02, 3.05526033e-02, -6.98827058e...   \n",
       "156   [0.00269767, 0.14648503, 0.00703032, -0.138347...   \n",
       "1646  [0.01459336, 0.10860223, 0.03106978, -0.113938...   \n",
       "1559  [-4.41320464e-02, 4.18050997e-02, -1.52748421e...   \n",
       "\n",
       "                                               DisGoVec  Correlation  \n",
       "423   [-0.00760662, 0.10853698, -0.04041342, -0.1150...            1  \n",
       "1641  [-1.99492890e-02, 1.23391971e-01, 5.40936664e-...            0  \n",
       "156   [0.01583762, 0.14497107, 0.0456062, -0.1102462...            1  \n",
       "1646  [0.00975664, -0.00295015, -0.18856503, -0.0529...            0  \n",
       "1559  [0.03163584, 0.12489144, 0.02595111, -0.142592...            0  "
      ]
     },
     "execution_count": 54,
     "metadata": {},
     "output_type": "execute_result"
    }
   ],
   "source": [
    "sider_mod.sample(5)"
   ]
  },
  {
   "cell_type": "markdown",
   "metadata": {},
   "source": [
    "##  SIDER Phenotype Ontology "
   ]
  },
  {
   "cell_type": "code",
   "execution_count": 55,
   "metadata": {},
   "outputs": [
    {
     "name": "stdout",
     "output_type": "stream",
     "text": [
      "1671\n"
     ]
    }
   ],
   "source": [
    "# First get DOIDs --> importing map and applying it:\n",
    "mapper = pd.read_csv('../opa/chem_dis_to_CID_DOID.csv')\n",
    "print(mapper.DOID.nunique()) # 1671\n",
    "mesh_to_doid = dict(zip(mapper.ID, mapper.DOID))\n",
    "sider_mod['DOID'] = sider_mod.MESHid.map(lambda x: mesh_to_doid.get(x))"
   ]
  },
  {
   "cell_type": "code",
   "execution_count": 56,
   "metadata": {},
   "outputs": [],
   "source": [
    "# Standardise the DOIDs\n",
    "def doid_standardiser (doid):\n",
    "    doid = doid.replace(':', '_')\n",
    "    return doid\n",
    "\n",
    "sider_mod['DOID'] = sider_mod.DOID.map(lambda x: np.nan if isinstance(x, float) else doid_standardiser(x))"
   ]
  },
  {
   "cell_type": "code",
   "execution_count": 57,
   "metadata": {},
   "outputs": [],
   "source": [
    "# Simply load in the premade dis-phenVec maps\n",
    "def load_obj(name):\n",
    "    with open(name + '.pkl', 'rb') as f:\n",
    "        return pickle.load(f)\n",
    "\n",
    "dis_mpVec = load_obj('../opa/dis_mpVec_map')\n",
    "\n",
    "def load_obj(name):\n",
    "    with open(name + '.pkl', 'rb') as f:\n",
    "        return pickle.load(f)\n",
    "\n",
    "dis_hpVec = load_obj('../opa/dis_hpVec_map')"
   ]
  },
  {
   "cell_type": "code",
   "execution_count": 58,
   "metadata": {},
   "outputs": [],
   "source": [
    "# Apply the maps to add phenVecs to our dataframe\n",
    "empty_vec = [0] * 200\n",
    "\n",
    "sider_mod['disPhenVecMP'] = sider_mod.DOID.map(lambda x: dis_mpVec.get(x, empty_vec))\n",
    "sider_mod['disPhenVecHP'] = sider_mod.DOID.map(lambda x: dis_hpVec.get(x, empty_vec))"
   ]
  },
  {
   "cell_type": "code",
   "execution_count": 59,
   "metadata": {},
   "outputs": [
    {
     "data": {
      "text/html": [
       "<div>\n",
       "<style scoped>\n",
       "    .dataframe tbody tr th:only-of-type {\n",
       "        vertical-align: middle;\n",
       "    }\n",
       "\n",
       "    .dataframe tbody tr th {\n",
       "        vertical-align: top;\n",
       "    }\n",
       "\n",
       "    .dataframe thead th {\n",
       "        text-align: right;\n",
       "    }\n",
       "</style>\n",
       "<table border=\"1\" class=\"dataframe\">\n",
       "  <thead>\n",
       "    <tr style=\"text-align: right;\">\n",
       "      <th></th>\n",
       "      <th>CID</th>\n",
       "      <th>MESH</th>\n",
       "      <th>ChemicalID</th>\n",
       "      <th>MESHid</th>\n",
       "      <th>ChemGoVec</th>\n",
       "      <th>DisGoVec</th>\n",
       "      <th>Correlation</th>\n",
       "      <th>DOID</th>\n",
       "      <th>disPhenVecMP</th>\n",
       "      <th>disPhenVecHP</th>\n",
       "    </tr>\n",
       "  </thead>\n",
       "  <tbody>\n",
       "    <tr>\n",
       "      <th>0</th>\n",
       "      <td>CID100000143</td>\n",
       "      <td>Hypersensitivity</td>\n",
       "      <td>D002955</td>\n",
       "      <td>MESH:D006967</td>\n",
       "      <td>[-0.04375384, 0.05983105, -0.11726998, -0.0517...</td>\n",
       "      <td>[0.03163584, 0.12489144, 0.02595111, -0.142592...</td>\n",
       "      <td>1</td>\n",
       "      <td>DOID_1205</td>\n",
       "      <td>[3.10053602e-02, 1.36995822e-01, 5.86080104e-0...</td>\n",
       "      <td>[4.44377996e-02, 1.47881836e-01, 7.03755245e-0...</td>\n",
       "    </tr>\n",
       "    <tr>\n",
       "      <th>2</th>\n",
       "      <td>CID100000143</td>\n",
       "      <td>Urticaria</td>\n",
       "      <td>D002955</td>\n",
       "      <td>MESH:D014581</td>\n",
       "      <td>[-0.04375384, 0.05983105, -0.11726998, -0.0517...</td>\n",
       "      <td>[-0.05275472, 0.06301367, -0.17321466, -0.0895...</td>\n",
       "      <td>1</td>\n",
       "      <td>DOID_1555</td>\n",
       "      <td>[2.47163400e-02, 1.18226737e-01, 4.61919121e-0...</td>\n",
       "      <td>[4.06458825e-02, 1.50512770e-01, 5.22731468e-0...</td>\n",
       "    </tr>\n",
       "    <tr>\n",
       "      <th>3</th>\n",
       "      <td>CID100000143</td>\n",
       "      <td>Acute Kidney Injury</td>\n",
       "      <td>D002955</td>\n",
       "      <td>MESH:D058186</td>\n",
       "      <td>[-0.04375384, 0.05983105, -0.11726998, -0.0517...</td>\n",
       "      <td>[0.0238973, 0.07814123, 0.0345676, -0.08827752...</td>\n",
       "      <td>1</td>\n",
       "      <td>DOID_3021</td>\n",
       "      <td>[2.60288436e-02, 1.05936542e-01, 4.98992279e-0...</td>\n",
       "      <td>[4.38529812e-02, 1.56046316e-01, 5.53010181e-0...</td>\n",
       "    </tr>\n",
       "    <tr>\n",
       "      <th>4</th>\n",
       "      <td>CID100000143</td>\n",
       "      <td>Disease Progression</td>\n",
       "      <td>D002955</td>\n",
       "      <td>MESH:D018450</td>\n",
       "      <td>[-0.04375384, 0.05983105, -0.11726998, -0.0517...</td>\n",
       "      <td>[0.03092173, 0.13223884, -0.04477117, -0.14742...</td>\n",
       "      <td>1</td>\n",
       "      <td>NaN</td>\n",
       "      <td>[0, 0, 0, 0, 0, 0, 0, 0, 0, 0, 0, 0, 0, 0, 0, ...</td>\n",
       "      <td>[0, 0, 0, 0, 0, 0, 0, 0, 0, 0, 0, 0, 0, 0, 0, ...</td>\n",
       "    </tr>\n",
       "    <tr>\n",
       "      <th>6</th>\n",
       "      <td>CID100000681</td>\n",
       "      <td>Atrial Fibrillation</td>\n",
       "      <td>D004298</td>\n",
       "      <td>MESH:D001281</td>\n",
       "      <td>[-0.01242278, 0.09383001, -0.07544384, -0.1446...</td>\n",
       "      <td>[0.02409604, 0.13129537, 0.0031278, -0.1579988...</td>\n",
       "      <td>1</td>\n",
       "      <td>DOID_0060224</td>\n",
       "      <td>[0.05471873, 0.15233922, 0.07463891, -0.128690...</td>\n",
       "      <td>[6.88141435e-02, 1.53615937e-01, 6.51953071e-0...</td>\n",
       "    </tr>\n",
       "  </tbody>\n",
       "</table>\n",
       "</div>"
      ],
      "text/plain": [
       "            CID                 MESH ChemicalID        MESHid  \\\n",
       "0  CID100000143     Hypersensitivity    D002955  MESH:D006967   \n",
       "2  CID100000143            Urticaria    D002955  MESH:D014581   \n",
       "3  CID100000143  Acute Kidney Injury    D002955  MESH:D058186   \n",
       "4  CID100000143  Disease Progression    D002955  MESH:D018450   \n",
       "6  CID100000681  Atrial Fibrillation    D004298  MESH:D001281   \n",
       "\n",
       "                                           ChemGoVec  \\\n",
       "0  [-0.04375384, 0.05983105, -0.11726998, -0.0517...   \n",
       "2  [-0.04375384, 0.05983105, -0.11726998, -0.0517...   \n",
       "3  [-0.04375384, 0.05983105, -0.11726998, -0.0517...   \n",
       "4  [-0.04375384, 0.05983105, -0.11726998, -0.0517...   \n",
       "6  [-0.01242278, 0.09383001, -0.07544384, -0.1446...   \n",
       "\n",
       "                                            DisGoVec  Correlation  \\\n",
       "0  [0.03163584, 0.12489144, 0.02595111, -0.142592...            1   \n",
       "2  [-0.05275472, 0.06301367, -0.17321466, -0.0895...            1   \n",
       "3  [0.0238973, 0.07814123, 0.0345676, -0.08827752...            1   \n",
       "4  [0.03092173, 0.13223884, -0.04477117, -0.14742...            1   \n",
       "6  [0.02409604, 0.13129537, 0.0031278, -0.1579988...            1   \n",
       "\n",
       "           DOID                                       disPhenVecMP  \\\n",
       "0     DOID_1205  [3.10053602e-02, 1.36995822e-01, 5.86080104e-0...   \n",
       "2     DOID_1555  [2.47163400e-02, 1.18226737e-01, 4.61919121e-0...   \n",
       "3     DOID_3021  [2.60288436e-02, 1.05936542e-01, 4.98992279e-0...   \n",
       "4           NaN  [0, 0, 0, 0, 0, 0, 0, 0, 0, 0, 0, 0, 0, 0, 0, ...   \n",
       "6  DOID_0060224  [0.05471873, 0.15233922, 0.07463891, -0.128690...   \n",
       "\n",
       "                                        disPhenVecHP  \n",
       "0  [4.44377996e-02, 1.47881836e-01, 7.03755245e-0...  \n",
       "2  [4.06458825e-02, 1.50512770e-01, 5.22731468e-0...  \n",
       "3  [4.38529812e-02, 1.56046316e-01, 5.53010181e-0...  \n",
       "4  [0, 0, 0, 0, 0, 0, 0, 0, 0, 0, 0, 0, 0, 0, 0, ...  \n",
       "6  [6.88141435e-02, 1.53615937e-01, 6.51953071e-0...  "
      ]
     },
     "execution_count": 59,
     "metadata": {},
     "output_type": "execute_result"
    }
   ],
   "source": [
    "sider_mod.head()"
   ]
  },
  {
   "cell_type": "code",
   "execution_count": null,
   "metadata": {},
   "outputs": [],
   "source": []
  },
  {
   "cell_type": "code",
   "execution_count": null,
   "metadata": {},
   "outputs": [],
   "source": []
  },
  {
   "cell_type": "code",
   "execution_count": 60,
   "metadata": {},
   "outputs": [],
   "source": [
    "# Right let's add the rest of the features to our dataset"
   ]
  },
  {
   "cell_type": "markdown",
   "metadata": {},
   "source": [
    "### Add CHEBI vecs"
   ]
  },
  {
   "cell_type": "code",
   "execution_count": 61,
   "metadata": {},
   "outputs": [],
   "source": [
    "# Import chem2chebivec map made in opa-nn notebook\n",
    "def load_obj(name):\n",
    "    with open(name + '.pkl', 'rb') as f:\n",
    "        return pickle.load(f)\n",
    "\n",
    "chem2chebi = load_obj('../opa/chem2chebi')"
   ]
  },
  {
   "cell_type": "code",
   "execution_count": 62,
   "metadata": {},
   "outputs": [
    {
     "data": {
      "text/html": [
       "<div>\n",
       "<style scoped>\n",
       "    .dataframe tbody tr th:only-of-type {\n",
       "        vertical-align: middle;\n",
       "    }\n",
       "\n",
       "    .dataframe tbody tr th {\n",
       "        vertical-align: top;\n",
       "    }\n",
       "\n",
       "    .dataframe thead th {\n",
       "        text-align: right;\n",
       "    }\n",
       "</style>\n",
       "<table border=\"1\" class=\"dataframe\">\n",
       "  <thead>\n",
       "    <tr style=\"text-align: right;\">\n",
       "      <th></th>\n",
       "      <th>CID</th>\n",
       "      <th>MESH</th>\n",
       "      <th>ChemicalID</th>\n",
       "      <th>MESHid</th>\n",
       "      <th>ChemGoVec</th>\n",
       "      <th>DisGoVec</th>\n",
       "      <th>Correlation</th>\n",
       "      <th>DOID</th>\n",
       "      <th>disPhenVecMP</th>\n",
       "      <th>disPhenVecHP</th>\n",
       "    </tr>\n",
       "  </thead>\n",
       "  <tbody>\n",
       "    <tr>\n",
       "      <th>1121</th>\n",
       "      <td>NaN</td>\n",
       "      <td>Proteinuria</td>\n",
       "      <td>D003024</td>\n",
       "      <td>MESH:D011507</td>\n",
       "      <td>[0.00269767, 0.14648503, 0.00703032, -0.138347...</td>\n",
       "      <td>[-1.85592696e-02, 1.07028866e-02, -1.92884237e...</td>\n",
       "      <td>0</td>\n",
       "      <td>DOID_576</td>\n",
       "      <td>[0.03868523, 0.12156112, 0.06080182, -0.112411...</td>\n",
       "      <td>[0.05968903, 0.15474011, 0.05591857, -0.121531...</td>\n",
       "    </tr>\n",
       "    <tr>\n",
       "      <th>1032</th>\n",
       "      <td>NaN</td>\n",
       "      <td>Otitis Media</td>\n",
       "      <td>D002065</td>\n",
       "      <td>MESH:D010033</td>\n",
       "      <td>[0.03464986, 0.08828709, -0.02281343, -0.14911...</td>\n",
       "      <td>[0.0259653, 0.10290584, 0.05516887, -0.1001262...</td>\n",
       "      <td>0</td>\n",
       "      <td>DOID_10754</td>\n",
       "      <td>[0.02782048, 0.11976513, 0.06038493, -0.120898...</td>\n",
       "      <td>[0.04213005, 0.1586637, 0.04728878, -0.1188094...</td>\n",
       "    </tr>\n",
       "    <tr>\n",
       "      <th>203</th>\n",
       "      <td>CID100003121</td>\n",
       "      <td>Deafness</td>\n",
       "      <td>D014635</td>\n",
       "      <td>MESH:D003638</td>\n",
       "      <td>[-7.86130223e-03, 1.40450239e-01, -6.48044944e...</td>\n",
       "      <td>[0.03536899, 0.11699601, 0.04886917, -0.118581...</td>\n",
       "      <td>1</td>\n",
       "      <td>NaN</td>\n",
       "      <td>[0, 0, 0, 0, 0, 0, 0, 0, 0, 0, 0, 0, 0, 0, 0, ...</td>\n",
       "      <td>[0, 0, 0, 0, 0, 0, 0, 0, 0, 0, 0, 0, 0, 0, 0, ...</td>\n",
       "    </tr>\n",
       "    <tr>\n",
       "      <th>366</th>\n",
       "      <td>CID100003386</td>\n",
       "      <td>Hyperplasia</td>\n",
       "      <td>D005473</td>\n",
       "      <td>MESH:D006965</td>\n",
       "      <td>[0.05209794, 0.00067142, -0.4113431, -0.202348...</td>\n",
       "      <td>[0.01746579, 0.14595346, 0.05720224, -0.153178...</td>\n",
       "      <td>1</td>\n",
       "      <td>NaN</td>\n",
       "      <td>[0, 0, 0, 0, 0, 0, 0, 0, 0, 0, 0, 0, 0, 0, 0, ...</td>\n",
       "      <td>[0, 0, 0, 0, 0, 0, 0, 0, 0, 0, 0, 0, 0, 0, 0, ...</td>\n",
       "    </tr>\n",
       "  </tbody>\n",
       "</table>\n",
       "</div>"
      ],
      "text/plain": [
       "               CID          MESH ChemicalID        MESHid  \\\n",
       "1121           NaN   Proteinuria    D003024  MESH:D011507   \n",
       "1032           NaN  Otitis Media    D002065  MESH:D010033   \n",
       "203   CID100003121      Deafness    D014635  MESH:D003638   \n",
       "366   CID100003386   Hyperplasia    D005473  MESH:D006965   \n",
       "\n",
       "                                              ChemGoVec  \\\n",
       "1121  [0.00269767, 0.14648503, 0.00703032, -0.138347...   \n",
       "1032  [0.03464986, 0.08828709, -0.02281343, -0.14911...   \n",
       "203   [-7.86130223e-03, 1.40450239e-01, -6.48044944e...   \n",
       "366   [0.05209794, 0.00067142, -0.4113431, -0.202348...   \n",
       "\n",
       "                                               DisGoVec  Correlation  \\\n",
       "1121  [-1.85592696e-02, 1.07028866e-02, -1.92884237e...            0   \n",
       "1032  [0.0259653, 0.10290584, 0.05516887, -0.1001262...            0   \n",
       "203   [0.03536899, 0.11699601, 0.04886917, -0.118581...            1   \n",
       "366   [0.01746579, 0.14595346, 0.05720224, -0.153178...            1   \n",
       "\n",
       "            DOID                                       disPhenVecMP  \\\n",
       "1121    DOID_576  [0.03868523, 0.12156112, 0.06080182, -0.112411...   \n",
       "1032  DOID_10754  [0.02782048, 0.11976513, 0.06038493, -0.120898...   \n",
       "203          NaN  [0, 0, 0, 0, 0, 0, 0, 0, 0, 0, 0, 0, 0, 0, 0, ...   \n",
       "366          NaN  [0, 0, 0, 0, 0, 0, 0, 0, 0, 0, 0, 0, 0, 0, 0, ...   \n",
       "\n",
       "                                           disPhenVecHP  \n",
       "1121  [0.05968903, 0.15474011, 0.05591857, -0.121531...  \n",
       "1032  [0.04213005, 0.1586637, 0.04728878, -0.1188094...  \n",
       "203   [0, 0, 0, 0, 0, 0, 0, 0, 0, 0, 0, 0, 0, 0, 0, ...  \n",
       "366   [0, 0, 0, 0, 0, 0, 0, 0, 0, 0, 0, 0, 0, 0, 0, ...  "
      ]
     },
     "execution_count": 62,
     "metadata": {},
     "output_type": "execute_result"
    }
   ],
   "source": [
    "sider_mod.sample(4)"
   ]
  },
  {
   "cell_type": "code",
   "execution_count": 63,
   "metadata": {},
   "outputs": [],
   "source": [
    "sider_mod['CHEBIvec'] = sider_mod.ChemicalID.map(lambda x: chem2chebi.get(x, empty_vec))"
   ]
  },
  {
   "cell_type": "code",
   "execution_count": null,
   "metadata": {},
   "outputs": [],
   "source": []
  },
  {
   "cell_type": "markdown",
   "metadata": {},
   "source": [
    "### Add DO Vecs"
   ]
  },
  {
   "cell_type": "code",
   "execution_count": 64,
   "metadata": {},
   "outputs": [],
   "source": [
    "# Import Gofunc vec file\n",
    "with open('../opa/do-vecs.lst', 'r') as file:\n",
    "    text = file.read()\n",
    "    \n",
    "# Strip and split vector data into list of lists [disease, vec]\n",
    "text = text.replace('\\n', '')\n",
    "text = text.split(']')\n",
    "text = [item.strip().split(' [') for item in text]\n",
    "\n",
    "# Turn it into a data frame\n",
    "df = pd.DataFrame(text)\n",
    "df.columns = ['ID', 'Vector']\n",
    "\n",
    "# Clean\n",
    "df = df.dropna()\n",
    "df['Vector'] = df.Vector.map(lambda x: x.rstrip().lstrip().replace('    ', ' ').replace('   ', ' ').replace('  ', ' ').replace(' ', ','))\n",
    "\n",
    "# Turn vector column into a list\n",
    "df['Vector'] = df.Vector.map(lambda x: x.split(','))\n",
    "\n",
    "# Make a map of it (DisID to DOvec)\n",
    "dis_to_DOvec = dict(zip(df.ID, df.Vector))"
   ]
  },
  {
   "cell_type": "code",
   "execution_count": 65,
   "metadata": {},
   "outputs": [],
   "source": [
    "sider_mod['DOvec'] = sider_mod.MESHid.map(lambda x: dis_to_DOvec.get(x))"
   ]
  },
  {
   "cell_type": "code",
   "execution_count": 66,
   "metadata": {},
   "outputs": [],
   "source": [
    "# Change the DO vec elements from string to floats\n",
    "sider_mod['DOvec'] = sider_mod.DOvec.map(lambda x: [float(i) for i in x])"
   ]
  },
  {
   "cell_type": "code",
   "execution_count": 67,
   "metadata": {},
   "outputs": [
    {
     "data": {
      "text/html": [
       "<div>\n",
       "<style scoped>\n",
       "    .dataframe tbody tr th:only-of-type {\n",
       "        vertical-align: middle;\n",
       "    }\n",
       "\n",
       "    .dataframe tbody tr th {\n",
       "        vertical-align: top;\n",
       "    }\n",
       "\n",
       "    .dataframe thead th {\n",
       "        text-align: right;\n",
       "    }\n",
       "</style>\n",
       "<table border=\"1\" class=\"dataframe\">\n",
       "  <thead>\n",
       "    <tr style=\"text-align: right;\">\n",
       "      <th></th>\n",
       "      <th>CID</th>\n",
       "      <th>MESH</th>\n",
       "      <th>ChemicalID</th>\n",
       "      <th>MESHid</th>\n",
       "      <th>ChemGoVec</th>\n",
       "      <th>DisGoVec</th>\n",
       "      <th>Correlation</th>\n",
       "      <th>DOID</th>\n",
       "      <th>disPhenVecMP</th>\n",
       "      <th>disPhenVecHP</th>\n",
       "      <th>CHEBIvec</th>\n",
       "      <th>DOvec</th>\n",
       "    </tr>\n",
       "  </thead>\n",
       "  <tbody>\n",
       "    <tr>\n",
       "      <th>0</th>\n",
       "      <td>CID100000143</td>\n",
       "      <td>Hypersensitivity</td>\n",
       "      <td>D002955</td>\n",
       "      <td>MESH:D006967</td>\n",
       "      <td>[-0.04375384, 0.05983105, -0.11726998, -0.0517...</td>\n",
       "      <td>[0.03163584, 0.12489144, 0.02595111, -0.142592...</td>\n",
       "      <td>1</td>\n",
       "      <td>DOID_1205</td>\n",
       "      <td>[3.10053602e-02, 1.36995822e-01, 5.86080104e-0...</td>\n",
       "      <td>[4.44377996e-02, 1.47881836e-01, 7.03755245e-0...</td>\n",
       "      <td>[0.01772805, 0.05946666, 0.02581723, -0.057734...</td>\n",
       "      <td>[0.0323501714, 0.0718148202, 0.0226857904, -0....</td>\n",
       "    </tr>\n",
       "    <tr>\n",
       "      <th>2</th>\n",
       "      <td>CID100000143</td>\n",
       "      <td>Urticaria</td>\n",
       "      <td>D002955</td>\n",
       "      <td>MESH:D014581</td>\n",
       "      <td>[-0.04375384, 0.05983105, -0.11726998, -0.0517...</td>\n",
       "      <td>[-0.05275472, 0.06301367, -0.17321466, -0.0895...</td>\n",
       "      <td>1</td>\n",
       "      <td>DOID_1555</td>\n",
       "      <td>[2.47163400e-02, 1.18226737e-01, 4.61919121e-0...</td>\n",
       "      <td>[4.06458825e-02, 1.50512770e-01, 5.22731468e-0...</td>\n",
       "      <td>[0.01772805, 0.05946666, 0.02581723, -0.057734...</td>\n",
       "      <td>[0.02033558, 0.07687499, 0.03339575, -0.061590...</td>\n",
       "    </tr>\n",
       "    <tr>\n",
       "      <th>3</th>\n",
       "      <td>CID100000143</td>\n",
       "      <td>Acute Kidney Injury</td>\n",
       "      <td>D002955</td>\n",
       "      <td>MESH:D058186</td>\n",
       "      <td>[-0.04375384, 0.05983105, -0.11726998, -0.0517...</td>\n",
       "      <td>[0.0238973, 0.07814123, 0.0345676, -0.08827752...</td>\n",
       "      <td>1</td>\n",
       "      <td>DOID_3021</td>\n",
       "      <td>[2.60288436e-02, 1.05936542e-01, 4.98992279e-0...</td>\n",
       "      <td>[4.38529812e-02, 1.56046316e-01, 5.53010181e-0...</td>\n",
       "      <td>[0.01772805, 0.05946666, 0.02581723, -0.057734...</td>\n",
       "      <td>[0.0153563516, 0.0718724281, 0.0305716358, -0....</td>\n",
       "    </tr>\n",
       "    <tr>\n",
       "      <th>4</th>\n",
       "      <td>CID100000143</td>\n",
       "      <td>Disease Progression</td>\n",
       "      <td>D002955</td>\n",
       "      <td>MESH:D018450</td>\n",
       "      <td>[-0.04375384, 0.05983105, -0.11726998, -0.0517...</td>\n",
       "      <td>[0.03092173, 0.13223884, -0.04477117, -0.14742...</td>\n",
       "      <td>1</td>\n",
       "      <td>NaN</td>\n",
       "      <td>[0, 0, 0, 0, 0, 0, 0, 0, 0, 0, 0, 0, 0, 0, 0, ...</td>\n",
       "      <td>[0, 0, 0, 0, 0, 0, 0, 0, 0, 0, 0, 0, 0, 0, 0, ...</td>\n",
       "      <td>[0.01772805, 0.05946666, 0.02581723, -0.057734...</td>\n",
       "      <td>[0.00961015, 0.0239394, 0.01371201, -0.0367966...</td>\n",
       "    </tr>\n",
       "    <tr>\n",
       "      <th>6</th>\n",
       "      <td>CID100000681</td>\n",
       "      <td>Atrial Fibrillation</td>\n",
       "      <td>D004298</td>\n",
       "      <td>MESH:D001281</td>\n",
       "      <td>[-0.01242278, 0.09383001, -0.07544384, -0.1446...</td>\n",
       "      <td>[0.02409604, 0.13129537, 0.0031278, -0.1579988...</td>\n",
       "      <td>1</td>\n",
       "      <td>DOID_0060224</td>\n",
       "      <td>[0.05471873, 0.15233922, 0.07463891, -0.128690...</td>\n",
       "      <td>[6.88141435e-02, 1.53615937e-01, 6.51953071e-0...</td>\n",
       "      <td>[0.01396446, 0.05335214, 0.02592678, -0.054371...</td>\n",
       "      <td>[0.02116747, 0.06971144, 0.04062635, -0.064116...</td>\n",
       "    </tr>\n",
       "  </tbody>\n",
       "</table>\n",
       "</div>"
      ],
      "text/plain": [
       "            CID                 MESH ChemicalID        MESHid  \\\n",
       "0  CID100000143     Hypersensitivity    D002955  MESH:D006967   \n",
       "2  CID100000143            Urticaria    D002955  MESH:D014581   \n",
       "3  CID100000143  Acute Kidney Injury    D002955  MESH:D058186   \n",
       "4  CID100000143  Disease Progression    D002955  MESH:D018450   \n",
       "6  CID100000681  Atrial Fibrillation    D004298  MESH:D001281   \n",
       "\n",
       "                                           ChemGoVec  \\\n",
       "0  [-0.04375384, 0.05983105, -0.11726998, -0.0517...   \n",
       "2  [-0.04375384, 0.05983105, -0.11726998, -0.0517...   \n",
       "3  [-0.04375384, 0.05983105, -0.11726998, -0.0517...   \n",
       "4  [-0.04375384, 0.05983105, -0.11726998, -0.0517...   \n",
       "6  [-0.01242278, 0.09383001, -0.07544384, -0.1446...   \n",
       "\n",
       "                                            DisGoVec  Correlation  \\\n",
       "0  [0.03163584, 0.12489144, 0.02595111, -0.142592...            1   \n",
       "2  [-0.05275472, 0.06301367, -0.17321466, -0.0895...            1   \n",
       "3  [0.0238973, 0.07814123, 0.0345676, -0.08827752...            1   \n",
       "4  [0.03092173, 0.13223884, -0.04477117, -0.14742...            1   \n",
       "6  [0.02409604, 0.13129537, 0.0031278, -0.1579988...            1   \n",
       "\n",
       "           DOID                                       disPhenVecMP  \\\n",
       "0     DOID_1205  [3.10053602e-02, 1.36995822e-01, 5.86080104e-0...   \n",
       "2     DOID_1555  [2.47163400e-02, 1.18226737e-01, 4.61919121e-0...   \n",
       "3     DOID_3021  [2.60288436e-02, 1.05936542e-01, 4.98992279e-0...   \n",
       "4           NaN  [0, 0, 0, 0, 0, 0, 0, 0, 0, 0, 0, 0, 0, 0, 0, ...   \n",
       "6  DOID_0060224  [0.05471873, 0.15233922, 0.07463891, -0.128690...   \n",
       "\n",
       "                                        disPhenVecHP  \\\n",
       "0  [4.44377996e-02, 1.47881836e-01, 7.03755245e-0...   \n",
       "2  [4.06458825e-02, 1.50512770e-01, 5.22731468e-0...   \n",
       "3  [4.38529812e-02, 1.56046316e-01, 5.53010181e-0...   \n",
       "4  [0, 0, 0, 0, 0, 0, 0, 0, 0, 0, 0, 0, 0, 0, 0, ...   \n",
       "6  [6.88141435e-02, 1.53615937e-01, 6.51953071e-0...   \n",
       "\n",
       "                                            CHEBIvec  \\\n",
       "0  [0.01772805, 0.05946666, 0.02581723, -0.057734...   \n",
       "2  [0.01772805, 0.05946666, 0.02581723, -0.057734...   \n",
       "3  [0.01772805, 0.05946666, 0.02581723, -0.057734...   \n",
       "4  [0.01772805, 0.05946666, 0.02581723, -0.057734...   \n",
       "6  [0.01396446, 0.05335214, 0.02592678, -0.054371...   \n",
       "\n",
       "                                               DOvec  \n",
       "0  [0.0323501714, 0.0718148202, 0.0226857904, -0....  \n",
       "2  [0.02033558, 0.07687499, 0.03339575, -0.061590...  \n",
       "3  [0.0153563516, 0.0718724281, 0.0305716358, -0....  \n",
       "4  [0.00961015, 0.0239394, 0.01371201, -0.0367966...  \n",
       "6  [0.02116747, 0.06971144, 0.04062635, -0.064116...  "
      ]
     },
     "execution_count": 67,
     "metadata": {},
     "output_type": "execute_result"
    }
   ],
   "source": [
    "sider_mod.head()"
   ]
  },
  {
   "cell_type": "code",
   "execution_count": null,
   "metadata": {},
   "outputs": [],
   "source": []
  },
  {
   "cell_type": "markdown",
   "metadata": {},
   "source": [
    "### Get HINO Vecs"
   ]
  },
  {
   "cell_type": "code",
   "execution_count": 68,
   "metadata": {},
   "outputs": [],
   "source": [
    "# Import HINO vec file\n",
    "with open('../opa/hinoVecs.lst', 'r') as file:\n",
    "    text = file.read()\n",
    "    \n",
    "# Strip and split vector data into list of lists [chem, vec]\n",
    "text = text.replace('\\n', '')\n",
    "text = text.split(']')\n",
    "text = [item.strip().split(' [') for item in text]\n",
    "\n",
    "# Turn it into a data frame\n",
    "df = pd.DataFrame(text)\n",
    "df.columns = ['ID', 'Vector']\n",
    "\n",
    "# Clean\n",
    "df = df.dropna()\n",
    "df['Vector'] = df.Vector.map(lambda x: x.rstrip().lstrip().replace('    ', ' ').replace('   ', ' ').replace('  ', ' ').replace(' ', ','))\n",
    "\n",
    "# Turn vector column into a list\n",
    "df['Vector'] = df.Vector.map(lambda x: x.split(','))\n",
    "\n",
    "# Make a map of it (DisID to DOvec)\n",
    "entity_to_HINOvec = dict(zip(df.ID, df.Vector))"
   ]
  },
  {
   "cell_type": "code",
   "execution_count": 69,
   "metadata": {},
   "outputs": [],
   "source": [
    "sider_mod['dis_HINOvec'] = sider_mod.MESHid.map(lambda x: entity_to_HINOvec.get(x))\n",
    "sider_mod['chem_HINOvec'] = sider_mod.ChemicalID.map(lambda x: entity_to_HINOvec.get(x))"
   ]
  },
  {
   "cell_type": "code",
   "execution_count": 70,
   "metadata": {},
   "outputs": [
    {
     "name": "stdout",
     "output_type": "stream",
     "text": [
      "HINO dis vecs:  1294\n",
      "HINO chem vecs:  1021\n",
      "At least one hino vec:  1516\n"
     ]
    }
   ],
   "source": [
    "print('HINO dis vecs: ', sider_mod[sider_mod.dis_HINOvec.map(lambda x: x is not None)].shape[0])\n",
    "print('HINO chem vecs: ', sider_mod[sider_mod.chem_HINOvec.map(lambda x: x is not None)].shape[0])\n",
    "at_least_one = sider_mod.chem_HINOvec.map(lambda x: x is not None) | sider_mod.dis_HINOvec.map(lambda x: x is not None)\n",
    "print('At least one hino vec: ', sider_mod[at_least_one].shape[0])"
   ]
  },
  {
   "cell_type": "code",
   "execution_count": 71,
   "metadata": {},
   "outputs": [],
   "source": [
    "# Add empty vecs in place of None\n",
    "empty_vec = [0] * 200\n",
    "\n",
    "for col in ['dis_HINOvec', 'chem_HINOvec']:\n",
    "    sider_mod[col] = sider_mod[col].map(lambda x: empty_vec if x is None else x)"
   ]
  },
  {
   "cell_type": "code",
   "execution_count": 72,
   "metadata": {},
   "outputs": [],
   "source": [
    "# Change the HINO vec elements from string to floats\n",
    "sider_mod['dis_HINOvec'] = sider_mod.dis_HINOvec.map(lambda x: [float(i) for i in x])\n",
    "sider_mod['chem_HINOvec'] = sider_mod.chem_HINOvec.map(lambda x: [float(i) for i in x])"
   ]
  },
  {
   "cell_type": "code",
   "execution_count": 73,
   "metadata": {},
   "outputs": [
    {
     "data": {
      "text/html": [
       "<div>\n",
       "<style scoped>\n",
       "    .dataframe tbody tr th:only-of-type {\n",
       "        vertical-align: middle;\n",
       "    }\n",
       "\n",
       "    .dataframe tbody tr th {\n",
       "        vertical-align: top;\n",
       "    }\n",
       "\n",
       "    .dataframe thead th {\n",
       "        text-align: right;\n",
       "    }\n",
       "</style>\n",
       "<table border=\"1\" class=\"dataframe\">\n",
       "  <thead>\n",
       "    <tr style=\"text-align: right;\">\n",
       "      <th></th>\n",
       "      <th>CID</th>\n",
       "      <th>MESH</th>\n",
       "      <th>ChemicalID</th>\n",
       "      <th>MESHid</th>\n",
       "      <th>ChemGoVec</th>\n",
       "      <th>DisGoVec</th>\n",
       "      <th>Correlation</th>\n",
       "      <th>DOID</th>\n",
       "      <th>disPhenVecMP</th>\n",
       "      <th>disPhenVecHP</th>\n",
       "      <th>CHEBIvec</th>\n",
       "      <th>DOvec</th>\n",
       "      <th>dis_HINOvec</th>\n",
       "      <th>chem_HINOvec</th>\n",
       "    </tr>\n",
       "  </thead>\n",
       "  <tbody>\n",
       "    <tr>\n",
       "      <th>0</th>\n",
       "      <td>CID100000143</td>\n",
       "      <td>Hypersensitivity</td>\n",
       "      <td>D002955</td>\n",
       "      <td>MESH:D006967</td>\n",
       "      <td>[-0.04375384, 0.05983105, -0.11726998, -0.0517...</td>\n",
       "      <td>[0.03163584, 0.12489144, 0.02595111, -0.142592...</td>\n",
       "      <td>1</td>\n",
       "      <td>DOID_1205</td>\n",
       "      <td>[3.10053602e-02, 1.36995822e-01, 5.86080104e-0...</td>\n",
       "      <td>[4.44377996e-02, 1.47881836e-01, 7.03755245e-0...</td>\n",
       "      <td>[0.01772805, 0.05946666, 0.02581723, -0.057734...</td>\n",
       "      <td>[0.0323501714, 0.0718148202, 0.0226857904, -0....</td>\n",
       "      <td>[0.01789101, 0.04353557, 0.01829723, -0.042048...</td>\n",
       "      <td>[0.01958054, 0.07949963, 0.04380728, -0.093200...</td>\n",
       "    </tr>\n",
       "    <tr>\n",
       "      <th>2</th>\n",
       "      <td>CID100000143</td>\n",
       "      <td>Urticaria</td>\n",
       "      <td>D002955</td>\n",
       "      <td>MESH:D014581</td>\n",
       "      <td>[-0.04375384, 0.05983105, -0.11726998, -0.0517...</td>\n",
       "      <td>[-0.05275472, 0.06301367, -0.17321466, -0.0895...</td>\n",
       "      <td>1</td>\n",
       "      <td>DOID_1555</td>\n",
       "      <td>[2.47163400e-02, 1.18226737e-01, 4.61919121e-0...</td>\n",
       "      <td>[4.06458825e-02, 1.50512770e-01, 5.22731468e-0...</td>\n",
       "      <td>[0.01772805, 0.05946666, 0.02581723, -0.057734...</td>\n",
       "      <td>[0.02033558, 0.07687499, 0.03339575, -0.061590...</td>\n",
       "      <td>[0.02427921, 0.08827087, 0.04033868, -0.078898...</td>\n",
       "      <td>[0.01958054, 0.07949963, 0.04380728, -0.093200...</td>\n",
       "    </tr>\n",
       "    <tr>\n",
       "      <th>3</th>\n",
       "      <td>CID100000143</td>\n",
       "      <td>Acute Kidney Injury</td>\n",
       "      <td>D002955</td>\n",
       "      <td>MESH:D058186</td>\n",
       "      <td>[-0.04375384, 0.05983105, -0.11726998, -0.0517...</td>\n",
       "      <td>[0.0238973, 0.07814123, 0.0345676, -0.08827752...</td>\n",
       "      <td>1</td>\n",
       "      <td>DOID_3021</td>\n",
       "      <td>[2.60288436e-02, 1.05936542e-01, 4.98992279e-0...</td>\n",
       "      <td>[4.38529812e-02, 1.56046316e-01, 5.53010181e-0...</td>\n",
       "      <td>[0.01772805, 0.05946666, 0.02581723, -0.057734...</td>\n",
       "      <td>[0.0153563516, 0.0718724281, 0.0305716358, -0....</td>\n",
       "      <td>[0.0, 0.0, 0.0, 0.0, 0.0, 0.0, 0.0, 0.0, 0.0, ...</td>\n",
       "      <td>[0.01958054, 0.07949963, 0.04380728, -0.093200...</td>\n",
       "    </tr>\n",
       "    <tr>\n",
       "      <th>4</th>\n",
       "      <td>CID100000143</td>\n",
       "      <td>Disease Progression</td>\n",
       "      <td>D002955</td>\n",
       "      <td>MESH:D018450</td>\n",
       "      <td>[-0.04375384, 0.05983105, -0.11726998, -0.0517...</td>\n",
       "      <td>[0.03092173, 0.13223884, -0.04477117, -0.14742...</td>\n",
       "      <td>1</td>\n",
       "      <td>NaN</td>\n",
       "      <td>[0, 0, 0, 0, 0, 0, 0, 0, 0, 0, 0, 0, 0, 0, 0, ...</td>\n",
       "      <td>[0, 0, 0, 0, 0, 0, 0, 0, 0, 0, 0, 0, 0, 0, 0, ...</td>\n",
       "      <td>[0.01772805, 0.05946666, 0.02581723, -0.057734...</td>\n",
       "      <td>[0.00961015, 0.0239394, 0.01371201, -0.0367966...</td>\n",
       "      <td>[0.01203498, 0.06432136, 0.02607773, -0.058572...</td>\n",
       "      <td>[0.01958054, 0.07949963, 0.04380728, -0.093200...</td>\n",
       "    </tr>\n",
       "    <tr>\n",
       "      <th>6</th>\n",
       "      <td>CID100000681</td>\n",
       "      <td>Atrial Fibrillation</td>\n",
       "      <td>D004298</td>\n",
       "      <td>MESH:D001281</td>\n",
       "      <td>[-0.01242278, 0.09383001, -0.07544384, -0.1446...</td>\n",
       "      <td>[0.02409604, 0.13129537, 0.0031278, -0.1579988...</td>\n",
       "      <td>1</td>\n",
       "      <td>DOID_0060224</td>\n",
       "      <td>[0.05471873, 0.15233922, 0.07463891, -0.128690...</td>\n",
       "      <td>[6.88141435e-02, 1.53615937e-01, 6.51953071e-0...</td>\n",
       "      <td>[0.01396446, 0.05335214, 0.02592678, -0.054371...</td>\n",
       "      <td>[0.02116747, 0.06971144, 0.04062635, -0.064116...</td>\n",
       "      <td>[0.01673175, 0.06547476, 0.02241637, -0.051255...</td>\n",
       "      <td>[0.01246304, 0.07983294, 0.04100963, -0.077603...</td>\n",
       "    </tr>\n",
       "  </tbody>\n",
       "</table>\n",
       "</div>"
      ],
      "text/plain": [
       "            CID                 MESH ChemicalID        MESHid  \\\n",
       "0  CID100000143     Hypersensitivity    D002955  MESH:D006967   \n",
       "2  CID100000143            Urticaria    D002955  MESH:D014581   \n",
       "3  CID100000143  Acute Kidney Injury    D002955  MESH:D058186   \n",
       "4  CID100000143  Disease Progression    D002955  MESH:D018450   \n",
       "6  CID100000681  Atrial Fibrillation    D004298  MESH:D001281   \n",
       "\n",
       "                                           ChemGoVec  \\\n",
       "0  [-0.04375384, 0.05983105, -0.11726998, -0.0517...   \n",
       "2  [-0.04375384, 0.05983105, -0.11726998, -0.0517...   \n",
       "3  [-0.04375384, 0.05983105, -0.11726998, -0.0517...   \n",
       "4  [-0.04375384, 0.05983105, -0.11726998, -0.0517...   \n",
       "6  [-0.01242278, 0.09383001, -0.07544384, -0.1446...   \n",
       "\n",
       "                                            DisGoVec  Correlation  \\\n",
       "0  [0.03163584, 0.12489144, 0.02595111, -0.142592...            1   \n",
       "2  [-0.05275472, 0.06301367, -0.17321466, -0.0895...            1   \n",
       "3  [0.0238973, 0.07814123, 0.0345676, -0.08827752...            1   \n",
       "4  [0.03092173, 0.13223884, -0.04477117, -0.14742...            1   \n",
       "6  [0.02409604, 0.13129537, 0.0031278, -0.1579988...            1   \n",
       "\n",
       "           DOID                                       disPhenVecMP  \\\n",
       "0     DOID_1205  [3.10053602e-02, 1.36995822e-01, 5.86080104e-0...   \n",
       "2     DOID_1555  [2.47163400e-02, 1.18226737e-01, 4.61919121e-0...   \n",
       "3     DOID_3021  [2.60288436e-02, 1.05936542e-01, 4.98992279e-0...   \n",
       "4           NaN  [0, 0, 0, 0, 0, 0, 0, 0, 0, 0, 0, 0, 0, 0, 0, ...   \n",
       "6  DOID_0060224  [0.05471873, 0.15233922, 0.07463891, -0.128690...   \n",
       "\n",
       "                                        disPhenVecHP  \\\n",
       "0  [4.44377996e-02, 1.47881836e-01, 7.03755245e-0...   \n",
       "2  [4.06458825e-02, 1.50512770e-01, 5.22731468e-0...   \n",
       "3  [4.38529812e-02, 1.56046316e-01, 5.53010181e-0...   \n",
       "4  [0, 0, 0, 0, 0, 0, 0, 0, 0, 0, 0, 0, 0, 0, 0, ...   \n",
       "6  [6.88141435e-02, 1.53615937e-01, 6.51953071e-0...   \n",
       "\n",
       "                                            CHEBIvec  \\\n",
       "0  [0.01772805, 0.05946666, 0.02581723, -0.057734...   \n",
       "2  [0.01772805, 0.05946666, 0.02581723, -0.057734...   \n",
       "3  [0.01772805, 0.05946666, 0.02581723, -0.057734...   \n",
       "4  [0.01772805, 0.05946666, 0.02581723, -0.057734...   \n",
       "6  [0.01396446, 0.05335214, 0.02592678, -0.054371...   \n",
       "\n",
       "                                               DOvec  \\\n",
       "0  [0.0323501714, 0.0718148202, 0.0226857904, -0....   \n",
       "2  [0.02033558, 0.07687499, 0.03339575, -0.061590...   \n",
       "3  [0.0153563516, 0.0718724281, 0.0305716358, -0....   \n",
       "4  [0.00961015, 0.0239394, 0.01371201, -0.0367966...   \n",
       "6  [0.02116747, 0.06971144, 0.04062635, -0.064116...   \n",
       "\n",
       "                                         dis_HINOvec  \\\n",
       "0  [0.01789101, 0.04353557, 0.01829723, -0.042048...   \n",
       "2  [0.02427921, 0.08827087, 0.04033868, -0.078898...   \n",
       "3  [0.0, 0.0, 0.0, 0.0, 0.0, 0.0, 0.0, 0.0, 0.0, ...   \n",
       "4  [0.01203498, 0.06432136, 0.02607773, -0.058572...   \n",
       "6  [0.01673175, 0.06547476, 0.02241637, -0.051255...   \n",
       "\n",
       "                                        chem_HINOvec  \n",
       "0  [0.01958054, 0.07949963, 0.04380728, -0.093200...  \n",
       "2  [0.01958054, 0.07949963, 0.04380728, -0.093200...  \n",
       "3  [0.01958054, 0.07949963, 0.04380728, -0.093200...  \n",
       "4  [0.01958054, 0.07949963, 0.04380728, -0.093200...  \n",
       "6  [0.01246304, 0.07983294, 0.04100963, -0.077603...  "
      ]
     },
     "execution_count": 73,
     "metadata": {},
     "output_type": "execute_result"
    }
   ],
   "source": [
    "sider_mod.head()"
   ]
  },
  {
   "cell_type": "markdown",
   "metadata": {},
   "source": [
    "### Get PRO vecs"
   ]
  },
  {
   "cell_type": "code",
   "execution_count": 74,
   "metadata": {},
   "outputs": [],
   "source": [
    "# Import PRO vec file\n",
    "with open('../opa/PROVecs.lst', 'r') as file:\n",
    "    text = file.read()\n",
    "    \n",
    "# Strip and split vector data into list of lists [chem, vec]\n",
    "text = text.replace('\\n', '')\n",
    "text = text.split(']')\n",
    "text = [item.strip().split(' [') for item in text]\n",
    "\n",
    "# Turn it into a data frame\n",
    "df = pd.DataFrame(text)\n",
    "df.columns = ['ID', 'Vector']\n",
    "\n",
    "# Clean\n",
    "df = df.dropna()\n",
    "df['Vector'] = df.Vector.map(lambda x: x.rstrip().lstrip().replace('    ', ' ').replace('   ', ' ').replace('  ', ' ').replace(' ', ','))\n",
    "\n",
    "# Turn vector column into a list\n",
    "df['Vector'] = df.Vector.map(lambda x: x.split(','))\n",
    "\n",
    "# Make a map of it (DisID to DOvec)\n",
    "entity_to_PROvec = dict(zip(df.ID, df.Vector)) "
   ]
  },
  {
   "cell_type": "code",
   "execution_count": 75,
   "metadata": {},
   "outputs": [],
   "source": [
    "sider_mod['dis_PROvec'] = sider_mod.MESHid.map(lambda x: entity_to_PROvec.get(x))\n",
    "sider_mod['chem_PROvec'] = sider_mod.ChemicalID.map(lambda x: entity_to_PROvec.get(x))"
   ]
  },
  {
   "cell_type": "code",
   "execution_count": 76,
   "metadata": {},
   "outputs": [],
   "source": [
    "# Add empty vecs in place of None\n",
    "empty_vec = [0] * 200\n",
    "\n",
    "for col in ['dis_PROvec', 'chem_PROvec']:\n",
    "    sider_mod[col] = sider_mod[col].map(lambda x: empty_vec if x is None else x)"
   ]
  },
  {
   "cell_type": "code",
   "execution_count": 77,
   "metadata": {},
   "outputs": [],
   "source": [
    "# Change the vec elements from string to floats\n",
    "sider_mod['dis_PROvec'] = sider_mod.dis_PROvec.map(lambda x: [float(i) for i in x])\n",
    "sider_mod['chem_PROvec'] = sider_mod.chem_PROvec.map(lambda x: [float(i) for i in x])"
   ]
  },
  {
   "cell_type": "code",
   "execution_count": 78,
   "metadata": {},
   "outputs": [
    {
     "data": {
      "text/html": [
       "<div>\n",
       "<style scoped>\n",
       "    .dataframe tbody tr th:only-of-type {\n",
       "        vertical-align: middle;\n",
       "    }\n",
       "\n",
       "    .dataframe tbody tr th {\n",
       "        vertical-align: top;\n",
       "    }\n",
       "\n",
       "    .dataframe thead th {\n",
       "        text-align: right;\n",
       "    }\n",
       "</style>\n",
       "<table border=\"1\" class=\"dataframe\">\n",
       "  <thead>\n",
       "    <tr style=\"text-align: right;\">\n",
       "      <th></th>\n",
       "      <th>CID</th>\n",
       "      <th>MESH</th>\n",
       "      <th>ChemicalID</th>\n",
       "      <th>MESHid</th>\n",
       "      <th>ChemGoVec</th>\n",
       "      <th>DisGoVec</th>\n",
       "      <th>Correlation</th>\n",
       "      <th>DOID</th>\n",
       "      <th>disPhenVecMP</th>\n",
       "      <th>disPhenVecHP</th>\n",
       "      <th>CHEBIvec</th>\n",
       "      <th>DOvec</th>\n",
       "      <th>dis_HINOvec</th>\n",
       "      <th>chem_HINOvec</th>\n",
       "      <th>dis_PROvec</th>\n",
       "      <th>chem_PROvec</th>\n",
       "    </tr>\n",
       "  </thead>\n",
       "  <tbody>\n",
       "    <tr>\n",
       "      <th>132</th>\n",
       "      <td>CID100002662</td>\n",
       "      <td>Pulmonary Embolism</td>\n",
       "      <td>D000068579</td>\n",
       "      <td>MESH:D011655</td>\n",
       "      <td>[0.01938764, 0.07840507, 0.02419372, -0.066259...</td>\n",
       "      <td>[-0.05989128, 0.02124369, -0.07228915, -0.0245...</td>\n",
       "      <td>1</td>\n",
       "      <td>DOID_9477</td>\n",
       "      <td>[0.02989602, 0.10579331, 0.0458674, -0.1000161...</td>\n",
       "      <td>[6.47266880e-02, 1.49182171e-01, 4.98331375e-0...</td>\n",
       "      <td>[0, 0, 0, 0, 0, 0, 0, 0, 0, 0, 0, 0, 0, 0, 0, ...</td>\n",
       "      <td>[0.0156938918, 0.0867972076, 0.0221232176, -0....</td>\n",
       "      <td>[0.0, 0.0, 0.0, 0.0, 0.0, 0.0, 0.0, 0.0, 0.0, ...</td>\n",
       "      <td>[0.0, 0.0, 0.0, 0.0, 0.0, 0.0, 0.0, 0.0, 0.0, ...</td>\n",
       "      <td>[0.01547952, 0.05871394, 0.02636163, -0.041966...</td>\n",
       "      <td>[0.04649611, 0.14973469, 0.11586712, -0.120807...</td>\n",
       "    </tr>\n",
       "    <tr>\n",
       "      <th>644</th>\n",
       "      <td>CID100027991</td>\n",
       "      <td>Hallucinations</td>\n",
       "      <td>D003894</td>\n",
       "      <td>MESH:D006212</td>\n",
       "      <td>[2.54816320e-02, 1.22387677e-01, 5.23497686e-0...</td>\n",
       "      <td>[4.16016653e-02, 9.38132107e-02, -1.80803277e-...</td>\n",
       "      <td>1</td>\n",
       "      <td>NaN</td>\n",
       "      <td>[0, 0, 0, 0, 0, 0, 0, 0, 0, 0, 0, 0, 0, 0, 0, ...</td>\n",
       "      <td>[0, 0, 0, 0, 0, 0, 0, 0, 0, 0, 0, 0, 0, 0, 0, ...</td>\n",
       "      <td>[1.65594146e-02, 4.69885767e-02, 2.39662267e-0...</td>\n",
       "      <td>[0.00156835, 0.03837546, 0.02150043, -0.032972...</td>\n",
       "      <td>[0.0, 0.0, 0.0, 0.0, 0.0, 0.0, 0.0, 0.0, 0.0, ...</td>\n",
       "      <td>[0.0087855449, 0.035341766, 0.01706201, -0.048...</td>\n",
       "      <td>[0.01499267, 0.04976962, 0.03062077, -0.041347...</td>\n",
       "      <td>[0.0039960877, 0.0426524729, 0.0267111398, -0....</td>\n",
       "    </tr>\n",
       "    <tr>\n",
       "      <th>765</th>\n",
       "      <td>CID100068740</td>\n",
       "      <td>Pain</td>\n",
       "      <td>C088658</td>\n",
       "      <td>MESH:D010146</td>\n",
       "      <td>[0.04418474, 0.14310175, 0.04817571, -0.159905...</td>\n",
       "      <td>[2.24024318e-02, 9.60943699e-02, -6.57454357e-...</td>\n",
       "      <td>1</td>\n",
       "      <td>DOID_0060164</td>\n",
       "      <td>[2.07049586e-02, 1.04310833e-01, 5.95965236e-0...</td>\n",
       "      <td>[0.0864669, 0.18244573, 0.04888484, -0.1034179...</td>\n",
       "      <td>[0.02015562, 0.06090377, 0.02371735, -0.060520...</td>\n",
       "      <td>[0.0221906733, 0.0621656179, 0.0342238694, -0....</td>\n",
       "      <td>[0.0214250777, 0.0636401176, 0.0447132327, -0....</td>\n",
       "      <td>[0.00700311828, 0.0423441194, 0.0239823423, -0...</td>\n",
       "      <td>[0.0285669453, 0.0819910243, 0.0499954, -0.095...</td>\n",
       "      <td>[-0.00724289, 0.09012652, 0.08922295, -0.08863...</td>\n",
       "    </tr>\n",
       "    <tr>\n",
       "      <th>1832</th>\n",
       "      <td>NaN</td>\n",
       "      <td>Acidosis</td>\n",
       "      <td>C520809</td>\n",
       "      <td>MESH:D000138</td>\n",
       "      <td>[0.01699807, 0.13581963, 0.01922014, -0.101776...</td>\n",
       "      <td>[0.01823403, 0.12453435, 0.03510754, -0.120218...</td>\n",
       "      <td>0</td>\n",
       "      <td>DOID_0050758</td>\n",
       "      <td>[2.46017128e-02, 1.35439306e-01, 6.50083050e-0...</td>\n",
       "      <td>[4.31502573e-02, 1.76954478e-01, 6.35614619e-0...</td>\n",
       "      <td>[0, 0, 0, 0, 0, 0, 0, 0, 0, 0, 0, 0, 0, 0, 0, ...</td>\n",
       "      <td>[0.01223107, 0.05447845, 0.03592256, -0.060255...</td>\n",
       "      <td>[0.00281852437, 0.040843837, 0.0216121934, -0....</td>\n",
       "      <td>[0.00833679456, 0.0382306054, 0.024758298, -0....</td>\n",
       "      <td>[0.0162582137, 0.0336972848, 0.0148332668, -0....</td>\n",
       "      <td>[0.01273698, 0.03527592, 0.01804266, -0.033962...</td>\n",
       "    </tr>\n",
       "    <tr>\n",
       "      <th>1003</th>\n",
       "      <td>NaN</td>\n",
       "      <td>Fibrosis</td>\n",
       "      <td>C056516</td>\n",
       "      <td>MESH:D005355</td>\n",
       "      <td>[-2.25543845e-02, -3.97761073e-03, -1.65494725...</td>\n",
       "      <td>[0.01802431, 0.14452943, -0.00467963, -0.15955...</td>\n",
       "      <td>0</td>\n",
       "      <td>NaN</td>\n",
       "      <td>[0, 0, 0, 0, 0, 0, 0, 0, 0, 0, 0, 0, 0, 0, 0, ...</td>\n",
       "      <td>[0, 0, 0, 0, 0, 0, 0, 0, 0, 0, 0, 0, 0, 0, 0, ...</td>\n",
       "      <td>[0.01953488, 0.05832418, 0.0215925, -0.0734598...</td>\n",
       "      <td>[0.011856921, 0.0321784094, 0.0178192798, -0.0...</td>\n",
       "      <td>[0.00930883, 0.04089586, 0.01740959, -0.036715...</td>\n",
       "      <td>[0.0188581459, 0.0900882706, 0.0319500118, -0....</td>\n",
       "      <td>[0.00741399, 0.0757233, 0.045437, -0.065031, -...</td>\n",
       "      <td>[0.03806945, 0.14591888, 0.09889416, -0.108370...</td>\n",
       "    </tr>\n",
       "    <tr>\n",
       "      <th>805</th>\n",
       "      <td>CID100082146</td>\n",
       "      <td>Hypersensitivity</td>\n",
       "      <td>C095105</td>\n",
       "      <td>MESH:D006967</td>\n",
       "      <td>[0.003139, 0.13455677, 0.05174527, -0.15150066...</td>\n",
       "      <td>[0.03163584, 0.12489144, 0.02595111, -0.142592...</td>\n",
       "      <td>1</td>\n",
       "      <td>DOID_1205</td>\n",
       "      <td>[3.10053602e-02, 1.36995822e-01, 5.86080104e-0...</td>\n",
       "      <td>[4.44377996e-02, 1.47881836e-01, 7.03755245e-0...</td>\n",
       "      <td>[0.01104784, 0.0811751, 0.02639464, -0.0813666...</td>\n",
       "      <td>[0.0323501714, 0.0718148202, 0.0226857904, -0....</td>\n",
       "      <td>[0.01789101, 0.04353557, 0.01829723, -0.042048...</td>\n",
       "      <td>[0.0, 0.0, 0.0, 0.0, 0.0, 0.0, 0.0, 0.0, 0.0, ...</td>\n",
       "      <td>[0.00470749, 0.04630517, 0.02642858, -0.050063...</td>\n",
       "      <td>[0.0234674681, 0.0828227624, 0.0572618805, -0....</td>\n",
       "    </tr>\n",
       "    <tr>\n",
       "      <th>1119</th>\n",
       "      <td>NaN</td>\n",
       "      <td>Dystonia</td>\n",
       "      <td>C108128</td>\n",
       "      <td>MESH:D004421</td>\n",
       "      <td>[0.03336684, 0.13025133, -0.00576218, -0.14790...</td>\n",
       "      <td>[0.03494442, 0.12329976, 0.03048507, -0.136564...</td>\n",
       "      <td>0</td>\n",
       "      <td>DOID_543</td>\n",
       "      <td>[0.03337827, 0.13778381, 0.06419638, -0.123143...</td>\n",
       "      <td>[0.04519903, 0.15312935, 0.05736172, -0.116072...</td>\n",
       "      <td>[0, 0, 0, 0, 0, 0, 0, 0, 0, 0, 0, 0, 0, 0, 0, ...</td>\n",
       "      <td>[0.0312586166, 0.0807410479, 0.0347139612, -0....</td>\n",
       "      <td>[0.0108330026, 0.0483490452, 0.0155456848, -0....</td>\n",
       "      <td>[0.00272642, 0.03967267, 0.02175706, -0.040885...</td>\n",
       "      <td>[0.00218241196, 0.0473134592, 0.0247607734, -0...</td>\n",
       "      <td>[0.00342612, 0.05763958, 0.04024423, -0.069848...</td>\n",
       "    </tr>\n",
       "    <tr>\n",
       "      <th>603</th>\n",
       "      <td>CID100005978</td>\n",
       "      <td>Intestinal Obstruction</td>\n",
       "      <td>D014750</td>\n",
       "      <td>MESH:D007415</td>\n",
       "      <td>[0.03043379, 0.11411092, 0.03300637, -0.118642...</td>\n",
       "      <td>[3.89536209e-02, 1.31734654e-01, 1.25595992e-0...</td>\n",
       "      <td>1</td>\n",
       "      <td>DOID_8437</td>\n",
       "      <td>[0.0298487, 0.11577346, 0.05007022, -0.1088261...</td>\n",
       "      <td>[0.04601289, 0.16350427, 0.06664635, -0.132718...</td>\n",
       "      <td>[4.79505537e-03, 9.33838561e-02, 5.36614992e-0...</td>\n",
       "      <td>[0.0280748326, 0.0803671926, 0.0389995761, -0....</td>\n",
       "      <td>[0.020531056, 0.059273284, 0.029718777, -0.056...</td>\n",
       "      <td>[0.0, 0.0, 0.0, 0.0, 0.0, 0.0, 0.0, 0.0, 0.0, ...</td>\n",
       "      <td>[0.02114966, 0.07192397, 0.03859979, -0.070619...</td>\n",
       "      <td>[0.0042272, 0.03712083, 0.0267113, -0.03179786...</td>\n",
       "    </tr>\n",
       "    <tr>\n",
       "      <th>393</th>\n",
       "      <td>CID100003386</td>\n",
       "      <td>Hyperuricemia</td>\n",
       "      <td>D005473</td>\n",
       "      <td>MESH:D033461</td>\n",
       "      <td>[0.05209794, 0.00067142, -0.4113431, -0.202348...</td>\n",
       "      <td>[0.02256741, 0.11404881, 0.0079848, -0.1397816...</td>\n",
       "      <td>1</td>\n",
       "      <td>DOID_1920</td>\n",
       "      <td>[0.02471046, 0.14064701, 0.05976346, -0.115151...</td>\n",
       "      <td>[0.03516927, 0.16577831, 0.05603116, -0.125716...</td>\n",
       "      <td>[0.00727077, 0.05299819, 0.02481131, -0.049112...</td>\n",
       "      <td>[0.0183377, 0.07108285, 0.03803683, -0.0703049...</td>\n",
       "      <td>[0.0, 0.0, 0.0, 0.0, 0.0, 0.0, 0.0, 0.0, 0.0, ...</td>\n",
       "      <td>[0.042719543, 0.127159715, 0.054618571, -0.146...</td>\n",
       "      <td>[0.01784863, 0.06257563, 0.03386438, -0.049829...</td>\n",
       "      <td>[0.01558697, 0.19574451, 0.18315063, -0.181546...</td>\n",
       "    </tr>\n",
       "    <tr>\n",
       "      <th>1790</th>\n",
       "      <td>NaN</td>\n",
       "      <td>Subarachnoid Hemorrhage</td>\n",
       "      <td>C010792</td>\n",
       "      <td>MESH:D013345</td>\n",
       "      <td>[0.01050896, 0.11482349, 0.05574952, -0.128762...</td>\n",
       "      <td>[-0.02982739, 0.10760874, -0.05823579, -0.0920...</td>\n",
       "      <td>0</td>\n",
       "      <td>DOID_0060228</td>\n",
       "      <td>[0.01072248, 0.09699773, 0.04329898, -0.102470...</td>\n",
       "      <td>[0.05319184, 0.16859166, 0.05600307, -0.116780...</td>\n",
       "      <td>[0, 0, 0, 0, 0, 0, 0, 0, 0, 0, 0, 0, 0, 0, 0, ...</td>\n",
       "      <td>[0.02268115, 0.06369793, 0.02509757, -0.040526...</td>\n",
       "      <td>[0.015868254, 0.0460937805, 0.0181534849, -0.0...</td>\n",
       "      <td>[0.00610753242, 0.0467655025, 0.0222043451, -0...</td>\n",
       "      <td>[0.00855476316, 0.0393077545, 0.0167582519, -0...</td>\n",
       "      <td>[0.00938532, 0.053098, 0.0328143, -0.04804737,...</td>\n",
       "    </tr>\n",
       "  </tbody>\n",
       "</table>\n",
       "</div>"
      ],
      "text/plain": [
       "               CID                     MESH  ChemicalID        MESHid  \\\n",
       "132   CID100002662       Pulmonary Embolism  D000068579  MESH:D011655   \n",
       "644   CID100027991           Hallucinations     D003894  MESH:D006212   \n",
       "765   CID100068740                     Pain     C088658  MESH:D010146   \n",
       "1832           NaN                 Acidosis     C520809  MESH:D000138   \n",
       "1003           NaN                 Fibrosis     C056516  MESH:D005355   \n",
       "805   CID100082146         Hypersensitivity     C095105  MESH:D006967   \n",
       "1119           NaN                 Dystonia     C108128  MESH:D004421   \n",
       "603   CID100005978   Intestinal Obstruction     D014750  MESH:D007415   \n",
       "393   CID100003386            Hyperuricemia     D005473  MESH:D033461   \n",
       "1790           NaN  Subarachnoid Hemorrhage     C010792  MESH:D013345   \n",
       "\n",
       "                                              ChemGoVec  \\\n",
       "132   [0.01938764, 0.07840507, 0.02419372, -0.066259...   \n",
       "644   [2.54816320e-02, 1.22387677e-01, 5.23497686e-0...   \n",
       "765   [0.04418474, 0.14310175, 0.04817571, -0.159905...   \n",
       "1832  [0.01699807, 0.13581963, 0.01922014, -0.101776...   \n",
       "1003  [-2.25543845e-02, -3.97761073e-03, -1.65494725...   \n",
       "805   [0.003139, 0.13455677, 0.05174527, -0.15150066...   \n",
       "1119  [0.03336684, 0.13025133, -0.00576218, -0.14790...   \n",
       "603   [0.03043379, 0.11411092, 0.03300637, -0.118642...   \n",
       "393   [0.05209794, 0.00067142, -0.4113431, -0.202348...   \n",
       "1790  [0.01050896, 0.11482349, 0.05574952, -0.128762...   \n",
       "\n",
       "                                               DisGoVec  Correlation  \\\n",
       "132   [-0.05989128, 0.02124369, -0.07228915, -0.0245...            1   \n",
       "644   [4.16016653e-02, 9.38132107e-02, -1.80803277e-...            1   \n",
       "765   [2.24024318e-02, 9.60943699e-02, -6.57454357e-...            1   \n",
       "1832  [0.01823403, 0.12453435, 0.03510754, -0.120218...            0   \n",
       "1003  [0.01802431, 0.14452943, -0.00467963, -0.15955...            0   \n",
       "805   [0.03163584, 0.12489144, 0.02595111, -0.142592...            1   \n",
       "1119  [0.03494442, 0.12329976, 0.03048507, -0.136564...            0   \n",
       "603   [3.89536209e-02, 1.31734654e-01, 1.25595992e-0...            1   \n",
       "393   [0.02256741, 0.11404881, 0.0079848, -0.1397816...            1   \n",
       "1790  [-0.02982739, 0.10760874, -0.05823579, -0.0920...            0   \n",
       "\n",
       "              DOID                                       disPhenVecMP  \\\n",
       "132      DOID_9477  [0.02989602, 0.10579331, 0.0458674, -0.1000161...   \n",
       "644            NaN  [0, 0, 0, 0, 0, 0, 0, 0, 0, 0, 0, 0, 0, 0, 0, ...   \n",
       "765   DOID_0060164  [2.07049586e-02, 1.04310833e-01, 5.95965236e-0...   \n",
       "1832  DOID_0050758  [2.46017128e-02, 1.35439306e-01, 6.50083050e-0...   \n",
       "1003           NaN  [0, 0, 0, 0, 0, 0, 0, 0, 0, 0, 0, 0, 0, 0, 0, ...   \n",
       "805      DOID_1205  [3.10053602e-02, 1.36995822e-01, 5.86080104e-0...   \n",
       "1119      DOID_543  [0.03337827, 0.13778381, 0.06419638, -0.123143...   \n",
       "603      DOID_8437  [0.0298487, 0.11577346, 0.05007022, -0.1088261...   \n",
       "393      DOID_1920  [0.02471046, 0.14064701, 0.05976346, -0.115151...   \n",
       "1790  DOID_0060228  [0.01072248, 0.09699773, 0.04329898, -0.102470...   \n",
       "\n",
       "                                           disPhenVecHP  \\\n",
       "132   [6.47266880e-02, 1.49182171e-01, 4.98331375e-0...   \n",
       "644   [0, 0, 0, 0, 0, 0, 0, 0, 0, 0, 0, 0, 0, 0, 0, ...   \n",
       "765   [0.0864669, 0.18244573, 0.04888484, -0.1034179...   \n",
       "1832  [4.31502573e-02, 1.76954478e-01, 6.35614619e-0...   \n",
       "1003  [0, 0, 0, 0, 0, 0, 0, 0, 0, 0, 0, 0, 0, 0, 0, ...   \n",
       "805   [4.44377996e-02, 1.47881836e-01, 7.03755245e-0...   \n",
       "1119  [0.04519903, 0.15312935, 0.05736172, -0.116072...   \n",
       "603   [0.04601289, 0.16350427, 0.06664635, -0.132718...   \n",
       "393   [0.03516927, 0.16577831, 0.05603116, -0.125716...   \n",
       "1790  [0.05319184, 0.16859166, 0.05600307, -0.116780...   \n",
       "\n",
       "                                               CHEBIvec  \\\n",
       "132   [0, 0, 0, 0, 0, 0, 0, 0, 0, 0, 0, 0, 0, 0, 0, ...   \n",
       "644   [1.65594146e-02, 4.69885767e-02, 2.39662267e-0...   \n",
       "765   [0.02015562, 0.06090377, 0.02371735, -0.060520...   \n",
       "1832  [0, 0, 0, 0, 0, 0, 0, 0, 0, 0, 0, 0, 0, 0, 0, ...   \n",
       "1003  [0.01953488, 0.05832418, 0.0215925, -0.0734598...   \n",
       "805   [0.01104784, 0.0811751, 0.02639464, -0.0813666...   \n",
       "1119  [0, 0, 0, 0, 0, 0, 0, 0, 0, 0, 0, 0, 0, 0, 0, ...   \n",
       "603   [4.79505537e-03, 9.33838561e-02, 5.36614992e-0...   \n",
       "393   [0.00727077, 0.05299819, 0.02481131, -0.049112...   \n",
       "1790  [0, 0, 0, 0, 0, 0, 0, 0, 0, 0, 0, 0, 0, 0, 0, ...   \n",
       "\n",
       "                                                  DOvec  \\\n",
       "132   [0.0156938918, 0.0867972076, 0.0221232176, -0....   \n",
       "644   [0.00156835, 0.03837546, 0.02150043, -0.032972...   \n",
       "765   [0.0221906733, 0.0621656179, 0.0342238694, -0....   \n",
       "1832  [0.01223107, 0.05447845, 0.03592256, -0.060255...   \n",
       "1003  [0.011856921, 0.0321784094, 0.0178192798, -0.0...   \n",
       "805   [0.0323501714, 0.0718148202, 0.0226857904, -0....   \n",
       "1119  [0.0312586166, 0.0807410479, 0.0347139612, -0....   \n",
       "603   [0.0280748326, 0.0803671926, 0.0389995761, -0....   \n",
       "393   [0.0183377, 0.07108285, 0.03803683, -0.0703049...   \n",
       "1790  [0.02268115, 0.06369793, 0.02509757, -0.040526...   \n",
       "\n",
       "                                            dis_HINOvec  \\\n",
       "132   [0.0, 0.0, 0.0, 0.0, 0.0, 0.0, 0.0, 0.0, 0.0, ...   \n",
       "644   [0.0, 0.0, 0.0, 0.0, 0.0, 0.0, 0.0, 0.0, 0.0, ...   \n",
       "765   [0.0214250777, 0.0636401176, 0.0447132327, -0....   \n",
       "1832  [0.00281852437, 0.040843837, 0.0216121934, -0....   \n",
       "1003  [0.00930883, 0.04089586, 0.01740959, -0.036715...   \n",
       "805   [0.01789101, 0.04353557, 0.01829723, -0.042048...   \n",
       "1119  [0.0108330026, 0.0483490452, 0.0155456848, -0....   \n",
       "603   [0.020531056, 0.059273284, 0.029718777, -0.056...   \n",
       "393   [0.0, 0.0, 0.0, 0.0, 0.0, 0.0, 0.0, 0.0, 0.0, ...   \n",
       "1790  [0.015868254, 0.0460937805, 0.0181534849, -0.0...   \n",
       "\n",
       "                                           chem_HINOvec  \\\n",
       "132   [0.0, 0.0, 0.0, 0.0, 0.0, 0.0, 0.0, 0.0, 0.0, ...   \n",
       "644   [0.0087855449, 0.035341766, 0.01706201, -0.048...   \n",
       "765   [0.00700311828, 0.0423441194, 0.0239823423, -0...   \n",
       "1832  [0.00833679456, 0.0382306054, 0.024758298, -0....   \n",
       "1003  [0.0188581459, 0.0900882706, 0.0319500118, -0....   \n",
       "805   [0.0, 0.0, 0.0, 0.0, 0.0, 0.0, 0.0, 0.0, 0.0, ...   \n",
       "1119  [0.00272642, 0.03967267, 0.02175706, -0.040885...   \n",
       "603   [0.0, 0.0, 0.0, 0.0, 0.0, 0.0, 0.0, 0.0, 0.0, ...   \n",
       "393   [0.042719543, 0.127159715, 0.054618571, -0.146...   \n",
       "1790  [0.00610753242, 0.0467655025, 0.0222043451, -0...   \n",
       "\n",
       "                                             dis_PROvec  \\\n",
       "132   [0.01547952, 0.05871394, 0.02636163, -0.041966...   \n",
       "644   [0.01499267, 0.04976962, 0.03062077, -0.041347...   \n",
       "765   [0.0285669453, 0.0819910243, 0.0499954, -0.095...   \n",
       "1832  [0.0162582137, 0.0336972848, 0.0148332668, -0....   \n",
       "1003  [0.00741399, 0.0757233, 0.045437, -0.065031, -...   \n",
       "805   [0.00470749, 0.04630517, 0.02642858, -0.050063...   \n",
       "1119  [0.00218241196, 0.0473134592, 0.0247607734, -0...   \n",
       "603   [0.02114966, 0.07192397, 0.03859979, -0.070619...   \n",
       "393   [0.01784863, 0.06257563, 0.03386438, -0.049829...   \n",
       "1790  [0.00855476316, 0.0393077545, 0.0167582519, -0...   \n",
       "\n",
       "                                            chem_PROvec  \n",
       "132   [0.04649611, 0.14973469, 0.11586712, -0.120807...  \n",
       "644   [0.0039960877, 0.0426524729, 0.0267111398, -0....  \n",
       "765   [-0.00724289, 0.09012652, 0.08922295, -0.08863...  \n",
       "1832  [0.01273698, 0.03527592, 0.01804266, -0.033962...  \n",
       "1003  [0.03806945, 0.14591888, 0.09889416, -0.108370...  \n",
       "805   [0.0234674681, 0.0828227624, 0.0572618805, -0....  \n",
       "1119  [0.00342612, 0.05763958, 0.04024423, -0.069848...  \n",
       "603   [0.0042272, 0.03712083, 0.0267113, -0.03179786...  \n",
       "393   [0.01558697, 0.19574451, 0.18315063, -0.181546...  \n",
       "1790  [0.00938532, 0.053098, 0.0328143, -0.04804737,...  "
      ]
     },
     "execution_count": 78,
     "metadata": {},
     "output_type": "execute_result"
    }
   ],
   "source": [
    "sider_mod.sample(10)"
   ]
  },
  {
   "cell_type": "markdown",
   "metadata": {},
   "source": [
    "## SIDER Run NN"
   ]
  },
  {
   "cell_type": "code",
   "execution_count": 113,
   "metadata": {},
   "outputs": [
    {
     "name": "stdout",
     "output_type": "stream",
     "text": [
      "WARNING:tensorflow:No training configuration found in save file: the model was *not* compiled. Compile it manually.\n"
     ]
    }
   ],
   "source": [
    "# Load model (saved in opa-nn notebook)\n",
    "from tensorflow.keras.models import load_model\n",
    "# nn14022019auc921GoPhenCHEdoHI\n",
    "# nn15022019auc937GoPhenCHEdoHIpro\n",
    "# nn14022019auc921GoPhenCHEdoHI --> .586\n",
    "# nn15022019auc92GoPhenCHEdoHIpro --> .50\n",
    "# nn20022019auc878GoHINO.h5\n",
    "# nn20022019auc866GoHINO\n",
    "# nn20022019auc859GOHINOnosparsity\n",
    "model = load_model('../opa/nn20022019auc866GoHINO.h5')"
   ]
  },
  {
   "cell_type": "code",
   "execution_count": 114,
   "metadata": {},
   "outputs": [],
   "source": [
    "# Now let's see if saving and loading the model worked\n",
    "# Create a vector from go vec + empty vecs for the other desired vecs\n",
    "# Use NN to make predictions\n",
    "# Evaluate these"
   ]
  },
  {
   "cell_type": "code",
   "execution_count": 115,
   "metadata": {},
   "outputs": [
    {
     "name": "stdout",
     "output_type": "stream",
     "text": [
      "_________________________________________________________________\n",
      "Layer (type)                 Output Shape              Param #   \n",
      "=================================================================\n",
      "flatten_3 (Flatten)          (None, 800)               0         \n",
      "_________________________________________________________________\n",
      "dense_12 (Dense)             (None, 200)               160200    \n",
      "_________________________________________________________________\n",
      "dense_13 (Dense)             (None, 60)                12060     \n",
      "_________________________________________________________________\n",
      "dense_14 (Dense)             (None, 10)                610       \n",
      "_________________________________________________________________\n",
      "dense_15 (Dense)             (None, 1)                 11        \n",
      "=================================================================\n",
      "Total params: 172,881\n",
      "Trainable params: 172,881\n",
      "Non-trainable params: 0\n",
      "_________________________________________________________________\n"
     ]
    }
   ],
   "source": [
    "model.summary()"
   ]
  },
  {
   "cell_type": "markdown",
   "metadata": {},
   "source": [
    "### Preprocess vecs"
   ]
  },
  {
   "cell_type": "code",
   "execution_count": 116,
   "metadata": {},
   "outputs": [],
   "source": [
    "# # I thiiink that this model expects input shape 1600, so add empty vecs for the cols I don't have yet\n",
    "# empty_vec = [0] * 200\n",
    "\n",
    "# cols_to_do = ['disPhenVecMP', 'disPhenVecHP', 'CHEBIvec', 'DOvec', 'dis_HINOvec', 'chem_HINOvec', ]\n",
    "\n",
    "# for col in cols_to_do:\n",
    "#     sider_mod[col] = np.nan\n",
    "#     sider_mod[col] = sider_mod[col].map(lambda x: empty_vec)"
   ]
  },
  {
   "cell_type": "code",
   "execution_count": 117,
   "metadata": {},
   "outputs": [],
   "source": [
    "# Need to turn all to float\n",
    "all_vecs = ['ChemGoVec', 'DisGoVec', 'disPhenVecMP', 'disPhenVecHP', 'CHEBIvec', 'DOvec', 'dis_HINOvec', 'chem_HINOvec', ]\n",
    "\n",
    "for col in all_vecs:\n",
    "    sider_mod[col] = sider_mod[col].map(lambda x: [float(i) for i in x])"
   ]
  },
  {
   "cell_type": "code",
   "execution_count": 118,
   "metadata": {},
   "outputs": [
    {
     "name": "stdout",
     "output_type": "stream",
     "text": [
      "881\n",
      "776\n",
      "(1657, 16)\n"
     ]
    }
   ],
   "source": [
    "print(sider_mod[sider_mod.Correlation == 1].shape[0])\n",
    "print(sider_mod[sider_mod.Correlation == 0].shape[0])\n",
    "print(sider_mod.shape)"
   ]
  },
  {
   "cell_type": "code",
   "execution_count": 119,
   "metadata": {},
   "outputs": [
    {
     "data": {
      "text/html": [
       "<div>\n",
       "<style scoped>\n",
       "    .dataframe tbody tr th:only-of-type {\n",
       "        vertical-align: middle;\n",
       "    }\n",
       "\n",
       "    .dataframe tbody tr th {\n",
       "        vertical-align: top;\n",
       "    }\n",
       "\n",
       "    .dataframe thead th {\n",
       "        text-align: right;\n",
       "    }\n",
       "</style>\n",
       "<table border=\"1\" class=\"dataframe\">\n",
       "  <thead>\n",
       "    <tr style=\"text-align: right;\">\n",
       "      <th></th>\n",
       "      <th>CID</th>\n",
       "      <th>MESH</th>\n",
       "      <th>ChemicalID</th>\n",
       "      <th>MESHid</th>\n",
       "      <th>ChemGoVec</th>\n",
       "      <th>DisGoVec</th>\n",
       "      <th>Correlation</th>\n",
       "      <th>DOID</th>\n",
       "      <th>disPhenVecMP</th>\n",
       "      <th>disPhenVecHP</th>\n",
       "      <th>CHEBIvec</th>\n",
       "      <th>DOvec</th>\n",
       "      <th>dis_HINOvec</th>\n",
       "      <th>chem_HINOvec</th>\n",
       "      <th>dis_PROvec</th>\n",
       "      <th>chem_PROvec</th>\n",
       "    </tr>\n",
       "  </thead>\n",
       "  <tbody>\n",
       "    <tr>\n",
       "      <th>1344</th>\n",
       "      <td>NaN</td>\n",
       "      <td>Thrombocytosis</td>\n",
       "      <td>C111237</td>\n",
       "      <td>MESH:D013922</td>\n",
       "      <td>[0.0407695882, 0.122441672, 0.0625707433, -0.1...</td>\n",
       "      <td>[0.0222676, 0.13557586, 0.01347457, -0.1086524...</td>\n",
       "      <td>0</td>\n",
       "      <td>DOID_2228</td>\n",
       "      <td>[0.02181925, 0.17985186, 0.07445057, -0.141800...</td>\n",
       "      <td>[0.0573725812, 0.141926616, 0.0507249758, -0.1...</td>\n",
       "      <td>[0.01256534, 0.05737388, 0.02561303, -0.061355...</td>\n",
       "      <td>[0.0136506511, 0.0822437853, 0.0422460325, -0....</td>\n",
       "      <td>[0.0113859, 0.04435341, 0.00967744, -0.0428643...</td>\n",
       "      <td>[0.00699205697, 0.0367214382, 0.0206637774, -0...</td>\n",
       "      <td>[0.00984975137, 0.0654935837, 0.0565586984, -0...</td>\n",
       "      <td>[0.00701486599, 0.0914235339, 0.0594028272, -0...</td>\n",
       "    </tr>\n",
       "    <tr>\n",
       "      <th>1168</th>\n",
       "      <td>NaN</td>\n",
       "      <td>Hypercholesterolemia</td>\n",
       "      <td>C101866</td>\n",
       "      <td>MESH:D006937</td>\n",
       "      <td>[0.05118491, 0.07795462, -0.02230867, -0.11712...</td>\n",
       "      <td>[0.00705798483, 0.113484874, 0.0160176642, -0....</td>\n",
       "      <td>0</td>\n",
       "      <td>DOID_13810</td>\n",
       "      <td>[0.0243070964, 0.125378847, 0.0576208457, -0.1...</td>\n",
       "      <td>[0.03911279, 0.14988306, 0.05798033, -0.125094...</td>\n",
       "      <td>[-0.00241162, 0.06804803, 0.0312441, -0.088556...</td>\n",
       "      <td>[0.0182029065, 0.0606179424, 0.0304756258, -0....</td>\n",
       "      <td>[0.0, 0.0, 0.0, 0.0, 0.0, 0.0, 0.0, 0.0, 0.0, ...</td>\n",
       "      <td>[0.00871678907, 0.0451454818, 0.0274254084, -0...</td>\n",
       "      <td>[0.02465567, 0.06237349, 0.02876557, -0.051365...</td>\n",
       "      <td>[0.01428858, 0.0444684476, 0.0245946459, -0.04...</td>\n",
       "    </tr>\n",
       "    <tr>\n",
       "      <th>1304</th>\n",
       "      <td>NaN</td>\n",
       "      <td>Hypertension</td>\n",
       "      <td>C108128</td>\n",
       "      <td>MESH:D006973</td>\n",
       "      <td>[0.03336684, 0.13025133, -0.00576218, -0.14790...</td>\n",
       "      <td>[0.006351477, 0.0485302098, -0.200872347, -0.1...</td>\n",
       "      <td>0</td>\n",
       "      <td>DOID_10763</td>\n",
       "      <td>[0.03504562, 0.14703396, 0.06828971, -0.125510...</td>\n",
       "      <td>[0.0560684949, 0.168276355, 0.0629214868, -0.0...</td>\n",
       "      <td>[0.0, 0.0, 0.0, 0.0, 0.0, 0.0, 0.0, 0.0, 0.0, ...</td>\n",
       "      <td>[0.015685454, 0.0748481154, 0.0308311991, -0.0...</td>\n",
       "      <td>[0.02415318, 0.10397863, 0.04948746, -0.097153...</td>\n",
       "      <td>[0.00272642, 0.03967267, 0.02175706, -0.040885...</td>\n",
       "      <td>[0.05884882, 0.1363091, 0.08159841, -0.1346005...</td>\n",
       "      <td>[0.00342612, 0.05763958, 0.04024423, -0.069848...</td>\n",
       "    </tr>\n",
       "  </tbody>\n",
       "</table>\n",
       "</div>"
      ],
      "text/plain": [
       "      CID                  MESH ChemicalID        MESHid  \\\n",
       "1344  NaN        Thrombocytosis    C111237  MESH:D013922   \n",
       "1168  NaN  Hypercholesterolemia    C101866  MESH:D006937   \n",
       "1304  NaN          Hypertension    C108128  MESH:D006973   \n",
       "\n",
       "                                              ChemGoVec  \\\n",
       "1344  [0.0407695882, 0.122441672, 0.0625707433, -0.1...   \n",
       "1168  [0.05118491, 0.07795462, -0.02230867, -0.11712...   \n",
       "1304  [0.03336684, 0.13025133, -0.00576218, -0.14790...   \n",
       "\n",
       "                                               DisGoVec  Correlation  \\\n",
       "1344  [0.0222676, 0.13557586, 0.01347457, -0.1086524...            0   \n",
       "1168  [0.00705798483, 0.113484874, 0.0160176642, -0....            0   \n",
       "1304  [0.006351477, 0.0485302098, -0.200872347, -0.1...            0   \n",
       "\n",
       "            DOID                                       disPhenVecMP  \\\n",
       "1344   DOID_2228  [0.02181925, 0.17985186, 0.07445057, -0.141800...   \n",
       "1168  DOID_13810  [0.0243070964, 0.125378847, 0.0576208457, -0.1...   \n",
       "1304  DOID_10763  [0.03504562, 0.14703396, 0.06828971, -0.125510...   \n",
       "\n",
       "                                           disPhenVecHP  \\\n",
       "1344  [0.0573725812, 0.141926616, 0.0507249758, -0.1...   \n",
       "1168  [0.03911279, 0.14988306, 0.05798033, -0.125094...   \n",
       "1304  [0.0560684949, 0.168276355, 0.0629214868, -0.0...   \n",
       "\n",
       "                                               CHEBIvec  \\\n",
       "1344  [0.01256534, 0.05737388, 0.02561303, -0.061355...   \n",
       "1168  [-0.00241162, 0.06804803, 0.0312441, -0.088556...   \n",
       "1304  [0.0, 0.0, 0.0, 0.0, 0.0, 0.0, 0.0, 0.0, 0.0, ...   \n",
       "\n",
       "                                                  DOvec  \\\n",
       "1344  [0.0136506511, 0.0822437853, 0.0422460325, -0....   \n",
       "1168  [0.0182029065, 0.0606179424, 0.0304756258, -0....   \n",
       "1304  [0.015685454, 0.0748481154, 0.0308311991, -0.0...   \n",
       "\n",
       "                                            dis_HINOvec  \\\n",
       "1344  [0.0113859, 0.04435341, 0.00967744, -0.0428643...   \n",
       "1168  [0.0, 0.0, 0.0, 0.0, 0.0, 0.0, 0.0, 0.0, 0.0, ...   \n",
       "1304  [0.02415318, 0.10397863, 0.04948746, -0.097153...   \n",
       "\n",
       "                                           chem_HINOvec  \\\n",
       "1344  [0.00699205697, 0.0367214382, 0.0206637774, -0...   \n",
       "1168  [0.00871678907, 0.0451454818, 0.0274254084, -0...   \n",
       "1304  [0.00272642, 0.03967267, 0.02175706, -0.040885...   \n",
       "\n",
       "                                             dis_PROvec  \\\n",
       "1344  [0.00984975137, 0.0654935837, 0.0565586984, -0...   \n",
       "1168  [0.02465567, 0.06237349, 0.02876557, -0.051365...   \n",
       "1304  [0.05884882, 0.1363091, 0.08159841, -0.1346005...   \n",
       "\n",
       "                                            chem_PROvec  \n",
       "1344  [0.00701486599, 0.0914235339, 0.0594028272, -0...  \n",
       "1168  [0.01428858, 0.0444684476, 0.0245946459, -0.04...  \n",
       "1304  [0.00342612, 0.05763958, 0.04024423, -0.069848...  "
      ]
     },
     "execution_count": 119,
     "metadata": {},
     "output_type": "execute_result"
    }
   ],
   "source": [
    "sider_mod.sample(3)"
   ]
  },
  {
   "cell_type": "code",
   "execution_count": 120,
   "metadata": {},
   "outputs": [],
   "source": [
    "# # Optionally remove all empty vecs\n",
    "# empty_vec = [0.0] * 200\n",
    "\n",
    "# for col in ['DisGoVec', 'ChemGoVec', 'disPhenVecMP', 'disPhenVecHP', 'CHEBIvec', 'DOvec', 'dis_HINOvec', 'chem_HINOvec', 'dis_PROvec']:\n",
    "#     sider_mod[col] = sider_mod[col].map(lambda x: np.nan if x == empty_vec else x)\n",
    "    \n",
    "# sider_mod = sider_mod.dropna(subset=['DisGoVec', 'ChemGoVec', 'disPhenVecMP', 'disPhenVecHP', 'CHEBIvec', 'DOvec', 'dis_HINOvec', 'chem_HINOvec'])"
   ]
  },
  {
   "cell_type": "code",
   "execution_count": 121,
   "metadata": {},
   "outputs": [
    {
     "name": "stdout",
     "output_type": "stream",
     "text": [
      "881\n",
      "776\n",
      "(1657, 16)\n"
     ]
    }
   ],
   "source": [
    "print(sider_mod[sider_mod.Correlation == 1].shape[0])\n",
    "print(sider_mod[sider_mod.Correlation == 0].shape[0])\n",
    "print(sider_mod.shape)"
   ]
  },
  {
   "cell_type": "code",
   "execution_count": 122,
   "metadata": {},
   "outputs": [],
   "source": [
    "# # Download sider_mod to run NN on it in Opa-nn notebook (compare and see if model load component failing)\n",
    "# sider_mod.to_csv('Sider_val.csv')"
   ]
  },
  {
   "cell_type": "code",
   "execution_count": 123,
   "metadata": {},
   "outputs": [],
   "source": [
    "# # For Keras, need to turn inputs into numpy arrays instead of pandas df\n",
    "# # First create single np array of all vecs... not pretty:\n",
    "# Dvecs = pd.DataFrame(sider_mod.DisGoVec.values.tolist(), index= sider_mod.index)\n",
    "# Cvecs = pd.DataFrame(sider_mod.ChemGoVec.values.tolist(), index= sider_mod.index)\n",
    "# gofuncs = Dvecs.merge(Cvecs, how='outer', left_index=True, right_index=True)\n",
    "\n",
    "# DMPvecs = pd.DataFrame(sider_mod.disPhenVecHP.values.tolist(), index= sider_mod.index)\n",
    "# DHPvecs = pd.DataFrame(sider_mod.disPhenVecMP.values.tolist(), index= sider_mod.index)\n",
    "# disPvecs = DMPvecs.merge(DHPvecs, how='outer', left_index=True, right_index=True)\n",
    "\n",
    "# all_X = disPvecs.merge(gofuncs, how='outer', left_index=True, right_index=True)\n",
    "\n",
    "# CHEBvecs = pd.DataFrame(sider_mod.CHEBIvec.values.tolist(), index = sider_mod.index)\n",
    "# all_X = CHEBvecs.merge(all_X, how='outer', left_index=True, right_index=True)\n",
    "\n",
    "# DOvecs = pd.DataFrame(sider_mod.DOvec.values.tolist(), index = sider_mod.index)\n",
    "# all_X = DOvecs.merge(all_X, how='outer', left_index=True, right_index=True)\n",
    "\n",
    "# dHINOvecs = pd.DataFrame(sider_mod.dis_HINOvec.values.tolist(), index=sider_mod.index)\n",
    "# cHINOvecs = pd.DataFrame(sider_mod.chem_HINOvec.values.tolist(), index=sider_mod.index)\n",
    "# hinovecs = cHINOvecs.merge(dHINOvecs, how='outer', left_index=True, right_index=True)\n",
    "# all_X = all_X.merge(hinovecs, how='outer', left_index=True, right_index=True)\n",
    "\n",
    "# all_X = np.array(all_X)"
   ]
  },
  {
   "cell_type": "code",
   "execution_count": 124,
   "metadata": {},
   "outputs": [],
   "source": [
    "# # try out dropping na rows --> does of course boost AUC significantly\n",
    "# sider_mod = sider_mod.dropna()\n",
    "# # need to re-add uncorrelated rows tho if dropping na\n",
    "\n",
    "# # Add unrelated pairs - control obs\n",
    "# no_rows = (sider_mod.shape[0]-1)   # This is a parameter to be tuned --> how many uncorrelated pairs do we want\n",
    "# print('Original shape: ', sider_mod.shape)\n",
    "# sider_mod = sider_mod.drop_duplicates(subset=['ChemicalID', 'MESHid'], keep=False)\n",
    "# print('Shape after dropping duplicates: ', sider_mod.shape)\n",
    "\n",
    "# # Randomly select chems and diseases (as many as there are related pairs)\n",
    "# df_chems = sider_mod[['ChemicalID', 'ChemGoVec']].drop_duplicates(subset=['ChemicalID']).reset_index(drop=True)\n",
    "# df_dis = sider_mod[['MESHid', 'DisGoVec', 'MESH']].drop_duplicates(subset=['MESHid']).reset_index(drop=True)\n",
    "# df_chems.columns = ['ID', 'Vector']\n",
    "# df_dis.columns = ['ID', 'Vector', 'MESH']\n",
    "\n",
    "# # print('chem size: ', df_chems.shape[0])\n",
    "# # print('dis size: ', df_dis.shape[0])\n",
    "\n",
    "# no_chems = len(df_chems) - 1\n",
    "# no_dis = len(df_dis) - 1\n",
    "# rand_chems = np.random.choice(no_chems, no_rows, replace=True)\n",
    "# rand_dis = np.random.choice(no_dis, no_rows, replace=True)\n",
    "\n",
    "# # Add the new pairs as rows\n",
    "# for x in range(0, no_rows):\n",
    "#     int1 = rand_chems[x]\n",
    "#     int2 = rand_dis[x]\n",
    "#     chem, chemvec = df_chems.loc[int1, 'ID'], df_chems.loc[int1, 'Vector']\n",
    "#     dis, disvec, mesh = df_dis.loc[int2, 'ID'], df_dis.loc[int2, 'Vector'], df_dis.loc[int2, 'MESH']\n",
    "#     sider_mod = sider_mod.append({'ChemicalID':chem, 'MESHid':dis, 'ChemGoVec':chemvec, 'DisGoVec': disvec, 'Correlation':0, 'MESH': mesh}, ignore_index=True)\n",
    "\n",
    "# print('Shape after adding controls: ', sider_mod.shape)\n",
    "# # Drop any duplicates (removes known correlated pairs accidentally generated as uncorrelated)\n",
    "# sider_mod = sider_mod.drop_duplicates(subset=['ChemicalID', 'MESHid'], keep=False)\n",
    "# print('Shape after dropping duplicates: ', sider_mod.shape)\n",
    "\n",
    "# # and re add empty vecs\n",
    "# empty_vec = [0] * 200\n",
    "\n",
    "# sider_mod['disPhenVecMP'] = sider_mod.DOID.map(lambda x: dis_mpVec.get(x, empty_vec))\n",
    "# sider_mod['disPhenVecHP'] = sider_mod.DOID.map(lambda x: dis_hpVec.get(x, empty_vec))"
   ]
  },
  {
   "cell_type": "code",
   "execution_count": 125,
   "metadata": {},
   "outputs": [],
   "source": [
    "# # Version for phen and gofunc vecs\n",
    "# # For Keras, need to turn inputs into numpy arrays instead of pandas df\n",
    "# # First create single np array of all vecs... not pretty:\n",
    "# Dvecs = pd.DataFrame(sider_mod.DisGoVec.values.tolist(), index= sider_mod.index)\n",
    "# Cvecs = pd.DataFrame(sider_mod.ChemGoVec.values.tolist(), index= sider_mod.index)\n",
    "# gofuncs = Dvecs.merge(Cvecs, how='outer', left_index=True, right_index=True)\n",
    "\n",
    "# DMPvecs = pd.DataFrame(sider_mod.disPhenVecHP.values.tolist(), index= sider_mod.index)\n",
    "# DHPvecs = pd.DataFrame(sider_mod.disPhenVecMP.values.tolist(), index= sider_mod.index)\n",
    "# disPvecs = DMPvecs.merge(DHPvecs, how='outer', left_index=True, right_index=True)\n",
    "\n",
    "# all_X = disPvecs.merge(gofuncs, how='outer', left_index=True, right_index=True)\n",
    "\n",
    "# all_X = np.array(all_X)"
   ]
  },
  {
   "cell_type": "code",
   "execution_count": 126,
   "metadata": {},
   "outputs": [],
   "source": [
    "# # Version for HINO, DO, CHEBI, disphen and gofunc vecs\n",
    "# # For Keras, need to turn inputs into numpy arrays instead of pandas df\n",
    "# # First create single np array of all vecs... not pretty:\n",
    "# Dvecs = pd.DataFrame(sider_mod.DisGoVec.values.tolist(), index= sider_mod.index)\n",
    "# Cvecs = pd.DataFrame(sider_mod.ChemGoVec.values.tolist(), index= sider_mod.index)\n",
    "# gofuncs = Dvecs.merge(Cvecs, how='outer', left_index=True, right_index=True)\n",
    "\n",
    "# DMPvecs = pd.DataFrame(sider_mod.disPhenVecHP.values.tolist(), index= sider_mod.index)\n",
    "# DHPvecs = pd.DataFrame(sider_mod.disPhenVecMP.values.tolist(), index= sider_mod.index)\n",
    "# disPvecs = DMPvecs.merge(DHPvecs, how='outer', left_index=True, right_index=True)\n",
    "\n",
    "# all_X = disPvecs.merge(gofuncs, how='outer', left_index=True, right_index=True)\n",
    "\n",
    "# CHEBvecs = pd.DataFrame(sider_mod.CHEBIvec.values.tolist(), index = sider_mod.index)\n",
    "# all_X = CHEBvecs.merge(all_X, how='outer', left_index=True, right_index=True)\n",
    "\n",
    "# DOvecs = pd.DataFrame(sider_mod.DOvec.values.tolist(), index = sider_mod.index)\n",
    "# all_X = DOvecs.merge(all_X, how='outer', left_index=True, right_index=True)\n",
    "\n",
    "# dHINOvecs = pd.DataFrame(sider_mod.dis_HINOvec.values.tolist(), index=sider_mod.index)\n",
    "# cHINOvecs = pd.DataFrame(sider_mod.chem_HINOvec.values.tolist(), index=sider_mod.index)\n",
    "# hinovecs = cHINOvecs.merge(dHINOvecs, how='outer', left_index=True, right_index=True)\n",
    "# all_X = all_X.merge(hinovecs, how='outer', left_index=True, right_index=True)\n",
    "\n",
    "# all_X = np.array(all_X)"
   ]
  },
  {
   "cell_type": "code",
   "execution_count": 127,
   "metadata": {},
   "outputs": [],
   "source": [
    "# # Version for PRO, HINO, DO, CHEBI, disphen and gofunc vecs\n",
    "# # For Keras, need to turn inputs into numpy arrays instead of pandas df\n",
    "# # First create single np array of all vecs... not pretty:\n",
    "# Dvecs = pd.DataFrame(sider_mod.DisGoVec.values.tolist(), index= sider_mod.index)\n",
    "# Cvecs = pd.DataFrame(sider_mod.ChemGoVec.values.tolist(), index= sider_mod.index)\n",
    "# gofuncs = Dvecs.merge(Cvecs, how='outer', left_index=True, right_index=True)\n",
    "\n",
    "# DMPvecs = pd.DataFrame(sider_mod.disPhenVecHP.values.tolist(), index= sider_mod.index)\n",
    "# DHPvecs = pd.DataFrame(sider_mod.disPhenVecMP.values.tolist(), index= sider_mod.index)\n",
    "# disPvecs = DMPvecs.merge(DHPvecs, how='outer', left_index=True, right_index=True)\n",
    "\n",
    "# all_X = disPvecs.merge(gofuncs, how='outer', left_index=True, right_index=True)\n",
    "\n",
    "# CHEBvecs = pd.DataFrame(sider_mod.CHEBIvec.values.tolist(), index = sider_mod.index)\n",
    "# all_X = CHEBvecs.merge(all_X, how='outer', left_index=True, right_index=True)\n",
    "\n",
    "# DOvecs = pd.DataFrame(sider_mod.DOvec.values.tolist(), index = sider_mod.index)\n",
    "# all_X = DOvecs.merge(all_X, how='outer', left_index=True, right_index=True)\n",
    "\n",
    "# dHINOvecs = pd.DataFrame(sider_mod.dis_HINOvec.values.tolist(), index=sider_mod.index)\n",
    "# cHINOvecs = pd.DataFrame(sider_mod.chem_HINOvec.values.tolist(), index=sider_mod.index)\n",
    "# hinovecs = cHINOvecs.merge(dHINOvecs, how='outer', left_index=True, right_index=True)\n",
    "# all_X = all_X.merge(hinovecs, how='outer', left_index=True, right_index=True)\n",
    "\n",
    "# dPROvecs = pd.DataFrame(sider_mod.dis_PROvec.values.tolist(), index=sider_mod.index)\n",
    "# cPROvecs = pd.DataFrame(sider_mod.chem_PROvec.values.tolist(), index=sider_mod.index)\n",
    "# PROvecs = cPROvecs.merge(dPROvecs, how='outer', left_index=True, right_index=True)\n",
    "# all_X = all_X.merge(PROvecs, how='outer', left_index=True, right_index=True)\n",
    "\n",
    "# all_X = np.array(all_X)"
   ]
  },
  {
   "cell_type": "code",
   "execution_count": 128,
   "metadata": {},
   "outputs": [],
   "source": [
    "# # Version for gofunc vecs and CHEBI\n",
    "# # For Keras, need to turn inputs into numpy arrays instead of pandas df\n",
    "# # First create single np array of all vecs... not pretty:\n",
    "# Dvecs = pd.DataFrame(sider_mod.DisGoVec.values.tolist(), index= sider_mod.index)\n",
    "# Cvecs = pd.DataFrame(sider_mod.ChemGoVec.values.tolist(), index= sider_mod.index)\n",
    "# all_X = Dvecs.merge(Cvecs, how='outer', left_index=True, right_index=True)\n",
    "\n",
    "# CHEBvecs = pd.DataFrame(sider_mod.CHEBIvec.values.tolist(), index = sider_mod.index)\n",
    "# all_X = CHEBvecs.merge(all_X, how='outer', left_index=True, right_index=True)\n",
    "\n",
    "# all_X = np.array(all_X)"
   ]
  },
  {
   "cell_type": "code",
   "execution_count": 129,
   "metadata": {},
   "outputs": [],
   "source": [
    "# # Version for gofunc vecs\n",
    "# # For Keras, need to turn inputs into numpy arrays instead of pandas df\n",
    "# # First create single np array of all vecs... not pretty:\n",
    "# Dvecs = pd.DataFrame(sider_mod.DisGoVec.values.tolist(), index= sider_mod.index)\n",
    "# Cvecs = pd.DataFrame(sider_mod.ChemGoVec.values.tolist(), index= sider_mod.index)\n",
    "# all_X = Dvecs.merge(Cvecs, how='outer', left_index=True, right_index=True)\n",
    "\n",
    "# all_X = np.array(all_X)"
   ]
  },
  {
   "cell_type": "code",
   "execution_count": 130,
   "metadata": {},
   "outputs": [],
   "source": [
    "# # Version for gofunc vecs and HINO\n",
    "# # For Keras, need to turn inputs into numpy arrays instead of pandas df\n",
    "# # First create single np array of all vecs... not pretty:\n",
    "# Dvecs = pd.DataFrame(sider_mod.DisGoVec.values.tolist(), index= sider_mod.index)\n",
    "# Cvecs = pd.DataFrame(sider_mod.ChemGoVec.values.tolist(), index= sider_mod.index)\n",
    "# all_X = Dvecs.merge(Cvecs, how='outer', left_index=True, right_index=True)\n",
    "\n",
    "# dHINOvecs = pd.DataFrame(sider_mod.dis_HINOvec.values.tolist(), index=sider_mod.index)\n",
    "# cHINOvecs = pd.DataFrame(sider_mod.chem_HINOvec.values.tolist(), index=sider_mod.index)\n",
    "# hinovecs = cHINOvecs.merge(dHINOvecs, how='outer', left_index=True, right_index=True)\n",
    "# all_X = all_X.merge(hinovecs, how='outer', left_index=True, right_index=True)\n",
    "\n",
    "# all_X = np.array(all_X)"
   ]
  },
  {
   "cell_type": "code",
   "execution_count": 131,
   "metadata": {},
   "outputs": [],
   "source": [
    "# Version for gofunc vecs and HINO\n",
    "# For Keras, need to turn inputs into numpy arrays instead of pandas df\n",
    "# First create single np array of all vecs... not pretty:\n",
    "Dvecs = pd.DataFrame(sider_mod.DisGoVec.values.tolist(), index= sider_mod.index)\n",
    "Cvecs = pd.DataFrame(sider_mod.ChemGoVec.values.tolist(), index= sider_mod.index)\n",
    "all_X = Dvecs.merge(Cvecs, how='outer', left_index=True, right_index=True)\n",
    "\n",
    "dHINOvecs = pd.DataFrame(sider_mod.dis_HINOvec.values.tolist(), index=sider_mod.index)\n",
    "cHINOvecs = pd.DataFrame(sider_mod.chem_HINOvec.values.tolist(), index=sider_mod.index)\n",
    "hinovecs = cHINOvecs.merge(dHINOvecs, how='outer', left_index=True, right_index=True)\n",
    "all_X = all_X.merge(hinovecs, how='outer', left_index=True, right_index=True)\n",
    "\n",
    "all_X = np.array(all_X)"
   ]
  },
  {
   "cell_type": "code",
   "execution_count": 132,
   "metadata": {},
   "outputs": [],
   "source": [
    "# Now create np array of the y output\n",
    "all_y = np.array(sider_mod.Correlation)"
   ]
  },
  {
   "cell_type": "code",
   "execution_count": 133,
   "metadata": {},
   "outputs": [
    {
     "name": "stdout",
     "output_type": "stream",
     "text": [
      "y shape:  (1657,)\n",
      "X shape:  (1657, 800)\n"
     ]
    }
   ],
   "source": [
    "print('y shape: ', all_y.shape)\n",
    "print('X shape: ', all_X.shape)"
   ]
  },
  {
   "cell_type": "code",
   "execution_count": 134,
   "metadata": {},
   "outputs": [],
   "source": [
    "# sider_mod[['ChemicalID', 'MESHid', 'Correlation', 'ChemGoVec', 'DisGoVec']]"
   ]
  },
  {
   "cell_type": "code",
   "execution_count": 135,
   "metadata": {},
   "outputs": [],
   "source": [
    "# Now I have my validation db (tho small...) so Run NN, get predictions and accuracy"
   ]
  },
  {
   "cell_type": "code",
   "execution_count": 136,
   "metadata": {},
   "outputs": [],
   "source": [
    "# 2. Compile the model (give it loss func, optimise func and eval metric)\n",
    "model.compile(optimizer=tf.train.AdamOptimizer(), # determines how the model is adapted based on loss func\n",
    "              loss='binary_crossentropy', # measure of accuracy during training\n",
    "              metrics=['accuracy']) # measure for train and testing steps "
   ]
  },
  {
   "cell_type": "code",
   "execution_count": 137,
   "metadata": {},
   "outputs": [
    {
     "name": "stdout",
     "output_type": "stream",
     "text": [
      "1657/1657 [==============================] - 0s 101us/step\n",
      "Test accuracy: 0.5588412796364682\n"
     ]
    }
   ],
   "source": [
    "# Accuracy\n",
    "test_loss, test_acc = model.evaluate(all_X, all_y)\n",
    "print('Test accuracy:', test_acc)"
   ]
  },
  {
   "cell_type": "code",
   "execution_count": 138,
   "metadata": {},
   "outputs": [],
   "source": [
    "# Get actual predictions for test set\n",
    "predictions = model.predict(all_X)\n",
    "rounded_predictions = [int(float(round(x[0]))) for x in predictions]"
   ]
  },
  {
   "cell_type": "code",
   "execution_count": 139,
   "metadata": {},
   "outputs": [
    {
     "name": "stdout",
     "output_type": "stream",
     "text": [
      "ROC AUC:  0.5623486080718958\n"
     ]
    }
   ],
   "source": [
    "# ROC AUC\n",
    "print('ROC AUC: ', roc_auc_score(all_y, predictions))"
   ]
  },
  {
   "cell_type": "code",
   "execution_count": 140,
   "metadata": {},
   "outputs": [
    {
     "name": "stdout",
     "output_type": "stream",
     "text": [
      "Chems : 62\n",
      "Dis : 151\n",
      "chem:dis obs:  1657\n",
      "of which are uncorrelated:  776\n"
     ]
    }
   ],
   "source": [
    "print('Chems :', sider_mod.ChemicalID.nunique())\n",
    "print('Dis :', sider_mod.MESH.nunique())\n",
    "print('chem:dis obs: ', sider_mod.shape[0])\n",
    "print('of which are uncorrelated: ', sider_mod[sider_mod.Correlation == 0].shape[0])"
   ]
  },
  {
   "cell_type": "code",
   "execution_count": null,
   "metadata": {},
   "outputs": [],
   "source": []
  },
  {
   "cell_type": "code",
   "execution_count": null,
   "metadata": {},
   "outputs": [],
   "source": []
  },
  {
   "cell_type": "code",
   "execution_count": null,
   "metadata": {},
   "outputs": [],
   "source": []
  },
  {
   "cell_type": "code",
   "execution_count": null,
   "metadata": {},
   "outputs": [],
   "source": []
  },
  {
   "cell_type": "code",
   "execution_count": null,
   "metadata": {},
   "outputs": [],
   "source": []
  },
  {
   "cell_type": "code",
   "execution_count": null,
   "metadata": {},
   "outputs": [],
   "source": []
  }
 ],
 "metadata": {
  "kernelspec": {
   "display_name": "Python 3",
   "language": "python",
   "name": "python3"
  },
  "language_info": {
   "codemirror_mode": {
    "name": "ipython",
    "version": 3
   },
   "file_extension": ".py",
   "mimetype": "text/x-python",
   "name": "python",
   "nbconvert_exporter": "python",
   "pygments_lexer": "ipython3",
   "version": "3.6.5"
  }
 },
 "nbformat": 4,
 "nbformat_minor": 2
}
