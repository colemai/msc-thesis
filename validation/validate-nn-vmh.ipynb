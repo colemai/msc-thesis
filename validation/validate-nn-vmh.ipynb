{
 "cells": [
  {
   "cell_type": "markdown",
   "metadata": {},
   "source": [
    "# Validate NN on VMH unseen database\n",
    "<b>Author</b>: Ian Coleman <br/>\n",
    "<b>Function</b>: Let's take the NN developed in Opa/ and test it out on virtual metabolic human data"
   ]
  },
  {
   "cell_type": "code",
   "execution_count": 312,
   "metadata": {},
   "outputs": [],
   "source": [
    "import tensorflow as tf\n",
    "from tensorflow import keras\n",
    "import numpy as np\n",
    "import matplotlib.pyplot as plt\n",
    "import pandas as pd\n",
    "from random import randint\n",
    "import random\n",
    "from sklearn.model_selection import train_test_split\n",
    "import sklearn\n",
    "from sklearn.metrics.pairwise import cosine_similarity\n",
    "from sklearn.metrics import roc_curve\n",
    "from sklearn.metrics import roc_auc_score\n",
    "from pandas_ml import ConfusionMatrix\n",
    "import json\n",
    "import subprocess\n",
    "import pickle\n",
    "import math\n",
    "import scipy.io\n",
    "import urllib.request\n",
    "import pickle\n",
    "\n",
    "\n",
    "#Set random seed\n",
    "np.random.seed(1606)"
   ]
  },
  {
   "cell_type": "markdown",
   "metadata": {},
   "source": [
    "### Import VMH Disease List"
   ]
  },
  {
   "cell_type": "code",
   "execution_count": 313,
   "metadata": {},
   "outputs": [],
   "source": [
    "# Import VMH diseases list\n",
    "v_dis = pd.read_csv('data/recon-store-diseases-1.tsv', sep='\\t')"
   ]
  },
  {
   "cell_type": "code",
   "execution_count": 314,
   "metadata": {},
   "outputs": [
    {
     "data": {
      "text/plain": [
       "(257, 27)"
      ]
     },
     "execution_count": 314,
     "metadata": {},
     "output_type": "execute_result"
    }
   ],
   "source": [
    "v_dis.shape"
   ]
  },
  {
   "cell_type": "code",
   "execution_count": 315,
   "metadata": {},
   "outputs": [
    {
     "data": {
      "text/html": [
       "<div>\n",
       "<style scoped>\n",
       "    .dataframe tbody tr th:only-of-type {\n",
       "        vertical-align: middle;\n",
       "    }\n",
       "\n",
       "    .dataframe tbody tr th {\n",
       "        vertical-align: top;\n",
       "    }\n",
       "\n",
       "    .dataframe thead th {\n",
       "        text-align: right;\n",
       "    }\n",
       "</style>\n",
       "<table border=\"1\" class=\"dataframe\">\n",
       "  <thead>\n",
       "    <tr style=\"text-align: right;\">\n",
       "      <th></th>\n",
       "      <th>abbreviation</th>\n",
       "      <th>name</th>\n",
       "      <th>dtype</th>\n",
       "      <th>subtype</th>\n",
       "      <th>inheritance</th>\n",
       "      <th>organ</th>\n",
       "      <th>omim</th>\n",
       "      <th>prevalence</th>\n",
       "      <th>references</th>\n",
       "      <th>ghr</th>\n",
       "      <th>...</th>\n",
       "      <th>genereviews</th>\n",
       "      <th>clingendosage</th>\n",
       "      <th>igsr1000genoms</th>\n",
       "      <th>gwascataloge</th>\n",
       "      <th>gwascentral</th>\n",
       "      <th>geno2mp</th>\n",
       "      <th>clinvar</th>\n",
       "      <th>lovd</th>\n",
       "      <th>malacard</th>\n",
       "      <th>omim_symptons</th>\n",
       "    </tr>\n",
       "  </thead>\n",
       "  <tbody>\n",
       "    <tr>\n",
       "      <th>0</th>\n",
       "      <td>BS1</td>\n",
       "      <td>Bartter Syndrome, Type 1</td>\n",
       "      <td>Inherited metabolic disorder</td>\n",
       "      <td>Sodium-potassium-chloride cotransporter</td>\n",
       "      <td>Autosomal recessive</td>\n",
       "      <td>Kidney</td>\n",
       "      <td>601678</td>\n",
       "      <td>NaN</td>\n",
       "      <td>PMID: 17998760</td>\n",
       "      <td>bartter-syndrome</td>\n",
       "      <td>...</td>\n",
       "      <td>NaN</td>\n",
       "      <td>SLC12A1</td>\n",
       "      <td>ENSG00000074803</td>\n",
       "      <td>SLC12A1</td>\n",
       "      <td>SLC12A1</td>\n",
       "      <td>SLC12A1</td>\n",
       "      <td>600839.0</td>\n",
       "      <td>SLC12A1</td>\n",
       "      <td>bartter_syndrome_type_1_antenatal</td>\n",
       "      <td>601678.0</td>\n",
       "    </tr>\n",
       "    <tr>\n",
       "      <th>1</th>\n",
       "      <td>3MGA</td>\n",
       "      <td>3-Methylglutaconic Aciduria Type I</td>\n",
       "      <td>Inherited metabolic disorder</td>\n",
       "      <td>Organic acid disorders</td>\n",
       "      <td>Autosomal recessive</td>\n",
       "      <td>Nervous system</td>\n",
       "      <td>250950</td>\n",
       "      <td>Fewer than 20 cases</td>\n",
       "      <td>The American Journal of Human Genetics, Volume...</td>\n",
       "      <td>NaN</td>\n",
       "      <td>...</td>\n",
       "      <td>NaN</td>\n",
       "      <td>NaN</td>\n",
       "      <td>NaN</td>\n",
       "      <td>NaN</td>\n",
       "      <td>NaN</td>\n",
       "      <td>NaN</td>\n",
       "      <td>NaN</td>\n",
       "      <td>NaN</td>\n",
       "      <td>NaN</td>\n",
       "      <td>NaN</td>\n",
       "    </tr>\n",
       "    <tr>\n",
       "      <th>2</th>\n",
       "      <td>doi:10.1086/344712</td>\n",
       "      <td>3-methylglutaconyl-coa-hydratase-deficiency</td>\n",
       "      <td>67046</td>\n",
       "      <td>NaN</td>\n",
       "      <td>3-Methylglutaconic_aciduria</td>\n",
       "      <td>NaN</td>\n",
       "      <td>10906</td>\n",
       "      <td>7606</td>\n",
       "      <td>10321</td>\n",
       "      <td>NaN</td>\n",
       "      <td>...</td>\n",
       "      <td>3_methylglutaconic_aciduria_type_i_2</td>\n",
       "      <td>250950</td>\n",
       "      <td>NaN</td>\n",
       "      <td>NaN</td>\n",
       "      <td>NaN</td>\n",
       "      <td>NaN</td>\n",
       "      <td>NaN</td>\n",
       "      <td>NaN</td>\n",
       "      <td>NaN</td>\n",
       "      <td>NaN</td>\n",
       "    </tr>\n",
       "    <tr>\n",
       "      <th>3</th>\n",
       "      <td>FLIPO</td>\n",
       "      <td>Farber Lipogranulomatosis</td>\n",
       "      <td>Inherited metabolic disorder</td>\n",
       "      <td>Lysosomal disorder</td>\n",
       "      <td>Autosomal recessive</td>\n",
       "      <td>Skin, skeletal system, liver, spleen, nervous ...</td>\n",
       "      <td>228000</td>\n",
       "      <td>Farber lipogranulomatosis is a very rare disor...</td>\n",
       "      <td>PMID: 19250404</td>\n",
       "      <td>farber-lipogranulomatosis</td>\n",
       "      <td>...</td>\n",
       "      <td>NaN</td>\n",
       "      <td>ASAH1</td>\n",
       "      <td>ENSG00000104763</td>\n",
       "      <td>ASAH1</td>\n",
       "      <td>ASAH1</td>\n",
       "      <td>ASAH1</td>\n",
       "      <td>613468.0</td>\n",
       "      <td>ASAH1</td>\n",
       "      <td>farber_lipogranulomatosis</td>\n",
       "      <td>228000.0</td>\n",
       "    </tr>\n",
       "    <tr>\n",
       "      <th>4</th>\n",
       "      <td>ACAD</td>\n",
       "      <td>Acetyl-Coa Carboxylase Deficiency</td>\n",
       "      <td>Inherited metabolic disorder</td>\n",
       "      <td>Lipid disorder</td>\n",
       "      <td>NaN</td>\n",
       "      <td>Muscle, nervous system</td>\n",
       "      <td>200350</td>\n",
       "      <td>Only 1 case of ACC deficiency has been reporte...</td>\n",
       "      <td>PMID: 6114432</td>\n",
       "      <td>NaN</td>\n",
       "      <td>...</td>\n",
       "      <td>NaN</td>\n",
       "      <td>ACACA</td>\n",
       "      <td>ENSG00000275176</td>\n",
       "      <td>ACACA</td>\n",
       "      <td>ACACA</td>\n",
       "      <td>ACACA</td>\n",
       "      <td>200350.0</td>\n",
       "      <td>ACACA</td>\n",
       "      <td>acetyl_coa_carboxylase_deficiency</td>\n",
       "      <td>NaN</td>\n",
       "    </tr>\n",
       "  </tbody>\n",
       "</table>\n",
       "<p>5 rows × 27 columns</p>\n",
       "</div>"
      ],
      "text/plain": [
       "         abbreviation                                         name  \\\n",
       "0                 BS1                     Bartter Syndrome, Type 1   \n",
       "1                3MGA           3-Methylglutaconic Aciduria Type I   \n",
       "2  doi:10.1086/344712  3-methylglutaconyl-coa-hydratase-deficiency   \n",
       "3               FLIPO                    Farber Lipogranulomatosis   \n",
       "4                ACAD            Acetyl-Coa Carboxylase Deficiency   \n",
       "\n",
       "                          dtype                                  subtype  \\\n",
       "0  Inherited metabolic disorder  Sodium-potassium-chloride cotransporter   \n",
       "1  Inherited metabolic disorder                   Organic acid disorders   \n",
       "2                         67046                                      NaN   \n",
       "3  Inherited metabolic disorder                       Lysosomal disorder   \n",
       "4  Inherited metabolic disorder                           Lipid disorder   \n",
       "\n",
       "                   inheritance  \\\n",
       "0          Autosomal recessive   \n",
       "1          Autosomal recessive   \n",
       "2  3-Methylglutaconic_aciduria   \n",
       "3          Autosomal recessive   \n",
       "4                          NaN   \n",
       "\n",
       "                                               organ    omim  \\\n",
       "0                                             Kidney  601678   \n",
       "1                                     Nervous system  250950   \n",
       "2                                                NaN   10906   \n",
       "3  Skin, skeletal system, liver, spleen, nervous ...  228000   \n",
       "4                             Muscle, nervous system  200350   \n",
       "\n",
       "                                          prevalence  \\\n",
       "0                                                NaN   \n",
       "1                                Fewer than 20 cases   \n",
       "2                                               7606   \n",
       "3  Farber lipogranulomatosis is a very rare disor...   \n",
       "4  Only 1 case of ACC deficiency has been reporte...   \n",
       "\n",
       "                                          references  \\\n",
       "0                                     PMID: 17998760   \n",
       "1  The American Journal of Human Genetics, Volume...   \n",
       "2                                              10321   \n",
       "3                                     PMID: 19250404   \n",
       "4                                      PMID: 6114432   \n",
       "\n",
       "                         ghr      ...       \\\n",
       "0           bartter-syndrome      ...        \n",
       "1                        NaN      ...        \n",
       "2                        NaN      ...        \n",
       "3  farber-lipogranulomatosis      ...        \n",
       "4                        NaN      ...        \n",
       "\n",
       "                            genereviews clingendosage   igsr1000genoms  \\\n",
       "0                                   NaN       SLC12A1  ENSG00000074803   \n",
       "1                                   NaN           NaN              NaN   \n",
       "2  3_methylglutaconic_aciduria_type_i_2        250950              NaN   \n",
       "3                                   NaN         ASAH1  ENSG00000104763   \n",
       "4                                   NaN         ACACA  ENSG00000275176   \n",
       "\n",
       "  gwascataloge gwascentral  geno2mp   clinvar     lovd  \\\n",
       "0      SLC12A1     SLC12A1  SLC12A1  600839.0  SLC12A1   \n",
       "1          NaN         NaN      NaN       NaN      NaN   \n",
       "2          NaN         NaN      NaN       NaN      NaN   \n",
       "3        ASAH1       ASAH1    ASAH1  613468.0    ASAH1   \n",
       "4        ACACA       ACACA    ACACA  200350.0    ACACA   \n",
       "\n",
       "                            malacard omim_symptons  \n",
       "0  bartter_syndrome_type_1_antenatal      601678.0  \n",
       "1                                NaN           NaN  \n",
       "2                                NaN           NaN  \n",
       "3          farber_lipogranulomatosis      228000.0  \n",
       "4  acetyl_coa_carboxylase_deficiency           NaN  \n",
       "\n",
       "[5 rows x 27 columns]"
      ]
     },
     "execution_count": 315,
     "metadata": {},
     "output_type": "execute_result"
    }
   ],
   "source": [
    "v_dis.head()"
   ]
  },
  {
   "cell_type": "code",
   "execution_count": 316,
   "metadata": {},
   "outputs": [],
   "source": [
    "# v_dis = v_dis[['abbreviation', 'name', 'dtype', 'subtype', 'organ', 'omim', 'ghr', 'orphanet',\n",
    "#  'cellLines',\n",
    "#  'clinicaltrials',\n",
    "#  'eurogenetest',\n",
    "#  'geneticalliance',\n",
    "#  'gard',\n",
    "#  'igsr1000genoms',\n",
    "#  'gwascentral',\n",
    "#  'clinvar',\n",
    "#  'malacard',\n",
    "#  'omim_symptons']]"
   ]
  },
  {
   "cell_type": "code",
   "execution_count": 317,
   "metadata": {},
   "outputs": [],
   "source": [
    "v_dis = v_dis[['abbreviation', 'name', 'omim', 'gwascentral']]"
   ]
  },
  {
   "cell_type": "code",
   "execution_count": 318,
   "metadata": {},
   "outputs": [],
   "source": [
    "v_dis = v_dis.drop(v_dis.index[[2]])"
   ]
  },
  {
   "cell_type": "code",
   "execution_count": 319,
   "metadata": {},
   "outputs": [],
   "source": [
    "v_dis['abbreviation'] = v_dis.abbreviation.astype(str)\n",
    "v_dis['gwascentral'] = v_dis.gwascentral.astype(str)"
   ]
  },
  {
   "cell_type": "markdown",
   "metadata": {},
   "source": [
    "### Map in mesh names"
   ]
  },
  {
   "cell_type": "code",
   "execution_count": 320,
   "metadata": {},
   "outputs": [],
   "source": [
    "diseases = pd.read_csv('../ctd-to-nt/csvs/CTD_diseases.csv', skiprows=27)"
   ]
  },
  {
   "cell_type": "code",
   "execution_count": 321,
   "metadata": {},
   "outputs": [],
   "source": [
    "# # Use a measure of distance to match up disease names from ctd (MESH) and from sider (UMLS) \n",
    "# from difflib import SequenceMatcher\n",
    "# import pdb\n",
    "\n",
    "# def similar(a, b):\n",
    "#     return SequenceMatcher(None, a, b).ratio()\n",
    "\n",
    "# def create_map(std_list, flawed_list):\n",
    "#     flawed_list = (n for n in flawed_list)\n",
    "#     team_map = {}\n",
    "#     best_score = {}\n",
    "#     for team in flawed_list:\n",
    "#         scores = [similar(team, std_team) for std_team in std_list]\n",
    "#         highest = max(scores)\n",
    "#         if highest > 0.8:\n",
    "#             index = scores.index(max(scores))\n",
    "#             team_map[team] = std_list[index]\n",
    "#     return team_map\n",
    "\n",
    "# # Make map\n",
    "# orig = sorted(v_dis.name.unique())\n",
    "# comp = sorted(diseases['# DiseaseName'].unique())\n",
    "# dis_mesh_map = create_map(orig, comp)\n",
    "\n",
    "# # # These are the incorrect mappings I've identified for a 0.8 similarity cutoff\n",
    "# remove = ('18-Hydroxylase deficiency', '3-Methylglutaconic Aciduria Type IV', '3-Methylglutaconic Aciduria, Type V',\n",
    "#          'Bartter Syndrome, Type 4A', 'Bartter Syndrome, Type 4b', 'Bartter syndrome, type 3', \n",
    "#          'Biotin deficiency', 'Bonneau Syndrome', 'Brunoni syndrome', 'Carnitine Acetyltransferase Deficiency', \n",
    "#          'Carnitine Palmitoyltransferase II Deficiency, Infantile', 'Carnitine Palmitoyltransferase II Deficiency, Late-Onset', \n",
    "#          'Carnitine Palmitoyltransferase II Deficiency, Lethal Neonatal', 'Congenital Disorder Of Glycosylation, Type IIB',\n",
    "#           'Congenital Disorder Of Glycosylation, Type IIF',  'Congenital Disorder Of Glycosylation, Type IIH', \n",
    "#           'Congenital Disorder Of Glycosylation, Type IIID',  'Congenital Disorder Of Glycosylation, Type Im',\n",
    "#          'Darier Disease', 'Down Syndrome', 'Enterokinase Deficiency', 'Gardner Syndrome', 'Glycoprotein Storage Disease',\n",
    "#          'Horner Syndrome', 'Lactate Dehydrogenase B Deficiency', 'Lactate Dehydrogenase Deficiency', 'Laron Syndrome',\n",
    "#          'Leriche Syndrome', 'Lipoid congenital adrenal hyperplasia', 'Malonic aciduria', 'Meige Syndrome', 'Meigs Syndrome',\n",
    "#          'Prolidase Deficiency', 'Rh Deficiency Syndrome', 'Silicosis', 'Sweet Syndrome', 'Triosephosphate Isomerase Deficiency', \n",
    "#          'Turner Syndrome', 'Werner Syndrome', 'Xylosidase Deficiency')\n",
    "# dis_mesh_map = {key: dis_mesh_map[key] for key in dis_mesh_map if key not in remove}\n",
    "\n",
    "# # Export map of UMLS:MESH\n",
    "# with open('disname_mesh_map'+ '.pkl', 'wb') as f:\n",
    "#         pickle.dump(dis_mesh_map, f, pickle.HIGHEST_PROTOCOL)"
   ]
  },
  {
   "cell_type": "code",
   "execution_count": 322,
   "metadata": {},
   "outputs": [],
   "source": [
    "# Loading the map from pickle object - if you haven't created it you may need to uncomment above lines\n",
    "def load_obj(name):\n",
    "    with open(name + '.pkl', 'rb') as f:\n",
    "        return pickle.load(f)\n",
    "\n",
    "dis_mesh_map = load_obj('disname_mesh_map')"
   ]
  },
  {
   "cell_type": "code",
   "execution_count": 323,
   "metadata": {},
   "outputs": [
    {
     "data": {
      "text/plain": [
       "211"
      ]
     },
     "execution_count": 323,
     "metadata": {},
     "output_type": "execute_result"
    }
   ],
   "source": [
    "len(dis_mesh_map)"
   ]
  },
  {
   "cell_type": "code",
   "execution_count": 324,
   "metadata": {},
   "outputs": [],
   "source": [
    "# Now map the MESH name to MESH ID\n",
    "v_dis['MESH'] = v_dis.name.map(lambda x: dis_mesh_map.get(x))\n",
    "name2meshID = dict(zip(diseases['# DiseaseName'], diseases.DiseaseID))\n",
    "v_dis['MESH'] = v_dis.MESH.map(lambda x: name2meshID.get(x))\n",
    "\n",
    "# Make am abbrev to mesh map for later\n",
    "abbrev2mesh = dict(zip(v_dis.abbreviation, v_dis.MESH))"
   ]
  },
  {
   "cell_type": "code",
   "execution_count": 325,
   "metadata": {},
   "outputs": [
    {
     "data": {
      "text/html": [
       "<div>\n",
       "<style scoped>\n",
       "    .dataframe tbody tr th:only-of-type {\n",
       "        vertical-align: middle;\n",
       "    }\n",
       "\n",
       "    .dataframe tbody tr th {\n",
       "        vertical-align: top;\n",
       "    }\n",
       "\n",
       "    .dataframe thead th {\n",
       "        text-align: right;\n",
       "    }\n",
       "</style>\n",
       "<table border=\"1\" class=\"dataframe\">\n",
       "  <thead>\n",
       "    <tr style=\"text-align: right;\">\n",
       "      <th></th>\n",
       "      <th>abbreviation</th>\n",
       "      <th>name</th>\n",
       "      <th>omim</th>\n",
       "      <th>gwascentral</th>\n",
       "      <th>MESH</th>\n",
       "    </tr>\n",
       "  </thead>\n",
       "  <tbody>\n",
       "    <tr>\n",
       "      <th>0</th>\n",
       "      <td>BS1</td>\n",
       "      <td>Bartter Syndrome, Type 1</td>\n",
       "      <td>601678</td>\n",
       "      <td>SLC12A1</td>\n",
       "      <td>None</td>\n",
       "    </tr>\n",
       "    <tr>\n",
       "      <th>1</th>\n",
       "      <td>3MGA</td>\n",
       "      <td>3-Methylglutaconic Aciduria Type I</td>\n",
       "      <td>250950</td>\n",
       "      <td>nan</td>\n",
       "      <td>None</td>\n",
       "    </tr>\n",
       "    <tr>\n",
       "      <th>3</th>\n",
       "      <td>FLIPO</td>\n",
       "      <td>Farber Lipogranulomatosis</td>\n",
       "      <td>228000</td>\n",
       "      <td>ASAH1</td>\n",
       "      <td>MESH:D055577</td>\n",
       "    </tr>\n",
       "    <tr>\n",
       "      <th>4</th>\n",
       "      <td>ACAD</td>\n",
       "      <td>Acetyl-Coa Carboxylase Deficiency</td>\n",
       "      <td>200350</td>\n",
       "      <td>ACACA</td>\n",
       "      <td>MESH:C562678</td>\n",
       "    </tr>\n",
       "    <tr>\n",
       "      <th>5</th>\n",
       "      <td>PALD</td>\n",
       "      <td>Pseudoneonatal Adrenoleukodystrophy</td>\n",
       "      <td>264470</td>\n",
       "      <td>ACOX1</td>\n",
       "      <td>None</td>\n",
       "    </tr>\n",
       "  </tbody>\n",
       "</table>\n",
       "</div>"
      ],
      "text/plain": [
       "  abbreviation                                 name    omim gwascentral  \\\n",
       "0          BS1             Bartter Syndrome, Type 1  601678     SLC12A1   \n",
       "1         3MGA   3-Methylglutaconic Aciduria Type I  250950         nan   \n",
       "3        FLIPO            Farber Lipogranulomatosis  228000       ASAH1   \n",
       "4         ACAD    Acetyl-Coa Carboxylase Deficiency  200350       ACACA   \n",
       "5         PALD  Pseudoneonatal Adrenoleukodystrophy  264470       ACOX1   \n",
       "\n",
       "           MESH  \n",
       "0          None  \n",
       "1          None  \n",
       "3  MESH:D055577  \n",
       "4  MESH:C562678  \n",
       "5          None  "
      ]
     },
     "execution_count": 325,
     "metadata": {},
     "output_type": "execute_result"
    }
   ],
   "source": [
    "v_dis.head()"
   ]
  },
  {
   "cell_type": "code",
   "execution_count": 326,
   "metadata": {},
   "outputs": [
    {
     "name": "stdout",
     "output_type": "stream",
     "text": [
      "(256, 5)\n"
     ]
    },
    {
     "data": {
      "text/plain": [
       "49"
      ]
     },
     "execution_count": 326,
     "metadata": {},
     "output_type": "execute_result"
    }
   ],
   "source": [
    "print(v_dis.shape) # 255\n",
    "v_dis.MESH.nunique()"
   ]
  },
  {
   "cell_type": "markdown",
   "metadata": {},
   "source": [
    "### Get paired chems for these diseases\n",
    "Using the above disease abbreviation, API call for associated chems from VMH"
   ]
  },
  {
   "cell_type": "code",
   "execution_count": 327,
   "metadata": {},
   "outputs": [],
   "source": [
    "import pdb\n",
    "def get_met(abbrev):\n",
    "    \"\"\"\n",
    "    2nd attempt - this time create a line for every metabolite\n",
    "    Given a disease abbreviation from VMH make api call to get assoc metabolite\n",
    "    \"\"\"\n",
    "    url = 'https://www.vmh.life/_api/biomarkers/?disease=' + abbrev\n",
    "    response = urllib.request.urlopen(url).read().strip() # make api call \n",
    "    response = json.loads(response) # turn from byte to dict\n",
    "    metName, value, cid, chebi, chembl = [np.nan] * 5\n",
    "    for metabolite in response['results']:\n",
    "        try:\n",
    "            value = metabolite['value']\n",
    "            cid = metabolite['metabolite']['pubChemId']\n",
    "            chebi = metabolite['metabolite']['cheBlId']\n",
    "            chembl = metabolite['metabolite']['chembl']\n",
    "            metName = metabolite['metabolite']['fullName']\n",
    "            metGene = metabolite['iem']['gwascentral']\n",
    "        except Exception as e:\n",
    "            print('Exception: ', e)\n",
    "            return [abbrev, metName, value, cid, chebi, chembl, metGene]\n",
    "            pass\n",
    "        if value == 'Increased':\n",
    "            return [abbrev, metName, value, cid, chebi, chembl, metGene]\n",
    "        else:\n",
    "            return ([np.nan] * 6)"
   ]
  },
  {
   "cell_type": "code",
   "execution_count": 328,
   "metadata": {},
   "outputs": [],
   "source": [
    "# vmh_df = pd.DataFrame()\n",
    "# vmh_df['column'] = v_dis.abbreviation.apply(get_met)\n",
    "# vmh_df = vmh_df[vmh_df.column.map(lambda x: x is not None)]\n",
    "# vmh_df[['DiseaseAbbrev', 'metName', 'value', 'cid', 'chebi', 'chembl', 'MetGene']] = pd.DataFrame(vmh_df.column.values.tolist(), index= vmh_df.index)\n",
    "# del vmh_df['column']\n",
    "# del vmh_df['value']\n",
    "# vmh_df.to_csv('vmh_df.csv', index=False)\n",
    "# vmh_df.shape # 40, 6"
   ]
  },
  {
   "cell_type": "code",
   "execution_count": 329,
   "metadata": {},
   "outputs": [],
   "source": [
    "vmh_df = pd.read_csv('vmh_df.csv')"
   ]
  },
  {
   "cell_type": "code",
   "execution_count": 330,
   "metadata": {},
   "outputs": [
    {
     "data": {
      "text/html": [
       "<div>\n",
       "<style scoped>\n",
       "    .dataframe tbody tr th:only-of-type {\n",
       "        vertical-align: middle;\n",
       "    }\n",
       "\n",
       "    .dataframe tbody tr th {\n",
       "        vertical-align: top;\n",
       "    }\n",
       "\n",
       "    .dataframe thead th {\n",
       "        text-align: right;\n",
       "    }\n",
       "</style>\n",
       "<table border=\"1\" class=\"dataframe\">\n",
       "  <thead>\n",
       "    <tr style=\"text-align: right;\">\n",
       "      <th></th>\n",
       "      <th>DiseaseAbbrev</th>\n",
       "      <th>metName</th>\n",
       "      <th>cid</th>\n",
       "      <th>chebi</th>\n",
       "      <th>chembl</th>\n",
       "      <th>MetGene</th>\n",
       "    </tr>\n",
       "  </thead>\n",
       "  <tbody>\n",
       "    <tr>\n",
       "      <th>0</th>\n",
       "      <td>3MGA</td>\n",
       "      <td>3-Hydroxy-Isovaleryl Carnitine</td>\n",
       "      <td>53915061.0</td>\n",
       "      <td>73027.0</td>\n",
       "      <td>NaN</td>\n",
       "      <td>AUH</td>\n",
       "    </tr>\n",
       "    <tr>\n",
       "      <th>1</th>\n",
       "      <td>ARG</td>\n",
       "      <td>L-Arginine</td>\n",
       "      <td>6322.0</td>\n",
       "      <td>16467.0</td>\n",
       "      <td>CHEMBL1485</td>\n",
       "      <td>ARG1</td>\n",
       "    </tr>\n",
       "    <tr>\n",
       "      <th>2</th>\n",
       "      <td>ASA</td>\n",
       "      <td>Citrulline</td>\n",
       "      <td>9750.0</td>\n",
       "      <td>16349.0</td>\n",
       "      <td>CHEMBL444814</td>\n",
       "      <td>ASL</td>\n",
       "    </tr>\n",
       "    <tr>\n",
       "      <th>3</th>\n",
       "      <td>BTD</td>\n",
       "      <td>Propionylcarnitine</td>\n",
       "      <td>107738.0</td>\n",
       "      <td>28867.0</td>\n",
       "      <td>NaN</td>\n",
       "      <td>BTD</td>\n",
       "    </tr>\n",
       "    <tr>\n",
       "      <th>4</th>\n",
       "      <td>BKT</td>\n",
       "      <td>Tiglyl Carnitine</td>\n",
       "      <td>22833596.0</td>\n",
       "      <td>NaN</td>\n",
       "      <td>NaN</td>\n",
       "      <td>ACAT1</td>\n",
       "    </tr>\n",
       "  </tbody>\n",
       "</table>\n",
       "</div>"
      ],
      "text/plain": [
       "  DiseaseAbbrev                         metName         cid    chebi  \\\n",
       "0          3MGA  3-Hydroxy-Isovaleryl Carnitine  53915061.0  73027.0   \n",
       "1           ARG                      L-Arginine      6322.0  16467.0   \n",
       "2           ASA                      Citrulline      9750.0  16349.0   \n",
       "3           BTD              Propionylcarnitine    107738.0  28867.0   \n",
       "4           BKT                Tiglyl Carnitine  22833596.0      NaN   \n",
       "\n",
       "         chembl MetGene  \n",
       "0           NaN     AUH  \n",
       "1    CHEMBL1485    ARG1  \n",
       "2  CHEMBL444814     ASL  \n",
       "3           NaN     BTD  \n",
       "4           NaN   ACAT1  "
      ]
     },
     "execution_count": 330,
     "metadata": {},
     "output_type": "execute_result"
    }
   ],
   "source": [
    "vmh_df.head()"
   ]
  },
  {
   "cell_type": "code",
   "execution_count": 331,
   "metadata": {},
   "outputs": [
    {
     "data": {
      "text/plain": [
       "(40, 6)"
      ]
     },
     "execution_count": 331,
     "metadata": {},
     "output_type": "execute_result"
    }
   ],
   "source": [
    "vmh_df.shape # 40, 6"
   ]
  },
  {
   "cell_type": "code",
   "execution_count": 332,
   "metadata": {},
   "outputs": [
    {
     "data": {
      "text/html": [
       "<div>\n",
       "<style scoped>\n",
       "    .dataframe tbody tr th:only-of-type {\n",
       "        vertical-align: middle;\n",
       "    }\n",
       "\n",
       "    .dataframe tbody tr th {\n",
       "        vertical-align: top;\n",
       "    }\n",
       "\n",
       "    .dataframe thead th {\n",
       "        text-align: right;\n",
       "    }\n",
       "</style>\n",
       "<table border=\"1\" class=\"dataframe\">\n",
       "  <thead>\n",
       "    <tr style=\"text-align: right;\">\n",
       "      <th></th>\n",
       "      <th>DiseaseAbbrev</th>\n",
       "      <th>metName</th>\n",
       "      <th>cid</th>\n",
       "      <th>chebi</th>\n",
       "      <th>chembl</th>\n",
       "      <th>MetGene</th>\n",
       "    </tr>\n",
       "  </thead>\n",
       "  <tbody>\n",
       "    <tr>\n",
       "      <th>0</th>\n",
       "      <td>3MGA</td>\n",
       "      <td>3-Hydroxy-Isovaleryl Carnitine</td>\n",
       "      <td>53915061.0</td>\n",
       "      <td>73027.0</td>\n",
       "      <td>NaN</td>\n",
       "      <td>AUH</td>\n",
       "    </tr>\n",
       "    <tr>\n",
       "      <th>1</th>\n",
       "      <td>ARG</td>\n",
       "      <td>L-Arginine</td>\n",
       "      <td>6322.0</td>\n",
       "      <td>16467.0</td>\n",
       "      <td>CHEMBL1485</td>\n",
       "      <td>ARG1</td>\n",
       "    </tr>\n",
       "    <tr>\n",
       "      <th>2</th>\n",
       "      <td>ASA</td>\n",
       "      <td>Citrulline</td>\n",
       "      <td>9750.0</td>\n",
       "      <td>16349.0</td>\n",
       "      <td>CHEMBL444814</td>\n",
       "      <td>ASL</td>\n",
       "    </tr>\n",
       "    <tr>\n",
       "      <th>3</th>\n",
       "      <td>BTD</td>\n",
       "      <td>Propionylcarnitine</td>\n",
       "      <td>107738.0</td>\n",
       "      <td>28867.0</td>\n",
       "      <td>NaN</td>\n",
       "      <td>BTD</td>\n",
       "    </tr>\n",
       "    <tr>\n",
       "      <th>4</th>\n",
       "      <td>BKT</td>\n",
       "      <td>Tiglyl Carnitine</td>\n",
       "      <td>22833596.0</td>\n",
       "      <td>NaN</td>\n",
       "      <td>NaN</td>\n",
       "      <td>ACAT1</td>\n",
       "    </tr>\n",
       "  </tbody>\n",
       "</table>\n",
       "</div>"
      ],
      "text/plain": [
       "  DiseaseAbbrev                         metName         cid    chebi  \\\n",
       "0          3MGA  3-Hydroxy-Isovaleryl Carnitine  53915061.0  73027.0   \n",
       "1           ARG                      L-Arginine      6322.0  16467.0   \n",
       "2           ASA                      Citrulline      9750.0  16349.0   \n",
       "3           BTD              Propionylcarnitine    107738.0  28867.0   \n",
       "4           BKT                Tiglyl Carnitine  22833596.0      NaN   \n",
       "\n",
       "         chembl MetGene  \n",
       "0           NaN     AUH  \n",
       "1    CHEMBL1485    ARG1  \n",
       "2  CHEMBL444814     ASL  \n",
       "3           NaN     BTD  \n",
       "4           NaN   ACAT1  "
      ]
     },
     "execution_count": 332,
     "metadata": {},
     "output_type": "execute_result"
    }
   ],
   "source": [
    "vmh_df.reset_index(inplace=True, drop=True)\n",
    "vmh_df['MetGene'] = vmh_df.MetGene.astype(str)\n",
    "vmh_df['cid'] = vmh_df.cid.astype(str)\n",
    "\n",
    "vmh_df.head()"
   ]
  },
  {
   "cell_type": "code",
   "execution_count": 333,
   "metadata": {},
   "outputs": [],
   "source": [
    "#  # Exploring api\\n\",\t\n",
    "# url = 'https://www.vmh.life/_api/biomarkers/?disease=TFPD'\n",
    "# response = urllib.request.urlopen(url).read().strip()\n",
    "# json.loads(response)['results']\n",
    "#     # response['results'][0]"
   ]
  },
  {
   "cell_type": "markdown",
   "metadata": {},
   "source": [
    "### Get gofuncs \n",
    "With the single gene given by VMH\n"
   ]
  },
  {
   "cell_type": "code",
   "execution_count": 334,
   "metadata": {},
   "outputs": [],
   "source": [
    "# Export gene name list \n",
    "genes = list(v_dis.gwascentral) + list(vmh_df.MetGene)\n",
    "np.savetxt(r'v_genes.txt', list(set(genes)), fmt='%s')\n",
    "# set(genes)"
   ]
  },
  {
   "cell_type": "markdown",
   "metadata": {},
   "source": [
    "#### NOTE the next step is MANUAL\n",
    "You need to go to https://www.uniprot.org/uploadlists/ and give it the created v_genes.txt file, ask it to convert\n",
    "Gene Names to uniprot ID. Then download this as UniprotIDs.tab (as uncompressed, mapping table) to this folder"
   ]
  },
  {
   "cell_type": "code",
   "execution_count": 335,
   "metadata": {},
   "outputs": [],
   "source": [
    "# Import manually generated file of geneID --> uniprotID\n",
    "df_uni_ids = pd.read_csv('data/UniprotIDs.tab', sep='\\t',usecols=[0,1])\n",
    "df_uni_ids.columns = ['GeneID', 'UniprotID']\n",
    "df_uni_ids['GeneID'] = df_uni_ids.GeneID.astype(str)\n",
    "df_uni_ids['UniprotID'] = df_uni_ids.UniprotID.astype(str)"
   ]
  },
  {
   "cell_type": "code",
   "execution_count": 336,
   "metadata": {},
   "outputs": [
    {
     "data": {
      "text/html": [
       "<div>\n",
       "<style scoped>\n",
       "    .dataframe tbody tr th:only-of-type {\n",
       "        vertical-align: middle;\n",
       "    }\n",
       "\n",
       "    .dataframe tbody tr th {\n",
       "        vertical-align: top;\n",
       "    }\n",
       "\n",
       "    .dataframe thead th {\n",
       "        text-align: right;\n",
       "    }\n",
       "</style>\n",
       "<table border=\"1\" class=\"dataframe\">\n",
       "  <thead>\n",
       "    <tr style=\"text-align: right;\">\n",
       "      <th></th>\n",
       "      <th>GeneID</th>\n",
       "      <th>UniprotID</th>\n",
       "    </tr>\n",
       "  </thead>\n",
       "  <tbody>\n",
       "    <tr>\n",
       "      <th>1432</th>\n",
       "      <td>ASAH1</td>\n",
       "      <td>A0A1B0GU06</td>\n",
       "    </tr>\n",
       "    <tr>\n",
       "      <th>1010</th>\n",
       "      <td>GCDH</td>\n",
       "      <td>A0A2L2DH25</td>\n",
       "    </tr>\n",
       "    <tr>\n",
       "      <th>677</th>\n",
       "      <td>SUCLA2</td>\n",
       "      <td>A0A0U1RQL1</td>\n",
       "    </tr>\n",
       "  </tbody>\n",
       "</table>\n",
       "</div>"
      ],
      "text/plain": [
       "      GeneID   UniprotID\n",
       "1432   ASAH1  A0A1B0GU06\n",
       "1010    GCDH  A0A2L2DH25\n",
       "677   SUCLA2  A0A0U1RQL1"
      ]
     },
     "execution_count": 336,
     "metadata": {},
     "output_type": "execute_result"
    }
   ],
   "source": [
    "df_uni_ids.sample(3)"
   ]
  },
  {
   "cell_type": "code",
   "execution_count": 337,
   "metadata": {},
   "outputs": [],
   "source": [
    "# Create mapping file of gene ID to chem ID... and gene ID to disease ID \n",
    "cg_dict = dict(zip(vmh_df.MetGene, vmh_df.cid))\n",
    "cgd_dict = dict(zip(v_dis.gwascentral, v_dis.abbreviation))"
   ]
  },
  {
   "cell_type": "code",
   "execution_count": 338,
   "metadata": {},
   "outputs": [],
   "source": [
    "df_uni_ids_d = df_uni_ids.copy() # make a copy for diseases"
   ]
  },
  {
   "cell_type": "code",
   "execution_count": 339,
   "metadata": {},
   "outputs": [
    {
     "data": {
      "text/html": [
       "<div>\n",
       "<style scoped>\n",
       "    .dataframe tbody tr th:only-of-type {\n",
       "        vertical-align: middle;\n",
       "    }\n",
       "\n",
       "    .dataframe tbody tr th {\n",
       "        vertical-align: top;\n",
       "    }\n",
       "\n",
       "    .dataframe thead th {\n",
       "        text-align: right;\n",
       "    }\n",
       "</style>\n",
       "<table border=\"1\" class=\"dataframe\">\n",
       "  <thead>\n",
       "    <tr style=\"text-align: right;\">\n",
       "      <th></th>\n",
       "      <th>GeneID</th>\n",
       "      <th>UniprotID</th>\n",
       "    </tr>\n",
       "  </thead>\n",
       "  <tbody>\n",
       "    <tr>\n",
       "      <th>0</th>\n",
       "      <td>HPD</td>\n",
       "      <td>A0A0B4J1R4</td>\n",
       "    </tr>\n",
       "    <tr>\n",
       "      <th>1</th>\n",
       "      <td>HPD</td>\n",
       "      <td>P32754</td>\n",
       "    </tr>\n",
       "    <tr>\n",
       "      <th>2</th>\n",
       "      <td>GALNS</td>\n",
       "      <td>A0A1A7UP97</td>\n",
       "    </tr>\n",
       "    <tr>\n",
       "      <th>3</th>\n",
       "      <td>GALNS</td>\n",
       "      <td>A0A286S6D8</td>\n",
       "    </tr>\n",
       "    <tr>\n",
       "      <th>4</th>\n",
       "      <td>GALNS</td>\n",
       "      <td>A0A2I6U1L6</td>\n",
       "    </tr>\n",
       "  </tbody>\n",
       "</table>\n",
       "</div>"
      ],
      "text/plain": [
       "  GeneID   UniprotID\n",
       "0    HPD  A0A0B4J1R4\n",
       "1    HPD      P32754\n",
       "2  GALNS  A0A1A7UP97\n",
       "3  GALNS  A0A286S6D8\n",
       "4  GALNS  A0A2I6U1L6"
      ]
     },
     "execution_count": 339,
     "metadata": {},
     "output_type": "execute_result"
    }
   ],
   "source": [
    "df_uni_ids.head()"
   ]
  },
  {
   "cell_type": "code",
   "execution_count": 340,
   "metadata": {},
   "outputs": [],
   "source": [
    "# Apply the mapping, thereby creating chemical column\n",
    "df_uni_ids['ChemicalID'] = df_uni_ids.GeneID.astype(str)\n",
    "df_uni_ids['ChemicalID'] = df_uni_ids['ChemicalID'].astype(str).map(cg_dict)"
   ]
  },
  {
   "cell_type": "code",
   "execution_count": 341,
   "metadata": {},
   "outputs": [],
   "source": [
    "# Apply the mapping, thereby creating disease column\n",
    "df_uni_ids_d['DiseaseID'] = df_uni_ids_d.GeneID\n",
    "df_uni_ids_d['DiseaseID'] = df_uni_ids_d['DiseaseID'].astype(str).map(cgd_dict)"
   ]
  },
  {
   "cell_type": "code",
   "execution_count": 342,
   "metadata": {},
   "outputs": [
    {
     "name": "stdout",
     "output_type": "stream",
     "text": [
      "(223, 3)\n",
      "(1870, 3)\n"
     ]
    }
   ],
   "source": [
    "df_uni_ids = df_uni_ids.dropna()\n",
    "df_uni_ids_d = df_uni_ids_d.dropna()\n",
    "print(df_uni_ids.shape) # 190, 3\n",
    "print(df_uni_ids_d.shape) # 1870, 3"
   ]
  },
  {
   "cell_type": "code",
   "execution_count": 343,
   "metadata": {},
   "outputs": [
    {
     "data": {
      "text/html": [
       "<div>\n",
       "<style scoped>\n",
       "    .dataframe tbody tr th:only-of-type {\n",
       "        vertical-align: middle;\n",
       "    }\n",
       "\n",
       "    .dataframe tbody tr th {\n",
       "        vertical-align: top;\n",
       "    }\n",
       "\n",
       "    .dataframe thead th {\n",
       "        text-align: right;\n",
       "    }\n",
       "</style>\n",
       "<table border=\"1\" class=\"dataframe\">\n",
       "  <thead>\n",
       "    <tr style=\"text-align: right;\">\n",
       "      <th></th>\n",
       "      <th>GeneID</th>\n",
       "      <th>UniprotID</th>\n",
       "      <th>ChemicalID</th>\n",
       "    </tr>\n",
       "  </thead>\n",
       "  <tbody>\n",
       "    <tr>\n",
       "      <th>51</th>\n",
       "      <td>HADHA</td>\n",
       "      <td>A0A2R8Y688</td>\n",
       "      <td>168381.0</td>\n",
       "    </tr>\n",
       "    <tr>\n",
       "      <th>182</th>\n",
       "      <td>CPS1</td>\n",
       "      <td>Q5R209</td>\n",
       "      <td>5961.0</td>\n",
       "    </tr>\n",
       "  </tbody>\n",
       "</table>\n",
       "</div>"
      ],
      "text/plain": [
       "    GeneID   UniprotID ChemicalID\n",
       "51   HADHA  A0A2R8Y688   168381.0\n",
       "182   CPS1      Q5R209     5961.0"
      ]
     },
     "execution_count": 343,
     "metadata": {},
     "output_type": "execute_result"
    }
   ],
   "source": [
    "df_uni_ids.sample(2)"
   ]
  },
  {
   "cell_type": "code",
   "execution_count": 344,
   "metadata": {},
   "outputs": [
    {
     "data": {
      "text/html": [
       "<div>\n",
       "<style scoped>\n",
       "    .dataframe tbody tr th:only-of-type {\n",
       "        vertical-align: middle;\n",
       "    }\n",
       "\n",
       "    .dataframe tbody tr th {\n",
       "        vertical-align: top;\n",
       "    }\n",
       "\n",
       "    .dataframe thead th {\n",
       "        text-align: right;\n",
       "    }\n",
       "</style>\n",
       "<table border=\"1\" class=\"dataframe\">\n",
       "  <thead>\n",
       "    <tr style=\"text-align: right;\">\n",
       "      <th></th>\n",
       "      <th>GeneID</th>\n",
       "      <th>UniprotID</th>\n",
       "      <th>DiseaseID</th>\n",
       "    </tr>\n",
       "  </thead>\n",
       "  <tbody>\n",
       "    <tr>\n",
       "      <th>1620</th>\n",
       "      <td>PAH</td>\n",
       "      <td>F8W0A0</td>\n",
       "      <td>PKU</td>\n",
       "    </tr>\n",
       "    <tr>\n",
       "      <th>1093</th>\n",
       "      <td>BCAT2</td>\n",
       "      <td>M0QXF9</td>\n",
       "      <td>HYPVLI</td>\n",
       "    </tr>\n",
       "    <tr>\n",
       "      <th>1783</th>\n",
       "      <td>DLD</td>\n",
       "      <td>E9PEX6</td>\n",
       "      <td>MSUD</td>\n",
       "    </tr>\n",
       "    <tr>\n",
       "      <th>930</th>\n",
       "      <td>ARSA</td>\n",
       "      <td>V9GYR0</td>\n",
       "      <td>METLEU</td>\n",
       "    </tr>\n",
       "    <tr>\n",
       "      <th>280</th>\n",
       "      <td>SCP2</td>\n",
       "      <td>H0YEU8</td>\n",
       "      <td>ZSLEU</td>\n",
       "    </tr>\n",
       "    <tr>\n",
       "      <th>281</th>\n",
       "      <td>SCP2</td>\n",
       "      <td>H0YF61</td>\n",
       "      <td>ZSLEU</td>\n",
       "    </tr>\n",
       "    <tr>\n",
       "      <th>1381</th>\n",
       "      <td>PRODH</td>\n",
       "      <td>X5D7N2</td>\n",
       "      <td>HYPRO1</td>\n",
       "    </tr>\n",
       "    <tr>\n",
       "      <th>1427</th>\n",
       "      <td>ASAH1</td>\n",
       "      <td>A0A1B0GTM3</td>\n",
       "      <td>FLIPO</td>\n",
       "    </tr>\n",
       "    <tr>\n",
       "      <th>220</th>\n",
       "      <td>MPI</td>\n",
       "      <td>H3BP57</td>\n",
       "      <td>CDG1B</td>\n",
       "    </tr>\n",
       "    <tr>\n",
       "      <th>61</th>\n",
       "      <td>ALDH4A1</td>\n",
       "      <td>Q5TF55</td>\n",
       "      <td>HPII</td>\n",
       "    </tr>\n",
       "    <tr>\n",
       "      <th>1452</th>\n",
       "      <td>ASAH1</td>\n",
       "      <td>A0A1B0GVG2</td>\n",
       "      <td>FLIPO</td>\n",
       "    </tr>\n",
       "    <tr>\n",
       "      <th>975</th>\n",
       "      <td>GNE</td>\n",
       "      <td>Q6QNY6</td>\n",
       "      <td>SIALU</td>\n",
       "    </tr>\n",
       "    <tr>\n",
       "      <th>603</th>\n",
       "      <td>HMBS</td>\n",
       "      <td>A0A3B3IU34</td>\n",
       "      <td>AIP</td>\n",
       "    </tr>\n",
       "    <tr>\n",
       "      <th>1133</th>\n",
       "      <td>IVD</td>\n",
       "      <td>A0A0S2Z422</td>\n",
       "      <td>IVA</td>\n",
       "    </tr>\n",
       "  </tbody>\n",
       "</table>\n",
       "</div>"
      ],
      "text/plain": [
       "       GeneID   UniprotID DiseaseID\n",
       "1620      PAH      F8W0A0       PKU\n",
       "1093    BCAT2      M0QXF9    HYPVLI\n",
       "1783      DLD      E9PEX6      MSUD\n",
       "930      ARSA      V9GYR0    METLEU\n",
       "280      SCP2      H0YEU8     ZSLEU\n",
       "281      SCP2      H0YF61     ZSLEU\n",
       "1381    PRODH      X5D7N2    HYPRO1\n",
       "1427    ASAH1  A0A1B0GTM3     FLIPO\n",
       "220       MPI      H3BP57     CDG1B\n",
       "61    ALDH4A1      Q5TF55      HPII\n",
       "1452    ASAH1  A0A1B0GVG2     FLIPO\n",
       "975       GNE      Q6QNY6     SIALU\n",
       "603      HMBS  A0A3B3IU34       AIP\n",
       "1133      IVD  A0A0S2Z422       IVA"
      ]
     },
     "execution_count": 344,
     "metadata": {},
     "output_type": "execute_result"
    }
   ],
   "source": [
    "df_uni_ids_d.sample(14)"
   ]
  },
  {
   "cell_type": "code",
   "execution_count": 345,
   "metadata": {},
   "outputs": [],
   "source": [
    "# # Output an association file for each of chem and dis\n",
    "# df_c = df_uni_ids[['ChemicalID', ]]\n",
    "\n",
    "# np.savetxt(r'VMHassociations_c.txt', df_c.values, fmt='%s')\n",
    "# np.savetxt(r'VMHassociations_d.txt', df_d.values, fmt='%s')"
   ]
  },
  {
   "cell_type": "code",
   "execution_count": null,
   "metadata": {},
   "outputs": [],
   "source": []
  },
  {
   "cell_type": "code",
   "execution_count": null,
   "metadata": {},
   "outputs": [],
   "source": []
  },
  {
   "cell_type": "code",
   "execution_count": null,
   "metadata": {},
   "outputs": [],
   "source": []
  },
  {
   "cell_type": "code",
   "execution_count": 346,
   "metadata": {},
   "outputs": [],
   "source": [
    "# # Let's use this gene-uniprot df as our base, add disease into it via map\n",
    "# gen2dis = dict(zip(v_dis.gwascentral, v_dis.omim))\n",
    "# df_uni_ids['OMIM'] = df_uni_ids.GeneID.map(lambda x: gen2dis.get(x))"
   ]
  },
  {
   "cell_type": "code",
   "execution_count": 347,
   "metadata": {},
   "outputs": [
    {
     "name": "stderr",
     "output_type": "stream",
     "text": [
      "/home/ian/anaconda3/lib/python3.6/site-packages/IPython/core/interactiveshell.py:2785: DtypeWarning: Columns (15) have mixed types. Specify dtype option on import or set low_memory=False.\n",
      "  interactivity=interactivity, compiler=compiler, result=result)\n"
     ]
    }
   ],
   "source": [
    "# Now turn unprot to go func\n",
    "# import goa file (uniprot ID to go_functions)\n",
    "go_funcs = pd.read_csv('../goa_human.gaf', header=None, skiprows=30, sep='\\t')"
   ]
  },
  {
   "cell_type": "code",
   "execution_count": 348,
   "metadata": {},
   "outputs": [],
   "source": [
    "# Cut out all cols except uniprot ids and go_funcs, rename these\n",
    "go_funcs = go_funcs.rename(columns={ go_funcs.columns[1]: \"UniprotID\" })\n",
    "go_funcs = go_funcs.rename(columns={ go_funcs.columns[4]: \"gofunc\" })\n",
    "col_list = ['UniprotID', 'gofunc']\n",
    "df_go = go_funcs[col_list]"
   ]
  },
  {
   "cell_type": "code",
   "execution_count": 349,
   "metadata": {},
   "outputs": [
    {
     "data": {
      "text/html": [
       "<div>\n",
       "<style scoped>\n",
       "    .dataframe tbody tr th:only-of-type {\n",
       "        vertical-align: middle;\n",
       "    }\n",
       "\n",
       "    .dataframe tbody tr th {\n",
       "        vertical-align: top;\n",
       "    }\n",
       "\n",
       "    .dataframe thead th {\n",
       "        text-align: right;\n",
       "    }\n",
       "</style>\n",
       "<table border=\"1\" class=\"dataframe\">\n",
       "  <thead>\n",
       "    <tr style=\"text-align: right;\">\n",
       "      <th></th>\n",
       "      <th>UniprotID</th>\n",
       "      <th>gofunc</th>\n",
       "    </tr>\n",
       "  </thead>\n",
       "  <tbody>\n",
       "    <tr>\n",
       "      <th>0</th>\n",
       "      <td>A0A024R161</td>\n",
       "      <td>GO:0003924</td>\n",
       "    </tr>\n",
       "    <tr>\n",
       "      <th>1</th>\n",
       "      <td>A0A024R161</td>\n",
       "      <td>GO:0007186</td>\n",
       "    </tr>\n",
       "    <tr>\n",
       "      <th>2</th>\n",
       "      <td>A0A024RBG1</td>\n",
       "      <td>GO:0003723</td>\n",
       "    </tr>\n",
       "    <tr>\n",
       "      <th>3</th>\n",
       "      <td>A0A024RBG1</td>\n",
       "      <td>GO:0005829</td>\n",
       "    </tr>\n",
       "    <tr>\n",
       "      <th>4</th>\n",
       "      <td>A0A024RBG1</td>\n",
       "      <td>GO:0008486</td>\n",
       "    </tr>\n",
       "  </tbody>\n",
       "</table>\n",
       "</div>"
      ],
      "text/plain": [
       "    UniprotID      gofunc\n",
       "0  A0A024R161  GO:0003924\n",
       "1  A0A024R161  GO:0007186\n",
       "2  A0A024RBG1  GO:0003723\n",
       "3  A0A024RBG1  GO:0005829\n",
       "4  A0A024RBG1  GO:0008486"
      ]
     },
     "execution_count": 349,
     "metadata": {},
     "output_type": "execute_result"
    }
   ],
   "source": [
    "df_go.head()"
   ]
  },
  {
   "cell_type": "code",
   "execution_count": 350,
   "metadata": {},
   "outputs": [
    {
     "data": {
      "text/html": [
       "<div>\n",
       "<style scoped>\n",
       "    .dataframe tbody tr th:only-of-type {\n",
       "        vertical-align: middle;\n",
       "    }\n",
       "\n",
       "    .dataframe tbody tr th {\n",
       "        vertical-align: top;\n",
       "    }\n",
       "\n",
       "    .dataframe thead th {\n",
       "        text-align: right;\n",
       "    }\n",
       "</style>\n",
       "<table border=\"1\" class=\"dataframe\">\n",
       "  <thead>\n",
       "    <tr style=\"text-align: right;\">\n",
       "      <th></th>\n",
       "      <th>GeneID</th>\n",
       "      <th>UniprotID</th>\n",
       "      <th>ChemicalID</th>\n",
       "    </tr>\n",
       "  </thead>\n",
       "  <tbody>\n",
       "    <tr>\n",
       "      <th>0</th>\n",
       "      <td>HPD</td>\n",
       "      <td>A0A0B4J1R4</td>\n",
       "      <td>6057.0</td>\n",
       "    </tr>\n",
       "    <tr>\n",
       "      <th>1</th>\n",
       "      <td>HPD</td>\n",
       "      <td>P32754</td>\n",
       "      <td>6057.0</td>\n",
       "    </tr>\n",
       "    <tr>\n",
       "      <th>37</th>\n",
       "      <td>ACADVL</td>\n",
       "      <td>A0A077H1I5</td>\n",
       "      <td>168381.0</td>\n",
       "    </tr>\n",
       "    <tr>\n",
       "      <th>38</th>\n",
       "      <td>ACADVL</td>\n",
       "      <td>B3KPA6</td>\n",
       "      <td>168381.0</td>\n",
       "    </tr>\n",
       "    <tr>\n",
       "      <th>39</th>\n",
       "      <td>ACADVL</td>\n",
       "      <td>G3V1M7</td>\n",
       "      <td>168381.0</td>\n",
       "    </tr>\n",
       "  </tbody>\n",
       "</table>\n",
       "</div>"
      ],
      "text/plain": [
       "    GeneID   UniprotID ChemicalID\n",
       "0      HPD  A0A0B4J1R4     6057.0\n",
       "1      HPD      P32754     6057.0\n",
       "37  ACADVL  A0A077H1I5   168381.0\n",
       "38  ACADVL      B3KPA6   168381.0\n",
       "39  ACADVL      G3V1M7   168381.0"
      ]
     },
     "execution_count": 350,
     "metadata": {},
     "output_type": "execute_result"
    }
   ],
   "source": [
    "df_uni_ids.head()"
   ]
  },
  {
   "cell_type": "code",
   "execution_count": 351,
   "metadata": {},
   "outputs": [
    {
     "name": "stderr",
     "output_type": "stream",
     "text": [
      "/home/ian/anaconda3/lib/python3.6/site-packages/ipykernel_launcher.py:1: SettingWithCopyWarning: \n",
      "A value is trying to be set on a copy of a slice from a DataFrame.\n",
      "Try using .loc[row_indexer,col_indexer] = value instead\n",
      "\n",
      "See the caveats in the documentation: http://pandas.pydata.org/pandas-docs/stable/indexing.html#indexing-view-versus-copy\n",
      "  \"\"\"Entry point for launching an IPython kernel.\n"
     ]
    }
   ],
   "source": [
    "df_go['UniprotID'] = df_go.UniprotID.astype(str)\n",
    "df_uni_ids['UniprotID'] = df_uni_ids.UniprotID.astype(str)\n",
    "df_uni_ids_d['UniprotID'] = df_uni_ids_d.UniprotID.astype(str)"
   ]
  },
  {
   "cell_type": "code",
   "execution_count": 352,
   "metadata": {},
   "outputs": [],
   "source": [
    "# Merge the go functions into our existing chem-uniprotID and dis-uniprotID dfs\n",
    "df_uni_ids_d = df_uni_ids_d.merge(df_go, on='UniprotID', how='outer').dropna()\n",
    "df_uni_ids = df_uni_ids.merge(df_go, on='UniprotID', how='outer').dropna()"
   ]
  },
  {
   "cell_type": "code",
   "execution_count": 353,
   "metadata": {},
   "outputs": [
    {
     "data": {
      "text/html": [
       "<div>\n",
       "<style scoped>\n",
       "    .dataframe tbody tr th:only-of-type {\n",
       "        vertical-align: middle;\n",
       "    }\n",
       "\n",
       "    .dataframe tbody tr th {\n",
       "        vertical-align: top;\n",
       "    }\n",
       "\n",
       "    .dataframe thead th {\n",
       "        text-align: right;\n",
       "    }\n",
       "</style>\n",
       "<table border=\"1\" class=\"dataframe\">\n",
       "  <thead>\n",
       "    <tr style=\"text-align: right;\">\n",
       "      <th></th>\n",
       "      <th>GeneID</th>\n",
       "      <th>UniprotID</th>\n",
       "      <th>ChemicalID</th>\n",
       "      <th>gofunc</th>\n",
       "    </tr>\n",
       "  </thead>\n",
       "  <tbody>\n",
       "    <tr>\n",
       "      <th>1</th>\n",
       "      <td>HPD</td>\n",
       "      <td>P32754</td>\n",
       "      <td>6057.0</td>\n",
       "      <td>GO:0003868</td>\n",
       "    </tr>\n",
       "    <tr>\n",
       "      <th>2</th>\n",
       "      <td>HPD</td>\n",
       "      <td>P32754</td>\n",
       "      <td>6057.0</td>\n",
       "      <td>GO:0003868</td>\n",
       "    </tr>\n",
       "    <tr>\n",
       "      <th>3</th>\n",
       "      <td>HPD</td>\n",
       "      <td>P32754</td>\n",
       "      <td>6057.0</td>\n",
       "      <td>GO:0005829</td>\n",
       "    </tr>\n",
       "    <tr>\n",
       "      <th>4</th>\n",
       "      <td>HPD</td>\n",
       "      <td>P32754</td>\n",
       "      <td>6057.0</td>\n",
       "      <td>GO:0006559</td>\n",
       "    </tr>\n",
       "    <tr>\n",
       "      <th>5</th>\n",
       "      <td>HPD</td>\n",
       "      <td>P32754</td>\n",
       "      <td>6057.0</td>\n",
       "      <td>GO:0006559</td>\n",
       "    </tr>\n",
       "  </tbody>\n",
       "</table>\n",
       "</div>"
      ],
      "text/plain": [
       "  GeneID UniprotID ChemicalID      gofunc\n",
       "1    HPD    P32754     6057.0  GO:0003868\n",
       "2    HPD    P32754     6057.0  GO:0003868\n",
       "3    HPD    P32754     6057.0  GO:0005829\n",
       "4    HPD    P32754     6057.0  GO:0006559\n",
       "5    HPD    P32754     6057.0  GO:0006559"
      ]
     },
     "execution_count": 353,
     "metadata": {},
     "output_type": "execute_result"
    }
   ],
   "source": [
    "df_uni_ids.head()"
   ]
  },
  {
   "cell_type": "code",
   "execution_count": 354,
   "metadata": {},
   "outputs": [
    {
     "data": {
      "text/html": [
       "<div>\n",
       "<style scoped>\n",
       "    .dataframe tbody tr th:only-of-type {\n",
       "        vertical-align: middle;\n",
       "    }\n",
       "\n",
       "    .dataframe tbody tr th {\n",
       "        vertical-align: top;\n",
       "    }\n",
       "\n",
       "    .dataframe thead th {\n",
       "        text-align: right;\n",
       "    }\n",
       "</style>\n",
       "<table border=\"1\" class=\"dataframe\">\n",
       "  <thead>\n",
       "    <tr style=\"text-align: right;\">\n",
       "      <th></th>\n",
       "      <th>GeneID</th>\n",
       "      <th>UniprotID</th>\n",
       "      <th>DiseaseID</th>\n",
       "      <th>gofunc</th>\n",
       "    </tr>\n",
       "  </thead>\n",
       "  <tbody>\n",
       "    <tr>\n",
       "      <th>1</th>\n",
       "      <td>HPD</td>\n",
       "      <td>P32754</td>\n",
       "      <td>TYR3</td>\n",
       "      <td>GO:0003868</td>\n",
       "    </tr>\n",
       "    <tr>\n",
       "      <th>2</th>\n",
       "      <td>HPD</td>\n",
       "      <td>P32754</td>\n",
       "      <td>TYR3</td>\n",
       "      <td>GO:0003868</td>\n",
       "    </tr>\n",
       "    <tr>\n",
       "      <th>3</th>\n",
       "      <td>HPD</td>\n",
       "      <td>P32754</td>\n",
       "      <td>TYR3</td>\n",
       "      <td>GO:0005829</td>\n",
       "    </tr>\n",
       "    <tr>\n",
       "      <th>4</th>\n",
       "      <td>HPD</td>\n",
       "      <td>P32754</td>\n",
       "      <td>TYR3</td>\n",
       "      <td>GO:0006559</td>\n",
       "    </tr>\n",
       "    <tr>\n",
       "      <th>5</th>\n",
       "      <td>HPD</td>\n",
       "      <td>P32754</td>\n",
       "      <td>TYR3</td>\n",
       "      <td>GO:0006559</td>\n",
       "    </tr>\n",
       "  </tbody>\n",
       "</table>\n",
       "</div>"
      ],
      "text/plain": [
       "  GeneID UniprotID DiseaseID      gofunc\n",
       "1    HPD    P32754      TYR3  GO:0003868\n",
       "2    HPD    P32754      TYR3  GO:0003868\n",
       "3    HPD    P32754      TYR3  GO:0005829\n",
       "4    HPD    P32754      TYR3  GO:0006559\n",
       "5    HPD    P32754      TYR3  GO:0006559"
      ]
     },
     "execution_count": 354,
     "metadata": {},
     "output_type": "execute_result"
    }
   ],
   "source": [
    "df_uni_ids_d.head()"
   ]
  },
  {
   "cell_type": "code",
   "execution_count": 355,
   "metadata": {},
   "outputs": [],
   "source": [
    "# Create a col with the full go url\n",
    "df_uni_ids['go_url'] = '<' + 'http://purl.obolibrary.org/obo/' + df_uni_ids.gofunc.str.replace(':', '_')  + '>'\n",
    "df_uni_ids_d['go_url'] =  '<' + 'http://purl.obolibrary.org/obo/' + df_uni_ids_d.gofunc.str.replace(':', '_')  + '>'"
   ]
  },
  {
   "cell_type": "code",
   "execution_count": 356,
   "metadata": {},
   "outputs": [],
   "source": [
    "# Grab just the columns we want to output (diseaseID and go_url/ chemicalID and go_url)\n",
    "col_list_c = ['ChemicalID', 'go_url']\n",
    "col_list_d = ['DiseaseID', 'go_url']\n",
    "df_c = df_uni_ids[col_list_c]\n",
    "df_d = df_uni_ids_d[col_list_d]\n",
    "df_c = df_c.drop_duplicates()\n",
    "df_d = df_d.drop_duplicates()"
   ]
  },
  {
   "cell_type": "code",
   "execution_count": 357,
   "metadata": {},
   "outputs": [],
   "source": [
    "# df_uni_ids[df_uni_ids.OMIM == np.nan]"
   ]
  },
  {
   "cell_type": "code",
   "execution_count": 358,
   "metadata": {},
   "outputs": [
    {
     "data": {
      "text/html": [
       "<div>\n",
       "<style scoped>\n",
       "    .dataframe tbody tr th:only-of-type {\n",
       "        vertical-align: middle;\n",
       "    }\n",
       "\n",
       "    .dataframe tbody tr th {\n",
       "        vertical-align: top;\n",
       "    }\n",
       "\n",
       "    .dataframe thead th {\n",
       "        text-align: right;\n",
       "    }\n",
       "</style>\n",
       "<table border=\"1\" class=\"dataframe\">\n",
       "  <thead>\n",
       "    <tr style=\"text-align: right;\">\n",
       "      <th></th>\n",
       "      <th>DiseaseID</th>\n",
       "      <th>go_url</th>\n",
       "    </tr>\n",
       "  </thead>\n",
       "  <tbody>\n",
       "    <tr>\n",
       "      <th>1</th>\n",
       "      <td>TYR3</td>\n",
       "      <td>&lt;http://purl.obolibrary.org/obo/GO_0003868&gt;</td>\n",
       "    </tr>\n",
       "    <tr>\n",
       "      <th>3</th>\n",
       "      <td>TYR3</td>\n",
       "      <td>&lt;http://purl.obolibrary.org/obo/GO_0005829&gt;</td>\n",
       "    </tr>\n",
       "    <tr>\n",
       "      <th>4</th>\n",
       "      <td>TYR3</td>\n",
       "      <td>&lt;http://purl.obolibrary.org/obo/GO_0006559&gt;</td>\n",
       "    </tr>\n",
       "    <tr>\n",
       "      <th>6</th>\n",
       "      <td>TYR3</td>\n",
       "      <td>&lt;http://purl.obolibrary.org/obo/GO_0006572&gt;</td>\n",
       "    </tr>\n",
       "    <tr>\n",
       "      <th>7</th>\n",
       "      <td>TYR3</td>\n",
       "      <td>&lt;http://purl.obolibrary.org/obo/GO_0046872&gt;</td>\n",
       "    </tr>\n",
       "  </tbody>\n",
       "</table>\n",
       "</div>"
      ],
      "text/plain": [
       "  DiseaseID                                       go_url\n",
       "1      TYR3  <http://purl.obolibrary.org/obo/GO_0003868>\n",
       "3      TYR3  <http://purl.obolibrary.org/obo/GO_0005829>\n",
       "4      TYR3  <http://purl.obolibrary.org/obo/GO_0006559>\n",
       "6      TYR3  <http://purl.obolibrary.org/obo/GO_0006572>\n",
       "7      TYR3  <http://purl.obolibrary.org/obo/GO_0046872>"
      ]
     },
     "execution_count": 358,
     "metadata": {},
     "output_type": "execute_result"
    }
   ],
   "source": [
    "df_d.head()"
   ]
  },
  {
   "cell_type": "code",
   "execution_count": 359,
   "metadata": {},
   "outputs": [
    {
     "data": {
      "text/html": [
       "<div>\n",
       "<style scoped>\n",
       "    .dataframe tbody tr th:only-of-type {\n",
       "        vertical-align: middle;\n",
       "    }\n",
       "\n",
       "    .dataframe tbody tr th {\n",
       "        vertical-align: top;\n",
       "    }\n",
       "\n",
       "    .dataframe thead th {\n",
       "        text-align: right;\n",
       "    }\n",
       "</style>\n",
       "<table border=\"1\" class=\"dataframe\">\n",
       "  <thead>\n",
       "    <tr style=\"text-align: right;\">\n",
       "      <th></th>\n",
       "      <th>ChemicalID</th>\n",
       "      <th>go_url</th>\n",
       "    </tr>\n",
       "  </thead>\n",
       "  <tbody>\n",
       "    <tr>\n",
       "      <th>1</th>\n",
       "      <td>6057.0</td>\n",
       "      <td>&lt;http://purl.obolibrary.org/obo/GO_0003868&gt;</td>\n",
       "    </tr>\n",
       "    <tr>\n",
       "      <th>3</th>\n",
       "      <td>6057.0</td>\n",
       "      <td>&lt;http://purl.obolibrary.org/obo/GO_0005829&gt;</td>\n",
       "    </tr>\n",
       "    <tr>\n",
       "      <th>4</th>\n",
       "      <td>6057.0</td>\n",
       "      <td>&lt;http://purl.obolibrary.org/obo/GO_0006559&gt;</td>\n",
       "    </tr>\n",
       "    <tr>\n",
       "      <th>6</th>\n",
       "      <td>6057.0</td>\n",
       "      <td>&lt;http://purl.obolibrary.org/obo/GO_0006572&gt;</td>\n",
       "    </tr>\n",
       "    <tr>\n",
       "      <th>7</th>\n",
       "      <td>6057.0</td>\n",
       "      <td>&lt;http://purl.obolibrary.org/obo/GO_0046872&gt;</td>\n",
       "    </tr>\n",
       "  </tbody>\n",
       "</table>\n",
       "</div>"
      ],
      "text/plain": [
       "  ChemicalID                                       go_url\n",
       "1     6057.0  <http://purl.obolibrary.org/obo/GO_0003868>\n",
       "3     6057.0  <http://purl.obolibrary.org/obo/GO_0005829>\n",
       "4     6057.0  <http://purl.obolibrary.org/obo/GO_0006559>\n",
       "6     6057.0  <http://purl.obolibrary.org/obo/GO_0006572>\n",
       "7     6057.0  <http://purl.obolibrary.org/obo/GO_0046872>"
      ]
     },
     "execution_count": 359,
     "metadata": {},
     "output_type": "execute_result"
    }
   ],
   "source": [
    "df_c.head()"
   ]
  },
  {
   "cell_type": "code",
   "execution_count": 360,
   "metadata": {},
   "outputs": [],
   "source": [
    "# gene2gouri = dict(zip(df_uni_ids.GeneID, df_uni_ids.go_url))\n",
    "# vmh_df\n",
    "# Unforunately I now have to create a df of:\n",
    "# Entity Gene\n",
    "# Which may be awkward"
   ]
  },
  {
   "cell_type": "code",
   "execution_count": 361,
   "metadata": {},
   "outputs": [],
   "source": [
    "# Output an association file for each of chem and dis\n",
    "np.savetxt(r'VMHassociations_c.txt', df_c.values, fmt='%s')\n",
    "np.savetxt(r'VMHassociations_d.txt', df_d.values, fmt='%s')"
   ]
  },
  {
   "cell_type": "code",
   "execution_count": 362,
   "metadata": {},
   "outputs": [
    {
     "data": {
      "text/plain": [
       "0"
      ]
     },
     "execution_count": 362,
     "metadata": {},
     "output_type": "execute_result"
    }
   ],
   "source": [
    "# Merge these two into one single file\n",
    "subprocess.call('cat VMHassociations_c.txt > vmhassociations', shell=True)\n",
    "subprocess.call('cat VMHassociations_d.txt >> vmhassociations', shell=True)"
   ]
  },
  {
   "cell_type": "code",
   "execution_count": 363,
   "metadata": {},
   "outputs": [],
   "source": [
    "# Create entities.lst to inform opa2vec which entities we want vectors for\n",
    "entities = df_d.DiseaseID.unique().tolist() + df_c.ChemicalID.unique().tolist()\n",
    "# print(sorted(entities))\n",
    "# np.savetxt(r'VMHentities.lst', entities, fmt='%s')"
   ]
  },
  {
   "cell_type": "code",
   "execution_count": 364,
   "metadata": {},
   "outputs": [],
   "source": [
    "# Actually we have to make these into vectors at the same time as the opa-nn vecs so\n",
    "# 1. get chem-gofuncs\n",
    "# 2. integrate both into vec creation along with opa-nn vecs"
   ]
  },
  {
   "cell_type": "markdown",
   "metadata": {},
   "source": [
    "### Get chem-gofuncs"
   ]
  },
  {
   "cell_type": "code",
   "execution_count": 365,
   "metadata": {},
   "outputs": [],
   "source": [
    "# Does VMH give us chem-gene?\n",
    "# - with current data\n",
    "# - with other api call\n",
    "# ELSE are these chems in CTD\n",
    "# ELSE are these chems in DisGeNet"
   ]
  },
  {
   "cell_type": "code",
   "execution_count": null,
   "metadata": {},
   "outputs": [],
   "source": []
  },
  {
   "cell_type": "code",
   "execution_count": null,
   "metadata": {},
   "outputs": [],
   "source": []
  },
  {
   "cell_type": "code",
   "execution_count": null,
   "metadata": {},
   "outputs": [],
   "source": []
  },
  {
   "cell_type": "code",
   "execution_count": null,
   "metadata": {},
   "outputs": [],
   "source": []
  },
  {
   "cell_type": "code",
   "execution_count": null,
   "metadata": {},
   "outputs": [],
   "source": []
  },
  {
   "cell_type": "code",
   "execution_count": null,
   "metadata": {},
   "outputs": [],
   "source": []
  },
  {
   "cell_type": "code",
   "execution_count": null,
   "metadata": {},
   "outputs": [],
   "source": []
  },
  {
   "cell_type": "markdown",
   "metadata": {},
   "source": [
    "### Import the created vecs"
   ]
  },
  {
   "cell_type": "code",
   "execution_count": 366,
   "metadata": {},
   "outputs": [],
   "source": [
    "# Import Gofunc vec file\n",
    "with open('../opa/go-gofuncs.lst', 'r') as file:\n",
    "    text = file.read()\n",
    "    \n",
    "# Strip and split vector data into list of lists [chem, vec]\n",
    "text = text.replace('\\n', '')\n",
    "text = text.split(']')\n",
    "text = [item.strip().split(' [') for item in text]\n",
    "\n",
    "# Turn it into a data frame\n",
    "df = pd.DataFrame(text)\n",
    "df.columns = ['ID', 'Vector']\n",
    "\n",
    "# Clean\n",
    "df = df.dropna()\n",
    "df['Vector'] = df.Vector.map(lambda x: x.rstrip().lstrip().replace('    ', ' ').replace('   ', ' ').replace('  ', ' ').replace(' ', ','))\n",
    "\n",
    "# Turn vector column into a list\n",
    "df['Vector'] = df.Vector.map(lambda x: x.split(','))\n",
    "ent2vec = dict(zip(df.ID, df.Vector))"
   ]
  },
  {
   "cell_type": "code",
   "execution_count": 367,
   "metadata": {},
   "outputs": [
    {
     "name": "stdout",
     "output_type": "stream",
     "text": [
      "ID vec pairs:  3412\n",
      "No. unique entities:  3412\n"
     ]
    }
   ],
   "source": [
    "print('ID vec pairs: ', df.shape[0])\n",
    "print('No. unique entities: ', df.ID.nunique())"
   ]
  },
  {
   "cell_type": "code",
   "execution_count": 368,
   "metadata": {},
   "outputs": [
    {
     "data": {
      "text/html": [
       "<div>\n",
       "<style scoped>\n",
       "    .dataframe tbody tr th:only-of-type {\n",
       "        vertical-align: middle;\n",
       "    }\n",
       "\n",
       "    .dataframe tbody tr th {\n",
       "        vertical-align: top;\n",
       "    }\n",
       "\n",
       "    .dataframe thead th {\n",
       "        text-align: right;\n",
       "    }\n",
       "</style>\n",
       "<table border=\"1\" class=\"dataframe\">\n",
       "  <thead>\n",
       "    <tr style=\"text-align: right;\">\n",
       "      <th></th>\n",
       "      <th>ID</th>\n",
       "      <th>Vector</th>\n",
       "    </tr>\n",
       "  </thead>\n",
       "  <tbody>\n",
       "    <tr>\n",
       "      <th>2606</th>\n",
       "      <td>D005472</td>\n",
       "      <td>[-2.96734683e-02, -7.76007175e-02, -4.85067695...</td>\n",
       "    </tr>\n",
       "    <tr>\n",
       "      <th>439</th>\n",
       "      <td>MESH:D019294</td>\n",
       "      <td>[0.02657738, 0.13508515, 0.02618615, -0.133977...</td>\n",
       "    </tr>\n",
       "    <tr>\n",
       "      <th>991</th>\n",
       "      <td>MESH:C567036</td>\n",
       "      <td>[0.02693321, 0.10902761, 0.05104734, -0.114022...</td>\n",
       "    </tr>\n",
       "    <tr>\n",
       "      <th>746</th>\n",
       "      <td>MESH:D010014</td>\n",
       "      <td>[0.0293992, 0.12939522, 0.05346038, -0.1136768...</td>\n",
       "    </tr>\n",
       "    <tr>\n",
       "      <th>2608</th>\n",
       "      <td>C000944</td>\n",
       "      <td>[-0.0416164, -0.1550461, -0.38542432, -0.23598...</td>\n",
       "    </tr>\n",
       "    <tr>\n",
       "      <th>1685</th>\n",
       "      <td>MESH:C566393</td>\n",
       "      <td>[0.02737711, 0.09487388, 0.02540512, -0.097729...</td>\n",
       "    </tr>\n",
       "    <tr>\n",
       "      <th>2186</th>\n",
       "      <td>MESH:D024821</td>\n",
       "      <td>[-0.01296799, 0.10717503, 0.0324862, -0.123063...</td>\n",
       "    </tr>\n",
       "    <tr>\n",
       "      <th>3154</th>\n",
       "      <td>MPS4A</td>\n",
       "      <td>[2.55190413e-02, 1.32885084e-01, 4.48934175e-0...</td>\n",
       "    </tr>\n",
       "    <tr>\n",
       "      <th>2724</th>\n",
       "      <td>D005054</td>\n",
       "      <td>[0.0205101, 0.07917807, -0.19042702, -0.117317...</td>\n",
       "    </tr>\n",
       "    <tr>\n",
       "      <th>2173</th>\n",
       "      <td>OMIM:617268</td>\n",
       "      <td>[0.01571366, 0.1089543, 0.02160806, -0.1118552...</td>\n",
       "    </tr>\n",
       "  </tbody>\n",
       "</table>\n",
       "</div>"
      ],
      "text/plain": [
       "                ID                                             Vector\n",
       "2606       D005472  [-2.96734683e-02, -7.76007175e-02, -4.85067695...\n",
       "439   MESH:D019294  [0.02657738, 0.13508515, 0.02618615, -0.133977...\n",
       "991   MESH:C567036  [0.02693321, 0.10902761, 0.05104734, -0.114022...\n",
       "746   MESH:D010014  [0.0293992, 0.12939522, 0.05346038, -0.1136768...\n",
       "2608       C000944  [-0.0416164, -0.1550461, -0.38542432, -0.23598...\n",
       "1685  MESH:C566393  [0.02737711, 0.09487388, 0.02540512, -0.097729...\n",
       "2186  MESH:D024821  [-0.01296799, 0.10717503, 0.0324862, -0.123063...\n",
       "3154         MPS4A  [2.55190413e-02, 1.32885084e-01, 4.48934175e-0...\n",
       "2724       D005054  [0.0205101, 0.07917807, -0.19042702, -0.117317...\n",
       "2173   OMIM:617268  [0.01571366, 0.1089543, 0.02160806, -0.1118552..."
      ]
     },
     "execution_count": 368,
     "metadata": {},
     "output_type": "execute_result"
    }
   ],
   "source": [
    "df.sample(10)"
   ]
  },
  {
   "cell_type": "code",
   "execution_count": 369,
   "metadata": {},
   "outputs": [],
   "source": [
    "# # Our ent2vec uses ctd chem id, so create a column of this\n",
    "# # Load the dictionary object output in phen2vec\n",
    "# def load_obj(name):\n",
    "#     with open(name + '.pkl', 'rb') as f:\n",
    "#         return pickle.load(f)\n",
    "\n",
    "# ctd_cid_map = load_obj('../opa/ctd_cid_map')\n",
    "# # Switch it around\n",
    "# ctd_cid_map = {y.decode(\"utf-8\"):x for x,y in ctd_cid_map.items()}\n"
   ]
  },
  {
   "cell_type": "code",
   "execution_count": 370,
   "metadata": {},
   "outputs": [
    {
     "data": {
      "text/html": [
       "<div>\n",
       "<style scoped>\n",
       "    .dataframe tbody tr th:only-of-type {\n",
       "        vertical-align: middle;\n",
       "    }\n",
       "\n",
       "    .dataframe tbody tr th {\n",
       "        vertical-align: top;\n",
       "    }\n",
       "\n",
       "    .dataframe thead th {\n",
       "        text-align: right;\n",
       "    }\n",
       "</style>\n",
       "<table border=\"1\" class=\"dataframe\">\n",
       "  <thead>\n",
       "    <tr style=\"text-align: right;\">\n",
       "      <th></th>\n",
       "      <th>DiseaseAbbrev</th>\n",
       "      <th>metName</th>\n",
       "      <th>cid</th>\n",
       "      <th>chebi</th>\n",
       "      <th>chembl</th>\n",
       "      <th>MetGene</th>\n",
       "    </tr>\n",
       "  </thead>\n",
       "  <tbody>\n",
       "    <tr>\n",
       "      <th>0</th>\n",
       "      <td>3MGA</td>\n",
       "      <td>3-Hydroxy-Isovaleryl Carnitine</td>\n",
       "      <td>53915061.0</td>\n",
       "      <td>73027.0</td>\n",
       "      <td>NaN</td>\n",
       "      <td>AUH</td>\n",
       "    </tr>\n",
       "    <tr>\n",
       "      <th>1</th>\n",
       "      <td>ARG</td>\n",
       "      <td>L-Arginine</td>\n",
       "      <td>6322.0</td>\n",
       "      <td>16467.0</td>\n",
       "      <td>CHEMBL1485</td>\n",
       "      <td>ARG1</td>\n",
       "    </tr>\n",
       "    <tr>\n",
       "      <th>2</th>\n",
       "      <td>ASA</td>\n",
       "      <td>Citrulline</td>\n",
       "      <td>9750.0</td>\n",
       "      <td>16349.0</td>\n",
       "      <td>CHEMBL444814</td>\n",
       "      <td>ASL</td>\n",
       "    </tr>\n",
       "    <tr>\n",
       "      <th>3</th>\n",
       "      <td>BTD</td>\n",
       "      <td>Propionylcarnitine</td>\n",
       "      <td>107738.0</td>\n",
       "      <td>28867.0</td>\n",
       "      <td>NaN</td>\n",
       "      <td>BTD</td>\n",
       "    </tr>\n",
       "    <tr>\n",
       "      <th>4</th>\n",
       "      <td>BKT</td>\n",
       "      <td>Tiglyl Carnitine</td>\n",
       "      <td>22833596.0</td>\n",
       "      <td>NaN</td>\n",
       "      <td>NaN</td>\n",
       "      <td>ACAT1</td>\n",
       "    </tr>\n",
       "  </tbody>\n",
       "</table>\n",
       "</div>"
      ],
      "text/plain": [
       "  DiseaseAbbrev                         metName         cid    chebi  \\\n",
       "0          3MGA  3-Hydroxy-Isovaleryl Carnitine  53915061.0  73027.0   \n",
       "1           ARG                      L-Arginine      6322.0  16467.0   \n",
       "2           ASA                      Citrulline      9750.0  16349.0   \n",
       "3           BTD              Propionylcarnitine    107738.0  28867.0   \n",
       "4           BKT                Tiglyl Carnitine  22833596.0      NaN   \n",
       "\n",
       "         chembl MetGene  \n",
       "0           NaN     AUH  \n",
       "1    CHEMBL1485    ARG1  \n",
       "2  CHEMBL444814     ASL  \n",
       "3           NaN     BTD  \n",
       "4           NaN   ACAT1  "
      ]
     },
     "execution_count": 370,
     "metadata": {},
     "output_type": "execute_result"
    }
   ],
   "source": [
    "vmh_df.head()"
   ]
  },
  {
   "cell_type": "code",
   "execution_count": 371,
   "metadata": {},
   "outputs": [
    {
     "data": {
      "text/plain": [
       "(40, 6)"
      ]
     },
     "execution_count": 371,
     "metadata": {},
     "output_type": "execute_result"
    }
   ],
   "source": [
    "vmh_df.shape"
   ]
  },
  {
   "cell_type": "code",
   "execution_count": 372,
   "metadata": {},
   "outputs": [],
   "source": [
    "# Adapt cid to suit map\n",
    "vmh_df['cid'] = vmh_df.cid.fillna(0)\n",
    "vmh_df['cid'] = vmh_df.cid.astype(float)\n",
    "vmh_df['cid'] = vmh_df.cid.fillna(0)\n",
    "vmh_df['cid'] = vmh_df.cid.astype(int)\n",
    "vmh_df['cid'] = vmh_df.cid.astype(str)"
   ]
  },
  {
   "cell_type": "code",
   "execution_count": 373,
   "metadata": {},
   "outputs": [],
   "source": [
    "vmh_df['DVec'] = vmh_df.DiseaseAbbrev.map(lambda x: ent2vec.get(x))\n",
    "vmh_df['CVec'] = vmh_df.cid.map(lambda x: ent2vec.get(x))"
   ]
  },
  {
   "cell_type": "code",
   "execution_count": 376,
   "metadata": {},
   "outputs": [],
   "source": [
    "vmh_df['MESH'] = vmh_df.DiseaseAbbrev.map(lambda x: abbrev2mesh.get(x))\n",
    "vmh_df['MESHDVec'] = vmh_df.MESH.map(lambda x: ent2vec.get(x))"
   ]
  },
  {
   "cell_type": "code",
   "execution_count": 309,
   "metadata": {},
   "outputs": [],
   "source": [
    "vmh_df = vmh_df[vmh_df.DVec.map(lambda x: x is not None)]\n",
    "vmh_df = vmh_df[vmh_df.CVec.map(lambda x: x is not None)]"
   ]
  },
  {
   "cell_type": "code",
   "execution_count": 310,
   "metadata": {},
   "outputs": [
    {
     "data": {
      "text/plain": [
       "(31, 8)"
      ]
     },
     "execution_count": 310,
     "metadata": {},
     "output_type": "execute_result"
    }
   ],
   "source": [
    "vmh_df.shape"
   ]
  },
  {
   "cell_type": "code",
   "execution_count": 378,
   "metadata": {},
   "outputs": [
    {
     "data": {
      "text/html": [
       "<div>\n",
       "<style scoped>\n",
       "    .dataframe tbody tr th:only-of-type {\n",
       "        vertical-align: middle;\n",
       "    }\n",
       "\n",
       "    .dataframe tbody tr th {\n",
       "        vertical-align: top;\n",
       "    }\n",
       "\n",
       "    .dataframe thead th {\n",
       "        text-align: right;\n",
       "    }\n",
       "</style>\n",
       "<table border=\"1\" class=\"dataframe\">\n",
       "  <thead>\n",
       "    <tr style=\"text-align: right;\">\n",
       "      <th></th>\n",
       "      <th>DiseaseAbbrev</th>\n",
       "      <th>metName</th>\n",
       "      <th>cid</th>\n",
       "      <th>chebi</th>\n",
       "      <th>chembl</th>\n",
       "      <th>MetGene</th>\n",
       "      <th>DVec</th>\n",
       "      <th>CVec</th>\n",
       "      <th>MESH</th>\n",
       "      <th>MESHDVec</th>\n",
       "    </tr>\n",
       "  </thead>\n",
       "  <tbody>\n",
       "    <tr>\n",
       "      <th>21</th>\n",
       "      <td>GACR</td>\n",
       "      <td>L-Proline</td>\n",
       "      <td>145742</td>\n",
       "      <td>17203.0</td>\n",
       "      <td>NaN</td>\n",
       "      <td>OAT</td>\n",
       "      <td>[0.02022498, 0.12082769, -0.00685551, -0.12484...</td>\n",
       "      <td>[0.00220228, 0.12708458, 0.02948296, -0.144197...</td>\n",
       "      <td>None</td>\n",
       "      <td>None</td>\n",
       "    </tr>\n",
       "    <tr>\n",
       "      <th>6</th>\n",
       "      <td>CIT1</td>\n",
       "      <td>Citrulline</td>\n",
       "      <td>9750</td>\n",
       "      <td>16349.0</td>\n",
       "      <td>CHEMBL444814</td>\n",
       "      <td>ASS1</td>\n",
       "      <td>[0.02968795, 0.12731399, 0.01281689, -0.146728...</td>\n",
       "      <td>[-9.59014669e-02, 1.23284012e-01, -4.32338156e...</td>\n",
       "      <td>None</td>\n",
       "      <td>None</td>\n",
       "    </tr>\n",
       "    <tr>\n",
       "      <th>34</th>\n",
       "      <td>HCYS</td>\n",
       "      <td>L-Methionine</td>\n",
       "      <td>6137</td>\n",
       "      <td>16643.0</td>\n",
       "      <td>NaN</td>\n",
       "      <td>CBS</td>\n",
       "      <td>[5.46227908e-03, 1.23684846e-01, -8.23141262e-...</td>\n",
       "      <td>[0.02158029, 0.0831786, -0.05406189, -0.171028...</td>\n",
       "      <td>MESH:D006712</td>\n",
       "      <td>None</td>\n",
       "    </tr>\n",
       "    <tr>\n",
       "      <th>2</th>\n",
       "      <td>ASA</td>\n",
       "      <td>Citrulline</td>\n",
       "      <td>9750</td>\n",
       "      <td>16349.0</td>\n",
       "      <td>CHEMBL444814</td>\n",
       "      <td>ASL</td>\n",
       "      <td>[6.77401483e-01, 5.45091271e-01, -4.91399854e-...</td>\n",
       "      <td>[-9.59014669e-02, 1.23284012e-01, -4.32338156e...</td>\n",
       "      <td>MESH:D056807</td>\n",
       "      <td>[0.01632265, 0.12623872, 0.04004899, -0.137581...</td>\n",
       "    </tr>\n",
       "    <tr>\n",
       "      <th>5</th>\n",
       "      <td>CACT</td>\n",
       "      <td>Tetradecenoylcarnitine</td>\n",
       "      <td>53477791</td>\n",
       "      <td>84634.0</td>\n",
       "      <td>NaN</td>\n",
       "      <td>SLC25A20</td>\n",
       "      <td>[3.13112102e-02, 1.19863659e-01, 4.72368449e-0...</td>\n",
       "      <td>[1.86810433e-03, 1.36842966e-01, 3.54562402e-0...</td>\n",
       "      <td>None</td>\n",
       "      <td>None</td>\n",
       "    </tr>\n",
       "    <tr>\n",
       "      <th>8</th>\n",
       "      <td>CPT1</td>\n",
       "      <td>L-Palmitoylcarnitine</td>\n",
       "      <td>11953816</td>\n",
       "      <td>17490.0</td>\n",
       "      <td>NaN</td>\n",
       "      <td>CPT1A</td>\n",
       "      <td>[0.0077546, 0.12436599, 0.01024128, -0.1492381...</td>\n",
       "      <td>[-1.37756923e-02, 1.09985389e-01, 2.36444753e-...</td>\n",
       "      <td>None</td>\n",
       "      <td>None</td>\n",
       "    </tr>\n",
       "    <tr>\n",
       "      <th>1</th>\n",
       "      <td>ARG</td>\n",
       "      <td>L-Arginine</td>\n",
       "      <td>6322</td>\n",
       "      <td>16467.0</td>\n",
       "      <td>CHEMBL1485</td>\n",
       "      <td>ARG1</td>\n",
       "      <td>[3.67329210e-01, -2.10704312e-01, -1.82017654e...</td>\n",
       "      <td>[-1.66938882e-02, 1.36134878e-01, -2.16508433e...</td>\n",
       "      <td>None</td>\n",
       "      <td>None</td>\n",
       "    </tr>\n",
       "    <tr>\n",
       "      <th>18</th>\n",
       "      <td>NaN</td>\n",
       "      <td>NaN</td>\n",
       "      <td>0</td>\n",
       "      <td>NaN</td>\n",
       "      <td>NaN</td>\n",
       "      <td>nan</td>\n",
       "      <td>None</td>\n",
       "      <td>None</td>\n",
       "      <td>None</td>\n",
       "      <td>None</td>\n",
       "    </tr>\n",
       "  </tbody>\n",
       "</table>\n",
       "</div>"
      ],
      "text/plain": [
       "   DiseaseAbbrev                 metName       cid    chebi        chembl  \\\n",
       "21          GACR               L-Proline    145742  17203.0           NaN   \n",
       "6           CIT1              Citrulline      9750  16349.0  CHEMBL444814   \n",
       "34          HCYS            L-Methionine      6137  16643.0           NaN   \n",
       "2            ASA              Citrulline      9750  16349.0  CHEMBL444814   \n",
       "5           CACT  Tetradecenoylcarnitine  53477791  84634.0           NaN   \n",
       "8           CPT1    L-Palmitoylcarnitine  11953816  17490.0           NaN   \n",
       "1            ARG              L-Arginine      6322  16467.0    CHEMBL1485   \n",
       "18           NaN                     NaN         0      NaN           NaN   \n",
       "\n",
       "     MetGene                                               DVec  \\\n",
       "21       OAT  [0.02022498, 0.12082769, -0.00685551, -0.12484...   \n",
       "6       ASS1  [0.02968795, 0.12731399, 0.01281689, -0.146728...   \n",
       "34       CBS  [5.46227908e-03, 1.23684846e-01, -8.23141262e-...   \n",
       "2        ASL  [6.77401483e-01, 5.45091271e-01, -4.91399854e-...   \n",
       "5   SLC25A20  [3.13112102e-02, 1.19863659e-01, 4.72368449e-0...   \n",
       "8      CPT1A  [0.0077546, 0.12436599, 0.01024128, -0.1492381...   \n",
       "1       ARG1  [3.67329210e-01, -2.10704312e-01, -1.82017654e...   \n",
       "18       nan                                               None   \n",
       "\n",
       "                                                 CVec          MESH  \\\n",
       "21  [0.00220228, 0.12708458, 0.02948296, -0.144197...          None   \n",
       "6   [-9.59014669e-02, 1.23284012e-01, -4.32338156e...          None   \n",
       "34  [0.02158029, 0.0831786, -0.05406189, -0.171028...  MESH:D006712   \n",
       "2   [-9.59014669e-02, 1.23284012e-01, -4.32338156e...  MESH:D056807   \n",
       "5   [1.86810433e-03, 1.36842966e-01, 3.54562402e-0...          None   \n",
       "8   [-1.37756923e-02, 1.09985389e-01, 2.36444753e-...          None   \n",
       "1   [-1.66938882e-02, 1.36134878e-01, -2.16508433e...          None   \n",
       "18                                               None          None   \n",
       "\n",
       "                                             MESHDVec  \n",
       "21                                               None  \n",
       "6                                                None  \n",
       "34                                               None  \n",
       "2   [0.01632265, 0.12623872, 0.04004899, -0.137581...  \n",
       "5                                                None  \n",
       "8                                                None  \n",
       "1                                                None  \n",
       "18                                               None  "
      ]
     },
     "execution_count": 378,
     "metadata": {},
     "output_type": "execute_result"
    }
   ],
   "source": [
    "vmh_df.sample(8)"
   ]
  },
  {
   "cell_type": "markdown",
   "metadata": {},
   "source": [
    "### Add control rows"
   ]
  },
  {
   "cell_type": "code",
   "execution_count": 154,
   "metadata": {},
   "outputs": [],
   "source": [
    "# Add correlation\n",
    "vmh_df['Correlation'] = 1"
   ]
  },
  {
   "cell_type": "code",
   "execution_count": 155,
   "metadata": {},
   "outputs": [
    {
     "name": "stdout",
     "output_type": "stream",
     "text": [
      "Original shape:  (31, 9)\n",
      "Shape after dropping duplicates:  (31, 9)\n",
      "Shape after adding controls:  (66, 9)\n",
      "Shape after dropping duplicates:  (60, 9)\n"
     ]
    }
   ],
   "source": [
    "# Add unrelated pairs - control obs\n",
    "no_rows = (vmh_df.shape[0] +4)    # This is a parameter to be tuned --> how many uncorrelated pairs do we want\n",
    "print('Original shape: ', vmh_df.shape)\n",
    "vmh_df = vmh_df.drop_duplicates(subset=['DiseaseAbbrev', 'cid'], keep=False)\n",
    "print('Shape after dropping duplicates: ', vmh_df.shape)\n",
    "\n",
    "# Randomly select chems and diseases (as many as there are related pairs)\n",
    "df_chems = vmh_df[['cid', 'CVec']].drop_duplicates(subset=['cid']).reset_index(drop=True)\n",
    "df_dis = vmh_df[['DiseaseAbbrev', 'DVec']].drop_duplicates(subset=['DiseaseAbbrev']).reset_index(drop=True)\n",
    "df_chems.columns = ['ID', 'Vector']\n",
    "df_dis.columns = ['ID', 'Vector']\n",
    "\n",
    "# print('chem size: ', df_chems.shape[0])\n",
    "# print('dis size: ', df_dis.shape[0])\n",
    "\n",
    "no_chems = len(df_chems) - 1\n",
    "no_dis = len(df_dis) - 1\n",
    "rand_chems = np.random.choice(no_chems, no_rows, replace=True)\n",
    "rand_dis = np.random.choice(no_dis, no_rows, replace=True)\n",
    "\n",
    "# Add the new pairs as rows\n",
    "for x in range(0, no_rows):\n",
    "    int1 = rand_chems[x]\n",
    "    int2 = rand_dis[x]\n",
    "    chem, chemvec = df_chems.loc[int1, 'ID'], df_chems.loc[int1, 'Vector']\n",
    "    dis, disvec = df_dis.loc[int2, 'ID'], df_dis.loc[int2, 'Vector']\n",
    "    vmh_df = vmh_df.append({'cid':chem, 'DiseaseAbbrev':dis, 'CVec':chemvec, 'DVec': disvec, 'Correlation':0}, ignore_index=True)\n",
    "\n",
    "print('Shape after adding controls: ', vmh_df.shape)\n",
    "# Drop any duplicates (removes known correlated pairs accidentally generated as uncorrelated)\n",
    "vmh_df = vmh_df.drop_duplicates(subset=['cid', 'DiseaseAbbrev'], keep=False)\n",
    "print('Shape after dropping duplicates: ', vmh_df.shape)"
   ]
  },
  {
   "cell_type": "code",
   "execution_count": 156,
   "metadata": {},
   "outputs": [
    {
     "data": {
      "text/plain": [
       "array(['ARG', 'ASA', 'BTD', 'BKT', 'CACT', 'CIT1', 'CPS1', 'CPT1', 'CPT2',\n",
       "       'HCS', 'HMG', 'TYR3', 'IBG', 'IVA', 'NICCD', 'GACR', 'PC', 'PKU',\n",
       "       'SCAD', 'TYR2', 'VLCAD', 'TYR1', 'PA', 'NKH', 'MMA', 'HCYS',\n",
       "       'HMET', 'GA2', 'MSUD', 'SBCADD', 'DECR'], dtype=object)"
      ]
     },
     "execution_count": 156,
     "metadata": {},
     "output_type": "execute_result"
    }
   ],
   "source": [
    "vmh_df.DiseaseAbbrev.unique()"
   ]
  },
  {
   "cell_type": "markdown",
   "metadata": {},
   "source": [
    "### Add HINO"
   ]
  },
  {
   "cell_type": "code",
   "execution_count": 157,
   "metadata": {},
   "outputs": [
    {
     "data": {
      "text/html": [
       "<div>\n",
       "<style scoped>\n",
       "    .dataframe tbody tr th:only-of-type {\n",
       "        vertical-align: middle;\n",
       "    }\n",
       "\n",
       "    .dataframe tbody tr th {\n",
       "        vertical-align: top;\n",
       "    }\n",
       "\n",
       "    .dataframe thead th {\n",
       "        text-align: right;\n",
       "    }\n",
       "</style>\n",
       "<table border=\"1\" class=\"dataframe\">\n",
       "  <thead>\n",
       "    <tr style=\"text-align: right;\">\n",
       "      <th></th>\n",
       "      <th>DiseaseAbbrev</th>\n",
       "      <th>metName</th>\n",
       "      <th>cid</th>\n",
       "      <th>chebi</th>\n",
       "      <th>chembl</th>\n",
       "      <th>MetGene</th>\n",
       "      <th>DVec</th>\n",
       "      <th>CVec</th>\n",
       "      <th>Correlation</th>\n",
       "    </tr>\n",
       "  </thead>\n",
       "  <tbody>\n",
       "    <tr>\n",
       "      <th>19</th>\n",
       "      <td>TYR2</td>\n",
       "      <td>L-Tyrosine</td>\n",
       "      <td>6057</td>\n",
       "      <td>17895.0</td>\n",
       "      <td>CHEMBL925</td>\n",
       "      <td>TAT</td>\n",
       "      <td>[0.01897371, 0.13630432, 0.03458931, -0.136873...</td>\n",
       "      <td>[-4.75196308e-03, 1.35927454e-01, 2.56152116e-...</td>\n",
       "      <td>1</td>\n",
       "    </tr>\n",
       "    <tr>\n",
       "      <th>41</th>\n",
       "      <td>CPT1</td>\n",
       "      <td>NaN</td>\n",
       "      <td>5961</td>\n",
       "      <td>NaN</td>\n",
       "      <td>NaN</td>\n",
       "      <td>NaN</td>\n",
       "      <td>[0.0077546, 0.12436599, 0.01024128, -0.1492381...</td>\n",
       "      <td>[-0.04229089, 0.1120939, -0.00048257, -0.16405...</td>\n",
       "      <td>0</td>\n",
       "    </tr>\n",
       "  </tbody>\n",
       "</table>\n",
       "</div>"
      ],
      "text/plain": [
       "   DiseaseAbbrev     metName   cid    chebi     chembl MetGene  \\\n",
       "19          TYR2  L-Tyrosine  6057  17895.0  CHEMBL925     TAT   \n",
       "41          CPT1         NaN  5961      NaN        NaN     NaN   \n",
       "\n",
       "                                                 DVec  \\\n",
       "19  [0.01897371, 0.13630432, 0.03458931, -0.136873...   \n",
       "41  [0.0077546, 0.12436599, 0.01024128, -0.1492381...   \n",
       "\n",
       "                                                 CVec  Correlation  \n",
       "19  [-4.75196308e-03, 1.35927454e-01, 2.56152116e-...            1  \n",
       "41  [-0.04229089, 0.1120939, -0.00048257, -0.16405...            0  "
      ]
     },
     "execution_count": 157,
     "metadata": {},
     "output_type": "execute_result"
    }
   ],
   "source": [
    "vmh_df.sample(2)"
   ]
  },
  {
   "cell_type": "code",
   "execution_count": 158,
   "metadata": {},
   "outputs": [
    {
     "data": {
      "text/html": [
       "<div>\n",
       "<style scoped>\n",
       "    .dataframe tbody tr th:only-of-type {\n",
       "        vertical-align: middle;\n",
       "    }\n",
       "\n",
       "    .dataframe tbody tr th {\n",
       "        vertical-align: top;\n",
       "    }\n",
       "\n",
       "    .dataframe thead th {\n",
       "        text-align: right;\n",
       "    }\n",
       "</style>\n",
       "<table border=\"1\" class=\"dataframe\">\n",
       "  <thead>\n",
       "    <tr style=\"text-align: right;\">\n",
       "      <th></th>\n",
       "      <th>GeneID</th>\n",
       "      <th>UniprotID</th>\n",
       "      <th>ChemicalID</th>\n",
       "      <th>gofunc</th>\n",
       "      <th>go_url</th>\n",
       "    </tr>\n",
       "  </thead>\n",
       "  <tbody>\n",
       "    <tr>\n",
       "      <th>1</th>\n",
       "      <td>HPD</td>\n",
       "      <td>P32754</td>\n",
       "      <td>6057.0</td>\n",
       "      <td>GO:0003868</td>\n",
       "      <td>&lt;http://purl.obolibrary.org/obo/GO_0003868&gt;</td>\n",
       "    </tr>\n",
       "    <tr>\n",
       "      <th>2</th>\n",
       "      <td>HPD</td>\n",
       "      <td>P32754</td>\n",
       "      <td>6057.0</td>\n",
       "      <td>GO:0003868</td>\n",
       "      <td>&lt;http://purl.obolibrary.org/obo/GO_0003868&gt;</td>\n",
       "    </tr>\n",
       "    <tr>\n",
       "      <th>3</th>\n",
       "      <td>HPD</td>\n",
       "      <td>P32754</td>\n",
       "      <td>6057.0</td>\n",
       "      <td>GO:0005829</td>\n",
       "      <td>&lt;http://purl.obolibrary.org/obo/GO_0005829&gt;</td>\n",
       "    </tr>\n",
       "    <tr>\n",
       "      <th>4</th>\n",
       "      <td>HPD</td>\n",
       "      <td>P32754</td>\n",
       "      <td>6057.0</td>\n",
       "      <td>GO:0006559</td>\n",
       "      <td>&lt;http://purl.obolibrary.org/obo/GO_0006559&gt;</td>\n",
       "    </tr>\n",
       "    <tr>\n",
       "      <th>5</th>\n",
       "      <td>HPD</td>\n",
       "      <td>P32754</td>\n",
       "      <td>6057.0</td>\n",
       "      <td>GO:0006559</td>\n",
       "      <td>&lt;http://purl.obolibrary.org/obo/GO_0006559&gt;</td>\n",
       "    </tr>\n",
       "  </tbody>\n",
       "</table>\n",
       "</div>"
      ],
      "text/plain": [
       "  GeneID UniprotID ChemicalID      gofunc  \\\n",
       "1    HPD    P32754     6057.0  GO:0003868   \n",
       "2    HPD    P32754     6057.0  GO:0003868   \n",
       "3    HPD    P32754     6057.0  GO:0005829   \n",
       "4    HPD    P32754     6057.0  GO:0006559   \n",
       "5    HPD    P32754     6057.0  GO:0006559   \n",
       "\n",
       "                                        go_url  \n",
       "1  <http://purl.obolibrary.org/obo/GO_0003868>  \n",
       "2  <http://purl.obolibrary.org/obo/GO_0003868>  \n",
       "3  <http://purl.obolibrary.org/obo/GO_0005829>  \n",
       "4  <http://purl.obolibrary.org/obo/GO_0006559>  \n",
       "5  <http://purl.obolibrary.org/obo/GO_0006559>  "
      ]
     },
     "execution_count": 158,
     "metadata": {},
     "output_type": "execute_result"
    }
   ],
   "source": [
    "df_uni_ids.head()"
   ]
  },
  {
   "cell_type": "code",
   "execution_count": 159,
   "metadata": {},
   "outputs": [],
   "source": [
    "# Loading the map from pickle object - if you haven't created it you may need to uncomment above lines\n",
    "def load_obj(name):\n",
    "    with open(name + '.pkl', 'rb') as f:\n",
    "        return pickle.load(f)\n",
    "\n",
    "uniprot2hino = load_obj('../opa/Uniprot_HINO_map')"
   ]
  },
  {
   "cell_type": "code",
   "execution_count": 160,
   "metadata": {},
   "outputs": [],
   "source": [
    "# The map has different format of uniprot ids, so adjust for that\n",
    "df_uni_ids['UniprotID'] = df_uni_ids.UniprotID.map(lambda x: 'UniProt_' + x)\n",
    "df_uni_ids_d['UniprotID'] = df_uni_ids_d.UniprotID.map(lambda x: 'UniProt_' + x)"
   ]
  },
  {
   "cell_type": "code",
   "execution_count": 161,
   "metadata": {},
   "outputs": [],
   "source": [
    "df_uni_ids['HINO'] = df_uni_ids.UniprotID.map(lambda x: uniprot2hino.get(x))\n",
    "df_uni_ids_d['HINO'] = df_uni_ids_d.UniprotID.map(lambda x: uniprot2hino.get(x))"
   ]
  },
  {
   "cell_type": "code",
   "execution_count": 162,
   "metadata": {},
   "outputs": [
    {
     "data": {
      "text/html": [
       "<div>\n",
       "<style scoped>\n",
       "    .dataframe tbody tr th:only-of-type {\n",
       "        vertical-align: middle;\n",
       "    }\n",
       "\n",
       "    .dataframe tbody tr th {\n",
       "        vertical-align: top;\n",
       "    }\n",
       "\n",
       "    .dataframe thead th {\n",
       "        text-align: right;\n",
       "    }\n",
       "</style>\n",
       "<table border=\"1\" class=\"dataframe\">\n",
       "  <thead>\n",
       "    <tr style=\"text-align: right;\">\n",
       "      <th></th>\n",
       "      <th>GeneID</th>\n",
       "      <th>UniprotID</th>\n",
       "      <th>DiseaseID</th>\n",
       "      <th>gofunc</th>\n",
       "      <th>go_url</th>\n",
       "      <th>HINO</th>\n",
       "    </tr>\n",
       "  </thead>\n",
       "  <tbody>\n",
       "    <tr>\n",
       "      <th>7359</th>\n",
       "      <td>SLC17A5</td>\n",
       "      <td>UniProt_Q9NRA2</td>\n",
       "      <td>SIALAS</td>\n",
       "      <td>GO:0005765</td>\n",
       "      <td>&lt;http://purl.obolibrary.org/obo/GO_0005765&gt;</td>\n",
       "      <td>None</td>\n",
       "    </tr>\n",
       "    <tr>\n",
       "      <th>8241</th>\n",
       "      <td>G6PD</td>\n",
       "      <td>UniProt_P11413</td>\n",
       "      <td>G6PD</td>\n",
       "      <td>GO:0019322</td>\n",
       "      <td>&lt;http://purl.obolibrary.org/obo/GO_0019322&gt;</td>\n",
       "      <td>http://purl.obolibrary.org/obo/HINO_0024252</td>\n",
       "    </tr>\n",
       "  </tbody>\n",
       "</table>\n",
       "</div>"
      ],
      "text/plain": [
       "       GeneID       UniprotID DiseaseID      gofunc  \\\n",
       "7359  SLC17A5  UniProt_Q9NRA2    SIALAS  GO:0005765   \n",
       "8241     G6PD  UniProt_P11413      G6PD  GO:0019322   \n",
       "\n",
       "                                           go_url  \\\n",
       "7359  <http://purl.obolibrary.org/obo/GO_0005765>   \n",
       "8241  <http://purl.obolibrary.org/obo/GO_0019322>   \n",
       "\n",
       "                                             HINO  \n",
       "7359                                         None  \n",
       "8241  http://purl.obolibrary.org/obo/HINO_0024252  "
      ]
     },
     "execution_count": 162,
     "metadata": {},
     "output_type": "execute_result"
    }
   ],
   "source": [
    "df_uni_ids_d.sample(2)"
   ]
  },
  {
   "cell_type": "code",
   "execution_count": 163,
   "metadata": {},
   "outputs": [
    {
     "data": {
      "text/html": [
       "<div>\n",
       "<style scoped>\n",
       "    .dataframe tbody tr th:only-of-type {\n",
       "        vertical-align: middle;\n",
       "    }\n",
       "\n",
       "    .dataframe tbody tr th {\n",
       "        vertical-align: top;\n",
       "    }\n",
       "\n",
       "    .dataframe thead th {\n",
       "        text-align: right;\n",
       "    }\n",
       "</style>\n",
       "<table border=\"1\" class=\"dataframe\">\n",
       "  <thead>\n",
       "    <tr style=\"text-align: right;\">\n",
       "      <th></th>\n",
       "      <th>GeneID</th>\n",
       "      <th>UniprotID</th>\n",
       "      <th>ChemicalID</th>\n",
       "      <th>gofunc</th>\n",
       "      <th>go_url</th>\n",
       "      <th>HINO</th>\n",
       "    </tr>\n",
       "  </thead>\n",
       "  <tbody>\n",
       "    <tr>\n",
       "      <th>253</th>\n",
       "      <td>CPS1</td>\n",
       "      <td>UniProt_P31327</td>\n",
       "      <td>5961.0</td>\n",
       "      <td>GO:0019240</td>\n",
       "      <td>&lt;http://purl.obolibrary.org/obo/GO_0019240&gt;</td>\n",
       "      <td>None</td>\n",
       "    </tr>\n",
       "    <tr>\n",
       "      <th>731</th>\n",
       "      <td>FAH</td>\n",
       "      <td>UniProt_P16930</td>\n",
       "      <td>6057.0</td>\n",
       "      <td>GO:0006527</td>\n",
       "      <td>&lt;http://purl.obolibrary.org/obo/GO_0006527&gt;</td>\n",
       "      <td>http://purl.obolibrary.org/obo/HINO_0025022</td>\n",
       "    </tr>\n",
       "  </tbody>\n",
       "</table>\n",
       "</div>"
      ],
      "text/plain": [
       "    GeneID       UniprotID ChemicalID      gofunc  \\\n",
       "253   CPS1  UniProt_P31327     5961.0  GO:0019240   \n",
       "731    FAH  UniProt_P16930     6057.0  GO:0006527   \n",
       "\n",
       "                                          go_url  \\\n",
       "253  <http://purl.obolibrary.org/obo/GO_0019240>   \n",
       "731  <http://purl.obolibrary.org/obo/GO_0006527>   \n",
       "\n",
       "                                            HINO  \n",
       "253                                         None  \n",
       "731  http://purl.obolibrary.org/obo/HINO_0025022  "
      ]
     },
     "execution_count": 163,
     "metadata": {},
     "output_type": "execute_result"
    }
   ],
   "source": [
    "df_uni_ids.sample(2)"
   ]
  },
  {
   "cell_type": "code",
   "execution_count": 164,
   "metadata": {},
   "outputs": [],
   "source": [
    "# dis2hino = dict(zip(df_uni_ids_d.DiseaseID, df_uni_ids_d.HINO))\n",
    "# chem2hino = dict(zip(df_uni_ids.ChemicalID, df_uni_ids.HINO))"
   ]
  },
  {
   "cell_type": "code",
   "execution_count": 165,
   "metadata": {},
   "outputs": [],
   "source": [
    "# vmh_df['dis_HINOvec'] = vmh_df.DiseaseAbbrev.map(lambda x: dis2hino.get(x))\n",
    "# vmh_df['chem_HINOvec'] = vmh_df.cid.map(lambda x: chem2hino.get(x))"
   ]
  },
  {
   "cell_type": "code",
   "execution_count": 166,
   "metadata": {},
   "outputs": [
    {
     "data": {
      "text/plain": [
       "0"
      ]
     },
     "execution_count": 166,
     "metadata": {},
     "output_type": "execute_result"
    }
   ],
   "source": [
    "# Create associations files\n",
    "# Output an association file for each of chem and dis\n",
    "df_uni_ids_d = df_uni_ids_d[df_uni_ids_d.HINO.map(lambda x: x is not None)]\n",
    "df_uni_ids = df_uni_ids[df_uni_ids.HINO.map(lambda x: x is not None)]\n",
    "\n",
    "np.savetxt(r'VMHassociations_disHINO.txt', df_uni_ids_d[['DiseaseID', 'HINO']].values, fmt='%s')\n",
    "np.savetxt(r'VMHassociations_chemHINO.txt', df_uni_ids[['ChemicalID', 'HINO']].values, fmt='%s')\n",
    "\n",
    "# Merge the two\n",
    "subprocess.call('cat VMHassociations_disHINO.txt > VMHhinoAssociations', shell=True)\n",
    "subprocess.call('cat VMHassociations_chemHINO.txt >> VMHhinoAssociations', shell=True)"
   ]
  },
  {
   "cell_type": "code",
   "execution_count": 167,
   "metadata": {},
   "outputs": [],
   "source": [
    "# Make entities file\n",
    "entities = df_uni_ids_d.DiseaseID.unique().tolist() + df_uni_ids.ChemicalID.unique().tolist()\n",
    "np.savetxt(r'VMHHINOentities.lst', entities, fmt='%s')"
   ]
  },
  {
   "cell_type": "markdown",
   "metadata": {},
   "source": [
    "#### MANUALLY run the hinoVecs notebook which will train these along with opa-nn HINO vecs"
   ]
  },
  {
   "cell_type": "code",
   "execution_count": 168,
   "metadata": {},
   "outputs": [],
   "source": [
    "# Import HINO vec file\n",
    "with open('../opa/hinoVecs.lst', 'r') as file:\n",
    "    text = file.read()\n",
    "    \n",
    "# Strip and split vector data into list of lists [chem, vec]\n",
    "text = text.replace('\\n', '')\n",
    "text = text.split(']')\n",
    "text = [item.strip().split(' [') for item in text]\n",
    "\n",
    "# Turn it into a data frame\n",
    "df = pd.DataFrame(text)\n",
    "df.columns = ['ID', 'Vector']\n",
    "\n",
    "# Clean\n",
    "df = df.dropna()\n",
    "df['Vector'] = df.Vector.map(lambda x: x.rstrip().lstrip().replace('    ', ' ').replace('   ', ' ').replace('  ', ' ').replace(' ', ','))\n",
    "\n",
    "# Turn vector column into a list\n",
    "df['Vector'] = df.Vector.map(lambda x: x.split(','))\n",
    "\n",
    "# Make a map of it (DisID to DOvec)\n",
    "entity_to_HINOvec = dict(zip(df.ID, df.Vector))"
   ]
  },
  {
   "cell_type": "code",
   "execution_count": 169,
   "metadata": {},
   "outputs": [],
   "source": [
    "vmh_df['dis_HINOvec'] = vmh_df.DiseaseAbbrev.map(lambda x: entity_to_HINOvec.get(x))\n",
    "vmh_df['chem_HINOvec'] = vmh_df.cid.map(lambda x: entity_to_HINOvec.get(x))"
   ]
  },
  {
   "cell_type": "markdown",
   "metadata": {},
   "source": [
    "### ADD PRO ont vecs"
   ]
  },
  {
   "cell_type": "code",
   "execution_count": 170,
   "metadata": {},
   "outputs": [],
   "source": [
    "# Import PRO vec file\n",
    "with open('../opa/PROVecs.lst', 'r') as file:\n",
    "    text = file.read()\n",
    "    \n",
    "# Strip and split vector data into list of lists [chem, vec]\n",
    "text = text.replace('\\n', '')\n",
    "text = text.split(']')\n",
    "text = [item.strip().split(' [') for item in text]\n",
    "\n",
    "# Turn it into a data frame\n",
    "df = pd.DataFrame(text)\n",
    "df.columns = ['ID', 'Vector']\n",
    "\n",
    "# Clean\n",
    "df = df.dropna()\n",
    "df['Vector'] = df.Vector.map(lambda x: x.rstrip().lstrip().replace('    ', ' ').replace('   ', ' ').replace('  ', ' ').replace(' ', ','))\n",
    "\n",
    "# Turn vector column into a list\n",
    "df['Vector'] = df.Vector.map(lambda x: x.split(','))\n",
    "\n",
    "# Make a map of it (DisID to DOvec)\n",
    "entity_to_PROvec = dict(zip(df.ID, df.Vector))"
   ]
  },
  {
   "cell_type": "code",
   "execution_count": 171,
   "metadata": {},
   "outputs": [],
   "source": [
    "vmh_df['dis_PROvec'] = vmh_df.DiseaseAbbrev.map(lambda x: entity_to_PROvec.get(x))\n",
    "vmh_df['chem_PROvec'] = vmh_df.cid.map(lambda x: entity_to_PROvec.get(x))"
   ]
  },
  {
   "cell_type": "markdown",
   "metadata": {},
   "source": [
    "### Add Phenotype Ontology Vecs"
   ]
  },
  {
   "cell_type": "code",
   "execution_count": 172,
   "metadata": {},
   "outputs": [],
   "source": [
    "# diseases = pd.read_csv('../ctd-to-nt/csvs/CTD_diseases.csv', skiprows=27)"
   ]
  },
  {
   "cell_type": "code",
   "execution_count": 184,
   "metadata": {},
   "outputs": [
    {
     "data": {
      "text/html": [
       "<div>\n",
       "<style scoped>\n",
       "    .dataframe tbody tr th:only-of-type {\n",
       "        vertical-align: middle;\n",
       "    }\n",
       "\n",
       "    .dataframe tbody tr th {\n",
       "        vertical-align: top;\n",
       "    }\n",
       "\n",
       "    .dataframe thead th {\n",
       "        text-align: right;\n",
       "    }\n",
       "</style>\n",
       "<table border=\"1\" class=\"dataframe\">\n",
       "  <thead>\n",
       "    <tr style=\"text-align: right;\">\n",
       "      <th></th>\n",
       "      <th># DiseaseName</th>\n",
       "      <th>DiseaseID</th>\n",
       "      <th>AltDiseaseIDs</th>\n",
       "      <th>Definition</th>\n",
       "      <th>ParentIDs</th>\n",
       "      <th>TreeNumbers</th>\n",
       "      <th>ParentTreeNumbers</th>\n",
       "      <th>Synonyms</th>\n",
       "      <th>SlimMappings</th>\n",
       "    </tr>\n",
       "  </thead>\n",
       "  <tbody>\n",
       "    <tr>\n",
       "      <th>9026</th>\n",
       "      <td>Occupational Diseases</td>\n",
       "      <td>MESH:D009784</td>\n",
       "      <td>NaN</td>\n",
       "      <td>Diseases caused by factors involved in one's e...</td>\n",
       "      <td>MESH:C</td>\n",
       "      <td>C24</td>\n",
       "      <td>C</td>\n",
       "      <td>Disease, Occupational|Diseases, Occupational|I...</td>\n",
       "      <td>Occupational disease</td>\n",
       "    </tr>\n",
       "    <tr>\n",
       "      <th>4778</th>\n",
       "      <td>Flaviviridae Infections</td>\n",
       "      <td>MESH:D018178</td>\n",
       "      <td>NaN</td>\n",
       "      <td>Infections with viruses of the family FLAVIVIR...</td>\n",
       "      <td>MESH:D012327</td>\n",
       "      <td>C02.782.350</td>\n",
       "      <td>C02.782</td>\n",
       "      <td>Flaviviridae Infection|Infection, Flaviviridae...</td>\n",
       "      <td>Viral disease</td>\n",
       "    </tr>\n",
       "    <tr>\n",
       "      <th>5429</th>\n",
       "      <td>Heavy Chain Disease</td>\n",
       "      <td>MESH:D006362</td>\n",
       "      <td>DO:DOID:0060125</td>\n",
       "      <td>A disorder of immunoglobulin synthesis in whic...</td>\n",
       "      <td>MESH:D008232|MESH:D010265</td>\n",
       "      <td>C15.378.147.780.490|C15.604.515.435|C20.683.78...</td>\n",
       "      <td>C15.378.147.780|C15.604.515|C20.683.780</td>\n",
       "      <td>Franklin Disease|Franklin's Disease|Franklins ...</td>\n",
       "      <td>Blood disease|Immune system disease|Lymphatic ...</td>\n",
       "    </tr>\n",
       "  </tbody>\n",
       "</table>\n",
       "</div>"
      ],
      "text/plain": [
       "                # DiseaseName     DiseaseID    AltDiseaseIDs  \\\n",
       "9026    Occupational Diseases  MESH:D009784              NaN   \n",
       "4778  Flaviviridae Infections  MESH:D018178              NaN   \n",
       "5429      Heavy Chain Disease  MESH:D006362  DO:DOID:0060125   \n",
       "\n",
       "                                             Definition  \\\n",
       "9026  Diseases caused by factors involved in one's e...   \n",
       "4778  Infections with viruses of the family FLAVIVIR...   \n",
       "5429  A disorder of immunoglobulin synthesis in whic...   \n",
       "\n",
       "                      ParentIDs  \\\n",
       "9026                     MESH:C   \n",
       "4778               MESH:D012327   \n",
       "5429  MESH:D008232|MESH:D010265   \n",
       "\n",
       "                                            TreeNumbers  \\\n",
       "9026                                                C24   \n",
       "4778                                        C02.782.350   \n",
       "5429  C15.378.147.780.490|C15.604.515.435|C20.683.78...   \n",
       "\n",
       "                            ParentTreeNumbers  \\\n",
       "9026                                        C   \n",
       "4778                                  C02.782   \n",
       "5429  C15.378.147.780|C15.604.515|C20.683.780   \n",
       "\n",
       "                                               Synonyms  \\\n",
       "9026  Disease, Occupational|Diseases, Occupational|I...   \n",
       "4778  Flaviviridae Infection|Infection, Flaviviridae...   \n",
       "5429  Franklin Disease|Franklin's Disease|Franklins ...   \n",
       "\n",
       "                                           SlimMappings  \n",
       "9026                               Occupational disease  \n",
       "4778                                      Viral disease  \n",
       "5429  Blood disease|Immune system disease|Lymphatic ...  "
      ]
     },
     "execution_count": 184,
     "metadata": {},
     "output_type": "execute_result"
    }
   ],
   "source": [
    "# diseases.sample(3)"
   ]
  },
  {
   "cell_type": "code",
   "execution_count": 187,
   "metadata": {},
   "outputs": [
    {
     "data": {
      "text/html": [
       "<div>\n",
       "<style scoped>\n",
       "    .dataframe tbody tr th:only-of-type {\n",
       "        vertical-align: middle;\n",
       "    }\n",
       "\n",
       "    .dataframe tbody tr th {\n",
       "        vertical-align: top;\n",
       "    }\n",
       "\n",
       "    .dataframe thead th {\n",
       "        text-align: right;\n",
       "    }\n",
       "</style>\n",
       "<table border=\"1\" class=\"dataframe\">\n",
       "  <thead>\n",
       "    <tr style=\"text-align: right;\">\n",
       "      <th></th>\n",
       "      <th>abbreviation</th>\n",
       "      <th>name</th>\n",
       "      <th>omim</th>\n",
       "      <th>gwascentral</th>\n",
       "    </tr>\n",
       "  </thead>\n",
       "  <tbody>\n",
       "    <tr>\n",
       "      <th>248</th>\n",
       "      <td>LALD</td>\n",
       "      <td>Lysosomal Acid Lipase Deficiency</td>\n",
       "      <td>278000</td>\n",
       "      <td>LIPA</td>\n",
       "    </tr>\n",
       "    <tr>\n",
       "      <th>226</th>\n",
       "      <td>MSUD</td>\n",
       "      <td>Maple Syrup Urine Disease</td>\n",
       "      <td>248600</td>\n",
       "      <td>DLD</td>\n",
       "    </tr>\n",
       "    <tr>\n",
       "      <th>120</th>\n",
       "      <td>SIALAS</td>\n",
       "      <td>Sialic Acid Storage Disease</td>\n",
       "      <td>269920 and 604369</td>\n",
       "      <td>SLC17A5</td>\n",
       "    </tr>\n",
       "  </tbody>\n",
       "</table>\n",
       "</div>"
      ],
      "text/plain": [
       "    abbreviation                              name               omim  \\\n",
       "248         LALD  Lysosomal Acid Lipase Deficiency             278000   \n",
       "226         MSUD         Maple Syrup Urine Disease             248600   \n",
       "120       SIALAS       Sialic Acid Storage Disease  269920 and 604369   \n",
       "\n",
       "    gwascentral  \n",
       "248        LIPA  \n",
       "226         DLD  \n",
       "120     SLC17A5  "
      ]
     },
     "execution_count": 187,
     "metadata": {},
     "output_type": "execute_result"
    }
   ],
   "source": [
    "# v_dis.sample(3)"
   ]
  },
  {
   "cell_type": "code",
   "execution_count": 188,
   "metadata": {},
   "outputs": [],
   "source": []
  },
  {
   "cell_type": "markdown",
   "metadata": {},
   "source": [
    "### PreProcess"
   ]
  },
  {
   "cell_type": "code",
   "execution_count": 185,
   "metadata": {},
   "outputs": [
    {
     "data": {
      "text/html": [
       "<div>\n",
       "<style scoped>\n",
       "    .dataframe tbody tr th:only-of-type {\n",
       "        vertical-align: middle;\n",
       "    }\n",
       "\n",
       "    .dataframe tbody tr th {\n",
       "        vertical-align: top;\n",
       "    }\n",
       "\n",
       "    .dataframe thead th {\n",
       "        text-align: right;\n",
       "    }\n",
       "</style>\n",
       "<table border=\"1\" class=\"dataframe\">\n",
       "  <thead>\n",
       "    <tr style=\"text-align: right;\">\n",
       "      <th></th>\n",
       "      <th>DiseaseAbbrev</th>\n",
       "      <th>metName</th>\n",
       "      <th>cid</th>\n",
       "      <th>chebi</th>\n",
       "      <th>chembl</th>\n",
       "      <th>MetGene</th>\n",
       "      <th>DVec</th>\n",
       "      <th>CVec</th>\n",
       "      <th>Correlation</th>\n",
       "      <th>dis_HINOvec</th>\n",
       "      <th>chem_HINOvec</th>\n",
       "      <th>dis_PROvec</th>\n",
       "      <th>chem_PROvec</th>\n",
       "    </tr>\n",
       "  </thead>\n",
       "  <tbody>\n",
       "    <tr>\n",
       "      <th>52</th>\n",
       "      <td>PA</td>\n",
       "      <td>NaN</td>\n",
       "      <td>6322</td>\n",
       "      <td>NaN</td>\n",
       "      <td>NaN</td>\n",
       "      <td>NaN</td>\n",
       "      <td>[0.997726262, -0.211966112, 0.329555333, -2.40...</td>\n",
       "      <td>[-0.0166938882, 0.136134878, -0.0216508433, -0...</td>\n",
       "      <td>0</td>\n",
       "      <td>[1.1072729, -0.27654296, 0.25561085, -2.413737...</td>\n",
       "      <td>[0.00634056935, 0.0369067043, 0.0183985457, -0...</td>\n",
       "      <td>[1.0172819, -0.41897404, 0.2862702, -2.1424572...</td>\n",
       "      <td>[0.00559254549, 0.0277997069, 0.0273977593, -0...</td>\n",
       "    </tr>\n",
       "    <tr>\n",
       "      <th>28</th>\n",
       "      <td>MSUD</td>\n",
       "      <td>L-Valine</td>\n",
       "      <td>6287</td>\n",
       "      <td>16414.0</td>\n",
       "      <td>NaN</td>\n",
       "      <td>DLD</td>\n",
       "      <td>[0.03215135, 0.14425296, 0.0082859, -0.1536295...</td>\n",
       "      <td>[0.0447932296, 0.140804142, 0.0266556181, -0.1...</td>\n",
       "      <td>1</td>\n",
       "      <td>[0.01061395, 0.03882901, 0.00975791, -0.037047...</td>\n",
       "      <td>[0.0103904633, 0.0445794053, 0.0196699928, -0....</td>\n",
       "      <td>[0.0119402353, 0.0360205024, 0.0205472168, -0....</td>\n",
       "      <td>[0.00642648, 0.04142284, 0.01987912, -0.038156...</td>\n",
       "    </tr>\n",
       "    <tr>\n",
       "      <th>32</th>\n",
       "      <td>PA</td>\n",
       "      <td>NaN</td>\n",
       "      <td>439829</td>\n",
       "      <td>NaN</td>\n",
       "      <td>NaN</td>\n",
       "      <td>NaN</td>\n",
       "      <td>[0.997726262, -0.211966112, 0.329555333, -2.40...</td>\n",
       "      <td>[-0.01492804, 0.11784542, -0.0127729, -0.15774...</td>\n",
       "      <td>0</td>\n",
       "      <td>[1.1072729, -0.27654296, 0.25561085, -2.413737...</td>\n",
       "      <td>[0.02103061, 0.06809001, 0.03241677, -0.061152...</td>\n",
       "      <td>[1.0172819, -0.41897404, 0.2862702, -2.1424572...</td>\n",
       "      <td>[0.0143094482, 0.0745006204, 0.0242867768, -0....</td>\n",
       "    </tr>\n",
       "    <tr>\n",
       "      <th>6</th>\n",
       "      <td>CPS1</td>\n",
       "      <td>L-Glutamine</td>\n",
       "      <td>5961</td>\n",
       "      <td>18050.0</td>\n",
       "      <td>NaN</td>\n",
       "      <td>CPS1</td>\n",
       "      <td>[-0.00828421488, 0.163499296, 0.00525511336, -...</td>\n",
       "      <td>[-0.04229089, 0.1120939, -0.00048257, -0.16405...</td>\n",
       "      <td>1</td>\n",
       "      <td>[0.0, 0.0, 0.0, 0.0, 0.0, 0.0, 0.0, 0.0, 0.0, ...</td>\n",
       "      <td>[0.0, 0.0, 0.0, 0.0, 0.0, 0.0, 0.0, 0.0, 0.0, ...</td>\n",
       "      <td>[0.0, 0.0, 0.0, 0.0, 0.0, 0.0, 0.0, 0.0, 0.0, ...</td>\n",
       "      <td>[0.0, 0.0, 0.0, 0.0, 0.0, 0.0, 0.0, 0.0, 0.0, ...</td>\n",
       "    </tr>\n",
       "    <tr>\n",
       "      <th>62</th>\n",
       "      <td>BKT</td>\n",
       "      <td>NaN</td>\n",
       "      <td>6137</td>\n",
       "      <td>NaN</td>\n",
       "      <td>NaN</td>\n",
       "      <td>NaN</td>\n",
       "      <td>[-0.06295022, 0.11790282, -0.03769448, -0.1673...</td>\n",
       "      <td>[0.02158029, 0.0831786, -0.05406189, -0.171028...</td>\n",
       "      <td>0</td>\n",
       "      <td>[0.00961637, 0.05080085, 0.02324037, -0.040904...</td>\n",
       "      <td>[0.01819745, 0.05775932, 0.02726264, -0.060259...</td>\n",
       "      <td>[0.01152219, 0.03913221, 0.02425494, -0.045936...</td>\n",
       "      <td>[0.01765791, 0.04911795, 0.02775674, -0.048549...</td>\n",
       "    </tr>\n",
       "    <tr>\n",
       "      <th>43</th>\n",
       "      <td>HMG</td>\n",
       "      <td>NaN</td>\n",
       "      <td>107738</td>\n",
       "      <td>NaN</td>\n",
       "      <td>NaN</td>\n",
       "      <td>NaN</td>\n",
       "      <td>[-0.0167686325, 0.241707161, -0.155845612, 0.0...</td>\n",
       "      <td>[-0.00510412, 0.1282246, 0.02975616, -0.168319...</td>\n",
       "      <td>0</td>\n",
       "      <td>[0.0624221712, 0.0975745022, -0.131599113, 0.0...</td>\n",
       "      <td>[0.0161357801, 0.038298618, 0.016508732, -0.03...</td>\n",
       "      <td>[0.13170993, 0.45835462, -0.33259922, 0.491003...</td>\n",
       "      <td>[0.0131762, 0.0415750369, 0.0240649115, -0.036...</td>\n",
       "    </tr>\n",
       "    <tr>\n",
       "      <th>25</th>\n",
       "      <td>HCYS</td>\n",
       "      <td>L-Methionine</td>\n",
       "      <td>6137</td>\n",
       "      <td>16643.0</td>\n",
       "      <td>NaN</td>\n",
       "      <td>CBS</td>\n",
       "      <td>[0.00546227908, 0.123684846, -0.00823141262, -...</td>\n",
       "      <td>[0.02158029, 0.0831786, -0.05406189, -0.171028...</td>\n",
       "      <td>1</td>\n",
       "      <td>[0.0214955, 0.0428162, 0.02418486, -0.03971911...</td>\n",
       "      <td>[0.01819745, 0.05775932, 0.02726264, -0.060259...</td>\n",
       "      <td>[0.01634672, 0.02955634, 0.01747652, -0.031329...</td>\n",
       "      <td>[0.01765791, 0.04911795, 0.02775674, -0.048549...</td>\n",
       "    </tr>\n",
       "    <tr>\n",
       "      <th>18</th>\n",
       "      <td>SCAD</td>\n",
       "      <td>Butyrylcarnitine</td>\n",
       "      <td>439829</td>\n",
       "      <td>NaN</td>\n",
       "      <td>NaN</td>\n",
       "      <td>ACADS</td>\n",
       "      <td>[0.11330748, 0.16369171, -0.02563963, -0.13694...</td>\n",
       "      <td>[-0.01492804, 0.11784542, -0.0127729, -0.15774...</td>\n",
       "      <td>1</td>\n",
       "      <td>[0.10702512, 0.11032967, -0.0422197, -0.068437...</td>\n",
       "      <td>[0.02103061, 0.06809001, 0.03241677, -0.061152...</td>\n",
       "      <td>[0.14656241, 0.08825016, -0.04374115, -0.10401...</td>\n",
       "      <td>[0.0143094482, 0.0745006204, 0.0242867768, -0....</td>\n",
       "    </tr>\n",
       "    <tr>\n",
       "      <th>38</th>\n",
       "      <td>CACT</td>\n",
       "      <td>NaN</td>\n",
       "      <td>6140</td>\n",
       "      <td>NaN</td>\n",
       "      <td>NaN</td>\n",
       "      <td>NaN</td>\n",
       "      <td>[0.0313112102, 0.119863659, 0.0472368449, -0.1...</td>\n",
       "      <td>[0.01009831, 0.13669972, 0.04413829, -0.135294...</td>\n",
       "      <td>0</td>\n",
       "      <td>[0.0, 0.0, 0.0, 0.0, 0.0, 0.0, 0.0, 0.0, 0.0, ...</td>\n",
       "      <td>[0.00879558921, 0.0505895354, 0.0275596697, -0...</td>\n",
       "      <td>[0.0, 0.0, 0.0, 0.0, 0.0, 0.0, 0.0, 0.0, 0.0, ...</td>\n",
       "      <td>[0.01773384, 0.03808071, 0.0189811, -0.0452998...</td>\n",
       "    </tr>\n",
       "    <tr>\n",
       "      <th>24</th>\n",
       "      <td>MMA</td>\n",
       "      <td>Propionylcarnitine</td>\n",
       "      <td>107738</td>\n",
       "      <td>28867.0</td>\n",
       "      <td>NaN</td>\n",
       "      <td>MMAA</td>\n",
       "      <td>[0.0406323224, 0.743928432, -0.169774011, -0.4...</td>\n",
       "      <td>[-0.00510412, 0.1282246, 0.02975616, -0.168319...</td>\n",
       "      <td>1</td>\n",
       "      <td>[0.0, 0.0, 0.0, 0.0, 0.0, 0.0, 0.0, 0.0, 0.0, ...</td>\n",
       "      <td>[0.0161357801, 0.038298618, 0.016508732, -0.03...</td>\n",
       "      <td>[0.0, 0.0, 0.0, 0.0, 0.0, 0.0, 0.0, 0.0, 0.0, ...</td>\n",
       "      <td>[0.0131762, 0.0415750369, 0.0240649115, -0.036...</td>\n",
       "    </tr>\n",
       "    <tr>\n",
       "      <th>37</th>\n",
       "      <td>TYR3</td>\n",
       "      <td>NaN</td>\n",
       "      <td>22833596</td>\n",
       "      <td>NaN</td>\n",
       "      <td>NaN</td>\n",
       "      <td>NaN</td>\n",
       "      <td>[0.0175486114, 0.11098101, 0.0262840185, -0.13...</td>\n",
       "      <td>[-0.062305, 0.12568781, -0.05802277, -0.196643...</td>\n",
       "      <td>0</td>\n",
       "      <td>[0.00455361232, 0.0467909575, 0.0174780544, -0...</td>\n",
       "      <td>[0.00660868, 0.05045704, 0.01901866, -0.046331...</td>\n",
       "      <td>[0.01358168, 0.0411327, 0.02366006, -0.0399544...</td>\n",
       "      <td>[0.00825176, 0.03192493, 0.02427, -0.03241169,...</td>\n",
       "    </tr>\n",
       "    <tr>\n",
       "      <th>40</th>\n",
       "      <td>CIT1</td>\n",
       "      <td>NaN</td>\n",
       "      <td>5961</td>\n",
       "      <td>NaN</td>\n",
       "      <td>NaN</td>\n",
       "      <td>NaN</td>\n",
       "      <td>[0.02968795, 0.12731399, 0.01281689, -0.146728...</td>\n",
       "      <td>[-0.04229089, 0.1120939, -0.00048257, -0.16405...</td>\n",
       "      <td>0</td>\n",
       "      <td>[0.03427913, 0.03503847, 0.0164867, -0.0436689...</td>\n",
       "      <td>[0.0, 0.0, 0.0, 0.0, 0.0, 0.0, 0.0, 0.0, 0.0, ...</td>\n",
       "      <td>[0.03560183, 0.05589934, 0.01099848, -0.022952...</td>\n",
       "      <td>[0.0, 0.0, 0.0, 0.0, 0.0, 0.0, 0.0, 0.0, 0.0, ...</td>\n",
       "    </tr>\n",
       "  </tbody>\n",
       "</table>\n",
       "</div>"
      ],
      "text/plain": [
       "   DiseaseAbbrev             metName       cid    chebi chembl MetGene  \\\n",
       "52            PA                 NaN      6322      NaN    NaN     NaN   \n",
       "28          MSUD            L-Valine      6287  16414.0    NaN     DLD   \n",
       "32            PA                 NaN    439829      NaN    NaN     NaN   \n",
       "6           CPS1         L-Glutamine      5961  18050.0    NaN    CPS1   \n",
       "62           BKT                 NaN      6137      NaN    NaN     NaN   \n",
       "43           HMG                 NaN    107738      NaN    NaN     NaN   \n",
       "25          HCYS        L-Methionine      6137  16643.0    NaN     CBS   \n",
       "18          SCAD    Butyrylcarnitine    439829      NaN    NaN   ACADS   \n",
       "38          CACT                 NaN      6140      NaN    NaN     NaN   \n",
       "24           MMA  Propionylcarnitine    107738  28867.0    NaN    MMAA   \n",
       "37          TYR3                 NaN  22833596      NaN    NaN     NaN   \n",
       "40          CIT1                 NaN      5961      NaN    NaN     NaN   \n",
       "\n",
       "                                                 DVec  \\\n",
       "52  [0.997726262, -0.211966112, 0.329555333, -2.40...   \n",
       "28  [0.03215135, 0.14425296, 0.0082859, -0.1536295...   \n",
       "32  [0.997726262, -0.211966112, 0.329555333, -2.40...   \n",
       "6   [-0.00828421488, 0.163499296, 0.00525511336, -...   \n",
       "62  [-0.06295022, 0.11790282, -0.03769448, -0.1673...   \n",
       "43  [-0.0167686325, 0.241707161, -0.155845612, 0.0...   \n",
       "25  [0.00546227908, 0.123684846, -0.00823141262, -...   \n",
       "18  [0.11330748, 0.16369171, -0.02563963, -0.13694...   \n",
       "38  [0.0313112102, 0.119863659, 0.0472368449, -0.1...   \n",
       "24  [0.0406323224, 0.743928432, -0.169774011, -0.4...   \n",
       "37  [0.0175486114, 0.11098101, 0.0262840185, -0.13...   \n",
       "40  [0.02968795, 0.12731399, 0.01281689, -0.146728...   \n",
       "\n",
       "                                                 CVec  Correlation  \\\n",
       "52  [-0.0166938882, 0.136134878, -0.0216508433, -0...            0   \n",
       "28  [0.0447932296, 0.140804142, 0.0266556181, -0.1...            1   \n",
       "32  [-0.01492804, 0.11784542, -0.0127729, -0.15774...            0   \n",
       "6   [-0.04229089, 0.1120939, -0.00048257, -0.16405...            1   \n",
       "62  [0.02158029, 0.0831786, -0.05406189, -0.171028...            0   \n",
       "43  [-0.00510412, 0.1282246, 0.02975616, -0.168319...            0   \n",
       "25  [0.02158029, 0.0831786, -0.05406189, -0.171028...            1   \n",
       "18  [-0.01492804, 0.11784542, -0.0127729, -0.15774...            1   \n",
       "38  [0.01009831, 0.13669972, 0.04413829, -0.135294...            0   \n",
       "24  [-0.00510412, 0.1282246, 0.02975616, -0.168319...            1   \n",
       "37  [-0.062305, 0.12568781, -0.05802277, -0.196643...            0   \n",
       "40  [-0.04229089, 0.1120939, -0.00048257, -0.16405...            0   \n",
       "\n",
       "                                          dis_HINOvec  \\\n",
       "52  [1.1072729, -0.27654296, 0.25561085, -2.413737...   \n",
       "28  [0.01061395, 0.03882901, 0.00975791, -0.037047...   \n",
       "32  [1.1072729, -0.27654296, 0.25561085, -2.413737...   \n",
       "6   [0.0, 0.0, 0.0, 0.0, 0.0, 0.0, 0.0, 0.0, 0.0, ...   \n",
       "62  [0.00961637, 0.05080085, 0.02324037, -0.040904...   \n",
       "43  [0.0624221712, 0.0975745022, -0.131599113, 0.0...   \n",
       "25  [0.0214955, 0.0428162, 0.02418486, -0.03971911...   \n",
       "18  [0.10702512, 0.11032967, -0.0422197, -0.068437...   \n",
       "38  [0.0, 0.0, 0.0, 0.0, 0.0, 0.0, 0.0, 0.0, 0.0, ...   \n",
       "24  [0.0, 0.0, 0.0, 0.0, 0.0, 0.0, 0.0, 0.0, 0.0, ...   \n",
       "37  [0.00455361232, 0.0467909575, 0.0174780544, -0...   \n",
       "40  [0.03427913, 0.03503847, 0.0164867, -0.0436689...   \n",
       "\n",
       "                                         chem_HINOvec  \\\n",
       "52  [0.00634056935, 0.0369067043, 0.0183985457, -0...   \n",
       "28  [0.0103904633, 0.0445794053, 0.0196699928, -0....   \n",
       "32  [0.02103061, 0.06809001, 0.03241677, -0.061152...   \n",
       "6   [0.0, 0.0, 0.0, 0.0, 0.0, 0.0, 0.0, 0.0, 0.0, ...   \n",
       "62  [0.01819745, 0.05775932, 0.02726264, -0.060259...   \n",
       "43  [0.0161357801, 0.038298618, 0.016508732, -0.03...   \n",
       "25  [0.01819745, 0.05775932, 0.02726264, -0.060259...   \n",
       "18  [0.02103061, 0.06809001, 0.03241677, -0.061152...   \n",
       "38  [0.00879558921, 0.0505895354, 0.0275596697, -0...   \n",
       "24  [0.0161357801, 0.038298618, 0.016508732, -0.03...   \n",
       "37  [0.00660868, 0.05045704, 0.01901866, -0.046331...   \n",
       "40  [0.0, 0.0, 0.0, 0.0, 0.0, 0.0, 0.0, 0.0, 0.0, ...   \n",
       "\n",
       "                                           dis_PROvec  \\\n",
       "52  [1.0172819, -0.41897404, 0.2862702, -2.1424572...   \n",
       "28  [0.0119402353, 0.0360205024, 0.0205472168, -0....   \n",
       "32  [1.0172819, -0.41897404, 0.2862702, -2.1424572...   \n",
       "6   [0.0, 0.0, 0.0, 0.0, 0.0, 0.0, 0.0, 0.0, 0.0, ...   \n",
       "62  [0.01152219, 0.03913221, 0.02425494, -0.045936...   \n",
       "43  [0.13170993, 0.45835462, -0.33259922, 0.491003...   \n",
       "25  [0.01634672, 0.02955634, 0.01747652, -0.031329...   \n",
       "18  [0.14656241, 0.08825016, -0.04374115, -0.10401...   \n",
       "38  [0.0, 0.0, 0.0, 0.0, 0.0, 0.0, 0.0, 0.0, 0.0, ...   \n",
       "24  [0.0, 0.0, 0.0, 0.0, 0.0, 0.0, 0.0, 0.0, 0.0, ...   \n",
       "37  [0.01358168, 0.0411327, 0.02366006, -0.0399544...   \n",
       "40  [0.03560183, 0.05589934, 0.01099848, -0.022952...   \n",
       "\n",
       "                                          chem_PROvec  \n",
       "52  [0.00559254549, 0.0277997069, 0.0273977593, -0...  \n",
       "28  [0.00642648, 0.04142284, 0.01987912, -0.038156...  \n",
       "32  [0.0143094482, 0.0745006204, 0.0242867768, -0....  \n",
       "6   [0.0, 0.0, 0.0, 0.0, 0.0, 0.0, 0.0, 0.0, 0.0, ...  \n",
       "62  [0.01765791, 0.04911795, 0.02775674, -0.048549...  \n",
       "43  [0.0131762, 0.0415750369, 0.0240649115, -0.036...  \n",
       "25  [0.01765791, 0.04911795, 0.02775674, -0.048549...  \n",
       "18  [0.0143094482, 0.0745006204, 0.0242867768, -0....  \n",
       "38  [0.01773384, 0.03808071, 0.0189811, -0.0452998...  \n",
       "24  [0.0131762, 0.0415750369, 0.0240649115, -0.036...  \n",
       "37  [0.00825176, 0.03192493, 0.02427, -0.03241169,...  \n",
       "40  [0.0, 0.0, 0.0, 0.0, 0.0, 0.0, 0.0, 0.0, 0.0, ...  "
      ]
     },
     "execution_count": 185,
     "metadata": {},
     "output_type": "execute_result"
    }
   ],
   "source": [
    "vmh_df.sample(12)"
   ]
  },
  {
   "cell_type": "code",
   "execution_count": 175,
   "metadata": {},
   "outputs": [],
   "source": [
    "# Need to turn all to float and add empty vecs\n",
    "all_vecs = ['CVec', 'DVec', 'dis_HINOvec', 'chem_HINOvec', 'dis_PROvec', 'chem_PROvec']\n",
    "empty_vec = [0] * 200\n",
    "for col in all_vecs:\n",
    "    vmh_df[col] = vmh_df[col].map(lambda x: empty_vec if x is None else x)\n",
    "    vmh_df[col] = vmh_df[col].map(lambda x: [float(i) for i in x])"
   ]
  },
  {
   "cell_type": "code",
   "execution_count": 176,
   "metadata": {},
   "outputs": [],
   "source": [
    "# For Keras, need to turn inputs into numpy arrays instead of pandas df\n",
    "# First create single np array of all vecs... not pretty:\n",
    "Dvecs = pd.DataFrame(vmh_df.DVec.values.tolist(), index= vmh_df.index)\n",
    "Cvecs = pd.DataFrame(vmh_df.CVec.values.tolist(), index= vmh_df.index)\n",
    "all_X = Dvecs.merge(Cvecs, how='outer', left_index=True, right_index=True)\n",
    "\n",
    "# dHINOvecs = pd.DataFrame(vmh_df.dis_HINOvec.values.tolist(), index=vmh_df.index)\n",
    "# cHINOvecs = pd.DataFrame(vmh_df.chem_HINOvec.values.tolist(), index=vmh_df.index)\n",
    "# hinovecs = cHINOvecs.merge(dHINOvecs, how='outer', left_index=True, right_index=True)\n",
    "# all_X = all_X.merge(hinovecs, how='outer', left_index=True, right_index=True)\n",
    "\n",
    "dPROvecs = pd.DataFrame(vmh_df.dis_PROvec.values.tolist(), index=vmh_df.index)\n",
    "cPROvecs = pd.DataFrame(vmh_df.chem_PROvec.values.tolist(), index=vmh_df.index)\n",
    "PROvecs = cPROvecs.merge(dPROvecs, how='outer', left_index=True, right_index=True)\n",
    "all_X = PROvecs.merge(all_X, how='outer', left_index=True, right_index=True)\n",
    "\n",
    "\n",
    "all_X = np.array(all_X)"
   ]
  },
  {
   "cell_type": "code",
   "execution_count": 177,
   "metadata": {},
   "outputs": [],
   "source": [
    "# Now create np array of the y output\n",
    "all_y = np.array(vmh_df.Correlation)"
   ]
  },
  {
   "cell_type": "code",
   "execution_count": 178,
   "metadata": {},
   "outputs": [
    {
     "name": "stdout",
     "output_type": "stream",
     "text": [
      "y shape:  (60,)\n",
      "X shape:  (60, 800)\n"
     ]
    }
   ],
   "source": [
    "print('y shape: ', all_y.shape)\n",
    "print('X shape: ', all_X.shape)"
   ]
  },
  {
   "cell_type": "markdown",
   "metadata": {},
   "source": [
    "### Import Model and Run Opa"
   ]
  },
  {
   "cell_type": "code",
   "execution_count": 179,
   "metadata": {},
   "outputs": [
    {
     "name": "stdout",
     "output_type": "stream",
     "text": [
      "WARNING:tensorflow:No training configuration found in save file: the model was *not* compiled. Compile it manually.\n"
     ]
    }
   ],
   "source": [
    "# Load model (saved in opa-nn notebook)\n",
    "from tensorflow.keras.models import load_model\n",
    "# nn14022019auc921GoPhenCHEdoHI\n",
    "# nn15022019auc937GoPhenCHEdoHIpro\n",
    "# nn14022019auc921GoPhenCHEdoHI\n",
    "# nn15022019auc92GoPhenCHEdoHIpro\n",
    "# nn18022019auc87Go --> 0.619\n",
    "# nn18022019auc87Go --. 0.608\n",
    "# nn18022019auc876Go --> 0.615\n",
    "model = load_model('../opa/nn20022019auc889GOpro.h5')"
   ]
  },
  {
   "cell_type": "code",
   "execution_count": 180,
   "metadata": {},
   "outputs": [],
   "source": [
    "# 2. Compile the model (give it loss func, optimise func and eval metric)\n",
    "model.compile(optimizer=tf.train.AdamOptimizer(), # determines how the model is adapted based on loss func\n",
    "              loss='binary_crossentropy', # measure of accuracy during training\n",
    "              metrics=['accuracy']) # measure for train and testing steps "
   ]
  },
  {
   "cell_type": "code",
   "execution_count": 181,
   "metadata": {},
   "outputs": [
    {
     "name": "stdout",
     "output_type": "stream",
     "text": [
      "60/60 [==============================] - 0s 2ms/step\n",
      "Test accuracy: 0.4666666626930237\n"
     ]
    }
   ],
   "source": [
    "# Accuracy\n",
    "test_loss, test_acc = model.evaluate(all_X, all_y)\n",
    "print('Test accuracy:', test_acc)"
   ]
  },
  {
   "cell_type": "code",
   "execution_count": 182,
   "metadata": {},
   "outputs": [],
   "source": [
    "# Get actual predictions for test set\n",
    "predictions = model.predict(all_X)\n",
    "rounded_predictions = [int(float(round(x[0]))) for x in predictions]"
   ]
  },
  {
   "cell_type": "code",
   "execution_count": 183,
   "metadata": {},
   "outputs": [
    {
     "name": "stdout",
     "output_type": "stream",
     "text": [
      "ROC AUC:  0.5984427141268075\n"
     ]
    }
   ],
   "source": [
    "# ROC AUC\n",
    "print('ROC AUC: ', roc_auc_score(all_y, predictions))"
   ]
  },
  {
   "cell_type": "code",
   "execution_count": null,
   "metadata": {},
   "outputs": [],
   "source": []
  },
  {
   "cell_type": "code",
   "execution_count": null,
   "metadata": {},
   "outputs": [],
   "source": []
  },
  {
   "cell_type": "code",
   "execution_count": null,
   "metadata": {},
   "outputs": [],
   "source": []
  },
  {
   "cell_type": "code",
   "execution_count": null,
   "metadata": {},
   "outputs": [],
   "source": []
  },
  {
   "cell_type": "markdown",
   "metadata": {},
   "source": [
    "### Get assoc genes for diseases (ii) pair them to CTD via semantic matching/omim"
   ]
  },
  {
   "cell_type": "code",
   "execution_count": 580,
   "metadata": {},
   "outputs": [],
   "source": [
    "# # Map the vmh disease abbreviations to our disease list\n",
    "# # import diseases\n",
    "# c_dis = pd.read_csv('../ctd-to-nt/all-diseases-w-genes-ctd-idsnamesgenes.csv')\n",
    "# print('CTD chems: ', c_dis.shape[0])"
   ]
  },
  {
   "cell_type": "code",
   "execution_count": 581,
   "metadata": {},
   "outputs": [],
   "source": [
    "# c_dis.head()"
   ]
  },
  {
   "cell_type": "code",
   "execution_count": 582,
   "metadata": {},
   "outputs": [],
   "source": [
    "# # Match up diseases in two ways, OMIM and semantic similarity (may be ~ no matches...)\n",
    "# # Use a measure of distance to match up disease names from ctd and from VMH \n",
    "# from difflib import SequenceMatcher\n",
    "# import pdb\n",
    "\n",
    "# def similar(a, b):\n",
    "#     return SequenceMatcher(None, a, b).ratio()\n",
    "\n",
    "# def create_map(std_list, flawed_list):\n",
    "#     flawed_list = (n for n in flawed_list)\n",
    "#     team_map = {}\n",
    "#     best_score = {}\n",
    "#     for team in flawed_list:\n",
    "#         scores = [similar(team, std_team) for std_team in std_list]\n",
    "#         highest = max(scores)\n",
    "#         if highest > 0.8:\n",
    "#             index = scores.index(max(scores))\n",
    "#             team_map[team] = std_list[index]\n",
    "#     return team_map"
   ]
  },
  {
   "cell_type": "code",
   "execution_count": 583,
   "metadata": {},
   "outputs": [],
   "source": [
    "## KEEP commented out unless you haven't made this map yet\n",
    "# mapboy = create_map(v_dis.name, c_dis.DiseaseName.unique())\n",
    "\n",
    "# # Here we export the dictionary in a way that's easily imported as dict\n",
    "# import pickle \n",
    "\n",
    "# with open('Uniprot_HINO_map'+ '.pkl', 'wb') as f:\n",
    "#         pickle.dump(mapboy, f, pickle.HIGHEST_PROTOCOL)"
   ]
  },
  {
   "cell_type": "code",
   "execution_count": 584,
   "metadata": {},
   "outputs": [],
   "source": [
    "# ## The commented section above makes a map of vmh dis to ctd dis, importing here (computationally expensive) \n",
    "# def load_obj(name):\n",
    "#     with open(name + '.pkl', 'rb') as f:\n",
    "#         return pickle.load(f)\n",
    "\n",
    "# vdis2cdis = load_obj('vmhdis_to_ctddis')"
   ]
  },
  {
   "cell_type": "code",
   "execution_count": 585,
   "metadata": {},
   "outputs": [],
   "source": [
    "# vdis2cdis"
   ]
  },
  {
   "cell_type": "code",
   "execution_count": 586,
   "metadata": {},
   "outputs": [],
   "source": [
    "# # These are the incorrect mappings I've identified for a 0.8 similarity cutoff\n",
    "# remove = ('Turner Syndrome', 'Werner Syndrome', 'Enterokinase Deficiency', 'Prolidase Deficiency')\n",
    "# vdis2cdis = {key: vdis2cdis[key] for key in vdis2cdis if key not in remove}"
   ]
  },
  {
   "cell_type": "code",
   "execution_count": 587,
   "metadata": {},
   "outputs": [],
   "source": [
    "# sorted(c_dis.DiseaseName.unique())[700:]"
   ]
  },
  {
   "cell_type": "code",
   "execution_count": 588,
   "metadata": {},
   "outputs": [],
   "source": [
    "# sorted(v_dis.name)"
   ]
  },
  {
   "cell_type": "code",
   "execution_count": 589,
   "metadata": {},
   "outputs": [],
   "source": [
    "# API script to get disease-marker pairs from VMH"
   ]
  },
  {
   "cell_type": "code",
   "execution_count": null,
   "metadata": {},
   "outputs": [],
   "source": []
  }
 ],
 "metadata": {
  "kernelspec": {
   "display_name": "Python 3",
   "language": "python",
   "name": "python3"
  },
  "language_info": {
   "codemirror_mode": {
    "name": "ipython",
    "version": 3
   },
   "file_extension": ".py",
   "mimetype": "text/x-python",
   "name": "python",
   "nbconvert_exporter": "python",
   "pygments_lexer": "ipython3",
   "version": "3.6.5"
  }
 },
 "nbformat": 4,
 "nbformat_minor": 2
}
