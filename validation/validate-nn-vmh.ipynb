{
 "cells": [
  {
   "cell_type": "markdown",
   "metadata": {},
   "source": [
    "# Validate NN on VMH unseen database\n",
    "<b>Author</b>: Ian Coleman <br/>\n",
    "<b>Function</b>: Let's take the NN developed in Opa/ and test it out on virtual metabolic human data"
   ]
  },
  {
   "cell_type": "code",
   "execution_count": 107,
   "metadata": {},
   "outputs": [],
   "source": [
    "import tensorflow as tf\n",
    "from tensorflow import keras\n",
    "import numpy as np\n",
    "import matplotlib.pyplot as plt\n",
    "import pandas as pd\n",
    "from random import randint\n",
    "import random\n",
    "from sklearn.model_selection import train_test_split\n",
    "import sklearn\n",
    "from sklearn.metrics.pairwise import cosine_similarity\n",
    "from sklearn.metrics import roc_curve\n",
    "from sklearn.metrics import roc_auc_score\n",
    "from pandas_ml import ConfusionMatrix\n",
    "import json\n",
    "import subprocess\n",
    "import pickle\n",
    "import math\n",
    "import scipy.io\n",
    "import urllib.request\n",
    "\n",
    "\n",
    "#Set random seed\n",
    "np.random.seed(1606)"
   ]
  },
  {
   "cell_type": "markdown",
   "metadata": {},
   "source": [
    "### Import VMH Disease List"
   ]
  },
  {
   "cell_type": "code",
   "execution_count": 109,
   "metadata": {},
   "outputs": [],
   "source": [
    "# Import VMH diseases list\n",
    "v_dis = pd.read_csv('data/recon-store-diseases-1.tsv', sep='\\t')"
   ]
  },
  {
   "cell_type": "code",
   "execution_count": 110,
   "metadata": {},
   "outputs": [
    {
     "data": {
      "text/plain": [
       "(257, 27)"
      ]
     },
     "execution_count": 110,
     "metadata": {},
     "output_type": "execute_result"
    }
   ],
   "source": [
    "v_dis.shape"
   ]
  },
  {
   "cell_type": "code",
   "execution_count": 111,
   "metadata": {},
   "outputs": [
    {
     "data": {
      "text/html": [
       "<div>\n",
       "<style scoped>\n",
       "    .dataframe tbody tr th:only-of-type {\n",
       "        vertical-align: middle;\n",
       "    }\n",
       "\n",
       "    .dataframe tbody tr th {\n",
       "        vertical-align: top;\n",
       "    }\n",
       "\n",
       "    .dataframe thead th {\n",
       "        text-align: right;\n",
       "    }\n",
       "</style>\n",
       "<table border=\"1\" class=\"dataframe\">\n",
       "  <thead>\n",
       "    <tr style=\"text-align: right;\">\n",
       "      <th></th>\n",
       "      <th>abbreviation</th>\n",
       "      <th>name</th>\n",
       "      <th>dtype</th>\n",
       "      <th>subtype</th>\n",
       "      <th>inheritance</th>\n",
       "      <th>organ</th>\n",
       "      <th>omim</th>\n",
       "      <th>prevalence</th>\n",
       "      <th>references</th>\n",
       "      <th>ghr</th>\n",
       "      <th>...</th>\n",
       "      <th>genereviews</th>\n",
       "      <th>clingendosage</th>\n",
       "      <th>igsr1000genoms</th>\n",
       "      <th>gwascataloge</th>\n",
       "      <th>gwascentral</th>\n",
       "      <th>geno2mp</th>\n",
       "      <th>clinvar</th>\n",
       "      <th>lovd</th>\n",
       "      <th>malacard</th>\n",
       "      <th>omim_symptons</th>\n",
       "    </tr>\n",
       "  </thead>\n",
       "  <tbody>\n",
       "    <tr>\n",
       "      <th>135</th>\n",
       "      <td>SIAL</td>\n",
       "      <td>Sialidosis</td>\n",
       "      <td>Inherited metabolic disorder</td>\n",
       "      <td>Carbohydrate disorder</td>\n",
       "      <td>Autosomal recessive</td>\n",
       "      <td>Nervous system, eye, liver, spleen</td>\n",
       "      <td>256550</td>\n",
       "      <td>The overall prevalence of sialidosis is unknow...</td>\n",
       "      <td>PMID: 14517945</td>\n",
       "      <td>sialidosis</td>\n",
       "      <td>...</td>\n",
       "      <td>NaN</td>\n",
       "      <td>NEU1</td>\n",
       "      <td>ENSG00000228691</td>\n",
       "      <td>NEU1</td>\n",
       "      <td>NEU1</td>\n",
       "      <td>NEU1</td>\n",
       "      <td>608272.0</td>\n",
       "      <td>NEU1</td>\n",
       "      <td>neuraminidase_deficiency</td>\n",
       "      <td>256550.0</td>\n",
       "    </tr>\n",
       "    <tr>\n",
       "      <th>195</th>\n",
       "      <td>TSD</td>\n",
       "      <td>Tay-Sachs Disease</td>\n",
       "      <td>Inherited metabolic disorder</td>\n",
       "      <td>Carbohydrate disorder</td>\n",
       "      <td>Autosomal recessive</td>\n",
       "      <td>Nervous system, eye, muscle</td>\n",
       "      <td>272800</td>\n",
       "      <td>Tay-Sachs disease is very rare in the general ...</td>\n",
       "      <td>http://www.ncbi.nlm.nih.gov/bookshelf/br.fcgi?...</td>\n",
       "      <td>tay-sachs-disease</td>\n",
       "      <td>...</td>\n",
       "      <td>NBK1218</td>\n",
       "      <td>HEXA</td>\n",
       "      <td>ENSG00000213614</td>\n",
       "      <td>NaN</td>\n",
       "      <td>HEXA</td>\n",
       "      <td>HEXA</td>\n",
       "      <td>606869.0</td>\n",
       "      <td>HEXA</td>\n",
       "      <td>tay_sachs_disease</td>\n",
       "      <td>272800.0</td>\n",
       "    </tr>\n",
       "  </tbody>\n",
       "</table>\n",
       "<p>2 rows × 27 columns</p>\n",
       "</div>"
      ],
      "text/plain": [
       "    abbreviation               name                         dtype  \\\n",
       "135         SIAL         Sialidosis  Inherited metabolic disorder   \n",
       "195          TSD  Tay-Sachs Disease  Inherited metabolic disorder   \n",
       "\n",
       "                   subtype          inheritance  \\\n",
       "135  Carbohydrate disorder  Autosomal recessive   \n",
       "195  Carbohydrate disorder  Autosomal recessive   \n",
       "\n",
       "                                  organ    omim  \\\n",
       "135  Nervous system, eye, liver, spleen  256550   \n",
       "195         Nervous system, eye, muscle  272800   \n",
       "\n",
       "                                            prevalence  \\\n",
       "135  The overall prevalence of sialidosis is unknow...   \n",
       "195  Tay-Sachs disease is very rare in the general ...   \n",
       "\n",
       "                                            references                ghr  \\\n",
       "135                                     PMID: 14517945         sialidosis   \n",
       "195  http://www.ncbi.nlm.nih.gov/bookshelf/br.fcgi?...  tay-sachs-disease   \n",
       "\n",
       "         ...      genereviews clingendosage   igsr1000genoms gwascataloge  \\\n",
       "135      ...              NaN          NEU1  ENSG00000228691         NEU1   \n",
       "195      ...          NBK1218          HEXA  ENSG00000213614          NaN   \n",
       "\n",
       "    gwascentral  geno2mp   clinvar  lovd                  malacard  \\\n",
       "135        NEU1     NEU1  608272.0  NEU1  neuraminidase_deficiency   \n",
       "195        HEXA     HEXA  606869.0  HEXA         tay_sachs_disease   \n",
       "\n",
       "    omim_symptons  \n",
       "135      256550.0  \n",
       "195      272800.0  \n",
       "\n",
       "[2 rows x 27 columns]"
      ]
     },
     "execution_count": 111,
     "metadata": {},
     "output_type": "execute_result"
    }
   ],
   "source": [
    "v_dis.sample(2)"
   ]
  },
  {
   "cell_type": "code",
   "execution_count": 112,
   "metadata": {},
   "outputs": [],
   "source": [
    "# v_dis = v_dis[['abbreviation', 'name', 'dtype', 'subtype', 'organ', 'omim', 'ghr', 'orphanet',\n",
    "#  'cellLines',\n",
    "#  'clinicaltrials',\n",
    "#  'eurogenetest',\n",
    "#  'geneticalliance',\n",
    "#  'gard',\n",
    "#  'igsr1000genoms',\n",
    "#  'gwascentral',\n",
    "#  'clinvar',\n",
    "#  'malacard',\n",
    "#  'omim_symptons']]"
   ]
  },
  {
   "cell_type": "code",
   "execution_count": 113,
   "metadata": {},
   "outputs": [],
   "source": [
    "v_dis = v_dis[['abbreviation', 'name', 'omim', 'gwascentral']]"
   ]
  },
  {
   "cell_type": "code",
   "execution_count": 114,
   "metadata": {},
   "outputs": [],
   "source": [
    "v_dis = v_dis.drop(v_dis.index[[2]])"
   ]
  },
  {
   "cell_type": "code",
   "execution_count": 115,
   "metadata": {},
   "outputs": [],
   "source": [
    "v_dis['abbreviation'] = v_dis.abbreviation.astype(str)"
   ]
  },
  {
   "cell_type": "markdown",
   "metadata": {},
   "source": [
    "### Get paired chems for these diseases\n",
    "Using the above disease abbreviation, API call for associated chems from VMH"
   ]
  },
  {
   "cell_type": "code",
   "execution_count": 117,
   "metadata": {},
   "outputs": [],
   "source": [
    "import pdb\n",
    "def get_met(abbrev):\n",
    "    \"\"\"\n",
    "    2nd attempt - this time create a line for every metabolite\n",
    "    Given a disease abbreviation from VMH make api call to get assoc metabolite\n",
    "    \"\"\"\n",
    "    url = 'https://www.vmh.life/_api/biomarkers/?disease=' + abbrev\n",
    "    response = urllib.request.urlopen(url).read().strip() # make api call \n",
    "    response = json.loads(response) # turn from byte to dict\n",
    "    metName, value, cid, chebi, chembl = [np.nan] * 5\n",
    "    for metabolite in response['results']:\n",
    "        try:\n",
    "            value = metabolite['value']\n",
    "            cid = metabolite['metabolite']['pubChemId']\n",
    "            chebi = metabolite['metabolite']['cheBlId']\n",
    "            chembl = metabolite['metabolite']['chembl']\n",
    "            metName = metabolite['metabolite']['fullName']\n",
    "        except Exception as e:\n",
    "            print('Exception: ', e)\n",
    "            return [abbrev, metName, value, cid, chebi, chembl]\n",
    "            pass\n",
    "        if value == 'Increased':\n",
    "            return [abbrev, metName, value, cid, chebi, chembl]\n",
    "        else:\n",
    "            return ([np.nan] * 6)"
   ]
  },
  {
   "cell_type": "code",
   "execution_count": 118,
   "metadata": {},
   "outputs": [],
   "source": [
    "vmh_df = pd.DataFrame()\n",
    "vmh_df['column'] = v_dis.abbreviation.apply(get_met)"
   ]
  },
  {
   "cell_type": "code",
   "execution_count": 119,
   "metadata": {},
   "outputs": [],
   "source": [
    "vmh_df = vmh_df[vmh_df.column.map(lambda x: x is not None)]"
   ]
  },
  {
   "cell_type": "code",
   "execution_count": 121,
   "metadata": {},
   "outputs": [],
   "source": [
    "vmh_df[['DiseaseAbbrev', 'metName', 'value', 'cid', 'chebi', 'chembl']] = pd.DataFrame(vmh_df.column.values.tolist(), index= vmh_df.index)\n",
    "del vmh_df['column']\n",
    "del vmh_df['value']"
   ]
  },
  {
   "cell_type": "code",
   "execution_count": 122,
   "metadata": {},
   "outputs": [
    {
     "data": {
      "text/html": [
       "<div>\n",
       "<style scoped>\n",
       "    .dataframe tbody tr th:only-of-type {\n",
       "        vertical-align: middle;\n",
       "    }\n",
       "\n",
       "    .dataframe tbody tr th {\n",
       "        vertical-align: top;\n",
       "    }\n",
       "\n",
       "    .dataframe thead th {\n",
       "        text-align: right;\n",
       "    }\n",
       "</style>\n",
       "<table border=\"1\" class=\"dataframe\">\n",
       "  <thead>\n",
       "    <tr style=\"text-align: right;\">\n",
       "      <th></th>\n",
       "      <th>DiseaseAbbrev</th>\n",
       "      <th>metName</th>\n",
       "      <th>value</th>\n",
       "      <th>cid</th>\n",
       "      <th>chebi</th>\n",
       "      <th>chembl</th>\n",
       "    </tr>\n",
       "  </thead>\n",
       "  <tbody>\n",
       "    <tr>\n",
       "      <th>0</th>\n",
       "      <td>3MGA</td>\n",
       "      <td>3-Hydroxy-Isovaleryl Carnitine</td>\n",
       "      <td>Increased</td>\n",
       "      <td>53915061</td>\n",
       "      <td>73027</td>\n",
       "      <td></td>\n",
       "    </tr>\n",
       "    <tr>\n",
       "      <th>1</th>\n",
       "      <td>ARG</td>\n",
       "      <td>L-Arginine</td>\n",
       "      <td>Increased</td>\n",
       "      <td>6322</td>\n",
       "      <td>16467</td>\n",
       "      <td>CHEMBL1485</td>\n",
       "    </tr>\n",
       "    <tr>\n",
       "      <th>2</th>\n",
       "      <td>ASA</td>\n",
       "      <td>Citrulline</td>\n",
       "      <td>Increased</td>\n",
       "      <td>9750</td>\n",
       "      <td>16349</td>\n",
       "      <td>CHEMBL444814</td>\n",
       "    </tr>\n",
       "    <tr>\n",
       "      <th>3</th>\n",
       "      <td>BTD</td>\n",
       "      <td>Propionylcarnitine</td>\n",
       "      <td>Increased</td>\n",
       "      <td>107738</td>\n",
       "      <td>28867</td>\n",
       "      <td></td>\n",
       "    </tr>\n",
       "    <tr>\n",
       "      <th>4</th>\n",
       "      <td>BKT</td>\n",
       "      <td>Tiglyl Carnitine</td>\n",
       "      <td>Increased</td>\n",
       "      <td>22833596</td>\n",
       "      <td></td>\n",
       "      <td></td>\n",
       "    </tr>\n",
       "  </tbody>\n",
       "</table>\n",
       "</div>"
      ],
      "text/plain": [
       "  DiseaseAbbrev                         metName      value       cid  chebi  \\\n",
       "0          3MGA  3-Hydroxy-Isovaleryl Carnitine  Increased  53915061  73027   \n",
       "1           ARG                      L-Arginine  Increased      6322  16467   \n",
       "2           ASA                      Citrulline  Increased      9750  16349   \n",
       "3           BTD              Propionylcarnitine  Increased    107738  28867   \n",
       "4           BKT                Tiglyl Carnitine  Increased  22833596          \n",
       "\n",
       "         chembl  \n",
       "0                \n",
       "1    CHEMBL1485  \n",
       "2  CHEMBL444814  \n",
       "3                \n",
       "4                "
      ]
     },
     "execution_count": 122,
     "metadata": {},
     "output_type": "execute_result"
    }
   ],
   "source": [
    "vmh_df.reset_index(inplace=True, drop=True)\n",
    "vmh_df.head()"
   ]
  },
  {
   "cell_type": "markdown",
   "metadata": {},
   "source": [
    "### Get dis-gofuncs \n",
    "With the single gene given by VMH\n"
   ]
  },
  {
   "cell_type": "code",
   "execution_count": null,
   "metadata": {},
   "outputs": [],
   "source": [
    "# Export gene name list \n",
    "genes = v_dis.gwascentral\n",
    "np.savetxt(r'v_genes.txt', genes.values, fmt='%s')"
   ]
  },
  {
   "cell_type": "markdown",
   "metadata": {},
   "source": [
    "#### NOTE the next step is MANUAL\n",
    "You need to go to https://www.uniprot.org/uploadlists/ and give it the created v_genes.txt file, ask it to convert\n",
    "Gene Names to uniprot ID. Then download this as UniprotIDs.tab (as uncompressed, mapping table) to this folder"
   ]
  },
  {
   "cell_type": "code",
   "execution_count": null,
   "metadata": {},
   "outputs": [],
   "source": [
    "# Import manually generated file of geneID --> uniprotID\n",
    "df_uni_ids = pd.read_csv('data/UniprotIDs.tab', sep='\\t',usecols=[0,1])\n",
    "df_uni_ids.columns = ['GeneID', 'UniprotID']\n",
    "df_uni_ids['GeneID'] = df_uni_ids.GeneID.astype(str)"
   ]
  },
  {
   "cell_type": "code",
   "execution_count": null,
   "metadata": {},
   "outputs": [],
   "source": [
    "df_uni_ids.sample(3)"
   ]
  },
  {
   "cell_type": "code",
   "execution_count": null,
   "metadata": {},
   "outputs": [],
   "source": [
    "# Let's use this gene-uniprot df as our base, add disease into it via map\n",
    "gen2dis = dict(zip(v_dis.gwascentral, v_dis.omim))\n",
    "df_uni_ids['OMIM'] = df_uni_ids.GeneID.map(lambda x: gen2dis.get(x))"
   ]
  },
  {
   "cell_type": "code",
   "execution_count": null,
   "metadata": {},
   "outputs": [],
   "source": [
    "# Now turn unprot to go func\n",
    "# import goa file (uniprot ID to go_functions)\n",
    "go_funcs = pd.read_csv('../goa_human.gaf', header=None, skiprows=30, sep='\\t')"
   ]
  },
  {
   "cell_type": "code",
   "execution_count": null,
   "metadata": {},
   "outputs": [],
   "source": [
    "# Cut out all cols except uniprot ids and go_funcs, rename these\n",
    "go_funcs = go_funcs.rename(columns={ go_funcs.columns[1]: \"UniprotID\" })\n",
    "go_funcs = go_funcs.rename(columns={ go_funcs.columns[4]: \"gofunc\" })\n",
    "col_list = ['UniprotID', 'gofunc']\n",
    "df_go = go_funcs[col_list]"
   ]
  },
  {
   "cell_type": "code",
   "execution_count": null,
   "metadata": {},
   "outputs": [],
   "source": [
    "df_uni_ids.head()"
   ]
  },
  {
   "cell_type": "code",
   "execution_count": null,
   "metadata": {},
   "outputs": [],
   "source": [
    "# Merge the go functions into our existing chem-uniprotID and dis-uniprotID dfs\n",
    "df_uni_ids = df_uni_ids.merge(df_go, on='UniprotID', how='outer').dropna()"
   ]
  },
  {
   "cell_type": "code",
   "execution_count": null,
   "metadata": {},
   "outputs": [],
   "source": [
    "df_uni_ids.head()"
   ]
  },
  {
   "cell_type": "code",
   "execution_count": null,
   "metadata": {},
   "outputs": [],
   "source": [
    "# Create a col with the full go url\n",
    "df_uni_ids['go_url'] = '<' + 'http://purl.obolibrary.org/obo/' + df_uni_ids.gofunc.str.replace(':', '_')  + '>'"
   ]
  },
  {
   "cell_type": "code",
   "execution_count": null,
   "metadata": {},
   "outputs": [],
   "source": [
    "# Grab just the columns we want to output (diseaseID and go_url/ chemicalID and go_url)\n",
    "col_list_d = ['OMIM', 'go_url']\n",
    "df_d = df_uni_ids[col_list_d]"
   ]
  },
  {
   "cell_type": "code",
   "execution_count": null,
   "metadata": {},
   "outputs": [],
   "source": [
    "# Output an association file for each of chem and dis\n",
    "np.savetxt(r'associations_c.txt', df_c.values, fmt='%s')\n",
    "np.savetxt(r'associations_d.txt', df_d.values, fmt='%s')"
   ]
  },
  {
   "cell_type": "code",
   "execution_count": null,
   "metadata": {},
   "outputs": [],
   "source": [
    "# Merge these two into one single file\n",
    "subprocess.call('cat associations_c.txt > myassociations', shell=True)\n",
    "subprocess.call('cat associations_d.txt >> myassociations', shell=True)"
   ]
  },
  {
   "cell_type": "code",
   "execution_count": null,
   "metadata": {},
   "outputs": [],
   "source": [
    "# Create entities.lst to inform opa2vec which entities we want vectors for\n",
    "entities = df_d.DiseaseID.unique().tolist() + df_c.ChemicalID.unique().tolist()\n",
    "np.savetxt(r'entities.lst', entities, fmt='%s')"
   ]
  },
  {
   "cell_type": "code",
   "execution_count": null,
   "metadata": {},
   "outputs": [],
   "source": [
    "# Actually we have to make these into vectors at the same time as the opa-nn vecs so\n",
    "# 1. get chem-gofuncs\n",
    "# 2. integrate both into vec creation along with opa-nn vecs"
   ]
  },
  {
   "cell_type": "markdown",
   "metadata": {},
   "source": [
    "### Get chem-gofuncs"
   ]
  },
  {
   "cell_type": "code",
   "execution_count": null,
   "metadata": {},
   "outputs": [],
   "source": [
    "# Does VMH give us chem-gene?\n",
    "# - with current data\n",
    "# - with other api call\n",
    "# ELSE are these chems in CTD\n",
    "# ELSE are these chems in DisGeNet"
   ]
  },
  {
   "cell_type": "code",
   "execution_count": null,
   "metadata": {},
   "outputs": [],
   "source": []
  },
  {
   "cell_type": "code",
   "execution_count": null,
   "metadata": {},
   "outputs": [],
   "source": []
  },
  {
   "cell_type": "code",
   "execution_count": null,
   "metadata": {},
   "outputs": [],
   "source": []
  },
  {
   "cell_type": "code",
   "execution_count": null,
   "metadata": {},
   "outputs": [],
   "source": []
  },
  {
   "cell_type": "code",
   "execution_count": null,
   "metadata": {},
   "outputs": [],
   "source": []
  },
  {
   "cell_type": "code",
   "execution_count": null,
   "metadata": {},
   "outputs": [],
   "source": []
  },
  {
   "cell_type": "markdown",
   "metadata": {},
   "source": [
    "### Get assoc genes for diseases (ii) pair them to CTD via semantic matching/omim"
   ]
  },
  {
   "cell_type": "code",
   "execution_count": null,
   "metadata": {},
   "outputs": [],
   "source": [
    "# # Map the vmh disease abbreviations to our disease list\n",
    "# # import diseases\n",
    "# c_dis = pd.read_csv('../ctd-to-nt/all-diseases-w-genes-ctd-idsnamesgenes.csv')\n",
    "# print('CTD chems: ', c_dis.shape[0])"
   ]
  },
  {
   "cell_type": "code",
   "execution_count": null,
   "metadata": {},
   "outputs": [],
   "source": [
    "# c_dis.head()"
   ]
  },
  {
   "cell_type": "code",
   "execution_count": null,
   "metadata": {},
   "outputs": [],
   "source": [
    "# # Match up diseases in two ways, OMIM and semantic similarity (may be ~ no matches...)\n",
    "# # Use a measure of distance to match up disease names from ctd and from VMH \n",
    "# from difflib import SequenceMatcher\n",
    "# import pdb\n",
    "\n",
    "# def similar(a, b):\n",
    "#     return SequenceMatcher(None, a, b).ratio()\n",
    "\n",
    "# def create_map(std_list, flawed_list):\n",
    "#     flawed_list = (n for n in flawed_list)\n",
    "#     team_map = {}\n",
    "#     best_score = {}\n",
    "#     for team in flawed_list:\n",
    "#         scores = [similar(team, std_team) for std_team in std_list]\n",
    "#         highest = max(scores)\n",
    "#         if highest > 0.8:\n",
    "#             index = scores.index(max(scores))\n",
    "#             team_map[team] = std_list[index]\n",
    "#     return team_map"
   ]
  },
  {
   "cell_type": "code",
   "execution_count": null,
   "metadata": {},
   "outputs": [],
   "source": [
    "## KEEP commented out unless you haven't made this map yet\n",
    "# mapboy = create_map(v_dis.name, c_dis.DiseaseName.unique())\n",
    "\n",
    "# # Here we export the dictionary in a way that's easily imported as dict\n",
    "# import pickle \n",
    "\n",
    "# with open('Uniprot_HINO_map'+ '.pkl', 'wb') as f:\n",
    "#         pickle.dump(mapboy, f, pickle.HIGHEST_PROTOCOL)"
   ]
  },
  {
   "cell_type": "code",
   "execution_count": null,
   "metadata": {},
   "outputs": [],
   "source": [
    "# ## The commented section above makes a map of vmh dis to ctd dis, importing here (computationally expensive) \n",
    "# def load_obj(name):\n",
    "#     with open(name + '.pkl', 'rb') as f:\n",
    "#         return pickle.load(f)\n",
    "\n",
    "# vdis2cdis = load_obj('vmhdis_to_ctddis')"
   ]
  },
  {
   "cell_type": "code",
   "execution_count": null,
   "metadata": {},
   "outputs": [],
   "source": [
    "# vdis2cdis"
   ]
  },
  {
   "cell_type": "code",
   "execution_count": null,
   "metadata": {},
   "outputs": [],
   "source": [
    "# # These are the incorrect mappings I've identified for a 0.8 similarity cutoff\n",
    "# remove = ('Turner Syndrome', 'Werner Syndrome', 'Enterokinase Deficiency', 'Prolidase Deficiency')\n",
    "# vdis2cdis = {key: vdis2cdis[key] for key in vdis2cdis if key not in remove}"
   ]
  },
  {
   "cell_type": "code",
   "execution_count": null,
   "metadata": {},
   "outputs": [],
   "source": [
    "# sorted(c_dis.DiseaseName.unique())[700:]"
   ]
  },
  {
   "cell_type": "code",
   "execution_count": null,
   "metadata": {},
   "outputs": [],
   "source": [
    "# sorted(v_dis.name)"
   ]
  },
  {
   "cell_type": "code",
   "execution_count": null,
   "metadata": {},
   "outputs": [],
   "source": [
    "# API script to get disease-marker pairs from VMH"
   ]
  },
  {
   "cell_type": "code",
   "execution_count": null,
   "metadata": {},
   "outputs": [],
   "source": []
  }
 ],
 "metadata": {
  "kernelspec": {
   "display_name": "Python 3",
   "language": "python",
   "name": "python3"
  },
  "language_info": {
   "codemirror_mode": {
    "name": "ipython",
    "version": 3
   },
   "file_extension": ".py",
   "mimetype": "text/x-python",
   "name": "python",
   "nbconvert_exporter": "python",
   "pygments_lexer": "ipython3",
   "version": "3.6.5"
  }
 },
 "nbformat": 4,
 "nbformat_minor": 2
}
