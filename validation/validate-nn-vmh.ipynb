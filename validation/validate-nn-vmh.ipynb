{
 "cells": [
  {
   "cell_type": "markdown",
   "metadata": {},
   "source": [
    "# Validate NN on VMH unseen database\n",
    "<b>Author</b>: Ian Coleman <br/>\n",
    "<b>Function</b>: Let's take the NN developed in Opa/ and test it out on virtual metabolic human data"
   ]
  },
  {
   "cell_type": "code",
   "execution_count": 51,
   "metadata": {},
   "outputs": [],
   "source": [
    "import tensorflow as tf\n",
    "from tensorflow import keras\n",
    "import numpy as np\n",
    "import matplotlib.pyplot as plt\n",
    "import pandas as pd\n",
    "from random import randint\n",
    "import random\n",
    "from sklearn.model_selection import train_test_split\n",
    "import sklearn\n",
    "from sklearn.metrics.pairwise import cosine_similarity\n",
    "from sklearn.metrics import roc_curve\n",
    "from sklearn.metrics import roc_auc_score\n",
    "from pandas_ml import ConfusionMatrix\n",
    "import json\n",
    "import subprocess\n",
    "import pickle\n",
    "import math\n",
    "import scipy.io\n",
    "import urllib.request\n",
    "\n",
    "\n",
    "#Set random seed\n",
    "np.random.seed(1606)"
   ]
  },
  {
   "cell_type": "code",
   "execution_count": 52,
   "metadata": {},
   "outputs": [],
   "source": [
    "# # Import VMH\n",
    "# vmh = scipy.io.loadmat('data/Recon3D_301/Recon3D_301.mat')"
   ]
  },
  {
   "cell_type": "markdown",
   "metadata": {},
   "source": [
    "### Import VMH Disease List"
   ]
  },
  {
   "cell_type": "code",
   "execution_count": 172,
   "metadata": {},
   "outputs": [],
   "source": [
    "# Import VMH diseases list\n",
    "v_dis = pd.read_csv('data/recon-store-diseases-1.tsv', sep='\\t')"
   ]
  },
  {
   "cell_type": "code",
   "execution_count": 173,
   "metadata": {},
   "outputs": [
    {
     "data": {
      "text/plain": [
       "(257, 27)"
      ]
     },
     "execution_count": 173,
     "metadata": {},
     "output_type": "execute_result"
    }
   ],
   "source": [
    "v_dis.shape"
   ]
  },
  {
   "cell_type": "code",
   "execution_count": 174,
   "metadata": {},
   "outputs": [
    {
     "data": {
      "text/html": [
       "<div>\n",
       "<style scoped>\n",
       "    .dataframe tbody tr th:only-of-type {\n",
       "        vertical-align: middle;\n",
       "    }\n",
       "\n",
       "    .dataframe tbody tr th {\n",
       "        vertical-align: top;\n",
       "    }\n",
       "\n",
       "    .dataframe thead th {\n",
       "        text-align: right;\n",
       "    }\n",
       "</style>\n",
       "<table border=\"1\" class=\"dataframe\">\n",
       "  <thead>\n",
       "    <tr style=\"text-align: right;\">\n",
       "      <th></th>\n",
       "      <th>abbreviation</th>\n",
       "      <th>name</th>\n",
       "      <th>dtype</th>\n",
       "      <th>subtype</th>\n",
       "      <th>inheritance</th>\n",
       "      <th>organ</th>\n",
       "      <th>omim</th>\n",
       "      <th>prevalence</th>\n",
       "      <th>references</th>\n",
       "      <th>ghr</th>\n",
       "      <th>...</th>\n",
       "      <th>genereviews</th>\n",
       "      <th>clingendosage</th>\n",
       "      <th>igsr1000genoms</th>\n",
       "      <th>gwascataloge</th>\n",
       "      <th>gwascentral</th>\n",
       "      <th>geno2mp</th>\n",
       "      <th>clinvar</th>\n",
       "      <th>lovd</th>\n",
       "      <th>malacard</th>\n",
       "      <th>omim_symptons</th>\n",
       "    </tr>\n",
       "  </thead>\n",
       "  <tbody>\n",
       "    <tr>\n",
       "      <th>53</th>\n",
       "      <td>DBPD</td>\n",
       "      <td>D-Bifunctional Protein Deficiency</td>\n",
       "      <td>Inherited metabolic disorder</td>\n",
       "      <td>Fatty acid beta oxidation</td>\n",
       "      <td>Autosomal recessive</td>\n",
       "      <td>Nervous system, heart, liver</td>\n",
       "      <td>261515</td>\n",
       "      <td>NaN</td>\n",
       "      <td>NaN</td>\n",
       "      <td>d-bifunctional-protein-deficiency</td>\n",
       "      <td>...</td>\n",
       "      <td>NaN</td>\n",
       "      <td>HSD17B4</td>\n",
       "      <td>ENSG00000133835</td>\n",
       "      <td>HSD17B4</td>\n",
       "      <td>HSD17B4</td>\n",
       "      <td>HSD17B4</td>\n",
       "      <td>601860.0</td>\n",
       "      <td>HSD17B4</td>\n",
       "      <td>d_bifunctional_protein_deficiency</td>\n",
       "      <td>261515.0</td>\n",
       "    </tr>\n",
       "    <tr>\n",
       "      <th>154</th>\n",
       "      <td>IND</td>\n",
       "      <td>Infantile Neuroaxonal Dystrophy</td>\n",
       "      <td>Inherited metabolic disorder</td>\n",
       "      <td>Lipid disorder</td>\n",
       "      <td>Autosomal recessive</td>\n",
       "      <td>Nervous system, muscle</td>\n",
       "      <td>256600</td>\n",
       "      <td>Infantile neuroaxonal dystrophy is a very rare...</td>\n",
       "      <td>http://www.ncbi.nlm.nih.gov/bookshelf/br.fcgi?...</td>\n",
       "      <td>infantile-neuroaxonal-dystrophy</td>\n",
       "      <td>...</td>\n",
       "      <td>NBK1675</td>\n",
       "      <td>PLA2G6</td>\n",
       "      <td>ENSG00000184381</td>\n",
       "      <td>PLA2G6</td>\n",
       "      <td>PLA2G6</td>\n",
       "      <td>PLA2G6</td>\n",
       "      <td>603604.0</td>\n",
       "      <td>PLA2G6</td>\n",
       "      <td>NaN</td>\n",
       "      <td>256600.0</td>\n",
       "    </tr>\n",
       "  </tbody>\n",
       "</table>\n",
       "<p>2 rows × 27 columns</p>\n",
       "</div>"
      ],
      "text/plain": [
       "    abbreviation                               name  \\\n",
       "53          DBPD  D-Bifunctional Protein Deficiency   \n",
       "154          IND    Infantile Neuroaxonal Dystrophy   \n",
       "\n",
       "                            dtype                    subtype  \\\n",
       "53   Inherited metabolic disorder  Fatty acid beta oxidation   \n",
       "154  Inherited metabolic disorder             Lipid disorder   \n",
       "\n",
       "             inheritance                         organ    omim  \\\n",
       "53   Autosomal recessive  Nervous system, heart, liver  261515   \n",
       "154  Autosomal recessive        Nervous system, muscle  256600   \n",
       "\n",
       "                                            prevalence  \\\n",
       "53                                                 NaN   \n",
       "154  Infantile neuroaxonal dystrophy is a very rare...   \n",
       "\n",
       "                                            references  \\\n",
       "53                                                 NaN   \n",
       "154  http://www.ncbi.nlm.nih.gov/bookshelf/br.fcgi?...   \n",
       "\n",
       "                                   ghr      ...      genereviews  \\\n",
       "53   d-bifunctional-protein-deficiency      ...              NaN   \n",
       "154    infantile-neuroaxonal-dystrophy      ...          NBK1675   \n",
       "\n",
       "    clingendosage   igsr1000genoms gwascataloge gwascentral  geno2mp  \\\n",
       "53        HSD17B4  ENSG00000133835      HSD17B4     HSD17B4  HSD17B4   \n",
       "154        PLA2G6  ENSG00000184381       PLA2G6      PLA2G6   PLA2G6   \n",
       "\n",
       "      clinvar     lovd                           malacard omim_symptons  \n",
       "53   601860.0  HSD17B4  d_bifunctional_protein_deficiency      261515.0  \n",
       "154  603604.0   PLA2G6                                NaN      256600.0  \n",
       "\n",
       "[2 rows x 27 columns]"
      ]
     },
     "execution_count": 174,
     "metadata": {},
     "output_type": "execute_result"
    }
   ],
   "source": [
    "v_dis.sample(2)"
   ]
  },
  {
   "cell_type": "code",
   "execution_count": 56,
   "metadata": {},
   "outputs": [],
   "source": [
    "# v_dis = v_dis[['abbreviation', 'name', 'dtype', 'subtype', 'organ', 'omim', 'ghr', 'orphanet',\n",
    "#  'cellLines',\n",
    "#  'clinicaltrials',\n",
    "#  'eurogenetest',\n",
    "#  'geneticalliance',\n",
    "#  'gard',\n",
    "#  'igsr1000genoms',\n",
    "#  'gwascentral',\n",
    "#  'clinvar',\n",
    "#  'malacard',\n",
    "#  'omim_symptons']]"
   ]
  },
  {
   "cell_type": "code",
   "execution_count": 138,
   "metadata": {},
   "outputs": [],
   "source": [
    "v_dis = v_dis[['abbreviation', 'name', 'omim', 'gwascentral']]"
   ]
  },
  {
   "cell_type": "code",
   "execution_count": 144,
   "metadata": {},
   "outputs": [],
   "source": [
    "v_dis = v_dis.drop(v_dis.index[[2]])"
   ]
  },
  {
   "cell_type": "code",
   "execution_count": 151,
   "metadata": {},
   "outputs": [],
   "source": [
    "v_dis['abbreviation'] = v_dis.abbreviation.astype(str)"
   ]
  },
  {
   "cell_type": "markdown",
   "metadata": {},
   "source": [
    "### Get paired chems for these diseases\n",
    "Using the above disease abbreviation, API call for associated chems from VMH"
   ]
  },
  {
   "cell_type": "code",
   "execution_count": 38,
   "metadata": {},
   "outputs": [
    {
     "ename": "SyntaxError",
     "evalue": "invalid syntax (<ipython-input-38-21fb384a9406>, line 1)",
     "output_type": "error",
     "traceback": [
      "\u001b[0;36m  File \u001b[0;32m\"<ipython-input-38-21fb384a9406>\"\u001b[0;36m, line \u001b[0;32m1\u001b[0m\n\u001b[0;31m    curl 'https://www.vmh.life/_api/biomarkers/?disease=3MGA'\u001b[0m\n\u001b[0m                                                            ^\u001b[0m\n\u001b[0;31mSyntaxError\u001b[0m\u001b[0;31m:\u001b[0m invalid syntax\n"
     ]
    }
   ],
   "source": [
    "def get_input_IDs (file_path):\n",
    "    \"\"\"\n",
    "    Input: Txt file path, one ID on each line\n",
    "    Output: \n",
    "    \"\"\"\n",
    "    with open (file_path, 'r') as file_object:\n",
    "        lines = file_object.readlines()\n",
    "        lines = [i.strip() for i in lines] # strip \n",
    "        return(lines)\n",
    "\n",
    "def create_map_ctd_cid (ctd_ids):\n",
    "    \"\"\"\n",
    "    Input: LIST ctd_ids\n",
    "    Output: DICT ctd ids as keys and cid ids as values\n",
    "    \"\"\"\n",
    "    map_ctd_cid = {}\n",
    "    for item in ctd_ids:\n",
    "        url = \"http://pubchem.ncbi.nlm.nih.gov/rest/pug/substance/sourceid/Comparative%20Toxicogenomics%20Database/\" + item + \"/cids/TXT/\"\n",
    "        try:\n",
    "            map_ctd_cid[item] = urllib.request.urlopen(url).read().strip()\n",
    "        except Exception:\n",
    "            print('Exception caught: ', Exception)\n",
    "            continue  # or you could use 'continue'\n",
    "    return map_ctd_cid\n",
    "        \n",
    "def save_obj(obj, name):\n",
    "    with open('./'+ name + '.pkl', 'wb') as f:\n",
    "        pickle.dump(obj, f, pickle.HIGHEST_PROTOCOL)\n",
    "\n",
    "if __name__ == \"__main__\":\n",
    "    input_IDs = get_input_IDs(argv[1])\n",
    "    mapper = create_map_ctd_cid(input_IDs)\n",
    "    save_obj(mapper, 'ctd_cid_map')\n",
    "    print(map_ctd_cid)\n",
    "\n"
   ]
  },
  {
   "cell_type": "code",
   "execution_count": 149,
   "metadata": {},
   "outputs": [],
   "source": [
    "import pdb\n",
    "def get_met(abbrev):\n",
    "    \"\"\"\n",
    "    Given a disease abbreviation from VMH make api call to get assoc metabolite\n",
    "    \"\"\"\n",
    "    url = 'https://www.vmh.life/_api/biomarkers/?disease=' + abbrev\n",
    "    response = urllib.request.urlopen(url).read().strip() # make api call \n",
    "    response = json.loads(response) # turn from byte to dict\n",
    "    metName, value, cid, chebi, chembl = [np.nan] * 5\n",
    "    try:\n",
    "        value = response['results'][0]['value']\n",
    "        metName = response['results'][0]['metabolite']['fullName']\n",
    "        cid = response['results'][0]['metabolite']['pubChemId']\n",
    "        chebi = response['results'][0]['metabolite']['cheBlId']\n",
    "        chembl = response['results'][0]['metabolite']['chembl']\n",
    "    except IndexError:\n",
    "        pass\n",
    "    return [metName, value, cid, chebi, chembl]"
   ]
  },
  {
   "cell_type": "code",
   "execution_count": 150,
   "metadata": {},
   "outputs": [],
   "source": [
    "v_dis['stuff'] = v_dis.abbreviation.map(lambda x: get_met(x))"
   ]
  },
  {
   "cell_type": "code",
   "execution_count": 152,
   "metadata": {},
   "outputs": [],
   "source": [
    "# split the new column into multiple\n",
    "v_dis[['metName', 'value', 'cid', 'chebi', 'chembl']] = pd.DataFrame(v_dis.stuff.values.tolist(), index= v_dis.index)"
   ]
  },
  {
   "cell_type": "code",
   "execution_count": 164,
   "metadata": {},
   "outputs": [
    {
     "data": {
      "text/html": [
       "<div>\n",
       "<style scoped>\n",
       "    .dataframe tbody tr th:only-of-type {\n",
       "        vertical-align: middle;\n",
       "    }\n",
       "\n",
       "    .dataframe tbody tr th {\n",
       "        vertical-align: top;\n",
       "    }\n",
       "\n",
       "    .dataframe thead th {\n",
       "        text-align: right;\n",
       "    }\n",
       "</style>\n",
       "<table border=\"1\" class=\"dataframe\">\n",
       "  <thead>\n",
       "    <tr style=\"text-align: right;\">\n",
       "      <th></th>\n",
       "      <th>abbreviation</th>\n",
       "      <th>name</th>\n",
       "      <th>omim</th>\n",
       "      <th>gwascentral</th>\n",
       "      <th>stuff</th>\n",
       "      <th>metName</th>\n",
       "      <th>value</th>\n",
       "      <th>cid</th>\n",
       "      <th>chebi</th>\n",
       "      <th>chembl</th>\n",
       "    </tr>\n",
       "  </thead>\n",
       "  <tbody>\n",
       "    <tr>\n",
       "      <th>121</th>\n",
       "      <td>IVA</td>\n",
       "      <td>Isovaleric Acidemia</td>\n",
       "      <td>243500</td>\n",
       "      <td>IVD</td>\n",
       "      <td>[Isovaleryl Carnitine, Increased, 6426851, 730...</td>\n",
       "      <td>Isovaleryl Carnitine</td>\n",
       "      <td>Increased</td>\n",
       "      <td>6426851</td>\n",
       "      <td>73025</td>\n",
       "      <td></td>\n",
       "    </tr>\n",
       "    <tr>\n",
       "      <th>46</th>\n",
       "      <td>CPT2</td>\n",
       "      <td>Carnitine Palmitoyltransferase 2 Deficiency</td>\n",
       "      <td>608836, 600649</td>\n",
       "      <td>CPT2</td>\n",
       "      <td>[Tetradecenoylcarnitine, Increased, 53477791, ...</td>\n",
       "      <td>Tetradecenoylcarnitine</td>\n",
       "      <td>Increased</td>\n",
       "      <td>53477791</td>\n",
       "      <td>84634</td>\n",
       "      <td></td>\n",
       "    </tr>\n",
       "    <tr>\n",
       "      <th>203</th>\n",
       "      <td>TYR1</td>\n",
       "      <td>Tyrosinemia Type I</td>\n",
       "      <td>276700</td>\n",
       "      <td>FAH</td>\n",
       "      <td>[L-Tyrosine, Increased, 6057, 17895, CHEMBL925]</td>\n",
       "      <td>L-Tyrosine</td>\n",
       "      <td>Increased</td>\n",
       "      <td>6057</td>\n",
       "      <td>17895</td>\n",
       "      <td>CHEMBL925</td>\n",
       "    </tr>\n",
       "    <tr>\n",
       "      <th>125</th>\n",
       "      <td>TFPD</td>\n",
       "      <td>Trifunctional Protein Deficiency</td>\n",
       "      <td>609016</td>\n",
       "      <td>HADHA</td>\n",
       "      <td>[Lauroyl Carnitine, Increased, 168381, 77086, ]</td>\n",
       "      <td>Lauroyl Carnitine</td>\n",
       "      <td>Increased</td>\n",
       "      <td>168381</td>\n",
       "      <td>77086</td>\n",
       "      <td></td>\n",
       "    </tr>\n",
       "    <tr>\n",
       "      <th>155</th>\n",
       "      <td>CIT2</td>\n",
       "      <td>Type II Citrullinemia</td>\n",
       "      <td>603471</td>\n",
       "      <td>SLC25A13</td>\n",
       "      <td>[Citrulline, Increased, 9750, 16349, CHEMBL444...</td>\n",
       "      <td>Citrulline</td>\n",
       "      <td>Increased</td>\n",
       "      <td>9750</td>\n",
       "      <td>16349</td>\n",
       "      <td>CHEMBL444814</td>\n",
       "    </tr>\n",
       "    <tr>\n",
       "      <th>161</th>\n",
       "      <td>OTC</td>\n",
       "      <td>Ornithine Transcarbamylase Deficiency</td>\n",
       "      <td>311250</td>\n",
       "      <td>OTC</td>\n",
       "      <td>[Citrulline, Decreased, 9750, 16349, CHEMBL444...</td>\n",
       "      <td>Citrulline</td>\n",
       "      <td>Decreased</td>\n",
       "      <td>9750</td>\n",
       "      <td>16349</td>\n",
       "      <td>CHEMBL444814</td>\n",
       "    </tr>\n",
       "    <tr>\n",
       "      <th>106</th>\n",
       "      <td>HMG</td>\n",
       "      <td>HMG-Coenzyme A Lyase Deficiency</td>\n",
       "      <td>246450</td>\n",
       "      <td>HMGCL</td>\n",
       "      <td>[3-Hydroxy-Isovaleryl Carnitine, Increased, 53...</td>\n",
       "      <td>3-Hydroxy-Isovaleryl Carnitine</td>\n",
       "      <td>Increased</td>\n",
       "      <td>53915061</td>\n",
       "      <td>73027</td>\n",
       "      <td></td>\n",
       "    </tr>\n",
       "  </tbody>\n",
       "</table>\n",
       "</div>"
      ],
      "text/plain": [
       "    abbreviation                                         name            omim  \\\n",
       "121          IVA                          Isovaleric Acidemia          243500   \n",
       "46          CPT2  Carnitine Palmitoyltransferase 2 Deficiency  608836, 600649   \n",
       "203         TYR1                           Tyrosinemia Type I          276700   \n",
       "125         TFPD             Trifunctional Protein Deficiency          609016   \n",
       "155         CIT2                        Type II Citrullinemia          603471   \n",
       "161          OTC        Ornithine Transcarbamylase Deficiency          311250   \n",
       "106          HMG              HMG-Coenzyme A Lyase Deficiency          246450   \n",
       "\n",
       "    gwascentral                                              stuff  \\\n",
       "121         IVD  [Isovaleryl Carnitine, Increased, 6426851, 730...   \n",
       "46         CPT2  [Tetradecenoylcarnitine, Increased, 53477791, ...   \n",
       "203         FAH    [L-Tyrosine, Increased, 6057, 17895, CHEMBL925]   \n",
       "125       HADHA    [Lauroyl Carnitine, Increased, 168381, 77086, ]   \n",
       "155    SLC25A13  [Citrulline, Increased, 9750, 16349, CHEMBL444...   \n",
       "161         OTC  [Citrulline, Decreased, 9750, 16349, CHEMBL444...   \n",
       "106       HMGCL  [3-Hydroxy-Isovaleryl Carnitine, Increased, 53...   \n",
       "\n",
       "                            metName      value       cid  chebi        chembl  \n",
       "121            Isovaleryl Carnitine  Increased   6426851  73025                \n",
       "46           Tetradecenoylcarnitine  Increased  53477791  84634                \n",
       "203                      L-Tyrosine  Increased      6057  17895     CHEMBL925  \n",
       "125               Lauroyl Carnitine  Increased    168381  77086                \n",
       "155                      Citrulline  Increased      9750  16349  CHEMBL444814  \n",
       "161                      Citrulline  Decreased      9750  16349  CHEMBL444814  \n",
       "106  3-Hydroxy-Isovaleryl Carnitine  Increased  53915061  73027                "
      ]
     },
     "execution_count": 164,
     "metadata": {},
     "output_type": "execute_result"
    }
   ],
   "source": [
    "v_dis.sample(7)"
   ]
  },
  {
   "cell_type": "code",
   "execution_count": 154,
   "metadata": {},
   "outputs": [
    {
     "data": {
      "text/plain": [
       "(256, 10)"
      ]
     },
     "execution_count": 154,
     "metadata": {},
     "output_type": "execute_result"
    }
   ],
   "source": [
    "v_dis.shape"
   ]
  },
  {
   "cell_type": "code",
   "execution_count": 161,
   "metadata": {},
   "outputs": [
    {
     "name": "stdout",
     "output_type": "stream",
     "text": [
      "(34, 10)\n"
     ]
    }
   ],
   "source": [
    "# Exclude those without a chemical associated\n",
    "v_dis = v_dis.dropna()\n",
    "print(v_dis.shape)"
   ]
  },
  {
   "cell_type": "code",
   "execution_count": 167,
   "metadata": {},
   "outputs": [
    {
     "data": {
      "text/plain": [
       "(29, 10)"
      ]
     },
     "execution_count": 167,
     "metadata": {},
     "output_type": "execute_result"
    }
   ],
   "source": [
    "# Exclude those with negative chem association - we only have a model for positive\n",
    "v_dis = v_dis[v_dis.value == 'Increased']"
   ]
  },
  {
   "cell_type": "code",
   "execution_count": 122,
   "metadata": {},
   "outputs": [],
   "source": [
    "# # Exploring api\n",
    "# url = 'https://www.vmh.life/_api/biomarkers/?disease=GD'\n",
    "# response = urllib.request.urlopen(url).read().strip()\n",
    "# json.loads(response)\n",
    "# response['results'][0]['metabolite']['fullName']"
   ]
  },
  {
   "cell_type": "markdown",
   "metadata": {},
   "source": [
    "### Get assoc genes for diseases (i) via given gene assoc in VMH\n"
   ]
  },
  {
   "cell_type": "code",
   "execution_count": 176,
   "metadata": {},
   "outputs": [],
   "source": [
    "# Export gene name list \n",
    "genes = v_dis.gwascentral\n",
    "np.savetxt(r'v_genes.txt', genes.values, fmt='%s')"
   ]
  },
  {
   "cell_type": "markdown",
   "metadata": {},
   "source": [
    "### NOTE the next step is MANUAL\n",
    "You need to go to https://www.uniprot.org/uploadlists/ and give it the created v_genes.txt file, ask it to convert\n",
    "Gene Names to uniprot ID. Then download this as UniprotIDs.tab (as uncompressed, mapping table) to this folder"
   ]
  },
  {
   "cell_type": "code",
   "execution_count": 179,
   "metadata": {},
   "outputs": [],
   "source": [
    "# Import manually generated file of geneID --> uniprotID\n",
    "df_uni_ids = pd.read_csv('data/UniprotIDs.tab', sep='\\t',usecols=[0,1])\n",
    "df_uni_ids.columns = ['GeneID', 'UniprotID']\n",
    "df_uni_ids['GeneID'] = df_uni_ids.GeneID.astype(str)"
   ]
  },
  {
   "cell_type": "code",
   "execution_count": 193,
   "metadata": {},
   "outputs": [
    {
     "data": {
      "text/html": [
       "<div>\n",
       "<style scoped>\n",
       "    .dataframe tbody tr th:only-of-type {\n",
       "        vertical-align: middle;\n",
       "    }\n",
       "\n",
       "    .dataframe tbody tr th {\n",
       "        vertical-align: top;\n",
       "    }\n",
       "\n",
       "    .dataframe thead th {\n",
       "        text-align: right;\n",
       "    }\n",
       "</style>\n",
       "<table border=\"1\" class=\"dataframe\">\n",
       "  <thead>\n",
       "    <tr style=\"text-align: right;\">\n",
       "      <th></th>\n",
       "      <th>GeneID</th>\n",
       "      <th>UniprotID</th>\n",
       "      <th>OMIM</th>\n",
       "    </tr>\n",
       "  </thead>\n",
       "  <tbody>\n",
       "    <tr>\n",
       "      <th>1506</th>\n",
       "      <td>ATP6V1B1</td>\n",
       "      <td>C9JNS9</td>\n",
       "      <td>267300</td>\n",
       "    </tr>\n",
       "    <tr>\n",
       "      <th>837</th>\n",
       "      <td>GSS</td>\n",
       "      <td>A0A2R8YF34</td>\n",
       "      <td>231900</td>\n",
       "    </tr>\n",
       "    <tr>\n",
       "      <th>792</th>\n",
       "      <td>ALDOA</td>\n",
       "      <td>H3BUK5</td>\n",
       "      <td>611881</td>\n",
       "    </tr>\n",
       "  </tbody>\n",
       "</table>\n",
       "</div>"
      ],
      "text/plain": [
       "        GeneID   UniprotID    OMIM\n",
       "1506  ATP6V1B1      C9JNS9  267300\n",
       "837        GSS  A0A2R8YF34  231900\n",
       "792      ALDOA      H3BUK5  611881"
      ]
     },
     "execution_count": 193,
     "metadata": {},
     "output_type": "execute_result"
    }
   ],
   "source": [
    "df_uni_ids.sample(3)"
   ]
  },
  {
   "cell_type": "code",
   "execution_count": 192,
   "metadata": {},
   "outputs": [],
   "source": [
    "# Let's use this gene-uniprot df as our base, add disease into it via map\n",
    "gen2dis = dict(zip(v_dis.gwascentral, v_dis.omim))\n",
    "df_uni_ids['OMIM'] = df_uni_ids.GeneID.map(lambda x: gen2dis.get(x))"
   ]
  },
  {
   "cell_type": "code",
   "execution_count": null,
   "metadata": {},
   "outputs": [],
   "source": [
    "# Now turn unprot to go func\n",
    "# import goa file (uniprot ID to go_functions)\n",
    "go_funcs = pd.read_csv('../goa_human.gaf', header=None, skiprows=30, sep='\\t')"
   ]
  },
  {
   "cell_type": "code",
   "execution_count": 195,
   "metadata": {},
   "outputs": [],
   "source": [
    "# Cut out all cols except uniprot ids and go_funcs, rename these\n",
    "go_funcs = go_funcs.rename(columns={ go_funcs.columns[1]: \"UniprotID\" })\n",
    "go_funcs = go_funcs.rename(columns={ go_funcs.columns[4]: \"gofunc\" })\n",
    "col_list = ['UniprotID', 'gofunc']\n",
    "df_go = go_funcs[col_list]"
   ]
  },
  {
   "cell_type": "code",
   "execution_count": 196,
   "metadata": {},
   "outputs": [
    {
     "data": {
      "text/html": [
       "<div>\n",
       "<style scoped>\n",
       "    .dataframe tbody tr th:only-of-type {\n",
       "        vertical-align: middle;\n",
       "    }\n",
       "\n",
       "    .dataframe tbody tr th {\n",
       "        vertical-align: top;\n",
       "    }\n",
       "\n",
       "    .dataframe thead th {\n",
       "        text-align: right;\n",
       "    }\n",
       "</style>\n",
       "<table border=\"1\" class=\"dataframe\">\n",
       "  <thead>\n",
       "    <tr style=\"text-align: right;\">\n",
       "      <th></th>\n",
       "      <th>GeneID</th>\n",
       "      <th>UniprotID</th>\n",
       "      <th>OMIM</th>\n",
       "    </tr>\n",
       "  </thead>\n",
       "  <tbody>\n",
       "    <tr>\n",
       "      <th>0</th>\n",
       "      <td>SLC12A1</td>\n",
       "      <td>A0A2R8Y6V7</td>\n",
       "      <td>601678</td>\n",
       "    </tr>\n",
       "    <tr>\n",
       "      <th>1</th>\n",
       "      <td>SLC12A1</td>\n",
       "      <td>H0YLJ2</td>\n",
       "      <td>601678</td>\n",
       "    </tr>\n",
       "    <tr>\n",
       "      <th>2</th>\n",
       "      <td>SLC12A1</td>\n",
       "      <td>H0YMG9</td>\n",
       "      <td>601678</td>\n",
       "    </tr>\n",
       "    <tr>\n",
       "      <th>3</th>\n",
       "      <td>SLC12A1</td>\n",
       "      <td>H0YNW0</td>\n",
       "      <td>601678</td>\n",
       "    </tr>\n",
       "    <tr>\n",
       "      <th>4</th>\n",
       "      <td>SLC12A1</td>\n",
       "      <td>L8E9E3</td>\n",
       "      <td>601678</td>\n",
       "    </tr>\n",
       "  </tbody>\n",
       "</table>\n",
       "</div>"
      ],
      "text/plain": [
       "    GeneID   UniprotID    OMIM\n",
       "0  SLC12A1  A0A2R8Y6V7  601678\n",
       "1  SLC12A1      H0YLJ2  601678\n",
       "2  SLC12A1      H0YMG9  601678\n",
       "3  SLC12A1      H0YNW0  601678\n",
       "4  SLC12A1      L8E9E3  601678"
      ]
     },
     "execution_count": 196,
     "metadata": {},
     "output_type": "execute_result"
    }
   ],
   "source": [
    "df_uni_ids.head()"
   ]
  },
  {
   "cell_type": "code",
   "execution_count": 197,
   "metadata": {},
   "outputs": [],
   "source": [
    "# Merge the go functions into our existing chem-uniprotID and dis-uniprotID dfs\n",
    "df_uni_ids = df_uni_ids.merge(df_go, on='UniprotID', how='outer').dropna()"
   ]
  },
  {
   "cell_type": "code",
   "execution_count": 198,
   "metadata": {},
   "outputs": [
    {
     "data": {
      "text/html": [
       "<div>\n",
       "<style scoped>\n",
       "    .dataframe tbody tr th:only-of-type {\n",
       "        vertical-align: middle;\n",
       "    }\n",
       "\n",
       "    .dataframe tbody tr th {\n",
       "        vertical-align: top;\n",
       "    }\n",
       "\n",
       "    .dataframe thead th {\n",
       "        text-align: right;\n",
       "    }\n",
       "</style>\n",
       "<table border=\"1\" class=\"dataframe\">\n",
       "  <thead>\n",
       "    <tr style=\"text-align: right;\">\n",
       "      <th></th>\n",
       "      <th>GeneID</th>\n",
       "      <th>UniprotID</th>\n",
       "      <th>OMIM</th>\n",
       "      <th>gofunc</th>\n",
       "    </tr>\n",
       "  </thead>\n",
       "  <tbody>\n",
       "    <tr>\n",
       "      <th>5</th>\n",
       "      <td>SLC12A1</td>\n",
       "      <td>Q13621</td>\n",
       "      <td>601678</td>\n",
       "      <td>GO:0005886</td>\n",
       "    </tr>\n",
       "    <tr>\n",
       "      <th>6</th>\n",
       "      <td>SLC12A1</td>\n",
       "      <td>Q13621</td>\n",
       "      <td>601678</td>\n",
       "      <td>GO:0006811</td>\n",
       "    </tr>\n",
       "    <tr>\n",
       "      <th>7</th>\n",
       "      <td>SLC12A1</td>\n",
       "      <td>Q13621</td>\n",
       "      <td>601678</td>\n",
       "      <td>GO:0008511</td>\n",
       "    </tr>\n",
       "    <tr>\n",
       "      <th>8</th>\n",
       "      <td>SLC12A1</td>\n",
       "      <td>Q13621</td>\n",
       "      <td>601678</td>\n",
       "      <td>GO:0016020</td>\n",
       "    </tr>\n",
       "    <tr>\n",
       "      <th>9</th>\n",
       "      <td>SLC12A1</td>\n",
       "      <td>Q13621</td>\n",
       "      <td>601678</td>\n",
       "      <td>GO:0016021</td>\n",
       "    </tr>\n",
       "  </tbody>\n",
       "</table>\n",
       "</div>"
      ],
      "text/plain": [
       "    GeneID UniprotID    OMIM      gofunc\n",
       "5  SLC12A1    Q13621  601678  GO:0005886\n",
       "6  SLC12A1    Q13621  601678  GO:0006811\n",
       "7  SLC12A1    Q13621  601678  GO:0008511\n",
       "8  SLC12A1    Q13621  601678  GO:0016020\n",
       "9  SLC12A1    Q13621  601678  GO:0016021"
      ]
     },
     "execution_count": 198,
     "metadata": {},
     "output_type": "execute_result"
    }
   ],
   "source": [
    "df_uni_ids.head()"
   ]
  },
  {
   "cell_type": "code",
   "execution_count": 199,
   "metadata": {},
   "outputs": [],
   "source": [
    "# Create a col with the full go url\n",
    "df_uni_ids['go_url'] = '<' + 'http://purl.obolibrary.org/obo/' + df_uni_ids.gofunc.str.replace(':', '_')  + '>'"
   ]
  },
  {
   "cell_type": "code",
   "execution_count": 202,
   "metadata": {},
   "outputs": [],
   "source": [
    "# Grab just the columns we want to output (diseaseID and go_url/ chemicalID and go_url)\n",
    "col_list_d = ['OMIM', 'go_url']\n",
    "df_d = df_uni_ids[col_list_d]"
   ]
  },
  {
   "cell_type": "code",
   "execution_count": null,
   "metadata": {},
   "outputs": [],
   "source": [
    "# Output an association file for each of chem and dis\n",
    "np.savetxt(r'associations_c.txt', df_c.values, fmt='%s')\n",
    "np.savetxt(r'associations_d.txt', df_d.values, fmt='%s')"
   ]
  },
  {
   "cell_type": "code",
   "execution_count": null,
   "metadata": {},
   "outputs": [],
   "source": [
    "# Merge these two into one single file\n",
    "subprocess.call('cat associations_c.txt > myassociations', shell=True)\n",
    "subprocess.call('cat associations_d.txt >> myassociations', shell=True)"
   ]
  },
  {
   "cell_type": "code",
   "execution_count": null,
   "metadata": {},
   "outputs": [],
   "source": [
    "# Create entities.lst to inform opa2vec which entities we want vectors for\n",
    "entities = df_d.DiseaseID.unique().tolist() + df_c.ChemicalID.unique().tolist()\n",
    "np.savetxt(r'entities.lst', entities, fmt='%s')"
   ]
  },
  {
   "cell_type": "code",
   "execution_count": null,
   "metadata": {},
   "outputs": [],
   "source": [
    "# Actually we have to make these into vectors at the same time as the opa-nn vecs so\n",
    "# 1. get chem-gofuncs\n",
    "# 2. integrate both into vec creation along with opa-nn vecs"
   ]
  },
  {
   "cell_type": "markdown",
   "metadata": {},
   "source": [
    "### Get assoc genes for diseases (ii) pair them to CTD via semantic matching/omim"
   ]
  },
  {
   "cell_type": "code",
   "execution_count": 8,
   "metadata": {},
   "outputs": [
    {
     "name": "stdout",
     "output_type": "stream",
     "text": [
      "CTD chems:  30272\n"
     ]
    }
   ],
   "source": [
    "# # Map the vmh disease abbreviations to our disease list\n",
    "# # import diseases\n",
    "# c_dis = pd.read_csv('../ctd-to-nt/all-diseases-w-genes-ctd-idsnamesgenes.csv')\n",
    "# print('CTD chems: ', c_dis.shape[0])"
   ]
  },
  {
   "cell_type": "code",
   "execution_count": 9,
   "metadata": {},
   "outputs": [
    {
     "data": {
      "text/html": [
       "<div>\n",
       "<style scoped>\n",
       "    .dataframe tbody tr th:only-of-type {\n",
       "        vertical-align: middle;\n",
       "    }\n",
       "\n",
       "    .dataframe tbody tr th {\n",
       "        vertical-align: top;\n",
       "    }\n",
       "\n",
       "    .dataframe thead th {\n",
       "        text-align: right;\n",
       "    }\n",
       "</style>\n",
       "<table border=\"1\" class=\"dataframe\">\n",
       "  <thead>\n",
       "    <tr style=\"text-align: right;\">\n",
       "      <th></th>\n",
       "      <th>GeneID</th>\n",
       "      <th>DiseaseName</th>\n",
       "      <th>DiseaseID</th>\n",
       "      <th>DirectEvidence</th>\n",
       "    </tr>\n",
       "  </thead>\n",
       "  <tbody>\n",
       "    <tr>\n",
       "      <th>0</th>\n",
       "      <td>50518</td>\n",
       "      <td>Diabetes Mellitus</td>\n",
       "      <td>MESH:D003920</td>\n",
       "      <td>marker/mechanism</td>\n",
       "    </tr>\n",
       "    <tr>\n",
       "      <th>1</th>\n",
       "      <td>50518</td>\n",
       "      <td>Diabetes Mellitus, Type 2</td>\n",
       "      <td>MESH:D003924</td>\n",
       "      <td>marker/mechanism</td>\n",
       "    </tr>\n",
       "    <tr>\n",
       "      <th>2</th>\n",
       "      <td>50518</td>\n",
       "      <td>Liver Neoplasms</td>\n",
       "      <td>MESH:D008113</td>\n",
       "      <td>marker/mechanism</td>\n",
       "    </tr>\n",
       "    <tr>\n",
       "      <th>3</th>\n",
       "      <td>50518</td>\n",
       "      <td>Neoplasms</td>\n",
       "      <td>MESH:D009369</td>\n",
       "      <td>marker/mechanism</td>\n",
       "    </tr>\n",
       "    <tr>\n",
       "      <th>4</th>\n",
       "      <td>50518</td>\n",
       "      <td>Obesity</td>\n",
       "      <td>MESH:D009765</td>\n",
       "      <td>marker/mechanism</td>\n",
       "    </tr>\n",
       "  </tbody>\n",
       "</table>\n",
       "</div>"
      ],
      "text/plain": [
       "   GeneID                DiseaseName     DiseaseID    DirectEvidence\n",
       "0   50518          Diabetes Mellitus  MESH:D003920  marker/mechanism\n",
       "1   50518  Diabetes Mellitus, Type 2  MESH:D003924  marker/mechanism\n",
       "2   50518            Liver Neoplasms  MESH:D008113  marker/mechanism\n",
       "3   50518                  Neoplasms  MESH:D009369  marker/mechanism\n",
       "4   50518                    Obesity  MESH:D009765  marker/mechanism"
      ]
     },
     "execution_count": 9,
     "metadata": {},
     "output_type": "execute_result"
    }
   ],
   "source": [
    "# c_dis.head()"
   ]
  },
  {
   "cell_type": "code",
   "execution_count": 10,
   "metadata": {},
   "outputs": [],
   "source": [
    "# # Match up diseases in two ways, OMIM and semantic similarity (may be ~ no matches...)\n",
    "# # Use a measure of distance to match up disease names from ctd and from VMH \n",
    "# from difflib import SequenceMatcher\n",
    "# import pdb\n",
    "\n",
    "# def similar(a, b):\n",
    "#     return SequenceMatcher(None, a, b).ratio()\n",
    "\n",
    "# def create_map(std_list, flawed_list):\n",
    "#     flawed_list = (n for n in flawed_list)\n",
    "#     team_map = {}\n",
    "#     best_score = {}\n",
    "#     for team in flawed_list:\n",
    "#         scores = [similar(team, std_team) for std_team in std_list]\n",
    "#         highest = max(scores)\n",
    "#         if highest > 0.8:\n",
    "#             index = scores.index(max(scores))\n",
    "#             team_map[team] = std_list[index]\n",
    "#     return team_map"
   ]
  },
  {
   "cell_type": "code",
   "execution_count": 11,
   "metadata": {},
   "outputs": [],
   "source": [
    "## KEEP commented out unless you haven't made this map yet\n",
    "# mapboy = create_map(v_dis.name, c_dis.DiseaseName.unique())\n",
    "\n",
    "# # Here we export the dictionary in a way that's easily imported as dict\n",
    "# import pickle \n",
    "\n",
    "# with open('Uniprot_HINO_map'+ '.pkl', 'wb') as f:\n",
    "#         pickle.dump(mapboy, f, pickle.HIGHEST_PROTOCOL)"
   ]
  },
  {
   "cell_type": "code",
   "execution_count": 12,
   "metadata": {},
   "outputs": [],
   "source": [
    "# ## The commented section above makes a map of vmh dis to ctd dis, importing here (computationally expensive) \n",
    "# def load_obj(name):\n",
    "#     with open(name + '.pkl', 'rb') as f:\n",
    "#         return pickle.load(f)\n",
    "\n",
    "# vdis2cdis = load_obj('vmhdis_to_ctddis')"
   ]
  },
  {
   "cell_type": "code",
   "execution_count": 31,
   "metadata": {},
   "outputs": [],
   "source": [
    "# vdis2cdis"
   ]
  },
  {
   "cell_type": "code",
   "execution_count": 32,
   "metadata": {},
   "outputs": [],
   "source": [
    "# # These are the incorrect mappings I've identified for a 0.8 similarity cutoff\n",
    "# remove = ('Turner Syndrome', 'Werner Syndrome', 'Enterokinase Deficiency', 'Prolidase Deficiency')\n",
    "# vdis2cdis = {key: vdis2cdis[key] for key in vdis2cdis if key not in remove}"
   ]
  },
  {
   "cell_type": "code",
   "execution_count": 33,
   "metadata": {},
   "outputs": [],
   "source": [
    "# sorted(c_dis.DiseaseName.unique())[700:]"
   ]
  },
  {
   "cell_type": "code",
   "execution_count": 34,
   "metadata": {},
   "outputs": [],
   "source": [
    "# sorted(v_dis.name)"
   ]
  },
  {
   "cell_type": "code",
   "execution_count": 13,
   "metadata": {},
   "outputs": [],
   "source": [
    "# API script to get disease-marker pairs from VMH"
   ]
  },
  {
   "cell_type": "code",
   "execution_count": null,
   "metadata": {},
   "outputs": [],
   "source": []
  }
 ],
 "metadata": {
  "kernelspec": {
   "display_name": "Python 3",
   "language": "python",
   "name": "python3"
  },
  "language_info": {
   "codemirror_mode": {
    "name": "ipython",
    "version": 3
   },
   "file_extension": ".py",
   "mimetype": "text/x-python",
   "name": "python",
   "nbconvert_exporter": "python",
   "pygments_lexer": "ipython3",
   "version": "3.6.5"
  }
 },
 "nbformat": 4,
 "nbformat_minor": 2
}
