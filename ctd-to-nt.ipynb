{
 "cells": [
  {
   "cell_type": "markdown",
   "metadata": {},
   "source": [
    "# Create NT files from CTD csvs\n",
    "<b>Author</b>: Ian Coleman <br/>\n",
    "<b>Function</b>: Takes local CTD csvs and turns each into a .nt file"
   ]
  },
  {
   "cell_type": "code",
   "execution_count": 1,
   "metadata": {},
   "outputs": [],
   "source": [
    "import pandas as pd\n",
    "import numpy as np\n",
    "import scipy as sp\n",
    "import subprocess\n",
    "import math"
   ]
  },
  {
   "cell_type": "markdown",
   "metadata": {},
   "source": [
    "## Functions"
   ]
  },
  {
   "cell_type": "code",
   "execution_count": 2,
   "metadata": {},
   "outputs": [],
   "source": [
    "def convert_df_nt (df, output_file, subj_url, subj_col, obj_url, obj_col, pred_col, odd_url=0):\n",
    "    \"\"\"\n",
    "    Input:\n",
    "        DF: some rows and columns of a dataframe\n",
    "        STR: name for the output file, include filetype .nt\n",
    "        STR: subj_url is the url to be used for all subjects\n",
    "        STR: subj_col is the column from which to get the id for the subj\n",
    "        STR: obj_url is the url to be used for all objects\n",
    "        STR: obj_col is the column from which to get the id for the obj\n",
    "        STR: OPTIONAL odd_url is for when a subset obj/subj of require a different url \n",
    "    Output:\n",
    "        NT file\n",
    "    \"\"\"\n",
    "    f = open(output_file,'w')\n",
    "    for index, row in df.iterrows():\n",
    "        subj = '<' + subj_url + str(row[subj_col]) + '> '\n",
    "        pred = '<' + 'http://ian.ie/' + str(row[pred_col]) + '> '\n",
    "        if 'OMIM' in str(row[obj_col]):\n",
    "            row[obj_col] = str(row[obj_col]).replace('OMIM:', '')\n",
    "            obj = '<' + odd_url + str(row[obj_col]) + '> '\n",
    "        else:\n",
    "            obj = '<' + obj_url + str(row[obj_col]) + '> '\n",
    "        f.write(subj + pred + obj + '.' + '\\n')\n",
    "    f.close()"
   ]
  },
  {
   "cell_type": "markdown",
   "metadata": {},
   "source": [
    "## Download Databases"
   ]
  },
  {
   "cell_type": "code",
   "execution_count": 3,
   "metadata": {},
   "outputs": [
    {
     "data": {
      "text/plain": [
       "'CTD_pheno_term_ixns.csv.gz'"
      ]
     },
     "execution_count": 3,
     "metadata": {},
     "output_type": "execute_result"
    }
   ],
   "source": [
    "# subprocess.call('pip3 install wget', shell=True)\n",
    "subprocess.call('wget http://ctdbase.org/reports/CTD_chem_gene_ixns.csv.gz', shell=True)\n",
    "subprocess.call('wget http://ctdbase.org/reports/CTD_chemicals_diseases.csv.gz', shell = True)\n",
    "subprocess.call('wget http://ctdbase.org/reports/CTD_chem_pathways_enriched.csv.gz', shell = True)\n",
    "subprocess.call('wget http://ctdbase.org/reports/CTD_genes_diseases.csv.gz', shell = True)\n",
    "subprocess.call('wget http://ctdbase.org/reports/CTD_genes_pathways.csv.gz', shell = True)\n",
    "subprocess.call('wget http://ctdbase.org/reports/CTD_diseases_pathways.csv.gz', shell = True)\n",
    "subprocess.call('wget http://ctdbase.org/reports/CTD_pheno_term_ixns.csv.gz', shell = True)"
   ]
  },
  {
   "cell_type": "code",
   "execution_count": 5,
   "metadata": {},
   "outputs": [
    {
     "data": {
      "text/plain": [
       "0"
      ]
     },
     "execution_count": 5,
     "metadata": {},
     "output_type": "execute_result"
    }
   ],
   "source": [
    "# Move all the csvs to a subfolder and unzip them\n",
    "subprocess.call('mkdir csvs', shell=True)\n",
    "subprocess.call('mv *.gz csvs/', shell=True)\n",
    "subprocess.call('gunzip csvs/*.gz', shell=True)"
   ]
  },
  {
   "cell_type": "code",
   "execution_count": 6,
   "metadata": {},
   "outputs": [],
   "source": [
    "# too ambitious?? \n",
    "# TODO attempt to make one func to import and process all ctd databases\n",
    "# def ctd_to_rdf(csv, output_file, subj_url, subj_col, obj_url, obj_col, pred_col):\n",
    "#     \"\"\"\n",
    "#     \"\"\"\n",
    "#     df = pd.read_csv(csv, skiprows=27)\n",
    "#     df = df.drop(0)\n",
    "#     convert_df_nt(df, output_file, subj_url, subj_col, obj_url, obj_col, pred_col)"
   ]
  },
  {
   "cell_type": "markdown",
   "metadata": {},
   "source": [
    "## CHEM-GENE "
   ]
  },
  {
   "cell_type": "code",
   "execution_count": 38,
   "metadata": {},
   "outputs": [],
   "source": [
    "# Read in CTD sample, skipping the intro rows8888\n",
    "df_cg = pd.read_csv('csvs/CTD_chem_gene_ixns.csv', skiprows=27)\n",
    "df_cg = df_cg.drop(0)\n",
    "df_cg = df_cg.rename(columns={'# ChemicalName': 'ChemicalName'}) # rename of a column"
   ]
  },
  {
   "cell_type": "code",
   "execution_count": null,
   "metadata": {},
   "outputs": [],
   "source": [
    "# Split the interactionActions into separate predicates RUN THIS ONLY ONCE\n",
    "s = df_cg['InteractionActions'].str.split('|').apply(pd.Series, 1).stack()\n",
    "s.index = s.index.droplevel(-1)\n",
    "s.name = 'InteractionActions'\n",
    "df_cg = df_cg.join(s.apply(lambda x: pd.Series(x.split('|'))))"
   ]
  },
  {
   "cell_type": "code",
   "execution_count": null,
   "metadata": {},
   "outputs": [],
   "source": [
    "# Make the new column prettier\n",
    "df_cg = df_cg.rename(columns={0: 'Predicate'})\n",
    "df_cg['Predicate'] = df_cg.Predicate.str.replace('^', '_')\n",
    "df_cg['Predicate'] = df_cg.Predicate.str.replace(' ', '_')"
   ]
  },
  {
   "cell_type": "code",
   "execution_count": null,
   "metadata": {},
   "outputs": [],
   "source": [
    "# Need to change float to int for the url to work\n",
    "df_cg['GeneID'] = df_cg.GeneID.astype(int)"
   ]
  },
  {
   "cell_type": "code",
   "execution_count": null,
   "metadata": {},
   "outputs": [],
   "source": [
    "subj_url = 'http://identifiers.org/ctd.chemical/' \n",
    "subj_col = 'ChemicalID'\n",
    "obj_url = 'http://identifiers.org/ctd.gene/' \n",
    "obj_col = 'GeneID'\n",
    "pred_col = 'Predicate'\n",
    "\n",
    "convert_df_nt(df_cg, 'output_cg.nt', subj_url, subj_col, obj_url, obj_col, pred_col)"
   ]
  },
  {
   "cell_type": "markdown",
   "metadata": {},
   "source": [
    "## Chem-Disease"
   ]
  },
  {
   "cell_type": "code",
   "execution_count": 14,
   "metadata": {},
   "outputs": [],
   "source": [
    "# Read in CTD sample, skipping the intro rows\n",
    "df_cd = pd.read_csv('csvs/CTD_chemicals_diseases.csv', skiprows=27)\n",
    "df_cd = df_cd.drop(0)"
   ]
  },
  {
   "cell_type": "code",
   "execution_count": 15,
   "metadata": {},
   "outputs": [
    {
     "data": {
      "text/plain": [
       "True"
      ]
     },
     "execution_count": 15,
     "metadata": {},
     "output_type": "execute_result"
    }
   ],
   "source": [
    "'OMIM' in (df_cd.loc[65,'DiseaseID'])"
   ]
  },
  {
   "cell_type": "code",
   "execution_count": 16,
   "metadata": {},
   "outputs": [],
   "source": [
    "# Process DiseaseID so as to be usable in url\n",
    "df_cd['DiseaseID'] = df_cd['DiseaseID'].str.replace('MESH:', '')"
   ]
  },
  {
   "cell_type": "code",
   "execution_count": 17,
   "metadata": {},
   "outputs": [],
   "source": [
    "# Create Predicate Column\n",
    "def cd_predicate(r):\n",
    "    \"\"\"\n",
    "    Create predicate from directevidence if available\n",
    "    \"\"\"\n",
    "    df_cd['DirectEvidence'] = df_cd.DirectEvidence.astype(str) \n",
    "    if r['DirectEvidence'] == \"nan\":\n",
    "        return 'associated_by_inference_via_' + str(r.InferenceGeneSymbol)\n",
    "    else:\n",
    "        return 'associated_directly_with'\n",
    "    \n",
    "df_cd['Predicate'] = df_cd.apply(cd_predicate, axis=1)"
   ]
  },
  {
   "cell_type": "code",
   "execution_count": 18,
   "metadata": {},
   "outputs": [],
   "source": [
    "subj_url = 'http://identifiers.org/ctd.chemical/' \n",
    "subj_col = 'ChemicalID'\n",
    "obj_url = 'http://identifiers.org/mesh/'\n",
    "obj_url_2 = 'http://identifiers.org/omim/' # to use when CTD gives an omim disease id\n",
    "obj_col = 'DiseaseID'\n",
    "pred_col = 'Predicate'\n",
    "\n",
    "convert_df_nt(df_cd, 'output_cd.nt', subj_url, subj_col, obj_url, obj_col, pred_col, obj_url_2)"
   ]
  },
  {
   "cell_type": "markdown",
   "metadata": {},
   "source": [
    "## Gene Disease"
   ]
  },
  {
   "cell_type": "code",
   "execution_count": 19,
   "metadata": {},
   "outputs": [],
   "source": [
    "# Read in CTD sample, skipping the intro rows\n",
    "df_gd = pd.read_csv('csvs/CTD_genes_diseases.csv', skiprows=27)\n"
   ]
  },
  {
   "cell_type": "code",
   "execution_count": 21,
   "metadata": {},
   "outputs": [],
   "source": [
    "# Must make some quick refinements to ensure resulting URLs work\n",
    "df_gd['GeneID'] = df_gd.GeneID.astype(int) \n",
    "df_gd['DirectEvidence'] = df_gd.DirectEvidence.astype(str) \n",
    "df_gd['DiseaseID'] = df_gd['DiseaseID'].str.replace('MESH:', '')\n",
    "\n",
    "# Create Predicate Column\n",
    "def gd_predicate(r):\n",
    "    \"\"\"\n",
    "    Create predicate\n",
    "    \"\"\"\n",
    "    if r['DirectEvidence'] == \"nan\":\n",
    "        return 'associated_by_inference_via_' + str(r.InferenceChemicalName).replace(' ', '_')\n",
    "    else:\n",
    "        return 'associated_directly_with'\n",
    "    \n",
    "df_gd['Predicate'] = df_gd.apply(gd_predicate, axis=1)"
   ]
  },
  {
   "cell_type": "code",
   "execution_count": 24,
   "metadata": {},
   "outputs": [],
   "source": [
    "subj_url = 'http://identifiers.org/ctd.gene/' \n",
    "subj_col = 'GeneID'\n",
    "obj_url = 'http://identifiers.org/mesh/' \n",
    "obj_col = 'DiseaseID'\n",
    "pred_col = 'Predicate'\n",
    "\n",
    "convert_df_nt(df_gd, 'output_gd.nt', subj_url, subj_col, obj_url, obj_col, pred_col)"
   ]
  },
  {
   "cell_type": "markdown",
   "metadata": {},
   "source": [
    "## Gene Pathway"
   ]
  },
  {
   "cell_type": "code",
   "execution_count": 25,
   "metadata": {},
   "outputs": [],
   "source": [
    "# Read in CTD sample, skipping the intro rows\n",
    "df_gp = pd.read_csv('csvs/CTD_genes_pathways.csv', skiprows=27)\n",
    "df_gp = df_gp.drop(0)"
   ]
  },
  {
   "cell_type": "code",
   "execution_count": 27,
   "metadata": {},
   "outputs": [],
   "source": [
    "# Must make some quick refinements to ensure resulting URLs work\n",
    "df_gp['GeneID'] = df_gp.GeneID.astype(int) \n",
    "df_gp['PathwayID'] = df_gp['PathwayID'].str.replace('REACT:', '')\n",
    "\n",
    "# Create Predicate Column\n",
    "def gp_predicate(r):\n",
    "    return 'associated_directly_with'\n",
    "    \n",
    "df_gp['Predicate'] = df_gp.apply(gp_predicate, axis=1)"
   ]
  },
  {
   "cell_type": "code",
   "execution_count": 28,
   "metadata": {},
   "outputs": [],
   "source": [
    "subj_url = 'http://identifiers.org/ctd.gene/' \n",
    "subj_col = 'GeneID'\n",
    "obj_url = 'http://identifiers.org/reactome/' \n",
    "obj_col = 'PathwayID'\n",
    "pred_col = 'Predicate'\n",
    "\n",
    "convert_df_nt(df_gp, 'output_gp.nt', subj_url, subj_col, obj_url, obj_col, pred_col)"
   ]
  },
  {
   "cell_type": "markdown",
   "metadata": {},
   "source": [
    "## Disease Pathway"
   ]
  },
  {
   "cell_type": "code",
   "execution_count": 29,
   "metadata": {},
   "outputs": [],
   "source": [
    "# Read in CTD sample, skipping the intro rows\n",
    "df_dp = pd.read_csv('csvs/CTD_diseases_pathways.csv', skiprows=27)\n",
    "df_dp = df_dp.drop(0)"
   ]
  },
  {
   "cell_type": "code",
   "execution_count": 31,
   "metadata": {},
   "outputs": [],
   "source": [
    "# Must make some quick refinements to ensure resulting URLs work\n",
    "df_dp['PathwayID'] = df_dp['PathwayID'].str.replace('REACT:', '')\n",
    "df_dp['DiseaseID'] = df_dp['DiseaseID'].str.replace('MESH:', '')\n",
    "\n",
    "\n",
    "# Create Predicate Column\n",
    "def dp_predicate(r):\n",
    "    return 'associated_by_inference_via_' + str(r.InferenceGeneSymbol)\n",
    "    \n",
    "df_dp['Predicate'] = df_dp.apply(dp_predicate, axis=1)"
   ]
  },
  {
   "cell_type": "code",
   "execution_count": 32,
   "metadata": {},
   "outputs": [],
   "source": [
    "subj_url = 'http://identifiers.org/mesh/' \n",
    "subj_col = 'DiseaseID'\n",
    "obj_url = 'http://identifiers.org/reactome/' \n",
    "obj_col = 'PathwayID'\n",
    "pred_col = 'Predicate'\n",
    "\n",
    "convert_df_nt(df_dp, 'output_dp.nt', subj_url, subj_col, obj_url, obj_col, pred_col)"
   ]
  },
  {
   "cell_type": "markdown",
   "metadata": {},
   "source": [
    "## Phenotype Chemical\n",
    "I'm going to comment this section out as this is the Y data and shouldn't be in KG ( I think )"
   ]
  },
  {
   "cell_type": "code",
   "execution_count": 33,
   "metadata": {},
   "outputs": [
    {
     "data": {
      "text/html": [
       "<div>\n",
       "<style scoped>\n",
       "    .dataframe tbody tr th:only-of-type {\n",
       "        vertical-align: middle;\n",
       "    }\n",
       "\n",
       "    .dataframe tbody tr th {\n",
       "        vertical-align: top;\n",
       "    }\n",
       "\n",
       "    .dataframe thead th {\n",
       "        text-align: right;\n",
       "    }\n",
       "</style>\n",
       "<table border=\"1\" class=\"dataframe\">\n",
       "  <thead>\n",
       "    <tr style=\"text-align: right;\">\n",
       "      <th></th>\n",
       "      <th># chemicalname</th>\n",
       "      <th>chemicalid</th>\n",
       "      <th>casrn</th>\n",
       "      <th>phenotypename</th>\n",
       "      <th>phenotypeid</th>\n",
       "      <th>comentionedterms</th>\n",
       "      <th>organism</th>\n",
       "      <th>organismid</th>\n",
       "      <th>interaction</th>\n",
       "      <th>interactionactions</th>\n",
       "      <th>anatomyterms</th>\n",
       "      <th>inferencenetworkterms</th>\n",
       "      <th>pubmedids</th>\n",
       "      <th>Unnamed: 13</th>\n",
       "    </tr>\n",
       "  </thead>\n",
       "  <tbody>\n",
       "    <tr>\n",
       "      <th>11</th>\n",
       "      <td>10,10-bis(4-pyridinylmethyl)-9(10H)-anthracenone</td>\n",
       "      <td>C112297</td>\n",
       "      <td>NaN</td>\n",
       "      <td>transmission of nerve impulse</td>\n",
       "      <td>GO:0019226</td>\n",
       "      <td>NaN</td>\n",
       "      <td>Rattus norvegicus</td>\n",
       "      <td>10116.0</td>\n",
       "      <td>10,10-bis(4-pyridinylmethyl)-9(10H)-anthraceno...</td>\n",
       "      <td>increases^phenotype</td>\n",
       "      <td>1^Hippocampus^D006624|2^Neurons^D009474|3^Cell...</td>\n",
       "      <td>KCNQ2^3785</td>\n",
       "      <td>26348896.0</td>\n",
       "      <td>NaN</td>\n",
       "    </tr>\n",
       "    <tr>\n",
       "      <th>12</th>\n",
       "      <td>10,12-octadecadienoic acid</td>\n",
       "      <td>C094849</td>\n",
       "      <td>NaN</td>\n",
       "      <td>regulation of fatty acid metabolic process</td>\n",
       "      <td>GO:0019217</td>\n",
       "      <td>lard^C029310^MESH</td>\n",
       "      <td>Rattus norvegicus</td>\n",
       "      <td>10116.0</td>\n",
       "      <td>[lard affects regulation of fatty acid metabol...</td>\n",
       "      <td>affects^phenotype|increases^abundance</td>\n",
       "      <td>1^Mammary Glands, Animal^D008321</td>\n",
       "      <td>NaN</td>\n",
       "      <td>26115784.0</td>\n",
       "      <td>NaN</td>\n",
       "    </tr>\n",
       "    <tr>\n",
       "      <th>13</th>\n",
       "      <td>10-(2-(5H-(1,2,4)triazino(5,6-b)indol-3-ylthio...</td>\n",
       "      <td>C573921</td>\n",
       "      <td>NaN</td>\n",
       "      <td>cell proliferation</td>\n",
       "      <td>GO:0008283</td>\n",
       "      <td>resveratrol^C059514^MESH|Sodium Fluoride^D0129...</td>\n",
       "      <td>Mus musculus</td>\n",
       "      <td>10090.0</td>\n",
       "      <td>10-(2-(5H-(1,2,4)triazino(5,6-b)indol-3-ylthio...</td>\n",
       "      <td>decreases^phenotype|decreases^reaction</td>\n",
       "      <td>1^Ameloblasts^D000565|2^Cell Line^D002460</td>\n",
       "      <td>NaN</td>\n",
       "      <td>24296261.0</td>\n",
       "      <td>NaN</td>\n",
       "    </tr>\n",
       "    <tr>\n",
       "      <th>14</th>\n",
       "      <td>10-((3-hydroxy-4-methoxybenzylidene))-9(10H)-a...</td>\n",
       "      <td>C476444</td>\n",
       "      <td>NaN</td>\n",
       "      <td>release from viral latency</td>\n",
       "      <td>GO:0019046</td>\n",
       "      <td>NaN</td>\n",
       "      <td>Homo sapiens</td>\n",
       "      <td>9606.0</td>\n",
       "      <td>10-((3-hydroxy-4-methoxybenzylidene))-9(10H)-a...</td>\n",
       "      <td>increases^phenotype</td>\n",
       "      <td>1^Cell Line, Transformed^D002461</td>\n",
       "      <td>NaN</td>\n",
       "      <td>26225566.0</td>\n",
       "      <td>NaN</td>\n",
       "    </tr>\n",
       "    <tr>\n",
       "      <th>15</th>\n",
       "      <td>10-((3-hydroxy-4-methoxybenzylidene))-9(10H)-a...</td>\n",
       "      <td>C476444</td>\n",
       "      <td>NaN</td>\n",
       "      <td>release from viral latency</td>\n",
       "      <td>GO:0019046</td>\n",
       "      <td>bryostatin 1^C046785^MESH</td>\n",
       "      <td>Homo sapiens</td>\n",
       "      <td>9606.0</td>\n",
       "      <td>bryostatin 1 promotes the reaction [10-((3-hyd...</td>\n",
       "      <td>increases^phenotype|increases^reaction</td>\n",
       "      <td>1^Cell Line, Transformed^D002461</td>\n",
       "      <td>NaN</td>\n",
       "      <td>26225566.0</td>\n",
       "      <td>NaN</td>\n",
       "    </tr>\n",
       "    <tr>\n",
       "      <th>16</th>\n",
       "      <td>10-((3-hydroxy-4-methoxybenzylidene))-9(10H)-a...</td>\n",
       "      <td>C476444</td>\n",
       "      <td>NaN</td>\n",
       "      <td>release from viral latency</td>\n",
       "      <td>GO:0019046</td>\n",
       "      <td>prostratin^C070999^MESH</td>\n",
       "      <td>Homo sapiens</td>\n",
       "      <td>9606.0</td>\n",
       "      <td>prostratin promotes the reaction [10-((3-hydro...</td>\n",
       "      <td>increases^phenotype|increases^reaction</td>\n",
       "      <td>1^Cell Line, Transformed^D002461</td>\n",
       "      <td>NaN</td>\n",
       "      <td>26225566.0</td>\n",
       "      <td>NaN</td>\n",
       "    </tr>\n",
       "    <tr>\n",
       "      <th>17</th>\n",
       "      <td>10-(4'-(N-diethylamino)butyl)-2-chlorophenoxazine</td>\n",
       "      <td>C553100</td>\n",
       "      <td>NaN</td>\n",
       "      <td>cell proliferation</td>\n",
       "      <td>GO:0008283</td>\n",
       "      <td>cobaltous chloride^C018021^MESH|HCRT^3060^GENE</td>\n",
       "      <td>Rattus norvegicus</td>\n",
       "      <td>10116.0</td>\n",
       "      <td>10-(4'-(N-diethylamino)butyl)-2-chlorophenoxaz...</td>\n",
       "      <td>decreases^phenotype|decreases^reaction</td>\n",
       "      <td>1^Embryonic Structures^D004628|2^Neurons^D0094...</td>\n",
       "      <td>THPO^7066</td>\n",
       "      <td>24243084.0</td>\n",
       "      <td>NaN</td>\n",
       "    </tr>\n",
       "    <tr>\n",
       "      <th>18</th>\n",
       "      <td>10-(4'-(N-diethylamino)butyl)-2-chlorophenoxazine</td>\n",
       "      <td>C553100</td>\n",
       "      <td>NaN</td>\n",
       "      <td>positive regulation of apoptotic process</td>\n",
       "      <td>GO:0043065</td>\n",
       "      <td>Tetradecanoylphorbol Acetate^D013755^MESH</td>\n",
       "      <td>Homo sapiens</td>\n",
       "      <td>9606.0</td>\n",
       "      <td>[10-(4'-(N-diethylamino)butyl)-2-chlorophenoxa...</td>\n",
       "      <td>affects^cotreatment|increases^phenotype</td>\n",
       "      <td>1^Erythroblasts^D004900|2^Cell Line, Tumor^D04...</td>\n",
       "      <td>NaN</td>\n",
       "      <td>20523355.0</td>\n",
       "      <td>NaN</td>\n",
       "    </tr>\n",
       "    <tr>\n",
       "      <th>19</th>\n",
       "      <td>10-(4'-(N-diethylamino)butyl)-2-chlorophenoxazine</td>\n",
       "      <td>C553100</td>\n",
       "      <td>NaN</td>\n",
       "      <td>positive regulation of megakaryocyte different...</td>\n",
       "      <td>GO:0045654</td>\n",
       "      <td>THPO^7066^GENE</td>\n",
       "      <td>Homo sapiens</td>\n",
       "      <td>9606.0</td>\n",
       "      <td>10-(4'-(N-diethylamino)butyl)-2-chlorophenoxaz...</td>\n",
       "      <td>decreases^reaction|increases^phenotype</td>\n",
       "      <td>1^Hematopoietic Stem Cells^D006412|2^Cells, Cu...</td>\n",
       "      <td>THPO^7066</td>\n",
       "      <td>20523355.0</td>\n",
       "      <td>NaN</td>\n",
       "    </tr>\n",
       "    <tr>\n",
       "      <th>20</th>\n",
       "      <td>10-(6'-ubiquinonyl)decyltriphenylphosphonium b...</td>\n",
       "      <td>C476756</td>\n",
       "      <td>NaN</td>\n",
       "      <td>cellular respiration</td>\n",
       "      <td>GO:0045333</td>\n",
       "      <td>SOD2^6648^GENE</td>\n",
       "      <td>Rattus norvegicus</td>\n",
       "      <td>10116.0</td>\n",
       "      <td>10-(6'-ubiquinonyl)decyltriphenylphosphonium b...</td>\n",
       "      <td>decreases^reaction|increases^phenotype</td>\n",
       "      <td>1^Kidney^D007668|2^Cells, Cultured^D002478|3^M...</td>\n",
       "      <td>CYCS^54205|PPARGC1A^10891</td>\n",
       "      <td>24563852.0</td>\n",
       "      <td>NaN</td>\n",
       "    </tr>\n",
       "  </tbody>\n",
       "</table>\n",
       "</div>"
      ],
      "text/plain": [
       "                                       # chemicalname chemicalid casrn  \\\n",
       "11   10,10-bis(4-pyridinylmethyl)-9(10H)-anthracenone    C112297   NaN   \n",
       "12                         10,12-octadecadienoic acid    C094849   NaN   \n",
       "13  10-(2-(5H-(1,2,4)triazino(5,6-b)indol-3-ylthio...    C573921   NaN   \n",
       "14  10-((3-hydroxy-4-methoxybenzylidene))-9(10H)-a...    C476444   NaN   \n",
       "15  10-((3-hydroxy-4-methoxybenzylidene))-9(10H)-a...    C476444   NaN   \n",
       "16  10-((3-hydroxy-4-methoxybenzylidene))-9(10H)-a...    C476444   NaN   \n",
       "17  10-(4'-(N-diethylamino)butyl)-2-chlorophenoxazine    C553100   NaN   \n",
       "18  10-(4'-(N-diethylamino)butyl)-2-chlorophenoxazine    C553100   NaN   \n",
       "19  10-(4'-(N-diethylamino)butyl)-2-chlorophenoxazine    C553100   NaN   \n",
       "20  10-(6'-ubiquinonyl)decyltriphenylphosphonium b...    C476756   NaN   \n",
       "\n",
       "                                        phenotypename phenotypeid  \\\n",
       "11                      transmission of nerve impulse  GO:0019226   \n",
       "12         regulation of fatty acid metabolic process  GO:0019217   \n",
       "13                                 cell proliferation  GO:0008283   \n",
       "14                         release from viral latency  GO:0019046   \n",
       "15                         release from viral latency  GO:0019046   \n",
       "16                         release from viral latency  GO:0019046   \n",
       "17                                 cell proliferation  GO:0008283   \n",
       "18           positive regulation of apoptotic process  GO:0043065   \n",
       "19  positive regulation of megakaryocyte different...  GO:0045654   \n",
       "20                               cellular respiration  GO:0045333   \n",
       "\n",
       "                                     comentionedterms           organism  \\\n",
       "11                                                NaN  Rattus norvegicus   \n",
       "12                                  lard^C029310^MESH  Rattus norvegicus   \n",
       "13  resveratrol^C059514^MESH|Sodium Fluoride^D0129...       Mus musculus   \n",
       "14                                                NaN       Homo sapiens   \n",
       "15                          bryostatin 1^C046785^MESH       Homo sapiens   \n",
       "16                            prostratin^C070999^MESH       Homo sapiens   \n",
       "17     cobaltous chloride^C018021^MESH|HCRT^3060^GENE  Rattus norvegicus   \n",
       "18          Tetradecanoylphorbol Acetate^D013755^MESH       Homo sapiens   \n",
       "19                                     THPO^7066^GENE       Homo sapiens   \n",
       "20                                     SOD2^6648^GENE  Rattus norvegicus   \n",
       "\n",
       "    organismid                                        interaction  \\\n",
       "11     10116.0  10,10-bis(4-pyridinylmethyl)-9(10H)-anthraceno...   \n",
       "12     10116.0  [lard affects regulation of fatty acid metabol...   \n",
       "13     10090.0  10-(2-(5H-(1,2,4)triazino(5,6-b)indol-3-ylthio...   \n",
       "14      9606.0  10-((3-hydroxy-4-methoxybenzylidene))-9(10H)-a...   \n",
       "15      9606.0  bryostatin 1 promotes the reaction [10-((3-hyd...   \n",
       "16      9606.0  prostratin promotes the reaction [10-((3-hydro...   \n",
       "17     10116.0  10-(4'-(N-diethylamino)butyl)-2-chlorophenoxaz...   \n",
       "18      9606.0  [10-(4'-(N-diethylamino)butyl)-2-chlorophenoxa...   \n",
       "19      9606.0  10-(4'-(N-diethylamino)butyl)-2-chlorophenoxaz...   \n",
       "20     10116.0  10-(6'-ubiquinonyl)decyltriphenylphosphonium b...   \n",
       "\n",
       "                         interactionactions  \\\n",
       "11                      increases^phenotype   \n",
       "12    affects^phenotype|increases^abundance   \n",
       "13   decreases^phenotype|decreases^reaction   \n",
       "14                      increases^phenotype   \n",
       "15   increases^phenotype|increases^reaction   \n",
       "16   increases^phenotype|increases^reaction   \n",
       "17   decreases^phenotype|decreases^reaction   \n",
       "18  affects^cotreatment|increases^phenotype   \n",
       "19   decreases^reaction|increases^phenotype   \n",
       "20   decreases^reaction|increases^phenotype   \n",
       "\n",
       "                                         anatomyterms  \\\n",
       "11  1^Hippocampus^D006624|2^Neurons^D009474|3^Cell...   \n",
       "12                   1^Mammary Glands, Animal^D008321   \n",
       "13          1^Ameloblasts^D000565|2^Cell Line^D002460   \n",
       "14                   1^Cell Line, Transformed^D002461   \n",
       "15                   1^Cell Line, Transformed^D002461   \n",
       "16                   1^Cell Line, Transformed^D002461   \n",
       "17  1^Embryonic Structures^D004628|2^Neurons^D0094...   \n",
       "18  1^Erythroblasts^D004900|2^Cell Line, Tumor^D04...   \n",
       "19  1^Hematopoietic Stem Cells^D006412|2^Cells, Cu...   \n",
       "20  1^Kidney^D007668|2^Cells, Cultured^D002478|3^M...   \n",
       "\n",
       "        inferencenetworkterms   pubmedids  Unnamed: 13  \n",
       "11                 KCNQ2^3785  26348896.0          NaN  \n",
       "12                        NaN  26115784.0          NaN  \n",
       "13                        NaN  24296261.0          NaN  \n",
       "14                        NaN  26225566.0          NaN  \n",
       "15                        NaN  26225566.0          NaN  \n",
       "16                        NaN  26225566.0          NaN  \n",
       "17                  THPO^7066  24243084.0          NaN  \n",
       "18                        NaN  20523355.0          NaN  \n",
       "19                  THPO^7066  20523355.0          NaN  \n",
       "20  CYCS^54205|PPARGC1A^10891  24563852.0          NaN  "
      ]
     },
     "execution_count": 33,
     "metadata": {},
     "output_type": "execute_result"
    }
   ],
   "source": [
    "# Read in CTD sample, skipping the intro rows\n",
    "# df_pc = pd.read_csv('csvs/CTD_pheno_term_ixns.csv', skiprows=27, nrows = 100)\n",
    "# df_pc = df_pc.drop(0)\n",
    "# df_pc[10:20]"
   ]
  },
  {
   "cell_type": "code",
   "execution_count": 34,
   "metadata": {},
   "outputs": [],
   "source": [
    "# Split the interactionActions into separate predicates RUN THIS ONLY ONCE\n",
    "# s = df_pc['interactionactions'].str.split('|').apply(pd.Series, 1).stack()\n",
    "# s.index = s.index.droplevel(-1)\n",
    "# s.name = 'interactionactions'\n",
    "# df_pc = df_pc.join(s.apply(lambda x: pd.Series(x.split('|'))))\n",
    "# df_pc = df_pc.rename(columns={0: 'Predicate'})\n",
    "# df_pc['Predicate'] = df_pc.Predicate.str.replace('^', '_')\n",
    "# df_pc['Predicate'] = df_pc.Predicate.str.replace(' ', '_')"
   ]
  },
  {
   "cell_type": "code",
   "execution_count": 35,
   "metadata": {},
   "outputs": [],
   "source": [
    "# subj_url = 'http://identifiers.org/ctd.chemical/'  \n",
    "# subj_col = 'chemicalid'\n",
    "# obj_url = 'http://identifiers.org/go/' \n",
    "# obj_col = 'phenotypeid'\n",
    "# pred_col = 'Predicate'\n",
    "\n",
    "# convert_df_nt(df_pc, 'output_pc.nt', subj_url, subj_col, obj_url, obj_col, pred_col)"
   ]
  },
  {
   "cell_type": "markdown",
   "metadata": {},
   "source": [
    "## Merge NT files"
   ]
  },
  {
   "cell_type": "code",
   "execution_count": 36,
   "metadata": {},
   "outputs": [
    {
     "data": {
      "text/plain": [
       "0"
      ]
     },
     "execution_count": 36,
     "metadata": {},
     "output_type": "execute_result"
    }
   ],
   "source": [
    "subprocess.call('cat *.nt > master.nt', shell=True)"
   ]
  }
 ],
 "metadata": {
  "kernelspec": {
   "display_name": "Python 3",
   "language": "python",
   "name": "python3"
  },
  "language_info": {
   "codemirror_mode": {
    "name": "ipython",
    "version": 3
   },
   "file_extension": ".py",
   "mimetype": "text/x-python",
   "name": "python",
   "nbconvert_exporter": "python",
   "pygments_lexer": "ipython3",
   "version": "3.6.5"
  }
 },
 "nbformat": 4,
 "nbformat_minor": 2
}
