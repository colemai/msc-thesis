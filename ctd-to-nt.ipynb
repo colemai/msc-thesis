{
 "cells": [
  {
   "cell_type": "markdown",
   "metadata": {},
   "source": [
    "# Create NT files from CTD csvs\n",
    "<b>Author</b>: Ian Coleman <br/>\n",
    "<b>Function</b>: Takes local CTD csvs and turns each into a .nt file"
   ]
  },
  {
   "cell_type": "markdown",
   "metadata": {},
   "source": [
    "<b>Notes:</b>\n",
    "To run this for visualising and investigating the data you'll need to ensure that each pd.read_csv line takes the argument nrows=100 or some other small number <br>\n",
    "To run it for the intended purpose of converting the DBs to RDF make sure that the nrows argument is not being passed anywhere"
   ]
  },
  {
   "cell_type": "code",
   "execution_count": 1,
   "metadata": {},
   "outputs": [],
   "source": [
    "import pandas as pd\n",
    "import numpy as np\n",
    "import scipy as sp\n",
    "import subprocess\n",
    "import math"
   ]
  },
  {
   "cell_type": "code",
   "execution_count": 4,
   "metadata": {},
   "outputs": [
    {
     "data": {
      "text/plain": [
       "0"
      ]
     },
     "execution_count": 4,
     "metadata": {},
     "output_type": "execute_result"
    }
   ],
   "source": [
    "# Begin log file (progress etc so can be checked from ssh)\n",
    "subprocess.call('echo \"Date: \" `date` > log.txt', shell=True)"
   ]
  },
  {
   "cell_type": "markdown",
   "metadata": {},
   "source": [
    "## Functions"
   ]
  },
  {
   "cell_type": "code",
   "execution_count": 2,
   "metadata": {},
   "outputs": [],
   "source": [
    "def convert_df_nt (df, output_file, subj_url, subj_col, obj_url, obj_col, pred_col, odd_url=0):\n",
    "    \"\"\"\n",
    "    Input:\n",
    "        DF: some rows and columns of a dataframe\n",
    "        STR: name for the output file, include filetype .nt\n",
    "        STR: subj_url is the url to be used for all subjects\n",
    "        STR: subj_col is the column from which to get the id for the subj\n",
    "        STR: obj_url is the url to be used for all objects\n",
    "        STR: obj_col is the column from which to get the id for the obj\n",
    "        STR: OPTIONAL odd_url is for when a subset obj/subj of require a different url \n",
    "    Output:\n",
    "        NT file\n",
    "    \"\"\"\n",
    "    f = open(output_file,'w')\n",
    "    for index, row in df.iterrows():\n",
    "        subj = '<' + subj_url + str(row[subj_col]) + '> '\n",
    "        pred = '<' + 'http://ian.ie/' + str(row[pred_col]) + '> '\n",
    "        if 'OMIM' in str(row[obj_col]):\n",
    "            row[obj_col] = str(row[obj_col]).replace('OMIM:', '')\n",
    "            obj = '<' + odd_url + str(row[obj_col]) + '> '\n",
    "        else:\n",
    "            obj = '<' + obj_url + str(row[obj_col]) + '> '\n",
    "        f.write(subj + pred + obj + '.' + '\\n')\n",
    "    f.close()"
   ]
  },
  {
   "cell_type": "markdown",
   "metadata": {},
   "source": [
    "## Download Databases"
   ]
  },
  {
   "cell_type": "code",
   "execution_count": 3,
   "metadata": {},
   "outputs": [],
   "source": [
    "# # subprocess.call('pip3 install wget', shell=True)\n",
    "# subprocess.call('wget http://ctdbase.org/reports/CTD_chem_gene_ixns.csv.gz', shell=True)\n",
    "# subprocess.call('wget http://ctdbase.org/reports/CTD_chemicals_diseases.csv.gz', shell = True)\n",
    "# subprocess.call('wget http://ctdbase.org/reports/CTD_chem_pathways_enriched.csv.gz', shell = True)\n",
    "# subprocess.call('wget http://ctdbase.org/reports/CTD_genes_diseases.csv.gz', shell = True)\n",
    "# subprocess.call('wget http://ctdbase.org/reports/CTD_genes_pathways.csv.gz', shell = True)\n",
    "# subprocess.call('wget http://ctdbase.org/reports/CTD_diseases_pathways.csv.gz', shell = True)\n",
    "# subprocess.call('wget http://ctdbase.org/reports/CTD_pheno_term_ixns.csv.gz', shell = True)"
   ]
  },
  {
   "cell_type": "code",
   "execution_count": 4,
   "metadata": {},
   "outputs": [],
   "source": [
    "# # Move all the csvs to a subfolder and unzip them\n",
    "# subprocess.call('mkdir csvs', shell=True)\n",
    "# subprocess.call('mv *.gz csvs/', shell=True)\n",
    "# subprocess.call('gunzip csvs/*.gz', shell=True)"
   ]
  },
  {
   "cell_type": "code",
   "execution_count": 5,
   "metadata": {},
   "outputs": [],
   "source": [
    "# too ambitious?? \n",
    "# TODO attempt to make one func to import and process all ctd databases\n",
    "# def ctd_to_rdf(csv, output_file, subj_url, subj_col, obj_url, obj_col, pred_col):\n",
    "#     \"\"\"\n",
    "#     \"\"\"\n",
    "#     df = pd.read_csv(csv, skiprows=27, nrows = 100)\n",
    "#     df = df.drop(0)\n",
    "#     convert_df_nt(df, output_file, subj_url, subj_col, obj_url, obj_col, pred_col)"
   ]
  },
  {
   "cell_type": "markdown",
   "metadata": {},
   "source": [
    "## CHEM-GENE "
   ]
  },
  {
   "cell_type": "code",
   "execution_count": null,
   "metadata": {},
   "outputs": [],
   "source": [
    "# Log progress\n",
    "subprocess.call('echo \"Begin Chem-Gene\" >> log.txt', shell=True)"
   ]
  },
  {
   "cell_type": "code",
   "execution_count": 6,
   "metadata": {},
   "outputs": [],
   "source": [
    "# Read in CTD sample, skipping the intro rows8888\n",
    "df_cg = pd.read_csv('csvs/CTD_chem_gene_ixns.csv', skiprows=27, nrows=100)\n",
    "df_cg = df_cg.drop(0)\n",
    "df_cg = df_cg.rename(columns={'# ChemicalName': 'ChemicalName'}) # rename of a column"
   ]
  },
  {
   "cell_type": "code",
   "execution_count": 7,
   "metadata": {},
   "outputs": [],
   "source": [
    "# Split the interactionActions into separate predicates RUN THIS ONLY ONCE\n",
    "s = df_cg['InteractionActions'].str.split('|').apply(pd.Series, 1).stack()\n",
    "s.index = s.index.droplevel(-1)\n",
    "s.name = 'InteractionActions'\n",
    "df_cg = df_cg.join(s.apply(lambda x: pd.Series(x.split('|'))))"
   ]
  },
  {
   "cell_type": "code",
   "execution_count": 8,
   "metadata": {},
   "outputs": [],
   "source": [
    "# Make the new column prettier\n",
    "df_cg = df_cg.rename(columns={0: 'Predicate'})\n",
    "df_cg['Predicate'] = df_cg.Predicate.str.replace('^', '_')\n",
    "df_cg['Predicate'] = df_cg.Predicate.str.replace(' ', '_')"
   ]
  },
  {
   "cell_type": "code",
   "execution_count": 9,
   "metadata": {},
   "outputs": [],
   "source": [
    "# Need to change float to int for the url to work\n",
    "df_cg['GeneID'] = df_cg.GeneID.astype(int)"
   ]
  },
  {
   "cell_type": "code",
   "execution_count": 10,
   "metadata": {},
   "outputs": [],
   "source": [
    "subj_url = 'http://identifiers.org/ctd.chemical/' \n",
    "subj_col = 'ChemicalID'\n",
    "obj_url = 'http://identifiers.org/ctd.gene/' \n",
    "obj_col = 'GeneID'\n",
    "pred_col = 'Predicate'\n",
    "\n",
    "convert_df_nt(df_cg, 'output_cg.nt', subj_url, subj_col, obj_url, obj_col, pred_col)"
   ]
  },
  {
   "cell_type": "markdown",
   "metadata": {},
   "source": [
    "## Chem-Disease"
   ]
  },
  {
   "cell_type": "code",
   "execution_count": null,
   "metadata": {},
   "outputs": [],
   "source": [
    "# Log progress\n",
    "subprocess.call('echo \"Begin Chem-Dis\" >> log.txt', shell=True)"
   ]
  },
  {
   "cell_type": "code",
   "execution_count": 11,
   "metadata": {},
   "outputs": [],
   "source": [
    "# Read in CTD sample, skipping the intro rows\n",
    "df_cd = pd.read_csv('csvs/CTD_chemicals_diseases.csv', skiprows=27, nrows=100)\n",
    "df_cd = df_cd.drop(0)"
   ]
  },
  {
   "cell_type": "code",
   "execution_count": 12,
   "metadata": {},
   "outputs": [
    {
     "data": {
      "text/plain": [
       "True"
      ]
     },
     "execution_count": 12,
     "metadata": {},
     "output_type": "execute_result"
    }
   ],
   "source": [
    "'OMIM' in (df_cd.loc[65,'DiseaseID'])"
   ]
  },
  {
   "cell_type": "code",
   "execution_count": 13,
   "metadata": {},
   "outputs": [],
   "source": [
    "# Process DiseaseID so as to be usable in url\n",
    "df_cd['DiseaseID'] = df_cd['DiseaseID'].str.replace('MESH:', '')"
   ]
  },
  {
   "cell_type": "code",
   "execution_count": 14,
   "metadata": {},
   "outputs": [],
   "source": [
    "# Create Predicate Column\n",
    "def cd_predicate(r):\n",
    "    \"\"\"\n",
    "    Create predicate from directevidence if available\n",
    "    \"\"\"\n",
    "    if r['DirectEvidence'] == \"nan\":\n",
    "        return 'associated_by_inference_via_' + str(r.InferenceGeneSymbol)\n",
    "    else:\n",
    "        return 'associated_directly_with'\n",
    "\n",
    "df_cd['DirectEvidence'] = df_cd.DirectEvidence.astype(str) \n",
    "df_cd['Predicate'] = df_cd.apply(cd_predicate, axis=1)"
   ]
  },
  {
   "cell_type": "code",
   "execution_count": 15,
   "metadata": {},
   "outputs": [],
   "source": [
    "subj_url = 'http://identifiers.org/ctd.chemical/' \n",
    "subj_col = 'ChemicalID'\n",
    "obj_url = 'http://identifiers.org/mesh/'\n",
    "obj_url_2 = 'http://identifiers.org/omim/' # to use when CTD gives an omim disease id\n",
    "obj_col = 'DiseaseID'\n",
    "pred_col = 'Predicate'\n",
    "\n",
    "convert_df_nt(df_cd, 'output_cd.nt', subj_url, subj_col, obj_url, obj_col, pred_col, obj_url_2)"
   ]
  },
  {
   "cell_type": "markdown",
   "metadata": {},
   "source": [
    "## Gene Disease"
   ]
  },
  {
   "cell_type": "code",
   "execution_count": null,
   "metadata": {},
   "outputs": [],
   "source": [
    "# Log progress\n",
    "subprocess.call('echo \"Begin Gene-Dis\" >> log.txt', shell=True)"
   ]
  },
  {
   "cell_type": "code",
   "execution_count": 24,
   "metadata": {},
   "outputs": [],
   "source": [
    "# Read in CTD sample, skipping the intro rows\n",
    "df_gd = pd.read_csv('csvs/CTD_genes_diseases.csv', skiprows=27, nrows=100)\n",
    "df_gd = df_gd.drop(0)\n"
   ]
  },
  {
   "cell_type": "code",
   "execution_count": 25,
   "metadata": {},
   "outputs": [],
   "source": [
    "# Must make some quick refinements to ensure resulting URLs work\n",
    "df_gd['GeneID'] = df_gd['GeneID'].fillna(0).astype(int)\n",
    "df_gd['GeneID'] = df_gd.GeneID.astype(int) \n",
    "df_gd['DirectEvidence'] = df_gd.DirectEvidence.astype(str) \n",
    "df_gd['DiseaseID'] = df_gd['DiseaseID'].str.replace('MESH:', '')\n",
    "\n",
    "# Create Predicate Column\n",
    "def gd_predicate(r):\n",
    "    \"\"\"\n",
    "    Create predicate\n",
    "    \"\"\"\n",
    "    if r['DirectEvidence'] == \"nan\":\n",
    "        return 'associated_by_inference_via_' + str(r.InferenceChemicalName).replace(' ', '_')\n",
    "    else:\n",
    "        return 'associated_directly_with'\n",
    "    \n",
    "df_gd['Predicate'] = df_gd.apply(gd_predicate, axis=1)"
   ]
  },
  {
   "cell_type": "code",
   "execution_count": 6,
   "metadata": {},
   "outputs": [
    {
     "ename": "NameError",
     "evalue": "name 'convert_df_nt' is not defined",
     "output_type": "error",
     "traceback": [
      "\u001b[0;31m---------------------------------------------------------------------------\u001b[0m",
      "\u001b[0;31mNameError\u001b[0m                                 Traceback (most recent call last)",
      "\u001b[0;32m<ipython-input-6-4600fb543754>\u001b[0m in \u001b[0;36m<module>\u001b[0;34m()\u001b[0m\n\u001b[1;32m      6\u001b[0m \u001b[0mpred_col\u001b[0m \u001b[0;34m=\u001b[0m \u001b[0;34m'Predicate'\u001b[0m\u001b[0;34m\u001b[0m\u001b[0m\n\u001b[1;32m      7\u001b[0m \u001b[0;34m\u001b[0m\u001b[0m\n\u001b[0;32m----> 8\u001b[0;31m \u001b[0mconvert_df_nt\u001b[0m\u001b[0;34m(\u001b[0m\u001b[0mdf_gd\u001b[0m\u001b[0;34m,\u001b[0m \u001b[0;34m'output_gd.nt'\u001b[0m\u001b[0;34m,\u001b[0m \u001b[0msubj_url\u001b[0m\u001b[0;34m,\u001b[0m \u001b[0msubj_col\u001b[0m\u001b[0;34m,\u001b[0m \u001b[0mobj_url\u001b[0m\u001b[0;34m,\u001b[0m \u001b[0mobj_col\u001b[0m\u001b[0;34m,\u001b[0m \u001b[0mpred_col\u001b[0m\u001b[0;34m,\u001b[0m \u001b[0mobj_url_2\u001b[0m\u001b[0;34m)\u001b[0m\u001b[0;34m\u001b[0m\u001b[0m\n\u001b[0m",
      "\u001b[0;31mNameError\u001b[0m: name 'convert_df_nt' is not defined"
     ]
    }
   ],
   "source": [
    "subj_url = 'http://identifiers.org/ctd.gene/' \n",
    "subj_col = 'GeneID'\n",
    "obj_url = 'http://identifiers.org/mesh/' \n",
    "obj_url_2 = 'http://identifiers.org/omim/' # to use when CTD gives an omim disease id\n",
    "obj_col = 'DiseaseID'\n",
    "pred_col = 'Predicate'\n",
    "\n",
    "convert_df_nt(df_gd, 'output_gd.nt', subj_url, subj_col, obj_url, obj_col, pred_col, obj_url_2)"
   ]
  },
  {
   "cell_type": "markdown",
   "metadata": {},
   "source": [
    "## Gene Pathway"
   ]
  },
  {
   "cell_type": "code",
   "execution_count": null,
   "metadata": {},
   "outputs": [],
   "source": [
    "# Log progress\n",
    "subprocess.call('echo \"Begin Gene-Path\" >> log.txt', shell=True)"
   ]
  },
  {
   "cell_type": "code",
   "execution_count": 28,
   "metadata": {},
   "outputs": [],
   "source": [
    "# Read in CTD sample, skipping the intro rows\n",
    "df_gp = pd.read_csv('csvs/CTD_genes_pathways.csv', skiprows=27, nrows = 100)\n",
    "df_gp = df_gp.drop(0)"
   ]
  },
  {
   "cell_type": "code",
   "execution_count": 29,
   "metadata": {},
   "outputs": [],
   "source": [
    "# Must make some quick refinements to ensure resulting URLs work\n",
    "df_gp['GeneID'] = df_gp['GeneID'].fillna(0).astype(int)\n",
    "df_gp['GeneID'] = df_gp.GeneID.astype(int) \n",
    "df_gp['PathwayID'] = df_gp['PathwayID'].str.replace('REACT:', '')\n",
    "\n",
    "# Create Predicate Column\n",
    "def gp_predicate(r):\n",
    "    return 'associated_directly_with'\n",
    "    \n",
    "df_gp['Predicate'] = df_gp.apply(gp_predicate, axis=1)"
   ]
  },
  {
   "cell_type": "code",
   "execution_count": 30,
   "metadata": {},
   "outputs": [],
   "source": [
    "subj_url = 'http://identifiers.org/ctd.gene/' \n",
    "subj_col = 'GeneID'\n",
    "obj_url = 'http://identifiers.org/reactome/' \n",
    "obj_col = 'PathwayID'\n",
    "pred_col = 'Predicate'\n",
    "\n",
    "convert_df_nt(df_gp, 'output_gp.nt', subj_url, subj_col, obj_url, obj_col, pred_col)"
   ]
  },
  {
   "cell_type": "markdown",
   "metadata": {},
   "source": [
    "## Disease Pathway"
   ]
  },
  {
   "cell_type": "code",
   "execution_count": null,
   "metadata": {},
   "outputs": [],
   "source": [
    "# Log progress\n",
    "subprocess.call('echo \"Begin Dis-Path\" >> log.txt', shell=True)"
   ]
  },
  {
   "cell_type": "code",
   "execution_count": 32,
   "metadata": {},
   "outputs": [],
   "source": [
    "# Read in CTD sample, skipping the intro rows\n",
    "df_dp = pd.read_csv('csvs/CTD_diseases_pathways.csv', skiprows=27, nrows = 100)\n",
    "df_dp = df_dp.drop(0)"
   ]
  },
  {
   "cell_type": "code",
   "execution_count": 33,
   "metadata": {},
   "outputs": [],
   "source": [
    "# Must make some quick refinements to ensure resulting URLs work\n",
    "df_dp['PathwayID'] = df_dp['PathwayID'].str.replace('REACT:', '')\n",
    "df_dp['DiseaseID'] = df_dp['DiseaseID'].str.replace('MESH:', '')\n",
    "\n",
    "\n",
    "# Create Predicate Column\n",
    "def dp_predicate(r):\n",
    "    return 'associated_by_inference_via_' + str(r.InferenceGeneSymbol)\n",
    "    \n",
    "df_dp['Predicate'] = df_dp.apply(dp_predicate, axis=1)"
   ]
  },
  {
   "cell_type": "code",
   "execution_count": 34,
   "metadata": {},
   "outputs": [],
   "source": [
    "subj_url = 'http://identifiers.org/mesh/' \n",
    "subj_col = 'DiseaseID'\n",
    "obj_url = 'http://identifiers.org/reactome/' \n",
    "obj_col = 'PathwayID'\n",
    "pred_col = 'Predicate'\n",
    "\n",
    "convert_df_nt(df_dp, 'output_dp.nt', subj_url, subj_col, obj_url, obj_col, pred_col)"
   ]
  },
  {
   "cell_type": "code",
   "execution_count": 36,
   "metadata": {},
   "outputs": [],
   "source": [
    "# df_dp"
   ]
  },
  {
   "cell_type": "markdown",
   "metadata": {},
   "source": [
    "## Phenotype Chemical\n",
    "I'm going to comment this section out as this is the Y data and shouldn't be in KG ( I think )"
   ]
  },
  {
   "cell_type": "code",
   "execution_count": 5,
   "metadata": {},
   "outputs": [],
   "source": [
    "# Read in CTD sample, skipping the intro rows\n",
    "# df_pc = pd.read_csv('csvs/CTD_pheno_term_ixns.csv', skiprows=27, nrows = 100, nrows = 100)\n",
    "# df_pc = df_pc.drop(0)\n",
    "# df_pc[10:20]"
   ]
  },
  {
   "cell_type": "code",
   "execution_count": 34,
   "metadata": {},
   "outputs": [],
   "source": [
    "# Split the interactionActions into separate predicates RUN THIS ONLY ONCE\n",
    "# s = df_pc['interactionactions'].str.split('|').apply(pd.Series, 1).stack()\n",
    "# s.index = s.index.droplevel(-1)\n",
    "# s.name = 'interactionactions'\n",
    "# df_pc = df_pc.join(s.apply(lambda x: pd.Series(x.split('|'))))\n",
    "# df_pc = df_pc.rename(columns={0: 'Predicate'})\n",
    "# df_pc['Predicate'] = df_pc.Predicate.str.replace('^', '_')\n",
    "# df_pc['Predicate'] = df_pc.Predicate.str.replace(' ', '_')"
   ]
  },
  {
   "cell_type": "code",
   "execution_count": 35,
   "metadata": {},
   "outputs": [],
   "source": [
    "# subj_url = 'http://identifiers.org/ctd.chemical/'  \n",
    "# subj_col = 'chemicalid'\n",
    "# obj_url = 'http://identifiers.org/go/' \n",
    "# obj_col = 'phenotypeid'\n",
    "# pred_col = 'Predicate'\n",
    "\n",
    "# convert_df_nt(df_pc, 'output_pc.nt', subj_url, subj_col, obj_url, obj_col, pred_col)"
   ]
  },
  {
   "cell_type": "markdown",
   "metadata": {},
   "source": [
    "## Merge NT files"
   ]
  },
  {
   "cell_type": "code",
   "execution_count": null,
   "metadata": {},
   "outputs": [],
   "source": [
    "# Log progress\n",
    "subprocess.call('echo \"Begin Merging\" >> log.txt', shell=True)"
   ]
  },
  {
   "cell_type": "code",
   "execution_count": 36,
   "metadata": {},
   "outputs": [
    {
     "data": {
      "text/plain": [
       "0"
      ]
     },
     "execution_count": 36,
     "metadata": {},
     "output_type": "execute_result"
    }
   ],
   "source": [
    "subprocess.call('cat *.nt > master.nt', shell=True)"
   ]
  },
  {
   "cell_type": "code",
   "execution_count": null,
   "metadata": {},
   "outputs": [],
   "source": [
    "# Log progress\n",
    "subprocess.call('echo \"Finished Merging\" >> log.txt', shell=True)"
   ]
  },
  {
   "cell_type": "markdown",
   "metadata": {},
   "source": [
    "Note that Jena doesn't accept a percentage sign unless it's followed by two hexadecimals, so you can run the following to replace the % sign with the word percentage"
   ]
  },
  {
   "cell_type": "code",
   "execution_count": null,
   "metadata": {},
   "outputs": [],
   "source": [
    "# subproces.call(\"sed -i '/%/ s//percent/g' master.nt\", shell=True)"
   ]
  },
  {
   "cell_type": "code",
   "execution_count": null,
   "metadata": {},
   "outputs": [],
   "source": [
    "# # You'll need to install Apache Jena for this\n",
    "# subprocess.call('riot --output=RDFXML master.nt > master.rdf', shell=True)"
   ]
  }
 ],
 "metadata": {
  "kernelspec": {
   "display_name": "Python 3",
   "language": "python",
   "name": "python3"
  },
  "language_info": {
   "codemirror_mode": {
    "name": "ipython",
    "version": 3
   },
   "file_extension": ".py",
   "mimetype": "text/x-python",
   "name": "python",
   "nbconvert_exporter": "python",
   "pygments_lexer": "ipython3",
   "version": "3.6.5"
  }
 },
 "nbformat": 4,
 "nbformat_minor": 2
}
