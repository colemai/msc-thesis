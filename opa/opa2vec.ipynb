{
 "cells": [
  {
   "cell_type": "markdown",
   "metadata": {},
   "source": [
    "# Notebook: Create OPA2VEC associations file\n",
    "<b>Author</b>: Ian Coleman <br/>\n",
    "<b>Function</b>: Get genes associated with diseases (disgenet) and chemicals (ctdbase), take their go functions and assign to the associated chem/dis in an associations file. Also output finalclasses.lst, a file that tells opa2vec which entities you would like the vectors for"
   ]
  },
  {
   "cell_type": "code",
   "execution_count": 33,
   "metadata": {},
   "outputs": [],
   "source": [
    "import pandas as pd\n",
    "import numpy as np\n",
    "import subprocess"
   ]
  },
  {
   "cell_type": "markdown",
   "metadata": {},
   "source": [
    "### 1. Get Uniprot ID set for each Gene "
   ]
  },
  {
   "cell_type": "code",
   "execution_count": 34,
   "metadata": {},
   "outputs": [],
   "source": [
    "# CHEMICALS\n",
    "# Import CTD file to get the geneIDs we want \n",
    "df_cg = pd.read_csv('../ctd-to-nt/csvs/CTD_chem_gene_ixns.csv', skiprows=27)\n",
    "df_cg = df_cg.drop(0)\n",
    "\n",
    "# Cut down to just humans if you want to\n",
    "df_cg = df_cg.loc[df_cg['OrganismID'] == 9606.0]\n",
    "\n",
    "# Need to change float to int for the url to work\n",
    "df_cg['GeneID'] = df_cg.GeneID.astype(int)"
   ]
  },
  {
   "cell_type": "code",
   "execution_count": 35,
   "metadata": {},
   "outputs": [],
   "source": [
    "# DISEASES\n",
    "# Import DisGeNet with disease IDs and Gene IDs\n",
    "df_cgd = pd.read_csv('../disgenet-nt/input_tsvs/curated_gene_disease_associations.tsv', sep='\\t')\n",
    "\n",
    "# Limit by evidence Score \n",
    "df_cgd = df_cgd[df_cgd.score >= 0.42]"
   ]
  },
  {
   "cell_type": "code",
   "execution_count": 36,
   "metadata": {},
   "outputs": [],
   "source": [
    "# # Create list of all associated GeneIDs for each of Chemicals and Diseases\n",
    "cgene_ids = df_cg.GeneID.unique()\n",
    "dgene_ids = df_cgd.geneId.unique()\n",
    "\n",
    "# Combine them\n",
    "all_genes = set(cgene_ids).union(set(dgene_ids))"
   ]
  },
  {
   "cell_type": "code",
   "execution_count": 37,
   "metadata": {},
   "outputs": [
    {
     "data": {
      "text/html": [
       "<div>\n",
       "<style scoped>\n",
       "    .dataframe tbody tr th:only-of-type {\n",
       "        vertical-align: middle;\n",
       "    }\n",
       "\n",
       "    .dataframe tbody tr th {\n",
       "        vertical-align: top;\n",
       "    }\n",
       "\n",
       "    .dataframe thead th {\n",
       "        text-align: right;\n",
       "    }\n",
       "</style>\n",
       "<table border=\"1\" class=\"dataframe\">\n",
       "  <thead>\n",
       "    <tr style=\"text-align: right;\">\n",
       "      <th></th>\n",
       "      <th>geneId</th>\n",
       "      <th>geneSymbol</th>\n",
       "      <th>diseaseId</th>\n",
       "      <th>diseaseName</th>\n",
       "      <th>score</th>\n",
       "      <th>NofPmids</th>\n",
       "      <th>NofSnps</th>\n",
       "      <th>source</th>\n",
       "    </tr>\n",
       "  </thead>\n",
       "  <tbody>\n",
       "    <tr>\n",
       "      <th>158</th>\n",
       "      <td>10002</td>\n",
       "      <td>NR2E3</td>\n",
       "      <td>C1849394</td>\n",
       "      <td>Enhanced S-Cone Syndrome</td>\n",
       "      <td>0.486319</td>\n",
       "      <td>7</td>\n",
       "      <td>7</td>\n",
       "      <td>CTD_human;UNIPROT</td>\n",
       "    </tr>\n",
       "    <tr>\n",
       "      <th>235</th>\n",
       "      <td>1001</td>\n",
       "      <td>CDH3</td>\n",
       "      <td>C1832162</td>\n",
       "      <td>HYPOTRICHOSIS, CONGENITAL, WITH JUVENILE MACUL...</td>\n",
       "      <td>0.600000</td>\n",
       "      <td>1</td>\n",
       "      <td>3</td>\n",
       "      <td>CTD_human;ORPHANET;UNIPROT</td>\n",
       "    </tr>\n",
       "    <tr>\n",
       "      <th>241</th>\n",
       "      <td>1001</td>\n",
       "      <td>CDH3</td>\n",
       "      <td>C1857041</td>\n",
       "      <td>Ectodermal dysplasia, ectrodactyly, and macula...</td>\n",
       "      <td>0.600824</td>\n",
       "      <td>1</td>\n",
       "      <td>2</td>\n",
       "      <td>CTD_human;ORPHANET;UNIPROT</td>\n",
       "    </tr>\n",
       "    <tr>\n",
       "      <th>586</th>\n",
       "      <td>10020</td>\n",
       "      <td>GNE</td>\n",
       "      <td>C1853926</td>\n",
       "      <td>NONAKA MYOPATHY</td>\n",
       "      <td>0.617857</td>\n",
       "      <td>12</td>\n",
       "      <td>23</td>\n",
       "      <td>CTD_human;ORPHANET;UNIPROT</td>\n",
       "    </tr>\n",
       "    <tr>\n",
       "      <th>837</th>\n",
       "      <td>100506658</td>\n",
       "      <td>OCLN</td>\n",
       "      <td>C3489725</td>\n",
       "      <td>Pseudo-TORCH syndrome</td>\n",
       "      <td>0.600824</td>\n",
       "      <td>1</td>\n",
       "      <td>4</td>\n",
       "      <td>CTD_human;ORPHANET;UNIPROT</td>\n",
       "    </tr>\n",
       "  </tbody>\n",
       "</table>\n",
       "</div>"
      ],
      "text/plain": [
       "        geneId geneSymbol diseaseId  \\\n",
       "158      10002      NR2E3  C1849394   \n",
       "235       1001       CDH3  C1832162   \n",
       "241       1001       CDH3  C1857041   \n",
       "586      10020        GNE  C1853926   \n",
       "837  100506658       OCLN  C3489725   \n",
       "\n",
       "                                           diseaseName     score  NofPmids  \\\n",
       "158                           Enhanced S-Cone Syndrome  0.486319         7   \n",
       "235  HYPOTRICHOSIS, CONGENITAL, WITH JUVENILE MACUL...  0.600000         1   \n",
       "241  Ectodermal dysplasia, ectrodactyly, and macula...  0.600824         1   \n",
       "586                                    NONAKA MYOPATHY  0.617857        12   \n",
       "837                              Pseudo-TORCH syndrome  0.600824         1   \n",
       "\n",
       "     NofSnps                      source  \n",
       "158        7           CTD_human;UNIPROT  \n",
       "235        3  CTD_human;ORPHANET;UNIPROT  \n",
       "241        2  CTD_human;ORPHANET;UNIPROT  \n",
       "586       23  CTD_human;ORPHANET;UNIPROT  \n",
       "837        4  CTD_human;ORPHANET;UNIPROT  "
      ]
     },
     "execution_count": 37,
     "metadata": {},
     "output_type": "execute_result"
    }
   ],
   "source": [
    "df_cgd.head()"
   ]
  },
  {
   "cell_type": "code",
   "execution_count": 38,
   "metadata": {},
   "outputs": [],
   "source": [
    "# Write combined gene ids to file\n",
    "with open('geneIDs.txt', 'w') as f:\n",
    "    for item in all_genes:\n",
    "        f.write(\"%s\\n\" % item)"
   ]
  },
  {
   "cell_type": "code",
   "execution_count": 14,
   "metadata": {},
   "outputs": [],
   "source": [
    "# NOTE the next step is MANUAL\n",
    "# You need to go to https://www.uniprot.org/uploadlists/ and give it the created geneIDs.txt file, ask it to convert\n",
    "# entrez gene to uniprot ID. Then download this as uniprotIDs.txt (as uncompressed, mapping table)"
   ]
  },
  {
   "cell_type": "markdown",
   "metadata": {},
   "source": [
    "##### Import the list of uniprot IDs"
   ]
  },
  {
   "cell_type": "code",
   "execution_count": 39,
   "metadata": {},
   "outputs": [],
   "source": [
    "# Import manually generated file of geneID --> uniprotID\n",
    "df_uni_ids = pd.read_csv('uniprotIDs.txt', sep='\\t')\n",
    "df_uni_ids.columns = ['GeneID', 'UniprotID']\n",
    "df_uni_ids['GeneID'] = df_uni_ids.GeneID.astype(str)"
   ]
  },
  {
   "cell_type": "code",
   "execution_count": 40,
   "metadata": {},
   "outputs": [],
   "source": [
    "# Some of the GeneIds are actually a couple of IDs on one row. Split them into multiple rows\n",
    "df_uni_ids = pd.concat([pd.Series(row['UniprotID'], row['GeneID'].split(','))              \n",
    "                    for _, row in df_uni_ids.iterrows()]).reset_index()\n",
    "df_uni_ids.columns = ['GeneID', 'UniprotID']"
   ]
  },
  {
   "cell_type": "markdown",
   "metadata": {},
   "source": [
    "##### Create merged df to enable grouping by chemicalID and diseaseID"
   ]
  },
  {
   "cell_type": "code",
   "execution_count": 41,
   "metadata": {},
   "outputs": [],
   "source": [
    "# Create mapping file of gene ID to chem ID... and gene ID to disease ID \n",
    "cg_dict = dict(zip(df_cg.GeneID, df_cg.ChemicalID))\n",
    "cgd_dict = dict(zip(df_cgd.geneId, df_cgd.diseaseId))"
   ]
  },
  {
   "cell_type": "code",
   "execution_count": 42,
   "metadata": {},
   "outputs": [
    {
     "data": {
      "text/html": [
       "<div>\n",
       "<style scoped>\n",
       "    .dataframe tbody tr th:only-of-type {\n",
       "        vertical-align: middle;\n",
       "    }\n",
       "\n",
       "    .dataframe tbody tr th {\n",
       "        vertical-align: top;\n",
       "    }\n",
       "\n",
       "    .dataframe thead th {\n",
       "        text-align: right;\n",
       "    }\n",
       "</style>\n",
       "<table border=\"1\" class=\"dataframe\">\n",
       "  <thead>\n",
       "    <tr style=\"text-align: right;\">\n",
       "      <th></th>\n",
       "      <th>GeneID</th>\n",
       "      <th>UniprotID</th>\n",
       "    </tr>\n",
       "  </thead>\n",
       "  <tbody>\n",
       "    <tr>\n",
       "      <th>0</th>\n",
       "      <td>1</td>\n",
       "      <td>P04217</td>\n",
       "    </tr>\n",
       "    <tr>\n",
       "      <th>1</th>\n",
       "      <td>1</td>\n",
       "      <td>V9HWD8</td>\n",
       "    </tr>\n",
       "    <tr>\n",
       "      <th>2</th>\n",
       "      <td>2</td>\n",
       "      <td>P01023</td>\n",
       "    </tr>\n",
       "    <tr>\n",
       "      <th>3</th>\n",
       "      <td>131076</td>\n",
       "      <td>C9JQ41</td>\n",
       "    </tr>\n",
       "    <tr>\n",
       "      <th>4</th>\n",
       "      <td>131076</td>\n",
       "      <td>Q4VC31</td>\n",
       "    </tr>\n",
       "  </tbody>\n",
       "</table>\n",
       "</div>"
      ],
      "text/plain": [
       "   GeneID UniprotID\n",
       "0       1    P04217\n",
       "1       1    V9HWD8\n",
       "2       2    P01023\n",
       "3  131076    C9JQ41\n",
       "4  131076    Q4VC31"
      ]
     },
     "execution_count": 42,
     "metadata": {},
     "output_type": "execute_result"
    }
   ],
   "source": [
    "df_uni_ids.head()"
   ]
  },
  {
   "cell_type": "code",
   "execution_count": 43,
   "metadata": {},
   "outputs": [],
   "source": [
    "df_uni_ids_d = df_uni_ids.copy() # make a copy for diseases"
   ]
  },
  {
   "cell_type": "code",
   "execution_count": 44,
   "metadata": {},
   "outputs": [],
   "source": [
    "# Apply the mapping, thereby creating chemical column\n",
    "df_uni_ids['ChemicalID'] = df_uni_ids.GeneID\n",
    "df_uni_ids['ChemicalID'] = df_uni_ids['ChemicalID'].astype(int).map(cg_dict)"
   ]
  },
  {
   "cell_type": "code",
   "execution_count": 45,
   "metadata": {},
   "outputs": [],
   "source": [
    "# Apply the mapping, thereby creating disease column\n",
    "df_uni_ids_d['DiseaseID'] = df_uni_ids_d.GeneID\n",
    "df_uni_ids_d['DiseaseID'] = df_uni_ids_d['DiseaseID'].astype(int).map(cgd_dict)"
   ]
  },
  {
   "cell_type": "code",
   "execution_count": 46,
   "metadata": {},
   "outputs": [],
   "source": [
    "# # Output disease list, later used in nn notebook\n",
    "# disease_list = df_uni_ids_d.DiseaseID.unique()\n",
    "# len(disease_list)\n",
    "# np.savetxt(r'diseases.lst', disease_list, fmt='%s')"
   ]
  },
  {
   "cell_type": "markdown",
   "metadata": {},
   "source": [
    "##### Group by Chem ID"
   ]
  },
  {
   "cell_type": "code",
   "execution_count": 47,
   "metadata": {},
   "outputs": [
    {
     "data": {
      "text/plain": [
       "(33381, 3)"
      ]
     },
     "execution_count": 47,
     "metadata": {},
     "output_type": "execute_result"
    }
   ],
   "source": [
    "df_uni_ids.dropna().shape # 33381"
   ]
  },
  {
   "cell_type": "code",
   "execution_count": 48,
   "metadata": {},
   "outputs": [
    {
     "data": {
      "text/plain": [
       "(2914, 3)"
      ]
     },
     "execution_count": 48,
     "metadata": {},
     "output_type": "execute_result"
    }
   ],
   "source": [
    "df_uni_ids_d.dropna().shape #2914"
   ]
  },
  {
   "cell_type": "markdown",
   "metadata": {},
   "source": [
    "### 2. Mine goa file, attaching go function for each uniprot ID to the parent chemical/gene"
   ]
  },
  {
   "cell_type": "code",
   "execution_count": 49,
   "metadata": {},
   "outputs": [
    {
     "name": "stderr",
     "output_type": "stream",
     "text": [
      "/home/ian/anaconda3/lib/python3.6/site-packages/IPython/core/interactiveshell.py:2785: DtypeWarning: Columns (15) have mixed types. Specify dtype option on import or set low_memory=False.\n",
      "  interactivity=interactivity, compiler=compiler, result=result)\n"
     ]
    }
   ],
   "source": [
    "# import goa file (uniprot ID to go_functions)\n",
    "go_funcs = pd.read_csv('../goa_human.gaf', header=None, skiprows=30, sep='\\t')"
   ]
  },
  {
   "cell_type": "code",
   "execution_count": 51,
   "metadata": {},
   "outputs": [],
   "source": [
    "# Cut out all cols except uniprot ids and go_funcs, rename these\n",
    "go_funcs = go_funcs.rename(columns={ go_funcs.columns[1]: \"UniprotID\" })\n",
    "go_funcs = go_funcs.rename(columns={ go_funcs.columns[4]: \"gofunc\" })\n",
    "col_list = ['UniprotID', 'gofunc']\n",
    "df_go = go_funcs[col_list]"
   ]
  },
  {
   "cell_type": "code",
   "execution_count": 52,
   "metadata": {},
   "outputs": [],
   "source": [
    "# Merge the go functions into our existing chem-uniprotID and dis-uniprotID dfs\n",
    "df_uni_ids_d = df_uni_ids_d.merge(df_go, on='UniprotID', how='outer').dropna()\n",
    "df_uni_ids = df_uni_ids.merge(df_go, on='UniprotID', how='outer').dropna()"
   ]
  },
  {
   "cell_type": "markdown",
   "metadata": {},
   "source": [
    "### 3. Prep and write to output file "
   ]
  },
  {
   "cell_type": "code",
   "execution_count": 55,
   "metadata": {},
   "outputs": [
    {
     "data": {
      "text/html": [
       "<div>\n",
       "<style scoped>\n",
       "    .dataframe tbody tr th:only-of-type {\n",
       "        vertical-align: middle;\n",
       "    }\n",
       "\n",
       "    .dataframe tbody tr th {\n",
       "        vertical-align: top;\n",
       "    }\n",
       "\n",
       "    .dataframe thead th {\n",
       "        text-align: right;\n",
       "    }\n",
       "</style>\n",
       "<table border=\"1\" class=\"dataframe\">\n",
       "  <thead>\n",
       "    <tr style=\"text-align: right;\">\n",
       "      <th></th>\n",
       "      <th>GeneID</th>\n",
       "      <th>UniprotID</th>\n",
       "      <th>DiseaseID</th>\n",
       "      <th>gofunc</th>\n",
       "      <th>go_url</th>\n",
       "    </tr>\n",
       "  </thead>\n",
       "  <tbody>\n",
       "    <tr>\n",
       "      <th>174</th>\n",
       "      <td>16</td>\n",
       "      <td>P49588</td>\n",
       "      <td>C2750090</td>\n",
       "      <td>GO:0002161</td>\n",
       "      <td>&lt;http://purl.obolibrary.org/obo/GO_0002161&gt;</td>\n",
       "    </tr>\n",
       "    <tr>\n",
       "      <th>175</th>\n",
       "      <td>16</td>\n",
       "      <td>P49588</td>\n",
       "      <td>C2750090</td>\n",
       "      <td>GO:0002196</td>\n",
       "      <td>&lt;http://purl.obolibrary.org/obo/GO_0002196&gt;</td>\n",
       "    </tr>\n",
       "    <tr>\n",
       "      <th>176</th>\n",
       "      <td>16</td>\n",
       "      <td>P49588</td>\n",
       "      <td>C2750090</td>\n",
       "      <td>GO:0004813</td>\n",
       "      <td>&lt;http://purl.obolibrary.org/obo/GO_0004813&gt;</td>\n",
       "    </tr>\n",
       "    <tr>\n",
       "      <th>177</th>\n",
       "      <td>16</td>\n",
       "      <td>P49588</td>\n",
       "      <td>C2750090</td>\n",
       "      <td>GO:0004813</td>\n",
       "      <td>&lt;http://purl.obolibrary.org/obo/GO_0004813&gt;</td>\n",
       "    </tr>\n",
       "    <tr>\n",
       "      <th>178</th>\n",
       "      <td>16</td>\n",
       "      <td>P49588</td>\n",
       "      <td>C2750090</td>\n",
       "      <td>GO:0004813</td>\n",
       "      <td>&lt;http://purl.obolibrary.org/obo/GO_0004813&gt;</td>\n",
       "    </tr>\n",
       "  </tbody>\n",
       "</table>\n",
       "</div>"
      ],
      "text/plain": [
       "    GeneID UniprotID DiseaseID      gofunc  \\\n",
       "174     16    P49588  C2750090  GO:0002161   \n",
       "175     16    P49588  C2750090  GO:0002196   \n",
       "176     16    P49588  C2750090  GO:0004813   \n",
       "177     16    P49588  C2750090  GO:0004813   \n",
       "178     16    P49588  C2750090  GO:0004813   \n",
       "\n",
       "                                          go_url  \n",
       "174  <http://purl.obolibrary.org/obo/GO_0002161>  \n",
       "175  <http://purl.obolibrary.org/obo/GO_0002196>  \n",
       "176  <http://purl.obolibrary.org/obo/GO_0004813>  \n",
       "177  <http://purl.obolibrary.org/obo/GO_0004813>  \n",
       "178  <http://purl.obolibrary.org/obo/GO_0004813>  "
      ]
     },
     "execution_count": 55,
     "metadata": {},
     "output_type": "execute_result"
    }
   ],
   "source": [
    "df_uni_ids_d.head()"
   ]
  },
  {
   "cell_type": "code",
   "execution_count": 54,
   "metadata": {},
   "outputs": [],
   "source": [
    "# Create a col with the full go url\n",
    "df_uni_ids['go_url'] = '<' + 'http://purl.obolibrary.org/obo/' + df_uni_ids.gofunc.str.replace(':', '_')  + '>'\n",
    "df_uni_ids_d['go_url'] =  '<' + 'http://purl.obolibrary.org/obo/' + df_uni_ids_d.gofunc.str.replace(':', '_')  + '>'"
   ]
  },
  {
   "cell_type": "code",
   "execution_count": 56,
   "metadata": {},
   "outputs": [],
   "source": [
    "# Grab just the columns we want to output (diseaseID and go_url/ chemicalID and go_url)\n",
    "col_list_c = ['ChemicalID', 'go_url']\n",
    "col_list_d = ['DiseaseID', 'go_url']\n",
    "df_c = df_uni_ids[col_list_c]\n",
    "df_d = df_uni_ids_d[col_list_d]"
   ]
  },
  {
   "cell_type": "code",
   "execution_count": 57,
   "metadata": {},
   "outputs": [
    {
     "data": {
      "text/html": [
       "<div>\n",
       "<style scoped>\n",
       "    .dataframe tbody tr th:only-of-type {\n",
       "        vertical-align: middle;\n",
       "    }\n",
       "\n",
       "    .dataframe tbody tr th {\n",
       "        vertical-align: top;\n",
       "    }\n",
       "\n",
       "    .dataframe thead th {\n",
       "        text-align: right;\n",
       "    }\n",
       "</style>\n",
       "<table border=\"1\" class=\"dataframe\">\n",
       "  <thead>\n",
       "    <tr style=\"text-align: right;\">\n",
       "      <th></th>\n",
       "      <th>ChemicalID</th>\n",
       "      <th>go_url</th>\n",
       "    </tr>\n",
       "  </thead>\n",
       "  <tbody>\n",
       "    <tr>\n",
       "      <th>0</th>\n",
       "      <td>D015032</td>\n",
       "      <td>&lt;http://purl.obolibrary.org/obo/GO_0002576&gt;</td>\n",
       "    </tr>\n",
       "    <tr>\n",
       "      <th>1</th>\n",
       "      <td>D015032</td>\n",
       "      <td>&lt;http://purl.obolibrary.org/obo/GO_0003674&gt;</td>\n",
       "    </tr>\n",
       "    <tr>\n",
       "      <th>2</th>\n",
       "      <td>D015032</td>\n",
       "      <td>&lt;http://purl.obolibrary.org/obo/GO_0005576&gt;</td>\n",
       "    </tr>\n",
       "    <tr>\n",
       "      <th>3</th>\n",
       "      <td>D015032</td>\n",
       "      <td>&lt;http://purl.obolibrary.org/obo/GO_0005576&gt;</td>\n",
       "    </tr>\n",
       "    <tr>\n",
       "      <th>4</th>\n",
       "      <td>D015032</td>\n",
       "      <td>&lt;http://purl.obolibrary.org/obo/GO_0005576&gt;</td>\n",
       "    </tr>\n",
       "  </tbody>\n",
       "</table>\n",
       "</div>"
      ],
      "text/plain": [
       "  ChemicalID                                       go_url\n",
       "0    D015032  <http://purl.obolibrary.org/obo/GO_0002576>\n",
       "1    D015032  <http://purl.obolibrary.org/obo/GO_0003674>\n",
       "2    D015032  <http://purl.obolibrary.org/obo/GO_0005576>\n",
       "3    D015032  <http://purl.obolibrary.org/obo/GO_0005576>\n",
       "4    D015032  <http://purl.obolibrary.org/obo/GO_0005576>"
      ]
     },
     "execution_count": 57,
     "metadata": {},
     "output_type": "execute_result"
    }
   ],
   "source": [
    "df_c.head()"
   ]
  },
  {
   "cell_type": "code",
   "execution_count": 60,
   "metadata": {},
   "outputs": [],
   "source": [
    "# Output an association file for each of chem and dis\n",
    "np.savetxt(r'associations_c.txt', df_c.values, fmt='%s')\n",
    "np.savetxt(r'associations_d.txt', df_d.values, fmt='%s')"
   ]
  },
  {
   "cell_type": "code",
   "execution_count": 61,
   "metadata": {},
   "outputs": [
    {
     "data": {
      "text/plain": [
       "0"
      ]
     },
     "execution_count": 61,
     "metadata": {},
     "output_type": "execute_result"
    }
   ],
   "source": [
    "# Merge these two into one single file\n",
    "subprocess.call('cat associations_* > myassociations', shell=True)"
   ]
  },
  {
   "cell_type": "code",
   "execution_count": 62,
   "metadata": {},
   "outputs": [],
   "source": [
    "# Output list of entities for which we want vectors (seems to be req'd by opa2vec)\n",
    "# JUST CHEMICALS\n",
    "df_c.head()\n",
    "entities4vec = df_c.ChemicalID.unique()\n",
    "np.savetxt(r'finalclasses.lst', entities4vec, fmt='%s')"
   ]
  },
  {
   "cell_type": "code",
   "execution_count": 69,
   "metadata": {},
   "outputs": [],
   "source": [
    "# # ADD DISEASES TO FINAL CLASS LST\n",
    "# entities4vec = entities4vec.tolist() + df_d.DiseaseID.unique().tolist()\n",
    "# np.savetxt(r'finalclasses.lst', entities4vec, fmt='%s')"
   ]
  }
 ],
 "metadata": {
  "kernelspec": {
   "display_name": "Python 3",
   "language": "python",
   "name": "python3"
  },
  "language_info": {
   "codemirror_mode": {
    "name": "ipython",
    "version": 3
   },
   "file_extension": ".py",
   "mimetype": "text/x-python",
   "name": "python",
   "nbconvert_exporter": "python",
   "pygments_lexer": "ipython3",
   "version": "3.6.5"
  }
 },
 "nbformat": 4,
 "nbformat_minor": 2
}
