{
 "cells": [
  {
   "cell_type": "markdown",
   "metadata": {},
   "source": [
    "# Notebook: Create OPA2VEC associations file - GoFuncs\n",
    "<b>Author</b>: Ian Coleman <br/>\n",
    "<b>Function</b>: Get genes associated with diseases and chemicals (ctdbase), take their go functions and assign to the associated chem/dis in an associations file. Also output finalclasses.lst, a file that tells opa2vec which entities you would like the vectors for"
   ]
  },
  {
   "cell_type": "code",
   "execution_count": 2,
   "metadata": {},
   "outputs": [],
   "source": [
    "import pandas as pd\n",
    "import numpy as np\n",
    "import subprocess"
   ]
  },
  {
   "cell_type": "markdown",
   "metadata": {},
   "source": [
    "### 1. Get Uniprot ID set for each Gene "
   ]
  },
  {
   "cell_type": "code",
   "execution_count": 3,
   "metadata": {},
   "outputs": [],
   "source": [
    "# # This cell is used for exporting all cells that have genes in order to create map CTD-CHEBI\n",
    "# # ACTUALLY use the below one, this cell gets MESH chem id instead of CTD chem id it seems\n",
    "# # Set coltypes pre import to maximise memory\n",
    "# col_types = {   \n",
    "#     'ChemicalID': 'category'\n",
    "# }\n",
    "# cols=['ChemicalID']\n",
    "\n",
    "\n",
    "# df_cg = pd.read_csv('../ctd-to-nt/csvs/CTD_chem_gene_ixns.csv', usecols=cols, skiprows=27)\n",
    "# df_cg = df_cg.drop(0)\n",
    "\n",
    "# np.savetxt(r'allchemsthathavegenesID.txt', df_cg.ChemicalID.unique(), fmt='%s')\n",
    "\n",
    "# # NOTE that you then have to MANUALLY upload this file to this beautiful site http://cts.fiehnlab.ucdavis.edu/batch"
   ]
  },
  {
   "cell_type": "code",
   "execution_count": 4,
   "metadata": {},
   "outputs": [],
   "source": [
    "# # This cell is used for exporting all cells that have genes in order to create map CTD-CHEBI\n",
    "\n",
    "# # Set coltypes pre import to maximise memory\n",
    "# col_types = {   \n",
    "#     '# ChemicalName': 'category'\n",
    "# }\n",
    "# cols=['# ChemicalName']\n",
    "\n",
    "\n",
    "# df_cg = pd.read_csv('../ctd-to-nt/csvs/CTD_chem_gene_ixns.csv', usecols=cols, skiprows=27)\n",
    "# df_cg = df_cg.drop(0)\n",
    "\n",
    "# np.savetxt(r'allchemsthathavegenesNAMES.txt', df_cg['# ChemicalName'].unique(), fmt='%s')\n",
    "\n",
    "# # NOTE that you then have to MANUALLY upload this file to this beautiful site http://cts.fiehnlab.ucdavis.edu/batch"
   ]
  },
  {
   "cell_type": "code",
   "execution_count": null,
   "metadata": {},
   "outputs": [],
   "source": [
    "# The below few cells are commented out as I have saved the resulting df and reload it. You may need to uncomment"
   ]
  },
  {
   "cell_type": "code",
   "execution_count": 5,
   "metadata": {},
   "outputs": [],
   "source": [
    "# # CHEMICALS\n",
    "# # Import CTD file to get the geneIDs we want \n",
    "\n",
    "# # Set coltypes pre import to maximise memory\n",
    "# col_types = {   \n",
    "#     'GeneID': 'category',\n",
    "#     'ChemicalID': 'category',\n",
    "#     'InteractionActions': 'category',\n",
    "# }\n",
    "# cols=['ChemicalID', 'GeneID', 'InteractionActions', 'OrganismID', 'GeneSymbol']\n",
    "\n",
    "\n",
    "# df_cg = pd.read_csv('../ctd-to-nt/csvs/CTD_chem_gene_ixns.csv', usecols=cols, skiprows=27)\n",
    "# df_cg = df_cg.drop(0)\n",
    "\n",
    "# # Cut down to just humans if you want to\n",
    "# # df_cg = df_cg.loc[df_cg['OrganismID'] == 9606.0]\n",
    "\n",
    "# # Need to change float to int for the later url to work\n",
    "# df_cg['GeneID'] = df_cg.GeneID.astype(int)"
   ]
  },
  {
   "cell_type": "code",
   "execution_count": 6,
   "metadata": {},
   "outputs": [],
   "source": [
    "# # Here I split up the df into two as laptop crashes on next cell if all goes at once\n",
    "# df_cg1 = df_cg[:800000].copy()\n",
    "# df_cg = df_cg[800000:]"
   ]
  },
  {
   "cell_type": "code",
   "execution_count": 7,
   "metadata": {},
   "outputs": [],
   "source": [
    "# ## Now I'm going to split the chem-gene relationships into pos/neg correlation with neutral for unclear \n",
    "# #(further info is likely available to split the unclear better)\n",
    "\n",
    "# # Split the interactionActions into separate predicates\n",
    "# s = df_cg['InteractionActions'].str.split('|').apply(pd.Series, 1).stack()\n",
    "# s.index = s.index.droplevel(-1)\n",
    "# s.name = 'InteractionActions'\n",
    "# df_cg = df_cg.join(s.apply(lambda x: pd.Series(x)))\n",
    "\n",
    "# # Make the new column prettier\n",
    "# df_cg = df_cg.rename(columns={0: 'Predicate'})\n",
    "# df_cg['Predicate'] = df_cg.Predicate.str.replace('^', '_')\n",
    "# df_cg['Predicate'] = df_cg.Predicate.str.replace(' ', '_')\n"
   ]
  },
  {
   "cell_type": "code",
   "execution_count": 8,
   "metadata": {},
   "outputs": [],
   "source": [
    "# ## As above but for the other half\n",
    "# # Split the interactionActions into separate predicates\n",
    "# s = df_cg1['InteractionActions'].str.split('|').apply(pd.Series, 1).stack()\n",
    "# s.index = s.index.droplevel(-1)\n",
    "# s.name = 'InteractionActions'\n",
    "# df_cg1 = df_cg1.join(s.apply(lambda x: pd.Series(x)))\n",
    "\n",
    "# # Make the new column prettier\n",
    "# df_cg1 = df_cg1.rename(columns={0: 'Predicate'})\n",
    "# df_cg1['Predicate'] = df_cg1.Predicate.str.replace('^', '_')\n",
    "# df_cg1['Predicate'] = df_cg1.Predicate.str.replace(' ', '_')\n"
   ]
  },
  {
   "cell_type": "code",
   "execution_count": 9,
   "metadata": {},
   "outputs": [],
   "source": [
    "# # Re merge the two halfs of the df\n",
    "# df_cg = pd.concat([df_cg, df_cg1], ignore_index=True)"
   ]
  },
  {
   "cell_type": "code",
   "execution_count": 10,
   "metadata": {},
   "outputs": [],
   "source": [
    "# # Map each c-g relationship to positive or negative (True is positive) based on the predicates\n",
    "\n",
    "# map_to_corr_direction = {\n",
    "#     'increases_expression' : True,\n",
    "#     'decreases_activity' : False,\n",
    "#     'decreases_expression': False,\n",
    "#     'increases_activity': True,\n",
    "#     'increases_stability': True,\n",
    "#     'decreases_stability': False,\n",
    "#     'increases_abundance': True,\n",
    "#     'decreases_abundance': False,\n",
    "#     'increases_degradation': False,\n",
    "#     'decreases_degradation': True,\n",
    "#     'increases_chemical_synthesis' : True,\n",
    "#     'increases_reaction' : True,\n",
    "#     'decreases_reaction' : False\n",
    "# }\n",
    "\n",
    "# # Apply map\n",
    "# df_cg['dir_corr'] = df_cg.Predicate.map(map_to_corr_direction).astype(str)\n",
    "# df_cg = df_cg.assign(**pd.get_dummies(df_cg['dir_corr']))\n",
    "# df_cg = df_cg.rename(columns={'False': 'Neg', 'True': 'Pos', 'nan': 'direction_unknown'}) # rename of a column"
   ]
  },
  {
   "cell_type": "code",
   "execution_count": 11,
   "metadata": {},
   "outputs": [],
   "source": [
    "# df_cg = df_cg[df_cg.Pos == 1]\n",
    "# df_cg.to_csv('chem-dis-pos-assocs.csv', index=False)"
   ]
  },
  {
   "cell_type": "code",
   "execution_count": 18,
   "metadata": {},
   "outputs": [],
   "source": [
    "df_cg = pd.read_csv('chem-dis-pos-assocs.csv')"
   ]
  },
  {
   "cell_type": "code",
   "execution_count": 19,
   "metadata": {},
   "outputs": [],
   "source": [
    "# # DISEASES\n",
    "# # Import DisGeNet with disease IDs and Gene IDs\n",
    "# df_cgd = pd.read_csv('../disgenet-nt/input_tsvs/curated_gene_disease_associations.tsv', sep='\\t')\n",
    "\n",
    "# # Limit by evidence Score \n",
    "# df_cgd = df_cgd[df_cgd.score >= 0.42]"
   ]
  },
  {
   "cell_type": "code",
   "execution_count": 20,
   "metadata": {},
   "outputs": [],
   "source": [
    "# df_cgd.head()"
   ]
  },
  {
   "cell_type": "code",
   "execution_count": 24,
   "metadata": {},
   "outputs": [],
   "source": [
    "# Alternative DISEASES --> Switching out DisGeNet for CTD (as they use UMLS/MESH respectively)\n",
    "# Import preprepared g-d associations (from ctd-to-nt notebook) direct assocs only\n",
    "df_cgd = pd.read_csv('../ctd-to-nt/gene-dis-pos-assocs.csv')\n",
    "df_cgd['GeneID'] = df_cgd['GeneID'].astype(int)"
   ]
  },
  {
   "cell_type": "code",
   "execution_count": 27,
   "metadata": {},
   "outputs": [
    {
     "data": {
      "text/html": [
       "<div>\n",
       "<style scoped>\n",
       "    .dataframe tbody tr th:only-of-type {\n",
       "        vertical-align: middle;\n",
       "    }\n",
       "\n",
       "    .dataframe tbody tr th {\n",
       "        vertical-align: top;\n",
       "    }\n",
       "\n",
       "    .dataframe thead th {\n",
       "        text-align: right;\n",
       "    }\n",
       "</style>\n",
       "<table border=\"1\" class=\"dataframe\">\n",
       "  <thead>\n",
       "    <tr style=\"text-align: right;\">\n",
       "      <th></th>\n",
       "      <th>ChemicalID</th>\n",
       "      <th>GeneSymbol</th>\n",
       "      <th>GeneID</th>\n",
       "      <th>OrganismID</th>\n",
       "      <th>InteractionActions</th>\n",
       "      <th>Predicate</th>\n",
       "      <th>dir_corr</th>\n",
       "      <th>Neg</th>\n",
       "      <th>Pos</th>\n",
       "      <th>direction_unknown</th>\n",
       "    </tr>\n",
       "  </thead>\n",
       "  <tbody>\n",
       "    <tr>\n",
       "      <th>0</th>\n",
       "      <td>C070081</td>\n",
       "      <td>NCOA3</td>\n",
       "      <td>8202</td>\n",
       "      <td>9606.0</td>\n",
       "      <td>affects^binding|affects^cotreatment|decreases^...</td>\n",
       "      <td>increases_reaction</td>\n",
       "      <td>True</td>\n",
       "      <td>0</td>\n",
       "      <td>1</td>\n",
       "      <td>0</td>\n",
       "    </tr>\n",
       "    <tr>\n",
       "      <th>1</th>\n",
       "      <td>C070081</td>\n",
       "      <td>NCOR1</td>\n",
       "      <td>9611</td>\n",
       "      <td>9606.0</td>\n",
       "      <td>affects^binding|increases^reaction</td>\n",
       "      <td>increases_reaction</td>\n",
       "      <td>True</td>\n",
       "      <td>0</td>\n",
       "      <td>1</td>\n",
       "      <td>0</td>\n",
       "    </tr>\n",
       "    <tr>\n",
       "      <th>2</th>\n",
       "      <td>C070081</td>\n",
       "      <td>NCOR2</td>\n",
       "      <td>9612</td>\n",
       "      <td>9606.0</td>\n",
       "      <td>affects^binding|affects^cotreatment|decreases^...</td>\n",
       "      <td>increases_reaction</td>\n",
       "      <td>True</td>\n",
       "      <td>0</td>\n",
       "      <td>1</td>\n",
       "      <td>0</td>\n",
       "    </tr>\n",
       "    <tr>\n",
       "      <th>3</th>\n",
       "      <td>C070081</td>\n",
       "      <td>NEDD4</td>\n",
       "      <td>4734</td>\n",
       "      <td>9606.0</td>\n",
       "      <td>affects^binding|increases^reaction|increases^u...</td>\n",
       "      <td>increases_reaction</td>\n",
       "      <td>True</td>\n",
       "      <td>0</td>\n",
       "      <td>1</td>\n",
       "      <td>0</td>\n",
       "    </tr>\n",
       "    <tr>\n",
       "      <th>4</th>\n",
       "      <td>C070081</td>\n",
       "      <td>NEDD4</td>\n",
       "      <td>4734</td>\n",
       "      <td>9606.0</td>\n",
       "      <td>affects^binding|decreases^reaction|increases^r...</td>\n",
       "      <td>increases_reaction</td>\n",
       "      <td>True</td>\n",
       "      <td>0</td>\n",
       "      <td>1</td>\n",
       "      <td>0</td>\n",
       "    </tr>\n",
       "  </tbody>\n",
       "</table>\n",
       "</div>"
      ],
      "text/plain": [
       "  ChemicalID GeneSymbol  GeneID  OrganismID  \\\n",
       "0    C070081      NCOA3    8202      9606.0   \n",
       "1    C070081      NCOR1    9611      9606.0   \n",
       "2    C070081      NCOR2    9612      9606.0   \n",
       "3    C070081      NEDD4    4734      9606.0   \n",
       "4    C070081      NEDD4    4734      9606.0   \n",
       "\n",
       "                                  InteractionActions           Predicate  \\\n",
       "0  affects^binding|affects^cotreatment|decreases^...  increases_reaction   \n",
       "1                 affects^binding|increases^reaction  increases_reaction   \n",
       "2  affects^binding|affects^cotreatment|decreases^...  increases_reaction   \n",
       "3  affects^binding|increases^reaction|increases^u...  increases_reaction   \n",
       "4  affects^binding|decreases^reaction|increases^r...  increases_reaction   \n",
       "\n",
       "   dir_corr  Neg  Pos  direction_unknown  \n",
       "0      True    0    1                  0  \n",
       "1      True    0    1                  0  \n",
       "2      True    0    1                  0  \n",
       "3      True    0    1                  0  \n",
       "4      True    0    1                  0  "
      ]
     },
     "execution_count": 27,
     "metadata": {},
     "output_type": "execute_result"
    }
   ],
   "source": [
    "df_cg.head()\n",
    "# This looks wrong, why are all predicates the same"
   ]
  },
  {
   "cell_type": "code",
   "execution_count": 22,
   "metadata": {},
   "outputs": [
    {
     "data": {
      "text/html": [
       "<div>\n",
       "<style scoped>\n",
       "    .dataframe tbody tr th:only-of-type {\n",
       "        vertical-align: middle;\n",
       "    }\n",
       "\n",
       "    .dataframe tbody tr th {\n",
       "        vertical-align: top;\n",
       "    }\n",
       "\n",
       "    .dataframe thead th {\n",
       "        text-align: right;\n",
       "    }\n",
       "</style>\n",
       "<table border=\"1\" class=\"dataframe\">\n",
       "  <thead>\n",
       "    <tr style=\"text-align: right;\">\n",
       "      <th></th>\n",
       "      <th>GeneID</th>\n",
       "      <th>DiseaseID</th>\n",
       "    </tr>\n",
       "  </thead>\n",
       "  <tbody>\n",
       "    <tr>\n",
       "      <th>0</th>\n",
       "      <td>50518</td>\n",
       "      <td>MESH:D003920</td>\n",
       "    </tr>\n",
       "    <tr>\n",
       "      <th>1</th>\n",
       "      <td>50518</td>\n",
       "      <td>MESH:D003924</td>\n",
       "    </tr>\n",
       "    <tr>\n",
       "      <th>2</th>\n",
       "      <td>50518</td>\n",
       "      <td>MESH:D008113</td>\n",
       "    </tr>\n",
       "    <tr>\n",
       "      <th>3</th>\n",
       "      <td>50518</td>\n",
       "      <td>MESH:D009369</td>\n",
       "    </tr>\n",
       "    <tr>\n",
       "      <th>4</th>\n",
       "      <td>50518</td>\n",
       "      <td>MESH:D009765</td>\n",
       "    </tr>\n",
       "  </tbody>\n",
       "</table>\n",
       "</div>"
      ],
      "text/plain": [
       "   GeneID     DiseaseID\n",
       "0   50518  MESH:D003920\n",
       "1   50518  MESH:D003924\n",
       "2   50518  MESH:D008113\n",
       "3   50518  MESH:D009369\n",
       "4   50518  MESH:D009765"
      ]
     },
     "execution_count": 22,
     "metadata": {},
     "output_type": "execute_result"
    }
   ],
   "source": [
    "df_cgd.head()"
   ]
  },
  {
   "cell_type": "markdown",
   "metadata": {},
   "source": [
    "#### Side note - integrate SIDER chem-dis assocs here pre training"
   ]
  },
  {
   "cell_type": "code",
   "execution_count": null,
   "metadata": {},
   "outputs": [],
   "source": []
  },
  {
   "cell_type": "code",
   "execution_count": null,
   "metadata": {},
   "outputs": [],
   "source": []
  },
  {
   "cell_type": "code",
   "execution_count": null,
   "metadata": {},
   "outputs": [],
   "source": []
  },
  {
   "cell_type": "code",
   "execution_count": null,
   "metadata": {},
   "outputs": [],
   "source": []
  },
  {
   "cell_type": "code",
   "execution_count": 28,
   "metadata": {},
   "outputs": [],
   "source": [
    "# # Create list of all associated GeneIDs for each of Chemicals and Diseases\n",
    "cgene_ids = df_cg.GeneID.unique()\n",
    "dgene_ids = df_cgd.GeneID.unique()\n",
    "\n",
    "# Combine them\n",
    "all_genes = set(cgene_ids).union(set(dgene_ids))"
   ]
  },
  {
   "cell_type": "code",
   "execution_count": 30,
   "metadata": {},
   "outputs": [],
   "source": [
    "# Write combined gene ids to file\n",
    "with open('geneIDs.txt', 'w') as f:\n",
    "    for item in all_genes:\n",
    "        f.write(\"%s\\n\" % item)"
   ]
  },
  {
   "cell_type": "markdown",
   "metadata": {},
   "source": [
    "### NOTE the next step is MANUAL\n",
    "You need to go to https://www.uniprot.org/uploadlists/ and give it the created geneIDs.txt file, ask it to convert\n",
    "entrez gene to uniprot ID. Then download this as uniprotIDs.txt (as uncompressed, mapping table) to this folder"
   ]
  },
  {
   "cell_type": "markdown",
   "metadata": {},
   "source": [
    "##### Import the list of uniprot IDs"
   ]
  },
  {
   "cell_type": "code",
   "execution_count": 33,
   "metadata": {},
   "outputs": [],
   "source": [
    "# Import manually generated file of geneID --> uniprotID\n",
    "df_uni_ids = pd.read_csv('uniprotIDs.txt', sep='\\t',usecols=[0,1])\n",
    "df_uni_ids.columns = ['GeneID', 'UniprotID']\n",
    "df_uni_ids['GeneID'] = df_uni_ids.GeneID.astype(str)"
   ]
  },
  {
   "cell_type": "code",
   "execution_count": 34,
   "metadata": {},
   "outputs": [],
   "source": [
    "# Some of the GeneIds are actually a couple of IDs on one row. Split them into multiple rows\n",
    "df_uni_ids = pd.concat([pd.Series(row['UniprotID'], row['GeneID'].split(','))              \n",
    "                    for _, row in df_uni_ids.iterrows()]).reset_index()\n",
    "df_uni_ids.columns = ['GeneID', 'UniprotID']"
   ]
  },
  {
   "cell_type": "markdown",
   "metadata": {},
   "source": [
    "##### Create merged df to enable grouping by chemicalID and diseaseID"
   ]
  },
  {
   "cell_type": "code",
   "execution_count": 35,
   "metadata": {},
   "outputs": [],
   "source": [
    "# Create mapping file of gene ID to chem ID... and gene ID to disease ID \n",
    "cg_dict = dict(zip(df_cg.GeneID, df_cg.ChemicalID))\n",
    "cgd_dict = dict(zip(df_cgd.GeneID, df_cgd.DiseaseID))"
   ]
  },
  {
   "cell_type": "code",
   "execution_count": 36,
   "metadata": {
    "scrolled": true
   },
   "outputs": [
    {
     "data": {
      "text/html": [
       "<div>\n",
       "<style scoped>\n",
       "    .dataframe tbody tr th:only-of-type {\n",
       "        vertical-align: middle;\n",
       "    }\n",
       "\n",
       "    .dataframe tbody tr th {\n",
       "        vertical-align: top;\n",
       "    }\n",
       "\n",
       "    .dataframe thead th {\n",
       "        text-align: right;\n",
       "    }\n",
       "</style>\n",
       "<table border=\"1\" class=\"dataframe\">\n",
       "  <thead>\n",
       "    <tr style=\"text-align: right;\">\n",
       "      <th></th>\n",
       "      <th>GeneID</th>\n",
       "      <th>UniprotID</th>\n",
       "    </tr>\n",
       "  </thead>\n",
       "  <tbody>\n",
       "    <tr>\n",
       "      <th>0</th>\n",
       "      <td>1</td>\n",
       "      <td>P04217</td>\n",
       "    </tr>\n",
       "    <tr>\n",
       "      <th>1</th>\n",
       "      <td>1</td>\n",
       "      <td>V9HWD8</td>\n",
       "    </tr>\n",
       "    <tr>\n",
       "      <th>2</th>\n",
       "      <td>2</td>\n",
       "      <td>P01023</td>\n",
       "    </tr>\n",
       "    <tr>\n",
       "      <th>3</th>\n",
       "      <td>131076</td>\n",
       "      <td>C9JQ41</td>\n",
       "    </tr>\n",
       "    <tr>\n",
       "      <th>4</th>\n",
       "      <td>131076</td>\n",
       "      <td>Q4VC31</td>\n",
       "    </tr>\n",
       "  </tbody>\n",
       "</table>\n",
       "</div>"
      ],
      "text/plain": [
       "   GeneID UniprotID\n",
       "0       1    P04217\n",
       "1       1    V9HWD8\n",
       "2       2    P01023\n",
       "3  131076    C9JQ41\n",
       "4  131076    Q4VC31"
      ]
     },
     "execution_count": 36,
     "metadata": {},
     "output_type": "execute_result"
    }
   ],
   "source": [
    "df_uni_ids.head()"
   ]
  },
  {
   "cell_type": "code",
   "execution_count": 37,
   "metadata": {},
   "outputs": [],
   "source": [
    "df_uni_ids_d = df_uni_ids.copy() # make a copy for diseases"
   ]
  },
  {
   "cell_type": "code",
   "execution_count": 38,
   "metadata": {},
   "outputs": [],
   "source": [
    "# Apply the mapping, thereby creating chemical column\n",
    "df_uni_ids['ChemicalID'] = df_uni_ids.GeneID\n",
    "df_uni_ids['ChemicalID'] = df_uni_ids['ChemicalID'].astype(int).map(cg_dict)"
   ]
  },
  {
   "cell_type": "code",
   "execution_count": 39,
   "metadata": {},
   "outputs": [],
   "source": [
    "# Apply the mapping, thereby creating disease column\n",
    "df_uni_ids_d['DiseaseID'] = df_uni_ids_d.GeneID\n",
    "df_uni_ids_d['DiseaseID'] = df_uni_ids_d['DiseaseID'].astype(int).map(cgd_dict)"
   ]
  },
  {
   "cell_type": "code",
   "execution_count": 40,
   "metadata": {},
   "outputs": [],
   "source": [
    "# # Output disease list, later used in nn notebook\n",
    "# disease_list = df_uni_ids_d.DiseaseID.unique()\n",
    "# len(disease_list)\n",
    "# np.savetxt(r'diseases.lst', disease_list, fmt='%s')"
   ]
  },
  {
   "cell_type": "code",
   "execution_count": 41,
   "metadata": {},
   "outputs": [],
   "source": [
    "## This establishes that the len of a disease id is always 8 while a chem is 7 or 10\n",
    "# df_uni_ids['IDlen'] = df_uni_ids.ChemicalID.map(lambda x: len(x))\n",
    "# df_uni_ids_d['IDlen'] = df_uni_ids_d.DiseaseID.map(lambda x: len(x))\n",
    "# print(df_uni_ids.IDlen.unique())\n",
    "# print(df_uni_ids_d.IDlen.unique())"
   ]
  },
  {
   "cell_type": "markdown",
   "metadata": {},
   "source": [
    "##### Group by Chem ID"
   ]
  },
  {
   "cell_type": "code",
   "execution_count": 42,
   "metadata": {},
   "outputs": [
    {
     "data": {
      "text/plain": [
       "(47611, 3)"
      ]
     },
     "execution_count": 42,
     "metadata": {},
     "output_type": "execute_result"
    }
   ],
   "source": [
    "df_uni_ids.dropna().shape # 47611,3  --> All pos chem-gene assocs"
   ]
  },
  {
   "cell_type": "code",
   "execution_count": 43,
   "metadata": {},
   "outputs": [
    {
     "data": {
      "text/html": [
       "<div>\n",
       "<style scoped>\n",
       "    .dataframe tbody tr th:only-of-type {\n",
       "        vertical-align: middle;\n",
       "    }\n",
       "\n",
       "    .dataframe tbody tr th {\n",
       "        vertical-align: top;\n",
       "    }\n",
       "\n",
       "    .dataframe thead th {\n",
       "        text-align: right;\n",
       "    }\n",
       "</style>\n",
       "<table border=\"1\" class=\"dataframe\">\n",
       "  <thead>\n",
       "    <tr style=\"text-align: right;\">\n",
       "      <th></th>\n",
       "      <th>GeneID</th>\n",
       "      <th>UniprotID</th>\n",
       "      <th>ChemicalID</th>\n",
       "    </tr>\n",
       "  </thead>\n",
       "  <tbody>\n",
       "    <tr>\n",
       "      <th>0</th>\n",
       "      <td>1</td>\n",
       "      <td>P04217</td>\n",
       "      <td>D005459</td>\n",
       "    </tr>\n",
       "    <tr>\n",
       "      <th>1</th>\n",
       "      <td>1</td>\n",
       "      <td>V9HWD8</td>\n",
       "      <td>D005459</td>\n",
       "    </tr>\n",
       "    <tr>\n",
       "      <th>2</th>\n",
       "      <td>2</td>\n",
       "      <td>P01023</td>\n",
       "      <td>D005620</td>\n",
       "    </tr>\n",
       "    <tr>\n",
       "      <th>3</th>\n",
       "      <td>131076</td>\n",
       "      <td>C9JQ41</td>\n",
       "      <td>D005485</td>\n",
       "    </tr>\n",
       "    <tr>\n",
       "      <th>4</th>\n",
       "      <td>131076</td>\n",
       "      <td>Q4VC31</td>\n",
       "      <td>D005485</td>\n",
       "    </tr>\n",
       "  </tbody>\n",
       "</table>\n",
       "</div>"
      ],
      "text/plain": [
       "   GeneID UniprotID ChemicalID\n",
       "0       1    P04217    D005459\n",
       "1       1    V9HWD8    D005459\n",
       "2       2    P01023    D005620\n",
       "3  131076    C9JQ41    D005485\n",
       "4  131076    Q4VC31    D005485"
      ]
     },
     "execution_count": 43,
     "metadata": {},
     "output_type": "execute_result"
    }
   ],
   "source": [
    "df_uni_ids.head()"
   ]
  },
  {
   "cell_type": "code",
   "execution_count": 44,
   "metadata": {},
   "outputs": [
    {
     "data": {
      "text/plain": [
       "(14945, 3)"
      ]
     },
     "execution_count": 44,
     "metadata": {},
     "output_type": "execute_result"
    }
   ],
   "source": [
    "df_uni_ids_d.dropna().shape # 14945, 3 --> all pos dis-gene assocs"
   ]
  },
  {
   "cell_type": "code",
   "execution_count": 45,
   "metadata": {},
   "outputs": [],
   "source": [
    "# Write both of these dfs to csvs (will use to make the HINO vecs)\n",
    "df_uni_ids.to_csv('CHEM_GENE_UNIPROT.csv', index=False) # only positive chem-gene\n",
    "df_uni_ids_d.to_csv('DIS_GENE_UNIPROT.csv', index=False) # only positive dis-gene"
   ]
  },
  {
   "cell_type": "markdown",
   "metadata": {},
   "source": [
    "### 2. Mine goa file, attaching go function for each uniprot ID to the parent chemical/gene"
   ]
  },
  {
   "cell_type": "code",
   "execution_count": 46,
   "metadata": {},
   "outputs": [
    {
     "name": "stderr",
     "output_type": "stream",
     "text": [
      "/home/ian/anaconda3/lib/python3.6/site-packages/IPython/core/interactiveshell.py:2785: DtypeWarning: Columns (15) have mixed types. Specify dtype option on import or set low_memory=False.\n",
      "  interactivity=interactivity, compiler=compiler, result=result)\n"
     ]
    }
   ],
   "source": [
    "# import goa file (uniprot ID to go_functions)\n",
    "go_funcs = pd.read_csv('../goa_human.gaf', header=None, skiprows=30, sep='\\t')"
   ]
  },
  {
   "cell_type": "code",
   "execution_count": 47,
   "metadata": {},
   "outputs": [],
   "source": [
    "# Cut out all cols except uniprot ids and go_funcs, rename these\n",
    "go_funcs = go_funcs.rename(columns={ go_funcs.columns[1]: \"UniprotID\" })\n",
    "go_funcs = go_funcs.rename(columns={ go_funcs.columns[4]: \"gofunc\" })\n",
    "col_list = ['UniprotID', 'gofunc']\n",
    "df_go = go_funcs[col_list]"
   ]
  },
  {
   "cell_type": "code",
   "execution_count": 48,
   "metadata": {},
   "outputs": [],
   "source": [
    "# Merge the go functions into our existing chem-uniprotID and dis-uniprotID dfs\n",
    "df_uni_ids_d = df_uni_ids_d.merge(df_go, on='UniprotID', how='outer').dropna()\n",
    "df_uni_ids = df_uni_ids.merge(df_go, on='UniprotID', how='outer').dropna()"
   ]
  },
  {
   "cell_type": "markdown",
   "metadata": {},
   "source": [
    "### 3. Prep and write to output file "
   ]
  },
  {
   "cell_type": "code",
   "execution_count": 49,
   "metadata": {},
   "outputs": [
    {
     "data": {
      "text/html": [
       "<div>\n",
       "<style scoped>\n",
       "    .dataframe tbody tr th:only-of-type {\n",
       "        vertical-align: middle;\n",
       "    }\n",
       "\n",
       "    .dataframe tbody tr th {\n",
       "        vertical-align: top;\n",
       "    }\n",
       "\n",
       "    .dataframe thead th {\n",
       "        text-align: right;\n",
       "    }\n",
       "</style>\n",
       "<table border=\"1\" class=\"dataframe\">\n",
       "  <thead>\n",
       "    <tr style=\"text-align: right;\">\n",
       "      <th></th>\n",
       "      <th>GeneID</th>\n",
       "      <th>UniprotID</th>\n",
       "      <th>DiseaseID</th>\n",
       "      <th>gofunc</th>\n",
       "    </tr>\n",
       "  </thead>\n",
       "  <tbody>\n",
       "    <tr>\n",
       "      <th>0</th>\n",
       "      <td>1</td>\n",
       "      <td>P04217</td>\n",
       "      <td>MESH:D012559</td>\n",
       "      <td>GO:0002576</td>\n",
       "    </tr>\n",
       "    <tr>\n",
       "      <th>1</th>\n",
       "      <td>1</td>\n",
       "      <td>P04217</td>\n",
       "      <td>MESH:D012559</td>\n",
       "      <td>GO:0003674</td>\n",
       "    </tr>\n",
       "    <tr>\n",
       "      <th>2</th>\n",
       "      <td>1</td>\n",
       "      <td>P04217</td>\n",
       "      <td>MESH:D012559</td>\n",
       "      <td>GO:0005576</td>\n",
       "    </tr>\n",
       "    <tr>\n",
       "      <th>3</th>\n",
       "      <td>1</td>\n",
       "      <td>P04217</td>\n",
       "      <td>MESH:D012559</td>\n",
       "      <td>GO:0005576</td>\n",
       "    </tr>\n",
       "    <tr>\n",
       "      <th>4</th>\n",
       "      <td>1</td>\n",
       "      <td>P04217</td>\n",
       "      <td>MESH:D012559</td>\n",
       "      <td>GO:0005576</td>\n",
       "    </tr>\n",
       "  </tbody>\n",
       "</table>\n",
       "</div>"
      ],
      "text/plain": [
       "  GeneID UniprotID     DiseaseID      gofunc\n",
       "0      1    P04217  MESH:D012559  GO:0002576\n",
       "1      1    P04217  MESH:D012559  GO:0003674\n",
       "2      1    P04217  MESH:D012559  GO:0005576\n",
       "3      1    P04217  MESH:D012559  GO:0005576\n",
       "4      1    P04217  MESH:D012559  GO:0005576"
      ]
     },
     "execution_count": 49,
     "metadata": {},
     "output_type": "execute_result"
    }
   ],
   "source": [
    "df_uni_ids_d.head()"
   ]
  },
  {
   "cell_type": "code",
   "execution_count": 50,
   "metadata": {},
   "outputs": [
    {
     "data": {
      "text/html": [
       "<div>\n",
       "<style scoped>\n",
       "    .dataframe tbody tr th:only-of-type {\n",
       "        vertical-align: middle;\n",
       "    }\n",
       "\n",
       "    .dataframe tbody tr th {\n",
       "        vertical-align: top;\n",
       "    }\n",
       "\n",
       "    .dataframe thead th {\n",
       "        text-align: right;\n",
       "    }\n",
       "</style>\n",
       "<table border=\"1\" class=\"dataframe\">\n",
       "  <thead>\n",
       "    <tr style=\"text-align: right;\">\n",
       "      <th></th>\n",
       "      <th>GeneID</th>\n",
       "      <th>UniprotID</th>\n",
       "      <th>ChemicalID</th>\n",
       "      <th>gofunc</th>\n",
       "    </tr>\n",
       "  </thead>\n",
       "  <tbody>\n",
       "    <tr>\n",
       "      <th>0</th>\n",
       "      <td>1</td>\n",
       "      <td>P04217</td>\n",
       "      <td>D005459</td>\n",
       "      <td>GO:0002576</td>\n",
       "    </tr>\n",
       "    <tr>\n",
       "      <th>1</th>\n",
       "      <td>1</td>\n",
       "      <td>P04217</td>\n",
       "      <td>D005459</td>\n",
       "      <td>GO:0003674</td>\n",
       "    </tr>\n",
       "    <tr>\n",
       "      <th>2</th>\n",
       "      <td>1</td>\n",
       "      <td>P04217</td>\n",
       "      <td>D005459</td>\n",
       "      <td>GO:0005576</td>\n",
       "    </tr>\n",
       "    <tr>\n",
       "      <th>3</th>\n",
       "      <td>1</td>\n",
       "      <td>P04217</td>\n",
       "      <td>D005459</td>\n",
       "      <td>GO:0005576</td>\n",
       "    </tr>\n",
       "    <tr>\n",
       "      <th>4</th>\n",
       "      <td>1</td>\n",
       "      <td>P04217</td>\n",
       "      <td>D005459</td>\n",
       "      <td>GO:0005576</td>\n",
       "    </tr>\n",
       "  </tbody>\n",
       "</table>\n",
       "</div>"
      ],
      "text/plain": [
       "  GeneID UniprotID ChemicalID      gofunc\n",
       "0      1    P04217    D005459  GO:0002576\n",
       "1      1    P04217    D005459  GO:0003674\n",
       "2      1    P04217    D005459  GO:0005576\n",
       "3      1    P04217    D005459  GO:0005576\n",
       "4      1    P04217    D005459  GO:0005576"
      ]
     },
     "execution_count": 50,
     "metadata": {},
     "output_type": "execute_result"
    }
   ],
   "source": [
    "df_uni_ids.head()"
   ]
  },
  {
   "cell_type": "code",
   "execution_count": 51,
   "metadata": {},
   "outputs": [],
   "source": [
    "# Create a col with the full go url\n",
    "df_uni_ids['go_url'] = '<' + 'http://purl.obolibrary.org/obo/' + df_uni_ids.gofunc.str.replace(':', '_')  + '>'\n",
    "df_uni_ids_d['go_url'] =  '<' + 'http://purl.obolibrary.org/obo/' + df_uni_ids_d.gofunc.str.replace(':', '_')  + '>'"
   ]
  },
  {
   "cell_type": "code",
   "execution_count": 52,
   "metadata": {},
   "outputs": [],
   "source": [
    "# Grab just the columns we want to output (diseaseID and go_url/ chemicalID and go_url)\n",
    "col_list_c = ['ChemicalID', 'go_url']\n",
    "col_list_d = ['DiseaseID', 'go_url']\n",
    "df_c = df_uni_ids[col_list_c]\n",
    "df_d = df_uni_ids_d[col_list_d]"
   ]
  },
  {
   "cell_type": "code",
   "execution_count": 53,
   "metadata": {},
   "outputs": [],
   "source": [
    "# df_c.ChemicalID.unique()"
   ]
  },
  {
   "cell_type": "code",
   "execution_count": 33,
   "metadata": {},
   "outputs": [
    {
     "data": {
      "text/plain": [
       "array(['MESH:D012559', 'MESH:D009404', 'MESH:D001749', ..., 'OMIM:613703',\n",
       "       'OMIM:613617', 'MESH:C537581'], dtype=object)"
      ]
     },
     "execution_count": 33,
     "metadata": {},
     "output_type": "execute_result"
    }
   ],
   "source": [
    "df_d.DiseaseID.unique()"
   ]
  },
  {
   "cell_type": "code",
   "execution_count": 40,
   "metadata": {},
   "outputs": [
    {
     "data": {
      "text/html": [
       "<div>\n",
       "<style scoped>\n",
       "    .dataframe tbody tr th:only-of-type {\n",
       "        vertical-align: middle;\n",
       "    }\n",
       "\n",
       "    .dataframe tbody tr th {\n",
       "        vertical-align: top;\n",
       "    }\n",
       "\n",
       "    .dataframe thead th {\n",
       "        text-align: right;\n",
       "    }\n",
       "</style>\n",
       "<table border=\"1\" class=\"dataframe\">\n",
       "  <thead>\n",
       "    <tr style=\"text-align: right;\">\n",
       "      <th></th>\n",
       "      <th>ChemicalID</th>\n",
       "      <th>go_url</th>\n",
       "    </tr>\n",
       "  </thead>\n",
       "  <tbody>\n",
       "    <tr>\n",
       "      <th>0</th>\n",
       "      <td>D014635</td>\n",
       "      <td>&lt;http://purl.obolibrary.org/obo/GO_0002576&gt;</td>\n",
       "    </tr>\n",
       "    <tr>\n",
       "      <th>1</th>\n",
       "      <td>D014635</td>\n",
       "      <td>&lt;http://purl.obolibrary.org/obo/GO_0003674&gt;</td>\n",
       "    </tr>\n",
       "    <tr>\n",
       "      <th>2</th>\n",
       "      <td>D014635</td>\n",
       "      <td>&lt;http://purl.obolibrary.org/obo/GO_0005576&gt;</td>\n",
       "    </tr>\n",
       "    <tr>\n",
       "      <th>3</th>\n",
       "      <td>D014635</td>\n",
       "      <td>&lt;http://purl.obolibrary.org/obo/GO_0005576&gt;</td>\n",
       "    </tr>\n",
       "    <tr>\n",
       "      <th>4</th>\n",
       "      <td>D014635</td>\n",
       "      <td>&lt;http://purl.obolibrary.org/obo/GO_0005576&gt;</td>\n",
       "    </tr>\n",
       "  </tbody>\n",
       "</table>\n",
       "</div>"
      ],
      "text/plain": [
       "  ChemicalID                                       go_url\n",
       "0    D014635  <http://purl.obolibrary.org/obo/GO_0002576>\n",
       "1    D014635  <http://purl.obolibrary.org/obo/GO_0003674>\n",
       "2    D014635  <http://purl.obolibrary.org/obo/GO_0005576>\n",
       "3    D014635  <http://purl.obolibrary.org/obo/GO_0005576>\n",
       "4    D014635  <http://purl.obolibrary.org/obo/GO_0005576>"
      ]
     },
     "execution_count": 40,
     "metadata": {},
     "output_type": "execute_result"
    }
   ],
   "source": [
    "df_c.head()"
   ]
  },
  {
   "cell_type": "code",
   "execution_count": 54,
   "metadata": {},
   "outputs": [],
   "source": [
    "# Output an association file for each of chem and dis\n",
    "np.savetxt(r'associations_c.txt', df_c.values, fmt='%s')\n",
    "np.savetxt(r'associations_d.txt', df_d.values, fmt='%s')"
   ]
  },
  {
   "cell_type": "code",
   "execution_count": 55,
   "metadata": {},
   "outputs": [
    {
     "data": {
      "text/plain": [
       "0"
      ]
     },
     "execution_count": 55,
     "metadata": {},
     "output_type": "execute_result"
    }
   ],
   "source": [
    "# Merge these two into one single file\n",
    "subprocess.call('cat associations_c.txt > myassociations', shell=True)\n",
    "subprocess.call('cat associations_d.txt >> myassociations', shell=True)"
   ]
  },
  {
   "cell_type": "code",
   "execution_count": 56,
   "metadata": {},
   "outputs": [],
   "source": [
    "# Create entities.lst to inform opa2vec which entities we want vectors for\n",
    "entities = df_d.DiseaseID.unique().tolist() + df_c.ChemicalID.unique().tolist()\n",
    "np.savetxt(r'entities.lst', entities, fmt='%s')"
   ]
  },
  {
   "cell_type": "markdown",
   "metadata": {},
   "source": [
    "### NEXT STEP in pipeline is to run opa2vec, automated below\n",
    "python2 runOPA2Vec.py -ontology ../ontologies/go.owl -associations ../msc-thesis/opa/myassociations -entities ../msc-thesis/opa/entities.lst -outfile outter.lst"
   ]
  },
  {
   "cell_type": "code",
   "execution_count": 57,
   "metadata": {},
   "outputs": [
    {
     "data": {
      "text/plain": [
       "b'Loading of Axioms ...\\nLoading ...\\n    1%\\n    2%\\n    3%\\n    4%\\n    5%\\n    6%\\n    7%\\n    8%\\n    9%\\n    10%\\n    11%\\n    12%\\n    13%\\n    14%\\n    15%\\n    16%\\n    17%\\n    18%\\n    19%\\n    20%\\n    21%\\n    22%\\n    23%\\n    24%\\n    25%\\n    26%\\n    27%\\n    28%\\n    29%\\n    30%\\n    31%\\n    32%\\n    33%\\n    34%\\n    35%\\n    36%\\n    37%\\n    38%\\n    39%\\n    40%\\n    41%\\n    42%\\n    43%\\n    44%\\n    45%\\n    46%\\n    47%\\n    48%\\n    49%\\n    50%\\n    51%\\n    52%\\n    53%\\n    54%\\n    55%\\n    56%\\n    57%\\n    58%\\n    59%\\n    60%\\n    61%\\n    62%\\n    63%\\n    64%\\n    65%\\n    66%\\n    67%\\n    68%\\n    69%\\n    70%\\n    71%\\n    72%\\n    73%\\n    74%\\n    75%\\n    76%\\n    77%\\n    78%\\n    79%\\n    80%\\n    81%\\n    82%\\n    83%\\n    84%\\n    85%\\n    86%\\n    87%\\n    88%\\n    89%\\n    90%\\n    91%\\n    92%\\n    93%\\n    94%\\n    95%\\n    96%\\n    97%\\n    98%\\n    99%\\n    ... finished\\n    ... finished\\nProperty Saturation Initialization ...\\n    ... finished\\nReflexive Property Computation ...\\n    ... finished\\nObject Property Hierarchy and Composition Computation ...\\n    ... finished\\nContext Initialization ...\\n    ... finished\\nConsistency Checking ...\\n    100%\\n    ... finished\\nClass Taxonomy Computation ...\\n    11%\\n    34%\\n    37%\\n    63%\\n    81%\\n    82%\\n    83%\\n    84%\\n    85%\\n    86%\\n    87%\\n    88%\\n    89%\\n    90%\\n    91%\\n    92%\\n    93%\\n    94%\\n    95%\\n    96%\\n    97%\\n    98%\\n    99%\\n    ... finished\\n***********OPA2Vec Running ...***********\\n\\n***********Ontology Processing ...***********\\n\\n***********Ontology Processing Complete ...***********\\n\\n***********Metadata Extraction ...***********\\n\\n***********Metadata Extraction Complete ...***********\\n\\n***********Propagate Associations through hierarchy ...***********\\n\\n***********Association propagation Complete ...***********\\n***********Corpus Creation ...***********\\n\\n***********Corpus Creation Complete ...***********\\n\\n***********Running Word2Vec ...*********** \\n\\n***********Vector representations available at AllVectorResults.lst ***********\\n\\n***********OPA2Vec Complete ...***********\\n\\n'"
      ]
     },
     "execution_count": 57,
     "metadata": {},
     "output_type": "execute_result"
    }
   ],
   "source": [
    "# Ok let's actually run it \n",
    "subprocess.check_output('(cd ../../opa2vec/ ; python2 runOPA2Vec.py -ontology ../ontologies/go.owl -associations ../msc-thesis/opa/myassociations -entities ../msc-thesis/opa/entities.lst -outfile ../msc-thesis/opa/go-gofuncs.lst)', shell=True)"
   ]
  },
  {
   "cell_type": "markdown",
   "metadata": {},
   "source": [
    "#### Export GoFunction counts per chem and per disease"
   ]
  },
  {
   "cell_type": "code",
   "execution_count": 38,
   "metadata": {},
   "outputs": [],
   "source": [
    "# Create df of counts of chem and disease gofuncs for export, later used in assessing NN results\n",
    "chem_gofunc_counts = df_uni_ids.groupby('ChemicalID')['gofunc'].nunique()\n",
    "dis_gofunc_counts = df_uni_ids_d.groupby('DiseaseID')['gofunc'].nunique()\n",
    "\n",
    "chem_gofunc_counts = pd.DataFrame(chem_gofunc_counts)\n",
    "chem_gofunc_counts = chem_gofunc_counts.reset_index()\n",
    "dis_gofunc_counts = pd.DataFrame(dis_gofunc_counts)\n",
    "dis_gofunc_counts = dis_gofunc_counts.reset_index()\n",
    "\n",
    "gofunc_counts = chem_gofunc_counts.merge(dis_gofunc_counts, how='outer')\n",
    "gofunc_counts.to_csv('gofunc_counts.csv', index=False)"
   ]
  },
  {
   "cell_type": "code",
   "execution_count": null,
   "metadata": {},
   "outputs": [],
   "source": []
  },
  {
   "cell_type": "code",
   "execution_count": null,
   "metadata": {},
   "outputs": [],
   "source": []
  }
 ],
 "metadata": {
  "kernelspec": {
   "display_name": "Python 3",
   "language": "python",
   "name": "python3"
  },
  "language_info": {
   "codemirror_mode": {
    "name": "ipython",
    "version": 3
   },
   "file_extension": ".py",
   "mimetype": "text/x-python",
   "name": "python",
   "nbconvert_exporter": "python",
   "pygments_lexer": "ipython3",
   "version": "3.6.5"
  }
 },
 "nbformat": 4,
 "nbformat_minor": 2
}
