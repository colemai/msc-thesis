{
 "cells": [
  {
   "cell_type": "markdown",
   "metadata": {},
   "source": [
    "# Notebook: Create OPA2VEC associations file\n",
    "<b>Author</b>: Ian Coleman <br/>\n",
    "<b>Function</b>: Get genes associated with diseases (disgenet) and chemicals (ctdbase), take their go functions and assign to the associated chem/dis in an associations file. Also output finalclasses.lst, a file that tells opa2vec which entities you would like the vectors for"
   ]
  },
  {
   "cell_type": "code",
   "execution_count": 33,
   "metadata": {},
   "outputs": [],
   "source": [
    "import pandas as pd\n",
    "import numpy as np\n",
    "import subprocess"
   ]
  },
  {
   "cell_type": "markdown",
   "metadata": {},
   "source": [
    "### 1. Get Uniprot ID set for each Gene "
   ]
  },
  {
   "cell_type": "code",
   "execution_count": 34,
   "metadata": {},
   "outputs": [],
   "source": [
    "# CHEMICALS\n",
    "# Import CTD file to get the geneIDs we want \n",
    "df_cg = pd.read_csv('../ctd-to-nt/csvs/CTD_chem_gene_ixns.csv', skiprows=27)\n",
    "df_cg = df_cg.drop(0)\n",
    "\n",
    "# Cut down to just humans if you want to\n",
    "df_cg = df_cg.loc[df_cg['OrganismID'] == 9606.0]\n",
    "\n",
    "# Need to change float to int for the url to work\n",
    "df_cg['GeneID'] = df_cg.GeneID.astype(int)"
   ]
  },
  {
   "cell_type": "code",
   "execution_count": 35,
   "metadata": {},
   "outputs": [],
   "source": [
    "# DISEASES\n",
    "# Import DisGeNet with disease IDs and Gene IDs\n",
    "df_cgd = pd.read_csv('../disgenet-nt/input_tsvs/curated_gene_disease_associations.tsv', sep='\\t')\n",
    "\n",
    "# Limit by evidence Score \n",
    "df_cgd = df_cgd[df_cgd.score >= 0.42]"
   ]
  },
  {
   "cell_type": "code",
   "execution_count": 36,
   "metadata": {},
   "outputs": [],
   "source": [
    "# # Create list of all associated GeneIDs for each of Chemicals and Diseases\n",
    "cgene_ids = df_cg.GeneID.unique()\n",
    "dgene_ids = df_cgd.geneId.unique()\n",
    "\n",
    "# Combine them\n",
    "all_genes = set(cgene_ids).union(set(dgene_ids))"
   ]
  },
  {
   "cell_type": "code",
   "execution_count": 37,
   "metadata": {},
   "outputs": [
    {
     "data": {
      "text/html": [
       "<div>\n",
       "<style scoped>\n",
       "    .dataframe tbody tr th:only-of-type {\n",
       "        vertical-align: middle;\n",
       "    }\n",
       "\n",
       "    .dataframe tbody tr th {\n",
       "        vertical-align: top;\n",
       "    }\n",
       "\n",
       "    .dataframe thead th {\n",
       "        text-align: right;\n",
       "    }\n",
       "</style>\n",
       "<table border=\"1\" class=\"dataframe\">\n",
       "  <thead>\n",
       "    <tr style=\"text-align: right;\">\n",
       "      <th></th>\n",
       "      <th>geneId</th>\n",
       "      <th>geneSymbol</th>\n",
       "      <th>diseaseId</th>\n",
       "      <th>diseaseName</th>\n",
       "      <th>score</th>\n",
       "      <th>NofPmids</th>\n",
       "      <th>NofSnps</th>\n",
       "      <th>source</th>\n",
       "    </tr>\n",
       "  </thead>\n",
       "  <tbody>\n",
       "    <tr>\n",
       "      <th>158</th>\n",
       "      <td>10002</td>\n",
       "      <td>NR2E3</td>\n",
       "      <td>C1849394</td>\n",
       "      <td>Enhanced S-Cone Syndrome</td>\n",
       "      <td>0.486319</td>\n",
       "      <td>7</td>\n",
       "      <td>7</td>\n",
       "      <td>CTD_human;UNIPROT</td>\n",
       "    </tr>\n",
       "    <tr>\n",
       "      <th>235</th>\n",
       "      <td>1001</td>\n",
       "      <td>CDH3</td>\n",
       "      <td>C1832162</td>\n",
       "      <td>HYPOTRICHOSIS, CONGENITAL, WITH JUVENILE MACUL...</td>\n",
       "      <td>0.600000</td>\n",
       "      <td>1</td>\n",
       "      <td>3</td>\n",
       "      <td>CTD_human;ORPHANET;UNIPROT</td>\n",
       "    </tr>\n",
       "    <tr>\n",
       "      <th>241</th>\n",
       "      <td>1001</td>\n",
       "      <td>CDH3</td>\n",
       "      <td>C1857041</td>\n",
       "      <td>Ectodermal dysplasia, ectrodactyly, and macula...</td>\n",
       "      <td>0.600824</td>\n",
       "      <td>1</td>\n",
       "      <td>2</td>\n",
       "      <td>CTD_human;ORPHANET;UNIPROT</td>\n",
       "    </tr>\n",
       "    <tr>\n",
       "      <th>586</th>\n",
       "      <td>10020</td>\n",
       "      <td>GNE</td>\n",
       "      <td>C1853926</td>\n",
       "      <td>NONAKA MYOPATHY</td>\n",
       "      <td>0.617857</td>\n",
       "      <td>12</td>\n",
       "      <td>23</td>\n",
       "      <td>CTD_human;ORPHANET;UNIPROT</td>\n",
       "    </tr>\n",
       "    <tr>\n",
       "      <th>837</th>\n",
       "      <td>100506658</td>\n",
       "      <td>OCLN</td>\n",
       "      <td>C3489725</td>\n",
       "      <td>Pseudo-TORCH syndrome</td>\n",
       "      <td>0.600824</td>\n",
       "      <td>1</td>\n",
       "      <td>4</td>\n",
       "      <td>CTD_human;ORPHANET;UNIPROT</td>\n",
       "    </tr>\n",
       "  </tbody>\n",
       "</table>\n",
       "</div>"
      ],
      "text/plain": [
       "        geneId geneSymbol diseaseId  \\\n",
       "158      10002      NR2E3  C1849394   \n",
       "235       1001       CDH3  C1832162   \n",
       "241       1001       CDH3  C1857041   \n",
       "586      10020        GNE  C1853926   \n",
       "837  100506658       OCLN  C3489725   \n",
       "\n",
       "                                           diseaseName     score  NofPmids  \\\n",
       "158                           Enhanced S-Cone Syndrome  0.486319         7   \n",
       "235  HYPOTRICHOSIS, CONGENITAL, WITH JUVENILE MACUL...  0.600000         1   \n",
       "241  Ectodermal dysplasia, ectrodactyly, and macula...  0.600824         1   \n",
       "586                                    NONAKA MYOPATHY  0.617857        12   \n",
       "837                              Pseudo-TORCH syndrome  0.600824         1   \n",
       "\n",
       "     NofSnps                      source  \n",
       "158        7           CTD_human;UNIPROT  \n",
       "235        3  CTD_human;ORPHANET;UNIPROT  \n",
       "241        2  CTD_human;ORPHANET;UNIPROT  \n",
       "586       23  CTD_human;ORPHANET;UNIPROT  \n",
       "837        4  CTD_human;ORPHANET;UNIPROT  "
      ]
     },
     "execution_count": 37,
     "metadata": {},
     "output_type": "execute_result"
    }
   ],
   "source": [
    "df_cgd.head()"
   ]
  },
  {
   "cell_type": "code",
   "execution_count": 38,
   "metadata": {},
   "outputs": [],
   "source": [
    "# Write combined gene ids to file\n",
    "with open('geneIDs.txt', 'w') as f:\n",
    "    for item in all_genes:\n",
    "        f.write(\"%s\\n\" % item)"
   ]
  },
  {
   "cell_type": "code",
   "execution_count": 14,
   "metadata": {},
   "outputs": [],
   "source": [
    "# NOTE the next step is MANUAL\n",
    "# You need to go to https://www.uniprot.org/uploadlists/ and give it the created geneIDs.txt file, ask it to convert\n",
    "# entrez gene to uniprot ID. Then download this as uniprotIDs.txt (as uncompressed, mapping table)"
   ]
  },
  {
   "cell_type": "markdown",
   "metadata": {},
   "source": [
    "##### Import the list of uniprot IDs"
   ]
  },
  {
   "cell_type": "code",
   "execution_count": 39,
   "metadata": {},
   "outputs": [],
   "source": [
    "# Import manually generated file of geneID --> uniprotID\n",
    "df_uni_ids = pd.read_csv('uniprotIDs.txt', sep='\\t')\n",
    "df_uni_ids.columns = ['GeneID', 'UniprotID']\n",
    "df_uni_ids['GeneID'] = df_uni_ids.GeneID.astype(str)"
   ]
  },
  {
   "cell_type": "code",
   "execution_count": 40,
   "metadata": {},
   "outputs": [],
   "source": [
    "# Some of the GeneIds are actually a couple of IDs on one row. Split them into multiple rows\n",
    "df_uni_ids = pd.concat([pd.Series(row['UniprotID'], row['GeneID'].split(','))              \n",
    "                    for _, row in df_uni_ids.iterrows()]).reset_index()\n",
    "df_uni_ids.columns = ['GeneID', 'UniprotID']"
   ]
  },
  {
   "cell_type": "markdown",
   "metadata": {},
   "source": [
    "##### Create merged df to enable grouping by chemicalID and diseaseID"
   ]
  },
  {
   "cell_type": "code",
   "execution_count": 41,
   "metadata": {},
   "outputs": [],
   "source": [
    "# Create mapping file of gene ID to chem ID... and gene ID to disease ID \n",
    "cg_dict = dict(zip(df_cg.GeneID, df_cg.ChemicalID))\n",
    "cgd_dict = dict(zip(df_cgd.geneId, df_cgd.diseaseId))"
   ]
  },
  {
   "cell_type": "code",
   "execution_count": 42,
   "metadata": {},
   "outputs": [
    {
     "data": {
      "text/html": [
       "<div>\n",
       "<style scoped>\n",
       "    .dataframe tbody tr th:only-of-type {\n",
       "        vertical-align: middle;\n",
       "    }\n",
       "\n",
       "    .dataframe tbody tr th {\n",
       "        vertical-align: top;\n",
       "    }\n",
       "\n",
       "    .dataframe thead th {\n",
       "        text-align: right;\n",
       "    }\n",
       "</style>\n",
       "<table border=\"1\" class=\"dataframe\">\n",
       "  <thead>\n",
       "    <tr style=\"text-align: right;\">\n",
       "      <th></th>\n",
       "      <th>GeneID</th>\n",
       "      <th>UniprotID</th>\n",
       "    </tr>\n",
       "  </thead>\n",
       "  <tbody>\n",
       "    <tr>\n",
       "      <th>0</th>\n",
       "      <td>1</td>\n",
       "      <td>P04217</td>\n",
       "    </tr>\n",
       "    <tr>\n",
       "      <th>1</th>\n",
       "      <td>1</td>\n",
       "      <td>V9HWD8</td>\n",
       "    </tr>\n",
       "    <tr>\n",
       "      <th>2</th>\n",
       "      <td>2</td>\n",
       "      <td>P01023</td>\n",
       "    </tr>\n",
       "    <tr>\n",
       "      <th>3</th>\n",
       "      <td>131076</td>\n",
       "      <td>C9JQ41</td>\n",
       "    </tr>\n",
       "    <tr>\n",
       "      <th>4</th>\n",
       "      <td>131076</td>\n",
       "      <td>Q4VC31</td>\n",
       "    </tr>\n",
       "  </tbody>\n",
       "</table>\n",
       "</div>"
      ],
      "text/plain": [
       "   GeneID UniprotID\n",
       "0       1    P04217\n",
       "1       1    V9HWD8\n",
       "2       2    P01023\n",
       "3  131076    C9JQ41\n",
       "4  131076    Q4VC31"
      ]
     },
     "execution_count": 42,
     "metadata": {},
     "output_type": "execute_result"
    }
   ],
   "source": [
    "df_uni_ids.head()"
   ]
  },
  {
   "cell_type": "code",
   "execution_count": 43,
   "metadata": {},
   "outputs": [],
   "source": [
    "df_uni_ids_d = df_uni_ids.copy() # make a copy for diseases"
   ]
  },
  {
   "cell_type": "code",
   "execution_count": 44,
   "metadata": {},
   "outputs": [],
   "source": [
    "# Apply the mapping, thereby creating chemical column\n",
    "df_uni_ids['ChemicalID'] = df_uni_ids.GeneID\n",
    "df_uni_ids['ChemicalID'] = df_uni_ids['ChemicalID'].astype(int).map(cg_dict)"
   ]
  },
  {
   "cell_type": "code",
   "execution_count": 45,
   "metadata": {},
   "outputs": [],
   "source": [
    "# Apply the mapping, thereby creating disease column\n",
    "df_uni_ids_d['DiseaseID'] = df_uni_ids_d.GeneID\n",
    "df_uni_ids_d['DiseaseID'] = df_uni_ids_d['DiseaseID'].astype(int).map(cgd_dict)"
   ]
  },
  {
   "cell_type": "code",
   "execution_count": 46,
   "metadata": {},
   "outputs": [],
   "source": [
    "# # Output disease list, later used in nn notebook\n",
    "# disease_list = df_uni_ids_d.DiseaseID.unique()\n",
    "# len(disease_list)\n",
    "# np.savetxt(r'diseases.lst', disease_list, fmt='%s')"
   ]
  },
  {
   "cell_type": "markdown",
   "metadata": {},
   "source": [
    "##### Group by Chem ID"
   ]
  },
  {
   "cell_type": "code",
   "execution_count": 47,
   "metadata": {},
   "outputs": [
    {
     "data": {
      "text/plain": [
       "(33381, 3)"
      ]
     },
     "execution_count": 47,
     "metadata": {},
     "output_type": "execute_result"
    }
   ],
   "source": [
    "df_uni_ids.dropna().shape # 33381"
   ]
  },
  {
   "cell_type": "code",
   "execution_count": 48,
   "metadata": {},
   "outputs": [
    {
     "data": {
      "text/plain": [
       "(2914, 3)"
      ]
     },
     "execution_count": 48,
     "metadata": {},
     "output_type": "execute_result"
    }
   ],
   "source": [
    "df_uni_ids_d.dropna().shape #2914"
   ]
  },
  {
   "cell_type": "markdown",
   "metadata": {},
   "source": [
    "### 2. Mine goa file, attaching go function for each uniprot ID to the parent chemical/gene"
   ]
  },
  {
   "cell_type": "code",
   "execution_count": 49,
   "metadata": {},
   "outputs": [
    {
     "name": "stderr",
     "output_type": "stream",
     "text": [
      "/home/ian/anaconda3/lib/python3.6/site-packages/IPython/core/interactiveshell.py:2785: DtypeWarning: Columns (15) have mixed types. Specify dtype option on import or set low_memory=False.\n",
      "  interactivity=interactivity, compiler=compiler, result=result)\n"
     ]
    }
   ],
   "source": [
    "# import goa file (uniprot ID to go_functions)\n",
    "go_funcs = pd.read_csv('../goa_human.gaf', header=None, skiprows=30, sep='\\t')"
   ]
  },
  {
   "cell_type": "code",
   "execution_count": 51,
   "metadata": {},
   "outputs": [],
   "source": [
    "# Cut out all cols except uniprot ids and go_funcs, rename these\n",
    "go_funcs = go_funcs.rename(columns={ go_funcs.columns[1]: \"UniprotID\" })\n",
    "go_funcs = go_funcs.rename(columns={ go_funcs.columns[4]: \"gofunc\" })\n",
    "col_list = ['UniprotID', 'gofunc']\n",
    "df_go = go_funcs[col_list]"
   ]
  },
  {
   "cell_type": "code",
   "execution_count": 52,
   "metadata": {},
   "outputs": [],
   "source": [
    "# Merge the go functions into our existing chem-uniprotID and dis-uniprotID dfs\n",
    "df_uni_ids_d = df_uni_ids_d.merge(df_go, on='UniprotID', how='outer').dropna()\n",
    "df_uni_ids = df_uni_ids.merge(df_go, on='UniprotID', how='outer').dropna()"
   ]
  },
  {
   "cell_type": "markdown",
   "metadata": {},
   "source": [
    "### 3. Prep and write to output file "
   ]
  },
  {
   "cell_type": "code",
   "execution_count": 55,
   "metadata": {},
   "outputs": [
    {
     "data": {
      "text/html": [
       "<div>\n",
       "<style scoped>\n",
       "    .dataframe tbody tr th:only-of-type {\n",
       "        vertical-align: middle;\n",
       "    }\n",
       "\n",
       "    .dataframe tbody tr th {\n",
       "        vertical-align: top;\n",
       "    }\n",
       "\n",
       "    .dataframe thead th {\n",
       "        text-align: right;\n",
       "    }\n",
       "</style>\n",
       "<table border=\"1\" class=\"dataframe\">\n",
       "  <thead>\n",
       "    <tr style=\"text-align: right;\">\n",
       "      <th></th>\n",
       "      <th>GeneID</th>\n",
       "      <th>UniprotID</th>\n",
       "      <th>DiseaseID</th>\n",
       "      <th>gofunc</th>\n",
       "      <th>go_url</th>\n",
       "    </tr>\n",
       "  </thead>\n",
       "  <tbody>\n",
       "    <tr>\n",
       "      <th>174</th>\n",
       "      <td>16</td>\n",
       "      <td>P49588</td>\n",
       "      <td>C2750090</td>\n",
       "      <td>GO:0002161</td>\n",
       "      <td>&lt;http://purl.obolibrary.org/obo/GO_0002161&gt;</td>\n",
       "    </tr>\n",
       "    <tr>\n",
       "      <th>175</th>\n",
       "      <td>16</td>\n",
       "      <td>P49588</td>\n",
       "      <td>C2750090</td>\n",
       "      <td>GO:0002196</td>\n",
       "      <td>&lt;http://purl.obolibrary.org/obo/GO_0002196&gt;</td>\n",
       "    </tr>\n",
       "    <tr>\n",
       "      <th>176</th>\n",
       "      <td>16</td>\n",
       "      <td>P49588</td>\n",
       "      <td>C2750090</td>\n",
       "      <td>GO:0004813</td>\n",
       "      <td>&lt;http://purl.obolibrary.org/obo/GO_0004813&gt;</td>\n",
       "    </tr>\n",
       "    <tr>\n",
       "      <th>177</th>\n",
       "      <td>16</td>\n",
       "      <td>P49588</td>\n",
       "      <td>C2750090</td>\n",
       "      <td>GO:0004813</td>\n",
       "      <td>&lt;http://purl.obolibrary.org/obo/GO_0004813&gt;</td>\n",
       "    </tr>\n",
       "    <tr>\n",
       "      <th>178</th>\n",
       "      <td>16</td>\n",
       "      <td>P49588</td>\n",
       "      <td>C2750090</td>\n",
       "      <td>GO:0004813</td>\n",
       "      <td>&lt;http://purl.obolibrary.org/obo/GO_0004813&gt;</td>\n",
       "    </tr>\n",
       "  </tbody>\n",
       "</table>\n",
       "</div>"
      ],
      "text/plain": [
       "    GeneID UniprotID DiseaseID      gofunc  \\\n",
       "174     16    P49588  C2750090  GO:0002161   \n",
       "175     16    P49588  C2750090  GO:0002196   \n",
       "176     16    P49588  C2750090  GO:0004813   \n",
       "177     16    P49588  C2750090  GO:0004813   \n",
       "178     16    P49588  C2750090  GO:0004813   \n",
       "\n",
       "                                          go_url  \n",
       "174  <http://purl.obolibrary.org/obo/GO_0002161>  \n",
       "175  <http://purl.obolibrary.org/obo/GO_0002196>  \n",
       "176  <http://purl.obolibrary.org/obo/GO_0004813>  \n",
       "177  <http://purl.obolibrary.org/obo/GO_0004813>  \n",
       "178  <http://purl.obolibrary.org/obo/GO_0004813>  "
      ]
     },
     "execution_count": 55,
     "metadata": {},
     "output_type": "execute_result"
    }
   ],
   "source": [
    "df_uni_ids_d.head()"
   ]
  },
  {
   "cell_type": "code",
   "execution_count": 54,
   "metadata": {},
   "outputs": [],
   "source": [
    "# Create a col with the full go url\n",
    "df_uni_ids['go_url'] = '<' + 'http://purl.obolibrary.org/obo/' + df_uni_ids.gofunc.str.replace(':', '_')  + '>'\n",
    "df_uni_ids_d['go_url'] =  '<' + 'http://purl.obolibrary.org/obo/' + df_uni_ids_d.gofunc.str.replace(':', '_')  + '>'"
   ]
  },
  {
   "cell_type": "code",
   "execution_count": 56,
   "metadata": {},
   "outputs": [],
   "source": [
    "# Grab just the columns we want to output (diseaseID and go_url/ chemicalID and go_url)\n",
    "col_list_c = ['ChemicalID', 'go_url']\n",
    "col_list_d = ['DiseaseID', 'go_url']\n",
    "df_c = df_uni_ids[col_list_c]\n",
    "df_d = df_uni_ids_d[col_list_d]"
   ]
  },
  {
   "cell_type": "code",
   "execution_count": 74,
   "metadata": {},
   "outputs": [
    {
     "data": {
      "text/plain": [
       "array(['D015032', 'C085514', 'C104536', 'C088658', 'D014635', 'D014810',\n",
       "       'C111237', 'C097270', 'D014747', 'D015215', 'D024483', 'C014215',\n",
       "       'D017973', 'C561695', 'D019287', 'D014212', 'C009680', 'D001335',\n",
       "       'D014639', 'C016837', 'D013467', 'D000069470', 'D012822',\n",
       "       'C028541', 'D014638', 'D014520', 'D014800', 'C574123', 'C438612',\n",
       "       'C009695', 'D015016', 'D015034', 'C017947', 'C017803', 'D017632',\n",
       "       'C013320', 'D019345', 'C089730', 'D015029', 'C519312', 'D017974',\n",
       "       'C510150', 'C027368', 'D019820', 'D013749', 'C067172',\n",
       "       'C000626624', 'C009687', 'C015001', 'C027373', 'D011374',\n",
       "       'D014415', 'C424422', 'C041285', 'D015054', 'C011890', 'D014867',\n",
       "       'D012524', 'D014801', 'C013738', 'D014750', 'D009532', 'D002762',\n",
       "       'C012568', 'C403253', 'C049032', 'D015031', 'D014859', 'D017307',\n",
       "       'C023616', 'C108830', 'D010100', 'D009589', 'C559490', 'C016805',\n",
       "       'C464660', 'D014814', 'D000225', 'C057693', 'C005460', 'C059514',\n",
       "       'D010936', 'C012589', 'C022189', 'D014700', 'C410228', 'C496197',\n",
       "       'C017967', 'D001280', 'C492564', 'D013654', 'C066075', 'D014028',\n",
       "       'D001564', 'C014347', 'D013755', 'D014992', 'C551177', 'C009495',\n",
       "       'C094299', 'C519885', 'D011794', 'D019821', 'C086110', 'D014673',\n",
       "       'C075257', 'C031238', 'D020123', 'C525423', 'D015056', 'C005556',\n",
       "       'D013739', 'C100058', 'D010269', 'C016766', 'C029659', 'C070417',\n",
       "       'C410337', 'C006253', 'D018501', 'D014580', 'C002802', 'D014241',\n",
       "       'C034028', 'D013629', 'C089750', 'C052875', 'C062735', 'C515050',\n",
       "       'C053228', 'D014874', 'C096486', 'C015582', 'D016604', 'C073339',\n",
       "       'C020549', 'D002220', 'C102911', 'C451427', 'C011559', 'C009684',\n",
       "       'C519688', 'C045971', 'C528105', 'C511404', 'D002104', 'D020122',\n",
       "       'D014752', 'D009536', 'D008727', 'C518540', 'C488234', 'C489443',\n",
       "       'C004648', 'D015039', 'C016104', 'D000068756', 'D011084',\n",
       "       'C113580', 'C050414', 'C029938', 'C066632', 'D055549', 'C036986',\n",
       "       'D014805', 'D010205', 'C049109', 'C010349', 'D013806', 'D015474',\n",
       "       'D010758', 'C528884', 'D013752', 'D012906', 'D008741', 'C524947',\n",
       "       'C060974', 'C118739', 'D017258', 'C011145', 'D007854', 'D065146',\n",
       "       'D019327', 'D014217', 'D018038', 'D014807', 'C478783', 'C044361',\n",
       "       'D012967', 'C092292', 'C511402', 'D008942', 'C024746', 'C557874',\n",
       "       'D016572', 'C492448', 'C000593030', 'D014260', 'D047428',\n",
       "       'C012526', 'C471405', 'D012643', 'D019207', 'D015040', 'C018475',\n",
       "       'C511704', 'D014331', 'C078903', 'D015049', 'D014439', 'C008890',\n",
       "       'C046012', 'D000069286', 'C061133', 'C000588915', 'D019256',\n",
       "       'D008628', 'D011078', 'C010792', 'D009151', 'C529824', 'D015038',\n",
       "       'C070927', 'C521013', 'C063449', 'D012256', 'D009249', 'D012972',\n",
       "       'C496932', 'C020972', 'C021751', 'D012402', 'C002979', 'D006861',\n",
       "       'C030852', 'D017638', 'D052638', 'C032910', 'D014051', 'D013849',\n",
       "       'C544151', 'C000602510', 'D012293', 'C502851', 'C095179',\n",
       "       'D007978', 'C047246', 'D014280', 'D020849', 'D014221', 'C523798',\n",
       "       'C022172', 'C025462', 'D011441', 'C061300', 'D014311', 'C004925',\n",
       "       'D011192', 'C025589', 'C486781', 'C020174', 'D017967', 'C528128',\n",
       "       'C043425', 'D004317', 'D012645', 'C016829', 'D004791', 'D001151',\n",
       "       'D010662', 'D008694', 'D019284', 'C103207', 'C403304', 'D004113',\n",
       "       'D011137', 'D019833', 'D053260', 'C544261', 'C523184', 'D001205',\n",
       "       'D004221', 'C031389', 'D010575', 'D004726', 'D015655', 'D010894',\n",
       "       'D007631', 'C007836', 'C045463', 'D012834', 'D011810', 'C506265',\n",
       "       'D010634', 'D000082', 'C058305', 'C568376', 'C010327', 'C023036',\n",
       "       'D015019', 'C000602704', 'D017239', 'C023336', 'C493272',\n",
       "       'D000433', 'D014527', 'D006046', 'C018021', 'D001152', 'C013038',\n",
       "       'C030940', 'C528002', 'D005472', 'C029892', 'D004958', 'D007501',\n",
       "       'C006632', 'C059141', 'C005445', 'D014544', 'D000393', 'D010672',\n",
       "       'D000431', 'C545476', 'D002945', 'D004008', 'D006854', 'D018021',\n",
       "       'D003976', 'C505646', 'C089595', 'D012964', 'C406082', 'C006780',\n",
       "       'D010655', 'D020245', 'C558013', 'C023035', 'C026285', 'C015559',\n",
       "       'D013882', 'C510003', 'C017296', 'D009285', 'C086401', 'D015124',\n",
       "       'C009006', 'D009585', 'C039674', 'C049584', 'D005473', 'C027296',\n",
       "       'C570897', 'C009238', 'D000638', 'D004786', 'D003907', 'D043371',\n",
       "       'D008748', 'C483909', 'D016685', 'C009007', 'C473643', 'C105260',\n",
       "       'D010938', 'D002166', 'C028473', 'D013759', 'C004363', 'C480342',\n",
       "       'D014631', 'D014812', 'D015735', 'D009538', 'C030272', 'C447119',\n",
       "       'C066471', 'C584509', 'D010081', 'D005020', 'D008627', 'C116664',\n",
       "       'D037742', 'C076994', 'C432165', 'C000944', 'D011188', 'D019772',\n",
       "       'D014996', 'C000593977', 'D016578', 'C410959', 'D016650',\n",
       "       'C082360', 'D015232', 'D026023', 'D013578', 'D014451', 'D001104',\n",
       "       'D019946', 'C572491', 'C010902', 'D011522', 'D003561', 'C047806',\n",
       "       'D003634', 'D012176', 'C009277', 'D010476', 'D007545', 'C503700',\n",
       "       'D007840'], dtype=object)"
      ]
     },
     "execution_count": 74,
     "metadata": {},
     "output_type": "execute_result"
    }
   ],
   "source": [
    "df_c.ChemicalID.unique()"
   ]
  },
  {
   "cell_type": "code",
   "execution_count": 75,
   "metadata": {},
   "outputs": [
    {
     "data": {
      "text/plain": [
       "array(['C2750090', 'C0342708', 'C0039292', ..., 'C1847013', 'C1836027',\n",
       "       'C1840390'], dtype=object)"
      ]
     },
     "execution_count": 75,
     "metadata": {},
     "output_type": "execute_result"
    }
   ],
   "source": [
    "df_d.DiseaseID.unique()"
   ]
  },
  {
   "cell_type": "code",
   "execution_count": 60,
   "metadata": {},
   "outputs": [],
   "source": [
    "# Output an association file for each of chem and dis\n",
    "np.savetxt(r'associations_c.txt', df_c.values, fmt='%s')\n",
    "np.savetxt(r'associations_d.txt', df_d.values, fmt='%s')"
   ]
  },
  {
   "cell_type": "code",
   "execution_count": 61,
   "metadata": {},
   "outputs": [
    {
     "data": {
      "text/plain": [
       "0"
      ]
     },
     "execution_count": 61,
     "metadata": {},
     "output_type": "execute_result"
    }
   ],
   "source": [
    "# Merge these two into one single file\n",
    "subprocess.call('cat associations_* > myassociations', shell=True)"
   ]
  }
 ],
 "metadata": {
  "kernelspec": {
   "display_name": "Python 3",
   "language": "python",
   "name": "python3"
  },
  "language_info": {
   "codemirror_mode": {
    "name": "ipython",
    "version": 3
   },
   "file_extension": ".py",
   "mimetype": "text/x-python",
   "name": "python",
   "nbconvert_exporter": "python",
   "pygments_lexer": "ipython3",
   "version": "3.6.5"
  }
 },
 "nbformat": 4,
 "nbformat_minor": 2
}
