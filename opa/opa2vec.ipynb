{
 "cells": [
  {
   "cell_type": "markdown",
   "metadata": {},
   "source": [
    "# Notebook: Create OPA2VEC associations file\n",
    "<b>Author</b>: Ian Coleman <br/>\n",
    "<b>Function</b>: Get genes associated with diseases (disgenet) and chemicals (ctdbase), take their go functions and assign to the associated chem/dis in an associations file. Also output finalclasses.lst, a file that tells opa2vec which entities you would like the vectors for"
   ]
  },
  {
   "cell_type": "code",
   "execution_count": 1,
   "metadata": {},
   "outputs": [],
   "source": [
    "import pandas as pd\n",
    "import numpy as np\n",
    "import subprocess"
   ]
  },
  {
   "cell_type": "markdown",
   "metadata": {},
   "source": [
    "### 1. Get Uniprot ID set for each Gene "
   ]
  },
  {
   "cell_type": "code",
   "execution_count": 2,
   "metadata": {},
   "outputs": [],
   "source": [
    "# CHEMICALS\n",
    "# Import CTD file to get the geneIDs we want \n",
    "df_cg = pd.read_csv('../ctd-to-nt/csvs/CTD_chem_gene_ixns.csv', skiprows=27)\n",
    "df_cg = df_cg.drop(0)\n",
    "\n",
    "# Cut down to just humans if you want to\n",
    "df_cg = df_cg.loc[df_cg['OrganismID'] == 9606.0]\n",
    "\n",
    "# Need to change float to int for the url to work\n",
    "df_cg['GeneID'] = df_cg.GeneID.astype(int)"
   ]
  },
  {
   "cell_type": "code",
   "execution_count": 3,
   "metadata": {},
   "outputs": [],
   "source": [
    "# # DISEASES\n",
    "# # Import DisGeNet with disease IDs and Gene IDs\n",
    "# df_cgd = pd.read_csv('../disgenet-nt/input_tsvs/curated_gene_disease_associations.tsv', sep='\\t')\n",
    "\n",
    "# # Limit by evidence Score \n",
    "# df_cgd = df_cgd[df_cgd.score >= 0.42]"
   ]
  },
  {
   "cell_type": "code",
   "execution_count": 4,
   "metadata": {},
   "outputs": [],
   "source": [
    "# df_cgd.head()"
   ]
  },
  {
   "cell_type": "code",
   "execution_count": 5,
   "metadata": {},
   "outputs": [
    {
     "data": {
      "text/html": [
       "<div>\n",
       "<style scoped>\n",
       "    .dataframe tbody tr th:only-of-type {\n",
       "        vertical-align: middle;\n",
       "    }\n",
       "\n",
       "    .dataframe tbody tr th {\n",
       "        vertical-align: top;\n",
       "    }\n",
       "\n",
       "    .dataframe thead th {\n",
       "        text-align: right;\n",
       "    }\n",
       "</style>\n",
       "<table border=\"1\" class=\"dataframe\">\n",
       "  <thead>\n",
       "    <tr style=\"text-align: right;\">\n",
       "      <th></th>\n",
       "      <th>GeneID</th>\n",
       "      <th>DiseaseID</th>\n",
       "    </tr>\n",
       "  </thead>\n",
       "  <tbody>\n",
       "    <tr>\n",
       "      <th>0</th>\n",
       "      <td>50518</td>\n",
       "      <td>MESH:D003920</td>\n",
       "    </tr>\n",
       "    <tr>\n",
       "      <th>1</th>\n",
       "      <td>50518</td>\n",
       "      <td>MESH:D003924</td>\n",
       "    </tr>\n",
       "    <tr>\n",
       "      <th>2</th>\n",
       "      <td>50518</td>\n",
       "      <td>MESH:D008113</td>\n",
       "    </tr>\n",
       "    <tr>\n",
       "      <th>3</th>\n",
       "      <td>50518</td>\n",
       "      <td>MESH:D009369</td>\n",
       "    </tr>\n",
       "    <tr>\n",
       "      <th>4</th>\n",
       "      <td>50518</td>\n",
       "      <td>MESH:D009765</td>\n",
       "    </tr>\n",
       "  </tbody>\n",
       "</table>\n",
       "</div>"
      ],
      "text/plain": [
       "   GeneID     DiseaseID\n",
       "0   50518  MESH:D003920\n",
       "1   50518  MESH:D003924\n",
       "2   50518  MESH:D008113\n",
       "3   50518  MESH:D009369\n",
       "4   50518  MESH:D009765"
      ]
     },
     "execution_count": 5,
     "metadata": {},
     "output_type": "execute_result"
    }
   ],
   "source": [
    "# Alternative DISEASES --> Switching out DisGeNet for CTD (as they use UMLS/MESH respectively)\n",
    "# Import preprepared g-d associations (from ctd-to-nt notebook) direct assocs only\n",
    "df_cgd = pd.read_csv('../ctd-to-nt/gene-dis-pos-assocs.csv')\n",
    "df_cgd['GeneID'] = df_cgd['GeneID'].astype(int)\n",
    "df_cgd.head()"
   ]
  },
  {
   "cell_type": "code",
   "execution_count": 6,
   "metadata": {},
   "outputs": [],
   "source": [
    "# # Create list of all associated GeneIDs for each of Chemicals and Diseases\n",
    "cgene_ids = df_cg.GeneID.unique()\n",
    "dgene_ids = df_cgd.GeneID.unique()\n",
    "\n",
    "# Combine them\n",
    "all_genes = set(cgene_ids).union(set(dgene_ids))"
   ]
  },
  {
   "cell_type": "code",
   "execution_count": 7,
   "metadata": {},
   "outputs": [
    {
     "data": {
      "text/html": [
       "<div>\n",
       "<style scoped>\n",
       "    .dataframe tbody tr th:only-of-type {\n",
       "        vertical-align: middle;\n",
       "    }\n",
       "\n",
       "    .dataframe tbody tr th {\n",
       "        vertical-align: top;\n",
       "    }\n",
       "\n",
       "    .dataframe thead th {\n",
       "        text-align: right;\n",
       "    }\n",
       "</style>\n",
       "<table border=\"1\" class=\"dataframe\">\n",
       "  <thead>\n",
       "    <tr style=\"text-align: right;\">\n",
       "      <th></th>\n",
       "      <th>GeneID</th>\n",
       "      <th>DiseaseID</th>\n",
       "    </tr>\n",
       "  </thead>\n",
       "  <tbody>\n",
       "    <tr>\n",
       "      <th>0</th>\n",
       "      <td>50518</td>\n",
       "      <td>MESH:D003920</td>\n",
       "    </tr>\n",
       "    <tr>\n",
       "      <th>1</th>\n",
       "      <td>50518</td>\n",
       "      <td>MESH:D003924</td>\n",
       "    </tr>\n",
       "    <tr>\n",
       "      <th>2</th>\n",
       "      <td>50518</td>\n",
       "      <td>MESH:D008113</td>\n",
       "    </tr>\n",
       "    <tr>\n",
       "      <th>3</th>\n",
       "      <td>50518</td>\n",
       "      <td>MESH:D009369</td>\n",
       "    </tr>\n",
       "    <tr>\n",
       "      <th>4</th>\n",
       "      <td>50518</td>\n",
       "      <td>MESH:D009765</td>\n",
       "    </tr>\n",
       "  </tbody>\n",
       "</table>\n",
       "</div>"
      ],
      "text/plain": [
       "   GeneID     DiseaseID\n",
       "0   50518  MESH:D003920\n",
       "1   50518  MESH:D003924\n",
       "2   50518  MESH:D008113\n",
       "3   50518  MESH:D009369\n",
       "4   50518  MESH:D009765"
      ]
     },
     "execution_count": 7,
     "metadata": {},
     "output_type": "execute_result"
    }
   ],
   "source": [
    "df_cgd.head()"
   ]
  },
  {
   "cell_type": "code",
   "execution_count": 8,
   "metadata": {},
   "outputs": [],
   "source": [
    "# Write combined gene ids to file\n",
    "with open('geneIDs.txt', 'w') as f:\n",
    "    for item in all_genes:\n",
    "        f.write(\"%s\\n\" % item)"
   ]
  },
  {
   "cell_type": "code",
   "execution_count": 9,
   "metadata": {},
   "outputs": [],
   "source": [
    "# NOTE the next step is MANUAL\n",
    "# You need to go to https://www.uniprot.org/uploadlists/ and give it the created geneIDs.txt file, ask it to convert\n",
    "# entrez gene to uniprot ID. Then download this as uniprotIDs.txt (as uncompressed, mapping table)"
   ]
  },
  {
   "cell_type": "markdown",
   "metadata": {},
   "source": [
    "##### Import the list of uniprot IDs"
   ]
  },
  {
   "cell_type": "code",
   "execution_count": 10,
   "metadata": {},
   "outputs": [],
   "source": [
    "# Import manually generated file of geneID --> uniprotID\n",
    "df_uni_ids = pd.read_csv('uniprotIDs.txt', sep='\\t')\n",
    "df_uni_ids.columns = ['GeneID', 'UniprotID']\n",
    "df_uni_ids['GeneID'] = df_uni_ids.GeneID.astype(str)"
   ]
  },
  {
   "cell_type": "code",
   "execution_count": 11,
   "metadata": {},
   "outputs": [],
   "source": [
    "# Some of the GeneIds are actually a couple of IDs on one row. Split them into multiple rows\n",
    "df_uni_ids = pd.concat([pd.Series(row['UniprotID'], row['GeneID'].split(','))              \n",
    "                    for _, row in df_uni_ids.iterrows()]).reset_index()\n",
    "df_uni_ids.columns = ['GeneID', 'UniprotID']"
   ]
  },
  {
   "cell_type": "markdown",
   "metadata": {},
   "source": [
    "##### Create merged df to enable grouping by chemicalID and diseaseID"
   ]
  },
  {
   "cell_type": "code",
   "execution_count": 12,
   "metadata": {},
   "outputs": [],
   "source": [
    "# Create mapping file of gene ID to chem ID... and gene ID to disease ID \n",
    "cg_dict = dict(zip(df_cg.GeneID, df_cg.ChemicalID))\n",
    "cgd_dict = dict(zip(df_cgd.GeneID, df_cgd.DiseaseID))"
   ]
  },
  {
   "cell_type": "code",
   "execution_count": 13,
   "metadata": {
    "scrolled": true
   },
   "outputs": [
    {
     "data": {
      "text/html": [
       "<div>\n",
       "<style scoped>\n",
       "    .dataframe tbody tr th:only-of-type {\n",
       "        vertical-align: middle;\n",
       "    }\n",
       "\n",
       "    .dataframe tbody tr th {\n",
       "        vertical-align: top;\n",
       "    }\n",
       "\n",
       "    .dataframe thead th {\n",
       "        text-align: right;\n",
       "    }\n",
       "</style>\n",
       "<table border=\"1\" class=\"dataframe\">\n",
       "  <thead>\n",
       "    <tr style=\"text-align: right;\">\n",
       "      <th></th>\n",
       "      <th>GeneID</th>\n",
       "      <th>UniprotID</th>\n",
       "    </tr>\n",
       "  </thead>\n",
       "  <tbody>\n",
       "    <tr>\n",
       "      <th>0</th>\n",
       "      <td>1</td>\n",
       "      <td>P04217</td>\n",
       "    </tr>\n",
       "    <tr>\n",
       "      <th>1</th>\n",
       "      <td>1</td>\n",
       "      <td>V9HWD8</td>\n",
       "    </tr>\n",
       "    <tr>\n",
       "      <th>2</th>\n",
       "      <td>2</td>\n",
       "      <td>P01023</td>\n",
       "    </tr>\n",
       "    <tr>\n",
       "      <th>3</th>\n",
       "      <td>131076</td>\n",
       "      <td>C9JQ41</td>\n",
       "    </tr>\n",
       "    <tr>\n",
       "      <th>4</th>\n",
       "      <td>131076</td>\n",
       "      <td>Q4VC31</td>\n",
       "    </tr>\n",
       "  </tbody>\n",
       "</table>\n",
       "</div>"
      ],
      "text/plain": [
       "   GeneID UniprotID\n",
       "0       1    P04217\n",
       "1       1    V9HWD8\n",
       "2       2    P01023\n",
       "3  131076    C9JQ41\n",
       "4  131076    Q4VC31"
      ]
     },
     "execution_count": 13,
     "metadata": {},
     "output_type": "execute_result"
    }
   ],
   "source": [
    "df_uni_ids.head()"
   ]
  },
  {
   "cell_type": "code",
   "execution_count": 14,
   "metadata": {},
   "outputs": [],
   "source": [
    "df_uni_ids_d = df_uni_ids.copy() # make a copy for diseases"
   ]
  },
  {
   "cell_type": "code",
   "execution_count": 15,
   "metadata": {},
   "outputs": [],
   "source": [
    "# Apply the mapping, thereby creating chemical column\n",
    "df_uni_ids['ChemicalID'] = df_uni_ids.GeneID\n",
    "df_uni_ids['ChemicalID'] = df_uni_ids['ChemicalID'].astype(int).map(cg_dict)"
   ]
  },
  {
   "cell_type": "code",
   "execution_count": 16,
   "metadata": {},
   "outputs": [],
   "source": [
    "# Apply the mapping, thereby creating disease column\n",
    "df_uni_ids_d['DiseaseID'] = df_uni_ids_d.GeneID\n",
    "df_uni_ids_d['DiseaseID'] = df_uni_ids_d['DiseaseID'].astype(int).map(cgd_dict)"
   ]
  },
  {
   "cell_type": "code",
   "execution_count": 17,
   "metadata": {},
   "outputs": [],
   "source": [
    "# # Output disease list, later used in nn notebook\n",
    "# disease_list = df_uni_ids_d.DiseaseID.unique()\n",
    "# len(disease_list)\n",
    "# np.savetxt(r'diseases.lst', disease_list, fmt='%s')"
   ]
  },
  {
   "cell_type": "code",
   "execution_count": 18,
   "metadata": {},
   "outputs": [],
   "source": [
    "## This establishes that the len of a disease id is always 8 while a chem is 7 or 10\n",
    "# df_uni_ids['IDlen'] = df_uni_ids.ChemicalID.map(lambda x: len(x))\n",
    "# df_uni_ids_d['IDlen'] = df_uni_ids_d.DiseaseID.map(lambda x: len(x))\n",
    "# print(df_uni_ids.IDlen.unique())\n",
    "# print(df_uni_ids_d.IDlen.unique())"
   ]
  },
  {
   "cell_type": "markdown",
   "metadata": {},
   "source": [
    "##### Group by Chem ID"
   ]
  },
  {
   "cell_type": "code",
   "execution_count": 19,
   "metadata": {},
   "outputs": [
    {
     "data": {
      "text/plain": [
       "(33381, 3)"
      ]
     },
     "execution_count": 19,
     "metadata": {},
     "output_type": "execute_result"
    }
   ],
   "source": [
    "df_uni_ids.dropna().shape # 33381"
   ]
  },
  {
   "cell_type": "code",
   "execution_count": 20,
   "metadata": {},
   "outputs": [
    {
     "data": {
      "text/html": [
       "<div>\n",
       "<style scoped>\n",
       "    .dataframe tbody tr th:only-of-type {\n",
       "        vertical-align: middle;\n",
       "    }\n",
       "\n",
       "    .dataframe tbody tr th {\n",
       "        vertical-align: top;\n",
       "    }\n",
       "\n",
       "    .dataframe thead th {\n",
       "        text-align: right;\n",
       "    }\n",
       "</style>\n",
       "<table border=\"1\" class=\"dataframe\">\n",
       "  <thead>\n",
       "    <tr style=\"text-align: right;\">\n",
       "      <th></th>\n",
       "      <th>GeneID</th>\n",
       "      <th>UniprotID</th>\n",
       "      <th>ChemicalID</th>\n",
       "    </tr>\n",
       "  </thead>\n",
       "  <tbody>\n",
       "    <tr>\n",
       "      <th>0</th>\n",
       "      <td>1</td>\n",
       "      <td>P04217</td>\n",
       "      <td>D015032</td>\n",
       "    </tr>\n",
       "    <tr>\n",
       "      <th>1</th>\n",
       "      <td>1</td>\n",
       "      <td>V9HWD8</td>\n",
       "      <td>D015032</td>\n",
       "    </tr>\n",
       "    <tr>\n",
       "      <th>2</th>\n",
       "      <td>2</td>\n",
       "      <td>P01023</td>\n",
       "      <td>D015032</td>\n",
       "    </tr>\n",
       "    <tr>\n",
       "      <th>3</th>\n",
       "      <td>131076</td>\n",
       "      <td>C9JQ41</td>\n",
       "      <td>D014635</td>\n",
       "    </tr>\n",
       "    <tr>\n",
       "      <th>4</th>\n",
       "      <td>131076</td>\n",
       "      <td>Q4VC31</td>\n",
       "      <td>D014635</td>\n",
       "    </tr>\n",
       "  </tbody>\n",
       "</table>\n",
       "</div>"
      ],
      "text/plain": [
       "   GeneID UniprotID ChemicalID\n",
       "0       1    P04217    D015032\n",
       "1       1    V9HWD8    D015032\n",
       "2       2    P01023    D015032\n",
       "3  131076    C9JQ41    D014635\n",
       "4  131076    Q4VC31    D014635"
      ]
     },
     "execution_count": 20,
     "metadata": {},
     "output_type": "execute_result"
    }
   ],
   "source": [
    "df_uni_ids.head()"
   ]
  },
  {
   "cell_type": "code",
   "execution_count": 21,
   "metadata": {},
   "outputs": [
    {
     "data": {
      "text/plain": [
       "(14788, 3)"
      ]
     },
     "execution_count": 21,
     "metadata": {},
     "output_type": "execute_result"
    }
   ],
   "source": [
    "df_uni_ids_d.dropna().shape #2914"
   ]
  },
  {
   "cell_type": "markdown",
   "metadata": {},
   "source": [
    "### 2. Mine goa file, attaching go function for each uniprot ID to the parent chemical/gene"
   ]
  },
  {
   "cell_type": "code",
   "execution_count": 22,
   "metadata": {},
   "outputs": [
    {
     "name": "stderr",
     "output_type": "stream",
     "text": [
      "/home/ian/anaconda3/lib/python3.6/site-packages/IPython/core/interactiveshell.py:2785: DtypeWarning: Columns (15) have mixed types. Specify dtype option on import or set low_memory=False.\n",
      "  interactivity=interactivity, compiler=compiler, result=result)\n"
     ]
    }
   ],
   "source": [
    "# import goa file (uniprot ID to go_functions)\n",
    "go_funcs = pd.read_csv('../goa_human.gaf', header=None, skiprows=30, sep='\\t')"
   ]
  },
  {
   "cell_type": "code",
   "execution_count": 23,
   "metadata": {},
   "outputs": [],
   "source": [
    "# Cut out all cols except uniprot ids and go_funcs, rename these\n",
    "go_funcs = go_funcs.rename(columns={ go_funcs.columns[1]: \"UniprotID\" })\n",
    "go_funcs = go_funcs.rename(columns={ go_funcs.columns[4]: \"gofunc\" })\n",
    "col_list = ['UniprotID', 'gofunc']\n",
    "df_go = go_funcs[col_list]"
   ]
  },
  {
   "cell_type": "code",
   "execution_count": 24,
   "metadata": {},
   "outputs": [],
   "source": [
    "# Merge the go functions into our existing chem-uniprotID and dis-uniprotID dfs\n",
    "df_uni_ids_d = df_uni_ids_d.merge(df_go, on='UniprotID', how='outer').dropna()\n",
    "df_uni_ids = df_uni_ids.merge(df_go, on='UniprotID', how='outer').dropna()"
   ]
  },
  {
   "cell_type": "markdown",
   "metadata": {},
   "source": [
    "### 3. Prep and write to output file "
   ]
  },
  {
   "cell_type": "code",
   "execution_count": 25,
   "metadata": {},
   "outputs": [
    {
     "data": {
      "text/html": [
       "<div>\n",
       "<style scoped>\n",
       "    .dataframe tbody tr th:only-of-type {\n",
       "        vertical-align: middle;\n",
       "    }\n",
       "\n",
       "    .dataframe tbody tr th {\n",
       "        vertical-align: top;\n",
       "    }\n",
       "\n",
       "    .dataframe thead th {\n",
       "        text-align: right;\n",
       "    }\n",
       "</style>\n",
       "<table border=\"1\" class=\"dataframe\">\n",
       "  <thead>\n",
       "    <tr style=\"text-align: right;\">\n",
       "      <th></th>\n",
       "      <th>GeneID</th>\n",
       "      <th>UniprotID</th>\n",
       "      <th>DiseaseID</th>\n",
       "      <th>gofunc</th>\n",
       "    </tr>\n",
       "  </thead>\n",
       "  <tbody>\n",
       "    <tr>\n",
       "      <th>0</th>\n",
       "      <td>1</td>\n",
       "      <td>P04217</td>\n",
       "      <td>MESH:D012559</td>\n",
       "      <td>GO:0002576</td>\n",
       "    </tr>\n",
       "    <tr>\n",
       "      <th>1</th>\n",
       "      <td>1</td>\n",
       "      <td>P04217</td>\n",
       "      <td>MESH:D012559</td>\n",
       "      <td>GO:0003674</td>\n",
       "    </tr>\n",
       "    <tr>\n",
       "      <th>2</th>\n",
       "      <td>1</td>\n",
       "      <td>P04217</td>\n",
       "      <td>MESH:D012559</td>\n",
       "      <td>GO:0005576</td>\n",
       "    </tr>\n",
       "    <tr>\n",
       "      <th>3</th>\n",
       "      <td>1</td>\n",
       "      <td>P04217</td>\n",
       "      <td>MESH:D012559</td>\n",
       "      <td>GO:0005576</td>\n",
       "    </tr>\n",
       "    <tr>\n",
       "      <th>4</th>\n",
       "      <td>1</td>\n",
       "      <td>P04217</td>\n",
       "      <td>MESH:D012559</td>\n",
       "      <td>GO:0005576</td>\n",
       "    </tr>\n",
       "  </tbody>\n",
       "</table>\n",
       "</div>"
      ],
      "text/plain": [
       "  GeneID UniprotID     DiseaseID      gofunc\n",
       "0      1    P04217  MESH:D012559  GO:0002576\n",
       "1      1    P04217  MESH:D012559  GO:0003674\n",
       "2      1    P04217  MESH:D012559  GO:0005576\n",
       "3      1    P04217  MESH:D012559  GO:0005576\n",
       "4      1    P04217  MESH:D012559  GO:0005576"
      ]
     },
     "execution_count": 25,
     "metadata": {},
     "output_type": "execute_result"
    }
   ],
   "source": [
    "df_uni_ids_d.head()"
   ]
  },
  {
   "cell_type": "code",
   "execution_count": 75,
   "metadata": {},
   "outputs": [
    {
     "data": {
      "text/html": [
       "<div>\n",
       "<style scoped>\n",
       "    .dataframe tbody tr th:only-of-type {\n",
       "        vertical-align: middle;\n",
       "    }\n",
       "\n",
       "    .dataframe tbody tr th {\n",
       "        vertical-align: top;\n",
       "    }\n",
       "\n",
       "    .dataframe thead th {\n",
       "        text-align: right;\n",
       "    }\n",
       "</style>\n",
       "<table border=\"1\" class=\"dataframe\">\n",
       "  <thead>\n",
       "    <tr style=\"text-align: right;\">\n",
       "      <th></th>\n",
       "      <th>GeneID</th>\n",
       "      <th>UniprotID</th>\n",
       "      <th>ChemicalID</th>\n",
       "      <th>gofunc</th>\n",
       "      <th>go_url</th>\n",
       "    </tr>\n",
       "  </thead>\n",
       "  <tbody>\n",
       "    <tr>\n",
       "      <th>0</th>\n",
       "      <td>1</td>\n",
       "      <td>P04217</td>\n",
       "      <td>D015032</td>\n",
       "      <td>GO:0002576</td>\n",
       "      <td>&lt;http://purl.obolibrary.org/obo/GO_0002576&gt;</td>\n",
       "    </tr>\n",
       "    <tr>\n",
       "      <th>1</th>\n",
       "      <td>1</td>\n",
       "      <td>P04217</td>\n",
       "      <td>D015032</td>\n",
       "      <td>GO:0003674</td>\n",
       "      <td>&lt;http://purl.obolibrary.org/obo/GO_0003674&gt;</td>\n",
       "    </tr>\n",
       "    <tr>\n",
       "      <th>2</th>\n",
       "      <td>1</td>\n",
       "      <td>P04217</td>\n",
       "      <td>D015032</td>\n",
       "      <td>GO:0005576</td>\n",
       "      <td>&lt;http://purl.obolibrary.org/obo/GO_0005576&gt;</td>\n",
       "    </tr>\n",
       "    <tr>\n",
       "      <th>3</th>\n",
       "      <td>1</td>\n",
       "      <td>P04217</td>\n",
       "      <td>D015032</td>\n",
       "      <td>GO:0005576</td>\n",
       "      <td>&lt;http://purl.obolibrary.org/obo/GO_0005576&gt;</td>\n",
       "    </tr>\n",
       "    <tr>\n",
       "      <th>4</th>\n",
       "      <td>1</td>\n",
       "      <td>P04217</td>\n",
       "      <td>D015032</td>\n",
       "      <td>GO:0005576</td>\n",
       "      <td>&lt;http://purl.obolibrary.org/obo/GO_0005576&gt;</td>\n",
       "    </tr>\n",
       "  </tbody>\n",
       "</table>\n",
       "</div>"
      ],
      "text/plain": [
       "  GeneID UniprotID ChemicalID      gofunc  \\\n",
       "0      1    P04217    D015032  GO:0002576   \n",
       "1      1    P04217    D015032  GO:0003674   \n",
       "2      1    P04217    D015032  GO:0005576   \n",
       "3      1    P04217    D015032  GO:0005576   \n",
       "4      1    P04217    D015032  GO:0005576   \n",
       "\n",
       "                                        go_url  \n",
       "0  <http://purl.obolibrary.org/obo/GO_0002576>  \n",
       "1  <http://purl.obolibrary.org/obo/GO_0003674>  \n",
       "2  <http://purl.obolibrary.org/obo/GO_0005576>  \n",
       "3  <http://purl.obolibrary.org/obo/GO_0005576>  \n",
       "4  <http://purl.obolibrary.org/obo/GO_0005576>  "
      ]
     },
     "execution_count": 75,
     "metadata": {},
     "output_type": "execute_result"
    }
   ],
   "source": [
    "df_uni_ids.head()"
   ]
  },
  {
   "cell_type": "code",
   "execution_count": 26,
   "metadata": {},
   "outputs": [],
   "source": [
    "# Create a col with the full go url\n",
    "df_uni_ids['go_url'] = '<' + 'http://purl.obolibrary.org/obo/' + df_uni_ids.gofunc.str.replace(':', '_')  + '>'\n",
    "df_uni_ids_d['go_url'] =  '<' + 'http://purl.obolibrary.org/obo/' + df_uni_ids_d.gofunc.str.replace(':', '_')  + '>'"
   ]
  },
  {
   "cell_type": "code",
   "execution_count": 27,
   "metadata": {},
   "outputs": [],
   "source": [
    "# Grab just the columns we want to output (diseaseID and go_url/ chemicalID and go_url)\n",
    "col_list_c = ['ChemicalID', 'go_url']\n",
    "col_list_d = ['DiseaseID', 'go_url']\n",
    "df_c = df_uni_ids[col_list_c]\n",
    "df_d = df_uni_ids_d[col_list_d]"
   ]
  },
  {
   "cell_type": "code",
   "execution_count": 28,
   "metadata": {},
   "outputs": [],
   "source": [
    "# df_c.ChemicalID.unique()"
   ]
  },
  {
   "cell_type": "code",
   "execution_count": 29,
   "metadata": {},
   "outputs": [
    {
     "data": {
      "text/plain": [
       "array(['MESH:D012559', 'MESH:D009404', 'MESH:D001749', ...,\n",
       "       'MESH:C536489', 'MESH:C536531', 'MESH:C564161'], dtype=object)"
      ]
     },
     "execution_count": 29,
     "metadata": {},
     "output_type": "execute_result"
    }
   ],
   "source": [
    "df_d.DiseaseID.unique()"
   ]
  },
  {
   "cell_type": "code",
   "execution_count": 30,
   "metadata": {},
   "outputs": [],
   "source": [
    "# Output an association file for each of chem and dis\n",
    "np.savetxt(r'associations_c.txt', df_c.values, fmt='%s')\n",
    "np.savetxt(r'associations_d.txt', df_d.values, fmt='%s')"
   ]
  },
  {
   "cell_type": "code",
   "execution_count": 31,
   "metadata": {},
   "outputs": [
    {
     "data": {
      "text/plain": [
       "0"
      ]
     },
     "execution_count": 31,
     "metadata": {},
     "output_type": "execute_result"
    }
   ],
   "source": [
    "# Merge these two into one single file\n",
    "subprocess.call('cat associations_* > myassociations', shell=True)"
   ]
  },
  {
   "cell_type": "code",
   "execution_count": 32,
   "metadata": {},
   "outputs": [],
   "source": [
    "# Create entities.lst to inform opa2vec which entities we want vectors for\n",
    "entities = df_d.DiseaseID.unique().tolist() + df_c.ChemicalID.unique().tolist()\n",
    "np.savetxt(r'entities.lst', entities, fmt='%s')"
   ]
  },
  {
   "cell_type": "code",
   "execution_count": 33,
   "metadata": {},
   "outputs": [],
   "source": [
    "## NEXT STEP in pipeline is to manually run opa2vec, though it could be automated here..."
   ]
  },
  {
   "cell_type": "markdown",
   "metadata": {},
   "source": [
    "#### Export GoFunction counts per chem and per disease"
   ]
  },
  {
   "cell_type": "code",
   "execution_count": 92,
   "metadata": {},
   "outputs": [],
   "source": [
    "# Create df of counts of chem and disease gofuncs for export, later used in assessing NN results\n",
    "chem_gofunc_counts = df_uni_ids.groupby('ChemicalID')['gofunc'].nunique()\n",
    "dis_gofunc_counts = df_uni_ids_d.groupby('DiseaseID')['gofunc'].nunique()\n",
    "\n",
    "chem_gofunc_counts = pd.DataFrame(chem_gofunc_counts)\n",
    "chem_gofunc_counts = chem_gofunc_counts.reset_index()\n",
    "dis_gofunc_counts = pd.DataFrame(dis_gofunc_counts)\n",
    "dis_gofunc_counts = dis_gofunc_counts.reset_index()\n",
    "\n",
    "gofunc_counts = chem_gofunc_counts.merge(dis_gofunc_counts, how='outer')\n",
    "gofunc_counts.to_csv('gofunc_counts.csv', index=False)"
   ]
  },
  {
   "cell_type": "code",
   "execution_count": null,
   "metadata": {},
   "outputs": [],
   "source": []
  }
 ],
 "metadata": {
  "kernelspec": {
   "display_name": "Python 3",
   "language": "python",
   "name": "python3"
  },
  "language_info": {
   "codemirror_mode": {
    "name": "ipython",
    "version": 3
   },
   "file_extension": ".py",
   "mimetype": "text/x-python",
   "name": "python",
   "nbconvert_exporter": "python",
   "pygments_lexer": "ipython3",
   "version": "3.6.5"
  }
 },
 "nbformat": 4,
 "nbformat_minor": 2
}
