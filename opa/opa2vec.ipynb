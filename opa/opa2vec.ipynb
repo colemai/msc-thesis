{
 "cells": [
  {
   "cell_type": "markdown",
   "metadata": {},
   "source": [
    "# Notebook: Create OPA2VEC associations file\n",
    "<b>Author</b>: Ian Coleman <br/>\n",
    "<b>Function</b>: Get genes associated with diseases (disgenet) and chemicals (ctdbase), take their go functions and assign to the associated chem/dis in an associations file. Also output finalclasses.lst, a file that tells opa2vec which entities you would like the vectors for"
   ]
  },
  {
   "cell_type": "code",
   "execution_count": 7,
   "metadata": {},
   "outputs": [
    {
     "name": "stdout",
     "output_type": "stream",
     "text": [
      "Once deleted, variables cannot be recovered. Proceed (y/[n])? y\n"
     ]
    }
   ],
   "source": [
    "# %reset"
   ]
  },
  {
   "cell_type": "code",
   "execution_count": 1,
   "metadata": {},
   "outputs": [],
   "source": [
    "import pandas as pd\n",
    "import numpy as np\n",
    "import subprocess"
   ]
  },
  {
   "cell_type": "markdown",
   "metadata": {},
   "source": [
    "### 1. Get Uniprot ID set for each Gene "
   ]
  },
  {
   "cell_type": "code",
   "execution_count": 2,
   "metadata": {},
   "outputs": [],
   "source": [
    "# CHEMICALS\n",
    "# Import CTD file to get the geneIDs we want \n",
    "df_cg = pd.read_csv('../ctd-to-nt/csvs/CTD_chem_gene_ixns.csv', skiprows=27)\n",
    "df_cg = df_cg.drop(0)\n",
    "\n",
    "# Cut down to just humans if you want to\n",
    "df_cg = df_cg.loc[df_cg['OrganismID'] == 9606.0]\n",
    "\n",
    "# Need to change float to int for the url to work\n",
    "df_cg['GeneID'] = df_cg.GeneID.astype(int)"
   ]
  },
  {
   "cell_type": "code",
   "execution_count": 3,
   "metadata": {},
   "outputs": [],
   "source": [
    "# # DISEASES\n",
    "# # Import DisGeNet with disease IDs and Gene IDs\n",
    "# df_cgd = pd.read_csv('../disgenet-nt/input_tsvs/curated_gene_disease_associations.tsv', sep='\\t')\n",
    "\n",
    "# # Limit by evidence Score \n",
    "# df_cgd = df_cgd[df_cgd.score >= 0.42]"
   ]
  },
  {
   "cell_type": "code",
   "execution_count": 4,
   "metadata": {},
   "outputs": [],
   "source": [
    "# df_cgd.head()"
   ]
  },
  {
   "cell_type": "code",
   "execution_count": 6,
   "metadata": {},
   "outputs": [
    {
     "data": {
      "text/html": [
       "<div>\n",
       "<style scoped>\n",
       "    .dataframe tbody tr th:only-of-type {\n",
       "        vertical-align: middle;\n",
       "    }\n",
       "\n",
       "    .dataframe tbody tr th {\n",
       "        vertical-align: top;\n",
       "    }\n",
       "\n",
       "    .dataframe thead th {\n",
       "        text-align: right;\n",
       "    }\n",
       "</style>\n",
       "<table border=\"1\" class=\"dataframe\">\n",
       "  <thead>\n",
       "    <tr style=\"text-align: right;\">\n",
       "      <th></th>\n",
       "      <th>GeneID</th>\n",
       "      <th>DiseaseID</th>\n",
       "    </tr>\n",
       "  </thead>\n",
       "  <tbody>\n",
       "    <tr>\n",
       "      <th>0</th>\n",
       "      <td>50518</td>\n",
       "      <td>MESH:D003920</td>\n",
       "    </tr>\n",
       "    <tr>\n",
       "      <th>1</th>\n",
       "      <td>50518</td>\n",
       "      <td>MESH:D003924</td>\n",
       "    </tr>\n",
       "    <tr>\n",
       "      <th>2</th>\n",
       "      <td>50518</td>\n",
       "      <td>MESH:D008113</td>\n",
       "    </tr>\n",
       "    <tr>\n",
       "      <th>3</th>\n",
       "      <td>50518</td>\n",
       "      <td>MESH:D009369</td>\n",
       "    </tr>\n",
       "    <tr>\n",
       "      <th>4</th>\n",
       "      <td>50518</td>\n",
       "      <td>MESH:D009765</td>\n",
       "    </tr>\n",
       "  </tbody>\n",
       "</table>\n",
       "</div>"
      ],
      "text/plain": [
       "   GeneID     DiseaseID\n",
       "0   50518  MESH:D003920\n",
       "1   50518  MESH:D003924\n",
       "2   50518  MESH:D008113\n",
       "3   50518  MESH:D009369\n",
       "4   50518  MESH:D009765"
      ]
     },
     "execution_count": 6,
     "metadata": {},
     "output_type": "execute_result"
    }
   ],
   "source": [
    "# Alternative DISEASES --> Switching out DisGeNet for CTD (as they use UMLS/MESH respectively)\n",
    "# Import preprepared g-d associations (from ctd-to-nt notebook) direct assocs only\n",
    "df_cgd = pd.read_csv('../ctd-to-nt/gene-dis-pos-assocs.csv')\n",
    "df_cgd['GeneID'] = df_cgd['GeneID'].astype(int)\n",
    "df_cgd.head()"
   ]
  },
  {
   "cell_type": "code",
   "execution_count": 6,
   "metadata": {},
   "outputs": [],
   "source": [
    "# # Create list of all associated GeneIDs for each of Chemicals and Diseases\n",
    "cgene_ids = df_cg.GeneID.unique()\n",
    "dgene_ids = df_cgd.GeneID.unique()\n",
    "\n",
    "# Combine them\n",
    "all_genes = set(cgene_ids).union(set(dgene_ids))"
   ]
  },
  {
   "cell_type": "code",
   "execution_count": 7,
   "metadata": {},
   "outputs": [
    {
     "data": {
      "text/html": [
       "<div>\n",
       "<style scoped>\n",
       "    .dataframe tbody tr th:only-of-type {\n",
       "        vertical-align: middle;\n",
       "    }\n",
       "\n",
       "    .dataframe tbody tr th {\n",
       "        vertical-align: top;\n",
       "    }\n",
       "\n",
       "    .dataframe thead th {\n",
       "        text-align: right;\n",
       "    }\n",
       "</style>\n",
       "<table border=\"1\" class=\"dataframe\">\n",
       "  <thead>\n",
       "    <tr style=\"text-align: right;\">\n",
       "      <th></th>\n",
       "      <th>GeneID</th>\n",
       "      <th>DiseaseID</th>\n",
       "    </tr>\n",
       "  </thead>\n",
       "  <tbody>\n",
       "    <tr>\n",
       "      <th>0</th>\n",
       "      <td>50518</td>\n",
       "      <td>MESH:D003920</td>\n",
       "    </tr>\n",
       "    <tr>\n",
       "      <th>1</th>\n",
       "      <td>50518</td>\n",
       "      <td>MESH:D003924</td>\n",
       "    </tr>\n",
       "    <tr>\n",
       "      <th>2</th>\n",
       "      <td>50518</td>\n",
       "      <td>MESH:D008113</td>\n",
       "    </tr>\n",
       "    <tr>\n",
       "      <th>3</th>\n",
       "      <td>50518</td>\n",
       "      <td>MESH:D009369</td>\n",
       "    </tr>\n",
       "    <tr>\n",
       "      <th>4</th>\n",
       "      <td>50518</td>\n",
       "      <td>MESH:D009765</td>\n",
       "    </tr>\n",
       "  </tbody>\n",
       "</table>\n",
       "</div>"
      ],
      "text/plain": [
       "   GeneID     DiseaseID\n",
       "0   50518  MESH:D003920\n",
       "1   50518  MESH:D003924\n",
       "2   50518  MESH:D008113\n",
       "3   50518  MESH:D009369\n",
       "4   50518  MESH:D009765"
      ]
     },
     "execution_count": 7,
     "metadata": {},
     "output_type": "execute_result"
    }
   ],
   "source": [
    "df_cgd.head()"
   ]
  },
  {
   "cell_type": "code",
   "execution_count": 8,
   "metadata": {},
   "outputs": [],
   "source": [
    "# Write combined gene ids to file\n",
    "with open('geneIDs.txt', 'w') as f:\n",
    "    for item in all_genes:\n",
    "        f.write(\"%s\\n\" % item)"
   ]
  },
  {
   "cell_type": "code",
   "execution_count": 9,
   "metadata": {},
   "outputs": [],
   "source": [
    "# NOTE the next step is MANUAL\n",
    "# You need to go to https://www.uniprot.org/uploadlists/ and give it the created geneIDs.txt file, ask it to convert\n",
    "# entrez gene to uniprot ID. Then download this as uniprotIDs.txt (as uncompressed, mapping table)"
   ]
  },
  {
   "cell_type": "markdown",
   "metadata": {},
   "source": [
    "##### Import the list of uniprot IDs"
   ]
  },
  {
   "cell_type": "code",
   "execution_count": 10,
   "metadata": {},
   "outputs": [],
   "source": [
    "# Import manually generated file of geneID --> uniprotID\n",
    "df_uni_ids = pd.read_csv('uniprotIDs.txt', sep='\\t')\n",
    "df_uni_ids.columns = ['GeneID', 'UniprotID']\n",
    "df_uni_ids['GeneID'] = df_uni_ids.GeneID.astype(str)"
   ]
  },
  {
   "cell_type": "code",
   "execution_count": 11,
   "metadata": {},
   "outputs": [],
   "source": [
    "# Some of the GeneIds are actually a couple of IDs on one row. Split them into multiple rows\n",
    "df_uni_ids = pd.concat([pd.Series(row['UniprotID'], row['GeneID'].split(','))              \n",
    "                    for _, row in df_uni_ids.iterrows()]).reset_index()\n",
    "df_uni_ids.columns = ['GeneID', 'UniprotID']"
   ]
  },
  {
   "cell_type": "markdown",
   "metadata": {},
   "source": [
    "##### Create merged df to enable grouping by chemicalID and diseaseID"
   ]
  },
  {
   "cell_type": "code",
   "execution_count": 12,
   "metadata": {},
   "outputs": [],
   "source": [
    "# Create mapping file of gene ID to chem ID... and gene ID to disease ID \n",
    "cg_dict = dict(zip(df_cg.GeneID, df_cg.ChemicalID))\n",
    "cgd_dict = dict(zip(df_cgd.GeneID, df_cgd.DiseaseID))"
   ]
  },
  {
   "cell_type": "code",
   "execution_count": 13,
   "metadata": {
    "scrolled": true
   },
   "outputs": [
    {
     "data": {
      "text/html": [
       "<div>\n",
       "<style scoped>\n",
       "    .dataframe tbody tr th:only-of-type {\n",
       "        vertical-align: middle;\n",
       "    }\n",
       "\n",
       "    .dataframe tbody tr th {\n",
       "        vertical-align: top;\n",
       "    }\n",
       "\n",
       "    .dataframe thead th {\n",
       "        text-align: right;\n",
       "    }\n",
       "</style>\n",
       "<table border=\"1\" class=\"dataframe\">\n",
       "  <thead>\n",
       "    <tr style=\"text-align: right;\">\n",
       "      <th></th>\n",
       "      <th>GeneID</th>\n",
       "      <th>UniprotID</th>\n",
       "    </tr>\n",
       "  </thead>\n",
       "  <tbody>\n",
       "    <tr>\n",
       "      <th>0</th>\n",
       "      <td>1</td>\n",
       "      <td>P04217</td>\n",
       "    </tr>\n",
       "    <tr>\n",
       "      <th>1</th>\n",
       "      <td>1</td>\n",
       "      <td>V9HWD8</td>\n",
       "    </tr>\n",
       "    <tr>\n",
       "      <th>2</th>\n",
       "      <td>2</td>\n",
       "      <td>P01023</td>\n",
       "    </tr>\n",
       "    <tr>\n",
       "      <th>3</th>\n",
       "      <td>131076</td>\n",
       "      <td>C9JQ41</td>\n",
       "    </tr>\n",
       "    <tr>\n",
       "      <th>4</th>\n",
       "      <td>131076</td>\n",
       "      <td>Q4VC31</td>\n",
       "    </tr>\n",
       "  </tbody>\n",
       "</table>\n",
       "</div>"
      ],
      "text/plain": [
       "   GeneID UniprotID\n",
       "0       1    P04217\n",
       "1       1    V9HWD8\n",
       "2       2    P01023\n",
       "3  131076    C9JQ41\n",
       "4  131076    Q4VC31"
      ]
     },
     "execution_count": 13,
     "metadata": {},
     "output_type": "execute_result"
    }
   ],
   "source": [
    "df_uni_ids.head()"
   ]
  },
  {
   "cell_type": "code",
   "execution_count": 14,
   "metadata": {},
   "outputs": [],
   "source": [
    "df_uni_ids_d = df_uni_ids.copy() # make a copy for diseases"
   ]
  },
  {
   "cell_type": "code",
   "execution_count": 15,
   "metadata": {},
   "outputs": [],
   "source": [
    "# Apply the mapping, thereby creating chemical column\n",
    "df_uni_ids['ChemicalID'] = df_uni_ids.GeneID\n",
    "df_uni_ids['ChemicalID'] = df_uni_ids['ChemicalID'].astype(int).map(cg_dict)"
   ]
  },
  {
   "cell_type": "code",
   "execution_count": 16,
   "metadata": {},
   "outputs": [],
   "source": [
    "# Apply the mapping, thereby creating disease column\n",
    "df_uni_ids_d['DiseaseID'] = df_uni_ids_d.GeneID\n",
    "df_uni_ids_d['DiseaseID'] = df_uni_ids_d['DiseaseID'].astype(int).map(cgd_dict)"
   ]
  },
  {
   "cell_type": "code",
   "execution_count": 17,
   "metadata": {},
   "outputs": [],
   "source": [
    "# # Output disease list, later used in nn notebook\n",
    "# disease_list = df_uni_ids_d.DiseaseID.unique()\n",
    "# len(disease_list)\n",
    "# np.savetxt(r'diseases.lst', disease_list, fmt='%s')"
   ]
  },
  {
   "cell_type": "code",
   "execution_count": 18,
   "metadata": {},
   "outputs": [],
   "source": [
    "## This establishes that the len of a disease id is always 8 while a chem is 7 or 10\n",
    "# df_uni_ids['IDlen'] = df_uni_ids.ChemicalID.map(lambda x: len(x))\n",
    "# df_uni_ids_d['IDlen'] = df_uni_ids_d.DiseaseID.map(lambda x: len(x))\n",
    "# print(df_uni_ids.IDlen.unique())\n",
    "# print(df_uni_ids_d.IDlen.unique())"
   ]
  },
  {
   "cell_type": "markdown",
   "metadata": {},
   "source": [
    "##### Group by Chem ID"
   ]
  },
  {
   "cell_type": "code",
   "execution_count": 19,
   "metadata": {},
   "outputs": [
    {
     "data": {
      "text/plain": [
       "(33381, 3)"
      ]
     },
     "execution_count": 19,
     "metadata": {},
     "output_type": "execute_result"
    }
   ],
   "source": [
    "df_uni_ids.dropna().shape # 33381"
   ]
  },
  {
   "cell_type": "code",
   "execution_count": 20,
   "metadata": {},
   "outputs": [
    {
     "data": {
      "text/html": [
       "<div>\n",
       "<style scoped>\n",
       "    .dataframe tbody tr th:only-of-type {\n",
       "        vertical-align: middle;\n",
       "    }\n",
       "\n",
       "    .dataframe tbody tr th {\n",
       "        vertical-align: top;\n",
       "    }\n",
       "\n",
       "    .dataframe thead th {\n",
       "        text-align: right;\n",
       "    }\n",
       "</style>\n",
       "<table border=\"1\" class=\"dataframe\">\n",
       "  <thead>\n",
       "    <tr style=\"text-align: right;\">\n",
       "      <th></th>\n",
       "      <th>GeneID</th>\n",
       "      <th>UniprotID</th>\n",
       "      <th>ChemicalID</th>\n",
       "    </tr>\n",
       "  </thead>\n",
       "  <tbody>\n",
       "    <tr>\n",
       "      <th>0</th>\n",
       "      <td>1</td>\n",
       "      <td>P04217</td>\n",
       "      <td>D015032</td>\n",
       "    </tr>\n",
       "    <tr>\n",
       "      <th>1</th>\n",
       "      <td>1</td>\n",
       "      <td>V9HWD8</td>\n",
       "      <td>D015032</td>\n",
       "    </tr>\n",
       "    <tr>\n",
       "      <th>2</th>\n",
       "      <td>2</td>\n",
       "      <td>P01023</td>\n",
       "      <td>D015032</td>\n",
       "    </tr>\n",
       "    <tr>\n",
       "      <th>3</th>\n",
       "      <td>131076</td>\n",
       "      <td>C9JQ41</td>\n",
       "      <td>D014635</td>\n",
       "    </tr>\n",
       "    <tr>\n",
       "      <th>4</th>\n",
       "      <td>131076</td>\n",
       "      <td>Q4VC31</td>\n",
       "      <td>D014635</td>\n",
       "    </tr>\n",
       "  </tbody>\n",
       "</table>\n",
       "</div>"
      ],
      "text/plain": [
       "   GeneID UniprotID ChemicalID\n",
       "0       1    P04217    D015032\n",
       "1       1    V9HWD8    D015032\n",
       "2       2    P01023    D015032\n",
       "3  131076    C9JQ41    D014635\n",
       "4  131076    Q4VC31    D014635"
      ]
     },
     "execution_count": 20,
     "metadata": {},
     "output_type": "execute_result"
    }
   ],
   "source": [
    "df_uni_ids.head()"
   ]
  },
  {
   "cell_type": "code",
   "execution_count": 21,
   "metadata": {},
   "outputs": [
    {
     "data": {
      "text/plain": [
       "(14788, 3)"
      ]
     },
     "execution_count": 21,
     "metadata": {},
     "output_type": "execute_result"
    }
   ],
   "source": [
    "df_uni_ids_d.dropna().shape #2914"
   ]
  },
  {
   "cell_type": "markdown",
   "metadata": {},
   "source": [
    "### 2. Mine goa file, attaching go function for each uniprot ID to the parent chemical/gene"
   ]
  },
  {
   "cell_type": "code",
   "execution_count": 22,
   "metadata": {},
   "outputs": [
    {
     "name": "stderr",
     "output_type": "stream",
     "text": [
      "/home/ian/anaconda3/lib/python3.6/site-packages/IPython/core/interactiveshell.py:2785: DtypeWarning: Columns (15) have mixed types. Specify dtype option on import or set low_memory=False.\n",
      "  interactivity=interactivity, compiler=compiler, result=result)\n"
     ]
    }
   ],
   "source": [
    "# import goa file (uniprot ID to go_functions)\n",
    "go_funcs = pd.read_csv('../goa_human.gaf', header=None, skiprows=30, sep='\\t')"
   ]
  },
  {
   "cell_type": "code",
   "execution_count": 23,
   "metadata": {},
   "outputs": [],
   "source": [
    "# Cut out all cols except uniprot ids and go_funcs, rename these\n",
    "go_funcs = go_funcs.rename(columns={ go_funcs.columns[1]: \"UniprotID\" })\n",
    "go_funcs = go_funcs.rename(columns={ go_funcs.columns[4]: \"gofunc\" })\n",
    "col_list = ['UniprotID', 'gofunc']\n",
    "df_go = go_funcs[col_list]"
   ]
  },
  {
   "cell_type": "code",
   "execution_count": 24,
   "metadata": {},
   "outputs": [],
   "source": [
    "# Merge the go functions into our existing chem-uniprotID and dis-uniprotID dfs\n",
    "df_uni_ids_d = df_uni_ids_d.merge(df_go, on='UniprotID', how='outer').dropna()\n",
    "df_uni_ids = df_uni_ids.merge(df_go, on='UniprotID', how='outer').dropna()"
   ]
  },
  {
   "cell_type": "markdown",
   "metadata": {},
   "source": [
    "#### Alternative vectors: Control for the number of disease go functions"
   ]
  },
  {
   "cell_type": "code",
   "execution_count": 28,
   "metadata": {},
   "outputs": [
    {
     "data": {
      "text/plain": [
       "D014635       130641\n",
       "C088658        55556\n",
       "C111237        49206\n",
       "D015032        40365\n",
       "D014810        24379\n",
       "D024483        16353\n",
       "D014750        11006\n",
       "D019287        10668\n",
       "D014638         9338\n",
       "D014520         7679\n",
       "D015215         7402\n",
       "D001335         7017\n",
       "C016837         5259\n",
       "D019345         4440\n",
       "D015054         3855\n",
       "C016805         3752\n",
       "D014212         3252\n",
       "D013749         2945\n",
       "C017947         2514\n",
       "D014800         2415\n",
       "D010936         2397\n",
       "C017803         2376\n",
       "C031238         2247\n",
       "D014639         2241\n",
       "C009687         2156\n",
       "D012822         1809\n",
       "C012589         1706\n",
       "D014415         1445\n",
       "D014747         1417\n",
       "D015034         1334\n",
       "               ...  \n",
       "D011810            7\n",
       "D010655            7\n",
       "D016685            6\n",
       "D002166            6\n",
       "C505646            6\n",
       "C502851            6\n",
       "D013882            6\n",
       "D007840            6\n",
       "C584509            6\n",
       "D019946            6\n",
       "C015559            6\n",
       "D009249            6\n",
       "D003634            5\n",
       "D003907            5\n",
       "D001104            5\n",
       "D013759            5\n",
       "D012176            5\n",
       "C039674            5\n",
       "D001205            5\n",
       "C023035            5\n",
       "C116664            4\n",
       "D001152            4\n",
       "C510003            4\n",
       "C570897            3\n",
       "C089595            3\n",
       "D009285            3\n",
       "D000069286         2\n",
       "D019772            2\n",
       "C447119            1\n",
       "C027296            1\n",
       "Name: ChemicalID, Length: 412, dtype: int64"
      ]
     },
     "execution_count": 28,
     "metadata": {},
     "output_type": "execute_result"
    }
   ],
   "source": [
    "df_uni_ids.ChemicalID.value_counts()"
   ]
  },
  {
   "cell_type": "code",
   "execution_count": 46,
   "metadata": {},
   "outputs": [
    {
     "data": {
      "text/plain": [
       "1276"
      ]
     },
     "execution_count": 46,
     "metadata": {},
     "output_type": "execute_result"
    }
   ],
   "source": [
    "len(df_uni_ids_d.DiseaseID.value_counts()[(df_uni_ids_d.DiseaseID.value_counts()>=30) & (df_uni_ids_d.DiseaseID.value_counts()<1000)])"
   ]
  },
  {
   "cell_type": "code",
   "execution_count": 41,
   "metadata": {},
   "outputs": [
    {
     "data": {
      "text/plain": [
       "2567"
      ]
     },
     "execution_count": 41,
     "metadata": {},
     "output_type": "execute_result"
    }
   ],
   "source": [
    "len(df_uni_ids_d.DiseaseID.value_counts())"
   ]
  },
  {
   "cell_type": "markdown",
   "metadata": {},
   "source": [
    "### 3. Prep and write to output file "
   ]
  },
  {
   "cell_type": "code",
   "execution_count": 25,
   "metadata": {},
   "outputs": [
    {
     "data": {
      "text/html": [
       "<div>\n",
       "<style scoped>\n",
       "    .dataframe tbody tr th:only-of-type {\n",
       "        vertical-align: middle;\n",
       "    }\n",
       "\n",
       "    .dataframe tbody tr th {\n",
       "        vertical-align: top;\n",
       "    }\n",
       "\n",
       "    .dataframe thead th {\n",
       "        text-align: right;\n",
       "    }\n",
       "</style>\n",
       "<table border=\"1\" class=\"dataframe\">\n",
       "  <thead>\n",
       "    <tr style=\"text-align: right;\">\n",
       "      <th></th>\n",
       "      <th>GeneID</th>\n",
       "      <th>UniprotID</th>\n",
       "      <th>DiseaseID</th>\n",
       "      <th>gofunc</th>\n",
       "    </tr>\n",
       "  </thead>\n",
       "  <tbody>\n",
       "    <tr>\n",
       "      <th>0</th>\n",
       "      <td>1</td>\n",
       "      <td>P04217</td>\n",
       "      <td>MESH:D012559</td>\n",
       "      <td>GO:0002576</td>\n",
       "    </tr>\n",
       "    <tr>\n",
       "      <th>1</th>\n",
       "      <td>1</td>\n",
       "      <td>P04217</td>\n",
       "      <td>MESH:D012559</td>\n",
       "      <td>GO:0003674</td>\n",
       "    </tr>\n",
       "    <tr>\n",
       "      <th>2</th>\n",
       "      <td>1</td>\n",
       "      <td>P04217</td>\n",
       "      <td>MESH:D012559</td>\n",
       "      <td>GO:0005576</td>\n",
       "    </tr>\n",
       "    <tr>\n",
       "      <th>3</th>\n",
       "      <td>1</td>\n",
       "      <td>P04217</td>\n",
       "      <td>MESH:D012559</td>\n",
       "      <td>GO:0005576</td>\n",
       "    </tr>\n",
       "    <tr>\n",
       "      <th>4</th>\n",
       "      <td>1</td>\n",
       "      <td>P04217</td>\n",
       "      <td>MESH:D012559</td>\n",
       "      <td>GO:0005576</td>\n",
       "    </tr>\n",
       "  </tbody>\n",
       "</table>\n",
       "</div>"
      ],
      "text/plain": [
       "  GeneID UniprotID     DiseaseID      gofunc\n",
       "0      1    P04217  MESH:D012559  GO:0002576\n",
       "1      1    P04217  MESH:D012559  GO:0003674\n",
       "2      1    P04217  MESH:D012559  GO:0005576\n",
       "3      1    P04217  MESH:D012559  GO:0005576\n",
       "4      1    P04217  MESH:D012559  GO:0005576"
      ]
     },
     "execution_count": 25,
     "metadata": {},
     "output_type": "execute_result"
    }
   ],
   "source": [
    "df_uni_ids_d.head()"
   ]
  },
  {
   "cell_type": "code",
   "execution_count": 50,
   "metadata": {},
   "outputs": [
    {
     "data": {
      "text/html": [
       "<div>\n",
       "<style scoped>\n",
       "    .dataframe tbody tr th:only-of-type {\n",
       "        vertical-align: middle;\n",
       "    }\n",
       "\n",
       "    .dataframe tbody tr th {\n",
       "        vertical-align: top;\n",
       "    }\n",
       "\n",
       "    .dataframe thead th {\n",
       "        text-align: right;\n",
       "    }\n",
       "</style>\n",
       "<table border=\"1\" class=\"dataframe\">\n",
       "  <thead>\n",
       "    <tr style=\"text-align: right;\">\n",
       "      <th></th>\n",
       "      <th>GeneID</th>\n",
       "      <th>UniprotID</th>\n",
       "      <th>ChemicalID</th>\n",
       "      <th>gofunc</th>\n",
       "    </tr>\n",
       "  </thead>\n",
       "  <tbody>\n",
       "    <tr>\n",
       "      <th>112621</th>\n",
       "      <td>3659</td>\n",
       "      <td>P10914</td>\n",
       "      <td>C031238</td>\n",
       "      <td>GO:0051607</td>\n",
       "    </tr>\n",
       "    <tr>\n",
       "      <th>113852</th>\n",
       "      <td>3685</td>\n",
       "      <td>P06756</td>\n",
       "      <td>D015032</td>\n",
       "      <td>GO:0097192</td>\n",
       "    </tr>\n",
       "    <tr>\n",
       "      <th>50062</th>\n",
       "      <td>1499</td>\n",
       "      <td>P35222</td>\n",
       "      <td>D015054</td>\n",
       "      <td>GO:0005829</td>\n",
       "    </tr>\n",
       "    <tr>\n",
       "      <th>301529</th>\n",
       "      <td>10577</td>\n",
       "      <td>P61916</td>\n",
       "      <td>D014635</td>\n",
       "      <td>GO:0015914</td>\n",
       "    </tr>\n",
       "    <tr>\n",
       "      <th>466990</th>\n",
       "      <td>126549</td>\n",
       "      <td>Q8NAG6</td>\n",
       "      <td>D014635</td>\n",
       "      <td>GO:0004519</td>\n",
       "    </tr>\n",
       "    <tr>\n",
       "      <th>15454</th>\n",
       "      <td>427</td>\n",
       "      <td>Q13510</td>\n",
       "      <td>D015031</td>\n",
       "      <td>GO:0006672</td>\n",
       "    </tr>\n",
       "    <tr>\n",
       "      <th>190733</th>\n",
       "      <td>6189</td>\n",
       "      <td>P61247</td>\n",
       "      <td>D014635</td>\n",
       "      <td>GO:0006413</td>\n",
       "    </tr>\n",
       "    <tr>\n",
       "      <th>129266</th>\n",
       "      <td>4166</td>\n",
       "      <td>Q9GZX3</td>\n",
       "      <td>D014810</td>\n",
       "      <td>GO:0005975</td>\n",
       "    </tr>\n",
       "    <tr>\n",
       "      <th>404621</th>\n",
       "      <td>112939</td>\n",
       "      <td>Q96RE7</td>\n",
       "      <td>D010936</td>\n",
       "      <td>GO:0005654</td>\n",
       "    </tr>\n",
       "    <tr>\n",
       "      <th>94359</th>\n",
       "      <td>3039</td>\n",
       "      <td>P69905</td>\n",
       "      <td>D014810</td>\n",
       "      <td>GO:0051291</td>\n",
       "    </tr>\n",
       "    <tr>\n",
       "      <th>386309</th>\n",
       "      <td>27077</td>\n",
       "      <td>Q9UPM9</td>\n",
       "      <td>C111237</td>\n",
       "      <td>GO:0005829</td>\n",
       "    </tr>\n",
       "    <tr>\n",
       "      <th>81133</th>\n",
       "      <td>2588</td>\n",
       "      <td>P34059</td>\n",
       "      <td>D014635</td>\n",
       "      <td>GO:0005576</td>\n",
       "    </tr>\n",
       "    <tr>\n",
       "      <th>352814</th>\n",
       "      <td>22881</td>\n",
       "      <td>Q9Y2G4</td>\n",
       "      <td>D014638</td>\n",
       "      <td>GO:0005634</td>\n",
       "    </tr>\n",
       "  </tbody>\n",
       "</table>\n",
       "</div>"
      ],
      "text/plain": [
       "        GeneID UniprotID ChemicalID      gofunc\n",
       "112621    3659    P10914    C031238  GO:0051607\n",
       "113852    3685    P06756    D015032  GO:0097192\n",
       "50062     1499    P35222    D015054  GO:0005829\n",
       "301529   10577    P61916    D014635  GO:0015914\n",
       "466990  126549    Q8NAG6    D014635  GO:0004519\n",
       "15454      427    Q13510    D015031  GO:0006672\n",
       "190733    6189    P61247    D014635  GO:0006413\n",
       "129266    4166    Q9GZX3    D014810  GO:0005975\n",
       "404621  112939    Q96RE7    D010936  GO:0005654\n",
       "94359     3039    P69905    D014810  GO:0051291\n",
       "386309   27077    Q9UPM9    C111237  GO:0005829\n",
       "81133     2588    P34059    D014635  GO:0005576\n",
       "352814   22881    Q9Y2G4    D014638  GO:0005634"
      ]
     },
     "execution_count": 50,
     "metadata": {},
     "output_type": "execute_result"
    }
   ],
   "source": [
    "df_uni_ids.sample(13)"
   ]
  },
  {
   "cell_type": "code",
   "execution_count": 54,
   "metadata": {},
   "outputs": [
    {
     "data": {
      "text/plain": [
       "412"
      ]
     },
     "execution_count": 54,
     "metadata": {},
     "output_type": "execute_result"
    }
   ],
   "source": [
    "df_uni_ids.ChemicalID.nunique()"
   ]
  },
  {
   "cell_type": "code",
   "execution_count": 53,
   "metadata": {},
   "outputs": [
    {
     "data": {
      "text/plain": [
       "(464194, 4)"
      ]
     },
     "execution_count": 53,
     "metadata": {},
     "output_type": "execute_result"
    }
   ],
   "source": [
    "df_uni_ids.shape"
   ]
  },
  {
   "cell_type": "code",
   "execution_count": 64,
   "metadata": {},
   "outputs": [
    {
     "data": {
      "text/plain": [
       "array(['http://purl.obolibrary.org/obo/GO_0002223',\n",
       "       'http://purl.obolibrary.org/obo/GO_0002479',\n",
       "       'http://purl.obolibrary.org/obo/GO_0002756',\n",
       "       'http://purl.obolibrary.org/obo/GO_0003009',\n",
       "       'http://purl.obolibrary.org/obo/GO_0004672',\n",
       "       'http://purl.obolibrary.org/obo/GO_0005515',\n",
       "       'http://purl.obolibrary.org/obo/GO_0005524',\n",
       "       'http://purl.obolibrary.org/obo/GO_0005654',\n",
       "       'http://purl.obolibrary.org/obo/GO_0005737',\n",
       "       'http://purl.obolibrary.org/obo/GO_0005829',\n",
       "       'http://purl.obolibrary.org/obo/GO_0006468',\n",
       "       'http://purl.obolibrary.org/obo/GO_0006954',\n",
       "       'http://purl.obolibrary.org/obo/GO_0006955',\n",
       "       'http://purl.obolibrary.org/obo/GO_0007249',\n",
       "       'http://purl.obolibrary.org/obo/GO_0007252',\n",
       "       'http://purl.obolibrary.org/obo/GO_0007266',\n",
       "       'http://purl.obolibrary.org/obo/GO_0008384',\n",
       "       'http://purl.obolibrary.org/obo/GO_0008385',\n",
       "       'http://purl.obolibrary.org/obo/GO_0009615',\n",
       "       'http://purl.obolibrary.org/obo/GO_0009636',\n",
       "       'http://purl.obolibrary.org/obo/GO_0009653',\n",
       "       'http://purl.obolibrary.org/obo/GO_0009898',\n",
       "       'http://purl.obolibrary.org/obo/GO_0010034',\n",
       "       'http://purl.obolibrary.org/obo/GO_0010803',\n",
       "       'http://purl.obolibrary.org/obo/GO_0032088',\n",
       "       'http://purl.obolibrary.org/obo/GO_0032496',\n",
       "       'http://purl.obolibrary.org/obo/GO_0033194',\n",
       "       'http://purl.obolibrary.org/obo/GO_0034614',\n",
       "       'http://purl.obolibrary.org/obo/GO_0035631',\n",
       "       'http://purl.obolibrary.org/obo/GO_0035666',\n",
       "       'http://purl.obolibrary.org/obo/GO_0038061',\n",
       "       'http://purl.obolibrary.org/obo/GO_0038095',\n",
       "       'http://purl.obolibrary.org/obo/GO_0042493',\n",
       "       'http://purl.obolibrary.org/obo/GO_0042803',\n",
       "       'http://purl.obolibrary.org/obo/GO_0043123',\n",
       "       'http://purl.obolibrary.org/obo/GO_0043200',\n",
       "       'http://purl.obolibrary.org/obo/GO_0043231',\n",
       "       'http://purl.obolibrary.org/obo/GO_0045087',\n",
       "       'http://purl.obolibrary.org/obo/GO_0045893',\n",
       "       'http://purl.obolibrary.org/obo/GO_0045944',\n",
       "       'http://purl.obolibrary.org/obo/GO_0046982',\n",
       "       'http://purl.obolibrary.org/obo/GO_0050852',\n",
       "       'http://purl.obolibrary.org/obo/GO_0051092',\n",
       "       'http://purl.obolibrary.org/obo/GO_0051146',\n",
       "       'http://purl.obolibrary.org/obo/GO_0051403',\n",
       "       'http://purl.obolibrary.org/obo/GO_0070498',\n",
       "       'http://purl.obolibrary.org/obo/GO_0071276',\n",
       "       'http://purl.obolibrary.org/obo/GO_0071356',\n",
       "       'http://purl.obolibrary.org/obo/GO_0097110',\n",
       "       'http://purl.obolibrary.org/obo/GO_0098586',\n",
       "       'http://purl.obolibrary.org/obo/GO_1902741',\n",
       "       'http://purl.obolibrary.org/obo/GO_0033209',\n",
       "       'http://purl.obolibrary.org/obo/GO_0018105',\n",
       "       'http://purl.obolibrary.org/obo/GO_0004674',\n",
       "       'http://purl.obolibrary.org/obo/GO_0001938',\n",
       "       'http://purl.obolibrary.org/obo/GO_0004950',\n",
       "       'http://purl.obolibrary.org/obo/GO_0005886',\n",
       "       'http://purl.obolibrary.org/obo/GO_0005887',\n",
       "       'http://purl.obolibrary.org/obo/GO_0006968',\n",
       "       'http://purl.obolibrary.org/obo/GO_0007155',\n",
       "       'http://purl.obolibrary.org/obo/GO_0007186',\n",
       "       'http://purl.obolibrary.org/obo/GO_0007188',\n",
       "       'http://purl.obolibrary.org/obo/GO_0016032',\n",
       "       'http://purl.obolibrary.org/obo/GO_0019957',\n",
       "       'http://purl.obolibrary.org/obo/GO_0045766',\n",
       "       'http://purl.obolibrary.org/obo/GO_0070098',\n",
       "       'http://purl.obolibrary.org/obo/GO_0060326',\n",
       "       'http://purl.obolibrary.org/obo/GO_0019722',\n",
       "       'http://purl.obolibrary.org/obo/GO_0019956',\n",
       "       'http://purl.obolibrary.org/obo/GO_0007204',\n",
       "       'http://purl.obolibrary.org/obo/GO_0006935',\n",
       "       'http://purl.obolibrary.org/obo/GO_0009897',\n",
       "       'http://purl.obolibrary.org/obo/GO_0016493',\n",
       "       'http://purl.obolibrary.org/obo/GO_0000077',\n",
       "       'http://purl.obolibrary.org/obo/GO_0000187',\n",
       "       'http://purl.obolibrary.org/obo/GO_0000902',\n",
       "       'http://purl.obolibrary.org/obo/GO_0000922',\n",
       "       'http://purl.obolibrary.org/obo/GO_0001502',\n",
       "       'http://purl.obolibrary.org/obo/GO_0001525',\n",
       "       'http://purl.obolibrary.org/obo/GO_0001890',\n",
       "       'http://purl.obolibrary.org/obo/GO_0002062',\n",
       "       'http://purl.obolibrary.org/obo/GO_0002741',\n",
       "       'http://purl.obolibrary.org/obo/GO_0004707',\n",
       "       'http://purl.obolibrary.org/obo/GO_0004708',\n",
       "       'http://purl.obolibrary.org/obo/GO_0005576',\n",
       "       'http://purl.obolibrary.org/obo/GO_0005634',\n",
       "       'http://purl.obolibrary.org/obo/GO_0005739',\n",
       "       'http://purl.obolibrary.org/obo/GO_0006006',\n",
       "       'http://purl.obolibrary.org/obo/GO_0006357',\n",
       "       'http://purl.obolibrary.org/obo/GO_0006915',\n",
       "       'http://purl.obolibrary.org/obo/GO_0007165',\n",
       "       'http://purl.obolibrary.org/obo/GO_0007166',\n",
       "       'http://purl.obolibrary.org/obo/GO_0007178',\n",
       "       'http://purl.obolibrary.org/obo/GO_0007519',\n",
       "       'http://purl.obolibrary.org/obo/GO_0010628',\n",
       "       'http://purl.obolibrary.org/obo/GO_0010759',\n",
       "       'http://purl.obolibrary.org/obo/GO_0010831',\n",
       "       'http://purl.obolibrary.org/obo/GO_0016607',\n",
       "       'http://purl.obolibrary.org/obo/GO_0019395',\n",
       "       'http://purl.obolibrary.org/obo/GO_0019899',\n",
       "       'http://purl.obolibrary.org/obo/GO_0019903',\n",
       "       'http://purl.obolibrary.org/obo/GO_0030278',\n",
       "       'http://purl.obolibrary.org/obo/GO_0030316',\n",
       "       'http://purl.obolibrary.org/obo/GO_0031281',\n",
       "       'http://purl.obolibrary.org/obo/GO_0031663',\n",
       "       'http://purl.obolibrary.org/obo/GO_0032495',\n",
       "       'http://purl.obolibrary.org/obo/GO_0034774',\n",
       "       'http://purl.obolibrary.org/obo/GO_0035556',\n",
       "       'http://purl.obolibrary.org/obo/GO_0035924',\n",
       "       'http://purl.obolibrary.org/obo/GO_0035994',\n",
       "       'http://purl.obolibrary.org/obo/GO_0038066',\n",
       "       'http://purl.obolibrary.org/obo/GO_0042307',\n",
       "       'http://purl.obolibrary.org/obo/GO_0042770',\n",
       "       'http://purl.obolibrary.org/obo/GO_0043312',\n",
       "       'http://purl.obolibrary.org/obo/GO_0045648',\n",
       "       'http://purl.obolibrary.org/obo/GO_0045663',\n",
       "       'http://purl.obolibrary.org/obo/GO_0046326',\n",
       "       'http://purl.obolibrary.org/obo/GO_0048010',\n",
       "       'http://purl.obolibrary.org/obo/GO_0048273',\n",
       "       'http://purl.obolibrary.org/obo/GO_0051149',\n",
       "       'http://purl.obolibrary.org/obo/GO_0051525',\n",
       "       'http://purl.obolibrary.org/obo/GO_0060045',\n",
       "       'http://purl.obolibrary.org/obo/GO_0070935',\n",
       "       'http://purl.obolibrary.org/obo/GO_0071222',\n",
       "       'http://purl.obolibrary.org/obo/GO_0071223',\n",
       "       'http://purl.obolibrary.org/obo/GO_0071479',\n",
       "       'http://purl.obolibrary.org/obo/GO_0090090',\n",
       "       'http://purl.obolibrary.org/obo/GO_0090336',\n",
       "       'http://purl.obolibrary.org/obo/GO_0090400',\n",
       "       'http://purl.obolibrary.org/obo/GO_0098978',\n",
       "       'http://purl.obolibrary.org/obo/GO_0099179',\n",
       "       'http://purl.obolibrary.org/obo/GO_1900015',\n",
       "       'http://purl.obolibrary.org/obo/GO_1901741',\n",
       "       'http://purl.obolibrary.org/obo/GO_1901796',\n",
       "       'http://purl.obolibrary.org/obo/GO_1904813',\n",
       "       'http://purl.obolibrary.org/obo/GO_1905050',\n",
       "       'http://purl.obolibrary.org/obo/GO_2000379',\n",
       "       'http://purl.obolibrary.org/obo/GO_2001184',\n",
       "       'http://purl.obolibrary.org/obo/GO_0043536',\n",
       "       'http://purl.obolibrary.org/obo/GO_0071310',\n",
       "       'http://purl.obolibrary.org/obo/GO_0010468',\n",
       "       'http://purl.obolibrary.org/obo/GO_0007596',\n",
       "       'http://purl.obolibrary.org/obo/GO_0010469',\n",
       "       'http://purl.obolibrary.org/obo/GO_0051607',\n",
       "       'http://purl.obolibrary.org/obo/GO_0060337',\n",
       "       'http://purl.obolibrary.org/obo/GO_0006959',\n",
       "       'http://purl.obolibrary.org/obo/GO_0033141',\n",
       "       'http://purl.obolibrary.org/obo/GO_0043330',\n",
       "       'http://purl.obolibrary.org/obo/GO_0005615',\n",
       "       'http://purl.obolibrary.org/obo/GO_0030183',\n",
       "       'http://purl.obolibrary.org/obo/GO_0005125',\n",
       "       'http://purl.obolibrary.org/obo/GO_0002250',\n",
       "       'http://purl.obolibrary.org/obo/GO_0005132',\n",
       "       'http://purl.obolibrary.org/obo/GO_0002323',\n",
       "       'http://purl.obolibrary.org/obo/GO_0019221',\n",
       "       'http://purl.obolibrary.org/obo/GO_0042100',\n",
       "       'http://purl.obolibrary.org/obo/GO_0002286',\n",
       "       'http://purl.obolibrary.org/obo/GO_0000139',\n",
       "       'http://purl.obolibrary.org/obo/GO_0004906',\n",
       "       'http://purl.obolibrary.org/obo/GO_0005783',\n",
       "       'http://purl.obolibrary.org/obo/GO_0005789',\n",
       "       'http://purl.obolibrary.org/obo/GO_0030659',\n",
       "       'http://purl.obolibrary.org/obo/GO_0060333',\n",
       "       'http://purl.obolibrary.org/obo/GO_0060334',\n",
       "       'http://purl.obolibrary.org/obo/GO_0019901',\n",
       "       'http://purl.obolibrary.org/obo/GO_0030866',\n",
       "       'http://purl.obolibrary.org/obo/GO_0035509',\n",
       "       'http://purl.obolibrary.org/obo/GO_0042325',\n",
       "       'http://purl.obolibrary.org/obo/GO_0042802',\n",
       "       'http://purl.obolibrary.org/obo/GO_0043066',\n",
       "       'http://purl.obolibrary.org/obo/GO_0045121',\n",
       "       'http://purl.obolibrary.org/obo/GO_0072659',\n",
       "       'http://purl.obolibrary.org/obo/GO_1903140',\n",
       "       'http://purl.obolibrary.org/obo/GO_1903347',\n",
       "       'http://purl.obolibrary.org/obo/GO_0002114',\n",
       "       'http://purl.obolibrary.org/obo/GO_0004908',\n",
       "       'http://purl.obolibrary.org/obo/GO_0016020',\n",
       "       'http://purl.obolibrary.org/obo/GO_0032736',\n",
       "       'http://purl.obolibrary.org/obo/GO_0032754',\n",
       "       'http://purl.obolibrary.org/obo/GO_0038172',\n",
       "       'http://purl.obolibrary.org/obo/GO_0042094',\n",
       "       'http://purl.obolibrary.org/obo/GO_0051965',\n",
       "       'http://purl.obolibrary.org/obo/GO_0065003',\n",
       "       'http://purl.obolibrary.org/obo/GO_0072602',\n",
       "       'http://purl.obolibrary.org/obo/GO_0099151',\n",
       "       'http://purl.obolibrary.org/obo/GO_0099545',\n",
       "       'http://purl.obolibrary.org/obo/GO_0099560',\n",
       "       'http://purl.obolibrary.org/obo/GO_1905606',\n",
       "       'http://purl.obolibrary.org/obo/GO_2000778',\n",
       "       'http://purl.obolibrary.org/obo/GO_0005150',\n",
       "       'http://purl.obolibrary.org/obo/GO_0005151',\n",
       "       'http://purl.obolibrary.org/obo/GO_0005152',\n",
       "       'http://purl.obolibrary.org/obo/GO_0005622',\n",
       "       'http://purl.obolibrary.org/obo/GO_0034115',\n",
       "       'http://purl.obolibrary.org/obo/GO_0045352',\n",
       "       'http://purl.obolibrary.org/obo/GO_0045353',\n",
       "       'http://purl.obolibrary.org/obo/GO_0051384',\n",
       "       'http://purl.obolibrary.org/obo/GO_0070062',\n",
       "       'http://purl.obolibrary.org/obo/GO_2000660',\n",
       "       'http://purl.obolibrary.org/obo/GO_0030593',\n",
       "       'http://purl.obolibrary.org/obo/GO_0046330',\n",
       "       'http://purl.obolibrary.org/obo/GO_0032755',\n",
       "       'http://purl.obolibrary.org/obo/GO_0005149',\n",
       "       'http://purl.obolibrary.org/obo/GO_0001959',\n",
       "       'http://purl.obolibrary.org/obo/GO_0002224',\n",
       "       'http://purl.obolibrary.org/obo/GO_0002755',\n",
       "       'http://purl.obolibrary.org/obo/GO_0004704',\n",
       "       'http://purl.obolibrary.org/obo/GO_0005811',\n",
       "       'http://purl.obolibrary.org/obo/GO_0007250',\n",
       "       'http://purl.obolibrary.org/obo/GO_0007254',\n",
       "       'http://purl.obolibrary.org/obo/GO_0007568',\n",
       "       'http://purl.obolibrary.org/obo/GO_0010008',\n",
       "       'http://purl.obolibrary.org/obo/GO_0016301',\n",
       "       'http://purl.obolibrary.org/obo/GO_0031072',\n",
       "       'http://purl.obolibrary.org/obo/GO_0032481',\n",
       "       'http://purl.obolibrary.org/obo/GO_0034134',\n",
       "       'http://purl.obolibrary.org/obo/GO_0034162',\n",
       "       'http://purl.obolibrary.org/obo/GO_0034605',\n",
       "       'http://purl.obolibrary.org/obo/GO_0045323',\n",
       "       'http://purl.obolibrary.org/obo/GO_0046777',\n",
       "       'http://purl.obolibrary.org/obo/GO_0048661',\n",
       "       'http://purl.obolibrary.org/obo/GO_0051259',\n",
       "       'http://purl.obolibrary.org/obo/GO_0070423',\n",
       "       'http://purl.obolibrary.org/obo/GO_0070555',\n",
       "       'http://purl.obolibrary.org/obo/GO_0071456',\n",
       "       'http://purl.obolibrary.org/obo/GO_0034142',\n",
       "       'http://purl.obolibrary.org/obo/GO_0043406',\n",
       "       'http://purl.obolibrary.org/obo/GO_0000790',\n",
       "       'http://purl.obolibrary.org/obo/GO_0000978',\n",
       "       'http://purl.obolibrary.org/obo/GO_0000981',\n",
       "       'http://purl.obolibrary.org/obo/GO_0001077',\n",
       "       'http://purl.obolibrary.org/obo/GO_0002819',\n",
       "       'http://purl.obolibrary.org/obo/GO_0003677',\n",
       "       'http://purl.obolibrary.org/obo/GO_0006366',\n",
       "       'http://purl.obolibrary.org/obo/GO_0007050',\n",
       "       'http://purl.obolibrary.org/obo/GO_0008285',\n",
       "       'http://purl.obolibrary.org/obo/GO_0032728',\n",
       "       'http://purl.obolibrary.org/obo/GO_0034124',\n",
       "       'http://purl.obolibrary.org/obo/GO_0035458',\n",
       "       'http://purl.obolibrary.org/obo/GO_0043374',\n",
       "       'http://purl.obolibrary.org/obo/GO_0045084',\n",
       "       'http://purl.obolibrary.org/obo/GO_0045088',\n",
       "       'http://purl.obolibrary.org/obo/GO_0045590',\n",
       "       'http://purl.obolibrary.org/obo/GO_0045892',\n",
       "       'http://purl.obolibrary.org/obo/GO_0051726',\n",
       "       'http://purl.obolibrary.org/obo/GO_0071260',\n",
       "       'http://purl.obolibrary.org/obo/GO_2000564',\n",
       "       'http://purl.obolibrary.org/obo/GO_0005123',\n",
       "       'http://purl.obolibrary.org/obo/GO_0032740',\n",
       "       'http://purl.obolibrary.org/obo/GO_0032747',\n",
       "       'http://purl.obolibrary.org/obo/GO_0032757',\n",
       "       'http://purl.obolibrary.org/obo/GO_0042742',\n",
       "       'http://purl.obolibrary.org/obo/GO_0043621',\n",
       "       'http://purl.obolibrary.org/obo/GO_0050727',\n",
       "       'http://purl.obolibrary.org/obo/GO_0050830',\n",
       "       'http://purl.obolibrary.org/obo/GO_0070976',\n",
       "       'http://purl.obolibrary.org/obo/GO_0140052',\n",
       "       'http://purl.obolibrary.org/obo/GO_1900017',\n",
       "       'http://purl.obolibrary.org/obo/GO_0001300',\n",
       "       'http://purl.obolibrary.org/obo/GO_0002020',\n",
       "       'http://purl.obolibrary.org/obo/GO_0002576',\n",
       "       'http://purl.obolibrary.org/obo/GO_0004867',\n",
       "       'http://purl.obolibrary.org/obo/GO_0005102',\n",
       "       'http://purl.obolibrary.org/obo/GO_0007623',\n",
       "       'http://purl.obolibrary.org/obo/GO_0010757',\n",
       "       'http://purl.obolibrary.org/obo/GO_0010951',\n",
       "       'http://purl.obolibrary.org/obo/GO_0014912',\n",
       "       'http://purl.obolibrary.org/obo/GO_0030194',\n",
       "       'http://purl.obolibrary.org/obo/GO_0030195',\n",
       "       'http://purl.obolibrary.org/obo/GO_0030198',\n",
       "       'http://purl.obolibrary.org/obo/GO_0030336',\n",
       "       'http://purl.obolibrary.org/obo/GO_0031093',\n",
       "       'http://purl.obolibrary.org/obo/GO_0033629',\n",
       "       'http://purl.obolibrary.org/obo/GO_0035491',\n",
       "       'http://purl.obolibrary.org/obo/GO_0042730',\n",
       "       'http://purl.obolibrary.org/obo/GO_0048260',\n",
       "       'http://purl.obolibrary.org/obo/GO_0050729',\n",
       "       'http://purl.obolibrary.org/obo/GO_0050829',\n",
       "       'http://purl.obolibrary.org/obo/GO_0051918',\n",
       "       'http://purl.obolibrary.org/obo/GO_0061044',\n",
       "       'http://purl.obolibrary.org/obo/GO_0061045',\n",
       "       'http://purl.obolibrary.org/obo/GO_0062023',\n",
       "       'http://purl.obolibrary.org/obo/GO_0090026',\n",
       "       'http://purl.obolibrary.org/obo/GO_0090399',\n",
       "       'http://purl.obolibrary.org/obo/GO_0097187',\n",
       "       'http://purl.obolibrary.org/obo/GO_1901331',\n",
       "       'http://purl.obolibrary.org/obo/GO_1902042',\n",
       "       'http://purl.obolibrary.org/obo/GO_2000098',\n",
       "       'http://purl.obolibrary.org/obo/GO_2000352',\n",
       "       'http://purl.obolibrary.org/obo/GO_0004252',\n",
       "       'http://purl.obolibrary.org/obo/GO_0005509',\n",
       "       'http://purl.obolibrary.org/obo/GO_0005788',\n",
       "       'http://purl.obolibrary.org/obo/GO_0005794',\n",
       "       'http://purl.obolibrary.org/obo/GO_0005796',\n",
       "       'http://purl.obolibrary.org/obo/GO_0006508',\n",
       "       'http://purl.obolibrary.org/obo/GO_0006888',\n",
       "       'http://purl.obolibrary.org/obo/GO_0043687',\n",
       "       'http://purl.obolibrary.org/obo/GO_0044267',\n",
       "       'http://purl.obolibrary.org/obo/GO_0050728',\n",
       "       'http://purl.obolibrary.org/obo/GO_0050819',\n",
       "       'http://purl.obolibrary.org/obo/GO_1903142',\n",
       "       'http://purl.obolibrary.org/obo/GO_0001530',\n",
       "       'http://purl.obolibrary.org/obo/GO_0001816',\n",
       "       'http://purl.obolibrary.org/obo/GO_0001875',\n",
       "       'http://purl.obolibrary.org/obo/GO_0004930',\n",
       "       'http://purl.obolibrary.org/obo/GO_0004992',\n",
       "       'http://purl.obolibrary.org/obo/GO_0005543',\n",
       "       'http://purl.obolibrary.org/obo/GO_0007567',\n",
       "       'http://purl.obolibrary.org/obo/GO_0009609',\n",
       "       'http://purl.obolibrary.org/obo/GO_0010863',\n",
       "       'http://purl.obolibrary.org/obo/GO_0016021',\n",
       "       'http://purl.obolibrary.org/obo/GO_0030667',\n",
       "       'http://purl.obolibrary.org/obo/GO_0032760',\n",
       "       'http://purl.obolibrary.org/obo/GO_0032959',\n",
       "       'http://purl.obolibrary.org/obo/GO_0035589',\n",
       "       'http://purl.obolibrary.org/obo/GO_0043315',\n",
       "       'http://purl.obolibrary.org/obo/GO_0045056',\n",
       "       'http://purl.obolibrary.org/obo/GO_0045410',\n",
       "       'http://purl.obolibrary.org/obo/GO_0045727',\n",
       "       'http://purl.obolibrary.org/obo/GO_0045776',\n",
       "       'http://purl.obolibrary.org/obo/GO_0045907',\n",
       "       'http://purl.obolibrary.org/obo/GO_0048015',\n",
       "       'http://purl.obolibrary.org/obo/GO_0051019',\n",
       "       'http://purl.obolibrary.org/obo/GO_0060732',\n",
       "       'http://purl.obolibrary.org/obo/GO_0070821',\n",
       "       'http://purl.obolibrary.org/obo/GO_0071258',\n",
       "       'http://purl.obolibrary.org/obo/GO_0071320',\n",
       "       'http://purl.obolibrary.org/obo/GO_0071398',\n",
       "       'http://purl.obolibrary.org/obo/GO_0071548',\n",
       "       'http://purl.obolibrary.org/obo/GO_0097755',\n",
       "       'http://purl.obolibrary.org/obo/GO_1902943',\n",
       "       'http://purl.obolibrary.org/obo/GO_1903238',\n",
       "       'http://purl.obolibrary.org/obo/GO_1904058',\n",
       "       'http://purl.obolibrary.org/obo/GO_1904300',\n",
       "       'http://purl.obolibrary.org/obo/GO_1904303',\n",
       "       'http://purl.obolibrary.org/obo/GO_1904306',\n",
       "       'http://purl.obolibrary.org/obo/GO_1904317',\n",
       "       'http://purl.obolibrary.org/obo/GO_0045028',\n",
       "       'http://purl.obolibrary.org/obo/GO_0000122',\n",
       "       'http://purl.obolibrary.org/obo/GO_0000977',\n",
       "       'http://purl.obolibrary.org/obo/GO_0000980',\n",
       "       'http://purl.obolibrary.org/obo/GO_0000983',\n",
       "       'http://purl.obolibrary.org/obo/GO_0001078',\n",
       "       'http://purl.obolibrary.org/obo/GO_0001205',\n",
       "       'http://purl.obolibrary.org/obo/GO_0001889',\n",
       "       'http://purl.obolibrary.org/obo/GO_0001942',\n",
       "       'http://purl.obolibrary.org/obo/GO_0003682',\n",
       "       'http://purl.obolibrary.org/obo/GO_0003700',\n",
       "       'http://purl.obolibrary.org/obo/GO_0003705',\n",
       "       'http://purl.obolibrary.org/obo/GO_0005667',\n",
       "       'http://purl.obolibrary.org/obo/GO_0006117',\n",
       "       'http://purl.obolibrary.org/obo/GO_0006325',\n",
       "       'http://purl.obolibrary.org/obo/GO_0006355',\n",
       "       'http://purl.obolibrary.org/obo/GO_0008134',\n",
       "       'http://purl.obolibrary.org/obo/GO_0008284',\n",
       "       'http://purl.obolibrary.org/obo/GO_0009887',\n",
       "       'http://purl.obolibrary.org/obo/GO_0010033',\n",
       "       'http://purl.obolibrary.org/obo/GO_0010224',\n",
       "       'http://purl.obolibrary.org/obo/GO_0014040',\n",
       "       'http://purl.obolibrary.org/obo/GO_0031293',\n",
       "       'http://purl.obolibrary.org/obo/GO_0031490',\n",
       "       'http://purl.obolibrary.org/obo/GO_0031625',\n",
       "       'http://purl.obolibrary.org/obo/GO_0032332',\n",
       "       'http://purl.obolibrary.org/obo/GO_0032570',\n",
       "       'http://purl.obolibrary.org/obo/GO_0032868',\n",
       "       'http://purl.obolibrary.org/obo/GO_0033234',\n",
       "       'http://purl.obolibrary.org/obo/GO_0033590',\n",
       "       'http://purl.obolibrary.org/obo/GO_0033613',\n",
       "       'http://purl.obolibrary.org/obo/GO_0035525',\n",
       "       'http://purl.obolibrary.org/obo/GO_0035729',\n",
       "       'http://purl.obolibrary.org/obo/GO_0042177',\n",
       "       'http://purl.obolibrary.org/obo/GO_0042301',\n",
       "       'http://purl.obolibrary.org/obo/GO_0042805',\n",
       "       'http://purl.obolibrary.org/obo/GO_0042826',\n",
       "       'http://purl.obolibrary.org/obo/GO_0043278',\n",
       "       'http://purl.obolibrary.org/obo/GO_0043620',\n",
       "       'http://purl.obolibrary.org/obo/GO_0044212',\n",
       "       'http://purl.obolibrary.org/obo/GO_0044877',\n",
       "       'http://purl.obolibrary.org/obo/GO_0046627',\n",
       "       'http://purl.obolibrary.org/obo/GO_0047485',\n",
       "       'http://purl.obolibrary.org/obo/GO_0050862',\n",
       "       'http://purl.obolibrary.org/obo/GO_0051059',\n",
       "       'http://purl.obolibrary.org/obo/GO_0051591',\n",
       "       'http://purl.obolibrary.org/obo/GO_0061614',\n",
       "       'http://purl.obolibrary.org/obo/GO_0070301',\n",
       "       'http://purl.obolibrary.org/obo/GO_0070431',\n",
       "       'http://purl.obolibrary.org/obo/GO_0070491',\n",
       "       'http://purl.obolibrary.org/obo/GO_0071224',\n",
       "       'http://purl.obolibrary.org/obo/GO_0071316',\n",
       "       'http://purl.obolibrary.org/obo/GO_0071347',\n",
       "       'http://purl.obolibrary.org/obo/GO_0071354',\n",
       "       'http://purl.obolibrary.org/obo/GO_0071532',\n",
       "       'http://purl.obolibrary.org/obo/GO_0099527',\n",
       "       'http://purl.obolibrary.org/obo/GO_1901222',\n",
       "       'http://purl.obolibrary.org/obo/GO_1901223',\n",
       "       'http://purl.obolibrary.org/obo/GO_1901224',\n",
       "       'http://purl.obolibrary.org/obo/GO_1901522',\n",
       "       'http://purl.obolibrary.org/obo/GO_1902894',\n",
       "       'http://purl.obolibrary.org/obo/GO_1902895',\n",
       "       'http://purl.obolibrary.org/obo/GO_1904385',\n",
       "       'http://purl.obolibrary.org/obo/GO_2000630',\n",
       "       'http://purl.obolibrary.org/obo/GO_2001237',\n",
       "       'http://purl.obolibrary.org/obo/GO_0005730',\n",
       "       'http://purl.obolibrary.org/obo/GO_0034097',\n",
       "       'http://purl.obolibrary.org/obo/GO_0001774',\n",
       "       'http://purl.obolibrary.org/obo/GO_0002730',\n",
       "       'http://purl.obolibrary.org/obo/GO_0003725',\n",
       "       'http://purl.obolibrary.org/obo/GO_0004888',\n",
       "       'http://purl.obolibrary.org/obo/GO_0005765',\n",
       "       'http://purl.obolibrary.org/obo/GO_0005769',\n",
       "       'http://purl.obolibrary.org/obo/GO_0006972',\n",
       "       'http://purl.obolibrary.org/obo/GO_0008584',\n",
       "       'http://purl.obolibrary.org/obo/GO_0009597',\n",
       "       'http://purl.obolibrary.org/obo/GO_0032722',\n",
       "       'http://purl.obolibrary.org/obo/GO_0032735',\n",
       "       'http://purl.obolibrary.org/obo/GO_0034123',\n",
       "       'http://purl.obolibrary.org/obo/GO_0034128',\n",
       "       'http://purl.obolibrary.org/obo/GO_0034138',\n",
       "       'http://purl.obolibrary.org/obo/GO_0034346',\n",
       "       'http://purl.obolibrary.org/obo/GO_0035690',\n",
       "       'http://purl.obolibrary.org/obo/GO_0036020',\n",
       "       'http://purl.obolibrary.org/obo/GO_0038023',\n",
       "       'http://purl.obolibrary.org/obo/GO_0043065',\n",
       "       'http://purl.obolibrary.org/obo/GO_0045078',\n",
       "       'http://purl.obolibrary.org/obo/GO_0045080',\n",
       "       'http://purl.obolibrary.org/obo/GO_0045356',\n",
       "       'http://purl.obolibrary.org/obo/GO_0045359',\n",
       "       'http://purl.obolibrary.org/obo/GO_0045671',\n",
       "       'http://purl.obolibrary.org/obo/GO_0070266',\n",
       "       'http://purl.obolibrary.org/obo/GO_0071346',\n",
       "       'http://purl.obolibrary.org/obo/GO_0071360',\n",
       "       'http://purl.obolibrary.org/obo/GO_0097190',\n",
       "       'http://purl.obolibrary.org/obo/GO_0097191',\n",
       "       'http://purl.obolibrary.org/obo/GO_0097527',\n",
       "       'http://purl.obolibrary.org/obo/GO_0009986',\n",
       "       'http://purl.obolibrary.org/obo/GO_0031012',\n",
       "       'http://purl.obolibrary.org/obo/GO_0000209',\n",
       "       'http://purl.obolibrary.org/obo/GO_0001503',\n",
       "       'http://purl.obolibrary.org/obo/GO_0001843',\n",
       "       'http://purl.obolibrary.org/obo/GO_0002726',\n",
       "       'http://purl.obolibrary.org/obo/GO_0004842',\n",
       "       'http://purl.obolibrary.org/obo/GO_0005164',\n",
       "       'http://purl.obolibrary.org/obo/GO_0005938',\n",
       "       'http://purl.obolibrary.org/obo/GO_0006974',\n",
       "       'http://purl.obolibrary.org/obo/GO_0008270',\n",
       "       'http://purl.obolibrary.org/obo/GO_0016579',\n",
       "       'http://purl.obolibrary.org/obo/GO_0019886',\n",
       "       'http://purl.obolibrary.org/obo/GO_0031398',\n",
       "       'http://purl.obolibrary.org/obo/GO_0031435',\n",
       "       'http://purl.obolibrary.org/obo/GO_0031624',\n",
       "       'http://purl.obolibrary.org/obo/GO_0031666',\n",
       "       'http://purl.obolibrary.org/obo/GO_0031996',\n",
       "       'http://purl.obolibrary.org/obo/GO_0032147',\n",
       "       'http://purl.obolibrary.org/obo/GO_0032743',\n",
       "       'http://purl.obolibrary.org/obo/GO_0032991',\n",
       "       'http://purl.obolibrary.org/obo/GO_0042088',\n",
       "       'http://purl.obolibrary.org/obo/GO_0042102',\n",
       "       'http://purl.obolibrary.org/obo/GO_0042475',\n",
       "       'http://purl.obolibrary.org/obo/GO_0043011',\n",
       "       'http://purl.obolibrary.org/obo/GO_0043422',\n",
       "       'http://purl.obolibrary.org/obo/GO_0043507',\n",
       "       'http://purl.obolibrary.org/obo/GO_0045453',\n",
       "       'http://purl.obolibrary.org/obo/GO_0045672',\n",
       "       'http://purl.obolibrary.org/obo/GO_0048468',\n",
       "       'http://purl.obolibrary.org/obo/GO_0048471',\n",
       "       'http://purl.obolibrary.org/obo/GO_0051023',\n",
       "       'http://purl.obolibrary.org/obo/GO_0051091',\n",
       "       'http://purl.obolibrary.org/obo/GO_0051865',\n",
       "       'http://purl.obolibrary.org/obo/GO_0061630',\n",
       "       'http://purl.obolibrary.org/obo/GO_0070534',\n",
       "       'http://purl.obolibrary.org/obo/GO_2000679',\n",
       "       'http://purl.obolibrary.org/obo/GO_0004909',\n",
       "       'http://purl.obolibrary.org/obo/GO_0045582',\n",
       "       'http://purl.obolibrary.org/obo/GO_0071345',\n",
       "       'http://purl.obolibrary.org/obo/GO_0001775',\n",
       "       'http://purl.obolibrary.org/obo/GO_0030670',\n",
       "       'http://purl.obolibrary.org/obo/GO_0034136',\n",
       "       'http://purl.obolibrary.org/obo/GO_0034150',\n",
       "       'http://purl.obolibrary.org/obo/GO_0035663',\n",
       "       'http://purl.obolibrary.org/obo/GO_0038124',\n",
       "       'http://purl.obolibrary.org/obo/GO_0042496',\n",
       "       'http://purl.obolibrary.org/obo/GO_0043032',\n",
       "       'http://purl.obolibrary.org/obo/GO_0043235',\n",
       "       'http://purl.obolibrary.org/obo/GO_0045429',\n",
       "       'http://purl.obolibrary.org/obo/GO_0046209',\n",
       "       'http://purl.obolibrary.org/obo/GO_0050702',\n",
       "       'http://purl.obolibrary.org/obo/GO_0071723',\n",
       "       'http://purl.obolibrary.org/obo/GO_0071726',\n",
       "       'http://purl.obolibrary.org/obo/GO_1900227',\n",
       "       'http://purl.obolibrary.org/obo/GO_1903223',\n",
       "       'http://purl.obolibrary.org/obo/GO_1903428',\n",
       "       'http://purl.obolibrary.org/obo/GO_1904646',\n",
       "       'http://purl.obolibrary.org/obo/GO_2000483',\n",
       "       'http://purl.obolibrary.org/obo/GO_0035355',\n",
       "       'http://purl.obolibrary.org/obo/GO_0005044',\n",
       "       'http://purl.obolibrary.org/obo/GO_0005534',\n",
       "       'http://purl.obolibrary.org/obo/GO_0005581',\n",
       "       'http://purl.obolibrary.org/obo/GO_0006898',\n",
       "       'http://purl.obolibrary.org/obo/GO_0006910',\n",
       "       'http://purl.obolibrary.org/obo/GO_0006952',\n",
       "       'http://purl.obolibrary.org/obo/GO_0008329',\n",
       "       'http://purl.obolibrary.org/obo/GO_0009756',\n",
       "       'http://purl.obolibrary.org/obo/GO_0030169',\n",
       "       'http://purl.obolibrary.org/obo/GO_0030666',\n",
       "       'http://purl.obolibrary.org/obo/GO_0046872',\n",
       "       'http://purl.obolibrary.org/obo/GO_0050776',\n",
       "       'http://purl.obolibrary.org/obo/GO_0051260',\n",
       "       'http://purl.obolibrary.org/obo/GO_0060355',\n",
       "       'http://purl.obolibrary.org/obo/GO_0034166',\n",
       "       'http://purl.obolibrary.org/obo/GO_0050707',\n",
       "       'http://purl.obolibrary.org/obo/GO_0004910',\n",
       "       'http://purl.obolibrary.org/obo/GO_0007417',\n",
       "       'http://purl.obolibrary.org/obo/GO_0002221',\n",
       "       'http://purl.obolibrary.org/obo/GO_0009253',\n",
       "       'http://purl.obolibrary.org/obo/GO_0016019',\n",
       "       'http://purl.obolibrary.org/obo/GO_0016045',\n",
       "       'http://purl.obolibrary.org/obo/GO_0019730',\n",
       "       'http://purl.obolibrary.org/obo/GO_0031640',\n",
       "       'http://purl.obolibrary.org/obo/GO_0042834',\n",
       "       'http://purl.obolibrary.org/obo/GO_0044117',\n",
       "       'http://purl.obolibrary.org/obo/GO_0051714',\n",
       "       'http://purl.obolibrary.org/obo/GO_0061844',\n",
       "       'http://purl.obolibrary.org/obo/GO_0008745',\n",
       "       'http://purl.obolibrary.org/obo/GO_0032827',\n",
       "       'http://purl.obolibrary.org/obo/GO_0032689',\n",
       "       'http://purl.obolibrary.org/obo/GO_0002526',\n",
       "       'http://purl.obolibrary.org/obo/GO_0050900',\n",
       "       'http://purl.obolibrary.org/obo/GO_0000287',\n",
       "       'http://purl.obolibrary.org/obo/GO_0002218',\n",
       "       'http://purl.obolibrary.org/obo/GO_0006919',\n",
       "       'http://purl.obolibrary.org/obo/GO_0042981',\n",
       "       'http://purl.obolibrary.org/obo/GO_0070269',\n",
       "       'http://purl.obolibrary.org/obo/GO_0072557'], dtype=object)"
      ]
     },
     "execution_count": 64,
     "metadata": {},
     "output_type": "execute_result"
    }
   ],
   "source": [
    "df_uni_ids[df_uni_ids.ChemicalID == 'C031238'].go_url.unique()"
   ]
  },
  {
   "cell_type": "code",
   "execution_count": 57,
   "metadata": {},
   "outputs": [],
   "source": [
    "# Create a col with the full go url\n",
    "df_uni_ids['go_url'] = 'http://purl.obolibrary.org/obo/' + df_uni_ids.gofunc.str.replace(':', '_') \n",
    "df_uni_ids_d['go_url'] =  'http://purl.obolibrary.org/obo/' + df_uni_ids_d.gofunc.str.replace(':', '_')"
   ]
  },
  {
   "cell_type": "code",
   "execution_count": 55,
   "metadata": {},
   "outputs": [],
   "source": [
    "# Create a col with the full go url\n",
    "df_uni_ids['go_url'] = '<' + 'http://purl.obolibrary.org/obo/' + df_uni_ids.gofunc.str.replace(':', '_')  + '>'\n",
    "df_uni_ids_d['go_url'] =  '<' + 'http://purl.obolibrary.org/obo/' + df_uni_ids_d.gofunc.str.replace(':', '_')  + '>'"
   ]
  },
  {
   "cell_type": "code",
   "execution_count": 27,
   "metadata": {},
   "outputs": [],
   "source": [
    "# Grab just the columns we want to output (diseaseID and go_url/ chemicalID and go_url)\n",
    "col_list_c = ['ChemicalID', 'go_url']\n",
    "col_list_d = ['DiseaseID', 'go_url']\n",
    "df_c = df_uni_ids[col_list_c]\n",
    "df_d = df_uni_ids_d[col_list_d]"
   ]
  },
  {
   "cell_type": "code",
   "execution_count": 28,
   "metadata": {},
   "outputs": [],
   "source": [
    "# df_c.ChemicalID.unique()"
   ]
  },
  {
   "cell_type": "code",
   "execution_count": 29,
   "metadata": {},
   "outputs": [
    {
     "data": {
      "text/plain": [
       "array(['MESH:D012559', 'MESH:D009404', 'MESH:D001749', ...,\n",
       "       'MESH:C536489', 'MESH:C536531', 'MESH:C564161'], dtype=object)"
      ]
     },
     "execution_count": 29,
     "metadata": {},
     "output_type": "execute_result"
    }
   ],
   "source": [
    "df_d.DiseaseID.unique()"
   ]
  },
  {
   "cell_type": "code",
   "execution_count": 30,
   "metadata": {},
   "outputs": [],
   "source": [
    "# Output an association file for each of chem and dis\n",
    "np.savetxt(r'associations_c.txt', df_c.values, fmt='%s')\n",
    "np.savetxt(r'associations_d.txt', df_d.values, fmt='%s')"
   ]
  },
  {
   "cell_type": "code",
   "execution_count": 31,
   "metadata": {},
   "outputs": [
    {
     "data": {
      "text/plain": [
       "0"
      ]
     },
     "execution_count": 31,
     "metadata": {},
     "output_type": "execute_result"
    }
   ],
   "source": [
    "# Merge these two into one single file\n",
    "subprocess.call('cat associations_* > myassociations', shell=True)"
   ]
  },
  {
   "cell_type": "code",
   "execution_count": 32,
   "metadata": {},
   "outputs": [],
   "source": [
    "# Create entities.lst to inform opa2vec which entities we want vectors for\n",
    "entities = df_d.DiseaseID.unique().tolist() + df_c.ChemicalID.unique().tolist()\n",
    "np.savetxt(r'entities.lst', entities, fmt='%s')"
   ]
  },
  {
   "cell_type": "code",
   "execution_count": 33,
   "metadata": {},
   "outputs": [],
   "source": [
    "## NEXT STEP in pipeline is to manually run opa2vec, though it could be automated here..."
   ]
  },
  {
   "cell_type": "markdown",
   "metadata": {},
   "source": [
    "#### Export GoFunction counts per chem and per disease"
   ]
  },
  {
   "cell_type": "code",
   "execution_count": 92,
   "metadata": {},
   "outputs": [],
   "source": [
    "# Create df of counts of chem and disease gofuncs for export, later used in assessing NN results\n",
    "chem_gofunc_counts = df_uni_ids.groupby('ChemicalID')['gofunc'].nunique()\n",
    "dis_gofunc_counts = df_uni_ids_d.groupby('DiseaseID')['gofunc'].nunique()\n",
    "\n",
    "chem_gofunc_counts = pd.DataFrame(chem_gofunc_counts)\n",
    "chem_gofunc_counts = chem_gofunc_counts.reset_index()\n",
    "dis_gofunc_counts = pd.DataFrame(dis_gofunc_counts)\n",
    "dis_gofunc_counts = dis_gofunc_counts.reset_index()\n",
    "\n",
    "gofunc_counts = chem_gofunc_counts.merge(dis_gofunc_counts, how='outer')\n",
    "gofunc_counts.to_csv('gofunc_counts.csv', index=False)"
   ]
  },
  {
   "cell_type": "code",
   "execution_count": null,
   "metadata": {},
   "outputs": [],
   "source": []
  }
 ],
 "metadata": {
  "kernelspec": {
   "display_name": "Python 3",
   "language": "python",
   "name": "python3"
  },
  "language_info": {
   "codemirror_mode": {
    "name": "ipython",
    "version": 3
   },
   "file_extension": ".py",
   "mimetype": "text/x-python",
   "name": "python",
   "nbconvert_exporter": "python",
   "pygments_lexer": "ipython3",
   "version": "3.6.5"
  }
 },
 "nbformat": 4,
 "nbformat_minor": 2
}
