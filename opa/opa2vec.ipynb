{
 "cells": [
  {
   "cell_type": "markdown",
   "metadata": {},
   "source": [
    "# Notebook: Create OPA2VEC associations file\n",
    "<b>Author</b>: Ian Coleman <br/>\n",
    "<b>Function</b>: Get genes associated with diseases (ctdbase) and chemicals (ctdbase), take their go functions and assign to the associated chem/dis in an associations file. Also output finalclasses.lst, a file that tells opa2vec which entities you would like the vectors for"
   ]
  },
  {
   "cell_type": "code",
   "execution_count": 262,
   "metadata": {},
   "outputs": [],
   "source": [
    "import pandas as pd\n",
    "import numpy as np\n",
    "import subprocess"
   ]
  },
  {
   "cell_type": "markdown",
   "metadata": {},
   "source": [
    "### 1. Get Genes for Each Chemical\n",
    "Get the associated genes for each chemical and split into positive/negative/unclear_direction of correlation"
   ]
  },
  {
   "cell_type": "code",
   "execution_count": 263,
   "metadata": {},
   "outputs": [],
   "source": [
    "# CHEMICALS\n",
    "# Import CTD file to get the geneIDs we want \n",
    "\n",
    "# Set coltypes pre import to maximise memory\n",
    "col_types = {   \n",
    "    'GeneID': 'category',\n",
    "    'ChemicalID': 'category',\n",
    "    'InteractionActions': 'category',\n",
    "}\n",
    "cols=['ChemicalID', 'GeneID', 'InteractionActions'\n",
    "\n",
    "\n",
    "df_cg = pd.read_csv('../ctd-to-nt/csvs/CTD_chem_gene_ixns.csv', usecols=cols, skiprows=27)\n",
    "df_cg = df_cg.drop(0)\n",
    "\n",
    "# Cut down to just humans if you want to\n",
    "df_cg = df_cg.loc[df_cg['OrganismID'] == 9606.0]\n",
    "\n",
    "# Need to change float to int for the later url to work\n",
    "df_cg['GeneID'] = df_cg.GeneID.astype(int)"
   ]
  },
  {
   "cell_type": "code",
   "execution_count": null,
   "metadata": {},
   "outputs": [],
   "source": []
  },
  {
   "cell_type": "code",
   "execution_count": null,
   "metadata": {},
   "outputs": [],
   "source": []
  },
  {
   "cell_type": "code",
   "execution_count": null,
   "metadata": {},
   "outputs": [],
   "source": []
  },
  {
   "cell_type": "code",
   "execution_count": 264,
   "metadata": {},
   "outputs": [],
   "source": [
    "## Now I'm going to split the chem-gene relationships into pos/neg correlation with neutral for unclear \n",
    "#(further info is likely available to split the unclear better)\n",
    "\n",
    "# Split the interactionActions into separate predicates\n",
    "s = df_cg['InteractionActions'].str.split('|').apply(pd.Series, 1).stack()\n",
    "s.index = s.index.droplevel(-1)\n",
    "s.name = 'InteractionActions'\n",
    "df_cg = df_cg.join(s.apply(lambda x: pd.Series(x.split('|'))))\n",
    "\n",
    "# Make the new column prettier\n",
    "df_cg = df_cg.rename(columns={0: 'Predicate'})\n",
    "df_cg['Predicate'] = df_cg.Predicate.str.replace('^', '_')\n",
    "df_cg['Predicate'] = df_cg.Predicate.str.replace(' ', '_')"
   ]
  },
  {
   "cell_type": "code",
   "execution_count": 265,
   "metadata": {},
   "outputs": [
    {
     "data": {
      "text/html": [
       "<div>\n",
       "<style scoped>\n",
       "    .dataframe tbody tr th:only-of-type {\n",
       "        vertical-align: middle;\n",
       "    }\n",
       "\n",
       "    .dataframe tbody tr th {\n",
       "        vertical-align: top;\n",
       "    }\n",
       "\n",
       "    .dataframe thead th {\n",
       "        text-align: right;\n",
       "    }\n",
       "</style>\n",
       "<table border=\"1\" class=\"dataframe\">\n",
       "  <thead>\n",
       "    <tr style=\"text-align: right;\">\n",
       "      <th></th>\n",
       "      <th># ChemicalName</th>\n",
       "      <th>ChemicalID</th>\n",
       "      <th>CasRN</th>\n",
       "      <th>GeneSymbol</th>\n",
       "      <th>GeneID</th>\n",
       "      <th>GeneForms</th>\n",
       "      <th>Organism</th>\n",
       "      <th>OrganismID</th>\n",
       "      <th>Interaction</th>\n",
       "      <th>InteractionActions</th>\n",
       "      <th>PubMedIDs</th>\n",
       "      <th>Predicate</th>\n",
       "    </tr>\n",
       "  </thead>\n",
       "  <tbody>\n",
       "    <tr>\n",
       "      <th>314378</th>\n",
       "      <td>7,8-Dihydro-7,8-dihydroxybenzo(a)pyrene 9,10-o...</td>\n",
       "      <td>D015123</td>\n",
       "      <td>55097-80-8</td>\n",
       "      <td>ANKRD36</td>\n",
       "      <td>375248</td>\n",
       "      <td>mRNA</td>\n",
       "      <td>Homo sapiens</td>\n",
       "      <td>9606.0</td>\n",
       "      <td>7,8-Dihydro-7,8-dihydroxybenzo(a)pyrene 9,10-o...</td>\n",
       "      <td>decreases^expression</td>\n",
       "      <td>26238291</td>\n",
       "      <td>decreases_expression</td>\n",
       "    </tr>\n",
       "  </tbody>\n",
       "</table>\n",
       "</div>"
      ],
      "text/plain": [
       "                                           # ChemicalName ChemicalID  \\\n",
       "314378  7,8-Dihydro-7,8-dihydroxybenzo(a)pyrene 9,10-o...    D015123   \n",
       "\n",
       "             CasRN GeneSymbol  GeneID GeneForms      Organism  OrganismID  \\\n",
       "314378  55097-80-8    ANKRD36  375248      mRNA  Homo sapiens      9606.0   \n",
       "\n",
       "                                              Interaction  \\\n",
       "314378  7,8-Dihydro-7,8-dihydroxybenzo(a)pyrene 9,10-o...   \n",
       "\n",
       "          InteractionActions PubMedIDs             Predicate  \n",
       "314378  decreases^expression  26238291  decreases_expression  "
      ]
     },
     "execution_count": 265,
     "metadata": {},
     "output_type": "execute_result"
    }
   ],
   "source": [
    "df_cg.sample(1)"
   ]
  },
  {
   "cell_type": "code",
   "execution_count": 266,
   "metadata": {},
   "outputs": [
    {
     "data": {
      "text/plain": [
       "(1120709, 12)"
      ]
     },
     "execution_count": 266,
     "metadata": {},
     "output_type": "execute_result"
    }
   ],
   "source": [
    "df_cg.shape"
   ]
  },
  {
   "cell_type": "code",
   "execution_count": 267,
   "metadata": {},
   "outputs": [],
   "source": [
    "# Process InteractionActions\n",
    "# df_cg['InteractionActions'] = df_cg.InteractionActions.str.replace('^', '_')\n",
    "# df_cg['InteractionActions'] = df_cg.InteractionActions.str.replace(' ', '_')\n",
    "# df_cg.InteractionActions = df_cg.InteractionActions.map(lambda x: x.split('|'))"
   ]
  },
  {
   "cell_type": "code",
   "execution_count": 268,
   "metadata": {},
   "outputs": [],
   "source": [
    "# Map each c-g relationship to positive or negative (True is positive) based on the predicates\n",
    "\n",
    "map_to_corr_direction = {\n",
    "    'increases_expression' : True,\n",
    "    'decreases_activity' : False,\n",
    "    'decreases_expression': False,\n",
    "    'increases_activity': True,\n",
    "    'increases_stability': True,\n",
    "    'decreases_stability': False,\n",
    "    'increases_abundance': True,\n",
    "    'decreases_abundance': False,\n",
    "    'increases_degradation': False,\n",
    "    'decreases_degradation': True,\n",
    "    'increases_chemical_synthesis' : True,\n",
    "    'increases_reaction' : True,\n",
    "    'decreases_reaction' : False\n",
    "}\n",
    "\n",
    "# Apply map\n",
    "df_cg['dir_corr'] = df_cg.Predicate.map(map_to_corr_direction).astype(str)\n",
    "df_cg = df_cg.assign(**pd.get_dummies(df_cg['dir_corr']))\n",
    "df_cg = df_cg.rename(columns={'False': 'Neg', 'True': 'Pos', 'nan': 'direction_unknown'}) # rename of a column"
   ]
  },
  {
   "cell_type": "code",
   "execution_count": 269,
   "metadata": {},
   "outputs": [],
   "source": [
    "# Now this awkward bit to remove duplicate chem-gene relationships again\n",
    "# Some chem-gene relationships are recorded as both pos and neg, these will be made neutral\n",
    "df_cg['uid'] = df_cg.ChemicalID + df_cg.GeneSymbol\n",
    "\n",
    "map_negs = dict(zip(df_cg[df_cg.Neg ==1].uid, df_cg[df_cg.Neg ==1].Neg))\n",
    "map_pos = dict(zip(df_cg[df_cg.Pos ==1].uid, df_cg[df_cg.Pos ==1].Pos))\n",
    "\n",
    "df_cg = df_cg.drop_duplicates(subset=['uid']) \n",
    "\n",
    "df_cg.Neg = np.nan\n",
    "df_cg.Pos = np.nan\n",
    "\n",
    "df_cg.Neg = df_cg.uid.map(map_negs).fillna(value='0')\n",
    "df_cg.Pos = df_cg.uid.map(map_pos).fillna(value='0')\n",
    "\n",
    "df_cg.Neg = df_cg.Neg.astype(np.uint8)\n",
    "df_cg.Pos = df_cg.Pos.astype(np.uint8)"
   ]
  },
  {
   "cell_type": "code",
   "execution_count": 270,
   "metadata": {},
   "outputs": [],
   "source": [
    "# Create neutral column for unclear direction of correlation\n",
    "# Forgive this ugly code\n",
    "df_cg['neut'] = np.where((((df_cg.Neg == 1) & (df_cg.Pos == 1)) | ((df_cg.Neg == 0) & (df_cg.Pos == 0))), 1, 0)\n",
    "\n",
    "# If neut is 1 both pos and neg should be made 0\n",
    "mask = df_cg.neut == 1\n",
    "df_cg.loc[mask, 'Neg'] = 0\n",
    "df_cg.loc[mask, 'Pos'] = 0"
   ]
  },
  {
   "cell_type": "code",
   "execution_count": 271,
   "metadata": {},
   "outputs": [
    {
     "data": {
      "text/html": [
       "<div>\n",
       "<style scoped>\n",
       "    .dataframe tbody tr th:only-of-type {\n",
       "        vertical-align: middle;\n",
       "    }\n",
       "\n",
       "    .dataframe tbody tr th {\n",
       "        vertical-align: top;\n",
       "    }\n",
       "\n",
       "    .dataframe thead th {\n",
       "        text-align: right;\n",
       "    }\n",
       "</style>\n",
       "<table border=\"1\" class=\"dataframe\">\n",
       "  <thead>\n",
       "    <tr style=\"text-align: right;\">\n",
       "      <th></th>\n",
       "      <th># ChemicalName</th>\n",
       "      <th>ChemicalID</th>\n",
       "      <th>CasRN</th>\n",
       "      <th>GeneSymbol</th>\n",
       "      <th>GeneID</th>\n",
       "      <th>GeneForms</th>\n",
       "      <th>Organism</th>\n",
       "      <th>OrganismID</th>\n",
       "      <th>Interaction</th>\n",
       "      <th>InteractionActions</th>\n",
       "      <th>PubMedIDs</th>\n",
       "      <th>Predicate</th>\n",
       "      <th>dir_corr</th>\n",
       "      <th>Neg</th>\n",
       "      <th>Pos</th>\n",
       "      <th>direction_unknown</th>\n",
       "      <th>uid</th>\n",
       "      <th>neut</th>\n",
       "    </tr>\n",
       "  </thead>\n",
       "  <tbody>\n",
       "    <tr>\n",
       "      <th>756831</th>\n",
       "      <td>Ethyl Methanesulfonate</td>\n",
       "      <td>D005020</td>\n",
       "      <td>62-50-0</td>\n",
       "      <td>MYLIP</td>\n",
       "      <td>29116</td>\n",
       "      <td>mRNA</td>\n",
       "      <td>Homo sapiens</td>\n",
       "      <td>9606.0</td>\n",
       "      <td>Ethyl Methanesulfonate results in decreased ex...</td>\n",
       "      <td>decreases^expression</td>\n",
       "      <td>23649840</td>\n",
       "      <td>decreases_expression</td>\n",
       "      <td>False</td>\n",
       "      <td>1</td>\n",
       "      <td>0</td>\n",
       "      <td>0</td>\n",
       "      <td>D005020MYLIP</td>\n",
       "      <td>0</td>\n",
       "    </tr>\n",
       "    <tr>\n",
       "      <th>1241619</th>\n",
       "      <td>Piroxicam</td>\n",
       "      <td>D010894</td>\n",
       "      <td>36322-90-4</td>\n",
       "      <td>ORC6</td>\n",
       "      <td>23594</td>\n",
       "      <td>mRNA</td>\n",
       "      <td>Homo sapiens</td>\n",
       "      <td>9606.0</td>\n",
       "      <td>Piroxicam results in decreased expression of O...</td>\n",
       "      <td>decreases^expression</td>\n",
       "      <td>21858171</td>\n",
       "      <td>decreases_expression</td>\n",
       "      <td>False</td>\n",
       "      <td>1</td>\n",
       "      <td>0</td>\n",
       "      <td>0</td>\n",
       "      <td>D010894ORC6</td>\n",
       "      <td>0</td>\n",
       "    </tr>\n",
       "    <tr>\n",
       "      <th>875262</th>\n",
       "      <td>Indomethacin</td>\n",
       "      <td>D007213</td>\n",
       "      <td>53-86-1</td>\n",
       "      <td>ANP32BP1</td>\n",
       "      <td>646791</td>\n",
       "      <td>mRNA</td>\n",
       "      <td>Homo sapiens</td>\n",
       "      <td>9606.0</td>\n",
       "      <td>[INS protein co-treated with Dexamethasone co-...</td>\n",
       "      <td>affects^cotreatment|decreases^expression</td>\n",
       "      <td>28628672</td>\n",
       "      <td>affects_cotreatment</td>\n",
       "      <td>nan</td>\n",
       "      <td>1</td>\n",
       "      <td>0</td>\n",
       "      <td>1</td>\n",
       "      <td>D007213ANP32BP1</td>\n",
       "      <td>0</td>\n",
       "    </tr>\n",
       "  </tbody>\n",
       "</table>\n",
       "</div>"
      ],
      "text/plain": [
       "                 # ChemicalName ChemicalID       CasRN GeneSymbol  GeneID  \\\n",
       "756831   Ethyl Methanesulfonate    D005020     62-50-0      MYLIP   29116   \n",
       "1241619               Piroxicam    D010894  36322-90-4       ORC6   23594   \n",
       "875262             Indomethacin    D007213     53-86-1   ANP32BP1  646791   \n",
       "\n",
       "        GeneForms      Organism  OrganismID  \\\n",
       "756831       mRNA  Homo sapiens      9606.0   \n",
       "1241619      mRNA  Homo sapiens      9606.0   \n",
       "875262       mRNA  Homo sapiens      9606.0   \n",
       "\n",
       "                                               Interaction  \\\n",
       "756831   Ethyl Methanesulfonate results in decreased ex...   \n",
       "1241619  Piroxicam results in decreased expression of O...   \n",
       "875262   [INS protein co-treated with Dexamethasone co-...   \n",
       "\n",
       "                               InteractionActions PubMedIDs  \\\n",
       "756831                       decreases^expression  23649840   \n",
       "1241619                      decreases^expression  21858171   \n",
       "875262   affects^cotreatment|decreases^expression  28628672   \n",
       "\n",
       "                    Predicate dir_corr  Neg  Pos  direction_unknown  \\\n",
       "756831   decreases_expression    False    1    0                  0   \n",
       "1241619  decreases_expression    False    1    0                  0   \n",
       "875262    affects_cotreatment      nan    1    0                  1   \n",
       "\n",
       "                     uid  neut  \n",
       "756831      D005020MYLIP     0  \n",
       "1241619      D010894ORC6     0  \n",
       "875262   D007213ANP32BP1     0  "
      ]
     },
     "execution_count": 271,
     "metadata": {},
     "output_type": "execute_result"
    }
   ],
   "source": [
    "df_cg.sample(3)"
   ]
  },
  {
   "cell_type": "code",
   "execution_count": 272,
   "metadata": {},
   "outputs": [],
   "source": [
    "# Cut down to essential columns\n",
    "df_cg = df_cg[['ChemicalID', 'GeneID', 'Neg', 'Pos', 'neut']]"
   ]
  },
  {
   "cell_type": "markdown",
   "metadata": {},
   "source": [
    "### 2. Get Genes for Each Disease\n",
    "Get the associated genes for each disease and split into positive/negative/unclear_direction of correlation"
   ]
  },
  {
   "cell_type": "code",
   "execution_count": 273,
   "metadata": {},
   "outputs": [],
   "source": [
    "# This cell was the original one to use DisGeNet data but the next one replaces it, with CTD data\n",
    "# # Import DisGeNet with disease IDs and Gene IDs\n",
    "# df_cgd = pd.read_csv('../disgenet-nt/input_tsvs/curated_gene_disease_associations.tsv', sep='\\t')\n",
    "\n",
    "# # Limit by evidence Score \n",
    "# df_cgd = df_cgd[df_cgd.score >= 0.42]"
   ]
  },
  {
   "cell_type": "code",
   "execution_count": 274,
   "metadata": {},
   "outputs": [
    {
     "name": "stdout",
     "output_type": "stream",
     "text": [
      "Total gene-disease associations 64684702\n",
      "Directly evidenced gene-dis associations 30272\n",
      "Of which are positively correlated 28412\n"
     ]
    },
    {
     "data": {
      "text/html": [
       "<div>\n",
       "<style scoped>\n",
       "    .dataframe tbody tr th:only-of-type {\n",
       "        vertical-align: middle;\n",
       "    }\n",
       "\n",
       "    .dataframe tbody tr th {\n",
       "        vertical-align: top;\n",
       "    }\n",
       "\n",
       "    .dataframe thead th {\n",
       "        text-align: right;\n",
       "    }\n",
       "</style>\n",
       "<table border=\"1\" class=\"dataframe\">\n",
       "  <thead>\n",
       "    <tr style=\"text-align: right;\">\n",
       "      <th></th>\n",
       "      <th>GeneID</th>\n",
       "      <th>DiseaseID</th>\n",
       "      <th>DirectEvidence</th>\n",
       "    </tr>\n",
       "  </thead>\n",
       "  <tbody>\n",
       "    <tr>\n",
       "      <th>3323</th>\n",
       "      <td>50518</td>\n",
       "      <td>MESH:D003920</td>\n",
       "      <td>marker/mechanism</td>\n",
       "    </tr>\n",
       "    <tr>\n",
       "      <th>3326</th>\n",
       "      <td>50518</td>\n",
       "      <td>MESH:D003924</td>\n",
       "      <td>marker/mechanism</td>\n",
       "    </tr>\n",
       "    <tr>\n",
       "      <th>3545</th>\n",
       "      <td>50518</td>\n",
       "      <td>MESH:D008113</td>\n",
       "      <td>marker/mechanism</td>\n",
       "    </tr>\n",
       "    <tr>\n",
       "      <th>3652</th>\n",
       "      <td>50518</td>\n",
       "      <td>MESH:D009369</td>\n",
       "      <td>marker/mechanism</td>\n",
       "    </tr>\n",
       "    <tr>\n",
       "      <th>3702</th>\n",
       "      <td>50518</td>\n",
       "      <td>MESH:D009765</td>\n",
       "      <td>marker/mechanism</td>\n",
       "    </tr>\n",
       "  </tbody>\n",
       "</table>\n",
       "</div>"
      ],
      "text/plain": [
       "      GeneID     DiseaseID    DirectEvidence\n",
       "3323   50518  MESH:D003920  marker/mechanism\n",
       "3326   50518  MESH:D003924  marker/mechanism\n",
       "3545   50518  MESH:D008113  marker/mechanism\n",
       "3652   50518  MESH:D009369  marker/mechanism\n",
       "3702   50518  MESH:D009765  marker/mechanism"
      ]
     },
     "execution_count": 274,
     "metadata": {},
     "output_type": "execute_result"
    }
   ],
   "source": [
    "# Alternative DISEASES --> Switching out DisGeNet for CTD (as they use UMLS/MESH respectively)\n",
    "# Import preprepared g-d associations (from ctd-to-nt notebook) direct assocs only\n",
    "\n",
    "# Set column types to optimise reading in csv\n",
    "col_types = {   \n",
    "    'GeneID': 'category',\n",
    "    'DiseaseID': 'category',\n",
    "    'DirectEvidence': 'category',\n",
    "}\n",
    "\n",
    "\n",
    "df_cgd = pd.read_csv('../ctd-to-nt/csvs/CTD_genes_diseases.csv', usecols=['GeneID', 'DiseaseID', 'DirectEvidence'],\n",
    "                     dtype=col_types, skiprows=27).drop(0)\n",
    "\n",
    "print('Total gene-disease associations', df_cgd.shape[0])\n",
    "df_cgd = df_cgd.dropna(subset=['DirectEvidence']) # drop if it doesn't have direct evidence\n",
    "print('Directly evidenced gene-dis associations', df_cgd.shape[0])\n",
    "print('Of which are positively correlated', df_cgd[df_cgd.DirectEvidence =='marker/mechanism'].shape[0])\n",
    "df_cgd['GeneID'] = df_cgd['GeneID'].astype(int)\n",
    "df_cgd.head()"
   ]
  },
  {
   "cell_type": "code",
   "execution_count": 275,
   "metadata": {},
   "outputs": [
    {
     "data": {
      "text/plain": [
       "5793"
      ]
     },
     "execution_count": 275,
     "metadata": {},
     "output_type": "execute_result"
    }
   ],
   "source": [
    "df_cgd.DiseaseID.nunique()"
   ]
  },
  {
   "cell_type": "code",
   "execution_count": 276,
   "metadata": {},
   "outputs": [],
   "source": [
    "# Cut down to essential columns\n",
    "df_cgd = df_cgd[['GeneID', 'DiseaseID', 'DirectEvidence']]\n",
    "df_cgd['GeneID'] = df_cgd.GeneID.astype(int)"
   ]
  },
  {
   "cell_type": "markdown",
   "metadata": {},
   "source": [
    "### 3. Take All Unique Genes and Collect Their Uniprot IDs"
   ]
  },
  {
   "cell_type": "code",
   "execution_count": 277,
   "metadata": {},
   "outputs": [],
   "source": [
    "# # Create list of all associated GeneIDs for each of Chemicals and Diseases\n",
    "cgene_ids = df_cg.GeneID.unique()\n",
    "dgene_ids = df_cgd.GeneID.unique()\n",
    "\n",
    "# Combine them\n",
    "all_genes = set(cgene_ids).union(set(dgene_ids))"
   ]
  },
  {
   "cell_type": "code",
   "execution_count": 278,
   "metadata": {},
   "outputs": [
    {
     "name": "stdout",
     "output_type": "stream",
     "text": [
      "Number of Disease Genes:  8371\n",
      "Number of Chem Genes:  23568\n"
     ]
    }
   ],
   "source": [
    "print('Number of Disease Genes: ', len(dgene_ids))\n",
    "print('Number of Chem Genes: ', len(cgene_ids))"
   ]
  },
  {
   "cell_type": "code",
   "execution_count": 279,
   "metadata": {},
   "outputs": [],
   "source": [
    "# Write combined gene ids to file\n",
    "with open('geneIDs.txt', 'w') as f:\n",
    "    for item in all_genes:\n",
    "        f.write(\"%s\\n\" % item)"
   ]
  },
  {
   "cell_type": "markdown",
   "metadata": {},
   "source": [
    "### NOTE the next step is MANUAL\n",
    "### You need to go to https://www.uniprot.org/uploadlists/ and give it the created geneIDs.txt file, ask it to convert\n",
    "### entrez gene to uniprot ID. Then download this as uniprotIDs.txt (as uncompressed, mapping table)"
   ]
  },
  {
   "cell_type": "markdown",
   "metadata": {},
   "source": [
    "##### Import the list of uniprot IDs"
   ]
  },
  {
   "cell_type": "code",
   "execution_count": 280,
   "metadata": {},
   "outputs": [],
   "source": [
    "# Import manually generated file of geneID --> uniprotID\n",
    "df_uni_ids = pd.read_csv('uniprotIDs.txt', sep='\\t',usecols=[0,1])\n",
    "df_uni_ids.columns = ['GeneID', 'UniprotID']\n",
    "df_uni_ids['GeneID'] = df_uni_ids.GeneID.astype(str)"
   ]
  },
  {
   "cell_type": "code",
   "execution_count": 281,
   "metadata": {},
   "outputs": [
    {
     "data": {
      "text/html": [
       "<div>\n",
       "<style scoped>\n",
       "    .dataframe tbody tr th:only-of-type {\n",
       "        vertical-align: middle;\n",
       "    }\n",
       "\n",
       "    .dataframe tbody tr th {\n",
       "        vertical-align: top;\n",
       "    }\n",
       "\n",
       "    .dataframe thead th {\n",
       "        text-align: right;\n",
       "    }\n",
       "</style>\n",
       "<table border=\"1\" class=\"dataframe\">\n",
       "  <thead>\n",
       "    <tr style=\"text-align: right;\">\n",
       "      <th></th>\n",
       "      <th>GeneID</th>\n",
       "      <th>UniprotID</th>\n",
       "    </tr>\n",
       "  </thead>\n",
       "  <tbody>\n",
       "    <tr>\n",
       "      <th>0</th>\n",
       "      <td>8192</td>\n",
       "      <td>Q16740</td>\n",
       "    </tr>\n",
       "    <tr>\n",
       "      <th>1</th>\n",
       "      <td>1</td>\n",
       "      <td>P04217</td>\n",
       "    </tr>\n",
       "    <tr>\n",
       "      <th>2</th>\n",
       "      <td>1</td>\n",
       "      <td>V9HWD8</td>\n",
       "    </tr>\n",
       "    <tr>\n",
       "      <th>3</th>\n",
       "      <td>2</td>\n",
       "      <td>P01023</td>\n",
       "    </tr>\n",
       "    <tr>\n",
       "      <th>4</th>\n",
       "      <td>2052</td>\n",
       "      <td>P07099</td>\n",
       "    </tr>\n",
       "  </tbody>\n",
       "</table>\n",
       "</div>"
      ],
      "text/plain": [
       "  GeneID UniprotID\n",
       "0   8192    Q16740\n",
       "1      1    P04217\n",
       "2      1    V9HWD8\n",
       "3      2    P01023\n",
       "4   2052    P07099"
      ]
     },
     "execution_count": 281,
     "metadata": {},
     "output_type": "execute_result"
    }
   ],
   "source": [
    "df_uni_ids.head()"
   ]
  },
  {
   "cell_type": "code",
   "execution_count": 282,
   "metadata": {},
   "outputs": [],
   "source": [
    "# Some of the GeneIds are actually a couple of IDs on one row. Split them into multiple rows\n",
    "df_uni_ids = pd.concat([pd.Series(row['UniprotID'], row['GeneID'].split(','))              \n",
    "                    for _, row in df_uni_ids.iterrows()]).reset_index()\n",
    "df_uni_ids.columns = ['GeneID', 'UniprotID']\n",
    "df_uni_ids['GeneID'] = df_uni_ids.GeneID.astype(int)"
   ]
  },
  {
   "cell_type": "code",
   "execution_count": 283,
   "metadata": {},
   "outputs": [
    {
     "data": {
      "text/html": [
       "<div>\n",
       "<style scoped>\n",
       "    .dataframe tbody tr th:only-of-type {\n",
       "        vertical-align: middle;\n",
       "    }\n",
       "\n",
       "    .dataframe tbody tr th {\n",
       "        vertical-align: top;\n",
       "    }\n",
       "\n",
       "    .dataframe thead th {\n",
       "        text-align: right;\n",
       "    }\n",
       "</style>\n",
       "<table border=\"1\" class=\"dataframe\">\n",
       "  <thead>\n",
       "    <tr style=\"text-align: right;\">\n",
       "      <th></th>\n",
       "      <th>ChemicalID</th>\n",
       "      <th>GeneID</th>\n",
       "      <th>Neg</th>\n",
       "      <th>Pos</th>\n",
       "      <th>neut</th>\n",
       "    </tr>\n",
       "  </thead>\n",
       "  <tbody>\n",
       "    <tr>\n",
       "      <th>3</th>\n",
       "      <td>C534883</td>\n",
       "      <td>4609</td>\n",
       "      <td>1</td>\n",
       "      <td>0</td>\n",
       "      <td>0</td>\n",
       "    </tr>\n",
       "    <tr>\n",
       "      <th>13</th>\n",
       "      <td>C004822</td>\n",
       "      <td>2052</td>\n",
       "      <td>0</td>\n",
       "      <td>1</td>\n",
       "      <td>0</td>\n",
       "    </tr>\n",
       "    <tr>\n",
       "      <th>15</th>\n",
       "      <td>C039775</td>\n",
       "      <td>5243</td>\n",
       "      <td>0</td>\n",
       "      <td>0</td>\n",
       "      <td>1</td>\n",
       "    </tr>\n",
       "    <tr>\n",
       "      <th>20</th>\n",
       "      <td>C534422</td>\n",
       "      <td>836</td>\n",
       "      <td>0</td>\n",
       "      <td>1</td>\n",
       "      <td>0</td>\n",
       "    </tr>\n",
       "    <tr>\n",
       "      <th>21</th>\n",
       "      <td>C534422</td>\n",
       "      <td>841</td>\n",
       "      <td>0</td>\n",
       "      <td>1</td>\n",
       "      <td>0</td>\n",
       "    </tr>\n",
       "  </tbody>\n",
       "</table>\n",
       "</div>"
      ],
      "text/plain": [
       "   ChemicalID  GeneID  Neg  Pos  neut\n",
       "3     C534883    4609    1    0     0\n",
       "13    C004822    2052    0    1     0\n",
       "15    C039775    5243    0    0     1\n",
       "20    C534422     836    0    1     0\n",
       "21    C534422     841    0    1     0"
      ]
     },
     "execution_count": 283,
     "metadata": {},
     "output_type": "execute_result"
    }
   ],
   "source": [
    "df_cg.head()"
   ]
  },
  {
   "cell_type": "code",
   "execution_count": 284,
   "metadata": {},
   "outputs": [
    {
     "data": {
      "text/html": [
       "<div>\n",
       "<style scoped>\n",
       "    .dataframe tbody tr th:only-of-type {\n",
       "        vertical-align: middle;\n",
       "    }\n",
       "\n",
       "    .dataframe tbody tr th {\n",
       "        vertical-align: top;\n",
       "    }\n",
       "\n",
       "    .dataframe thead th {\n",
       "        text-align: right;\n",
       "    }\n",
       "</style>\n",
       "<table border=\"1\" class=\"dataframe\">\n",
       "  <thead>\n",
       "    <tr style=\"text-align: right;\">\n",
       "      <th></th>\n",
       "      <th>GeneID</th>\n",
       "      <th>DiseaseID</th>\n",
       "      <th>DirectEvidence</th>\n",
       "    </tr>\n",
       "  </thead>\n",
       "  <tbody>\n",
       "    <tr>\n",
       "      <th>3323</th>\n",
       "      <td>50518</td>\n",
       "      <td>MESH:D003920</td>\n",
       "      <td>marker/mechanism</td>\n",
       "    </tr>\n",
       "    <tr>\n",
       "      <th>3326</th>\n",
       "      <td>50518</td>\n",
       "      <td>MESH:D003924</td>\n",
       "      <td>marker/mechanism</td>\n",
       "    </tr>\n",
       "    <tr>\n",
       "      <th>3545</th>\n",
       "      <td>50518</td>\n",
       "      <td>MESH:D008113</td>\n",
       "      <td>marker/mechanism</td>\n",
       "    </tr>\n",
       "    <tr>\n",
       "      <th>3652</th>\n",
       "      <td>50518</td>\n",
       "      <td>MESH:D009369</td>\n",
       "      <td>marker/mechanism</td>\n",
       "    </tr>\n",
       "    <tr>\n",
       "      <th>3702</th>\n",
       "      <td>50518</td>\n",
       "      <td>MESH:D009765</td>\n",
       "      <td>marker/mechanism</td>\n",
       "    </tr>\n",
       "  </tbody>\n",
       "</table>\n",
       "</div>"
      ],
      "text/plain": [
       "      GeneID     DiseaseID    DirectEvidence\n",
       "3323   50518  MESH:D003920  marker/mechanism\n",
       "3326   50518  MESH:D003924  marker/mechanism\n",
       "3545   50518  MESH:D008113  marker/mechanism\n",
       "3652   50518  MESH:D009369  marker/mechanism\n",
       "3702   50518  MESH:D009765  marker/mechanism"
      ]
     },
     "execution_count": 284,
     "metadata": {},
     "output_type": "execute_result"
    }
   ],
   "source": [
    "df_cgd.head()"
   ]
  },
  {
   "cell_type": "code",
   "execution_count": 285,
   "metadata": {},
   "outputs": [
    {
     "data": {
      "text/html": [
       "<div>\n",
       "<style scoped>\n",
       "    .dataframe tbody tr th:only-of-type {\n",
       "        vertical-align: middle;\n",
       "    }\n",
       "\n",
       "    .dataframe tbody tr th {\n",
       "        vertical-align: top;\n",
       "    }\n",
       "\n",
       "    .dataframe thead th {\n",
       "        text-align: right;\n",
       "    }\n",
       "</style>\n",
       "<table border=\"1\" class=\"dataframe\">\n",
       "  <thead>\n",
       "    <tr style=\"text-align: right;\">\n",
       "      <th></th>\n",
       "      <th>GeneID</th>\n",
       "      <th>UniprotID</th>\n",
       "    </tr>\n",
       "  </thead>\n",
       "  <tbody>\n",
       "    <tr>\n",
       "      <th>0</th>\n",
       "      <td>8192</td>\n",
       "      <td>Q16740</td>\n",
       "    </tr>\n",
       "    <tr>\n",
       "      <th>1</th>\n",
       "      <td>1</td>\n",
       "      <td>P04217</td>\n",
       "    </tr>\n",
       "    <tr>\n",
       "      <th>2</th>\n",
       "      <td>1</td>\n",
       "      <td>V9HWD8</td>\n",
       "    </tr>\n",
       "    <tr>\n",
       "      <th>3</th>\n",
       "      <td>2</td>\n",
       "      <td>P01023</td>\n",
       "    </tr>\n",
       "    <tr>\n",
       "      <th>4</th>\n",
       "      <td>2052</td>\n",
       "      <td>P07099</td>\n",
       "    </tr>\n",
       "  </tbody>\n",
       "</table>\n",
       "</div>"
      ],
      "text/plain": [
       "   GeneID UniprotID\n",
       "0    8192    Q16740\n",
       "1       1    P04217\n",
       "2       1    V9HWD8\n",
       "3       2    P01023\n",
       "4    2052    P07099"
      ]
     },
     "execution_count": 285,
     "metadata": {},
     "output_type": "execute_result"
    }
   ],
   "source": [
    "df_uni_ids.head()"
   ]
  },
  {
   "cell_type": "markdown",
   "metadata": {},
   "source": [
    "### 4. Merge into Final DF for Export"
   ]
  },
  {
   "cell_type": "code",
   "execution_count": 286,
   "metadata": {},
   "outputs": [],
   "source": [
    "# Create map of gene to uniprot id, to add the uniprot values to the existing DFs\n",
    "gen_uprot = dict(zip(df_uni_ids.GeneID, df_uni_ids.UniprotID))\n",
    "\n",
    "df_cg['UniprotID'] = df_cg.GeneID.astype(int).map(gen_uprot)\n",
    "df_cgd['UniprotID'] = df_cgd.GeneID.astype(int).map(gen_uprot)"
   ]
  },
  {
   "cell_type": "code",
   "execution_count": 287,
   "metadata": {},
   "outputs": [
    {
     "data": {
      "text/html": [
       "<div>\n",
       "<style scoped>\n",
       "    .dataframe tbody tr th:only-of-type {\n",
       "        vertical-align: middle;\n",
       "    }\n",
       "\n",
       "    .dataframe tbody tr th {\n",
       "        vertical-align: top;\n",
       "    }\n",
       "\n",
       "    .dataframe thead th {\n",
       "        text-align: right;\n",
       "    }\n",
       "</style>\n",
       "<table border=\"1\" class=\"dataframe\">\n",
       "  <thead>\n",
       "    <tr style=\"text-align: right;\">\n",
       "      <th></th>\n",
       "      <th>GeneID</th>\n",
       "      <th>DiseaseID</th>\n",
       "      <th>DirectEvidence</th>\n",
       "      <th>UniprotID</th>\n",
       "    </tr>\n",
       "  </thead>\n",
       "  <tbody>\n",
       "    <tr>\n",
       "      <th>20205316</th>\n",
       "      <td>2260</td>\n",
       "      <td>MESH:C536050</td>\n",
       "      <td>marker/mechanism</td>\n",
       "      <td>NaN</td>\n",
       "    </tr>\n",
       "    <tr>\n",
       "      <th>53512274</th>\n",
       "      <td>6622</td>\n",
       "      <td>MESH:D019636</td>\n",
       "      <td>marker/mechanism</td>\n",
       "      <td>P37840</td>\n",
       "    </tr>\n",
       "    <tr>\n",
       "      <th>18537751</th>\n",
       "      <td>2113</td>\n",
       "      <td>MESH:D008180</td>\n",
       "      <td>marker/mechanism</td>\n",
       "      <td>NaN</td>\n",
       "    </tr>\n",
       "    <tr>\n",
       "      <th>10408071</th>\n",
       "      <td>8837</td>\n",
       "      <td>MESH:D009190</td>\n",
       "      <td>marker/mechanism</td>\n",
       "      <td>NaN</td>\n",
       "    </tr>\n",
       "    <tr>\n",
       "      <th>43904685</th>\n",
       "      <td>5468</td>\n",
       "      <td>MESH:D008545</td>\n",
       "      <td>marker/mechanism|therapeutic</td>\n",
       "      <td>Q4W448</td>\n",
       "    </tr>\n",
       "    <tr>\n",
       "      <th>34884739</th>\n",
       "      <td>4313</td>\n",
       "      <td>MESH:D011658</td>\n",
       "      <td>marker/mechanism</td>\n",
       "      <td>P08253</td>\n",
       "    </tr>\n",
       "    <tr>\n",
       "      <th>30285887</th>\n",
       "      <td>3897</td>\n",
       "      <td>MESH:C564115</td>\n",
       "      <td>marker/mechanism</td>\n",
       "      <td>NaN</td>\n",
       "    </tr>\n",
       "    <tr>\n",
       "      <th>10229881</th>\n",
       "      <td>10715</td>\n",
       "      <td>MESH:D020191</td>\n",
       "      <td>marker/mechanism</td>\n",
       "      <td>NaN</td>\n",
       "    </tr>\n",
       "    <tr>\n",
       "      <th>23500689</th>\n",
       "      <td>6011</td>\n",
       "      <td>MESH:C537743</td>\n",
       "      <td>marker/mechanism</td>\n",
       "      <td>NaN</td>\n",
       "    </tr>\n",
       "    <tr>\n",
       "      <th>30328840</th>\n",
       "      <td>3903</td>\n",
       "      <td>MESH:D005922</td>\n",
       "      <td>marker/mechanism</td>\n",
       "      <td>NaN</td>\n",
       "    </tr>\n",
       "    <tr>\n",
       "      <th>26583518</th>\n",
       "      <td>3417</td>\n",
       "      <td>MESH:D015473</td>\n",
       "      <td>marker/mechanism</td>\n",
       "      <td>V9HWJ2</td>\n",
       "    </tr>\n",
       "    <tr>\n",
       "      <th>10645193</th>\n",
       "      <td>25978</td>\n",
       "      <td>OMIM:614696</td>\n",
       "      <td>marker/mechanism</td>\n",
       "      <td>NaN</td>\n",
       "    </tr>\n",
       "    <tr>\n",
       "      <th>16217657</th>\n",
       "      <td>8818</td>\n",
       "      <td>OMIM:615042</td>\n",
       "      <td>marker/mechanism</td>\n",
       "      <td>NaN</td>\n",
       "    </tr>\n",
       "  </tbody>\n",
       "</table>\n",
       "</div>"
      ],
      "text/plain": [
       "          GeneID     DiseaseID                DirectEvidence UniprotID\n",
       "20205316    2260  MESH:C536050              marker/mechanism       NaN\n",
       "53512274    6622  MESH:D019636              marker/mechanism    P37840\n",
       "18537751    2113  MESH:D008180              marker/mechanism       NaN\n",
       "10408071    8837  MESH:D009190              marker/mechanism       NaN\n",
       "43904685    5468  MESH:D008545  marker/mechanism|therapeutic    Q4W448\n",
       "34884739    4313  MESH:D011658              marker/mechanism    P08253\n",
       "30285887    3897  MESH:C564115              marker/mechanism       NaN\n",
       "10229881   10715  MESH:D020191              marker/mechanism       NaN\n",
       "23500689    6011  MESH:C537743              marker/mechanism       NaN\n",
       "30328840    3903  MESH:D005922              marker/mechanism       NaN\n",
       "26583518    3417  MESH:D015473              marker/mechanism    V9HWJ2\n",
       "10645193   25978   OMIM:614696              marker/mechanism       NaN\n",
       "16217657    8818   OMIM:615042              marker/mechanism       NaN"
      ]
     },
     "execution_count": 287,
     "metadata": {},
     "output_type": "execute_result"
    }
   ],
   "source": [
    "df_cgd.sample(13)"
   ]
  },
  {
   "cell_type": "code",
   "execution_count": null,
   "metadata": {},
   "outputs": [],
   "source": []
  },
  {
   "cell_type": "code",
   "execution_count": null,
   "metadata": {},
   "outputs": [],
   "source": []
  },
  {
   "cell_type": "code",
   "execution_count": 288,
   "metadata": {},
   "outputs": [],
   "source": [
    "# # Create mapping file of gene ID to chem ID... and gene ID to disease ID\n",
    "# cg_dict = dict(zip(df_cg.GeneID, df_cg.ChemicalID))\n",
    "# cgd_dict = dict(zip(df_cgd.GeneID, df_cgd.DiseaseID))"
   ]
  },
  {
   "cell_type": "code",
   "execution_count": 289,
   "metadata": {},
   "outputs": [],
   "source": [
    "# df_uni_ids_d = df_uni_ids.copy() # make a copy for diseases"
   ]
  },
  {
   "cell_type": "code",
   "execution_count": 290,
   "metadata": {},
   "outputs": [],
   "source": [
    "# df_uni_ids_d.shape"
   ]
  },
  {
   "cell_type": "code",
   "execution_count": 291,
   "metadata": {},
   "outputs": [],
   "source": [
    "# # Apply the mapping, thereby creating chemical column\n",
    "# df_uni_ids['ChemicalID'] = df_uni_ids.GeneID\n",
    "# df_uni_ids['ChemicalID'] = df_uni_ids['ChemicalID'].astype(int).map(cg_dict)"
   ]
  },
  {
   "cell_type": "code",
   "execution_count": 292,
   "metadata": {},
   "outputs": [],
   "source": [
    "# # Apply the mapping, thereby creating disease column\n",
    "# df_uni_ids_d['DiseaseID'] = df_uni_ids_d.GeneID\n",
    "# df_uni_ids_d['DiseaseID'] = df_uni_ids_d['DiseaseID'].astype(int).map(cgd_dict)"
   ]
  },
  {
   "cell_type": "code",
   "execution_count": 293,
   "metadata": {},
   "outputs": [],
   "source": [
    "# df_uni_ids"
   ]
  },
  {
   "cell_type": "code",
   "execution_count": 294,
   "metadata": {},
   "outputs": [],
   "source": [
    "# # Output disease list, later used in nn notebook\n",
    "# disease_list = df_uni_ids_d.DiseaseID.unique()\n",
    "# len(disease_list)\n",
    "# np.savetxt(r'diseases.lst', disease_list, fmt='%s')"
   ]
  },
  {
   "cell_type": "code",
   "execution_count": 295,
   "metadata": {},
   "outputs": [],
   "source": [
    "## This establishes that the len of a disease id is always 8 while a chem is 7 or 10\n",
    "# df_uni_ids['IDlen'] = df_uni_ids.ChemicalID.map(lambda x: len(x))\n",
    "# df_uni_ids_d['IDlen'] = df_uni_ids_d.DiseaseID.map(lambda x: len(x))\n",
    "# print(df_uni_ids.IDlen.unique())\n",
    "# print(df_uni_ids_d.IDlen.unique())"
   ]
  },
  {
   "cell_type": "markdown",
   "metadata": {},
   "source": [
    "##### Group by Chem ID"
   ]
  },
  {
   "cell_type": "code",
   "execution_count": 296,
   "metadata": {},
   "outputs": [],
   "source": [
    "# df_uni_ids.dropna().shape # 33381"
   ]
  },
  {
   "cell_type": "code",
   "execution_count": 297,
   "metadata": {},
   "outputs": [],
   "source": [
    "# df_uni_ids.head()"
   ]
  },
  {
   "cell_type": "code",
   "execution_count": 298,
   "metadata": {},
   "outputs": [],
   "source": [
    "# df_uni_ids.ChemicalID.nunique()"
   ]
  },
  {
   "cell_type": "code",
   "execution_count": 299,
   "metadata": {},
   "outputs": [],
   "source": [
    "# df_uni_ids_d.dropna().shape #2914"
   ]
  },
  {
   "cell_type": "code",
   "execution_count": 300,
   "metadata": {},
   "outputs": [],
   "source": [
    "# df_uni_ids_d.DiseaseID.nunique()"
   ]
  },
  {
   "cell_type": "code",
   "execution_count": null,
   "metadata": {},
   "outputs": [],
   "source": []
  },
  {
   "cell_type": "code",
   "execution_count": null,
   "metadata": {},
   "outputs": [],
   "source": []
  },
  {
   "cell_type": "code",
   "execution_count": null,
   "metadata": {},
   "outputs": [],
   "source": []
  },
  {
   "cell_type": "code",
   "execution_count": null,
   "metadata": {},
   "outputs": [],
   "source": []
  },
  {
   "cell_type": "code",
   "execution_count": null,
   "metadata": {},
   "outputs": [],
   "source": []
  },
  {
   "cell_type": "code",
   "execution_count": null,
   "metadata": {},
   "outputs": [],
   "source": []
  },
  {
   "cell_type": "code",
   "execution_count": null,
   "metadata": {},
   "outputs": [],
   "source": []
  },
  {
   "cell_type": "code",
   "execution_count": null,
   "metadata": {},
   "outputs": [],
   "source": []
  },
  {
   "cell_type": "markdown",
   "metadata": {},
   "source": [
    "### 5. Mine goa file, attaching go function for each uniprot ID to the parent chemical/gene"
   ]
  },
  {
   "cell_type": "code",
   "execution_count": 301,
   "metadata": {},
   "outputs": [],
   "source": [
    "# import goa file (uniprot ID to go_functions)\n",
    "# go_funcs = pd.read_csv('../goa_human.gaf', header=None, skiprows=30, sep='\\t', low_memory=False)"
   ]
  },
  {
   "cell_type": "code",
   "execution_count": 302,
   "metadata": {},
   "outputs": [],
   "source": [
    "# Cut out all cols except uniprot ids and go_funcs, rename these\n",
    "go_funcs = go_funcs.rename(columns={ go_funcs.columns[1]: \"UniprotID\" })\n",
    "go_funcs = go_funcs.rename(columns={ go_funcs.columns[4]: \"gofunc\" })\n",
    "col_list = ['UniprotID', 'gofunc']\n",
    "df_go = go_funcs[col_list]"
   ]
  },
  {
   "cell_type": "code",
   "execution_count": 303,
   "metadata": {},
   "outputs": [],
   "source": [
    "# Merge the go functions into our existing chem-uniprotID and dis-uniprotID dfs\n",
    "# df_uni_ids_d = df_uni_ids_d.merge(df_go, on='UniprotID', how='outer').dropna()\n",
    "# df_uni_ids = df_uni_ids.merge(df_go, on='UniprotID', how='outer').dropna()"
   ]
  },
  {
   "cell_type": "code",
   "execution_count": 304,
   "metadata": {},
   "outputs": [],
   "source": [
    "df_cg = df_cg.merge(df_go, on='UniprotID', how='outer').dropna()\n",
    "df_cgd = df_cgd.merge(df_go, on='UniprotID', how='outer').dropna()"
   ]
  },
  {
   "cell_type": "code",
   "execution_count": 305,
   "metadata": {},
   "outputs": [
    {
     "data": {
      "text/html": [
       "<div>\n",
       "<style scoped>\n",
       "    .dataframe tbody tr th:only-of-type {\n",
       "        vertical-align: middle;\n",
       "    }\n",
       "\n",
       "    .dataframe tbody tr th {\n",
       "        vertical-align: top;\n",
       "    }\n",
       "\n",
       "    .dataframe thead th {\n",
       "        text-align: right;\n",
       "    }\n",
       "</style>\n",
       "<table border=\"1\" class=\"dataframe\">\n",
       "  <thead>\n",
       "    <tr style=\"text-align: right;\">\n",
       "      <th></th>\n",
       "      <th>ChemicalID</th>\n",
       "      <th>GeneID</th>\n",
       "      <th>Neg</th>\n",
       "      <th>Pos</th>\n",
       "      <th>neut</th>\n",
       "      <th>UniprotID</th>\n",
       "      <th>gofunc</th>\n",
       "    </tr>\n",
       "  </thead>\n",
       "  <tbody>\n",
       "    <tr>\n",
       "      <th>0</th>\n",
       "      <td>C534883</td>\n",
       "      <td>4609.0</td>\n",
       "      <td>1.0</td>\n",
       "      <td>0.0</td>\n",
       "      <td>0.0</td>\n",
       "      <td>P01106</td>\n",
       "      <td>GO:0000082</td>\n",
       "    </tr>\n",
       "    <tr>\n",
       "      <th>1</th>\n",
       "      <td>C534883</td>\n",
       "      <td>4609.0</td>\n",
       "      <td>1.0</td>\n",
       "      <td>0.0</td>\n",
       "      <td>0.0</td>\n",
       "      <td>P01106</td>\n",
       "      <td>GO:0000122</td>\n",
       "    </tr>\n",
       "    <tr>\n",
       "      <th>2</th>\n",
       "      <td>C534883</td>\n",
       "      <td>4609.0</td>\n",
       "      <td>1.0</td>\n",
       "      <td>0.0</td>\n",
       "      <td>0.0</td>\n",
       "      <td>P01106</td>\n",
       "      <td>GO:0000122</td>\n",
       "    </tr>\n",
       "    <tr>\n",
       "      <th>3</th>\n",
       "      <td>C534883</td>\n",
       "      <td>4609.0</td>\n",
       "      <td>1.0</td>\n",
       "      <td>0.0</td>\n",
       "      <td>0.0</td>\n",
       "      <td>P01106</td>\n",
       "      <td>GO:0000122</td>\n",
       "    </tr>\n",
       "    <tr>\n",
       "      <th>4</th>\n",
       "      <td>C534883</td>\n",
       "      <td>4609.0</td>\n",
       "      <td>1.0</td>\n",
       "      <td>0.0</td>\n",
       "      <td>0.0</td>\n",
       "      <td>P01106</td>\n",
       "      <td>GO:0000165</td>\n",
       "    </tr>\n",
       "  </tbody>\n",
       "</table>\n",
       "</div>"
      ],
      "text/plain": [
       "  ChemicalID  GeneID  Neg  Pos  neut UniprotID      gofunc\n",
       "0    C534883  4609.0  1.0  0.0   0.0    P01106  GO:0000082\n",
       "1    C534883  4609.0  1.0  0.0   0.0    P01106  GO:0000122\n",
       "2    C534883  4609.0  1.0  0.0   0.0    P01106  GO:0000122\n",
       "3    C534883  4609.0  1.0  0.0   0.0    P01106  GO:0000122\n",
       "4    C534883  4609.0  1.0  0.0   0.0    P01106  GO:0000165"
      ]
     },
     "execution_count": 305,
     "metadata": {},
     "output_type": "execute_result"
    }
   ],
   "source": [
    "df_cg.head()"
   ]
  },
  {
   "cell_type": "code",
   "execution_count": 306,
   "metadata": {},
   "outputs": [
    {
     "data": {
      "text/html": [
       "<div>\n",
       "<style scoped>\n",
       "    .dataframe tbody tr th:only-of-type {\n",
       "        vertical-align: middle;\n",
       "    }\n",
       "\n",
       "    .dataframe tbody tr th {\n",
       "        vertical-align: top;\n",
       "    }\n",
       "\n",
       "    .dataframe thead th {\n",
       "        text-align: right;\n",
       "    }\n",
       "</style>\n",
       "<table border=\"1\" class=\"dataframe\">\n",
       "  <thead>\n",
       "    <tr style=\"text-align: right;\">\n",
       "      <th></th>\n",
       "      <th>GeneID</th>\n",
       "      <th>DiseaseID</th>\n",
       "      <th>DirectEvidence</th>\n",
       "      <th>UniprotID</th>\n",
       "      <th>gofunc</th>\n",
       "    </tr>\n",
       "  </thead>\n",
       "  <tbody>\n",
       "    <tr>\n",
       "      <th>8</th>\n",
       "      <td>2.0</td>\n",
       "      <td>MESH:D058186</td>\n",
       "      <td>marker/mechanism</td>\n",
       "      <td>P01023</td>\n",
       "      <td>GO:0001869</td>\n",
       "    </tr>\n",
       "    <tr>\n",
       "      <th>9</th>\n",
       "      <td>2.0</td>\n",
       "      <td>MESH:D058186</td>\n",
       "      <td>marker/mechanism</td>\n",
       "      <td>P01023</td>\n",
       "      <td>GO:0002020</td>\n",
       "    </tr>\n",
       "    <tr>\n",
       "      <th>10</th>\n",
       "      <td>2.0</td>\n",
       "      <td>MESH:D058186</td>\n",
       "      <td>marker/mechanism</td>\n",
       "      <td>P01023</td>\n",
       "      <td>GO:0002020</td>\n",
       "    </tr>\n",
       "    <tr>\n",
       "      <th>11</th>\n",
       "      <td>2.0</td>\n",
       "      <td>MESH:D058186</td>\n",
       "      <td>marker/mechanism</td>\n",
       "      <td>P01023</td>\n",
       "      <td>GO:0002576</td>\n",
       "    </tr>\n",
       "    <tr>\n",
       "      <th>12</th>\n",
       "      <td>2.0</td>\n",
       "      <td>MESH:D058186</td>\n",
       "      <td>marker/mechanism</td>\n",
       "      <td>P01023</td>\n",
       "      <td>GO:0004867</td>\n",
       "    </tr>\n",
       "  </tbody>\n",
       "</table>\n",
       "</div>"
      ],
      "text/plain": [
       "    GeneID     DiseaseID    DirectEvidence UniprotID      gofunc\n",
       "8      2.0  MESH:D058186  marker/mechanism    P01023  GO:0001869\n",
       "9      2.0  MESH:D058186  marker/mechanism    P01023  GO:0002020\n",
       "10     2.0  MESH:D058186  marker/mechanism    P01023  GO:0002020\n",
       "11     2.0  MESH:D058186  marker/mechanism    P01023  GO:0002576\n",
       "12     2.0  MESH:D058186  marker/mechanism    P01023  GO:0004867"
      ]
     },
     "execution_count": 306,
     "metadata": {},
     "output_type": "execute_result"
    }
   ],
   "source": [
    "df_cgd.head()"
   ]
  },
  {
   "cell_type": "code",
   "execution_count": 307,
   "metadata": {},
   "outputs": [],
   "source": [
    "# df_go[df_go.UniprotID == 'P01023']"
   ]
  },
  {
   "cell_type": "markdown",
   "metadata": {},
   "source": [
    "#### Alternative vectors: Control for the number of disease go functions"
   ]
  },
  {
   "cell_type": "code",
   "execution_count": 308,
   "metadata": {},
   "outputs": [],
   "source": [
    "# df_uni_ids.ChemicalID.value_counts()"
   ]
  },
  {
   "cell_type": "code",
   "execution_count": 309,
   "metadata": {},
   "outputs": [],
   "source": [
    "# len(df_uni_ids_d.DiseaseID.value_counts()[(df_uni_ids_d.DiseaseID.value_counts()>=30) & (df_uni_ids_d.DiseaseID.value_counts()<1000)])"
   ]
  },
  {
   "cell_type": "code",
   "execution_count": 310,
   "metadata": {},
   "outputs": [],
   "source": [
    "# df_uni_ids_d.DiseaseID.nunique()"
   ]
  },
  {
   "cell_type": "markdown",
   "metadata": {},
   "source": [
    "### 6. Prep and write to output files"
   ]
  },
  {
   "cell_type": "code",
   "execution_count": 311,
   "metadata": {},
   "outputs": [],
   "source": [
    "# df_uni_ids_d.shape"
   ]
  },
  {
   "cell_type": "code",
   "execution_count": 312,
   "metadata": {},
   "outputs": [],
   "source": [
    "# df_uni_ids.sample(13)"
   ]
  },
  {
   "cell_type": "code",
   "execution_count": 313,
   "metadata": {},
   "outputs": [],
   "source": [
    "# df_uni_ids.ChemicalID.nunique()"
   ]
  },
  {
   "cell_type": "code",
   "execution_count": 314,
   "metadata": {},
   "outputs": [],
   "source": [
    "# df_uni_ids.shape"
   ]
  },
  {
   "cell_type": "code",
   "execution_count": 315,
   "metadata": {},
   "outputs": [],
   "source": [
    "# Create a col with the full go url\n",
    "df_cg['go_url'] = 'http://purl.obolibrary.org/obo/' + df_cg.gofunc.str.replace(':', '_') \n",
    "df_cgd['go_url'] =  'http://purl.obolibrary.org/obo/' + df_cgd.gofunc.str.replace(':', '_')"
   ]
  },
  {
   "cell_type": "code",
   "execution_count": 316,
   "metadata": {},
   "outputs": [],
   "source": [
    "# df_uni_ids[df_uni_ids.ChemicalID == 'C031238'].go_url.unique()"
   ]
  },
  {
   "cell_type": "code",
   "execution_count": 317,
   "metadata": {},
   "outputs": [],
   "source": [
    "# # Create a col with the full go url\n",
    "# df_uni_ids['go_url'] = '<' + 'http://purl.obolibrary.org/obo/' + df_uni_ids.gofunc.str.replace(':', '_')  + '>'\n",
    "# df_uni_ids_d['go_url'] =  '<' + 'http://purl.obolibrary.org/obo/' + df_uni_ids_d.gofunc.str.replace(':', '_')  + '>'"
   ]
  },
  {
   "cell_type": "code",
   "execution_count": 318,
   "metadata": {},
   "outputs": [],
   "source": [
    "# Grab just the columns we want to output (diseaseID and go_url/ chemicalID and go_url)\n",
    "# col_list_c = ['ChemicalID', 'go_url']\n",
    "# col_list_d = ['DiseaseID', 'go_url']\n",
    "# df_c = df_uni_ids[col_list_c]\n",
    "# df_d = df_uni_ids_d[col_list_d]"
   ]
  },
  {
   "cell_type": "code",
   "execution_count": 319,
   "metadata": {},
   "outputs": [],
   "source": [
    "for col in ['Neg', 'Pos', 'neut']:\n",
    "    df_cg[col] = df_cg[col].astype(np.uint8)\n",
    "    \n",
    "df_cgd['GeneID'] = df_cgd.GeneID.astype(int)"
   ]
  },
  {
   "cell_type": "code",
   "execution_count": 320,
   "metadata": {},
   "outputs": [
    {
     "data": {
      "text/html": [
       "<div>\n",
       "<style scoped>\n",
       "    .dataframe tbody tr th:only-of-type {\n",
       "        vertical-align: middle;\n",
       "    }\n",
       "\n",
       "    .dataframe tbody tr th {\n",
       "        vertical-align: top;\n",
       "    }\n",
       "\n",
       "    .dataframe thead th {\n",
       "        text-align: right;\n",
       "    }\n",
       "</style>\n",
       "<table border=\"1\" class=\"dataframe\">\n",
       "  <thead>\n",
       "    <tr style=\"text-align: right;\">\n",
       "      <th></th>\n",
       "      <th>ChemicalID</th>\n",
       "      <th>GeneID</th>\n",
       "      <th>Neg</th>\n",
       "      <th>Pos</th>\n",
       "      <th>neut</th>\n",
       "      <th>UniprotID</th>\n",
       "      <th>gofunc</th>\n",
       "      <th>go_url</th>\n",
       "    </tr>\n",
       "  </thead>\n",
       "  <tbody>\n",
       "    <tr>\n",
       "      <th>2678841</th>\n",
       "      <td>D037742</td>\n",
       "      <td>1432.0</td>\n",
       "      <td>0</td>\n",
       "      <td>0</td>\n",
       "      <td>1</td>\n",
       "      <td>Q16539</td>\n",
       "      <td>GO:0071479</td>\n",
       "      <td>http://purl.obolibrary.org/obo/GO_0071479</td>\n",
       "    </tr>\n",
       "    <tr>\n",
       "      <th>2251569</th>\n",
       "      <td>C544151</td>\n",
       "      <td>1109.0</td>\n",
       "      <td>0</td>\n",
       "      <td>1</td>\n",
       "      <td>0</td>\n",
       "      <td>P17516</td>\n",
       "      <td>GO:0022900</td>\n",
       "      <td>http://purl.obolibrary.org/obo/GO_0022900</td>\n",
       "    </tr>\n",
       "    <tr>\n",
       "      <th>4741462</th>\n",
       "      <td>C018855</td>\n",
       "      <td>8878.0</td>\n",
       "      <td>0</td>\n",
       "      <td>1</td>\n",
       "      <td>0</td>\n",
       "      <td>Q13501</td>\n",
       "      <td>GO:0005770</td>\n",
       "      <td>http://purl.obolibrary.org/obo/GO_0005770</td>\n",
       "    </tr>\n",
       "    <tr>\n",
       "      <th>5205490</th>\n",
       "      <td>D024483</td>\n",
       "      <td>1843.0</td>\n",
       "      <td>0</td>\n",
       "      <td>0</td>\n",
       "      <td>1</td>\n",
       "      <td>P28562</td>\n",
       "      <td>GO:0005515</td>\n",
       "      <td>http://purl.obolibrary.org/obo/GO_0005515</td>\n",
       "    </tr>\n",
       "    <tr>\n",
       "      <th>5717200</th>\n",
       "      <td>C004554</td>\n",
       "      <td>1583.0</td>\n",
       "      <td>0</td>\n",
       "      <td>1</td>\n",
       "      <td>0</td>\n",
       "      <td>P05108</td>\n",
       "      <td>GO:0006700</td>\n",
       "      <td>http://purl.obolibrary.org/obo/GO_0006700</td>\n",
       "    </tr>\n",
       "    <tr>\n",
       "      <th>4584270</th>\n",
       "      <td>D014415</td>\n",
       "      <td>1017.0</td>\n",
       "      <td>1</td>\n",
       "      <td>0</td>\n",
       "      <td>0</td>\n",
       "      <td>P24941</td>\n",
       "      <td>GO:0005654</td>\n",
       "      <td>http://purl.obolibrary.org/obo/GO_0005654</td>\n",
       "    </tr>\n",
       "    <tr>\n",
       "      <th>931165</th>\n",
       "      <td>D013849</td>\n",
       "      <td>7422.0</td>\n",
       "      <td>1</td>\n",
       "      <td>0</td>\n",
       "      <td>0</td>\n",
       "      <td>P15692</td>\n",
       "      <td>GO:0005515</td>\n",
       "      <td>http://purl.obolibrary.org/obo/GO_0005515</td>\n",
       "    </tr>\n",
       "    <tr>\n",
       "      <th>2682873</th>\n",
       "      <td>C010327</td>\n",
       "      <td>1432.0</td>\n",
       "      <td>1</td>\n",
       "      <td>0</td>\n",
       "      <td>0</td>\n",
       "      <td>Q16539</td>\n",
       "      <td>GO:0005829</td>\n",
       "      <td>http://purl.obolibrary.org/obo/GO_0005829</td>\n",
       "    </tr>\n",
       "    <tr>\n",
       "      <th>1811680</th>\n",
       "      <td>D007213</td>\n",
       "      <td>4792.0</td>\n",
       "      <td>0</td>\n",
       "      <td>0</td>\n",
       "      <td>1</td>\n",
       "      <td>P25963</td>\n",
       "      <td>GO:0005515</td>\n",
       "      <td>http://purl.obolibrary.org/obo/GO_0005515</td>\n",
       "    </tr>\n",
       "    <tr>\n",
       "      <th>5423680</th>\n",
       "      <td>D007854</td>\n",
       "      <td>3952.0</td>\n",
       "      <td>1</td>\n",
       "      <td>0</td>\n",
       "      <td>0</td>\n",
       "      <td>P41159</td>\n",
       "      <td>GO:0042445</td>\n",
       "      <td>http://purl.obolibrary.org/obo/GO_0042445</td>\n",
       "    </tr>\n",
       "    <tr>\n",
       "      <th>18889</th>\n",
       "      <td>D002087</td>\n",
       "      <td>4609.0</td>\n",
       "      <td>0</td>\n",
       "      <td>1</td>\n",
       "      <td>0</td>\n",
       "      <td>P01106</td>\n",
       "      <td>GO:0045893</td>\n",
       "      <td>http://purl.obolibrary.org/obo/GO_0045893</td>\n",
       "    </tr>\n",
       "    <tr>\n",
       "      <th>2005766</th>\n",
       "      <td>D017632</td>\n",
       "      <td>5970.0</td>\n",
       "      <td>0</td>\n",
       "      <td>0</td>\n",
       "      <td>1</td>\n",
       "      <td>Q04206</td>\n",
       "      <td>GO:0005654</td>\n",
       "      <td>http://purl.obolibrary.org/obo/GO_0005654</td>\n",
       "    </tr>\n",
       "    <tr>\n",
       "      <th>384890</th>\n",
       "      <td>C060728</td>\n",
       "      <td>841.0</td>\n",
       "      <td>0</td>\n",
       "      <td>1</td>\n",
       "      <td>0</td>\n",
       "      <td>Q14790</td>\n",
       "      <td>GO:0005515</td>\n",
       "      <td>http://purl.obolibrary.org/obo/GO_0005515</td>\n",
       "    </tr>\n",
       "  </tbody>\n",
       "</table>\n",
       "</div>"
      ],
      "text/plain": [
       "        ChemicalID  GeneID  Neg  Pos  neut UniprotID      gofunc  \\\n",
       "2678841    D037742  1432.0    0    0     1    Q16539  GO:0071479   \n",
       "2251569    C544151  1109.0    0    1     0    P17516  GO:0022900   \n",
       "4741462    C018855  8878.0    0    1     0    Q13501  GO:0005770   \n",
       "5205490    D024483  1843.0    0    0     1    P28562  GO:0005515   \n",
       "5717200    C004554  1583.0    0    1     0    P05108  GO:0006700   \n",
       "4584270    D014415  1017.0    1    0     0    P24941  GO:0005654   \n",
       "931165     D013849  7422.0    1    0     0    P15692  GO:0005515   \n",
       "2682873    C010327  1432.0    1    0     0    Q16539  GO:0005829   \n",
       "1811680    D007213  4792.0    0    0     1    P25963  GO:0005515   \n",
       "5423680    D007854  3952.0    1    0     0    P41159  GO:0042445   \n",
       "18889      D002087  4609.0    0    1     0    P01106  GO:0045893   \n",
       "2005766    D017632  5970.0    0    0     1    Q04206  GO:0005654   \n",
       "384890     C060728   841.0    0    1     0    Q14790  GO:0005515   \n",
       "\n",
       "                                            go_url  \n",
       "2678841  http://purl.obolibrary.org/obo/GO_0071479  \n",
       "2251569  http://purl.obolibrary.org/obo/GO_0022900  \n",
       "4741462  http://purl.obolibrary.org/obo/GO_0005770  \n",
       "5205490  http://purl.obolibrary.org/obo/GO_0005515  \n",
       "5717200  http://purl.obolibrary.org/obo/GO_0006700  \n",
       "4584270  http://purl.obolibrary.org/obo/GO_0005654  \n",
       "931165   http://purl.obolibrary.org/obo/GO_0005515  \n",
       "2682873  http://purl.obolibrary.org/obo/GO_0005829  \n",
       "1811680  http://purl.obolibrary.org/obo/GO_0005515  \n",
       "5423680  http://purl.obolibrary.org/obo/GO_0042445  \n",
       "18889    http://purl.obolibrary.org/obo/GO_0045893  \n",
       "2005766  http://purl.obolibrary.org/obo/GO_0005654  \n",
       "384890   http://purl.obolibrary.org/obo/GO_0005515  "
      ]
     },
     "execution_count": 320,
     "metadata": {},
     "output_type": "execute_result"
    }
   ],
   "source": [
    "df_cg.sample(13)"
   ]
  },
  {
   "cell_type": "code",
   "execution_count": 321,
   "metadata": {},
   "outputs": [
    {
     "data": {
      "text/html": [
       "<div>\n",
       "<style scoped>\n",
       "    .dataframe tbody tr th:only-of-type {\n",
       "        vertical-align: middle;\n",
       "    }\n",
       "\n",
       "    .dataframe tbody tr th {\n",
       "        vertical-align: top;\n",
       "    }\n",
       "\n",
       "    .dataframe thead th {\n",
       "        text-align: right;\n",
       "    }\n",
       "</style>\n",
       "<table border=\"1\" class=\"dataframe\">\n",
       "  <thead>\n",
       "    <tr style=\"text-align: right;\">\n",
       "      <th></th>\n",
       "      <th>GeneID</th>\n",
       "      <th>DiseaseID</th>\n",
       "      <th>DirectEvidence</th>\n",
       "      <th>UniprotID</th>\n",
       "      <th>gofunc</th>\n",
       "      <th>go_url</th>\n",
       "    </tr>\n",
       "  </thead>\n",
       "  <tbody>\n",
       "    <tr>\n",
       "      <th>34298</th>\n",
       "      <td>1636</td>\n",
       "      <td>MESH:D007674</td>\n",
       "      <td>marker/mechanism</td>\n",
       "      <td>P12821</td>\n",
       "      <td>GO:0032091</td>\n",
       "      <td>http://purl.obolibrary.org/obo/GO_0032091</td>\n",
       "    </tr>\n",
       "    <tr>\n",
       "      <th>151339</th>\n",
       "      <td>998</td>\n",
       "      <td>MESH:D015658</td>\n",
       "      <td>marker/mechanism</td>\n",
       "      <td>P60953</td>\n",
       "      <td>GO:0005515</td>\n",
       "      <td>http://purl.obolibrary.org/obo/GO_0005515</td>\n",
       "    </tr>\n",
       "    <tr>\n",
       "      <th>520892</th>\n",
       "      <td>7040</td>\n",
       "      <td>MESH:D011656</td>\n",
       "      <td>therapeutic</td>\n",
       "      <td>P01137</td>\n",
       "      <td>GO:0001837</td>\n",
       "      <td>http://purl.obolibrary.org/obo/GO_0001837</td>\n",
       "    </tr>\n",
       "  </tbody>\n",
       "</table>\n",
       "</div>"
      ],
      "text/plain": [
       "        GeneID     DiseaseID    DirectEvidence UniprotID      gofunc  \\\n",
       "34298     1636  MESH:D007674  marker/mechanism    P12821  GO:0032091   \n",
       "151339     998  MESH:D015658  marker/mechanism    P60953  GO:0005515   \n",
       "520892    7040  MESH:D011656       therapeutic    P01137  GO:0001837   \n",
       "\n",
       "                                           go_url  \n",
       "34298   http://purl.obolibrary.org/obo/GO_0032091  \n",
       "151339  http://purl.obolibrary.org/obo/GO_0005515  \n",
       "520892  http://purl.obolibrary.org/obo/GO_0001837  "
      ]
     },
     "execution_count": 321,
     "metadata": {},
     "output_type": "execute_result"
    }
   ],
   "source": [
    "df_cgd.sample(3)"
   ]
  },
  {
   "cell_type": "code",
   "execution_count": 322,
   "metadata": {},
   "outputs": [],
   "source": [
    "# Here I append a -n to entity-gene relationships that are negative and -p if positive\n",
    "# This will enable us to run all vectorisation at once and retain the correlation for processing in opa-nn notebook\n",
    "\n",
    "# Get a weird error if we don't reset from categorical to string type\n",
    "df_cgd['DiseaseID'] = df_cgd['DiseaseID'].astype('str')\n",
    "df_cg['ChemicalID'] = df_cg['ChemicalID'].astype('str')\n",
    "\n",
    "mask = (df_cg.Neg == 1)\n",
    "df_cg.loc[mask, 'ChemicalID'] += '-n'\n",
    "\n",
    "mask = (df_cg.Pos == 1)\n",
    "df_cg.loc[mask, 'ChemicalID'] += '-p'\n",
    "\n",
    "\n",
    "mask = (df_cgd.DirectEvidence == 'marker/mechanism')\n",
    "df_cgd.loc[mask, 'DiseaseID'] += '-p'\n",
    "\n",
    "mask = (df_cgd.DirectEvidence == 'treatment')\n",
    "df_cgd.loc[mask, 'DiseaseID'] += '-n'"
   ]
  },
  {
   "cell_type": "code",
   "execution_count": 323,
   "metadata": {},
   "outputs": [],
   "source": [
    "df_c = df_cg[['ChemicalID', 'go_url']]\n",
    "df_d = df_cgd[['DiseaseID', 'go_url']]"
   ]
  },
  {
   "cell_type": "code",
   "execution_count": 324,
   "metadata": {},
   "outputs": [],
   "source": [
    "# Output an association file for each of chem and dis\n",
    "np.savetxt(r'associations_c.txt', df_c.values, fmt='%s')\n",
    "np.savetxt(r'associations_d.txt', df_d.values, fmt='%s')"
   ]
  },
  {
   "cell_type": "code",
   "execution_count": 325,
   "metadata": {},
   "outputs": [
    {
     "data": {
      "text/plain": [
       "0"
      ]
     },
     "execution_count": 325,
     "metadata": {},
     "output_type": "execute_result"
    }
   ],
   "source": [
    "# Merge these two into one single file\n",
    "subprocess.call('cat associations_* > myassociations', shell=True)"
   ]
  },
  {
   "cell_type": "code",
   "execution_count": 326,
   "metadata": {},
   "outputs": [],
   "source": [
    "# Create entities.lst to inform opa2vec which entities we want vectors for\n",
    "entities = df_d.DiseaseID.unique().tolist() + df_c.ChemicalID.unique().tolist()\n",
    "np.savetxt(r'entities.lst', entities, fmt='%s')"
   ]
  },
  {
   "cell_type": "markdown",
   "metadata": {},
   "source": [
    "## NEXT STEP is to manually run opa2vec, though it could be automated here..."
   ]
  },
  {
   "cell_type": "markdown",
   "metadata": {},
   "source": [
    "python2 runOPA2Vec.py -ontology ../ontologies/go.owl -associations ../msc-thesis/opa/myassociations  -entities ../msc-thesis/opa/entities.lst -outfile outter.lst"
   ]
  },
  {
   "cell_type": "markdown",
   "metadata": {},
   "source": [
    "#### Export GoFunction counts per chem and per disease"
   ]
  },
  {
   "cell_type": "code",
   "execution_count": 327,
   "metadata": {},
   "outputs": [],
   "source": [
    "# Create df of counts of chem and disease gofuncs for export, later used in assessing NN results\n",
    "# chem_gofunc_counts = df_uni_ids.groupby('ChemicalID')['gofunc'].nunique()\n",
    "# dis_gofunc_counts = df_uni_ids_d.groupby('DiseaseID')['gofunc'].nunique()\n",
    "\n",
    "# chem_gofunc_counts = pd.DataFrame(chem_gofunc_counts)\n",
    "# chem_gofunc_counts = chem_gofunc_counts.reset_index()\n",
    "# dis_gofunc_counts = pd.DataFrame(dis_gofunc_counts)\n",
    "# dis_gofunc_counts = dis_gofunc_counts.reset_index()\n",
    "\n",
    "# gofunc_counts = chem_gofunc_counts.merge(dis_gofunc_counts, how='outer')\n",
    "# gofunc_counts.to_csv('gofunc_counts.csv', index=False)"
   ]
  },
  {
   "cell_type": "code",
   "execution_count": null,
   "metadata": {},
   "outputs": [],
   "source": []
  }
 ],
 "metadata": {
  "kernelspec": {
   "display_name": "Python 3",
   "language": "python",
   "name": "python3"
  },
  "language_info": {
   "codemirror_mode": {
    "name": "ipython",
    "version": 3
   },
   "file_extension": ".py",
   "mimetype": "text/x-python",
   "name": "python",
   "nbconvert_exporter": "python",
   "pygments_lexer": "ipython3",
   "version": "3.6.5"
  }
 },
 "nbformat": 4,
 "nbformat_minor": 2
}
