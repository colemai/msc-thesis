{
 "cells": [
  {
   "cell_type": "markdown",
   "metadata": {},
   "source": [
    "# Notebook: Create OPA2VEC vectors for diseases on Disease Ontology\n",
    "<b>Author</b>: Ian Coleman <br/>\n",
    "<b>Function</b>: For all the diseases in CTD, embed them in the context of Disease Ontology"
   ]
  },
  {
   "cell_type": "code",
   "execution_count": 10,
   "metadata": {},
   "outputs": [],
   "source": [
    "# Libraries\n",
    "import pandas as pd\n",
    "import numpy as np\n",
    "import subprocess"
   ]
  },
  {
   "cell_type": "code",
   "execution_count": 19,
   "metadata": {},
   "outputs": [],
   "source": [
    "### 1. Import all diseases that I want to embed\n",
    "# I guess I might as well do all the diseases in CTD and have the file rather than create vectors each time\n",
    "# that I change which diseases I'm using\n",
    "diseases = pd.read_csv('../ctd-to-nt/all-diseases-w-genes-ctd.txt', names=['ID'])"
   ]
  },
  {
   "cell_type": "code",
   "execution_count": 20,
   "metadata": {},
   "outputs": [
    {
     "data": {
      "text/html": [
       "<div>\n",
       "<style scoped>\n",
       "    .dataframe tbody tr th:only-of-type {\n",
       "        vertical-align: middle;\n",
       "    }\n",
       "\n",
       "    .dataframe tbody tr th {\n",
       "        vertical-align: top;\n",
       "    }\n",
       "\n",
       "    .dataframe thead th {\n",
       "        text-align: right;\n",
       "    }\n",
       "</style>\n",
       "<table border=\"1\" class=\"dataframe\">\n",
       "  <thead>\n",
       "    <tr style=\"text-align: right;\">\n",
       "      <th></th>\n",
       "      <th>ID</th>\n",
       "    </tr>\n",
       "  </thead>\n",
       "  <tbody>\n",
       "    <tr>\n",
       "      <th>0</th>\n",
       "      <td>MESH:D003920</td>\n",
       "    </tr>\n",
       "    <tr>\n",
       "      <th>1</th>\n",
       "      <td>MESH:D003924</td>\n",
       "    </tr>\n",
       "    <tr>\n",
       "      <th>2</th>\n",
       "      <td>MESH:D008113</td>\n",
       "    </tr>\n",
       "    <tr>\n",
       "      <th>3</th>\n",
       "      <td>MESH:D009369</td>\n",
       "    </tr>\n",
       "    <tr>\n",
       "      <th>4</th>\n",
       "      <td>MESH:D009765</td>\n",
       "    </tr>\n",
       "  </tbody>\n",
       "</table>\n",
       "</div>"
      ],
      "text/plain": [
       "             ID\n",
       "0  MESH:D003920\n",
       "1  MESH:D003924\n",
       "2  MESH:D008113\n",
       "3  MESH:D009369\n",
       "4  MESH:D009765"
      ]
     },
     "execution_count": 20,
     "metadata": {},
     "output_type": "execute_result"
    }
   ],
   "source": [
    "diseases.head()"
   ]
  },
  {
   "cell_type": "code",
   "execution_count": 14,
   "metadata": {},
   "outputs": [],
   "source": [
    "### 2. Map Disease IDs to Disease Ontology IDs (DOIDs)\n",
    "mapper = pd.read_csv('entities.lst')"
   ]
  },
  {
   "cell_type": "code",
   "execution_count": 15,
   "metadata": {},
   "outputs": [
    {
     "data": {
      "text/html": [
       "<div>\n",
       "<style scoped>\n",
       "    .dataframe tbody tr th:only-of-type {\n",
       "        vertical-align: middle;\n",
       "    }\n",
       "\n",
       "    .dataframe tbody tr th {\n",
       "        vertical-align: top;\n",
       "    }\n",
       "\n",
       "    .dataframe thead th {\n",
       "        text-align: right;\n",
       "    }\n",
       "</style>\n",
       "<table border=\"1\" class=\"dataframe\">\n",
       "  <thead>\n",
       "    <tr style=\"text-align: right;\">\n",
       "      <th></th>\n",
       "      <th>ID</th>\n",
       "      <th>CID</th>\n",
       "      <th>DOID</th>\n",
       "    </tr>\n",
       "  </thead>\n",
       "  <tbody>\n",
       "    <tr>\n",
       "      <th>0</th>\n",
       "      <td>MESH:D012559</td>\n",
       "      <td>NaN</td>\n",
       "      <td>DOID:5419</td>\n",
       "    </tr>\n",
       "    <tr>\n",
       "      <th>1</th>\n",
       "      <td>MESH:D009404</td>\n",
       "      <td>NaN</td>\n",
       "      <td>DOID:2590</td>\n",
       "    </tr>\n",
       "    <tr>\n",
       "      <th>2</th>\n",
       "      <td>MESH:D001749</td>\n",
       "      <td>NaN</td>\n",
       "      <td>DOID:11054</td>\n",
       "    </tr>\n",
       "    <tr>\n",
       "      <th>3</th>\n",
       "      <td>MESH:D011471</td>\n",
       "      <td>NaN</td>\n",
       "      <td>DOID:10283</td>\n",
       "    </tr>\n",
       "    <tr>\n",
       "      <th>4</th>\n",
       "      <td>MESH:D008106</td>\n",
       "      <td>NaN</td>\n",
       "      <td>NaN</td>\n",
       "    </tr>\n",
       "  </tbody>\n",
       "</table>\n",
       "</div>"
      ],
      "text/plain": [
       "             ID  CID        DOID\n",
       "0  MESH:D012559  NaN   DOID:5419\n",
       "1  MESH:D009404  NaN   DOID:2590\n",
       "2  MESH:D001749  NaN  DOID:11054\n",
       "3  MESH:D011471  NaN  DOID:10283\n",
       "4  MESH:D008106  NaN         NaN"
      ]
     },
     "execution_count": 15,
     "metadata": {},
     "output_type": "execute_result"
    }
   ],
   "source": [
    "mapper.head()"
   ]
  },
  {
   "cell_type": "code",
   "execution_count": 16,
   "metadata": {},
   "outputs": [],
   "source": [
    "id_to_doid = dict(zip(mapper.ID, mapper.DOID))"
   ]
  },
  {
   "cell_type": "code",
   "execution_count": 21,
   "metadata": {},
   "outputs": [],
   "source": [
    "# Apply the mapping, thereby creating DOID\n",
    "diseases['DOID'] = diseases.ID\n",
    "diseases['DOID'] = diseases['DOID'].map(id_to_doid)"
   ]
  },
  {
   "cell_type": "code",
   "execution_count": 22,
   "metadata": {},
   "outputs": [
    {
     "data": {
      "text/html": [
       "<div>\n",
       "<style scoped>\n",
       "    .dataframe tbody tr th:only-of-type {\n",
       "        vertical-align: middle;\n",
       "    }\n",
       "\n",
       "    .dataframe tbody tr th {\n",
       "        vertical-align: top;\n",
       "    }\n",
       "\n",
       "    .dataframe thead th {\n",
       "        text-align: right;\n",
       "    }\n",
       "</style>\n",
       "<table border=\"1\" class=\"dataframe\">\n",
       "  <thead>\n",
       "    <tr style=\"text-align: right;\">\n",
       "      <th></th>\n",
       "      <th>ID</th>\n",
       "      <th>DOID</th>\n",
       "    </tr>\n",
       "  </thead>\n",
       "  <tbody>\n",
       "    <tr>\n",
       "      <th>0</th>\n",
       "      <td>MESH:D003920</td>\n",
       "      <td>DOID:9351</td>\n",
       "    </tr>\n",
       "    <tr>\n",
       "      <th>1</th>\n",
       "      <td>MESH:D003924</td>\n",
       "      <td>DOID:9352</td>\n",
       "    </tr>\n",
       "    <tr>\n",
       "      <th>2</th>\n",
       "      <td>MESH:D008113</td>\n",
       "      <td>DOID:916</td>\n",
       "    </tr>\n",
       "    <tr>\n",
       "      <th>3</th>\n",
       "      <td>MESH:D009369</td>\n",
       "      <td>DOID:162</td>\n",
       "    </tr>\n",
       "    <tr>\n",
       "      <th>4</th>\n",
       "      <td>MESH:D009765</td>\n",
       "      <td>DOID:9970</td>\n",
       "    </tr>\n",
       "  </tbody>\n",
       "</table>\n",
       "</div>"
      ],
      "text/plain": [
       "             ID       DOID\n",
       "0  MESH:D003920  DOID:9351\n",
       "1  MESH:D003924  DOID:9352\n",
       "2  MESH:D008113   DOID:916\n",
       "3  MESH:D009369   DOID:162\n",
       "4  MESH:D009765  DOID:9970"
      ]
     },
     "execution_count": 22,
     "metadata": {},
     "output_type": "execute_result"
    }
   ],
   "source": [
    "diseases.head()"
   ]
  },
  {
   "cell_type": "code",
   "execution_count": 23,
   "metadata": {},
   "outputs": [],
   "source": [
    "### 3. Create Associations file\n",
    "diseases['obo_url'] = '<' + 'http://purl.obolibrary.org/obo/' + diseases.DOID.str.replace(':', '_')  + '>'"
   ]
  },
  {
   "cell_type": "code",
   "execution_count": 24,
   "metadata": {},
   "outputs": [
    {
     "data": {
      "text/html": [
       "<div>\n",
       "<style scoped>\n",
       "    .dataframe tbody tr th:only-of-type {\n",
       "        vertical-align: middle;\n",
       "    }\n",
       "\n",
       "    .dataframe tbody tr th {\n",
       "        vertical-align: top;\n",
       "    }\n",
       "\n",
       "    .dataframe thead th {\n",
       "        text-align: right;\n",
       "    }\n",
       "</style>\n",
       "<table border=\"1\" class=\"dataframe\">\n",
       "  <thead>\n",
       "    <tr style=\"text-align: right;\">\n",
       "      <th></th>\n",
       "      <th>ID</th>\n",
       "      <th>DOID</th>\n",
       "      <th>obo_url</th>\n",
       "    </tr>\n",
       "  </thead>\n",
       "  <tbody>\n",
       "    <tr>\n",
       "      <th>0</th>\n",
       "      <td>MESH:D003920</td>\n",
       "      <td>DOID:9351</td>\n",
       "      <td>&lt;http://purl.obolibrary.org/obo/DOID_9351&gt;</td>\n",
       "    </tr>\n",
       "    <tr>\n",
       "      <th>1</th>\n",
       "      <td>MESH:D003924</td>\n",
       "      <td>DOID:9352</td>\n",
       "      <td>&lt;http://purl.obolibrary.org/obo/DOID_9352&gt;</td>\n",
       "    </tr>\n",
       "    <tr>\n",
       "      <th>2</th>\n",
       "      <td>MESH:D008113</td>\n",
       "      <td>DOID:916</td>\n",
       "      <td>&lt;http://purl.obolibrary.org/obo/DOID_916&gt;</td>\n",
       "    </tr>\n",
       "    <tr>\n",
       "      <th>3</th>\n",
       "      <td>MESH:D009369</td>\n",
       "      <td>DOID:162</td>\n",
       "      <td>&lt;http://purl.obolibrary.org/obo/DOID_162&gt;</td>\n",
       "    </tr>\n",
       "    <tr>\n",
       "      <th>4</th>\n",
       "      <td>MESH:D009765</td>\n",
       "      <td>DOID:9970</td>\n",
       "      <td>&lt;http://purl.obolibrary.org/obo/DOID_9970&gt;</td>\n",
       "    </tr>\n",
       "  </tbody>\n",
       "</table>\n",
       "</div>"
      ],
      "text/plain": [
       "             ID       DOID                                     obo_url\n",
       "0  MESH:D003920  DOID:9351  <http://purl.obolibrary.org/obo/DOID_9351>\n",
       "1  MESH:D003924  DOID:9352  <http://purl.obolibrary.org/obo/DOID_9352>\n",
       "2  MESH:D008113   DOID:916   <http://purl.obolibrary.org/obo/DOID_916>\n",
       "3  MESH:D009369   DOID:162   <http://purl.obolibrary.org/obo/DOID_162>\n",
       "4  MESH:D009765  DOID:9970  <http://purl.obolibrary.org/obo/DOID_9970>"
      ]
     },
     "execution_count": 24,
     "metadata": {},
     "output_type": "execute_result"
    }
   ],
   "source": [
    "diseases.head()"
   ]
  },
  {
   "cell_type": "code",
   "execution_count": 28,
   "metadata": {},
   "outputs": [],
   "source": [
    "# Output an association file \n",
    "np.savetxt(r'associations_doid.txt', diseases[['ID','obo_url']].values, fmt='%s')\n",
    "\n",
    "# And entities file\n",
    "np.savetxt(r'entities_doid.lst', diseases.ID.unique(), fmt='%s')"
   ]
  },
  {
   "cell_type": "code",
   "execution_count": 29,
   "metadata": {},
   "outputs": [],
   "source": [
    "### 4. Run Opa2Vec"
   ]
  },
  {
   "cell_type": "code",
   "execution_count": 30,
   "metadata": {},
   "outputs": [
    {
     "data": {
      "text/plain": [
       "b'Loading of Axioms ...\\nLoading ...\\n    1%\\n    2%\\n    3%\\n    5%\\n    7%\\n    10%\\n    13%\\n    17%\\n    19%\\n    23%\\n    26%\\n    30%\\n    35%\\n    41%\\n    46%\\n    51%\\n    57%\\n    63%\\n    70%\\n    76%\\n    82%\\n    90%\\n    95%\\n    ... finished\\n    ... finished\\nProperty Saturation Initialization ...\\n    ... finished\\nReflexive Property Computation ...\\n    ... finished\\nObject Property Hierarchy and Composition Computation ...\\n    ... finished\\nContext Initialization ...\\n    ... finished\\nConsistency Checking ...\\n    100%\\n    ... finished\\nClass Taxonomy Computation ...\\n    16%\\n    50%\\n    93%\\n    ... finished\\n***********OPA2Vec Running ...***********\\n\\n***********Ontology Processing ...***********\\n\\n***********Ontology Processing Complete ...***********\\n\\n***********Metadata Extraction ...***********\\n\\n***********Metadata Extraction Complete ...***********\\n\\n***********Propagate Associations through hierarchy ...***********\\n\\n***********Association propagation Complete ...***********\\n***********Corpus Creation ...***********\\n\\n***********Corpus Creation Complete ...***********\\n\\n***********Running Word2Vec ...*********** \\n\\n***********Vector representations available at AllVectorResults.lst ***********\\n\\n***********OPA2Vec Complete ...***********\\n\\n'"
      ]
     },
     "execution_count": 30,
     "metadata": {},
     "output_type": "execute_result"
    }
   ],
   "source": [
    "# Ok let's actually run it \n",
    "subprocess.check_output('(cd ../../opa2vec/ ; python2 runOPA2Vec.py -ontology ../ontologies/humanDO.obo -associations ../msc-thesis/opa/associations_doid.txt -entities ../msc-thesis/opa/entities_doid.lst -outfile ../msc-thesis/opa/do-vecs.lst)', shell=True)"
   ]
  },
  {
   "cell_type": "code",
   "execution_count": null,
   "metadata": {},
   "outputs": [],
   "source": []
  }
 ],
 "metadata": {
  "kernelspec": {
   "display_name": "Python 3",
   "language": "python",
   "name": "python3"
  },
  "language_info": {
   "codemirror_mode": {
    "name": "ipython",
    "version": 3
   },
   "file_extension": ".py",
   "mimetype": "text/x-python",
   "name": "python",
   "nbconvert_exporter": "python",
   "pygments_lexer": "ipython3",
   "version": "3.6.5"
  }
 },
 "nbformat": 4,
 "nbformat_minor": 2
}
