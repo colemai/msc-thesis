{
 "cells": [
  {
   "cell_type": "markdown",
   "metadata": {},
   "source": [
    "# Notebook: Create OPA2VEC vectors for proteins on Protein Ontology\n",
    "<b>Author</b>: Ian Coleman <br/>\n",
    "<b>Function</b>: For all the chems/diseases in CTD, embed them in the context of Protein Ontology on associated genes"
   ]
  },
  {
   "cell_type": "code",
   "execution_count": 2,
   "metadata": {},
   "outputs": [],
   "source": [
    "import pandas as pd\n",
    "import numpy as np\n",
    "import scipy as sp\n",
    "import subprocess\n",
    "import math\n",
    "import re"
   ]
  },
  {
   "cell_type": "code",
   "execution_count": 3,
   "metadata": {},
   "outputs": [],
   "source": [
    "# Find out what format Protein ontology accepts"
   ]
  },
  {
   "cell_type": "code",
   "execution_count": null,
   "metadata": {},
   "outputs": [],
   "source": []
  },
  {
   "cell_type": "code",
   "execution_count": 4,
   "metadata": {},
   "outputs": [
    {
     "name": "stdout",
     "output_type": "stream",
     "text": [
      "chem shape (47611, 3)\n",
      "dis shape (14945, 3)\n"
     ]
    }
   ],
   "source": [
    "# Import association files gene/chem-protein positive associations\n",
    "chem_g_uni = pd.read_csv('CHEM_GENE_UNIPROT.csv')\n",
    "dis_g_uni = pd.read_csv('DIS_GENE_UNIPROT.csv')\n",
    "dis_g_uni = dis_g_uni.dropna()\n",
    "chem_g_uni = chem_g_uni.dropna()\n",
    "print('chem shape', chem_g_uni.shape)\n",
    "print('dis shape', dis_g_uni.shape)"
   ]
  },
  {
   "cell_type": "code",
   "execution_count": 5,
   "metadata": {},
   "outputs": [
    {
     "data": {
      "text/html": [
       "<div>\n",
       "<style scoped>\n",
       "    .dataframe tbody tr th:only-of-type {\n",
       "        vertical-align: middle;\n",
       "    }\n",
       "\n",
       "    .dataframe tbody tr th {\n",
       "        vertical-align: top;\n",
       "    }\n",
       "\n",
       "    .dataframe thead th {\n",
       "        text-align: right;\n",
       "    }\n",
       "</style>\n",
       "<table border=\"1\" class=\"dataframe\">\n",
       "  <thead>\n",
       "    <tr style=\"text-align: right;\">\n",
       "      <th></th>\n",
       "      <th>GeneID</th>\n",
       "      <th>UniprotID</th>\n",
       "      <th>ChemicalID</th>\n",
       "    </tr>\n",
       "  </thead>\n",
       "  <tbody>\n",
       "    <tr>\n",
       "      <th>14508</th>\n",
       "      <td>10293</td>\n",
       "      <td>Q9BWF2</td>\n",
       "      <td>D005492</td>\n",
       "    </tr>\n",
       "    <tr>\n",
       "      <th>33856</th>\n",
       "      <td>56063</td>\n",
       "      <td>B4DHR3</td>\n",
       "      <td>D002945</td>\n",
       "    </tr>\n",
       "  </tbody>\n",
       "</table>\n",
       "</div>"
      ],
      "text/plain": [
       "       GeneID UniprotID ChemicalID\n",
       "14508   10293    Q9BWF2    D005492\n",
       "33856   56063    B4DHR3    D002945"
      ]
     },
     "execution_count": 5,
     "metadata": {},
     "output_type": "execute_result"
    }
   ],
   "source": [
    "chem_g_uni.sample(2)"
   ]
  },
  {
   "cell_type": "code",
   "execution_count": 6,
   "metadata": {},
   "outputs": [
    {
     "data": {
      "text/html": [
       "<div>\n",
       "<style scoped>\n",
       "    .dataframe tbody tr th:only-of-type {\n",
       "        vertical-align: middle;\n",
       "    }\n",
       "\n",
       "    .dataframe tbody tr th {\n",
       "        vertical-align: top;\n",
       "    }\n",
       "\n",
       "    .dataframe thead th {\n",
       "        text-align: right;\n",
       "    }\n",
       "</style>\n",
       "<table border=\"1\" class=\"dataframe\">\n",
       "  <thead>\n",
       "    <tr style=\"text-align: right;\">\n",
       "      <th></th>\n",
       "      <th>GeneID</th>\n",
       "      <th>UniprotID</th>\n",
       "      <th>DiseaseID</th>\n",
       "    </tr>\n",
       "  </thead>\n",
       "  <tbody>\n",
       "    <tr>\n",
       "      <th>15266</th>\n",
       "      <td>10801</td>\n",
       "      <td>Q9UHD8</td>\n",
       "      <td>MESH:D009361</td>\n",
       "    </tr>\n",
       "    <tr>\n",
       "      <th>30301</th>\n",
       "      <td>51300</td>\n",
       "      <td>Q9NPL8</td>\n",
       "      <td>MESH:C537475</td>\n",
       "    </tr>\n",
       "  </tbody>\n",
       "</table>\n",
       "</div>"
      ],
      "text/plain": [
       "       GeneID UniprotID     DiseaseID\n",
       "15266   10801    Q9UHD8  MESH:D009361\n",
       "30301   51300    Q9NPL8  MESH:C537475"
      ]
     },
     "execution_count": 6,
     "metadata": {},
     "output_type": "execute_result"
    }
   ],
   "source": [
    "dis_g_uni.sample(2)"
   ]
  },
  {
   "cell_type": "code",
   "execution_count": 7,
   "metadata": {},
   "outputs": [],
   "source": [
    "# http://purl.obolibrary.org/obo/PR_E9PDJ7E9PDJ7"
   ]
  },
  {
   "cell_type": "code",
   "execution_count": 8,
   "metadata": {},
   "outputs": [],
   "source": [
    "# map the uri into the dfs\n",
    "chem_g_uni['UniprotID'] = chem_g_uni.UniprotID.map(lambda x: 'http://purl.obolibrary.org/obo/PR_' + x)\n",
    "dis_g_uni['UniprotID'] = dis_g_uni.UniprotID.map(lambda x: 'http://purl.obolibrary.org/obo/PR_' + x)"
   ]
  },
  {
   "cell_type": "code",
   "execution_count": 9,
   "metadata": {},
   "outputs": [
    {
     "data": {
      "text/plain": [
       "0"
      ]
     },
     "execution_count": 9,
     "metadata": {},
     "output_type": "execute_result"
    }
   ],
   "source": [
    "# Create associations files\n",
    "# Output an association file for each of chem and dis\n",
    "np.savetxt(r'associations_disPRO.txt', dis_g_uni[['DiseaseID', 'UniprotID']].values, fmt='%s')\n",
    "np.savetxt(r'associations_chemPRO.txt', chem_g_uni[['ChemicalID', 'UniprotID']].values, fmt='%s')\n",
    "\n",
    "# Merge the two\n",
    "subprocess.call('cat associations_disPRO.txt > PROAssociations', shell=True)\n",
    "subprocess.call('cat associations_chemPRO.txt >> PROAssociations', shell=True)"
   ]
  },
  {
   "cell_type": "code",
   "execution_count": null,
   "metadata": {},
   "outputs": [],
   "source": []
  },
  {
   "cell_type": "code",
   "execution_count": 10,
   "metadata": {},
   "outputs": [],
   "source": [
    "# Make entities file\n",
    "entities = dis_g_uni.DiseaseID.unique().tolist() + chem_g_uni.ChemicalID.unique().tolist()\n",
    "np.savetxt(r'PROentities.lst', entities, fmt='%s')"
   ]
  },
  {
   "cell_type": "code",
   "execution_count": 11,
   "metadata": {},
   "outputs": [
    {
     "data": {
      "text/plain": [
       "0"
      ]
     },
     "execution_count": 11,
     "metadata": {},
     "output_type": "execute_result"
    }
   ],
   "source": [
    "# Add HINO\n",
    "subprocess.call('cat ../validation/VMHhinoAssociations >> PROAssociations', shell=True)\n",
    "subprocess.call('cat ../validation/VMHHINOentities.lst >> PROentities.lst', shell=True)"
   ]
  },
  {
   "cell_type": "code",
   "execution_count": 12,
   "metadata": {},
   "outputs": [
    {
     "data": {
      "text/plain": [
       "b'Loading of Axioms ...\\nLoading ...\\n    1%\\n    2%\\n    3%\\n    4%\\n    5%\\n    6%\\n    7%\\n    8%\\n    9%\\n    10%\\n    11%\\n    12%\\n    13%\\n    14%\\n    15%\\n    16%\\n    17%\\n    18%\\n    19%\\n    20%\\n    21%\\n    22%\\n    23%\\n    24%\\n    25%\\n    26%\\n    27%\\n    28%\\n    29%\\n    30%\\n    31%\\n    32%\\n    33%\\n    34%\\n    35%\\n    36%\\n    37%\\n    38%\\n    39%\\n    40%\\n    41%\\n    42%\\n    43%\\n    44%\\n    45%\\n    46%\\n    47%\\n    48%\\n    49%\\n    50%\\n    51%\\n    52%\\n    53%\\n    54%\\n    55%\\n    56%\\n    57%\\n    58%\\n    59%\\n    60%\\n    61%\\n    62%\\n    63%\\n    64%\\n    65%\\n    66%\\n    67%\\n    68%\\n    69%\\n    70%\\n    71%\\n    72%\\n    73%\\n    74%\\n    75%\\n    76%\\n    77%\\n    78%\\n    79%\\n    80%\\n    81%\\n    82%\\n    83%\\n    84%\\n    85%\\n    86%\\n    87%\\n    88%\\n    89%\\n    90%\\n    91%\\n    92%\\n    93%\\n    94%\\n    95%\\n    96%\\n    97%\\n    98%\\n    99%\\n    ... finished\\n    ... finished\\nProperty Saturation Initialization ...\\n    ... finished\\nReflexive Property Computation ...\\n    ... finished\\nObject Property Hierarchy and Composition Computation ...\\n    ... finished\\nContext Initialization ...\\n    ... finished\\nConsistency Checking ...\\n    100%\\n    ... finished\\nClass Taxonomy Computation ...\\n    1%\\n    4%\\n    7%\\n    10%\\n    11%\\n    12%\\n    13%\\n    14%\\n    15%\\n    16%\\n    17%\\n    18%\\n    19%\\n    20%\\n    21%\\n    22%\\n    23%\\n    24%\\n    25%\\n    26%\\n    27%\\n    28%\\n    29%\\n    30%\\n    31%\\n    32%\\n    33%\\n    34%\\n    35%\\n    36%\\n    37%\\n    38%\\n    39%\\n    40%\\n    41%\\n    42%\\n    43%\\n    44%\\n    45%\\n    46%\\n    47%\\n    48%\\n    49%\\n    50%\\n    51%\\n    52%\\n    53%\\n    54%\\n    55%\\n    56%\\n    57%\\n    58%\\n    59%\\n    60%\\n    61%\\n    62%\\n    63%\\n    64%\\n    65%\\n    66%\\n    67%\\n    68%\\n    69%\\n    70%\\n    71%\\n    72%\\n    73%\\n    74%\\n    75%\\n    76%\\n    77%\\n    78%\\n    79%\\n    80%\\n    81%\\n    82%\\n    83%\\n    84%\\n    85%\\n    86%\\n    87%\\n    88%\\n    89%\\n    90%\\n    91%\\n    92%\\n    93%\\n    94%\\n    95%\\n    96%\\n    97%\\n    98%\\n    99%\\n    ... finished\\n***********OPA2Vec Running ...***********\\n\\n***********Ontology Processing ...***********\\n\\n***********Ontology Processing Complete ...***********\\n\\n***********Metadata Extraction ...***********\\n\\n***********Metadata Extraction Complete ...***********\\n\\n***********Propagate Associations through hierarchy ...***********\\n\\n***********Association propagation Complete ...***********\\n***********Corpus Creation ...***********\\n\\n***********Corpus Creation Complete ...***********\\n\\n***********Running Word2Vec ...*********** \\n\\n***********Vector representations available at AllVectorResults.lst ***********\\n\\n***********OPA2Vec Complete ...***********\\n\\n'"
      ]
     },
     "execution_count": 12,
     "metadata": {},
     "output_type": "execute_result"
    }
   ],
   "source": [
    "# Ok let's actually run it \n",
    "subprocess.check_output('(cd ../../opa2vec/ ; python2 runOPA2Vec.py -ontology ../ontologies/pro_nonreasoned.owl -associations ../msc-thesis/opa/PROAssociations -entities ../msc-thesis/opa/PROentities.lst -outfile ../msc-thesis/opa/PROVecs.lst)', shell=True)"
   ]
  },
  {
   "cell_type": "code",
   "execution_count": null,
   "metadata": {},
   "outputs": [],
   "source": []
  }
 ],
 "metadata": {
  "kernelspec": {
   "display_name": "Python 3",
   "language": "python",
   "name": "python3"
  },
  "language_info": {
   "codemirror_mode": {
    "name": "ipython",
    "version": 3
   },
   "file_extension": ".py",
   "mimetype": "text/x-python",
   "name": "python",
   "nbconvert_exporter": "python",
   "pygments_lexer": "ipython3",
   "version": "3.6.5"
  }
 },
 "nbformat": 4,
 "nbformat_minor": 2
}
