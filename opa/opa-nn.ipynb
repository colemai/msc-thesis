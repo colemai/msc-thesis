{
 "cells": [
  {
   "cell_type": "markdown",
   "metadata": {},
   "source": [
    "# Notebook: Use NN to predict disease from chemicals using Opa2Vec vectors\n",
    "<b> Author: </b> Ian Coleman <br>\n",
    "<b> Purpose: </b> Take the vectors created in the opa2vec notebook. This took chemical go functions\n",
    "    and disease go function, creating vectors for the chemicals. Train a NN to predict diseases from these chemical\n",
    "    vectors"
   ]
  },
  {
   "cell_type": "code",
   "execution_count": 195,
   "metadata": {},
   "outputs": [],
   "source": [
    "import tensorflow as tf\n",
    "from tensorflow import keras\n",
    "import numpy as np\n",
    "import matplotlib.pyplot as plt\n",
    "import pandas as pd"
   ]
  },
  {
   "cell_type": "markdown",
   "metadata": {},
   "source": [
    "### 1. Import Chem Vectors and Pre-Process them"
   ]
  },
  {
   "cell_type": "code",
   "execution_count": 196,
   "metadata": {},
   "outputs": [],
   "source": [
    "# TODO needs to be adapted to account for the fact that AllVectorResults.lst will now contain not only chemical\n",
    "# vectors but also disease ones. The IDs are very similar but looks like maybe disease IDs are always len 8\n",
    "# and chemical ones never are... verify"
   ]
  },
  {
   "cell_type": "code",
   "execution_count": null,
   "metadata": {},
   "outputs": [],
   "source": []
  },
  {
   "cell_type": "code",
   "execution_count": 197,
   "metadata": {},
   "outputs": [],
   "source": [
    "# Import vec file\n",
    "with open('data/AllVectorResults.lst', 'r') as file:\n",
    "    text = file.read()"
   ]
  },
  {
   "cell_type": "code",
   "execution_count": 186,
   "metadata": {},
   "outputs": [],
   "source": [
    "# Strip and split it into list of lists [chem, vec]\n",
    "text = text.replace('\\n', '')\n",
    "text = text.split(']')\n",
    "text = [item.strip().split(' [') for item in text]"
   ]
  },
  {
   "cell_type": "code",
   "execution_count": 187,
   "metadata": {},
   "outputs": [],
   "source": [
    "# Turn it into a data frame\n",
    "df = pd.DataFrame(text)\n",
    "df.columns = ['ChemicalID', 'ChemicalVector']\n",
    "# df.head()"
   ]
  },
  {
   "cell_type": "code",
   "execution_count": 188,
   "metadata": {},
   "outputs": [],
   "source": [
    "# Clean\n",
    "df = df.dropna()\n",
    "df['ChemicalVector'] = df.ChemicalVector.map(lambda x: x.rstrip().lstrip().replace('    ', ' ').replace('   ', ' ').replace('  ', ' ').replace(' ', ','))"
   ]
  },
  {
   "cell_type": "code",
   "execution_count": 189,
   "metadata": {},
   "outputs": [
    {
     "data": {
      "text/html": [
       "<div>\n",
       "<style scoped>\n",
       "    .dataframe tbody tr th:only-of-type {\n",
       "        vertical-align: middle;\n",
       "    }\n",
       "\n",
       "    .dataframe tbody tr th {\n",
       "        vertical-align: top;\n",
       "    }\n",
       "\n",
       "    .dataframe thead th {\n",
       "        text-align: right;\n",
       "    }\n",
       "</style>\n",
       "<table border=\"1\" class=\"dataframe\">\n",
       "  <thead>\n",
       "    <tr style=\"text-align: right;\">\n",
       "      <th></th>\n",
       "      <th>ChemicalID</th>\n",
       "      <th>ChemicalVector</th>\n",
       "    </tr>\n",
       "  </thead>\n",
       "  <tbody>\n",
       "    <tr>\n",
       "      <th>0</th>\n",
       "      <td>D015032</td>\n",
       "      <td>[-0.01185622, -0.31878912, -0.89908963, 0.0717...</td>\n",
       "    </tr>\n",
       "    <tr>\n",
       "      <th>1</th>\n",
       "      <td>C085514</td>\n",
       "      <td>[0.0223429, 0.1116555, 0.02859181, -0.1335976,...</td>\n",
       "    </tr>\n",
       "    <tr>\n",
       "      <th>2</th>\n",
       "      <td>C104536</td>\n",
       "      <td>[4.91102971e-02, 1.35097533e-01, -2.54380330e-...</td>\n",
       "    </tr>\n",
       "    <tr>\n",
       "      <th>3</th>\n",
       "      <td>C088658</td>\n",
       "      <td>[-1.5123323e-02, -3.2596567e-01, -1.0544300e+0...</td>\n",
       "    </tr>\n",
       "    <tr>\n",
       "      <th>4</th>\n",
       "      <td>D014635</td>\n",
       "      <td>[-6.37703110e-03, -4.31791008e-01, -1.22665536...</td>\n",
       "    </tr>\n",
       "  </tbody>\n",
       "</table>\n",
       "</div>"
      ],
      "text/plain": [
       "  ChemicalID                                     ChemicalVector\n",
       "0    D015032  [-0.01185622, -0.31878912, -0.89908963, 0.0717...\n",
       "1    C085514  [0.0223429, 0.1116555, 0.02859181, -0.1335976,...\n",
       "2    C104536  [4.91102971e-02, 1.35097533e-01, -2.54380330e-...\n",
       "3    C088658  [-1.5123323e-02, -3.2596567e-01, -1.0544300e+0...\n",
       "4    D014635  [-6.37703110e-03, -4.31791008e-01, -1.22665536..."
      ]
     },
     "execution_count": 189,
     "metadata": {},
     "output_type": "execute_result"
    }
   ],
   "source": [
    "# Turn vector column into a list\n",
    "df['ChemicalVector'] = df.ChemicalVector.map(lambda x: x.split(','))\n",
    "df.head()\n",
    "\n",
    "# df = df['Vector'].str.split(',', expand=True)\n",
    "# df = df.join(vec_split, lsuffix='_df', rsuffix='_vec_split')\n",
    "# df['chemVec'] = np.nan\n",
    "# for index in range(df.shape[0]):\n",
    "#     df['chemVec'][index] = df.iloc[index, 2:].tolist()"
   ]
  },
  {
   "cell_type": "code",
   "execution_count": 190,
   "metadata": {},
   "outputs": [],
   "source": [
    "# df.loc[:,0].head()\n",
    "# BCE binary classification --> The loss function recommended by Jun\n",
    "# sigmoid output"
   ]
  },
  {
   "cell_type": "code",
   "execution_count": 191,
   "metadata": {},
   "outputs": [
    {
     "data": {
      "text/html": [
       "<div>\n",
       "<style scoped>\n",
       "    .dataframe tbody tr th:only-of-type {\n",
       "        vertical-align: middle;\n",
       "    }\n",
       "\n",
       "    .dataframe tbody tr th {\n",
       "        vertical-align: top;\n",
       "    }\n",
       "\n",
       "    .dataframe thead th {\n",
       "        text-align: right;\n",
       "    }\n",
       "</style>\n",
       "<table border=\"1\" class=\"dataframe\">\n",
       "  <thead>\n",
       "    <tr style=\"text-align: right;\">\n",
       "      <th></th>\n",
       "      <th>ChemicalID</th>\n",
       "      <th>ChemicalVector</th>\n",
       "    </tr>\n",
       "  </thead>\n",
       "  <tbody>\n",
       "    <tr>\n",
       "      <th>0</th>\n",
       "      <td>D015032</td>\n",
       "      <td>[-0.01185622, -0.31878912, -0.89908963, 0.0717...</td>\n",
       "    </tr>\n",
       "    <tr>\n",
       "      <th>1</th>\n",
       "      <td>C085514</td>\n",
       "      <td>[0.0223429, 0.1116555, 0.02859181, -0.1335976,...</td>\n",
       "    </tr>\n",
       "    <tr>\n",
       "      <th>2</th>\n",
       "      <td>C104536</td>\n",
       "      <td>[4.91102971e-02, 1.35097533e-01, -2.54380330e-...</td>\n",
       "    </tr>\n",
       "    <tr>\n",
       "      <th>3</th>\n",
       "      <td>C088658</td>\n",
       "      <td>[-1.5123323e-02, -3.2596567e-01, -1.0544300e+0...</td>\n",
       "    </tr>\n",
       "    <tr>\n",
       "      <th>4</th>\n",
       "      <td>D014635</td>\n",
       "      <td>[-6.37703110e-03, -4.31791008e-01, -1.22665536...</td>\n",
       "    </tr>\n",
       "  </tbody>\n",
       "</table>\n",
       "</div>"
      ],
      "text/plain": [
       "  ChemicalID                                     ChemicalVector\n",
       "0    D015032  [-0.01185622, -0.31878912, -0.89908963, 0.0717...\n",
       "1    C085514  [0.0223429, 0.1116555, 0.02859181, -0.1335976,...\n",
       "2    C104536  [4.91102971e-02, 1.35097533e-01, -2.54380330e-...\n",
       "3    C088658  [-1.5123323e-02, -3.2596567e-01, -1.0544300e+0...\n",
       "4    D014635  [-6.37703110e-03, -4.31791008e-01, -1.22665536..."
      ]
     },
     "execution_count": 191,
     "metadata": {},
     "output_type": "execute_result"
    }
   ],
   "source": [
    "# Now we have \n",
    "df.head()"
   ]
  },
  {
   "cell_type": "code",
   "execution_count": 126,
   "metadata": {},
   "outputs": [
    {
     "data": {
      "text/plain": [
       "0    [-0.01185622, -0.31878912, -0.89908963, 0.0717...\n",
       "1    [0.0223429, 0.1116555, 0.02859181, -0.1335976,...\n",
       "2    [4.91102971e-02, 1.35097533e-01, -2.54380330e-...\n",
       "3    [-1.5123323e-02, -3.2596567e-01, -1.0544300e+0...\n",
       "4    [-6.37703110e-03, -4.31791008e-01, -1.22665536...\n",
       "Name: chemVec, dtype: object"
      ]
     },
     "execution_count": 126,
     "metadata": {},
     "output_type": "execute_result"
    }
   ],
   "source": []
  },
  {
   "cell_type": "markdown",
   "metadata": {},
   "source": [
    "### 2. Add Diseases to DF\n",
    "Binary encode presence of positive association between each disease and each chem"
   ]
  },
  {
   "cell_type": "code",
   "execution_count": null,
   "metadata": {},
   "outputs": [],
   "source": [
    "# # Import disease list (created in opa2vec notebook that created vectors)\n",
    "# diseases = pd.read_csv('diseases.lst', header=None, skiprows=1) # Skipping first row as will be nan\n",
    "# diseases.shape # 1264 diseases..."
   ]
  },
  {
   "cell_type": "code",
   "execution_count": null,
   "metadata": {},
   "outputs": [],
   "source": [
    "# df.head()"
   ]
  },
  {
   "cell_type": "code",
   "execution_count": null,
   "metadata": {},
   "outputs": [],
   "source": [
    "# diseases.head()"
   ]
  },
  {
   "cell_type": "code",
   "execution_count": 192,
   "metadata": {},
   "outputs": [
    {
     "data": {
      "text/html": [
       "<div>\n",
       "<style scoped>\n",
       "    .dataframe tbody tr th:only-of-type {\n",
       "        vertical-align: middle;\n",
       "    }\n",
       "\n",
       "    .dataframe tbody tr th {\n",
       "        vertical-align: top;\n",
       "    }\n",
       "\n",
       "    .dataframe thead th {\n",
       "        text-align: right;\n",
       "    }\n",
       "</style>\n",
       "<table border=\"1\" class=\"dataframe\">\n",
       "  <thead>\n",
       "    <tr style=\"text-align: right;\">\n",
       "      <th></th>\n",
       "      <th>ChemicalID</th>\n",
       "      <th>DiseaseID</th>\n",
       "    </tr>\n",
       "  </thead>\n",
       "  <tbody>\n",
       "    <tr>\n",
       "      <th>0</th>\n",
       "      <td>C112297</td>\n",
       "      <td>MESH:D006948</td>\n",
       "    </tr>\n",
       "    <tr>\n",
       "      <th>1</th>\n",
       "      <td>C112297</td>\n",
       "      <td>MESH:D012640</td>\n",
       "    </tr>\n",
       "    <tr>\n",
       "      <th>2</th>\n",
       "      <td>C425777</td>\n",
       "      <td>MESH:D006948</td>\n",
       "    </tr>\n",
       "    <tr>\n",
       "      <th>3</th>\n",
       "      <td>C013567</td>\n",
       "      <td>MESH:D006333</td>\n",
       "    </tr>\n",
       "    <tr>\n",
       "      <th>4</th>\n",
       "      <td>C418863</td>\n",
       "      <td>MESH:D013262</td>\n",
       "    </tr>\n",
       "  </tbody>\n",
       "</table>\n",
       "</div>"
      ],
      "text/plain": [
       "  ChemicalID     DiseaseID\n",
       "0    C112297  MESH:D006948\n",
       "1    C112297  MESH:D012640\n",
       "2    C425777  MESH:D006948\n",
       "3    C013567  MESH:D006333\n",
       "4    C418863  MESH:D013262"
      ]
     },
     "execution_count": 192,
     "metadata": {},
     "output_type": "execute_result"
    }
   ],
   "source": [
    "# Import directly evidenced chemical-disease positive relationships from CTD\n",
    "chem_dis = pd.read_csv('../ctd-to-nt/chem-dis-pos-assocs.csv')\n",
    "chem_dis.head()"
   ]
  },
  {
   "cell_type": "code",
   "execution_count": null,
   "metadata": {},
   "outputs": [],
   "source": [
    "df.head()"
   ]
  },
  {
   "cell_type": "code",
   "execution_count": null,
   "metadata": {},
   "outputs": [],
   "source": [
    "## Get rid of rows from chem_dis that have chems that aren't in df\n",
    "print(chem_dis.shape)\n",
    "chemsers = df.ChemicalID.unique()\n",
    "bools = chem_dis.ChemicalID.map(lambda x: x in chemsers)\n",
    "chem_dis = chem_dis[bools]\n",
    "chem_dis.shape"
   ]
  },
  {
   "cell_type": "code",
   "execution_count": null,
   "metadata": {},
   "outputs": [],
   "source": [
    "print('Number chems: ', len(chem_dis.ChemicalID.unique()))\n",
    "print('Number diseases: ', len(chem_dis.DiseaseID.unique()))"
   ]
  },
  {
   "cell_type": "code",
   "execution_count": null,
   "metadata": {},
   "outputs": [],
   "source": [
    "# Create column for each disease, nan columns\n",
    "for name in chem_dis.DiseaseID.unique():\n",
    "    df[name] = np.nan"
   ]
  },
  {
   "cell_type": "code",
   "execution_count": null,
   "metadata": {},
   "outputs": [],
   "source": [
    "df.head()"
   ]
  },
  {
   "cell_type": "code",
   "execution_count": null,
   "metadata": {},
   "outputs": [],
   "source": [
    "# For each chem-disease relationship set cell to one, if no relationship then set to 0\n",
    "def check_assoc(row):\n",
    "    for index, r in chem_dis[chem_dis.ChemicalID == row.ChemicalID].head().iterrows():\n",
    "#         row[r.DiseaseID] = 1\n",
    "        print(r.DiseaseID)\n",
    "        df.loc[index, r.DiseaseID] = 1\n",
    "    \n",
    "    \n",
    "# convert np.nan to 0 for col in df\n"
   ]
  },
  {
   "cell_type": "code",
   "execution_count": null,
   "metadata": {},
   "outputs": [],
   "source": [
    "chem_dis.head()"
   ]
  },
  {
   "cell_type": "code",
   "execution_count": null,
   "metadata": {},
   "outputs": [],
   "source": [
    "df.apply(check_assoc, axis=1)"
   ]
  },
  {
   "cell_type": "code",
   "execution_count": null,
   "metadata": {},
   "outputs": [],
   "source": [
    "df.head() \n",
    "df[\"MESH:D048629\"].unique()"
   ]
  },
  {
   "cell_type": "code",
   "execution_count": null,
   "metadata": {},
   "outputs": [],
   "source": [
    "df.shape"
   ]
  }
 ],
 "metadata": {
  "kernelspec": {
   "display_name": "Python 3",
   "language": "python",
   "name": "python3"
  },
  "language_info": {
   "codemirror_mode": {
    "name": "ipython",
    "version": 3
   },
   "file_extension": ".py",
   "mimetype": "text/x-python",
   "name": "python",
   "nbconvert_exporter": "python",
   "pygments_lexer": "ipython3",
   "version": "3.6.5"
  }
 },
 "nbformat": 4,
 "nbformat_minor": 2
}
