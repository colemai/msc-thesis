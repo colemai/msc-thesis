{
 "cells": [
  {
   "cell_type": "markdown",
   "metadata": {},
   "source": [
    "# Notebook: Use NN to predict disease from chemicals using Opa2Vec vectors\n",
    "<b> Author: </b> Ian Coleman <br>\n",
    "<b> Purpose: </b> Take the vectors created in the opa2vec notebook. This took chemical go functions\n",
    "    and disease go function, creating vectors for each. Train a NN to predict positive chem-dis relationships from these vectors"
   ]
  },
  {
   "cell_type": "code",
   "execution_count": 384,
   "metadata": {},
   "outputs": [],
   "source": [
    "## TODO\n",
    "# Hyperparameter tuning:\n",
    "# 1. How many uncorrelated pairs do we want\n",
    "# 2. Epochs\n",
    "# 3. Batch size\n",
    "# 4. Number of layers, number of nodes per layer\n",
    "# 5. Activation functions"
   ]
  },
  {
   "cell_type": "code",
   "execution_count": 385,
   "metadata": {},
   "outputs": [],
   "source": [
    "import tensorflow as tf\n",
    "from tensorflow import keras\n",
    "import numpy as np\n",
    "import matplotlib.pyplot as plt\n",
    "import pandas as pd\n",
    "from random import randint\n",
    "import random\n",
    "from sklearn.model_selection import train_test_split\n",
    "import sklearn\n",
    "from sklearn.metrics.pairwise import cosine_similarity\n",
    "from sklearn.metrics import roc_curve\n",
    "from sklearn.metrics import roc_auc_score\n",
    "from pandas_ml import ConfusionMatrix\n",
    "import json\n",
    "import subprocess\n",
    "from correlade import correlade\n",
    "import distcorr\n",
    "from sklearn.metrics import confusion_matrix\n",
    "import seaborn as sn\n",
    "import matplotlib.pyplot as plt\n",
    "import itertools\n",
    "import ast\n",
    "import pdb\n",
    "\n",
    "#Set random seed\n",
    "np.random.seed(1606)"
   ]
  },
  {
   "cell_type": "markdown",
   "metadata": {},
   "source": [
    "### 1. Import Vectors and Pre-Process them"
   ]
  },
  {
   "cell_type": "code",
   "execution_count": null,
   "metadata": {},
   "outputs": [],
   "source": []
  },
  {
   "cell_type": "code",
   "execution_count": 386,
   "metadata": {},
   "outputs": [],
   "source": [
    "# Import vec file\n",
    "with open('../../opa2vec/outter.lst', 'r') as file:\n",
    "    text = file.read()\n",
    "\n",
    "# Strip and split vector data into list of lists [chem, vec]\n",
    "text = text.replace('\\n', '')\n",
    "text = text.split(']')\n",
    "text = [item.strip().split(' [') for item in text]\n",
    "\n",
    "# Turn it into a data frame\n",
    "df = pd.DataFrame(text)\n",
    "df.columns = ['ID', 'Vector']\n",
    "\n",
    "# Clean\n",
    "df = df.dropna()\n",
    "df['Vector'] = df.Vector.map(lambda x: x.rstrip().lstrip().replace('    ', ' ').replace('   ', ' ').replace('  ', ' ').replace(' ', ','))\n",
    "\n",
    "# Turn vector column into a list\n",
    "df['Vector'] = df.Vector.map(lambda x: x.split(','))"
   ]
  },
  {
   "cell_type": "code",
   "execution_count": 387,
   "metadata": {},
   "outputs": [
    {
     "data": {
      "text/html": [
       "<div>\n",
       "<style scoped>\n",
       "    .dataframe tbody tr th:only-of-type {\n",
       "        vertical-align: middle;\n",
       "    }\n",
       "\n",
       "    .dataframe tbody tr th {\n",
       "        vertical-align: top;\n",
       "    }\n",
       "\n",
       "    .dataframe thead th {\n",
       "        text-align: right;\n",
       "    }\n",
       "</style>\n",
       "<table border=\"1\" class=\"dataframe\">\n",
       "  <thead>\n",
       "    <tr style=\"text-align: right;\">\n",
       "      <th></th>\n",
       "      <th>ID</th>\n",
       "      <th>Vector</th>\n",
       "    </tr>\n",
       "  </thead>\n",
       "  <tbody>\n",
       "    <tr>\n",
       "      <th>1749</th>\n",
       "      <td>C539933-p</td>\n",
       "      <td>[-1.20175257e-02, 3.78936008e-02, 5.75806163e-...</td>\n",
       "    </tr>\n",
       "    <tr>\n",
       "      <th>735</th>\n",
       "      <td>MESH:D009503</td>\n",
       "      <td>[-2.10867338e-02, 2.80232518e-03, 4.42544706e-...</td>\n",
       "    </tr>\n",
       "    <tr>\n",
       "      <th>173</th>\n",
       "      <td>MESH:D011009-p</td>\n",
       "      <td>[-0.01185393, 0.04760887, 0.05772212, -0.10326...</td>\n",
       "    </tr>\n",
       "    <tr>\n",
       "      <th>11647</th>\n",
       "      <td>D011344</td>\n",
       "      <td>[-2.72519235e-02, 3.86631042e-02, 4.23529930e-...</td>\n",
       "    </tr>\n",
       "    <tr>\n",
       "      <th>1489</th>\n",
       "      <td>C048336-p</td>\n",
       "      <td>[-1.17891394e-02, 3.15127373e-02, 8.93539861e-...</td>\n",
       "    </tr>\n",
       "    <tr>\n",
       "      <th>590</th>\n",
       "      <td>MESH:D003865-p</td>\n",
       "      <td>[-4.08085994e-02, 1.88285783e-02, 9.44570526e-...</td>\n",
       "    </tr>\n",
       "    <tr>\n",
       "      <th>6956</th>\n",
       "      <td>D058185-n</td>\n",
       "      <td>[0.04224442, -0.02706675, 0.20765716, -0.24452...</td>\n",
       "    </tr>\n",
       "    <tr>\n",
       "      <th>6217</th>\n",
       "      <td>D001241-n</td>\n",
       "      <td>[9.36617255e-02, 1.56397875e-02, 3.03105384e-0...</td>\n",
       "    </tr>\n",
       "    <tr>\n",
       "      <th>5201</th>\n",
       "      <td>C024035-n</td>\n",
       "      <td>[-0.0190214, 0.01769354, 0.08619656, -0.126308...</td>\n",
       "    </tr>\n",
       "    <tr>\n",
       "      <th>880</th>\n",
       "      <td>MESH:D006105-p</td>\n",
       "      <td>[-0.02428473, 0.03976286, 0.05556383, -0.09070...</td>\n",
       "    </tr>\n",
       "    <tr>\n",
       "      <th>2327</th>\n",
       "      <td>C472829-p</td>\n",
       "      <td>[0.00105223, 0.01010829, 0.10313675, -0.154155...</td>\n",
       "    </tr>\n",
       "    <tr>\n",
       "      <th>7944</th>\n",
       "      <td>C023666-p</td>\n",
       "      <td>[-0.01567667, 0.05880927, 0.04526337, -0.08666...</td>\n",
       "    </tr>\n",
       "    <tr>\n",
       "      <th>12504</th>\n",
       "      <td>C422648-n</td>\n",
       "      <td>[-1.65419336e-02, 3.92395668e-02, 3.74890827e-...</td>\n",
       "    </tr>\n",
       "  </tbody>\n",
       "</table>\n",
       "</div>"
      ],
      "text/plain": [
       "                   ID                                             Vector\n",
       "1749        C539933-p  [-1.20175257e-02, 3.78936008e-02, 5.75806163e-...\n",
       "735      MESH:D009503  [-2.10867338e-02, 2.80232518e-03, 4.42544706e-...\n",
       "173    MESH:D011009-p  [-0.01185393, 0.04760887, 0.05772212, -0.10326...\n",
       "11647         D011344  [-2.72519235e-02, 3.86631042e-02, 4.23529930e-...\n",
       "1489        C048336-p  [-1.17891394e-02, 3.15127373e-02, 8.93539861e-...\n",
       "590    MESH:D003865-p  [-4.08085994e-02, 1.88285783e-02, 9.44570526e-...\n",
       "6956        D058185-n  [0.04224442, -0.02706675, 0.20765716, -0.24452...\n",
       "6217        D001241-n  [9.36617255e-02, 1.56397875e-02, 3.03105384e-0...\n",
       "5201        C024035-n  [-0.0190214, 0.01769354, 0.08619656, -0.126308...\n",
       "880    MESH:D006105-p  [-0.02428473, 0.03976286, 0.05556383, -0.09070...\n",
       "2327        C472829-p  [0.00105223, 0.01010829, 0.10313675, -0.154155...\n",
       "7944        C023666-p  [-0.01567667, 0.05880927, 0.04526337, -0.08666...\n",
       "12504       C422648-n  [-1.65419336e-02, 3.92395668e-02, 3.74890827e-..."
      ]
     },
     "execution_count": 387,
     "metadata": {},
     "output_type": "execute_result"
    }
   ],
   "source": [
    "df.sample(13)"
   ]
  },
  {
   "cell_type": "code",
   "execution_count": 388,
   "metadata": {},
   "outputs": [],
   "source": [
    "# # # Create a df template\n",
    "df2 = pd.DataFrame(columns=['ID','DisDirCorrVec', 'DisInvCorrVec', 'ChemDirCorrVec',\n",
    "                            'ChemInvCorrVec', 'ChemUnspecCorrVec'])"
   ]
  },
  {
   "cell_type": "code",
   "execution_count": 389,
   "metadata": {},
   "outputs": [],
   "source": [
    "# Move info over\n",
    "def is_dis(stringer):\n",
    "    if ('MESH' in stringer) or ('OMIM' in stringer):\n",
    "        return True\n",
    "    else:\n",
    "        return False"
   ]
  },
  {
   "cell_type": "code",
   "execution_count": 390,
   "metadata": {},
   "outputs": [],
   "source": [
    "df2['ID'] = df.ID.copy()\n",
    "df2['ID'] = df2.ID.apply(lambda x: x.replace('-p', '').replace('-n', ''))\n",
    "df2 = df2.drop_duplicates()"
   ]
  },
  {
   "cell_type": "code",
   "execution_count": 391,
   "metadata": {},
   "outputs": [],
   "source": [
    "# # df2[df2.DisDirCorrVec]\n",
    "# import pdb"
   ]
  },
  {
   "cell_type": "code",
   "execution_count": 392,
   "metadata": {},
   "outputs": [],
   "source": [
    "# for index, row in df.iterrows():\n",
    "#     if is_dis(row.ID):\n",
    "#         if '-p' in row.ID:\n",
    "#             pdb.set_trace()\n",
    "#             df2[df2.ID == row.ID.replace('-p','')].iloc[0]['DisDirCorrVec'] = np.array(row.Vector)\n",
    "#         else:\n",
    "#             df2[df2.ID == row.ID.replace('-n', '')].iloc[0].DisInvCorrVec = row.Vector\n",
    "# #     else:\n",
    "# #         if '-p' in row.ID:\n",
    "# #             df2.ChemDirCorrVec = row.Vector\n",
    "# #         elif '-n' in row.ID:\n",
    "# #             df2.ChemInvCorrVec = row.Vector\n",
    "# #         else:\n",
    "# #             df2.ChemUnspecCorrVec = row.vector\n",
    "\n",
    "    \n",
    "# # for index, row in df.iterrows():\n",
    "# #         subj = '<' + subj_url + row[subj_col] + '> '\n",
    "# #         if row.pred_code == 'nan':\n",
    "# #             pred = '<' + 'http://ian.ie/' + row[pred_col] + '> '\n",
    "# #         else:\n",
    "# #             pred = '<' + 'http://purl.obolibrary.org/obo/' + row['pred_code'] + '> '\n",
    "# #         if odd_url[0] in row[obj_col]:\n",
    "# #             row[obj_col] = row[obj_col].replace(odd_url[0], '')\n",
    "# #             obj = '<' + odd_url[1] + row[obj_col] + '> '\n",
    "# #         else:\n",
    "# #             obj = '<' + obj_url + row[obj_col] + '> '\n",
    "# #         f.write(subj + pred + obj + '.' + '\\n')"
   ]
  },
  {
   "cell_type": "code",
   "execution_count": 393,
   "metadata": {},
   "outputs": [],
   "source": [
    "# df2.loc[df2.ID =='MESH:D058186'].DisInvCorrVec.iloc[0] = 1"
   ]
  },
  {
   "cell_type": "code",
   "execution_count": 394,
   "metadata": {},
   "outputs": [],
   "source": [
    "# df2.head()"
   ]
  },
  {
   "cell_type": "code",
   "execution_count": null,
   "metadata": {},
   "outputs": [],
   "source": []
  },
  {
   "cell_type": "code",
   "execution_count": null,
   "metadata": {},
   "outputs": [],
   "source": []
  },
  {
   "cell_type": "code",
   "execution_count": null,
   "metadata": {},
   "outputs": [],
   "source": []
  },
  {
   "cell_type": "code",
   "execution_count": 395,
   "metadata": {},
   "outputs": [],
   "source": [
    "# def moving_stuff (row):\n",
    "#     if is_dis(df.DirCorr) and ('-p' in df.DirCorr):\n",
    "#         df2"
   ]
  },
  {
   "cell_type": "code",
   "execution_count": 396,
   "metadata": {},
   "outputs": [],
   "source": [
    "# mask = is_dis(df.DirCorr) and ('-p' in df.DirCorr)\n",
    "# df.loc[mask, 'DirCorr'] = df.Vector"
   ]
  },
  {
   "cell_type": "code",
   "execution_count": 397,
   "metadata": {},
   "outputs": [],
   "source": [
    "# df.groupby('Vector').sum()"
   ]
  },
  {
   "cell_type": "code",
   "execution_count": 398,
   "metadata": {},
   "outputs": [],
   "source": [
    "# aggregation_functions = {'price': 'sum', 'amount': 'sum', 'name': 'first'}\n",
    "# df_new = df.groupby(df['id']).aggregate(aggregation_functions)"
   ]
  },
  {
   "cell_type": "code",
   "execution_count": null,
   "metadata": {},
   "outputs": [],
   "source": []
  },
  {
   "cell_type": "code",
   "execution_count": 399,
   "metadata": {},
   "outputs": [],
   "source": [
    "# # Remove the -p /-n tags (pos/neg correlation) and add them as columns\n",
    "# df['DirCorr'] = df.ID.map(lambda x: 1 if '-p' in x else 0)\n",
    "# df['InvCorr'] = df.ID.map(lambda x: 1 if '-n' in x else 0)\n",
    "# df['UnspecCorr'] = df.DirCorr + df.InvCorr\n",
    "# df['UnspecCorr'] = df.UnspecCorr.map(lambda x: 0 if x == 1 else 1)\n",
    "\n",
    "# df['ID'] = df.ID.apply(lambda x: x.replace('-p', '').replace('-n', ''))"
   ]
  },
  {
   "cell_type": "code",
   "execution_count": 400,
   "metadata": {},
   "outputs": [],
   "source": [
    "# Remove the -p /-n tags (pos/neg correlation) and add them as columns\n",
    "df['DisDirCorrVec'] = df.ID.map(lambda x: 1 if ('-p' in x and is_dis(x)) else 0)\n",
    "df['DisInvCorrVec'] = df.ID.map(lambda x: 1 if ('-n' in x) and is_dis(x) else 0)\n",
    "df['ChemDirCorrVec'] = df.ID.map(lambda x: 1 if ('-p' in x) and not is_dis(x) else 0)\n",
    "df['ChemInvCorrVec'] = df.ID.map(lambda x: 1 if ('-n' in x) and not is_dis(x) else 0)\n",
    "df['ChemUnspecVec'] = df.DisDirCorrVec + df.DisInvCorrVec + df.ChemDirCorrVec + df.ChemInvCorrVec\n",
    "df['ChemUnspecVec'] = df.ChemUnspecVec.map(lambda x: 0 if x > 0 else 1)\n",
    "\n",
    "df['ID'] = df.ID.apply(lambda x: x.replace('-p', '').replace('-n', ''))"
   ]
  },
  {
   "cell_type": "code",
   "execution_count": 401,
   "metadata": {},
   "outputs": [
    {
     "data": {
      "text/plain": [
       "'MESH:D018248'"
      ]
     },
     "execution_count": 401,
     "metadata": {},
     "output_type": "execute_result"
    }
   ],
   "source": [
    "df.ID[1]"
   ]
  },
  {
   "cell_type": "code",
   "execution_count": 402,
   "metadata": {},
   "outputs": [
    {
     "data": {
      "text/html": [
       "<div>\n",
       "<style scoped>\n",
       "    .dataframe tbody tr th:only-of-type {\n",
       "        vertical-align: middle;\n",
       "    }\n",
       "\n",
       "    .dataframe tbody tr th {\n",
       "        vertical-align: top;\n",
       "    }\n",
       "\n",
       "    .dataframe thead th {\n",
       "        text-align: right;\n",
       "    }\n",
       "</style>\n",
       "<table border=\"1\" class=\"dataframe\">\n",
       "  <thead>\n",
       "    <tr style=\"text-align: right;\">\n",
       "      <th></th>\n",
       "      <th>ID</th>\n",
       "      <th>Vector</th>\n",
       "      <th>DisDirCorrVec</th>\n",
       "      <th>DisInvCorrVec</th>\n",
       "      <th>ChemDirCorrVec</th>\n",
       "      <th>ChemInvCorrVec</th>\n",
       "      <th>ChemUnspecVec</th>\n",
       "    </tr>\n",
       "  </thead>\n",
       "  <tbody>\n",
       "    <tr>\n",
       "      <th>565</th>\n",
       "      <td>MESH:D003929</td>\n",
       "      <td>[-6.99723605e-03, -2.52499655e-02, 1.61527872e...</td>\n",
       "      <td>1</td>\n",
       "      <td>0</td>\n",
       "      <td>0</td>\n",
       "      <td>0</td>\n",
       "      <td>0</td>\n",
       "    </tr>\n",
       "    <tr>\n",
       "      <th>3710</th>\n",
       "      <td>D017313</td>\n",
       "      <td>[0.01812408, 0.01810183, 0.18475941, -0.234236...</td>\n",
       "      <td>0</td>\n",
       "      <td>0</td>\n",
       "      <td>1</td>\n",
       "      <td>0</td>\n",
       "      <td>0</td>\n",
       "    </tr>\n",
       "    <tr>\n",
       "      <th>11155</th>\n",
       "      <td>C519728</td>\n",
       "      <td>[0.01422205, 0.00985056, 0.14011842, -0.151089...</td>\n",
       "      <td>0</td>\n",
       "      <td>0</td>\n",
       "      <td>0</td>\n",
       "      <td>1</td>\n",
       "      <td>0</td>\n",
       "    </tr>\n",
       "    <tr>\n",
       "      <th>8026</th>\n",
       "      <td>C400184</td>\n",
       "      <td>[0.01079779, -0.00539591, 0.14821383, -0.14191...</td>\n",
       "      <td>0</td>\n",
       "      <td>0</td>\n",
       "      <td>1</td>\n",
       "      <td>0</td>\n",
       "      <td>0</td>\n",
       "    </tr>\n",
       "    <tr>\n",
       "      <th>2930</th>\n",
       "      <td>C105671</td>\n",
       "      <td>[-5.24380477e-03, 4.46078777e-02, 6.08233921e-...</td>\n",
       "      <td>0</td>\n",
       "      <td>0</td>\n",
       "      <td>0</td>\n",
       "      <td>1</td>\n",
       "      <td>0</td>\n",
       "    </tr>\n",
       "    <tr>\n",
       "      <th>3355</th>\n",
       "      <td>C014175</td>\n",
       "      <td>[0.02345133, -0.01966195, 0.12867859, -0.21270...</td>\n",
       "      <td>0</td>\n",
       "      <td>0</td>\n",
       "      <td>0</td>\n",
       "      <td>0</td>\n",
       "      <td>1</td>\n",
       "    </tr>\n",
       "    <tr>\n",
       "      <th>3932</th>\n",
       "      <td>C477330</td>\n",
       "      <td>[0.05452765, -0.01705541, 0.14818624, -0.14000...</td>\n",
       "      <td>0</td>\n",
       "      <td>0</td>\n",
       "      <td>0</td>\n",
       "      <td>1</td>\n",
       "      <td>0</td>\n",
       "    </tr>\n",
       "  </tbody>\n",
       "</table>\n",
       "</div>"
      ],
      "text/plain": [
       "                 ID                                             Vector  \\\n",
       "565    MESH:D003929  [-6.99723605e-03, -2.52499655e-02, 1.61527872e...   \n",
       "3710        D017313  [0.01812408, 0.01810183, 0.18475941, -0.234236...   \n",
       "11155       C519728  [0.01422205, 0.00985056, 0.14011842, -0.151089...   \n",
       "8026        C400184  [0.01079779, -0.00539591, 0.14821383, -0.14191...   \n",
       "2930        C105671  [-5.24380477e-03, 4.46078777e-02, 6.08233921e-...   \n",
       "3355        C014175  [0.02345133, -0.01966195, 0.12867859, -0.21270...   \n",
       "3932        C477330  [0.05452765, -0.01705541, 0.14818624, -0.14000...   \n",
       "\n",
       "       DisDirCorrVec  DisInvCorrVec  ChemDirCorrVec  ChemInvCorrVec  \\\n",
       "565                1              0               0               0   \n",
       "3710               0              0               1               0   \n",
       "11155              0              0               0               1   \n",
       "8026               0              0               1               0   \n",
       "2930               0              0               0               1   \n",
       "3355               0              0               0               0   \n",
       "3932               0              0               0               1   \n",
       "\n",
       "       ChemUnspecVec  \n",
       "565                0  \n",
       "3710               0  \n",
       "11155              0  \n",
       "8026               0  \n",
       "2930               0  \n",
       "3355               1  \n",
       "3932               0  "
      ]
     },
     "execution_count": 402,
     "metadata": {},
     "output_type": "execute_result"
    }
   ],
   "source": [
    "df.sample(7)"
   ]
  },
  {
   "cell_type": "code",
   "execution_count": 403,
   "metadata": {},
   "outputs": [
    {
     "data": {
      "text/html": [
       "<div>\n",
       "<style scoped>\n",
       "    .dataframe tbody tr th:only-of-type {\n",
       "        vertical-align: middle;\n",
       "    }\n",
       "\n",
       "    .dataframe tbody tr th {\n",
       "        vertical-align: top;\n",
       "    }\n",
       "\n",
       "    .dataframe thead th {\n",
       "        text-align: right;\n",
       "    }\n",
       "</style>\n",
       "<table border=\"1\" class=\"dataframe\">\n",
       "  <thead>\n",
       "    <tr style=\"text-align: right;\">\n",
       "      <th></th>\n",
       "      <th>ID</th>\n",
       "      <th>DisDirCorrVec</th>\n",
       "      <th>DisInvCorrVec</th>\n",
       "      <th>ChemDirCorrVec</th>\n",
       "      <th>ChemInvCorrVec</th>\n",
       "      <th>ChemUnspecCorrVec</th>\n",
       "    </tr>\n",
       "  </thead>\n",
       "  <tbody>\n",
       "    <tr>\n",
       "      <th>11635</th>\n",
       "      <td>C495400</td>\n",
       "      <td>NaN</td>\n",
       "      <td>NaN</td>\n",
       "      <td>NaN</td>\n",
       "      <td>NaN</td>\n",
       "      <td>NaN</td>\n",
       "    </tr>\n",
       "  </tbody>\n",
       "</table>\n",
       "</div>"
      ],
      "text/plain": [
       "            ID DisDirCorrVec DisInvCorrVec ChemDirCorrVec ChemInvCorrVec  \\\n",
       "11635  C495400           NaN           NaN            NaN            NaN   \n",
       "\n",
       "      ChemUnspecCorrVec  \n",
       "11635               NaN  "
      ]
     },
     "execution_count": 403,
     "metadata": {},
     "output_type": "execute_result"
    }
   ],
   "source": [
    "df2.sample(1)"
   ]
  },
  {
   "cell_type": "code",
   "execution_count": 404,
   "metadata": {},
   "outputs": [],
   "source": [
    "map_ddc = dict(zip(df[df.DisDirCorrVec == 1].ID, df[df.DisDirCorrVec == 1].Vector))\n",
    "map_dic = dict(zip(df[df.DisInvCorrVec == 1].ID, df[df.DisInvCorrVec == 1].Vector))\n",
    "map_cdc = dict(zip(df[df.ChemDirCorrVec == 1].ID, df[df.ChemDirCorrVec == 1].Vector))\n",
    "map_cic = dict(zip(df[df.ChemInvCorrVec == 1].ID, df[df.ChemInvCorrVec == 1].Vector))\n",
    "map_cuc = dict(zip(df[df.ChemUnspecVec == 1].ID, df[df.ChemUnspecVec == 1].Vector))\n",
    "\n",
    "\n",
    "df2['DisDirCorrVec'] = df2.ID.map(map_ddc)\n",
    "df2.DisInvCorrVec = df2.ID.map(map_dic)\n",
    "df2.ChemDirCorrVec = df2.ID.map(map_cdc)\n",
    "df2.ChemInvCorrVec = df2.ID.map(map_cic)\n",
    "df2.ChemUnspecCorrVec = df2.ID.map(map_cuc)"
   ]
  },
  {
   "cell_type": "code",
   "execution_count": 405,
   "metadata": {},
   "outputs": [
    {
     "data": {
      "text/html": [
       "<div>\n",
       "<style scoped>\n",
       "    .dataframe tbody tr th:only-of-type {\n",
       "        vertical-align: middle;\n",
       "    }\n",
       "\n",
       "    .dataframe tbody tr th {\n",
       "        vertical-align: top;\n",
       "    }\n",
       "\n",
       "    .dataframe thead th {\n",
       "        text-align: right;\n",
       "    }\n",
       "</style>\n",
       "<table border=\"1\" class=\"dataframe\">\n",
       "  <thead>\n",
       "    <tr style=\"text-align: right;\">\n",
       "      <th></th>\n",
       "      <th>ID</th>\n",
       "      <th>DisDirCorrVec</th>\n",
       "      <th>DisInvCorrVec</th>\n",
       "      <th>ChemDirCorrVec</th>\n",
       "      <th>ChemInvCorrVec</th>\n",
       "      <th>ChemUnspecCorrVec</th>\n",
       "    </tr>\n",
       "  </thead>\n",
       "  <tbody>\n",
       "    <tr>\n",
       "      <th>10989</th>\n",
       "      <td>C015000</td>\n",
       "      <td>NaN</td>\n",
       "      <td>NaN</td>\n",
       "      <td>[-0.02010187, 0.00542716, 0.05049645, -0.08288...</td>\n",
       "      <td>NaN</td>\n",
       "      <td>NaN</td>\n",
       "    </tr>\n",
       "    <tr>\n",
       "      <th>1908</th>\n",
       "      <td>D001379</td>\n",
       "      <td>NaN</td>\n",
       "      <td>NaN</td>\n",
       "      <td>[0.10578595, 0.01237365, 0.30342, -0.26286152,...</td>\n",
       "      <td>[0.08812901, 0.0320204, 0.33187553, -0.301778,...</td>\n",
       "      <td>[0.0187303, -0.00083258, 0.15660971, -0.159065...</td>\n",
       "    </tr>\n",
       "    <tr>\n",
       "      <th>1715</th>\n",
       "      <td>C101954</td>\n",
       "      <td>NaN</td>\n",
       "      <td>NaN</td>\n",
       "      <td>[-1.68926194e-02, 3.42476517e-02, 3.97250913e-...</td>\n",
       "      <td>[-0.00383021, 0.03691605, 0.07349062, -0.10609...</td>\n",
       "      <td>[2.27398966e-02, 3.73457768e-03, 1.30814955e-0...</td>\n",
       "    </tr>\n",
       "    <tr>\n",
       "      <th>12443</th>\n",
       "      <td>D014046</td>\n",
       "      <td>NaN</td>\n",
       "      <td>NaN</td>\n",
       "      <td>NaN</td>\n",
       "      <td>NaN</td>\n",
       "      <td>[-4.78633456e-02, -2.58143968e-03, 4.99010533e...</td>\n",
       "    </tr>\n",
       "    <tr>\n",
       "      <th>5862</th>\n",
       "      <td>D006534</td>\n",
       "      <td>NaN</td>\n",
       "      <td>NaN</td>\n",
       "      <td>[-0.03754821, 0.03415985, 0.02924754, -0.09692...</td>\n",
       "      <td>[-2.83943824e-02, 2.38502864e-02, 3.33757214e-...</td>\n",
       "      <td>[-2.99657267e-02, 2.15480030e-02, 1.68549120e-...</td>\n",
       "    </tr>\n",
       "    <tr>\n",
       "      <th>10084</th>\n",
       "      <td>C069172</td>\n",
       "      <td>NaN</td>\n",
       "      <td>NaN</td>\n",
       "      <td>[-0.00758692, 0.01385971, 0.08696242, -0.08362...</td>\n",
       "      <td>NaN</td>\n",
       "      <td>NaN</td>\n",
       "    </tr>\n",
       "    <tr>\n",
       "      <th>12186</th>\n",
       "      <td>C048760</td>\n",
       "      <td>NaN</td>\n",
       "      <td>NaN</td>\n",
       "      <td>NaN</td>\n",
       "      <td>[-1.81677623e-03, 7.91305825e-02, 6.99307546e-...</td>\n",
       "      <td>NaN</td>\n",
       "    </tr>\n",
       "    <tr>\n",
       "      <th>8659</th>\n",
       "      <td>C539629</td>\n",
       "      <td>NaN</td>\n",
       "      <td>NaN</td>\n",
       "      <td>[2.47766916e-03, 4.18871976e-02, 8.82940590e-0...</td>\n",
       "      <td>NaN</td>\n",
       "      <td>NaN</td>\n",
       "    </tr>\n",
       "    <tr>\n",
       "      <th>9175</th>\n",
       "      <td>C096128</td>\n",
       "      <td>NaN</td>\n",
       "      <td>NaN</td>\n",
       "      <td>[-0.02764498, 0.05870311, 0.02797836, -0.08894...</td>\n",
       "      <td>NaN</td>\n",
       "      <td>[-0.00306818, 0.06337161, 0.05014515, -0.09434...</td>\n",
       "    </tr>\n",
       "    <tr>\n",
       "      <th>1386</th>\n",
       "      <td>MESH:D015458</td>\n",
       "      <td>[-4.98089679e-02, -2.92280465e-02, 7.80798793e...</td>\n",
       "      <td>NaN</td>\n",
       "      <td>NaN</td>\n",
       "      <td>NaN</td>\n",
       "      <td>NaN</td>\n",
       "    </tr>\n",
       "    <tr>\n",
       "      <th>7099</th>\n",
       "      <td>C104727</td>\n",
       "      <td>NaN</td>\n",
       "      <td>NaN</td>\n",
       "      <td>NaN</td>\n",
       "      <td>[0.04301718, 0.01264117, 0.12730044, -0.143974...</td>\n",
       "      <td>[-5.96887805e-03, 3.67687941e-02, 9.87732112e-...</td>\n",
       "    </tr>\n",
       "    <tr>\n",
       "      <th>11537</th>\n",
       "      <td>D015570</td>\n",
       "      <td>NaN</td>\n",
       "      <td>NaN</td>\n",
       "      <td>NaN</td>\n",
       "      <td>[-0.02895382, -0.00280876, 0.0725105, -0.09816...</td>\n",
       "      <td>NaN</td>\n",
       "    </tr>\n",
       "    <tr>\n",
       "      <th>2380</th>\n",
       "      <td>C007997</td>\n",
       "      <td>NaN</td>\n",
       "      <td>NaN</td>\n",
       "      <td>[0.01316492, -0.00178431, 0.12104739, -0.17407...</td>\n",
       "      <td>[-0.00525393, 0.03130011, 0.08755513, -0.11921...</td>\n",
       "      <td>[-0.00313674, 0.01111917, 0.06098793, -0.11763...</td>\n",
       "    </tr>\n",
       "  </tbody>\n",
       "</table>\n",
       "</div>"
      ],
      "text/plain": [
       "                 ID                                      DisDirCorrVec  \\\n",
       "10989       C015000                                                NaN   \n",
       "1908        D001379                                                NaN   \n",
       "1715        C101954                                                NaN   \n",
       "12443       D014046                                                NaN   \n",
       "5862        D006534                                                NaN   \n",
       "10084       C069172                                                NaN   \n",
       "12186       C048760                                                NaN   \n",
       "8659        C539629                                                NaN   \n",
       "9175        C096128                                                NaN   \n",
       "1386   MESH:D015458  [-4.98089679e-02, -2.92280465e-02, 7.80798793e...   \n",
       "7099        C104727                                                NaN   \n",
       "11537       D015570                                                NaN   \n",
       "2380        C007997                                                NaN   \n",
       "\n",
       "       DisInvCorrVec                                     ChemDirCorrVec  \\\n",
       "10989            NaN  [-0.02010187, 0.00542716, 0.05049645, -0.08288...   \n",
       "1908             NaN  [0.10578595, 0.01237365, 0.30342, -0.26286152,...   \n",
       "1715             NaN  [-1.68926194e-02, 3.42476517e-02, 3.97250913e-...   \n",
       "12443            NaN                                                NaN   \n",
       "5862             NaN  [-0.03754821, 0.03415985, 0.02924754, -0.09692...   \n",
       "10084            NaN  [-0.00758692, 0.01385971, 0.08696242, -0.08362...   \n",
       "12186            NaN                                                NaN   \n",
       "8659             NaN  [2.47766916e-03, 4.18871976e-02, 8.82940590e-0...   \n",
       "9175             NaN  [-0.02764498, 0.05870311, 0.02797836, -0.08894...   \n",
       "1386             NaN                                                NaN   \n",
       "7099             NaN                                                NaN   \n",
       "11537            NaN                                                NaN   \n",
       "2380             NaN  [0.01316492, -0.00178431, 0.12104739, -0.17407...   \n",
       "\n",
       "                                          ChemInvCorrVec  \\\n",
       "10989                                                NaN   \n",
       "1908   [0.08812901, 0.0320204, 0.33187553, -0.301778,...   \n",
       "1715   [-0.00383021, 0.03691605, 0.07349062, -0.10609...   \n",
       "12443                                                NaN   \n",
       "5862   [-2.83943824e-02, 2.38502864e-02, 3.33757214e-...   \n",
       "10084                                                NaN   \n",
       "12186  [-1.81677623e-03, 7.91305825e-02, 6.99307546e-...   \n",
       "8659                                                 NaN   \n",
       "9175                                                 NaN   \n",
       "1386                                                 NaN   \n",
       "7099   [0.04301718, 0.01264117, 0.12730044, -0.143974...   \n",
       "11537  [-0.02895382, -0.00280876, 0.0725105, -0.09816...   \n",
       "2380   [-0.00525393, 0.03130011, 0.08755513, -0.11921...   \n",
       "\n",
       "                                       ChemUnspecCorrVec  \n",
       "10989                                                NaN  \n",
       "1908   [0.0187303, -0.00083258, 0.15660971, -0.159065...  \n",
       "1715   [2.27398966e-02, 3.73457768e-03, 1.30814955e-0...  \n",
       "12443  [-4.78633456e-02, -2.58143968e-03, 4.99010533e...  \n",
       "5862   [-2.99657267e-02, 2.15480030e-02, 1.68549120e-...  \n",
       "10084                                                NaN  \n",
       "12186                                                NaN  \n",
       "8659                                                 NaN  \n",
       "9175   [-0.00306818, 0.06337161, 0.05014515, -0.09434...  \n",
       "1386                                                 NaN  \n",
       "7099   [-5.96887805e-03, 3.67687941e-02, 9.87732112e-...  \n",
       "11537                                                NaN  \n",
       "2380   [-0.00313674, 0.01111917, 0.06098793, -0.11763...  "
      ]
     },
     "execution_count": 405,
     "metadata": {},
     "output_type": "execute_result"
    }
   ],
   "source": [
    "df2.sample(13)"
   ]
  },
  {
   "cell_type": "code",
   "execution_count": 406,
   "metadata": {},
   "outputs": [],
   "source": [
    "# %reset"
   ]
  },
  {
   "cell_type": "code",
   "execution_count": 407,
   "metadata": {},
   "outputs": [],
   "source": [
    "# df.DisDirCorrVec.unique()"
   ]
  },
  {
   "cell_type": "code",
   "execution_count": 408,
   "metadata": {},
   "outputs": [],
   "source": [
    "# df[df.ID == 'MESH:D058186']#.drop_duplicates(subset='ID')"
   ]
  },
  {
   "cell_type": "code",
   "execution_count": 409,
   "metadata": {},
   "outputs": [],
   "source": [
    "# df.apply(lambda row: row.UnspecCorr)"
   ]
  },
  {
   "cell_type": "code",
   "execution_count": 410,
   "metadata": {},
   "outputs": [],
   "source": [
    "# # Consolidate all info about an entity onto one line\n",
    "# mask = (df.DirCorr == 1)\n",
    "# df.loc[mask, 'DirCorr'] = df.Vector\n",
    "\n",
    "# mask = (df.InvCorr == 1)\n",
    "# df.loc[mask, 'InvCorr'] = df.Vector\n",
    "\n",
    "# mask = (df.UnspecCorr == 1)\n",
    "# df.loc[mask, 'UnspecCorr'] = df.Vector"
   ]
  },
  {
   "cell_type": "markdown",
   "metadata": {},
   "source": [
    "### 2. Create DF for NN\n",
    "Munge the df into the following columns:<br>\n",
    "ChemID DisID ChemVec DisVec PositiveAssociationExists(binary)"
   ]
  },
  {
   "cell_type": "code",
   "execution_count": 411,
   "metadata": {},
   "outputs": [
    {
     "data": {
      "text/html": [
       "<div>\n",
       "<style scoped>\n",
       "    .dataframe tbody tr th:only-of-type {\n",
       "        vertical-align: middle;\n",
       "    }\n",
       "\n",
       "    .dataframe tbody tr th {\n",
       "        vertical-align: top;\n",
       "    }\n",
       "\n",
       "    .dataframe thead th {\n",
       "        text-align: right;\n",
       "    }\n",
       "</style>\n",
       "<table border=\"1\" class=\"dataframe\">\n",
       "  <thead>\n",
       "    <tr style=\"text-align: right;\">\n",
       "      <th></th>\n",
       "      <th>ChemicalID</th>\n",
       "      <th>DiseaseID</th>\n",
       "      <th>DirectEvidence</th>\n",
       "    </tr>\n",
       "  </thead>\n",
       "  <tbody>\n",
       "    <tr>\n",
       "      <th>0</th>\n",
       "      <td>C046983</td>\n",
       "      <td>MESH:D054198</td>\n",
       "      <td>therapeutic</td>\n",
       "    </tr>\n",
       "    <tr>\n",
       "      <th>1</th>\n",
       "      <td>C112297</td>\n",
       "      <td>MESH:D006948</td>\n",
       "      <td>marker/mechanism</td>\n",
       "    </tr>\n",
       "    <tr>\n",
       "      <th>2</th>\n",
       "      <td>C112297</td>\n",
       "      <td>MESH:D012640</td>\n",
       "      <td>marker/mechanism</td>\n",
       "    </tr>\n",
       "    <tr>\n",
       "      <th>3</th>\n",
       "      <td>C039775</td>\n",
       "      <td>MESH:D004827</td>\n",
       "      <td>therapeutic</td>\n",
       "    </tr>\n",
       "    <tr>\n",
       "      <th>4</th>\n",
       "      <td>C425777</td>\n",
       "      <td>MESH:D006948</td>\n",
       "      <td>marker/mechanism</td>\n",
       "    </tr>\n",
       "  </tbody>\n",
       "</table>\n",
       "</div>"
      ],
      "text/plain": [
       "  ChemicalID     DiseaseID    DirectEvidence\n",
       "0    C046983  MESH:D054198       therapeutic\n",
       "1    C112297  MESH:D006948  marker/mechanism\n",
       "2    C112297  MESH:D012640  marker/mechanism\n",
       "3    C039775  MESH:D004827       therapeutic\n",
       "4    C425777  MESH:D006948  marker/mechanism"
      ]
     },
     "execution_count": 411,
     "metadata": {},
     "output_type": "execute_result"
    }
   ],
   "source": [
    "# Step 1: Import file of proven chem-dis positive associations (created in ctd-to-nt notebook from ctd data)\n",
    "chem_dis = pd.read_csv('../ctd-to-nt/chem-dis-pos-assocs.csv')\n",
    "chem_dis.head()"
   ]
  },
  {
   "cell_type": "code",
   "execution_count": 412,
   "metadata": {},
   "outputs": [
    {
     "data": {
      "text/plain": [
       "3191"
      ]
     },
     "execution_count": 412,
     "metadata": {},
     "output_type": "execute_result"
    }
   ],
   "source": [
    "chem_dis.DiseaseID.nunique()"
   ]
  },
  {
   "cell_type": "code",
   "execution_count": 413,
   "metadata": {},
   "outputs": [
    {
     "data": {
      "text/plain": [
       "(96086, 3)"
      ]
     },
     "execution_count": 413,
     "metadata": {},
     "output_type": "execute_result"
    }
   ],
   "source": [
    "chem_dis.shape"
   ]
  },
  {
   "cell_type": "code",
   "execution_count": 414,
   "metadata": {},
   "outputs": [],
   "source": [
    "# Get rid of any chems/diseases that don't have a vector\n",
    "chem_dis['DiseaseID'] = chem_dis['DiseaseID'].astype(str)\n",
    "df['ID'] = df['ID'].astype(str)\n",
    "id_list = df.ID.tolist() # list of chems+diseases with vecs\n",
    "\n",
    "# chem_dis['DiseaseID'] = chem_dis['DiseaseID'].str.replace('MESH:', '')\n",
    "# chem_dis['DiseaseID'] = chem_dis['DiseaseID'].str.replace('OMIM:', '')\n",
    "\n",
    "chem_dis['hasDVec'] = chem_dis.DiseaseID.map(lambda x: x in id_list)\n",
    "chem_dis['hasCVec'] = chem_dis.ChemicalID.map(lambda x: x in id_list)\n",
    "chem_dis = chem_dis.loc[(chem_dis['hasDVec'] == True) & (chem_dis['hasCVec'] == True)]\n",
    "chem_dis = chem_dis.drop(['hasDVec','hasCVec'], axis=1)"
   ]
  },
  {
   "cell_type": "code",
   "execution_count": 415,
   "metadata": {},
   "outputs": [
    {
     "data": {
      "text/plain": [
       "['MESH:D058186', 'MESH:D018248', 'MESH:C566304', 'MESH:D000544']"
      ]
     },
     "execution_count": 415,
     "metadata": {},
     "output_type": "execute_result"
    }
   ],
   "source": [
    "id_list[:4]"
   ]
  },
  {
   "cell_type": "code",
   "execution_count": 416,
   "metadata": {},
   "outputs": [
    {
     "data": {
      "text/plain": [
       "12747"
      ]
     },
     "execution_count": 416,
     "metadata": {},
     "output_type": "execute_result"
    }
   ],
   "source": [
    "len(id_list)"
   ]
  },
  {
   "cell_type": "code",
   "execution_count": 417,
   "metadata": {},
   "outputs": [
    {
     "data": {
      "text/html": [
       "<div>\n",
       "<style scoped>\n",
       "    .dataframe tbody tr th:only-of-type {\n",
       "        vertical-align: middle;\n",
       "    }\n",
       "\n",
       "    .dataframe tbody tr th {\n",
       "        vertical-align: top;\n",
       "    }\n",
       "\n",
       "    .dataframe thead th {\n",
       "        text-align: right;\n",
       "    }\n",
       "</style>\n",
       "<table border=\"1\" class=\"dataframe\">\n",
       "  <thead>\n",
       "    <tr style=\"text-align: right;\">\n",
       "      <th></th>\n",
       "      <th>ID</th>\n",
       "      <th>DisDirCorrVec</th>\n",
       "      <th>DisInvCorrVec</th>\n",
       "      <th>ChemDirCorrVec</th>\n",
       "      <th>ChemInvCorrVec</th>\n",
       "      <th>ChemUnspecCorrVec</th>\n",
       "    </tr>\n",
       "  </thead>\n",
       "  <tbody>\n",
       "    <tr>\n",
       "      <th>0</th>\n",
       "      <td>MESH:D058186</td>\n",
       "      <td>[3.70542593e-02, 3.52810957e-02, 2.35775501e-0...</td>\n",
       "      <td>NaN</td>\n",
       "      <td>NaN</td>\n",
       "      <td>NaN</td>\n",
       "      <td>[-0.02229903, 0.01431887, 0.13517049, -0.17734...</td>\n",
       "    </tr>\n",
       "    <tr>\n",
       "      <th>1</th>\n",
       "      <td>MESH:D018248</td>\n",
       "      <td>[-0.03171459, 0.04182721, 0.11486322, -0.16316...</td>\n",
       "      <td>NaN</td>\n",
       "      <td>NaN</td>\n",
       "      <td>NaN</td>\n",
       "      <td>NaN</td>\n",
       "    </tr>\n",
       "    <tr>\n",
       "      <th>2</th>\n",
       "      <td>MESH:C566304</td>\n",
       "      <td>[-0.0222223, 0.01208713, 0.04465522, -0.074304...</td>\n",
       "      <td>NaN</td>\n",
       "      <td>NaN</td>\n",
       "      <td>NaN</td>\n",
       "      <td>NaN</td>\n",
       "    </tr>\n",
       "    <tr>\n",
       "      <th>3</th>\n",
       "      <td>MESH:D000544</td>\n",
       "      <td>[0.06039888, 0.04937351, 0.2646575, -0.3108586...</td>\n",
       "      <td>NaN</td>\n",
       "      <td>NaN</td>\n",
       "      <td>NaN</td>\n",
       "      <td>[-0.01752456, 0.01074598, 0.10239156, -0.12939...</td>\n",
       "    </tr>\n",
       "    <tr>\n",
       "      <th>4</th>\n",
       "      <td>MESH:D006528</td>\n",
       "      <td>[0.11683366, 0.12940668, 0.33550858, -0.443294...</td>\n",
       "      <td>NaN</td>\n",
       "      <td>NaN</td>\n",
       "      <td>NaN</td>\n",
       "      <td>[-5.14268465e-02, 7.35817128e-04, 6.35062680e-...</td>\n",
       "    </tr>\n",
       "  </tbody>\n",
       "</table>\n",
       "</div>"
      ],
      "text/plain": [
       "             ID                                      DisDirCorrVec  \\\n",
       "0  MESH:D058186  [3.70542593e-02, 3.52810957e-02, 2.35775501e-0...   \n",
       "1  MESH:D018248  [-0.03171459, 0.04182721, 0.11486322, -0.16316...   \n",
       "2  MESH:C566304  [-0.0222223, 0.01208713, 0.04465522, -0.074304...   \n",
       "3  MESH:D000544  [0.06039888, 0.04937351, 0.2646575, -0.3108586...   \n",
       "4  MESH:D006528  [0.11683366, 0.12940668, 0.33550858, -0.443294...   \n",
       "\n",
       "   DisInvCorrVec ChemDirCorrVec ChemInvCorrVec  \\\n",
       "0            NaN            NaN            NaN   \n",
       "1            NaN            NaN            NaN   \n",
       "2            NaN            NaN            NaN   \n",
       "3            NaN            NaN            NaN   \n",
       "4            NaN            NaN            NaN   \n",
       "\n",
       "                                   ChemUnspecCorrVec  \n",
       "0  [-0.02229903, 0.01431887, 0.13517049, -0.17734...  \n",
       "1                                                NaN  \n",
       "2                                                NaN  \n",
       "3  [-0.01752456, 0.01074598, 0.10239156, -0.12939...  \n",
       "4  [-5.14268465e-02, 7.35817128e-04, 6.35062680e-...  "
      ]
     },
     "execution_count": 417,
     "metadata": {},
     "output_type": "execute_result"
    }
   ],
   "source": [
    "df2.head()"
   ]
  },
  {
   "cell_type": "code",
   "execution_count": 418,
   "metadata": {},
   "outputs": [],
   "source": [
    "# df2.head()"
   ]
  },
  {
   "cell_type": "code",
   "execution_count": 419,
   "metadata": {},
   "outputs": [],
   "source": [
    "# merge all info into one df\n",
    "# this df now contains only correlated diseases and vecs\n",
    "df_d = df2.copy()\n",
    "df_d = df_d[['ID', 'DisDirCorrVec', 'DisInvCorrVec']]\n",
    "# df_d.columns= ['DiseaseID', 'DisDirCorrVec', 'DisInvCorrVec']\n",
    "# # df_d = ['DiseaseID', 'DVec', 'disDirCorr', 'disInvCorr', 'disUnspecCorr']\n",
    "df_c = df2.copy()\n",
    "df_c = df_c[['ID', 'ChemDirCorrVec', 'ChemInvCorrVec', 'ChemUnspecCorrVec']]\n",
    "\n",
    "df_c = df_c.rename(columns={'ID': 'ChemicalID'})\n",
    "df_d = df_d.rename(columns={'ID': 'DiseaseID'})\n",
    "# df_c = ['ChemicalID', 'ChemDirCorrVec', 'ChemInvCorrVec', 'ChemUnspecCorrVec']\n",
    "df1 = pd.merge(chem_dis, df_d, on='DiseaseID')\n",
    "df1 = pd.merge(df1, df_c, on='ChemicalID')\n",
    "\n",
    "# df1['Correlation'] = 1 # currently only have correlated in there"
   ]
  },
  {
   "cell_type": "code",
   "execution_count": 420,
   "metadata": {},
   "outputs": [
    {
     "data": {
      "text/html": [
       "<div>\n",
       "<style scoped>\n",
       "    .dataframe tbody tr th:only-of-type {\n",
       "        vertical-align: middle;\n",
       "    }\n",
       "\n",
       "    .dataframe tbody tr th {\n",
       "        vertical-align: top;\n",
       "    }\n",
       "\n",
       "    .dataframe thead th {\n",
       "        text-align: right;\n",
       "    }\n",
       "</style>\n",
       "<table border=\"1\" class=\"dataframe\">\n",
       "  <thead>\n",
       "    <tr style=\"text-align: right;\">\n",
       "      <th></th>\n",
       "      <th>ChemicalID</th>\n",
       "      <th>DiseaseID</th>\n",
       "      <th>DirectEvidence</th>\n",
       "      <th>DisDirCorrVec</th>\n",
       "      <th>DisInvCorrVec</th>\n",
       "      <th>ChemDirCorrVec</th>\n",
       "      <th>ChemInvCorrVec</th>\n",
       "      <th>ChemUnspecCorrVec</th>\n",
       "    </tr>\n",
       "  </thead>\n",
       "  <tbody>\n",
       "    <tr>\n",
       "      <th>0</th>\n",
       "      <td>C039775</td>\n",
       "      <td>MESH:D004827</td>\n",
       "      <td>therapeutic</td>\n",
       "      <td>[0.03703349, 0.01702639, 0.16707323, -0.230416...</td>\n",
       "      <td>NaN</td>\n",
       "      <td>NaN</td>\n",
       "      <td>NaN</td>\n",
       "      <td>[-0.00631367, 0.05053534, 0.05186689, -0.07342...</td>\n",
       "    </tr>\n",
       "    <tr>\n",
       "      <th>1</th>\n",
       "      <td>D000086</td>\n",
       "      <td>MESH:D004827</td>\n",
       "      <td>therapeutic</td>\n",
       "      <td>[0.03703349, 0.01702639, 0.16707323, -0.230416...</td>\n",
       "      <td>NaN</td>\n",
       "      <td>[-0.01689105, 0.0316028, 0.03639323, -0.125525...</td>\n",
       "      <td>[-0.01365298, 0.05250643, 0.04785401, -0.07331...</td>\n",
       "      <td>NaN</td>\n",
       "    </tr>\n",
       "    <tr>\n",
       "      <th>2</th>\n",
       "      <td>D000086</td>\n",
       "      <td>MESH:D000014</td>\n",
       "      <td>marker/mechanism</td>\n",
       "      <td>NaN</td>\n",
       "      <td>NaN</td>\n",
       "      <td>[-0.01689105, 0.0316028, 0.03639323, -0.125525...</td>\n",
       "      <td>[-0.01365298, 0.05250643, 0.04785401, -0.07331...</td>\n",
       "      <td>NaN</td>\n",
       "    </tr>\n",
       "    <tr>\n",
       "      <th>3</th>\n",
       "      <td>D000086</td>\n",
       "      <td>MESH:D007249</td>\n",
       "      <td>marker/mechanism</td>\n",
       "      <td>[0.07972322, -0.00689574, 0.26623446, -0.29851...</td>\n",
       "      <td>NaN</td>\n",
       "      <td>[-0.01689105, 0.0316028, 0.03639323, -0.125525...</td>\n",
       "      <td>[-0.01365298, 0.05250643, 0.04785401, -0.07331...</td>\n",
       "      <td>NaN</td>\n",
       "    </tr>\n",
       "    <tr>\n",
       "      <th>4</th>\n",
       "      <td>D000086</td>\n",
       "      <td>MESH:D020521</td>\n",
       "      <td>therapeutic</td>\n",
       "      <td>[1.64807625e-02, 1.21755200e-02, 2.55689591e-0...</td>\n",
       "      <td>NaN</td>\n",
       "      <td>[-0.01689105, 0.0316028, 0.03639323, -0.125525...</td>\n",
       "      <td>[-0.01365298, 0.05250643, 0.04785401, -0.07331...</td>\n",
       "      <td>NaN</td>\n",
       "    </tr>\n",
       "  </tbody>\n",
       "</table>\n",
       "</div>"
      ],
      "text/plain": [
       "  ChemicalID     DiseaseID    DirectEvidence  \\\n",
       "0    C039775  MESH:D004827       therapeutic   \n",
       "1    D000086  MESH:D004827       therapeutic   \n",
       "2    D000086  MESH:D000014  marker/mechanism   \n",
       "3    D000086  MESH:D007249  marker/mechanism   \n",
       "4    D000086  MESH:D020521       therapeutic   \n",
       "\n",
       "                                       DisDirCorrVec  DisInvCorrVec  \\\n",
       "0  [0.03703349, 0.01702639, 0.16707323, -0.230416...            NaN   \n",
       "1  [0.03703349, 0.01702639, 0.16707323, -0.230416...            NaN   \n",
       "2                                                NaN            NaN   \n",
       "3  [0.07972322, -0.00689574, 0.26623446, -0.29851...            NaN   \n",
       "4  [1.64807625e-02, 1.21755200e-02, 2.55689591e-0...            NaN   \n",
       "\n",
       "                                      ChemDirCorrVec  \\\n",
       "0                                                NaN   \n",
       "1  [-0.01689105, 0.0316028, 0.03639323, -0.125525...   \n",
       "2  [-0.01689105, 0.0316028, 0.03639323, -0.125525...   \n",
       "3  [-0.01689105, 0.0316028, 0.03639323, -0.125525...   \n",
       "4  [-0.01689105, 0.0316028, 0.03639323, -0.125525...   \n",
       "\n",
       "                                      ChemInvCorrVec  \\\n",
       "0                                                NaN   \n",
       "1  [-0.01365298, 0.05250643, 0.04785401, -0.07331...   \n",
       "2  [-0.01365298, 0.05250643, 0.04785401, -0.07331...   \n",
       "3  [-0.01365298, 0.05250643, 0.04785401, -0.07331...   \n",
       "4  [-0.01365298, 0.05250643, 0.04785401, -0.07331...   \n",
       "\n",
       "                                   ChemUnspecCorrVec  \n",
       "0  [-0.00631367, 0.05053534, 0.05186689, -0.07342...  \n",
       "1                                                NaN  \n",
       "2                                                NaN  \n",
       "3                                                NaN  \n",
       "4                                                NaN  "
      ]
     },
     "execution_count": 420,
     "metadata": {},
     "output_type": "execute_result"
    }
   ],
   "source": [
    "df1.head()"
   ]
  },
  {
   "cell_type": "code",
   "execution_count": null,
   "metadata": {},
   "outputs": [],
   "source": []
  },
  {
   "cell_type": "code",
   "execution_count": 421,
   "metadata": {},
   "outputs": [],
   "source": [
    "# df1['Correlation'] = df1.DirectEvidence.map(lambda x: 0 if x == 'therapeutic' else 2)"
   ]
  },
  {
   "cell_type": "code",
   "execution_count": 422,
   "metadata": {},
   "outputs": [],
   "source": [
    "# df1[['DirectEvidence']] = df1[['DirectEvidence']].fillna(value='Uncorrelated')\n",
    "# df1.DirectEvidence.value_counts()"
   ]
  },
  {
   "cell_type": "code",
   "execution_count": 423,
   "metadata": {},
   "outputs": [],
   "source": [
    "# df1['target'] = df1.DirectEvidence.astype('category').cat.codes"
   ]
  },
  {
   "cell_type": "code",
   "execution_count": 424,
   "metadata": {},
   "outputs": [],
   "source": [
    "# df1.head()"
   ]
  },
  {
   "cell_type": "code",
   "execution_count": 425,
   "metadata": {},
   "outputs": [],
   "source": [
    "# # Consolidate all info about an entity onto one line\n",
    "# #Chem\n",
    "# mask = (df1.chemDirCorr == 1)\n",
    "# df1.loc[mask, 'chemDirCorr'] = df1.CVec\n",
    "\n",
    "# mask = (df1.chemInvCorr == 1)\n",
    "# df1.loc[mask, 'chemInvCorr'] = df1.CVec\n",
    "\n",
    "# mask = (df1.chemUnspecCorr == 1)\n",
    "# df1.loc[mask, 'chemUnspecCorr'] = df1.CVec\n",
    "\n",
    "# #Dis ( no unspecified correlation for disease)\n",
    "# mask = (df1.disDirCorr == 1)\n",
    "# df1.loc[mask, 'disDirCorr'] = df1.DVec\n",
    "\n",
    "# mask = (df1.disInvCorr == 1)\n",
    "# df1.loc[mask, 'disInvCorr'] = df1.DVec"
   ]
  },
  {
   "cell_type": "code",
   "execution_count": 426,
   "metadata": {},
   "outputs": [],
   "source": [
    "# for col in ['disDirCorr', 'disInvCorr',  'chemDirCorr', 'chemInvCorr', 'chemUnspecCorr']:\n",
    "#     df1[col] = df1[col].replace(0,np.nan)"
   ]
  },
  {
   "cell_type": "code",
   "execution_count": 427,
   "metadata": {},
   "outputs": [],
   "source": [
    "# # aggregation_functions = {'disDirCorr': 'first', 'amount': 'sum', 'name': 'first'}\n",
    "# df2 = df1.groupby(['ChemicalID', 'DiseaseID', 'DirectEvidence']).aggregate('first')"
   ]
  },
  {
   "cell_type": "code",
   "execution_count": 428,
   "metadata": {},
   "outputs": [],
   "source": [
    "# # df2.columns = df2.columns.get_level_values(0)\n",
    "# # df2.columns = ['_'.join(tup).rstrip('_') for tup in df2.columns.values]\n",
    "# df2.columns = [\"_\".join(x) for x in df2.columns.ravel()]"
   ]
  },
  {
   "cell_type": "code",
   "execution_count": null,
   "metadata": {},
   "outputs": [],
   "source": []
  },
  {
   "cell_type": "code",
   "execution_count": 429,
   "metadata": {},
   "outputs": [
    {
     "data": {
      "text/html": [
       "<div>\n",
       "<style scoped>\n",
       "    .dataframe tbody tr th:only-of-type {\n",
       "        vertical-align: middle;\n",
       "    }\n",
       "\n",
       "    .dataframe tbody tr th {\n",
       "        vertical-align: top;\n",
       "    }\n",
       "\n",
       "    .dataframe thead th {\n",
       "        text-align: right;\n",
       "    }\n",
       "</style>\n",
       "<table border=\"1\" class=\"dataframe\">\n",
       "  <thead>\n",
       "    <tr style=\"text-align: right;\">\n",
       "      <th></th>\n",
       "      <th>ChemicalID</th>\n",
       "      <th>DiseaseID</th>\n",
       "      <th>DirectEvidence</th>\n",
       "      <th>DisDirCorrVec</th>\n",
       "      <th>DisInvCorrVec</th>\n",
       "      <th>ChemDirCorrVec</th>\n",
       "      <th>ChemInvCorrVec</th>\n",
       "      <th>ChemUnspecCorrVec</th>\n",
       "    </tr>\n",
       "  </thead>\n",
       "  <tbody>\n",
       "    <tr>\n",
       "      <th>0</th>\n",
       "      <td>C039775</td>\n",
       "      <td>MESH:D004827</td>\n",
       "      <td>therapeutic</td>\n",
       "      <td>[0.03703349, 0.01702639, 0.16707323, -0.230416...</td>\n",
       "      <td>NaN</td>\n",
       "      <td>NaN</td>\n",
       "      <td>NaN</td>\n",
       "      <td>[-0.00631367, 0.05053534, 0.05186689, -0.07342...</td>\n",
       "    </tr>\n",
       "    <tr>\n",
       "      <th>1</th>\n",
       "      <td>D000086</td>\n",
       "      <td>MESH:D004827</td>\n",
       "      <td>therapeutic</td>\n",
       "      <td>[0.03703349, 0.01702639, 0.16707323, -0.230416...</td>\n",
       "      <td>NaN</td>\n",
       "      <td>[-0.01689105, 0.0316028, 0.03639323, -0.125525...</td>\n",
       "      <td>[-0.01365298, 0.05250643, 0.04785401, -0.07331...</td>\n",
       "      <td>NaN</td>\n",
       "    </tr>\n",
       "    <tr>\n",
       "      <th>2</th>\n",
       "      <td>D000086</td>\n",
       "      <td>MESH:D000014</td>\n",
       "      <td>marker/mechanism</td>\n",
       "      <td>NaN</td>\n",
       "      <td>NaN</td>\n",
       "      <td>[-0.01689105, 0.0316028, 0.03639323, -0.125525...</td>\n",
       "      <td>[-0.01365298, 0.05250643, 0.04785401, -0.07331...</td>\n",
       "      <td>NaN</td>\n",
       "    </tr>\n",
       "    <tr>\n",
       "      <th>3</th>\n",
       "      <td>D000086</td>\n",
       "      <td>MESH:D007249</td>\n",
       "      <td>marker/mechanism</td>\n",
       "      <td>[0.07972322, -0.00689574, 0.26623446, -0.29851...</td>\n",
       "      <td>NaN</td>\n",
       "      <td>[-0.01689105, 0.0316028, 0.03639323, -0.125525...</td>\n",
       "      <td>[-0.01365298, 0.05250643, 0.04785401, -0.07331...</td>\n",
       "      <td>NaN</td>\n",
       "    </tr>\n",
       "    <tr>\n",
       "      <th>4</th>\n",
       "      <td>D000086</td>\n",
       "      <td>MESH:D020521</td>\n",
       "      <td>therapeutic</td>\n",
       "      <td>[1.64807625e-02, 1.21755200e-02, 2.55689591e-0...</td>\n",
       "      <td>NaN</td>\n",
       "      <td>[-0.01689105, 0.0316028, 0.03639323, -0.125525...</td>\n",
       "      <td>[-0.01365298, 0.05250643, 0.04785401, -0.07331...</td>\n",
       "      <td>NaN</td>\n",
       "    </tr>\n",
       "  </tbody>\n",
       "</table>\n",
       "</div>"
      ],
      "text/plain": [
       "  ChemicalID     DiseaseID    DirectEvidence  \\\n",
       "0    C039775  MESH:D004827       therapeutic   \n",
       "1    D000086  MESH:D004827       therapeutic   \n",
       "2    D000086  MESH:D000014  marker/mechanism   \n",
       "3    D000086  MESH:D007249  marker/mechanism   \n",
       "4    D000086  MESH:D020521       therapeutic   \n",
       "\n",
       "                                       DisDirCorrVec  DisInvCorrVec  \\\n",
       "0  [0.03703349, 0.01702639, 0.16707323, -0.230416...            NaN   \n",
       "1  [0.03703349, 0.01702639, 0.16707323, -0.230416...            NaN   \n",
       "2                                                NaN            NaN   \n",
       "3  [0.07972322, -0.00689574, 0.26623446, -0.29851...            NaN   \n",
       "4  [1.64807625e-02, 1.21755200e-02, 2.55689591e-0...            NaN   \n",
       "\n",
       "                                      ChemDirCorrVec  \\\n",
       "0                                                NaN   \n",
       "1  [-0.01689105, 0.0316028, 0.03639323, -0.125525...   \n",
       "2  [-0.01689105, 0.0316028, 0.03639323, -0.125525...   \n",
       "3  [-0.01689105, 0.0316028, 0.03639323, -0.125525...   \n",
       "4  [-0.01689105, 0.0316028, 0.03639323, -0.125525...   \n",
       "\n",
       "                                      ChemInvCorrVec  \\\n",
       "0                                                NaN   \n",
       "1  [-0.01365298, 0.05250643, 0.04785401, -0.07331...   \n",
       "2  [-0.01365298, 0.05250643, 0.04785401, -0.07331...   \n",
       "3  [-0.01365298, 0.05250643, 0.04785401, -0.07331...   \n",
       "4  [-0.01365298, 0.05250643, 0.04785401, -0.07331...   \n",
       "\n",
       "                                   ChemUnspecCorrVec  \n",
       "0  [-0.00631367, 0.05053534, 0.05186689, -0.07342...  \n",
       "1                                                NaN  \n",
       "2                                                NaN  \n",
       "3                                                NaN  \n",
       "4                                                NaN  "
      ]
     },
     "execution_count": 429,
     "metadata": {},
     "output_type": "execute_result"
    }
   ],
   "source": [
    "df1.head()"
   ]
  },
  {
   "cell_type": "code",
   "execution_count": 430,
   "metadata": {},
   "outputs": [],
   "source": [
    "# # Many of the rows have 1+ empty vec categories, let's fill this with noise\n",
    "# # TODO run one analysis with the noise ones and one with only the full rows, see the difference\n",
    "# empty_vec = [0.0] * 200\n",
    "# df1.DisDirCorrVec.astype(str)[2] == 'nan'\n",
    "\n",
    "\n",
    "# for col in ['DisDirCorrVec', 'DisInvCorrVec', 'ChemDirCorrVec', 'ChemInvCorrVec', 'ChemUnspecCorrVec']:\n",
    "#     df1[col] = df1[col].astype(str)\n",
    "#     df1[col] = df1[col].map(lambda x: empty_vec if x == 'nan' else x)\n",
    "#     df1[col] = df1[col].astype(list)"
   ]
  },
  {
   "cell_type": "code",
   "execution_count": 435,
   "metadata": {},
   "outputs": [
    {
     "data": {
      "text/plain": [
       "8033"
      ]
     },
     "execution_count": 435,
     "metadata": {},
     "output_type": "execute_result"
    }
   ],
   "source": [
    "df1.ChemUnspecCorrVec.isna().sum()"
   ]
  },
  {
   "cell_type": "code",
   "execution_count": null,
   "metadata": {},
   "outputs": [],
   "source": [
    "#Alternative to filling NaNs with noise, remove all rows with NaNs and see if that helps\n",
    "# First we'll drop columns with loads of Nas\n",
    "\n",
    "df1 = df1.dropna"
   ]
  },
  {
   "cell_type": "code",
   "execution_count": 323,
   "metadata": {},
   "outputs": [],
   "source": [
    "# Create separate dfs of dis-vecs and chem-vecs ( in order to generate additional rows for df1, unrelated pairs)\n",
    "dis = df.ID.map(lambda x: ('MESH' in x) | ('OMIM' in x))\n",
    "chems = df.ID.map(lambda x: ('MESH' not in x) & ('OMIM' not in x))\n",
    "\n",
    "df_chems = df[chems]\n",
    "df_dis = df[dis]\n",
    "df_chems = df_chems.reset_index(drop=True)\n",
    "df_dis = df_dis.reset_index(drop=True)"
   ]
  },
  {
   "cell_type": "code",
   "execution_count": 324,
   "metadata": {},
   "outputs": [],
   "source": [
    "# df1.loc[3, ['ChemicalID', 'DiseaseID']]"
   ]
  },
  {
   "cell_type": "code",
   "execution_count": 325,
   "metadata": {},
   "outputs": [
    {
     "data": {
      "text/html": [
       "<div>\n",
       "<style scoped>\n",
       "    .dataframe tbody tr th:only-of-type {\n",
       "        vertical-align: middle;\n",
       "    }\n",
       "\n",
       "    .dataframe tbody tr th {\n",
       "        vertical-align: top;\n",
       "    }\n",
       "\n",
       "    .dataframe thead th {\n",
       "        text-align: right;\n",
       "    }\n",
       "</style>\n",
       "<table border=\"1\" class=\"dataframe\">\n",
       "  <thead>\n",
       "    <tr style=\"text-align: right;\">\n",
       "      <th></th>\n",
       "      <th>ChemicalID</th>\n",
       "      <th>DiseaseID</th>\n",
       "      <th>DirectEvidence</th>\n",
       "      <th>DisDirCorrVec</th>\n",
       "      <th>DisInvCorrVec</th>\n",
       "      <th>ChemDirCorrVec</th>\n",
       "      <th>ChemInvCorrVec</th>\n",
       "      <th>ChemUnspecCorrVec</th>\n",
       "    </tr>\n",
       "  </thead>\n",
       "  <tbody>\n",
       "    <tr>\n",
       "      <th>0</th>\n",
       "      <td>C039775</td>\n",
       "      <td>MESH:D004827</td>\n",
       "      <td>therapeutic</td>\n",
       "      <td>['0.03703349', '0.01702639', '0.16707323', '-0...</td>\n",
       "      <td>[0.0, 0.0, 0.0, 0.0, 0.0, 0.0, 0.0, 0.0, 0.0, ...</td>\n",
       "      <td>[0.0, 0.0, 0.0, 0.0, 0.0, 0.0, 0.0, 0.0, 0.0, ...</td>\n",
       "      <td>[0.0, 0.0, 0.0, 0.0, 0.0, 0.0, 0.0, 0.0, 0.0, ...</td>\n",
       "      <td>['-0.00631367', '0.05053534', '0.05186689', '-...</td>\n",
       "    </tr>\n",
       "    <tr>\n",
       "      <th>1</th>\n",
       "      <td>D000086</td>\n",
       "      <td>MESH:D004827</td>\n",
       "      <td>therapeutic</td>\n",
       "      <td>['0.03703349', '0.01702639', '0.16707323', '-0...</td>\n",
       "      <td>[0.0, 0.0, 0.0, 0.0, 0.0, 0.0, 0.0, 0.0, 0.0, ...</td>\n",
       "      <td>['-0.01689105', '0.0316028', '0.03639323', '-0...</td>\n",
       "      <td>['-0.01365298', '0.05250643', '0.04785401', '-...</td>\n",
       "      <td>[0.0, 0.0, 0.0, 0.0, 0.0, 0.0, 0.0, 0.0, 0.0, ...</td>\n",
       "    </tr>\n",
       "    <tr>\n",
       "      <th>2</th>\n",
       "      <td>D000086</td>\n",
       "      <td>MESH:D000014</td>\n",
       "      <td>marker/mechanism</td>\n",
       "      <td>[0.0, 0.0, 0.0, 0.0, 0.0, 0.0, 0.0, 0.0, 0.0, ...</td>\n",
       "      <td>[0.0, 0.0, 0.0, 0.0, 0.0, 0.0, 0.0, 0.0, 0.0, ...</td>\n",
       "      <td>['-0.01689105', '0.0316028', '0.03639323', '-0...</td>\n",
       "      <td>['-0.01365298', '0.05250643', '0.04785401', '-...</td>\n",
       "      <td>[0.0, 0.0, 0.0, 0.0, 0.0, 0.0, 0.0, 0.0, 0.0, ...</td>\n",
       "    </tr>\n",
       "    <tr>\n",
       "      <th>3</th>\n",
       "      <td>D000086</td>\n",
       "      <td>MESH:D007249</td>\n",
       "      <td>marker/mechanism</td>\n",
       "      <td>['0.07972322', '-0.00689574', '0.26623446', '-...</td>\n",
       "      <td>[0.0, 0.0, 0.0, 0.0, 0.0, 0.0, 0.0, 0.0, 0.0, ...</td>\n",
       "      <td>['-0.01689105', '0.0316028', '0.03639323', '-0...</td>\n",
       "      <td>['-0.01365298', '0.05250643', '0.04785401', '-...</td>\n",
       "      <td>[0.0, 0.0, 0.0, 0.0, 0.0, 0.0, 0.0, 0.0, 0.0, ...</td>\n",
       "    </tr>\n",
       "    <tr>\n",
       "      <th>4</th>\n",
       "      <td>D000086</td>\n",
       "      <td>MESH:D020521</td>\n",
       "      <td>therapeutic</td>\n",
       "      <td>['1.64807625e-02', '1.21755200e-02', '2.556895...</td>\n",
       "      <td>[0.0, 0.0, 0.0, 0.0, 0.0, 0.0, 0.0, 0.0, 0.0, ...</td>\n",
       "      <td>['-0.01689105', '0.0316028', '0.03639323', '-0...</td>\n",
       "      <td>['-0.01365298', '0.05250643', '0.04785401', '-...</td>\n",
       "      <td>[0.0, 0.0, 0.0, 0.0, 0.0, 0.0, 0.0, 0.0, 0.0, ...</td>\n",
       "    </tr>\n",
       "  </tbody>\n",
       "</table>\n",
       "</div>"
      ],
      "text/plain": [
       "  ChemicalID     DiseaseID    DirectEvidence  \\\n",
       "0    C039775  MESH:D004827       therapeutic   \n",
       "1    D000086  MESH:D004827       therapeutic   \n",
       "2    D000086  MESH:D000014  marker/mechanism   \n",
       "3    D000086  MESH:D007249  marker/mechanism   \n",
       "4    D000086  MESH:D020521       therapeutic   \n",
       "\n",
       "                                       DisDirCorrVec  \\\n",
       "0  ['0.03703349', '0.01702639', '0.16707323', '-0...   \n",
       "1  ['0.03703349', '0.01702639', '0.16707323', '-0...   \n",
       "2  [0.0, 0.0, 0.0, 0.0, 0.0, 0.0, 0.0, 0.0, 0.0, ...   \n",
       "3  ['0.07972322', '-0.00689574', '0.26623446', '-...   \n",
       "4  ['1.64807625e-02', '1.21755200e-02', '2.556895...   \n",
       "\n",
       "                                       DisInvCorrVec  \\\n",
       "0  [0.0, 0.0, 0.0, 0.0, 0.0, 0.0, 0.0, 0.0, 0.0, ...   \n",
       "1  [0.0, 0.0, 0.0, 0.0, 0.0, 0.0, 0.0, 0.0, 0.0, ...   \n",
       "2  [0.0, 0.0, 0.0, 0.0, 0.0, 0.0, 0.0, 0.0, 0.0, ...   \n",
       "3  [0.0, 0.0, 0.0, 0.0, 0.0, 0.0, 0.0, 0.0, 0.0, ...   \n",
       "4  [0.0, 0.0, 0.0, 0.0, 0.0, 0.0, 0.0, 0.0, 0.0, ...   \n",
       "\n",
       "                                      ChemDirCorrVec  \\\n",
       "0  [0.0, 0.0, 0.0, 0.0, 0.0, 0.0, 0.0, 0.0, 0.0, ...   \n",
       "1  ['-0.01689105', '0.0316028', '0.03639323', '-0...   \n",
       "2  ['-0.01689105', '0.0316028', '0.03639323', '-0...   \n",
       "3  ['-0.01689105', '0.0316028', '0.03639323', '-0...   \n",
       "4  ['-0.01689105', '0.0316028', '0.03639323', '-0...   \n",
       "\n",
       "                                      ChemInvCorrVec  \\\n",
       "0  [0.0, 0.0, 0.0, 0.0, 0.0, 0.0, 0.0, 0.0, 0.0, ...   \n",
       "1  ['-0.01365298', '0.05250643', '0.04785401', '-...   \n",
       "2  ['-0.01365298', '0.05250643', '0.04785401', '-...   \n",
       "3  ['-0.01365298', '0.05250643', '0.04785401', '-...   \n",
       "4  ['-0.01365298', '0.05250643', '0.04785401', '-...   \n",
       "\n",
       "                                   ChemUnspecCorrVec  \n",
       "0  ['-0.00631367', '0.05053534', '0.05186689', '-...  \n",
       "1  [0.0, 0.0, 0.0, 0.0, 0.0, 0.0, 0.0, 0.0, 0.0, ...  \n",
       "2  [0.0, 0.0, 0.0, 0.0, 0.0, 0.0, 0.0, 0.0, 0.0, ...  \n",
       "3  [0.0, 0.0, 0.0, 0.0, 0.0, 0.0, 0.0, 0.0, 0.0, ...  \n",
       "4  [0.0, 0.0, 0.0, 0.0, 0.0, 0.0, 0.0, 0.0, 0.0, ...  "
      ]
     },
     "execution_count": 325,
     "metadata": {},
     "output_type": "execute_result"
    }
   ],
   "source": [
    "df1.head()"
   ]
  },
  {
   "cell_type": "code",
   "execution_count": 326,
   "metadata": {},
   "outputs": [
    {
     "data": {
      "text/html": [
       "<div>\n",
       "<style scoped>\n",
       "    .dataframe tbody tr th:only-of-type {\n",
       "        vertical-align: middle;\n",
       "    }\n",
       "\n",
       "    .dataframe tbody tr th {\n",
       "        vertical-align: top;\n",
       "    }\n",
       "\n",
       "    .dataframe thead th {\n",
       "        text-align: right;\n",
       "    }\n",
       "</style>\n",
       "<table border=\"1\" class=\"dataframe\">\n",
       "  <thead>\n",
       "    <tr style=\"text-align: right;\">\n",
       "      <th></th>\n",
       "      <th>ID</th>\n",
       "      <th>Vector</th>\n",
       "      <th>DisDirCorrVec</th>\n",
       "      <th>DisInvCorrVec</th>\n",
       "      <th>ChemDirCorrVec</th>\n",
       "      <th>ChemInvCorrVec</th>\n",
       "      <th>ChemUnspecVec</th>\n",
       "    </tr>\n",
       "  </thead>\n",
       "  <tbody>\n",
       "    <tr>\n",
       "      <th>0</th>\n",
       "      <td>MESH:D058186</td>\n",
       "      <td>[3.70542593e-02, 3.52810957e-02, 2.35775501e-0...</td>\n",
       "      <td>1</td>\n",
       "      <td>0</td>\n",
       "      <td>0</td>\n",
       "      <td>0</td>\n",
       "      <td>0</td>\n",
       "    </tr>\n",
       "    <tr>\n",
       "      <th>1</th>\n",
       "      <td>MESH:D018248</td>\n",
       "      <td>[-0.03171459, 0.04182721, 0.11486322, -0.16316...</td>\n",
       "      <td>1</td>\n",
       "      <td>0</td>\n",
       "      <td>0</td>\n",
       "      <td>0</td>\n",
       "      <td>0</td>\n",
       "    </tr>\n",
       "    <tr>\n",
       "      <th>2</th>\n",
       "      <td>MESH:C566304</td>\n",
       "      <td>[-0.0222223, 0.01208713, 0.04465522, -0.074304...</td>\n",
       "      <td>1</td>\n",
       "      <td>0</td>\n",
       "      <td>0</td>\n",
       "      <td>0</td>\n",
       "      <td>0</td>\n",
       "    </tr>\n",
       "    <tr>\n",
       "      <th>3</th>\n",
       "      <td>MESH:D000544</td>\n",
       "      <td>[0.06039888, 0.04937351, 0.2646575, -0.3108586...</td>\n",
       "      <td>1</td>\n",
       "      <td>0</td>\n",
       "      <td>0</td>\n",
       "      <td>0</td>\n",
       "      <td>0</td>\n",
       "    </tr>\n",
       "    <tr>\n",
       "      <th>4</th>\n",
       "      <td>MESH:D006528</td>\n",
       "      <td>[0.11683366, 0.12940668, 0.33550858, -0.443294...</td>\n",
       "      <td>1</td>\n",
       "      <td>0</td>\n",
       "      <td>0</td>\n",
       "      <td>0</td>\n",
       "      <td>0</td>\n",
       "    </tr>\n",
       "  </tbody>\n",
       "</table>\n",
       "</div>"
      ],
      "text/plain": [
       "             ID                                             Vector  \\\n",
       "0  MESH:D058186  [3.70542593e-02, 3.52810957e-02, 2.35775501e-0...   \n",
       "1  MESH:D018248  [-0.03171459, 0.04182721, 0.11486322, -0.16316...   \n",
       "2  MESH:C566304  [-0.0222223, 0.01208713, 0.04465522, -0.074304...   \n",
       "3  MESH:D000544  [0.06039888, 0.04937351, 0.2646575, -0.3108586...   \n",
       "4  MESH:D006528  [0.11683366, 0.12940668, 0.33550858, -0.443294...   \n",
       "\n",
       "   DisDirCorrVec  DisInvCorrVec  ChemDirCorrVec  ChemInvCorrVec  ChemUnspecVec  \n",
       "0              1              0               0               0              0  \n",
       "1              1              0               0               0              0  \n",
       "2              1              0               0               0              0  \n",
       "3              1              0               0               0              0  \n",
       "4              1              0               0               0              0  "
      ]
     },
     "execution_count": 326,
     "metadata": {},
     "output_type": "execute_result"
    }
   ],
   "source": [
    "df_dis.head()"
   ]
  },
  {
   "cell_type": "code",
   "execution_count": 327,
   "metadata": {},
   "outputs": [
    {
     "name": "stdout",
     "output_type": "stream",
     "text": [
      "(53682, 8)\n",
      "to add:  30000\n",
      "(83682, 9)\n",
      "(54397, 9)\n"
     ]
    }
   ],
   "source": [
    "# Add unrelated pairs to df1\n",
    "no_rows = 30000 #(df1.shape[0]-1)  # This is a parameter to be tuned --> how many uncorrelated pairs do we want\n",
    "print(df1.shape)\n",
    "print('to add: ', no_rows)\n",
    "\n",
    "# Randomly select chems and diseases (as many as there are related pairs)\n",
    "no_chems = len(df_chems) -1\n",
    "no_dis = len(df_dis) -1\n",
    "rand_chems = np.random.choice(no_chems, no_rows, replace=True)\n",
    "# np.random.seed(1606)\n",
    "rand_dis = np.random.choice(no_dis, no_rows, replace=True)\n",
    "\n",
    "# Add the new pairs as rows\n",
    "for x in range(0, no_rows):\n",
    "    int1 = rand_chems[x]\n",
    "    int2 = rand_dis[x]\n",
    "#     pdb.set_trace()\n",
    "    chem, cdvec, civec, cuvec = df1.loc[int1, 'ChemicalID'], df1.loc[int1, 'ChemDirCorrVec'], df1.loc[int1, 'ChemInvCorrVec'], df1.loc[int1, 'ChemUnspecCorrVec']\n",
    "    dis, ddvec, divec = df1.loc[int2, 'DiseaseID'], df1.loc[int2, 'DisDirCorrVec'], df1.loc[int2, 'DisInvCorrVec']\n",
    "    df1 = df1.append({'ChemicalID':chem, 'DiseaseID':dis, 'DirectEvidence':'unrel',  'DisDirCorrVec': ddvec,\n",
    "                      'DisInvCorrVec':divec, 'ChemDirCorrVec':cdvec, 'ChemInvCorrVec':civec,\"ChemUnspecCorrVec\":cuvec, \n",
    "                      'Correlation':0}, ignore_index=True)\n",
    "\n",
    "# ChemicalID\tDiseaseID\tDirectEvidence\tDisDirCorrVec\tDisInvCorrVec\tChemDirCorrVec\tChemInvCorrVec\tChemUnspecCorrVec\n",
    "    \n",
    "print(df1.shape)\n",
    "# Drop any duplicates (removes known correlated pairs accidentally generated as uncorrelated)\n",
    "df1 = df1.drop_duplicates(subset=['ChemicalID', 'DiseaseID'], keep=False)\n",
    "print(df1.shape)\n",
    "# Some of the lost duplicates seem to have been there pre this cell...is that an issue? TODO,"
   ]
  },
  {
   "cell_type": "code",
   "execution_count": 328,
   "metadata": {},
   "outputs": [
    {
     "data": {
      "text/html": [
       "<div>\n",
       "<style scoped>\n",
       "    .dataframe tbody tr th:only-of-type {\n",
       "        vertical-align: middle;\n",
       "    }\n",
       "\n",
       "    .dataframe tbody tr th {\n",
       "        vertical-align: top;\n",
       "    }\n",
       "\n",
       "    .dataframe thead th {\n",
       "        text-align: right;\n",
       "    }\n",
       "</style>\n",
       "<table border=\"1\" class=\"dataframe\">\n",
       "  <thead>\n",
       "    <tr style=\"text-align: right;\">\n",
       "      <th></th>\n",
       "      <th>ChemicalID</th>\n",
       "      <th>DiseaseID</th>\n",
       "      <th>DirectEvidence</th>\n",
       "      <th>DisDirCorrVec</th>\n",
       "      <th>DisInvCorrVec</th>\n",
       "      <th>ChemDirCorrVec</th>\n",
       "      <th>ChemInvCorrVec</th>\n",
       "      <th>ChemUnspecCorrVec</th>\n",
       "      <th>Correlation</th>\n",
       "    </tr>\n",
       "  </thead>\n",
       "  <tbody>\n",
       "    <tr>\n",
       "      <th>83671</th>\n",
       "      <td>D010862</td>\n",
       "      <td>MESH:D010149</td>\n",
       "      <td>unrel</td>\n",
       "      <td>[0.0, 0.0, 0.0, 0.0, 0.0, 0.0, 0.0, 0.0, 0.0, ...</td>\n",
       "      <td>[0.0, 0.0, 0.0, 0.0, 0.0, 0.0, 0.0, 0.0, 0.0, ...</td>\n",
       "      <td>[0.0, 0.0, 0.0, 0.0, 0.0, 0.0, 0.0, 0.0, 0.0, ...</td>\n",
       "      <td>['-2.54189726e-02', '4.01293673e-02', '2.79219...</td>\n",
       "      <td>['-0.03146739', '-0.02375653', '0.0760535', '-...</td>\n",
       "      <td>0.0</td>\n",
       "    </tr>\n",
       "    <tr>\n",
       "      <th>83673</th>\n",
       "      <td>C006780</td>\n",
       "      <td>MESH:D013610</td>\n",
       "      <td>unrel</td>\n",
       "      <td>['-0.00555181', '0.01014307', '0.12428922', '-...</td>\n",
       "      <td>[0.0, 0.0, 0.0, 0.0, 0.0, 0.0, 0.0, 0.0, 0.0, ...</td>\n",
       "      <td>['0.16919897', '-0.00142334', '0.2184323', '-0...</td>\n",
       "      <td>['0.15494879', '-0.02155033', '0.24381956', '-...</td>\n",
       "      <td>['0.17000219', '-0.0130177', '0.23846515', '-0...</td>\n",
       "      <td>0.0</td>\n",
       "    </tr>\n",
       "    <tr>\n",
       "      <th>83681</th>\n",
       "      <td>D001971</td>\n",
       "      <td>MESH:D009101</td>\n",
       "      <td>unrel</td>\n",
       "      <td>['-4.11967486e-02', '-5.14615551e-02', '9.6132...</td>\n",
       "      <td>[0.0, 0.0, 0.0, 0.0, 0.0, 0.0, 0.0, 0.0, 0.0, ...</td>\n",
       "      <td>['-2.73653194e-02', '4.42639291e-02', '5.67917...</td>\n",
       "      <td>['5.20121725e-03', '1.19470730e-02', '7.732748...</td>\n",
       "      <td>['-0.01100122', '-0.01778104', '0.03620442', '...</td>\n",
       "      <td>0.0</td>\n",
       "    </tr>\n",
       "  </tbody>\n",
       "</table>\n",
       "</div>"
      ],
      "text/plain": [
       "      ChemicalID     DiseaseID DirectEvidence  \\\n",
       "83671    D010862  MESH:D010149          unrel   \n",
       "83673    C006780  MESH:D013610          unrel   \n",
       "83681    D001971  MESH:D009101          unrel   \n",
       "\n",
       "                                           DisDirCorrVec  \\\n",
       "83671  [0.0, 0.0, 0.0, 0.0, 0.0, 0.0, 0.0, 0.0, 0.0, ...   \n",
       "83673  ['-0.00555181', '0.01014307', '0.12428922', '-...   \n",
       "83681  ['-4.11967486e-02', '-5.14615551e-02', '9.6132...   \n",
       "\n",
       "                                           DisInvCorrVec  \\\n",
       "83671  [0.0, 0.0, 0.0, 0.0, 0.0, 0.0, 0.0, 0.0, 0.0, ...   \n",
       "83673  [0.0, 0.0, 0.0, 0.0, 0.0, 0.0, 0.0, 0.0, 0.0, ...   \n",
       "83681  [0.0, 0.0, 0.0, 0.0, 0.0, 0.0, 0.0, 0.0, 0.0, ...   \n",
       "\n",
       "                                          ChemDirCorrVec  \\\n",
       "83671  [0.0, 0.0, 0.0, 0.0, 0.0, 0.0, 0.0, 0.0, 0.0, ...   \n",
       "83673  ['0.16919897', '-0.00142334', '0.2184323', '-0...   \n",
       "83681  ['-2.73653194e-02', '4.42639291e-02', '5.67917...   \n",
       "\n",
       "                                          ChemInvCorrVec  \\\n",
       "83671  ['-2.54189726e-02', '4.01293673e-02', '2.79219...   \n",
       "83673  ['0.15494879', '-0.02155033', '0.24381956', '-...   \n",
       "83681  ['5.20121725e-03', '1.19470730e-02', '7.732748...   \n",
       "\n",
       "                                       ChemUnspecCorrVec  Correlation  \n",
       "83671  ['-0.03146739', '-0.02375653', '0.0760535', '-...          0.0  \n",
       "83673  ['0.17000219', '-0.0130177', '0.23846515', '-0...          0.0  \n",
       "83681  ['-0.01100122', '-0.01778104', '0.03620442', '...          0.0  "
      ]
     },
     "execution_count": 328,
     "metadata": {},
     "output_type": "execute_result"
    }
   ],
   "source": [
    "df1[-3:]"
   ]
  },
  {
   "cell_type": "code",
   "execution_count": 329,
   "metadata": {},
   "outputs": [
    {
     "data": {
      "text/plain": [
       "True"
      ]
     },
     "execution_count": 329,
     "metadata": {},
     "output_type": "execute_result"
    }
   ],
   "source": [
    "type(df1.DisDirCorrVec[0]) == str"
   ]
  },
  {
   "cell_type": "code",
   "execution_count": 330,
   "metadata": {},
   "outputs": [],
   "source": [
    "# The vectors are currently mostly strings containing strings, turn to list of floats\n",
    "for col in ['DisDirCorrVec', 'DisInvCorrVec', 'ChemDirCorrVec', 'ChemInvCorrVec', 'ChemUnspecCorrVec']:\n",
    "    df1[col] = df1[col].map(lambda x: [float(y) for y in eval(x)] if type(x) is str else x)"
   ]
  },
  {
   "cell_type": "code",
   "execution_count": 331,
   "metadata": {},
   "outputs": [],
   "source": [
    "# tester = df1.DisDirCorrVec.map(lambda x: eval(x) if x is str else x)\n",
    "# tester = df1.DisDirCorrVec.map(lambda x: [float(y) for y in x])"
   ]
  },
  {
   "cell_type": "code",
   "execution_count": 332,
   "metadata": {},
   "outputs": [],
   "source": [
    "# tester = df1.DisDirCorrVec.map(lambda x: [float(y) for y in eval(x)] if type(x) is str else x)\n",
    "# [float(y) for y in eval(tester[1])]"
   ]
  },
  {
   "cell_type": "code",
   "execution_count": 333,
   "metadata": {},
   "outputs": [],
   "source": [
    "# tester"
   ]
  },
  {
   "cell_type": "code",
   "execution_count": 334,
   "metadata": {},
   "outputs": [],
   "source": [
    "# Currently the vectors are string objects, convert to lists (whole and then elements)\n",
    "    \n",
    "# df1.DisDirCorrVec = df1.DisDirCorrVec.map(lambda x: ast.literal_eval(x) if isinstance(x, str) else x)"
   ]
  },
  {
   "cell_type": "code",
   "execution_count": 335,
   "metadata": {},
   "outputs": [],
   "source": [
    "# Convert the elements of the vectors to actual numbers\n",
    "# df1['DisDirCorrVec'] = df1.DisDirCorrVec.map(lambda x: [float(i) for i in x])\n",
    "# df1['DisInvCorrVec'] = df1.DisInvCorrVec.map(lambda x: [float(i) for i in x])\n",
    "# df1['ChemDirCorrVec'] = df1.ChemDirCorrVec.map(lambda x: [float(i) for i in x])\n",
    "# df1['ChemInvCorrVec'] = df1.ChemInvCorrVec.map(lambda x: [float(i) for i in x])\n",
    "# df1['ChemUnspecCorrVec'] = df1.ChemUnspecCorrVec.map(lambda x: [float(i) for i in x])"
   ]
  },
  {
   "cell_type": "code",
   "execution_count": 336,
   "metadata": {},
   "outputs": [
    {
     "data": {
      "text/plain": [
       "array(['therapeutic', 'marker/mechanism', 'unrel'], dtype=object)"
      ]
     },
     "execution_count": 336,
     "metadata": {},
     "output_type": "execute_result"
    }
   ],
   "source": [
    "df1.DirectEvidence.unique()"
   ]
  },
  {
   "cell_type": "code",
   "execution_count": 337,
   "metadata": {},
   "outputs": [],
   "source": [
    "# Turn correlation into three options\n",
    "# [1,0,0] --> neg corr\n",
    "# [0,1,0] --> no corr\n",
    "# [0,0,1] --> pos corr\n",
    "# Note we can't be certain that the unrelated pairs are actually unrelated\n",
    "\n",
    "df1['y'] = df1.DirectEvidence.map(lambda x: [1,0,0] if x == 'therapeutic' else ([0,1,0] if x == 'unrel' else [0,0,1]))\n",
    "\n",
    "# Old version:\n",
    "# df1['y'] = df1.Correlation.map(lambda x: [1,0,0] if x == 0 else ([0,1,0] if x == 1 else [0,0,1]))"
   ]
  },
  {
   "cell_type": "code",
   "execution_count": 338,
   "metadata": {},
   "outputs": [],
   "source": [
    "# # Chopping out negatively correlated in order to test the new vectors as compared to original setup\n",
    "# print(df1.shape)\n",
    "# df1 = df1[df1.Correlation != 0]\n",
    "# print(df1.shape)\n",
    "# df1.Correlation = df1.Correlation.map(lambda x: x-1)"
   ]
  },
  {
   "cell_type": "code",
   "execution_count": 339,
   "metadata": {},
   "outputs": [],
   "source": [
    "# df1.y.value_counts()"
   ]
  },
  {
   "cell_type": "markdown",
   "metadata": {},
   "source": [
    "### 2. Preprocess\n",
    "Now that we have the df ready, let's split it into train/test/validation sets and convert it into numpy arrays so it can be consumed by a Keras NN"
   ]
  },
  {
   "cell_type": "code",
   "execution_count": 340,
   "metadata": {},
   "outputs": [
    {
     "name": "stdout",
     "output_type": "stream",
     "text": [
      "28532\n",
      "15752\n",
      "10113\n"
     ]
    }
   ],
   "source": [
    "print(len(df1[df1.DirectEvidence =='marker/mechanism']))\n",
    "print(len(df1[df1.DirectEvidence =='therapeutic']))\n",
    "print(len(df1[df1.DirectEvidence == 'unrel']))\n",
    "# print(len(df1[df1.DirectEvidence.isna()]))"
   ]
  },
  {
   "cell_type": "code",
   "execution_count": 341,
   "metadata": {},
   "outputs": [
    {
     "data": {
      "text/html": [
       "<div>\n",
       "<style scoped>\n",
       "    .dataframe tbody tr th:only-of-type {\n",
       "        vertical-align: middle;\n",
       "    }\n",
       "\n",
       "    .dataframe tbody tr th {\n",
       "        vertical-align: top;\n",
       "    }\n",
       "\n",
       "    .dataframe thead th {\n",
       "        text-align: right;\n",
       "    }\n",
       "</style>\n",
       "<table border=\"1\" class=\"dataframe\">\n",
       "  <thead>\n",
       "    <tr style=\"text-align: right;\">\n",
       "      <th></th>\n",
       "      <th>ChemicalID</th>\n",
       "      <th>DiseaseID</th>\n",
       "      <th>DirectEvidence</th>\n",
       "      <th>DisDirCorrVec</th>\n",
       "      <th>DisInvCorrVec</th>\n",
       "      <th>ChemDirCorrVec</th>\n",
       "      <th>ChemInvCorrVec</th>\n",
       "      <th>ChemUnspecCorrVec</th>\n",
       "      <th>Correlation</th>\n",
       "      <th>y</th>\n",
       "    </tr>\n",
       "  </thead>\n",
       "  <tbody>\n",
       "    <tr>\n",
       "      <th>0</th>\n",
       "      <td>C039775</td>\n",
       "      <td>MESH:D004827</td>\n",
       "      <td>therapeutic</td>\n",
       "      <td>[0.03703349, 0.01702639, 0.16707323, -0.230416...</td>\n",
       "      <td>[0.0, 0.0, 0.0, 0.0, 0.0, 0.0, 0.0, 0.0, 0.0, ...</td>\n",
       "      <td>[0.0, 0.0, 0.0, 0.0, 0.0, 0.0, 0.0, 0.0, 0.0, ...</td>\n",
       "      <td>[0.0, 0.0, 0.0, 0.0, 0.0, 0.0, 0.0, 0.0, 0.0, ...</td>\n",
       "      <td>[-0.00631367, 0.05053534, 0.05186689, -0.07342...</td>\n",
       "      <td>NaN</td>\n",
       "      <td>[1, 0, 0]</td>\n",
       "    </tr>\n",
       "    <tr>\n",
       "      <th>2</th>\n",
       "      <td>D000086</td>\n",
       "      <td>MESH:D000014</td>\n",
       "      <td>marker/mechanism</td>\n",
       "      <td>[0.0, 0.0, 0.0, 0.0, 0.0, 0.0, 0.0, 0.0, 0.0, ...</td>\n",
       "      <td>[0.0, 0.0, 0.0, 0.0, 0.0, 0.0, 0.0, 0.0, 0.0, ...</td>\n",
       "      <td>[-0.01689105, 0.0316028, 0.03639323, -0.125525...</td>\n",
       "      <td>[-0.01365298, 0.05250643, 0.04785401, -0.07331...</td>\n",
       "      <td>[0.0, 0.0, 0.0, 0.0, 0.0, 0.0, 0.0, 0.0, 0.0, ...</td>\n",
       "      <td>NaN</td>\n",
       "      <td>[0, 0, 1]</td>\n",
       "    </tr>\n",
       "    <tr>\n",
       "      <th>4</th>\n",
       "      <td>D000086</td>\n",
       "      <td>MESH:D020521</td>\n",
       "      <td>therapeutic</td>\n",
       "      <td>[0.0164807625, 0.01217552, 0.255689591, -0.294...</td>\n",
       "      <td>[0.0, 0.0, 0.0, 0.0, 0.0, 0.0, 0.0, 0.0, 0.0, ...</td>\n",
       "      <td>[-0.01689105, 0.0316028, 0.03639323, -0.125525...</td>\n",
       "      <td>[-0.01365298, 0.05250643, 0.04785401, -0.07331...</td>\n",
       "      <td>[0.0, 0.0, 0.0, 0.0, 0.0, 0.0, 0.0, 0.0, 0.0, ...</td>\n",
       "      <td>NaN</td>\n",
       "      <td>[1, 0, 0]</td>\n",
       "    </tr>\n",
       "    <tr>\n",
       "      <th>10</th>\n",
       "      <td>D000086</td>\n",
       "      <td>MESH:D006965</td>\n",
       "      <td>marker/mechanism</td>\n",
       "      <td>[0.0463827, -0.00395345, 0.23921703, -0.246568...</td>\n",
       "      <td>[0.0, 0.0, 0.0, 0.0, 0.0, 0.0, 0.0, 0.0, 0.0, ...</td>\n",
       "      <td>[-0.01689105, 0.0316028, 0.03639323, -0.125525...</td>\n",
       "      <td>[-0.01365298, 0.05250643, 0.04785401, -0.07331...</td>\n",
       "      <td>[0.0, 0.0, 0.0, 0.0, 0.0, 0.0, 0.0, 0.0, 0.0, ...</td>\n",
       "      <td>NaN</td>\n",
       "      <td>[0, 0, 1]</td>\n",
       "    </tr>\n",
       "    <tr>\n",
       "      <th>11</th>\n",
       "      <td>D000086</td>\n",
       "      <td>MESH:D053565</td>\n",
       "      <td>marker/mechanism</td>\n",
       "      <td>[-0.0352308825, 0.0233300179, 0.0585156679, -0...</td>\n",
       "      <td>[0.0, 0.0, 0.0, 0.0, 0.0, 0.0, 0.0, 0.0, 0.0, ...</td>\n",
       "      <td>[-0.01689105, 0.0316028, 0.03639323, -0.125525...</td>\n",
       "      <td>[-0.01365298, 0.05250643, 0.04785401, -0.07331...</td>\n",
       "      <td>[0.0, 0.0, 0.0, 0.0, 0.0, 0.0, 0.0, 0.0, 0.0, ...</td>\n",
       "      <td>NaN</td>\n",
       "      <td>[0, 0, 1]</td>\n",
       "    </tr>\n",
       "  </tbody>\n",
       "</table>\n",
       "</div>"
      ],
      "text/plain": [
       "   ChemicalID     DiseaseID    DirectEvidence  \\\n",
       "0     C039775  MESH:D004827       therapeutic   \n",
       "2     D000086  MESH:D000014  marker/mechanism   \n",
       "4     D000086  MESH:D020521       therapeutic   \n",
       "10    D000086  MESH:D006965  marker/mechanism   \n",
       "11    D000086  MESH:D053565  marker/mechanism   \n",
       "\n",
       "                                        DisDirCorrVec  \\\n",
       "0   [0.03703349, 0.01702639, 0.16707323, -0.230416...   \n",
       "2   [0.0, 0.0, 0.0, 0.0, 0.0, 0.0, 0.0, 0.0, 0.0, ...   \n",
       "4   [0.0164807625, 0.01217552, 0.255689591, -0.294...   \n",
       "10  [0.0463827, -0.00395345, 0.23921703, -0.246568...   \n",
       "11  [-0.0352308825, 0.0233300179, 0.0585156679, -0...   \n",
       "\n",
       "                                        DisInvCorrVec  \\\n",
       "0   [0.0, 0.0, 0.0, 0.0, 0.0, 0.0, 0.0, 0.0, 0.0, ...   \n",
       "2   [0.0, 0.0, 0.0, 0.0, 0.0, 0.0, 0.0, 0.0, 0.0, ...   \n",
       "4   [0.0, 0.0, 0.0, 0.0, 0.0, 0.0, 0.0, 0.0, 0.0, ...   \n",
       "10  [0.0, 0.0, 0.0, 0.0, 0.0, 0.0, 0.0, 0.0, 0.0, ...   \n",
       "11  [0.0, 0.0, 0.0, 0.0, 0.0, 0.0, 0.0, 0.0, 0.0, ...   \n",
       "\n",
       "                                       ChemDirCorrVec  \\\n",
       "0   [0.0, 0.0, 0.0, 0.0, 0.0, 0.0, 0.0, 0.0, 0.0, ...   \n",
       "2   [-0.01689105, 0.0316028, 0.03639323, -0.125525...   \n",
       "4   [-0.01689105, 0.0316028, 0.03639323, -0.125525...   \n",
       "10  [-0.01689105, 0.0316028, 0.03639323, -0.125525...   \n",
       "11  [-0.01689105, 0.0316028, 0.03639323, -0.125525...   \n",
       "\n",
       "                                       ChemInvCorrVec  \\\n",
       "0   [0.0, 0.0, 0.0, 0.0, 0.0, 0.0, 0.0, 0.0, 0.0, ...   \n",
       "2   [-0.01365298, 0.05250643, 0.04785401, -0.07331...   \n",
       "4   [-0.01365298, 0.05250643, 0.04785401, -0.07331...   \n",
       "10  [-0.01365298, 0.05250643, 0.04785401, -0.07331...   \n",
       "11  [-0.01365298, 0.05250643, 0.04785401, -0.07331...   \n",
       "\n",
       "                                    ChemUnspecCorrVec  Correlation          y  \n",
       "0   [-0.00631367, 0.05053534, 0.05186689, -0.07342...          NaN  [1, 0, 0]  \n",
       "2   [0.0, 0.0, 0.0, 0.0, 0.0, 0.0, 0.0, 0.0, 0.0, ...          NaN  [0, 0, 1]  \n",
       "4   [0.0, 0.0, 0.0, 0.0, 0.0, 0.0, 0.0, 0.0, 0.0, ...          NaN  [1, 0, 0]  \n",
       "10  [0.0, 0.0, 0.0, 0.0, 0.0, 0.0, 0.0, 0.0, 0.0, ...          NaN  [0, 0, 1]  \n",
       "11  [0.0, 0.0, 0.0, 0.0, 0.0, 0.0, 0.0, 0.0, 0.0, ...          NaN  [0, 0, 1]  "
      ]
     },
     "execution_count": 341,
     "metadata": {},
     "output_type": "execute_result"
    }
   ],
   "source": [
    "df1.head()"
   ]
  },
  {
   "cell_type": "code",
   "execution_count": 342,
   "metadata": {},
   "outputs": [],
   "source": [
    "# Merge all vecs into one\n",
    "df1['all_x'] = df1.DisDirCorrVec + df1.DisInvCorrVec + df1.ChemDirCorrVec + df1.ChemInvCorrVec + df1.ChemUnspecCorrVec"
   ]
  },
  {
   "cell_type": "code",
   "execution_count": 343,
   "metadata": {},
   "outputs": [],
   "source": [
    "# For Keras, need to turn inputs into numpy arrays instead of pandas df +\n",
    "df1.all_x = df1.all_x.map(lambda x: np.asarray(x))\n",
    "df1.y = df1.y.map(lambda x: np.array(x))"
   ]
  },
  {
   "cell_type": "code",
   "execution_count": 344,
   "metadata": {},
   "outputs": [],
   "source": [
    "# all_X = df1.all_x"
   ]
  },
  {
   "cell_type": "code",
   "execution_count": 345,
   "metadata": {},
   "outputs": [],
   "source": [
    "# For Keras, need to turn inputs into numpy arrays instead of pandas df\n",
    "# First create single np array of the two vectors CONCERN: should these be two separate inputs?\n",
    "# Dvecs = pd.DataFrame(df1.DVec.values.tolist(), index= df1.index)\n",
    "# Cvecs = pd.DataFrame(df1.CVec.values.tolist(), index= df1.index)\n",
    "# all_X = Dvecs.merge(Cvecs, how='outer', left_index=True, right_index=True)\n",
    "# all_X = np.array(all_X)"
   ]
  },
  {
   "cell_type": "code",
   "execution_count": 346,
   "metadata": {},
   "outputs": [],
   "source": [
    "# For Keras, need to turn inputs into numpy arrays instead of pandas df +\n",
    "# Merge all vecs for a c-d pairing in this order: ddir dinv cdir cinv cunspec\n",
    "# ddvec = pd.DataFrame(df1.DisDirCorrVec.values.tolist(), index= df1.index)\n",
    "# divec = pd.DataFrame(df1.DisInvCorrVec.values.tolist(), index= df1.index)\n",
    "# cdvec = pd.DataFrame(df1.ChemDirCorrVec.values.tolist(), index= df1.index)\n",
    "# civec = pd.DataFrame(df1.ChemInvCorrVec.values.tolist(), index= df1.index)\n",
    "# cuvec = pd.DataFrame(df1.ChemUnspecCorrVec.values.tolist(), index= df1.index)\n",
    "# all_X = Dvecs.merge(Cvecs, how='outer', left_index=True, right_index=True)\n",
    "# all_X = np.array(all_X)\n",
    "# all_X = ddvec.merge\n"
   ]
  },
  {
   "cell_type": "code",
   "execution_count": 347,
   "metadata": {},
   "outputs": [],
   "source": [
    "# Merge all the above dfs in one line... probably require supercomputer access\n",
    "# from functools import reduce\n",
    "# data_frames = [ddvec, divec, cdvec, civec, cuvec]\n",
    "\n",
    "# df_merged = reduce(lambda  left,right: pd.merge(left,right,\n",
    "#                                             how='outer'), data_frames)\n",
    "\n",
    "# df_merged = reduce(lambda  left,right: pd.merge(left_index=True, right_index=True,\n",
    "#                                             how='outer'), data_frames)"
   ]
  },
  {
   "cell_type": "code",
   "execution_count": 348,
   "metadata": {},
   "outputs": [
    {
     "data": {
      "text/html": [
       "<div>\n",
       "<style scoped>\n",
       "    .dataframe tbody tr th:only-of-type {\n",
       "        vertical-align: middle;\n",
       "    }\n",
       "\n",
       "    .dataframe tbody tr th {\n",
       "        vertical-align: top;\n",
       "    }\n",
       "\n",
       "    .dataframe thead th {\n",
       "        text-align: right;\n",
       "    }\n",
       "</style>\n",
       "<table border=\"1\" class=\"dataframe\">\n",
       "  <thead>\n",
       "    <tr style=\"text-align: right;\">\n",
       "      <th></th>\n",
       "      <th>ChemicalID</th>\n",
       "      <th>DiseaseID</th>\n",
       "      <th>DirectEvidence</th>\n",
       "      <th>DisDirCorrVec</th>\n",
       "      <th>DisInvCorrVec</th>\n",
       "      <th>ChemDirCorrVec</th>\n",
       "      <th>ChemInvCorrVec</th>\n",
       "      <th>ChemUnspecCorrVec</th>\n",
       "      <th>Correlation</th>\n",
       "      <th>y</th>\n",
       "      <th>all_x</th>\n",
       "    </tr>\n",
       "  </thead>\n",
       "  <tbody>\n",
       "    <tr>\n",
       "      <th>18691</th>\n",
       "      <td>D013311</td>\n",
       "      <td>MESH:D007172</td>\n",
       "      <td>marker/mechanism</td>\n",
       "      <td>[-0.03516325, -0.03760533, 0.0923989, -0.14524...</td>\n",
       "      <td>[0.0, 0.0, 0.0, 0.0, 0.0, 0.0, 0.0, 0.0, 0.0, ...</td>\n",
       "      <td>[-0.01711337, -0.03490911, 0.14840084, -0.1573...</td>\n",
       "      <td>[-0.00862021, -0.00155699, 0.12589115, -0.1585...</td>\n",
       "      <td>[0.01365033, -0.05333043, 0.16401969, -0.18075...</td>\n",
       "      <td>NaN</td>\n",
       "      <td>[0, 0, 1]</td>\n",
       "      <td>[-0.03516325, -0.03760533, 0.0923989, -0.14524...</td>\n",
       "    </tr>\n",
       "  </tbody>\n",
       "</table>\n",
       "</div>"
      ],
      "text/plain": [
       "      ChemicalID     DiseaseID    DirectEvidence  \\\n",
       "18691    D013311  MESH:D007172  marker/mechanism   \n",
       "\n",
       "                                           DisDirCorrVec  \\\n",
       "18691  [-0.03516325, -0.03760533, 0.0923989, -0.14524...   \n",
       "\n",
       "                                           DisInvCorrVec  \\\n",
       "18691  [0.0, 0.0, 0.0, 0.0, 0.0, 0.0, 0.0, 0.0, 0.0, ...   \n",
       "\n",
       "                                          ChemDirCorrVec  \\\n",
       "18691  [-0.01711337, -0.03490911, 0.14840084, -0.1573...   \n",
       "\n",
       "                                          ChemInvCorrVec  \\\n",
       "18691  [-0.00862021, -0.00155699, 0.12589115, -0.1585...   \n",
       "\n",
       "                                       ChemUnspecCorrVec  Correlation  \\\n",
       "18691  [0.01365033, -0.05333043, 0.16401969, -0.18075...          NaN   \n",
       "\n",
       "               y                                              all_x  \n",
       "18691  [0, 0, 1]  [-0.03516325, -0.03760533, 0.0923989, -0.14524...  "
      ]
     },
     "execution_count": 348,
     "metadata": {},
     "output_type": "execute_result"
    }
   ],
   "source": [
    "df1.sample(1)"
   ]
  },
  {
   "cell_type": "code",
   "execution_count": 349,
   "metadata": {},
   "outputs": [],
   "source": [
    "# Now create np array of the y output\n",
    "# all_y = np.array(df1.y)\n",
    "# all_y = np.array(df1.y)"
   ]
  },
  {
   "cell_type": "code",
   "execution_count": 350,
   "metadata": {},
   "outputs": [],
   "source": [
    "# Here I'm going to split y into three columns, model isn't accepting the current col of lists\n",
    "df1[['neg_corr', 'no_corr', 'pos_corr']] = pd.DataFrame(df1.y.values.tolist(), index= df1.index)\n",
    "# Turn those three columns into a numpy matrix for y\n",
    "all_y = df1[['neg_corr', 'no_corr', 'pos_corr']].values"
   ]
  },
  {
   "cell_type": "code",
   "execution_count": 382,
   "metadata": {},
   "outputs": [
    {
     "name": "stdout",
     "output_type": "stream",
     "text": [
      "y shape:  (54397, 3)\n",
      "X shape:  (48415,)\n"
     ]
    }
   ],
   "source": [
    "print('y shape: ', all_y.shape)\n",
    "print('X shape: ', all_X.shape)"
   ]
  },
  {
   "cell_type": "code",
   "execution_count": 352,
   "metadata": {},
   "outputs": [],
   "source": [
    "df1 = df1.reset_index()\n"
   ]
  },
  {
   "cell_type": "code",
   "execution_count": 354,
   "metadata": {},
   "outputs": [],
   "source": [
    "# # Create training, test, val set in a way that we can later look at the rows of each BY ROWS\n",
    "# total_rows = len(all_X)\n",
    "# row_numbers = list(range(0, total_rows))\n",
    "\n",
    "# training_rows = random.sample(row_numbers, int(round(total_rows * .6)))\n",
    "# row_numbers = set(row_numbers) - set(training_rows)\n",
    "\n",
    "# test_rows = random.sample(row_numbers, int(round(total_rows * .2)))\n",
    "# row_numbers = set(row_numbers) - set(test_rows)\n",
    "\n",
    "# val_rows = list(row_numbers)"
   ]
  },
  {
   "cell_type": "code",
   "execution_count": 355,
   "metadata": {},
   "outputs": [
    {
     "name": "stdout",
     "output_type": "stream",
     "text": [
      "number of chemicals:  3864\n",
      "number of dis:  929\n",
      "2318 773 773\n"
     ]
    }
   ],
   "source": [
    "# Split into train, test, val BY CHEMICAL instead of by random rows\n",
    "print('number of chemicals: ', len(df1.ChemicalID.unique()))\n",
    "print('number of dis: ', len(df1.DiseaseID.unique()))\n",
    "chems = list(df1.ChemicalID.unique())\n",
    "random.shuffle(chems)\n",
    "\n",
    "total_chems = len(chems)\n",
    "train_chems = chems[:round(total_chems * .6)]\n",
    "test_chems = chems[round(total_chems * .6):round(total_chems * .8)]\n",
    "val_chems = chems[round(total_chems * .8):]\n",
    "\n",
    "print(len(train_chems), len(test_chems), len(val_chems))\n",
    "\n",
    "# Now get the row numbers for each set of chemicals "
   ]
  },
  {
   "cell_type": "code",
   "execution_count": 356,
   "metadata": {},
   "outputs": [],
   "source": [
    "df1['train'] = df1.ChemicalID.isin(train_chems)\n",
    "df1['test'] = df1.ChemicalID.isin(test_chems)\n",
    "df1['val'] = df1.ChemicalID.isin(val_chems)"
   ]
  },
  {
   "cell_type": "code",
   "execution_count": 357,
   "metadata": {},
   "outputs": [],
   "source": [
    "# df1.head()"
   ]
  },
  {
   "cell_type": "code",
   "execution_count": 358,
   "metadata": {},
   "outputs": [],
   "source": [
    "## Commenting out and redoing as the index goes wrong somewhere with this now\n",
    "# df1 = df1.reset_index()\n",
    "# training_rows = df1.index[df1.train == True].tolist()\n",
    "# test_rows = df1.index[df1.test == True].tolist()\n",
    "# val_rows = df1.index[df1.val == True].tolist()\n",
    "# Split into train, test, val\n",
    "# X_train, X_test, X_val = all_X[training_rows], all_X[test_rows], all_X[val_rows]\n",
    "# y_train, y_test, y_val = all_y[training_rows], all_y[test_rows], all_y[val_rows]\n",
    "\n",
    "# print(len(training_rows), len(test_rows), len(val_rows))"
   ]
  },
  {
   "cell_type": "code",
   "execution_count": 359,
   "metadata": {},
   "outputs": [],
   "source": [
    "# X_train"
   ]
  },
  {
   "cell_type": "code",
   "execution_count": 360,
   "metadata": {},
   "outputs": [],
   "source": [
    "# df1.iloc[15:20]"
   ]
  },
  {
   "cell_type": "code",
   "execution_count": 361,
   "metadata": {},
   "outputs": [
    {
     "name": "stdout",
     "output_type": "stream",
     "text": [
      "29113 9436 9866\n"
     ]
    }
   ],
   "source": [
    "# Split into train, test, val\n",
    "X_train, X_test, X_val = df1[df1.train==True].all_x, df1[df1.test==True].all_x, df1[df1.val==True].all_x\n",
    "y_train, y_test, y_val = df1[df1.train==True].y, df1[df1.test==True].y, df1[df1.val==True].y\n",
    "\n",
    "print(len(training_rows), len(test_rows), len(val_rows))"
   ]
  },
  {
   "cell_type": "code",
   "execution_count": 362,
   "metadata": {},
   "outputs": [],
   "source": [
    "# # Split into train, test, val --> OLD WAY\n",
    "# X_train, X_test, y_train, y_test = train_test_split(all_X, all_y, test_size=0.2, random_state=1606)\n",
    "# X_train, X_val, y_train, y_val = train_test_split(X_train, y_train, test_size=0.2, random_state=1606)"
   ]
  },
  {
   "cell_type": "code",
   "execution_count": 363,
   "metadata": {},
   "outputs": [
    {
     "data": {
      "text/plain": [
       "(32435,)"
      ]
     },
     "execution_count": 363,
     "metadata": {},
     "output_type": "execute_result"
    }
   ],
   "source": [
    "y_train.shape"
   ]
  },
  {
   "cell_type": "code",
   "execution_count": 364,
   "metadata": {},
   "outputs": [
    {
     "data": {
      "text/plain": [
       "(32435,)"
      ]
     },
     "execution_count": 364,
     "metadata": {},
     "output_type": "execute_result"
    }
   ],
   "source": [
    "np.array(X_train).shape"
   ]
  },
  {
   "cell_type": "code",
   "execution_count": 365,
   "metadata": {},
   "outputs": [],
   "source": [
    "# X_train = np.reshape(X_train, (X_train.shape[0], 1, X_train.shape[1]))\n",
    "# X_test = np.reshape(X_test, (X_test.shape[0], 1, X_test.shape[1]))"
   ]
  },
  {
   "cell_type": "code",
   "execution_count": 366,
   "metadata": {},
   "outputs": [],
   "source": [
    "#Turn the y_train, X_train etc into multi-dim np arrays\n",
    "X_train = np.matrix(X_train.tolist())\n",
    "y_train = np.matrix(y_train.tolist())\n",
    "X_test = np.matrix(X_test.tolist())\n",
    "y_test = np.matrix(y_test.tolist())\n",
    "X_val = np.matrix(X_val.tolist())\n",
    "y_val = np.matrix(y_val.tolist())"
   ]
  },
  {
   "cell_type": "code",
   "execution_count": 367,
   "metadata": {},
   "outputs": [
    {
     "data": {
      "text/plain": [
       "(32435, 3)"
      ]
     },
     "execution_count": 367,
     "metadata": {},
     "output_type": "execute_result"
    }
   ],
   "source": [
    "y_train.shape"
   ]
  },
  {
   "cell_type": "code",
   "execution_count": 368,
   "metadata": {},
   "outputs": [
    {
     "data": {
      "text/plain": [
       "(32435, 1000)"
      ]
     },
     "execution_count": 368,
     "metadata": {},
     "output_type": "execute_result"
    }
   ],
   "source": [
    "X_train.shape"
   ]
  },
  {
   "cell_type": "markdown",
   "metadata": {},
   "source": [
    "### 3. Establish NN Model"
   ]
  },
  {
   "cell_type": "code",
   "execution_count": 369,
   "metadata": {},
   "outputs": [],
   "source": [
    "# 1. Establish the model architecture\n",
    "#it's safe to say that I don't know what I'm doing here\n",
    "model = keras.Sequential([\n",
    "#     keras.layers.Dense(400, activation=tf.nn.relu), \n",
    "    keras.layers.Dense(1000, input_dim=1000,  activation=tf.nn.relu), #input_dim=1000,\n",
    "    keras.layers.Dense(200, activation=tf.nn.relu), #input_dim=1000,\n",
    "    #     tf.layers.flatten(inputs),\n",
    "#     keras.layers.Dropout(rate=0.2, noise_shape=None, seed=None),\n",
    "    keras.layers.Dense(30, activation=tf.nn.relu),\n",
    "#     keras.layers.Dropout(rate=0.2, noise_shape=None, seed=None),\n",
    "    keras.layers.Flatten(), \n",
    "    keras.layers.Dense(3, activation=tf.nn.softmax)\n",
    "])"
   ]
  },
  {
   "cell_type": "code",
   "execution_count": 370,
   "metadata": {},
   "outputs": [],
   "source": [
    "# ## This is the old model, purely for comparing new vectors to old\n",
    "\n",
    "# # 1. Establish the model architecture\n",
    "# #it's safe to say that I don't know what I'm doing here\n",
    "# model = keras.Sequential([\n",
    "# #     keras.layers.Dense(400, activation=tf.nn.relu), \n",
    "#     keras.layers.Dense(200, activation=tf.nn.relu),\n",
    "#     keras.layers.Dropout(rate=0.2, noise_shape=None, seed=None),\n",
    "#     keras.layers.Dense(10, activation=tf.nn.relu),\n",
    "#     keras.layers.Dropout(rate=0.2, noise_shape=None, seed=None),\n",
    "#     keras.layers.Dense(1, activation=tf.nn.sigmoid)\n",
    "# ])\n",
    "\n",
    "# # 2. Compile the model (give it loss func, optimise func and eval metric)\n",
    "# model.compile(optimizer=tf.train.AdamOptimizer(), # determines how the model is adapted based on loss func\n",
    "#               loss='binary_crossentropy', # measure of accuracy during training\n",
    "#               metrics=['accuracy']) # measure for train and testing steps\n",
    "\n",
    "# # 3. Train\n",
    "# model.fit(X_train, y_train, epochs=10, validation_data=(X_val, y_val) ) #, callbacks=[earlystop])"
   ]
  },
  {
   "cell_type": "code",
   "execution_count": 371,
   "metadata": {},
   "outputs": [],
   "source": [
    "## Alt model attempt\n",
    "\n",
    "# data_dim = 400\n",
    "# timesteps = 1\n",
    "# num_classes = 3\n",
    "\n",
    "# model = keras.Sequential()\n",
    "# model.add(keras.layers.LSTM(30, return_sequences=True,\n",
    "#                input_shape=(timesteps, data_dim)))  # returns a sequence of vectors of dimension 30\n",
    "# model.add(keras.layers.LSTM(30, return_sequences=True))  # returns a sequence of vectors of dimension 30\n",
    "# model.add(keras.layers.LSTM(30))  # return a single vector of dimension 30\n",
    "# model.add(keras.layers.Dense(3, activation='softmax'))\n",
    "\n",
    "# model.compile(loss='sparse_categorical_crossentropy',\n",
    "#               optimizer='adam',\n",
    "#               metrics=['accuracy'])\n",
    "\n",
    "# model.summary()\n",
    "# model.fit(X_train, y_train, batch_size = 400, epochs = 10, verbose = 1)"
   ]
  },
  {
   "cell_type": "code",
   "execution_count": 372,
   "metadata": {},
   "outputs": [],
   "source": [
    "# 2. Compile the model (give it loss func, optimise func and eval metric)\n",
    "model.compile(optimizer=tf.train.AdamOptimizer(), # determines how the model is adapted based on loss func\n",
    "              loss='categorical_crossentropy', # measure of accuracy during training\n",
    "              metrics=['accuracy']) # measure for train and testing steps "
   ]
  },
  {
   "cell_type": "code",
   "execution_count": 373,
   "metadata": {},
   "outputs": [],
   "source": [
    "# Pre-training, set up training params\n",
    "# earlystop = keras.callbacks.EarlyStopping(monitor='val_loss', min_delta=0, patience=0, verbose=0, mode='auto', baseline=None)"
   ]
  },
  {
   "cell_type": "code",
   "execution_count": 377,
   "metadata": {},
   "outputs": [
    {
     "name": "stdout",
     "output_type": "stream",
     "text": [
      "Train on 32435 samples, validate on 11065 samples\n",
      "Epoch 1/60\n",
      "32435/32435 [==============================] - 4s 113us/step - loss: 0.7082 - acc: 0.6644 - val_loss: 1.3155 - val_acc: 0.5761\n",
      "Epoch 2/60\n",
      "32435/32435 [==============================] - 4s 112us/step - loss: 0.6919 - acc: 0.6728 - val_loss: 1.3351 - val_acc: 0.5748\n",
      "Epoch 3/60\n",
      "32435/32435 [==============================] - 4s 118us/step - loss: 0.6860 - acc: 0.6777 - val_loss: 1.5772 - val_acc: 0.5275\n",
      "Epoch 4/60\n",
      "32435/32435 [==============================] - 3s 101us/step - loss: 0.6796 - acc: 0.6789 - val_loss: 1.4884 - val_acc: 0.5656\n",
      "Epoch 5/60\n",
      "32435/32435 [==============================] - 4s 114us/step - loss: 0.6710 - acc: 0.6846 - val_loss: 1.4669 - val_acc: 0.5642\n",
      "Epoch 6/60\n",
      "32435/32435 [==============================] - 4s 117us/step - loss: 0.6611 - acc: 0.6901 - val_loss: 1.4914 - val_acc: 0.5796\n",
      "Epoch 7/60\n",
      "32435/32435 [==============================] - 4s 112us/step - loss: 0.6610 - acc: 0.6872 - val_loss: 1.6547 - val_acc: 0.5681\n",
      "Epoch 8/60\n",
      "32435/32435 [==============================] - 4s 110us/step - loss: 0.6542 - acc: 0.6925 - val_loss: 1.4626 - val_acc: 0.5783\n",
      "Epoch 9/60\n",
      "32435/32435 [==============================] - 4s 128us/step - loss: 0.6466 - acc: 0.6971 - val_loss: 1.4978 - val_acc: 0.5471\n",
      "Epoch 10/60\n",
      "32435/32435 [==============================] - 5s 156us/step - loss: 0.6416 - acc: 0.6979 - val_loss: 1.8460 - val_acc: 0.5676\n",
      "Epoch 11/60\n",
      "32435/32435 [==============================] - 7s 209us/step - loss: 0.6399 - acc: 0.7020 - val_loss: 1.5765 - val_acc: 0.5460\n",
      "Epoch 12/60\n",
      "32435/32435 [==============================] - 6s 178us/step - loss: 0.6367 - acc: 0.7049 - val_loss: 1.5897 - val_acc: 0.5567\n",
      "Epoch 13/60\n",
      "32435/32435 [==============================] - 6s 182us/step - loss: 0.6320 - acc: 0.7079 - val_loss: 1.8496 - val_acc: 0.5609\n",
      "Epoch 14/60\n",
      "32435/32435 [==============================] - 6s 185us/step - loss: 0.6307 - acc: 0.7069 - val_loss: 1.7238 - val_acc: 0.5772\n",
      "Epoch 15/60\n",
      "32435/32435 [==============================] - 6s 185us/step - loss: 0.6299 - acc: 0.7056 - val_loss: 1.9288 - val_acc: 0.5601\n",
      "Epoch 16/60\n",
      "32435/32435 [==============================] - 6s 183us/step - loss: 0.6269 - acc: 0.7065 - val_loss: 1.8577 - val_acc: 0.5806\n",
      "Epoch 17/60\n",
      "32435/32435 [==============================] - 4s 138us/step - loss: 0.6214 - acc: 0.7115 - val_loss: 1.6460 - val_acc: 0.5580\n",
      "Epoch 18/60\n",
      "32435/32435 [==============================] - 4s 128us/step - loss: 0.6216 - acc: 0.7116 - val_loss: 1.7822 - val_acc: 0.5559\n",
      "Epoch 19/60\n",
      "32435/32435 [==============================] - 4s 133us/step - loss: 0.6180 - acc: 0.7137 - val_loss: 1.7214 - val_acc: 0.5725\n",
      "Epoch 20/60\n",
      "32435/32435 [==============================] - 4s 129us/step - loss: 0.6162 - acc: 0.7156 - val_loss: 1.9769 - val_acc: 0.5671\n",
      "Epoch 21/60\n",
      "32435/32435 [==============================] - 4s 127us/step - loss: 0.6153 - acc: 0.7153 - val_loss: 1.5027 - val_acc: 0.5622\n",
      "Epoch 22/60\n",
      "32435/32435 [==============================] - 4s 133us/step - loss: 0.6092 - acc: 0.7203 - val_loss: 2.0078 - val_acc: 0.5737\n",
      "Epoch 23/60\n",
      "32435/32435 [==============================] - 4s 129us/step - loss: 0.6070 - acc: 0.7178 - val_loss: 2.0525 - val_acc: 0.5577\n",
      "Epoch 24/60\n",
      "32435/32435 [==============================] - 6s 179us/step - loss: 0.6072 - acc: 0.7189 - val_loss: 1.7326 - val_acc: 0.5380\n",
      "Epoch 25/60\n",
      "32435/32435 [==============================] - 6s 179us/step - loss: 0.6038 - acc: 0.7201 - val_loss: 1.8089 - val_acc: 0.5381\n",
      "Epoch 26/60\n",
      "32435/32435 [==============================] - 6s 175us/step - loss: 0.6052 - acc: 0.7215 - val_loss: 1.9651 - val_acc: 0.5683\n",
      "Epoch 27/60\n",
      "32435/32435 [==============================] - 4s 132us/step - loss: 0.5986 - acc: 0.7237 - val_loss: 2.0623 - val_acc: 0.5598\n",
      "Epoch 28/60\n",
      "32435/32435 [==============================] - 4s 128us/step - loss: 0.5943 - acc: 0.7280 - val_loss: 1.8367 - val_acc: 0.5298\n",
      "Epoch 29/60\n",
      "32435/32435 [==============================] - 4s 136us/step - loss: 0.5954 - acc: 0.7267 - val_loss: 1.9215 - val_acc: 0.5553\n",
      "Epoch 30/60\n",
      "32435/32435 [==============================] - 4s 135us/step - loss: 0.5995 - acc: 0.7237 - val_loss: 1.8617 - val_acc: 0.5694\n",
      "Epoch 31/60\n",
      "32435/32435 [==============================] - 4s 128us/step - loss: 0.5927 - acc: 0.7280 - val_loss: 2.2889 - val_acc: 0.5775\n",
      "Epoch 32/60\n",
      "32435/32435 [==============================] - 4s 128us/step - loss: 0.5904 - acc: 0.7261 - val_loss: 2.1977 - val_acc: 0.5614\n",
      "Epoch 33/60\n",
      "32435/32435 [==============================] - 4s 127us/step - loss: 0.5865 - acc: 0.7315 - val_loss: 1.6146 - val_acc: 0.5846\n",
      "Epoch 34/60\n",
      "32435/32435 [==============================] - 4s 127us/step - loss: 0.5904 - acc: 0.7292 - val_loss: 1.8812 - val_acc: 0.5448\n",
      "Epoch 35/60\n",
      "32435/32435 [==============================] - 4s 135us/step - loss: 0.5881 - acc: 0.7292 - val_loss: 1.9708 - val_acc: 0.5736\n",
      "Epoch 36/60\n",
      "32435/32435 [==============================] - 4s 125us/step - loss: 0.5840 - acc: 0.7319 - val_loss: 1.8669 - val_acc: 0.5545\n",
      "Epoch 37/60\n",
      "32435/32435 [==============================] - 4s 118us/step - loss: 0.5867 - acc: 0.7324 - val_loss: 2.1085 - val_acc: 0.5689\n",
      "Epoch 38/60\n",
      "32435/32435 [==============================] - 4s 118us/step - loss: 0.5815 - acc: 0.7327 - val_loss: 2.1232 - val_acc: 0.5648\n",
      "Epoch 39/60\n",
      "32435/32435 [==============================] - 4s 125us/step - loss: 0.5787 - acc: 0.7354 - val_loss: 1.8221 - val_acc: 0.5449\n",
      "Epoch 40/60\n",
      "32435/32435 [==============================] - 4s 118us/step - loss: 0.5791 - acc: 0.7372 - val_loss: 1.7683 - val_acc: 0.5128\n",
      "Epoch 41/60\n",
      "32435/32435 [==============================] - 5s 163us/step - loss: 0.5776 - acc: 0.7350 - val_loss: 1.8980 - val_acc: 0.5581\n",
      "Epoch 42/60\n",
      "32435/32435 [==============================] - 7s 226us/step - loss: 0.5806 - acc: 0.7360 - val_loss: 2.2310 - val_acc: 0.5716\n",
      "Epoch 43/60\n",
      "32435/32435 [==============================] - 8s 242us/step - loss: 0.5743 - acc: 0.7366 - val_loss: 2.2742 - val_acc: 0.5756\n",
      "Epoch 44/60\n",
      "32435/32435 [==============================] - 17s 538us/step - loss: 0.5747 - acc: 0.7386 - val_loss: 1.6567 - val_acc: 0.5225\n",
      "Epoch 45/60\n",
      "32435/32435 [==============================] - 19s 578us/step - loss: 0.5779 - acc: 0.7360 - val_loss: 2.1372 - val_acc: 0.5719\n",
      "Epoch 46/60\n",
      "32435/32435 [==============================] - 15s 448us/step - loss: 0.5741 - acc: 0.7382 - val_loss: 1.8006 - val_acc: 0.5387\n",
      "Epoch 47/60\n",
      "32435/32435 [==============================] - 8s 244us/step - loss: 0.5709 - acc: 0.7411 - val_loss: 2.0500 - val_acc: 0.5483\n",
      "Epoch 48/60\n",
      "32435/32435 [==============================] - 4s 114us/step - loss: 0.5702 - acc: 0.7407 - val_loss: 2.1338 - val_acc: 0.5640\n",
      "Epoch 49/60\n",
      "32435/32435 [==============================] - 4s 110us/step - loss: 0.5695 - acc: 0.7402 - val_loss: 1.6968 - val_acc: 0.4991\n",
      "Epoch 50/60\n",
      "32435/32435 [==============================] - 3s 104us/step - loss: 0.5692 - acc: 0.7390 - val_loss: 1.9861 - val_acc: 0.5253\n",
      "Epoch 51/60\n",
      "32435/32435 [==============================] - 3s 105us/step - loss: 0.5665 - acc: 0.7442 - val_loss: 2.2415 - val_acc: 0.5687\n",
      "Epoch 52/60\n",
      "32435/32435 [==============================] - 3s 105us/step - loss: 0.5651 - acc: 0.7432 - val_loss: 2.0668 - val_acc: 0.5385\n",
      "Epoch 53/60\n",
      "32435/32435 [==============================] - 3s 104us/step - loss: 0.5637 - acc: 0.7448 - val_loss: 2.2861 - val_acc: 0.5345\n",
      "Epoch 54/60\n",
      "32435/32435 [==============================] - 4s 109us/step - loss: 0.5632 - acc: 0.7436 - val_loss: 2.3252 - val_acc: 0.5674\n",
      "Epoch 55/60\n",
      "32435/32435 [==============================] - 3s 105us/step - loss: 0.5622 - acc: 0.7435 - val_loss: 1.8153 - val_acc: 0.5451\n",
      "Epoch 56/60\n",
      "32435/32435 [==============================] - 4s 112us/step - loss: 0.5618 - acc: 0.7470 - val_loss: 2.2058 - val_acc: 0.5638\n",
      "Epoch 57/60\n",
      "32435/32435 [==============================] - 4s 111us/step - loss: 0.5572 - acc: 0.7492 - val_loss: 2.1734 - val_acc: 0.5106\n",
      "Epoch 58/60\n",
      "32435/32435 [==============================] - 17s 533us/step - loss: 0.5614 - acc: 0.7459 - val_loss: 2.0964 - val_acc: 0.5553\n",
      "Epoch 59/60\n"
     ]
    },
    {
     "name": "stdout",
     "output_type": "stream",
     "text": [
      "32435/32435 [==============================] - 7s 215us/step - loss: 0.5616 - acc: 0.7455 - val_loss: 1.8880 - val_acc: 0.5404\n",
      "Epoch 60/60\n",
      "32435/32435 [==============================] - 6s 181us/step - loss: 0.5553 - acc: 0.7489 - val_loss: 2.2273 - val_acc: 0.5485\n"
     ]
    },
    {
     "data": {
      "text/plain": [
       "<tensorflow.python.keras.callbacks.History at 0x7f75ec600c50>"
      ]
     },
     "execution_count": 377,
     "metadata": {},
     "output_type": "execute_result"
    }
   ],
   "source": [
    "# 3. Train\n",
    "model.fit(X_train, y_train, epochs=60, validation_data=(X_val, y_val) ) #, callbacks=[earlystop])"
   ]
  },
  {
   "cell_type": "markdown",
   "metadata": {},
   "source": [
    "### ...and evaluate"
   ]
  },
  {
   "cell_type": "code",
   "execution_count": 378,
   "metadata": {},
   "outputs": [
    {
     "name": "stdout",
     "output_type": "stream",
     "text": [
      "10897/10897 [==============================] - 3s 272us/step\n",
      "Test accuracy: 0.5230797467196224\n"
     ]
    }
   ],
   "source": [
    "# 4. Evaluate\n",
    "# Accuracy\n",
    "test_loss, test_acc = model.evaluate(X_test, y_test)\n",
    "print('Test accuracy:', test_acc)"
   ]
  },
  {
   "cell_type": "code",
   "execution_count": 379,
   "metadata": {},
   "outputs": [],
   "source": [
    "# Get actual predictions for test set\n",
    "predictions = model.predict(X_test)\n",
    "rounded_predictions = [int(float(round(x[0]))) for x in predictions]"
   ]
  },
  {
   "cell_type": "code",
   "execution_count": 273,
   "metadata": {
    "scrolled": true
   },
   "outputs": [],
   "source": [
    "# %matplotlib inline\n",
    "# # Confusion Matrix for binary classificaiton\n",
    "\n",
    "# confusion_matrix = ConfusionMatrix(y_test, rounded_predictions)\n",
    "# print(\"Confusion matrix:\\n%s\" % confusion_matrix)\n",
    "# confusion_matrix.plot()"
   ]
  },
  {
   "cell_type": "code",
   "execution_count": 380,
   "metadata": {},
   "outputs": [
    {
     "name": "stdout",
     "output_type": "stream",
     "text": [
      "Confusion matrix, without normalization\n",
      "[[1252  197 1710]\n",
      " [ 549   75 1581]\n",
      " [ 869  291 4373]]\n"
     ]
    },
    {
     "data": {
      "image/png": "[encoded data removed]",
      "text/plain": [
       "<Figure size 432x288 with 2 Axes>"
      ]
     },
     "metadata": {},
     "output_type": "display_data"
    }
   ],
   "source": [
    "# Plot multiclass confusion matrix\n",
    "def plot_confusion_matrix(cm, classes,\n",
    "                          normalize=False,\n",
    "                          title='Confusion matrix',\n",
    "                          cmap=plt.cm.Blues):\n",
    "    \"\"\"\n",
    "    This function prints and plots the confusion matrix.\n",
    "    Normalization can be applied by setting `normalize=True`.\n",
    "    \"\"\"\n",
    "    if normalize:\n",
    "        cm = cm.astype('float') / cm.sum(axis=1)[:, np.newaxis]\n",
    "        print(\"Normalized confusion matrix\")\n",
    "    else:\n",
    "        print('Confusion matrix, without normalization')\n",
    "\n",
    "    print(cm)\n",
    "\n",
    "    plt.imshow(cm, interpolation='nearest', cmap=cmap)\n",
    "    plt.title(title)\n",
    "    plt.colorbar()\n",
    "    tick_marks = np.arange(len(classes))\n",
    "    plt.xticks(tick_marks, classes, rotation=45)\n",
    "    plt.yticks(tick_marks, classes)\n",
    "\n",
    "    fmt = '.2f' if normalize else 'd'\n",
    "    thresh = cm.max() / 2.\n",
    "    for i, j in itertools.product(range(cm.shape[0]), range(cm.shape[1])):\n",
    "        plt.text(j, i, format(cm[i, j], fmt),\n",
    "                 horizontalalignment=\"center\",\n",
    "                 color=\"white\" if cm[i, j] > thresh else \"black\")\n",
    "\n",
    "    plt.ylabel('True label')\n",
    "    plt.xlabel('Predicted label')\n",
    "    plt.tight_layout()\n",
    "    \n",
    "\n",
    "matrix = sklearn.metrics.confusion_matrix(y_test.argmax(axis=1), predictions.argmax(axis=1))\n",
    "plot_confusion_matrix(matrix, ['neg_corr', 'no_corr', 'pos_corr'])"
   ]
  },
  {
   "cell_type": "code",
   "execution_count": 381,
   "metadata": {},
   "outputs": [
    {
     "name": "stdout",
     "output_type": "stream",
     "text": [
      "ROC AUC:  0.5878041818727974\n"
     ]
    }
   ],
   "source": [
    "# ROC AUC\n",
    "print('ROC AUC: ', roc_auc_score(y_test, predictions))"
   ]
  },
  {
   "cell_type": "markdown",
   "metadata": {},
   "source": [
    "### 4. Examine the predictions\n",
    "Let's look at the predictions the NN gets wrong, see if there's a pattern"
   ]
  },
  {
   "cell_type": "code",
   "execution_count": null,
   "metadata": {},
   "outputs": [],
   "source": [
    "# Create df with the relevant data\n",
    "test_set = df1.loc[test_rows]\n",
    "test_set['Predictions'] = predictions\n",
    "test_set['RoundPredictions'] = rounded_predictions"
   ]
  },
  {
   "cell_type": "code",
   "execution_count": null,
   "metadata": {},
   "outputs": [],
   "source": [
    "# Optimise memory --> set col types for the incoming CSV\n",
    "cds_cols = ['# ChemicalName', 'ChemicalID', 'DiseaseName', 'DiseaseID', 'DirectEvidence']\n",
    "cd_col_types = {   \n",
    "    '# ChemicalName': 'category',\n",
    "    'ChemicalID': 'category',\n",
    "    'DiseaseName': 'category',\n",
    "    'DiseaseID': 'category',\n",
    "}"
   ]
  },
  {
   "cell_type": "code",
   "execution_count": null,
   "metadata": {},
   "outputs": [],
   "source": [
    "# Let's get the disease and chemical names back! For the sake of eyeballing for patterns\n",
    "# Read in CTD csv, skipping the intro rows\n",
    "df_cd = pd.read_csv('../ctd-to-nt/csvs/CTD_chemicals_diseases.csv', usecols=cds_cols, dtype=cd_col_types, skiprows=27)\n",
    "df_cd = df_cd.drop(0)\n",
    "df_cd = df_cd.dropna(subset=['DirectEvidence']) # drop if it doesn't have direct evidence"
   ]
  },
  {
   "cell_type": "code",
   "execution_count": null,
   "metadata": {},
   "outputs": [],
   "source": [
    "df_cd.head()"
   ]
  },
  {
   "cell_type": "code",
   "execution_count": null,
   "metadata": {},
   "outputs": [],
   "source": [
    "test_set.head()"
   ]
  },
  {
   "cell_type": "code",
   "execution_count": null,
   "metadata": {},
   "outputs": [],
   "source": [
    "# Get ready for some memory-optimisation\n",
    "def mem_usage(pandas_obj):\n",
    "    if isinstance(pandas_obj,pd.DataFrame):\n",
    "        usage_b = pandas_obj.memory_usage(deep=True).sum()\n",
    "    else: # we assume if not a df it's a series\n",
    "        usage_b = pandas_obj.memory_usage(deep=True)\n",
    "    usage_mb = usage_b / 1024 ** 2 # convert bytes to megabytes\n",
    "    return \"{:03.2f} MB\".format(usage_mb)"
   ]
  },
  {
   "cell_type": "code",
   "execution_count": null,
   "metadata": {},
   "outputs": [],
   "source": [
    "test_set['Correlation'] = test_set.Correlation.astype(np.uint8)\n",
    "print(mem_usage(test_set['RoundPredictions']))\n",
    "test_set['RoundPredictions'] = test_set.RoundPredictions.astype(np.uint8)\n",
    "print(mem_usage(test_set['RoundPredictions']))"
   ]
  },
  {
   "cell_type": "code",
   "execution_count": null,
   "metadata": {},
   "outputs": [],
   "source": [
    "# merge in the names\n",
    "\n",
    "# Because this weirdly requires a tonne of memory, let's optimise (for stupid terrible top-of-range dell laptop)\n",
    "lst = [chem_dis, df, df_d, df_c, Dvecs, Cvecs]\n",
    "del lst\n",
    "test_set = test_set.drop(['DVec', 'CVec', 'index'], axis=1) # these cols are memory intensive\n",
    "df_cd.ChemicalID = df_cd.ChemicalID.astype('category')\n",
    "for col in ['DiseaseID', 'ChemicalID', 'DiseaseName', '# ChemicalName', 'DirectEvidence']:\n",
    "    if str(col) in df_cd.columns: df_cd[col] = df_cd[col].astype('category')\n",
    "    if col in test_set.columns: test_set[col] = test_set[col].astype('category')\n",
    "        \n",
    "test_set = pd.merge(test_set, df_cd[['DiseaseID', 'DiseaseName']], on='DiseaseID')\n",
    "test_set = pd.merge(test_set, df_cd[['# ChemicalName', 'ChemicalID']], on='ChemicalID')\n",
    "\n",
    "# weirdly these operations introduce millions of duplicate rows, so delete duplicates:\n",
    "test_set = test_set.drop_duplicates(list(set(test_set.columns.values))) #- set(['DVec','CVec'])))"
   ]
  },
  {
   "cell_type": "code",
   "execution_count": null,
   "metadata": {},
   "outputs": [],
   "source": [
    "# Import gofunction counts (for each disease and each chem). This csv was output in opa2vec.ipynb\n",
    "gofunc_counts = pd.read_csv('gofunc_counts.csv')\n",
    "test_set = pd.merge(test_set, gofunc_counts[['ChemicalID', 'gofunc']], on='ChemicalID')\n",
    "test_set = test_set.rename(columns = {'gofunc':'ChemGoFuncs'})\n",
    "test_set = pd.merge(test_set, gofunc_counts[['DiseaseID', 'gofunc']], on='DiseaseID')\n",
    "test_set = test_set.rename(columns = {'gofunc':'DisGoFuncs'})\n",
    "\n",
    "# Create combined gofunc count col\n",
    "test_set['sumGoFuncs'] = test_set.ChemGoFuncs + test_set.DisGoFuncs\n",
    "test_set['prodGoFuncs'] = test_set.ChemGoFuncs * test_set.DisGoFuncs\n",
    "\n"
   ]
  },
  {
   "cell_type": "code",
   "execution_count": null,
   "metadata": {},
   "outputs": [],
   "source": [
    "# Create false pos and false neg col\n",
    "test_set['false_pos'] = abs(test_set.RoundPredictions - test_set.Correlation).map(lambda x: 0 if x > 200 else x)\n",
    "test_set['true_pos'] = (test_set.RoundPredictions + test_set.Correlation).map(lambda x: 1 if x==2 else 0)"
   ]
  },
  {
   "cell_type": "code",
   "execution_count": null,
   "metadata": {},
   "outputs": [],
   "source": [
    "test_set.sample(13)"
   ]
  },
  {
   "cell_type": "code",
   "execution_count": null,
   "metadata": {},
   "outputs": [],
   "source": [
    "# v=np.linspace(-1,1,10001)\n",
    "# print (np.corrcoef(v,np.abs(v))[0,1], distcorr.distcorr(v,np.abs(v)))"
   ]
  },
  {
   "cell_type": "code",
   "execution_count": null,
   "metadata": {},
   "outputs": [],
   "source": [
    "# Test data for distance correlation\n",
    "data = [[4,10],[4,12],[6,13]]\n",
    "zdf = pd.DataFrame(data,columns=['Name','Age'],dtype=np.int64)\n",
    "type(zdf.Name[1])"
   ]
  },
  {
   "cell_type": "code",
   "execution_count": null,
   "metadata": {},
   "outputs": [],
   "source": [
    "# correlade.dcorr(zdf)\n",
    "zdf.head().corr()"
   ]
  },
  {
   "cell_type": "code",
   "execution_count": null,
   "metadata": {},
   "outputs": [],
   "source": [
    "#Distance Correlation\n",
    "correlade.dcorr(test_set.sample(1300)[['Correlation', 'Predictions', 'RoundPredictions', 'ChemGoFuncs', 'DisGoFuncs', 'sumGoFuncs', 'prodGoFuncs', 'false_pos']])"
   ]
  },
  {
   "cell_type": "code",
   "execution_count": null,
   "metadata": {},
   "outputs": [],
   "source": [
    "#Pearson Correlation\n",
    "test_set[['Correlation', 'Predictions', 'RoundPredictions', 'ChemGoFuncs', 'DisGoFuncs', 'sumGoFuncs', 'prodGoFuncs', 'false_pos']].corr()"
   ]
  },
  {
   "cell_type": "code",
   "execution_count": null,
   "metadata": {},
   "outputs": [],
   "source": [
    "#Pearson Correlation\n",
    "test_set[['Correlation', 'Predictions', 'RoundPredictions', 'ChemGoFuncs', 'DisGoFuncs', 'sumGoFuncs', 'prodGoFuncs', 'false_pos']].corr(method='spearman')"
   ]
  },
  {
   "cell_type": "code",
   "execution_count": null,
   "metadata": {},
   "outputs": [],
   "source": [
    "test_set[['DiseaseName', '# ChemicalName', 'Correlation', 'Predictions', 'RoundPredictions', 'ChemGoFuncs', 'DisGoFuncs', 'false_pos']].to_csv('predictions.csv', index=False)"
   ]
  },
  {
   "cell_type": "code",
   "execution_count": null,
   "metadata": {},
   "outputs": [],
   "source": [
    "# # This cell is pointless - manually verifying accuracy test\n",
    "# # Round predictions to int based on threshold, run accuracy-test manually\n",
    "# predictions = model.predict(X_test)\n",
    "# threshold = predictions[:].sum()/len(predictions) # Threshold is the mean value of predictions\n",
    "# predictions = [float(round(x[0]-threshold+0.5)) for x in predictions]\n",
    "# manual_accuracy = sklearn.metrics.accuracy_score(y_test, predictions, normalize=True, sample_weight=None)\n",
    "# print(manual_accuracy)"
   ]
  },
  {
   "cell_type": "markdown",
   "metadata": {},
   "source": [
    "### 5. Calculate Cosine Similary"
   ]
  },
  {
   "cell_type": "code",
   "execution_count": null,
   "metadata": {},
   "outputs": [],
   "source": [
    "# df1.head()"
   ]
  },
  {
   "cell_type": "code",
   "execution_count": null,
   "metadata": {},
   "outputs": [],
   "source": [
    "# Calculate out the cosine similarity and see if there's a difference between groups\n",
    "def cosine_sim (row):\n",
    "    return cosine_similarity(np.array(row.DVec).reshape(1, -1), np.array(row.CVec).reshape(1, -1))[0][0]\n",
    "\n",
    "df1['cosine_sim'] = df1.apply(lambda row: cosine_sim(row), axis=1)\n",
    "\n",
    "# Compare cosine sim of correlated and uncorrelated groups\n",
    "print('Cosine mean with no correlation: ', df1[df1.Correlation == 1 ].cosine_sim.mean())\n",
    "print('Cosine mean with correlation: ', df1[df1.Correlation == 0 ].cosine_sim.mean())"
   ]
  },
  {
   "cell_type": "markdown",
   "metadata": {},
   "source": [
    "### 6. Save Model"
   ]
  },
  {
   "cell_type": "code",
   "execution_count": null,
   "metadata": {},
   "outputs": [],
   "source": [
    "# # Save model (in two files, one for weights and one for json)\n",
    "# json_string = model.to_json()\n",
    "# model.save_weights(\"model2-0.82.h5\")\n",
    "# with open('model2-0.82.json', 'w') as outfile:\n",
    "#     json.dump(json_string, outfile)"
   ]
  },
  {
   "cell_type": "code",
   "execution_count": null,
   "metadata": {},
   "outputs": [],
   "source": []
  }
 ],
 "metadata": {
  "kernelspec": {
   "display_name": "Python 3",
   "language": "python",
   "name": "python3"
  },
  "language_info": {
   "codemirror_mode": {
    "name": "ipython",
    "version": 3
   },
   "file_extension": ".py",
   "mimetype": "text/x-python",
   "name": "python",
   "nbconvert_exporter": "python",
   "pygments_lexer": "ipython3",
   "version": "3.6.5"
  }
 },
 "nbformat": 4,
 "nbformat_minor": 2
}
