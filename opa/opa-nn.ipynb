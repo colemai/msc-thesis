{
 "cells": [
  {
   "cell_type": "markdown",
   "metadata": {},
   "source": [
    "# Notebook: Use NN to predict disease from chemicals using Opa2Vec vectors\n",
    "<b> Author: </b> Ian Coleman <br>\n",
    "<b> Purpose: </b> Take the vectors created in the opa2vec notebook. This took chemical go functions\n",
    "    and disease go function, creating vectors for each. Train a NN to predict positive chem-dis relationships from these vectors"
   ]
  },
  {
   "cell_type": "code",
   "execution_count": 1,
   "metadata": {},
   "outputs": [],
   "source": [
    "import tensorflow as tf\n",
    "from tensorflow import keras\n",
    "import numpy as np\n",
    "import matplotlib.pyplot as plt\n",
    "import pandas as pd\n",
    "from random import randint\n",
    "import random\n",
    "from sklearn.model_selection import train_test_split\n",
    "import sklearn\n",
    "from sklearn.metrics.pairwise import cosine_similarity\n",
    "from sklearn.metrics import roc_curve\n",
    "from sklearn.metrics import roc_auc_score\n",
    "from pandas_ml import ConfusionMatrix\n",
    "import json\n",
    "import subprocess\n",
    "import pickle\n",
    "import math\n",
    "\n",
    "#Set random seed\n",
    "np.random.seed(1606)"
   ]
  },
  {
   "cell_type": "markdown",
   "metadata": {},
   "source": [
    "### Functions"
   ]
  },
  {
   "cell_type": "code",
   "execution_count": 2,
   "metadata": {},
   "outputs": [],
   "source": [
    "# def mem_usage(pandas_obj):\n",
    "#     if isinstance(pandas_obj,pd.DataFrame):\n",
    "#         usage_b = pandas_obj.memory_usage(deep=True).sum()\n",
    "#     else: # we assume if not a df it's a series\n",
    "#         usage_b = pandas_obj.memory_usage(deep=True)\n",
    "#     usage_mb = usage_b / 1024 ** 2 # convert bytes to megabytes\n",
    "#     return \"{:03.2f} MB\".format(usage_mb)"
   ]
  },
  {
   "cell_type": "markdown",
   "metadata": {},
   "source": [
    "### 1. Import Vectors and Pre-Process them"
   ]
  },
  {
   "cell_type": "code",
   "execution_count": 3,
   "metadata": {},
   "outputs": [],
   "source": [
    "# Import Gofunc vec file\n",
    "# These are the gofuncs for diseases and chems both from ctd and from vmh, made in opa2vec.\n",
    "# VMH chems/diseases are to be removed as they are for a validation check\n",
    "with open('go-gofuncs.lst', 'r') as file:\n",
    "    text = file.read()\n",
    "    \n",
    "# Strip and split vector data into list of lists [chem, vec]\n",
    "text = text.replace('\\n', '')\n",
    "text = text.split(']')\n",
    "text = [item.strip().split(' [') for item in text]\n",
    "\n",
    "# Turn it into a data frame\n",
    "df = pd.DataFrame(text)\n",
    "df.columns = ['ID', 'Vector']\n",
    "\n",
    "# Clean\n",
    "df = df.dropna()\n",
    "df['Vector'] = df.Vector.map(lambda x: x.rstrip().lstrip().replace('    ', ' ').replace('   ', ' ').replace('  ', ' ').replace(' ', ','))\n",
    "\n",
    "# Turn vector column into a list\n",
    "df['Vector'] = df.Vector.map(lambda x: x.split(','))"
   ]
  },
  {
   "cell_type": "code",
   "execution_count": 4,
   "metadata": {},
   "outputs": [
    {
     "data": {
      "text/html": [
       "<div>\n",
       "<style scoped>\n",
       "    .dataframe tbody tr th:only-of-type {\n",
       "        vertical-align: middle;\n",
       "    }\n",
       "\n",
       "    .dataframe tbody tr th {\n",
       "        vertical-align: top;\n",
       "    }\n",
       "\n",
       "    .dataframe thead th {\n",
       "        text-align: right;\n",
       "    }\n",
       "</style>\n",
       "<table border=\"1\" class=\"dataframe\">\n",
       "  <thead>\n",
       "    <tr style=\"text-align: right;\">\n",
       "      <th></th>\n",
       "      <th>ID</th>\n",
       "      <th>Vector</th>\n",
       "    </tr>\n",
       "  </thead>\n",
       "  <tbody>\n",
       "    <tr>\n",
       "      <th>1297</th>\n",
       "      <td>MESH:C567764</td>\n",
       "      <td>[2.59589870e-02, 1.18869647e-01, 4.94366251e-0...</td>\n",
       "    </tr>\n",
       "    <tr>\n",
       "      <th>1791</th>\n",
       "      <td>MESH:C563557</td>\n",
       "      <td>[-0.00220508, 0.12581137, 0.03101973, -0.11821...</td>\n",
       "    </tr>\n",
       "    <tr>\n",
       "      <th>632</th>\n",
       "      <td>MESH:C564219</td>\n",
       "      <td>[-2.59858873e-02, 1.27377555e-01, -1.66070759e...</td>\n",
       "    </tr>\n",
       "    <tr>\n",
       "      <th>1166</th>\n",
       "      <td>OMIM:614898</td>\n",
       "      <td>[2.26386860e-02, 1.09396853e-01, 2.76846923e-0...</td>\n",
       "    </tr>\n",
       "    <tr>\n",
       "      <th>1615</th>\n",
       "      <td>OMIM:615828</td>\n",
       "      <td>[1.22775771e-02, 1.29769415e-01, 8.57655481e-0...</td>\n",
       "    </tr>\n",
       "    <tr>\n",
       "      <th>1283</th>\n",
       "      <td>MESH:D055371</td>\n",
       "      <td>[0.02456979, 0.09336999, 0.04372336, -0.103645...</td>\n",
       "    </tr>\n",
       "    <tr>\n",
       "      <th>1668</th>\n",
       "      <td>MESH:D057049</td>\n",
       "      <td>[0.02601669, 0.13012536, 0.03325291, -0.135834...</td>\n",
       "    </tr>\n",
       "    <tr>\n",
       "      <th>2737</th>\n",
       "      <td>C088658</td>\n",
       "      <td>[0.04418474, 0.14310175, 0.04817571, -0.159905...</td>\n",
       "    </tr>\n",
       "    <tr>\n",
       "      <th>2075</th>\n",
       "      <td>OMIM:613671</td>\n",
       "      <td>[0.01726108, 0.10205465, 0.04739797, -0.113752...</td>\n",
       "    </tr>\n",
       "    <tr>\n",
       "      <th>1179</th>\n",
       "      <td>MESH:D004769</td>\n",
       "      <td>[2.83928532e-02, 1.17765650e-01, 4.06522602e-0...</td>\n",
       "    </tr>\n",
       "    <tr>\n",
       "      <th>1671</th>\n",
       "      <td>MESH:D017689</td>\n",
       "      <td>[1.03104273e-02, 1.39258072e-01, 3.12689841e-0...</td>\n",
       "    </tr>\n",
       "    <tr>\n",
       "      <th>3203</th>\n",
       "      <td>AMAN</td>\n",
       "      <td>[0.03622663, 0.11843033, -0.01800258, -0.14433...</td>\n",
       "    </tr>\n",
       "    <tr>\n",
       "      <th>3334</th>\n",
       "      <td>FLIPO</td>\n",
       "      <td>[0.02578659, 0.1204352, 0.01970039, -0.1209402...</td>\n",
       "    </tr>\n",
       "    <tr>\n",
       "      <th>3088</th>\n",
       "      <td>D011137</td>\n",
       "      <td>[0.03088476, 0.10678955, 0.02904048, -0.107162...</td>\n",
       "    </tr>\n",
       "    <tr>\n",
       "      <th>1750</th>\n",
       "      <td>MESH:D012608</td>\n",
       "      <td>[0.02118959, 0.11798735, 0.06626675, -0.148499...</td>\n",
       "    </tr>\n",
       "  </tbody>\n",
       "</table>\n",
       "</div>"
      ],
      "text/plain": [
       "                ID                                             Vector\n",
       "1297  MESH:C567764  [2.59589870e-02, 1.18869647e-01, 4.94366251e-0...\n",
       "1791  MESH:C563557  [-0.00220508, 0.12581137, 0.03101973, -0.11821...\n",
       "632   MESH:C564219  [-2.59858873e-02, 1.27377555e-01, -1.66070759e...\n",
       "1166   OMIM:614898  [2.26386860e-02, 1.09396853e-01, 2.76846923e-0...\n",
       "1615   OMIM:615828  [1.22775771e-02, 1.29769415e-01, 8.57655481e-0...\n",
       "1283  MESH:D055371  [0.02456979, 0.09336999, 0.04372336, -0.103645...\n",
       "1668  MESH:D057049  [0.02601669, 0.13012536, 0.03325291, -0.135834...\n",
       "2737       C088658  [0.04418474, 0.14310175, 0.04817571, -0.159905...\n",
       "2075   OMIM:613671  [0.01726108, 0.10205465, 0.04739797, -0.113752...\n",
       "1179  MESH:D004769  [2.83928532e-02, 1.17765650e-01, 4.06522602e-0...\n",
       "1671  MESH:D017689  [1.03104273e-02, 1.39258072e-01, 3.12689841e-0...\n",
       "3203          AMAN  [0.03622663, 0.11843033, -0.01800258, -0.14433...\n",
       "3334         FLIPO  [0.02578659, 0.1204352, 0.01970039, -0.1209402...\n",
       "3088       D011137  [0.03088476, 0.10678955, 0.02904048, -0.107162...\n",
       "1750  MESH:D012608  [0.02118959, 0.11798735, 0.06626675, -0.148499..."
      ]
     },
     "execution_count": 4,
     "metadata": {},
     "output_type": "execute_result"
    }
   ],
   "source": [
    "df.sample(15)"
   ]
  },
  {
   "cell_type": "code",
   "execution_count": 10,
   "metadata": {},
   "outputs": [
    {
     "name": "stdout",
     "output_type": "stream",
     "text": [
      "(3412, 2)\n",
      "(3153, 2)\n"
     ]
    }
   ],
   "source": [
    "# Remove all VMH ids\n",
    "print(df.shape)\n",
    "vmh_entities = pd.read_csv('../validation/VMHentities.lst', names=['entity'])\n",
    "df = df[df.ID.map(lambda x: x not in list(vmh_entities.entity))]\n",
    "print(df.shape)"
   ]
  },
  {
   "cell_type": "code",
   "execution_count": 11,
   "metadata": {},
   "outputs": [
    {
     "name": "stdout",
     "output_type": "stream",
     "text": [
      "ID vec pairs:  3153\n",
      "No. unique entities:  3153\n"
     ]
    }
   ],
   "source": [
    "print('ID vec pairs: ', df.shape[0])\n",
    "print('No. unique entities: ', df.ID.nunique())"
   ]
  },
  {
   "cell_type": "code",
   "execution_count": 12,
   "metadata": {},
   "outputs": [
    {
     "data": {
      "text/html": [
       "<div>\n",
       "<style scoped>\n",
       "    .dataframe tbody tr th:only-of-type {\n",
       "        vertical-align: middle;\n",
       "    }\n",
       "\n",
       "    .dataframe tbody tr th {\n",
       "        vertical-align: top;\n",
       "    }\n",
       "\n",
       "    .dataframe thead th {\n",
       "        text-align: right;\n",
       "    }\n",
       "</style>\n",
       "<table border=\"1\" class=\"dataframe\">\n",
       "  <thead>\n",
       "    <tr style=\"text-align: right;\">\n",
       "      <th></th>\n",
       "      <th>ID</th>\n",
       "      <th>Vector</th>\n",
       "    </tr>\n",
       "  </thead>\n",
       "  <tbody>\n",
       "    <tr>\n",
       "      <th>2151</th>\n",
       "      <td>OMIM:614418</td>\n",
       "      <td>[0.01731275, 0.08382709, 0.04467984, -0.096550...</td>\n",
       "    </tr>\n",
       "    <tr>\n",
       "      <th>830</th>\n",
       "      <td>MESH:D016889</td>\n",
       "      <td>[0.00068161, 0.10528181, 0.00478705, -0.110485...</td>\n",
       "    </tr>\n",
       "    <tr>\n",
       "      <th>2462</th>\n",
       "      <td>OMIM:616900</td>\n",
       "      <td>[0.00370829, 0.11772701, 0.06661044, -0.115037...</td>\n",
       "    </tr>\n",
       "    <tr>\n",
       "      <th>2398</th>\n",
       "      <td>OMIM:616549</td>\n",
       "      <td>[0.03555591, 0.12016133, 0.04434789, -0.111885...</td>\n",
       "    </tr>\n",
       "  </tbody>\n",
       "</table>\n",
       "</div>"
      ],
      "text/plain": [
       "                ID                                             Vector\n",
       "2151   OMIM:614418  [0.01731275, 0.08382709, 0.04467984, -0.096550...\n",
       "830   MESH:D016889  [0.00068161, 0.10528181, 0.00478705, -0.110485...\n",
       "2462   OMIM:616900  [0.00370829, 0.11772701, 0.06661044, -0.115037...\n",
       "2398   OMIM:616549  [0.03555591, 0.12016133, 0.04434789, -0.111885..."
      ]
     },
     "execution_count": 12,
     "metadata": {},
     "output_type": "execute_result"
    }
   ],
   "source": [
    "df.sample(4)"
   ]
  },
  {
   "cell_type": "markdown",
   "metadata": {},
   "source": [
    "### 2. Create DF for NN\n",
    "Munge the df into the following columns:<br>\n",
    "ChemID DisID ChemVec DisVec PositiveAssociationExists(binary)"
   ]
  },
  {
   "cell_type": "code",
   "execution_count": 13,
   "metadata": {},
   "outputs": [
    {
     "data": {
      "text/html": [
       "<div>\n",
       "<style scoped>\n",
       "    .dataframe tbody tr th:only-of-type {\n",
       "        vertical-align: middle;\n",
       "    }\n",
       "\n",
       "    .dataframe tbody tr th {\n",
       "        vertical-align: top;\n",
       "    }\n",
       "\n",
       "    .dataframe thead th {\n",
       "        text-align: right;\n",
       "    }\n",
       "</style>\n",
       "<table border=\"1\" class=\"dataframe\">\n",
       "  <thead>\n",
       "    <tr style=\"text-align: right;\">\n",
       "      <th></th>\n",
       "      <th>ChemicalID</th>\n",
       "      <th>DiseaseID</th>\n",
       "    </tr>\n",
       "  </thead>\n",
       "  <tbody>\n",
       "    <tr>\n",
       "      <th>0</th>\n",
       "      <td>C112297</td>\n",
       "      <td>MESH:D006948</td>\n",
       "    </tr>\n",
       "    <tr>\n",
       "      <th>1</th>\n",
       "      <td>C112297</td>\n",
       "      <td>MESH:D012640</td>\n",
       "    </tr>\n",
       "    <tr>\n",
       "      <th>2</th>\n",
       "      <td>C425777</td>\n",
       "      <td>MESH:D006948</td>\n",
       "    </tr>\n",
       "    <tr>\n",
       "      <th>3</th>\n",
       "      <td>C013567</td>\n",
       "      <td>MESH:D006333</td>\n",
       "    </tr>\n",
       "    <tr>\n",
       "      <th>4</th>\n",
       "      <td>C418863</td>\n",
       "      <td>MESH:D013262</td>\n",
       "    </tr>\n",
       "  </tbody>\n",
       "</table>\n",
       "</div>"
      ],
      "text/plain": [
       "  ChemicalID     DiseaseID\n",
       "0    C112297  MESH:D006948\n",
       "1    C112297  MESH:D012640\n",
       "2    C425777  MESH:D006948\n",
       "3    C013567  MESH:D006333\n",
       "4    C418863  MESH:D013262"
      ]
     },
     "execution_count": 13,
     "metadata": {},
     "output_type": "execute_result"
    }
   ],
   "source": [
    "# Step 1: Import file of proven chem-dis positive associations (created in ctd-to-nt notebook from ctd data)\n",
    "chem_dis = pd.read_csv('../ctd-to-nt/chem-dis-pos-assocs.csv')\n",
    "chem_dis.head()"
   ]
  },
  {
   "cell_type": "code",
   "execution_count": 14,
   "metadata": {},
   "outputs": [],
   "source": [
    "# # Add control rows and correlation col\n",
    "# chem_dis['Correlation'] = 1\n",
    "\n",
    "# controls = pd.read_csv('../ctd-to-nt/uncorrelated_chemDis_pairs.csv')\n",
    "# chem_dis = pd.concat([chem_dis, controls], sort=True)\n",
    "# chem_dis = chem_dis.fillna(0)"
   ]
  },
  {
   "cell_type": "code",
   "execution_count": 15,
   "metadata": {},
   "outputs": [
    {
     "name": "stdout",
     "output_type": "stream",
     "text": [
      "No. unique diseases:  2539\n",
      "No. unique Chems:  6112\n"
     ]
    }
   ],
   "source": [
    "# print('Correlated pairs: ', chem_dis[chem_dis.Correlation == 1].shape[0])\n",
    "# print('UnCorrelated pairs: ', chem_dis[chem_dis.Correlation == 0].shape[0])\n",
    "print('No. unique diseases: ', chem_dis.DiseaseID.nunique())\n",
    "print('No. unique Chems: ', chem_dis.ChemicalID.nunique())"
   ]
  },
  {
   "cell_type": "code",
   "execution_count": 16,
   "metadata": {},
   "outputs": [],
   "source": [
    "# Get rid of any chems/diseases that don't have a vector\n",
    "chem_dis['DiseaseID'] = chem_dis['DiseaseID'].astype(str)\n",
    "df['ID'] = df['ID'].astype(str)\n",
    "id_list = df.ID.tolist() # list of chems+diseases with vecs\n",
    "\n",
    "chem_dis['hasDVec'] = chem_dis.DiseaseID.map(lambda x: x in id_list)\n",
    "chem_dis['hasCVec'] = chem_dis.ChemicalID.map(lambda x: x in id_list)\n",
    "chem_dis = chem_dis.loc[(chem_dis['hasDVec'] == True) & (chem_dis['hasCVec'] == True)]\n",
    "chem_dis = chem_dis.drop(['hasDVec','hasCVec'], axis=1)"
   ]
  },
  {
   "cell_type": "code",
   "execution_count": 17,
   "metadata": {},
   "outputs": [],
   "source": [
    "# print('Correlated pairs: ', chem_dis[chem_dis.Correlation == 1].shape[0])\n",
    "# print('UnCorrelated pairs: ', chem_dis[chem_dis.Correlation == 0].shape[0])"
   ]
  },
  {
   "cell_type": "code",
   "execution_count": 18,
   "metadata": {},
   "outputs": [],
   "source": [
    "# merge all info into one df\n",
    "# this df now contains only correlated diseases and vecs\n",
    "df_d = df.copy()\n",
    "df_d.columns= ['DiseaseID', 'DVec']\n",
    "df_c = df.copy()\n",
    "df_c.columns= ['ChemicalID', 'CVec']\n",
    "df1 = pd.merge(chem_dis, df_d, on='DiseaseID')\n",
    "df1 = pd.merge(df1, df_c, on='ChemicalID')\n",
    "\n",
    "df1['Correlation'] = 1 # currently only have correlated in there"
   ]
  },
  {
   "cell_type": "code",
   "execution_count": 19,
   "metadata": {},
   "outputs": [],
   "source": [
    "# # merge all info into one df\n",
    "# # this df now contains only correlated diseases and vecs\n",
    "# df_d = df.copy()\n",
    "# df_d.columns= ['DiseaseID', 'DVec']\n",
    "# df_c = df.copy()\n",
    "# df_c.columns= ['ChemicalID', 'CVec']\n",
    "# df1 = pd.merge(chem_dis, df_d, on='DiseaseID')\n",
    "# df1 = pd.merge(df1, df_c, on='ChemicalID')"
   ]
  },
  {
   "cell_type": "code",
   "execution_count": 20,
   "metadata": {},
   "outputs": [
    {
     "data": {
      "text/html": [
       "<div>\n",
       "<style scoped>\n",
       "    .dataframe tbody tr th:only-of-type {\n",
       "        vertical-align: middle;\n",
       "    }\n",
       "\n",
       "    .dataframe tbody tr th {\n",
       "        vertical-align: top;\n",
       "    }\n",
       "\n",
       "    .dataframe thead th {\n",
       "        text-align: right;\n",
       "    }\n",
       "</style>\n",
       "<table border=\"1\" class=\"dataframe\">\n",
       "  <thead>\n",
       "    <tr style=\"text-align: right;\">\n",
       "      <th></th>\n",
       "      <th>ChemicalID</th>\n",
       "      <th>DiseaseID</th>\n",
       "      <th>DVec</th>\n",
       "      <th>CVec</th>\n",
       "      <th>Correlation</th>\n",
       "    </tr>\n",
       "  </thead>\n",
       "  <tbody>\n",
       "    <tr>\n",
       "      <th>3184</th>\n",
       "      <td>D037742</td>\n",
       "      <td>MESH:D002471</td>\n",
       "      <td>[-0.0351216, 0.12595233, -0.03002397, -0.10022...</td>\n",
       "      <td>[0.01232813, 0.12974437, -0.00763494, -0.13151...</td>\n",
       "      <td>1</td>\n",
       "    </tr>\n",
       "    <tr>\n",
       "      <th>6590</th>\n",
       "      <td>D005472</td>\n",
       "      <td>MESH:D002972</td>\n",
       "      <td>[-1.06637282e-02, 1.32474691e-01, -1.14339013e...</td>\n",
       "      <td>[-2.96734683e-02, -7.76007175e-02, -4.85067695...</td>\n",
       "      <td>1</td>\n",
       "    </tr>\n",
       "    <tr>\n",
       "      <th>365</th>\n",
       "      <td>D001564</td>\n",
       "      <td>MESH:D009362</td>\n",
       "      <td>[-0.06323989, -0.00838911, -0.21696223, -0.110...</td>\n",
       "      <td>[-6.56977762e-04, 1.15829483e-02, -3.29673588e...</td>\n",
       "      <td>1</td>\n",
       "    </tr>\n",
       "    <tr>\n",
       "      <th>4306</th>\n",
       "      <td>D004008</td>\n",
       "      <td>MESH:D007410</td>\n",
       "      <td>[0.01581571, 0.13125835, 0.05351888, -0.116338...</td>\n",
       "      <td>[-0.02403709, 0.08844553, -0.10826206, -0.1294...</td>\n",
       "      <td>1</td>\n",
       "    </tr>\n",
       "    <tr>\n",
       "      <th>2533</th>\n",
       "      <td>D003042</td>\n",
       "      <td>MESH:D056486</td>\n",
       "      <td>[-5.73407635e-02, 5.87317832e-02, -2.38079086e...</td>\n",
       "      <td>[8.72457493e-03, 1.21514283e-01, -1.06348200e-...</td>\n",
       "      <td>1</td>\n",
       "    </tr>\n",
       "    <tr>\n",
       "      <th>3053</th>\n",
       "      <td>D005632</td>\n",
       "      <td>MESH:D056486</td>\n",
       "      <td>[-5.73407635e-02, 5.87317832e-02, -2.38079086e...</td>\n",
       "      <td>[-0.06154032, 0.02354902, -0.5231033, -0.13852...</td>\n",
       "      <td>1</td>\n",
       "    </tr>\n",
       "  </tbody>\n",
       "</table>\n",
       "</div>"
      ],
      "text/plain": [
       "     ChemicalID     DiseaseID  \\\n",
       "3184    D037742  MESH:D002471   \n",
       "6590    D005472  MESH:D002972   \n",
       "365     D001564  MESH:D009362   \n",
       "4306    D004008  MESH:D007410   \n",
       "2533    D003042  MESH:D056486   \n",
       "3053    D005632  MESH:D056486   \n",
       "\n",
       "                                                   DVec  \\\n",
       "3184  [-0.0351216, 0.12595233, -0.03002397, -0.10022...   \n",
       "6590  [-1.06637282e-02, 1.32474691e-01, -1.14339013e...   \n",
       "365   [-0.06323989, -0.00838911, -0.21696223, -0.110...   \n",
       "4306  [0.01581571, 0.13125835, 0.05351888, -0.116338...   \n",
       "2533  [-5.73407635e-02, 5.87317832e-02, -2.38079086e...   \n",
       "3053  [-5.73407635e-02, 5.87317832e-02, -2.38079086e...   \n",
       "\n",
       "                                                   CVec  Correlation  \n",
       "3184  [0.01232813, 0.12974437, -0.00763494, -0.13151...            1  \n",
       "6590  [-2.96734683e-02, -7.76007175e-02, -4.85067695...            1  \n",
       "365   [-6.56977762e-04, 1.15829483e-02, -3.29673588e...            1  \n",
       "4306  [-0.02403709, 0.08844553, -0.10826206, -0.1294...            1  \n",
       "2533  [8.72457493e-03, 1.21514283e-01, -1.06348200e-...            1  \n",
       "3053  [-0.06154032, 0.02354902, -0.5231033, -0.13852...            1  "
      ]
     },
     "execution_count": 20,
     "metadata": {},
     "output_type": "execute_result"
    }
   ],
   "source": [
    "# del df1['index']\n",
    "df1.sample(6)"
   ]
  },
  {
   "cell_type": "markdown",
   "metadata": {},
   "source": [
    "### Add control (uncorrelated) rows"
   ]
  },
  {
   "cell_type": "code",
   "execution_count": 21,
   "metadata": {},
   "outputs": [],
   "source": [
    "# len(id_list)"
   ]
  },
  {
   "cell_type": "code",
   "execution_count": 22,
   "metadata": {},
   "outputs": [],
   "source": [
    "# chem_dis.shape"
   ]
  },
  {
   "cell_type": "code",
   "execution_count": 24,
   "metadata": {},
   "outputs": [],
   "source": [
    "# Create separate dfs of dis-vecs and chem-vecs ( in order to generate additional rows for df1)\n",
    "dis = df.ID.map(lambda x: ('MESH' in x) | ('OMIM' in x))\n",
    "chems = df.ID.map(lambda x: ('MESH' not in x) & ('OMIM' not in x))\n",
    "\n",
    "df_chems = df[chems]\n",
    "df_dis = df[dis]\n",
    "df_chems = df_chems.reset_index(drop=True)\n",
    "df_dis = df_dis.reset_index(drop=True)"
   ]
  },
  {
   "cell_type": "code",
   "execution_count": 25,
   "metadata": {},
   "outputs": [],
   "source": [
    "# # Create separate dfs of dis-vecs and chem-vecs ( in order to generate additional rows for df1)\n",
    "# dis = df1.ChemicalID.unique()\n",
    "# chems = df1.DiseaseID.unique()"
   ]
  },
  {
   "cell_type": "code",
   "execution_count": 26,
   "metadata": {},
   "outputs": [
    {
     "name": "stdout",
     "output_type": "stream",
     "text": [
      "shape:  8919\n",
      "(17791, 5)\n",
      "(17739, 5)\n"
     ]
    }
   ],
   "source": [
    "# Add unrelated pairs to df1\n",
    "no_rows = (df1.shape[0]-1)  # This is a parameter to be tuned --> how many uncorrelated pairs do we want\n",
    "print('shape: ', no_rows)\n",
    "\n",
    "# Make list to check chem-dis pos assocs against\n",
    "chem_dis_pos_assocs = list(chem_dis['ChemicalID'] + chem_dis['DiseaseID'])\n",
    "\n",
    "# Randomly select chems and diseases (as many as there are related pairs)\n",
    "no_chems = len(df_chems) -1\n",
    "no_dis = len(df_dis) -1\n",
    "rand_chems = np.random.choice(no_chems, no_rows, replace=True)\n",
    "rand_dis = np.random.choice(no_dis, no_rows, replace=True)\n",
    "\n",
    "# Add the new pairs as rows\n",
    "for x in range(0, no_rows):\n",
    "    int1 = rand_chems[x]\n",
    "    int2 = rand_dis[x]\n",
    "    chem, chemvec = df_chems.loc[int1, 'ID'], df_chems.loc[int1, 'Vector']\n",
    "    dis, disvec = df_dis.loc[int2, 'ID'], df_dis.loc[int2, 'Vector']\n",
    "    if (chem + dis not in chem_dis_pos_assocs):\n",
    "        df1 = df1.append({'ChemicalID':chem, 'DiseaseID':dis, 'CVec':chemvec, 'DVec':disvec, 'Correlation':0}, ignore_index=True)\n",
    "\n",
    "print(df1.shape)\n",
    "# Drop any duplicates (removes known correlated pairs accidentally generated as uncorrelated)\n",
    "df1 = df1.drop_duplicates(subset=['ChemicalID', 'DiseaseID'], keep=False)\n",
    "print(df1.shape)\n"
   ]
  },
  {
   "cell_type": "code",
   "execution_count": 27,
   "metadata": {},
   "outputs": [],
   "source": [
    "# # Add unrelated pairs to df1\n",
    "\n",
    "# no_rows = (df1.shape[0]-1) * 10  # This is a parameter to be tuned --> how many uncorrelated pairs do we want\n",
    "# print('shape: ', no_rows)\n",
    "\n",
    "# # Make list to check chem-dis pos assocs against\n",
    "# chem_dis_pos_assocs = list(chem_dis['ChemicalID'] + chem_dis['DiseaseID'])\n",
    "\n",
    "# # Randomly select chems and diseases (as many as there are related pairs)\n",
    "# no_chems = len(chems) -1\n",
    "# no_dis = len(dis) -1\n",
    "# rand_chems = np.random.choice(no_chems, no_rows, replace=True)\n",
    "# rand_dis = np.random.choice(no_dis, no_rows, replace=True)\n",
    "\n",
    "# # Add the new pairs as rows\n",
    "# for x in range(0, no_rows):\n",
    "#     int1 = rand_chems[x]\n",
    "#     int2 = rand_dis[x]\n",
    "#     chem, chemvec = df1.loc[int1, 'ChemicalID'], df1.loc[int1, 'CVec']\n",
    "#     dis, disvec = df1.loc[int2, 'DiseaseID'], df1.loc[int2, 'DVec']\n",
    "#     if (chem + dis not in chem_dis_pos_assocs):\n",
    "#         df1 = df1.append({'ChemicalID':chem, 'DiseaseID':dis, 'CVec':chemvec, 'DVec':disvec, 'Correlation':0}, ignore_index=True)\n",
    "\n",
    "# print(df1.shape)\n",
    "# # Drop any duplicates (removes known correlated pairs accidentally generated as uncorrelated)\n",
    "# df1 = df1.drop_duplicates(subset=['ChemicalID', 'DiseaseID'], keep=False)\n",
    "# print(df1.shape)"
   ]
  },
  {
   "cell_type": "code",
   "execution_count": 28,
   "metadata": {},
   "outputs": [],
   "source": [
    "# Convert the elements of the vectors to actual numbers\n",
    "df1['DVec'] = df1.DVec.map(lambda x: [float(i) for i in x])\n",
    "df1['CVec'] = df1.CVec.map(lambda x: [float(i) for i in x])"
   ]
  },
  {
   "cell_type": "markdown",
   "metadata": {},
   "source": [
    "### Add Phenotype Vecs\n",
    "Got a list of Chem-Phenotypes from Sara Alth, where did these come from originally?\n",
    "They have CID identifiers (Pubchem). Need to convert CTD ID to CID ID\n",
    "Use API like so \n",
    "http://pubchem.ncbi.nlm.nih.gov/rest/pug/substance/sourceid/Comparative%20Toxicogenomics%20Database/C533207/cids/TXT/"
   ]
  },
  {
   "cell_type": "code",
   "execution_count": 29,
   "metadata": {},
   "outputs": [
    {
     "data": {
      "text/html": [
       "<div>\n",
       "<style scoped>\n",
       "    .dataframe tbody tr th:only-of-type {\n",
       "        vertical-align: middle;\n",
       "    }\n",
       "\n",
       "    .dataframe tbody tr th {\n",
       "        vertical-align: top;\n",
       "    }\n",
       "\n",
       "    .dataframe thead th {\n",
       "        text-align: right;\n",
       "    }\n",
       "</style>\n",
       "<table border=\"1\" class=\"dataframe\">\n",
       "  <thead>\n",
       "    <tr style=\"text-align: right;\">\n",
       "      <th></th>\n",
       "      <th>MESH</th>\n",
       "    </tr>\n",
       "  </thead>\n",
       "  <tbody>\n",
       "    <tr>\n",
       "      <th>0</th>\n",
       "      <td>MESH:D003920</td>\n",
       "    </tr>\n",
       "    <tr>\n",
       "      <th>1</th>\n",
       "      <td>MESH:D003924</td>\n",
       "    </tr>\n",
       "    <tr>\n",
       "      <th>2</th>\n",
       "      <td>MESH:D008113</td>\n",
       "    </tr>\n",
       "    <tr>\n",
       "      <th>3</th>\n",
       "      <td>MESH:D009369</td>\n",
       "    </tr>\n",
       "    <tr>\n",
       "      <th>4</th>\n",
       "      <td>MESH:D009765</td>\n",
       "    </tr>\n",
       "  </tbody>\n",
       "</table>\n",
       "</div>"
      ],
      "text/plain": [
       "           MESH\n",
       "0  MESH:D003920\n",
       "1  MESH:D003924\n",
       "2  MESH:D008113\n",
       "3  MESH:D009369\n",
       "4  MESH:D009765"
      ]
     },
     "execution_count": 29,
     "metadata": {},
     "output_type": "execute_result"
    }
   ],
   "source": [
    "# First Get FULL list of diseases from CTD\n",
    "diseases = pd.read_csv('../ctd-to-nt/all-diseases-w-genes-ctd.txt', names=['MESH'])\n",
    "diseases.head()"
   ]
  },
  {
   "cell_type": "code",
   "execution_count": 30,
   "metadata": {},
   "outputs": [
    {
     "name": "stdout",
     "output_type": "stream",
     "text": [
      "1671\n"
     ]
    }
   ],
   "source": [
    "# Then use premade map to get DOIDs for MESHs\n",
    "mapper = pd.read_csv('chem_dis_to_CID_DOID.csv')\n",
    "print(mapper.DOID.nunique()) # 1671\n",
    "mesh_to_doid = dict(zip(mapper.ID, mapper.DOID))\n",
    "diseases['DOID'] = diseases.MESH.map(lambda x: mesh_to_doid.get(x))"
   ]
  },
  {
   "cell_type": "code",
   "execution_count": 31,
   "metadata": {},
   "outputs": [],
   "source": [
    "df1['DOID'] = df1.DiseaseID.map(lambda x: mesh_to_doid.get(x))"
   ]
  },
  {
   "cell_type": "code",
   "execution_count": 32,
   "metadata": {},
   "outputs": [],
   "source": [
    "# # Then get phens for all DOIDs\n",
    "# # Read in the association file from Sara\n",
    "# dis_phens = pd.read_csv('../opa/Disease-PhenotypeAssocation.txt', sep=' ', names=['DOID', 'Phenotype'])\n",
    "\n",
    "# # Let's create one associations file for each ontology (I believe we need to run HP and MP separately)\n",
    "# dis_phens.columns = ['ID', 'Phen']\n",
    "\n",
    "# # Split into MP/HP\n",
    "# total_hp = dis_phens.Phen.map(lambda x: 'obolibrary.org/obo/HP' in str(x))\n",
    "# total_mp = dis_phens.Phen.map(lambda x: 'obolibrary.org/obo/MP' in str(x))\n",
    "\n",
    "# total_hp = dis_phens[total_hp]\n",
    "# total_mp = dis_phens[total_mp]"
   ]
  },
  {
   "cell_type": "code",
   "execution_count": 33,
   "metadata": {},
   "outputs": [],
   "source": [
    "# # Export the association files and print some stats (more stats later)\n",
    "# np.savetxt(r'associations_hp.txt', total_hp.values, fmt='%s')\n",
    "# np.savetxt(r'associations_mp.txt', total_mp.values, fmt='%s')\n",
    "\n",
    "# print('Num HP associations: ', total_hp.shape[0])\n",
    "# print('Num MP associations: ', total_mp.shape[0])\n",
    "# print('Num ents with MP phen assocs: ', len(total_mp.ID.unique()))\n",
    "# print('Num ents with HP phen assocs: ', len(total_hp.ID.unique()))\n",
    "\n",
    "# # Create entities lists to inform opa2vec which entities we want vectors for\n",
    "# entities = total_mp.ID.unique().tolist()\n",
    "# np.savetxt(r'entities_mp.lst', entities, fmt='%s')\n",
    "\n",
    "# entities = total_hp.ID.unique().tolist()\n",
    "# np.savetxt(r'entities_hp.lst', entities, fmt='%s')"
   ]
  },
  {
   "cell_type": "code",
   "execution_count": 34,
   "metadata": {},
   "outputs": [],
   "source": [
    "# # HP --> takes ages so commenting out\n",
    "# subprocess.check_output('(cd ../../opa2vec/ ; python2 runOPA2Vec.py -ontology ../ontologies/hp.owl -associations ../msc-thesis/opa/associations_hp.txt -entities ../msc-thesis/opa/entities_hp.lst -outfile ../msc-thesis/opa/hpvecs.lst)', shell=True)"
   ]
  },
  {
   "cell_type": "code",
   "execution_count": 35,
   "metadata": {},
   "outputs": [],
   "source": [
    "# # # MP --> takes ages so commenting out\n",
    "# subprocess.check_output('(cd ../../opa2vec/ ; python2 runOPA2Vec.py -ontology ../ontologies/mp.owl -associations ../msc-thesis/opa/associations_mp.txt -entities ../msc-thesis/opa/entities_mp.lst -outfile ../msc-thesis/opa/mpvecs.lst)', shell=True)"
   ]
  },
  {
   "cell_type": "code",
   "execution_count": null,
   "metadata": {},
   "outputs": [],
   "source": []
  },
  {
   "cell_type": "code",
   "execution_count": 36,
   "metadata": {},
   "outputs": [],
   "source": [
    "# # Now import and integrate the vecs (all phen stuff above here should be in its own notebook )\n",
    "# # Import vec file\n",
    "# with open('hpvecs.lst', 'r') as file:\n",
    "#     text = file.read()\n",
    "    \n",
    "# # Strip and split vector data into list of lists [chem, vec]\n",
    "# text = text.replace('\\n', '')\n",
    "# text = text.split(']')\n",
    "# text = [item.strip().split(' [') for item in text]\n",
    "\n",
    "# # Turn it into a data frame\n",
    "# hp_vecs = pd.DataFrame(text)\n",
    "# hp_vecs.columns = ['ID', 'Vector']\n",
    "\n",
    "# # Clean\n",
    "# hp_vecs = hp_vecs.dropna()\n",
    "# hp_vecs['Vector'] = hp_vecs.Vector.map(lambda x: x.rstrip().lstrip().replace('    ', ' ').replace('   ', ' ').replace('  ', ' ').replace(' ', ','))\n",
    "\n",
    "# # Turn vector column into a list\n",
    "# hp_vecs['Vector'] = hp_vecs.Vector.map(lambda x: x.split(','))"
   ]
  },
  {
   "cell_type": "code",
   "execution_count": 37,
   "metadata": {},
   "outputs": [],
   "source": [
    "# # Now import and integrate the mp vecs\n",
    "# # Import vec file\n",
    "# with open('mpvecs.lst', 'r') as file:\n",
    "#     text = file.read()\n",
    "\n",
    "# # Strip and split vector data into list of lists [chem, vec]\n",
    "# text = text.replace('\\n', '')\n",
    "# text = text.split(']')\n",
    "# text = [item.strip().split(' [') for item in text]\n",
    "\n",
    "# # Turn it into a data frame\n",
    "# mp_vecs = pd.DataFrame(text)\n",
    "# mp_vecs.columns = ['ID', 'Vector']\n",
    "\n",
    "# # Clean\n",
    "# mp_vecs = mp_vecs.dropna()\n",
    "# mp_vecs['Vector'] = mp_vecs.Vector.map(lambda x: x.rstrip().lstrip().replace('    ', ' ').replace('   ', ' ').replace('  ', ' ').replace(' ', ','))\n",
    "\n",
    "# # Turn vector column into a list\n",
    "# mp_vecs['Vector'] = mp_vecs.Vector.map(lambda x: x.split(','))"
   ]
  },
  {
   "cell_type": "code",
   "execution_count": 38,
   "metadata": {},
   "outputs": [],
   "source": [
    "# # Make Maps:\n",
    "# mp_ent_to_vec = dict(zip(mp_vecs.ID, mp_vecs.Vector))\n",
    "# hp_ent_to_vec = dict(zip(hp_vecs.ID, hp_vecs.Vector))"
   ]
  },
  {
   "cell_type": "code",
   "execution_count": 39,
   "metadata": {},
   "outputs": [],
   "source": [
    "# # export dis-mpVec and dis-hpVec maps\n",
    "# with open('dis_mpVec_map'+ '.pkl', 'wb') as f:\n",
    "#         pickle.dump(mp_ent_to_vec, f, pickle.HIGHEST_PROTOCOL)\n",
    "        \n",
    "# with open('dis_hpVec_map'+ '.pkl', 'wb') as f:\n",
    "#         pickle.dump(hp_ent_to_vec, f, pickle.HIGHEST_PROTOCOL)"
   ]
  },
  {
   "cell_type": "code",
   "execution_count": 40,
   "metadata": {},
   "outputs": [],
   "source": [
    "## The commented section above makes phen vecs for all ctd diseases that have doids. Import here \n",
    "def load_obj(name):\n",
    "    with open(name + '.pkl', 'rb') as f:\n",
    "        return pickle.load(f)\n",
    "\n",
    "dis_mpVec = load_obj('../opa/dis_mpVec_map')\n",
    "\n",
    "def load_obj(name):\n",
    "    with open(name + '.pkl', 'rb') as f:\n",
    "        return pickle.load(f)\n",
    "\n",
    "dis_hpVec = load_obj('../opa/dis_hpVec_map')"
   ]
  },
  {
   "cell_type": "code",
   "execution_count": 41,
   "metadata": {},
   "outputs": [],
   "source": [
    "# Standardise the DOIDs\n",
    "def doid_standardiser (doid):\n",
    "    doid = doid.replace(':', '_')\n",
    "    return doid\n",
    "\n",
    "df1['DOID'] = df1.DOID.astype(str).map(lambda x: np.nan if isinstance(x, float) else doid_standardiser(x))"
   ]
  },
  {
   "cell_type": "code",
   "execution_count": 42,
   "metadata": {},
   "outputs": [],
   "source": [
    "# Map entities to vecs (one set of vecs for mp and another for hp)\n",
    "df1['disPhenVecMP'] = df1.DOID.map(lambda x: dis_mpVec.get(x))\n",
    "df1['disPhenVecHP'] = df1.DOID.map(lambda x: dis_hpVec.get(x))\n",
    "\n",
    "df1['chemPhenVecHP'] = None\n",
    "df1['chemPhenVecMP'] = None"
   ]
  },
  {
   "cell_type": "code",
   "execution_count": null,
   "metadata": {},
   "outputs": [],
   "source": []
  },
  {
   "cell_type": "code",
   "execution_count": 43,
   "metadata": {},
   "outputs": [
    {
     "name": "stdout",
     "output_type": "stream",
     "text": [
      "Note these numbers include both correlated and uncorrelated pairs\n",
      "Number of rows with gofuncs:  17739\n",
      "Number of rows with dis mp vec:  6593\n",
      "Number of rows with dis hp vec:  6593\n",
      "total pos corr 8920\n",
      "total neg corr 8819\n"
     ]
    }
   ],
   "source": [
    "## TODO note that I have removed rows without gofuncVecs, maybe now they should be kept\n",
    "# Print Stats\n",
    "print('Note these numbers include both correlated and uncorrelated pairs')\n",
    "print('Number of rows with gofuncs: ', df1.shape[0]) ##NB change this if keeping rows w/o gofunc vecs\n",
    "print('Number of rows with dis mp vec: ', df1[df1.disPhenVecMP.map(lambda x: x is not None)].shape[0])\n",
    "print('Number of rows with dis hp vec: ', df1[df1.disPhenVecHP.map(lambda x: x is not None)].shape[0])\n",
    "# print('Number of rows with chem mp vec: ', df1[df1.chemPhenVecMP.map(lambda x: x is not None)].shape[0])\n",
    "# print('Number of rows with chem hp vec: ', df1[df1.chemPhenVecHP.map(lambda x: x is not None)].shape[0])\n",
    "no_dis_phen_vecs = df1.disPhenVecHP.map(lambda x: x is None) & df1.disPhenVecMP.map(lambda x: x is None)\n",
    "# no_chem_phen_vecs = df1.chemPhenVecHP.map(lambda x: x is None) & df1.chemPhenVecMP.map(lambda x: x is None)\n",
    "# no_phen_vecs = no_dis_phen_vecs & no_chem_phen_vecs\n",
    "# print('Number of rows with no phen vecs: ', df1[no_phen_vecs].shape[0])\n",
    "all_dis_phen_vecs = df1.disPhenVecHP.map(lambda x: x is not None) & df1.disPhenVecMP.map(lambda x: x is not None)\n",
    "# all_chem_phen_vecs = df1.chemPhenVecHP.map(lambda x: x is not None) & df1.chemPhenVecMP.map(lambda x: x is not None)\n",
    "# all_vecs = all_dis_phen_vecs & all_chem_phen_vecs\n",
    "# all_vecs_pos_corr = all_vecs & df1.Correlation.map(lambda x: x == 1)\n",
    "# all_vecs_neg_corr = all_vecs & df1.Correlation.map(lambda x: x == 0)\n",
    "# no_phen_vecs_corr = no_phen_vecs & df1.Correlation.map(lambda x: x == 1)\n",
    "# no_phen_vecs_uncorr = no_phen_vecs & df1.Correlation.map(lambda x: x == 0)\n",
    "\n",
    "\n",
    "\n",
    "# print('Number of rows with everything', df1[all_vecs].shape[0])\n",
    "\n",
    "# print('Number of correlated pairs with phenvecs', df1[no_phen_vecs_corr].shape[0])\n",
    "# print('Number of uncorrelated pairs with phenvecs', df1[no_phen_vecs_uncorr].shape[0])\n",
    "\n",
    "\n",
    "# print('Number of correlated pairs with everything', df1[all_vecs_pos_corr].shape[0])\n",
    "# print('Number of uncorrelated pairs with everything', df1[all_vecs_neg_corr].shape[0])\n",
    "\n",
    "print('total pos corr', df1[df1.Correlation.map(lambda x: x == 1)].shape[0])\n",
    "print('total neg corr', df1[df1.Correlation.map(lambda x: x == 0)].shape[0])"
   ]
  },
  {
   "cell_type": "code",
   "execution_count": 44,
   "metadata": {},
   "outputs": [],
   "source": [
    "# Add empty vecs for rows that don't have phen vecs\n",
    "empty_vec = [0] * 200\n",
    "\n",
    "for col in ['disPhenVecMP', 'disPhenVecHP', 'chemPhenVecHP', 'chemPhenVecMP']:\n",
    "    df1[col] = df1[col].map(lambda x: empty_vec if x is None else x)"
   ]
  },
  {
   "cell_type": "code",
   "execution_count": 45,
   "metadata": {},
   "outputs": [],
   "source": [
    "# Change the Phen vec elements from string to floats\n",
    "df1['disPhenVecHP'] = df1.disPhenVecHP.map(lambda x: [float(i) for i in x])\n",
    "df1['disPhenVecMP'] = df1.disPhenVecMP.map(lambda x: [float(i) for i in x])\n",
    "df1['chemPhenVecHP'] = df1.chemPhenVecHP.map(lambda x: [float(i) for i in x])\n",
    "df1['chemPhenVecMP'] = df1.chemPhenVecMP.map(lambda x: [float(i) for i in x])"
   ]
  },
  {
   "cell_type": "markdown",
   "metadata": {},
   "source": [
    "### Add CHEBI Vecs"
   ]
  },
  {
   "cell_type": "code",
   "execution_count": 46,
   "metadata": {},
   "outputs": [
    {
     "data": {
      "text/plain": [
       "(12885, 1)"
      ]
     },
     "execution_count": 46,
     "metadata": {},
     "output_type": "execute_result"
    }
   ],
   "source": [
    "# get ALL ctd chems that have gene associations\n",
    "chems = pd.read_csv('allchemsthathavegenesID.txt', names=['ChemicalID'])\n",
    "chems.shape # 12855"
   ]
  },
  {
   "cell_type": "code",
   "execution_count": 47,
   "metadata": {},
   "outputs": [],
   "source": [
    "# Map them to CIDs\n",
    "# Load the map from pickle object\n",
    "def load_obj(name):\n",
    "    with open(name + '.pkl', 'rb') as f:\n",
    "        return pickle.load(f)\n",
    "\n",
    "ctd_cid_map = load_obj('ctd_cid_map')\n",
    "\n",
    "chems['CID'] = chems.ChemicalID.map(lambda x: ctd_cid_map.get(x))"
   ]
  },
  {
   "cell_type": "code",
   "execution_count": 48,
   "metadata": {},
   "outputs": [
    {
     "data": {
      "text/plain": [
       "array([b'5494506', None, b'11267663', b'113918', b'10079106', b'10424358',\n",
       "       b'24762158', b'122347', b'97226', b'6420504'], dtype=object)"
      ]
     },
     "execution_count": 48,
     "metadata": {},
     "output_type": "execute_result"
    }
   ],
   "source": [
    "chems.CID.unique()[5:15]"
   ]
  },
  {
   "cell_type": "code",
   "execution_count": 49,
   "metadata": {},
   "outputs": [],
   "source": [
    "# Convert CIDS from bytes to strings and export in order to make a map from CID to CHEBI ID\n",
    "chems['CID'] = chems.CID.str.decode(\"utf-8\")\n",
    "np.savetxt(r'allCIDs.txt', chems.CID.unique(), fmt='%s')\n",
    "\n",
    "## NOTE the next step is MANUAL you need to upload this allCIDs.txt to http://cts.fiehnlab.ucdavis.edu/batch \n",
    "# and download it as ctd_chebi.csv to the current folder\n",
    "# !!! it no longer seems possible to convert from CID by the website. Think I'll need to write a script\n",
    "# and use the API. Currently running the website to convert from chemical name. \n",
    "# Right seems like API isn't working for my purposes either right now. Will cobble CHEBIs together from my\n",
    "# earlier download of this file, which wasn't comprehensive, plus what I can get from chem name (~20%)"
   ]
  },
  {
   "cell_type": "code",
   "execution_count": 50,
   "metadata": {},
   "outputs": [],
   "source": [
    "# import the chebi IDs I got from all chem names (about 1 in in 3)\n",
    "chebi_from_names = pd.read_csv('all_chem_names_chebi.csv')\n",
    "\n",
    "# chop any empty values\n",
    "chebi_from_names['ChEBI'] = chebi_from_names.ChEBI.map(lambda x: np.nan if x == 'No result' else x)\n",
    "chebi_from_names = chebi_from_names.dropna()\n",
    "\n",
    "# make map\n",
    "chem2chebi = dict(zip(chebi_from_names['Chemical Name'], chebi_from_names.ChEBI))"
   ]
  },
  {
   "cell_type": "code",
   "execution_count": 51,
   "metadata": {},
   "outputs": [
    {
     "data": {
      "text/html": [
       "<div>\n",
       "<style scoped>\n",
       "    .dataframe tbody tr th:only-of-type {\n",
       "        vertical-align: middle;\n",
       "    }\n",
       "\n",
       "    .dataframe tbody tr th {\n",
       "        vertical-align: top;\n",
       "    }\n",
       "\n",
       "    .dataframe thead th {\n",
       "        text-align: right;\n",
       "    }\n",
       "</style>\n",
       "<table border=\"1\" class=\"dataframe\">\n",
       "  <thead>\n",
       "    <tr style=\"text-align: right;\">\n",
       "      <th></th>\n",
       "      <th>Chemical Name</th>\n",
       "      <th>ChEBI</th>\n",
       "    </tr>\n",
       "  </thead>\n",
       "  <tbody>\n",
       "    <tr>\n",
       "      <th>1</th>\n",
       "      <td>10,10-bis(4-pyridinylmethyl)-9(10H)-anthracenone</td>\n",
       "      <td>CHEBI:35046</td>\n",
       "    </tr>\n",
       "    <tr>\n",
       "      <th>2</th>\n",
       "      <td>10,11-dihydro-10,11-dihydroxy-5H-dibenzazepine...</td>\n",
       "      <td>CHEBI:4592</td>\n",
       "    </tr>\n",
       "    <tr>\n",
       "      <th>3</th>\n",
       "      <td>10,11-dihydro-10-hydroxycarbamazepine</td>\n",
       "      <td>CHEBI:701</td>\n",
       "    </tr>\n",
       "    <tr>\n",
       "      <th>14</th>\n",
       "      <td>10-formyltetrahydropteroylglutamic acid</td>\n",
       "      <td>CHEBI:15637</td>\n",
       "    </tr>\n",
       "    <tr>\n",
       "      <th>15</th>\n",
       "      <td>10-hydroxycamptothecin</td>\n",
       "      <td>CHEBI:81395</td>\n",
       "    </tr>\n",
       "  </tbody>\n",
       "</table>\n",
       "</div>"
      ],
      "text/plain": [
       "                                        Chemical Name        ChEBI\n",
       "1    10,10-bis(4-pyridinylmethyl)-9(10H)-anthracenone  CHEBI:35046\n",
       "2   10,11-dihydro-10,11-dihydroxy-5H-dibenzazepine...   CHEBI:4592\n",
       "3               10,11-dihydro-10-hydroxycarbamazepine    CHEBI:701\n",
       "14            10-formyltetrahydropteroylglutamic acid  CHEBI:15637\n",
       "15                             10-hydroxycamptothecin  CHEBI:81395"
      ]
     },
     "execution_count": 51,
     "metadata": {},
     "output_type": "execute_result"
    }
   ],
   "source": [
    "chebi_from_names.head()"
   ]
  },
  {
   "cell_type": "code",
   "execution_count": 52,
   "metadata": {},
   "outputs": [
    {
     "data": {
      "text/plain": [
       "(4489, 2)"
      ]
     },
     "execution_count": 52,
     "metadata": {},
     "output_type": "execute_result"
    }
   ],
   "source": [
    "chebi_from_names.shape"
   ]
  },
  {
   "cell_type": "code",
   "execution_count": 53,
   "metadata": {},
   "outputs": [],
   "source": [
    "# Now import a second chebi map, one made earlier from CIDs tho only for chems with go vecs\n",
    "# Import CSV mapping CID to CHEBI\n",
    "ctdChebdf = pd.read_csv('ctd_chebiBACKUP.csv')\n",
    "\n",
    "# Turn it into a dict\n",
    "cid2chebi = dict(zip(ctdChebdf['PubChem CID'], ctdChebdf['ChEBI']))\n",
    "\n",
    "# Map the cids to chebis\n",
    "chems['CHEBI1'] = chems.CID.map(lambda x: cid2chebi.get(x))\n",
    "chems['CHEBI1'] = chems.CHEBI1.map(lambda x: None if x == 'No result' else x)"
   ]
  },
  {
   "cell_type": "code",
   "execution_count": 54,
   "metadata": {},
   "outputs": [
    {
     "data": {
      "text/plain": [
       "314"
      ]
     },
     "execution_count": 54,
     "metadata": {},
     "output_type": "execute_result"
    }
   ],
   "source": [
    "chems.CHEBI1.nunique() # 314"
   ]
  },
  {
   "cell_type": "code",
   "execution_count": 55,
   "metadata": {},
   "outputs": [],
   "source": [
    "# Must map chem names into our chems df before applying chemname2chebi\n",
    "chemnames = pd.read_csv('../ctd-to-nt/chemname_chemid.csv')"
   ]
  },
  {
   "cell_type": "code",
   "execution_count": 56,
   "metadata": {},
   "outputs": [
    {
     "data": {
      "text/html": [
       "<div>\n",
       "<style scoped>\n",
       "    .dataframe tbody tr th:only-of-type {\n",
       "        vertical-align: middle;\n",
       "    }\n",
       "\n",
       "    .dataframe tbody tr th {\n",
       "        vertical-align: top;\n",
       "    }\n",
       "\n",
       "    .dataframe thead th {\n",
       "        text-align: right;\n",
       "    }\n",
       "</style>\n",
       "<table border=\"1\" class=\"dataframe\">\n",
       "  <thead>\n",
       "    <tr style=\"text-align: right;\">\n",
       "      <th></th>\n",
       "      <th>ChemicalID</th>\n",
       "      <th># ChemicalName</th>\n",
       "    </tr>\n",
       "  </thead>\n",
       "  <tbody>\n",
       "    <tr>\n",
       "      <th>0</th>\n",
       "      <td>C046983</td>\n",
       "      <td>06-Paris-LA-66 protocol</td>\n",
       "    </tr>\n",
       "    <tr>\n",
       "      <th>1</th>\n",
       "      <td>C112297</td>\n",
       "      <td>10,10-bis(4-pyridinylmethyl)-9(10H)-anthracenone</td>\n",
       "    </tr>\n",
       "    <tr>\n",
       "      <th>2</th>\n",
       "      <td>C112297</td>\n",
       "      <td>10,10-bis(4-pyridinylmethyl)-9(10H)-anthracenone</td>\n",
       "    </tr>\n",
       "    <tr>\n",
       "      <th>3</th>\n",
       "      <td>C039775</td>\n",
       "      <td>10,11-dihydro-10-hydroxycarbamazepine</td>\n",
       "    </tr>\n",
       "    <tr>\n",
       "      <th>4</th>\n",
       "      <td>C425777</td>\n",
       "      <td>10,11-dihydroxy-N-n-propylnorapomorphine</td>\n",
       "    </tr>\n",
       "  </tbody>\n",
       "</table>\n",
       "</div>"
      ],
      "text/plain": [
       "  ChemicalID                                    # ChemicalName\n",
       "0    C046983                           06-Paris-LA-66 protocol\n",
       "1    C112297  10,10-bis(4-pyridinylmethyl)-9(10H)-anthracenone\n",
       "2    C112297  10,10-bis(4-pyridinylmethyl)-9(10H)-anthracenone\n",
       "3    C039775             10,11-dihydro-10-hydroxycarbamazepine\n",
       "4    C425777          10,11-dihydroxy-N-n-propylnorapomorphine"
      ]
     },
     "execution_count": 56,
     "metadata": {},
     "output_type": "execute_result"
    }
   ],
   "source": [
    "chemnames.head()"
   ]
  },
  {
   "cell_type": "code",
   "execution_count": 57,
   "metadata": {},
   "outputs": [],
   "source": [
    "# Make a map of it\n",
    "id2name = dict(zip(chemnames.ChemicalID, chemnames['# ChemicalName']))"
   ]
  },
  {
   "cell_type": "code",
   "execution_count": 58,
   "metadata": {},
   "outputs": [],
   "source": [
    "chems['ChemicalName'] = chems.ChemicalID.map(lambda x: id2name.get(x))"
   ]
  },
  {
   "cell_type": "code",
   "execution_count": 59,
   "metadata": {},
   "outputs": [
    {
     "data": {
      "text/html": [
       "<div>\n",
       "<style scoped>\n",
       "    .dataframe tbody tr th:only-of-type {\n",
       "        vertical-align: middle;\n",
       "    }\n",
       "\n",
       "    .dataframe tbody tr th {\n",
       "        vertical-align: top;\n",
       "    }\n",
       "\n",
       "    .dataframe thead th {\n",
       "        text-align: right;\n",
       "    }\n",
       "</style>\n",
       "<table border=\"1\" class=\"dataframe\">\n",
       "  <thead>\n",
       "    <tr style=\"text-align: right;\">\n",
       "      <th></th>\n",
       "      <th>ChemicalID</th>\n",
       "      <th>CID</th>\n",
       "      <th>CHEBI1</th>\n",
       "      <th>ChemicalName</th>\n",
       "    </tr>\n",
       "  </thead>\n",
       "  <tbody>\n",
       "    <tr>\n",
       "      <th>0</th>\n",
       "      <td>C534883</td>\n",
       "      <td>2836600</td>\n",
       "      <td>None</td>\n",
       "      <td>None</td>\n",
       "    </tr>\n",
       "    <tr>\n",
       "      <th>1</th>\n",
       "      <td>C112297</td>\n",
       "      <td>656732</td>\n",
       "      <td>None</td>\n",
       "      <td>10,10-bis(4-pyridinylmethyl)-9(10H)-anthracenone</td>\n",
       "    </tr>\n",
       "    <tr>\n",
       "      <th>2</th>\n",
       "      <td>C004822</td>\n",
       "      <td>83852</td>\n",
       "      <td>None</td>\n",
       "      <td>None</td>\n",
       "    </tr>\n",
       "    <tr>\n",
       "      <th>3</th>\n",
       "      <td>C039775</td>\n",
       "      <td>114709</td>\n",
       "      <td>None</td>\n",
       "      <td>10,11-dihydro-10-hydroxycarbamazepine</td>\n",
       "    </tr>\n",
       "    <tr>\n",
       "      <th>4</th>\n",
       "      <td>C515697</td>\n",
       "      <td>70029</td>\n",
       "      <td>None</td>\n",
       "      <td>None</td>\n",
       "    </tr>\n",
       "  </tbody>\n",
       "</table>\n",
       "</div>"
      ],
      "text/plain": [
       "  ChemicalID      CID CHEBI1                                      ChemicalName\n",
       "0    C534883  2836600   None                                              None\n",
       "1    C112297   656732   None  10,10-bis(4-pyridinylmethyl)-9(10H)-anthracenone\n",
       "2    C004822    83852   None                                              None\n",
       "3    C039775   114709   None             10,11-dihydro-10-hydroxycarbamazepine\n",
       "4    C515697    70029   None                                              None"
      ]
     },
     "execution_count": 59,
     "metadata": {},
     "output_type": "execute_result"
    }
   ],
   "source": [
    "chems.head()"
   ]
  },
  {
   "cell_type": "code",
   "execution_count": 60,
   "metadata": {},
   "outputs": [],
   "source": [
    "# Map the names to chebis\n",
    "chems['CHEBI2'] = chems.ChemicalName.map(lambda x: chem2chebi.get(x))\n",
    "chems['CHEBI2'] = chems.CHEBI2.map(lambda x: None if x == 'No result' else x)"
   ]
  },
  {
   "cell_type": "code",
   "execution_count": 61,
   "metadata": {},
   "outputs": [
    {
     "data": {
      "text/plain": [
       "2791"
      ]
     },
     "execution_count": 61,
     "metadata": {},
     "output_type": "execute_result"
    }
   ],
   "source": [
    "chems.CHEBI2.nunique() # 2791"
   ]
  },
  {
   "cell_type": "code",
   "execution_count": 62,
   "metadata": {},
   "outputs": [
    {
     "data": {
      "text/plain": [
       "2821"
      ]
     },
     "execution_count": 62,
     "metadata": {},
     "output_type": "execute_result"
    }
   ],
   "source": [
    "# Merge the CHEBIs\n",
    "chems.CHEBI1.fillna(chems.CHEBI2, inplace=True)\n",
    "chems.CHEBI1.nunique()"
   ]
  },
  {
   "cell_type": "code",
   "execution_count": 63,
   "metadata": {},
   "outputs": [],
   "source": [
    "# Cleaning\n",
    "del chems['CHEBI2']\n",
    "chems = chems.rename(columns = {'CHEBI1':'CHEBI'})"
   ]
  },
  {
   "cell_type": "code",
   "execution_count": 64,
   "metadata": {},
   "outputs": [],
   "source": [
    "# Make assoc file and entity file for opa\n",
    "# add uri col\n",
    "chems['CHEBI_uri'] = chems.dropna(subset=['CHEBI']).CHEBI.map(lambda x: '<http://purl.obolibrary.org/obo/' + x.replace(':', '_') + '>')\n",
    "\n",
    "# export association file from df\n",
    "np.savetxt(r'CHEBIassociations.txt', chems[['ChemicalID', 'CHEBI_uri']].dropna().drop_duplicates().values, fmt='%s')\n",
    "\n",
    "# Now an entities file\n",
    "chems_for_cheb = chems[['ChemicalID', 'CHEBI_uri']].dropna().drop_duplicates().ChemicalID.tolist()\n",
    "np.savetxt(r'CHEBIentities.txt', chems_for_cheb, fmt='%s')"
   ]
  },
  {
   "cell_type": "code",
   "execution_count": 65,
   "metadata": {},
   "outputs": [],
   "source": [
    "# # Run opa\n",
    "# # Commenting this out now that I already have the vectors, you'll need it if you don't have them\n",
    "# # Now run opa2vec on it \n",
    "# subprocess.check_output('(cd ../../opa2vec/ ; python2 runOPA2Vec.py -ontology ../ontologies/chebi.owl -associations ../msc-thesis/opa/CHEBIassociations.txt -entities ../msc-thesis/opa/CHEBIentities.txt -outfile ../msc-thesis/opa/chebi-vecs.lst)', shell=True)"
   ]
  },
  {
   "cell_type": "code",
   "execution_count": null,
   "metadata": {},
   "outputs": [],
   "source": []
  },
  {
   "cell_type": "code",
   "execution_count": null,
   "metadata": {},
   "outputs": [],
   "source": []
  },
  {
   "cell_type": "code",
   "execution_count": null,
   "metadata": {},
   "outputs": [],
   "source": []
  },
  {
   "cell_type": "code",
   "execution_count": null,
   "metadata": {},
   "outputs": [],
   "source": []
  },
  {
   "cell_type": "code",
   "execution_count": null,
   "metadata": {},
   "outputs": [],
   "source": []
  },
  {
   "cell_type": "code",
   "execution_count": 66,
   "metadata": {},
   "outputs": [],
   "source": [
    "# All below is original iteration that only dealt with chems that have govecs\n",
    "# First add CHEBI IDs for each chem"
   ]
  },
  {
   "cell_type": "code",
   "execution_count": 67,
   "metadata": {},
   "outputs": [],
   "source": [
    "# chem_names = df1.ChemicalID.unique().tolist()\n",
    "# np.savetxt(r'chem_names', total_hp.values, fmt='%s')"
   ]
  },
  {
   "cell_type": "code",
   "execution_count": 68,
   "metadata": {},
   "outputs": [],
   "source": [
    "# # To add chebi first need CID for ALL Chems so I made this comprehensive map:\n",
    "# # Load the map from pickle object\n",
    "# def load_obj(name):\n",
    "#     with open(name + '.pkl', 'rb') as f:\n",
    "#         return pickle.load(f)\n",
    "\n",
    "# ctd_cid_map = load_obj('ctd_cid_map')"
   ]
  },
  {
   "cell_type": "code",
   "execution_count": 69,
   "metadata": {},
   "outputs": [],
   "source": [
    "# df1['CID'] = df1.ChemicalID.map(lambda x: ctd_cid_map.get(x))"
   ]
  },
  {
   "cell_type": "code",
   "execution_count": 70,
   "metadata": {},
   "outputs": [],
   "source": [
    "# df1.sample(3)"
   ]
  },
  {
   "cell_type": "code",
   "execution_count": 71,
   "metadata": {},
   "outputs": [],
   "source": [
    "# # Convert CIDS from bytes to strings and export in order to make a map from CID to CHEBI ID\n",
    "# df1['CID'] = df1.CID.str.decode(\"utf-8\")\n",
    "# np.savetxt(r'allCIDs.txt', df1.CID.unique(), fmt='%s')\n",
    "\n",
    "# ## NOTE the next step is MANUAL you need to upload this allCIDs.txt to http://cts.fiehnlab.ucdavis.edu/batch \n",
    "# # and download it as ctd_chebi.csv to the current folder"
   ]
  },
  {
   "cell_type": "code",
   "execution_count": 72,
   "metadata": {},
   "outputs": [],
   "source": [
    "# # How many chemicals don't have CIDs? Hence don't get chebi vecs\n",
    "# print(df1.shape[0])\n",
    "# print(df1[df1.CID.map(lambda x: x is not None)].shape[0])"
   ]
  },
  {
   "cell_type": "code",
   "execution_count": 73,
   "metadata": {},
   "outputs": [],
   "source": [
    "# # Import CSV mapping CID to CHEBI\n",
    "# ctdChebdf = pd.read_csv('ctd_chebiBACKUP.csv')"
   ]
  },
  {
   "cell_type": "code",
   "execution_count": 74,
   "metadata": {},
   "outputs": [],
   "source": [
    "# ctdChebdf.head()"
   ]
  },
  {
   "cell_type": "code",
   "execution_count": 75,
   "metadata": {},
   "outputs": [],
   "source": [
    "# # Import CSV mapping CID to CHEBI\n",
    "# ctdChebdf = pd.read_csv('ctd_chebiBACKUP.csv')\n",
    "\n",
    "# # Turn it into a dict\n",
    "# ctd_chebi = dict(zip(ctdChebdf['PubChem CID'], ctdChebdf['ChEBI']))\n",
    "\n",
    "# # Map the cids to chebis\n",
    "# df1['CHEBI'] = df1.CID.map(lambda x: ctd_chebi.get(x))\n",
    "# df1['CHEBI'] = df1.CHEBI.map(lambda x: None if x == 'No result' else x)"
   ]
  },
  {
   "cell_type": "code",
   "execution_count": 76,
   "metadata": {},
   "outputs": [],
   "source": [
    "# # Now make CHEBI vecs using the CHEBI IDs\n",
    "# # First an association file - just linking each chebi to its own chebi entity\n",
    "\n",
    "# # add uri col\n",
    "# df1['CHEBI_uri'] = df1.dropna(subset=['CHEBI']).CHEBI.map(lambda x: '<http://purl.obolibrary.org/obo/' + x.replace(':', '_') + '>')\n",
    "\n",
    "# # export association file from df\n",
    "# np.savetxt(r'CHEBIassociations.txt', df1[['ChemicalID', 'CHEBI_uri']].dropna().drop_duplicates().values, fmt='%s')\n",
    "\n",
    "# # Now an entities file\n",
    "# chems_for_cheb = df1[['ChemicalID', 'CHEBI_uri']].dropna().drop_duplicates().ChemicalID.tolist()\n",
    "# np.savetxt(r'CHEBIentities.txt', chems_for_cheb, fmt='%s')"
   ]
  },
  {
   "cell_type": "code",
   "execution_count": 77,
   "metadata": {},
   "outputs": [],
   "source": [
    "# Commenting this out now that I already have the vectors, you'll need it if you don't have them\n",
    "# # Now run opa2vec on it \n",
    "# subprocess.check_output('(cd ../../opa2vec/ ; python2 runOPA2Vec.py -ontology ../ontologies/chebi.owl -associations ../msc-thesis/opa/CHEBIassociations.txt -entities ../msc-thesis/opa/CHEBIentities.txt -outfile ../msc-thesis/opa/chebi-vecs.lst)', shell=True)"
   ]
  },
  {
   "cell_type": "code",
   "execution_count": 78,
   "metadata": {},
   "outputs": [],
   "source": [
    "# Import CHEBI vec file\n",
    "with open('chebi-vecs.lst', 'r') as file:\n",
    "    text = file.read()\n",
    "    \n",
    "# Strip and split vector data into list of lists [chem, vec]\n",
    "text = text.replace('\\n', '')\n",
    "text = text.split(']')\n",
    "text = [item.strip().split(' [') for item in text]\n",
    "\n",
    "# Turn it into a data frame\n",
    "df = pd.DataFrame(text)\n",
    "df.columns = ['ID', 'Vector']\n",
    "\n",
    "# Clean\n",
    "df = df.dropna()\n",
    "df['Vector'] = df.Vector.map(lambda x: x.rstrip().lstrip().replace('    ', ' ').replace('   ', ' ').replace('  ', ' ').replace(' ', ','))\n",
    "\n",
    "# Turn vector column into a list\n",
    "df['Vector'] = df.Vector.map(lambda x: x.split(','))\n",
    "\n",
    "# Make a map of it (ChemID to CHEBIvec)\n",
    "chem_to_chebi_vec = dict(zip(df.ID, df.Vector))"
   ]
  },
  {
   "cell_type": "code",
   "execution_count": 79,
   "metadata": {},
   "outputs": [],
   "source": [
    "# Export the chem2chebi map for use in validation databases\n",
    "# export dis-mpVec and dis-hpVec maps\n",
    "with open('chem2chebi'+ '.pkl', 'wb') as f:\n",
    "        pickle.dump(chem_to_chebi_vec, f, pickle.HIGHEST_PROTOCOL)\n"
   ]
  },
  {
   "cell_type": "code",
   "execution_count": 80,
   "metadata": {},
   "outputs": [],
   "source": [
    "df1['CHEBIvec'] = df1.ChemicalID.map(lambda x: chem_to_chebi_vec.get(x))"
   ]
  },
  {
   "cell_type": "code",
   "execution_count": 81,
   "metadata": {},
   "outputs": [
    {
     "name": "stdout",
     "output_type": "stream",
     "text": [
      "Total Rows 17739\n",
      "Total Correlated Rows 8920\n",
      "Total CHEBI vec rows 10825\n",
      "Total CHEBI vec correlated rows 6150\n",
      "Total Chems 586\n",
      "Total Chems with CHEBI Vec 312\n"
     ]
    }
   ],
   "source": [
    "# How many rows have CHEBI Vecs?\n",
    "print('Total Rows', df1.shape[0])\n",
    "print('Total Correlated Rows', df1[df1.Correlation == 1].shape[0])\n",
    "print('Total CHEBI vec rows', df1.dropna(subset=['CHEBIvec']).shape[0])\n",
    "print('Total CHEBI vec correlated rows', df1[df1.Correlation == 1].dropna(subset=['CHEBIvec']).shape[0])\n",
    "print('Total Chems', len(df1.ChemicalID.unique()))\n",
    "print('Total Chems with CHEBI Vec', len(df1.dropna(subset=['CHEBIvec']).ChemicalID.unique()))\n",
    "# Total Rows 17675\n",
    "# Total Correlated Rows 8869\n",
    "# Total CHEBI vec rows 5323\n",
    "# Total CHEBI vec correlated rows 3361\n",
    "# Total Chems 586\n",
    "# Total Chems with CHEBI Vec 131"
   ]
  },
  {
   "cell_type": "code",
   "execution_count": 82,
   "metadata": {},
   "outputs": [
    {
     "data": {
      "text/html": [
       "<div>\n",
       "<style scoped>\n",
       "    .dataframe tbody tr th:only-of-type {\n",
       "        vertical-align: middle;\n",
       "    }\n",
       "\n",
       "    .dataframe tbody tr th {\n",
       "        vertical-align: top;\n",
       "    }\n",
       "\n",
       "    .dataframe thead th {\n",
       "        text-align: right;\n",
       "    }\n",
       "</style>\n",
       "<table border=\"1\" class=\"dataframe\">\n",
       "  <thead>\n",
       "    <tr style=\"text-align: right;\">\n",
       "      <th></th>\n",
       "      <th>ChemicalID</th>\n",
       "      <th>DiseaseID</th>\n",
       "      <th>DVec</th>\n",
       "      <th>CVec</th>\n",
       "      <th>Correlation</th>\n",
       "      <th>DOID</th>\n",
       "      <th>disPhenVecMP</th>\n",
       "      <th>disPhenVecHP</th>\n",
       "      <th>chemPhenVecHP</th>\n",
       "      <th>chemPhenVecMP</th>\n",
       "      <th>CHEBIvec</th>\n",
       "    </tr>\n",
       "  </thead>\n",
       "  <tbody>\n",
       "    <tr>\n",
       "      <th>9643</th>\n",
       "      <td>D017313</td>\n",
       "      <td>OMIM:617065</td>\n",
       "      <td>[0.01894779, 0.10575829, 0.03266486, -0.120980...</td>\n",
       "      <td>[0.0226929933, 0.14501299, 0.0597290248, -0.15...</td>\n",
       "      <td>0</td>\n",
       "      <td>None</td>\n",
       "      <td>[0.0, 0.0, 0.0, 0.0, 0.0, 0.0, 0.0, 0.0, 0.0, ...</td>\n",
       "      <td>[0.0, 0.0, 0.0, 0.0, 0.0, 0.0, 0.0, 0.0, 0.0, ...</td>\n",
       "      <td>[0.0, 0.0, 0.0, 0.0, 0.0, 0.0, 0.0, 0.0, 0.0, ...</td>\n",
       "      <td>[0.0, 0.0, 0.0, 0.0, 0.0, 0.0, 0.0, 0.0, 0.0, ...</td>\n",
       "      <td>None</td>\n",
       "    </tr>\n",
       "    <tr>\n",
       "      <th>14736</th>\n",
       "      <td>C074283</td>\n",
       "      <td>MESH:C535702</td>\n",
       "      <td>[0.01089955, 0.14402176, 0.03286817, -0.150193...</td>\n",
       "      <td>[-0.0133901061, 0.116737746, 0.0253758859, -0....</td>\n",
       "      <td>0</td>\n",
       "      <td>None</td>\n",
       "      <td>[0.0, 0.0, 0.0, 0.0, 0.0, 0.0, 0.0, 0.0, 0.0, ...</td>\n",
       "      <td>[0.0, 0.0, 0.0, 0.0, 0.0, 0.0, 0.0, 0.0, 0.0, ...</td>\n",
       "      <td>[0.0, 0.0, 0.0, 0.0, 0.0, 0.0, 0.0, 0.0, 0.0, ...</td>\n",
       "      <td>[0.0, 0.0, 0.0, 0.0, 0.0, 0.0, 0.0, 0.0, 0.0, ...</td>\n",
       "      <td>[0.01771633, 0.06411772, 0.03854137, -0.056743...</td>\n",
       "    </tr>\n",
       "    <tr>\n",
       "      <th>7342</th>\n",
       "      <td>D012969</td>\n",
       "      <td>MESH:D008569</td>\n",
       "      <td>[-0.00122191, 0.12140676, -0.06278317, -0.1614...</td>\n",
       "      <td>[0.000285959075, 0.148733377, 0.0078057549, -0...</td>\n",
       "      <td>1</td>\n",
       "      <td>nan</td>\n",
       "      <td>[0.0, 0.0, 0.0, 0.0, 0.0, 0.0, 0.0, 0.0, 0.0, ...</td>\n",
       "      <td>[0.0, 0.0, 0.0, 0.0, 0.0, 0.0, 0.0, 0.0, 0.0, ...</td>\n",
       "      <td>[0.0, 0.0, 0.0, 0.0, 0.0, 0.0, 0.0, 0.0, 0.0, ...</td>\n",
       "      <td>[0.0, 0.0, 0.0, 0.0, 0.0, 0.0, 0.0, 0.0, 0.0, ...</td>\n",
       "      <td>[0.01631292, 0.04949443, 0.01545214, -0.064467...</td>\n",
       "    </tr>\n",
       "  </tbody>\n",
       "</table>\n",
       "</div>"
      ],
      "text/plain": [
       "      ChemicalID     DiseaseID  \\\n",
       "9643     D017313   OMIM:617065   \n",
       "14736    C074283  MESH:C535702   \n",
       "7342     D012969  MESH:D008569   \n",
       "\n",
       "                                                    DVec  \\\n",
       "9643   [0.01894779, 0.10575829, 0.03266486, -0.120980...   \n",
       "14736  [0.01089955, 0.14402176, 0.03286817, -0.150193...   \n",
       "7342   [-0.00122191, 0.12140676, -0.06278317, -0.1614...   \n",
       "\n",
       "                                                    CVec  Correlation  DOID  \\\n",
       "9643   [0.0226929933, 0.14501299, 0.0597290248, -0.15...            0  None   \n",
       "14736  [-0.0133901061, 0.116737746, 0.0253758859, -0....            0  None   \n",
       "7342   [0.000285959075, 0.148733377, 0.0078057549, -0...            1   nan   \n",
       "\n",
       "                                            disPhenVecMP  \\\n",
       "9643   [0.0, 0.0, 0.0, 0.0, 0.0, 0.0, 0.0, 0.0, 0.0, ...   \n",
       "14736  [0.0, 0.0, 0.0, 0.0, 0.0, 0.0, 0.0, 0.0, 0.0, ...   \n",
       "7342   [0.0, 0.0, 0.0, 0.0, 0.0, 0.0, 0.0, 0.0, 0.0, ...   \n",
       "\n",
       "                                            disPhenVecHP  \\\n",
       "9643   [0.0, 0.0, 0.0, 0.0, 0.0, 0.0, 0.0, 0.0, 0.0, ...   \n",
       "14736  [0.0, 0.0, 0.0, 0.0, 0.0, 0.0, 0.0, 0.0, 0.0, ...   \n",
       "7342   [0.0, 0.0, 0.0, 0.0, 0.0, 0.0, 0.0, 0.0, 0.0, ...   \n",
       "\n",
       "                                           chemPhenVecHP  \\\n",
       "9643   [0.0, 0.0, 0.0, 0.0, 0.0, 0.0, 0.0, 0.0, 0.0, ...   \n",
       "14736  [0.0, 0.0, 0.0, 0.0, 0.0, 0.0, 0.0, 0.0, 0.0, ...   \n",
       "7342   [0.0, 0.0, 0.0, 0.0, 0.0, 0.0, 0.0, 0.0, 0.0, ...   \n",
       "\n",
       "                                           chemPhenVecMP  \\\n",
       "9643   [0.0, 0.0, 0.0, 0.0, 0.0, 0.0, 0.0, 0.0, 0.0, ...   \n",
       "14736  [0.0, 0.0, 0.0, 0.0, 0.0, 0.0, 0.0, 0.0, 0.0, ...   \n",
       "7342   [0.0, 0.0, 0.0, 0.0, 0.0, 0.0, 0.0, 0.0, 0.0, ...   \n",
       "\n",
       "                                                CHEBIvec  \n",
       "9643                                                None  \n",
       "14736  [0.01771633, 0.06411772, 0.03854137, -0.056743...  \n",
       "7342   [0.01631292, 0.04949443, 0.01545214, -0.064467...  "
      ]
     },
     "execution_count": 82,
     "metadata": {},
     "output_type": "execute_result"
    }
   ],
   "source": [
    "df1.sample(3)"
   ]
  },
  {
   "cell_type": "code",
   "execution_count": 83,
   "metadata": {},
   "outputs": [],
   "source": [
    "# Add empty vecs for rows that don't have Chebi vecs\n",
    "empty_vec = [0] * 200\n",
    "df1['CHEBIvec'] = df1['CHEBIvec'].map(lambda x: empty_vec if x is None else x)\n",
    "\n",
    "# Change the Chebi vec elements from string to floats\n",
    "df1['CHEBIvec'] = df1.CHEBIvec.map(lambda x: [float(i) for i in x])"
   ]
  },
  {
   "cell_type": "markdown",
   "metadata": {},
   "source": [
    "### Add DO Vecs"
   ]
  },
  {
   "cell_type": "code",
   "execution_count": 84,
   "metadata": {},
   "outputs": [],
   "source": [
    "# Import Gofunc vec file\n",
    "with open('do-vecs.lst', 'r') as file:\n",
    "    text = file.read()\n",
    "    \n",
    "# Strip and split vector data into list of lists [disease, vec]\n",
    "text = text.replace('\\n', '')\n",
    "text = text.split(']')\n",
    "text = [item.strip().split(' [') for item in text]\n",
    "\n",
    "# Turn it into a data frame\n",
    "df = pd.DataFrame(text)\n",
    "df.columns = ['ID', 'Vector']\n",
    "\n",
    "# Clean\n",
    "df = df.dropna()\n",
    "df['Vector'] = df.Vector.map(lambda x: x.rstrip().lstrip().replace('    ', ' ').replace('   ', ' ').replace('  ', ' ').replace(' ', ','))\n",
    "\n",
    "# Turn vector column into a list\n",
    "df['Vector'] = df.Vector.map(lambda x: x.split(','))\n",
    "\n",
    "# Make a map of it (DisID to DOvec)\n",
    "dis_to_DOvec = dict(zip(df.ID, df.Vector))"
   ]
  },
  {
   "cell_type": "code",
   "execution_count": 85,
   "metadata": {},
   "outputs": [],
   "source": [
    "df1['DOvec'] = df1.DiseaseID.map(lambda x: dis_to_DOvec.get(x))"
   ]
  },
  {
   "cell_type": "code",
   "execution_count": 86,
   "metadata": {},
   "outputs": [],
   "source": [
    "# print(df1[df1.DOvec])"
   ]
  },
  {
   "cell_type": "code",
   "execution_count": 87,
   "metadata": {},
   "outputs": [],
   "source": [
    "# Change the DO vec elements from string to floats\n",
    "df1['DOvec'] = df1.DOvec.map(lambda x: [float(i) for i in x])"
   ]
  },
  {
   "cell_type": "markdown",
   "metadata": {},
   "source": [
    "### ADD HINO vecs\n",
    "This file is getting a bit long "
   ]
  },
  {
   "cell_type": "code",
   "execution_count": 88,
   "metadata": {},
   "outputs": [],
   "source": [
    "# Import HINO vec file\n",
    "with open('hinoVecs.lst', 'r') as file:\n",
    "    text = file.read()\n",
    "    \n",
    "# Strip and split vector data into list of lists [chem, vec]\n",
    "text = text.replace('\\n', '')\n",
    "text = text.split(']')\n",
    "text = [item.strip().split(' [') for item in text]\n",
    "\n",
    "# Turn it into a data frame\n",
    "df = pd.DataFrame(text)\n",
    "df.columns = ['ID', 'Vector']\n",
    "\n",
    "# Clean\n",
    "df = df.dropna()\n",
    "df['Vector'] = df.Vector.map(lambda x: x.rstrip().lstrip().replace('    ', ' ').replace('   ', ' ').replace('  ', ' ').replace(' ', ','))\n",
    "\n",
    "# Turn vector column into a list\n",
    "df['Vector'] = df.Vector.map(lambda x: x.split(','))\n",
    "\n",
    "# Make a map of it (DisID to DOvec)\n",
    "entity_to_HINOvec = dict(zip(df.ID, df.Vector))"
   ]
  },
  {
   "cell_type": "code",
   "execution_count": 89,
   "metadata": {},
   "outputs": [],
   "source": [
    "df1['dis_HINOvec'] = df1.DiseaseID.map(lambda x: entity_to_HINOvec.get(x))\n",
    "df1['chem_HINOvec'] = df1.ChemicalID.map(lambda x: entity_to_HINOvec.get(x))"
   ]
  },
  {
   "cell_type": "code",
   "execution_count": 90,
   "metadata": {},
   "outputs": [
    {
     "data": {
      "text/html": [
       "<div>\n",
       "<style scoped>\n",
       "    .dataframe tbody tr th:only-of-type {\n",
       "        vertical-align: middle;\n",
       "    }\n",
       "\n",
       "    .dataframe tbody tr th {\n",
       "        vertical-align: top;\n",
       "    }\n",
       "\n",
       "    .dataframe thead th {\n",
       "        text-align: right;\n",
       "    }\n",
       "</style>\n",
       "<table border=\"1\" class=\"dataframe\">\n",
       "  <thead>\n",
       "    <tr style=\"text-align: right;\">\n",
       "      <th></th>\n",
       "      <th>ChemicalID</th>\n",
       "      <th>DiseaseID</th>\n",
       "      <th>DVec</th>\n",
       "      <th>CVec</th>\n",
       "      <th>Correlation</th>\n",
       "      <th>DOID</th>\n",
       "      <th>disPhenVecMP</th>\n",
       "      <th>disPhenVecHP</th>\n",
       "      <th>chemPhenVecHP</th>\n",
       "      <th>chemPhenVecMP</th>\n",
       "      <th>CHEBIvec</th>\n",
       "      <th>DOvec</th>\n",
       "      <th>dis_HINOvec</th>\n",
       "      <th>chem_HINOvec</th>\n",
       "    </tr>\n",
       "  </thead>\n",
       "  <tbody>\n",
       "    <tr>\n",
       "      <th>97</th>\n",
       "      <td>D020106</td>\n",
       "      <td>MESH:D056486</td>\n",
       "      <td>[-0.0573407635, 0.0587317832, -0.238079086, -0...</td>\n",
       "      <td>[0.0128343292, 0.124974281, 0.0104902657, -0.1...</td>\n",
       "      <td>1</td>\n",
       "      <td>DOID_2044</td>\n",
       "      <td>[0.03577727, 0.14357965, 0.07754436, -0.120751...</td>\n",
       "      <td>[0.0365341567, 0.127054989, 0.0648834854, -0.1...</td>\n",
       "      <td>[0.0, 0.0, 0.0, 0.0, 0.0, 0.0, 0.0, 0.0, 0.0, ...</td>\n",
       "      <td>[0.0, 0.0, 0.0, 0.0, 0.0, 0.0, 0.0, 0.0, 0.0, ...</td>\n",
       "      <td>[0.02180431, 0.06118587, 0.03683005, -0.068677...</td>\n",
       "      <td>[0.018791426, 0.0550314896, 0.0336739607, -0.0...</td>\n",
       "      <td>[2.86019761e-02, 9.30668786e-02, 5.02847470e-0...</td>\n",
       "      <td>None</td>\n",
       "    </tr>\n",
       "    <tr>\n",
       "      <th>15064</th>\n",
       "      <td>C099813</td>\n",
       "      <td>MESH:C562729</td>\n",
       "      <td>[0.01318017, 0.1251859, -0.01394415, -0.118188...</td>\n",
       "      <td>[0.02968111, 0.10238931, 0.04476682, -0.105589...</td>\n",
       "      <td>0</td>\n",
       "      <td>nan</td>\n",
       "      <td>[0.0, 0.0, 0.0, 0.0, 0.0, 0.0, 0.0, 0.0, 0.0, ...</td>\n",
       "      <td>[0.0, 0.0, 0.0, 0.0, 0.0, 0.0, 0.0, 0.0, 0.0, ...</td>\n",
       "      <td>[0.0, 0.0, 0.0, 0.0, 0.0, 0.0, 0.0, 0.0, 0.0, ...</td>\n",
       "      <td>[0.0, 0.0, 0.0, 0.0, 0.0, 0.0, 0.0, 0.0, 0.0, ...</td>\n",
       "      <td>[0.0, 0.0, 0.0, 0.0, 0.0, 0.0, 0.0, 0.0, 0.0, ...</td>\n",
       "      <td>[0.01368068, 0.05909523, 0.03674051, -0.064458...</td>\n",
       "      <td>[0.01388473, 0.05762913, 0.03025182, -0.068478...</td>\n",
       "      <td>None</td>\n",
       "    </tr>\n",
       "    <tr>\n",
       "      <th>17177</th>\n",
       "      <td>D005372</td>\n",
       "      <td>MESH:D001943</td>\n",
       "      <td>[-0.09880375, -0.07782761, -0.21784736, -0.094...</td>\n",
       "      <td>[-0.00116740179, 0.0805704072, -0.0103234174, ...</td>\n",
       "      <td>0</td>\n",
       "      <td>DOID_3459</td>\n",
       "      <td>[0.01410411, 0.14874491, 0.08110969, -0.131416...</td>\n",
       "      <td>[0.0351502, 0.12961534, 0.0613326, -0.11818561...</td>\n",
       "      <td>[0.0, 0.0, 0.0, 0.0, 0.0, 0.0, 0.0, 0.0, 0.0, ...</td>\n",
       "      <td>[0.0, 0.0, 0.0, 0.0, 0.0, 0.0, 0.0, 0.0, 0.0, ...</td>\n",
       "      <td>[0.0122307669, 0.0684281364, 0.0275013242, -0....</td>\n",
       "      <td>[0.0268149339, 0.0863542259, 0.0386081785, -0....</td>\n",
       "      <td>[2.97578666e-02, 1.17261335e-01, 4.91196848e-0...</td>\n",
       "      <td>[1.66756362e-02, 4.36262824e-02, 2.67493427e-0...</td>\n",
       "    </tr>\n",
       "  </tbody>\n",
       "</table>\n",
       "</div>"
      ],
      "text/plain": [
       "      ChemicalID     DiseaseID  \\\n",
       "97       D020106  MESH:D056486   \n",
       "15064    C099813  MESH:C562729   \n",
       "17177    D005372  MESH:D001943   \n",
       "\n",
       "                                                    DVec  \\\n",
       "97     [-0.0573407635, 0.0587317832, -0.238079086, -0...   \n",
       "15064  [0.01318017, 0.1251859, -0.01394415, -0.118188...   \n",
       "17177  [-0.09880375, -0.07782761, -0.21784736, -0.094...   \n",
       "\n",
       "                                                    CVec  Correlation  \\\n",
       "97     [0.0128343292, 0.124974281, 0.0104902657, -0.1...            1   \n",
       "15064  [0.02968111, 0.10238931, 0.04476682, -0.105589...            0   \n",
       "17177  [-0.00116740179, 0.0805704072, -0.0103234174, ...            0   \n",
       "\n",
       "            DOID                                       disPhenVecMP  \\\n",
       "97     DOID_2044  [0.03577727, 0.14357965, 0.07754436, -0.120751...   \n",
       "15064        nan  [0.0, 0.0, 0.0, 0.0, 0.0, 0.0, 0.0, 0.0, 0.0, ...   \n",
       "17177  DOID_3459  [0.01410411, 0.14874491, 0.08110969, -0.131416...   \n",
       "\n",
       "                                            disPhenVecHP  \\\n",
       "97     [0.0365341567, 0.127054989, 0.0648834854, -0.1...   \n",
       "15064  [0.0, 0.0, 0.0, 0.0, 0.0, 0.0, 0.0, 0.0, 0.0, ...   \n",
       "17177  [0.0351502, 0.12961534, 0.0613326, -0.11818561...   \n",
       "\n",
       "                                           chemPhenVecHP  \\\n",
       "97     [0.0, 0.0, 0.0, 0.0, 0.0, 0.0, 0.0, 0.0, 0.0, ...   \n",
       "15064  [0.0, 0.0, 0.0, 0.0, 0.0, 0.0, 0.0, 0.0, 0.0, ...   \n",
       "17177  [0.0, 0.0, 0.0, 0.0, 0.0, 0.0, 0.0, 0.0, 0.0, ...   \n",
       "\n",
       "                                           chemPhenVecMP  \\\n",
       "97     [0.0, 0.0, 0.0, 0.0, 0.0, 0.0, 0.0, 0.0, 0.0, ...   \n",
       "15064  [0.0, 0.0, 0.0, 0.0, 0.0, 0.0, 0.0, 0.0, 0.0, ...   \n",
       "17177  [0.0, 0.0, 0.0, 0.0, 0.0, 0.0, 0.0, 0.0, 0.0, ...   \n",
       "\n",
       "                                                CHEBIvec  \\\n",
       "97     [0.02180431, 0.06118587, 0.03683005, -0.068677...   \n",
       "15064  [0.0, 0.0, 0.0, 0.0, 0.0, 0.0, 0.0, 0.0, 0.0, ...   \n",
       "17177  [0.0122307669, 0.0684281364, 0.0275013242, -0....   \n",
       "\n",
       "                                                   DOvec  \\\n",
       "97     [0.018791426, 0.0550314896, 0.0336739607, -0.0...   \n",
       "15064  [0.01368068, 0.05909523, 0.03674051, -0.064458...   \n",
       "17177  [0.0268149339, 0.0863542259, 0.0386081785, -0....   \n",
       "\n",
       "                                             dis_HINOvec  \\\n",
       "97     [2.86019761e-02, 9.30668786e-02, 5.02847470e-0...   \n",
       "15064  [0.01388473, 0.05762913, 0.03025182, -0.068478...   \n",
       "17177  [2.97578666e-02, 1.17261335e-01, 4.91196848e-0...   \n",
       "\n",
       "                                            chem_HINOvec  \n",
       "97                                                  None  \n",
       "15064                                               None  \n",
       "17177  [1.66756362e-02, 4.36262824e-02, 2.67493427e-0...  "
      ]
     },
     "execution_count": 90,
     "metadata": {},
     "output_type": "execute_result"
    }
   ],
   "source": [
    "df1.sample(3)"
   ]
  },
  {
   "cell_type": "code",
   "execution_count": 91,
   "metadata": {},
   "outputs": [
    {
     "name": "stdout",
     "output_type": "stream",
     "text": [
      "HINO dis vecs:  11456\n",
      "HINO chem vecs:  11516\n",
      "At least one hino vec:  15476\n"
     ]
    }
   ],
   "source": [
    "print('HINO dis vecs: ', df1[df1.dis_HINOvec.map(lambda x: x is not None)].shape[0])\n",
    "print('HINO chem vecs: ', df1[df1.chem_HINOvec.map(lambda x: x is not None)].shape[0])\n",
    "at_least_one = df1.chem_HINOvec.map(lambda x: x is not None) | df1.dis_HINOvec.map(lambda x: x is not None)\n",
    "print('At least one hino vec: ', df1[at_least_one].shape[0])"
   ]
  },
  {
   "cell_type": "code",
   "execution_count": 92,
   "metadata": {},
   "outputs": [],
   "source": [
    "# Add empty vecs in place of None\n",
    "empty_vec = [0] * 200\n",
    "\n",
    "for col in ['dis_HINOvec', 'chem_HINOvec']:\n",
    "    df1[col] = df1[col].map(lambda x: empty_vec if x is None else x)"
   ]
  },
  {
   "cell_type": "code",
   "execution_count": 93,
   "metadata": {},
   "outputs": [],
   "source": [
    "# Change the HINO vec elements from string to floats\n",
    "df1['dis_HINOvec'] = df1.dis_HINOvec.map(lambda x: [float(i) for i in x])\n",
    "df1['chem_HINOvec'] = df1.chem_HINOvec.map(lambda x: [float(i) for i in x])"
   ]
  },
  {
   "cell_type": "code",
   "execution_count": 94,
   "metadata": {},
   "outputs": [
    {
     "data": {
      "text/html": [
       "<div>\n",
       "<style scoped>\n",
       "    .dataframe tbody tr th:only-of-type {\n",
       "        vertical-align: middle;\n",
       "    }\n",
       "\n",
       "    .dataframe tbody tr th {\n",
       "        vertical-align: top;\n",
       "    }\n",
       "\n",
       "    .dataframe thead th {\n",
       "        text-align: right;\n",
       "    }\n",
       "</style>\n",
       "<table border=\"1\" class=\"dataframe\">\n",
       "  <thead>\n",
       "    <tr style=\"text-align: right;\">\n",
       "      <th></th>\n",
       "      <th>ChemicalID</th>\n",
       "      <th>DiseaseID</th>\n",
       "      <th>DVec</th>\n",
       "      <th>CVec</th>\n",
       "      <th>Correlation</th>\n",
       "      <th>DOID</th>\n",
       "      <th>disPhenVecMP</th>\n",
       "      <th>disPhenVecHP</th>\n",
       "      <th>chemPhenVecHP</th>\n",
       "      <th>chemPhenVecMP</th>\n",
       "      <th>CHEBIvec</th>\n",
       "      <th>DOvec</th>\n",
       "      <th>dis_HINOvec</th>\n",
       "      <th>chem_HINOvec</th>\n",
       "    </tr>\n",
       "  </thead>\n",
       "  <tbody>\n",
       "    <tr>\n",
       "      <th>0</th>\n",
       "      <td>C028474</td>\n",
       "      <td>MESH:D006528</td>\n",
       "      <td>[-0.0826218948, 0.0322816819, -0.121060327, -0...</td>\n",
       "      <td>[0.0135123692, 0.105312727, -0.0104590971, -0....</td>\n",
       "      <td>1</td>\n",
       "      <td>DOID_684</td>\n",
       "      <td>[0.0372420028, 0.145345554, 0.0668880194, -0.1...</td>\n",
       "      <td>[0.034970928, 0.147648811, 0.0651874393, -0.11...</td>\n",
       "      <td>[0.0, 0.0, 0.0, 0.0, 0.0, 0.0, 0.0, 0.0, 0.0, ...</td>\n",
       "      <td>[0.0, 0.0, 0.0, 0.0, 0.0, 0.0, 0.0, 0.0, 0.0, ...</td>\n",
       "      <td>[0.0, 0.0, 0.0, 0.0, 0.0, 0.0, 0.0, 0.0, 0.0, ...</td>\n",
       "      <td>[-0.00669117, 0.06971597, 0.03065702, -0.06519...</td>\n",
       "      <td>[0.017662406, 0.0882318914, 0.0445542857, -0.0...</td>\n",
       "      <td>[0.0, 0.0, 0.0, 0.0, 0.0, 0.0, 0.0, 0.0, 0.0, ...</td>\n",
       "    </tr>\n",
       "    <tr>\n",
       "      <th>1</th>\n",
       "      <td>C028474</td>\n",
       "      <td>MESH:D005355</td>\n",
       "      <td>[0.01802431, 0.14452943, -0.00467963, -0.15955...</td>\n",
       "      <td>[0.0135123692, 0.105312727, -0.0104590971, -0....</td>\n",
       "      <td>1</td>\n",
       "      <td>nan</td>\n",
       "      <td>[0.0, 0.0, 0.0, 0.0, 0.0, 0.0, 0.0, 0.0, 0.0, ...</td>\n",
       "      <td>[0.0, 0.0, 0.0, 0.0, 0.0, 0.0, 0.0, 0.0, 0.0, ...</td>\n",
       "      <td>[0.0, 0.0, 0.0, 0.0, 0.0, 0.0, 0.0, 0.0, 0.0, ...</td>\n",
       "      <td>[0.0, 0.0, 0.0, 0.0, 0.0, 0.0, 0.0, 0.0, 0.0, ...</td>\n",
       "      <td>[0.0, 0.0, 0.0, 0.0, 0.0, 0.0, 0.0, 0.0, 0.0, ...</td>\n",
       "      <td>[0.011856921, 0.0321784094, 0.0178192798, -0.0...</td>\n",
       "      <td>[0.00930883, 0.04089586, 0.01740959, -0.036715...</td>\n",
       "      <td>[0.0, 0.0, 0.0, 0.0, 0.0, 0.0, 0.0, 0.0, 0.0, ...</td>\n",
       "    </tr>\n",
       "    <tr>\n",
       "      <th>2</th>\n",
       "      <td>C028474</td>\n",
       "      <td>MESH:D006529</td>\n",
       "      <td>[-0.02036812, 0.09344074, -0.08194942, -0.1507...</td>\n",
       "      <td>[0.0135123692, 0.105312727, -0.0104590971, -0....</td>\n",
       "      <td>1</td>\n",
       "      <td>nan</td>\n",
       "      <td>[0.0, 0.0, 0.0, 0.0, 0.0, 0.0, 0.0, 0.0, 0.0, ...</td>\n",
       "      <td>[0.0, 0.0, 0.0, 0.0, 0.0, 0.0, 0.0, 0.0, 0.0, ...</td>\n",
       "      <td>[0.0, 0.0, 0.0, 0.0, 0.0, 0.0, 0.0, 0.0, 0.0, ...</td>\n",
       "      <td>[0.0, 0.0, 0.0, 0.0, 0.0, 0.0, 0.0, 0.0, 0.0, ...</td>\n",
       "      <td>[0.0, 0.0, 0.0, 0.0, 0.0, 0.0, 0.0, 0.0, 0.0, ...</td>\n",
       "      <td>[0.00442429, 0.02501368, 0.01620419, -0.024251...</td>\n",
       "      <td>[0.0262603536, 0.0958174169, 0.0440592952, -0....</td>\n",
       "      <td>[0.0, 0.0, 0.0, 0.0, 0.0, 0.0, 0.0, 0.0, 0.0, ...</td>\n",
       "    </tr>\n",
       "    <tr>\n",
       "      <th>3</th>\n",
       "      <td>C028474</td>\n",
       "      <td>MESH:D006965</td>\n",
       "      <td>[0.01746579, 0.14595346, 0.05720224, -0.153178...</td>\n",
       "      <td>[0.0135123692, 0.105312727, -0.0104590971, -0....</td>\n",
       "      <td>1</td>\n",
       "      <td>nan</td>\n",
       "      <td>[0.0, 0.0, 0.0, 0.0, 0.0, 0.0, 0.0, 0.0, 0.0, ...</td>\n",
       "      <td>[0.0, 0.0, 0.0, 0.0, 0.0, 0.0, 0.0, 0.0, 0.0, ...</td>\n",
       "      <td>[0.0, 0.0, 0.0, 0.0, 0.0, 0.0, 0.0, 0.0, 0.0, ...</td>\n",
       "      <td>[0.0, 0.0, 0.0, 0.0, 0.0, 0.0, 0.0, 0.0, 0.0, ...</td>\n",
       "      <td>[0.0, 0.0, 0.0, 0.0, 0.0, 0.0, 0.0, 0.0, 0.0, ...</td>\n",
       "      <td>[0.00854880922, 0.0434569977, 0.0188593101, -0...</td>\n",
       "      <td>[0.01259711, 0.04299367, 0.02412725, -0.042730...</td>\n",
       "      <td>[0.0, 0.0, 0.0, 0.0, 0.0, 0.0, 0.0, 0.0, 0.0, ...</td>\n",
       "    </tr>\n",
       "    <tr>\n",
       "      <th>4</th>\n",
       "      <td>C028474</td>\n",
       "      <td>MESH:D008114</td>\n",
       "      <td>[-0.05440867, 0.00954124, -0.18101129, -0.0743...</td>\n",
       "      <td>[0.0135123692, 0.105312727, -0.0104590971, -0....</td>\n",
       "      <td>1</td>\n",
       "      <td>nan</td>\n",
       "      <td>[0.0, 0.0, 0.0, 0.0, 0.0, 0.0, 0.0, 0.0, 0.0, ...</td>\n",
       "      <td>[0.0, 0.0, 0.0, 0.0, 0.0, 0.0, 0.0, 0.0, 0.0, ...</td>\n",
       "      <td>[0.0, 0.0, 0.0, 0.0, 0.0, 0.0, 0.0, 0.0, 0.0, ...</td>\n",
       "      <td>[0.0, 0.0, 0.0, 0.0, 0.0, 0.0, 0.0, 0.0, 0.0, ...</td>\n",
       "      <td>[0.0, 0.0, 0.0, 0.0, 0.0, 0.0, 0.0, 0.0, 0.0, ...</td>\n",
       "      <td>[0.00712068, 0.03850456, 0.01660043, -0.036797...</td>\n",
       "      <td>[0.0377231091, 0.093969211, 0.0376204327, -0.0...</td>\n",
       "      <td>[0.0, 0.0, 0.0, 0.0, 0.0, 0.0, 0.0, 0.0, 0.0, ...</td>\n",
       "    </tr>\n",
       "  </tbody>\n",
       "</table>\n",
       "</div>"
      ],
      "text/plain": [
       "  ChemicalID     DiseaseID                                               DVec  \\\n",
       "0    C028474  MESH:D006528  [-0.0826218948, 0.0322816819, -0.121060327, -0...   \n",
       "1    C028474  MESH:D005355  [0.01802431, 0.14452943, -0.00467963, -0.15955...   \n",
       "2    C028474  MESH:D006529  [-0.02036812, 0.09344074, -0.08194942, -0.1507...   \n",
       "3    C028474  MESH:D006965  [0.01746579, 0.14595346, 0.05720224, -0.153178...   \n",
       "4    C028474  MESH:D008114  [-0.05440867, 0.00954124, -0.18101129, -0.0743...   \n",
       "\n",
       "                                                CVec  Correlation      DOID  \\\n",
       "0  [0.0135123692, 0.105312727, -0.0104590971, -0....            1  DOID_684   \n",
       "1  [0.0135123692, 0.105312727, -0.0104590971, -0....            1       nan   \n",
       "2  [0.0135123692, 0.105312727, -0.0104590971, -0....            1       nan   \n",
       "3  [0.0135123692, 0.105312727, -0.0104590971, -0....            1       nan   \n",
       "4  [0.0135123692, 0.105312727, -0.0104590971, -0....            1       nan   \n",
       "\n",
       "                                        disPhenVecMP  \\\n",
       "0  [0.0372420028, 0.145345554, 0.0668880194, -0.1...   \n",
       "1  [0.0, 0.0, 0.0, 0.0, 0.0, 0.0, 0.0, 0.0, 0.0, ...   \n",
       "2  [0.0, 0.0, 0.0, 0.0, 0.0, 0.0, 0.0, 0.0, 0.0, ...   \n",
       "3  [0.0, 0.0, 0.0, 0.0, 0.0, 0.0, 0.0, 0.0, 0.0, ...   \n",
       "4  [0.0, 0.0, 0.0, 0.0, 0.0, 0.0, 0.0, 0.0, 0.0, ...   \n",
       "\n",
       "                                        disPhenVecHP  \\\n",
       "0  [0.034970928, 0.147648811, 0.0651874393, -0.11...   \n",
       "1  [0.0, 0.0, 0.0, 0.0, 0.0, 0.0, 0.0, 0.0, 0.0, ...   \n",
       "2  [0.0, 0.0, 0.0, 0.0, 0.0, 0.0, 0.0, 0.0, 0.0, ...   \n",
       "3  [0.0, 0.0, 0.0, 0.0, 0.0, 0.0, 0.0, 0.0, 0.0, ...   \n",
       "4  [0.0, 0.0, 0.0, 0.0, 0.0, 0.0, 0.0, 0.0, 0.0, ...   \n",
       "\n",
       "                                       chemPhenVecHP  \\\n",
       "0  [0.0, 0.0, 0.0, 0.0, 0.0, 0.0, 0.0, 0.0, 0.0, ...   \n",
       "1  [0.0, 0.0, 0.0, 0.0, 0.0, 0.0, 0.0, 0.0, 0.0, ...   \n",
       "2  [0.0, 0.0, 0.0, 0.0, 0.0, 0.0, 0.0, 0.0, 0.0, ...   \n",
       "3  [0.0, 0.0, 0.0, 0.0, 0.0, 0.0, 0.0, 0.0, 0.0, ...   \n",
       "4  [0.0, 0.0, 0.0, 0.0, 0.0, 0.0, 0.0, 0.0, 0.0, ...   \n",
       "\n",
       "                                       chemPhenVecMP  \\\n",
       "0  [0.0, 0.0, 0.0, 0.0, 0.0, 0.0, 0.0, 0.0, 0.0, ...   \n",
       "1  [0.0, 0.0, 0.0, 0.0, 0.0, 0.0, 0.0, 0.0, 0.0, ...   \n",
       "2  [0.0, 0.0, 0.0, 0.0, 0.0, 0.0, 0.0, 0.0, 0.0, ...   \n",
       "3  [0.0, 0.0, 0.0, 0.0, 0.0, 0.0, 0.0, 0.0, 0.0, ...   \n",
       "4  [0.0, 0.0, 0.0, 0.0, 0.0, 0.0, 0.0, 0.0, 0.0, ...   \n",
       "\n",
       "                                            CHEBIvec  \\\n",
       "0  [0.0, 0.0, 0.0, 0.0, 0.0, 0.0, 0.0, 0.0, 0.0, ...   \n",
       "1  [0.0, 0.0, 0.0, 0.0, 0.0, 0.0, 0.0, 0.0, 0.0, ...   \n",
       "2  [0.0, 0.0, 0.0, 0.0, 0.0, 0.0, 0.0, 0.0, 0.0, ...   \n",
       "3  [0.0, 0.0, 0.0, 0.0, 0.0, 0.0, 0.0, 0.0, 0.0, ...   \n",
       "4  [0.0, 0.0, 0.0, 0.0, 0.0, 0.0, 0.0, 0.0, 0.0, ...   \n",
       "\n",
       "                                               DOvec  \\\n",
       "0  [-0.00669117, 0.06971597, 0.03065702, -0.06519...   \n",
       "1  [0.011856921, 0.0321784094, 0.0178192798, -0.0...   \n",
       "2  [0.00442429, 0.02501368, 0.01620419, -0.024251...   \n",
       "3  [0.00854880922, 0.0434569977, 0.0188593101, -0...   \n",
       "4  [0.00712068, 0.03850456, 0.01660043, -0.036797...   \n",
       "\n",
       "                                         dis_HINOvec  \\\n",
       "0  [0.017662406, 0.0882318914, 0.0445542857, -0.0...   \n",
       "1  [0.00930883, 0.04089586, 0.01740959, -0.036715...   \n",
       "2  [0.0262603536, 0.0958174169, 0.0440592952, -0....   \n",
       "3  [0.01259711, 0.04299367, 0.02412725, -0.042730...   \n",
       "4  [0.0377231091, 0.093969211, 0.0376204327, -0.0...   \n",
       "\n",
       "                                        chem_HINOvec  \n",
       "0  [0.0, 0.0, 0.0, 0.0, 0.0, 0.0, 0.0, 0.0, 0.0, ...  \n",
       "1  [0.0, 0.0, 0.0, 0.0, 0.0, 0.0, 0.0, 0.0, 0.0, ...  \n",
       "2  [0.0, 0.0, 0.0, 0.0, 0.0, 0.0, 0.0, 0.0, 0.0, ...  \n",
       "3  [0.0, 0.0, 0.0, 0.0, 0.0, 0.0, 0.0, 0.0, 0.0, ...  \n",
       "4  [0.0, 0.0, 0.0, 0.0, 0.0, 0.0, 0.0, 0.0, 0.0, ...  "
      ]
     },
     "execution_count": 94,
     "metadata": {},
     "output_type": "execute_result"
    }
   ],
   "source": [
    "df1.head()"
   ]
  },
  {
   "cell_type": "code",
   "execution_count": null,
   "metadata": {},
   "outputs": [],
   "source": []
  },
  {
   "cell_type": "markdown",
   "metadata": {},
   "source": [
    "### Add Protein Ontology vecs"
   ]
  },
  {
   "cell_type": "code",
   "execution_count": 95,
   "metadata": {},
   "outputs": [],
   "source": [
    "# Import PRO vec file\n",
    "with open('PROVecs.lst', 'r') as file:\n",
    "    text = file.read()\n",
    "    \n",
    "# Strip and split vector data into list of lists [chem, vec]\n",
    "text = text.replace('\\n', '')\n",
    "text = text.split(']')\n",
    "text = [item.strip().split(' [') for item in text]\n",
    "\n",
    "# Turn it into a data frame\n",
    "df = pd.DataFrame(text)\n",
    "df.columns = ['ID', 'Vector']\n",
    "\n",
    "# Clean\n",
    "df = df.dropna()\n",
    "df['Vector'] = df.Vector.map(lambda x: x.rstrip().lstrip().replace('    ', ' ').replace('   ', ' ').replace('  ', ' ').replace(' ', ','))\n",
    "\n",
    "# Turn vector column into a list\n",
    "df['Vector'] = df.Vector.map(lambda x: x.split(','))\n",
    "\n",
    "# Make a map of it (DisID to DOvec)\n",
    "entity_to_PROvec = dict(zip(df.ID, df.Vector))"
   ]
  },
  {
   "cell_type": "code",
   "execution_count": 96,
   "metadata": {},
   "outputs": [],
   "source": [
    "df1['dis_PROvec'] = df1.DiseaseID.map(lambda x: entity_to_PROvec.get(x))\n",
    "df1['chem_PROvec'] = df1.ChemicalID.map(lambda x: entity_to_PROvec.get(x))"
   ]
  },
  {
   "cell_type": "code",
   "execution_count": null,
   "metadata": {},
   "outputs": [],
   "source": []
  },
  {
   "cell_type": "code",
   "execution_count": 97,
   "metadata": {},
   "outputs": [],
   "source": [
    "# Add empty vecs in place of None\n",
    "empty_vec = [0] * 200\n",
    "\n",
    "for col in ['dis_PROvec', 'chem_PROvec']:\n",
    "    df1[col] = df1[col].map(lambda x: empty_vec if x is None else x)"
   ]
  },
  {
   "cell_type": "code",
   "execution_count": 98,
   "metadata": {},
   "outputs": [],
   "source": [
    "# Change the vec elements from string to floats\n",
    "df1['dis_PROvec'] = df1.dis_PROvec.map(lambda x: [float(i) for i in x])\n",
    "df1['chem_PROvec'] = df1.chem_PROvec.map(lambda x: [float(i) for i in x])"
   ]
  },
  {
   "cell_type": "code",
   "execution_count": 99,
   "metadata": {},
   "outputs": [
    {
     "name": "stdout",
     "output_type": "stream",
     "text": [
      "Total Rows:  17739\n",
      "Num corr rows:  8920\n",
      "Num uncorr rows:  8819\n",
      "\n",
      "Have chem pro vec:  17739\n",
      "Have dis pro vec:  17739\n",
      "Corr rows with chem pro vec:  8920\n",
      "UnCorr rows with chem pro vec:  8819\n",
      "\n",
      "Corr rows with HP vec:  4908\n",
      "UnCorr rows with HP vec:  1685\n",
      "Corr rows with MP vec:  4908\n",
      "UnCorr rows with MP vec:  1685\n",
      "\n",
      "Corr rows with Hino chm vec:  6055\n",
      "UnCorr rows with Hino chm vec:  5461\n",
      "Corr rows with Hino dis vec:  7310\n",
      "UnCorr rows with Hino dis vec:  4146\n",
      "\n",
      "Corr rows with CHEBI vec:  6150\n",
      "UnCorr rows with CHEBI vec:  4675\n",
      "\n"
     ]
    }
   ],
   "source": [
    "# Print stuff\n",
    "# \n",
    "print('Total Rows: ', df1.shape[0])\n",
    "corr_rows = df1.Correlation == 1\n",
    "uncorr = df1.Correlation == 0\n",
    "print('Num corr rows: ', df1[corr_rows].shape[0])\n",
    "print('Num uncorr rows: ', df1[uncorr].shape[0])\n",
    "print()\n",
    "\n",
    "# PRO vecs\n",
    "have_chemv = df1.chem_PROvec.map(lambda x: x != empty_vec)\n",
    "print('Have chem pro vec: ', df1[have_chemv].shape[0])\n",
    "print('Have dis pro vec: ', df1[df1.dis_PROvec.map(lambda x: x != empty_vec)].shape[0])\n",
    "corr_w_pro = have_chemv & corr_rows\n",
    "uncorr_w_pro = have_chemv & uncorr\n",
    "print('Corr rows with chem pro vec: ', df1[corr_w_pro].shape[0])\n",
    "print('UnCorr rows with chem pro vec: ', df1[uncorr_w_pro].shape[0])\n",
    "print()\n",
    "\n",
    "# Phen vecs\n",
    "phendisHP = df1.disPhenVecHP.map(lambda x: x != empty_vec)\n",
    "phendisMP = df1.disPhenVecMP.map(lambda x: x != empty_vec)\n",
    "corr_w_HP = phendisHP & corr_rows\n",
    "uncorr_w_HP = phendisHP & uncorr\n",
    "corr_w_MP = phendisMP & corr_rows\n",
    "uncorr_w_MP = phendisMP & uncorr\n",
    "print('Corr rows with HP vec: ', df1[corr_w_HP].shape[0])\n",
    "print('UnCorr rows with HP vec: ', df1[uncorr_w_HP].shape[0])\n",
    "print('Corr rows with MP vec: ', df1[corr_w_MP].shape[0])\n",
    "print('UnCorr rows with MP vec: ', df1[uncorr_w_MP].shape[0])\n",
    "print()\n",
    "\n",
    "# HINO vecs\n",
    "hin_c = df1.chem_HINOvec.map(lambda x: x != empty_vec)\n",
    "hin_d = df1.dis_HINOvec.map(lambda x: x != empty_vec)\n",
    "corr_w_hin_c = corr_rows & hin_c\n",
    "uncorr_w_hin_c = uncorr & hin_c\n",
    "corr_w_hin_d = corr_rows & hin_d\n",
    "uncorr_w_hin_d = uncorr & hin_d\n",
    "print('Corr rows with Hino chm vec: ', df1[corr_w_hin_c].shape[0])\n",
    "print('UnCorr rows with Hino chm vec: ', df1[uncorr_w_hin_c].shape[0])\n",
    "print('Corr rows with Hino dis vec: ', df1[corr_w_hin_d].shape[0])\n",
    "print('UnCorr rows with Hino dis vec: ', df1[uncorr_w_hin_d].shape[0])\n",
    "print()\n",
    "\n",
    "# CHEBI\n",
    "cheb = df1.CHEBIvec.map(lambda x: x != empty_vec)\n",
    "corr_w_cheb = corr_rows & cheb\n",
    "uncorr_w_cheb = uncorr & cheb\n",
    "print('Corr rows with CHEBI vec: ', df1[corr_w_cheb].shape[0])\n",
    "print('UnCorr rows with CHEBI vec: ', df1[uncorr_w_cheb].shape[0])\n",
    "print()"
   ]
  },
  {
   "cell_type": "markdown",
   "metadata": {},
   "source": [
    "#### Optionally chop out rows so that number with each type of vec is balanced"
   ]
  },
  {
   "cell_type": "code",
   "execution_count": 965,
   "metadata": {},
   "outputs": [],
   "source": [
    "# Hdis = 3000\n",
    "# HP = 3000"
   ]
  },
  {
   "cell_type": "code",
   "execution_count": 966,
   "metadata": {},
   "outputs": [],
   "source": [
    "# # Create separate dfs of dis-vecs and chem-vecs ( in order to generate additional rows for df1)\n",
    "# dis = df.ID.map(lambda x: ('MESH' in x) | ('OMIM' in x))\n",
    "# chems = df.ID.map(lambda x: ('MESH' not in x) & ('OMIM' not in x))\n",
    "\n",
    "# df_chems = df[chems]\n",
    "# df_dis = df[dis]\n",
    "# df_chems = df_chems.reset_index(drop=True)\n",
    "# df_dis = df_dis.reset_index(drop=True)"
   ]
  },
  {
   "cell_type": "code",
   "execution_count": 967,
   "metadata": {},
   "outputs": [
    {
     "name": "stdout",
     "output_type": "stream",
     "text": [
      "shape:  35676\n",
      "(33870, 16)\n",
      "(11684, 16)\n"
     ]
    }
   ],
   "source": [
    "# # Add unrelated pairs to df1\n",
    "# no_rows = (df1.shape[0]-1) * 4 # This is a parameter to be tuned --> how many uncorrelated pairs do we want\n",
    "# print('shape: ', no_rows)\n",
    "\n",
    "# # Make list to check chem-dis pos assocs against\n",
    "# chem_dis_pos_assocs = list(chem_dis['ChemicalID'] + chem_dis['DiseaseID'])\n",
    "\n",
    "# # Randomly select chems and diseases (as many as there are related pairs)\n",
    "# no_chems = len(df_chems) -1\n",
    "# no_dis = len(df_dis) -1\n",
    "# rand_chems = np.random.choice(no_chems, no_rows, replace=True)\n",
    "# rand_dis = np.random.choice(no_dis, no_rows, replace=True)\n",
    "\n",
    "# # Add the new pairs as rows\n",
    "# for x in range(0, no_rows):\n",
    "#     int1 = rand_chems[x]\n",
    "#     int2 = rand_dis[x]\n",
    "#     chem, chemvec, cheb, chin, cpro = df1.loc[int1, 'ChemicalID'], df1.loc[int1, 'CVec'], df1.loc[int1, 'CHEBIvec'], df1.loc[int1, 'chem_HINOvec'], df1.loc[int1, 'chem_PROvec']\n",
    "#     dis, disvec, mp, hp, do, dhin, dispro = df1.loc[int2, 'DiseaseID'], df1.loc[int2, 'DVec'], df1.loc[int2, 'disPhenVecMP'], df1.loc[int2, 'disPhenVecHP'], df1.loc[int2, 'DOvec'], df1.loc[int2, 'dis_HINOvec'], df1.loc[int2, 'dis_PROvec']\n",
    "#     if (chem + dis not in chem_dis_pos_assocs):\n",
    "#         df1 = df1.append({'ChemicalID':chem, 'DiseaseID':dis, 'CVec':chemvec, 'DVec':disvec, 'Correlation':0, \n",
    "#                           'disPhenVecMP': mp, 'disPhenVecHP':hp, 'CHEBIvec':cheb, 'DOvec':do, \n",
    "#                          'dis_HINOvec': dhin, 'chem_HINOvec':chin, 'dis_PROvec':dispro, 'chem_PROvec': cpro}, ignore_index=True)\n",
    "\n",
    "# print(df1.shape)\n",
    "# # Drop any duplicates (removes known correlated pairs accidentally generated as uncorrelated)\n",
    "# df1 = df1.drop_duplicates(subset=['ChemicalID', 'DiseaseID'], keep=False)\n",
    "# print(df1.shape)\n"
   ]
  },
  {
   "cell_type": "code",
   "execution_count": 100,
   "metadata": {},
   "outputs": [],
   "source": [
    "# # Print stuff\n",
    "# # \n",
    "# print('Total Rows: ', df1.shape[0])\n",
    "# corr_rows = df1.Correlation == 1\n",
    "# uncorr = df1.Correlation == 0\n",
    "# print('Num corr rows: ', df1[corr_rows].shape[0])\n",
    "# print('Num uncorr rows: ', df1[uncorr].shape[0])\n",
    "# print()\n",
    "\n",
    "# # PRO vecs\n",
    "# have_chemv = df1.chem_PROvec.map(lambda x: x != empty_vec)\n",
    "# print('Have chem pro vec: ', df1[have_chemv].shape[0])\n",
    "# print('Have dis pro vec: ', df1[df1.dis_PROvec.map(lambda x: x != empty_vec)].shape[0])\n",
    "# corr_w_pro = have_chemv & corr_rows\n",
    "# uncorr_w_pro = have_chemv & uncorr\n",
    "# print('Corr rows with chem pro vec: ', df1[corr_w_pro].shape[0])\n",
    "# print('UnCorr rows with chem pro vec: ', df1[uncorr_w_pro].shape[0])\n",
    "# print()\n",
    "\n",
    "# # Phen vecs\n",
    "# phendisHP = df1.disPhenVecHP.map(lambda x: x != empty_vec)\n",
    "# phendisMP = df1.disPhenVecMP.map(lambda x: x != empty_vec)\n",
    "# corr_w_HP = phendisHP & corr_rows\n",
    "# uncorr_w_HP = phendisHP & uncorr\n",
    "# corr_w_MP = phendisMP & corr_rows\n",
    "# uncorr_w_MP = phendisMP & uncorr\n",
    "# print('Corr rows with HP vec: ', df1[corr_w_HP].shape[0])\n",
    "# print('UnCorr rows with HP vec: ', df1[uncorr_w_HP].shape[0])\n",
    "# print('Corr rows with MP vec: ', df1[corr_w_MP].shape[0])\n",
    "# print('UnCorr rows with MP vec: ', df1[uncorr_w_MP].shape[0])\n",
    "# print()\n",
    "\n",
    "# # HINO vecs\n",
    "# hin_c = df1.chem_HINOvec.map(lambda x: x != empty_vec)\n",
    "# hin_d = df1.dis_HINOvec.map(lambda x: x != empty_vec)\n",
    "# corr_w_hin_c = corr_rows & hin_c\n",
    "# uncorr_w_hin_c = uncorr & hin_c\n",
    "# corr_w_hin_d = corr_rows & hin_d\n",
    "# uncorr_w_hin_d = uncorr & hin_d\n",
    "# print('Corr rows with Hino chm vec: ', df1[corr_w_hin_c].shape[0])\n",
    "# print('UnCorr rows with Hino chm vec: ', df1[uncorr_w_hin_c].shape[0])\n",
    "# print('Corr rows with Hino dis vec: ', df1[corr_w_hin_d].shape[0])\n",
    "# print('UnCorr rows with Hino dis vec: ', df1[uncorr_w_hin_d].shape[0])\n",
    "# print()\n",
    "\n",
    "# # CHEBI\n",
    "# cheb = df1.CHEBIvec.map(lambda x: x != empty_vec)\n",
    "# corr_w_cheb = corr_rows & cheb\n",
    "# uncorr_w_cheb = uncorr & cheb\n",
    "# print('Corr rows with CHEBI vec: ', df1[corr_w_cheb].shape[0])\n",
    "# print('UnCorr rows with CHEBI vec: ', df1[uncorr_w_cheb].shape[0])\n",
    "# print()"
   ]
  },
  {
   "cell_type": "code",
   "execution_count": 101,
   "metadata": {},
   "outputs": [],
   "source": [
    "# df1 = df1[df1.ChemicalID.map(lambda x: ('D0' in x) | ('C0' in x))]"
   ]
  },
  {
   "cell_type": "code",
   "execution_count": 102,
   "metadata": {},
   "outputs": [],
   "source": [
    "# df1 = df1[df1.chem_HINOvec.map(lambda x: x != empty_vec)]\n",
    "# df1 = df1[df1.dis_HINOvec.map(lambda x: x != empty_vec)]\n",
    "# df1 = df1[df1.chem_PROvec.map(lambda x: x != empty_vec)]\n",
    "# df1 = df1[df1.dis_PROvec.map(lambda x: x != empty_vec)]\n",
    "# print('Total Rows: ', df1.shape[0])\n",
    "# corr_rows = df1.Correlation == 1\n",
    "# uncorr = df1.Correlation == 0\n",
    "# print('Num corr rows: ', df1[corr_rows].shape[0])\n",
    "# print('Num uncorr rows: ', df1[uncorr].shape[0])\n"
   ]
  },
  {
   "cell_type": "code",
   "execution_count": 103,
   "metadata": {},
   "outputs": [
    {
     "data": {
      "text/html": [
       "<div>\n",
       "<style scoped>\n",
       "    .dataframe tbody tr th:only-of-type {\n",
       "        vertical-align: middle;\n",
       "    }\n",
       "\n",
       "    .dataframe tbody tr th {\n",
       "        vertical-align: top;\n",
       "    }\n",
       "\n",
       "    .dataframe thead th {\n",
       "        text-align: right;\n",
       "    }\n",
       "</style>\n",
       "<table border=\"1\" class=\"dataframe\">\n",
       "  <thead>\n",
       "    <tr style=\"text-align: right;\">\n",
       "      <th></th>\n",
       "      <th>ChemicalID</th>\n",
       "      <th>DiseaseID</th>\n",
       "      <th>DVec</th>\n",
       "      <th>CVec</th>\n",
       "      <th>Correlation</th>\n",
       "      <th>DOID</th>\n",
       "      <th>disPhenVecMP</th>\n",
       "      <th>disPhenVecHP</th>\n",
       "      <th>chemPhenVecHP</th>\n",
       "      <th>chemPhenVecMP</th>\n",
       "      <th>CHEBIvec</th>\n",
       "      <th>DOvec</th>\n",
       "      <th>dis_HINOvec</th>\n",
       "      <th>chem_HINOvec</th>\n",
       "      <th>dis_PROvec</th>\n",
       "      <th>chem_PROvec</th>\n",
       "    </tr>\n",
       "  </thead>\n",
       "  <tbody>\n",
       "    <tr>\n",
       "      <th>9081</th>\n",
       "      <td>C436526</td>\n",
       "      <td>MESH:C566825</td>\n",
       "      <td>[-0.0218162, 0.09646672, 0.01468978, -0.112053...</td>\n",
       "      <td>[0.0193420742, 0.140989363, 0.0341041274, -0.1...</td>\n",
       "      <td>0</td>\n",
       "      <td>None</td>\n",
       "      <td>[0.0, 0.0, 0.0, 0.0, 0.0, 0.0, 0.0, 0.0, 0.0, ...</td>\n",
       "      <td>[0.0, 0.0, 0.0, 0.0, 0.0, 0.0, 0.0, 0.0, 0.0, ...</td>\n",
       "      <td>[0.0, 0.0, 0.0, 0.0, 0.0, 0.0, 0.0, 0.0, 0.0, ...</td>\n",
       "      <td>[0.0, 0.0, 0.0, 0.0, 0.0, 0.0, 0.0, 0.0, 0.0, ...</td>\n",
       "      <td>[0.0, 0.0, 0.0, 0.0, 0.0, 0.0, 0.0, 0.0, 0.0, ...</td>\n",
       "      <td>[0.0020415881, 0.0039064325, 0.0034907644, -0....</td>\n",
       "      <td>[0.0, 0.0, 0.0, 0.0, 0.0, 0.0, 0.0, 0.0, 0.0, ...</td>\n",
       "      <td>[0.0125607233, 0.0466667935, 0.00689049065, -0...</td>\n",
       "      <td>[0.01452159, 0.05400888, 0.03042794, -0.052060...</td>\n",
       "      <td>[0.01797148, 0.0754578, 0.03839778, -0.0623064...</td>\n",
       "    </tr>\n",
       "    <tr>\n",
       "      <th>8521</th>\n",
       "      <td>D003847</td>\n",
       "      <td>MESH:D015427</td>\n",
       "      <td>[-0.09266015, 0.03225973, -0.2103022, -0.04921...</td>\n",
       "      <td>[-0.00093696249, 0.114837073, 0.0202232748, -0...</td>\n",
       "      <td>1</td>\n",
       "      <td>nan</td>\n",
       "      <td>[0.0, 0.0, 0.0, 0.0, 0.0, 0.0, 0.0, 0.0, 0.0, ...</td>\n",
       "      <td>[0.0, 0.0, 0.0, 0.0, 0.0, 0.0, 0.0, 0.0, 0.0, ...</td>\n",
       "      <td>[0.0, 0.0, 0.0, 0.0, 0.0, 0.0, 0.0, 0.0, 0.0, ...</td>\n",
       "      <td>[0.0, 0.0, 0.0, 0.0, 0.0, 0.0, 0.0, 0.0, 0.0, ...</td>\n",
       "      <td>[0.0, 0.0, 0.0, 0.0, 0.0, 0.0, 0.0, 0.0, 0.0, ...</td>\n",
       "      <td>[-0.00096541998, 0.00036513724, -0.0017090936,...</td>\n",
       "      <td>[0.0233287159, 0.0835725367, 0.0433639288, -0....</td>\n",
       "      <td>[0.0, 0.0, 0.0, 0.0, 0.0, 0.0, 0.0, 0.0, 0.0, ...</td>\n",
       "      <td>[-0.00958176982, 0.132991359, 0.110638149, -0....</td>\n",
       "      <td>[0.00479426, 0.04632955, 0.03276774, -0.048002...</td>\n",
       "    </tr>\n",
       "    <tr>\n",
       "      <th>15486</th>\n",
       "      <td>C007738</td>\n",
       "      <td>OMIM:614935</td>\n",
       "      <td>[0.0332865007, 0.120494321, 0.0547929294, -0.1...</td>\n",
       "      <td>[-0.0473816656, -0.149341702, -0.419181824, -0...</td>\n",
       "      <td>0</td>\n",
       "      <td>None</td>\n",
       "      <td>[0.0, 0.0, 0.0, 0.0, 0.0, 0.0, 0.0, 0.0, 0.0, ...</td>\n",
       "      <td>[0.0, 0.0, 0.0, 0.0, 0.0, 0.0, 0.0, 0.0, 0.0, ...</td>\n",
       "      <td>[0.0, 0.0, 0.0, 0.0, 0.0, 0.0, 0.0, 0.0, 0.0, ...</td>\n",
       "      <td>[0.0, 0.0, 0.0, 0.0, 0.0, 0.0, 0.0, 0.0, 0.0, ...</td>\n",
       "      <td>[0.0, 0.0, 0.0, 0.0, 0.0, 0.0, 0.0, 0.0, 0.0, ...</td>\n",
       "      <td>[0.00640764, 0.05816788, 0.03004107, -0.057004...</td>\n",
       "      <td>[0.0, 0.0, 0.0, 0.0, 0.0, 0.0, 0.0, 0.0, 0.0, ...</td>\n",
       "      <td>[0.02335687, 0.13631171, 0.05245934, -0.132154...</td>\n",
       "      <td>[0.00542273, 0.03291503, 0.03110102, -0.041141...</td>\n",
       "      <td>[-0.04381387, 0.23100519, 0.27509958, -0.24436...</td>\n",
       "    </tr>\n",
       "    <tr>\n",
       "      <th>6073</th>\n",
       "      <td>D002945</td>\n",
       "      <td>MESH:D013733</td>\n",
       "      <td>[0.000124373342, 0.110306442, -0.0300721526, -...</td>\n",
       "      <td>[0.01885006, -0.12778029, -0.57853353, -0.1379...</td>\n",
       "      <td>1</td>\n",
       "      <td>DOID_2519</td>\n",
       "      <td>[0.03793479, 0.15386501, 0.06772751, -0.126367...</td>\n",
       "      <td>[0.04218819, 0.15158, 0.05705351, -0.11502054,...</td>\n",
       "      <td>[0.0, 0.0, 0.0, 0.0, 0.0, 0.0, 0.0, 0.0, 0.0, ...</td>\n",
       "      <td>[0.0, 0.0, 0.0, 0.0, 0.0, 0.0, 0.0, 0.0, 0.0, ...</td>\n",
       "      <td>[0.00923888, 0.05281729, 0.01388526, -0.048642...</td>\n",
       "      <td>[0.02459252, 0.07756886, 0.03826168, -0.060023...</td>\n",
       "      <td>[0.01121192, 0.06420488, 0.02495158, -0.060031...</td>\n",
       "      <td>[0.05022775, 0.14193472, 0.05506332, -0.166368...</td>\n",
       "      <td>[0.01779378, 0.07656814, 0.04537862, -0.068434...</td>\n",
       "      <td>[-0.00405814, 0.23408134, 0.43241173, -0.28472...</td>\n",
       "    </tr>\n",
       "    <tr>\n",
       "      <th>5295</th>\n",
       "      <td>D002330</td>\n",
       "      <td>MESH:D014786</td>\n",
       "      <td>[0.01232471, 0.11261591, 0.0534047, -0.1366017...</td>\n",
       "      <td>[0.03274909, 0.11206996, 0.07004723, -0.131271...</td>\n",
       "      <td>1</td>\n",
       "      <td>nan</td>\n",
       "      <td>[0.0, 0.0, 0.0, 0.0, 0.0, 0.0, 0.0, 0.0, 0.0, ...</td>\n",
       "      <td>[0.0, 0.0, 0.0, 0.0, 0.0, 0.0, 0.0, 0.0, 0.0, ...</td>\n",
       "      <td>[0.0, 0.0, 0.0, 0.0, 0.0, 0.0, 0.0, 0.0, 0.0, ...</td>\n",
       "      <td>[0.0, 0.0, 0.0, 0.0, 0.0, 0.0, 0.0, 0.0, 0.0, ...</td>\n",
       "      <td>[0.0, 0.0, 0.0, 0.0, 0.0, 0.0, 0.0, 0.0, 0.0, ...</td>\n",
       "      <td>[0.0168399662, 0.036821831, 0.0174113549, -0.0...</td>\n",
       "      <td>[0.0, 0.0, 0.0, 0.0, 0.0, 0.0, 0.0, 0.0, 0.0, ...</td>\n",
       "      <td>[0.01817147, 0.04531782, 0.01694135, -0.049951...</td>\n",
       "      <td>[0.00843999162, 0.0829844922, 0.0452356227, -0...</td>\n",
       "      <td>[0.01827934, 0.05094193, 0.03299038, -0.037763...</td>\n",
       "    </tr>\n",
       "    <tr>\n",
       "      <th>16654</th>\n",
       "      <td>C046760</td>\n",
       "      <td>MESH:C567481</td>\n",
       "      <td>[0.02801689, 0.12329113, 0.0743833, -0.1170234...</td>\n",
       "      <td>[0.00597736, 0.13521208, 0.0240016, -0.1183023...</td>\n",
       "      <td>0</td>\n",
       "      <td>None</td>\n",
       "      <td>[0.0, 0.0, 0.0, 0.0, 0.0, 0.0, 0.0, 0.0, 0.0, ...</td>\n",
       "      <td>[0.0, 0.0, 0.0, 0.0, 0.0, 0.0, 0.0, 0.0, 0.0, ...</td>\n",
       "      <td>[0.0, 0.0, 0.0, 0.0, 0.0, 0.0, 0.0, 0.0, 0.0, ...</td>\n",
       "      <td>[0.0, 0.0, 0.0, 0.0, 0.0, 0.0, 0.0, 0.0, 0.0, ...</td>\n",
       "      <td>[0.0, 0.0, 0.0, 0.0, 0.0, 0.0, 0.0, 0.0, 0.0, ...</td>\n",
       "      <td>[0.00790928863, 0.0286046378, 0.0163479727, -0...</td>\n",
       "      <td>[0.0, 0.0, 0.0, 0.0, 0.0, 0.0, 0.0, 0.0, 0.0, ...</td>\n",
       "      <td>[0.00553974, 0.05508611, 0.02604354, -0.051195...</td>\n",
       "      <td>[0.02647733, 0.05498864, 0.02742073, -0.052586...</td>\n",
       "      <td>[0.0170053709, 0.0377202183, 0.01631389, -0.02...</td>\n",
       "    </tr>\n",
       "    <tr>\n",
       "      <th>7546</th>\n",
       "      <td>D004117</td>\n",
       "      <td>MESH:D010523</td>\n",
       "      <td>[-0.021479981, 0.0679457039, -0.167286307, -0....</td>\n",
       "      <td>[0.02309084, 0.1064341, 0.04369533, -0.1290258...</td>\n",
       "      <td>1</td>\n",
       "      <td>DOID_574</td>\n",
       "      <td>[0.02621015, 0.11808532, 0.05715002, -0.114058...</td>\n",
       "      <td>[0.04828083, 0.16131957, 0.06243277, -0.134803...</td>\n",
       "      <td>[0.0, 0.0, 0.0, 0.0, 0.0, 0.0, 0.0, 0.0, 0.0, ...</td>\n",
       "      <td>[0.0, 0.0, 0.0, 0.0, 0.0, 0.0, 0.0, 0.0, 0.0, ...</td>\n",
       "      <td>[0.0, 0.0, 0.0, 0.0, 0.0, 0.0, 0.0, 0.0, 0.0, ...</td>\n",
       "      <td>[0.01572054, 0.08288262, 0.0344631, -0.0642806...</td>\n",
       "      <td>[0.03697179, 0.09680105, 0.04641577, -0.082960...</td>\n",
       "      <td>[0.00959341414, 0.0517970957, 0.0291789658, -0...</td>\n",
       "      <td>[0.03254354, 0.151406333, 0.112986684, -0.1147...</td>\n",
       "      <td>[-0.00205167569, 0.0619231313, 0.0536780916, -...</td>\n",
       "    </tr>\n",
       "    <tr>\n",
       "      <th>6070</th>\n",
       "      <td>D002945</td>\n",
       "      <td>MESH:D004487</td>\n",
       "      <td>[0.0231691245, 0.101425633, 0.0259078406, -0.1...</td>\n",
       "      <td>[0.01885006, -0.12778029, -0.57853353, -0.1379...</td>\n",
       "      <td>1</td>\n",
       "      <td>nan</td>\n",
       "      <td>[0.0, 0.0, 0.0, 0.0, 0.0, 0.0, 0.0, 0.0, 0.0, ...</td>\n",
       "      <td>[0.0, 0.0, 0.0, 0.0, 0.0, 0.0, 0.0, 0.0, 0.0, ...</td>\n",
       "      <td>[0.0, 0.0, 0.0, 0.0, 0.0, 0.0, 0.0, 0.0, 0.0, ...</td>\n",
       "      <td>[0.0, 0.0, 0.0, 0.0, 0.0, 0.0, 0.0, 0.0, 0.0, ...</td>\n",
       "      <td>[0.00923888, 0.05281729, 0.01388526, -0.048642...</td>\n",
       "      <td>[0.00565872, 0.02629037, 0.00927986, -0.025331...</td>\n",
       "      <td>[0.00883977, 0.04443174, 0.02035567, -0.033827...</td>\n",
       "      <td>[0.05022775, 0.14193472, 0.05506332, -0.166368...</td>\n",
       "      <td>[0.00203598198, 0.0549072325, 0.0141290911, -0...</td>\n",
       "      <td>[-0.00405814, 0.23408134, 0.43241173, -0.28472...</td>\n",
       "    </tr>\n",
       "    <tr>\n",
       "      <th>8719</th>\n",
       "      <td>D017245</td>\n",
       "      <td>MESH:D008275</td>\n",
       "      <td>[0.0432317555, 0.100999825, 0.021005692, -0.10...</td>\n",
       "      <td>[-0.00429065, 0.0897546, -0.07167856, -0.11692...</td>\n",
       "      <td>1</td>\n",
       "      <td>nan</td>\n",
       "      <td>[0.0, 0.0, 0.0, 0.0, 0.0, 0.0, 0.0, 0.0, 0.0, ...</td>\n",
       "      <td>[0.0, 0.0, 0.0, 0.0, 0.0, 0.0, 0.0, 0.0, 0.0, ...</td>\n",
       "      <td>[0.0, 0.0, 0.0, 0.0, 0.0, 0.0, 0.0, 0.0, 0.0, ...</td>\n",
       "      <td>[0.0, 0.0, 0.0, 0.0, 0.0, 0.0, 0.0, 0.0, 0.0, ...</td>\n",
       "      <td>[0.01288085, 0.05757806, 0.03548504, -0.053172...</td>\n",
       "      <td>[0.0033477175, 0.007220279, 0.0040566572, -0.0...</td>\n",
       "      <td>[0.01067515, 0.04823948, 0.0249516, -0.0436838...</td>\n",
       "      <td>[0.017265, 0.05663333, 0.02925524, -0.06585567...</td>\n",
       "      <td>[0.003140721, 0.0225737467, 0.0285627823, -0.0...</td>\n",
       "      <td>[0.01561068, 0.09810244, 0.05792096, -0.089170...</td>\n",
       "    </tr>\n",
       "    <tr>\n",
       "      <th>192</th>\n",
       "      <td>D001151</td>\n",
       "      <td>MESH:D012120</td>\n",
       "      <td>[0.0271112658, 0.120299742, 0.0591822453, -0.1...</td>\n",
       "      <td>[0.030142, 0.12874685, 0.05916668, -0.1366483,...</td>\n",
       "      <td>1</td>\n",
       "      <td>nan</td>\n",
       "      <td>[0.0, 0.0, 0.0, 0.0, 0.0, 0.0, 0.0, 0.0, 0.0, ...</td>\n",
       "      <td>[0.0, 0.0, 0.0, 0.0, 0.0, 0.0, 0.0, 0.0, 0.0, ...</td>\n",
       "      <td>[0.0, 0.0, 0.0, 0.0, 0.0, 0.0, 0.0, 0.0, 0.0, ...</td>\n",
       "      <td>[0.0, 0.0, 0.0, 0.0, 0.0, 0.0, 0.0, 0.0, 0.0, ...</td>\n",
       "      <td>[0.0, 0.0, 0.0, 0.0, 0.0, 0.0, 0.0, 0.0, 0.0, ...</td>\n",
       "      <td>[0.01024033, 0.03925938, 0.01547381, -0.035765...</td>\n",
       "      <td>[0.0, 0.0, 0.0, 0.0, 0.0, 0.0, 0.0, 0.0, 0.0, ...</td>\n",
       "      <td>[0.01152079, 0.05805393, 0.03004528, -0.044912...</td>\n",
       "      <td>[-0.00344713, 0.04547516, 0.03597684, -0.03887...</td>\n",
       "      <td>[0.0268701483, 0.0704930648, 0.0475564972, -0....</td>\n",
       "    </tr>\n",
       "    <tr>\n",
       "      <th>3396</th>\n",
       "      <td>D017632</td>\n",
       "      <td>MESH:D009374</td>\n",
       "      <td>[0.00674402621, 0.105080076, -0.0300768986, -0...</td>\n",
       "      <td>[0.03404624, 0.11130185, 0.04744731, -0.119505...</td>\n",
       "      <td>1</td>\n",
       "      <td>nan</td>\n",
       "      <td>[0.0, 0.0, 0.0, 0.0, 0.0, 0.0, 0.0, 0.0, 0.0, ...</td>\n",
       "      <td>[0.0, 0.0, 0.0, 0.0, 0.0, 0.0, 0.0, 0.0, 0.0, ...</td>\n",
       "      <td>[0.0, 0.0, 0.0, 0.0, 0.0, 0.0, 0.0, 0.0, 0.0, ...</td>\n",
       "      <td>[0.0, 0.0, 0.0, 0.0, 0.0, 0.0, 0.0, 0.0, 0.0, ...</td>\n",
       "      <td>[0.0, 0.0, 0.0, 0.0, 0.0, 0.0, 0.0, 0.0, 0.0, ...</td>\n",
       "      <td>[0.00830934, 0.03051887, 0.01610127, -0.032820...</td>\n",
       "      <td>[0.01219533, 0.06615793, 0.02948825, -0.054306...</td>\n",
       "      <td>[0.0, 0.0, 0.0, 0.0, 0.0, 0.0, 0.0, 0.0, 0.0, ...</td>\n",
       "      <td>[0.02527164, 0.06851064, 0.04863856, -0.063525...</td>\n",
       "      <td>[0.01479584, 0.07098291, 0.05005284, -0.070080...</td>\n",
       "    </tr>\n",
       "    <tr>\n",
       "      <th>11136</th>\n",
       "      <td>D004811</td>\n",
       "      <td>MESH:D011628</td>\n",
       "      <td>[0.039846044, 0.100126639, 0.0296446159, -0.11...</td>\n",
       "      <td>[0.02036231, 0.08634654, 0.04474393, -0.077583...</td>\n",
       "      <td>0</td>\n",
       "      <td>nan</td>\n",
       "      <td>[0.0, 0.0, 0.0, 0.0, 0.0, 0.0, 0.0, 0.0, 0.0, ...</td>\n",
       "      <td>[0.0, 0.0, 0.0, 0.0, 0.0, 0.0, 0.0, 0.0, 0.0, ...</td>\n",
       "      <td>[0.0, 0.0, 0.0, 0.0, 0.0, 0.0, 0.0, 0.0, 0.0, ...</td>\n",
       "      <td>[0.0, 0.0, 0.0, 0.0, 0.0, 0.0, 0.0, 0.0, 0.0, ...</td>\n",
       "      <td>[0.00030747641, 0.065885216, 0.0303527825, -0....</td>\n",
       "      <td>[0.00731246313, 0.0235983208, 0.00523523195, -...</td>\n",
       "      <td>[0.00970137212, 0.0406941101, 0.0195454005, -0...</td>\n",
       "      <td>[0.0, 0.0, 0.0, 0.0, 0.0, 0.0, 0.0, 0.0, 0.0, ...</td>\n",
       "      <td>[0.00973241, 0.04888812, 0.02283165, -0.043598...</td>\n",
       "      <td>[0.00287108961, 0.0330768637, 0.0142359575, -0...</td>\n",
       "    </tr>\n",
       "    <tr>\n",
       "      <th>3562</th>\n",
       "      <td>D014302</td>\n",
       "      <td>MESH:D004487</td>\n",
       "      <td>[0.0231691245, 0.101425633, 0.0259078406, -0.1...</td>\n",
       "      <td>[0.02781601, 0.12880851, 0.02599175, -0.132561...</td>\n",
       "      <td>1</td>\n",
       "      <td>nan</td>\n",
       "      <td>[0.0, 0.0, 0.0, 0.0, 0.0, 0.0, 0.0, 0.0, 0.0, ...</td>\n",
       "      <td>[0.0, 0.0, 0.0, 0.0, 0.0, 0.0, 0.0, 0.0, 0.0, ...</td>\n",
       "      <td>[0.0, 0.0, 0.0, 0.0, 0.0, 0.0, 0.0, 0.0, 0.0, ...</td>\n",
       "      <td>[0.0, 0.0, 0.0, 0.0, 0.0, 0.0, 0.0, 0.0, 0.0, ...</td>\n",
       "      <td>[0.0218727905, 0.0688920915, 0.0300251301, -0....</td>\n",
       "      <td>[0.00565872, 0.02629037, 0.00927986, -0.025331...</td>\n",
       "      <td>[0.00883977, 0.04443174, 0.02035567, -0.033827...</td>\n",
       "      <td>[0.0, 0.0, 0.0, 0.0, 0.0, 0.0, 0.0, 0.0, 0.0, ...</td>\n",
       "      <td>[0.00203598198, 0.0549072325, 0.0141290911, -0...</td>\n",
       "      <td>[0.0011185708, 0.0846180692, 0.0561897717, -0....</td>\n",
       "    </tr>\n",
       "    <tr>\n",
       "      <th>513</th>\n",
       "      <td>D001761</td>\n",
       "      <td>MESH:D011014</td>\n",
       "      <td>[-0.0560271, 0.00420685, -0.15643503, -0.04759...</td>\n",
       "      <td>[0.02635424, 0.10863008, 0.03955908, -0.095515...</td>\n",
       "      <td>1</td>\n",
       "      <td>DOID_552</td>\n",
       "      <td>[0.03461778, 0.12718843, 0.05749597, -0.114553...</td>\n",
       "      <td>[0.04328105, 0.15122803, 0.05721117, -0.111103...</td>\n",
       "      <td>[0.0, 0.0, 0.0, 0.0, 0.0, 0.0, 0.0, 0.0, 0.0, ...</td>\n",
       "      <td>[0.0, 0.0, 0.0, 0.0, 0.0, 0.0, 0.0, 0.0, 0.0, ...</td>\n",
       "      <td>[0.00760837365, 0.0471478179, 0.0223962795, -0...</td>\n",
       "      <td>[0.01394993, 0.06581535, 0.03156545, -0.063000...</td>\n",
       "      <td>[0.00957003143, 0.0937613025, 0.0485913567, -0...</td>\n",
       "      <td>[0.0, 0.0, 0.0, 0.0, 0.0, 0.0, 0.0, 0.0, 0.0, ...</td>\n",
       "      <td>[0.03990306, 0.12721115, 0.11389245, -0.115292...</td>\n",
       "      <td>[0.0121410303, 0.0568416081, 0.0321019553, -0....</td>\n",
       "    </tr>\n",
       "    <tr>\n",
       "      <th>3774</th>\n",
       "      <td>C009505</td>\n",
       "      <td>MESH:D006529</td>\n",
       "      <td>[-0.02036812, 0.09344074, -0.08194942, -0.1507...</td>\n",
       "      <td>[0.00228552, 0.12628244, -0.01456048, -0.14466...</td>\n",
       "      <td>1</td>\n",
       "      <td>nan</td>\n",
       "      <td>[0.0, 0.0, 0.0, 0.0, 0.0, 0.0, 0.0, 0.0, 0.0, ...</td>\n",
       "      <td>[0.0, 0.0, 0.0, 0.0, 0.0, 0.0, 0.0, 0.0, 0.0, ...</td>\n",
       "      <td>[0.0, 0.0, 0.0, 0.0, 0.0, 0.0, 0.0, 0.0, 0.0, ...</td>\n",
       "      <td>[0.0, 0.0, 0.0, 0.0, 0.0, 0.0, 0.0, 0.0, 0.0, ...</td>\n",
       "      <td>[0.0092980126, 0.046585497, 0.032769874, -0.05...</td>\n",
       "      <td>[0.00442429, 0.02501368, 0.01620419, -0.024251...</td>\n",
       "      <td>[0.0262603536, 0.0958174169, 0.0440592952, -0....</td>\n",
       "      <td>[0.02032944, 0.06549221, 0.03471228, -0.068791...</td>\n",
       "      <td>[0.0273059886, 0.13361977, 0.0845196024, -0.13...</td>\n",
       "      <td>[0.00200186, 0.19315915, 0.16568755, -0.179609...</td>\n",
       "    </tr>\n",
       "  </tbody>\n",
       "</table>\n",
       "</div>"
      ],
      "text/plain": [
       "      ChemicalID     DiseaseID  \\\n",
       "9081     C436526  MESH:C566825   \n",
       "8521     D003847  MESH:D015427   \n",
       "15486    C007738   OMIM:614935   \n",
       "6073     D002945  MESH:D013733   \n",
       "5295     D002330  MESH:D014786   \n",
       "16654    C046760  MESH:C567481   \n",
       "7546     D004117  MESH:D010523   \n",
       "6070     D002945  MESH:D004487   \n",
       "8719     D017245  MESH:D008275   \n",
       "192      D001151  MESH:D012120   \n",
       "3396     D017632  MESH:D009374   \n",
       "11136    D004811  MESH:D011628   \n",
       "3562     D014302  MESH:D004487   \n",
       "513      D001761  MESH:D011014   \n",
       "3774     C009505  MESH:D006529   \n",
       "\n",
       "                                                    DVec  \\\n",
       "9081   [-0.0218162, 0.09646672, 0.01468978, -0.112053...   \n",
       "8521   [-0.09266015, 0.03225973, -0.2103022, -0.04921...   \n",
       "15486  [0.0332865007, 0.120494321, 0.0547929294, -0.1...   \n",
       "6073   [0.000124373342, 0.110306442, -0.0300721526, -...   \n",
       "5295   [0.01232471, 0.11261591, 0.0534047, -0.1366017...   \n",
       "16654  [0.02801689, 0.12329113, 0.0743833, -0.1170234...   \n",
       "7546   [-0.021479981, 0.0679457039, -0.167286307, -0....   \n",
       "6070   [0.0231691245, 0.101425633, 0.0259078406, -0.1...   \n",
       "8719   [0.0432317555, 0.100999825, 0.021005692, -0.10...   \n",
       "192    [0.0271112658, 0.120299742, 0.0591822453, -0.1...   \n",
       "3396   [0.00674402621, 0.105080076, -0.0300768986, -0...   \n",
       "11136  [0.039846044, 0.100126639, 0.0296446159, -0.11...   \n",
       "3562   [0.0231691245, 0.101425633, 0.0259078406, -0.1...   \n",
       "513    [-0.0560271, 0.00420685, -0.15643503, -0.04759...   \n",
       "3774   [-0.02036812, 0.09344074, -0.08194942, -0.1507...   \n",
       "\n",
       "                                                    CVec  Correlation  \\\n",
       "9081   [0.0193420742, 0.140989363, 0.0341041274, -0.1...            0   \n",
       "8521   [-0.00093696249, 0.114837073, 0.0202232748, -0...            1   \n",
       "15486  [-0.0473816656, -0.149341702, -0.419181824, -0...            0   \n",
       "6073   [0.01885006, -0.12778029, -0.57853353, -0.1379...            1   \n",
       "5295   [0.03274909, 0.11206996, 0.07004723, -0.131271...            1   \n",
       "16654  [0.00597736, 0.13521208, 0.0240016, -0.1183023...            0   \n",
       "7546   [0.02309084, 0.1064341, 0.04369533, -0.1290258...            1   \n",
       "6070   [0.01885006, -0.12778029, -0.57853353, -0.1379...            1   \n",
       "8719   [-0.00429065, 0.0897546, -0.07167856, -0.11692...            1   \n",
       "192    [0.030142, 0.12874685, 0.05916668, -0.1366483,...            1   \n",
       "3396   [0.03404624, 0.11130185, 0.04744731, -0.119505...            1   \n",
       "11136  [0.02036231, 0.08634654, 0.04474393, -0.077583...            0   \n",
       "3562   [0.02781601, 0.12880851, 0.02599175, -0.132561...            1   \n",
       "513    [0.02635424, 0.10863008, 0.03955908, -0.095515...            1   \n",
       "3774   [0.00228552, 0.12628244, -0.01456048, -0.14466...            1   \n",
       "\n",
       "            DOID                                       disPhenVecMP  \\\n",
       "9081        None  [0.0, 0.0, 0.0, 0.0, 0.0, 0.0, 0.0, 0.0, 0.0, ...   \n",
       "8521         nan  [0.0, 0.0, 0.0, 0.0, 0.0, 0.0, 0.0, 0.0, 0.0, ...   \n",
       "15486       None  [0.0, 0.0, 0.0, 0.0, 0.0, 0.0, 0.0, 0.0, 0.0, ...   \n",
       "6073   DOID_2519  [0.03793479, 0.15386501, 0.06772751, -0.126367...   \n",
       "5295         nan  [0.0, 0.0, 0.0, 0.0, 0.0, 0.0, 0.0, 0.0, 0.0, ...   \n",
       "16654       None  [0.0, 0.0, 0.0, 0.0, 0.0, 0.0, 0.0, 0.0, 0.0, ...   \n",
       "7546    DOID_574  [0.02621015, 0.11808532, 0.05715002, -0.114058...   \n",
       "6070         nan  [0.0, 0.0, 0.0, 0.0, 0.0, 0.0, 0.0, 0.0, 0.0, ...   \n",
       "8719         nan  [0.0, 0.0, 0.0, 0.0, 0.0, 0.0, 0.0, 0.0, 0.0, ...   \n",
       "192          nan  [0.0, 0.0, 0.0, 0.0, 0.0, 0.0, 0.0, 0.0, 0.0, ...   \n",
       "3396         nan  [0.0, 0.0, 0.0, 0.0, 0.0, 0.0, 0.0, 0.0, 0.0, ...   \n",
       "11136        nan  [0.0, 0.0, 0.0, 0.0, 0.0, 0.0, 0.0, 0.0, 0.0, ...   \n",
       "3562         nan  [0.0, 0.0, 0.0, 0.0, 0.0, 0.0, 0.0, 0.0, 0.0, ...   \n",
       "513     DOID_552  [0.03461778, 0.12718843, 0.05749597, -0.114553...   \n",
       "3774         nan  [0.0, 0.0, 0.0, 0.0, 0.0, 0.0, 0.0, 0.0, 0.0, ...   \n",
       "\n",
       "                                            disPhenVecHP  \\\n",
       "9081   [0.0, 0.0, 0.0, 0.0, 0.0, 0.0, 0.0, 0.0, 0.0, ...   \n",
       "8521   [0.0, 0.0, 0.0, 0.0, 0.0, 0.0, 0.0, 0.0, 0.0, ...   \n",
       "15486  [0.0, 0.0, 0.0, 0.0, 0.0, 0.0, 0.0, 0.0, 0.0, ...   \n",
       "6073   [0.04218819, 0.15158, 0.05705351, -0.11502054,...   \n",
       "5295   [0.0, 0.0, 0.0, 0.0, 0.0, 0.0, 0.0, 0.0, 0.0, ...   \n",
       "16654  [0.0, 0.0, 0.0, 0.0, 0.0, 0.0, 0.0, 0.0, 0.0, ...   \n",
       "7546   [0.04828083, 0.16131957, 0.06243277, -0.134803...   \n",
       "6070   [0.0, 0.0, 0.0, 0.0, 0.0, 0.0, 0.0, 0.0, 0.0, ...   \n",
       "8719   [0.0, 0.0, 0.0, 0.0, 0.0, 0.0, 0.0, 0.0, 0.0, ...   \n",
       "192    [0.0, 0.0, 0.0, 0.0, 0.0, 0.0, 0.0, 0.0, 0.0, ...   \n",
       "3396   [0.0, 0.0, 0.0, 0.0, 0.0, 0.0, 0.0, 0.0, 0.0, ...   \n",
       "11136  [0.0, 0.0, 0.0, 0.0, 0.0, 0.0, 0.0, 0.0, 0.0, ...   \n",
       "3562   [0.0, 0.0, 0.0, 0.0, 0.0, 0.0, 0.0, 0.0, 0.0, ...   \n",
       "513    [0.04328105, 0.15122803, 0.05721117, -0.111103...   \n",
       "3774   [0.0, 0.0, 0.0, 0.0, 0.0, 0.0, 0.0, 0.0, 0.0, ...   \n",
       "\n",
       "                                           chemPhenVecHP  \\\n",
       "9081   [0.0, 0.0, 0.0, 0.0, 0.0, 0.0, 0.0, 0.0, 0.0, ...   \n",
       "8521   [0.0, 0.0, 0.0, 0.0, 0.0, 0.0, 0.0, 0.0, 0.0, ...   \n",
       "15486  [0.0, 0.0, 0.0, 0.0, 0.0, 0.0, 0.0, 0.0, 0.0, ...   \n",
       "6073   [0.0, 0.0, 0.0, 0.0, 0.0, 0.0, 0.0, 0.0, 0.0, ...   \n",
       "5295   [0.0, 0.0, 0.0, 0.0, 0.0, 0.0, 0.0, 0.0, 0.0, ...   \n",
       "16654  [0.0, 0.0, 0.0, 0.0, 0.0, 0.0, 0.0, 0.0, 0.0, ...   \n",
       "7546   [0.0, 0.0, 0.0, 0.0, 0.0, 0.0, 0.0, 0.0, 0.0, ...   \n",
       "6070   [0.0, 0.0, 0.0, 0.0, 0.0, 0.0, 0.0, 0.0, 0.0, ...   \n",
       "8719   [0.0, 0.0, 0.0, 0.0, 0.0, 0.0, 0.0, 0.0, 0.0, ...   \n",
       "192    [0.0, 0.0, 0.0, 0.0, 0.0, 0.0, 0.0, 0.0, 0.0, ...   \n",
       "3396   [0.0, 0.0, 0.0, 0.0, 0.0, 0.0, 0.0, 0.0, 0.0, ...   \n",
       "11136  [0.0, 0.0, 0.0, 0.0, 0.0, 0.0, 0.0, 0.0, 0.0, ...   \n",
       "3562   [0.0, 0.0, 0.0, 0.0, 0.0, 0.0, 0.0, 0.0, 0.0, ...   \n",
       "513    [0.0, 0.0, 0.0, 0.0, 0.0, 0.0, 0.0, 0.0, 0.0, ...   \n",
       "3774   [0.0, 0.0, 0.0, 0.0, 0.0, 0.0, 0.0, 0.0, 0.0, ...   \n",
       "\n",
       "                                           chemPhenVecMP  \\\n",
       "9081   [0.0, 0.0, 0.0, 0.0, 0.0, 0.0, 0.0, 0.0, 0.0, ...   \n",
       "8521   [0.0, 0.0, 0.0, 0.0, 0.0, 0.0, 0.0, 0.0, 0.0, ...   \n",
       "15486  [0.0, 0.0, 0.0, 0.0, 0.0, 0.0, 0.0, 0.0, 0.0, ...   \n",
       "6073   [0.0, 0.0, 0.0, 0.0, 0.0, 0.0, 0.0, 0.0, 0.0, ...   \n",
       "5295   [0.0, 0.0, 0.0, 0.0, 0.0, 0.0, 0.0, 0.0, 0.0, ...   \n",
       "16654  [0.0, 0.0, 0.0, 0.0, 0.0, 0.0, 0.0, 0.0, 0.0, ...   \n",
       "7546   [0.0, 0.0, 0.0, 0.0, 0.0, 0.0, 0.0, 0.0, 0.0, ...   \n",
       "6070   [0.0, 0.0, 0.0, 0.0, 0.0, 0.0, 0.0, 0.0, 0.0, ...   \n",
       "8719   [0.0, 0.0, 0.0, 0.0, 0.0, 0.0, 0.0, 0.0, 0.0, ...   \n",
       "192    [0.0, 0.0, 0.0, 0.0, 0.0, 0.0, 0.0, 0.0, 0.0, ...   \n",
       "3396   [0.0, 0.0, 0.0, 0.0, 0.0, 0.0, 0.0, 0.0, 0.0, ...   \n",
       "11136  [0.0, 0.0, 0.0, 0.0, 0.0, 0.0, 0.0, 0.0, 0.0, ...   \n",
       "3562   [0.0, 0.0, 0.0, 0.0, 0.0, 0.0, 0.0, 0.0, 0.0, ...   \n",
       "513    [0.0, 0.0, 0.0, 0.0, 0.0, 0.0, 0.0, 0.0, 0.0, ...   \n",
       "3774   [0.0, 0.0, 0.0, 0.0, 0.0, 0.0, 0.0, 0.0, 0.0, ...   \n",
       "\n",
       "                                                CHEBIvec  \\\n",
       "9081   [0.0, 0.0, 0.0, 0.0, 0.0, 0.0, 0.0, 0.0, 0.0, ...   \n",
       "8521   [0.0, 0.0, 0.0, 0.0, 0.0, 0.0, 0.0, 0.0, 0.0, ...   \n",
       "15486  [0.0, 0.0, 0.0, 0.0, 0.0, 0.0, 0.0, 0.0, 0.0, ...   \n",
       "6073   [0.00923888, 0.05281729, 0.01388526, -0.048642...   \n",
       "5295   [0.0, 0.0, 0.0, 0.0, 0.0, 0.0, 0.0, 0.0, 0.0, ...   \n",
       "16654  [0.0, 0.0, 0.0, 0.0, 0.0, 0.0, 0.0, 0.0, 0.0, ...   \n",
       "7546   [0.0, 0.0, 0.0, 0.0, 0.0, 0.0, 0.0, 0.0, 0.0, ...   \n",
       "6070   [0.00923888, 0.05281729, 0.01388526, -0.048642...   \n",
       "8719   [0.01288085, 0.05757806, 0.03548504, -0.053172...   \n",
       "192    [0.0, 0.0, 0.0, 0.0, 0.0, 0.0, 0.0, 0.0, 0.0, ...   \n",
       "3396   [0.0, 0.0, 0.0, 0.0, 0.0, 0.0, 0.0, 0.0, 0.0, ...   \n",
       "11136  [0.00030747641, 0.065885216, 0.0303527825, -0....   \n",
       "3562   [0.0218727905, 0.0688920915, 0.0300251301, -0....   \n",
       "513    [0.00760837365, 0.0471478179, 0.0223962795, -0...   \n",
       "3774   [0.0092980126, 0.046585497, 0.032769874, -0.05...   \n",
       "\n",
       "                                                   DOvec  \\\n",
       "9081   [0.0020415881, 0.0039064325, 0.0034907644, -0....   \n",
       "8521   [-0.00096541998, 0.00036513724, -0.0017090936,...   \n",
       "15486  [0.00640764, 0.05816788, 0.03004107, -0.057004...   \n",
       "6073   [0.02459252, 0.07756886, 0.03826168, -0.060023...   \n",
       "5295   [0.0168399662, 0.036821831, 0.0174113549, -0.0...   \n",
       "16654  [0.00790928863, 0.0286046378, 0.0163479727, -0...   \n",
       "7546   [0.01572054, 0.08288262, 0.0344631, -0.0642806...   \n",
       "6070   [0.00565872, 0.02629037, 0.00927986, -0.025331...   \n",
       "8719   [0.0033477175, 0.007220279, 0.0040566572, -0.0...   \n",
       "192    [0.01024033, 0.03925938, 0.01547381, -0.035765...   \n",
       "3396   [0.00830934, 0.03051887, 0.01610127, -0.032820...   \n",
       "11136  [0.00731246313, 0.0235983208, 0.00523523195, -...   \n",
       "3562   [0.00565872, 0.02629037, 0.00927986, -0.025331...   \n",
       "513    [0.01394993, 0.06581535, 0.03156545, -0.063000...   \n",
       "3774   [0.00442429, 0.02501368, 0.01620419, -0.024251...   \n",
       "\n",
       "                                             dis_HINOvec  \\\n",
       "9081   [0.0, 0.0, 0.0, 0.0, 0.0, 0.0, 0.0, 0.0, 0.0, ...   \n",
       "8521   [0.0233287159, 0.0835725367, 0.0433639288, -0....   \n",
       "15486  [0.0, 0.0, 0.0, 0.0, 0.0, 0.0, 0.0, 0.0, 0.0, ...   \n",
       "6073   [0.01121192, 0.06420488, 0.02495158, -0.060031...   \n",
       "5295   [0.0, 0.0, 0.0, 0.0, 0.0, 0.0, 0.0, 0.0, 0.0, ...   \n",
       "16654  [0.0, 0.0, 0.0, 0.0, 0.0, 0.0, 0.0, 0.0, 0.0, ...   \n",
       "7546   [0.03697179, 0.09680105, 0.04641577, -0.082960...   \n",
       "6070   [0.00883977, 0.04443174, 0.02035567, -0.033827...   \n",
       "8719   [0.01067515, 0.04823948, 0.0249516, -0.0436838...   \n",
       "192    [0.0, 0.0, 0.0, 0.0, 0.0, 0.0, 0.0, 0.0, 0.0, ...   \n",
       "3396   [0.01219533, 0.06615793, 0.02948825, -0.054306...   \n",
       "11136  [0.00970137212, 0.0406941101, 0.0195454005, -0...   \n",
       "3562   [0.00883977, 0.04443174, 0.02035567, -0.033827...   \n",
       "513    [0.00957003143, 0.0937613025, 0.0485913567, -0...   \n",
       "3774   [0.0262603536, 0.0958174169, 0.0440592952, -0....   \n",
       "\n",
       "                                            chem_HINOvec  \\\n",
       "9081   [0.0125607233, 0.0466667935, 0.00689049065, -0...   \n",
       "8521   [0.0, 0.0, 0.0, 0.0, 0.0, 0.0, 0.0, 0.0, 0.0, ...   \n",
       "15486  [0.02335687, 0.13631171, 0.05245934, -0.132154...   \n",
       "6073   [0.05022775, 0.14193472, 0.05506332, -0.166368...   \n",
       "5295   [0.01817147, 0.04531782, 0.01694135, -0.049951...   \n",
       "16654  [0.00553974, 0.05508611, 0.02604354, -0.051195...   \n",
       "7546   [0.00959341414, 0.0517970957, 0.0291789658, -0...   \n",
       "6070   [0.05022775, 0.14193472, 0.05506332, -0.166368...   \n",
       "8719   [0.017265, 0.05663333, 0.02925524, -0.06585567...   \n",
       "192    [0.01152079, 0.05805393, 0.03004528, -0.044912...   \n",
       "3396   [0.0, 0.0, 0.0, 0.0, 0.0, 0.0, 0.0, 0.0, 0.0, ...   \n",
       "11136  [0.0, 0.0, 0.0, 0.0, 0.0, 0.0, 0.0, 0.0, 0.0, ...   \n",
       "3562   [0.0, 0.0, 0.0, 0.0, 0.0, 0.0, 0.0, 0.0, 0.0, ...   \n",
       "513    [0.0, 0.0, 0.0, 0.0, 0.0, 0.0, 0.0, 0.0, 0.0, ...   \n",
       "3774   [0.02032944, 0.06549221, 0.03471228, -0.068791...   \n",
       "\n",
       "                                              dis_PROvec  \\\n",
       "9081   [0.01452159, 0.05400888, 0.03042794, -0.052060...   \n",
       "8521   [-0.00958176982, 0.132991359, 0.110638149, -0....   \n",
       "15486  [0.00542273, 0.03291503, 0.03110102, -0.041141...   \n",
       "6073   [0.01779378, 0.07656814, 0.04537862, -0.068434...   \n",
       "5295   [0.00843999162, 0.0829844922, 0.0452356227, -0...   \n",
       "16654  [0.02647733, 0.05498864, 0.02742073, -0.052586...   \n",
       "7546   [0.03254354, 0.151406333, 0.112986684, -0.1147...   \n",
       "6070   [0.00203598198, 0.0549072325, 0.0141290911, -0...   \n",
       "8719   [0.003140721, 0.0225737467, 0.0285627823, -0.0...   \n",
       "192    [-0.00344713, 0.04547516, 0.03597684, -0.03887...   \n",
       "3396   [0.02527164, 0.06851064, 0.04863856, -0.063525...   \n",
       "11136  [0.00973241, 0.04888812, 0.02283165, -0.043598...   \n",
       "3562   [0.00203598198, 0.0549072325, 0.0141290911, -0...   \n",
       "513    [0.03990306, 0.12721115, 0.11389245, -0.115292...   \n",
       "3774   [0.0273059886, 0.13361977, 0.0845196024, -0.13...   \n",
       "\n",
       "                                             chem_PROvec  \n",
       "9081   [0.01797148, 0.0754578, 0.03839778, -0.0623064...  \n",
       "8521   [0.00479426, 0.04632955, 0.03276774, -0.048002...  \n",
       "15486  [-0.04381387, 0.23100519, 0.27509958, -0.24436...  \n",
       "6073   [-0.00405814, 0.23408134, 0.43241173, -0.28472...  \n",
       "5295   [0.01827934, 0.05094193, 0.03299038, -0.037763...  \n",
       "16654  [0.0170053709, 0.0377202183, 0.01631389, -0.02...  \n",
       "7546   [-0.00205167569, 0.0619231313, 0.0536780916, -...  \n",
       "6070   [-0.00405814, 0.23408134, 0.43241173, -0.28472...  \n",
       "8719   [0.01561068, 0.09810244, 0.05792096, -0.089170...  \n",
       "192    [0.0268701483, 0.0704930648, 0.0475564972, -0....  \n",
       "3396   [0.01479584, 0.07098291, 0.05005284, -0.070080...  \n",
       "11136  [0.00287108961, 0.0330768637, 0.0142359575, -0...  \n",
       "3562   [0.0011185708, 0.0846180692, 0.0561897717, -0....  \n",
       "513    [0.0121410303, 0.0568416081, 0.0321019553, -0....  \n",
       "3774   [0.00200186, 0.19315915, 0.16568755, -0.179609...  "
      ]
     },
     "execution_count": 103,
     "metadata": {},
     "output_type": "execute_result"
    }
   ],
   "source": [
    "df1.sample(15)"
   ]
  },
  {
   "cell_type": "markdown",
   "metadata": {},
   "source": [
    "### 2. Preprocess\n",
    "Now that we have the df ready, let's split it into train/test/validation sets and convert it into numpy arrays so it can be consumed by a Keras NN"
   ]
  },
  {
   "cell_type": "code",
   "execution_count": 104,
   "metadata": {},
   "outputs": [
    {
     "name": "stdout",
     "output_type": "stream",
     "text": [
      "8920\n",
      "(17739, 16)\n"
     ]
    }
   ],
   "source": [
    "print(df1[df1.Correlation == 1].shape[0])\n",
    "print(df1.shape)"
   ]
  },
  {
   "cell_type": "code",
   "execution_count": 105,
   "metadata": {},
   "outputs": [],
   "source": [
    "# del df1['chemPhenVecHP']\n",
    "# del df1['chemPhenVecMP']"
   ]
  },
  {
   "cell_type": "code",
   "execution_count": 106,
   "metadata": {},
   "outputs": [],
   "source": [
    "# # Optionally remove all rows with any empty vec\n",
    "# empty_vec = [0.0] * 200\n",
    "\n",
    "# for col in ['DVec', 'CVec', 'disPhenVecMP', 'disPhenVecHP', 'CHEBIvec', 'DOvec', 'dis_HINOvec', 'chem_HINOvec', 'dis_PROvec', 'chem_PROvec']:\n",
    "#     df1[col] = df1[col].map(lambda x: np.nan if x == empty_vec else x)\n",
    "    \n",
    "# df1 = df1.dropna()"
   ]
  },
  {
   "cell_type": "code",
   "execution_count": 107,
   "metadata": {},
   "outputs": [
    {
     "name": "stdout",
     "output_type": "stream",
     "text": [
      "8920\n",
      "8819\n",
      "(17739, 16)\n"
     ]
    }
   ],
   "source": [
    "print(df1[df1.Correlation == 1].shape[0])\n",
    "print(df1[df1.Correlation == 0].shape[0])\n",
    "print(df1.shape)"
   ]
  },
  {
   "cell_type": "code",
   "execution_count": 108,
   "metadata": {},
   "outputs": [],
   "source": [
    "# # Add unrelated pairs to df1\n",
    "# no_rows = (df1.shape[0]-1)    # This is a parameter to be tuned --> how many uncorrelated pairs do we want\n",
    "# print('shape: ', no_rows)\n",
    "\n",
    "# # Randomly select chems and diseases (as many as there are related pairs)\n",
    "# no_chems = len(df_chems) -1\n",
    "# no_dis = len(df_dis) -1\n",
    "# rand_chems = np.random.choice(no_chems, no_rows, replace=True)\n",
    "# rand_dis = np.random.choice(no_dis, no_rows, replace=True)\n",
    "\n",
    "# # Add the new pairs as rows\n",
    "# for x in range(0, no_rows):\n",
    "#     int1 = rand_chems[x]\n",
    "#     int2 = rand_dis[x]\n",
    "#     chem, chemvec = df_chems.loc[int1, 'ID'], df_chems.loc[int1, 'Vector']\n",
    "#     dis, disvec = df_dis.loc[int2, 'ID'], df_dis.loc[int2, 'Vector']\n",
    "#     df1 = df1.append({'ChemicalID':chem, 'DiseaseID':dis, 'CVec':chemvec, 'DVec':disvec, 'Correlation':0}, ignore_index=True)\n",
    "\n",
    "# print(df1.shape)\n",
    "# # Drop any duplicates (removes known correlated pairs accidentally generated as uncorrelated)\n",
    "# df1 = df1.drop_duplicates(subset=['ChemicalID', 'DiseaseID'], keep=False)\n",
    "# print(df1.shape)"
   ]
  },
  {
   "cell_type": "code",
   "execution_count": 109,
   "metadata": {},
   "outputs": [
    {
     "data": {
      "text/html": [
       "<div>\n",
       "<style scoped>\n",
       "    .dataframe tbody tr th:only-of-type {\n",
       "        vertical-align: middle;\n",
       "    }\n",
       "\n",
       "    .dataframe tbody tr th {\n",
       "        vertical-align: top;\n",
       "    }\n",
       "\n",
       "    .dataframe thead th {\n",
       "        text-align: right;\n",
       "    }\n",
       "</style>\n",
       "<table border=\"1\" class=\"dataframe\">\n",
       "  <thead>\n",
       "    <tr style=\"text-align: right;\">\n",
       "      <th></th>\n",
       "      <th>ChemicalID</th>\n",
       "      <th>DiseaseID</th>\n",
       "      <th>DVec</th>\n",
       "      <th>CVec</th>\n",
       "      <th>Correlation</th>\n",
       "      <th>DOID</th>\n",
       "      <th>disPhenVecMP</th>\n",
       "      <th>disPhenVecHP</th>\n",
       "      <th>chemPhenVecHP</th>\n",
       "      <th>chemPhenVecMP</th>\n",
       "      <th>CHEBIvec</th>\n",
       "      <th>DOvec</th>\n",
       "      <th>dis_HINOvec</th>\n",
       "      <th>chem_HINOvec</th>\n",
       "      <th>dis_PROvec</th>\n",
       "      <th>chem_PROvec</th>\n",
       "    </tr>\n",
       "  </thead>\n",
       "  <tbody>\n",
       "    <tr>\n",
       "      <th>3424</th>\n",
       "      <td>C009495</td>\n",
       "      <td>MESH:D001835</td>\n",
       "      <td>[0.00920603145, 0.0973070934, 0.0351556689, -0...</td>\n",
       "      <td>[-0.00726648467, 0.126510739, 0.0170243476, -0...</td>\n",
       "      <td>1</td>\n",
       "      <td>nan</td>\n",
       "      <td>[0.0, 0.0, 0.0, 0.0, 0.0, 0.0, 0.0, 0.0, 0.0, ...</td>\n",
       "      <td>[0.0, 0.0, 0.0, 0.0, 0.0, 0.0, 0.0, 0.0, 0.0, ...</td>\n",
       "      <td>[0.0, 0.0, 0.0, 0.0, 0.0, 0.0, 0.0, 0.0, 0.0, ...</td>\n",
       "      <td>[0.0, 0.0, 0.0, 0.0, 0.0, 0.0, 0.0, 0.0, 0.0, ...</td>\n",
       "      <td>[0.01673228, 0.05107352, 0.01984135, -0.049368...</td>\n",
       "      <td>[0.0045896, 0.02945916, 0.00977231, -0.0335088...</td>\n",
       "      <td>[0.0, 0.0, 0.0, 0.0, 0.0, 0.0, 0.0, 0.0, 0.0, ...</td>\n",
       "      <td>[0.0, 0.0, 0.0, 0.0, 0.0, 0.0, 0.0, 0.0, 0.0, ...</td>\n",
       "      <td>[0.0242674723, 0.0854913816, 0.0378196873, -0....</td>\n",
       "      <td>[0.033739455, 0.126468658, 0.0904662684, -0.11...</td>\n",
       "    </tr>\n",
       "    <tr>\n",
       "      <th>2205</th>\n",
       "      <td>D001194</td>\n",
       "      <td>MESH:C562839</td>\n",
       "      <td>[-0.03189189, 0.00939296, -0.1440971, -0.09915...</td>\n",
       "      <td>[0.0397586301, 0.105873264, 0.0360510647, -0.1...</td>\n",
       "      <td>1</td>\n",
       "      <td>DOID_1790</td>\n",
       "      <td>[0.03232187, 0.14070672, 0.06815372, -0.118035...</td>\n",
       "      <td>[0.0491305217, 0.154673696, 0.0611311123, -0.1...</td>\n",
       "      <td>[0.0, 0.0, 0.0, 0.0, 0.0, 0.0, 0.0, 0.0, 0.0, ...</td>\n",
       "      <td>[0.0, 0.0, 0.0, 0.0, 0.0, 0.0, 0.0, 0.0, 0.0, ...</td>\n",
       "      <td>[0.0, 0.0, 0.0, 0.0, 0.0, 0.0, 0.0, 0.0, 0.0, ...</td>\n",
       "      <td>[0.021826, 0.07482538, 0.04337686, -0.07295986...</td>\n",
       "      <td>[0.04161753, 0.1094508, 0.03755989, -0.0991282...</td>\n",
       "      <td>[0.00258917, 0.03898792, 0.01614428, -0.031344...</td>\n",
       "      <td>[0.02636068, 0.15477355, 0.11189451, -0.129928...</td>\n",
       "      <td>[0.0131534599, 0.0363772437, 0.0259348322, -0....</td>\n",
       "    </tr>\n",
       "  </tbody>\n",
       "</table>\n",
       "</div>"
      ],
      "text/plain": [
       "     ChemicalID     DiseaseID  \\\n",
       "3424    C009495  MESH:D001835   \n",
       "2205    D001194  MESH:C562839   \n",
       "\n",
       "                                                   DVec  \\\n",
       "3424  [0.00920603145, 0.0973070934, 0.0351556689, -0...   \n",
       "2205  [-0.03189189, 0.00939296, -0.1440971, -0.09915...   \n",
       "\n",
       "                                                   CVec  Correlation  \\\n",
       "3424  [-0.00726648467, 0.126510739, 0.0170243476, -0...            1   \n",
       "2205  [0.0397586301, 0.105873264, 0.0360510647, -0.1...            1   \n",
       "\n",
       "           DOID                                       disPhenVecMP  \\\n",
       "3424        nan  [0.0, 0.0, 0.0, 0.0, 0.0, 0.0, 0.0, 0.0, 0.0, ...   \n",
       "2205  DOID_1790  [0.03232187, 0.14070672, 0.06815372, -0.118035...   \n",
       "\n",
       "                                           disPhenVecHP  \\\n",
       "3424  [0.0, 0.0, 0.0, 0.0, 0.0, 0.0, 0.0, 0.0, 0.0, ...   \n",
       "2205  [0.0491305217, 0.154673696, 0.0611311123, -0.1...   \n",
       "\n",
       "                                          chemPhenVecHP  \\\n",
       "3424  [0.0, 0.0, 0.0, 0.0, 0.0, 0.0, 0.0, 0.0, 0.0, ...   \n",
       "2205  [0.0, 0.0, 0.0, 0.0, 0.0, 0.0, 0.0, 0.0, 0.0, ...   \n",
       "\n",
       "                                          chemPhenVecMP  \\\n",
       "3424  [0.0, 0.0, 0.0, 0.0, 0.0, 0.0, 0.0, 0.0, 0.0, ...   \n",
       "2205  [0.0, 0.0, 0.0, 0.0, 0.0, 0.0, 0.0, 0.0, 0.0, ...   \n",
       "\n",
       "                                               CHEBIvec  \\\n",
       "3424  [0.01673228, 0.05107352, 0.01984135, -0.049368...   \n",
       "2205  [0.0, 0.0, 0.0, 0.0, 0.0, 0.0, 0.0, 0.0, 0.0, ...   \n",
       "\n",
       "                                                  DOvec  \\\n",
       "3424  [0.0045896, 0.02945916, 0.00977231, -0.0335088...   \n",
       "2205  [0.021826, 0.07482538, 0.04337686, -0.07295986...   \n",
       "\n",
       "                                            dis_HINOvec  \\\n",
       "3424  [0.0, 0.0, 0.0, 0.0, 0.0, 0.0, 0.0, 0.0, 0.0, ...   \n",
       "2205  [0.04161753, 0.1094508, 0.03755989, -0.0991282...   \n",
       "\n",
       "                                           chem_HINOvec  \\\n",
       "3424  [0.0, 0.0, 0.0, 0.0, 0.0, 0.0, 0.0, 0.0, 0.0, ...   \n",
       "2205  [0.00258917, 0.03898792, 0.01614428, -0.031344...   \n",
       "\n",
       "                                             dis_PROvec  \\\n",
       "3424  [0.0242674723, 0.0854913816, 0.0378196873, -0....   \n",
       "2205  [0.02636068, 0.15477355, 0.11189451, -0.129928...   \n",
       "\n",
       "                                            chem_PROvec  \n",
       "3424  [0.033739455, 0.126468658, 0.0904662684, -0.11...  \n",
       "2205  [0.0131534599, 0.0363772437, 0.0259348322, -0....  "
      ]
     },
     "execution_count": 109,
     "metadata": {},
     "output_type": "execute_result"
    }
   ],
   "source": [
    "df1.sample(2)"
   ]
  },
  {
   "cell_type": "code",
   "execution_count": 110,
   "metadata": {},
   "outputs": [],
   "source": [
    "# # Version for phen and gofunc vecs\n",
    "# # For Keras, need to turn inputs into numpy arrays instead of pandas df\n",
    "# # First create single np array of all vecs... not pretty:\n",
    "# Dvecs = pd.DataFrame(df1.DVec.values.tolist(), index= df1.index)\n",
    "# Cvecs = pd.DataFrame(df1.CVec.values.tolist(), index= df1.index)\n",
    "# gofuncs = Dvecs.merge(Cvecs, how='outer', left_index=True, right_index=True)\n",
    "\n",
    "# DMPvecs = pd.DataFrame(df1.disPhenVecHP.values.tolist(), index= df1.index)\n",
    "# DHPvecs = pd.DataFrame(df1.disPhenVecMP.values.tolist(), index= df1.index)\n",
    "# disPvecs = DMPvecs.merge(DHPvecs, how='outer', left_index=True, right_index=True)\n",
    "\n",
    "# CMPvecs = pd.DataFrame(df1.chemPhenVecHP.values.tolist(), index= df1.index)\n",
    "# CHPvecs = pd.DataFrame(df1.chemPhenVecMP.values.tolist(), index= df1.index)\n",
    "# chemPvecs = CMPvecs.merge(CHPvecs, how='outer', left_index=True, right_index=True)\n",
    "\n",
    "# phenVecs = disPvecs.merge(chemPvecs, how='outer', left_index=True, right_index=True)\n",
    "# all_X = phenVecs.merge(gofuncs, how='outer', left_index=True, right_index=True)\n",
    "\n",
    "# all_X = np.array(all_X)"
   ]
  },
  {
   "cell_type": "code",
   "execution_count": 111,
   "metadata": {},
   "outputs": [],
   "source": [
    "# # Version for just gofunc vecs and CHEBI\n",
    "# # For Keras, need to turn inputs into numpy arrays instead of pandas df\n",
    "# # First create single np array of all vecs... not pretty:\n",
    "# Dvecs = pd.DataFrame(df1.DVec.values.tolist(), index= df1.index)\n",
    "# Cvecs = pd.DataFrame(df1.CVec.values.tolist(), index= df1.index)\n",
    "# all_X = Dvecs.merge(Cvecs, how='outer', left_index=True, right_index=True)\n",
    "\n",
    "# # CHEBvecs = pd.DataFrame(df1.CHEBIvec.values.tolist(), index = df1.index)\n",
    "# # all_X = CHEBvecs.merge(all_X, how='outer', left_index=True, right_index=True)\n",
    "# all_X = np.array(all_X)\n"
   ]
  },
  {
   "cell_type": "code",
   "execution_count": 112,
   "metadata": {},
   "outputs": [],
   "source": [
    "# # Version for just gofunc vecs and HINO and now PRO\n",
    "# # For Keras, need to turn inputs into numpy arrays instead of pandas df\n",
    "# # First create single np array of all vecs... not pretty:\n",
    "# Dvecs = pd.DataFrame(df1.DVec.values.tolist(), index= df1.index)\n",
    "# Cvecs = pd.DataFrame(df1.CVec.values.tolist(), index= df1.index)\n",
    "# all_X = Dvecs.merge(Cvecs, how='outer', left_index=True, right_index=True)\n",
    "\n",
    "# # dHINOvecs = pd.DataFrame(df1.dis_HINOvec.values.tolist(), index=df1.index)\n",
    "# # cHINOvecs = pd.DataFrame(df1.chem_HINOvec.values.tolist(), index=df1.index)\n",
    "# # hinovecs = cHINOvecs.merge(dHINOvecs, how='outer', left_index=True, right_index=True)\n",
    "# # all_X = all_X.merge(hinovecs, how='outer', left_index=True, right_index=True)\n",
    "\n",
    "# # dPROvecs = pd.DataFrame(df1.dis_PROvec.values.tolist(), index=df1.index)\n",
    "# # cPROvecs = pd.DataFrame(df1.chem_PROvec.values.tolist(), index=df1.index)\n",
    "# # PROvecs = cPROvecs.merge(dPROvecs, how='outer', left_index=True, right_index=True)\n",
    "# # all_X = PROvecs.merge(all_X, how='outer', left_index=True, right_index=True)\n",
    "\n",
    "# all_X = np.array(all_X)\n"
   ]
  },
  {
   "cell_type": "code",
   "execution_count": 113,
   "metadata": {},
   "outputs": [],
   "source": [
    "# # Version for  gofunc vecs and HINO and DO\n",
    "# # For Keras, need to turn inputs into numpy arrays instead of pandas df\n",
    "# # First create single np array of all vecs... not pretty:\n",
    "# Dvecs = pd.DataFrame(df1.DVec.values.tolist(), index= df1.index)\n",
    "# Cvecs = pd.DataFrame(df1.CVec.values.tolist(), index= df1.index)\n",
    "# all_X = Dvecs.merge(Cvecs, how='outer', left_index=True, right_index=True)\n",
    "\n",
    "# dHINOvecs = pd.DataFrame(df1.dis_HINOvec.values.tolist(), index=df1.index)\n",
    "# cHINOvecs = pd.DataFrame(df1.chem_HINOvec.values.tolist(), index=df1.index)\n",
    "# hinovecs = cHINOvecs.merge(dHINOvecs, how='outer', left_index=True, right_index=True)\n",
    "# all_X = all_X.merge(hinovecs, how='outer', left_index=True, right_index=True)\n",
    "\n",
    "# DOvecs = pd.DataFrame(df1.DOvec.values.tolist(), index = df1.index)\n",
    "# all_X = DOvecs.merge(all_X, how='outer', left_index=True, right_index=True)\n",
    "\n",
    "# all_X = np.array(all_X)\n"
   ]
  },
  {
   "cell_type": "code",
   "execution_count": 114,
   "metadata": {},
   "outputs": [],
   "source": [
    "# # ## Version for just CHEBI vecs\n",
    "# # For Keras, need to turn inputs into numpy arrays instead of pandas df\n",
    "# # First create single np array of all vecs... not pretty:\n",
    "# CHEBvecs = pd.DataFrame(df1.CHEBIvec.values.tolist(), index = df1.index)\n",
    "# all_X = np.array(CHEBvecs)"
   ]
  },
  {
   "cell_type": "code",
   "execution_count": 115,
   "metadata": {},
   "outputs": [],
   "source": [
    "# # Version for GoFuncs, Phens, CHEBI\n",
    "# # For Keras, need to turn inputs into numpy arrays instead of pandas df\n",
    "# # First create single np array of all vecs... not pretty:\n",
    "# Dvecs = pd.DataFrame(df1.DVec.values.tolist(), index= df1.index)\n",
    "# Cvecs = pd.DataFrame(df1.CVec.values.tolist(), index= df1.index)\n",
    "# gofuncs = Dvecs.merge(Cvecs, how='outer', left_index=True, right_index=True)\n",
    "\n",
    "# DMPvecs = pd.DataFrame(df1.disPhenVecHP.values.tolist(), index= df1.index)\n",
    "# DHPvecs = pd.DataFrame(df1.disPhenVecMP.values.tolist(), index= df1.index)\n",
    "# disPvecs = DMPvecs.merge(DHPvecs, how='outer', left_index=True, right_index=True)\n",
    "\n",
    "# CMPvecs = pd.DataFrame(df1.chemPhenVecHP.values.tolist(), index= df1.index)\n",
    "# CHPvecs = pd.DataFrame(df1.chemPhenVecMP.values.tolist(), index= df1.index)\n",
    "# chemPvecs = CMPvecs.merge(CHPvecs, how='outer', left_index=True, right_index=True)\n",
    "\n",
    "# phenVecs = disPvecs.merge(chemPvecs, how='outer', left_index=True, right_index=True)\n",
    "# all_X = phenVecs.merge(gofuncs, how='outer', left_index=True, right_index=True)\n",
    "\n",
    "# CHEBvecs = pd.DataFrame(df1.CHEBIvec.values.tolist(), index = df1.index)\n",
    "# all_X = CHEBvecs.merge(all_X, how='outer', left_index=True, right_index=True)\n",
    "\n",
    "# all_X = np.array(all_X)"
   ]
  },
  {
   "cell_type": "code",
   "execution_count": 116,
   "metadata": {},
   "outputs": [],
   "source": [
    "# # Version for GoFuncs, Phens, CHEBI, DO incl chem phen\n",
    "# # For Keras, need to turn inputs into numpy arrays instead of pandas df\n",
    "# # First create single np array of all vecs... not pretty:\n",
    "# Dvecs = pd.DataFrame(df1.DVec.values.tolist(), index= df1.index)\n",
    "# Cvecs = pd.DataFrame(df1.CVec.values.tolist(), index= df1.index)\n",
    "# gofuncs = Dvecs.merge(Cvecs, how='outer', left_index=True, right_index=True)\n",
    "\n",
    "# DMPvecs = pd.DataFrame(df1.disPhenVecHP.values.tolist(), index= df1.index)\n",
    "# DHPvecs = pd.DataFrame(df1.disPhenVecMP.values.tolist(), index= df1.index)\n",
    "# disPvecs = DMPvecs.merge(DHPvecs, how='outer', left_index=True, right_index=True)\n",
    "\n",
    "# CMPvecs = pd.DataFrame(df1.chemPhenVecHP.values.tolist(), index= df1.index)\n",
    "# CHPvecs = pd.DataFrame(df1.chemPhenVecMP.values.tolist(), index= df1.index)\n",
    "# chemPvecs = CMPvecs.merge(CHPvecs, how='outer', left_index=True, right_index=True)\n",
    "\n",
    "# phenVecs = disPvecs.merge(chemPvecs, how='outer', left_index=True, right_index=True)\n",
    "# all_X = phenVecs.merge(gofuncs, how='outer', left_index=True, right_index=True)\n",
    "\n",
    "# CHEBvecs = pd.DataFrame(df1.CHEBIvec.values.tolist(), index = df1.index)\n",
    "# all_X = CHEBvecs.merge(all_X, how='outer', left_index=True, right_index=True)\n",
    "\n",
    "# DOvecs = pd.DataFrame(df1.DOvec.values.tolist(), index = df1.index)\n",
    "# all_X = DOvecs.merge(all_X, how='outer', left_index=True, right_index=True)\n",
    "\n",
    "# all_X = np.array(all_X)"
   ]
  },
  {
   "cell_type": "code",
   "execution_count": 117,
   "metadata": {},
   "outputs": [],
   "source": [
    "# # Version for GoFuncs, Phens, CHEBI, DO EXCL chem phen\n",
    "# # For Keras, need to turn inputs into numpy arrays instead of pandas df\n",
    "# # First create single np array of all vecs... not pretty:\n",
    "# Dvecs = pd.DataFrame(df1.DVec.values.tolist(), index= df1.index)\n",
    "# Cvecs = pd.DataFrame(df1.CVec.values.tolist(), index= df1.index)\n",
    "# gofuncs = Dvecs.merge(Cvecs, how='outer', left_index=True, right_index=True)\n",
    "\n",
    "# DMPvecs = pd.DataFrame(df1.disPhenVecHP.values.tolist(), index= df1.index)\n",
    "# DHPvecs = pd.DataFrame(df1.disPhenVecMP.values.tolist(), index= df1.index)\n",
    "# disPvecs = DMPvecs.merge(DHPvecs, how='outer', left_index=True, right_index=True)\n",
    "\n",
    "# all_X = disPvecs.merge(gofuncs, how='outer', left_index=True, right_index=True)\n",
    "\n",
    "# CHEBvecs = pd.DataFrame(df1.CHEBIvec.values.tolist(), index = df1.index)\n",
    "# all_X = CHEBvecs.merge(all_X, how='outer', left_index=True, right_index=True)\n",
    "\n",
    "# DOvecs = pd.DataFrame(df1.DOvec.values.tolist(), index = df1.index)\n",
    "# all_X = DOvecs.merge(all_X, how='outer', left_index=True, right_index=True)\n",
    "\n",
    "# all_X = np.array(all_X)"
   ]
  },
  {
   "cell_type": "code",
   "execution_count": 145,
   "metadata": {},
   "outputs": [],
   "source": [
    "# # Version for GoFuncs, Phens, CHEBI, DO, HINO, -- EXCL chem phen\n",
    "# # For Keras, need to turn inputs into numpy arrays instead of pandas df\n",
    "# # First create single np array of all vecs... not pretty:\n",
    "# Dvecs = pd.DataFrame(df1.DVec.values.tolist(), index= df1.index)\n",
    "# Cvecs = pd.DataFrame(df1.CVec.values.tolist(), index= df1.index)\n",
    "# gofuncs = Dvecs.merge(Cvecs, how='outer', left_index=True, right_index=True)\n",
    "\n",
    "# DMPvecs = pd.DataFrame(df1.disPhenVecHP.values.tolist(), index= df1.index)\n",
    "# DHPvecs = pd.DataFrame(df1.disPhenVecMP.values.tolist(), index= df1.index)\n",
    "# disPvecs = DMPvecs.merge(DHPvecs, how='outer', left_index=True, right_index=True)\n",
    "\n",
    "# all_X = disPvecs.merge(gofuncs, how='outer', left_index=True, right_index=True)\n",
    "\n",
    "# CHEBvecs = pd.DataFrame(df1.CHEBIvec.values.tolist(), index = df1.index)\n",
    "# all_X = CHEBvecs.merge(all_X, how='outer', left_index=True, right_index=True)\n",
    "\n",
    "# DOvecs = pd.DataFrame(df1.DOvec.values.tolist(), index = df1.index)\n",
    "# all_X = DOvecs.merge(all_X, how='outer', left_index=True, right_index=True)\n",
    "\n",
    "# dHINOvecs = pd.DataFrame(df1.dis_HINOvec.values.tolist(), index=df1.index)\n",
    "# cHINOvecs = pd.DataFrame(df1.chem_HINOvec.values.tolist(), index=df1.index)\n",
    "# hinovecs = cHINOvecs.merge(dHINOvecs, how='outer', left_index=True, right_index=True)\n",
    "# all_X = all_X.merge(hinovecs, how='outer', left_index=True, right_index=True)\n",
    "\n",
    "# all_X = np.array(all_X)"
   ]
  },
  {
   "cell_type": "code",
   "execution_count": 146,
   "metadata": {},
   "outputs": [],
   "source": [
    "# Version for GoFuncs, DIS-Phens, CHEBI, DO, HINO, PRO\n",
    "# For Keras, need to turn inputs into numpy arrays instead of pandas df\n",
    "# First create single np array of all vecs... not pretty:\n",
    "Dvecs = pd.DataFrame(df1.DVec.values.tolist(), index= df1.index)\n",
    "Cvecs = pd.DataFrame(df1.CVec.values.tolist(), index= df1.index)\n",
    "gofuncs = Dvecs.merge(Cvecs, how='outer', left_index=True, right_index=True)\n",
    "\n",
    "all_X = Dvecs.merge(Cvecs, how='outer', left_index=True, right_index=True)\n",
    "# DMPvecs = pd.DataFrame(df1.disPhenVecHP.values.tolist(), index= df1.index)\n",
    "# DHPvecs = pd.DataFrame(df1.disPhenVecMP.values.tolist(), index= df1.index)\n",
    "# disPvecs = DMPvecs.merge(DHPvecs, how='outer', left_index=True, right_index=True)\n",
    "# all_X = disPvecs.merge(gofuncs, how='outer', left_index=True, right_index=True)\n",
    "\n",
    "CHEBvecs = pd.DataFrame(df1.CHEBIvec.values.tolist(), index = df1.index)\n",
    "all_X = CHEBvecs.merge(all_X, how='outer', left_index=True, right_index=True)\n",
    "\n",
    "DOvecs = pd.DataFrame(df1.DOvec.values.tolist(), index = df1.index)\n",
    "all_X = DOvecs.merge(all_X, how='outer', left_index=True, right_index=True)\n",
    "\n",
    "dHINOvecs = pd.DataFrame(df1.dis_HINOvec.values.tolist(), index=df1.index)\n",
    "cHINOvecs = pd.DataFrame(df1.chem_HINOvec.values.tolist(), index=df1.index)\n",
    "hinovecs = cHINOvecs.merge(dHINOvecs, how='outer', left_index=True, right_index=True)\n",
    "all_X = all_X.merge(hinovecs, how='outer', left_index=True, right_index=True)\n",
    "\n",
    "dPROvecs = pd.DataFrame(df1.dis_PROvec.values.tolist(), index=df1.index)\n",
    "cPROvecs = pd.DataFrame(df1.chem_PROvec.values.tolist(), index=df1.index)\n",
    "PROvecs = cPROvecs.merge(dPROvecs, how='outer', left_index=True, right_index=True)\n",
    "all_X = PROvecs.merge(all_X, how='outer', left_index=True, right_index=True)\n",
    "\n",
    "all_X = np.array(all_X)"
   ]
  },
  {
   "cell_type": "code",
   "execution_count": 147,
   "metadata": {},
   "outputs": [],
   "source": [
    "# # Version for gofunc vecs and HINO\n",
    "# # For Keras, need to turn inputs into numpy arrays instead of pandas df\n",
    "# # First create single np array of all vecs... not pretty:\n",
    "# Dvecs = pd.DataFrame(df1.DVec.values.tolist(), index= df1.index)\n",
    "# Cvecs = pd.DataFrame(df1.CVec.values.tolist(), index= df1.index)\n",
    "# all_X = Dvecs.merge(Cvecs, how='outer', left_index=True, right_index=True)\n",
    "\n",
    "# dHINOvecs = pd.DataFrame(df1.dis_HINOvec.values.tolist(), index=df1.index)\n",
    "# cHINOvecs = pd.DataFrame(df1.chem_HINOvec.values.tolist(), index=df1.index)\n",
    "# hinovecs = cHINOvecs.merge(dHINOvecs, how='outer', left_index=True, right_index=True)\n",
    "# all_X = all_X.merge(hinovecs, how='outer', left_index=True, right_index=True)\n",
    "\n",
    "# all_X = np.array(all_X)\n"
   ]
  },
  {
   "cell_type": "code",
   "execution_count": 148,
   "metadata": {},
   "outputs": [],
   "source": [
    "# # Version for disphen and gofunc vecs\n",
    "# # For Keras, need to turn inputs into numpy arrays instead of pandas df\n",
    "# # First create single np array of all vecs... not pretty:\n",
    "# Dvecs = pd.DataFrame(df1.DVec.values.tolist(), index= df1.index)\n",
    "# Cvecs = pd.DataFrame(df1.CVec.values.tolist(), index= df1.index)\n",
    "# gofuncs = Dvecs.merge(Cvecs, how='outer', left_index=True, right_index=True)\n",
    "\n",
    "# DMPvecs = pd.DataFrame(df1.disPhenVecHP.values.tolist(), index= df1.index)\n",
    "# DHPvecs = pd.DataFrame(df1.disPhenVecMP.values.tolist(), index= df1.index)\n",
    "# disPvecs = DMPvecs.merge(DHPvecs, how='outer', left_index=True, right_index=True)\n",
    "\n",
    "# all_X = disPvecs.merge(gofuncs, how='outer', left_index=True, right_index=True)\n",
    "\n",
    "# all_X = np.array(all_X)"
   ]
  },
  {
   "cell_type": "code",
   "execution_count": 149,
   "metadata": {},
   "outputs": [],
   "source": [
    "# # Version for CHEBI, disphen and gofunc vecs\n",
    "# # For Keras, need to turn inputs into numpy arrays instead of pandas df\n",
    "# # First create single np array of all vecs... not pretty:\n",
    "# Dvecs = pd.DataFrame(df1.DVec.values.tolist(), index= df1.index)\n",
    "# Cvecs = pd.DataFrame(df1.CVec.values.tolist(), index= df1.index)\n",
    "# gofuncs = Dvecs.merge(Cvecs, how='outer', left_index=True, right_index=True)\n",
    "\n",
    "# DMPvecs = pd.DataFrame(df1.disPhenVecHP.values.tolist(), index= df1.index)\n",
    "# DHPvecs = pd.DataFrame(df1.disPhenVecMP.values.tolist(), index= df1.index)\n",
    "# disPvecs = DMPvecs.merge(DHPvecs, how='outer', left_index=True, right_index=True)\n",
    "\n",
    "# all_X = disPvecs.merge(gofuncs, how='outer', left_index=True, right_index=True)\n",
    "\n",
    "# CHEBvecs = pd.DataFrame(df1.CHEBIvec.values.tolist(), index = df1.index)\n",
    "# all_X = CHEBvecs.merge(all_X, how='outer', left_index=True, right_index=True)\n",
    "\n",
    "# all_X = np.array(all_X)"
   ]
  },
  {
   "cell_type": "code",
   "execution_count": 150,
   "metadata": {},
   "outputs": [],
   "source": [
    "# Now create np array of the y output\n",
    "all_y = np.array(df1.Correlation)"
   ]
  },
  {
   "cell_type": "code",
   "execution_count": 151,
   "metadata": {},
   "outputs": [
    {
     "name": "stdout",
     "output_type": "stream",
     "text": [
      "y shape:  (17739,)\n",
      "X shape:  (17739, 1600)\n"
     ]
    }
   ],
   "source": [
    "print('y shape: ', all_y.shape)\n",
    "print('X shape: ', all_X.shape)\n",
    "# y shape:  (17675,)\n",
    "# X shape:  (17675, 2000)"
   ]
  },
  {
   "cell_type": "code",
   "execution_count": 152,
   "metadata": {},
   "outputs": [],
   "source": [
    "# # Create training, test, val set in a way that we can later look at the rows of each BY ROWS\n",
    "# total_rows = len(all_X)\n",
    "# row_numbers = list(range(0, total_rows))\n",
    "\n",
    "# training_rows = random.sample(row_numbers, int(round(total_rows * .6)))\n",
    "# row_numbers = set(row_numbers) - set(training_rows)\n",
    "\n",
    "# test_rows = random.sample(row_numbers, int(round(total_rows * .2)))\n",
    "# row_numbers = set(row_numbers) - set(test_rows)\n",
    "\n",
    "# val_rows = list(row_numbers)"
   ]
  },
  {
   "cell_type": "code",
   "execution_count": 153,
   "metadata": {},
   "outputs": [
    {
     "data": {
      "text/html": [
       "<div>\n",
       "<style scoped>\n",
       "    .dataframe tbody tr th:only-of-type {\n",
       "        vertical-align: middle;\n",
       "    }\n",
       "\n",
       "    .dataframe tbody tr th {\n",
       "        vertical-align: top;\n",
       "    }\n",
       "\n",
       "    .dataframe thead th {\n",
       "        text-align: right;\n",
       "    }\n",
       "</style>\n",
       "<table border=\"1\" class=\"dataframe\">\n",
       "  <thead>\n",
       "    <tr style=\"text-align: right;\">\n",
       "      <th></th>\n",
       "      <th>index</th>\n",
       "      <th>ChemicalID</th>\n",
       "      <th>DiseaseID</th>\n",
       "      <th>DVec</th>\n",
       "      <th>CVec</th>\n",
       "      <th>Correlation</th>\n",
       "      <th>DOID</th>\n",
       "      <th>disPhenVecMP</th>\n",
       "      <th>disPhenVecHP</th>\n",
       "      <th>chemPhenVecHP</th>\n",
       "      <th>chemPhenVecMP</th>\n",
       "      <th>CHEBIvec</th>\n",
       "      <th>DOvec</th>\n",
       "      <th>dis_HINOvec</th>\n",
       "      <th>chem_HINOvec</th>\n",
       "      <th>dis_PROvec</th>\n",
       "      <th>chem_PROvec</th>\n",
       "      <th>train</th>\n",
       "      <th>test</th>\n",
       "      <th>val</th>\n",
       "    </tr>\n",
       "  </thead>\n",
       "  <tbody>\n",
       "    <tr>\n",
       "      <th>3881</th>\n",
       "      <td>3881</td>\n",
       "      <td>D001241</td>\n",
       "      <td>MESH:D009123</td>\n",
       "      <td>[0.02508651, 0.13309084, 0.03080232, -0.129113...</td>\n",
       "      <td>[0.03713912, 0.10391551, 0.02771921, -0.145918...</td>\n",
       "      <td>1</td>\n",
       "      <td>nan</td>\n",
       "      <td>[0.0, 0.0, 0.0, 0.0, 0.0, 0.0, 0.0, 0.0, 0.0, ...</td>\n",
       "      <td>[0.0, 0.0, 0.0, 0.0, 0.0, 0.0, 0.0, 0.0, 0.0, ...</td>\n",
       "      <td>[0.0, 0.0, 0.0, 0.0, 0.0, 0.0, 0.0, 0.0, 0.0, ...</td>\n",
       "      <td>[0.0, 0.0, 0.0, 0.0, 0.0, 0.0, 0.0, 0.0, 0.0, ...</td>\n",
       "      <td>[0.0184174199, 0.0668946803, 0.0252821874, -0....</td>\n",
       "      <td>[0.006043354, 0.023465782, 0.01317929, -0.0222...</td>\n",
       "      <td>[0.0, 0.0, 0.0, 0.0, 0.0, 0.0, 0.0, 0.0, 0.0, ...</td>\n",
       "      <td>[0.0, 0.0, 0.0, 0.0, 0.0, 0.0, 0.0, 0.0, 0.0, ...</td>\n",
       "      <td>[0.0159913134, 0.0564653315, 0.0332531519, -0....</td>\n",
       "      <td>[0.0238850042, 0.0465743989, 0.0235182773, -0....</td>\n",
       "      <td>False</td>\n",
       "      <td>False</td>\n",
       "      <td>True</td>\n",
       "    </tr>\n",
       "    <tr>\n",
       "      <th>16781</th>\n",
       "      <td>16828</td>\n",
       "      <td>C121718</td>\n",
       "      <td>MESH:C536681</td>\n",
       "      <td>[0.01306064, 0.08860084, -0.01285376, -0.10156...</td>\n",
       "      <td>[0.0299198795, 0.0954524949, -0.0650809482, -0...</td>\n",
       "      <td>0</td>\n",
       "      <td>None</td>\n",
       "      <td>[0.0, 0.0, 0.0, 0.0, 0.0, 0.0, 0.0, 0.0, 0.0, ...</td>\n",
       "      <td>[0.0, 0.0, 0.0, 0.0, 0.0, 0.0, 0.0, 0.0, 0.0, ...</td>\n",
       "      <td>[0.0, 0.0, 0.0, 0.0, 0.0, 0.0, 0.0, 0.0, 0.0, ...</td>\n",
       "      <td>[0.0, 0.0, 0.0, 0.0, 0.0, 0.0, 0.0, 0.0, 0.0, ...</td>\n",
       "      <td>[0.0, 0.0, 0.0, 0.0, 0.0, 0.0, 0.0, 0.0, 0.0, ...</td>\n",
       "      <td>[0.0231296923, 0.0709957108, 0.0400507301, -0....</td>\n",
       "      <td>[0.0, 0.0, 0.0, 0.0, 0.0, 0.0, 0.0, 0.0, 0.0, ...</td>\n",
       "      <td>[0.01604613, 0.08075477, 0.03004513, -0.072572...</td>\n",
       "      <td>[0.00468056882, 0.0930137709, 0.0755051151, -0...</td>\n",
       "      <td>[0.03986389, 0.12401707, 0.06463609, -0.093429...</td>\n",
       "      <td>True</td>\n",
       "      <td>False</td>\n",
       "      <td>False</td>\n",
       "    </tr>\n",
       "    <tr>\n",
       "      <th>1915</th>\n",
       "      <td>1915</td>\n",
       "      <td>D013629</td>\n",
       "      <td>MESH:D054556</td>\n",
       "      <td>[0.01002321, 0.13234684, -0.01470905, -0.11007...</td>\n",
       "      <td>[0.02523736, 0.11231139, 0.04103009, -0.131061...</td>\n",
       "      <td>1</td>\n",
       "      <td>nan</td>\n",
       "      <td>[0.0, 0.0, 0.0, 0.0, 0.0, 0.0, 0.0, 0.0, 0.0, ...</td>\n",
       "      <td>[0.0, 0.0, 0.0, 0.0, 0.0, 0.0, 0.0, 0.0, 0.0, ...</td>\n",
       "      <td>[0.0, 0.0, 0.0, 0.0, 0.0, 0.0, 0.0, 0.0, 0.0, ...</td>\n",
       "      <td>[0.0, 0.0, 0.0, 0.0, 0.0, 0.0, 0.0, 0.0, 0.0, ...</td>\n",
       "      <td>[0.0, 0.0, 0.0, 0.0, 0.0, 0.0, 0.0, 0.0, 0.0, ...</td>\n",
       "      <td>[0.00731147872, 0.01747212, 0.0144882556, -0.0...</td>\n",
       "      <td>[0.01205757, 0.06426638, 0.03854274, -0.063006...</td>\n",
       "      <td>[0.0, 0.0, 0.0, 0.0, 0.0, 0.0, 0.0, 0.0, 0.0, ...</td>\n",
       "      <td>[0.0201316066, 0.0899444893, 0.0486124232, -0....</td>\n",
       "      <td>[0.01090328, 0.08778974, 0.06322137, -0.093296...</td>\n",
       "      <td>True</td>\n",
       "      <td>False</td>\n",
       "      <td>False</td>\n",
       "    </tr>\n",
       "  </tbody>\n",
       "</table>\n",
       "</div>"
      ],
      "text/plain": [
       "       index ChemicalID     DiseaseID  \\\n",
       "3881    3881    D001241  MESH:D009123   \n",
       "16781  16828    C121718  MESH:C536681   \n",
       "1915    1915    D013629  MESH:D054556   \n",
       "\n",
       "                                                    DVec  \\\n",
       "3881   [0.02508651, 0.13309084, 0.03080232, -0.129113...   \n",
       "16781  [0.01306064, 0.08860084, -0.01285376, -0.10156...   \n",
       "1915   [0.01002321, 0.13234684, -0.01470905, -0.11007...   \n",
       "\n",
       "                                                    CVec  Correlation  DOID  \\\n",
       "3881   [0.03713912, 0.10391551, 0.02771921, -0.145918...            1   nan   \n",
       "16781  [0.0299198795, 0.0954524949, -0.0650809482, -0...            0  None   \n",
       "1915   [0.02523736, 0.11231139, 0.04103009, -0.131061...            1   nan   \n",
       "\n",
       "                                            disPhenVecMP  \\\n",
       "3881   [0.0, 0.0, 0.0, 0.0, 0.0, 0.0, 0.0, 0.0, 0.0, ...   \n",
       "16781  [0.0, 0.0, 0.0, 0.0, 0.0, 0.0, 0.0, 0.0, 0.0, ...   \n",
       "1915   [0.0, 0.0, 0.0, 0.0, 0.0, 0.0, 0.0, 0.0, 0.0, ...   \n",
       "\n",
       "                                            disPhenVecHP  \\\n",
       "3881   [0.0, 0.0, 0.0, 0.0, 0.0, 0.0, 0.0, 0.0, 0.0, ...   \n",
       "16781  [0.0, 0.0, 0.0, 0.0, 0.0, 0.0, 0.0, 0.0, 0.0, ...   \n",
       "1915   [0.0, 0.0, 0.0, 0.0, 0.0, 0.0, 0.0, 0.0, 0.0, ...   \n",
       "\n",
       "                                           chemPhenVecHP  \\\n",
       "3881   [0.0, 0.0, 0.0, 0.0, 0.0, 0.0, 0.0, 0.0, 0.0, ...   \n",
       "16781  [0.0, 0.0, 0.0, 0.0, 0.0, 0.0, 0.0, 0.0, 0.0, ...   \n",
       "1915   [0.0, 0.0, 0.0, 0.0, 0.0, 0.0, 0.0, 0.0, 0.0, ...   \n",
       "\n",
       "                                           chemPhenVecMP  \\\n",
       "3881   [0.0, 0.0, 0.0, 0.0, 0.0, 0.0, 0.0, 0.0, 0.0, ...   \n",
       "16781  [0.0, 0.0, 0.0, 0.0, 0.0, 0.0, 0.0, 0.0, 0.0, ...   \n",
       "1915   [0.0, 0.0, 0.0, 0.0, 0.0, 0.0, 0.0, 0.0, 0.0, ...   \n",
       "\n",
       "                                                CHEBIvec  \\\n",
       "3881   [0.0184174199, 0.0668946803, 0.0252821874, -0....   \n",
       "16781  [0.0, 0.0, 0.0, 0.0, 0.0, 0.0, 0.0, 0.0, 0.0, ...   \n",
       "1915   [0.0, 0.0, 0.0, 0.0, 0.0, 0.0, 0.0, 0.0, 0.0, ...   \n",
       "\n",
       "                                                   DOvec  \\\n",
       "3881   [0.006043354, 0.023465782, 0.01317929, -0.0222...   \n",
       "16781  [0.0231296923, 0.0709957108, 0.0400507301, -0....   \n",
       "1915   [0.00731147872, 0.01747212, 0.0144882556, -0.0...   \n",
       "\n",
       "                                             dis_HINOvec  \\\n",
       "3881   [0.0, 0.0, 0.0, 0.0, 0.0, 0.0, 0.0, 0.0, 0.0, ...   \n",
       "16781  [0.0, 0.0, 0.0, 0.0, 0.0, 0.0, 0.0, 0.0, 0.0, ...   \n",
       "1915   [0.01205757, 0.06426638, 0.03854274, -0.063006...   \n",
       "\n",
       "                                            chem_HINOvec  \\\n",
       "3881   [0.0, 0.0, 0.0, 0.0, 0.0, 0.0, 0.0, 0.0, 0.0, ...   \n",
       "16781  [0.01604613, 0.08075477, 0.03004513, -0.072572...   \n",
       "1915   [0.0, 0.0, 0.0, 0.0, 0.0, 0.0, 0.0, 0.0, 0.0, ...   \n",
       "\n",
       "                                              dis_PROvec  \\\n",
       "3881   [0.0159913134, 0.0564653315, 0.0332531519, -0....   \n",
       "16781  [0.00468056882, 0.0930137709, 0.0755051151, -0...   \n",
       "1915   [0.0201316066, 0.0899444893, 0.0486124232, -0....   \n",
       "\n",
       "                                             chem_PROvec  train   test    val  \n",
       "3881   [0.0238850042, 0.0465743989, 0.0235182773, -0....  False  False   True  \n",
       "16781  [0.03986389, 0.12401707, 0.06463609, -0.093429...   True  False  False  \n",
       "1915   [0.01090328, 0.08778974, 0.06322137, -0.093296...   True  False  False  "
      ]
     },
     "execution_count": 153,
     "metadata": {},
     "output_type": "execute_result"
    }
   ],
   "source": [
    "df1.sample(3)"
   ]
  },
  {
   "cell_type": "code",
   "execution_count": 154,
   "metadata": {},
   "outputs": [
    {
     "name": "stdout",
     "output_type": "stream",
     "text": [
      "number of chemicals:  586\n",
      "number of dis:  2492\n",
      "352 117 117\n"
     ]
    }
   ],
   "source": [
    "# Split into train, test, val BY CHEMICAL instead of by random rows\n",
    "print('number of chemicals: ', len(df1.ChemicalID.unique()))\n",
    "print('number of dis: ', len(df1.DiseaseID.unique()))\n",
    "chems = list(df1.ChemicalID.unique())\n",
    "random.shuffle(chems)\n",
    "\n",
    "total_chems = len(chems)\n",
    "train_chems = chems[:round(total_chems * .6)]\n",
    "test_chems = chems[round(total_chems * .6):round(total_chems * .8)]\n",
    "val_chems = chems[round(total_chems * .8):]\n",
    "\n",
    "print(len(train_chems), len(test_chems), len(val_chems))\n",
    "\n",
    "# Now get the row numbers for each set of chemicals \n",
    "# number of chemicals:  586\n",
    "# number of dis:  2504\n",
    "# 352 117 117"
   ]
  },
  {
   "cell_type": "code",
   "execution_count": 155,
   "metadata": {},
   "outputs": [],
   "source": [
    "# # Export the chemical list, this will be used to ensure validation test sets don't overlap with this db\n",
    "# np.savetxt(r'chemsInNN.txt', chems, fmt='%s')"
   ]
  },
  {
   "cell_type": "code",
   "execution_count": 156,
   "metadata": {},
   "outputs": [],
   "source": [
    "df1['train'] = df1.ChemicalID.isin(train_chems)\n",
    "df1['test'] = df1.ChemicalID.isin(test_chems)\n",
    "df1['val'] = df1.ChemicalID.isin(val_chems)"
   ]
  },
  {
   "cell_type": "code",
   "execution_count": 157,
   "metadata": {},
   "outputs": [
    {
     "name": "stdout",
     "output_type": "stream",
     "text": [
      "number of chemicals:  586\n",
      "number of dis:  2492\n"
     ]
    }
   ],
   "source": [
    "# Split by CHEMICAL instead of by random rows\n",
    "print('number of chemicals: ', len(df1.ChemicalID.unique()))\n",
    "print('number of dis: ', len(df1.DiseaseID.unique()))\n",
    "chems = list(df1.ChemicalID.unique())\n",
    "df1 = df1.reset_index()\n",
    "training_rows = df1.index[df1.train == True].tolist()\n",
    "test_rows = df1.index[df1.test == True].tolist()\n",
    "val_rows = df1.index[df1.val == True].tolist()"
   ]
  },
  {
   "cell_type": "code",
   "execution_count": 158,
   "metadata": {},
   "outputs": [],
   "source": [
    "testers = df1[df1.test == True]"
   ]
  },
  {
   "cell_type": "code",
   "execution_count": 159,
   "metadata": {},
   "outputs": [
    {
     "data": {
      "text/html": [
       "<div>\n",
       "<style scoped>\n",
       "    .dataframe tbody tr th:only-of-type {\n",
       "        vertical-align: middle;\n",
       "    }\n",
       "\n",
       "    .dataframe tbody tr th {\n",
       "        vertical-align: top;\n",
       "    }\n",
       "\n",
       "    .dataframe thead th {\n",
       "        text-align: right;\n",
       "    }\n",
       "</style>\n",
       "<table border=\"1\" class=\"dataframe\">\n",
       "  <thead>\n",
       "    <tr style=\"text-align: right;\">\n",
       "      <th></th>\n",
       "      <th>level_0</th>\n",
       "      <th>index</th>\n",
       "      <th>ChemicalID</th>\n",
       "      <th>DiseaseID</th>\n",
       "      <th>DVec</th>\n",
       "      <th>CVec</th>\n",
       "      <th>Correlation</th>\n",
       "      <th>DOID</th>\n",
       "      <th>disPhenVecMP</th>\n",
       "      <th>disPhenVecHP</th>\n",
       "      <th>...</th>\n",
       "      <th>chemPhenVecMP</th>\n",
       "      <th>CHEBIvec</th>\n",
       "      <th>DOvec</th>\n",
       "      <th>dis_HINOvec</th>\n",
       "      <th>chem_HINOvec</th>\n",
       "      <th>dis_PROvec</th>\n",
       "      <th>chem_PROvec</th>\n",
       "      <th>train</th>\n",
       "      <th>test</th>\n",
       "      <th>val</th>\n",
       "    </tr>\n",
       "  </thead>\n",
       "  <tbody>\n",
       "    <tr>\n",
       "      <th>571</th>\n",
       "      <td>571</td>\n",
       "      <td>571</td>\n",
       "      <td>D002784</td>\n",
       "      <td>MESH:D006528</td>\n",
       "      <td>[-0.0826218948, 0.0322816819, -0.121060327, -0...</td>\n",
       "      <td>[0.0237758458, 0.112366423, 0.0132318381, -0.1...</td>\n",
       "      <td>1</td>\n",
       "      <td>DOID_684</td>\n",
       "      <td>[0.0372420028, 0.145345554, 0.0668880194, -0.1...</td>\n",
       "      <td>[0.034970928, 0.147648811, 0.0651874393, -0.11...</td>\n",
       "      <td>...</td>\n",
       "      <td>[0.0, 0.0, 0.0, 0.0, 0.0, 0.0, 0.0, 0.0, 0.0, ...</td>\n",
       "      <td>[0.0211055465, 0.0780185536, 0.0248117764, -0....</td>\n",
       "      <td>[-0.00669117, 0.06971597, 0.03065702, -0.06519...</td>\n",
       "      <td>[0.017662406, 0.0882318914, 0.0445542857, -0.0...</td>\n",
       "      <td>[0.0, 0.0, 0.0, 0.0, 0.0, 0.0, 0.0, 0.0, 0.0, ...</td>\n",
       "      <td>[0.00526265, 0.13656862, 0.10465749, -0.126299...</td>\n",
       "      <td>[0.01861728, 0.0812533, 0.05324019, -0.0746743...</td>\n",
       "      <td>False</td>\n",
       "      <td>True</td>\n",
       "      <td>False</td>\n",
       "    </tr>\n",
       "    <tr>\n",
       "      <th>572</th>\n",
       "      <td>572</td>\n",
       "      <td>572</td>\n",
       "      <td>D002784</td>\n",
       "      <td>MESH:D006529</td>\n",
       "      <td>[-0.02036812, 0.09344074, -0.08194942, -0.1507...</td>\n",
       "      <td>[0.0237758458, 0.112366423, 0.0132318381, -0.1...</td>\n",
       "      <td>1</td>\n",
       "      <td>nan</td>\n",
       "      <td>[0.0, 0.0, 0.0, 0.0, 0.0, 0.0, 0.0, 0.0, 0.0, ...</td>\n",
       "      <td>[0.0, 0.0, 0.0, 0.0, 0.0, 0.0, 0.0, 0.0, 0.0, ...</td>\n",
       "      <td>...</td>\n",
       "      <td>[0.0, 0.0, 0.0, 0.0, 0.0, 0.0, 0.0, 0.0, 0.0, ...</td>\n",
       "      <td>[0.0211055465, 0.0780185536, 0.0248117764, -0....</td>\n",
       "      <td>[0.00442429, 0.02501368, 0.01620419, -0.024251...</td>\n",
       "      <td>[0.0262603536, 0.0958174169, 0.0440592952, -0....</td>\n",
       "      <td>[0.0, 0.0, 0.0, 0.0, 0.0, 0.0, 0.0, 0.0, 0.0, ...</td>\n",
       "      <td>[0.0273059886, 0.13361977, 0.0845196024, -0.13...</td>\n",
       "      <td>[0.01861728, 0.0812533, 0.05324019, -0.0746743...</td>\n",
       "      <td>False</td>\n",
       "      <td>True</td>\n",
       "      <td>False</td>\n",
       "    </tr>\n",
       "    <tr>\n",
       "      <th>573</th>\n",
       "      <td>573</td>\n",
       "      <td>573</td>\n",
       "      <td>D002784</td>\n",
       "      <td>MESH:D006965</td>\n",
       "      <td>[0.01746579, 0.14595346, 0.05720224, -0.153178...</td>\n",
       "      <td>[0.0237758458, 0.112366423, 0.0132318381, -0.1...</td>\n",
       "      <td>1</td>\n",
       "      <td>nan</td>\n",
       "      <td>[0.0, 0.0, 0.0, 0.0, 0.0, 0.0, 0.0, 0.0, 0.0, ...</td>\n",
       "      <td>[0.0, 0.0, 0.0, 0.0, 0.0, 0.0, 0.0, 0.0, 0.0, ...</td>\n",
       "      <td>...</td>\n",
       "      <td>[0.0, 0.0, 0.0, 0.0, 0.0, 0.0, 0.0, 0.0, 0.0, ...</td>\n",
       "      <td>[0.0211055465, 0.0780185536, 0.0248117764, -0....</td>\n",
       "      <td>[0.00854880922, 0.0434569977, 0.0188593101, -0...</td>\n",
       "      <td>[0.01259711, 0.04299367, 0.02412725, -0.042730...</td>\n",
       "      <td>[0.0, 0.0, 0.0, 0.0, 0.0, 0.0, 0.0, 0.0, 0.0, ...</td>\n",
       "      <td>[0.00861423835, 0.0521622188, 0.0352579467, -0...</td>\n",
       "      <td>[0.01861728, 0.0812533, 0.05324019, -0.0746743...</td>\n",
       "      <td>False</td>\n",
       "      <td>True</td>\n",
       "      <td>False</td>\n",
       "    </tr>\n",
       "    <tr>\n",
       "      <th>574</th>\n",
       "      <td>574</td>\n",
       "      <td>574</td>\n",
       "      <td>D002784</td>\n",
       "      <td>MESH:D007859</td>\n",
       "      <td>[-0.01181277, 0.10171013, -0.00727475, -0.1292...</td>\n",
       "      <td>[0.0237758458, 0.112366423, 0.0132318381, -0.1...</td>\n",
       "      <td>1</td>\n",
       "      <td>DOID_8927</td>\n",
       "      <td>[0.00961503, 0.08400509, 0.04177358, -0.078471...</td>\n",
       "      <td>[0.03391853, 0.1581611, 0.06623619, -0.1295497...</td>\n",
       "      <td>...</td>\n",
       "      <td>[0.0, 0.0, 0.0, 0.0, 0.0, 0.0, 0.0, 0.0, 0.0, ...</td>\n",
       "      <td>[0.0211055465, 0.0780185536, 0.0248117764, -0....</td>\n",
       "      <td>[0.0243733507, 0.0613955259, 0.0312294979, -0....</td>\n",
       "      <td>[0.00565458, 0.04158513, 0.02313795, -0.051488...</td>\n",
       "      <td>[0.0, 0.0, 0.0, 0.0, 0.0, 0.0, 0.0, 0.0, 0.0, ...</td>\n",
       "      <td>[0.01341004, 0.09400155, 0.05519716, -0.064768...</td>\n",
       "      <td>[0.01861728, 0.0812533, 0.05324019, -0.0746743...</td>\n",
       "      <td>False</td>\n",
       "      <td>True</td>\n",
       "      <td>False</td>\n",
       "    </tr>\n",
       "    <tr>\n",
       "      <th>575</th>\n",
       "      <td>575</td>\n",
       "      <td>575</td>\n",
       "      <td>D002784</td>\n",
       "      <td>MESH:D008569</td>\n",
       "      <td>[-0.00122191, 0.12140676, -0.06278317, -0.1614...</td>\n",
       "      <td>[0.0237758458, 0.112366423, 0.0132318381, -0.1...</td>\n",
       "      <td>1</td>\n",
       "      <td>nan</td>\n",
       "      <td>[0.0, 0.0, 0.0, 0.0, 0.0, 0.0, 0.0, 0.0, 0.0, ...</td>\n",
       "      <td>[0.0, 0.0, 0.0, 0.0, 0.0, 0.0, 0.0, 0.0, 0.0, ...</td>\n",
       "      <td>...</td>\n",
       "      <td>[0.0, 0.0, 0.0, 0.0, 0.0, 0.0, 0.0, 0.0, 0.0, ...</td>\n",
       "      <td>[0.0211055465, 0.0780185536, 0.0248117764, -0....</td>\n",
       "      <td>[0.00619368, 0.02668938, 0.01053562, -0.029812...</td>\n",
       "      <td>[0.01678769, 0.06692269, 0.03436083, -0.071667...</td>\n",
       "      <td>[0.0, 0.0, 0.0, 0.0, 0.0, 0.0, 0.0, 0.0, 0.0, ...</td>\n",
       "      <td>[0.02395664, 0.10968599, 0.05818043, -0.089857...</td>\n",
       "      <td>[0.01861728, 0.0812533, 0.05324019, -0.0746743...</td>\n",
       "      <td>False</td>\n",
       "      <td>True</td>\n",
       "      <td>False</td>\n",
       "    </tr>\n",
       "  </tbody>\n",
       "</table>\n",
       "<p>5 rows × 21 columns</p>\n",
       "</div>"
      ],
      "text/plain": [
       "     level_0  index ChemicalID     DiseaseID  \\\n",
       "571      571    571    D002784  MESH:D006528   \n",
       "572      572    572    D002784  MESH:D006529   \n",
       "573      573    573    D002784  MESH:D006965   \n",
       "574      574    574    D002784  MESH:D007859   \n",
       "575      575    575    D002784  MESH:D008569   \n",
       "\n",
       "                                                  DVec  \\\n",
       "571  [-0.0826218948, 0.0322816819, -0.121060327, -0...   \n",
       "572  [-0.02036812, 0.09344074, -0.08194942, -0.1507...   \n",
       "573  [0.01746579, 0.14595346, 0.05720224, -0.153178...   \n",
       "574  [-0.01181277, 0.10171013, -0.00727475, -0.1292...   \n",
       "575  [-0.00122191, 0.12140676, -0.06278317, -0.1614...   \n",
       "\n",
       "                                                  CVec  Correlation  \\\n",
       "571  [0.0237758458, 0.112366423, 0.0132318381, -0.1...            1   \n",
       "572  [0.0237758458, 0.112366423, 0.0132318381, -0.1...            1   \n",
       "573  [0.0237758458, 0.112366423, 0.0132318381, -0.1...            1   \n",
       "574  [0.0237758458, 0.112366423, 0.0132318381, -0.1...            1   \n",
       "575  [0.0237758458, 0.112366423, 0.0132318381, -0.1...            1   \n",
       "\n",
       "          DOID                                       disPhenVecMP  \\\n",
       "571   DOID_684  [0.0372420028, 0.145345554, 0.0668880194, -0.1...   \n",
       "572        nan  [0.0, 0.0, 0.0, 0.0, 0.0, 0.0, 0.0, 0.0, 0.0, ...   \n",
       "573        nan  [0.0, 0.0, 0.0, 0.0, 0.0, 0.0, 0.0, 0.0, 0.0, ...   \n",
       "574  DOID_8927  [0.00961503, 0.08400509, 0.04177358, -0.078471...   \n",
       "575        nan  [0.0, 0.0, 0.0, 0.0, 0.0, 0.0, 0.0, 0.0, 0.0, ...   \n",
       "\n",
       "                                          disPhenVecHP  ...    \\\n",
       "571  [0.034970928, 0.147648811, 0.0651874393, -0.11...  ...     \n",
       "572  [0.0, 0.0, 0.0, 0.0, 0.0, 0.0, 0.0, 0.0, 0.0, ...  ...     \n",
       "573  [0.0, 0.0, 0.0, 0.0, 0.0, 0.0, 0.0, 0.0, 0.0, ...  ...     \n",
       "574  [0.03391853, 0.1581611, 0.06623619, -0.1295497...  ...     \n",
       "575  [0.0, 0.0, 0.0, 0.0, 0.0, 0.0, 0.0, 0.0, 0.0, ...  ...     \n",
       "\n",
       "                                         chemPhenVecMP  \\\n",
       "571  [0.0, 0.0, 0.0, 0.0, 0.0, 0.0, 0.0, 0.0, 0.0, ...   \n",
       "572  [0.0, 0.0, 0.0, 0.0, 0.0, 0.0, 0.0, 0.0, 0.0, ...   \n",
       "573  [0.0, 0.0, 0.0, 0.0, 0.0, 0.0, 0.0, 0.0, 0.0, ...   \n",
       "574  [0.0, 0.0, 0.0, 0.0, 0.0, 0.0, 0.0, 0.0, 0.0, ...   \n",
       "575  [0.0, 0.0, 0.0, 0.0, 0.0, 0.0, 0.0, 0.0, 0.0, ...   \n",
       "\n",
       "                                              CHEBIvec  \\\n",
       "571  [0.0211055465, 0.0780185536, 0.0248117764, -0....   \n",
       "572  [0.0211055465, 0.0780185536, 0.0248117764, -0....   \n",
       "573  [0.0211055465, 0.0780185536, 0.0248117764, -0....   \n",
       "574  [0.0211055465, 0.0780185536, 0.0248117764, -0....   \n",
       "575  [0.0211055465, 0.0780185536, 0.0248117764, -0....   \n",
       "\n",
       "                                                 DOvec  \\\n",
       "571  [-0.00669117, 0.06971597, 0.03065702, -0.06519...   \n",
       "572  [0.00442429, 0.02501368, 0.01620419, -0.024251...   \n",
       "573  [0.00854880922, 0.0434569977, 0.0188593101, -0...   \n",
       "574  [0.0243733507, 0.0613955259, 0.0312294979, -0....   \n",
       "575  [0.00619368, 0.02668938, 0.01053562, -0.029812...   \n",
       "\n",
       "                                           dis_HINOvec  \\\n",
       "571  [0.017662406, 0.0882318914, 0.0445542857, -0.0...   \n",
       "572  [0.0262603536, 0.0958174169, 0.0440592952, -0....   \n",
       "573  [0.01259711, 0.04299367, 0.02412725, -0.042730...   \n",
       "574  [0.00565458, 0.04158513, 0.02313795, -0.051488...   \n",
       "575  [0.01678769, 0.06692269, 0.03436083, -0.071667...   \n",
       "\n",
       "                                          chem_HINOvec  \\\n",
       "571  [0.0, 0.0, 0.0, 0.0, 0.0, 0.0, 0.0, 0.0, 0.0, ...   \n",
       "572  [0.0, 0.0, 0.0, 0.0, 0.0, 0.0, 0.0, 0.0, 0.0, ...   \n",
       "573  [0.0, 0.0, 0.0, 0.0, 0.0, 0.0, 0.0, 0.0, 0.0, ...   \n",
       "574  [0.0, 0.0, 0.0, 0.0, 0.0, 0.0, 0.0, 0.0, 0.0, ...   \n",
       "575  [0.0, 0.0, 0.0, 0.0, 0.0, 0.0, 0.0, 0.0, 0.0, ...   \n",
       "\n",
       "                                            dis_PROvec  \\\n",
       "571  [0.00526265, 0.13656862, 0.10465749, -0.126299...   \n",
       "572  [0.0273059886, 0.13361977, 0.0845196024, -0.13...   \n",
       "573  [0.00861423835, 0.0521622188, 0.0352579467, -0...   \n",
       "574  [0.01341004, 0.09400155, 0.05519716, -0.064768...   \n",
       "575  [0.02395664, 0.10968599, 0.05818043, -0.089857...   \n",
       "\n",
       "                                           chem_PROvec  train  test    val  \n",
       "571  [0.01861728, 0.0812533, 0.05324019, -0.0746743...  False  True  False  \n",
       "572  [0.01861728, 0.0812533, 0.05324019, -0.0746743...  False  True  False  \n",
       "573  [0.01861728, 0.0812533, 0.05324019, -0.0746743...  False  True  False  \n",
       "574  [0.01861728, 0.0812533, 0.05324019, -0.0746743...  False  True  False  \n",
       "575  [0.01861728, 0.0812533, 0.05324019, -0.0746743...  False  True  False  \n",
       "\n",
       "[5 rows x 21 columns]"
      ]
     },
     "execution_count": 159,
     "metadata": {},
     "output_type": "execute_result"
    }
   ],
   "source": [
    "testers.head()"
   ]
  },
  {
   "cell_type": "code",
   "execution_count": 160,
   "metadata": {},
   "outputs": [
    {
     "name": "stdout",
     "output_type": "stream",
     "text": [
      "10525 3588 3626\n"
     ]
    }
   ],
   "source": [
    "# Split into train, test, val\n",
    "X_train, X_test, X_val = all_X[training_rows], all_X[test_rows], all_X[val_rows]\n",
    "y_train, y_test, y_val = all_y[training_rows], all_y[test_rows], all_y[val_rows]\n",
    "\n",
    "print(len(training_rows), len(test_rows), len(val_rows))"
   ]
  },
  {
   "cell_type": "code",
   "execution_count": 161,
   "metadata": {},
   "outputs": [],
   "source": [
    "# # Split into train, test, val --> OLD WAY\n",
    "# X_train, X_test, y_train, y_test = train_test_split(all_X, all_y, test_size=0.2, random_state=1606)\n",
    "# X_train, X_val, y_train, y_val = train_test_split(X_train, y_train, test_size=0.2, random_state=1606)"
   ]
  },
  {
   "cell_type": "markdown",
   "metadata": {},
   "source": [
    "### 3. Establish NN Model"
   ]
  },
  {
   "cell_type": "code",
   "execution_count": 162,
   "metadata": {},
   "outputs": [],
   "source": [
    "# 1. Establish the model architecture\n",
    "#it's safe to say that I don't know what I'm doing here\n",
    "model = keras.Sequential([\n",
    "#     keras.layers.Dense(400, activation=tf.nn.relu), \n",
    "    keras.layers.Flatten(input_shape=[1600]),\n",
    "    keras.layers.Dense(200, activation=tf.nn.relu),\n",
    "    keras.layers.Dense(60, activation=tf.nn.relu),\n",
    "    keras.layers.Dense(10, activation=tf.nn.relu),\n",
    "    keras.layers.Dense(1, activation=tf.nn.sigmoid)\n",
    "])"
   ]
  },
  {
   "cell_type": "code",
   "execution_count": 163,
   "metadata": {},
   "outputs": [],
   "source": [
    "# 2. Compile the model (give it loss func, optimise func and eval metric)\n",
    "model.compile(optimizer=tf.train.AdamOptimizer(), # determines how the model is adapted based on loss func\n",
    "              loss='binary_crossentropy', # measure of accuracy during training\n",
    "              metrics=['accuracy']) # measure for train and testing steps "
   ]
  },
  {
   "cell_type": "code",
   "execution_count": 164,
   "metadata": {},
   "outputs": [],
   "source": [
    "# Pre-training, set up training params\n",
    "earlystop = keras.callbacks.EarlyStopping(monitor='val_loss', min_delta=0, patience=0, verbose=0, mode='auto', baseline=None)"
   ]
  },
  {
   "cell_type": "code",
   "execution_count": 165,
   "metadata": {},
   "outputs": [
    {
     "name": "stdout",
     "output_type": "stream",
     "text": [
      "Train on 10525 samples, validate on 3626 samples\n",
      "Epoch 1/30\n",
      "10525/10525 [==============================] - 2s 179us/step - loss: 0.5206 - acc: 0.7464 - val_loss: 0.5174 - val_acc: 0.7504\n",
      "Epoch 2/30\n",
      "10525/10525 [==============================] - 2s 164us/step - loss: 0.4674 - acc: 0.7804 - val_loss: 0.4902 - val_acc: 0.7598\n",
      "Epoch 3/30\n",
      "10525/10525 [==============================] - 2s 147us/step - loss: 0.4501 - acc: 0.7929 - val_loss: 0.4994 - val_acc: 0.7534\n",
      "Epoch 4/30\n",
      "10525/10525 [==============================] - 2s 145us/step - loss: 0.4336 - acc: 0.8050 - val_loss: 0.4750 - val_acc: 0.7769\n",
      "Epoch 5/30\n",
      "10525/10525 [==============================] - 2s 143us/step - loss: 0.4125 - acc: 0.8135 - val_loss: 0.4987 - val_acc: 0.7694\n",
      "Epoch 6/30\n",
      "10525/10525 [==============================] - 2s 147us/step - loss: 0.4014 - acc: 0.8234 - val_loss: 0.4554 - val_acc: 0.7907\n",
      "Epoch 7/30\n",
      "10525/10525 [==============================] - 2s 148us/step - loss: 0.3873 - acc: 0.8264 - val_loss: 0.4425 - val_acc: 0.8023\n",
      "Epoch 8/30\n",
      "10525/10525 [==============================] - 2s 202us/step - loss: 0.3761 - acc: 0.8331 - val_loss: 0.4353 - val_acc: 0.8058\n",
      "Epoch 9/30\n",
      "10525/10525 [==============================] - 2s 230us/step - loss: 0.3521 - acc: 0.8464 - val_loss: 0.4265 - val_acc: 0.8122\n",
      "Epoch 10/30\n",
      "10525/10525 [==============================] - 2s 224us/step - loss: 0.3466 - acc: 0.8481 - val_loss: 0.4634 - val_acc: 0.7967\n",
      "Epoch 11/30\n",
      "10525/10525 [==============================] - 2s 213us/step - loss: 0.3305 - acc: 0.8578 - val_loss: 0.4116 - val_acc: 0.8240\n",
      "Epoch 12/30\n",
      "10525/10525 [==============================] - 2s 227us/step - loss: 0.3360 - acc: 0.8527 - val_loss: 0.4838 - val_acc: 0.7628\n",
      "Epoch 13/30\n",
      "10525/10525 [==============================] - 2s 225us/step - loss: 0.3184 - acc: 0.8656 - val_loss: 0.4285 - val_acc: 0.8089\n",
      "Epoch 14/30\n",
      "10525/10525 [==============================] - 2s 231us/step - loss: 0.3016 - acc: 0.8723 - val_loss: 0.4314 - val_acc: 0.7992\n",
      "Epoch 15/30\n",
      "10525/10525 [==============================] - 2s 217us/step - loss: 0.3089 - acc: 0.8688 - val_loss: 0.5423 - val_acc: 0.7700\n",
      "Epoch 16/30\n",
      "10525/10525 [==============================] - 2s 235us/step - loss: 0.2961 - acc: 0.8723 - val_loss: 0.4233 - val_acc: 0.8111\n",
      "Epoch 17/30\n",
      "10525/10525 [==============================] - 2s 164us/step - loss: 0.2867 - acc: 0.8752 - val_loss: 0.4302 - val_acc: 0.8130\n",
      "Epoch 18/30\n",
      "10525/10525 [==============================] - 2s 168us/step - loss: 0.2765 - acc: 0.8847 - val_loss: 0.4122 - val_acc: 0.8224\n",
      "Epoch 19/30\n",
      "10525/10525 [==============================] - 2s 154us/step - loss: 0.2710 - acc: 0.8871 - val_loss: 0.4821 - val_acc: 0.7907\n",
      "Epoch 20/30\n",
      "10525/10525 [==============================] - 2s 148us/step - loss: 0.2804 - acc: 0.8841 - val_loss: 0.4536 - val_acc: 0.8072\n",
      "Epoch 21/30\n",
      "10525/10525 [==============================] - 2s 161us/step - loss: 0.2673 - acc: 0.8869 - val_loss: 0.4189 - val_acc: 0.8218\n",
      "Epoch 22/30\n",
      "10525/10525 [==============================] - 2s 177us/step - loss: 0.2567 - acc: 0.8970 - val_loss: 0.4957 - val_acc: 0.8078\n",
      "Epoch 23/30\n",
      "10525/10525 [==============================] - 2s 170us/step - loss: 0.2604 - acc: 0.8918 - val_loss: 0.4385 - val_acc: 0.8078\n",
      "Epoch 24/30\n",
      "10525/10525 [==============================] - 2s 157us/step - loss: 0.2478 - acc: 0.8991 - val_loss: 0.4424 - val_acc: 0.8105\n",
      "Epoch 25/30\n",
      "10525/10525 [==============================] - 2s 181us/step - loss: 0.2557 - acc: 0.8934 - val_loss: 0.4065 - val_acc: 0.8287\n",
      "Epoch 26/30\n",
      "10525/10525 [==============================] - 2s 161us/step - loss: 0.2421 - acc: 0.8993 - val_loss: 0.6665 - val_acc: 0.7383\n",
      "Epoch 27/30\n",
      "10525/10525 [==============================] - 2s 157us/step - loss: 0.2407 - acc: 0.9008 - val_loss: 0.4133 - val_acc: 0.8285\n",
      "Epoch 28/30\n",
      "10525/10525 [==============================] - 2s 168us/step - loss: 0.2377 - acc: 0.9041 - val_loss: 0.5246 - val_acc: 0.7725\n",
      "Epoch 29/30\n",
      "10525/10525 [==============================] - 2s 168us/step - loss: 0.2386 - acc: 0.9027 - val_loss: 0.4545 - val_acc: 0.8161\n",
      "Epoch 30/30\n",
      "10525/10525 [==============================] - 2s 168us/step - loss: 0.2344 - acc: 0.9052 - val_loss: 0.5609 - val_acc: 0.7945\n"
     ]
    },
    {
     "data": {
      "text/plain": [
       "<tensorflow.python.keras.callbacks.History at 0x7fdbe7a003c8>"
      ]
     },
     "execution_count": 165,
     "metadata": {},
     "output_type": "execute_result"
    }
   ],
   "source": [
    "# 3. Train\n",
    "model.fit(X_train, y_train, epochs=30, validation_data=(X_val, y_val) ) #, callbacks=[earlystop])"
   ]
  },
  {
   "cell_type": "markdown",
   "metadata": {},
   "source": [
    "### ...and evaluate"
   ]
  },
  {
   "cell_type": "code",
   "execution_count": 166,
   "metadata": {},
   "outputs": [
    {
     "name": "stdout",
     "output_type": "stream",
     "text": [
      "3588/3588 [==============================] - 0s 72us/step\n",
      "Test accuracy: 0.7809364548494984\n"
     ]
    }
   ],
   "source": [
    "# 4. Evaluate\n",
    "# Accuracy\n",
    "test_loss, test_acc = model.evaluate(X_test, y_test)\n",
    "print('Test accuracy:', test_acc)"
   ]
  },
  {
   "cell_type": "code",
   "execution_count": 167,
   "metadata": {},
   "outputs": [],
   "source": [
    "# Get actual predictions for test set\n",
    "predictions = model.predict(X_test)\n",
    "rounded_predictions = [int(float(round(x[0]))) for x in predictions]"
   ]
  },
  {
   "cell_type": "code",
   "execution_count": 168,
   "metadata": {
    "scrolled": true
   },
   "outputs": [
    {
     "name": "stdout",
     "output_type": "stream",
     "text": [
      "Confusion matrix:\n",
      "Predicted  False  True  __all__\n",
      "Actual                         \n",
      "False       1574   195     1769\n",
      "True         591  1228     1819\n",
      "__all__     2165  1423     3588\n"
     ]
    },
    {
     "data": {
      "text/plain": [
       "<matplotlib.axes._subplots.AxesSubplot at 0x7fdbe7a4a6a0>"
      ]
     },
     "execution_count": 168,
     "metadata": {},
     "output_type": "execute_result"
    },
    {
     "data": {
      "image/png": "[encoded data removed]",
      "text/plain": [
       "<Figure size 648x576 with 2 Axes>"
      ]
     },
     "metadata": {},
     "output_type": "display_data"
    }
   ],
   "source": [
    "%matplotlib inline\n",
    "# Confusion Matrix\n",
    "\n",
    "confusion_matrix = ConfusionMatrix(y_test, rounded_predictions)\n",
    "print(\"Confusion matrix:\\n%s\" % confusion_matrix)\n",
    "confusion_matrix.plot()"
   ]
  },
  {
   "cell_type": "code",
   "execution_count": 169,
   "metadata": {},
   "outputs": [
    {
     "name": "stdout",
     "output_type": "stream",
     "text": [
      "ROC AUC:  0.8833301582970535\n"
     ]
    }
   ],
   "source": [
    "# ROC AUC\n",
    "print('ROC AUC: ', roc_auc_score(y_test, predictions))"
   ]
  },
  {
   "cell_type": "code",
   "execution_count": 170,
   "metadata": {},
   "outputs": [],
   "source": [
    "# Results at 60 epochs, 1 iteration:\n",
    "# Just Govecs i think was like .84 AUC\n",
    "# DisPhen and GoVecs: .88 AUC\n",
    "# Chebi, disphen, govecs: .895 AUC then .873 on second round... once off results are pointless at this level diff"
   ]
  },
  {
   "cell_type": "code",
   "execution_count": 171,
   "metadata": {},
   "outputs": [
    {
     "ename": "SyntaxError",
     "evalue": "invalid syntax (<ipython-input-171-440e5fd394b4>, line 2)",
     "output_type": "error",
     "traceback": [
      "\u001b[0;36m  File \u001b[0;32m\"<ipython-input-171-440e5fd394b4>\"\u001b[0;36m, line \u001b[0;32m2\u001b[0m\n\u001b[0;31m    for a in i\u001b[0m\n\u001b[0m              ^\u001b[0m\n\u001b[0;31mSyntaxError\u001b[0m\u001b[0;31m:\u001b[0m invalid syntax\n"
     ]
    }
   ],
   "source": [
    "# Error out to stop notebook\n",
    "for a in i\n",
    "def \n"
   ]
  },
  {
   "cell_type": "code",
   "execution_count": null,
   "metadata": {},
   "outputs": [],
   "source": [
    "# Save entire model to a HDF5 file\n",
    "model.save('nn20022019auc889GOpro.h5')"
   ]
  },
  {
   "cell_type": "code",
   "execution_count": null,
   "metadata": {},
   "outputs": [],
   "source": []
  },
  {
   "cell_type": "code",
   "execution_count": null,
   "metadata": {},
   "outputs": [],
   "source": [
    "# "
   ]
  },
  {
   "cell_type": "code",
   "execution_count": null,
   "metadata": {},
   "outputs": [],
   "source": [
    "# testers.shape[0]"
   ]
  },
  {
   "cell_type": "code",
   "execution_count": null,
   "metadata": {},
   "outputs": [],
   "source": [
    "# testers.head()"
   ]
  },
  {
   "cell_type": "code",
   "execution_count": null,
   "metadata": {},
   "outputs": [],
   "source": [
    "# # Version for GoFuncs, DIS-Phens, CHEBI, DO, HINO, PRO\n",
    "# # For Keras, need to turn inputs into numpy arrays instead of pandas df\n",
    "# # First create single np array of all vecs... not pretty:\n",
    "# Dvecs = pd.DataFrame(testers.DVec.values.tolist(), index= testers.index)\n",
    "# Cvecs = pd.DataFrame(testers.CVec.values.tolist(), index= testers.index)\n",
    "# gofuncs = Dvecs.merge(Cvecs, how='outer', left_index=True, right_index=True)\n",
    "\n",
    "# DMPvecs = pd.DataFrame(testers.disPhenVecHP.values.tolist(), index= testers.index)\n",
    "# DHPvecs = pd.DataFrame(testers.disPhenVecMP.values.tolist(), index= testers.index)\n",
    "# disPvecs = DMPvecs.merge(DHPvecs, how='outer', left_index=True, right_index=True)\n",
    "\n",
    "# all_X = disPvecs.merge(gofuncs, how='outer', left_index=True, right_index=True)\n",
    "\n",
    "# CHEBvecs = pd.DataFrame(testers.CHEBIvec.values.tolist(), index = testers.index)\n",
    "# all_X = CHEBvecs.merge(all_X, how='outer', left_index=True, right_index=True)\n",
    "\n",
    "# DOvecs = pd.DataFrame(testers.DOvec.values.tolist(), index = testers.index)\n",
    "# all_X = DOvecs.merge(all_X, how='outer', left_index=True, right_index=True)\n",
    "\n",
    "# dHINOvecs = pd.DataFrame(testers.dis_HINOvec.values.tolist(), index=testers.index)\n",
    "# cHINOvecs = pd.DataFrame(testers.chem_HINOvec.values.tolist(), index=testers.index)\n",
    "# hinovecs = cHINOvecs.merge(dHINOvecs, how='outer', left_index=True, right_index=True)\n",
    "# all_X = all_X.merge(hinovecs, how='outer', left_index=True, right_index=True)\n",
    "\n",
    "# dPROvecs = pd.DataFrame(testers.dis_PROvec.values.tolist(), index=testers.index)\n",
    "# cPROvecs = pd.DataFrame(testers.chem_PROvec.values.tolist(), index=testers.index)\n",
    "# PROvecs = cPROvecs.merge(dPROvecs, how='outer', left_index=True, right_index=True)\n",
    "# all_X = PROvecs.merge(all_X, how='outer', left_index=True, right_index=True)\n",
    "\n",
    "# all_X = np.array(all_X)"
   ]
  },
  {
   "cell_type": "code",
   "execution_count": null,
   "metadata": {},
   "outputs": [],
   "source": [
    "# # Now create np array of the y output\n",
    "# all_y = np.array(testers.Correlation)"
   ]
  },
  {
   "cell_type": "code",
   "execution_count": null,
   "metadata": {},
   "outputs": [],
   "source": [
    "# # Accuracy\n",
    "# test_loss, test_acc = model.evaluate(all_X, all_y)\n",
    "# print('Test accuracy:', test_acc)\n",
    "\n",
    "# # Get actual predictions for test set\n",
    "# predictions = model.predict(all_X)\n",
    "# rounded_predictions = [int(float(round(x[0]))) for x in predictions]\n",
    "# print('ROC AUC: ', roc_auc_score(all_y, predictions))\n"
   ]
  },
  {
   "cell_type": "code",
   "execution_count": null,
   "metadata": {},
   "outputs": [],
   "source": []
  },
  {
   "cell_type": "code",
   "execution_count": null,
   "metadata": {},
   "outputs": [],
   "source": []
  },
  {
   "cell_type": "code",
   "execution_count": null,
   "metadata": {},
   "outputs": [],
   "source": []
  },
  {
   "cell_type": "markdown",
   "metadata": {},
   "source": [
    "### 4. Examine the predictions\n",
    "Let's look at the predictions the NN gets wrong, see if there's a pattern"
   ]
  },
  {
   "cell_type": "code",
   "execution_count": null,
   "metadata": {},
   "outputs": [],
   "source": [
    "# Create df with the relevant data\n",
    "test_set = df1.loc[test_rows]\n",
    "test_set['Predictions'] = predictions\n",
    "test_set['RoundPredictions'] = rounded_predictions"
   ]
  },
  {
   "cell_type": "code",
   "execution_count": null,
   "metadata": {},
   "outputs": [],
   "source": [
    "# Optimise memory --> set col types for the incoming CSV\n",
    "cds_cols = ['# ChemicalName', 'ChemicalID', 'DiseaseName', 'DiseaseID', 'DirectEvidence']\n",
    "cd_col_types = {   \n",
    "    '# ChemicalName': 'category',\n",
    "    'ChemicalID': 'category',\n",
    "    'DiseaseName': 'category',\n",
    "    'DiseaseID': 'category',\n",
    "}"
   ]
  },
  {
   "cell_type": "code",
   "execution_count": null,
   "metadata": {},
   "outputs": [],
   "source": [
    "# Let's get the disease and chemical names back! For the sake of eyeballing for patterns\n",
    "# Read in CTD csv, skipping the intro rows\n",
    "df_cd = pd.read_csv('../ctd-to-nt/csvs/CTD_chemicals_diseases.csv', usecols=cds_cols, dtype=cd_col_types, skiprows=27)\n",
    "df_cd = df_cd.drop(0)\n",
    "df_cd = df_cd.dropna(subset=['DirectEvidence']) # drop if it doesn't have direct evidence"
   ]
  },
  {
   "cell_type": "code",
   "execution_count": null,
   "metadata": {},
   "outputs": [],
   "source": [
    "df_cd.head()"
   ]
  },
  {
   "cell_type": "code",
   "execution_count": null,
   "metadata": {},
   "outputs": [],
   "source": [
    "test_set.head()"
   ]
  },
  {
   "cell_type": "code",
   "execution_count": null,
   "metadata": {},
   "outputs": [],
   "source": [
    "# test_set.DiseaseID.nunique()"
   ]
  },
  {
   "cell_type": "code",
   "execution_count": null,
   "metadata": {},
   "outputs": [],
   "source": []
  },
  {
   "cell_type": "code",
   "execution_count": null,
   "metadata": {},
   "outputs": [],
   "source": [
    "test_set['Correlation'] = test_set.Correlation.astype(np.uint8)\n",
    "print(mem_usage(test_set['RoundPredictions']))\n",
    "test_set['RoundPredictions'] = test_set.RoundPredictions.astype(np.uint8)\n",
    "print(mem_usage(test_set['RoundPredictions']))"
   ]
  },
  {
   "cell_type": "code",
   "execution_count": null,
   "metadata": {},
   "outputs": [],
   "source": [
    "lst = [chem_dis, df, df_d, df_c, Dvecs, Cvecs]\n",
    "del lst\n",
    "test_set = test_set.drop(['DVec', 'CVec', 'index'], axis=1) # memory intensive\n",
    "for col in ['DiseaseID', 'ChemicalID', 'DiseaseName', '# ChemicalName', 'DirectEvidence']:\n",
    "    print(col,  df_cd.columns)\n",
    "    if str(col) in df_cd.columns: print('sd') # df_cd[col] = df_cd[col].astype('category')\n",
    "    if col in test_set.columns: test_set[col] = test_set[col].astype('category')"
   ]
  },
  {
   "cell_type": "code",
   "execution_count": null,
   "metadata": {},
   "outputs": [],
   "source": [
    "mem_usage(df_cd)"
   ]
  },
  {
   "cell_type": "code",
   "execution_count": null,
   "metadata": {},
   "outputs": [],
   "source": [
    "# merge in the names\n",
    "\n",
    "# Because this weirdly requires a tonne of memory, let's optimise (for stupid terrible top-of-range dell laptop)\n",
    "# lst = [chem_dis, df, df_d, df_c, Dvecs, Cvecs]\n",
    "# del lst\n",
    "# test_set = test_set.drop(['DVec', 'CVec', 'index'], axis=1) # memory intensive\n",
    "# for col in ['DiseaseID', 'ChemicalID', 'DiseaseName', '# ChemicalName', 'DirectEvidence']:\n",
    "#     if col in df_cd.columns: df_cd[col] = df_cd[col].astype('category')\n",
    "#     if col in test_set.columns: test_set[col] = test_set[col].astype('category')\n",
    "\n",
    "test_set = pd.merge(test_set, df_cd[['DiseaseID', 'DiseaseName']], on='DiseaseID')\n",
    "test_set = pd.merge(test_set, df_cd[['# ChemicalName', 'ChemicalID']], on='ChemicalID')\n",
    "\n",
    "# weirdly these operations introduce millions of duplicate rows, so delete duplicates:\n",
    "test_set = test_set.drop_duplicates(list(set(test_set.columns.values))) #- set(['DVec','CVec'])))"
   ]
  },
  {
   "cell_type": "code",
   "execution_count": null,
   "metadata": {},
   "outputs": [],
   "source": [
    "df_cd.ChemicalID = df_cd.ChemicalID.astype('category')\n",
    "type(df_cd.ChemicalID[1])"
   ]
  },
  {
   "cell_type": "code",
   "execution_count": null,
   "metadata": {},
   "outputs": [],
   "source": [
    "test_set[['DiseaseName', '# ChemicalName', 'Correlation', 'Predictions', 'RoundPredictions']].to_csv('predictions.csv', index=False)"
   ]
  },
  {
   "cell_type": "code",
   "execution_count": null,
   "metadata": {},
   "outputs": [],
   "source": [
    "test_set.head()"
   ]
  },
  {
   "cell_type": "code",
   "execution_count": null,
   "metadata": {},
   "outputs": [],
   "source": [
    "# Import gofunction counts (for each disease and each chem). This csv was output in opa2vec.ipynb\n",
    "gofunc_counts = pd.read_csv('gofunc_counts.csv')\n",
    "test_set = pd.merge(test_set, gofunc_counts[['ChemicalID', 'gofunc']], on='ChemicalID')\n",
    "test_set = test_set.rename(columns = {'gofunc':'ChemGoFuncs'})\n",
    "test_set = pd.merge(test_set, gofunc_counts[['DiseaseID', 'gofunc']], on='DiseaseID')\n",
    "test_set = test_set.rename(columns = {'gofunc':'DisGoFuncs'})"
   ]
  },
  {
   "cell_type": "code",
   "execution_count": null,
   "metadata": {},
   "outputs": [],
   "source": [
    "test_set.head()"
   ]
  },
  {
   "cell_type": "code",
   "execution_count": null,
   "metadata": {},
   "outputs": [],
   "source": []
  },
  {
   "cell_type": "code",
   "execution_count": null,
   "metadata": {},
   "outputs": [],
   "source": [
    "# # This cell is pointless - manually verifying accuracy test\n",
    "# # Round predictions to int based on threshold, run accuracy-test manually\n",
    "# predictions = model.predict(X_test)\n",
    "# threshold = predictions[:].sum()/len(predictions) # Threshold is the mean value of predictions\n",
    "# predictions = [float(round(x[0]-threshold+0.5)) for x in predictions]\n",
    "# manual_accuracy = sklearn.metrics.accuracy_score(y_test, predictions, normalize=True, sample_weight=None)\n",
    "# print(manual_accuracy)"
   ]
  },
  {
   "cell_type": "markdown",
   "metadata": {},
   "source": [
    "### 5. Calculate Cosine Similarity"
   ]
  },
  {
   "cell_type": "code",
   "execution_count": null,
   "metadata": {},
   "outputs": [],
   "source": [
    "# df1.head()"
   ]
  },
  {
   "cell_type": "code",
   "execution_count": null,
   "metadata": {},
   "outputs": [],
   "source": [
    "# # Calculate out the cosine similarity and see if there's a difference between groups\n",
    "# def cosine_sim (row):\n",
    "#     return cosine_similarity(np.array(row.DVec).reshape(1, -1), np.array(row.CVec).reshape(1, -1))[0][0]\n",
    "\n",
    "# df1['cosine_sim'] = df1.apply(lambda row: cosine_sim(row), axis=1)\n",
    "\n",
    "# # Compare cosine sim of correlated and uncorrelated groups\n",
    "# print('Cosine mean with no correlation: ', df1[df1.Correlation == 1 ].cosine_sim.mean())\n",
    "# print('Cosine mean with correlation: ', df1[df1.Correlation == 0 ].cosine_sim.mean())"
   ]
  },
  {
   "cell_type": "markdown",
   "metadata": {},
   "source": [
    "### 6. Save Model"
   ]
  },
  {
   "cell_type": "code",
   "execution_count": null,
   "metadata": {},
   "outputs": [],
   "source": [
    "# Save entire model to a HDF5 file\n",
    "model.save('nn15022019auc92GoPhenCHEdoHIpro.h5')"
   ]
  }
 ],
 "metadata": {
  "kernelspec": {
   "display_name": "Python 3",
   "language": "python",
   "name": "python3"
  },
  "language_info": {
   "codemirror_mode": {
    "name": "ipython",
    "version": 3
   },
   "file_extension": ".py",
   "mimetype": "text/x-python",
   "name": "python",
   "nbconvert_exporter": "python",
   "pygments_lexer": "ipython3",
   "version": "3.6.5"
  }
 },
 "nbformat": 4,
 "nbformat_minor": 2
}
