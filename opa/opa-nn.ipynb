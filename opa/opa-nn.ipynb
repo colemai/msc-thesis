{
 "cells": [
  {
   "cell_type": "markdown",
   "metadata": {},
   "source": [
    "# Notebook: Use NN to predict disease from chemicals using Opa2Vec vectors\n",
    "<b> Author: </b> Ian Coleman <br>\n",
    "<b> Purpose: </b> Take the vectors created in the opa2vec notebook. This took chemical go functions\n",
    "    and disease go function, creating vectors for each. Train a NN to predict positive chem-dis relationships from these vectors"
   ]
  },
  {
   "cell_type": "code",
   "execution_count": 117,
   "metadata": {},
   "outputs": [],
   "source": [
    "## TODO\n",
    "# Hyperparameter tuning:\n",
    "# 1. How many uncorrelated pairs do we want\n",
    "# 2. Epochs\n",
    "# 3. Batch size\n",
    "# 4. Number of layers, number of nodes per layer\n",
    "# 5. Activation functions"
   ]
  },
  {
   "cell_type": "code",
   "execution_count": 118,
   "metadata": {},
   "outputs": [],
   "source": [
    "import tensorflow as tf\n",
    "from tensorflow import keras\n",
    "import numpy as np\n",
    "import matplotlib.pyplot as plt\n",
    "import pandas as pd\n",
    "from random import randint\n",
    "import random\n",
    "from sklearn.model_selection import train_test_split\n",
    "import sklearn\n",
    "from sklearn.metrics.pairwise import cosine_similarity\n",
    "from sklearn.metrics import roc_curve\n",
    "from sklearn.metrics import roc_auc_score\n",
    "from pandas_ml import ConfusionMatrix\n",
    "import json\n",
    "import subprocess\n",
    "from correlade import correlade\n",
    "import distcorr\n",
    "from sklearn.metrics import confusion_matrix\n",
    "import seaborn as sn\n",
    "import matplotlib.pyplot as plt\n",
    "import itertools\n",
    "import ast\n",
    "import pdb\n",
    "\n",
    "#Set random seed\n",
    "np.random.seed(1606)"
   ]
  },
  {
   "cell_type": "markdown",
   "metadata": {},
   "source": [
    "### 1. Import Vectors and Pre-Process them"
   ]
  },
  {
   "cell_type": "code",
   "execution_count": null,
   "metadata": {},
   "outputs": [],
   "source": []
  },
  {
   "cell_type": "code",
   "execution_count": 119,
   "metadata": {},
   "outputs": [],
   "source": [
    "# Import vec file\n",
    "with open('../../opa2vec/outter.lst', 'r') as file:\n",
    "    text = file.read()\n",
    "\n",
    "# Strip and split vector data into list of lists [chem, vec]\n",
    "text = text.replace('\\n', '')\n",
    "text = text.split(']')\n",
    "text = [item.strip().split(' [') for item in text]\n",
    "\n",
    "# Turn it into a data frame\n",
    "df = pd.DataFrame(text)\n",
    "df.columns = ['ID', 'Vector']\n",
    "\n",
    "# Clean\n",
    "df = df.dropna()\n",
    "df['Vector'] = df.Vector.map(lambda x: x.rstrip().lstrip().replace('    ', ' ').replace('   ', ' ').replace('  ', ' ').replace(' ', ','))\n",
    "\n",
    "# Turn vector column into a list\n",
    "df['Vector'] = df.Vector.map(lambda x: x.split(','))"
   ]
  },
  {
   "cell_type": "code",
   "execution_count": 120,
   "metadata": {},
   "outputs": [
    {
     "data": {
      "text/html": [
       "<div>\n",
       "<style scoped>\n",
       "    .dataframe tbody tr th:only-of-type {\n",
       "        vertical-align: middle;\n",
       "    }\n",
       "\n",
       "    .dataframe tbody tr th {\n",
       "        vertical-align: top;\n",
       "    }\n",
       "\n",
       "    .dataframe thead th {\n",
       "        text-align: right;\n",
       "    }\n",
       "</style>\n",
       "<table border=\"1\" class=\"dataframe\">\n",
       "  <thead>\n",
       "    <tr style=\"text-align: right;\">\n",
       "      <th></th>\n",
       "      <th>ID</th>\n",
       "      <th>Vector</th>\n",
       "    </tr>\n",
       "  </thead>\n",
       "  <tbody>\n",
       "    <tr>\n",
       "      <th>6511</th>\n",
       "      <td>D000255</td>\n",
       "      <td>[-0.09476919, 0.13179843, 0.2179865, -0.346723...</td>\n",
       "    </tr>\n",
       "    <tr>\n",
       "      <th>1155</th>\n",
       "      <td>MESH:C563801-p</td>\n",
       "      <td>[-5.71336299e-02, 4.66678739e-02, 5.42178862e-...</td>\n",
       "    </tr>\n",
       "    <tr>\n",
       "      <th>11928</th>\n",
       "      <td>D005034</td>\n",
       "      <td>[-0.05555808, 0.05272527, 0.06770945, -0.11169...</td>\n",
       "    </tr>\n",
       "    <tr>\n",
       "      <th>12602</th>\n",
       "      <td>C004984-n</td>\n",
       "      <td>[-0.06776077, 0.00714859, 0.14182633, -0.24546...</td>\n",
       "    </tr>\n",
       "    <tr>\n",
       "      <th>589</th>\n",
       "      <td>MESH:D006463-p</td>\n",
       "      <td>[-4.59904820e-02, 1.39874369e-01, 8.21784213e-...</td>\n",
       "    </tr>\n",
       "    <tr>\n",
       "      <th>4394</th>\n",
       "      <td>MESH:D015663-n</td>\n",
       "      <td>[-0.06028654, 0.05314248, 0.04262458, -0.12095...</td>\n",
       "    </tr>\n",
       "    <tr>\n",
       "      <th>3371</th>\n",
       "      <td>MESH:D007984-p</td>\n",
       "      <td>[-0.03950234, 0.06167218, 0.04151897, -0.12157...</td>\n",
       "    </tr>\n",
       "    <tr>\n",
       "      <th>18859</th>\n",
       "      <td>D012314</td>\n",
       "      <td>[-5.79285324e-02, 4.93040867e-02, 5.59226386e-...</td>\n",
       "    </tr>\n",
       "    <tr>\n",
       "      <th>2645</th>\n",
       "      <td>MESH:C537194-p</td>\n",
       "      <td>[-3.50516438e-02, 7.78730810e-02, 4.39822190e-...</td>\n",
       "    </tr>\n",
       "    <tr>\n",
       "      <th>9351</th>\n",
       "      <td>D001514-n</td>\n",
       "      <td>[-0.08390208, 0.04317693, 0.10903978, -0.27251...</td>\n",
       "    </tr>\n",
       "    <tr>\n",
       "      <th>17680</th>\n",
       "      <td>C010667</td>\n",
       "      <td>[-1.30613875e-02, 5.60383461e-02, 4.56821360e-...</td>\n",
       "    </tr>\n",
       "    <tr>\n",
       "      <th>6262</th>\n",
       "      <td>D043823-p</td>\n",
       "      <td>[-0.04585415, 0.04649328, 0.03390096, -0.10687...</td>\n",
       "    </tr>\n",
       "    <tr>\n",
       "      <th>17402</th>\n",
       "      <td>C502239</td>\n",
       "      <td>[-0.06829052, 0.04935454, 0.05241455, -0.13988...</td>\n",
       "    </tr>\n",
       "  </tbody>\n",
       "</table>\n",
       "</div>"
      ],
      "text/plain": [
       "                   ID                                             Vector\n",
       "6511          D000255  [-0.09476919, 0.13179843, 0.2179865, -0.346723...\n",
       "1155   MESH:C563801-p  [-5.71336299e-02, 4.66678739e-02, 5.42178862e-...\n",
       "11928         D005034  [-0.05555808, 0.05272527, 0.06770945, -0.11169...\n",
       "12602       C004984-n  [-0.06776077, 0.00714859, 0.14182633, -0.24546...\n",
       "589    MESH:D006463-p  [-4.59904820e-02, 1.39874369e-01, 8.21784213e-...\n",
       "4394   MESH:D015663-n  [-0.06028654, 0.05314248, 0.04262458, -0.12095...\n",
       "3371   MESH:D007984-p  [-0.03950234, 0.06167218, 0.04151897, -0.12157...\n",
       "18859         D012314  [-5.79285324e-02, 4.93040867e-02, 5.59226386e-...\n",
       "2645   MESH:C537194-p  [-3.50516438e-02, 7.78730810e-02, 4.39822190e-...\n",
       "9351        D001514-n  [-0.08390208, 0.04317693, 0.10903978, -0.27251...\n",
       "17680         C010667  [-1.30613875e-02, 5.60383461e-02, 4.56821360e-...\n",
       "6262        D043823-p  [-0.04585415, 0.04649328, 0.03390096, -0.10687...\n",
       "17402         C502239  [-0.06829052, 0.04935454, 0.05241455, -0.13988..."
      ]
     },
     "execution_count": 120,
     "metadata": {},
     "output_type": "execute_result"
    }
   ],
   "source": [
    "df.sample(13)"
   ]
  },
  {
   "cell_type": "code",
   "execution_count": 121,
   "metadata": {},
   "outputs": [],
   "source": [
    "# # # Create a df template\n",
    "df2 = pd.DataFrame(columns=['ID','DisDirCorrVec', 'DisInvCorrVec', 'ChemDirCorrVec',\n",
    "                            'ChemInvCorrVec', 'ChemUnspecCorrVec'])"
   ]
  },
  {
   "cell_type": "code",
   "execution_count": 122,
   "metadata": {},
   "outputs": [],
   "source": [
    "# Move info over\n",
    "def is_dis(stringer):\n",
    "    if ('MESH' in stringer) or ('OMIM' in stringer):\n",
    "        return True\n",
    "    else:\n",
    "        return False"
   ]
  },
  {
   "cell_type": "code",
   "execution_count": 123,
   "metadata": {},
   "outputs": [],
   "source": [
    "df2['ID'] = df.ID.copy()\n",
    "df2['ID'] = df2.ID.apply(lambda x: x.replace('-p', '').replace('-n', ''))\n",
    "df2 = df2.drop_duplicates()"
   ]
  },
  {
   "cell_type": "code",
   "execution_count": 124,
   "metadata": {},
   "outputs": [],
   "source": [
    "# # df2[df2.DisDirCorrVec]\n",
    "# import pdb"
   ]
  },
  {
   "cell_type": "code",
   "execution_count": 125,
   "metadata": {},
   "outputs": [],
   "source": [
    "# for index, row in df.iterrows():\n",
    "#     if is_dis(row.ID):\n",
    "#         if '-p' in row.ID:\n",
    "#             pdb.set_trace()\n",
    "#             df2[df2.ID == row.ID.replace('-p','')].iloc[0]['DisDirCorrVec'] = np.array(row.Vector)\n",
    "#         else:\n",
    "#             df2[df2.ID == row.ID.replace('-n', '')].iloc[0].DisInvCorrVec = row.Vector\n",
    "# #     else:\n",
    "# #         if '-p' in row.ID:\n",
    "# #             df2.ChemDirCorrVec = row.Vector\n",
    "# #         elif '-n' in row.ID:\n",
    "# #             df2.ChemInvCorrVec = row.Vector\n",
    "# #         else:\n",
    "# #             df2.ChemUnspecCorrVec = row.vector\n",
    "\n",
    "    \n",
    "# # for index, row in df.iterrows():\n",
    "# #         subj = '<' + subj_url + row[subj_col] + '> '\n",
    "# #         if row.pred_code == 'nan':\n",
    "# #             pred = '<' + 'http://ian.ie/' + row[pred_col] + '> '\n",
    "# #         else:\n",
    "# #             pred = '<' + 'http://purl.obolibrary.org/obo/' + row['pred_code'] + '> '\n",
    "# #         if odd_url[0] in row[obj_col]:\n",
    "# #             row[obj_col] = row[obj_col].replace(odd_url[0], '')\n",
    "# #             obj = '<' + odd_url[1] + row[obj_col] + '> '\n",
    "# #         else:\n",
    "# #             obj = '<' + obj_url + row[obj_col] + '> '\n",
    "# #         f.write(subj + pred + obj + '.' + '\\n')"
   ]
  },
  {
   "cell_type": "code",
   "execution_count": 126,
   "metadata": {},
   "outputs": [],
   "source": [
    "# df2.loc[df2.ID =='MESH:D058186'].DisInvCorrVec.iloc[0] = 1"
   ]
  },
  {
   "cell_type": "code",
   "execution_count": 127,
   "metadata": {},
   "outputs": [],
   "source": [
    "# df2.head()"
   ]
  },
  {
   "cell_type": "code",
   "execution_count": null,
   "metadata": {},
   "outputs": [],
   "source": []
  },
  {
   "cell_type": "code",
   "execution_count": null,
   "metadata": {},
   "outputs": [],
   "source": []
  },
  {
   "cell_type": "code",
   "execution_count": null,
   "metadata": {},
   "outputs": [],
   "source": []
  },
  {
   "cell_type": "code",
   "execution_count": 128,
   "metadata": {},
   "outputs": [],
   "source": [
    "# def moving_stuff (row):\n",
    "#     if is_dis(df.DirCorr) and ('-p' in df.DirCorr):\n",
    "#         df2"
   ]
  },
  {
   "cell_type": "code",
   "execution_count": 129,
   "metadata": {},
   "outputs": [],
   "source": [
    "# mask = is_dis(df.DirCorr) and ('-p' in df.DirCorr)\n",
    "# df.loc[mask, 'DirCorr'] = df.Vector"
   ]
  },
  {
   "cell_type": "code",
   "execution_count": 130,
   "metadata": {},
   "outputs": [],
   "source": [
    "# df.groupby('Vector').sum()"
   ]
  },
  {
   "cell_type": "code",
   "execution_count": 131,
   "metadata": {},
   "outputs": [],
   "source": [
    "# aggregation_functions = {'price': 'sum', 'amount': 'sum', 'name': 'first'}\n",
    "# df_new = df.groupby(df['id']).aggregate(aggregation_functions)"
   ]
  },
  {
   "cell_type": "code",
   "execution_count": null,
   "metadata": {},
   "outputs": [],
   "source": []
  },
  {
   "cell_type": "code",
   "execution_count": 132,
   "metadata": {},
   "outputs": [],
   "source": [
    "# # Remove the -p /-n tags (pos/neg correlation) and add them as columns\n",
    "# df['DirCorr'] = df.ID.map(lambda x: 1 if '-p' in x else 0)\n",
    "# df['InvCorr'] = df.ID.map(lambda x: 1 if '-n' in x else 0)\n",
    "# df['UnspecCorr'] = df.DirCorr + df.InvCorr\n",
    "# df['UnspecCorr'] = df.UnspecCorr.map(lambda x: 0 if x == 1 else 1)\n",
    "\n",
    "# df['ID'] = df.ID.apply(lambda x: x.replace('-p', '').replace('-n', ''))"
   ]
  },
  {
   "cell_type": "code",
   "execution_count": 133,
   "metadata": {},
   "outputs": [],
   "source": [
    "# Remove the -p /-n tags (pos/neg correlation) and add them as columns\n",
    "df['DisDirCorrVec'] = df.ID.map(lambda x: 1 if ('-p' in x and is_dis(x)) else 0)\n",
    "df['DisInvCorrVec'] = df.ID.map(lambda x: 1 if ('-n' in x) and is_dis(x) else 0)\n",
    "df['ChemDirCorrVec'] = df.ID.map(lambda x: 1 if ('-p' in x) and not is_dis(x) else 0)\n",
    "df['ChemInvCorrVec'] = df.ID.map(lambda x: 1 if ('-n' in x) and not is_dis(x) else 0)\n",
    "df['ChemUnspecVec'] = df.DisDirCorrVec + df.DisInvCorrVec + df.ChemDirCorrVec + df.ChemInvCorrVec\n",
    "df['ChemUnspecVec'] = df.ChemUnspecVec.map(lambda x: 0 if x > 0 else 1)\n",
    "\n",
    "df['ID'] = df.ID.apply(lambda x: x.replace('-p', '').replace('-n', ''))"
   ]
  },
  {
   "cell_type": "code",
   "execution_count": 134,
   "metadata": {},
   "outputs": [
    {
     "data": {
      "text/plain": [
       "'MESH:D018248'"
      ]
     },
     "execution_count": 134,
     "metadata": {},
     "output_type": "execute_result"
    }
   ],
   "source": [
    "df.ID[1]"
   ]
  },
  {
   "cell_type": "code",
   "execution_count": 135,
   "metadata": {},
   "outputs": [
    {
     "data": {
      "text/html": [
       "<div>\n",
       "<style scoped>\n",
       "    .dataframe tbody tr th:only-of-type {\n",
       "        vertical-align: middle;\n",
       "    }\n",
       "\n",
       "    .dataframe tbody tr th {\n",
       "        vertical-align: top;\n",
       "    }\n",
       "\n",
       "    .dataframe thead th {\n",
       "        text-align: right;\n",
       "    }\n",
       "</style>\n",
       "<table border=\"1\" class=\"dataframe\">\n",
       "  <thead>\n",
       "    <tr style=\"text-align: right;\">\n",
       "      <th></th>\n",
       "      <th>ID</th>\n",
       "      <th>Vector</th>\n",
       "      <th>DisDirCorrVec</th>\n",
       "      <th>DisInvCorrVec</th>\n",
       "      <th>ChemDirCorrVec</th>\n",
       "      <th>ChemInvCorrVec</th>\n",
       "      <th>ChemUnspecVec</th>\n",
       "    </tr>\n",
       "  </thead>\n",
       "  <tbody>\n",
       "    <tr>\n",
       "      <th>8500</th>\n",
       "      <td>D000841</td>\n",
       "      <td>[-9.28096175e-02, 5.16020134e-02, 1.73031196e-...</td>\n",
       "      <td>0</td>\n",
       "      <td>0</td>\n",
       "      <td>0</td>\n",
       "      <td>1</td>\n",
       "      <td>0</td>\n",
       "    </tr>\n",
       "    <tr>\n",
       "      <th>11666</th>\n",
       "      <td>C005266</td>\n",
       "      <td>[-4.69961874e-02, 6.82720169e-02, 3.95916104e-...</td>\n",
       "      <td>0</td>\n",
       "      <td>0</td>\n",
       "      <td>1</td>\n",
       "      <td>0</td>\n",
       "      <td>0</td>\n",
       "    </tr>\n",
       "    <tr>\n",
       "      <th>5019</th>\n",
       "      <td>OMIM:617193</td>\n",
       "      <td>[-2.03624722e-02, 5.49699366e-02, 4.83883470e-...</td>\n",
       "      <td>1</td>\n",
       "      <td>0</td>\n",
       "      <td>0</td>\n",
       "      <td>0</td>\n",
       "      <td>0</td>\n",
       "    </tr>\n",
       "    <tr>\n",
       "      <th>6814</th>\n",
       "      <td>C035088</td>\n",
       "      <td>[-6.24636449e-02, 9.70776826e-02, 5.96451163e-...</td>\n",
       "      <td>0</td>\n",
       "      <td>0</td>\n",
       "      <td>0</td>\n",
       "      <td>0</td>\n",
       "      <td>1</td>\n",
       "    </tr>\n",
       "    <tr>\n",
       "      <th>1562</th>\n",
       "      <td>MESH:C538152</td>\n",
       "      <td>[-0.00731593, 0.05558356, 0.03225823, -0.06803...</td>\n",
       "      <td>1</td>\n",
       "      <td>0</td>\n",
       "      <td>0</td>\n",
       "      <td>0</td>\n",
       "      <td>0</td>\n",
       "    </tr>\n",
       "    <tr>\n",
       "      <th>4191</th>\n",
       "      <td>MESH:D016472</td>\n",
       "      <td>[-0.05528065, 0.0477673, 0.03653362, -0.093342...</td>\n",
       "      <td>1</td>\n",
       "      <td>0</td>\n",
       "      <td>0</td>\n",
       "      <td>0</td>\n",
       "      <td>0</td>\n",
       "    </tr>\n",
       "    <tr>\n",
       "      <th>18546</th>\n",
       "      <td>D010876</td>\n",
       "      <td>[-3.96400429e-02, 3.36004049e-02, 2.99091693e-...</td>\n",
       "      <td>0</td>\n",
       "      <td>0</td>\n",
       "      <td>0</td>\n",
       "      <td>0</td>\n",
       "      <td>1</td>\n",
       "    </tr>\n",
       "  </tbody>\n",
       "</table>\n",
       "</div>"
      ],
      "text/plain": [
       "                 ID                                             Vector  \\\n",
       "8500        D000841  [-9.28096175e-02, 5.16020134e-02, 1.73031196e-...   \n",
       "11666       C005266  [-4.69961874e-02, 6.82720169e-02, 3.95916104e-...   \n",
       "5019    OMIM:617193  [-2.03624722e-02, 5.49699366e-02, 4.83883470e-...   \n",
       "6814        C035088  [-6.24636449e-02, 9.70776826e-02, 5.96451163e-...   \n",
       "1562   MESH:C538152  [-0.00731593, 0.05558356, 0.03225823, -0.06803...   \n",
       "4191   MESH:D016472  [-0.05528065, 0.0477673, 0.03653362, -0.093342...   \n",
       "18546       D010876  [-3.96400429e-02, 3.36004049e-02, 2.99091693e-...   \n",
       "\n",
       "       DisDirCorrVec  DisInvCorrVec  ChemDirCorrVec  ChemInvCorrVec  \\\n",
       "8500               0              0               0               1   \n",
       "11666              0              0               1               0   \n",
       "5019               1              0               0               0   \n",
       "6814               0              0               0               0   \n",
       "1562               1              0               0               0   \n",
       "4191               1              0               0               0   \n",
       "18546              0              0               0               0   \n",
       "\n",
       "       ChemUnspecVec  \n",
       "8500               0  \n",
       "11666              0  \n",
       "5019               0  \n",
       "6814               1  \n",
       "1562               0  \n",
       "4191               0  \n",
       "18546              1  "
      ]
     },
     "execution_count": 135,
     "metadata": {},
     "output_type": "execute_result"
    }
   ],
   "source": [
    "df.sample(7)"
   ]
  },
  {
   "cell_type": "code",
   "execution_count": 136,
   "metadata": {},
   "outputs": [
    {
     "data": {
      "text/html": [
       "<div>\n",
       "<style scoped>\n",
       "    .dataframe tbody tr th:only-of-type {\n",
       "        vertical-align: middle;\n",
       "    }\n",
       "\n",
       "    .dataframe tbody tr th {\n",
       "        vertical-align: top;\n",
       "    }\n",
       "\n",
       "    .dataframe thead th {\n",
       "        text-align: right;\n",
       "    }\n",
       "</style>\n",
       "<table border=\"1\" class=\"dataframe\">\n",
       "  <thead>\n",
       "    <tr style=\"text-align: right;\">\n",
       "      <th></th>\n",
       "      <th>ID</th>\n",
       "      <th>DisDirCorrVec</th>\n",
       "      <th>DisInvCorrVec</th>\n",
       "      <th>ChemDirCorrVec</th>\n",
       "      <th>ChemInvCorrVec</th>\n",
       "      <th>ChemUnspecCorrVec</th>\n",
       "    </tr>\n",
       "  </thead>\n",
       "  <tbody>\n",
       "    <tr>\n",
       "      <th>17762</th>\n",
       "      <td>D043371</td>\n",
       "      <td>NaN</td>\n",
       "      <td>NaN</td>\n",
       "      <td>NaN</td>\n",
       "      <td>NaN</td>\n",
       "      <td>NaN</td>\n",
       "    </tr>\n",
       "  </tbody>\n",
       "</table>\n",
       "</div>"
      ],
      "text/plain": [
       "            ID DisDirCorrVec DisInvCorrVec ChemDirCorrVec ChemInvCorrVec  \\\n",
       "17762  D043371           NaN           NaN            NaN            NaN   \n",
       "\n",
       "      ChemUnspecCorrVec  \n",
       "17762               NaN  "
      ]
     },
     "execution_count": 136,
     "metadata": {},
     "output_type": "execute_result"
    }
   ],
   "source": [
    "df2.sample(1)"
   ]
  },
  {
   "cell_type": "code",
   "execution_count": 137,
   "metadata": {},
   "outputs": [],
   "source": [
    "map_ddc = dict(zip(df[df.DisDirCorrVec == 1].ID, df[df.DisDirCorrVec == 1].Vector))\n",
    "map_dic = dict(zip(df[df.DisInvCorrVec == 1].ID, df[df.DisInvCorrVec == 1].Vector))\n",
    "map_cdc = dict(zip(df[df.ChemDirCorrVec == 1].ID, df[df.ChemDirCorrVec == 1].Vector))\n",
    "map_cic = dict(zip(df[df.ChemInvCorrVec == 1].ID, df[df.ChemInvCorrVec == 1].Vector))\n",
    "map_cuc = dict(zip(df[df.ChemUnspecVec == 1].ID, df[df.ChemUnspecVec == 1].Vector))\n",
    "\n",
    "\n",
    "df2['DisDirCorrVec'] = df2.ID.map(map_ddc)\n",
    "df2.DisInvCorrVec = df2.ID.map(map_dic)\n",
    "df2.ChemDirCorrVec = df2.ID.map(map_cdc)\n",
    "df2.ChemInvCorrVec = df2.ID.map(map_cic)\n",
    "df2.ChemUnspecCorrVec = df2.ID.map(map_cuc)"
   ]
  },
  {
   "cell_type": "code",
   "execution_count": 138,
   "metadata": {},
   "outputs": [
    {
     "data": {
      "text/html": [
       "<div>\n",
       "<style scoped>\n",
       "    .dataframe tbody tr th:only-of-type {\n",
       "        vertical-align: middle;\n",
       "    }\n",
       "\n",
       "    .dataframe tbody tr th {\n",
       "        vertical-align: top;\n",
       "    }\n",
       "\n",
       "    .dataframe thead th {\n",
       "        text-align: right;\n",
       "    }\n",
       "</style>\n",
       "<table border=\"1\" class=\"dataframe\">\n",
       "  <thead>\n",
       "    <tr style=\"text-align: right;\">\n",
       "      <th></th>\n",
       "      <th>ID</th>\n",
       "      <th>DisDirCorrVec</th>\n",
       "      <th>DisInvCorrVec</th>\n",
       "      <th>ChemDirCorrVec</th>\n",
       "      <th>ChemInvCorrVec</th>\n",
       "      <th>ChemUnspecCorrVec</th>\n",
       "    </tr>\n",
       "  </thead>\n",
       "  <tbody>\n",
       "    <tr>\n",
       "      <th>11549</th>\n",
       "      <td>D007736</td>\n",
       "      <td>NaN</td>\n",
       "      <td>NaN</td>\n",
       "      <td>[-0.09151547, 0.06845329, 0.11112696, -0.17573...</td>\n",
       "      <td>[-0.08183117, 0.01727716, 0.09232415, -0.17634...</td>\n",
       "      <td>NaN</td>\n",
       "    </tr>\n",
       "    <tr>\n",
       "      <th>17001</th>\n",
       "      <td>C046938</td>\n",
       "      <td>NaN</td>\n",
       "      <td>NaN</td>\n",
       "      <td>[-0.05133143, 0.04817239, 0.06400578, -0.12139...</td>\n",
       "      <td>NaN</td>\n",
       "      <td>[-5.33019118e-02, 8.07632282e-02, 9.14152265e-...</td>\n",
       "    </tr>\n",
       "    <tr>\n",
       "      <th>17010</th>\n",
       "      <td>D015117</td>\n",
       "      <td>NaN</td>\n",
       "      <td>NaN</td>\n",
       "      <td>[-6.58683777e-02, 7.17345476e-02, 9.00172442e-...</td>\n",
       "      <td>[-0.01925345, 0.04969458, 0.03486355, -0.08522...</td>\n",
       "      <td>NaN</td>\n",
       "    </tr>\n",
       "    <tr>\n",
       "      <th>5789</th>\n",
       "      <td>D012822</td>\n",
       "      <td>NaN</td>\n",
       "      <td>NaN</td>\n",
       "      <td>[-0.3354705, 0.18385965, 0.5258541, -0.9834969...</td>\n",
       "      <td>[-3.41573566e-01, 1.98254585e-01, 5.29961824e-...</td>\n",
       "      <td>[-0.31569377, -0.04136989, 0.41088748, -0.7447...</td>\n",
       "    </tr>\n",
       "    <tr>\n",
       "      <th>2998</th>\n",
       "      <td>MESH:C566021</td>\n",
       "      <td>[-0.01328178, 0.07144041, 0.06125742, -0.09603...</td>\n",
       "      <td>NaN</td>\n",
       "      <td>NaN</td>\n",
       "      <td>NaN</td>\n",
       "      <td>NaN</td>\n",
       "    </tr>\n",
       "    <tr>\n",
       "      <th>16289</th>\n",
       "      <td>C014553</td>\n",
       "      <td>NaN</td>\n",
       "      <td>NaN</td>\n",
       "      <td>[-0.06056729, 0.04230394, 0.029643, -0.0736924...</td>\n",
       "      <td>[-0.04864759, 0.02896951, 0.0272332, -0.076335...</td>\n",
       "      <td>NaN</td>\n",
       "    </tr>\n",
       "    <tr>\n",
       "      <th>3211</th>\n",
       "      <td>MESH:C537651</td>\n",
       "      <td>[-0.03522941, 0.04029175, 0.04871203, -0.09706...</td>\n",
       "      <td>NaN</td>\n",
       "      <td>NaN</td>\n",
       "      <td>NaN</td>\n",
       "      <td>NaN</td>\n",
       "    </tr>\n",
       "    <tr>\n",
       "      <th>7239</th>\n",
       "      <td>C474958</td>\n",
       "      <td>NaN</td>\n",
       "      <td>NaN</td>\n",
       "      <td>[-6.10722974e-02, 3.59571166e-02, 3.83552872e-...</td>\n",
       "      <td>[-0.05257897, 0.02480467, 0.10700747, -0.20861...</td>\n",
       "      <td>[-0.1229253, 0.09758545, 0.08525432, -0.255220...</td>\n",
       "    </tr>\n",
       "    <tr>\n",
       "      <th>17979</th>\n",
       "      <td>C504663</td>\n",
       "      <td>NaN</td>\n",
       "      <td>NaN</td>\n",
       "      <td>NaN</td>\n",
       "      <td>[-0.02001175, 0.05509772, 0.05066242, -0.09461...</td>\n",
       "      <td>NaN</td>\n",
       "    </tr>\n",
       "    <tr>\n",
       "      <th>8638</th>\n",
       "      <td>C005413</td>\n",
       "      <td>NaN</td>\n",
       "      <td>NaN</td>\n",
       "      <td>[-0.10074343, 0.05072116, 0.09802597, -0.14002...</td>\n",
       "      <td>[-0.07320718, 0.05817474, 0.104221, -0.2137111...</td>\n",
       "      <td>[-0.04694609, 0.03286703, 0.03266567, -0.09245...</td>\n",
       "    </tr>\n",
       "    <tr>\n",
       "      <th>11191</th>\n",
       "      <td>C467566</td>\n",
       "      <td>NaN</td>\n",
       "      <td>NaN</td>\n",
       "      <td>[-0.08110854, 0.05837479, 0.09950198, -0.18128...</td>\n",
       "      <td>[-0.08451236, 0.07041939, 0.12034035, -0.22666...</td>\n",
       "      <td>[-0.0866766, 0.07563295, 0.09689866, -0.202644...</td>\n",
       "    </tr>\n",
       "    <tr>\n",
       "      <th>6214</th>\n",
       "      <td>C045950</td>\n",
       "      <td>NaN</td>\n",
       "      <td>NaN</td>\n",
       "      <td>[-6.62756488e-02, 8.13023448e-02, 6.64143786e-...</td>\n",
       "      <td>[-2.61575598e-02, 6.39686659e-02, 2.63010375e-...</td>\n",
       "      <td>[-4.46249656e-02, 1.23959251e-01, 7.57759064e-...</td>\n",
       "    </tr>\n",
       "    <tr>\n",
       "      <th>3028</th>\n",
       "      <td>MESH:C564334</td>\n",
       "      <td>[-0.05625825, 0.03419926, 0.08197511, -0.12405...</td>\n",
       "      <td>NaN</td>\n",
       "      <td>NaN</td>\n",
       "      <td>NaN</td>\n",
       "      <td>NaN</td>\n",
       "    </tr>\n",
       "  </tbody>\n",
       "</table>\n",
       "</div>"
      ],
      "text/plain": [
       "                 ID                                      DisDirCorrVec  \\\n",
       "11549       D007736                                                NaN   \n",
       "17001       C046938                                                NaN   \n",
       "17010       D015117                                                NaN   \n",
       "5789        D012822                                                NaN   \n",
       "2998   MESH:C566021  [-0.01328178, 0.07144041, 0.06125742, -0.09603...   \n",
       "16289       C014553                                                NaN   \n",
       "3211   MESH:C537651  [-0.03522941, 0.04029175, 0.04871203, -0.09706...   \n",
       "7239        C474958                                                NaN   \n",
       "17979       C504663                                                NaN   \n",
       "8638        C005413                                                NaN   \n",
       "11191       C467566                                                NaN   \n",
       "6214        C045950                                                NaN   \n",
       "3028   MESH:C564334  [-0.05625825, 0.03419926, 0.08197511, -0.12405...   \n",
       "\n",
       "      DisInvCorrVec                                     ChemDirCorrVec  \\\n",
       "11549           NaN  [-0.09151547, 0.06845329, 0.11112696, -0.17573...   \n",
       "17001           NaN  [-0.05133143, 0.04817239, 0.06400578, -0.12139...   \n",
       "17010           NaN  [-6.58683777e-02, 7.17345476e-02, 9.00172442e-...   \n",
       "5789            NaN  [-0.3354705, 0.18385965, 0.5258541, -0.9834969...   \n",
       "2998            NaN                                                NaN   \n",
       "16289           NaN  [-0.06056729, 0.04230394, 0.029643, -0.0736924...   \n",
       "3211            NaN                                                NaN   \n",
       "7239            NaN  [-6.10722974e-02, 3.59571166e-02, 3.83552872e-...   \n",
       "17979           NaN                                                NaN   \n",
       "8638            NaN  [-0.10074343, 0.05072116, 0.09802597, -0.14002...   \n",
       "11191           NaN  [-0.08110854, 0.05837479, 0.09950198, -0.18128...   \n",
       "6214            NaN  [-6.62756488e-02, 8.13023448e-02, 6.64143786e-...   \n",
       "3028            NaN                                                NaN   \n",
       "\n",
       "                                          ChemInvCorrVec  \\\n",
       "11549  [-0.08183117, 0.01727716, 0.09232415, -0.17634...   \n",
       "17001                                                NaN   \n",
       "17010  [-0.01925345, 0.04969458, 0.03486355, -0.08522...   \n",
       "5789   [-3.41573566e-01, 1.98254585e-01, 5.29961824e-...   \n",
       "2998                                                 NaN   \n",
       "16289  [-0.04864759, 0.02896951, 0.0272332, -0.076335...   \n",
       "3211                                                 NaN   \n",
       "7239   [-0.05257897, 0.02480467, 0.10700747, -0.20861...   \n",
       "17979  [-0.02001175, 0.05509772, 0.05066242, -0.09461...   \n",
       "8638   [-0.07320718, 0.05817474, 0.104221, -0.2137111...   \n",
       "11191  [-0.08451236, 0.07041939, 0.12034035, -0.22666...   \n",
       "6214   [-2.61575598e-02, 6.39686659e-02, 2.63010375e-...   \n",
       "3028                                                 NaN   \n",
       "\n",
       "                                       ChemUnspecCorrVec  \n",
       "11549                                                NaN  \n",
       "17001  [-5.33019118e-02, 8.07632282e-02, 9.14152265e-...  \n",
       "17010                                                NaN  \n",
       "5789   [-0.31569377, -0.04136989, 0.41088748, -0.7447...  \n",
       "2998                                                 NaN  \n",
       "16289                                                NaN  \n",
       "3211                                                 NaN  \n",
       "7239   [-0.1229253, 0.09758545, 0.08525432, -0.255220...  \n",
       "17979                                                NaN  \n",
       "8638   [-0.04694609, 0.03286703, 0.03266567, -0.09245...  \n",
       "11191  [-0.0866766, 0.07563295, 0.09689866, -0.202644...  \n",
       "6214   [-4.46249656e-02, 1.23959251e-01, 7.57759064e-...  \n",
       "3028                                                 NaN  "
      ]
     },
     "execution_count": 138,
     "metadata": {},
     "output_type": "execute_result"
    }
   ],
   "source": [
    "df2.sample(13)"
   ]
  },
  {
   "cell_type": "code",
   "execution_count": 139,
   "metadata": {},
   "outputs": [],
   "source": [
    "# %reset"
   ]
  },
  {
   "cell_type": "code",
   "execution_count": 140,
   "metadata": {},
   "outputs": [],
   "source": [
    "# df.DisDirCorrVec.unique()"
   ]
  },
  {
   "cell_type": "code",
   "execution_count": 141,
   "metadata": {},
   "outputs": [],
   "source": [
    "# df[df.ID == 'MESH:D058186']#.drop_duplicates(subset='ID')"
   ]
  },
  {
   "cell_type": "code",
   "execution_count": 142,
   "metadata": {},
   "outputs": [],
   "source": [
    "# df.apply(lambda row: row.UnspecCorr)"
   ]
  },
  {
   "cell_type": "code",
   "execution_count": 143,
   "metadata": {},
   "outputs": [],
   "source": [
    "# # Consolidate all info about an entity onto one line\n",
    "# mask = (df.DirCorr == 1)\n",
    "# df.loc[mask, 'DirCorr'] = df.Vector\n",
    "\n",
    "# mask = (df.InvCorr == 1)\n",
    "# df.loc[mask, 'InvCorr'] = df.Vector\n",
    "\n",
    "# mask = (df.UnspecCorr == 1)\n",
    "# df.loc[mask, 'UnspecCorr'] = df.Vector"
   ]
  },
  {
   "cell_type": "markdown",
   "metadata": {},
   "source": [
    "### 2. Create DF for NN\n",
    "Munge the df into the following columns:<br>\n",
    "ChemID DisID ChemVec DisVec PositiveAssociationExists(binary)"
   ]
  },
  {
   "cell_type": "code",
   "execution_count": 144,
   "metadata": {},
   "outputs": [
    {
     "data": {
      "text/html": [
       "<div>\n",
       "<style scoped>\n",
       "    .dataframe tbody tr th:only-of-type {\n",
       "        vertical-align: middle;\n",
       "    }\n",
       "\n",
       "    .dataframe tbody tr th {\n",
       "        vertical-align: top;\n",
       "    }\n",
       "\n",
       "    .dataframe thead th {\n",
       "        text-align: right;\n",
       "    }\n",
       "</style>\n",
       "<table border=\"1\" class=\"dataframe\">\n",
       "  <thead>\n",
       "    <tr style=\"text-align: right;\">\n",
       "      <th></th>\n",
       "      <th>ChemicalID</th>\n",
       "      <th>DiseaseID</th>\n",
       "      <th>DirectEvidence</th>\n",
       "    </tr>\n",
       "  </thead>\n",
       "  <tbody>\n",
       "    <tr>\n",
       "      <th>0</th>\n",
       "      <td>C046983</td>\n",
       "      <td>MESH:D054198</td>\n",
       "      <td>therapeutic</td>\n",
       "    </tr>\n",
       "    <tr>\n",
       "      <th>1</th>\n",
       "      <td>C112297</td>\n",
       "      <td>MESH:D006948</td>\n",
       "      <td>marker/mechanism</td>\n",
       "    </tr>\n",
       "    <tr>\n",
       "      <th>2</th>\n",
       "      <td>C112297</td>\n",
       "      <td>MESH:D012640</td>\n",
       "      <td>marker/mechanism</td>\n",
       "    </tr>\n",
       "    <tr>\n",
       "      <th>3</th>\n",
       "      <td>C039775</td>\n",
       "      <td>MESH:D004827</td>\n",
       "      <td>therapeutic</td>\n",
       "    </tr>\n",
       "    <tr>\n",
       "      <th>4</th>\n",
       "      <td>C425777</td>\n",
       "      <td>MESH:D006948</td>\n",
       "      <td>marker/mechanism</td>\n",
       "    </tr>\n",
       "  </tbody>\n",
       "</table>\n",
       "</div>"
      ],
      "text/plain": [
       "  ChemicalID     DiseaseID    DirectEvidence\n",
       "0    C046983  MESH:D054198       therapeutic\n",
       "1    C112297  MESH:D006948  marker/mechanism\n",
       "2    C112297  MESH:D012640  marker/mechanism\n",
       "3    C039775  MESH:D004827       therapeutic\n",
       "4    C425777  MESH:D006948  marker/mechanism"
      ]
     },
     "execution_count": 144,
     "metadata": {},
     "output_type": "execute_result"
    }
   ],
   "source": [
    "# Step 1: Import file of proven chem-dis positive associations (created in ctd-to-nt notebook from ctd data)\n",
    "chem_dis = pd.read_csv('../ctd-to-nt/chem-dis-pos-assocs.csv')\n",
    "chem_dis.head()"
   ]
  },
  {
   "cell_type": "code",
   "execution_count": 145,
   "metadata": {},
   "outputs": [
    {
     "data": {
      "text/plain": [
       "3191"
      ]
     },
     "execution_count": 145,
     "metadata": {},
     "output_type": "execute_result"
    }
   ],
   "source": [
    "chem_dis.DiseaseID.nunique()"
   ]
  },
  {
   "cell_type": "code",
   "execution_count": 146,
   "metadata": {},
   "outputs": [
    {
     "data": {
      "text/plain": [
       "(96086, 3)"
      ]
     },
     "execution_count": 146,
     "metadata": {},
     "output_type": "execute_result"
    }
   ],
   "source": [
    "chem_dis.shape"
   ]
  },
  {
   "cell_type": "code",
   "execution_count": 147,
   "metadata": {},
   "outputs": [],
   "source": [
    "# Get rid of any chems/diseases that don't have a vector\n",
    "chem_dis['DiseaseID'] = chem_dis['DiseaseID'].astype(str)\n",
    "df['ID'] = df['ID'].astype(str)\n",
    "id_list = df.ID.tolist() # list of chems+diseases with vecs\n",
    "\n",
    "# chem_dis['DiseaseID'] = chem_dis['DiseaseID'].str.replace('MESH:', '')\n",
    "# chem_dis['DiseaseID'] = chem_dis['DiseaseID'].str.replace('OMIM:', '')\n",
    "\n",
    "chem_dis['hasDVec'] = chem_dis.DiseaseID.map(lambda x: x in id_list)\n",
    "chem_dis['hasCVec'] = chem_dis.ChemicalID.map(lambda x: x in id_list)\n",
    "chem_dis = chem_dis.loc[(chem_dis['hasDVec'] == True) & (chem_dis['hasCVec'] == True)]\n",
    "chem_dis = chem_dis.drop(['hasDVec','hasCVec'], axis=1)"
   ]
  },
  {
   "cell_type": "code",
   "execution_count": 148,
   "metadata": {},
   "outputs": [
    {
     "data": {
      "text/plain": [
       "['MESH:D058186', 'MESH:D018248', 'MESH:C566304', 'MESH:D000544']"
      ]
     },
     "execution_count": 148,
     "metadata": {},
     "output_type": "execute_result"
    }
   ],
   "source": [
    "id_list[:4]"
   ]
  },
  {
   "cell_type": "code",
   "execution_count": 149,
   "metadata": {},
   "outputs": [
    {
     "data": {
      "text/plain": [
       "19772"
      ]
     },
     "execution_count": 149,
     "metadata": {},
     "output_type": "execute_result"
    }
   ],
   "source": [
    "len(id_list)"
   ]
  },
  {
   "cell_type": "code",
   "execution_count": 150,
   "metadata": {},
   "outputs": [
    {
     "data": {
      "text/html": [
       "<div>\n",
       "<style scoped>\n",
       "    .dataframe tbody tr th:only-of-type {\n",
       "        vertical-align: middle;\n",
       "    }\n",
       "\n",
       "    .dataframe tbody tr th {\n",
       "        vertical-align: top;\n",
       "    }\n",
       "\n",
       "    .dataframe thead th {\n",
       "        text-align: right;\n",
       "    }\n",
       "</style>\n",
       "<table border=\"1\" class=\"dataframe\">\n",
       "  <thead>\n",
       "    <tr style=\"text-align: right;\">\n",
       "      <th></th>\n",
       "      <th>ID</th>\n",
       "      <th>DisDirCorrVec</th>\n",
       "      <th>DisInvCorrVec</th>\n",
       "      <th>ChemDirCorrVec</th>\n",
       "      <th>ChemInvCorrVec</th>\n",
       "      <th>ChemUnspecCorrVec</th>\n",
       "    </tr>\n",
       "  </thead>\n",
       "  <tbody>\n",
       "    <tr>\n",
       "      <th>0</th>\n",
       "      <td>MESH:D058186</td>\n",
       "      <td>[-0.06852717, 0.15350106, 0.23229387, -0.44249...</td>\n",
       "      <td>[-0.0591621, 0.1081444, 0.07757665, -0.1785171...</td>\n",
       "      <td>NaN</td>\n",
       "      <td>NaN</td>\n",
       "      <td>[-0.0452428, 0.11959363, 0.08201975, -0.179111...</td>\n",
       "    </tr>\n",
       "    <tr>\n",
       "      <th>1</th>\n",
       "      <td>MESH:D018248</td>\n",
       "      <td>[-0.0899308, 0.0307946, 0.14956534, -0.2953864...</td>\n",
       "      <td>NaN</td>\n",
       "      <td>NaN</td>\n",
       "      <td>NaN</td>\n",
       "      <td>NaN</td>\n",
       "    </tr>\n",
       "    <tr>\n",
       "      <th>2</th>\n",
       "      <td>MESH:C566304</td>\n",
       "      <td>[-0.04015999, 0.03477001, 0.04016547, -0.09441...</td>\n",
       "      <td>NaN</td>\n",
       "      <td>NaN</td>\n",
       "      <td>NaN</td>\n",
       "      <td>NaN</td>\n",
       "    </tr>\n",
       "    <tr>\n",
       "      <th>3</th>\n",
       "      <td>MESH:D000544</td>\n",
       "      <td>[-0.1676657, 0.0684097, 0.2483991, -0.54427016...</td>\n",
       "      <td>[-0.05414425, 0.07003102, 0.09926199, -0.17397...</td>\n",
       "      <td>NaN</td>\n",
       "      <td>NaN</td>\n",
       "      <td>[-0.04199823, 0.04310035, 0.03832947, -0.09225...</td>\n",
       "    </tr>\n",
       "    <tr>\n",
       "      <th>4</th>\n",
       "      <td>MESH:D006528</td>\n",
       "      <td>[-0.13324945, 0.08320811, 0.3336055, -0.653810...</td>\n",
       "      <td>[-5.90123981e-02, 7.61133507e-02, 7.60814622e-...</td>\n",
       "      <td>NaN</td>\n",
       "      <td>NaN</td>\n",
       "      <td>[-0.03913551, 0.05661076, 0.02880418, -0.10001...</td>\n",
       "    </tr>\n",
       "  </tbody>\n",
       "</table>\n",
       "</div>"
      ],
      "text/plain": [
       "             ID                                      DisDirCorrVec  \\\n",
       "0  MESH:D058186  [-0.06852717, 0.15350106, 0.23229387, -0.44249...   \n",
       "1  MESH:D018248  [-0.0899308, 0.0307946, 0.14956534, -0.2953864...   \n",
       "2  MESH:C566304  [-0.04015999, 0.03477001, 0.04016547, -0.09441...   \n",
       "3  MESH:D000544  [-0.1676657, 0.0684097, 0.2483991, -0.54427016...   \n",
       "4  MESH:D006528  [-0.13324945, 0.08320811, 0.3336055, -0.653810...   \n",
       "\n",
       "                                       DisInvCorrVec ChemDirCorrVec  \\\n",
       "0  [-0.0591621, 0.1081444, 0.07757665, -0.1785171...            NaN   \n",
       "1                                                NaN            NaN   \n",
       "2                                                NaN            NaN   \n",
       "3  [-0.05414425, 0.07003102, 0.09926199, -0.17397...            NaN   \n",
       "4  [-5.90123981e-02, 7.61133507e-02, 7.60814622e-...            NaN   \n",
       "\n",
       "  ChemInvCorrVec                                  ChemUnspecCorrVec  \n",
       "0            NaN  [-0.0452428, 0.11959363, 0.08201975, -0.179111...  \n",
       "1            NaN                                                NaN  \n",
       "2            NaN                                                NaN  \n",
       "3            NaN  [-0.04199823, 0.04310035, 0.03832947, -0.09225...  \n",
       "4            NaN  [-0.03913551, 0.05661076, 0.02880418, -0.10001...  "
      ]
     },
     "execution_count": 150,
     "metadata": {},
     "output_type": "execute_result"
    }
   ],
   "source": [
    "df2.head()"
   ]
  },
  {
   "cell_type": "code",
   "execution_count": null,
   "metadata": {},
   "outputs": [],
   "source": []
  },
  {
   "cell_type": "code",
   "execution_count": 151,
   "metadata": {},
   "outputs": [],
   "source": [
    "# merge all info into one df\n",
    "# this df now contains only correlated diseases and vecs\n",
    "df_d = df2.copy()\n",
    "df_d = df_d[['ID', 'DisDirCorrVec', 'DisInvCorrVec']]\n",
    "# df_d.columns= ['DiseaseID', 'DisDirCorrVec', 'DisInvCorrVec']\n",
    "# # df_d = ['DiseaseID', 'DVec', 'disDirCorr', 'disInvCorr', 'disUnspecCorr']\n",
    "df_c = df2.copy()\n",
    "df_c = df_c[['ID', 'ChemDirCorrVec', 'ChemInvCorrVec', 'ChemUnspecCorrVec']]\n",
    "\n",
    "df_c = df_c.rename(columns={'ID': 'ChemicalID'})\n",
    "df_d = df_d.rename(columns={'ID': 'DiseaseID'})\n",
    "# df_c = ['ChemicalID', 'ChemDirCorrVec', 'ChemInvCorrVec', 'ChemUnspecCorrVec']\n",
    "df1 = pd.merge(chem_dis, df_d, on='DiseaseID')\n",
    "df1 = pd.merge(df1, df_c, on='ChemicalID')\n",
    "\n",
    "# df1['Correlation'] = 1 # currently only have correlated in there"
   ]
  },
  {
   "cell_type": "code",
   "execution_count": 152,
   "metadata": {},
   "outputs": [
    {
     "data": {
      "text/html": [
       "<div>\n",
       "<style scoped>\n",
       "    .dataframe tbody tr th:only-of-type {\n",
       "        vertical-align: middle;\n",
       "    }\n",
       "\n",
       "    .dataframe tbody tr th {\n",
       "        vertical-align: top;\n",
       "    }\n",
       "\n",
       "    .dataframe thead th {\n",
       "        text-align: right;\n",
       "    }\n",
       "</style>\n",
       "<table border=\"1\" class=\"dataframe\">\n",
       "  <thead>\n",
       "    <tr style=\"text-align: right;\">\n",
       "      <th></th>\n",
       "      <th>ChemicalID</th>\n",
       "      <th>DiseaseID</th>\n",
       "      <th>DirectEvidence</th>\n",
       "      <th>DisDirCorrVec</th>\n",
       "      <th>DisInvCorrVec</th>\n",
       "      <th>ChemDirCorrVec</th>\n",
       "      <th>ChemInvCorrVec</th>\n",
       "      <th>ChemUnspecCorrVec</th>\n",
       "    </tr>\n",
       "  </thead>\n",
       "  <tbody>\n",
       "    <tr>\n",
       "      <th>0</th>\n",
       "      <td>C039775</td>\n",
       "      <td>MESH:D004827</td>\n",
       "      <td>therapeutic</td>\n",
       "      <td>[-0.16996855, 0.05167083, 0.29020584, -0.53215...</td>\n",
       "      <td>[-0.03990896, 0.0048264, 0.08569653, -0.260818...</td>\n",
       "      <td>NaN</td>\n",
       "      <td>NaN</td>\n",
       "      <td>[-0.03291181, 0.05096256, 0.03336031, -0.08635...</td>\n",
       "    </tr>\n",
       "    <tr>\n",
       "      <th>1</th>\n",
       "      <td>D000086</td>\n",
       "      <td>MESH:D004827</td>\n",
       "      <td>therapeutic</td>\n",
       "      <td>[-0.16996855, 0.05167083, 0.29020584, -0.53215...</td>\n",
       "      <td>[-0.03990896, 0.0048264, 0.08569653, -0.260818...</td>\n",
       "      <td>[-1.09719053e-01, 6.35609105e-02, 6.10219501e-...</td>\n",
       "      <td>[-0.04490209, 0.0797325, 0.06498429, -0.177518...</td>\n",
       "      <td>[-0.03970664, 0.04237759, 0.0300679, -0.081209...</td>\n",
       "    </tr>\n",
       "    <tr>\n",
       "      <th>2</th>\n",
       "      <td>D000086</td>\n",
       "      <td>MESH:D000014</td>\n",
       "      <td>marker/mechanism</td>\n",
       "      <td>[-0.05951616, 0.01888514, 0.06238122, -0.14188...</td>\n",
       "      <td>[-0.044294, 0.05745224, 0.04733784, -0.1226361...</td>\n",
       "      <td>[-1.09719053e-01, 6.35609105e-02, 6.10219501e-...</td>\n",
       "      <td>[-0.04490209, 0.0797325, 0.06498429, -0.177518...</td>\n",
       "      <td>[-0.03970664, 0.04237759, 0.0300679, -0.081209...</td>\n",
       "    </tr>\n",
       "    <tr>\n",
       "      <th>3</th>\n",
       "      <td>D000086</td>\n",
       "      <td>MESH:D007249</td>\n",
       "      <td>marker/mechanism</td>\n",
       "      <td>[-1.29303843e-01, 8.41123536e-02, 2.71904469e-...</td>\n",
       "      <td>[-0.07853802, 0.14241719, 0.21081172, -0.36072...</td>\n",
       "      <td>[-1.09719053e-01, 6.35609105e-02, 6.10219501e-...</td>\n",
       "      <td>[-0.04490209, 0.0797325, 0.06498429, -0.177518...</td>\n",
       "      <td>[-0.03970664, 0.04237759, 0.0300679, -0.081209...</td>\n",
       "    </tr>\n",
       "    <tr>\n",
       "      <th>4</th>\n",
       "      <td>D000086</td>\n",
       "      <td>MESH:D020521</td>\n",
       "      <td>therapeutic</td>\n",
       "      <td>[-0.12330794, 0.14661826, 0.21382102, -0.43842...</td>\n",
       "      <td>[-0.07127677, 0.0587761, 0.07117193, -0.150256...</td>\n",
       "      <td>[-1.09719053e-01, 6.35609105e-02, 6.10219501e-...</td>\n",
       "      <td>[-0.04490209, 0.0797325, 0.06498429, -0.177518...</td>\n",
       "      <td>[-0.03970664, 0.04237759, 0.0300679, -0.081209...</td>\n",
       "    </tr>\n",
       "  </tbody>\n",
       "</table>\n",
       "</div>"
      ],
      "text/plain": [
       "  ChemicalID     DiseaseID    DirectEvidence  \\\n",
       "0    C039775  MESH:D004827       therapeutic   \n",
       "1    D000086  MESH:D004827       therapeutic   \n",
       "2    D000086  MESH:D000014  marker/mechanism   \n",
       "3    D000086  MESH:D007249  marker/mechanism   \n",
       "4    D000086  MESH:D020521       therapeutic   \n",
       "\n",
       "                                       DisDirCorrVec  \\\n",
       "0  [-0.16996855, 0.05167083, 0.29020584, -0.53215...   \n",
       "1  [-0.16996855, 0.05167083, 0.29020584, -0.53215...   \n",
       "2  [-0.05951616, 0.01888514, 0.06238122, -0.14188...   \n",
       "3  [-1.29303843e-01, 8.41123536e-02, 2.71904469e-...   \n",
       "4  [-0.12330794, 0.14661826, 0.21382102, -0.43842...   \n",
       "\n",
       "                                       DisInvCorrVec  \\\n",
       "0  [-0.03990896, 0.0048264, 0.08569653, -0.260818...   \n",
       "1  [-0.03990896, 0.0048264, 0.08569653, -0.260818...   \n",
       "2  [-0.044294, 0.05745224, 0.04733784, -0.1226361...   \n",
       "3  [-0.07853802, 0.14241719, 0.21081172, -0.36072...   \n",
       "4  [-0.07127677, 0.0587761, 0.07117193, -0.150256...   \n",
       "\n",
       "                                      ChemDirCorrVec  \\\n",
       "0                                                NaN   \n",
       "1  [-1.09719053e-01, 6.35609105e-02, 6.10219501e-...   \n",
       "2  [-1.09719053e-01, 6.35609105e-02, 6.10219501e-...   \n",
       "3  [-1.09719053e-01, 6.35609105e-02, 6.10219501e-...   \n",
       "4  [-1.09719053e-01, 6.35609105e-02, 6.10219501e-...   \n",
       "\n",
       "                                      ChemInvCorrVec  \\\n",
       "0                                                NaN   \n",
       "1  [-0.04490209, 0.0797325, 0.06498429, -0.177518...   \n",
       "2  [-0.04490209, 0.0797325, 0.06498429, -0.177518...   \n",
       "3  [-0.04490209, 0.0797325, 0.06498429, -0.177518...   \n",
       "4  [-0.04490209, 0.0797325, 0.06498429, -0.177518...   \n",
       "\n",
       "                                   ChemUnspecCorrVec  \n",
       "0  [-0.03291181, 0.05096256, 0.03336031, -0.08635...  \n",
       "1  [-0.03970664, 0.04237759, 0.0300679, -0.081209...  \n",
       "2  [-0.03970664, 0.04237759, 0.0300679, -0.081209...  \n",
       "3  [-0.03970664, 0.04237759, 0.0300679, -0.081209...  \n",
       "4  [-0.03970664, 0.04237759, 0.0300679, -0.081209...  "
      ]
     },
     "execution_count": 152,
     "metadata": {},
     "output_type": "execute_result"
    }
   ],
   "source": [
    "df1.head()"
   ]
  },
  {
   "cell_type": "code",
   "execution_count": null,
   "metadata": {},
   "outputs": [],
   "source": []
  },
  {
   "cell_type": "code",
   "execution_count": 153,
   "metadata": {},
   "outputs": [],
   "source": [
    "# df1['Correlation'] = df1.DirectEvidence.map(lambda x: 0 if x == 'therapeutic' else 2)"
   ]
  },
  {
   "cell_type": "code",
   "execution_count": 154,
   "metadata": {},
   "outputs": [],
   "source": [
    "# df1[['DirectEvidence']] = df1[['DirectEvidence']].fillna(value='Uncorrelated')\n",
    "# df1.DirectEvidence.value_counts()"
   ]
  },
  {
   "cell_type": "code",
   "execution_count": 155,
   "metadata": {},
   "outputs": [],
   "source": [
    "# df1['target'] = df1.DirectEvidence.astype('category').cat.codes"
   ]
  },
  {
   "cell_type": "code",
   "execution_count": 156,
   "metadata": {},
   "outputs": [],
   "source": [
    "# df1.head()"
   ]
  },
  {
   "cell_type": "code",
   "execution_count": 157,
   "metadata": {},
   "outputs": [],
   "source": [
    "# # Consolidate all info about an entity onto one line\n",
    "# #Chem\n",
    "# mask = (df1.chemDirCorr == 1)\n",
    "# df1.loc[mask, 'chemDirCorr'] = df1.CVec\n",
    "\n",
    "# mask = (df1.chemInvCorr == 1)\n",
    "# df1.loc[mask, 'chemInvCorr'] = df1.CVec\n",
    "\n",
    "# mask = (df1.chemUnspecCorr == 1)\n",
    "# df1.loc[mask, 'chemUnspecCorr'] = df1.CVec\n",
    "\n",
    "# #Dis ( no unspecified correlation for disease)\n",
    "# mask = (df1.disDirCorr == 1)\n",
    "# df1.loc[mask, 'disDirCorr'] = df1.DVec\n",
    "\n",
    "# mask = (df1.disInvCorr == 1)\n",
    "# df1.loc[mask, 'disInvCorr'] = df1.DVec"
   ]
  },
  {
   "cell_type": "code",
   "execution_count": 158,
   "metadata": {},
   "outputs": [],
   "source": [
    "# for col in ['disDirCorr', 'disInvCorr',  'chemDirCorr', 'chemInvCorr', 'chemUnspecCorr']:\n",
    "#     df1[col] = df1[col].replace(0,np.nan)"
   ]
  },
  {
   "cell_type": "code",
   "execution_count": 159,
   "metadata": {},
   "outputs": [],
   "source": [
    "# # aggregation_functions = {'disDirCorr': 'first', 'amount': 'sum', 'name': 'first'}\n",
    "# df2 = df1.groupby(['ChemicalID', 'DiseaseID', 'DirectEvidence']).aggregate('first')"
   ]
  },
  {
   "cell_type": "code",
   "execution_count": 160,
   "metadata": {},
   "outputs": [],
   "source": [
    "# # df2.columns = df2.columns.get_level_values(0)\n",
    "# # df2.columns = ['_'.join(tup).rstrip('_') for tup in df2.columns.values]\n",
    "# df2.columns = [\"_\".join(x) for x in df2.columns.ravel()]"
   ]
  },
  {
   "cell_type": "code",
   "execution_count": null,
   "metadata": {},
   "outputs": [],
   "source": []
  },
  {
   "cell_type": "code",
   "execution_count": 161,
   "metadata": {},
   "outputs": [
    {
     "data": {
      "text/html": [
       "<div>\n",
       "<style scoped>\n",
       "    .dataframe tbody tr th:only-of-type {\n",
       "        vertical-align: middle;\n",
       "    }\n",
       "\n",
       "    .dataframe tbody tr th {\n",
       "        vertical-align: top;\n",
       "    }\n",
       "\n",
       "    .dataframe thead th {\n",
       "        text-align: right;\n",
       "    }\n",
       "</style>\n",
       "<table border=\"1\" class=\"dataframe\">\n",
       "  <thead>\n",
       "    <tr style=\"text-align: right;\">\n",
       "      <th></th>\n",
       "      <th>ChemicalID</th>\n",
       "      <th>DiseaseID</th>\n",
       "      <th>DirectEvidence</th>\n",
       "      <th>DisDirCorrVec</th>\n",
       "      <th>DisInvCorrVec</th>\n",
       "      <th>ChemDirCorrVec</th>\n",
       "      <th>ChemInvCorrVec</th>\n",
       "      <th>ChemUnspecCorrVec</th>\n",
       "    </tr>\n",
       "  </thead>\n",
       "  <tbody>\n",
       "    <tr>\n",
       "      <th>0</th>\n",
       "      <td>C039775</td>\n",
       "      <td>MESH:D004827</td>\n",
       "      <td>therapeutic</td>\n",
       "      <td>[-0.16996855, 0.05167083, 0.29020584, -0.53215...</td>\n",
       "      <td>[-0.03990896, 0.0048264, 0.08569653, -0.260818...</td>\n",
       "      <td>NaN</td>\n",
       "      <td>NaN</td>\n",
       "      <td>[-0.03291181, 0.05096256, 0.03336031, -0.08635...</td>\n",
       "    </tr>\n",
       "    <tr>\n",
       "      <th>1</th>\n",
       "      <td>D000086</td>\n",
       "      <td>MESH:D004827</td>\n",
       "      <td>therapeutic</td>\n",
       "      <td>[-0.16996855, 0.05167083, 0.29020584, -0.53215...</td>\n",
       "      <td>[-0.03990896, 0.0048264, 0.08569653, -0.260818...</td>\n",
       "      <td>[-1.09719053e-01, 6.35609105e-02, 6.10219501e-...</td>\n",
       "      <td>[-0.04490209, 0.0797325, 0.06498429, -0.177518...</td>\n",
       "      <td>[-0.03970664, 0.04237759, 0.0300679, -0.081209...</td>\n",
       "    </tr>\n",
       "    <tr>\n",
       "      <th>2</th>\n",
       "      <td>D000086</td>\n",
       "      <td>MESH:D000014</td>\n",
       "      <td>marker/mechanism</td>\n",
       "      <td>[-0.05951616, 0.01888514, 0.06238122, -0.14188...</td>\n",
       "      <td>[-0.044294, 0.05745224, 0.04733784, -0.1226361...</td>\n",
       "      <td>[-1.09719053e-01, 6.35609105e-02, 6.10219501e-...</td>\n",
       "      <td>[-0.04490209, 0.0797325, 0.06498429, -0.177518...</td>\n",
       "      <td>[-0.03970664, 0.04237759, 0.0300679, -0.081209...</td>\n",
       "    </tr>\n",
       "    <tr>\n",
       "      <th>3</th>\n",
       "      <td>D000086</td>\n",
       "      <td>MESH:D007249</td>\n",
       "      <td>marker/mechanism</td>\n",
       "      <td>[-1.29303843e-01, 8.41123536e-02, 2.71904469e-...</td>\n",
       "      <td>[-0.07853802, 0.14241719, 0.21081172, -0.36072...</td>\n",
       "      <td>[-1.09719053e-01, 6.35609105e-02, 6.10219501e-...</td>\n",
       "      <td>[-0.04490209, 0.0797325, 0.06498429, -0.177518...</td>\n",
       "      <td>[-0.03970664, 0.04237759, 0.0300679, -0.081209...</td>\n",
       "    </tr>\n",
       "    <tr>\n",
       "      <th>4</th>\n",
       "      <td>D000086</td>\n",
       "      <td>MESH:D020521</td>\n",
       "      <td>therapeutic</td>\n",
       "      <td>[-0.12330794, 0.14661826, 0.21382102, -0.43842...</td>\n",
       "      <td>[-0.07127677, 0.0587761, 0.07117193, -0.150256...</td>\n",
       "      <td>[-1.09719053e-01, 6.35609105e-02, 6.10219501e-...</td>\n",
       "      <td>[-0.04490209, 0.0797325, 0.06498429, -0.177518...</td>\n",
       "      <td>[-0.03970664, 0.04237759, 0.0300679, -0.081209...</td>\n",
       "    </tr>\n",
       "  </tbody>\n",
       "</table>\n",
       "</div>"
      ],
      "text/plain": [
       "  ChemicalID     DiseaseID    DirectEvidence  \\\n",
       "0    C039775  MESH:D004827       therapeutic   \n",
       "1    D000086  MESH:D004827       therapeutic   \n",
       "2    D000086  MESH:D000014  marker/mechanism   \n",
       "3    D000086  MESH:D007249  marker/mechanism   \n",
       "4    D000086  MESH:D020521       therapeutic   \n",
       "\n",
       "                                       DisDirCorrVec  \\\n",
       "0  [-0.16996855, 0.05167083, 0.29020584, -0.53215...   \n",
       "1  [-0.16996855, 0.05167083, 0.29020584, -0.53215...   \n",
       "2  [-0.05951616, 0.01888514, 0.06238122, -0.14188...   \n",
       "3  [-1.29303843e-01, 8.41123536e-02, 2.71904469e-...   \n",
       "4  [-0.12330794, 0.14661826, 0.21382102, -0.43842...   \n",
       "\n",
       "                                       DisInvCorrVec  \\\n",
       "0  [-0.03990896, 0.0048264, 0.08569653, -0.260818...   \n",
       "1  [-0.03990896, 0.0048264, 0.08569653, -0.260818...   \n",
       "2  [-0.044294, 0.05745224, 0.04733784, -0.1226361...   \n",
       "3  [-0.07853802, 0.14241719, 0.21081172, -0.36072...   \n",
       "4  [-0.07127677, 0.0587761, 0.07117193, -0.150256...   \n",
       "\n",
       "                                      ChemDirCorrVec  \\\n",
       "0                                                NaN   \n",
       "1  [-1.09719053e-01, 6.35609105e-02, 6.10219501e-...   \n",
       "2  [-1.09719053e-01, 6.35609105e-02, 6.10219501e-...   \n",
       "3  [-1.09719053e-01, 6.35609105e-02, 6.10219501e-...   \n",
       "4  [-1.09719053e-01, 6.35609105e-02, 6.10219501e-...   \n",
       "\n",
       "                                      ChemInvCorrVec  \\\n",
       "0                                                NaN   \n",
       "1  [-0.04490209, 0.0797325, 0.06498429, -0.177518...   \n",
       "2  [-0.04490209, 0.0797325, 0.06498429, -0.177518...   \n",
       "3  [-0.04490209, 0.0797325, 0.06498429, -0.177518...   \n",
       "4  [-0.04490209, 0.0797325, 0.06498429, -0.177518...   \n",
       "\n",
       "                                   ChemUnspecCorrVec  \n",
       "0  [-0.03291181, 0.05096256, 0.03336031, -0.08635...  \n",
       "1  [-0.03970664, 0.04237759, 0.0300679, -0.081209...  \n",
       "2  [-0.03970664, 0.04237759, 0.0300679, -0.081209...  \n",
       "3  [-0.03970664, 0.04237759, 0.0300679, -0.081209...  \n",
       "4  [-0.03970664, 0.04237759, 0.0300679, -0.081209...  "
      ]
     },
     "execution_count": 161,
     "metadata": {},
     "output_type": "execute_result"
    }
   ],
   "source": [
    "df1.head()"
   ]
  },
  {
   "cell_type": "code",
   "execution_count": 162,
   "metadata": {},
   "outputs": [],
   "source": [
    "#Alternative to filling NaNs with noise, remove all rows with NaNs and see if that helps\n",
    "# First we'll drop columns with loads of Nas - DisInvCorrVec\n",
    "df1 = df1.drop(['DisInvCorrVec'], axis=1)\n",
    "df1 = df1.dropna()"
   ]
  },
  {
   "cell_type": "code",
   "execution_count": 163,
   "metadata": {},
   "outputs": [],
   "source": [
    "# # Many of the rows have 1+ empty vec categories, let's fill this with noise\n",
    "# # TODO run one analysis with the noise ones and one with only the full rows, see the difference\n",
    "# empty_vec = [0.0] * 200\n",
    "# df1.DisDirCorrVec.astype(str)[2] == 'nan'\n",
    "\n",
    "\n",
    "# for col in ['DisDirCorrVec', 'DisInvCorrVec', 'ChemDirCorrVec', 'ChemInvCorrVec', 'ChemUnspecCorrVec']:\n",
    "#     df1[col] = df1[col].astype(str)\n",
    "#     df1[col] = df1[col].map(lambda x: empty_vec if x == 'nan' else x)\n",
    "#     df1[col] = df1[col].astype(list)"
   ]
  },
  {
   "cell_type": "code",
   "execution_count": 164,
   "metadata": {},
   "outputs": [
    {
     "data": {
      "text/plain": [
       "0"
      ]
     },
     "execution_count": 164,
     "metadata": {},
     "output_type": "execute_result"
    }
   ],
   "source": [
    "df1.ChemUnspecCorrVec.isna().sum()"
   ]
  },
  {
   "cell_type": "code",
   "execution_count": null,
   "metadata": {},
   "outputs": [],
   "source": []
  },
  {
   "cell_type": "code",
   "execution_count": 165,
   "metadata": {},
   "outputs": [
    {
     "data": {
      "text/html": [
       "<div>\n",
       "<style scoped>\n",
       "    .dataframe tbody tr th:only-of-type {\n",
       "        vertical-align: middle;\n",
       "    }\n",
       "\n",
       "    .dataframe tbody tr th {\n",
       "        vertical-align: top;\n",
       "    }\n",
       "\n",
       "    .dataframe thead th {\n",
       "        text-align: right;\n",
       "    }\n",
       "</style>\n",
       "<table border=\"1\" class=\"dataframe\">\n",
       "  <thead>\n",
       "    <tr style=\"text-align: right;\">\n",
       "      <th></th>\n",
       "      <th>ChemicalID</th>\n",
       "      <th>DiseaseID</th>\n",
       "      <th>DirectEvidence</th>\n",
       "      <th>DisDirCorrVec</th>\n",
       "      <th>ChemDirCorrVec</th>\n",
       "      <th>ChemInvCorrVec</th>\n",
       "      <th>ChemUnspecCorrVec</th>\n",
       "    </tr>\n",
       "  </thead>\n",
       "  <tbody>\n",
       "    <tr>\n",
       "      <th>1</th>\n",
       "      <td>D000086</td>\n",
       "      <td>MESH:D004827</td>\n",
       "      <td>therapeutic</td>\n",
       "      <td>[-0.16996855, 0.05167083, 0.29020584, -0.53215...</td>\n",
       "      <td>[-1.09719053e-01, 6.35609105e-02, 6.10219501e-...</td>\n",
       "      <td>[-0.04490209, 0.0797325, 0.06498429, -0.177518...</td>\n",
       "      <td>[-0.03970664, 0.04237759, 0.0300679, -0.081209...</td>\n",
       "    </tr>\n",
       "    <tr>\n",
       "      <th>2</th>\n",
       "      <td>D000086</td>\n",
       "      <td>MESH:D000014</td>\n",
       "      <td>marker/mechanism</td>\n",
       "      <td>[-0.05951616, 0.01888514, 0.06238122, -0.14188...</td>\n",
       "      <td>[-1.09719053e-01, 6.35609105e-02, 6.10219501e-...</td>\n",
       "      <td>[-0.04490209, 0.0797325, 0.06498429, -0.177518...</td>\n",
       "      <td>[-0.03970664, 0.04237759, 0.0300679, -0.081209...</td>\n",
       "    </tr>\n",
       "    <tr>\n",
       "      <th>3</th>\n",
       "      <td>D000086</td>\n",
       "      <td>MESH:D007249</td>\n",
       "      <td>marker/mechanism</td>\n",
       "      <td>[-1.29303843e-01, 8.41123536e-02, 2.71904469e-...</td>\n",
       "      <td>[-1.09719053e-01, 6.35609105e-02, 6.10219501e-...</td>\n",
       "      <td>[-0.04490209, 0.0797325, 0.06498429, -0.177518...</td>\n",
       "      <td>[-0.03970664, 0.04237759, 0.0300679, -0.081209...</td>\n",
       "    </tr>\n",
       "    <tr>\n",
       "      <th>4</th>\n",
       "      <td>D000086</td>\n",
       "      <td>MESH:D020521</td>\n",
       "      <td>therapeutic</td>\n",
       "      <td>[-0.12330794, 0.14661826, 0.21382102, -0.43842...</td>\n",
       "      <td>[-1.09719053e-01, 6.35609105e-02, 6.10219501e-...</td>\n",
       "      <td>[-0.04490209, 0.0797325, 0.06498429, -0.177518...</td>\n",
       "      <td>[-0.03970664, 0.04237759, 0.0300679, -0.081209...</td>\n",
       "    </tr>\n",
       "    <tr>\n",
       "      <th>5</th>\n",
       "      <td>D000086</td>\n",
       "      <td>MESH:D015431</td>\n",
       "      <td>marker/mechanism</td>\n",
       "      <td>[-0.09367326, 0.13231254, 0.18377046, -0.37006...</td>\n",
       "      <td>[-1.09719053e-01, 6.35609105e-02, 6.10219501e-...</td>\n",
       "      <td>[-0.04490209, 0.0797325, 0.06498429, -0.177518...</td>\n",
       "      <td>[-0.03970664, 0.04237759, 0.0300679, -0.081209...</td>\n",
       "    </tr>\n",
       "  </tbody>\n",
       "</table>\n",
       "</div>"
      ],
      "text/plain": [
       "  ChemicalID     DiseaseID    DirectEvidence  \\\n",
       "1    D000086  MESH:D004827       therapeutic   \n",
       "2    D000086  MESH:D000014  marker/mechanism   \n",
       "3    D000086  MESH:D007249  marker/mechanism   \n",
       "4    D000086  MESH:D020521       therapeutic   \n",
       "5    D000086  MESH:D015431  marker/mechanism   \n",
       "\n",
       "                                       DisDirCorrVec  \\\n",
       "1  [-0.16996855, 0.05167083, 0.29020584, -0.53215...   \n",
       "2  [-0.05951616, 0.01888514, 0.06238122, -0.14188...   \n",
       "3  [-1.29303843e-01, 8.41123536e-02, 2.71904469e-...   \n",
       "4  [-0.12330794, 0.14661826, 0.21382102, -0.43842...   \n",
       "5  [-0.09367326, 0.13231254, 0.18377046, -0.37006...   \n",
       "\n",
       "                                      ChemDirCorrVec  \\\n",
       "1  [-1.09719053e-01, 6.35609105e-02, 6.10219501e-...   \n",
       "2  [-1.09719053e-01, 6.35609105e-02, 6.10219501e-...   \n",
       "3  [-1.09719053e-01, 6.35609105e-02, 6.10219501e-...   \n",
       "4  [-1.09719053e-01, 6.35609105e-02, 6.10219501e-...   \n",
       "5  [-1.09719053e-01, 6.35609105e-02, 6.10219501e-...   \n",
       "\n",
       "                                      ChemInvCorrVec  \\\n",
       "1  [-0.04490209, 0.0797325, 0.06498429, -0.177518...   \n",
       "2  [-0.04490209, 0.0797325, 0.06498429, -0.177518...   \n",
       "3  [-0.04490209, 0.0797325, 0.06498429, -0.177518...   \n",
       "4  [-0.04490209, 0.0797325, 0.06498429, -0.177518...   \n",
       "5  [-0.04490209, 0.0797325, 0.06498429, -0.177518...   \n",
       "\n",
       "                                   ChemUnspecCorrVec  \n",
       "1  [-0.03970664, 0.04237759, 0.0300679, -0.081209...  \n",
       "2  [-0.03970664, 0.04237759, 0.0300679, -0.081209...  \n",
       "3  [-0.03970664, 0.04237759, 0.0300679, -0.081209...  \n",
       "4  [-0.03970664, 0.04237759, 0.0300679, -0.081209...  \n",
       "5  [-0.03970664, 0.04237759, 0.0300679, -0.081209...  "
      ]
     },
     "execution_count": 165,
     "metadata": {},
     "output_type": "execute_result"
    }
   ],
   "source": [
    "df1.head()"
   ]
  },
  {
   "cell_type": "code",
   "execution_count": 166,
   "metadata": {},
   "outputs": [],
   "source": [
    "# Create separate dfs of dis-vecs and chem-vecs ( in order to generate additional rows for df1, unrelated pairs)\n",
    "dis = df.ID.map(lambda x: ('MESH' in x) | ('OMIM' in x))\n",
    "chems = df.ID.map(lambda x: ('MESH' not in x) & ('OMIM' not in x))\n",
    "\n",
    "df_chems = df[chems]\n",
    "df_dis = df[dis]\n",
    "df_chems = df_chems.reset_index(drop=True)\n",
    "df_dis = df_dis.reset_index(drop=True)"
   ]
  },
  {
   "cell_type": "code",
   "execution_count": 167,
   "metadata": {},
   "outputs": [],
   "source": [
    "# df1.loc[3, ['ChemicalID', 'DiseaseID']]"
   ]
  },
  {
   "cell_type": "code",
   "execution_count": 168,
   "metadata": {},
   "outputs": [
    {
     "data": {
      "text/html": [
       "<div>\n",
       "<style scoped>\n",
       "    .dataframe tbody tr th:only-of-type {\n",
       "        vertical-align: middle;\n",
       "    }\n",
       "\n",
       "    .dataframe tbody tr th {\n",
       "        vertical-align: top;\n",
       "    }\n",
       "\n",
       "    .dataframe thead th {\n",
       "        text-align: right;\n",
       "    }\n",
       "</style>\n",
       "<table border=\"1\" class=\"dataframe\">\n",
       "  <thead>\n",
       "    <tr style=\"text-align: right;\">\n",
       "      <th></th>\n",
       "      <th>ChemicalID</th>\n",
       "      <th>DiseaseID</th>\n",
       "      <th>DirectEvidence</th>\n",
       "      <th>DisDirCorrVec</th>\n",
       "      <th>ChemDirCorrVec</th>\n",
       "      <th>ChemInvCorrVec</th>\n",
       "      <th>ChemUnspecCorrVec</th>\n",
       "    </tr>\n",
       "  </thead>\n",
       "  <tbody>\n",
       "    <tr>\n",
       "      <th>1</th>\n",
       "      <td>D000086</td>\n",
       "      <td>MESH:D004827</td>\n",
       "      <td>therapeutic</td>\n",
       "      <td>[-0.16996855, 0.05167083, 0.29020584, -0.53215...</td>\n",
       "      <td>[-1.09719053e-01, 6.35609105e-02, 6.10219501e-...</td>\n",
       "      <td>[-0.04490209, 0.0797325, 0.06498429, -0.177518...</td>\n",
       "      <td>[-0.03970664, 0.04237759, 0.0300679, -0.081209...</td>\n",
       "    </tr>\n",
       "    <tr>\n",
       "      <th>2</th>\n",
       "      <td>D000086</td>\n",
       "      <td>MESH:D000014</td>\n",
       "      <td>marker/mechanism</td>\n",
       "      <td>[-0.05951616, 0.01888514, 0.06238122, -0.14188...</td>\n",
       "      <td>[-1.09719053e-01, 6.35609105e-02, 6.10219501e-...</td>\n",
       "      <td>[-0.04490209, 0.0797325, 0.06498429, -0.177518...</td>\n",
       "      <td>[-0.03970664, 0.04237759, 0.0300679, -0.081209...</td>\n",
       "    </tr>\n",
       "    <tr>\n",
       "      <th>3</th>\n",
       "      <td>D000086</td>\n",
       "      <td>MESH:D007249</td>\n",
       "      <td>marker/mechanism</td>\n",
       "      <td>[-1.29303843e-01, 8.41123536e-02, 2.71904469e-...</td>\n",
       "      <td>[-1.09719053e-01, 6.35609105e-02, 6.10219501e-...</td>\n",
       "      <td>[-0.04490209, 0.0797325, 0.06498429, -0.177518...</td>\n",
       "      <td>[-0.03970664, 0.04237759, 0.0300679, -0.081209...</td>\n",
       "    </tr>\n",
       "    <tr>\n",
       "      <th>4</th>\n",
       "      <td>D000086</td>\n",
       "      <td>MESH:D020521</td>\n",
       "      <td>therapeutic</td>\n",
       "      <td>[-0.12330794, 0.14661826, 0.21382102, -0.43842...</td>\n",
       "      <td>[-1.09719053e-01, 6.35609105e-02, 6.10219501e-...</td>\n",
       "      <td>[-0.04490209, 0.0797325, 0.06498429, -0.177518...</td>\n",
       "      <td>[-0.03970664, 0.04237759, 0.0300679, -0.081209...</td>\n",
       "    </tr>\n",
       "    <tr>\n",
       "      <th>5</th>\n",
       "      <td>D000086</td>\n",
       "      <td>MESH:D015431</td>\n",
       "      <td>marker/mechanism</td>\n",
       "      <td>[-0.09367326, 0.13231254, 0.18377046, -0.37006...</td>\n",
       "      <td>[-1.09719053e-01, 6.35609105e-02, 6.10219501e-...</td>\n",
       "      <td>[-0.04490209, 0.0797325, 0.06498429, -0.177518...</td>\n",
       "      <td>[-0.03970664, 0.04237759, 0.0300679, -0.081209...</td>\n",
       "    </tr>\n",
       "  </tbody>\n",
       "</table>\n",
       "</div>"
      ],
      "text/plain": [
       "  ChemicalID     DiseaseID    DirectEvidence  \\\n",
       "1    D000086  MESH:D004827       therapeutic   \n",
       "2    D000086  MESH:D000014  marker/mechanism   \n",
       "3    D000086  MESH:D007249  marker/mechanism   \n",
       "4    D000086  MESH:D020521       therapeutic   \n",
       "5    D000086  MESH:D015431  marker/mechanism   \n",
       "\n",
       "                                       DisDirCorrVec  \\\n",
       "1  [-0.16996855, 0.05167083, 0.29020584, -0.53215...   \n",
       "2  [-0.05951616, 0.01888514, 0.06238122, -0.14188...   \n",
       "3  [-1.29303843e-01, 8.41123536e-02, 2.71904469e-...   \n",
       "4  [-0.12330794, 0.14661826, 0.21382102, -0.43842...   \n",
       "5  [-0.09367326, 0.13231254, 0.18377046, -0.37006...   \n",
       "\n",
       "                                      ChemDirCorrVec  \\\n",
       "1  [-1.09719053e-01, 6.35609105e-02, 6.10219501e-...   \n",
       "2  [-1.09719053e-01, 6.35609105e-02, 6.10219501e-...   \n",
       "3  [-1.09719053e-01, 6.35609105e-02, 6.10219501e-...   \n",
       "4  [-1.09719053e-01, 6.35609105e-02, 6.10219501e-...   \n",
       "5  [-1.09719053e-01, 6.35609105e-02, 6.10219501e-...   \n",
       "\n",
       "                                      ChemInvCorrVec  \\\n",
       "1  [-0.04490209, 0.0797325, 0.06498429, -0.177518...   \n",
       "2  [-0.04490209, 0.0797325, 0.06498429, -0.177518...   \n",
       "3  [-0.04490209, 0.0797325, 0.06498429, -0.177518...   \n",
       "4  [-0.04490209, 0.0797325, 0.06498429, -0.177518...   \n",
       "5  [-0.04490209, 0.0797325, 0.06498429, -0.177518...   \n",
       "\n",
       "                                   ChemUnspecCorrVec  \n",
       "1  [-0.03970664, 0.04237759, 0.0300679, -0.081209...  \n",
       "2  [-0.03970664, 0.04237759, 0.0300679, -0.081209...  \n",
       "3  [-0.03970664, 0.04237759, 0.0300679, -0.081209...  \n",
       "4  [-0.03970664, 0.04237759, 0.0300679, -0.081209...  \n",
       "5  [-0.03970664, 0.04237759, 0.0300679, -0.081209...  "
      ]
     },
     "execution_count": 168,
     "metadata": {},
     "output_type": "execute_result"
    }
   ],
   "source": [
    "df1.head()"
   ]
  },
  {
   "cell_type": "code",
   "execution_count": 169,
   "metadata": {},
   "outputs": [],
   "source": [
    "## REMOVE this, testing binary\n",
    "df1['DirectEvidence'] = df1.DirectEvidence.map(lambda x: x if not x == 'therapeutic' else 'marker/mechanism')"
   ]
  },
  {
   "cell_type": "code",
   "execution_count": 170,
   "metadata": {},
   "outputs": [
    {
     "data": {
      "text/html": [
       "<div>\n",
       "<style scoped>\n",
       "    .dataframe tbody tr th:only-of-type {\n",
       "        vertical-align: middle;\n",
       "    }\n",
       "\n",
       "    .dataframe tbody tr th {\n",
       "        vertical-align: top;\n",
       "    }\n",
       "\n",
       "    .dataframe thead th {\n",
       "        text-align: right;\n",
       "    }\n",
       "</style>\n",
       "<table border=\"1\" class=\"dataframe\">\n",
       "  <thead>\n",
       "    <tr style=\"text-align: right;\">\n",
       "      <th></th>\n",
       "      <th>ID</th>\n",
       "      <th>Vector</th>\n",
       "      <th>DisDirCorrVec</th>\n",
       "      <th>DisInvCorrVec</th>\n",
       "      <th>ChemDirCorrVec</th>\n",
       "      <th>ChemInvCorrVec</th>\n",
       "      <th>ChemUnspecVec</th>\n",
       "    </tr>\n",
       "  </thead>\n",
       "  <tbody>\n",
       "    <tr>\n",
       "      <th>0</th>\n",
       "      <td>MESH:D058186</td>\n",
       "      <td>[-0.06852717, 0.15350106, 0.23229387, -0.44249...</td>\n",
       "      <td>1</td>\n",
       "      <td>0</td>\n",
       "      <td>0</td>\n",
       "      <td>0</td>\n",
       "      <td>0</td>\n",
       "    </tr>\n",
       "    <tr>\n",
       "      <th>1</th>\n",
       "      <td>MESH:D018248</td>\n",
       "      <td>[-0.0899308, 0.0307946, 0.14956534, -0.2953864...</td>\n",
       "      <td>1</td>\n",
       "      <td>0</td>\n",
       "      <td>0</td>\n",
       "      <td>0</td>\n",
       "      <td>0</td>\n",
       "    </tr>\n",
       "    <tr>\n",
       "      <th>2</th>\n",
       "      <td>MESH:C566304</td>\n",
       "      <td>[-0.04015999, 0.03477001, 0.04016547, -0.09441...</td>\n",
       "      <td>1</td>\n",
       "      <td>0</td>\n",
       "      <td>0</td>\n",
       "      <td>0</td>\n",
       "      <td>0</td>\n",
       "    </tr>\n",
       "    <tr>\n",
       "      <th>3</th>\n",
       "      <td>MESH:D000544</td>\n",
       "      <td>[-0.1676657, 0.0684097, 0.2483991, -0.54427016...</td>\n",
       "      <td>1</td>\n",
       "      <td>0</td>\n",
       "      <td>0</td>\n",
       "      <td>0</td>\n",
       "      <td>0</td>\n",
       "    </tr>\n",
       "    <tr>\n",
       "      <th>4</th>\n",
       "      <td>MESH:D006528</td>\n",
       "      <td>[-0.13324945, 0.08320811, 0.3336055, -0.653810...</td>\n",
       "      <td>1</td>\n",
       "      <td>0</td>\n",
       "      <td>0</td>\n",
       "      <td>0</td>\n",
       "      <td>0</td>\n",
       "    </tr>\n",
       "  </tbody>\n",
       "</table>\n",
       "</div>"
      ],
      "text/plain": [
       "             ID                                             Vector  \\\n",
       "0  MESH:D058186  [-0.06852717, 0.15350106, 0.23229387, -0.44249...   \n",
       "1  MESH:D018248  [-0.0899308, 0.0307946, 0.14956534, -0.2953864...   \n",
       "2  MESH:C566304  [-0.04015999, 0.03477001, 0.04016547, -0.09441...   \n",
       "3  MESH:D000544  [-0.1676657, 0.0684097, 0.2483991, -0.54427016...   \n",
       "4  MESH:D006528  [-0.13324945, 0.08320811, 0.3336055, -0.653810...   \n",
       "\n",
       "   DisDirCorrVec  DisInvCorrVec  ChemDirCorrVec  ChemInvCorrVec  ChemUnspecVec  \n",
       "0              1              0               0               0              0  \n",
       "1              1              0               0               0              0  \n",
       "2              1              0               0               0              0  \n",
       "3              1              0               0               0              0  \n",
       "4              1              0               0               0              0  "
      ]
     },
     "execution_count": 170,
     "metadata": {},
     "output_type": "execute_result"
    }
   ],
   "source": [
    "df_dis.head()"
   ]
  },
  {
   "cell_type": "code",
   "execution_count": 171,
   "metadata": {},
   "outputs": [],
   "source": [
    "# TODO figure out why there are so many duplicate\n",
    "# DROPping duplicates in the below cell it's essential we drop the 'unrel' one of the pair"
   ]
  },
  {
   "cell_type": "code",
   "execution_count": null,
   "metadata": {},
   "outputs": [],
   "source": []
  },
  {
   "cell_type": "code",
   "execution_count": 172,
   "metadata": {},
   "outputs": [],
   "source": [
    "# # Add unrelated pairs to df1\n",
    "# no_rows = 30000 #(df1.shape[0]-1)  # This is a parameter to be tuned --> how many uncorrelated pairs do we want\n",
    "# print(df1.shape)\n",
    "# print('to add: ', no_rows)\n",
    "\n",
    "# # Randomly select chems and diseases (as many as there are related pairs)\n",
    "# no_chems = len(df_chems) -1\n",
    "# no_dis = len(df_dis) -1\n",
    "# rand_chems = np.random.choice(no_chems, no_rows, replace=True)\n",
    "# # np.random.seed(1606)\n",
    "# rand_dis = np.random.choice(no_dis, no_rows, replace=True)\n",
    "\n",
    "# # Add the new pairs as rows\n",
    "# for x in range(0, no_rows):\n",
    "#     int1 = rand_chems[x]\n",
    "#     int2 = rand_dis[x]\n",
    "# #     pdb.set_trace()\n",
    "#     chem, cdvec, civec, cuvec = df1.loc[int1, 'ChemicalID'], df1.loc[int1, 'ChemDirCorrVec'], df1.loc[int1, 'ChemInvCorrVec'], df1.loc[int1, 'ChemUnspecCorrVec']\n",
    "#     dis, ddvec, divec = df1.loc[int2, 'DiseaseID'], df1.loc[int2, 'DisDirCorrVec'], df1.loc[int2, 'DisInvCorrVec']\n",
    "#     df1 = df1.append({'ChemicalID':chem, 'DiseaseID':dis, 'DirectEvidence':'unrel',  'DisDirCorrVec': ddvec,\n",
    "#                       'DisInvCorrVec':divec, 'ChemDirCorrVec':cdvec, 'ChemInvCorrVec':civec,\"ChemUnspecCorrVec\":cuvec, \n",
    "#                       'Correlation':0}, ignore_index=True)\n",
    "\n",
    "# # ChemicalID\tDiseaseID\tDirectEvidence\tDisDirCorrVec\tDisInvCorrVec\tChemDirCorrVec\tChemInvCorrVec\tChemUnspecCorrVec\n",
    "    \n",
    "# # print(df1.shape)\n",
    "# # # Drop any duplicates (removes known correlated pairs accidentally generated as uncorrelated)\n",
    "# # df1 = df1.drop_duplicates(subset=['ChemicalID', 'DiseaseID'], keep=False)\n",
    "# # print(df1.shape)\n",
    "# # Some of the lost duplicates seem to have been there pre this cell...is that an issue? TODO,"
   ]
  },
  {
   "cell_type": "code",
   "execution_count": 173,
   "metadata": {},
   "outputs": [
    {
     "name": "stdout",
     "output_type": "stream",
     "text": [
      "(46254, 7)\n",
      "to add:  30000\n"
     ]
    }
   ],
   "source": [
    "# This is the version for removed NaNs instead of noise vectors  (disInv is removed)\n",
    "# Add unrelated pairs to df1\n",
    "no_rows = 30000 #(df1.shape[0]-1)  # This is a parameter to be tuned --> how many uncorrelated pairs do we want\n",
    "print(df1.shape)\n",
    "print('to add: ', no_rows)\n",
    "\n",
    "# Randomly select chems and diseases (as many as there are related pairs)\n",
    "no_chems = len(df_chems) -1\n",
    "no_dis = len(df_dis) -1\n",
    "rand_chems = np.random.choice(no_chems, no_rows, replace=True)\n",
    "# np.random.seed(1606)\n",
    "rand_dis = np.random.choice(no_dis, no_rows, replace=True)\n",
    "\n",
    "# Add the new pairs as rows\n",
    "for x in range(0, no_rows):\n",
    "    int1 = rand_chems[x]\n",
    "    int2 = rand_dis[x]\n",
    "#     pdb.set_trace()\n",
    "    chem, cdvec, civec, cuvec = df1.loc[int1, 'ChemicalID'], df1.loc[int1, 'ChemDirCorrVec'], df1.loc[int1, 'ChemInvCorrVec'], df1.loc[int1, 'ChemUnspecCorrVec']\n",
    "    dis, ddvec = df1.loc[int2, 'DiseaseID'], df1.loc[int2, 'DisDirCorrVec']\n",
    "    df1 = df1.append({'ChemicalID':chem, 'DiseaseID':dis, 'DirectEvidence':'unrel',  'DisDirCorrVec': ddvec,\n",
    "                      'ChemDirCorrVec':cdvec, 'ChemInvCorrVec':civec,\"ChemUnspecCorrVec\":cuvec, \n",
    "                      'Correlation':0}, ignore_index=True)\n",
    "\n",
    "# ChemicalID\tDiseaseID\tDirectEvidence\tDisDirCorrVec\tDisInvCorrVec\tChemDirCorrVec\tChemInvCorrVec\tChemUnspecCorrVec\n",
    "    \n",
    "# print(df1.shape)\n",
    "# # Drop any duplicates (removes known correlated pairs accidentally generated as uncorrelated)\n",
    "# df1 = df1.drop_duplicates(subset=['ChemicalID', 'DiseaseID'], keep=False)\n",
    "# print(df1.shape)\n",
    "# Some of the lost duplicates seem to have been there pre this cell...is that an issue? TODO,"
   ]
  },
  {
   "cell_type": "code",
   "execution_count": 174,
   "metadata": {},
   "outputs": [
    {
     "name": "stdout",
     "output_type": "stream",
     "text": [
      "(76254, 8)\n",
      "(49967, 8)\n"
     ]
    }
   ],
   "source": [
    "print(df1.shape)\n",
    "# Drop any duplicates (removes known correlated pairs accidentally generated as uncorrelated)\n",
    "df1 = df1.sort_values(by=['DirectEvidence'])\n",
    "df1 = df1.drop_duplicates(subset=['ChemicalID', 'DiseaseID'], keep=False)\n",
    "print(df1.shape)"
   ]
  },
  {
   "cell_type": "code",
   "execution_count": 175,
   "metadata": {},
   "outputs": [],
   "source": [
    "df1 = df1.sample(frac=1).reset_index(drop=True)"
   ]
  },
  {
   "cell_type": "code",
   "execution_count": 176,
   "metadata": {},
   "outputs": [
    {
     "data": {
      "text/html": [
       "<div>\n",
       "<style scoped>\n",
       "    .dataframe tbody tr th:only-of-type {\n",
       "        vertical-align: middle;\n",
       "    }\n",
       "\n",
       "    .dataframe tbody tr th {\n",
       "        vertical-align: top;\n",
       "    }\n",
       "\n",
       "    .dataframe thead th {\n",
       "        text-align: right;\n",
       "    }\n",
       "</style>\n",
       "<table border=\"1\" class=\"dataframe\">\n",
       "  <thead>\n",
       "    <tr style=\"text-align: right;\">\n",
       "      <th></th>\n",
       "      <th>ChemicalID</th>\n",
       "      <th>DiseaseID</th>\n",
       "      <th>DirectEvidence</th>\n",
       "      <th>DisDirCorrVec</th>\n",
       "      <th>ChemDirCorrVec</th>\n",
       "      <th>ChemInvCorrVec</th>\n",
       "      <th>ChemUnspecCorrVec</th>\n",
       "      <th>Correlation</th>\n",
       "    </tr>\n",
       "  </thead>\n",
       "  <tbody>\n",
       "    <tr>\n",
       "      <th>49964</th>\n",
       "      <td>C511295</td>\n",
       "      <td>MESH:D005234</td>\n",
       "      <td>marker/mechanism</td>\n",
       "      <td>[-0.14985453, 0.09624197, 0.24449366, -0.46732...</td>\n",
       "      <td>[-0.11116267, 0.11047331, 0.45307022, -0.54921...</td>\n",
       "      <td>[-1.44731089e-01, 6.86521232e-02, 3.90870661e-...</td>\n",
       "      <td>[-0.16266936, 0.06539001, 0.18744071, -0.37188...</td>\n",
       "      <td>NaN</td>\n",
       "    </tr>\n",
       "    <tr>\n",
       "      <th>49965</th>\n",
       "      <td>D014750</td>\n",
       "      <td>MESH:D008228</td>\n",
       "      <td>marker/mechanism</td>\n",
       "      <td>[-9.91242602e-02, 7.61531815e-02, 1.24550238e-...</td>\n",
       "      <td>[-0.27730635, 0.10572688, 0.42603865, -0.78233...</td>\n",
       "      <td>[-0.29454312, 0.01365328, 0.38778195, -0.73389...</td>\n",
       "      <td>[-1.71117425e-01, -3.75777786e-03, 2.52950698e...</td>\n",
       "      <td>NaN</td>\n",
       "    </tr>\n",
       "    <tr>\n",
       "      <th>49966</th>\n",
       "      <td>D004958</td>\n",
       "      <td>MESH:D006330</td>\n",
       "      <td>marker/mechanism</td>\n",
       "      <td>[-1.05576709e-01, 1.10154167e-01, 2.33552858e-...</td>\n",
       "      <td>[-0.3587007, 0.22696792, 0.57456493, -1.075441...</td>\n",
       "      <td>[-0.32879674, 0.22006413, 0.48379013, -0.90466...</td>\n",
       "      <td>[-2.60271817e-01, 1.41557768e-01, 5.22859514e-...</td>\n",
       "      <td>NaN</td>\n",
       "    </tr>\n",
       "  </tbody>\n",
       "</table>\n",
       "</div>"
      ],
      "text/plain": [
       "      ChemicalID     DiseaseID    DirectEvidence  \\\n",
       "49964    C511295  MESH:D005234  marker/mechanism   \n",
       "49965    D014750  MESH:D008228  marker/mechanism   \n",
       "49966    D004958  MESH:D006330  marker/mechanism   \n",
       "\n",
       "                                           DisDirCorrVec  \\\n",
       "49964  [-0.14985453, 0.09624197, 0.24449366, -0.46732...   \n",
       "49965  [-9.91242602e-02, 7.61531815e-02, 1.24550238e-...   \n",
       "49966  [-1.05576709e-01, 1.10154167e-01, 2.33552858e-...   \n",
       "\n",
       "                                          ChemDirCorrVec  \\\n",
       "49964  [-0.11116267, 0.11047331, 0.45307022, -0.54921...   \n",
       "49965  [-0.27730635, 0.10572688, 0.42603865, -0.78233...   \n",
       "49966  [-0.3587007, 0.22696792, 0.57456493, -1.075441...   \n",
       "\n",
       "                                          ChemInvCorrVec  \\\n",
       "49964  [-1.44731089e-01, 6.86521232e-02, 3.90870661e-...   \n",
       "49965  [-0.29454312, 0.01365328, 0.38778195, -0.73389...   \n",
       "49966  [-0.32879674, 0.22006413, 0.48379013, -0.90466...   \n",
       "\n",
       "                                       ChemUnspecCorrVec  Correlation  \n",
       "49964  [-0.16266936, 0.06539001, 0.18744071, -0.37188...          NaN  \n",
       "49965  [-1.71117425e-01, -3.75777786e-03, 2.52950698e...          NaN  \n",
       "49966  [-2.60271817e-01, 1.41557768e-01, 5.22859514e-...          NaN  "
      ]
     },
     "execution_count": 176,
     "metadata": {},
     "output_type": "execute_result"
    }
   ],
   "source": [
    "df1[-3:]"
   ]
  },
  {
   "cell_type": "code",
   "execution_count": 177,
   "metadata": {},
   "outputs": [],
   "source": [
    "# type(df1.DisDirCorrVec[0]) == str"
   ]
  },
  {
   "cell_type": "code",
   "execution_count": 178,
   "metadata": {},
   "outputs": [],
   "source": [
    "# The vectors are currently mostly strings containing strings, turn to list of floats\n",
    "for col in ['DisDirCorrVec',  'ChemDirCorrVec', 'ChemInvCorrVec', 'ChemUnspecCorrVec']: #'DisInvCorrVec',\n",
    "    df1[col] = df1[col].map(lambda x: [float(y) for y in eval(x)] if type(x) is str else x)"
   ]
  },
  {
   "cell_type": "code",
   "execution_count": 179,
   "metadata": {},
   "outputs": [],
   "source": [
    "# tester = df1.DisDirCorrVec.map(lambda x: eval(x) if x is str else x)\n",
    "# tester = df1.DisDirCorrVec.map(lambda x: [float(y) for y in x])"
   ]
  },
  {
   "cell_type": "code",
   "execution_count": 180,
   "metadata": {},
   "outputs": [],
   "source": [
    "# tester = df1.DisDirCorrVec.map(lambda x: [float(y) for y in eval(x)] if type(x) is str else x)\n",
    "# [float(y) for y in eval(tester[1])]"
   ]
  },
  {
   "cell_type": "code",
   "execution_count": 181,
   "metadata": {},
   "outputs": [],
   "source": [
    "# tester"
   ]
  },
  {
   "cell_type": "code",
   "execution_count": 182,
   "metadata": {},
   "outputs": [],
   "source": [
    "# Currently the vectors are string objects, convert to lists (whole and then elements)\n",
    "    \n",
    "# df1.DisDirCorrVec = df1.DisDirCorrVec.map(lambda x: ast.literal_eval(x) if isinstance(x, str) else x)"
   ]
  },
  {
   "cell_type": "code",
   "execution_count": 183,
   "metadata": {},
   "outputs": [],
   "source": [
    "# Convert the elements of the vectors to actual numbers\n",
    "# df1['DisDirCorrVec'] = df1.DisDirCorrVec.map(lambda x: [float(i) for i in x])\n",
    "# df1['DisInvCorrVec'] = df1.DisInvCorrVec.map(lambda x: [float(i) for i in x])\n",
    "# df1['ChemDirCorrVec'] = df1.ChemDirCorrVec.map(lambda x: [float(i) for i in x])\n",
    "# df1['ChemInvCorrVec'] = df1.ChemInvCorrVec.map(lambda x: [float(i) for i in x])\n",
    "# df1['ChemUnspecCorrVec'] = df1.ChemUnspecCorrVec.map(lambda x: [float(i) for i in x])"
   ]
  },
  {
   "cell_type": "code",
   "execution_count": 184,
   "metadata": {},
   "outputs": [
    {
     "data": {
      "text/plain": [
       "array(['unrel', 'marker/mechanism'], dtype=object)"
      ]
     },
     "execution_count": 184,
     "metadata": {},
     "output_type": "execute_result"
    }
   ],
   "source": [
    "df1.DirectEvidence.unique()"
   ]
  },
  {
   "cell_type": "code",
   "execution_count": 185,
   "metadata": {},
   "outputs": [],
   "source": [
    "# Turn correlation into three options\n",
    "# [1,0,0] --> neg corr\n",
    "# [0,1,0] --> no corr\n",
    "# [0,0,1] --> pos corr\n",
    "# Note we can't be certain that the unrelated pairs are actually unrelated\n",
    "\n",
    "# df1['y'] = df1.DirectEvidence.map(lambda x: [1,0,0] if x == 'therapeutic' else ([0,1,0] if x == 'unrel' else [0,0,1]))\n",
    "df1['y'] = df1.DirectEvidence.map(lambda x: 1 if x == 'marker/mechanism' else 0)\n",
    "\n",
    "# Old version:\n",
    "# df1['y'] = df1.Correlation.map(lambda x: [1,0,0] if x == 0 else ([0,1,0] if x == 1 else [0,0,1]))"
   ]
  },
  {
   "cell_type": "code",
   "execution_count": 186,
   "metadata": {},
   "outputs": [],
   "source": [
    "# # Chopping out negatively correlated in order to test the new vectors as compared to original setup\n",
    "# print(df1.shape)\n",
    "# df1 = df1[df1.Correlation != 0]\n",
    "# print(df1.shape)\n",
    "# df1.Correlation = df1.Correlation.map(lambda x: x-1)"
   ]
  },
  {
   "cell_type": "code",
   "execution_count": 187,
   "metadata": {},
   "outputs": [],
   "source": [
    "# df1.y.value_counts()"
   ]
  },
  {
   "cell_type": "markdown",
   "metadata": {},
   "source": [
    "### 2. Preprocess\n",
    "Now that we have the df ready, let's split it into train/test/validation sets and convert it into numpy arrays so it can be consumed by a Keras NN"
   ]
  },
  {
   "cell_type": "code",
   "execution_count": 188,
   "metadata": {},
   "outputs": [
    {
     "name": "stdout",
     "output_type": "stream",
     "text": [
      "36869\n",
      "0\n",
      "13098\n"
     ]
    }
   ],
   "source": [
    "print(len(df1[df1.DirectEvidence =='marker/mechanism']))\n",
    "print(len(df1[df1.DirectEvidence =='therapeutic']))\n",
    "print(len(df1[df1.DirectEvidence == 'unrel']))\n",
    "# print(len(df1[df1.DirectEvidence.isna()]))"
   ]
  },
  {
   "cell_type": "code",
   "execution_count": 189,
   "metadata": {},
   "outputs": [
    {
     "data": {
      "text/html": [
       "<div>\n",
       "<style scoped>\n",
       "    .dataframe tbody tr th:only-of-type {\n",
       "        vertical-align: middle;\n",
       "    }\n",
       "\n",
       "    .dataframe tbody tr th {\n",
       "        vertical-align: top;\n",
       "    }\n",
       "\n",
       "    .dataframe thead th {\n",
       "        text-align: right;\n",
       "    }\n",
       "</style>\n",
       "<table border=\"1\" class=\"dataframe\">\n",
       "  <thead>\n",
       "    <tr style=\"text-align: right;\">\n",
       "      <th></th>\n",
       "      <th>ChemicalID</th>\n",
       "      <th>DiseaseID</th>\n",
       "      <th>DirectEvidence</th>\n",
       "      <th>DisDirCorrVec</th>\n",
       "      <th>ChemDirCorrVec</th>\n",
       "      <th>ChemInvCorrVec</th>\n",
       "      <th>ChemUnspecCorrVec</th>\n",
       "      <th>Correlation</th>\n",
       "      <th>y</th>\n",
       "    </tr>\n",
       "  </thead>\n",
       "  <tbody>\n",
       "    <tr>\n",
       "      <th>0</th>\n",
       "      <td>C047781</td>\n",
       "      <td>MESH:D019636</td>\n",
       "      <td>unrel</td>\n",
       "      <td>[-1.14262342e-01, 5.38789481e-02, 2.20848829e-...</td>\n",
       "      <td>[-2.19134688e-02, 6.21654280e-02, 2.94434540e-...</td>\n",
       "      <td>[-0.06442674, 0.08891448, 0.0934539, -0.163900...</td>\n",
       "      <td>[-4.08264846e-02, 7.48397559e-02, 1.33313328e-...</td>\n",
       "      <td>0.0</td>\n",
       "      <td>0</td>\n",
       "    </tr>\n",
       "    <tr>\n",
       "      <th>1</th>\n",
       "      <td>D004221</td>\n",
       "      <td>MESH:D020138</td>\n",
       "      <td>unrel</td>\n",
       "      <td>[-0.10882902, 0.06895705, 0.10221382, -0.22221...</td>\n",
       "      <td>[-0.23009795, 0.09381515, 0.33420295, -0.61487...</td>\n",
       "      <td>[-0.28426537, 0.05070389, 0.39222243, -0.75203...</td>\n",
       "      <td>[-0.11803643, 0.00451986, 0.12359605, -0.25856...</td>\n",
       "      <td>0.0</td>\n",
       "      <td>0</td>\n",
       "    </tr>\n",
       "    <tr>\n",
       "      <th>2</th>\n",
       "      <td>D005492</td>\n",
       "      <td>MESH:D009771</td>\n",
       "      <td>unrel</td>\n",
       "      <td>[-7.34942108e-02, 6.87419623e-02, 9.67935994e-...</td>\n",
       "      <td>[-0.18386252, 0.05739972, 0.31298286, -0.50098...</td>\n",
       "      <td>[-0.20607467, -0.02030009, 0.27222764, -0.5197...</td>\n",
       "      <td>[-0.2069908, 0.08136909, 0.32861486, -0.650557...</td>\n",
       "      <td>0.0</td>\n",
       "      <td>0</td>\n",
       "    </tr>\n",
       "    <tr>\n",
       "      <th>3</th>\n",
       "      <td>D001663</td>\n",
       "      <td>MESH:D009336</td>\n",
       "      <td>marker/mechanism</td>\n",
       "      <td>[-0.09419329, 0.11557826, 0.22528334, -0.40491...</td>\n",
       "      <td>[-0.146233, 0.03840511, 0.17462222, -0.3473161...</td>\n",
       "      <td>[-0.13555573, 0.02192712, 0.19578701, -0.43519...</td>\n",
       "      <td>[-8.70749131e-02, 1.10517032e-01, 1.86180398e-...</td>\n",
       "      <td>NaN</td>\n",
       "      <td>1</td>\n",
       "    </tr>\n",
       "    <tr>\n",
       "      <th>4</th>\n",
       "      <td>D000638</td>\n",
       "      <td>MESH:D018805</td>\n",
       "      <td>unrel</td>\n",
       "      <td>[-8.79440531e-02, 1.86977208e-01, 1.63686529e-...</td>\n",
       "      <td>[-2.25913793e-01, 1.88814744e-01, 4.35200095e-...</td>\n",
       "      <td>[-0.08187676, 0.03087393, 0.21127757, -0.35847...</td>\n",
       "      <td>[-0.09188982, 0.08164369, 0.15871522, -0.39124...</td>\n",
       "      <td>0.0</td>\n",
       "      <td>0</td>\n",
       "    </tr>\n",
       "  </tbody>\n",
       "</table>\n",
       "</div>"
      ],
      "text/plain": [
       "  ChemicalID     DiseaseID    DirectEvidence  \\\n",
       "0    C047781  MESH:D019636             unrel   \n",
       "1    D004221  MESH:D020138             unrel   \n",
       "2    D005492  MESH:D009771             unrel   \n",
       "3    D001663  MESH:D009336  marker/mechanism   \n",
       "4    D000638  MESH:D018805             unrel   \n",
       "\n",
       "                                       DisDirCorrVec  \\\n",
       "0  [-1.14262342e-01, 5.38789481e-02, 2.20848829e-...   \n",
       "1  [-0.10882902, 0.06895705, 0.10221382, -0.22221...   \n",
       "2  [-7.34942108e-02, 6.87419623e-02, 9.67935994e-...   \n",
       "3  [-0.09419329, 0.11557826, 0.22528334, -0.40491...   \n",
       "4  [-8.79440531e-02, 1.86977208e-01, 1.63686529e-...   \n",
       "\n",
       "                                      ChemDirCorrVec  \\\n",
       "0  [-2.19134688e-02, 6.21654280e-02, 2.94434540e-...   \n",
       "1  [-0.23009795, 0.09381515, 0.33420295, -0.61487...   \n",
       "2  [-0.18386252, 0.05739972, 0.31298286, -0.50098...   \n",
       "3  [-0.146233, 0.03840511, 0.17462222, -0.3473161...   \n",
       "4  [-2.25913793e-01, 1.88814744e-01, 4.35200095e-...   \n",
       "\n",
       "                                      ChemInvCorrVec  \\\n",
       "0  [-0.06442674, 0.08891448, 0.0934539, -0.163900...   \n",
       "1  [-0.28426537, 0.05070389, 0.39222243, -0.75203...   \n",
       "2  [-0.20607467, -0.02030009, 0.27222764, -0.5197...   \n",
       "3  [-0.13555573, 0.02192712, 0.19578701, -0.43519...   \n",
       "4  [-0.08187676, 0.03087393, 0.21127757, -0.35847...   \n",
       "\n",
       "                                   ChemUnspecCorrVec  Correlation  y  \n",
       "0  [-4.08264846e-02, 7.48397559e-02, 1.33313328e-...          0.0  0  \n",
       "1  [-0.11803643, 0.00451986, 0.12359605, -0.25856...          0.0  0  \n",
       "2  [-0.2069908, 0.08136909, 0.32861486, -0.650557...          0.0  0  \n",
       "3  [-8.70749131e-02, 1.10517032e-01, 1.86180398e-...          NaN  1  \n",
       "4  [-0.09188982, 0.08164369, 0.15871522, -0.39124...          0.0  0  "
      ]
     },
     "execution_count": 189,
     "metadata": {},
     "output_type": "execute_result"
    }
   ],
   "source": [
    "df1.head()"
   ]
  },
  {
   "cell_type": "code",
   "execution_count": 190,
   "metadata": {},
   "outputs": [],
   "source": [
    "# Merge all vecs into one\n",
    "df1['all_x'] = df1.DisDirCorrVec + df1.ChemDirCorrVec + df1.ChemInvCorrVec + df1.ChemUnspecCorrVec # + df1.DisInvCorrVec"
   ]
  },
  {
   "cell_type": "code",
   "execution_count": 191,
   "metadata": {},
   "outputs": [],
   "source": [
    "# For Keras, need to turn inputs into numpy arrays instead of pandas df +\n",
    "df1.all_x = df1.all_x.map(lambda x: np.asarray(x))\n",
    "df1.y = df1.y.map(lambda x: np.array(x))"
   ]
  },
  {
   "cell_type": "code",
   "execution_count": 192,
   "metadata": {},
   "outputs": [],
   "source": [
    "# all_X = df1.all_x"
   ]
  },
  {
   "cell_type": "code",
   "execution_count": 193,
   "metadata": {},
   "outputs": [],
   "source": [
    "# For Keras, need to turn inputs into numpy arrays instead of pandas df\n",
    "# First create single np array of the two vectors CONCERN: should these be two separate inputs?\n",
    "# Dvecs = pd.DataFrame(df1.DVec.values.tolist(), index= df1.index)\n",
    "# Cvecs = pd.DataFrame(df1.CVec.values.tolist(), index= df1.index)\n",
    "# all_X = Dvecs.merge(Cvecs, how='outer', left_index=True, right_index=True)\n",
    "# all_X = np.array(all_X)"
   ]
  },
  {
   "cell_type": "code",
   "execution_count": 194,
   "metadata": {},
   "outputs": [],
   "source": [
    "# For Keras, need to turn inputs into numpy arrays instead of pandas df +\n",
    "# Merge all vecs for a c-d pairing in this order: ddir dinv cdir cinv cunspec\n",
    "# ddvec = pd.DataFrame(df1.DisDirCorrVec.values.tolist(), index= df1.index)\n",
    "# divec = pd.DataFrame(df1.DisInvCorrVec.values.tolist(), index= df1.index)\n",
    "# cdvec = pd.DataFrame(df1.ChemDirCorrVec.values.tolist(), index= df1.index)\n",
    "# civec = pd.DataFrame(df1.ChemInvCorrVec.values.tolist(), index= df1.index)\n",
    "# cuvec = pd.DataFrame(df1.ChemUnspecCorrVec.values.tolist(), index= df1.index)\n",
    "# all_X = Dvecs.merge(Cvecs, how='outer', left_index=True, right_index=True)\n",
    "# all_X = np.array(all_X)\n",
    "# all_X = ddvec.merge\n"
   ]
  },
  {
   "cell_type": "code",
   "execution_count": 195,
   "metadata": {},
   "outputs": [],
   "source": [
    "# Merge all the above dfs in one line... probably require supercomputer access\n",
    "# from functools import reduce\n",
    "# data_frames = [ddvec, divec, cdvec, civec, cuvec]\n",
    "\n",
    "# df_merged = reduce(lambda  left,right: pd.merge(left,right,\n",
    "#                                             how='outer'), data_frames)\n",
    "\n",
    "# df_merged = reduce(lambda  left,right: pd.merge(left_index=True, right_index=True,\n",
    "#                                             how='outer'), data_frames)"
   ]
  },
  {
   "cell_type": "code",
   "execution_count": 196,
   "metadata": {},
   "outputs": [
    {
     "data": {
      "text/html": [
       "<div>\n",
       "<style scoped>\n",
       "    .dataframe tbody tr th:only-of-type {\n",
       "        vertical-align: middle;\n",
       "    }\n",
       "\n",
       "    .dataframe tbody tr th {\n",
       "        vertical-align: top;\n",
       "    }\n",
       "\n",
       "    .dataframe thead th {\n",
       "        text-align: right;\n",
       "    }\n",
       "</style>\n",
       "<table border=\"1\" class=\"dataframe\">\n",
       "  <thead>\n",
       "    <tr style=\"text-align: right;\">\n",
       "      <th></th>\n",
       "      <th>ChemicalID</th>\n",
       "      <th>DiseaseID</th>\n",
       "      <th>DirectEvidence</th>\n",
       "      <th>DisDirCorrVec</th>\n",
       "      <th>ChemDirCorrVec</th>\n",
       "      <th>ChemInvCorrVec</th>\n",
       "      <th>ChemUnspecCorrVec</th>\n",
       "      <th>Correlation</th>\n",
       "      <th>y</th>\n",
       "      <th>all_x</th>\n",
       "    </tr>\n",
       "  </thead>\n",
       "  <tbody>\n",
       "    <tr>\n",
       "      <th>4505</th>\n",
       "      <td>C079198</td>\n",
       "      <td>MESH:D005221</td>\n",
       "      <td>marker/mechanism</td>\n",
       "      <td>[-0.08909295, 0.03922978, 0.0814492, -0.203048...</td>\n",
       "      <td>[-0.0946826, 0.10074462, 0.10395437, -0.210772...</td>\n",
       "      <td>[-0.06125916, 0.03503981, 0.113495, -0.1650931...</td>\n",
       "      <td>[-8.64804983e-02, 1.22145554e-02, 2.19862282e-...</td>\n",
       "      <td>NaN</td>\n",
       "      <td>1</td>\n",
       "      <td>[-0.08909295, 0.03922978, 0.0814492, -0.203048...</td>\n",
       "    </tr>\n",
       "  </tbody>\n",
       "</table>\n",
       "</div>"
      ],
      "text/plain": [
       "     ChemicalID     DiseaseID    DirectEvidence  \\\n",
       "4505    C079198  MESH:D005221  marker/mechanism   \n",
       "\n",
       "                                          DisDirCorrVec  \\\n",
       "4505  [-0.08909295, 0.03922978, 0.0814492, -0.203048...   \n",
       "\n",
       "                                         ChemDirCorrVec  \\\n",
       "4505  [-0.0946826, 0.10074462, 0.10395437, -0.210772...   \n",
       "\n",
       "                                         ChemInvCorrVec  \\\n",
       "4505  [-0.06125916, 0.03503981, 0.113495, -0.1650931...   \n",
       "\n",
       "                                      ChemUnspecCorrVec  Correlation  y  \\\n",
       "4505  [-8.64804983e-02, 1.22145554e-02, 2.19862282e-...          NaN  1   \n",
       "\n",
       "                                                  all_x  \n",
       "4505  [-0.08909295, 0.03922978, 0.0814492, -0.203048...  "
      ]
     },
     "execution_count": 196,
     "metadata": {},
     "output_type": "execute_result"
    }
   ],
   "source": [
    "df1.sample(1)"
   ]
  },
  {
   "cell_type": "code",
   "execution_count": 197,
   "metadata": {},
   "outputs": [],
   "source": [
    "# Now create np array of the y output\n",
    "# all_y = np.array(df1.y)\n",
    "# all_y = np.array(df1.y)"
   ]
  },
  {
   "cell_type": "code",
   "execution_count": 198,
   "metadata": {},
   "outputs": [],
   "source": [
    "# # Here I'm going to split y into three columns, model isn't accepting the current col of lists\n",
    "# df1[['neg_corr', 'no_corr', 'pos_corr']] = pd.DataFrame(df1.y.values.tolist(), index= df1.index)\n",
    "# # Turn those three columns into a numpy matrix for y\n",
    "# all_y = df1[['neg_corr', 'no_corr', 'pos_corr']].values\n",
    "\n",
    "# Here I'm going to split y into three columns, model isn't accepting the current col of lists\n",
    "# df1[['corr', 'no_corr']] = pd.DataFrame(df1.y.values.tolist(), index= df1.index)\n",
    "# # Turn those three columns into a numpy matrix for y\n",
    "# all_y = df1[['corr', 'no_corr']].values"
   ]
  },
  {
   "cell_type": "code",
   "execution_count": 199,
   "metadata": {},
   "outputs": [],
   "source": [
    "all_y = np.array(df1.y)"
   ]
  },
  {
   "cell_type": "code",
   "execution_count": 200,
   "metadata": {},
   "outputs": [
    {
     "name": "stdout",
     "output_type": "stream",
     "text": [
      "y shape:  (49967,)\n",
      "X shape:  (49967,)\n"
     ]
    }
   ],
   "source": [
    "print('y shape: ', all_y.shape)\n",
    "print('X shape: ', df1.all_x.shape)"
   ]
  },
  {
   "cell_type": "code",
   "execution_count": 201,
   "metadata": {},
   "outputs": [],
   "source": [
    "df1 = df1.reset_index()\n"
   ]
  },
  {
   "cell_type": "code",
   "execution_count": 202,
   "metadata": {},
   "outputs": [
    {
     "data": {
      "text/html": [
       "<div>\n",
       "<style scoped>\n",
       "    .dataframe tbody tr th:only-of-type {\n",
       "        vertical-align: middle;\n",
       "    }\n",
       "\n",
       "    .dataframe tbody tr th {\n",
       "        vertical-align: top;\n",
       "    }\n",
       "\n",
       "    .dataframe thead th {\n",
       "        text-align: right;\n",
       "    }\n",
       "</style>\n",
       "<table border=\"1\" class=\"dataframe\">\n",
       "  <thead>\n",
       "    <tr style=\"text-align: right;\">\n",
       "      <th></th>\n",
       "      <th>index</th>\n",
       "      <th>ChemicalID</th>\n",
       "      <th>DiseaseID</th>\n",
       "      <th>DirectEvidence</th>\n",
       "      <th>DisDirCorrVec</th>\n",
       "      <th>ChemDirCorrVec</th>\n",
       "      <th>ChemInvCorrVec</th>\n",
       "      <th>ChemUnspecCorrVec</th>\n",
       "      <th>Correlation</th>\n",
       "      <th>y</th>\n",
       "      <th>all_x</th>\n",
       "    </tr>\n",
       "  </thead>\n",
       "  <tbody>\n",
       "    <tr>\n",
       "      <th>0</th>\n",
       "      <td>0</td>\n",
       "      <td>C047781</td>\n",
       "      <td>MESH:D019636</td>\n",
       "      <td>unrel</td>\n",
       "      <td>[-1.14262342e-01, 5.38789481e-02, 2.20848829e-...</td>\n",
       "      <td>[-2.19134688e-02, 6.21654280e-02, 2.94434540e-...</td>\n",
       "      <td>[-0.06442674, 0.08891448, 0.0934539, -0.163900...</td>\n",
       "      <td>[-4.08264846e-02, 7.48397559e-02, 1.33313328e-...</td>\n",
       "      <td>0.0</td>\n",
       "      <td>0</td>\n",
       "      <td>[-1.14262342e-01, 5.38789481e-02, 2.20848829e-...</td>\n",
       "    </tr>\n",
       "    <tr>\n",
       "      <th>1</th>\n",
       "      <td>1</td>\n",
       "      <td>D004221</td>\n",
       "      <td>MESH:D020138</td>\n",
       "      <td>unrel</td>\n",
       "      <td>[-0.10882902, 0.06895705, 0.10221382, -0.22221...</td>\n",
       "      <td>[-0.23009795, 0.09381515, 0.33420295, -0.61487...</td>\n",
       "      <td>[-0.28426537, 0.05070389, 0.39222243, -0.75203...</td>\n",
       "      <td>[-0.11803643, 0.00451986, 0.12359605, -0.25856...</td>\n",
       "      <td>0.0</td>\n",
       "      <td>0</td>\n",
       "      <td>[-0.10882902, 0.06895705, 0.10221382, -0.22221...</td>\n",
       "    </tr>\n",
       "    <tr>\n",
       "      <th>2</th>\n",
       "      <td>2</td>\n",
       "      <td>D005492</td>\n",
       "      <td>MESH:D009771</td>\n",
       "      <td>unrel</td>\n",
       "      <td>[-7.34942108e-02, 6.87419623e-02, 9.67935994e-...</td>\n",
       "      <td>[-0.18386252, 0.05739972, 0.31298286, -0.50098...</td>\n",
       "      <td>[-0.20607467, -0.02030009, 0.27222764, -0.5197...</td>\n",
       "      <td>[-0.2069908, 0.08136909, 0.32861486, -0.650557...</td>\n",
       "      <td>0.0</td>\n",
       "      <td>0</td>\n",
       "      <td>[-7.34942108e-02, 6.87419623e-02, 9.67935994e-...</td>\n",
       "    </tr>\n",
       "    <tr>\n",
       "      <th>3</th>\n",
       "      <td>3</td>\n",
       "      <td>D001663</td>\n",
       "      <td>MESH:D009336</td>\n",
       "      <td>marker/mechanism</td>\n",
       "      <td>[-0.09419329, 0.11557826, 0.22528334, -0.40491...</td>\n",
       "      <td>[-0.146233, 0.03840511, 0.17462222, -0.3473161...</td>\n",
       "      <td>[-0.13555573, 0.02192712, 0.19578701, -0.43519...</td>\n",
       "      <td>[-8.70749131e-02, 1.10517032e-01, 1.86180398e-...</td>\n",
       "      <td>NaN</td>\n",
       "      <td>1</td>\n",
       "      <td>[-0.09419329, 0.11557826, 0.22528334, -0.40491...</td>\n",
       "    </tr>\n",
       "    <tr>\n",
       "      <th>4</th>\n",
       "      <td>4</td>\n",
       "      <td>D000638</td>\n",
       "      <td>MESH:D018805</td>\n",
       "      <td>unrel</td>\n",
       "      <td>[-8.79440531e-02, 1.86977208e-01, 1.63686529e-...</td>\n",
       "      <td>[-2.25913793e-01, 1.88814744e-01, 4.35200095e-...</td>\n",
       "      <td>[-0.08187676, 0.03087393, 0.21127757, -0.35847...</td>\n",
       "      <td>[-0.09188982, 0.08164369, 0.15871522, -0.39124...</td>\n",
       "      <td>0.0</td>\n",
       "      <td>0</td>\n",
       "      <td>[-8.79440531e-02, 1.86977208e-01, 1.63686529e-...</td>\n",
       "    </tr>\n",
       "  </tbody>\n",
       "</table>\n",
       "</div>"
      ],
      "text/plain": [
       "   index ChemicalID     DiseaseID    DirectEvidence  \\\n",
       "0      0    C047781  MESH:D019636             unrel   \n",
       "1      1    D004221  MESH:D020138             unrel   \n",
       "2      2    D005492  MESH:D009771             unrel   \n",
       "3      3    D001663  MESH:D009336  marker/mechanism   \n",
       "4      4    D000638  MESH:D018805             unrel   \n",
       "\n",
       "                                       DisDirCorrVec  \\\n",
       "0  [-1.14262342e-01, 5.38789481e-02, 2.20848829e-...   \n",
       "1  [-0.10882902, 0.06895705, 0.10221382, -0.22221...   \n",
       "2  [-7.34942108e-02, 6.87419623e-02, 9.67935994e-...   \n",
       "3  [-0.09419329, 0.11557826, 0.22528334, -0.40491...   \n",
       "4  [-8.79440531e-02, 1.86977208e-01, 1.63686529e-...   \n",
       "\n",
       "                                      ChemDirCorrVec  \\\n",
       "0  [-2.19134688e-02, 6.21654280e-02, 2.94434540e-...   \n",
       "1  [-0.23009795, 0.09381515, 0.33420295, -0.61487...   \n",
       "2  [-0.18386252, 0.05739972, 0.31298286, -0.50098...   \n",
       "3  [-0.146233, 0.03840511, 0.17462222, -0.3473161...   \n",
       "4  [-2.25913793e-01, 1.88814744e-01, 4.35200095e-...   \n",
       "\n",
       "                                      ChemInvCorrVec  \\\n",
       "0  [-0.06442674, 0.08891448, 0.0934539, -0.163900...   \n",
       "1  [-0.28426537, 0.05070389, 0.39222243, -0.75203...   \n",
       "2  [-0.20607467, -0.02030009, 0.27222764, -0.5197...   \n",
       "3  [-0.13555573, 0.02192712, 0.19578701, -0.43519...   \n",
       "4  [-0.08187676, 0.03087393, 0.21127757, -0.35847...   \n",
       "\n",
       "                                   ChemUnspecCorrVec  Correlation  y  \\\n",
       "0  [-4.08264846e-02, 7.48397559e-02, 1.33313328e-...          0.0  0   \n",
       "1  [-0.11803643, 0.00451986, 0.12359605, -0.25856...          0.0  0   \n",
       "2  [-0.2069908, 0.08136909, 0.32861486, -0.650557...          0.0  0   \n",
       "3  [-8.70749131e-02, 1.10517032e-01, 1.86180398e-...          NaN  1   \n",
       "4  [-0.09188982, 0.08164369, 0.15871522, -0.39124...          0.0  0   \n",
       "\n",
       "                                               all_x  \n",
       "0  [-1.14262342e-01, 5.38789481e-02, 2.20848829e-...  \n",
       "1  [-0.10882902, 0.06895705, 0.10221382, -0.22221...  \n",
       "2  [-7.34942108e-02, 6.87419623e-02, 9.67935994e-...  \n",
       "3  [-0.09419329, 0.11557826, 0.22528334, -0.40491...  \n",
       "4  [-8.79440531e-02, 1.86977208e-01, 1.63686529e-...  "
      ]
     },
     "execution_count": 202,
     "metadata": {},
     "output_type": "execute_result"
    }
   ],
   "source": [
    "df1.head()"
   ]
  },
  {
   "cell_type": "code",
   "execution_count": 203,
   "metadata": {},
   "outputs": [],
   "source": [
    "# # Create training, test, val set in a way that we can later look at the rows of each BY ROWS\n",
    "# total_rows = len(all_X)\n",
    "# row_numbers = list(range(0, total_rows))\n",
    "\n",
    "# training_rows = random.sample(row_numbers, int(round(total_rows * .6)))\n",
    "# row_numbers = set(row_numbers) - set(training_rows)\n",
    "\n",
    "# test_rows = random.sample(row_numbers, int(round(total_rows * .2)))\n",
    "# row_numbers = set(row_numbers) - set(test_rows)\n",
    "\n",
    "# val_rows = list(row_numbers)"
   ]
  },
  {
   "cell_type": "code",
   "execution_count": 204,
   "metadata": {},
   "outputs": [
    {
     "name": "stdout",
     "output_type": "stream",
     "text": [
      "number of chemicals:  1721\n",
      "number of dis:  1476\n",
      "1033 344 344\n"
     ]
    }
   ],
   "source": [
    "# Split into train, test, val BY CHEMICAL instead of by random rows\n",
    "print('number of chemicals: ', len(df1.ChemicalID.unique()))\n",
    "print('number of dis: ', len(df1.DiseaseID.unique()))\n",
    "chems = list(df1.ChemicalID.unique())\n",
    "random.shuffle(chems)\n",
    "\n",
    "total_chems = len(chems)\n",
    "train_chems = chems[:round(total_chems * .6)]\n",
    "test_chems = chems[round(total_chems * .6):round(total_chems * .8)]\n",
    "val_chems = chems[round(total_chems * .8):]\n",
    "\n",
    "print(len(train_chems), len(test_chems), len(val_chems))\n",
    "\n",
    "# Now get the row numbers for each set of chemicals "
   ]
  },
  {
   "cell_type": "code",
   "execution_count": 205,
   "metadata": {},
   "outputs": [],
   "source": [
    "df1['train'] = df1.ChemicalID.isin(train_chems)\n",
    "df1['test'] = df1.ChemicalID.isin(test_chems)\n",
    "df1['val'] = df1.ChemicalID.isin(val_chems)"
   ]
  },
  {
   "cell_type": "code",
   "execution_count": 206,
   "metadata": {},
   "outputs": [],
   "source": [
    "# df1.head()"
   ]
  },
  {
   "cell_type": "code",
   "execution_count": 207,
   "metadata": {},
   "outputs": [],
   "source": [
    "## Commenting out and redoing as the index goes wrong somewhere with this now\n",
    "# df1 = df1.reset_index()\n",
    "# training_rows = df1.index[df1.train == True].tolist()\n",
    "# test_rows = df1.index[df1.test == True].tolist()\n",
    "# val_rows = df1.index[df1.val == True].tolist()\n",
    "# Split into train, test, val\n",
    "# X_train, X_test, X_val = all_X[training_rows], all_X[test_rows], all_X[val_rows]\n",
    "# y_train, y_test, y_val = all_y[training_rows], all_y[test_rows], all_y[val_rows]\n",
    "\n",
    "# print(len(training_rows), len(test_rows), len(val_rows))"
   ]
  },
  {
   "cell_type": "code",
   "execution_count": 208,
   "metadata": {},
   "outputs": [],
   "source": [
    "# X_train"
   ]
  },
  {
   "cell_type": "code",
   "execution_count": 209,
   "metadata": {},
   "outputs": [],
   "source": [
    "# df1.iloc[15:20]"
   ]
  },
  {
   "cell_type": "code",
   "execution_count": 210,
   "metadata": {},
   "outputs": [],
   "source": [
    "# Split into train, test, val\n",
    "X_train, X_test, X_val = df1[df1.train==True].all_x, df1[df1.test==True].all_x, df1[df1.val==True].all_x\n",
    "y_train, y_test, y_val = df1[df1.train==True].y, df1[df1.test==True].y, df1[df1.val==True].y\n",
    "\n",
    "# print(len(training_rows), len(test_rows), len(val_rows))"
   ]
  },
  {
   "cell_type": "code",
   "execution_count": 211,
   "metadata": {},
   "outputs": [],
   "source": [
    "# # Split into train, test, val --> OLD WAY\n",
    "# X_train, X_test, y_train, y_test = train_test_split(all_X, all_y, test_size=0.2, random_state=1606)\n",
    "# X_train, X_val, y_train, y_val = train_test_split(X_train, y_train, test_size=0.2, random_state=1606)"
   ]
  },
  {
   "cell_type": "code",
   "execution_count": 212,
   "metadata": {},
   "outputs": [
    {
     "data": {
      "text/plain": [
       "(29873,)"
      ]
     },
     "execution_count": 212,
     "metadata": {},
     "output_type": "execute_result"
    }
   ],
   "source": [
    "y_train.shape"
   ]
  },
  {
   "cell_type": "code",
   "execution_count": 213,
   "metadata": {},
   "outputs": [
    {
     "data": {
      "text/plain": [
       "(29873,)"
      ]
     },
     "execution_count": 213,
     "metadata": {},
     "output_type": "execute_result"
    }
   ],
   "source": [
    "np.array(X_train).shape"
   ]
  },
  {
   "cell_type": "code",
   "execution_count": 214,
   "metadata": {},
   "outputs": [],
   "source": [
    "# X_train = np.reshape(X_train, (X_train.shape[0], 1, X_train.shape[1]))\n",
    "# X_test = np.reshape(X_test, (X_test.shape[0], 1, X_test.shape[1]))"
   ]
  },
  {
   "cell_type": "code",
   "execution_count": 215,
   "metadata": {},
   "outputs": [
    {
     "data": {
      "text/html": [
       "<div>\n",
       "<style scoped>\n",
       "    .dataframe tbody tr th:only-of-type {\n",
       "        vertical-align: middle;\n",
       "    }\n",
       "\n",
       "    .dataframe tbody tr th {\n",
       "        vertical-align: top;\n",
       "    }\n",
       "\n",
       "    .dataframe thead th {\n",
       "        text-align: right;\n",
       "    }\n",
       "</style>\n",
       "<table border=\"1\" class=\"dataframe\">\n",
       "  <thead>\n",
       "    <tr style=\"text-align: right;\">\n",
       "      <th></th>\n",
       "      <th>index</th>\n",
       "      <th>ChemicalID</th>\n",
       "      <th>DiseaseID</th>\n",
       "      <th>DirectEvidence</th>\n",
       "      <th>DisDirCorrVec</th>\n",
       "      <th>ChemDirCorrVec</th>\n",
       "      <th>ChemInvCorrVec</th>\n",
       "      <th>ChemUnspecCorrVec</th>\n",
       "      <th>Correlation</th>\n",
       "      <th>y</th>\n",
       "      <th>all_x</th>\n",
       "      <th>train</th>\n",
       "      <th>test</th>\n",
       "      <th>val</th>\n",
       "    </tr>\n",
       "  </thead>\n",
       "  <tbody>\n",
       "    <tr>\n",
       "      <th>0</th>\n",
       "      <td>0</td>\n",
       "      <td>C047781</td>\n",
       "      <td>MESH:D019636</td>\n",
       "      <td>unrel</td>\n",
       "      <td>[-1.14262342e-01, 5.38789481e-02, 2.20848829e-...</td>\n",
       "      <td>[-2.19134688e-02, 6.21654280e-02, 2.94434540e-...</td>\n",
       "      <td>[-0.06442674, 0.08891448, 0.0934539, -0.163900...</td>\n",
       "      <td>[-4.08264846e-02, 7.48397559e-02, 1.33313328e-...</td>\n",
       "      <td>0.0</td>\n",
       "      <td>0</td>\n",
       "      <td>[-1.14262342e-01, 5.38789481e-02, 2.20848829e-...</td>\n",
       "      <td>True</td>\n",
       "      <td>False</td>\n",
       "      <td>False</td>\n",
       "    </tr>\n",
       "    <tr>\n",
       "      <th>1</th>\n",
       "      <td>1</td>\n",
       "      <td>D004221</td>\n",
       "      <td>MESH:D020138</td>\n",
       "      <td>unrel</td>\n",
       "      <td>[-0.10882902, 0.06895705, 0.10221382, -0.22221...</td>\n",
       "      <td>[-0.23009795, 0.09381515, 0.33420295, -0.61487...</td>\n",
       "      <td>[-0.28426537, 0.05070389, 0.39222243, -0.75203...</td>\n",
       "      <td>[-0.11803643, 0.00451986, 0.12359605, -0.25856...</td>\n",
       "      <td>0.0</td>\n",
       "      <td>0</td>\n",
       "      <td>[-0.10882902, 0.06895705, 0.10221382, -0.22221...</td>\n",
       "      <td>True</td>\n",
       "      <td>False</td>\n",
       "      <td>False</td>\n",
       "    </tr>\n",
       "    <tr>\n",
       "      <th>2</th>\n",
       "      <td>2</td>\n",
       "      <td>D005492</td>\n",
       "      <td>MESH:D009771</td>\n",
       "      <td>unrel</td>\n",
       "      <td>[-7.34942108e-02, 6.87419623e-02, 9.67935994e-...</td>\n",
       "      <td>[-0.18386252, 0.05739972, 0.31298286, -0.50098...</td>\n",
       "      <td>[-0.20607467, -0.02030009, 0.27222764, -0.5197...</td>\n",
       "      <td>[-0.2069908, 0.08136909, 0.32861486, -0.650557...</td>\n",
       "      <td>0.0</td>\n",
       "      <td>0</td>\n",
       "      <td>[-7.34942108e-02, 6.87419623e-02, 9.67935994e-...</td>\n",
       "      <td>True</td>\n",
       "      <td>False</td>\n",
       "      <td>False</td>\n",
       "    </tr>\n",
       "    <tr>\n",
       "      <th>3</th>\n",
       "      <td>3</td>\n",
       "      <td>D001663</td>\n",
       "      <td>MESH:D009336</td>\n",
       "      <td>marker/mechanism</td>\n",
       "      <td>[-0.09419329, 0.11557826, 0.22528334, -0.40491...</td>\n",
       "      <td>[-0.146233, 0.03840511, 0.17462222, -0.3473161...</td>\n",
       "      <td>[-0.13555573, 0.02192712, 0.19578701, -0.43519...</td>\n",
       "      <td>[-8.70749131e-02, 1.10517032e-01, 1.86180398e-...</td>\n",
       "      <td>NaN</td>\n",
       "      <td>1</td>\n",
       "      <td>[-0.09419329, 0.11557826, 0.22528334, -0.40491...</td>\n",
       "      <td>True</td>\n",
       "      <td>False</td>\n",
       "      <td>False</td>\n",
       "    </tr>\n",
       "    <tr>\n",
       "      <th>4</th>\n",
       "      <td>4</td>\n",
       "      <td>D000638</td>\n",
       "      <td>MESH:D018805</td>\n",
       "      <td>unrel</td>\n",
       "      <td>[-8.79440531e-02, 1.86977208e-01, 1.63686529e-...</td>\n",
       "      <td>[-2.25913793e-01, 1.88814744e-01, 4.35200095e-...</td>\n",
       "      <td>[-0.08187676, 0.03087393, 0.21127757, -0.35847...</td>\n",
       "      <td>[-0.09188982, 0.08164369, 0.15871522, -0.39124...</td>\n",
       "      <td>0.0</td>\n",
       "      <td>0</td>\n",
       "      <td>[-8.79440531e-02, 1.86977208e-01, 1.63686529e-...</td>\n",
       "      <td>True</td>\n",
       "      <td>False</td>\n",
       "      <td>False</td>\n",
       "    </tr>\n",
       "  </tbody>\n",
       "</table>\n",
       "</div>"
      ],
      "text/plain": [
       "   index ChemicalID     DiseaseID    DirectEvidence  \\\n",
       "0      0    C047781  MESH:D019636             unrel   \n",
       "1      1    D004221  MESH:D020138             unrel   \n",
       "2      2    D005492  MESH:D009771             unrel   \n",
       "3      3    D001663  MESH:D009336  marker/mechanism   \n",
       "4      4    D000638  MESH:D018805             unrel   \n",
       "\n",
       "                                       DisDirCorrVec  \\\n",
       "0  [-1.14262342e-01, 5.38789481e-02, 2.20848829e-...   \n",
       "1  [-0.10882902, 0.06895705, 0.10221382, -0.22221...   \n",
       "2  [-7.34942108e-02, 6.87419623e-02, 9.67935994e-...   \n",
       "3  [-0.09419329, 0.11557826, 0.22528334, -0.40491...   \n",
       "4  [-8.79440531e-02, 1.86977208e-01, 1.63686529e-...   \n",
       "\n",
       "                                      ChemDirCorrVec  \\\n",
       "0  [-2.19134688e-02, 6.21654280e-02, 2.94434540e-...   \n",
       "1  [-0.23009795, 0.09381515, 0.33420295, -0.61487...   \n",
       "2  [-0.18386252, 0.05739972, 0.31298286, -0.50098...   \n",
       "3  [-0.146233, 0.03840511, 0.17462222, -0.3473161...   \n",
       "4  [-2.25913793e-01, 1.88814744e-01, 4.35200095e-...   \n",
       "\n",
       "                                      ChemInvCorrVec  \\\n",
       "0  [-0.06442674, 0.08891448, 0.0934539, -0.163900...   \n",
       "1  [-0.28426537, 0.05070389, 0.39222243, -0.75203...   \n",
       "2  [-0.20607467, -0.02030009, 0.27222764, -0.5197...   \n",
       "3  [-0.13555573, 0.02192712, 0.19578701, -0.43519...   \n",
       "4  [-0.08187676, 0.03087393, 0.21127757, -0.35847...   \n",
       "\n",
       "                                   ChemUnspecCorrVec  Correlation  y  \\\n",
       "0  [-4.08264846e-02, 7.48397559e-02, 1.33313328e-...          0.0  0   \n",
       "1  [-0.11803643, 0.00451986, 0.12359605, -0.25856...          0.0  0   \n",
       "2  [-0.2069908, 0.08136909, 0.32861486, -0.650557...          0.0  0   \n",
       "3  [-8.70749131e-02, 1.10517032e-01, 1.86180398e-...          NaN  1   \n",
       "4  [-0.09188982, 0.08164369, 0.15871522, -0.39124...          0.0  0   \n",
       "\n",
       "                                               all_x  train   test    val  \n",
       "0  [-1.14262342e-01, 5.38789481e-02, 2.20848829e-...   True  False  False  \n",
       "1  [-0.10882902, 0.06895705, 0.10221382, -0.22221...   True  False  False  \n",
       "2  [-7.34942108e-02, 6.87419623e-02, 9.67935994e-...   True  False  False  \n",
       "3  [-0.09419329, 0.11557826, 0.22528334, -0.40491...   True  False  False  \n",
       "4  [-8.79440531e-02, 1.86977208e-01, 1.63686529e-...   True  False  False  "
      ]
     },
     "execution_count": 215,
     "metadata": {},
     "output_type": "execute_result"
    }
   ],
   "source": [
    "df1.head()"
   ]
  },
  {
   "cell_type": "code",
   "execution_count": 216,
   "metadata": {},
   "outputs": [],
   "source": [
    "#Turn the y_train, X_train etc into multi-dim np arrays\n",
    "X_train = np.matrix(X_train.tolist())\n",
    "# y_train = np.matrix(y_train.tolist())\n",
    "X_test = np.matrix(X_test.tolist())\n",
    "# y_test = np.matrix(y_test.tolist())\n",
    "X_val = np.matrix(X_val.tolist())\n",
    "# y_val = np.matrix(y_val.tolist())"
   ]
  },
  {
   "cell_type": "code",
   "execution_count": null,
   "metadata": {},
   "outputs": [],
   "source": []
  },
  {
   "cell_type": "code",
   "execution_count": 217,
   "metadata": {},
   "outputs": [
    {
     "data": {
      "text/plain": [
       "(29873,)"
      ]
     },
     "execution_count": 217,
     "metadata": {},
     "output_type": "execute_result"
    }
   ],
   "source": [
    "y_train.shape"
   ]
  },
  {
   "cell_type": "code",
   "execution_count": 218,
   "metadata": {},
   "outputs": [
    {
     "data": {
      "text/plain": [
       "(29873, 800)"
      ]
     },
     "execution_count": 218,
     "metadata": {},
     "output_type": "execute_result"
    }
   ],
   "source": [
    "X_train.shape"
   ]
  },
  {
   "cell_type": "code",
   "execution_count": 219,
   "metadata": {},
   "outputs": [
    {
     "data": {
      "text/plain": [
       "0        0\n",
       "1        0\n",
       "2        0\n",
       "3        1\n",
       "4        0\n",
       "5        1\n",
       "8        1\n",
       "9        1\n",
       "10       0\n",
       "11       1\n",
       "15       1\n",
       "16       1\n",
       "18       0\n",
       "20       1\n",
       "22       1\n",
       "23       0\n",
       "25       1\n",
       "26       0\n",
       "31       1\n",
       "33       0\n",
       "35       1\n",
       "38       1\n",
       "39       1\n",
       "40       1\n",
       "41       1\n",
       "42       1\n",
       "45       1\n",
       "46       1\n",
       "47       1\n",
       "54       1\n",
       "        ..\n",
       "49918    1\n",
       "49920    1\n",
       "49922    1\n",
       "49925    1\n",
       "49928    0\n",
       "49930    1\n",
       "49931    1\n",
       "49932    1\n",
       "49934    1\n",
       "49935    1\n",
       "49936    0\n",
       "49938    0\n",
       "49939    1\n",
       "49940    0\n",
       "49941    1\n",
       "49942    1\n",
       "49943    0\n",
       "49946    0\n",
       "49947    1\n",
       "49949    1\n",
       "49950    1\n",
       "49951    1\n",
       "49954    0\n",
       "49955    1\n",
       "49957    1\n",
       "49958    1\n",
       "49960    1\n",
       "49962    1\n",
       "49963    1\n",
       "49964    1\n",
       "Name: y, Length: 29873, dtype: int64"
      ]
     },
     "execution_count": 219,
     "metadata": {},
     "output_type": "execute_result"
    }
   ],
   "source": [
    "y_train"
   ]
  },
  {
   "cell_type": "markdown",
   "metadata": {},
   "source": [
    "### 3. Establish NN Model"
   ]
  },
  {
   "cell_type": "code",
   "execution_count": 236,
   "metadata": {},
   "outputs": [],
   "source": [
    "# 1. Establish the model architecture\n",
    "#it's safe to say that I don't know what I'm doing here\n",
    "model = keras.Sequential([\n",
    "#     keras.layers.Dense(400, activation=tf.nn.relu), \n",
    "    keras.layers.Dense(200, input_dim=800,  activation=tf.nn.relu), #input_dim=1000,\n",
    "#     keras.layers.Dense(200, activation=tf.nn.relu), #input_dim=1000,\n",
    "    #     tf.layers.flatten(inputs),\n",
    "#     keras.layers.Dropout(rate=0.2, noise_shape=None, seed=None),\n",
    "    keras.layers.Dense(30, activation=tf.nn.relu),\n",
    "#     keras.layers.Dropout(rate=0.2, noise_shape=None, seed=None),\n",
    "#     keras.layers.Flatten(), \n",
    "#     keras.layers.Dense(3, activation=tf.nn.softmax)\n",
    "    keras.layers.Dense(1, activation=tf.nn.sigmoid)\n",
    "])"
   ]
  },
  {
   "cell_type": "code",
   "execution_count": 237,
   "metadata": {},
   "outputs": [],
   "source": [
    "# ## This is the old model, purely for comparing new vectors to old\n",
    "\n",
    "# # 1. Establish the model architecture\n",
    "# #it's safe to say that I don't know what I'm doing here\n",
    "# model = keras.Sequential([\n",
    "# #     keras.layers.Dense(400, activation=tf.nn.relu), \n",
    "#     keras.layers.Dense(200, activation=tf.nn.relu),\n",
    "#     keras.layers.Dropout(rate=0.2, noise_shape=None, seed=None),\n",
    "#     keras.layers.Dense(10, activation=tf.nn.relu),\n",
    "#     keras.layers.Dropout(rate=0.2, noise_shape=None, seed=None),\n",
    "#     keras.layers.Dense(1, activation=tf.nn.sigmoid)\n",
    "# ])\n",
    "\n",
    "# # 2. Compile the model (give it loss func, optimise func and eval metric)\n",
    "# model.compile(optimizer=tf.train.AdamOptimizer(), # determines how the model is adapted based on loss func\n",
    "#               loss='binary_crossentropy', # measure of accuracy during training\n",
    "#               metrics=['accuracy']) # measure for train and testing steps\n",
    "\n",
    "# # 3. Train\n",
    "# model.fit(X_train, y_train, epochs=10, validation_data=(X_val, y_val) ) #, callbacks=[earlystop])"
   ]
  },
  {
   "cell_type": "code",
   "execution_count": 238,
   "metadata": {},
   "outputs": [],
   "source": [
    "# 2. Compile the model (give it loss func, optimise func and eval metric)\n",
    "model.compile(optimizer=tf.train.AdamOptimizer(), # determines how the model is adapted based on loss func\n",
    "              loss='binary_crossentropy', # measure of accuracy during training\n",
    "              metrics=['accuracy']) # measure for train and testing steps "
   ]
  },
  {
   "cell_type": "code",
   "execution_count": 239,
   "metadata": {},
   "outputs": [],
   "source": [
    "# Pre-training, set up training params\n",
    "# earlystop = keras.callbacks.EarlyStopping(monitor='val_loss', min_delta=0, patience=0, verbose=0, mode='auto', baseline=None)"
   ]
  },
  {
   "cell_type": "code",
   "execution_count": 240,
   "metadata": {},
   "outputs": [
    {
     "name": "stdout",
     "output_type": "stream",
     "text": [
      "Train on 29873 samples, validate on 9235 samples\n",
      "Epoch 1/10\n",
      "29873/29873 [==============================] - 18s 616us/step - loss: 0.5303 - acc: 0.7376 - val_loss: 0.5494 - val_acc: 0.7480\n",
      "Epoch 2/10\n",
      "29873/29873 [==============================] - 22s 752us/step - loss: 0.4735 - acc: 0.7560 - val_loss: 0.6436 - val_acc: 0.7154\n",
      "Epoch 3/10\n",
      "29873/29873 [==============================] - 24s 798us/step - loss: 0.4202 - acc: 0.7776 - val_loss: 0.8074 - val_acc: 0.7468\n",
      "Epoch 4/10\n",
      "29873/29873 [==============================] - 21s 700us/step - loss: 0.3735 - acc: 0.8013 - val_loss: 1.1882 - val_acc: 0.7260\n",
      "Epoch 5/10\n",
      "29873/29873 [==============================] - 21s 689us/step - loss: 0.3434 - acc: 0.8189 - val_loss: 1.1638 - val_acc: 0.7447\n",
      "Epoch 6/10\n",
      "29873/29873 [==============================] - 21s 707us/step - loss: 0.3266 - acc: 0.8261 - val_loss: 1.4700 - val_acc: 0.7522\n",
      "Epoch 7/10\n",
      "29873/29873 [==============================] - 21s 715us/step - loss: 0.3099 - acc: 0.8331 - val_loss: 1.2344 - val_acc: 0.6674\n",
      "Epoch 8/10\n",
      "29873/29873 [==============================] - 21s 692us/step - loss: 0.3047 - acc: 0.8356 - val_loss: 1.7914 - val_acc: 0.7321\n",
      "Epoch 9/10\n",
      "29873/29873 [==============================] - 21s 705us/step - loss: 0.2959 - acc: 0.8411 - val_loss: 1.7149 - val_acc: 0.7003\n",
      "Epoch 10/10\n",
      "29873/29873 [==============================] - 20s 683us/step - loss: 0.2956 - acc: 0.8413 - val_loss: 1.5016 - val_acc: 0.6946\n"
     ]
    },
    {
     "data": {
      "text/plain": [
       "<tensorflow.python.keras.callbacks.History at 0x7fccca796a90>"
      ]
     },
     "execution_count": 240,
     "metadata": {},
     "output_type": "execute_result"
    }
   ],
   "source": [
    "# 3. Train\n",
    "model.fit(X_train, y_train, epochs=10, validation_data=(X_val, y_val) ) #, callbacks=[earlystop])"
   ]
  },
  {
   "cell_type": "markdown",
   "metadata": {},
   "source": [
    "### ...and evaluate"
   ]
  },
  {
   "cell_type": "code",
   "execution_count": 241,
   "metadata": {},
   "outputs": [
    {
     "name": "stdout",
     "output_type": "stream",
     "text": [
      "10859/10859 [==============================] - 5s 482us/step\n",
      "Test accuracy: 0.703471774586833\n"
     ]
    }
   ],
   "source": [
    "# 4. Evaluate\n",
    "# Accuracy\n",
    "test_loss, test_acc = model.evaluate(X_test, y_test)\n",
    "print('Test accuracy:', test_acc)"
   ]
  },
  {
   "cell_type": "code",
   "execution_count": 242,
   "metadata": {},
   "outputs": [],
   "source": [
    "# Get actual predictions for test set\n",
    "predictions = model.predict(X_test)\n",
    "rounded_predictions = [int(float(round(x[0]))) for x in predictions]"
   ]
  },
  {
   "cell_type": "code",
   "execution_count": 243,
   "metadata": {},
   "outputs": [
    {
     "data": {
      "text/plain": [
       "array([[0.99929047],\n",
       "       [0.41685092],\n",
       "       [0.9896924 ],\n",
       "       ...,\n",
       "       [0.9990489 ],\n",
       "       [0.38063583],\n",
       "       [0.9991429 ]], dtype=float32)"
      ]
     },
     "execution_count": 243,
     "metadata": {},
     "output_type": "execute_result"
    }
   ],
   "source": [
    "predictions"
   ]
  },
  {
   "cell_type": "code",
   "execution_count": 244,
   "metadata": {
    "scrolled": true
   },
   "outputs": [
    {
     "name": "stdout",
     "output_type": "stream",
     "text": [
      "Confusion matrix:\n",
      "Predicted  False  True  __all__\n",
      "Actual                         \n",
      "False        179   449      628\n",
      "True         424  1335     1759\n",
      "__all__      603  1784     2387\n"
     ]
    },
    {
     "data": {
      "text/plain": [
       "<matplotlib.axes._subplots.AxesSubplot at 0x7fcc049fcfd0>"
      ]
     },
     "execution_count": 244,
     "metadata": {},
     "output_type": "execute_result"
    },
    {
     "data": {
      "image/png": "[encoded data removed]",
      "text/plain": [
       "<Figure size 648x576 with 2 Axes>"
      ]
     },
     "metadata": {},
     "output_type": "display_data"
    }
   ],
   "source": [
    "%matplotlib inline\n",
    "# Confusion Matrix for binary classificaiton\n",
    "\n",
    "confusion_matrix = ConfusionMatrix(y_test, rounded_predictions)\n",
    "print(\"Confusion matrix:\\n%s\" % confusion_matrix)\n",
    "confusion_matrix.plot()"
   ]
  },
  {
   "cell_type": "code",
   "execution_count": 245,
   "metadata": {},
   "outputs": [
    {
     "name": "stderr",
     "output_type": "stream",
     "text": [
      "/home/ian/anaconda3/lib/python3.6/site-packages/ipykernel_launcher.py:37: FutureWarning: 'argmax' is deprecated, use 'idxmax' instead. The behavior of 'argmax'\n",
      "will be corrected to return the positional maximum in the future.\n",
      "Use 'series.values.argmax' to get the position of the maximum now.\n"
     ]
    },
    {
     "ename": "TypeError",
     "evalue": "Singleton array 6 cannot be considered a valid collection.",
     "output_type": "error",
     "traceback": [
      "\u001b[0;31m---------------------------------------------------------------------------\u001b[0m",
      "\u001b[0;31mTypeError\u001b[0m                                 Traceback (most recent call last)",
      "\u001b[0;32m<ipython-input-245-c1b58e897311>\u001b[0m in \u001b[0;36m<module>\u001b[0;34m()\u001b[0m\n\u001b[1;32m     35\u001b[0m \u001b[0;34m\u001b[0m\u001b[0m\n\u001b[1;32m     36\u001b[0m \u001b[0;34m\u001b[0m\u001b[0m\n\u001b[0;32m---> 37\u001b[0;31m \u001b[0mmatrix\u001b[0m \u001b[0;34m=\u001b[0m \u001b[0msklearn\u001b[0m\u001b[0;34m.\u001b[0m\u001b[0mmetrics\u001b[0m\u001b[0;34m.\u001b[0m\u001b[0mconfusion_matrix\u001b[0m\u001b[0;34m(\u001b[0m\u001b[0my_test\u001b[0m\u001b[0;34m.\u001b[0m\u001b[0margmax\u001b[0m\u001b[0;34m(\u001b[0m\u001b[0maxis\u001b[0m\u001b[0;34m=\u001b[0m\u001b[0;36m1\u001b[0m\u001b[0;34m)\u001b[0m\u001b[0;34m,\u001b[0m \u001b[0mpredictions\u001b[0m\u001b[0;34m.\u001b[0m\u001b[0margmax\u001b[0m\u001b[0;34m(\u001b[0m\u001b[0maxis\u001b[0m\u001b[0;34m=\u001b[0m\u001b[0;36m1\u001b[0m\u001b[0;34m)\u001b[0m\u001b[0;34m)\u001b[0m\u001b[0;34m\u001b[0m\u001b[0m\n\u001b[0m\u001b[1;32m     38\u001b[0m \u001b[0mplot_confusion_matrix\u001b[0m\u001b[0;34m(\u001b[0m\u001b[0mmatrix\u001b[0m\u001b[0;34m,\u001b[0m \u001b[0;34m[\u001b[0m\u001b[0;34m'neg_corr'\u001b[0m\u001b[0;34m,\u001b[0m \u001b[0;34m'no_corr'\u001b[0m\u001b[0;34m,\u001b[0m \u001b[0;34m'pos_corr'\u001b[0m\u001b[0;34m]\u001b[0m\u001b[0;34m)\u001b[0m\u001b[0;34m\u001b[0m\u001b[0m\n",
      "\u001b[0;32m~/anaconda3/lib/python3.6/site-packages/sklearn/metrics/classification.py\u001b[0m in \u001b[0;36mconfusion_matrix\u001b[0;34m(y_true, y_pred, labels, sample_weight)\u001b[0m\n\u001b[1;32m    248\u001b[0m \u001b[0;34m\u001b[0m\u001b[0m\n\u001b[1;32m    249\u001b[0m     \"\"\"\n\u001b[0;32m--> 250\u001b[0;31m     \u001b[0my_type\u001b[0m\u001b[0;34m,\u001b[0m \u001b[0my_true\u001b[0m\u001b[0;34m,\u001b[0m \u001b[0my_pred\u001b[0m \u001b[0;34m=\u001b[0m \u001b[0m_check_targets\u001b[0m\u001b[0;34m(\u001b[0m\u001b[0my_true\u001b[0m\u001b[0;34m,\u001b[0m \u001b[0my_pred\u001b[0m\u001b[0;34m)\u001b[0m\u001b[0;34m\u001b[0m\u001b[0m\n\u001b[0m\u001b[1;32m    251\u001b[0m     \u001b[0;32mif\u001b[0m \u001b[0my_type\u001b[0m \u001b[0;32mnot\u001b[0m \u001b[0;32min\u001b[0m \u001b[0;34m(\u001b[0m\u001b[0;34m\"binary\"\u001b[0m\u001b[0;34m,\u001b[0m \u001b[0;34m\"multiclass\"\u001b[0m\u001b[0;34m)\u001b[0m\u001b[0;34m:\u001b[0m\u001b[0;34m\u001b[0m\u001b[0m\n\u001b[1;32m    252\u001b[0m         \u001b[0;32mraise\u001b[0m \u001b[0mValueError\u001b[0m\u001b[0;34m(\u001b[0m\u001b[0;34m\"%s is not supported\"\u001b[0m \u001b[0;34m%\u001b[0m \u001b[0my_type\u001b[0m\u001b[0;34m)\u001b[0m\u001b[0;34m\u001b[0m\u001b[0m\n",
      "\u001b[0;32m~/anaconda3/lib/python3.6/site-packages/sklearn/metrics/classification.py\u001b[0m in \u001b[0;36m_check_targets\u001b[0;34m(y_true, y_pred)\u001b[0m\n\u001b[1;32m     69\u001b[0m     \u001b[0my_pred\u001b[0m \u001b[0;34m:\u001b[0m \u001b[0marray\u001b[0m \u001b[0;32mor\u001b[0m \u001b[0mindicator\u001b[0m \u001b[0mmatrix\u001b[0m\u001b[0;34m\u001b[0m\u001b[0m\n\u001b[1;32m     70\u001b[0m     \"\"\"\n\u001b[0;32m---> 71\u001b[0;31m     \u001b[0mcheck_consistent_length\u001b[0m\u001b[0;34m(\u001b[0m\u001b[0my_true\u001b[0m\u001b[0;34m,\u001b[0m \u001b[0my_pred\u001b[0m\u001b[0;34m)\u001b[0m\u001b[0;34m\u001b[0m\u001b[0m\n\u001b[0m\u001b[1;32m     72\u001b[0m     \u001b[0mtype_true\u001b[0m \u001b[0;34m=\u001b[0m \u001b[0mtype_of_target\u001b[0m\u001b[0;34m(\u001b[0m\u001b[0my_true\u001b[0m\u001b[0;34m)\u001b[0m\u001b[0;34m\u001b[0m\u001b[0m\n\u001b[1;32m     73\u001b[0m     \u001b[0mtype_pred\u001b[0m \u001b[0;34m=\u001b[0m \u001b[0mtype_of_target\u001b[0m\u001b[0;34m(\u001b[0m\u001b[0my_pred\u001b[0m\u001b[0;34m)\u001b[0m\u001b[0;34m\u001b[0m\u001b[0m\n",
      "\u001b[0;32m~/anaconda3/lib/python3.6/site-packages/sklearn/utils/validation.py\u001b[0m in \u001b[0;36mcheck_consistent_length\u001b[0;34m(*arrays)\u001b[0m\n\u001b[1;32m    198\u001b[0m     \"\"\"\n\u001b[1;32m    199\u001b[0m \u001b[0;34m\u001b[0m\u001b[0m\n\u001b[0;32m--> 200\u001b[0;31m     \u001b[0mlengths\u001b[0m \u001b[0;34m=\u001b[0m \u001b[0;34m[\u001b[0m\u001b[0m_num_samples\u001b[0m\u001b[0;34m(\u001b[0m\u001b[0mX\u001b[0m\u001b[0;34m)\u001b[0m \u001b[0;32mfor\u001b[0m \u001b[0mX\u001b[0m \u001b[0;32min\u001b[0m \u001b[0marrays\u001b[0m \u001b[0;32mif\u001b[0m \u001b[0mX\u001b[0m \u001b[0;32mis\u001b[0m \u001b[0;32mnot\u001b[0m \u001b[0;32mNone\u001b[0m\u001b[0;34m]\u001b[0m\u001b[0;34m\u001b[0m\u001b[0m\n\u001b[0m\u001b[1;32m    201\u001b[0m     \u001b[0muniques\u001b[0m \u001b[0;34m=\u001b[0m \u001b[0mnp\u001b[0m\u001b[0;34m.\u001b[0m\u001b[0munique\u001b[0m\u001b[0;34m(\u001b[0m\u001b[0mlengths\u001b[0m\u001b[0;34m)\u001b[0m\u001b[0;34m\u001b[0m\u001b[0m\n\u001b[1;32m    202\u001b[0m     \u001b[0;32mif\u001b[0m \u001b[0mlen\u001b[0m\u001b[0;34m(\u001b[0m\u001b[0muniques\u001b[0m\u001b[0;34m)\u001b[0m \u001b[0;34m>\u001b[0m \u001b[0;36m1\u001b[0m\u001b[0;34m:\u001b[0m\u001b[0;34m\u001b[0m\u001b[0m\n",
      "\u001b[0;32m~/anaconda3/lib/python3.6/site-packages/sklearn/utils/validation.py\u001b[0m in \u001b[0;36m<listcomp>\u001b[0;34m(.0)\u001b[0m\n\u001b[1;32m    198\u001b[0m     \"\"\"\n\u001b[1;32m    199\u001b[0m \u001b[0;34m\u001b[0m\u001b[0m\n\u001b[0;32m--> 200\u001b[0;31m     \u001b[0mlengths\u001b[0m \u001b[0;34m=\u001b[0m \u001b[0;34m[\u001b[0m\u001b[0m_num_samples\u001b[0m\u001b[0;34m(\u001b[0m\u001b[0mX\u001b[0m\u001b[0;34m)\u001b[0m \u001b[0;32mfor\u001b[0m \u001b[0mX\u001b[0m \u001b[0;32min\u001b[0m \u001b[0marrays\u001b[0m \u001b[0;32mif\u001b[0m \u001b[0mX\u001b[0m \u001b[0;32mis\u001b[0m \u001b[0;32mnot\u001b[0m \u001b[0;32mNone\u001b[0m\u001b[0;34m]\u001b[0m\u001b[0;34m\u001b[0m\u001b[0m\n\u001b[0m\u001b[1;32m    201\u001b[0m     \u001b[0muniques\u001b[0m \u001b[0;34m=\u001b[0m \u001b[0mnp\u001b[0m\u001b[0;34m.\u001b[0m\u001b[0munique\u001b[0m\u001b[0;34m(\u001b[0m\u001b[0mlengths\u001b[0m\u001b[0;34m)\u001b[0m\u001b[0;34m\u001b[0m\u001b[0m\n\u001b[1;32m    202\u001b[0m     \u001b[0;32mif\u001b[0m \u001b[0mlen\u001b[0m\u001b[0;34m(\u001b[0m\u001b[0muniques\u001b[0m\u001b[0;34m)\u001b[0m \u001b[0;34m>\u001b[0m \u001b[0;36m1\u001b[0m\u001b[0;34m:\u001b[0m\u001b[0;34m\u001b[0m\u001b[0m\n",
      "\u001b[0;32m~/anaconda3/lib/python3.6/site-packages/sklearn/utils/validation.py\u001b[0m in \u001b[0;36m_num_samples\u001b[0;34m(x)\u001b[0m\n\u001b[1;32m    117\u001b[0m         \u001b[0;32mif\u001b[0m \u001b[0mlen\u001b[0m\u001b[0;34m(\u001b[0m\u001b[0mx\u001b[0m\u001b[0;34m.\u001b[0m\u001b[0mshape\u001b[0m\u001b[0;34m)\u001b[0m \u001b[0;34m==\u001b[0m \u001b[0;36m0\u001b[0m\u001b[0;34m:\u001b[0m\u001b[0;34m\u001b[0m\u001b[0m\n\u001b[1;32m    118\u001b[0m             raise TypeError(\"Singleton array %r cannot be considered\"\n\u001b[0;32m--> 119\u001b[0;31m                             \" a valid collection.\" % x)\n\u001b[0m\u001b[1;32m    120\u001b[0m         \u001b[0;32mreturn\u001b[0m \u001b[0mx\u001b[0m\u001b[0;34m.\u001b[0m\u001b[0mshape\u001b[0m\u001b[0;34m[\u001b[0m\u001b[0;36m0\u001b[0m\u001b[0;34m]\u001b[0m\u001b[0;34m\u001b[0m\u001b[0m\n\u001b[1;32m    121\u001b[0m     \u001b[0;32melse\u001b[0m\u001b[0;34m:\u001b[0m\u001b[0;34m\u001b[0m\u001b[0m\n",
      "\u001b[0;31mTypeError\u001b[0m: Singleton array 6 cannot be considered a valid collection."
     ]
    }
   ],
   "source": [
    "# Plot multiclass confusion matrix\n",
    "def plot_confusion_matrix(cm, classes,\n",
    "                          normalize=False,\n",
    "                          title='Confusion matrix',\n",
    "                          cmap=plt.cm.Blues):\n",
    "    \"\"\"\n",
    "    This function prints and plots the confusion matrix.\n",
    "    Normalization can be applied by setting `normalize=True`.\n",
    "    \"\"\"\n",
    "    if normalize:\n",
    "        cm = cm.astype('float') / cm.sum(axis=1)[:, np.newaxis]\n",
    "        print(\"Normalized confusion matrix\")\n",
    "    else:\n",
    "        print('Confusion matrix, without normalization')\n",
    "\n",
    "    print(cm)\n",
    "\n",
    "    plt.imshow(cm, interpolation='nearest', cmap=cmap)\n",
    "    plt.title(title)\n",
    "    plt.colorbar()\n",
    "    tick_marks = np.arange(len(classes))\n",
    "    plt.xticks(tick_marks, classes, rotation=45)\n",
    "    plt.yticks(tick_marks, classes)\n",
    "\n",
    "    fmt = '.2f' if normalize else 'd'\n",
    "    thresh = cm.max() / 2.\n",
    "    for i, j in itertools.product(range(cm.shape[0]), range(cm.shape[1])):\n",
    "        plt.text(j, i, format(cm[i, j], fmt),\n",
    "                 horizontalalignment=\"center\",\n",
    "                 color=\"white\" if cm[i, j] > thresh else \"black\")\n",
    "\n",
    "    plt.ylabel('True label')\n",
    "    plt.xlabel('Predicted label')\n",
    "    plt.tight_layout()\n",
    "    \n",
    "\n",
    "matrix = sklearn.metrics.confusion_matrix(y_test.argmax(axis=1), predictions.argmax(axis=1))\n",
    "plot_confusion_matrix(matrix, ['neg_corr', 'no_corr', 'pos_corr'])"
   ]
  },
  {
   "cell_type": "code",
   "execution_count": 246,
   "metadata": {},
   "outputs": [
    {
     "name": "stdout",
     "output_type": "stream",
     "text": [
      "ROC AUC:  0.6708054352208135\n"
     ]
    }
   ],
   "source": [
    "# ROC AUC\n",
    "print('ROC AUC: ', roc_auc_score(y_test, predictions))"
   ]
  },
  {
   "cell_type": "markdown",
   "metadata": {},
   "source": [
    "### 4. Examine the predictions\n",
    "Let's look at the predictions the NN gets wrong, see if there's a pattern"
   ]
  },
  {
   "cell_type": "code",
   "execution_count": null,
   "metadata": {},
   "outputs": [],
   "source": [
    "# Create df with the relevant data\n",
    "test_set = df1.loc[test_rows]\n",
    "test_set['Predictions'] = predictions\n",
    "test_set['RoundPredictions'] = rounded_predictions"
   ]
  },
  {
   "cell_type": "code",
   "execution_count": null,
   "metadata": {},
   "outputs": [],
   "source": [
    "# Optimise memory --> set col types for the incoming CSV\n",
    "cds_cols = ['# ChemicalName', 'ChemicalID', 'DiseaseName', 'DiseaseID', 'DirectEvidence']\n",
    "cd_col_types = {   \n",
    "    '# ChemicalName': 'category',\n",
    "    'ChemicalID': 'category',\n",
    "    'DiseaseName': 'category',\n",
    "    'DiseaseID': 'category',\n",
    "}"
   ]
  },
  {
   "cell_type": "code",
   "execution_count": null,
   "metadata": {},
   "outputs": [],
   "source": [
    "# Let's get the disease and chemical names back! For the sake of eyeballing for patterns\n",
    "# Read in CTD csv, skipping the intro rows\n",
    "df_cd = pd.read_csv('../ctd-to-nt/csvs/CTD_chemicals_diseases.csv', usecols=cds_cols, dtype=cd_col_types, skiprows=27)\n",
    "df_cd = df_cd.drop(0)\n",
    "df_cd = df_cd.dropna(subset=['DirectEvidence']) # drop if it doesn't have direct evidence"
   ]
  },
  {
   "cell_type": "code",
   "execution_count": null,
   "metadata": {},
   "outputs": [],
   "source": [
    "df_cd.head()"
   ]
  },
  {
   "cell_type": "code",
   "execution_count": null,
   "metadata": {},
   "outputs": [],
   "source": [
    "test_set.head()"
   ]
  },
  {
   "cell_type": "code",
   "execution_count": null,
   "metadata": {},
   "outputs": [],
   "source": [
    "# Get ready for some memory-optimisation\n",
    "def mem_usage(pandas_obj):\n",
    "    if isinstance(pandas_obj,pd.DataFrame):\n",
    "        usage_b = pandas_obj.memory_usage(deep=True).sum()\n",
    "    else: # we assume if not a df it's a series\n",
    "        usage_b = pandas_obj.memory_usage(deep=True)\n",
    "    usage_mb = usage_b / 1024 ** 2 # convert bytes to megabytes\n",
    "    return \"{:03.2f} MB\".format(usage_mb)"
   ]
  },
  {
   "cell_type": "code",
   "execution_count": null,
   "metadata": {},
   "outputs": [],
   "source": [
    "test_set['Correlation'] = test_set.Correlation.astype(np.uint8)\n",
    "print(mem_usage(test_set['RoundPredictions']))\n",
    "test_set['RoundPredictions'] = test_set.RoundPredictions.astype(np.uint8)\n",
    "print(mem_usage(test_set['RoundPredictions']))"
   ]
  },
  {
   "cell_type": "code",
   "execution_count": null,
   "metadata": {},
   "outputs": [],
   "source": [
    "# merge in the names\n",
    "\n",
    "# Because this weirdly requires a tonne of memory, let's optimise (for stupid terrible top-of-range dell laptop)\n",
    "lst = [chem_dis, df, df_d, df_c, Dvecs, Cvecs]\n",
    "del lst\n",
    "test_set = test_set.drop(['DVec', 'CVec', 'index'], axis=1) # these cols are memory intensive\n",
    "df_cd.ChemicalID = df_cd.ChemicalID.astype('category')\n",
    "for col in ['DiseaseID', 'ChemicalID', 'DiseaseName', '# ChemicalName', 'DirectEvidence']:\n",
    "    if str(col) in df_cd.columns: df_cd[col] = df_cd[col].astype('category')\n",
    "    if col in test_set.columns: test_set[col] = test_set[col].astype('category')\n",
    "        \n",
    "test_set = pd.merge(test_set, df_cd[['DiseaseID', 'DiseaseName']], on='DiseaseID')\n",
    "test_set = pd.merge(test_set, df_cd[['# ChemicalName', 'ChemicalID']], on='ChemicalID')\n",
    "\n",
    "# weirdly these operations introduce millions of duplicate rows, so delete duplicates:\n",
    "test_set = test_set.drop_duplicates(list(set(test_set.columns.values))) #- set(['DVec','CVec'])))"
   ]
  },
  {
   "cell_type": "code",
   "execution_count": null,
   "metadata": {},
   "outputs": [],
   "source": [
    "# Import gofunction counts (for each disease and each chem). This csv was output in opa2vec.ipynb\n",
    "gofunc_counts = pd.read_csv('gofunc_counts.csv')\n",
    "test_set = pd.merge(test_set, gofunc_counts[['ChemicalID', 'gofunc']], on='ChemicalID')\n",
    "test_set = test_set.rename(columns = {'gofunc':'ChemGoFuncs'})\n",
    "test_set = pd.merge(test_set, gofunc_counts[['DiseaseID', 'gofunc']], on='DiseaseID')\n",
    "test_set = test_set.rename(columns = {'gofunc':'DisGoFuncs'})\n",
    "\n",
    "# Create combined gofunc count col\n",
    "test_set['sumGoFuncs'] = test_set.ChemGoFuncs + test_set.DisGoFuncs\n",
    "test_set['prodGoFuncs'] = test_set.ChemGoFuncs * test_set.DisGoFuncs\n",
    "\n"
   ]
  },
  {
   "cell_type": "code",
   "execution_count": null,
   "metadata": {},
   "outputs": [],
   "source": [
    "# Create false pos and false neg col\n",
    "test_set['false_pos'] = abs(test_set.RoundPredictions - test_set.Correlation).map(lambda x: 0 if x > 200 else x)\n",
    "test_set['true_pos'] = (test_set.RoundPredictions + test_set.Correlation).map(lambda x: 1 if x==2 else 0)"
   ]
  },
  {
   "cell_type": "code",
   "execution_count": null,
   "metadata": {},
   "outputs": [],
   "source": [
    "test_set.sample(13)"
   ]
  },
  {
   "cell_type": "code",
   "execution_count": null,
   "metadata": {},
   "outputs": [],
   "source": [
    "# Test data for distance correlation\n",
    "data = [[4,10],[4,12],[6,13]]\n",
    "zdf = pd.DataFrame(data,columns=['Name','Age'],dtype=np.int64)\n",
    "type(zdf.Name[1])"
   ]
  },
  {
   "cell_type": "code",
   "execution_count": null,
   "metadata": {},
   "outputs": [],
   "source": [
    "# correlade.dcorr(zdf)\n",
    "zdf.head().corr()"
   ]
  },
  {
   "cell_type": "code",
   "execution_count": null,
   "metadata": {},
   "outputs": [],
   "source": [
    "#Distance Correlation\n",
    "correlade.dcorr(test_set.sample(1300)[['Correlation', 'Predictions', 'RoundPredictions', 'ChemGoFuncs', 'DisGoFuncs', 'sumGoFuncs', 'prodGoFuncs', 'false_pos']])"
   ]
  },
  {
   "cell_type": "code",
   "execution_count": null,
   "metadata": {},
   "outputs": [],
   "source": [
    "#Pearson Correlation\n",
    "test_set[['Correlation', 'Predictions', 'RoundPredictions', 'ChemGoFuncs', 'DisGoFuncs', 'sumGoFuncs', 'prodGoFuncs', 'false_pos']].corr()"
   ]
  },
  {
   "cell_type": "code",
   "execution_count": null,
   "metadata": {},
   "outputs": [],
   "source": [
    "#Pearson Correlation\n",
    "test_set[['Correlation', 'Predictions', 'RoundPredictions', 'ChemGoFuncs', 'DisGoFuncs', 'sumGoFuncs', 'prodGoFuncs', 'false_pos']].corr(method='spearman')"
   ]
  },
  {
   "cell_type": "code",
   "execution_count": null,
   "metadata": {},
   "outputs": [],
   "source": [
    "test_set[['DiseaseName', '# ChemicalName', 'Correlation', 'Predictions', 'RoundPredictions', 'ChemGoFuncs', 'DisGoFuncs', 'false_pos']].to_csv('predictions.csv', index=False)"
   ]
  },
  {
   "cell_type": "code",
   "execution_count": null,
   "metadata": {},
   "outputs": [],
   "source": [
    "# # This cell is pointless - manually verifying accuracy test\n",
    "# # Round predictions to int based on threshold, run accuracy-test manually\n",
    "# predictions = model.predict(X_test)\n",
    "# threshold = predictions[:].sum()/len(predictions) # Threshold is the mean value of predictions\n",
    "# predictions = [float(round(x[0]-threshold+0.5)) for x in predictions]\n",
    "# manual_accuracy = sklearn.metrics.accuracy_score(y_test, predictions, normalize=True, sample_weight=None)\n",
    "# print(manual_accuracy)"
   ]
  },
  {
   "cell_type": "markdown",
   "metadata": {},
   "source": [
    "### 5. Calculate Cosine Similary"
   ]
  },
  {
   "cell_type": "code",
   "execution_count": null,
   "metadata": {},
   "outputs": [],
   "source": [
    "# df1.head()"
   ]
  },
  {
   "cell_type": "code",
   "execution_count": null,
   "metadata": {},
   "outputs": [],
   "source": [
    "# Calculate out the cosine similarity and see if there's a difference between groups\n",
    "def cosine_sim (row):\n",
    "    return cosine_similarity(np.array(row.DVec).reshape(1, -1), np.array(row.CVec).reshape(1, -1))[0][0]\n",
    "\n",
    "df1['cosine_sim'] = df1.apply(lambda row: cosine_sim(row), axis=1)\n",
    "\n",
    "# Compare cosine sim of correlated and uncorrelated groups\n",
    "print('Cosine mean with no correlation: ', df1[df1.Correlation == 1 ].cosine_sim.mean())\n",
    "print('Cosine mean with correlation: ', df1[df1.Correlation == 0 ].cosine_sim.mean())"
   ]
  },
  {
   "cell_type": "markdown",
   "metadata": {},
   "source": [
    "### 6. Save Model"
   ]
  },
  {
   "cell_type": "code",
   "execution_count": null,
   "metadata": {},
   "outputs": [],
   "source": [
    "# # Save model (in two files, one for weights and one for json)\n",
    "# json_string = model.to_json()\n",
    "# model.save_weights(\"model2-0.82.h5\")\n",
    "# with open('model2-0.82.json', 'w') as outfile:\n",
    "#     json.dump(json_string, outfile)"
   ]
  },
  {
   "cell_type": "code",
   "execution_count": null,
   "metadata": {},
   "outputs": [],
   "source": []
  }
 ],
 "metadata": {
  "kernelspec": {
   "display_name": "Python 3",
   "language": "python",
   "name": "python3"
  },
  "language_info": {
   "codemirror_mode": {
    "name": "ipython",
    "version": 3
   },
   "file_extension": ".py",
   "mimetype": "text/x-python",
   "name": "python",
   "nbconvert_exporter": "python",
   "pygments_lexer": "ipython3",
   "version": "3.6.5"
  }
 },
 "nbformat": 4,
 "nbformat_minor": 2
}
