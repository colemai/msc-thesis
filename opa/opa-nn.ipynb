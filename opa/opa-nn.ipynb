{
 "cells": [
  {
   "cell_type": "markdown",
   "metadata": {},
   "source": [
    "# Notebook: Use NN to predict disease from chemicals using Opa2Vec vectors\n",
    "<b> Author: </b> Ian Coleman <br>\n",
    "<b> Purpose: </b> Take the vectors created in the opa2vec notebook. This took chemical go functions\n",
    "    and disease go function, creating vectors for each. Train a NN to predict positive chem-dis relationships from these vectors"
   ]
  },
  {
   "cell_type": "code",
   "execution_count": 132,
   "metadata": {},
   "outputs": [],
   "source": [
    "import tensorflow as tf\n",
    "from tensorflow import keras\n",
    "import numpy as np\n",
    "import matplotlib.pyplot as plt\n",
    "import pandas as pd\n",
    "from random import randint\n",
    "import random\n",
    "from sklearn.model_selection import train_test_split\n",
    "import sklearn\n",
    "from sklearn.metrics.pairwise import cosine_similarity\n",
    "from sklearn.metrics import roc_curve\n",
    "from sklearn.metrics import roc_auc_score\n",
    "from pandas_ml import ConfusionMatrix\n",
    "import json\n",
    "import subprocess\n",
    "import pickle\n",
    "import math\n",
    "\n",
    "#Set random seed\n",
    "np.random.seed(1606)"
   ]
  },
  {
   "cell_type": "markdown",
   "metadata": {},
   "source": [
    "### Functions"
   ]
  },
  {
   "cell_type": "code",
   "execution_count": 133,
   "metadata": {},
   "outputs": [],
   "source": [
    "# def mem_usage(pandas_obj):\n",
    "#     if isinstance(pandas_obj,pd.DataFrame):\n",
    "#         usage_b = pandas_obj.memory_usage(deep=True).sum()\n",
    "#     else: # we assume if not a df it's a series\n",
    "#         usage_b = pandas_obj.memory_usage(deep=True)\n",
    "#     usage_mb = usage_b / 1024 ** 2 # convert bytes to megabytes\n",
    "#     return \"{:03.2f} MB\".format(usage_mb)"
   ]
  },
  {
   "cell_type": "markdown",
   "metadata": {},
   "source": [
    "### 1. Import Vectors and Pre-Process them"
   ]
  },
  {
   "cell_type": "code",
   "execution_count": 134,
   "metadata": {},
   "outputs": [],
   "source": [
    "# Import Gofunc vec file\n",
    "# These are the gofuncs for diseases and chems both from ctd and from vmh, made in opa2vec.\n",
    "# VMH chems/diseases are to be removed as they are for a validation check\n",
    "with open('go-gofuncs.lst', 'r') as file:\n",
    "    text = file.read()\n",
    "    \n",
    "# Strip and split vector data into list of lists [chem, vec]\n",
    "text = text.replace('\\n', '')\n",
    "text = text.split(']')\n",
    "text = [item.strip().split(' [') for item in text]\n",
    "\n",
    "# Turn it into a data frame\n",
    "df = pd.DataFrame(text)\n",
    "df.columns = ['ID', 'Vector']\n",
    "\n",
    "# Clean\n",
    "df = df.dropna()\n",
    "df['Vector'] = df.Vector.map(lambda x: x.rstrip().lstrip().replace('    ', ' ').replace('   ', ' ').replace('  ', ' ').replace(' ', ','))\n",
    "\n",
    "# Turn vector column into a list\n",
    "df['Vector'] = df.Vector.map(lambda x: x.split(','))"
   ]
  },
  {
   "cell_type": "code",
   "execution_count": 135,
   "metadata": {},
   "outputs": [
    {
     "data": {
      "text/html": [
       "<div>\n",
       "<style scoped>\n",
       "    .dataframe tbody tr th:only-of-type {\n",
       "        vertical-align: middle;\n",
       "    }\n",
       "\n",
       "    .dataframe tbody tr th {\n",
       "        vertical-align: top;\n",
       "    }\n",
       "\n",
       "    .dataframe thead th {\n",
       "        text-align: right;\n",
       "    }\n",
       "</style>\n",
       "<table border=\"1\" class=\"dataframe\">\n",
       "  <thead>\n",
       "    <tr style=\"text-align: right;\">\n",
       "      <th></th>\n",
       "      <th>ID</th>\n",
       "      <th>Vector</th>\n",
       "    </tr>\n",
       "  </thead>\n",
       "  <tbody>\n",
       "    <tr>\n",
       "      <th>1297</th>\n",
       "      <td>MESH:C567764</td>\n",
       "      <td>[2.59589870e-02, 1.18869647e-01, 4.94366251e-0...</td>\n",
       "    </tr>\n",
       "    <tr>\n",
       "      <th>1791</th>\n",
       "      <td>MESH:C563557</td>\n",
       "      <td>[-0.00220508, 0.12581137, 0.03101973, -0.11821...</td>\n",
       "    </tr>\n",
       "    <tr>\n",
       "      <th>632</th>\n",
       "      <td>MESH:C564219</td>\n",
       "      <td>[-2.59858873e-02, 1.27377555e-01, -1.66070759e...</td>\n",
       "    </tr>\n",
       "    <tr>\n",
       "      <th>1166</th>\n",
       "      <td>OMIM:614898</td>\n",
       "      <td>[2.26386860e-02, 1.09396853e-01, 2.76846923e-0...</td>\n",
       "    </tr>\n",
       "    <tr>\n",
       "      <th>1615</th>\n",
       "      <td>OMIM:615828</td>\n",
       "      <td>[1.22775771e-02, 1.29769415e-01, 8.57655481e-0...</td>\n",
       "    </tr>\n",
       "    <tr>\n",
       "      <th>1283</th>\n",
       "      <td>MESH:D055371</td>\n",
       "      <td>[0.02456979, 0.09336999, 0.04372336, -0.103645...</td>\n",
       "    </tr>\n",
       "    <tr>\n",
       "      <th>1668</th>\n",
       "      <td>MESH:D057049</td>\n",
       "      <td>[0.02601669, 0.13012536, 0.03325291, -0.135834...</td>\n",
       "    </tr>\n",
       "    <tr>\n",
       "      <th>2737</th>\n",
       "      <td>C088658</td>\n",
       "      <td>[0.04418474, 0.14310175, 0.04817571, -0.159905...</td>\n",
       "    </tr>\n",
       "    <tr>\n",
       "      <th>2075</th>\n",
       "      <td>OMIM:613671</td>\n",
       "      <td>[0.01726108, 0.10205465, 0.04739797, -0.113752...</td>\n",
       "    </tr>\n",
       "    <tr>\n",
       "      <th>1179</th>\n",
       "      <td>MESH:D004769</td>\n",
       "      <td>[2.83928532e-02, 1.17765650e-01, 4.06522602e-0...</td>\n",
       "    </tr>\n",
       "    <tr>\n",
       "      <th>1671</th>\n",
       "      <td>MESH:D017689</td>\n",
       "      <td>[1.03104273e-02, 1.39258072e-01, 3.12689841e-0...</td>\n",
       "    </tr>\n",
       "    <tr>\n",
       "      <th>3203</th>\n",
       "      <td>AMAN</td>\n",
       "      <td>[0.03622663, 0.11843033, -0.01800258, -0.14433...</td>\n",
       "    </tr>\n",
       "    <tr>\n",
       "      <th>3334</th>\n",
       "      <td>FLIPO</td>\n",
       "      <td>[0.02578659, 0.1204352, 0.01970039, -0.1209402...</td>\n",
       "    </tr>\n",
       "    <tr>\n",
       "      <th>3088</th>\n",
       "      <td>D011137</td>\n",
       "      <td>[0.03088476, 0.10678955, 0.02904048, -0.107162...</td>\n",
       "    </tr>\n",
       "    <tr>\n",
       "      <th>1750</th>\n",
       "      <td>MESH:D012608</td>\n",
       "      <td>[0.02118959, 0.11798735, 0.06626675, -0.148499...</td>\n",
       "    </tr>\n",
       "  </tbody>\n",
       "</table>\n",
       "</div>"
      ],
      "text/plain": [
       "                ID                                             Vector\n",
       "1297  MESH:C567764  [2.59589870e-02, 1.18869647e-01, 4.94366251e-0...\n",
       "1791  MESH:C563557  [-0.00220508, 0.12581137, 0.03101973, -0.11821...\n",
       "632   MESH:C564219  [-2.59858873e-02, 1.27377555e-01, -1.66070759e...\n",
       "1166   OMIM:614898  [2.26386860e-02, 1.09396853e-01, 2.76846923e-0...\n",
       "1615   OMIM:615828  [1.22775771e-02, 1.29769415e-01, 8.57655481e-0...\n",
       "1283  MESH:D055371  [0.02456979, 0.09336999, 0.04372336, -0.103645...\n",
       "1668  MESH:D057049  [0.02601669, 0.13012536, 0.03325291, -0.135834...\n",
       "2737       C088658  [0.04418474, 0.14310175, 0.04817571, -0.159905...\n",
       "2075   OMIM:613671  [0.01726108, 0.10205465, 0.04739797, -0.113752...\n",
       "1179  MESH:D004769  [2.83928532e-02, 1.17765650e-01, 4.06522602e-0...\n",
       "1671  MESH:D017689  [1.03104273e-02, 1.39258072e-01, 3.12689841e-0...\n",
       "3203          AMAN  [0.03622663, 0.11843033, -0.01800258, -0.14433...\n",
       "3334         FLIPO  [0.02578659, 0.1204352, 0.01970039, -0.1209402...\n",
       "3088       D011137  [0.03088476, 0.10678955, 0.02904048, -0.107162...\n",
       "1750  MESH:D012608  [0.02118959, 0.11798735, 0.06626675, -0.148499..."
      ]
     },
     "execution_count": 135,
     "metadata": {},
     "output_type": "execute_result"
    }
   ],
   "source": [
    "df.sample(15)"
   ]
  },
  {
   "cell_type": "code",
   "execution_count": 136,
   "metadata": {},
   "outputs": [
    {
     "name": "stdout",
     "output_type": "stream",
     "text": [
      "(3412, 2)\n",
      "(3153, 2)\n"
     ]
    }
   ],
   "source": [
    "# Remove all VMH ids\n",
    "print(df.shape)\n",
    "vmh_entities = pd.read_csv('../validation/VMHentities.lst', names=['entity'])\n",
    "df = df[df.ID.map(lambda x: x not in list(vmh_entities.entity))]\n",
    "print(df.shape)"
   ]
  },
  {
   "cell_type": "code",
   "execution_count": 137,
   "metadata": {},
   "outputs": [
    {
     "name": "stdout",
     "output_type": "stream",
     "text": [
      "ID vec pairs:  3153\n",
      "No. unique entities:  3153\n"
     ]
    }
   ],
   "source": [
    "print('ID vec pairs: ', df.shape[0])\n",
    "print('No. unique entities: ', df.ID.nunique())"
   ]
  },
  {
   "cell_type": "code",
   "execution_count": 138,
   "metadata": {},
   "outputs": [
    {
     "data": {
      "text/html": [
       "<div>\n",
       "<style scoped>\n",
       "    .dataframe tbody tr th:only-of-type {\n",
       "        vertical-align: middle;\n",
       "    }\n",
       "\n",
       "    .dataframe tbody tr th {\n",
       "        vertical-align: top;\n",
       "    }\n",
       "\n",
       "    .dataframe thead th {\n",
       "        text-align: right;\n",
       "    }\n",
       "</style>\n",
       "<table border=\"1\" class=\"dataframe\">\n",
       "  <thead>\n",
       "    <tr style=\"text-align: right;\">\n",
       "      <th></th>\n",
       "      <th>ID</th>\n",
       "      <th>Vector</th>\n",
       "    </tr>\n",
       "  </thead>\n",
       "  <tbody>\n",
       "    <tr>\n",
       "      <th>2151</th>\n",
       "      <td>OMIM:614418</td>\n",
       "      <td>[0.01731275, 0.08382709, 0.04467984, -0.096550...</td>\n",
       "    </tr>\n",
       "    <tr>\n",
       "      <th>830</th>\n",
       "      <td>MESH:D016889</td>\n",
       "      <td>[0.00068161, 0.10528181, 0.00478705, -0.110485...</td>\n",
       "    </tr>\n",
       "    <tr>\n",
       "      <th>2462</th>\n",
       "      <td>OMIM:616900</td>\n",
       "      <td>[0.00370829, 0.11772701, 0.06661044, -0.115037...</td>\n",
       "    </tr>\n",
       "    <tr>\n",
       "      <th>2398</th>\n",
       "      <td>OMIM:616549</td>\n",
       "      <td>[0.03555591, 0.12016133, 0.04434789, -0.111885...</td>\n",
       "    </tr>\n",
       "  </tbody>\n",
       "</table>\n",
       "</div>"
      ],
      "text/plain": [
       "                ID                                             Vector\n",
       "2151   OMIM:614418  [0.01731275, 0.08382709, 0.04467984, -0.096550...\n",
       "830   MESH:D016889  [0.00068161, 0.10528181, 0.00478705, -0.110485...\n",
       "2462   OMIM:616900  [0.00370829, 0.11772701, 0.06661044, -0.115037...\n",
       "2398   OMIM:616549  [0.03555591, 0.12016133, 0.04434789, -0.111885..."
      ]
     },
     "execution_count": 138,
     "metadata": {},
     "output_type": "execute_result"
    }
   ],
   "source": [
    "df.sample(4)"
   ]
  },
  {
   "cell_type": "markdown",
   "metadata": {},
   "source": [
    "### 2. Create DF for NN\n",
    "Munge the df into the following columns:<br>\n",
    "ChemID DisID ChemVec DisVec PositiveAssociationExists(binary)"
   ]
  },
  {
   "cell_type": "code",
   "execution_count": 139,
   "metadata": {},
   "outputs": [
    {
     "data": {
      "text/html": [
       "<div>\n",
       "<style scoped>\n",
       "    .dataframe tbody tr th:only-of-type {\n",
       "        vertical-align: middle;\n",
       "    }\n",
       "\n",
       "    .dataframe tbody tr th {\n",
       "        vertical-align: top;\n",
       "    }\n",
       "\n",
       "    .dataframe thead th {\n",
       "        text-align: right;\n",
       "    }\n",
       "</style>\n",
       "<table border=\"1\" class=\"dataframe\">\n",
       "  <thead>\n",
       "    <tr style=\"text-align: right;\">\n",
       "      <th></th>\n",
       "      <th>ChemicalID</th>\n",
       "      <th>DiseaseID</th>\n",
       "    </tr>\n",
       "  </thead>\n",
       "  <tbody>\n",
       "    <tr>\n",
       "      <th>0</th>\n",
       "      <td>C112297</td>\n",
       "      <td>MESH:D006948</td>\n",
       "    </tr>\n",
       "    <tr>\n",
       "      <th>1</th>\n",
       "      <td>C112297</td>\n",
       "      <td>MESH:D012640</td>\n",
       "    </tr>\n",
       "    <tr>\n",
       "      <th>2</th>\n",
       "      <td>C425777</td>\n",
       "      <td>MESH:D006948</td>\n",
       "    </tr>\n",
       "    <tr>\n",
       "      <th>3</th>\n",
       "      <td>C013567</td>\n",
       "      <td>MESH:D006333</td>\n",
       "    </tr>\n",
       "    <tr>\n",
       "      <th>4</th>\n",
       "      <td>C418863</td>\n",
       "      <td>MESH:D013262</td>\n",
       "    </tr>\n",
       "  </tbody>\n",
       "</table>\n",
       "</div>"
      ],
      "text/plain": [
       "  ChemicalID     DiseaseID\n",
       "0    C112297  MESH:D006948\n",
       "1    C112297  MESH:D012640\n",
       "2    C425777  MESH:D006948\n",
       "3    C013567  MESH:D006333\n",
       "4    C418863  MESH:D013262"
      ]
     },
     "execution_count": 139,
     "metadata": {},
     "output_type": "execute_result"
    }
   ],
   "source": [
    "# Step 1: Import file of proven chem-dis positive associations (created in ctd-to-nt notebook from ctd data)\n",
    "chem_dis = pd.read_csv('../ctd-to-nt/chem-dis-pos-assocs.csv')\n",
    "chem_dis.head()"
   ]
  },
  {
   "cell_type": "code",
   "execution_count": 140,
   "metadata": {},
   "outputs": [],
   "source": [
    "# # Add control rows and correlation col\n",
    "# chem_dis['Correlation'] = 1\n",
    "\n",
    "# controls = pd.read_csv('../ctd-to-nt/uncorrelated_chemDis_pairs.csv')\n",
    "# chem_dis = pd.concat([chem_dis, controls], sort=True)\n",
    "# chem_dis = chem_dis.fillna(0)"
   ]
  },
  {
   "cell_type": "code",
   "execution_count": 141,
   "metadata": {},
   "outputs": [
    {
     "name": "stdout",
     "output_type": "stream",
     "text": [
      "No. unique diseases:  2539\n",
      "No. unique Chems:  6112\n"
     ]
    }
   ],
   "source": [
    "# print('Correlated pairs: ', chem_dis[chem_dis.Correlation == 1].shape[0])\n",
    "# print('UnCorrelated pairs: ', chem_dis[chem_dis.Correlation == 0].shape[0])\n",
    "print('No. unique diseases: ', chem_dis.DiseaseID.nunique())\n",
    "print('No. unique Chems: ', chem_dis.ChemicalID.nunique())"
   ]
  },
  {
   "cell_type": "code",
   "execution_count": 142,
   "metadata": {},
   "outputs": [],
   "source": [
    "# Get rid of any chems/diseases that don't have a vector\n",
    "chem_dis['DiseaseID'] = chem_dis['DiseaseID'].astype(str)\n",
    "df['ID'] = df['ID'].astype(str)\n",
    "id_list = df.ID.tolist() # list of chems+diseases with vecs\n",
    "\n",
    "chem_dis['hasDVec'] = chem_dis.DiseaseID.map(lambda x: x in id_list)\n",
    "chem_dis['hasCVec'] = chem_dis.ChemicalID.map(lambda x: x in id_list)\n",
    "chem_dis = chem_dis.loc[(chem_dis['hasDVec'] == True) & (chem_dis['hasCVec'] == True)]\n",
    "chem_dis = chem_dis.drop(['hasDVec','hasCVec'], axis=1)"
   ]
  },
  {
   "cell_type": "code",
   "execution_count": 143,
   "metadata": {},
   "outputs": [],
   "source": [
    "# print('Correlated pairs: ', chem_dis[chem_dis.Correlation == 1].shape[0])\n",
    "# print('UnCorrelated pairs: ', chem_dis[chem_dis.Correlation == 0].shape[0])"
   ]
  },
  {
   "cell_type": "code",
   "execution_count": 144,
   "metadata": {},
   "outputs": [],
   "source": [
    "# merge all info into one df\n",
    "# this df now contains only correlated diseases and vecs\n",
    "df_d = df.copy()\n",
    "df_d.columns= ['DiseaseID', 'DVec']\n",
    "df_c = df.copy()\n",
    "df_c.columns= ['ChemicalID', 'CVec']\n",
    "df1 = pd.merge(chem_dis, df_d, on='DiseaseID')\n",
    "df1 = pd.merge(df1, df_c, on='ChemicalID')\n",
    "\n",
    "df1['Correlation'] = 1 # currently only have correlated in there"
   ]
  },
  {
   "cell_type": "code",
   "execution_count": 145,
   "metadata": {},
   "outputs": [],
   "source": [
    "# # merge all info into one df\n",
    "# # this df now contains only correlated diseases and vecs\n",
    "# df_d = df.copy()\n",
    "# df_d.columns= ['DiseaseID', 'DVec']\n",
    "# df_c = df.copy()\n",
    "# df_c.columns= ['ChemicalID', 'CVec']\n",
    "# df1 = pd.merge(chem_dis, df_d, on='DiseaseID')\n",
    "# df1 = pd.merge(df1, df_c, on='ChemicalID')"
   ]
  },
  {
   "cell_type": "code",
   "execution_count": 146,
   "metadata": {},
   "outputs": [
    {
     "data": {
      "text/html": [
       "<div>\n",
       "<style scoped>\n",
       "    .dataframe tbody tr th:only-of-type {\n",
       "        vertical-align: middle;\n",
       "    }\n",
       "\n",
       "    .dataframe tbody tr th {\n",
       "        vertical-align: top;\n",
       "    }\n",
       "\n",
       "    .dataframe thead th {\n",
       "        text-align: right;\n",
       "    }\n",
       "</style>\n",
       "<table border=\"1\" class=\"dataframe\">\n",
       "  <thead>\n",
       "    <tr style=\"text-align: right;\">\n",
       "      <th></th>\n",
       "      <th>ChemicalID</th>\n",
       "      <th>DiseaseID</th>\n",
       "      <th>DVec</th>\n",
       "      <th>CVec</th>\n",
       "      <th>Correlation</th>\n",
       "    </tr>\n",
       "  </thead>\n",
       "  <tbody>\n",
       "    <tr>\n",
       "      <th>3184</th>\n",
       "      <td>D037742</td>\n",
       "      <td>MESH:D002471</td>\n",
       "      <td>[-0.0351216, 0.12595233, -0.03002397, -0.10022...</td>\n",
       "      <td>[0.01232813, 0.12974437, -0.00763494, -0.13151...</td>\n",
       "      <td>1</td>\n",
       "    </tr>\n",
       "    <tr>\n",
       "      <th>6590</th>\n",
       "      <td>D005472</td>\n",
       "      <td>MESH:D002972</td>\n",
       "      <td>[-1.06637282e-02, 1.32474691e-01, -1.14339013e...</td>\n",
       "      <td>[-2.96734683e-02, -7.76007175e-02, -4.85067695...</td>\n",
       "      <td>1</td>\n",
       "    </tr>\n",
       "    <tr>\n",
       "      <th>365</th>\n",
       "      <td>D001564</td>\n",
       "      <td>MESH:D009362</td>\n",
       "      <td>[-0.06323989, -0.00838911, -0.21696223, -0.110...</td>\n",
       "      <td>[-6.56977762e-04, 1.15829483e-02, -3.29673588e...</td>\n",
       "      <td>1</td>\n",
       "    </tr>\n",
       "    <tr>\n",
       "      <th>4306</th>\n",
       "      <td>D004008</td>\n",
       "      <td>MESH:D007410</td>\n",
       "      <td>[0.01581571, 0.13125835, 0.05351888, -0.116338...</td>\n",
       "      <td>[-0.02403709, 0.08844553, -0.10826206, -0.1294...</td>\n",
       "      <td>1</td>\n",
       "    </tr>\n",
       "    <tr>\n",
       "      <th>2533</th>\n",
       "      <td>D003042</td>\n",
       "      <td>MESH:D056486</td>\n",
       "      <td>[-5.73407635e-02, 5.87317832e-02, -2.38079086e...</td>\n",
       "      <td>[8.72457493e-03, 1.21514283e-01, -1.06348200e-...</td>\n",
       "      <td>1</td>\n",
       "    </tr>\n",
       "    <tr>\n",
       "      <th>3053</th>\n",
       "      <td>D005632</td>\n",
       "      <td>MESH:D056486</td>\n",
       "      <td>[-5.73407635e-02, 5.87317832e-02, -2.38079086e...</td>\n",
       "      <td>[-0.06154032, 0.02354902, -0.5231033, -0.13852...</td>\n",
       "      <td>1</td>\n",
       "    </tr>\n",
       "  </tbody>\n",
       "</table>\n",
       "</div>"
      ],
      "text/plain": [
       "     ChemicalID     DiseaseID  \\\n",
       "3184    D037742  MESH:D002471   \n",
       "6590    D005472  MESH:D002972   \n",
       "365     D001564  MESH:D009362   \n",
       "4306    D004008  MESH:D007410   \n",
       "2533    D003042  MESH:D056486   \n",
       "3053    D005632  MESH:D056486   \n",
       "\n",
       "                                                   DVec  \\\n",
       "3184  [-0.0351216, 0.12595233, -0.03002397, -0.10022...   \n",
       "6590  [-1.06637282e-02, 1.32474691e-01, -1.14339013e...   \n",
       "365   [-0.06323989, -0.00838911, -0.21696223, -0.110...   \n",
       "4306  [0.01581571, 0.13125835, 0.05351888, -0.116338...   \n",
       "2533  [-5.73407635e-02, 5.87317832e-02, -2.38079086e...   \n",
       "3053  [-5.73407635e-02, 5.87317832e-02, -2.38079086e...   \n",
       "\n",
       "                                                   CVec  Correlation  \n",
       "3184  [0.01232813, 0.12974437, -0.00763494, -0.13151...            1  \n",
       "6590  [-2.96734683e-02, -7.76007175e-02, -4.85067695...            1  \n",
       "365   [-6.56977762e-04, 1.15829483e-02, -3.29673588e...            1  \n",
       "4306  [-0.02403709, 0.08844553, -0.10826206, -0.1294...            1  \n",
       "2533  [8.72457493e-03, 1.21514283e-01, -1.06348200e-...            1  \n",
       "3053  [-0.06154032, 0.02354902, -0.5231033, -0.13852...            1  "
      ]
     },
     "execution_count": 146,
     "metadata": {},
     "output_type": "execute_result"
    }
   ],
   "source": [
    "# del df1['index']\n",
    "df1.sample(6)"
   ]
  },
  {
   "cell_type": "markdown",
   "metadata": {},
   "source": [
    "### Add control (uncorrelated) rows"
   ]
  },
  {
   "cell_type": "code",
   "execution_count": 147,
   "metadata": {},
   "outputs": [],
   "source": [
    "# len(id_list)"
   ]
  },
  {
   "cell_type": "code",
   "execution_count": 148,
   "metadata": {},
   "outputs": [],
   "source": [
    "# chem_dis.shape"
   ]
  },
  {
   "cell_type": "code",
   "execution_count": 149,
   "metadata": {},
   "outputs": [],
   "source": [
    "# Create separate dfs of dis-vecs and chem-vecs ( in order to generate additional rows for df1)\n",
    "dis = df.ID.map(lambda x: ('MESH' in x) | ('OMIM' in x))\n",
    "chems = df.ID.map(lambda x: ('MESH' not in x) & ('OMIM' not in x))\n",
    "\n",
    "df_chems = df[chems]\n",
    "df_dis = df[dis]\n",
    "df_chems = df_chems.reset_index(drop=True)\n",
    "df_dis = df_dis.reset_index(drop=True)"
   ]
  },
  {
   "cell_type": "code",
   "execution_count": 150,
   "metadata": {},
   "outputs": [],
   "source": [
    "# # Create separate dfs of dis-vecs and chem-vecs ( in order to generate additional rows for df1)\n",
    "# dis = df1.ChemicalID.unique()\n",
    "# chems = df1.DiseaseID.unique()"
   ]
  },
  {
   "cell_type": "code",
   "execution_count": 151,
   "metadata": {},
   "outputs": [
    {
     "name": "stdout",
     "output_type": "stream",
     "text": [
      "shape:  8919\n",
      "(17791, 5)\n",
      "(17739, 5)\n"
     ]
    }
   ],
   "source": [
    "# Add unrelated pairs to df1\n",
    "no_rows = (df1.shape[0]-1)  # This is a parameter to be tuned --> how many uncorrelated pairs do we want\n",
    "print('shape: ', no_rows)\n",
    "\n",
    "# Make list to check chem-dis pos assocs against\n",
    "chem_dis_pos_assocs = list(chem_dis['ChemicalID'] + chem_dis['DiseaseID'])\n",
    "\n",
    "# Randomly select chems and diseases (as many as there are related pairs)\n",
    "no_chems = len(df_chems) -1\n",
    "no_dis = len(df_dis) -1\n",
    "rand_chems = np.random.choice(no_chems, no_rows, replace=True)\n",
    "rand_dis = np.random.choice(no_dis, no_rows, replace=True)\n",
    "\n",
    "# Add the new pairs as rows\n",
    "for x in range(0, no_rows):\n",
    "    int1 = rand_chems[x]\n",
    "    int2 = rand_dis[x]\n",
    "    chem, chemvec = df_chems.loc[int1, 'ID'], df_chems.loc[int1, 'Vector']\n",
    "    dis, disvec = df_dis.loc[int2, 'ID'], df_dis.loc[int2, 'Vector']\n",
    "    if (chem + dis not in chem_dis_pos_assocs):\n",
    "        df1 = df1.append({'ChemicalID':chem, 'DiseaseID':dis, 'CVec':chemvec, 'DVec':disvec, 'Correlation':0}, ignore_index=True)\n",
    "\n",
    "print(df1.shape)\n",
    "# Drop any duplicates (removes known correlated pairs accidentally generated as uncorrelated)\n",
    "df1 = df1.drop_duplicates(subset=['ChemicalID', 'DiseaseID'], keep=False)\n",
    "print(df1.shape)\n"
   ]
  },
  {
   "cell_type": "code",
   "execution_count": 152,
   "metadata": {},
   "outputs": [],
   "source": [
    "# # Add unrelated pairs to df1\n",
    "\n",
    "# no_rows = (df1.shape[0]-1) * 10  # This is a parameter to be tuned --> how many uncorrelated pairs do we want\n",
    "# print('shape: ', no_rows)\n",
    "\n",
    "# # Make list to check chem-dis pos assocs against\n",
    "# chem_dis_pos_assocs = list(chem_dis['ChemicalID'] + chem_dis['DiseaseID'])\n",
    "\n",
    "# # Randomly select chems and diseases (as many as there are related pairs)\n",
    "# no_chems = len(chems) -1\n",
    "# no_dis = len(dis) -1\n",
    "# rand_chems = np.random.choice(no_chems, no_rows, replace=True)\n",
    "# rand_dis = np.random.choice(no_dis, no_rows, replace=True)\n",
    "\n",
    "# # Add the new pairs as rows\n",
    "# for x in range(0, no_rows):\n",
    "#     int1 = rand_chems[x]\n",
    "#     int2 = rand_dis[x]\n",
    "#     chem, chemvec = df1.loc[int1, 'ChemicalID'], df1.loc[int1, 'CVec']\n",
    "#     dis, disvec = df1.loc[int2, 'DiseaseID'], df1.loc[int2, 'DVec']\n",
    "#     if (chem + dis not in chem_dis_pos_assocs):\n",
    "#         df1 = df1.append({'ChemicalID':chem, 'DiseaseID':dis, 'CVec':chemvec, 'DVec':disvec, 'Correlation':0}, ignore_index=True)\n",
    "\n",
    "# print(df1.shape)\n",
    "# # Drop any duplicates (removes known correlated pairs accidentally generated as uncorrelated)\n",
    "# df1 = df1.drop_duplicates(subset=['ChemicalID', 'DiseaseID'], keep=False)\n",
    "# print(df1.shape)"
   ]
  },
  {
   "cell_type": "code",
   "execution_count": 153,
   "metadata": {},
   "outputs": [],
   "source": [
    "# Convert the elements of the vectors to actual numbers\n",
    "df1['DVec'] = df1.DVec.map(lambda x: [float(i) for i in x])\n",
    "df1['CVec'] = df1.CVec.map(lambda x: [float(i) for i in x])"
   ]
  },
  {
   "cell_type": "markdown",
   "metadata": {},
   "source": [
    "### Add Phenotype Vecs\n",
    "Got a list of Chem-Phenotypes from Sara Alth, where did these come from originally?\n",
    "They have CID identifiers (Pubchem). Need to convert CTD ID to CID ID\n",
    "Use API like so \n",
    "http://pubchem.ncbi.nlm.nih.gov/rest/pug/substance/sourceid/Comparative%20Toxicogenomics%20Database/C533207/cids/TXT/"
   ]
  },
  {
   "cell_type": "code",
   "execution_count": 154,
   "metadata": {},
   "outputs": [
    {
     "data": {
      "text/html": [
       "<div>\n",
       "<style scoped>\n",
       "    .dataframe tbody tr th:only-of-type {\n",
       "        vertical-align: middle;\n",
       "    }\n",
       "\n",
       "    .dataframe tbody tr th {\n",
       "        vertical-align: top;\n",
       "    }\n",
       "\n",
       "    .dataframe thead th {\n",
       "        text-align: right;\n",
       "    }\n",
       "</style>\n",
       "<table border=\"1\" class=\"dataframe\">\n",
       "  <thead>\n",
       "    <tr style=\"text-align: right;\">\n",
       "      <th></th>\n",
       "      <th>MESH</th>\n",
       "    </tr>\n",
       "  </thead>\n",
       "  <tbody>\n",
       "    <tr>\n",
       "      <th>0</th>\n",
       "      <td>MESH:D003920</td>\n",
       "    </tr>\n",
       "    <tr>\n",
       "      <th>1</th>\n",
       "      <td>MESH:D003924</td>\n",
       "    </tr>\n",
       "    <tr>\n",
       "      <th>2</th>\n",
       "      <td>MESH:D008113</td>\n",
       "    </tr>\n",
       "    <tr>\n",
       "      <th>3</th>\n",
       "      <td>MESH:D009369</td>\n",
       "    </tr>\n",
       "    <tr>\n",
       "      <th>4</th>\n",
       "      <td>MESH:D009765</td>\n",
       "    </tr>\n",
       "  </tbody>\n",
       "</table>\n",
       "</div>"
      ],
      "text/plain": [
       "           MESH\n",
       "0  MESH:D003920\n",
       "1  MESH:D003924\n",
       "2  MESH:D008113\n",
       "3  MESH:D009369\n",
       "4  MESH:D009765"
      ]
     },
     "execution_count": 154,
     "metadata": {},
     "output_type": "execute_result"
    }
   ],
   "source": [
    "# First Get FULL list of diseases from CTD\n",
    "diseases = pd.read_csv('../ctd-to-nt/all-diseases-w-genes-ctd.txt', names=['MESH'])\n",
    "diseases.head()"
   ]
  },
  {
   "cell_type": "code",
   "execution_count": 155,
   "metadata": {},
   "outputs": [
    {
     "name": "stdout",
     "output_type": "stream",
     "text": [
      "2390\n"
     ]
    }
   ],
   "source": [
    "# Then use premade map to get DOIDs for MESHs\n",
    "mapper = pd.read_csv('ctd_dis_to_doid.csv')\n",
    "print(mapper.DOID.nunique()) # 1671 --> 2390 after improvement\n",
    "mesh_to_doid = dict(zip(mapper.MESH, mapper.DOID))\n",
    "diseases['DOID'] = diseases.MESH.map(lambda x: mesh_to_doid.get(x))"
   ]
  },
  {
   "cell_type": "code",
   "execution_count": 156,
   "metadata": {},
   "outputs": [],
   "source": [
    "df1['DOID'] = df1.DiseaseID.map(lambda x: mesh_to_doid.get(x))"
   ]
  },
  {
   "cell_type": "code",
   "execution_count": 157,
   "metadata": {},
   "outputs": [],
   "source": [
    "# # Then get phens for all DOIDs\n",
    "# # Read in the association file from Sara\n",
    "# dis_phens = pd.read_csv('../opa/Disease-PhenotypeAssocation.txt', sep=' ', names=['DOID', 'Phenotype'])\n",
    "\n",
    "# # Let's create one associations file for each ontology (I believe we need to run HP and MP separately)\n",
    "# dis_phens.columns = ['ID', 'Phen']\n",
    "\n",
    "# # Split into MP/HP\n",
    "# total_hp = dis_phens.Phen.map(lambda x: 'obolibrary.org/obo/HP' in str(x))\n",
    "# total_mp = dis_phens.Phen.map(lambda x: 'obolibrary.org/obo/MP' in str(x))\n",
    "\n",
    "# total_hp = dis_phens[total_hp]\n",
    "# total_mp = dis_phens[total_mp]"
   ]
  },
  {
   "cell_type": "code",
   "execution_count": 158,
   "metadata": {},
   "outputs": [],
   "source": [
    "# # Export the association files and print some stats (more stats later)\n",
    "# np.savetxt(r'associations_hp.txt', total_hp.values, fmt='%s')\n",
    "# np.savetxt(r'associations_mp.txt', total_mp.values, fmt='%s')\n",
    "\n",
    "# print('Num HP associations: ', total_hp.shape[0])\n",
    "# print('Num MP associations: ', total_mp.shape[0])\n",
    "# print('Num ents with MP phen assocs: ', len(total_mp.ID.unique()))\n",
    "# print('Num ents with HP phen assocs: ', len(total_hp.ID.unique()))\n",
    "\n",
    "# # Create entities lists to inform opa2vec which entities we want vectors for\n",
    "# entities = total_mp.ID.unique().tolist()\n",
    "# np.savetxt(r'entities_mp.lst', entities, fmt='%s')\n",
    "\n",
    "# entities = total_hp.ID.unique().tolist()\n",
    "# np.savetxt(r'entities_hp.lst', entities, fmt='%s')"
   ]
  },
  {
   "cell_type": "code",
   "execution_count": 159,
   "metadata": {},
   "outputs": [],
   "source": [
    "# # HP --> takes ages so commenting out\n",
    "# subprocess.check_output('(cd ../../opa2vec/ ; python2 runOPA2Vec.py -ontology ../ontologies/hp.owl -associations ../msc-thesis/opa/associations_hp.txt -entities ../msc-thesis/opa/entities_hp.lst -outfile ../msc-thesis/opa/hpvecs.lst)', shell=True)"
   ]
  },
  {
   "cell_type": "code",
   "execution_count": 160,
   "metadata": {},
   "outputs": [],
   "source": [
    "# # # MP --> takes ages so commenting out\n",
    "# subprocess.check_output('(cd ../../opa2vec/ ; python2 runOPA2Vec.py -ontology ../ontologies/mp.owl -associations ../msc-thesis/opa/associations_mp.txt -entities ../msc-thesis/opa/entities_mp.lst -outfile ../msc-thesis/opa/mpvecs.lst)', shell=True)"
   ]
  },
  {
   "cell_type": "code",
   "execution_count": null,
   "metadata": {},
   "outputs": [],
   "source": []
  },
  {
   "cell_type": "code",
   "execution_count": 161,
   "metadata": {},
   "outputs": [],
   "source": [
    "# # Now import and integrate the vecs (all phen stuff above here should be in its own notebook )\n",
    "# # Import vec file\n",
    "# with open('hpvecs.lst', 'r') as file:\n",
    "#     text = file.read()\n",
    "    \n",
    "# # Strip and split vector data into list of lists [chem, vec]\n",
    "# text = text.replace('\\n', '')\n",
    "# text = text.split(']')\n",
    "# text = [item.strip().split(' [') for item in text]\n",
    "\n",
    "# # Turn it into a data frame\n",
    "# hp_vecs = pd.DataFrame(text)\n",
    "# hp_vecs.columns = ['ID', 'Vector']\n",
    "\n",
    "# Clean\n",
    "# hp_vecs = hp_vecs.dropna()\n",
    "# hp_vecs['Vector'] = hp_vecs.Vector.map(lambda x: x.rstrip().lstrip().replace('    ', ' ').replace('   ', ' ').replace('  ', ' ').replace(' ', ','))\n",
    "\n",
    "# # Turn vector column into a list\n",
    "# hp_vecs['Vector'] = hp_vecs.Vector.map(lambda x: x.split(','))"
   ]
  },
  {
   "cell_type": "code",
   "execution_count": 162,
   "metadata": {},
   "outputs": [],
   "source": [
    "# # Now import and integrate the mp vecs\n",
    "# # Import vec file\n",
    "# with open('mpvecs.lst', 'r') as file:\n",
    "#     text = file.read()\n",
    "\n",
    "# # Strip and split vector data into list of lists [chem, vec]\n",
    "# text = text.replace('\\n', '')\n",
    "# text = text.split(']')\n",
    "# text = [item.strip().split(' [') for item in text]\n",
    "\n",
    "# # Turn it into a data frame\n",
    "# mp_vecs = pd.DataFrame(text)\n",
    "# mp_vecs.columns = ['ID', 'Vector']\n",
    "\n",
    "# # Clean\n",
    "# mp_vecs = mp_vecs.dropna()\n",
    "# mp_vecs['Vector'] = mp_vecs.Vector.map(lambda x: x.rstrip().lstrip().replace('    ', ' ').replace('   ', ' ').replace('  ', ' ').replace(' ', ','))\n",
    "\n",
    "# # Turn vector column into a list\n",
    "# mp_vecs['Vector'] = mp_vecs.Vector.map(lambda x: x.split(','))"
   ]
  },
  {
   "cell_type": "code",
   "execution_count": 163,
   "metadata": {},
   "outputs": [],
   "source": [
    "# # Make Maps:\n",
    "# mp_ent_to_vec = dict(zip(mp_vecs.ID, mp_vecs.Vector))\n",
    "# hp_ent_to_vec = dict(zip(hp_vecs.ID, hp_vecs.Vector))"
   ]
  },
  {
   "cell_type": "code",
   "execution_count": 164,
   "metadata": {},
   "outputs": [],
   "source": [
    "# # export dis-mpVec and dis-hpVec maps\n",
    "# with open('dis_mpVec_map'+ '.pkl', 'wb') as f:\n",
    "#         pickle.dump(mp_ent_to_vec, f, pickle.HIGHEST_PROTOCOL)\n",
    "        \n",
    "# with open('dis_hpVec_map'+ '.pkl', 'wb') as f:\n",
    "#         pickle.dump(hp_ent_to_vec, f, pickle.HIGHEST_PROTOCOL)"
   ]
  },
  {
   "cell_type": "code",
   "execution_count": 165,
   "metadata": {},
   "outputs": [],
   "source": [
    "## The commented section above makes phen vecs for all ctd diseases that have doids. Import here \n",
    "def load_obj(name):\n",
    "    with open(name + '.pkl', 'rb') as f:\n",
    "        return pickle.load(f)\n",
    "\n",
    "dis_mpVec = load_obj('../opa/dis_mpVec_map')\n",
    "\n",
    "def load_obj(name):\n",
    "    with open(name + '.pkl', 'rb') as f:\n",
    "        return pickle.load(f)\n",
    "\n",
    "dis_hpVec = load_obj('../opa/dis_hpVec_map')"
   ]
  },
  {
   "cell_type": "code",
   "execution_count": 166,
   "metadata": {},
   "outputs": [],
   "source": [
    "# Standardise the DOIDs\n",
    "def doid_standardiser (doid):\n",
    "    doid = doid.replace(':', '_')\n",
    "    return doid\n",
    "\n",
    "df1['DOID'] = df1.DOID.astype(str).map(lambda x: np.nan if isinstance(x, float) else doid_standardiser(x))"
   ]
  },
  {
   "cell_type": "code",
   "execution_count": 167,
   "metadata": {},
   "outputs": [],
   "source": [
    "# Map entities to vecs (one set of vecs for mp and another for hp)\n",
    "df1['disPhenVecMP'] = df1.DOID.map(lambda x: dis_mpVec.get(x))\n",
    "df1['disPhenVecHP'] = df1.DOID.map(lambda x: dis_hpVec.get(x))\n",
    "\n",
    "df1['chemPhenVecHP'] = None\n",
    "df1['chemPhenVecMP'] = None"
   ]
  },
  {
   "cell_type": "code",
   "execution_count": null,
   "metadata": {},
   "outputs": [],
   "source": []
  },
  {
   "cell_type": "code",
   "execution_count": 168,
   "metadata": {},
   "outputs": [
    {
     "name": "stdout",
     "output_type": "stream",
     "text": [
      "Note these numbers include both correlated and uncorrelated pairs\n",
      "Number of rows with gofuncs:  17739\n",
      "Number of rows with dis mp vec:  8644\n",
      "Number of rows with dis hp vec:  8670\n",
      "total pos corr 8920\n",
      "total neg corr 8819\n"
     ]
    }
   ],
   "source": [
    "## TODO note that I have removed rows without gofuncVecs, maybe now they should be kept\n",
    "# Print Stats\n",
    "print('Note these numbers include both correlated and uncorrelated pairs')\n",
    "print('Number of rows with gofuncs: ', df1.shape[0]) ##NB change this if keeping rows w/o gofunc vecs\n",
    "print('Number of rows with dis mp vec: ', df1[df1.disPhenVecMP.map(lambda x: x is not None)].shape[0])\n",
    "print('Number of rows with dis hp vec: ', df1[df1.disPhenVecHP.map(lambda x: x is not None)].shape[0])\n",
    "# print('Number of rows with chem mp vec: ', df1[df1.chemPhenVecMP.map(lambda x: x is not None)].shape[0])\n",
    "# print('Number of rows with chem hp vec: ', df1[df1.chemPhenVecHP.map(lambda x: x is not None)].shape[0])\n",
    "no_dis_phen_vecs = df1.disPhenVecHP.map(lambda x: x is None) & df1.disPhenVecMP.map(lambda x: x is None)\n",
    "# no_chem_phen_vecs = df1.chemPhenVecHP.map(lambda x: x is None) & df1.chemPhenVecMP.map(lambda x: x is None)\n",
    "# no_phen_vecs = no_dis_phen_vecs & no_chem_phen_vecs\n",
    "# print('Number of rows with no phen vecs: ', df1[no_phen_vecs].shape[0])\n",
    "all_dis_phen_vecs = df1.disPhenVecHP.map(lambda x: x is not None) & df1.disPhenVecMP.map(lambda x: x is not None)\n",
    "# all_chem_phen_vecs = df1.chemPhenVecHP.map(lambda x: x is not None) & df1.chemPhenVecMP.map(lambda x: x is not None)\n",
    "# all_vecs = all_dis_phen_vecs & all_chem_phen_vecs\n",
    "# all_vecs_pos_corr = all_vecs & df1.Correlation.map(lambda x: x == 1)\n",
    "# all_vecs_neg_corr = all_vecs & df1.Correlation.map(lambda x: x == 0)\n",
    "# no_phen_vecs_corr = no_phen_vecs & df1.Correlation.map(lambda x: x == 1)\n",
    "# no_phen_vecs_uncorr = no_phen_vecs & df1.Correlation.map(lambda x: x == 0)\n",
    "\n",
    "\n",
    "\n",
    "# print('Number of rows with everything', df1[all_vecs].shape[0])\n",
    "\n",
    "# print('Number of correlated pairs with phenvecs', df1[no_phen_vecs_corr].shape[0])\n",
    "# print('Number of uncorrelated pairs with phenvecs', df1[no_phen_vecs_uncorr].shape[0])\n",
    "\n",
    "\n",
    "# print('Number of correlated pairs with everything', df1[all_vecs_pos_corr].shape[0])\n",
    "# print('Number of uncorrelated pairs with everything', df1[all_vecs_neg_corr].shape[0])\n",
    "\n",
    "print('total pos corr', df1[df1.Correlation.map(lambda x: x == 1)].shape[0])\n",
    "print('total neg corr', df1[df1.Correlation.map(lambda x: x == 0)].shape[0])"
   ]
  },
  {
   "cell_type": "code",
   "execution_count": 169,
   "metadata": {},
   "outputs": [],
   "source": [
    "# Add empty vecs for rows that don't have phen vecs\n",
    "empty_vec = [0] * 200\n",
    "\n",
    "for col in ['disPhenVecMP', 'disPhenVecHP', 'chemPhenVecHP', 'chemPhenVecMP']:\n",
    "    df1[col] = df1[col].map(lambda x: empty_vec if x is None else x)"
   ]
  },
  {
   "cell_type": "code",
   "execution_count": 170,
   "metadata": {},
   "outputs": [],
   "source": [
    "# Change the Phen vec elements from string to floats\n",
    "df1['disPhenVecHP'] = df1.disPhenVecHP.map(lambda x: [float(i) for i in x])\n",
    "df1['disPhenVecMP'] = df1.disPhenVecMP.map(lambda x: [float(i) for i in x])\n",
    "df1['chemPhenVecHP'] = df1.chemPhenVecHP.map(lambda x: [float(i) for i in x])\n",
    "df1['chemPhenVecMP'] = df1.chemPhenVecMP.map(lambda x: [float(i) for i in x])"
   ]
  },
  {
   "cell_type": "markdown",
   "metadata": {},
   "source": [
    "### Add CHEBI Vecs"
   ]
  },
  {
   "cell_type": "code",
   "execution_count": 171,
   "metadata": {},
   "outputs": [
    {
     "data": {
      "text/plain": [
       "(12885, 1)"
      ]
     },
     "execution_count": 171,
     "metadata": {},
     "output_type": "execute_result"
    }
   ],
   "source": [
    "# get ALL ctd chems that have gene associations\n",
    "chems = pd.read_csv('allchemsthathavegenesID.txt', names=['ChemicalID'])\n",
    "chems.shape # 12855"
   ]
  },
  {
   "cell_type": "code",
   "execution_count": 172,
   "metadata": {},
   "outputs": [],
   "source": [
    "# Map them to CIDs\n",
    "# Load the map from pickle object\n",
    "def load_obj(name):\n",
    "    with open(name + '.pkl', 'rb') as f:\n",
    "        return pickle.load(f)\n",
    "\n",
    "ctd_cid_map = load_obj('ctd_cid_map')\n",
    "\n",
    "chems['CID'] = chems.ChemicalID.map(lambda x: ctd_cid_map.get(x))"
   ]
  },
  {
   "cell_type": "code",
   "execution_count": 173,
   "metadata": {},
   "outputs": [
    {
     "data": {
      "text/plain": [
       "array([b'5494506', None, b'11267663', b'113918', b'10079106', b'10424358',\n",
       "       b'24762158', b'122347', b'97226', b'6420504'], dtype=object)"
      ]
     },
     "execution_count": 173,
     "metadata": {},
     "output_type": "execute_result"
    }
   ],
   "source": [
    "chems.CID.unique()[5:15]"
   ]
  },
  {
   "cell_type": "code",
   "execution_count": 174,
   "metadata": {},
   "outputs": [],
   "source": [
    "# Convert CIDS from bytes to strings and export in order to make a map from CID to CHEBI ID\n",
    "chems['CID'] = chems.CID.str.decode(\"utf-8\")\n",
    "np.savetxt(r'allCIDs.txt', chems.CID.unique(), fmt='%s')\n",
    "\n",
    "## NOTE the next step is MANUAL you need to upload this allCIDs.txt to http://cts.fiehnlab.ucdavis.edu/batch \n",
    "# and download it as ctd_chebi.csv to the current folder\n",
    "# !!! it no longer seems possible to convert from CID by the website. Think I'll need to write a script\n",
    "# and use the API. Currently running the website to convert from chemical name. \n",
    "# Right seems like API isn't working for my purposes either right now. Will cobble CHEBIs together from my\n",
    "# earlier download of this file, which wasn't comprehensive, plus what I can get from chem name (~20%)"
   ]
  },
  {
   "cell_type": "code",
   "execution_count": 175,
   "metadata": {},
   "outputs": [],
   "source": [
    "# import the chebi IDs I got from all chem names (about 1 in in 3)\n",
    "chebi_from_names = pd.read_csv('all_chem_names_chebi.csv')\n",
    "\n",
    "# chop any empty values\n",
    "chebi_from_names['ChEBI'] = chebi_from_names.ChEBI.map(lambda x: np.nan if x == 'No result' else x)\n",
    "chebi_from_names = chebi_from_names.dropna()\n",
    "\n",
    "# make map\n",
    "chem2chebi = dict(zip(chebi_from_names['Chemical Name'], chebi_from_names.ChEBI))"
   ]
  },
  {
   "cell_type": "code",
   "execution_count": 176,
   "metadata": {},
   "outputs": [
    {
     "data": {
      "text/html": [
       "<div>\n",
       "<style scoped>\n",
       "    .dataframe tbody tr th:only-of-type {\n",
       "        vertical-align: middle;\n",
       "    }\n",
       "\n",
       "    .dataframe tbody tr th {\n",
       "        vertical-align: top;\n",
       "    }\n",
       "\n",
       "    .dataframe thead th {\n",
       "        text-align: right;\n",
       "    }\n",
       "</style>\n",
       "<table border=\"1\" class=\"dataframe\">\n",
       "  <thead>\n",
       "    <tr style=\"text-align: right;\">\n",
       "      <th></th>\n",
       "      <th>Chemical Name</th>\n",
       "      <th>ChEBI</th>\n",
       "    </tr>\n",
       "  </thead>\n",
       "  <tbody>\n",
       "    <tr>\n",
       "      <th>1</th>\n",
       "      <td>10,10-bis(4-pyridinylmethyl)-9(10H)-anthracenone</td>\n",
       "      <td>CHEBI:35046</td>\n",
       "    </tr>\n",
       "    <tr>\n",
       "      <th>2</th>\n",
       "      <td>10,11-dihydro-10,11-dihydroxy-5H-dibenzazepine...</td>\n",
       "      <td>CHEBI:4592</td>\n",
       "    </tr>\n",
       "    <tr>\n",
       "      <th>3</th>\n",
       "      <td>10,11-dihydro-10-hydroxycarbamazepine</td>\n",
       "      <td>CHEBI:701</td>\n",
       "    </tr>\n",
       "    <tr>\n",
       "      <th>14</th>\n",
       "      <td>10-formyltetrahydropteroylglutamic acid</td>\n",
       "      <td>CHEBI:15637</td>\n",
       "    </tr>\n",
       "    <tr>\n",
       "      <th>15</th>\n",
       "      <td>10-hydroxycamptothecin</td>\n",
       "      <td>CHEBI:81395</td>\n",
       "    </tr>\n",
       "  </tbody>\n",
       "</table>\n",
       "</div>"
      ],
      "text/plain": [
       "                                        Chemical Name        ChEBI\n",
       "1    10,10-bis(4-pyridinylmethyl)-9(10H)-anthracenone  CHEBI:35046\n",
       "2   10,11-dihydro-10,11-dihydroxy-5H-dibenzazepine...   CHEBI:4592\n",
       "3               10,11-dihydro-10-hydroxycarbamazepine    CHEBI:701\n",
       "14            10-formyltetrahydropteroylglutamic acid  CHEBI:15637\n",
       "15                             10-hydroxycamptothecin  CHEBI:81395"
      ]
     },
     "execution_count": 176,
     "metadata": {},
     "output_type": "execute_result"
    }
   ],
   "source": [
    "chebi_from_names.head()"
   ]
  },
  {
   "cell_type": "code",
   "execution_count": 177,
   "metadata": {},
   "outputs": [
    {
     "data": {
      "text/plain": [
       "(4489, 2)"
      ]
     },
     "execution_count": 177,
     "metadata": {},
     "output_type": "execute_result"
    }
   ],
   "source": [
    "chebi_from_names.shape"
   ]
  },
  {
   "cell_type": "code",
   "execution_count": 178,
   "metadata": {},
   "outputs": [],
   "source": [
    "# Now import a second chebi map, one made earlier from CIDs tho only for chems with go vecs\n",
    "# Import CSV mapping CID to CHEBI\n",
    "ctdChebdf = pd.read_csv('ctd_chebiBACKUP.csv')\n",
    "\n",
    "# Turn it into a dict\n",
    "cid2chebi = dict(zip(ctdChebdf['PubChem CID'], ctdChebdf['ChEBI']))\n",
    "\n",
    "# Map the cids to chebis\n",
    "chems['CHEBI1'] = chems.CID.map(lambda x: cid2chebi.get(x))\n",
    "chems['CHEBI1'] = chems.CHEBI1.map(lambda x: None if x == 'No result' else x)"
   ]
  },
  {
   "cell_type": "code",
   "execution_count": 179,
   "metadata": {},
   "outputs": [
    {
     "data": {
      "text/plain": [
       "314"
      ]
     },
     "execution_count": 179,
     "metadata": {},
     "output_type": "execute_result"
    }
   ],
   "source": [
    "chems.CHEBI1.nunique() # 314"
   ]
  },
  {
   "cell_type": "code",
   "execution_count": 180,
   "metadata": {},
   "outputs": [],
   "source": [
    "# Must map chem names into our chems df before applying chemname2chebi\n",
    "chemnames = pd.read_csv('../ctd-to-nt/chemname_chemid.csv')"
   ]
  },
  {
   "cell_type": "code",
   "execution_count": 181,
   "metadata": {},
   "outputs": [
    {
     "data": {
      "text/html": [
       "<div>\n",
       "<style scoped>\n",
       "    .dataframe tbody tr th:only-of-type {\n",
       "        vertical-align: middle;\n",
       "    }\n",
       "\n",
       "    .dataframe tbody tr th {\n",
       "        vertical-align: top;\n",
       "    }\n",
       "\n",
       "    .dataframe thead th {\n",
       "        text-align: right;\n",
       "    }\n",
       "</style>\n",
       "<table border=\"1\" class=\"dataframe\">\n",
       "  <thead>\n",
       "    <tr style=\"text-align: right;\">\n",
       "      <th></th>\n",
       "      <th>ChemicalID</th>\n",
       "      <th># ChemicalName</th>\n",
       "    </tr>\n",
       "  </thead>\n",
       "  <tbody>\n",
       "    <tr>\n",
       "      <th>0</th>\n",
       "      <td>C046983</td>\n",
       "      <td>06-Paris-LA-66 protocol</td>\n",
       "    </tr>\n",
       "    <tr>\n",
       "      <th>1</th>\n",
       "      <td>C112297</td>\n",
       "      <td>10,10-bis(4-pyridinylmethyl)-9(10H)-anthracenone</td>\n",
       "    </tr>\n",
       "    <tr>\n",
       "      <th>2</th>\n",
       "      <td>C112297</td>\n",
       "      <td>10,10-bis(4-pyridinylmethyl)-9(10H)-anthracenone</td>\n",
       "    </tr>\n",
       "    <tr>\n",
       "      <th>3</th>\n",
       "      <td>C039775</td>\n",
       "      <td>10,11-dihydro-10-hydroxycarbamazepine</td>\n",
       "    </tr>\n",
       "    <tr>\n",
       "      <th>4</th>\n",
       "      <td>C425777</td>\n",
       "      <td>10,11-dihydroxy-N-n-propylnorapomorphine</td>\n",
       "    </tr>\n",
       "  </tbody>\n",
       "</table>\n",
       "</div>"
      ],
      "text/plain": [
       "  ChemicalID                                    # ChemicalName\n",
       "0    C046983                           06-Paris-LA-66 protocol\n",
       "1    C112297  10,10-bis(4-pyridinylmethyl)-9(10H)-anthracenone\n",
       "2    C112297  10,10-bis(4-pyridinylmethyl)-9(10H)-anthracenone\n",
       "3    C039775             10,11-dihydro-10-hydroxycarbamazepine\n",
       "4    C425777          10,11-dihydroxy-N-n-propylnorapomorphine"
      ]
     },
     "execution_count": 181,
     "metadata": {},
     "output_type": "execute_result"
    }
   ],
   "source": [
    "chemnames.head()"
   ]
  },
  {
   "cell_type": "code",
   "execution_count": 182,
   "metadata": {},
   "outputs": [],
   "source": [
    "# Make a map of it\n",
    "id2name = dict(zip(chemnames.ChemicalID, chemnames['# ChemicalName']))"
   ]
  },
  {
   "cell_type": "code",
   "execution_count": 183,
   "metadata": {},
   "outputs": [],
   "source": [
    "chems['ChemicalName'] = chems.ChemicalID.map(lambda x: id2name.get(x))"
   ]
  },
  {
   "cell_type": "code",
   "execution_count": 184,
   "metadata": {},
   "outputs": [
    {
     "data": {
      "text/html": [
       "<div>\n",
       "<style scoped>\n",
       "    .dataframe tbody tr th:only-of-type {\n",
       "        vertical-align: middle;\n",
       "    }\n",
       "\n",
       "    .dataframe tbody tr th {\n",
       "        vertical-align: top;\n",
       "    }\n",
       "\n",
       "    .dataframe thead th {\n",
       "        text-align: right;\n",
       "    }\n",
       "</style>\n",
       "<table border=\"1\" class=\"dataframe\">\n",
       "  <thead>\n",
       "    <tr style=\"text-align: right;\">\n",
       "      <th></th>\n",
       "      <th>ChemicalID</th>\n",
       "      <th>CID</th>\n",
       "      <th>CHEBI1</th>\n",
       "      <th>ChemicalName</th>\n",
       "    </tr>\n",
       "  </thead>\n",
       "  <tbody>\n",
       "    <tr>\n",
       "      <th>0</th>\n",
       "      <td>C534883</td>\n",
       "      <td>2836600</td>\n",
       "      <td>None</td>\n",
       "      <td>None</td>\n",
       "    </tr>\n",
       "    <tr>\n",
       "      <th>1</th>\n",
       "      <td>C112297</td>\n",
       "      <td>656732</td>\n",
       "      <td>None</td>\n",
       "      <td>10,10-bis(4-pyridinylmethyl)-9(10H)-anthracenone</td>\n",
       "    </tr>\n",
       "    <tr>\n",
       "      <th>2</th>\n",
       "      <td>C004822</td>\n",
       "      <td>83852</td>\n",
       "      <td>None</td>\n",
       "      <td>None</td>\n",
       "    </tr>\n",
       "    <tr>\n",
       "      <th>3</th>\n",
       "      <td>C039775</td>\n",
       "      <td>114709</td>\n",
       "      <td>None</td>\n",
       "      <td>10,11-dihydro-10-hydroxycarbamazepine</td>\n",
       "    </tr>\n",
       "    <tr>\n",
       "      <th>4</th>\n",
       "      <td>C515697</td>\n",
       "      <td>70029</td>\n",
       "      <td>None</td>\n",
       "      <td>None</td>\n",
       "    </tr>\n",
       "  </tbody>\n",
       "</table>\n",
       "</div>"
      ],
      "text/plain": [
       "  ChemicalID      CID CHEBI1                                      ChemicalName\n",
       "0    C534883  2836600   None                                              None\n",
       "1    C112297   656732   None  10,10-bis(4-pyridinylmethyl)-9(10H)-anthracenone\n",
       "2    C004822    83852   None                                              None\n",
       "3    C039775   114709   None             10,11-dihydro-10-hydroxycarbamazepine\n",
       "4    C515697    70029   None                                              None"
      ]
     },
     "execution_count": 184,
     "metadata": {},
     "output_type": "execute_result"
    }
   ],
   "source": [
    "chems.head()"
   ]
  },
  {
   "cell_type": "code",
   "execution_count": 185,
   "metadata": {},
   "outputs": [],
   "source": [
    "# Map the names to chebis\n",
    "chems['CHEBI2'] = chems.ChemicalName.map(lambda x: chem2chebi.get(x))\n",
    "chems['CHEBI2'] = chems.CHEBI2.map(lambda x: None if x == 'No result' else x)"
   ]
  },
  {
   "cell_type": "code",
   "execution_count": 186,
   "metadata": {},
   "outputs": [
    {
     "data": {
      "text/plain": [
       "2791"
      ]
     },
     "execution_count": 186,
     "metadata": {},
     "output_type": "execute_result"
    }
   ],
   "source": [
    "chems.CHEBI2.nunique() # 2791"
   ]
  },
  {
   "cell_type": "code",
   "execution_count": 187,
   "metadata": {},
   "outputs": [
    {
     "data": {
      "text/plain": [
       "2821"
      ]
     },
     "execution_count": 187,
     "metadata": {},
     "output_type": "execute_result"
    }
   ],
   "source": [
    "# Merge the CHEBIs\n",
    "chems.CHEBI1.fillna(chems.CHEBI2, inplace=True)\n",
    "chems.CHEBI1.nunique()"
   ]
  },
  {
   "cell_type": "code",
   "execution_count": 188,
   "metadata": {},
   "outputs": [],
   "source": [
    "# Cleaning\n",
    "del chems['CHEBI2']\n",
    "chems = chems.rename(columns = {'CHEBI1':'CHEBI'})"
   ]
  },
  {
   "cell_type": "code",
   "execution_count": 189,
   "metadata": {},
   "outputs": [],
   "source": [
    "# Make assoc file and entity file for opa\n",
    "# add uri col\n",
    "chems['CHEBI_uri'] = chems.dropna(subset=['CHEBI']).CHEBI.map(lambda x: '<http://purl.obolibrary.org/obo/' + x.replace(':', '_') + '>')\n",
    "\n",
    "# export association file from df\n",
    "np.savetxt(r'CHEBIassociations.txt', chems[['ChemicalID', 'CHEBI_uri']].dropna().drop_duplicates().values, fmt='%s')\n",
    "\n",
    "# Now an entities file\n",
    "chems_for_cheb = chems[['ChemicalID', 'CHEBI_uri']].dropna().drop_duplicates().ChemicalID.tolist()\n",
    "np.savetxt(r'CHEBIentities.txt', chems_for_cheb, fmt='%s')"
   ]
  },
  {
   "cell_type": "code",
   "execution_count": 190,
   "metadata": {},
   "outputs": [],
   "source": [
    "# # Run opa\n",
    "# # Commenting this out now that I already have the vectors, you'll need it if you don't have them\n",
    "# # Now run opa2vec on it \n",
    "# subprocess.check_output('(cd ../../opa2vec/ ; python2 runOPA2Vec.py -ontology ../ontologies/chebi.owl -associations ../msc-thesis/opa/CHEBIassociations.txt -entities ../msc-thesis/opa/CHEBIentities.txt -outfile ../msc-thesis/opa/chebi-vecs.lst)', shell=True)"
   ]
  },
  {
   "cell_type": "code",
   "execution_count": null,
   "metadata": {},
   "outputs": [],
   "source": []
  },
  {
   "cell_type": "code",
   "execution_count": null,
   "metadata": {},
   "outputs": [],
   "source": []
  },
  {
   "cell_type": "code",
   "execution_count": null,
   "metadata": {},
   "outputs": [],
   "source": []
  },
  {
   "cell_type": "code",
   "execution_count": null,
   "metadata": {},
   "outputs": [],
   "source": []
  },
  {
   "cell_type": "code",
   "execution_count": null,
   "metadata": {},
   "outputs": [],
   "source": []
  },
  {
   "cell_type": "code",
   "execution_count": 191,
   "metadata": {},
   "outputs": [],
   "source": [
    "# All below is original iteration that only dealt with chems that have govecs\n",
    "# First add CHEBI IDs for each chem"
   ]
  },
  {
   "cell_type": "code",
   "execution_count": 192,
   "metadata": {},
   "outputs": [],
   "source": [
    "# chem_names = df1.ChemicalID.unique().tolist()\n",
    "# np.savetxt(r'chem_names', total_hp.values, fmt='%s')"
   ]
  },
  {
   "cell_type": "code",
   "execution_count": 193,
   "metadata": {},
   "outputs": [],
   "source": [
    "# # To add chebi first need CID for ALL Chems so I made this comprehensive map:\n",
    "# # Load the map from pickle object\n",
    "# def load_obj(name):\n",
    "#     with open(name + '.pkl', 'rb') as f:\n",
    "#         return pickle.load(f)\n",
    "\n",
    "# ctd_cid_map = load_obj('ctd_cid_map')"
   ]
  },
  {
   "cell_type": "code",
   "execution_count": 194,
   "metadata": {},
   "outputs": [],
   "source": [
    "# df1['CID'] = df1.ChemicalID.map(lambda x: ctd_cid_map.get(x))"
   ]
  },
  {
   "cell_type": "code",
   "execution_count": 195,
   "metadata": {},
   "outputs": [],
   "source": [
    "# df1.sample(3)"
   ]
  },
  {
   "cell_type": "code",
   "execution_count": 196,
   "metadata": {},
   "outputs": [],
   "source": [
    "# # Convert CIDS from bytes to strings and export in order to make a map from CID to CHEBI ID\n",
    "# df1['CID'] = df1.CID.str.decode(\"utf-8\")\n",
    "# np.savetxt(r'allCIDs.txt', df1.CID.unique(), fmt='%s')\n",
    "\n",
    "# ## NOTE the next step is MANUAL you need to upload this allCIDs.txt to http://cts.fiehnlab.ucdavis.edu/batch \n",
    "# # and download it as ctd_chebi.csv to the current folder"
   ]
  },
  {
   "cell_type": "code",
   "execution_count": 197,
   "metadata": {},
   "outputs": [],
   "source": [
    "# # How many chemicals don't have CIDs? Hence don't get chebi vecs\n",
    "# print(df1.shape[0])\n",
    "# print(df1[df1.CID.map(lambda x: x is not None)].shape[0])"
   ]
  },
  {
   "cell_type": "code",
   "execution_count": 198,
   "metadata": {},
   "outputs": [],
   "source": [
    "# # Import CSV mapping CID to CHEBI\n",
    "# ctdChebdf = pd.read_csv('ctd_chebiBACKUP.csv')"
   ]
  },
  {
   "cell_type": "code",
   "execution_count": 199,
   "metadata": {},
   "outputs": [],
   "source": [
    "# ctdChebdf.head()"
   ]
  },
  {
   "cell_type": "code",
   "execution_count": 200,
   "metadata": {},
   "outputs": [],
   "source": [
    "# # Import CSV mapping CID to CHEBI\n",
    "# ctdChebdf = pd.read_csv('ctd_chebiBACKUP.csv')\n",
    "\n",
    "# # Turn it into a dict\n",
    "# ctd_chebi = dict(zip(ctdChebdf['PubChem CID'], ctdChebdf['ChEBI']))\n",
    "\n",
    "# # Map the cids to chebis\n",
    "# df1['CHEBI'] = df1.CID.map(lambda x: ctd_chebi.get(x))\n",
    "# df1['CHEBI'] = df1.CHEBI.map(lambda x: None if x == 'No result' else x)"
   ]
  },
  {
   "cell_type": "code",
   "execution_count": 201,
   "metadata": {},
   "outputs": [],
   "source": [
    "# # Now make CHEBI vecs using the CHEBI IDs\n",
    "# # First an association file - just linking each chebi to its own chebi entity\n",
    "\n",
    "# # add uri col\n",
    "# df1['CHEBI_uri'] = df1.dropna(subset=['CHEBI']).CHEBI.map(lambda x: '<http://purl.obolibrary.org/obo/' + x.replace(':', '_') + '>')\n",
    "\n",
    "# # export association file from df\n",
    "# np.savetxt(r'CHEBIassociations.txt', df1[['ChemicalID', 'CHEBI_uri']].dropna().drop_duplicates().values, fmt='%s')\n",
    "\n",
    "# # Now an entities file\n",
    "# chems_for_cheb = df1[['ChemicalID', 'CHEBI_uri']].dropna().drop_duplicates().ChemicalID.tolist()\n",
    "# np.savetxt(r'CHEBIentities.txt', chems_for_cheb, fmt='%s')"
   ]
  },
  {
   "cell_type": "code",
   "execution_count": 202,
   "metadata": {},
   "outputs": [],
   "source": [
    "# Commenting this out now that I already have the vectors, you'll need it if you don't have them\n",
    "# # Now run opa2vec on it \n",
    "# subprocess.check_output('(cd ../../opa2vec/ ; python2 runOPA2Vec.py -ontology ../ontologies/chebi.owl -associations ../msc-thesis/opa/CHEBIassociations.txt -entities ../msc-thesis/opa/CHEBIentities.txt -outfile ../msc-thesis/opa/chebi-vecs.lst)', shell=True)"
   ]
  },
  {
   "cell_type": "code",
   "execution_count": 203,
   "metadata": {},
   "outputs": [],
   "source": [
    "# Import CHEBI vec file\n",
    "with open('chebi-vecs.lst', 'r') as file:\n",
    "    text = file.read()\n",
    "    \n",
    "# Strip and split vector data into list of lists [chem, vec]\n",
    "text = text.replace('\\n', '')\n",
    "text = text.split(']')\n",
    "text = [item.strip().split(' [') for item in text]\n",
    "\n",
    "# Turn it into a data frame\n",
    "df = pd.DataFrame(text)\n",
    "df.columns = ['ID', 'Vector']\n",
    "\n",
    "# Clean\n",
    "df = df.dropna()\n",
    "df['Vector'] = df.Vector.map(lambda x: x.rstrip().lstrip().replace('    ', ' ').replace('   ', ' ').replace('  ', ' ').replace(' ', ','))\n",
    "\n",
    "# Turn vector column into a list\n",
    "df['Vector'] = df.Vector.map(lambda x: x.split(','))\n",
    "\n",
    "# Make a map of it (ChemID to CHEBIvec)\n",
    "chem_to_chebi_vec = dict(zip(df.ID, df.Vector))"
   ]
  },
  {
   "cell_type": "code",
   "execution_count": 204,
   "metadata": {},
   "outputs": [],
   "source": [
    "# Export the chem2chebi map for use in validation databases\n",
    "# export dis-mpVec and dis-hpVec maps\n",
    "with open('chem2chebi'+ '.pkl', 'wb') as f:\n",
    "        pickle.dump(chem_to_chebi_vec, f, pickle.HIGHEST_PROTOCOL)\n"
   ]
  },
  {
   "cell_type": "code",
   "execution_count": 205,
   "metadata": {},
   "outputs": [],
   "source": [
    "df1['CHEBIvec'] = df1.ChemicalID.map(lambda x: chem_to_chebi_vec.get(x))"
   ]
  },
  {
   "cell_type": "code",
   "execution_count": 206,
   "metadata": {},
   "outputs": [
    {
     "name": "stdout",
     "output_type": "stream",
     "text": [
      "Total Rows 17739\n",
      "Total Correlated Rows 8920\n",
      "Total CHEBI vec rows 10825\n",
      "Total CHEBI vec correlated rows 6150\n",
      "Total Chems 586\n",
      "Total Chems with CHEBI Vec 312\n"
     ]
    }
   ],
   "source": [
    "# How many rows have CHEBI Vecs?\n",
    "print('Total Rows', df1.shape[0])\n",
    "print('Total Correlated Rows', df1[df1.Correlation == 1].shape[0])\n",
    "print('Total CHEBI vec rows', df1.dropna(subset=['CHEBIvec']).shape[0])\n",
    "print('Total CHEBI vec correlated rows', df1[df1.Correlation == 1].dropna(subset=['CHEBIvec']).shape[0])\n",
    "print('Total Chems', len(df1.ChemicalID.unique()))\n",
    "print('Total Chems with CHEBI Vec', len(df1.dropna(subset=['CHEBIvec']).ChemicalID.unique()))\n",
    "# Total Rows 17675\n",
    "# Total Correlated Rows 8869\n",
    "# Total CHEBI vec rows 5323\n",
    "# Total CHEBI vec correlated rows 3361\n",
    "# Total Chems 586\n",
    "# Total Chems with CHEBI Vec 131"
   ]
  },
  {
   "cell_type": "code",
   "execution_count": 207,
   "metadata": {},
   "outputs": [
    {
     "data": {
      "text/html": [
       "<div>\n",
       "<style scoped>\n",
       "    .dataframe tbody tr th:only-of-type {\n",
       "        vertical-align: middle;\n",
       "    }\n",
       "\n",
       "    .dataframe tbody tr th {\n",
       "        vertical-align: top;\n",
       "    }\n",
       "\n",
       "    .dataframe thead th {\n",
       "        text-align: right;\n",
       "    }\n",
       "</style>\n",
       "<table border=\"1\" class=\"dataframe\">\n",
       "  <thead>\n",
       "    <tr style=\"text-align: right;\">\n",
       "      <th></th>\n",
       "      <th>ChemicalID</th>\n",
       "      <th>DiseaseID</th>\n",
       "      <th>DVec</th>\n",
       "      <th>CVec</th>\n",
       "      <th>Correlation</th>\n",
       "      <th>DOID</th>\n",
       "      <th>disPhenVecMP</th>\n",
       "      <th>disPhenVecHP</th>\n",
       "      <th>chemPhenVecHP</th>\n",
       "      <th>chemPhenVecMP</th>\n",
       "      <th>CHEBIvec</th>\n",
       "    </tr>\n",
       "  </thead>\n",
       "  <tbody>\n",
       "    <tr>\n",
       "      <th>9643</th>\n",
       "      <td>D017313</td>\n",
       "      <td>OMIM:617065</td>\n",
       "      <td>[0.01894779, 0.10575829, 0.03266486, -0.120980...</td>\n",
       "      <td>[0.0226929933, 0.14501299, 0.0597290248, -0.15...</td>\n",
       "      <td>0</td>\n",
       "      <td>nan</td>\n",
       "      <td>[0.0, 0.0, 0.0, 0.0, 0.0, 0.0, 0.0, 0.0, 0.0, ...</td>\n",
       "      <td>[0.0, 0.0, 0.0, 0.0, 0.0, 0.0, 0.0, 0.0, 0.0, ...</td>\n",
       "      <td>[0.0, 0.0, 0.0, 0.0, 0.0, 0.0, 0.0, 0.0, 0.0, ...</td>\n",
       "      <td>[0.0, 0.0, 0.0, 0.0, 0.0, 0.0, 0.0, 0.0, 0.0, ...</td>\n",
       "      <td>None</td>\n",
       "    </tr>\n",
       "    <tr>\n",
       "      <th>14736</th>\n",
       "      <td>C074283</td>\n",
       "      <td>MESH:C535702</td>\n",
       "      <td>[0.01089955, 0.14402176, 0.03286817, -0.150193...</td>\n",
       "      <td>[-0.0133901061, 0.116737746, 0.0253758859, -0....</td>\n",
       "      <td>0</td>\n",
       "      <td>nan</td>\n",
       "      <td>[0.0, 0.0, 0.0, 0.0, 0.0, 0.0, 0.0, 0.0, 0.0, ...</td>\n",
       "      <td>[0.0, 0.0, 0.0, 0.0, 0.0, 0.0, 0.0, 0.0, 0.0, ...</td>\n",
       "      <td>[0.0, 0.0, 0.0, 0.0, 0.0, 0.0, 0.0, 0.0, 0.0, ...</td>\n",
       "      <td>[0.0, 0.0, 0.0, 0.0, 0.0, 0.0, 0.0, 0.0, 0.0, ...</td>\n",
       "      <td>[0.01771633, 0.06411772, 0.03854137, -0.056743...</td>\n",
       "    </tr>\n",
       "    <tr>\n",
       "      <th>7342</th>\n",
       "      <td>D012969</td>\n",
       "      <td>MESH:D008569</td>\n",
       "      <td>[-0.00122191, 0.12140676, -0.06278317, -0.1614...</td>\n",
       "      <td>[0.000285959075, 0.148733377, 0.0078057549, -0...</td>\n",
       "      <td>1</td>\n",
       "      <td>nan</td>\n",
       "      <td>[0.0, 0.0, 0.0, 0.0, 0.0, 0.0, 0.0, 0.0, 0.0, ...</td>\n",
       "      <td>[0.0, 0.0, 0.0, 0.0, 0.0, 0.0, 0.0, 0.0, 0.0, ...</td>\n",
       "      <td>[0.0, 0.0, 0.0, 0.0, 0.0, 0.0, 0.0, 0.0, 0.0, ...</td>\n",
       "      <td>[0.0, 0.0, 0.0, 0.0, 0.0, 0.0, 0.0, 0.0, 0.0, ...</td>\n",
       "      <td>[0.01631292, 0.04949443, 0.01545214, -0.064467...</td>\n",
       "    </tr>\n",
       "  </tbody>\n",
       "</table>\n",
       "</div>"
      ],
      "text/plain": [
       "      ChemicalID     DiseaseID  \\\n",
       "9643     D017313   OMIM:617065   \n",
       "14736    C074283  MESH:C535702   \n",
       "7342     D012969  MESH:D008569   \n",
       "\n",
       "                                                    DVec  \\\n",
       "9643   [0.01894779, 0.10575829, 0.03266486, -0.120980...   \n",
       "14736  [0.01089955, 0.14402176, 0.03286817, -0.150193...   \n",
       "7342   [-0.00122191, 0.12140676, -0.06278317, -0.1614...   \n",
       "\n",
       "                                                    CVec  Correlation DOID  \\\n",
       "9643   [0.0226929933, 0.14501299, 0.0597290248, -0.15...            0  nan   \n",
       "14736  [-0.0133901061, 0.116737746, 0.0253758859, -0....            0  nan   \n",
       "7342   [0.000285959075, 0.148733377, 0.0078057549, -0...            1  nan   \n",
       "\n",
       "                                            disPhenVecMP  \\\n",
       "9643   [0.0, 0.0, 0.0, 0.0, 0.0, 0.0, 0.0, 0.0, 0.0, ...   \n",
       "14736  [0.0, 0.0, 0.0, 0.0, 0.0, 0.0, 0.0, 0.0, 0.0, ...   \n",
       "7342   [0.0, 0.0, 0.0, 0.0, 0.0, 0.0, 0.0, 0.0, 0.0, ...   \n",
       "\n",
       "                                            disPhenVecHP  \\\n",
       "9643   [0.0, 0.0, 0.0, 0.0, 0.0, 0.0, 0.0, 0.0, 0.0, ...   \n",
       "14736  [0.0, 0.0, 0.0, 0.0, 0.0, 0.0, 0.0, 0.0, 0.0, ...   \n",
       "7342   [0.0, 0.0, 0.0, 0.0, 0.0, 0.0, 0.0, 0.0, 0.0, ...   \n",
       "\n",
       "                                           chemPhenVecHP  \\\n",
       "9643   [0.0, 0.0, 0.0, 0.0, 0.0, 0.0, 0.0, 0.0, 0.0, ...   \n",
       "14736  [0.0, 0.0, 0.0, 0.0, 0.0, 0.0, 0.0, 0.0, 0.0, ...   \n",
       "7342   [0.0, 0.0, 0.0, 0.0, 0.0, 0.0, 0.0, 0.0, 0.0, ...   \n",
       "\n",
       "                                           chemPhenVecMP  \\\n",
       "9643   [0.0, 0.0, 0.0, 0.0, 0.0, 0.0, 0.0, 0.0, 0.0, ...   \n",
       "14736  [0.0, 0.0, 0.0, 0.0, 0.0, 0.0, 0.0, 0.0, 0.0, ...   \n",
       "7342   [0.0, 0.0, 0.0, 0.0, 0.0, 0.0, 0.0, 0.0, 0.0, ...   \n",
       "\n",
       "                                                CHEBIvec  \n",
       "9643                                                None  \n",
       "14736  [0.01771633, 0.06411772, 0.03854137, -0.056743...  \n",
       "7342   [0.01631292, 0.04949443, 0.01545214, -0.064467...  "
      ]
     },
     "execution_count": 207,
     "metadata": {},
     "output_type": "execute_result"
    }
   ],
   "source": [
    "df1.sample(3)"
   ]
  },
  {
   "cell_type": "code",
   "execution_count": 208,
   "metadata": {},
   "outputs": [],
   "source": [
    "# Add empty vecs for rows that don't have Chebi vecs\n",
    "empty_vec = [0] * 200\n",
    "df1['CHEBIvec'] = df1['CHEBIvec'].map(lambda x: empty_vec if x is None else x)\n",
    "\n",
    "# Change the Chebi vec elements from string to floats\n",
    "df1['CHEBIvec'] = df1.CHEBIvec.map(lambda x: [float(i) for i in x])"
   ]
  },
  {
   "cell_type": "markdown",
   "metadata": {},
   "source": [
    "### Add DO Vecs"
   ]
  },
  {
   "cell_type": "code",
   "execution_count": 209,
   "metadata": {},
   "outputs": [],
   "source": [
    "# Import Gofunc vec file\n",
    "with open('do-vecs.lst', 'r') as file:\n",
    "    text = file.read()\n",
    "    \n",
    "# Strip and split vector data into list of lists [disease, vec]\n",
    "text = text.replace('\\n', '')\n",
    "text = text.split(']')\n",
    "text = [item.strip().split(' [') for item in text]\n",
    "\n",
    "# Turn it into a data frame\n",
    "df = pd.DataFrame(text)\n",
    "df.columns = ['ID', 'Vector']\n",
    "\n",
    "# Clean\n",
    "df = df.dropna()\n",
    "df['Vector'] = df.Vector.map(lambda x: x.rstrip().lstrip().replace('    ', ' ').replace('   ', ' ').replace('  ', ' ').replace(' ', ','))\n",
    "\n",
    "# Turn vector column into a list\n",
    "df['Vector'] = df.Vector.map(lambda x: x.split(','))\n",
    "\n",
    "# Make a map of it (DisID to DOvec)\n",
    "dis_to_DOvec = dict(zip(df.ID, df.Vector))"
   ]
  },
  {
   "cell_type": "code",
   "execution_count": 210,
   "metadata": {},
   "outputs": [],
   "source": [
    "df1['DOvec'] = df1.DiseaseID.map(lambda x: dis_to_DOvec.get(x))"
   ]
  },
  {
   "cell_type": "code",
   "execution_count": 211,
   "metadata": {},
   "outputs": [],
   "source": [
    "# print(df1[df1.DOvec])"
   ]
  },
  {
   "cell_type": "code",
   "execution_count": 212,
   "metadata": {},
   "outputs": [],
   "source": [
    "# Change the DO vec elements from string to floats\n",
    "df1['DOvec'] = df1.DOvec.map(lambda x: [float(i) for i in x])"
   ]
  },
  {
   "cell_type": "markdown",
   "metadata": {},
   "source": [
    "### ADD HINO vecs\n",
    "This file is getting a bit long "
   ]
  },
  {
   "cell_type": "code",
   "execution_count": 213,
   "metadata": {},
   "outputs": [],
   "source": [
    "# Import HINO vec file\n",
    "with open('hinoVecs.lst', 'r') as file:\n",
    "    text = file.read()\n",
    "    \n",
    "# Strip and split vector data into list of lists [chem, vec]\n",
    "text = text.replace('\\n', '')\n",
    "text = text.split(']')\n",
    "text = [item.strip().split(' [') for item in text]\n",
    "\n",
    "# Turn it into a data frame\n",
    "df = pd.DataFrame(text)\n",
    "df.columns = ['ID', 'Vector']\n",
    "\n",
    "# Clean\n",
    "df = df.dropna()\n",
    "df['Vector'] = df.Vector.map(lambda x: x.rstrip().lstrip().replace('    ', ' ').replace('   ', ' ').replace('  ', ' ').replace(' ', ','))\n",
    "\n",
    "# Turn vector column into a list\n",
    "df['Vector'] = df.Vector.map(lambda x: x.split(','))\n",
    "\n",
    "# Make a map of it (DisID to DOvec)\n",
    "entity_to_HINOvec = dict(zip(df.ID, df.Vector))"
   ]
  },
  {
   "cell_type": "code",
   "execution_count": 214,
   "metadata": {},
   "outputs": [],
   "source": [
    "df1['dis_HINOvec'] = df1.DiseaseID.map(lambda x: entity_to_HINOvec.get(x))\n",
    "df1['chem_HINOvec'] = df1.ChemicalID.map(lambda x: entity_to_HINOvec.get(x))"
   ]
  },
  {
   "cell_type": "code",
   "execution_count": 215,
   "metadata": {},
   "outputs": [
    {
     "data": {
      "text/html": [
       "<div>\n",
       "<style scoped>\n",
       "    .dataframe tbody tr th:only-of-type {\n",
       "        vertical-align: middle;\n",
       "    }\n",
       "\n",
       "    .dataframe tbody tr th {\n",
       "        vertical-align: top;\n",
       "    }\n",
       "\n",
       "    .dataframe thead th {\n",
       "        text-align: right;\n",
       "    }\n",
       "</style>\n",
       "<table border=\"1\" class=\"dataframe\">\n",
       "  <thead>\n",
       "    <tr style=\"text-align: right;\">\n",
       "      <th></th>\n",
       "      <th>ChemicalID</th>\n",
       "      <th>DiseaseID</th>\n",
       "      <th>DVec</th>\n",
       "      <th>CVec</th>\n",
       "      <th>Correlation</th>\n",
       "      <th>DOID</th>\n",
       "      <th>disPhenVecMP</th>\n",
       "      <th>disPhenVecHP</th>\n",
       "      <th>chemPhenVecHP</th>\n",
       "      <th>chemPhenVecMP</th>\n",
       "      <th>CHEBIvec</th>\n",
       "      <th>DOvec</th>\n",
       "      <th>dis_HINOvec</th>\n",
       "      <th>chem_HINOvec</th>\n",
       "    </tr>\n",
       "  </thead>\n",
       "  <tbody>\n",
       "    <tr>\n",
       "      <th>97</th>\n",
       "      <td>D020106</td>\n",
       "      <td>MESH:D056486</td>\n",
       "      <td>[-0.0573407635, 0.0587317832, -0.238079086, -0...</td>\n",
       "      <td>[0.0128343292, 0.124974281, 0.0104902657, -0.1...</td>\n",
       "      <td>1</td>\n",
       "      <td>DOID_2044</td>\n",
       "      <td>[0.03597726, 0.1437135, 0.07756205, -0.1206207...</td>\n",
       "      <td>[0.03639936, 0.12774213, 0.06539351, -0.117954...</td>\n",
       "      <td>[0.0, 0.0, 0.0, 0.0, 0.0, 0.0, 0.0, 0.0, 0.0, ...</td>\n",
       "      <td>[0.0, 0.0, 0.0, 0.0, 0.0, 0.0, 0.0, 0.0, 0.0, ...</td>\n",
       "      <td>[0.02180431, 0.06118587, 0.03683005, -0.068677...</td>\n",
       "      <td>[0.018791426, 0.0550314896, 0.0336739607, -0.0...</td>\n",
       "      <td>[2.86019761e-02, 9.30668786e-02, 5.02847470e-0...</td>\n",
       "      <td>None</td>\n",
       "    </tr>\n",
       "    <tr>\n",
       "      <th>15064</th>\n",
       "      <td>C099813</td>\n",
       "      <td>MESH:C562729</td>\n",
       "      <td>[0.01318017, 0.1251859, -0.01394415, -0.118188...</td>\n",
       "      <td>[0.02968111, 0.10238931, 0.04476682, -0.105589...</td>\n",
       "      <td>0</td>\n",
       "      <td>nan</td>\n",
       "      <td>[0.0, 0.0, 0.0, 0.0, 0.0, 0.0, 0.0, 0.0, 0.0, ...</td>\n",
       "      <td>[0.0, 0.0, 0.0, 0.0, 0.0, 0.0, 0.0, 0.0, 0.0, ...</td>\n",
       "      <td>[0.0, 0.0, 0.0, 0.0, 0.0, 0.0, 0.0, 0.0, 0.0, ...</td>\n",
       "      <td>[0.0, 0.0, 0.0, 0.0, 0.0, 0.0, 0.0, 0.0, 0.0, ...</td>\n",
       "      <td>[0.0, 0.0, 0.0, 0.0, 0.0, 0.0, 0.0, 0.0, 0.0, ...</td>\n",
       "      <td>[0.01368068, 0.05909523, 0.03674051, -0.064458...</td>\n",
       "      <td>[0.01388473, 0.05762913, 0.03025182, -0.068478...</td>\n",
       "      <td>None</td>\n",
       "    </tr>\n",
       "    <tr>\n",
       "      <th>17177</th>\n",
       "      <td>D005372</td>\n",
       "      <td>MESH:D001943</td>\n",
       "      <td>[-0.09880375, -0.07782761, -0.21784736, -0.094...</td>\n",
       "      <td>[-0.00116740179, 0.0805704072, -0.0103234174, ...</td>\n",
       "      <td>0</td>\n",
       "      <td>DOID_3459</td>\n",
       "      <td>[0.01407156, 0.14879467, 0.08084341, -0.131606...</td>\n",
       "      <td>[0.03489758, 0.12943432, 0.06160691, -0.118124...</td>\n",
       "      <td>[0.0, 0.0, 0.0, 0.0, 0.0, 0.0, 0.0, 0.0, 0.0, ...</td>\n",
       "      <td>[0.0, 0.0, 0.0, 0.0, 0.0, 0.0, 0.0, 0.0, 0.0, ...</td>\n",
       "      <td>[0.0122307669, 0.0684281364, 0.0275013242, -0....</td>\n",
       "      <td>[0.0268149339, 0.0863542259, 0.0386081785, -0....</td>\n",
       "      <td>[2.97578666e-02, 1.17261335e-01, 4.91196848e-0...</td>\n",
       "      <td>[1.66756362e-02, 4.36262824e-02, 2.67493427e-0...</td>\n",
       "    </tr>\n",
       "  </tbody>\n",
       "</table>\n",
       "</div>"
      ],
      "text/plain": [
       "      ChemicalID     DiseaseID  \\\n",
       "97       D020106  MESH:D056486   \n",
       "15064    C099813  MESH:C562729   \n",
       "17177    D005372  MESH:D001943   \n",
       "\n",
       "                                                    DVec  \\\n",
       "97     [-0.0573407635, 0.0587317832, -0.238079086, -0...   \n",
       "15064  [0.01318017, 0.1251859, -0.01394415, -0.118188...   \n",
       "17177  [-0.09880375, -0.07782761, -0.21784736, -0.094...   \n",
       "\n",
       "                                                    CVec  Correlation  \\\n",
       "97     [0.0128343292, 0.124974281, 0.0104902657, -0.1...            1   \n",
       "15064  [0.02968111, 0.10238931, 0.04476682, -0.105589...            0   \n",
       "17177  [-0.00116740179, 0.0805704072, -0.0103234174, ...            0   \n",
       "\n",
       "            DOID                                       disPhenVecMP  \\\n",
       "97     DOID_2044  [0.03597726, 0.1437135, 0.07756205, -0.1206207...   \n",
       "15064        nan  [0.0, 0.0, 0.0, 0.0, 0.0, 0.0, 0.0, 0.0, 0.0, ...   \n",
       "17177  DOID_3459  [0.01407156, 0.14879467, 0.08084341, -0.131606...   \n",
       "\n",
       "                                            disPhenVecHP  \\\n",
       "97     [0.03639936, 0.12774213, 0.06539351, -0.117954...   \n",
       "15064  [0.0, 0.0, 0.0, 0.0, 0.0, 0.0, 0.0, 0.0, 0.0, ...   \n",
       "17177  [0.03489758, 0.12943432, 0.06160691, -0.118124...   \n",
       "\n",
       "                                           chemPhenVecHP  \\\n",
       "97     [0.0, 0.0, 0.0, 0.0, 0.0, 0.0, 0.0, 0.0, 0.0, ...   \n",
       "15064  [0.0, 0.0, 0.0, 0.0, 0.0, 0.0, 0.0, 0.0, 0.0, ...   \n",
       "17177  [0.0, 0.0, 0.0, 0.0, 0.0, 0.0, 0.0, 0.0, 0.0, ...   \n",
       "\n",
       "                                           chemPhenVecMP  \\\n",
       "97     [0.0, 0.0, 0.0, 0.0, 0.0, 0.0, 0.0, 0.0, 0.0, ...   \n",
       "15064  [0.0, 0.0, 0.0, 0.0, 0.0, 0.0, 0.0, 0.0, 0.0, ...   \n",
       "17177  [0.0, 0.0, 0.0, 0.0, 0.0, 0.0, 0.0, 0.0, 0.0, ...   \n",
       "\n",
       "                                                CHEBIvec  \\\n",
       "97     [0.02180431, 0.06118587, 0.03683005, -0.068677...   \n",
       "15064  [0.0, 0.0, 0.0, 0.0, 0.0, 0.0, 0.0, 0.0, 0.0, ...   \n",
       "17177  [0.0122307669, 0.0684281364, 0.0275013242, -0....   \n",
       "\n",
       "                                                   DOvec  \\\n",
       "97     [0.018791426, 0.0550314896, 0.0336739607, -0.0...   \n",
       "15064  [0.01368068, 0.05909523, 0.03674051, -0.064458...   \n",
       "17177  [0.0268149339, 0.0863542259, 0.0386081785, -0....   \n",
       "\n",
       "                                             dis_HINOvec  \\\n",
       "97     [2.86019761e-02, 9.30668786e-02, 5.02847470e-0...   \n",
       "15064  [0.01388473, 0.05762913, 0.03025182, -0.068478...   \n",
       "17177  [2.97578666e-02, 1.17261335e-01, 4.91196848e-0...   \n",
       "\n",
       "                                            chem_HINOvec  \n",
       "97                                                  None  \n",
       "15064                                               None  \n",
       "17177  [1.66756362e-02, 4.36262824e-02, 2.67493427e-0...  "
      ]
     },
     "execution_count": 215,
     "metadata": {},
     "output_type": "execute_result"
    }
   ],
   "source": [
    "df1.sample(3)"
   ]
  },
  {
   "cell_type": "code",
   "execution_count": 216,
   "metadata": {},
   "outputs": [
    {
     "name": "stdout",
     "output_type": "stream",
     "text": [
      "HINO dis vecs:  11456\n",
      "HINO chem vecs:  11516\n",
      "At least one hino vec:  15476\n"
     ]
    }
   ],
   "source": [
    "print('HINO dis vecs: ', df1[df1.dis_HINOvec.map(lambda x: x is not None)].shape[0])\n",
    "print('HINO chem vecs: ', df1[df1.chem_HINOvec.map(lambda x: x is not None)].shape[0])\n",
    "at_least_one = df1.chem_HINOvec.map(lambda x: x is not None) | df1.dis_HINOvec.map(lambda x: x is not None)\n",
    "print('At least one hino vec: ', df1[at_least_one].shape[0])"
   ]
  },
  {
   "cell_type": "code",
   "execution_count": 217,
   "metadata": {},
   "outputs": [],
   "source": [
    "# Add empty vecs in place of None\n",
    "empty_vec = [0] * 200\n",
    "\n",
    "for col in ['dis_HINOvec', 'chem_HINOvec']:\n",
    "    df1[col] = df1[col].map(lambda x: empty_vec if x is None else x)"
   ]
  },
  {
   "cell_type": "code",
   "execution_count": 218,
   "metadata": {},
   "outputs": [],
   "source": [
    "# Change the HINO vec elements from string to floats\n",
    "df1['dis_HINOvec'] = df1.dis_HINOvec.map(lambda x: [float(i) for i in x])\n",
    "df1['chem_HINOvec'] = df1.chem_HINOvec.map(lambda x: [float(i) for i in x])"
   ]
  },
  {
   "cell_type": "code",
   "execution_count": 219,
   "metadata": {},
   "outputs": [
    {
     "data": {
      "text/html": [
       "<div>\n",
       "<style scoped>\n",
       "    .dataframe tbody tr th:only-of-type {\n",
       "        vertical-align: middle;\n",
       "    }\n",
       "\n",
       "    .dataframe tbody tr th {\n",
       "        vertical-align: top;\n",
       "    }\n",
       "\n",
       "    .dataframe thead th {\n",
       "        text-align: right;\n",
       "    }\n",
       "</style>\n",
       "<table border=\"1\" class=\"dataframe\">\n",
       "  <thead>\n",
       "    <tr style=\"text-align: right;\">\n",
       "      <th></th>\n",
       "      <th>ChemicalID</th>\n",
       "      <th>DiseaseID</th>\n",
       "      <th>DVec</th>\n",
       "      <th>CVec</th>\n",
       "      <th>Correlation</th>\n",
       "      <th>DOID</th>\n",
       "      <th>disPhenVecMP</th>\n",
       "      <th>disPhenVecHP</th>\n",
       "      <th>chemPhenVecHP</th>\n",
       "      <th>chemPhenVecMP</th>\n",
       "      <th>CHEBIvec</th>\n",
       "      <th>DOvec</th>\n",
       "      <th>dis_HINOvec</th>\n",
       "      <th>chem_HINOvec</th>\n",
       "    </tr>\n",
       "  </thead>\n",
       "  <tbody>\n",
       "    <tr>\n",
       "      <th>0</th>\n",
       "      <td>C028474</td>\n",
       "      <td>MESH:D006528</td>\n",
       "      <td>[-0.0826218948, 0.0322816819, -0.121060327, -0...</td>\n",
       "      <td>[0.0135123692, 0.105312727, -0.0104590971, -0....</td>\n",
       "      <td>1</td>\n",
       "      <td>DOID_684</td>\n",
       "      <td>[0.03717217, 0.14535129, 0.06694908, -0.124857...</td>\n",
       "      <td>[0.0349340774, 0.147659555, 0.0655185208, -0.1...</td>\n",
       "      <td>[0.0, 0.0, 0.0, 0.0, 0.0, 0.0, 0.0, 0.0, 0.0, ...</td>\n",
       "      <td>[0.0, 0.0, 0.0, 0.0, 0.0, 0.0, 0.0, 0.0, 0.0, ...</td>\n",
       "      <td>[0.0, 0.0, 0.0, 0.0, 0.0, 0.0, 0.0, 0.0, 0.0, ...</td>\n",
       "      <td>[-0.00669117, 0.06971597, 0.03065702, -0.06519...</td>\n",
       "      <td>[0.017662406, 0.0882318914, 0.0445542857, -0.0...</td>\n",
       "      <td>[0.0, 0.0, 0.0, 0.0, 0.0, 0.0, 0.0, 0.0, 0.0, ...</td>\n",
       "    </tr>\n",
       "    <tr>\n",
       "      <th>1</th>\n",
       "      <td>C028474</td>\n",
       "      <td>MESH:D005355</td>\n",
       "      <td>[0.01802431, 0.14452943, -0.00467963, -0.15955...</td>\n",
       "      <td>[0.0135123692, 0.105312727, -0.0104590971, -0....</td>\n",
       "      <td>1</td>\n",
       "      <td>nan</td>\n",
       "      <td>[0.0, 0.0, 0.0, 0.0, 0.0, 0.0, 0.0, 0.0, 0.0, ...</td>\n",
       "      <td>[0.0, 0.0, 0.0, 0.0, 0.0, 0.0, 0.0, 0.0, 0.0, ...</td>\n",
       "      <td>[0.0, 0.0, 0.0, 0.0, 0.0, 0.0, 0.0, 0.0, 0.0, ...</td>\n",
       "      <td>[0.0, 0.0, 0.0, 0.0, 0.0, 0.0, 0.0, 0.0, 0.0, ...</td>\n",
       "      <td>[0.0, 0.0, 0.0, 0.0, 0.0, 0.0, 0.0, 0.0, 0.0, ...</td>\n",
       "      <td>[0.011856921, 0.0321784094, 0.0178192798, -0.0...</td>\n",
       "      <td>[0.00930883, 0.04089586, 0.01740959, -0.036715...</td>\n",
       "      <td>[0.0, 0.0, 0.0, 0.0, 0.0, 0.0, 0.0, 0.0, 0.0, ...</td>\n",
       "    </tr>\n",
       "    <tr>\n",
       "      <th>2</th>\n",
       "      <td>C028474</td>\n",
       "      <td>MESH:D006529</td>\n",
       "      <td>[-0.02036812, 0.09344074, -0.08194942, -0.1507...</td>\n",
       "      <td>[0.0135123692, 0.105312727, -0.0104590971, -0....</td>\n",
       "      <td>1</td>\n",
       "      <td>nan</td>\n",
       "      <td>[0.0, 0.0, 0.0, 0.0, 0.0, 0.0, 0.0, 0.0, 0.0, ...</td>\n",
       "      <td>[0.0, 0.0, 0.0, 0.0, 0.0, 0.0, 0.0, 0.0, 0.0, ...</td>\n",
       "      <td>[0.0, 0.0, 0.0, 0.0, 0.0, 0.0, 0.0, 0.0, 0.0, ...</td>\n",
       "      <td>[0.0, 0.0, 0.0, 0.0, 0.0, 0.0, 0.0, 0.0, 0.0, ...</td>\n",
       "      <td>[0.0, 0.0, 0.0, 0.0, 0.0, 0.0, 0.0, 0.0, 0.0, ...</td>\n",
       "      <td>[0.00442429, 0.02501368, 0.01620419, -0.024251...</td>\n",
       "      <td>[0.0262603536, 0.0958174169, 0.0440592952, -0....</td>\n",
       "      <td>[0.0, 0.0, 0.0, 0.0, 0.0, 0.0, 0.0, 0.0, 0.0, ...</td>\n",
       "    </tr>\n",
       "    <tr>\n",
       "      <th>3</th>\n",
       "      <td>C028474</td>\n",
       "      <td>MESH:D006965</td>\n",
       "      <td>[0.01746579, 0.14595346, 0.05720224, -0.153178...</td>\n",
       "      <td>[0.0135123692, 0.105312727, -0.0104590971, -0....</td>\n",
       "      <td>1</td>\n",
       "      <td>nan</td>\n",
       "      <td>[0.0, 0.0, 0.0, 0.0, 0.0, 0.0, 0.0, 0.0, 0.0, ...</td>\n",
       "      <td>[0.0, 0.0, 0.0, 0.0, 0.0, 0.0, 0.0, 0.0, 0.0, ...</td>\n",
       "      <td>[0.0, 0.0, 0.0, 0.0, 0.0, 0.0, 0.0, 0.0, 0.0, ...</td>\n",
       "      <td>[0.0, 0.0, 0.0, 0.0, 0.0, 0.0, 0.0, 0.0, 0.0, ...</td>\n",
       "      <td>[0.0, 0.0, 0.0, 0.0, 0.0, 0.0, 0.0, 0.0, 0.0, ...</td>\n",
       "      <td>[0.00854880922, 0.0434569977, 0.0188593101, -0...</td>\n",
       "      <td>[0.01259711, 0.04299367, 0.02412725, -0.042730...</td>\n",
       "      <td>[0.0, 0.0, 0.0, 0.0, 0.0, 0.0, 0.0, 0.0, 0.0, ...</td>\n",
       "    </tr>\n",
       "    <tr>\n",
       "      <th>4</th>\n",
       "      <td>C028474</td>\n",
       "      <td>MESH:D008114</td>\n",
       "      <td>[-0.05440867, 0.00954124, -0.18101129, -0.0743...</td>\n",
       "      <td>[0.0135123692, 0.105312727, -0.0104590971, -0....</td>\n",
       "      <td>1</td>\n",
       "      <td>nan</td>\n",
       "      <td>[0.0, 0.0, 0.0, 0.0, 0.0, 0.0, 0.0, 0.0, 0.0, ...</td>\n",
       "      <td>[0.0, 0.0, 0.0, 0.0, 0.0, 0.0, 0.0, 0.0, 0.0, ...</td>\n",
       "      <td>[0.0, 0.0, 0.0, 0.0, 0.0, 0.0, 0.0, 0.0, 0.0, ...</td>\n",
       "      <td>[0.0, 0.0, 0.0, 0.0, 0.0, 0.0, 0.0, 0.0, 0.0, ...</td>\n",
       "      <td>[0.0, 0.0, 0.0, 0.0, 0.0, 0.0, 0.0, 0.0, 0.0, ...</td>\n",
       "      <td>[0.00712068, 0.03850456, 0.01660043, -0.036797...</td>\n",
       "      <td>[0.0377231091, 0.093969211, 0.0376204327, -0.0...</td>\n",
       "      <td>[0.0, 0.0, 0.0, 0.0, 0.0, 0.0, 0.0, 0.0, 0.0, ...</td>\n",
       "    </tr>\n",
       "  </tbody>\n",
       "</table>\n",
       "</div>"
      ],
      "text/plain": [
       "  ChemicalID     DiseaseID                                               DVec  \\\n",
       "0    C028474  MESH:D006528  [-0.0826218948, 0.0322816819, -0.121060327, -0...   \n",
       "1    C028474  MESH:D005355  [0.01802431, 0.14452943, -0.00467963, -0.15955...   \n",
       "2    C028474  MESH:D006529  [-0.02036812, 0.09344074, -0.08194942, -0.1507...   \n",
       "3    C028474  MESH:D006965  [0.01746579, 0.14595346, 0.05720224, -0.153178...   \n",
       "4    C028474  MESH:D008114  [-0.05440867, 0.00954124, -0.18101129, -0.0743...   \n",
       "\n",
       "                                                CVec  Correlation      DOID  \\\n",
       "0  [0.0135123692, 0.105312727, -0.0104590971, -0....            1  DOID_684   \n",
       "1  [0.0135123692, 0.105312727, -0.0104590971, -0....            1       nan   \n",
       "2  [0.0135123692, 0.105312727, -0.0104590971, -0....            1       nan   \n",
       "3  [0.0135123692, 0.105312727, -0.0104590971, -0....            1       nan   \n",
       "4  [0.0135123692, 0.105312727, -0.0104590971, -0....            1       nan   \n",
       "\n",
       "                                        disPhenVecMP  \\\n",
       "0  [0.03717217, 0.14535129, 0.06694908, -0.124857...   \n",
       "1  [0.0, 0.0, 0.0, 0.0, 0.0, 0.0, 0.0, 0.0, 0.0, ...   \n",
       "2  [0.0, 0.0, 0.0, 0.0, 0.0, 0.0, 0.0, 0.0, 0.0, ...   \n",
       "3  [0.0, 0.0, 0.0, 0.0, 0.0, 0.0, 0.0, 0.0, 0.0, ...   \n",
       "4  [0.0, 0.0, 0.0, 0.0, 0.0, 0.0, 0.0, 0.0, 0.0, ...   \n",
       "\n",
       "                                        disPhenVecHP  \\\n",
       "0  [0.0349340774, 0.147659555, 0.0655185208, -0.1...   \n",
       "1  [0.0, 0.0, 0.0, 0.0, 0.0, 0.0, 0.0, 0.0, 0.0, ...   \n",
       "2  [0.0, 0.0, 0.0, 0.0, 0.0, 0.0, 0.0, 0.0, 0.0, ...   \n",
       "3  [0.0, 0.0, 0.0, 0.0, 0.0, 0.0, 0.0, 0.0, 0.0, ...   \n",
       "4  [0.0, 0.0, 0.0, 0.0, 0.0, 0.0, 0.0, 0.0, 0.0, ...   \n",
       "\n",
       "                                       chemPhenVecHP  \\\n",
       "0  [0.0, 0.0, 0.0, 0.0, 0.0, 0.0, 0.0, 0.0, 0.0, ...   \n",
       "1  [0.0, 0.0, 0.0, 0.0, 0.0, 0.0, 0.0, 0.0, 0.0, ...   \n",
       "2  [0.0, 0.0, 0.0, 0.0, 0.0, 0.0, 0.0, 0.0, 0.0, ...   \n",
       "3  [0.0, 0.0, 0.0, 0.0, 0.0, 0.0, 0.0, 0.0, 0.0, ...   \n",
       "4  [0.0, 0.0, 0.0, 0.0, 0.0, 0.0, 0.0, 0.0, 0.0, ...   \n",
       "\n",
       "                                       chemPhenVecMP  \\\n",
       "0  [0.0, 0.0, 0.0, 0.0, 0.0, 0.0, 0.0, 0.0, 0.0, ...   \n",
       "1  [0.0, 0.0, 0.0, 0.0, 0.0, 0.0, 0.0, 0.0, 0.0, ...   \n",
       "2  [0.0, 0.0, 0.0, 0.0, 0.0, 0.0, 0.0, 0.0, 0.0, ...   \n",
       "3  [0.0, 0.0, 0.0, 0.0, 0.0, 0.0, 0.0, 0.0, 0.0, ...   \n",
       "4  [0.0, 0.0, 0.0, 0.0, 0.0, 0.0, 0.0, 0.0, 0.0, ...   \n",
       "\n",
       "                                            CHEBIvec  \\\n",
       "0  [0.0, 0.0, 0.0, 0.0, 0.0, 0.0, 0.0, 0.0, 0.0, ...   \n",
       "1  [0.0, 0.0, 0.0, 0.0, 0.0, 0.0, 0.0, 0.0, 0.0, ...   \n",
       "2  [0.0, 0.0, 0.0, 0.0, 0.0, 0.0, 0.0, 0.0, 0.0, ...   \n",
       "3  [0.0, 0.0, 0.0, 0.0, 0.0, 0.0, 0.0, 0.0, 0.0, ...   \n",
       "4  [0.0, 0.0, 0.0, 0.0, 0.0, 0.0, 0.0, 0.0, 0.0, ...   \n",
       "\n",
       "                                               DOvec  \\\n",
       "0  [-0.00669117, 0.06971597, 0.03065702, -0.06519...   \n",
       "1  [0.011856921, 0.0321784094, 0.0178192798, -0.0...   \n",
       "2  [0.00442429, 0.02501368, 0.01620419, -0.024251...   \n",
       "3  [0.00854880922, 0.0434569977, 0.0188593101, -0...   \n",
       "4  [0.00712068, 0.03850456, 0.01660043, -0.036797...   \n",
       "\n",
       "                                         dis_HINOvec  \\\n",
       "0  [0.017662406, 0.0882318914, 0.0445542857, -0.0...   \n",
       "1  [0.00930883, 0.04089586, 0.01740959, -0.036715...   \n",
       "2  [0.0262603536, 0.0958174169, 0.0440592952, -0....   \n",
       "3  [0.01259711, 0.04299367, 0.02412725, -0.042730...   \n",
       "4  [0.0377231091, 0.093969211, 0.0376204327, -0.0...   \n",
       "\n",
       "                                        chem_HINOvec  \n",
       "0  [0.0, 0.0, 0.0, 0.0, 0.0, 0.0, 0.0, 0.0, 0.0, ...  \n",
       "1  [0.0, 0.0, 0.0, 0.0, 0.0, 0.0, 0.0, 0.0, 0.0, ...  \n",
       "2  [0.0, 0.0, 0.0, 0.0, 0.0, 0.0, 0.0, 0.0, 0.0, ...  \n",
       "3  [0.0, 0.0, 0.0, 0.0, 0.0, 0.0, 0.0, 0.0, 0.0, ...  \n",
       "4  [0.0, 0.0, 0.0, 0.0, 0.0, 0.0, 0.0, 0.0, 0.0, ...  "
      ]
     },
     "execution_count": 219,
     "metadata": {},
     "output_type": "execute_result"
    }
   ],
   "source": [
    "df1.head()"
   ]
  },
  {
   "cell_type": "code",
   "execution_count": null,
   "metadata": {},
   "outputs": [],
   "source": []
  },
  {
   "cell_type": "markdown",
   "metadata": {},
   "source": [
    "### Add Protein Ontology vecs"
   ]
  },
  {
   "cell_type": "code",
   "execution_count": 220,
   "metadata": {},
   "outputs": [],
   "source": [
    "# Import PRO vec file\n",
    "with open('PROVecs.lst', 'r') as file:\n",
    "    text = file.read()\n",
    "    \n",
    "# Strip and split vector data into list of lists [chem, vec]\n",
    "text = text.replace('\\n', '')\n",
    "text = text.split(']')\n",
    "text = [item.strip().split(' [') for item in text]\n",
    "\n",
    "# Turn it into a data frame\n",
    "df = pd.DataFrame(text)\n",
    "df.columns = ['ID', 'Vector']\n",
    "\n",
    "# Clean\n",
    "df = df.dropna()\n",
    "df['Vector'] = df.Vector.map(lambda x: x.rstrip().lstrip().replace('    ', ' ').replace('   ', ' ').replace('  ', ' ').replace(' ', ','))\n",
    "\n",
    "# Turn vector column into a list\n",
    "df['Vector'] = df.Vector.map(lambda x: x.split(','))\n",
    "\n",
    "# Make a map of it (DisID to DOvec)\n",
    "entity_to_PROvec = dict(zip(df.ID, df.Vector))"
   ]
  },
  {
   "cell_type": "code",
   "execution_count": 221,
   "metadata": {},
   "outputs": [],
   "source": [
    "df1['dis_PROvec'] = df1.DiseaseID.map(lambda x: entity_to_PROvec.get(x))\n",
    "df1['chem_PROvec'] = df1.ChemicalID.map(lambda x: entity_to_PROvec.get(x))"
   ]
  },
  {
   "cell_type": "code",
   "execution_count": null,
   "metadata": {},
   "outputs": [],
   "source": []
  },
  {
   "cell_type": "code",
   "execution_count": 222,
   "metadata": {},
   "outputs": [],
   "source": [
    "# Add empty vecs in place of None\n",
    "empty_vec = [0] * 200\n",
    "\n",
    "for col in ['dis_PROvec', 'chem_PROvec']:\n",
    "    df1[col] = df1[col].map(lambda x: empty_vec if x is None else x)"
   ]
  },
  {
   "cell_type": "code",
   "execution_count": 223,
   "metadata": {},
   "outputs": [],
   "source": [
    "# Change the vec elements from string to floats\n",
    "df1['dis_PROvec'] = df1.dis_PROvec.map(lambda x: [float(i) for i in x])\n",
    "df1['chem_PROvec'] = df1.chem_PROvec.map(lambda x: [float(i) for i in x])"
   ]
  },
  {
   "cell_type": "code",
   "execution_count": 224,
   "metadata": {},
   "outputs": [
    {
     "name": "stdout",
     "output_type": "stream",
     "text": [
      "Total Rows:  17739\n",
      "Num corr rows:  8920\n",
      "Num uncorr rows:  8819\n",
      "\n",
      "Have chem pro vec:  17739\n",
      "Have dis pro vec:  17739\n",
      "Corr rows with chem pro vec:  8920\n",
      "UnCorr rows with chem pro vec:  8819\n",
      "\n",
      "Corr rows with HP vec:  5175\n",
      "UnCorr rows with HP vec:  3495\n",
      "Corr rows with MP vec:  5175\n",
      "UnCorr rows with MP vec:  3469\n",
      "\n",
      "Corr rows with Hino chm vec:  6055\n",
      "UnCorr rows with Hino chm vec:  5461\n",
      "Corr rows with Hino dis vec:  7310\n",
      "UnCorr rows with Hino dis vec:  4146\n",
      "\n",
      "Corr rows with CHEBI vec:  6150\n",
      "UnCorr rows with CHEBI vec:  4675\n",
      "\n"
     ]
    }
   ],
   "source": [
    "# Print stuff\n",
    "# \n",
    "print('Total Rows: ', df1.shape[0])\n",
    "corr_rows = df1.Correlation == 1\n",
    "uncorr = df1.Correlation == 0\n",
    "print('Num corr rows: ', df1[corr_rows].shape[0])\n",
    "print('Num uncorr rows: ', df1[uncorr].shape[0])\n",
    "print()\n",
    "\n",
    "# PRO vecs\n",
    "have_chemv = df1.chem_PROvec.map(lambda x: x != empty_vec)\n",
    "print('Have chem pro vec: ', df1[have_chemv].shape[0])\n",
    "print('Have dis pro vec: ', df1[df1.dis_PROvec.map(lambda x: x != empty_vec)].shape[0])\n",
    "corr_w_pro = have_chemv & corr_rows\n",
    "uncorr_w_pro = have_chemv & uncorr\n",
    "print('Corr rows with chem pro vec: ', df1[corr_w_pro].shape[0])\n",
    "print('UnCorr rows with chem pro vec: ', df1[uncorr_w_pro].shape[0])\n",
    "print()\n",
    "\n",
    "# Phen vecs\n",
    "phendisHP = df1.disPhenVecHP.map(lambda x: x != empty_vec)\n",
    "phendisMP = df1.disPhenVecMP.map(lambda x: x != empty_vec)\n",
    "corr_w_HP = phendisHP & corr_rows\n",
    "uncorr_w_HP = phendisHP & uncorr\n",
    "corr_w_MP = phendisMP & corr_rows\n",
    "uncorr_w_MP = phendisMP & uncorr\n",
    "print('Corr rows with HP vec: ', df1[corr_w_HP].shape[0])\n",
    "print('UnCorr rows with HP vec: ', df1[uncorr_w_HP].shape[0])\n",
    "print('Corr rows with MP vec: ', df1[corr_w_MP].shape[0])\n",
    "print('UnCorr rows with MP vec: ', df1[uncorr_w_MP].shape[0])\n",
    "print()\n",
    "\n",
    "# HINO vecs\n",
    "hin_c = df1.chem_HINOvec.map(lambda x: x != empty_vec)\n",
    "hin_d = df1.dis_HINOvec.map(lambda x: x != empty_vec)\n",
    "corr_w_hin_c = corr_rows & hin_c\n",
    "uncorr_w_hin_c = uncorr & hin_c\n",
    "corr_w_hin_d = corr_rows & hin_d\n",
    "uncorr_w_hin_d = uncorr & hin_d\n",
    "print('Corr rows with Hino chm vec: ', df1[corr_w_hin_c].shape[0])\n",
    "print('UnCorr rows with Hino chm vec: ', df1[uncorr_w_hin_c].shape[0])\n",
    "print('Corr rows with Hino dis vec: ', df1[corr_w_hin_d].shape[0])\n",
    "print('UnCorr rows with Hino dis vec: ', df1[uncorr_w_hin_d].shape[0])\n",
    "print()\n",
    "\n",
    "# CHEBI\n",
    "cheb = df1.CHEBIvec.map(lambda x: x != empty_vec)\n",
    "corr_w_cheb = corr_rows & cheb\n",
    "uncorr_w_cheb = uncorr & cheb\n",
    "print('Corr rows with CHEBI vec: ', df1[corr_w_cheb].shape[0])\n",
    "print('UnCorr rows with CHEBI vec: ', df1[uncorr_w_cheb].shape[0])\n",
    "print()"
   ]
  },
  {
   "cell_type": "markdown",
   "metadata": {},
   "source": [
    "#### Optionally chop out rows so that number with each type of vec is balanced"
   ]
  },
  {
   "cell_type": "code",
   "execution_count": 225,
   "metadata": {},
   "outputs": [],
   "source": [
    "# Hdis = 3000\n",
    "# HP = 3000"
   ]
  },
  {
   "cell_type": "code",
   "execution_count": 226,
   "metadata": {},
   "outputs": [],
   "source": [
    "# # Create separate dfs of dis-vecs and chem-vecs ( in order to generate additional rows for df1)\n",
    "# dis = df.ID.map(lambda x: ('MESH' in x) | ('OMIM' in x))\n",
    "# chems = df.ID.map(lambda x: ('MESH' not in x) & ('OMIM' not in x))\n",
    "\n",
    "# df_chems = df[chems]\n",
    "# df_dis = df[dis]\n",
    "# df_chems = df_chems.reset_index(drop=True)\n",
    "# df_dis = df_dis.reset_index(drop=True)"
   ]
  },
  {
   "cell_type": "code",
   "execution_count": 227,
   "metadata": {},
   "outputs": [],
   "source": [
    "# # Add unrelated pairs to df1\n",
    "# no_rows = (df1.shape[0]-1) * 4 # This is a parameter to be tuned --> how many uncorrelated pairs do we want\n",
    "# print('shape: ', no_rows)\n",
    "\n",
    "# # Make list to check chem-dis pos assocs against\n",
    "# chem_dis_pos_assocs = list(chem_dis['ChemicalID'] + chem_dis['DiseaseID'])\n",
    "\n",
    "# # Randomly select chems and diseases (as many as there are related pairs)\n",
    "# no_chems = len(df_chems) -1\n",
    "# no_dis = len(df_dis) -1\n",
    "# rand_chems = np.random.choice(no_chems, no_rows, replace=True)\n",
    "# rand_dis = np.random.choice(no_dis, no_rows, replace=True)\n",
    "\n",
    "# # Add the new pairs as rows\n",
    "# for x in range(0, no_rows):\n",
    "#     int1 = rand_chems[x]\n",
    "#     int2 = rand_dis[x]\n",
    "#     chem, chemvec, cheb, chin, cpro = df1.loc[int1, 'ChemicalID'], df1.loc[int1, 'CVec'], df1.loc[int1, 'CHEBIvec'], df1.loc[int1, 'chem_HINOvec'], df1.loc[int1, 'chem_PROvec']\n",
    "#     dis, disvec, mp, hp, do, dhin, dispro = df1.loc[int2, 'DiseaseID'], df1.loc[int2, 'DVec'], df1.loc[int2, 'disPhenVecMP'], df1.loc[int2, 'disPhenVecHP'], df1.loc[int2, 'DOvec'], df1.loc[int2, 'dis_HINOvec'], df1.loc[int2, 'dis_PROvec']\n",
    "#     if (chem + dis not in chem_dis_pos_assocs):\n",
    "#         df1 = df1.append({'ChemicalID':chem, 'DiseaseID':dis, 'CVec':chemvec, 'DVec':disvec, 'Correlation':0, \n",
    "#                           'disPhenVecMP': mp, 'disPhenVecHP':hp, 'CHEBIvec':cheb, 'DOvec':do, \n",
    "#                          'dis_HINOvec': dhin, 'chem_HINOvec':chin, 'dis_PROvec':dispro, 'chem_PROvec': cpro}, ignore_index=True)\n",
    "\n",
    "# print(df1.shape)\n",
    "# # Drop any duplicates (removes known correlated pairs accidentally generated as uncorrelated)\n",
    "# df1 = df1.drop_duplicates(subset=['ChemicalID', 'DiseaseID'], keep=False)\n",
    "# print(df1.shape)\n"
   ]
  },
  {
   "cell_type": "code",
   "execution_count": 228,
   "metadata": {},
   "outputs": [],
   "source": [
    "# # Print stuff\n",
    "# # \n",
    "# print('Total Rows: ', df1.shape[0])\n",
    "# corr_rows = df1.Correlation == 1\n",
    "# uncorr = df1.Correlation == 0\n",
    "# print('Num corr rows: ', df1[corr_rows].shape[0])\n",
    "# print('Num uncorr rows: ', df1[uncorr].shape[0])\n",
    "# print()\n",
    "\n",
    "# # PRO vecs\n",
    "# have_chemv = df1.chem_PROvec.map(lambda x: x != empty_vec)\n",
    "# print('Have chem pro vec: ', df1[have_chemv].shape[0])\n",
    "# print('Have dis pro vec: ', df1[df1.dis_PROvec.map(lambda x: x != empty_vec)].shape[0])\n",
    "# corr_w_pro = have_chemv & corr_rows\n",
    "# uncorr_w_pro = have_chemv & uncorr\n",
    "# print('Corr rows with chem pro vec: ', df1[corr_w_pro].shape[0])\n",
    "# print('UnCorr rows with chem pro vec: ', df1[uncorr_w_pro].shape[0])\n",
    "# print()\n",
    "\n",
    "# # Phen vecs\n",
    "# phendisHP = df1.disPhenVecHP.map(lambda x: x != empty_vec)\n",
    "# phendisMP = df1.disPhenVecMP.map(lambda x: x != empty_vec)\n",
    "# corr_w_HP = phendisHP & corr_rows\n",
    "# uncorr_w_HP = phendisHP & uncorr\n",
    "# corr_w_MP = phendisMP & corr_rows\n",
    "# uncorr_w_MP = phendisMP & uncorr\n",
    "# print('Corr rows with HP vec: ', df1[corr_w_HP].shape[0])\n",
    "# print('UnCorr rows with HP vec: ', df1[uncorr_w_HP].shape[0])\n",
    "# print('Corr rows with MP vec: ', df1[corr_w_MP].shape[0])\n",
    "# print('UnCorr rows with MP vec: ', df1[uncorr_w_MP].shape[0])\n",
    "# print()\n",
    "\n",
    "# # HINO vecs\n",
    "# hin_c = df1.chem_HINOvec.map(lambda x: x != empty_vec)\n",
    "# hin_d = df1.dis_HINOvec.map(lambda x: x != empty_vec)\n",
    "# corr_w_hin_c = corr_rows & hin_c\n",
    "# uncorr_w_hin_c = uncorr & hin_c\n",
    "# corr_w_hin_d = corr_rows & hin_d\n",
    "# uncorr_w_hin_d = uncorr & hin_d\n",
    "# print('Corr rows with Hino chm vec: ', df1[corr_w_hin_c].shape[0])\n",
    "# print('UnCorr rows with Hino chm vec: ', df1[uncorr_w_hin_c].shape[0])\n",
    "# print('Corr rows with Hino dis vec: ', df1[corr_w_hin_d].shape[0])\n",
    "# print('UnCorr rows with Hino dis vec: ', df1[uncorr_w_hin_d].shape[0])\n",
    "# print()\n",
    "\n",
    "# # CHEBI\n",
    "# cheb = df1.CHEBIvec.map(lambda x: x != empty_vec)\n",
    "# corr_w_cheb = corr_rows & cheb\n",
    "# uncorr_w_cheb = uncorr & cheb\n",
    "# print('Corr rows with CHEBI vec: ', df1[corr_w_cheb].shape[0])\n",
    "# print('UnCorr rows with CHEBI vec: ', df1[uncorr_w_cheb].shape[0])\n",
    "# print()"
   ]
  },
  {
   "cell_type": "code",
   "execution_count": 229,
   "metadata": {},
   "outputs": [],
   "source": [
    "# df1 = df1[df1.ChemicalID.map(lambda x: ('D0' in x) | ('C0' in x))]"
   ]
  },
  {
   "cell_type": "code",
   "execution_count": 230,
   "metadata": {},
   "outputs": [],
   "source": [
    "# df1 = df1[df1.chem_HINOvec.map(lambda x: x != empty_vec)]\n",
    "# df1 = df1[df1.dis_HINOvec.map(lambda x: x != empty_vec)]\n",
    "# df1 = df1[df1.chem_PROvec.map(lambda x: x != empty_vec)]\n",
    "# df1 = df1[df1.dis_PROvec.map(lambda x: x != empty_vec)]\n",
    "# print('Total Rows: ', df1.shape[0])\n",
    "# corr_rows = df1.Correlation == 1\n",
    "# uncorr = df1.Correlation == 0\n",
    "# print('Num corr rows: ', df1[corr_rows].shape[0])\n",
    "# print('Num uncorr rows: ', df1[uncorr].shape[0])\n"
   ]
  },
  {
   "cell_type": "code",
   "execution_count": 231,
   "metadata": {},
   "outputs": [
    {
     "data": {
      "text/html": [
       "<div>\n",
       "<style scoped>\n",
       "    .dataframe tbody tr th:only-of-type {\n",
       "        vertical-align: middle;\n",
       "    }\n",
       "\n",
       "    .dataframe tbody tr th {\n",
       "        vertical-align: top;\n",
       "    }\n",
       "\n",
       "    .dataframe thead th {\n",
       "        text-align: right;\n",
       "    }\n",
       "</style>\n",
       "<table border=\"1\" class=\"dataframe\">\n",
       "  <thead>\n",
       "    <tr style=\"text-align: right;\">\n",
       "      <th></th>\n",
       "      <th>ChemicalID</th>\n",
       "      <th>DiseaseID</th>\n",
       "      <th>DVec</th>\n",
       "      <th>CVec</th>\n",
       "      <th>Correlation</th>\n",
       "      <th>DOID</th>\n",
       "      <th>disPhenVecMP</th>\n",
       "      <th>disPhenVecHP</th>\n",
       "      <th>chemPhenVecHP</th>\n",
       "      <th>chemPhenVecMP</th>\n",
       "      <th>CHEBIvec</th>\n",
       "      <th>DOvec</th>\n",
       "      <th>dis_HINOvec</th>\n",
       "      <th>chem_HINOvec</th>\n",
       "      <th>dis_PROvec</th>\n",
       "      <th>chem_PROvec</th>\n",
       "    </tr>\n",
       "  </thead>\n",
       "  <tbody>\n",
       "    <tr>\n",
       "      <th>9081</th>\n",
       "      <td>C436526</td>\n",
       "      <td>MESH:C566825</td>\n",
       "      <td>[-0.0218162, 0.09646672, 0.01468978, -0.112053...</td>\n",
       "      <td>[0.0193420742, 0.140989363, 0.0341041274, -0.1...</td>\n",
       "      <td>0</td>\n",
       "      <td>nan</td>\n",
       "      <td>[0.0, 0.0, 0.0, 0.0, 0.0, 0.0, 0.0, 0.0, 0.0, ...</td>\n",
       "      <td>[0.0, 0.0, 0.0, 0.0, 0.0, 0.0, 0.0, 0.0, 0.0, ...</td>\n",
       "      <td>[0.0, 0.0, 0.0, 0.0, 0.0, 0.0, 0.0, 0.0, 0.0, ...</td>\n",
       "      <td>[0.0, 0.0, 0.0, 0.0, 0.0, 0.0, 0.0, 0.0, 0.0, ...</td>\n",
       "      <td>[0.0, 0.0, 0.0, 0.0, 0.0, 0.0, 0.0, 0.0, 0.0, ...</td>\n",
       "      <td>[0.0020415881, 0.0039064325, 0.0034907644, -0....</td>\n",
       "      <td>[0.0, 0.0, 0.0, 0.0, 0.0, 0.0, 0.0, 0.0, 0.0, ...</td>\n",
       "      <td>[0.0125607233, 0.0466667935, 0.00689049065, -0...</td>\n",
       "      <td>[0.01452159, 0.05400888, 0.03042794, -0.052060...</td>\n",
       "      <td>[0.01797148, 0.0754578, 0.03839778, -0.0623064...</td>\n",
       "    </tr>\n",
       "    <tr>\n",
       "      <th>8521</th>\n",
       "      <td>D003847</td>\n",
       "      <td>MESH:D015427</td>\n",
       "      <td>[-0.09266015, 0.03225973, -0.2103022, -0.04921...</td>\n",
       "      <td>[-0.00093696249, 0.114837073, 0.0202232748, -0...</td>\n",
       "      <td>1</td>\n",
       "      <td>nan</td>\n",
       "      <td>[0.0, 0.0, 0.0, 0.0, 0.0, 0.0, 0.0, 0.0, 0.0, ...</td>\n",
       "      <td>[0.0, 0.0, 0.0, 0.0, 0.0, 0.0, 0.0, 0.0, 0.0, ...</td>\n",
       "      <td>[0.0, 0.0, 0.0, 0.0, 0.0, 0.0, 0.0, 0.0, 0.0, ...</td>\n",
       "      <td>[0.0, 0.0, 0.0, 0.0, 0.0, 0.0, 0.0, 0.0, 0.0, ...</td>\n",
       "      <td>[0.0, 0.0, 0.0, 0.0, 0.0, 0.0, 0.0, 0.0, 0.0, ...</td>\n",
       "      <td>[-0.00096541998, 0.00036513724, -0.0017090936,...</td>\n",
       "      <td>[0.0233287159, 0.0835725367, 0.0433639288, -0....</td>\n",
       "      <td>[0.0, 0.0, 0.0, 0.0, 0.0, 0.0, 0.0, 0.0, 0.0, ...</td>\n",
       "      <td>[-0.00958176982, 0.132991359, 0.110638149, -0....</td>\n",
       "      <td>[0.00479426, 0.04632955, 0.03276774, -0.048002...</td>\n",
       "    </tr>\n",
       "    <tr>\n",
       "      <th>15486</th>\n",
       "      <td>C007738</td>\n",
       "      <td>OMIM:614935</td>\n",
       "      <td>[0.0332865007, 0.120494321, 0.0547929294, -0.1...</td>\n",
       "      <td>[-0.0473816656, -0.149341702, -0.419181824, -0...</td>\n",
       "      <td>0</td>\n",
       "      <td>DOID_0110608</td>\n",
       "      <td>[0.0, 0.0, 0.0, 0.0, 0.0, 0.0, 0.0, 0.0, 0.0, ...</td>\n",
       "      <td>[0.0, 0.0, 0.0, 0.0, 0.0, 0.0, 0.0, 0.0, 0.0, ...</td>\n",
       "      <td>[0.0, 0.0, 0.0, 0.0, 0.0, 0.0, 0.0, 0.0, 0.0, ...</td>\n",
       "      <td>[0.0, 0.0, 0.0, 0.0, 0.0, 0.0, 0.0, 0.0, 0.0, ...</td>\n",
       "      <td>[0.0, 0.0, 0.0, 0.0, 0.0, 0.0, 0.0, 0.0, 0.0, ...</td>\n",
       "      <td>[0.00640764, 0.05816788, 0.03004107, -0.057004...</td>\n",
       "      <td>[0.0, 0.0, 0.0, 0.0, 0.0, 0.0, 0.0, 0.0, 0.0, ...</td>\n",
       "      <td>[0.02335687, 0.13631171, 0.05245934, -0.132154...</td>\n",
       "      <td>[0.00542273, 0.03291503, 0.03110102, -0.041141...</td>\n",
       "      <td>[-0.04381387, 0.23100519, 0.27509958, -0.24436...</td>\n",
       "    </tr>\n",
       "    <tr>\n",
       "      <th>6073</th>\n",
       "      <td>D002945</td>\n",
       "      <td>MESH:D013733</td>\n",
       "      <td>[0.000124373342, 0.110306442, -0.0300721526, -...</td>\n",
       "      <td>[0.01885006, -0.12778029, -0.57853353, -0.1379...</td>\n",
       "      <td>1</td>\n",
       "      <td>DOID_2519</td>\n",
       "      <td>[0.03822435, 0.15423828, 0.06759723, -0.125717...</td>\n",
       "      <td>[0.04194192, 0.15177831, 0.05767271, -0.114819...</td>\n",
       "      <td>[0.0, 0.0, 0.0, 0.0, 0.0, 0.0, 0.0, 0.0, 0.0, ...</td>\n",
       "      <td>[0.0, 0.0, 0.0, 0.0, 0.0, 0.0, 0.0, 0.0, 0.0, ...</td>\n",
       "      <td>[0.00923888, 0.05281729, 0.01388526, -0.048642...</td>\n",
       "      <td>[0.02459252, 0.07756886, 0.03826168, -0.060023...</td>\n",
       "      <td>[0.01121192, 0.06420488, 0.02495158, -0.060031...</td>\n",
       "      <td>[0.05022775, 0.14193472, 0.05506332, -0.166368...</td>\n",
       "      <td>[0.01779378, 0.07656814, 0.04537862, -0.068434...</td>\n",
       "      <td>[-0.00405814, 0.23408134, 0.43241173, -0.28472...</td>\n",
       "    </tr>\n",
       "    <tr>\n",
       "      <th>5295</th>\n",
       "      <td>D002330</td>\n",
       "      <td>MESH:D014786</td>\n",
       "      <td>[0.01232471, 0.11261591, 0.0534047, -0.1366017...</td>\n",
       "      <td>[0.03274909, 0.11206996, 0.07004723, -0.131271...</td>\n",
       "      <td>1</td>\n",
       "      <td>nan</td>\n",
       "      <td>[0.0, 0.0, 0.0, 0.0, 0.0, 0.0, 0.0, 0.0, 0.0, ...</td>\n",
       "      <td>[0.0, 0.0, 0.0, 0.0, 0.0, 0.0, 0.0, 0.0, 0.0, ...</td>\n",
       "      <td>[0.0, 0.0, 0.0, 0.0, 0.0, 0.0, 0.0, 0.0, 0.0, ...</td>\n",
       "      <td>[0.0, 0.0, 0.0, 0.0, 0.0, 0.0, 0.0, 0.0, 0.0, ...</td>\n",
       "      <td>[0.0, 0.0, 0.0, 0.0, 0.0, 0.0, 0.0, 0.0, 0.0, ...</td>\n",
       "      <td>[0.0168399662, 0.036821831, 0.0174113549, -0.0...</td>\n",
       "      <td>[0.0, 0.0, 0.0, 0.0, 0.0, 0.0, 0.0, 0.0, 0.0, ...</td>\n",
       "      <td>[0.01817147, 0.04531782, 0.01694135, -0.049951...</td>\n",
       "      <td>[0.00843999162, 0.0829844922, 0.0452356227, -0...</td>\n",
       "      <td>[0.01827934, 0.05094193, 0.03299038, -0.037763...</td>\n",
       "    </tr>\n",
       "  </tbody>\n",
       "</table>\n",
       "</div>"
      ],
      "text/plain": [
       "      ChemicalID     DiseaseID  \\\n",
       "9081     C436526  MESH:C566825   \n",
       "8521     D003847  MESH:D015427   \n",
       "15486    C007738   OMIM:614935   \n",
       "6073     D002945  MESH:D013733   \n",
       "5295     D002330  MESH:D014786   \n",
       "\n",
       "                                                    DVec  \\\n",
       "9081   [-0.0218162, 0.09646672, 0.01468978, -0.112053...   \n",
       "8521   [-0.09266015, 0.03225973, -0.2103022, -0.04921...   \n",
       "15486  [0.0332865007, 0.120494321, 0.0547929294, -0.1...   \n",
       "6073   [0.000124373342, 0.110306442, -0.0300721526, -...   \n",
       "5295   [0.01232471, 0.11261591, 0.0534047, -0.1366017...   \n",
       "\n",
       "                                                    CVec  Correlation  \\\n",
       "9081   [0.0193420742, 0.140989363, 0.0341041274, -0.1...            0   \n",
       "8521   [-0.00093696249, 0.114837073, 0.0202232748, -0...            1   \n",
       "15486  [-0.0473816656, -0.149341702, -0.419181824, -0...            0   \n",
       "6073   [0.01885006, -0.12778029, -0.57853353, -0.1379...            1   \n",
       "5295   [0.03274909, 0.11206996, 0.07004723, -0.131271...            1   \n",
       "\n",
       "               DOID                                       disPhenVecMP  \\\n",
       "9081            nan  [0.0, 0.0, 0.0, 0.0, 0.0, 0.0, 0.0, 0.0, 0.0, ...   \n",
       "8521            nan  [0.0, 0.0, 0.0, 0.0, 0.0, 0.0, 0.0, 0.0, 0.0, ...   \n",
       "15486  DOID_0110608  [0.0, 0.0, 0.0, 0.0, 0.0, 0.0, 0.0, 0.0, 0.0, ...   \n",
       "6073      DOID_2519  [0.03822435, 0.15423828, 0.06759723, -0.125717...   \n",
       "5295            nan  [0.0, 0.0, 0.0, 0.0, 0.0, 0.0, 0.0, 0.0, 0.0, ...   \n",
       "\n",
       "                                            disPhenVecHP  \\\n",
       "9081   [0.0, 0.0, 0.0, 0.0, 0.0, 0.0, 0.0, 0.0, 0.0, ...   \n",
       "8521   [0.0, 0.0, 0.0, 0.0, 0.0, 0.0, 0.0, 0.0, 0.0, ...   \n",
       "15486  [0.0, 0.0, 0.0, 0.0, 0.0, 0.0, 0.0, 0.0, 0.0, ...   \n",
       "6073   [0.04194192, 0.15177831, 0.05767271, -0.114819...   \n",
       "5295   [0.0, 0.0, 0.0, 0.0, 0.0, 0.0, 0.0, 0.0, 0.0, ...   \n",
       "\n",
       "                                           chemPhenVecHP  \\\n",
       "9081   [0.0, 0.0, 0.0, 0.0, 0.0, 0.0, 0.0, 0.0, 0.0, ...   \n",
       "8521   [0.0, 0.0, 0.0, 0.0, 0.0, 0.0, 0.0, 0.0, 0.0, ...   \n",
       "15486  [0.0, 0.0, 0.0, 0.0, 0.0, 0.0, 0.0, 0.0, 0.0, ...   \n",
       "6073   [0.0, 0.0, 0.0, 0.0, 0.0, 0.0, 0.0, 0.0, 0.0, ...   \n",
       "5295   [0.0, 0.0, 0.0, 0.0, 0.0, 0.0, 0.0, 0.0, 0.0, ...   \n",
       "\n",
       "                                           chemPhenVecMP  \\\n",
       "9081   [0.0, 0.0, 0.0, 0.0, 0.0, 0.0, 0.0, 0.0, 0.0, ...   \n",
       "8521   [0.0, 0.0, 0.0, 0.0, 0.0, 0.0, 0.0, 0.0, 0.0, ...   \n",
       "15486  [0.0, 0.0, 0.0, 0.0, 0.0, 0.0, 0.0, 0.0, 0.0, ...   \n",
       "6073   [0.0, 0.0, 0.0, 0.0, 0.0, 0.0, 0.0, 0.0, 0.0, ...   \n",
       "5295   [0.0, 0.0, 0.0, 0.0, 0.0, 0.0, 0.0, 0.0, 0.0, ...   \n",
       "\n",
       "                                                CHEBIvec  \\\n",
       "9081   [0.0, 0.0, 0.0, 0.0, 0.0, 0.0, 0.0, 0.0, 0.0, ...   \n",
       "8521   [0.0, 0.0, 0.0, 0.0, 0.0, 0.0, 0.0, 0.0, 0.0, ...   \n",
       "15486  [0.0, 0.0, 0.0, 0.0, 0.0, 0.0, 0.0, 0.0, 0.0, ...   \n",
       "6073   [0.00923888, 0.05281729, 0.01388526, -0.048642...   \n",
       "5295   [0.0, 0.0, 0.0, 0.0, 0.0, 0.0, 0.0, 0.0, 0.0, ...   \n",
       "\n",
       "                                                   DOvec  \\\n",
       "9081   [0.0020415881, 0.0039064325, 0.0034907644, -0....   \n",
       "8521   [-0.00096541998, 0.00036513724, -0.0017090936,...   \n",
       "15486  [0.00640764, 0.05816788, 0.03004107, -0.057004...   \n",
       "6073   [0.02459252, 0.07756886, 0.03826168, -0.060023...   \n",
       "5295   [0.0168399662, 0.036821831, 0.0174113549, -0.0...   \n",
       "\n",
       "                                             dis_HINOvec  \\\n",
       "9081   [0.0, 0.0, 0.0, 0.0, 0.0, 0.0, 0.0, 0.0, 0.0, ...   \n",
       "8521   [0.0233287159, 0.0835725367, 0.0433639288, -0....   \n",
       "15486  [0.0, 0.0, 0.0, 0.0, 0.0, 0.0, 0.0, 0.0, 0.0, ...   \n",
       "6073   [0.01121192, 0.06420488, 0.02495158, -0.060031...   \n",
       "5295   [0.0, 0.0, 0.0, 0.0, 0.0, 0.0, 0.0, 0.0, 0.0, ...   \n",
       "\n",
       "                                            chem_HINOvec  \\\n",
       "9081   [0.0125607233, 0.0466667935, 0.00689049065, -0...   \n",
       "8521   [0.0, 0.0, 0.0, 0.0, 0.0, 0.0, 0.0, 0.0, 0.0, ...   \n",
       "15486  [0.02335687, 0.13631171, 0.05245934, -0.132154...   \n",
       "6073   [0.05022775, 0.14193472, 0.05506332, -0.166368...   \n",
       "5295   [0.01817147, 0.04531782, 0.01694135, -0.049951...   \n",
       "\n",
       "                                              dis_PROvec  \\\n",
       "9081   [0.01452159, 0.05400888, 0.03042794, -0.052060...   \n",
       "8521   [-0.00958176982, 0.132991359, 0.110638149, -0....   \n",
       "15486  [0.00542273, 0.03291503, 0.03110102, -0.041141...   \n",
       "6073   [0.01779378, 0.07656814, 0.04537862, -0.068434...   \n",
       "5295   [0.00843999162, 0.0829844922, 0.0452356227, -0...   \n",
       "\n",
       "                                             chem_PROvec  \n",
       "9081   [0.01797148, 0.0754578, 0.03839778, -0.0623064...  \n",
       "8521   [0.00479426, 0.04632955, 0.03276774, -0.048002...  \n",
       "15486  [-0.04381387, 0.23100519, 0.27509958, -0.24436...  \n",
       "6073   [-0.00405814, 0.23408134, 0.43241173, -0.28472...  \n",
       "5295   [0.01827934, 0.05094193, 0.03299038, -0.037763...  "
      ]
     },
     "execution_count": 231,
     "metadata": {},
     "output_type": "execute_result"
    }
   ],
   "source": [
    "df1.sample(5)"
   ]
  },
  {
   "cell_type": "markdown",
   "metadata": {},
   "source": [
    "### 2. Preprocess\n",
    "Now that we have the df ready, let's split it into train/test/validation sets and convert it into numpy arrays so it can be consumed by a Keras NN"
   ]
  },
  {
   "cell_type": "code",
   "execution_count": 232,
   "metadata": {},
   "outputs": [
    {
     "name": "stdout",
     "output_type": "stream",
     "text": [
      "8920\n",
      "(17739, 16)\n"
     ]
    }
   ],
   "source": [
    "print(df1[df1.Correlation == 1].shape[0])\n",
    "print(df1.shape)"
   ]
  },
  {
   "cell_type": "code",
   "execution_count": 233,
   "metadata": {},
   "outputs": [],
   "source": [
    "# del df1['chemPhenVecHP']\n",
    "# del df1['chemPhenVecMP']"
   ]
  },
  {
   "cell_type": "code",
   "execution_count": 234,
   "metadata": {},
   "outputs": [
    {
     "name": "stdout",
     "output_type": "stream",
     "text": [
      "8920\n",
      "8819\n",
      "(17739, 16)\n"
     ]
    }
   ],
   "source": [
    "print(df1[df1.Correlation == 1].shape[0])\n",
    "print(df1[df1.Correlation == 0].shape[0])\n",
    "print(df1.shape)"
   ]
  },
  {
   "cell_type": "code",
   "execution_count": 235,
   "metadata": {},
   "outputs": [],
   "source": [
    "# # Remove sparsity to ensure even distribution for validation set\\\n",
    "\n",
    "# cols = ['DVec', 'CVec', 'dis_HINOvec', 'chem_HINOvec']\n",
    "\n",
    "# for col in cols:\n",
    "#     df1[col] = df1[col].map(lambda x: np.nan if x == empty_vec else x)\n",
    "    \n",
    "# df1 = df1.dropna(subset=cols)"
   ]
  },
  {
   "cell_type": "code",
   "execution_count": null,
   "metadata": {},
   "outputs": [],
   "source": []
  },
  {
   "cell_type": "code",
   "execution_count": null,
   "metadata": {},
   "outputs": [],
   "source": []
  },
  {
   "cell_type": "code",
   "execution_count": null,
   "metadata": {},
   "outputs": [],
   "source": []
  },
  {
   "cell_type": "code",
   "execution_count": null,
   "metadata": {},
   "outputs": [],
   "source": []
  },
  {
   "cell_type": "code",
   "execution_count": 236,
   "metadata": {},
   "outputs": [],
   "source": [
    "# Version for GoFuncs, DIS-Phens, CHEBI, DO, HINO, PRO\n",
    "# For Keras, need to turn inputs into numpy arrays instead of pandas df\n",
    "# First create single np array of all vecs... not pretty:\n",
    "Dvecs = pd.DataFrame(df1.DVec.values.tolist(), index= df1.index)\n",
    "Cvecs = pd.DataFrame(df1.CVec.values.tolist(), index= df1.index)\n",
    "gofuncs = Dvecs.merge(Cvecs, how='outer', left_index=True, right_index=True)\n",
    "\n",
    "# all_X = Dvecs.merge(Cvecs, how='outer', left_index=True, right_index=True)\n",
    "DMPvecs = pd.DataFrame(df1.disPhenVecHP.values.tolist(), index= df1.index)\n",
    "DHPvecs = pd.DataFrame(df1.disPhenVecMP.values.tolist(), index= df1.index)\n",
    "disPvecs = DMPvecs.merge(DHPvecs, how='outer', left_index=True, right_index=True)\n",
    "all_X = disPvecs.merge(gofuncs, how='outer', left_index=True, right_index=True)\n",
    "\n",
    "CHEBvecs = pd.DataFrame(df1.CHEBIvec.values.tolist(), index = df1.index)\n",
    "all_X = CHEBvecs.merge(all_X, how='outer', left_index=True, right_index=True)\n",
    "\n",
    "DOvecs = pd.DataFrame(df1.DOvec.values.tolist(), index = df1.index)\n",
    "all_X = DOvecs.merge(all_X, how='outer', left_index=True, right_index=True)\n",
    "\n",
    "dHINOvecs = pd.DataFrame(df1.dis_HINOvec.values.tolist(), index=df1.index)\n",
    "cHINOvecs = pd.DataFrame(df1.chem_HINOvec.values.tolist(), index=df1.index)\n",
    "hinovecs = cHINOvecs.merge(dHINOvecs, how='outer', left_index=True, right_index=True)\n",
    "all_X = all_X.merge(hinovecs, how='outer', left_index=True, right_index=True)\n",
    "\n",
    "dPROvecs = pd.DataFrame(df1.dis_PROvec.values.tolist(), index=df1.index)\n",
    "cPROvecs = pd.DataFrame(df1.chem_PROvec.values.tolist(), index=df1.index)\n",
    "PROvecs = cPROvecs.merge(dPROvecs, how='outer', left_index=True, right_index=True)\n",
    "all_X = PROvecs.merge(all_X, how='outer', left_index=True, right_index=True)\n",
    "\n",
    "all_X = np.array(all_X)"
   ]
  },
  {
   "cell_type": "code",
   "execution_count": 237,
   "metadata": {},
   "outputs": [],
   "source": [
    "# Now create np array of the y output\n",
    "all_y = np.array(df1.Correlation)"
   ]
  },
  {
   "cell_type": "code",
   "execution_count": 238,
   "metadata": {},
   "outputs": [
    {
     "name": "stdout",
     "output_type": "stream",
     "text": [
      "y shape:  (17739,)\n",
      "X shape:  (17739, 2000)\n"
     ]
    }
   ],
   "source": [
    "print('y shape: ', all_y.shape)\n",
    "print('X shape: ', all_X.shape)\n",
    "# y shape:  (17675,)\n",
    "# X shape:  (17675, 2000)"
   ]
  },
  {
   "cell_type": "code",
   "execution_count": 239,
   "metadata": {},
   "outputs": [
    {
     "data": {
      "text/html": [
       "<div>\n",
       "<style scoped>\n",
       "    .dataframe tbody tr th:only-of-type {\n",
       "        vertical-align: middle;\n",
       "    }\n",
       "\n",
       "    .dataframe tbody tr th {\n",
       "        vertical-align: top;\n",
       "    }\n",
       "\n",
       "    .dataframe thead th {\n",
       "        text-align: right;\n",
       "    }\n",
       "</style>\n",
       "<table border=\"1\" class=\"dataframe\">\n",
       "  <thead>\n",
       "    <tr style=\"text-align: right;\">\n",
       "      <th></th>\n",
       "      <th>ChemicalID</th>\n",
       "      <th>DiseaseID</th>\n",
       "      <th>DVec</th>\n",
       "      <th>CVec</th>\n",
       "      <th>Correlation</th>\n",
       "      <th>DOID</th>\n",
       "      <th>disPhenVecMP</th>\n",
       "      <th>disPhenVecHP</th>\n",
       "      <th>chemPhenVecHP</th>\n",
       "      <th>chemPhenVecMP</th>\n",
       "      <th>CHEBIvec</th>\n",
       "      <th>DOvec</th>\n",
       "      <th>dis_HINOvec</th>\n",
       "      <th>chem_HINOvec</th>\n",
       "      <th>dis_PROvec</th>\n",
       "      <th>chem_PROvec</th>\n",
       "    </tr>\n",
       "  </thead>\n",
       "  <tbody>\n",
       "    <tr>\n",
       "      <th>3424</th>\n",
       "      <td>C009495</td>\n",
       "      <td>MESH:D001835</td>\n",
       "      <td>[0.00920603145, 0.0973070934, 0.0351556689, -0...</td>\n",
       "      <td>[-0.00726648467, 0.126510739, 0.0170243476, -0...</td>\n",
       "      <td>1</td>\n",
       "      <td>nan</td>\n",
       "      <td>[0.0, 0.0, 0.0, 0.0, 0.0, 0.0, 0.0, 0.0, 0.0, ...</td>\n",
       "      <td>[0.0, 0.0, 0.0, 0.0, 0.0, 0.0, 0.0, 0.0, 0.0, ...</td>\n",
       "      <td>[0.0, 0.0, 0.0, 0.0, 0.0, 0.0, 0.0, 0.0, 0.0, ...</td>\n",
       "      <td>[0.0, 0.0, 0.0, 0.0, 0.0, 0.0, 0.0, 0.0, 0.0, ...</td>\n",
       "      <td>[0.01673228, 0.05107352, 0.01984135, -0.049368...</td>\n",
       "      <td>[0.0045896, 0.02945916, 0.00977231, -0.0335088...</td>\n",
       "      <td>[0.0, 0.0, 0.0, 0.0, 0.0, 0.0, 0.0, 0.0, 0.0, ...</td>\n",
       "      <td>[0.0, 0.0, 0.0, 0.0, 0.0, 0.0, 0.0, 0.0, 0.0, ...</td>\n",
       "      <td>[0.0242674723, 0.0854913816, 0.0378196873, -0....</td>\n",
       "      <td>[0.033739455, 0.126468658, 0.0904662684, -0.11...</td>\n",
       "    </tr>\n",
       "    <tr>\n",
       "      <th>2205</th>\n",
       "      <td>D001194</td>\n",
       "      <td>MESH:C562839</td>\n",
       "      <td>[-0.03189189, 0.00939296, -0.1440971, -0.09915...</td>\n",
       "      <td>[0.0397586301, 0.105873264, 0.0360510647, -0.1...</td>\n",
       "      <td>1</td>\n",
       "      <td>DOID_1790</td>\n",
       "      <td>[0.03200772, 0.1405242, 0.06801394, -0.1178714...</td>\n",
       "      <td>[0.0491741747, 0.154045165, 0.0621893629, -0.1...</td>\n",
       "      <td>[0.0, 0.0, 0.0, 0.0, 0.0, 0.0, 0.0, 0.0, 0.0, ...</td>\n",
       "      <td>[0.0, 0.0, 0.0, 0.0, 0.0, 0.0, 0.0, 0.0, 0.0, ...</td>\n",
       "      <td>[0.0, 0.0, 0.0, 0.0, 0.0, 0.0, 0.0, 0.0, 0.0, ...</td>\n",
       "      <td>[0.021826, 0.07482538, 0.04337686, -0.07295986...</td>\n",
       "      <td>[0.04161753, 0.1094508, 0.03755989, -0.0991282...</td>\n",
       "      <td>[0.00258917, 0.03898792, 0.01614428, -0.031344...</td>\n",
       "      <td>[0.02636068, 0.15477355, 0.11189451, -0.129928...</td>\n",
       "      <td>[0.0131534599, 0.0363772437, 0.0259348322, -0....</td>\n",
       "    </tr>\n",
       "    <tr>\n",
       "      <th>5496</th>\n",
       "      <td>D003993</td>\n",
       "      <td>MESH:D003456</td>\n",
       "      <td>[0.00273001869, 0.129832447, 0.0416053273, -0....</td>\n",
       "      <td>[0.05619876, -0.06017747, -0.41497558, -0.0825...</td>\n",
       "      <td>1</td>\n",
       "      <td>DOID_11383</td>\n",
       "      <td>[0.0309984889, 0.133916512, 0.0567205362, -0.1...</td>\n",
       "      <td>[0.0446661636, 0.148599118, 0.0607150123, -0.1...</td>\n",
       "      <td>[0.0, 0.0, 0.0, 0.0, 0.0, 0.0, 0.0, 0.0, 0.0, ...</td>\n",
       "      <td>[0.0, 0.0, 0.0, 0.0, 0.0, 0.0, 0.0, 0.0, 0.0, ...</td>\n",
       "      <td>[0.0186632, 0.07480931, 0.02858875, -0.0976469...</td>\n",
       "      <td>[0.01917249, 0.07190599, 0.03014694, -0.061582...</td>\n",
       "      <td>[0.0310670231, 0.0634023249, 0.0275994539, -0....</td>\n",
       "      <td>[0.0281715784, 0.106752209, 0.0506532639, -0.1...</td>\n",
       "      <td>[0.00612793816, 0.0453494824, 0.0258907229, -0...</td>\n",
       "      <td>[-0.0190714281, 0.243215159, 0.264514625, -0.2...</td>\n",
       "    </tr>\n",
       "  </tbody>\n",
       "</table>\n",
       "</div>"
      ],
      "text/plain": [
       "     ChemicalID     DiseaseID  \\\n",
       "3424    C009495  MESH:D001835   \n",
       "2205    D001194  MESH:C562839   \n",
       "5496    D003993  MESH:D003456   \n",
       "\n",
       "                                                   DVec  \\\n",
       "3424  [0.00920603145, 0.0973070934, 0.0351556689, -0...   \n",
       "2205  [-0.03189189, 0.00939296, -0.1440971, -0.09915...   \n",
       "5496  [0.00273001869, 0.129832447, 0.0416053273, -0....   \n",
       "\n",
       "                                                   CVec  Correlation  \\\n",
       "3424  [-0.00726648467, 0.126510739, 0.0170243476, -0...            1   \n",
       "2205  [0.0397586301, 0.105873264, 0.0360510647, -0.1...            1   \n",
       "5496  [0.05619876, -0.06017747, -0.41497558, -0.0825...            1   \n",
       "\n",
       "            DOID                                       disPhenVecMP  \\\n",
       "3424         nan  [0.0, 0.0, 0.0, 0.0, 0.0, 0.0, 0.0, 0.0, 0.0, ...   \n",
       "2205   DOID_1790  [0.03200772, 0.1405242, 0.06801394, -0.1178714...   \n",
       "5496  DOID_11383  [0.0309984889, 0.133916512, 0.0567205362, -0.1...   \n",
       "\n",
       "                                           disPhenVecHP  \\\n",
       "3424  [0.0, 0.0, 0.0, 0.0, 0.0, 0.0, 0.0, 0.0, 0.0, ...   \n",
       "2205  [0.0491741747, 0.154045165, 0.0621893629, -0.1...   \n",
       "5496  [0.0446661636, 0.148599118, 0.0607150123, -0.1...   \n",
       "\n",
       "                                          chemPhenVecHP  \\\n",
       "3424  [0.0, 0.0, 0.0, 0.0, 0.0, 0.0, 0.0, 0.0, 0.0, ...   \n",
       "2205  [0.0, 0.0, 0.0, 0.0, 0.0, 0.0, 0.0, 0.0, 0.0, ...   \n",
       "5496  [0.0, 0.0, 0.0, 0.0, 0.0, 0.0, 0.0, 0.0, 0.0, ...   \n",
       "\n",
       "                                          chemPhenVecMP  \\\n",
       "3424  [0.0, 0.0, 0.0, 0.0, 0.0, 0.0, 0.0, 0.0, 0.0, ...   \n",
       "2205  [0.0, 0.0, 0.0, 0.0, 0.0, 0.0, 0.0, 0.0, 0.0, ...   \n",
       "5496  [0.0, 0.0, 0.0, 0.0, 0.0, 0.0, 0.0, 0.0, 0.0, ...   \n",
       "\n",
       "                                               CHEBIvec  \\\n",
       "3424  [0.01673228, 0.05107352, 0.01984135, -0.049368...   \n",
       "2205  [0.0, 0.0, 0.0, 0.0, 0.0, 0.0, 0.0, 0.0, 0.0, ...   \n",
       "5496  [0.0186632, 0.07480931, 0.02858875, -0.0976469...   \n",
       "\n",
       "                                                  DOvec  \\\n",
       "3424  [0.0045896, 0.02945916, 0.00977231, -0.0335088...   \n",
       "2205  [0.021826, 0.07482538, 0.04337686, -0.07295986...   \n",
       "5496  [0.01917249, 0.07190599, 0.03014694, -0.061582...   \n",
       "\n",
       "                                            dis_HINOvec  \\\n",
       "3424  [0.0, 0.0, 0.0, 0.0, 0.0, 0.0, 0.0, 0.0, 0.0, ...   \n",
       "2205  [0.04161753, 0.1094508, 0.03755989, -0.0991282...   \n",
       "5496  [0.0310670231, 0.0634023249, 0.0275994539, -0....   \n",
       "\n",
       "                                           chem_HINOvec  \\\n",
       "3424  [0.0, 0.0, 0.0, 0.0, 0.0, 0.0, 0.0, 0.0, 0.0, ...   \n",
       "2205  [0.00258917, 0.03898792, 0.01614428, -0.031344...   \n",
       "5496  [0.0281715784, 0.106752209, 0.0506532639, -0.1...   \n",
       "\n",
       "                                             dis_PROvec  \\\n",
       "3424  [0.0242674723, 0.0854913816, 0.0378196873, -0....   \n",
       "2205  [0.02636068, 0.15477355, 0.11189451, -0.129928...   \n",
       "5496  [0.00612793816, 0.0453494824, 0.0258907229, -0...   \n",
       "\n",
       "                                            chem_PROvec  \n",
       "3424  [0.033739455, 0.126468658, 0.0904662684, -0.11...  \n",
       "2205  [0.0131534599, 0.0363772437, 0.0259348322, -0....  \n",
       "5496  [-0.0190714281, 0.243215159, 0.264514625, -0.2...  "
      ]
     },
     "execution_count": 239,
     "metadata": {},
     "output_type": "execute_result"
    }
   ],
   "source": [
    "df1.sample(3)"
   ]
  },
  {
   "cell_type": "code",
   "execution_count": 240,
   "metadata": {},
   "outputs": [
    {
     "name": "stdout",
     "output_type": "stream",
     "text": [
      "number of chemicals:  586\n",
      "number of dis:  2492\n",
      "469 117 117\n"
     ]
    }
   ],
   "source": [
    "# Split into train, test, val BY CHEMICAL instead of by random rows\n",
    "print('number of chemicals: ', len(df1.ChemicalID.unique()))\n",
    "print('number of dis: ', len(df1.DiseaseID.unique()))\n",
    "chems = list(df1.ChemicalID.unique())\n",
    "random.shuffle(chems)\n",
    "\n",
    "total_chems = len(chems)\n",
    "train_chems = chems[:round(total_chems * .6)]\n",
    "test_chems = chems[round(total_chems * .6):round(total_chems * .8)]\n",
    "val_chems = chems[round(total_chems * .8):]\n",
    "\n",
    "train_chems = train_chems + val_chems ### NB the validation rows are eaten\n",
    "\n",
    "print(len(train_chems), len(test_chems), len(val_chems))\n",
    "\n",
    "# Now get the row numbers for each set of chemicals \n",
    "# number of chemicals:  586\n",
    "# number of dis:  2504\n",
    "# 352 117 117"
   ]
  },
  {
   "cell_type": "code",
   "execution_count": null,
   "metadata": {},
   "outputs": [],
   "source": []
  },
  {
   "cell_type": "code",
   "execution_count": 241,
   "metadata": {},
   "outputs": [],
   "source": [
    "# # Export the chemical list, this will be used to ensure validation test sets don't overlap with this db\n",
    "# np.savetxt(r'chemsInNN.txt', chems, fmt='%s')"
   ]
  },
  {
   "cell_type": "code",
   "execution_count": 242,
   "metadata": {},
   "outputs": [],
   "source": [
    "df1['train'] = df1.ChemicalID.isin(train_chems)\n",
    "df1['test'] = df1.ChemicalID.isin(test_chems)\n",
    "df1['val'] = df1.ChemicalID.isin(val_chems)"
   ]
  },
  {
   "cell_type": "code",
   "execution_count": 243,
   "metadata": {},
   "outputs": [
    {
     "name": "stdout",
     "output_type": "stream",
     "text": [
      "number of chemicals:  586\n",
      "number of dis:  2492\n"
     ]
    }
   ],
   "source": [
    "# Split by CHEMICAL instead of by random rows\n",
    "print('number of chemicals: ', len(df1.ChemicalID.unique()))\n",
    "print('number of dis: ', len(df1.DiseaseID.unique()))\n",
    "chems = list(df1.ChemicalID.unique())\n",
    "df1 = df1.reset_index()\n",
    "training_rows = df1.index[df1.train == True].tolist()\n",
    "test_rows = df1.index[df1.test == True].tolist()\n",
    "val_rows = df1.index[df1.val == True].tolist()"
   ]
  },
  {
   "cell_type": "code",
   "execution_count": 244,
   "metadata": {},
   "outputs": [],
   "source": [
    "testers = df1[df1.test == True]"
   ]
  },
  {
   "cell_type": "code",
   "execution_count": 245,
   "metadata": {},
   "outputs": [
    {
     "data": {
      "text/html": [
       "<div>\n",
       "<style scoped>\n",
       "    .dataframe tbody tr th:only-of-type {\n",
       "        vertical-align: middle;\n",
       "    }\n",
       "\n",
       "    .dataframe tbody tr th {\n",
       "        vertical-align: top;\n",
       "    }\n",
       "\n",
       "    .dataframe thead th {\n",
       "        text-align: right;\n",
       "    }\n",
       "</style>\n",
       "<table border=\"1\" class=\"dataframe\">\n",
       "  <thead>\n",
       "    <tr style=\"text-align: right;\">\n",
       "      <th></th>\n",
       "      <th>index</th>\n",
       "      <th>ChemicalID</th>\n",
       "      <th>DiseaseID</th>\n",
       "      <th>DVec</th>\n",
       "      <th>CVec</th>\n",
       "      <th>Correlation</th>\n",
       "      <th>DOID</th>\n",
       "      <th>disPhenVecMP</th>\n",
       "      <th>disPhenVecHP</th>\n",
       "      <th>chemPhenVecHP</th>\n",
       "      <th>chemPhenVecMP</th>\n",
       "      <th>CHEBIvec</th>\n",
       "      <th>DOvec</th>\n",
       "      <th>dis_HINOvec</th>\n",
       "      <th>chem_HINOvec</th>\n",
       "      <th>dis_PROvec</th>\n",
       "      <th>chem_PROvec</th>\n",
       "      <th>train</th>\n",
       "      <th>test</th>\n",
       "      <th>val</th>\n",
       "    </tr>\n",
       "  </thead>\n",
       "  <tbody>\n",
       "    <tr>\n",
       "      <th>117</th>\n",
       "      <td>117</td>\n",
       "      <td>D016604</td>\n",
       "      <td>MESH:D006528</td>\n",
       "      <td>[-0.0826218948, 0.0322816819, -0.121060327, -0...</td>\n",
       "      <td>[-0.00523678, 0.09072775, -0.08695618, -0.1819...</td>\n",
       "      <td>1</td>\n",
       "      <td>DOID_684</td>\n",
       "      <td>[0.03717217, 0.14535129, 0.06694908, -0.124857...</td>\n",
       "      <td>[0.0349340774, 0.147659555, 0.0655185208, -0.1...</td>\n",
       "      <td>[0.0, 0.0, 0.0, 0.0, 0.0, 0.0, 0.0, 0.0, 0.0, ...</td>\n",
       "      <td>[0.0, 0.0, 0.0, 0.0, 0.0, 0.0, 0.0, 0.0, 0.0, ...</td>\n",
       "      <td>[0.00945255253, 0.0546115674, 0.031547606, -0....</td>\n",
       "      <td>[-0.00669117, 0.06971597, 0.03065702, -0.06519...</td>\n",
       "      <td>[0.017662406, 0.0882318914, 0.0445542857, -0.0...</td>\n",
       "      <td>[0.0184723, 0.05916095, 0.03162514, -0.0617842...</td>\n",
       "      <td>[0.00526265, 0.13656862, 0.10465749, -0.126299...</td>\n",
       "      <td>[-0.000787065539, 0.214990109, 0.155128896, -0...</td>\n",
       "      <td>False</td>\n",
       "      <td>True</td>\n",
       "      <td>False</td>\n",
       "    </tr>\n",
       "    <tr>\n",
       "      <th>118</th>\n",
       "      <td>118</td>\n",
       "      <td>D016604</td>\n",
       "      <td>MESH:D006529</td>\n",
       "      <td>[-0.02036812, 0.09344074, -0.08194942, -0.1507...</td>\n",
       "      <td>[-0.00523678, 0.09072775, -0.08695618, -0.1819...</td>\n",
       "      <td>1</td>\n",
       "      <td>nan</td>\n",
       "      <td>[0.0, 0.0, 0.0, 0.0, 0.0, 0.0, 0.0, 0.0, 0.0, ...</td>\n",
       "      <td>[0.0, 0.0, 0.0, 0.0, 0.0, 0.0, 0.0, 0.0, 0.0, ...</td>\n",
       "      <td>[0.0, 0.0, 0.0, 0.0, 0.0, 0.0, 0.0, 0.0, 0.0, ...</td>\n",
       "      <td>[0.0, 0.0, 0.0, 0.0, 0.0, 0.0, 0.0, 0.0, 0.0, ...</td>\n",
       "      <td>[0.00945255253, 0.0546115674, 0.031547606, -0....</td>\n",
       "      <td>[0.00442429, 0.02501368, 0.01620419, -0.024251...</td>\n",
       "      <td>[0.0262603536, 0.0958174169, 0.0440592952, -0....</td>\n",
       "      <td>[0.0184723, 0.05916095, 0.03162514, -0.0617842...</td>\n",
       "      <td>[0.0273059886, 0.13361977, 0.0845196024, -0.13...</td>\n",
       "      <td>[-0.000787065539, 0.214990109, 0.155128896, -0...</td>\n",
       "      <td>False</td>\n",
       "      <td>True</td>\n",
       "      <td>False</td>\n",
       "    </tr>\n",
       "    <tr>\n",
       "      <th>119</th>\n",
       "      <td>119</td>\n",
       "      <td>D016604</td>\n",
       "      <td>MESH:D008114</td>\n",
       "      <td>[-0.05440867, 0.00954124, -0.18101129, -0.0743...</td>\n",
       "      <td>[-0.00523678, 0.09072775, -0.08695618, -0.1819...</td>\n",
       "      <td>1</td>\n",
       "      <td>nan</td>\n",
       "      <td>[0.0, 0.0, 0.0, 0.0, 0.0, 0.0, 0.0, 0.0, 0.0, ...</td>\n",
       "      <td>[0.0, 0.0, 0.0, 0.0, 0.0, 0.0, 0.0, 0.0, 0.0, ...</td>\n",
       "      <td>[0.0, 0.0, 0.0, 0.0, 0.0, 0.0, 0.0, 0.0, 0.0, ...</td>\n",
       "      <td>[0.0, 0.0, 0.0, 0.0, 0.0, 0.0, 0.0, 0.0, 0.0, ...</td>\n",
       "      <td>[0.00945255253, 0.0546115674, 0.031547606, -0....</td>\n",
       "      <td>[0.00712068, 0.03850456, 0.01660043, -0.036797...</td>\n",
       "      <td>[0.0377231091, 0.093969211, 0.0376204327, -0.0...</td>\n",
       "      <td>[0.0184723, 0.05916095, 0.03162514, -0.0617842...</td>\n",
       "      <td>[0.04941805, 0.14112765, 0.09606235, -0.115265...</td>\n",
       "      <td>[-0.000787065539, 0.214990109, 0.155128896, -0...</td>\n",
       "      <td>False</td>\n",
       "      <td>True</td>\n",
       "      <td>False</td>\n",
       "    </tr>\n",
       "    <tr>\n",
       "      <th>120</th>\n",
       "      <td>120</td>\n",
       "      <td>D016604</td>\n",
       "      <td>MESH:D056486</td>\n",
       "      <td>[-0.0573407635, 0.0587317832, -0.238079086, -0...</td>\n",
       "      <td>[-0.00523678, 0.09072775, -0.08695618, -0.1819...</td>\n",
       "      <td>1</td>\n",
       "      <td>DOID_2044</td>\n",
       "      <td>[0.03597726, 0.1437135, 0.07756205, -0.1206207...</td>\n",
       "      <td>[0.03639936, 0.12774213, 0.06539351, -0.117954...</td>\n",
       "      <td>[0.0, 0.0, 0.0, 0.0, 0.0, 0.0, 0.0, 0.0, 0.0, ...</td>\n",
       "      <td>[0.0, 0.0, 0.0, 0.0, 0.0, 0.0, 0.0, 0.0, 0.0, ...</td>\n",
       "      <td>[0.00945255253, 0.0546115674, 0.031547606, -0....</td>\n",
       "      <td>[0.018791426, 0.0550314896, 0.0336739607, -0.0...</td>\n",
       "      <td>[0.0286019761, 0.0930668786, 0.050284747, -0.1...</td>\n",
       "      <td>[0.0184723, 0.05916095, 0.03162514, -0.0617842...</td>\n",
       "      <td>[0.0526339859, 0.187508583, 0.154067695, -0.16...</td>\n",
       "      <td>[-0.000787065539, 0.214990109, 0.155128896, -0...</td>\n",
       "      <td>False</td>\n",
       "      <td>True</td>\n",
       "      <td>False</td>\n",
       "    </tr>\n",
       "    <tr>\n",
       "      <th>121</th>\n",
       "      <td>121</td>\n",
       "      <td>D016604</td>\n",
       "      <td>MESH:D002471</td>\n",
       "      <td>[-0.0351216, 0.12595233, -0.03002397, -0.10022...</td>\n",
       "      <td>[-0.00523678, 0.09072775, -0.08695618, -0.1819...</td>\n",
       "      <td>1</td>\n",
       "      <td>nan</td>\n",
       "      <td>[0.0, 0.0, 0.0, 0.0, 0.0, 0.0, 0.0, 0.0, 0.0, ...</td>\n",
       "      <td>[0.0, 0.0, 0.0, 0.0, 0.0, 0.0, 0.0, 0.0, 0.0, ...</td>\n",
       "      <td>[0.0, 0.0, 0.0, 0.0, 0.0, 0.0, 0.0, 0.0, 0.0, ...</td>\n",
       "      <td>[0.0, 0.0, 0.0, 0.0, 0.0, 0.0, 0.0, 0.0, 0.0, ...</td>\n",
       "      <td>[0.00945255253, 0.0546115674, 0.031547606, -0....</td>\n",
       "      <td>[0.00622028438, 0.0295656715, 0.0306509938, -0...</td>\n",
       "      <td>[0.0118600074, 0.0444223657, 0.0134412684, -0....</td>\n",
       "      <td>[0.0184723, 0.05916095, 0.03162514, -0.0617842...</td>\n",
       "      <td>[0.00016273, 0.07259188, 0.05126413, -0.072293...</td>\n",
       "      <td>[-0.000787065539, 0.214990109, 0.155128896, -0...</td>\n",
       "      <td>False</td>\n",
       "      <td>True</td>\n",
       "      <td>False</td>\n",
       "    </tr>\n",
       "  </tbody>\n",
       "</table>\n",
       "</div>"
      ],
      "text/plain": [
       "     index ChemicalID     DiseaseID  \\\n",
       "117    117    D016604  MESH:D006528   \n",
       "118    118    D016604  MESH:D006529   \n",
       "119    119    D016604  MESH:D008114   \n",
       "120    120    D016604  MESH:D056486   \n",
       "121    121    D016604  MESH:D002471   \n",
       "\n",
       "                                                  DVec  \\\n",
       "117  [-0.0826218948, 0.0322816819, -0.121060327, -0...   \n",
       "118  [-0.02036812, 0.09344074, -0.08194942, -0.1507...   \n",
       "119  [-0.05440867, 0.00954124, -0.18101129, -0.0743...   \n",
       "120  [-0.0573407635, 0.0587317832, -0.238079086, -0...   \n",
       "121  [-0.0351216, 0.12595233, -0.03002397, -0.10022...   \n",
       "\n",
       "                                                  CVec  Correlation  \\\n",
       "117  [-0.00523678, 0.09072775, -0.08695618, -0.1819...            1   \n",
       "118  [-0.00523678, 0.09072775, -0.08695618, -0.1819...            1   \n",
       "119  [-0.00523678, 0.09072775, -0.08695618, -0.1819...            1   \n",
       "120  [-0.00523678, 0.09072775, -0.08695618, -0.1819...            1   \n",
       "121  [-0.00523678, 0.09072775, -0.08695618, -0.1819...            1   \n",
       "\n",
       "          DOID                                       disPhenVecMP  \\\n",
       "117   DOID_684  [0.03717217, 0.14535129, 0.06694908, -0.124857...   \n",
       "118        nan  [0.0, 0.0, 0.0, 0.0, 0.0, 0.0, 0.0, 0.0, 0.0, ...   \n",
       "119        nan  [0.0, 0.0, 0.0, 0.0, 0.0, 0.0, 0.0, 0.0, 0.0, ...   \n",
       "120  DOID_2044  [0.03597726, 0.1437135, 0.07756205, -0.1206207...   \n",
       "121        nan  [0.0, 0.0, 0.0, 0.0, 0.0, 0.0, 0.0, 0.0, 0.0, ...   \n",
       "\n",
       "                                          disPhenVecHP  \\\n",
       "117  [0.0349340774, 0.147659555, 0.0655185208, -0.1...   \n",
       "118  [0.0, 0.0, 0.0, 0.0, 0.0, 0.0, 0.0, 0.0, 0.0, ...   \n",
       "119  [0.0, 0.0, 0.0, 0.0, 0.0, 0.0, 0.0, 0.0, 0.0, ...   \n",
       "120  [0.03639936, 0.12774213, 0.06539351, -0.117954...   \n",
       "121  [0.0, 0.0, 0.0, 0.0, 0.0, 0.0, 0.0, 0.0, 0.0, ...   \n",
       "\n",
       "                                         chemPhenVecHP  \\\n",
       "117  [0.0, 0.0, 0.0, 0.0, 0.0, 0.0, 0.0, 0.0, 0.0, ...   \n",
       "118  [0.0, 0.0, 0.0, 0.0, 0.0, 0.0, 0.0, 0.0, 0.0, ...   \n",
       "119  [0.0, 0.0, 0.0, 0.0, 0.0, 0.0, 0.0, 0.0, 0.0, ...   \n",
       "120  [0.0, 0.0, 0.0, 0.0, 0.0, 0.0, 0.0, 0.0, 0.0, ...   \n",
       "121  [0.0, 0.0, 0.0, 0.0, 0.0, 0.0, 0.0, 0.0, 0.0, ...   \n",
       "\n",
       "                                         chemPhenVecMP  \\\n",
       "117  [0.0, 0.0, 0.0, 0.0, 0.0, 0.0, 0.0, 0.0, 0.0, ...   \n",
       "118  [0.0, 0.0, 0.0, 0.0, 0.0, 0.0, 0.0, 0.0, 0.0, ...   \n",
       "119  [0.0, 0.0, 0.0, 0.0, 0.0, 0.0, 0.0, 0.0, 0.0, ...   \n",
       "120  [0.0, 0.0, 0.0, 0.0, 0.0, 0.0, 0.0, 0.0, 0.0, ...   \n",
       "121  [0.0, 0.0, 0.0, 0.0, 0.0, 0.0, 0.0, 0.0, 0.0, ...   \n",
       "\n",
       "                                              CHEBIvec  \\\n",
       "117  [0.00945255253, 0.0546115674, 0.031547606, -0....   \n",
       "118  [0.00945255253, 0.0546115674, 0.031547606, -0....   \n",
       "119  [0.00945255253, 0.0546115674, 0.031547606, -0....   \n",
       "120  [0.00945255253, 0.0546115674, 0.031547606, -0....   \n",
       "121  [0.00945255253, 0.0546115674, 0.031547606, -0....   \n",
       "\n",
       "                                                 DOvec  \\\n",
       "117  [-0.00669117, 0.06971597, 0.03065702, -0.06519...   \n",
       "118  [0.00442429, 0.02501368, 0.01620419, -0.024251...   \n",
       "119  [0.00712068, 0.03850456, 0.01660043, -0.036797...   \n",
       "120  [0.018791426, 0.0550314896, 0.0336739607, -0.0...   \n",
       "121  [0.00622028438, 0.0295656715, 0.0306509938, -0...   \n",
       "\n",
       "                                           dis_HINOvec  \\\n",
       "117  [0.017662406, 0.0882318914, 0.0445542857, -0.0...   \n",
       "118  [0.0262603536, 0.0958174169, 0.0440592952, -0....   \n",
       "119  [0.0377231091, 0.093969211, 0.0376204327, -0.0...   \n",
       "120  [0.0286019761, 0.0930668786, 0.050284747, -0.1...   \n",
       "121  [0.0118600074, 0.0444223657, 0.0134412684, -0....   \n",
       "\n",
       "                                          chem_HINOvec  \\\n",
       "117  [0.0184723, 0.05916095, 0.03162514, -0.0617842...   \n",
       "118  [0.0184723, 0.05916095, 0.03162514, -0.0617842...   \n",
       "119  [0.0184723, 0.05916095, 0.03162514, -0.0617842...   \n",
       "120  [0.0184723, 0.05916095, 0.03162514, -0.0617842...   \n",
       "121  [0.0184723, 0.05916095, 0.03162514, -0.0617842...   \n",
       "\n",
       "                                            dis_PROvec  \\\n",
       "117  [0.00526265, 0.13656862, 0.10465749, -0.126299...   \n",
       "118  [0.0273059886, 0.13361977, 0.0845196024, -0.13...   \n",
       "119  [0.04941805, 0.14112765, 0.09606235, -0.115265...   \n",
       "120  [0.0526339859, 0.187508583, 0.154067695, -0.16...   \n",
       "121  [0.00016273, 0.07259188, 0.05126413, -0.072293...   \n",
       "\n",
       "                                           chem_PROvec  train  test    val  \n",
       "117  [-0.000787065539, 0.214990109, 0.155128896, -0...  False  True  False  \n",
       "118  [-0.000787065539, 0.214990109, 0.155128896, -0...  False  True  False  \n",
       "119  [-0.000787065539, 0.214990109, 0.155128896, -0...  False  True  False  \n",
       "120  [-0.000787065539, 0.214990109, 0.155128896, -0...  False  True  False  \n",
       "121  [-0.000787065539, 0.214990109, 0.155128896, -0...  False  True  False  "
      ]
     },
     "execution_count": 245,
     "metadata": {},
     "output_type": "execute_result"
    }
   ],
   "source": [
    "testers.head()"
   ]
  },
  {
   "cell_type": "code",
   "execution_count": 246,
   "metadata": {},
   "outputs": [
    {
     "name": "stdout",
     "output_type": "stream",
     "text": [
      "13868 3871 3442\n"
     ]
    }
   ],
   "source": [
    "# Split into train, test, val\n",
    "X_train, X_test, X_val = all_X[training_rows], all_X[test_rows], all_X[val_rows]\n",
    "y_train, y_test, y_val = all_y[training_rows], all_y[test_rows], all_y[val_rows]\n",
    "\n",
    "print(len(training_rows), len(test_rows), len(val_rows))"
   ]
  },
  {
   "cell_type": "code",
   "execution_count": 247,
   "metadata": {},
   "outputs": [],
   "source": [
    "from sklearn.model_selection import train_test_split, StratifiedKFold\n",
    "folds = list(StratifiedKFold(n_splits=5, shuffle=True, random_state=1).split(X_train, y_train))"
   ]
  },
  {
   "cell_type": "code",
   "execution_count": 248,
   "metadata": {},
   "outputs": [],
   "source": [
    "# # Split into train, test, val --> OLD WAY\n",
    "# X_train, X_test, y_train, y_test = train_test_split(all_X, all_y, test_size=0.2, random_state=1606)\n",
    "# X_train, X_val, y_train, y_val = train_test_split(X_train, y_train, test_size=0.2, random_state=1606)"
   ]
  },
  {
   "cell_type": "markdown",
   "metadata": {},
   "source": [
    "### 3. Establish NN Model"
   ]
  },
  {
   "cell_type": "code",
   "execution_count": 249,
   "metadata": {},
   "outputs": [],
   "source": [
    "# 1. Establish the model architecture\n",
    "#it's safe to say that I don't know what I'm doing here\n",
    "model = keras.Sequential([\n",
    "#     keras.layers.Dense(400, activation=tf.nn.relu), \n",
    "    keras.layers.Flatten(input_shape=[2000]),\n",
    "    keras.layers.Dense(200, activation=tf.nn.relu),\n",
    "    keras.layers.Dense(60, activation=tf.nn.relu),\n",
    "    keras.layers.Dense(10, activation=tf.nn.relu),\n",
    "    keras.layers.Dense(1, activation=tf.nn.sigmoid)\n",
    "])"
   ]
  },
  {
   "cell_type": "code",
   "execution_count": 250,
   "metadata": {},
   "outputs": [],
   "source": [
    "# 2. Compile the model (give it loss func, optimise func and eval metric)\n",
    "model.compile(optimizer=tf.train.AdamOptimizer(), # determines how the model is adapted based on loss func\n",
    "              loss='binary_crossentropy', # measure of accuracy during training\n",
    "              metrics=['accuracy']) # measure for train and testing steps "
   ]
  },
  {
   "cell_type": "code",
   "execution_count": 251,
   "metadata": {},
   "outputs": [],
   "source": [
    "# Pre-training, set up training params\n",
    "earlystop = keras.callbacks.EarlyStopping(monitor='val_loss', min_delta=0, patience=0, verbose=0, mode='auto', baseline=None)"
   ]
  },
  {
   "cell_type": "code",
   "execution_count": null,
   "metadata": {},
   "outputs": [],
   "source": []
  },
  {
   "cell_type": "code",
   "execution_count": 252,
   "metadata": {},
   "outputs": [
    {
     "name": "stdout",
     "output_type": "stream",
     "text": [
      "\n",
      "Fold  0 [    0     1     2 ... 13864 13865 13866] [    4    21    22 ... 13857 13862 13867]\n",
      "Epoch 1/10\n",
      "11093/11093 [==============================] - 1s 131us/step - loss: 0.5427 - acc: 0.7420\n",
      "Epoch 2/10\n",
      "11093/11093 [==============================] - 2s 147us/step - loss: 0.4668 - acc: 0.7831\n",
      "Epoch 3/10\n",
      "11093/11093 [==============================] - 3s 262us/step - loss: 0.4389 - acc: 0.7992\n",
      "Epoch 4/10\n",
      "11093/11093 [==============================] - 3s 236us/step - loss: 0.4183 - acc: 0.8111\n",
      "Epoch 5/10\n",
      "11093/11093 [==============================] - 3s 241us/step - loss: 0.3945 - acc: 0.8229\n",
      "Epoch 6/10\n",
      "11093/11093 [==============================] - 2s 218us/step - loss: 0.3865 - acc: 0.8289\n",
      "Epoch 7/10\n",
      "11093/11093 [==============================] - 2s 220us/step - loss: 0.3624 - acc: 0.8370\n",
      "Epoch 8/10\n",
      "11093/11093 [==============================] - 2s 222us/step - loss: 0.3439 - acc: 0.8517\n",
      "Epoch 9/10\n",
      "11093/11093 [==============================] - 2s 217us/step - loss: 0.3376 - acc: 0.8518\n",
      "Epoch 10/10\n",
      "11093/11093 [==============================] - 3s 232us/step - loss: 0.3147 - acc: 0.8658\n",
      "2775/2775 [==============================] - 0s 153us/step\n",
      "Test accuracy: 0.8688288285925582\n",
      "ROC AUC:  0.9400020988277735\n",
      "\n",
      "Fold  1 [    0     1     2 ... 13865 13866 13867] [    3     5    11 ... 13860 13863 13864]\n",
      "Epoch 1/10\n",
      "11094/11094 [==============================] - 2s 213us/step - loss: 0.3165 - acc: 0.8649\n",
      "Epoch 2/10\n",
      "11094/11094 [==============================] - 2s 223us/step - loss: 0.3141 - acc: 0.8670\n",
      "Epoch 3/10\n",
      "11094/11094 [==============================] - 2s 213us/step - loss: 0.2975 - acc: 0.8744\n",
      "Epoch 4/10\n",
      "11094/11094 [==============================] - 2s 206us/step - loss: 0.2915 - acc: 0.8766\n",
      "Epoch 5/10\n",
      "11094/11094 [==============================] - 2s 217us/step - loss: 0.2794 - acc: 0.8863\n",
      "Epoch 6/10\n",
      "11094/11094 [==============================] - 2s 203us/step - loss: 0.2778 - acc: 0.8852\n",
      "Epoch 7/10\n",
      "11094/11094 [==============================] - 2s 212us/step - loss: 0.2795 - acc: 0.8837\n",
      "Epoch 8/10\n",
      "11094/11094 [==============================] - 2s 201us/step - loss: 0.2605 - acc: 0.8914\n",
      "Epoch 9/10\n",
      "11094/11094 [==============================] - 2s 210us/step - loss: 0.2615 - acc: 0.8940\n",
      "Epoch 10/10\n",
      "11094/11094 [==============================] - 3s 227us/step - loss: 0.2570 - acc: 0.8942\n",
      "2774/2774 [==============================] - 0s 93us/step\n",
      "Test accuracy: 0.8936553711760534\n",
      "ROC AUC:  0.9597224821677376\n",
      "\n",
      "Fold  2 [    0     2     3 ... 13864 13865 13867] [    1     6     7 ... 13852 13854 13866]\n",
      "Epoch 1/10\n",
      "11095/11095 [==============================] - 2s 204us/step - loss: 0.2487 - acc: 0.8981\n",
      "Epoch 2/10\n",
      "11095/11095 [==============================] - 2s 209us/step - loss: 0.2609 - acc: 0.8900\n",
      "Epoch 3/10\n",
      "11095/11095 [==============================] - 2s 211us/step - loss: 0.2434 - acc: 0.9000\n",
      "Epoch 4/10\n",
      "11095/11095 [==============================] - 2s 219us/step - loss: 0.2425 - acc: 0.8990\n",
      "Epoch 5/10\n",
      "11095/11095 [==============================] - 2s 220us/step - loss: 0.2345 - acc: 0.9046\n",
      "Epoch 6/10\n",
      "11095/11095 [==============================] - 2s 224us/step - loss: 0.2385 - acc: 0.9030\n",
      "Epoch 7/10\n",
      "11095/11095 [==============================] - 2s 210us/step - loss: 0.2302 - acc: 0.9071\n",
      "Epoch 8/10\n",
      "11095/11095 [==============================] - 2s 219us/step - loss: 0.2359 - acc: 0.9036\n",
      "Epoch 9/10\n",
      "11095/11095 [==============================] - 3s 254us/step - loss: 0.2179 - acc: 0.9128\n",
      "Epoch 10/10\n",
      "11095/11095 [==============================] - 2s 224us/step - loss: 0.2283 - acc: 0.9100\n",
      "2773/2773 [==============================] - 0s 90us/step\n",
      "Test accuracy: 0.8752253877527655\n",
      "ROC AUC:  0.9472277861308664\n",
      "\n",
      "Fold  3 [    1     2     3 ... 13864 13866 13867] [    0     8    10 ... 13858 13861 13865]\n",
      "Epoch 1/10\n",
      "11095/11095 [==============================] - 2s 196us/step - loss: 0.2275 - acc: 0.9117\n",
      "Epoch 2/10\n",
      "11095/11095 [==============================] - 2s 203us/step - loss: 0.2184 - acc: 0.9142\n",
      "Epoch 3/10\n",
      "11095/11095 [==============================] - 2s 207us/step - loss: 0.2153 - acc: 0.9147\n",
      "Epoch 4/10\n",
      "11095/11095 [==============================] - 2s 200us/step - loss: 0.2215 - acc: 0.9108\n",
      "Epoch 5/10\n",
      "11095/11095 [==============================] - 2s 204us/step - loss: 0.2134 - acc: 0.9171\n",
      "Epoch 6/10\n",
      "11095/11095 [==============================] - 2s 198us/step - loss: 0.2088 - acc: 0.9210\n",
      "Epoch 7/10\n",
      "11095/11095 [==============================] - 2s 208us/step - loss: 0.2091 - acc: 0.9152\n",
      "Epoch 8/10\n",
      "11095/11095 [==============================] - 2s 212us/step - loss: 0.2074 - acc: 0.9174\n",
      "Epoch 9/10\n",
      "11095/11095 [==============================] - 2s 208us/step - loss: 0.1993 - acc: 0.9211\n",
      "Epoch 10/10\n",
      "11095/11095 [==============================] - 2s 200us/step - loss: 0.1991 - acc: 0.9225\n",
      "2773/2773 [==============================] - 0s 95us/step\n",
      "Test accuracy: 0.9138117562851835\n",
      "ROC AUC:  0.9738854696141219\n",
      "\n",
      "Fold  4 [    0     1     3 ... 13865 13866 13867] [    2    14    15 ... 13847 13850 13859]\n",
      "Epoch 1/10\n",
      "11095/11095 [==============================] - 3s 250us/step - loss: 0.2101 - acc: 0.9168\n",
      "Epoch 2/10\n",
      "11095/11095 [==============================] - 2s 164us/step - loss: 0.2017 - acc: 0.9215\n",
      "Epoch 3/10\n",
      "11095/11095 [==============================] - 2s 159us/step - loss: 0.2001 - acc: 0.9205\n",
      "Epoch 4/10\n",
      "11095/11095 [==============================] - 2s 149us/step - loss: 0.1951 - acc: 0.9229\n",
      "Epoch 5/10\n",
      "11095/11095 [==============================] - 2s 150us/step - loss: 0.1909 - acc: 0.9255\n",
      "Epoch 6/10\n",
      "11095/11095 [==============================] - 2s 155us/step - loss: 0.1942 - acc: 0.9245\n",
      "Epoch 7/10\n",
      "11095/11095 [==============================] - 2s 155us/step - loss: 0.1874 - acc: 0.9257\n",
      "Epoch 8/10\n",
      "11095/11095 [==============================] - 2s 168us/step - loss: 0.1885 - acc: 0.9263\n",
      "Epoch 9/10\n",
      "11095/11095 [==============================] - 3s 238us/step - loss: 0.1757 - acc: 0.9304\n",
      "Epoch 10/10\n",
      "11095/11095 [==============================] - 2s 177us/step - loss: 0.1735 - acc: 0.9331\n",
      "2773/2773 [==============================] - 0s 67us/step\n",
      "Test accuracy: 0.9170573386224306\n",
      "ROC AUC:  0.9761886676621006\n",
      "Mean AUC:  0.9594053008805201\n"
     ]
    }
   ],
   "source": [
    "total_AUC = 0 \n",
    "\n",
    "for j, (train_idx, val_idx) in enumerate(folds):\n",
    "    \n",
    "    print('\\nFold ',j, train_idx, val_idx)\n",
    "    X_train_cv = X_train[train_idx]\n",
    "    y_train_cv = y_train[train_idx]\n",
    "    X_valid_cv = X_train[val_idx]\n",
    "    y_valid_cv= y_train[val_idx]\n",
    "    \n",
    "    name_weights = \"final_model_fold\" + str(j) + \"_weights.h5\"\n",
    "    model.fit(X_train_cv, y_train_cv, epochs = 10)\n",
    "    test_loss, test_acc = model.evaluate(X_valid_cv, y_valid_cv)\n",
    "    print('Test accuracy:', test_acc)\n",
    "    predictions = model.predict(X_valid_cv)\n",
    "    AUC = roc_auc_score(y_valid_cv, predictions)\n",
    "    total_AUC += AUC\n",
    "    print('ROC AUC: ', AUC)\n",
    "\n",
    "mean_AUC = total_AUC/5\n",
    "print('Mean AUC: ', mean_AUC)"
   ]
  },
  {
   "cell_type": "code",
   "execution_count": 253,
   "metadata": {},
   "outputs": [],
   "source": [
    "# 3. Train\n",
    "# model.fit(X_train, y_train, epochs=30) #, validation_data=(X_val, y_val) ) #, callbacks=[earlystop])"
   ]
  },
  {
   "cell_type": "markdown",
   "metadata": {},
   "source": [
    "### ...and evaluate"
   ]
  },
  {
   "cell_type": "code",
   "execution_count": 254,
   "metadata": {},
   "outputs": [
    {
     "name": "stdout",
     "output_type": "stream",
     "text": [
      "3871/3871 [==============================] - 0s 72us/step\n",
      "Test accuracy: 0.8292430894407491\n"
     ]
    }
   ],
   "source": [
    "# 4. Evaluate\n",
    "# Accuracy\n",
    "test_loss, test_acc = model.evaluate(X_test, y_test)\n",
    "print('Test accuracy:', test_acc)"
   ]
  },
  {
   "cell_type": "code",
   "execution_count": 255,
   "metadata": {},
   "outputs": [],
   "source": [
    "# Get actual predictions for test set\n",
    "predictions = model.predict(X_test)\n",
    "rounded_predictions = [int(float(round(x[0]))) for x in predictions]"
   ]
  },
  {
   "cell_type": "code",
   "execution_count": 256,
   "metadata": {
    "scrolled": true
   },
   "outputs": [
    {
     "name": "stdout",
     "output_type": "stream",
     "text": [
      "Confusion matrix:\n",
      "Predicted  False  True  __all__\n",
      "Actual                         \n",
      "False       1587   215     1802\n",
      "True         446  1623     2069\n",
      "__all__     2033  1838     3871\n"
     ]
    },
    {
     "data": {
      "text/plain": [
       "<matplotlib.axes._subplots.AxesSubplot at 0x7f1a440585c0>"
      ]
     },
     "execution_count": 256,
     "metadata": {},
     "output_type": "execute_result"
    },
    {
     "data": {
      "image/png": "[encoded data removed]",
      "text/plain": [
       "<Figure size 648x576 with 2 Axes>"
      ]
     },
     "metadata": {},
     "output_type": "display_data"
    }
   ],
   "source": [
    "%matplotlib inline\n",
    "# Confusion Matrix\n",
    "\n",
    "confusion_matrix = ConfusionMatrix(y_test, rounded_predictions)\n",
    "print(\"Confusion matrix:\\n%s\" % confusion_matrix)\n",
    "confusion_matrix.plot()"
   ]
  },
  {
   "cell_type": "code",
   "execution_count": 257,
   "metadata": {},
   "outputs": [
    {
     "name": "stdout",
     "output_type": "stream",
     "text": [
      "ROC AUC:  0.9188667980209949\n"
     ]
    }
   ],
   "source": [
    "# ROC AUC\n",
    "print('ROC AUC: ', roc_auc_score(y_test, predictions))"
   ]
  },
  {
   "cell_type": "code",
   "execution_count": null,
   "metadata": {},
   "outputs": [],
   "source": []
  },
  {
   "cell_type": "code",
   "execution_count": 258,
   "metadata": {},
   "outputs": [
    {
     "name": "stdout",
     "output_type": "stream",
     "text": [
      "Precision:  0.8830250272034821\n",
      "Recall:  0.7844369260512325\n",
      "F1:  0.8308164832352188\n"
     ]
    }
   ],
   "source": [
    "# Get more evaluation stuff\n",
    "\n",
    "rounded_predictions = np.asarray(rounded_predictions)\n",
    "\n",
    "TP = tf.count_nonzero(rounded_predictions * y_test)\n",
    "TN = tf.count_nonzero((rounded_predictions - 1) * (y_test - 1))\n",
    "FP = tf.count_nonzero(rounded_predictions * (y_test - 1))\n",
    "FN = tf.count_nonzero((rounded_predictions - 1) * y_test)\n",
    "\n",
    "precision = TP / (TP + FP)\n",
    "recall = TP / (TP + FN)\n",
    "f1 = 2 * precision * recall / (precision + recall)\n",
    "\n",
    "with tf.Session() as sess:\n",
    "    print('Precision: ', sess.run(precision))\n",
    "    print('Recall: ', sess.run(recall))\n",
    "    print('F1: ', sess.run(f1))"
   ]
  },
  {
   "cell_type": "code",
   "execution_count": 259,
   "metadata": {},
   "outputs": [],
   "source": [
    "# Results at 60 epochs, 1 iteration:\n",
    "# Just Govecs i think was like .84 AUC\n",
    "# DisPhen and GoVecs: .88 AUC\n",
    "# Chebi, disphen, govecs: .895 AUC then .873 on second round... once off results are pointless at this level diff"
   ]
  },
  {
   "cell_type": "code",
   "execution_count": 260,
   "metadata": {},
   "outputs": [
    {
     "ename": "SyntaxError",
     "evalue": "invalid syntax (<ipython-input-260-440e5fd394b4>, line 2)",
     "output_type": "error",
     "traceback": [
      "\u001b[0;36m  File \u001b[0;32m\"<ipython-input-260-440e5fd394b4>\"\u001b[0;36m, line \u001b[0;32m2\u001b[0m\n\u001b[0;31m    for a in i\u001b[0m\n\u001b[0m              ^\u001b[0m\n\u001b[0;31mSyntaxError\u001b[0m\u001b[0;31m:\u001b[0m invalid syntax\n"
     ]
    }
   ],
   "source": [
    "# Error out to stop notebook\n",
    "for a in i\n",
    "def \n"
   ]
  },
  {
   "cell_type": "code",
   "execution_count": 262,
   "metadata": {},
   "outputs": [
    {
     "name": "stdout",
     "output_type": "stream",
     "text": [
      "WARNING:tensorflow:TensorFlow optimizers do not make it possible to access optimizer attributes or optimizer state after instantiation. As a result, we cannot save the optimizer as part of the model save file.You will have to compile your model again after loading it. Prefer using a Keras optimizer instead (see keras.io/optimizers).\n"
     ]
    }
   ],
   "source": [
    "# Save entire model to a HDF5 file\n",
    "model.save('nn26022019auc82FULL.h5')"
   ]
  },
  {
   "cell_type": "code",
   "execution_count": 261,
   "metadata": {},
   "outputs": [],
   "source": [
    "# # Save dataset\n",
    "# df1.to_csv('nndf.csv', index=False)"
   ]
  },
  {
   "cell_type": "markdown",
   "metadata": {},
   "source": [
    "### 4. Examine the predictions\n",
    "Let's look at the predictions the NN gets wrong, see if there's a pattern"
   ]
  },
  {
   "cell_type": "code",
   "execution_count": null,
   "metadata": {},
   "outputs": [],
   "source": [
    "# Create df with the relevant data\n",
    "test_set = df1.loc[test_rows]\n",
    "test_set['Predictions'] = predictions\n",
    "test_set['RoundPredictions'] = rounded_predictions"
   ]
  },
  {
   "cell_type": "code",
   "execution_count": null,
   "metadata": {},
   "outputs": [],
   "source": [
    "# Optimise memory --> set col types for the incoming CSV\n",
    "cds_cols = ['# ChemicalName', 'ChemicalID', 'DiseaseName', 'DiseaseID', 'DirectEvidence']\n",
    "cd_col_types = {   \n",
    "    '# ChemicalName': 'category',\n",
    "    'ChemicalID': 'category',\n",
    "    'DiseaseName': 'category',\n",
    "    'DiseaseID': 'category',\n",
    "}"
   ]
  },
  {
   "cell_type": "code",
   "execution_count": null,
   "metadata": {},
   "outputs": [],
   "source": [
    "# Let's get the disease and chemical names back! For the sake of eyeballing for patterns\n",
    "# Read in CTD csv, skipping the intro rows\n",
    "df_cd = pd.read_csv('../ctd-to-nt/csvs/CTD_chemicals_diseases.csv', usecols=cds_cols, dtype=cd_col_types, skiprows=27)\n",
    "df_cd = df_cd.drop(0)\n",
    "df_cd = df_cd.dropna(subset=['DirectEvidence']) # drop if it doesn't have direct evidence"
   ]
  },
  {
   "cell_type": "code",
   "execution_count": null,
   "metadata": {},
   "outputs": [],
   "source": [
    "df_cd.head()"
   ]
  },
  {
   "cell_type": "code",
   "execution_count": null,
   "metadata": {},
   "outputs": [],
   "source": [
    "test_set.head()"
   ]
  },
  {
   "cell_type": "code",
   "execution_count": null,
   "metadata": {},
   "outputs": [],
   "source": [
    "test_set['Correlation'] = test_set.Correlation.astype(np.uint8)\n",
    "print(mem_usage(test_set['RoundPredictions']))\n",
    "test_set['RoundPredictions'] = test_set.RoundPredictions.astype(np.uint8)\n",
    "print(mem_usage(test_set['RoundPredictions']))"
   ]
  },
  {
   "cell_type": "code",
   "execution_count": null,
   "metadata": {},
   "outputs": [],
   "source": [
    "lst = [chem_dis, df, df_d, df_c, Dvecs, Cvecs]\n",
    "del lst\n",
    "test_set = test_set.drop(['DVec', 'CVec', 'index'], axis=1) # memory intensive\n",
    "for col in ['DiseaseID', 'ChemicalID', 'DiseaseName', '# ChemicalName', 'DirectEvidence']:\n",
    "    print(col,  df_cd.columns)\n",
    "    if str(col) in df_cd.columns: print('sd') # df_cd[col] = df_cd[col].astype('category')\n",
    "    if col in test_set.columns: test_set[col] = test_set[col].astype('category')"
   ]
  },
  {
   "cell_type": "code",
   "execution_count": null,
   "metadata": {},
   "outputs": [],
   "source": [
    "mem_usage(df_cd)"
   ]
  },
  {
   "cell_type": "code",
   "execution_count": null,
   "metadata": {},
   "outputs": [],
   "source": [
    "# merge in the names\n",
    "\n",
    "# Because this weirdly requires a tonne of memory, let's optimise (for stupid terrible top-of-range dell laptop)\n",
    "# lst = [chem_dis, df, df_d, df_c, Dvecs, Cvecs]\n",
    "# del lst\n",
    "# test_set = test_set.drop(['DVec', 'CVec', 'index'], axis=1) # memory intensive\n",
    "# for col in ['DiseaseID', 'ChemicalID', 'DiseaseName', '# ChemicalName', 'DirectEvidence']:\n",
    "#     if col in df_cd.columns: df_cd[col] = df_cd[col].astype('category')\n",
    "#     if col in test_set.columns: test_set[col] = test_set[col].astype('category')\n",
    "\n",
    "test_set = pd.merge(test_set, df_cd[['DiseaseID', 'DiseaseName']], on='DiseaseID')\n",
    "test_set = pd.merge(test_set, df_cd[['# ChemicalName', 'ChemicalID']], on='ChemicalID')\n",
    "\n",
    "# weirdly these operations introduce millions of duplicate rows, so delete duplicates:\n",
    "test_set = test_set.drop_duplicates(list(set(test_set.columns.values))) #- set(['DVec','CVec'])))"
   ]
  },
  {
   "cell_type": "code",
   "execution_count": null,
   "metadata": {},
   "outputs": [],
   "source": [
    "df_cd.ChemicalID = df_cd.ChemicalID.astype('category')\n",
    "type(df_cd.ChemicalID[1])"
   ]
  },
  {
   "cell_type": "code",
   "execution_count": null,
   "metadata": {},
   "outputs": [],
   "source": [
    "test_set[['DiseaseName', '# ChemicalName', 'Correlation', 'Predictions', 'RoundPredictions']].to_csv('predictions.csv', index=False)"
   ]
  },
  {
   "cell_type": "code",
   "execution_count": null,
   "metadata": {},
   "outputs": [],
   "source": [
    "test_set.head()"
   ]
  },
  {
   "cell_type": "code",
   "execution_count": null,
   "metadata": {},
   "outputs": [],
   "source": [
    "# Import gofunction counts (for each disease and each chem). This csv was output in opa2vec.ipynb\n",
    "gofunc_counts = pd.read_csv('gofunc_counts.csv')\n",
    "test_set = pd.merge(test_set, gofunc_counts[['ChemicalID', 'gofunc']], on='ChemicalID')\n",
    "test_set = test_set.rename(columns = {'gofunc':'ChemGoFuncs'})\n",
    "test_set = pd.merge(test_set, gofunc_counts[['DiseaseID', 'gofunc']], on='DiseaseID')\n",
    "test_set = test_set.rename(columns = {'gofunc':'DisGoFuncs'})"
   ]
  },
  {
   "cell_type": "code",
   "execution_count": null,
   "metadata": {},
   "outputs": [],
   "source": [
    "test_set.head()"
   ]
  },
  {
   "cell_type": "markdown",
   "metadata": {},
   "source": [
    "### 6. Save Model"
   ]
  },
  {
   "cell_type": "code",
   "execution_count": null,
   "metadata": {},
   "outputs": [],
   "source": [
    "# Save entire model to a HDF5 file\n",
    "model.save('nn15022019auc92GoPhenCHEdoHIpro.h5')"
   ]
  }
 ],
 "metadata": {
  "kernelspec": {
   "display_name": "Python 3",
   "language": "python",
   "name": "python3"
  },
  "language_info": {
   "codemirror_mode": {
    "name": "ipython",
    "version": 3
   },
   "file_extension": ".py",
   "mimetype": "text/x-python",
   "name": "python",
   "nbconvert_exporter": "python",
   "pygments_lexer": "ipython3",
   "version": "3.6.5"
  }
 },
 "nbformat": 4,
 "nbformat_minor": 2
}
