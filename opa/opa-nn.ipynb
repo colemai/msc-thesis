{
 "cells": [
  {
   "cell_type": "markdown",
   "metadata": {},
   "source": [
    "# Notebook: Use NN to predict disease from chemicals using Opa2Vec vectors\n",
    "<b> Author: </b> Ian Coleman <br>\n",
    "<b> Purpose: </b> Take the vectors created in the opa2vec notebook. This took chemical go functions\n",
    "    and disease go function, creating vectors for each. Train a NN to predict positive chem-dis relationships from these vectors"
   ]
  },
  {
   "cell_type": "code",
   "execution_count": 190,
   "metadata": {},
   "outputs": [],
   "source": [
    "# TODO \n",
    "# Currently I'm only creating the control group from mixing non-control group, ideally use original unrelated c-ds"
   ]
  },
  {
   "cell_type": "code",
   "execution_count": 271,
   "metadata": {},
   "outputs": [],
   "source": [
    "import tensorflow as tf\n",
    "from tensorflow import keras\n",
    "import numpy as np\n",
    "import matplotlib.pyplot as plt\n",
    "import pandas as pd\n",
    "from random import randint\n",
    "import random\n",
    "from sklearn.model_selection import train_test_split\n",
    "import sklearn\n",
    "from sklearn.metrics.pairwise import cosine_similarity"
   ]
  },
  {
   "cell_type": "markdown",
   "metadata": {},
   "source": [
    "### 1. Import Vectors and Pre-Process them"
   ]
  },
  {
   "cell_type": "code",
   "execution_count": 192,
   "metadata": {},
   "outputs": [],
   "source": [
    "# Import vec file\n",
    "with open('AllVectorResults.lst', 'r') as file:\n",
    "    text = file.read()"
   ]
  },
  {
   "cell_type": "code",
   "execution_count": 193,
   "metadata": {},
   "outputs": [],
   "source": [
    "# Strip and split it into list of lists [chem, vec]\n",
    "text = text.replace('\\n', '')\n",
    "text = text.split(']')\n",
    "text = [item.strip().split(' [') for item in text]"
   ]
  },
  {
   "cell_type": "code",
   "execution_count": 194,
   "metadata": {},
   "outputs": [],
   "source": [
    "# Turn it into a data frame\n",
    "df = pd.DataFrame(text)\n",
    "df.columns = ['ID', 'Vector']\n",
    "# df.head()"
   ]
  },
  {
   "cell_type": "code",
   "execution_count": 195,
   "metadata": {},
   "outputs": [],
   "source": [
    "# Clean\n",
    "df = df.dropna()\n",
    "df['Vector'] = df.Vector.map(lambda x: x.rstrip().lstrip().replace('    ', ' ').replace('   ', ' ').replace('  ', ' ').replace(' ', ','))"
   ]
  },
  {
   "cell_type": "code",
   "execution_count": 196,
   "metadata": {},
   "outputs": [],
   "source": [
    "# Turn vector column into a list\n",
    "df['Vector'] = df.Vector.map(lambda x: x.split(','))"
   ]
  },
  {
   "cell_type": "code",
   "execution_count": 197,
   "metadata": {},
   "outputs": [],
   "source": [
    "# df.loc[:,0].head()\n",
    "# BCE binary classification --> The loss function recommended by Jun\n",
    "# sigmoid output"
   ]
  },
  {
   "cell_type": "code",
   "execution_count": 198,
   "metadata": {},
   "outputs": [
    {
     "data": {
      "text/html": [
       "<div>\n",
       "<style scoped>\n",
       "    .dataframe tbody tr th:only-of-type {\n",
       "        vertical-align: middle;\n",
       "    }\n",
       "\n",
       "    .dataframe tbody tr th {\n",
       "        vertical-align: top;\n",
       "    }\n",
       "\n",
       "    .dataframe thead th {\n",
       "        text-align: right;\n",
       "    }\n",
       "</style>\n",
       "<table border=\"1\" class=\"dataframe\">\n",
       "  <thead>\n",
       "    <tr style=\"text-align: right;\">\n",
       "      <th></th>\n",
       "      <th>ID</th>\n",
       "      <th>Vector</th>\n",
       "    </tr>\n",
       "  </thead>\n",
       "  <tbody>\n",
       "    <tr>\n",
       "      <th>0</th>\n",
       "      <td>MESH:D012559</td>\n",
       "      <td>[0.01491615, -0.00155747, -0.30986652, 0.04035...</td>\n",
       "    </tr>\n",
       "    <tr>\n",
       "      <th>1</th>\n",
       "      <td>MESH:D009404</td>\n",
       "      <td>[3.82804424e-02, 1.29408345e-01, 3.75053808e-0...</td>\n",
       "    </tr>\n",
       "    <tr>\n",
       "      <th>2</th>\n",
       "      <td>MESH:D001749</td>\n",
       "      <td>[-0.01025235, 0.00664143, -0.30367315, 0.15593...</td>\n",
       "    </tr>\n",
       "    <tr>\n",
       "      <th>3</th>\n",
       "      <td>MESH:D011471</td>\n",
       "      <td>[-0.0130785, -0.02445601, -0.46697775, 0.13181...</td>\n",
       "    </tr>\n",
       "    <tr>\n",
       "      <th>4</th>\n",
       "      <td>MESH:D008106</td>\n",
       "      <td>[-0.06240484, 0.00166245, -0.5013923, 0.116841...</td>\n",
       "    </tr>\n",
       "  </tbody>\n",
       "</table>\n",
       "</div>"
      ],
      "text/plain": [
       "             ID                                             Vector\n",
       "0  MESH:D012559  [0.01491615, -0.00155747, -0.30986652, 0.04035...\n",
       "1  MESH:D009404  [3.82804424e-02, 1.29408345e-01, 3.75053808e-0...\n",
       "2  MESH:D001749  [-0.01025235, 0.00664143, -0.30367315, 0.15593...\n",
       "3  MESH:D011471  [-0.0130785, -0.02445601, -0.46697775, 0.13181...\n",
       "4  MESH:D008106  [-0.06240484, 0.00166245, -0.5013923, 0.116841..."
      ]
     },
     "execution_count": 198,
     "metadata": {},
     "output_type": "execute_result"
    }
   ],
   "source": [
    "# Now we have chems/diseases and their respective vector\n",
    "df.head()"
   ]
  },
  {
   "cell_type": "markdown",
   "metadata": {},
   "source": [
    "### 2. Create DF for NN\n",
    "From the ID-Vector dataframe we will now create a df matching each chem with each disease of the following columns:\n",
    "ChemID DisID ChemVec DisVec PositiveAssociationExists(binary)"
   ]
  },
  {
   "cell_type": "code",
   "execution_count": 199,
   "metadata": {},
   "outputs": [
    {
     "data": {
      "text/html": [
       "<div>\n",
       "<style scoped>\n",
       "    .dataframe tbody tr th:only-of-type {\n",
       "        vertical-align: middle;\n",
       "    }\n",
       "\n",
       "    .dataframe tbody tr th {\n",
       "        vertical-align: top;\n",
       "    }\n",
       "\n",
       "    .dataframe thead th {\n",
       "        text-align: right;\n",
       "    }\n",
       "</style>\n",
       "<table border=\"1\" class=\"dataframe\">\n",
       "  <thead>\n",
       "    <tr style=\"text-align: right;\">\n",
       "      <th></th>\n",
       "      <th>ChemicalID</th>\n",
       "      <th>DiseaseID</th>\n",
       "    </tr>\n",
       "  </thead>\n",
       "  <tbody>\n",
       "    <tr>\n",
       "      <th>0</th>\n",
       "      <td>C112297</td>\n",
       "      <td>MESH:D006948</td>\n",
       "    </tr>\n",
       "    <tr>\n",
       "      <th>1</th>\n",
       "      <td>C112297</td>\n",
       "      <td>MESH:D012640</td>\n",
       "    </tr>\n",
       "    <tr>\n",
       "      <th>2</th>\n",
       "      <td>C425777</td>\n",
       "      <td>MESH:D006948</td>\n",
       "    </tr>\n",
       "    <tr>\n",
       "      <th>3</th>\n",
       "      <td>C013567</td>\n",
       "      <td>MESH:D006333</td>\n",
       "    </tr>\n",
       "    <tr>\n",
       "      <th>4</th>\n",
       "      <td>C418863</td>\n",
       "      <td>MESH:D013262</td>\n",
       "    </tr>\n",
       "  </tbody>\n",
       "</table>\n",
       "</div>"
      ],
      "text/plain": [
       "  ChemicalID     DiseaseID\n",
       "0    C112297  MESH:D006948\n",
       "1    C112297  MESH:D012640\n",
       "2    C425777  MESH:D006948\n",
       "3    C013567  MESH:D006333\n",
       "4    C418863  MESH:D013262"
      ]
     },
     "execution_count": 199,
     "metadata": {},
     "output_type": "execute_result"
    }
   ],
   "source": [
    "# Step 1: Import file of proven chem-dis positive associations (created in ctd-to-nt notebook from ctd data)\n",
    "chem_dis = pd.read_csv('../ctd-to-nt/chem-dis-pos-assocs.csv')\n",
    "chem_dis.head()"
   ]
  },
  {
   "cell_type": "code",
   "execution_count": 200,
   "metadata": {},
   "outputs": [],
   "source": [
    "# Step 2: Iterate through each chem and create a line for it with each dis"
   ]
  },
  {
   "cell_type": "code",
   "execution_count": 201,
   "metadata": {},
   "outputs": [],
   "source": [
    "# First create is_chem col in df to differentiate between chem and disease\n",
    "# df['is_chem'] = df.ID.map(lambda x: ':' not in x) # as len of disease ID is always 8"
   ]
  },
  {
   "cell_type": "code",
   "execution_count": 202,
   "metadata": {},
   "outputs": [
    {
     "data": {
      "text/plain": [
       "(2970, 2)"
      ]
     },
     "execution_count": 202,
     "metadata": {},
     "output_type": "execute_result"
    }
   ],
   "source": [
    "# We only want the chems and diseases that we have vectors for\n",
    "df.shape"
   ]
  },
  {
   "cell_type": "code",
   "execution_count": 203,
   "metadata": {},
   "outputs": [],
   "source": [
    "# Reshape chem_dis to to only keep lines where both chem and dis have a vec\n",
    "chem_dis['DiseaseID'] = chem_dis['DiseaseID'].astype(str)\n",
    "df['ID'] = df['ID'].astype(str)\n",
    "id_list = df.ID.tolist()\n",
    "chem_dis['hasDVec'] = chem_dis.DiseaseID.map(lambda x: x in id_list)\n",
    "chem_dis['hasCVec'] = chem_dis.ChemicalID.map(lambda x: x in id_list)\n",
    "chem_dis = chem_dis.loc[(chem_dis['hasDVec'] == True) & (chem_dis['hasCVec'] == True)]\n",
    "chem_dis = chem_dis.drop(['hasDVec','hasCVec'], axis=1)"
   ]
  },
  {
   "cell_type": "code",
   "execution_count": 204,
   "metadata": {},
   "outputs": [],
   "source": [
    "# Now create a df:\n",
    "# cID, dID, cVec, dVec, correlate?\n",
    "# We'll build it on chem_dis...but all current relationships are positive. Need to create non-related pairs c-d\n",
    "# out_df = chem_dis.copy()\n",
    "# out_df['correlate'] = 1\n",
    "# out_df.shape # 62015, should aim to make this many non-related associations too"
   ]
  },
  {
   "cell_type": "code",
   "execution_count": 205,
   "metadata": {},
   "outputs": [],
   "source": [
    "# So iterate through vecs and create a line for it if there is a rel with a dis that has a vec\n",
    "# chem_dis['dVec'] = np.nan\n",
    "# chem_dis['cVec'] = np.nan\n",
    "# chem_dis['dVec'] = np.where(df.ID == chem_dis.DiseaseID, df.Vector, None)"
   ]
  },
  {
   "cell_type": "code",
   "execution_count": 206,
   "metadata": {},
   "outputs": [
    {
     "data": {
      "text/plain": [
       "(6660, 2)"
      ]
     },
     "execution_count": 206,
     "metadata": {},
     "output_type": "execute_result"
    }
   ],
   "source": [
    "chem_dis.shape"
   ]
  },
  {
   "cell_type": "code",
   "execution_count": 207,
   "metadata": {},
   "outputs": [
    {
     "data": {
      "text/html": [
       "<div>\n",
       "<style scoped>\n",
       "    .dataframe tbody tr th:only-of-type {\n",
       "        vertical-align: middle;\n",
       "    }\n",
       "\n",
       "    .dataframe tbody tr th {\n",
       "        vertical-align: top;\n",
       "    }\n",
       "\n",
       "    .dataframe thead th {\n",
       "        text-align: right;\n",
       "    }\n",
       "</style>\n",
       "<table border=\"1\" class=\"dataframe\">\n",
       "  <thead>\n",
       "    <tr style=\"text-align: right;\">\n",
       "      <th></th>\n",
       "      <th>ID</th>\n",
       "      <th>Vector</th>\n",
       "    </tr>\n",
       "  </thead>\n",
       "  <tbody>\n",
       "    <tr>\n",
       "      <th>0</th>\n",
       "      <td>MESH:D012559</td>\n",
       "      <td>[0.01491615, -0.00155747, -0.30986652, 0.04035...</td>\n",
       "    </tr>\n",
       "    <tr>\n",
       "      <th>1</th>\n",
       "      <td>MESH:D009404</td>\n",
       "      <td>[3.82804424e-02, 1.29408345e-01, 3.75053808e-0...</td>\n",
       "    </tr>\n",
       "    <tr>\n",
       "      <th>2</th>\n",
       "      <td>MESH:D001749</td>\n",
       "      <td>[-0.01025235, 0.00664143, -0.30367315, 0.15593...</td>\n",
       "    </tr>\n",
       "    <tr>\n",
       "      <th>3</th>\n",
       "      <td>MESH:D011471</td>\n",
       "      <td>[-0.0130785, -0.02445601, -0.46697775, 0.13181...</td>\n",
       "    </tr>\n",
       "    <tr>\n",
       "      <th>4</th>\n",
       "      <td>MESH:D008106</td>\n",
       "      <td>[-0.06240484, 0.00166245, -0.5013923, 0.116841...</td>\n",
       "    </tr>\n",
       "  </tbody>\n",
       "</table>\n",
       "</div>"
      ],
      "text/plain": [
       "             ID                                             Vector\n",
       "0  MESH:D012559  [0.01491615, -0.00155747, -0.30986652, 0.04035...\n",
       "1  MESH:D009404  [3.82804424e-02, 1.29408345e-01, 3.75053808e-0...\n",
       "2  MESH:D001749  [-0.01025235, 0.00664143, -0.30367315, 0.15593...\n",
       "3  MESH:D011471  [-0.0130785, -0.02445601, -0.46697775, 0.13181...\n",
       "4  MESH:D008106  [-0.06240484, 0.00166245, -0.5013923, 0.116841..."
      ]
     },
     "execution_count": 207,
     "metadata": {},
     "output_type": "execute_result"
    }
   ],
   "source": [
    "df.head()"
   ]
  },
  {
   "cell_type": "code",
   "execution_count": 208,
   "metadata": {},
   "outputs": [],
   "source": [
    "# chem_dis = chem_dis.drop(['hasDVec','hasCVec'], axis=1)"
   ]
  },
  {
   "cell_type": "code",
   "execution_count": 232,
   "metadata": {},
   "outputs": [],
   "source": [
    "# merge all info into one df\n",
    "df_d = df.copy()\n",
    "df_d.columns= ['DiseaseID', 'DVec']\n",
    "df_c = df.copy()\n",
    "df_c.columns= ['ChemicalID', 'CVec']\n",
    "df1 = pd.merge(chem_dis, df_d, on='DiseaseID')\n",
    "df1 = pd.merge(df1, df_c, on='ChemicalID')"
   ]
  },
  {
   "cell_type": "code",
   "execution_count": 233,
   "metadata": {},
   "outputs": [],
   "source": [
    "df1['Correlation'] = 1"
   ]
  },
  {
   "cell_type": "code",
   "execution_count": 234,
   "metadata": {},
   "outputs": [
    {
     "data": {
      "text/html": [
       "<div>\n",
       "<style scoped>\n",
       "    .dataframe tbody tr th:only-of-type {\n",
       "        vertical-align: middle;\n",
       "    }\n",
       "\n",
       "    .dataframe tbody tr th {\n",
       "        vertical-align: top;\n",
       "    }\n",
       "\n",
       "    .dataframe thead th {\n",
       "        text-align: right;\n",
       "    }\n",
       "</style>\n",
       "<table border=\"1\" class=\"dataframe\">\n",
       "  <thead>\n",
       "    <tr style=\"text-align: right;\">\n",
       "      <th></th>\n",
       "      <th>ChemicalID</th>\n",
       "      <th>DiseaseID</th>\n",
       "      <th>DVec</th>\n",
       "      <th>CVec</th>\n",
       "      <th>Correlation</th>\n",
       "    </tr>\n",
       "  </thead>\n",
       "  <tbody>\n",
       "    <tr>\n",
       "      <th>0</th>\n",
       "      <td>C049584</td>\n",
       "      <td>MESH:D001943</td>\n",
       "      <td>[-7.54089653e-03, 2.84954235e-02, -1.45941272e...</td>\n",
       "      <td>[0.02189679, 0.10079688, 0.04159389, -0.099326...</td>\n",
       "      <td>1</td>\n",
       "    </tr>\n",
       "    <tr>\n",
       "      <th>1</th>\n",
       "      <td>C049584</td>\n",
       "      <td>MESH:D018270</td>\n",
       "      <td>[1.97611600e-02, 9.82791930e-02, 3.69541571e-0...</td>\n",
       "      <td>[0.02189679, 0.10079688, 0.04159389, -0.099326...</td>\n",
       "      <td>1</td>\n",
       "    </tr>\n",
       "    <tr>\n",
       "      <th>2</th>\n",
       "      <td>C049584</td>\n",
       "      <td>MESH:D019457</td>\n",
       "      <td>[0.03360923, 0.10056757, 0.05314376, -0.113913...</td>\n",
       "      <td>[0.02189679, 0.10079688, 0.04159389, -0.099326...</td>\n",
       "      <td>1</td>\n",
       "    </tr>\n",
       "    <tr>\n",
       "      <th>3</th>\n",
       "      <td>C049584</td>\n",
       "      <td>MESH:D003110</td>\n",
       "      <td>[0.00136586, 0.13832065, 0.02338981, -0.113038...</td>\n",
       "      <td>[0.02189679, 0.10079688, 0.04159389, -0.099326...</td>\n",
       "      <td>1</td>\n",
       "    </tr>\n",
       "    <tr>\n",
       "      <th>4</th>\n",
       "      <td>C049584</td>\n",
       "      <td>MESH:D015179</td>\n",
       "      <td>[-0.02237691, 0.07948194, -0.09784327, -0.0321...</td>\n",
       "      <td>[0.02189679, 0.10079688, 0.04159389, -0.099326...</td>\n",
       "      <td>1</td>\n",
       "    </tr>\n",
       "  </tbody>\n",
       "</table>\n",
       "</div>"
      ],
      "text/plain": [
       "  ChemicalID     DiseaseID                                               DVec  \\\n",
       "0    C049584  MESH:D001943  [-7.54089653e-03, 2.84954235e-02, -1.45941272e...   \n",
       "1    C049584  MESH:D018270  [1.97611600e-02, 9.82791930e-02, 3.69541571e-0...   \n",
       "2    C049584  MESH:D019457  [0.03360923, 0.10056757, 0.05314376, -0.113913...   \n",
       "3    C049584  MESH:D003110  [0.00136586, 0.13832065, 0.02338981, -0.113038...   \n",
       "4    C049584  MESH:D015179  [-0.02237691, 0.07948194, -0.09784327, -0.0321...   \n",
       "\n",
       "                                                CVec  Correlation  \n",
       "0  [0.02189679, 0.10079688, 0.04159389, -0.099326...            1  \n",
       "1  [0.02189679, 0.10079688, 0.04159389, -0.099326...            1  \n",
       "2  [0.02189679, 0.10079688, 0.04159389, -0.099326...            1  \n",
       "3  [0.02189679, 0.10079688, 0.04159389, -0.099326...            1  \n",
       "4  [0.02189679, 0.10079688, 0.04159389, -0.099326...            1  "
      ]
     },
     "execution_count": 234,
     "metadata": {},
     "output_type": "execute_result"
    }
   ],
   "source": [
    "df1.head()"
   ]
  },
  {
   "cell_type": "code",
   "execution_count": 235,
   "metadata": {},
   "outputs": [
    {
     "data": {
      "text/plain": [
       "(6660, 5)"
      ]
     },
     "execution_count": 235,
     "metadata": {},
     "output_type": "execute_result"
    }
   ],
   "source": [
    "df1.shape"
   ]
  },
  {
   "cell_type": "code",
   "execution_count": 236,
   "metadata": {},
   "outputs": [
    {
     "name": "stdout",
     "output_type": "stream",
     "text": [
      "shape:  6659\n"
     ]
    }
   ],
   "source": [
    "# Randomly generate control set - pairs of unrelated diseases and chemicals and add as rows \n",
    "no_rows = df1.shape[0]-1\n",
    "print('shape: ', no_rows)\n",
    "for x in range(0, no_rows):\n",
    "    int1 = randint(0, df1.shape[0]-1)\n",
    "    int2 = randint(0, df1.shape[0]-1)\n",
    "    chem, chemvec = df1.loc[int1, 'ChemicalID'], df1.loc[int1, 'CVec']\n",
    "    dis, disvec = df1.loc[int2, 'DiseaseID'], df1.loc[int2, 'DVec']\n",
    "    df1 = df1.append({'ChemicalID':chem, 'DiseaseID':dis, 'CVec':chemvec, 'DVec':disvec, 'Correlation':0}, ignore_index=True)\n",
    "    \n",
    "# Delete any duplicates induced in generating rows (note that this will remove any known correlations \n",
    "# from the new rows)\n",
    "df1 = df1.drop_duplicates(subset=['ChemicalID', 'DiseaseID'], keep=False)"
   ]
  },
  {
   "cell_type": "code",
   "execution_count": 237,
   "metadata": {},
   "outputs": [
    {
     "data": {
      "text/plain": [
       "(9514, 5)"
      ]
     },
     "execution_count": 237,
     "metadata": {},
     "output_type": "execute_result"
    }
   ],
   "source": [
    "df1.shape"
   ]
  },
  {
   "cell_type": "code",
   "execution_count": 238,
   "metadata": {},
   "outputs": [
    {
     "data": {
      "text/html": [
       "<div>\n",
       "<style scoped>\n",
       "    .dataframe tbody tr th:only-of-type {\n",
       "        vertical-align: middle;\n",
       "    }\n",
       "\n",
       "    .dataframe tbody tr th {\n",
       "        vertical-align: top;\n",
       "    }\n",
       "\n",
       "    .dataframe thead th {\n",
       "        text-align: right;\n",
       "    }\n",
       "</style>\n",
       "<table border=\"1\" class=\"dataframe\">\n",
       "  <thead>\n",
       "    <tr style=\"text-align: right;\">\n",
       "      <th></th>\n",
       "      <th>ChemicalID</th>\n",
       "      <th>DiseaseID</th>\n",
       "      <th>DVec</th>\n",
       "      <th>CVec</th>\n",
       "      <th>Correlation</th>\n",
       "    </tr>\n",
       "  </thead>\n",
       "  <tbody>\n",
       "    <tr>\n",
       "      <th>105</th>\n",
       "      <td>D001564</td>\n",
       "      <td>MESH:D009361</td>\n",
       "      <td>[-0.01793019, 0.02332558, -0.13887669, -0.0121...</td>\n",
       "      <td>[-8.07521492e-03, 1.39567137e-01, -2.41595390e...</td>\n",
       "      <td>1</td>\n",
       "    </tr>\n",
       "    <tr>\n",
       "      <th>11694</th>\n",
       "      <td>C089730</td>\n",
       "      <td>MESH:D003866</td>\n",
       "      <td>[0.01702759, 0.12427577, 0.03813349, -0.110617...</td>\n",
       "      <td>[0.01647617, 0.16031805, 0.03482624, -0.119994...</td>\n",
       "      <td>0</td>\n",
       "    </tr>\n",
       "    <tr>\n",
       "      <th>3281</th>\n",
       "      <td>D016572</td>\n",
       "      <td>MESH:D010146</td>\n",
       "      <td>[3.53458934e-02, 1.41089112e-01, 2.37864740e-0...</td>\n",
       "      <td>[0.02098043, 0.16350506, 0.02600217, -0.136558...</td>\n",
       "      <td>1</td>\n",
       "    </tr>\n",
       "    <tr>\n",
       "      <th>12657</th>\n",
       "      <td>D037742</td>\n",
       "      <td>MESH:D065886</td>\n",
       "      <td>[0.03868974, 0.04606202, -0.11462147, -0.04161...</td>\n",
       "      <td>[0.01644101, 0.0993525, 0.04270832, -0.0963581...</td>\n",
       "      <td>0</td>\n",
       "    </tr>\n",
       "    <tr>\n",
       "      <th>1329</th>\n",
       "      <td>D012906</td>\n",
       "      <td>MESH:D006333</td>\n",
       "      <td>[0.01560365, 0.13829835, -0.0064437, -0.112833...</td>\n",
       "      <td>[0.0088706, 0.12644653, 0.05610176, -0.0973913...</td>\n",
       "      <td>1</td>\n",
       "    </tr>\n",
       "    <tr>\n",
       "      <th>1050</th>\n",
       "      <td>C023036</td>\n",
       "      <td>MESH:D011041</td>\n",
       "      <td>[0.02073777, 0.14103304, 0.07279226, -0.122865...</td>\n",
       "      <td>[0.03414991, 0.12547259, -0.00204764, -0.14949...</td>\n",
       "      <td>1</td>\n",
       "    </tr>\n",
       "    <tr>\n",
       "      <th>3248</th>\n",
       "      <td>D019256</td>\n",
       "      <td>MESH:D006948</td>\n",
       "      <td>[0.02679902, 0.13058257, 0.04513128, -0.107747...</td>\n",
       "      <td>[0.03078445, 0.11899038, 0.05539357, -0.125800...</td>\n",
       "      <td>1</td>\n",
       "    </tr>\n",
       "    <tr>\n",
       "      <th>4477</th>\n",
       "      <td>D017239</td>\n",
       "      <td>MESH:D006967</td>\n",
       "      <td>[3.33185270e-02, 1.05473764e-01, 1.61803439e-0...</td>\n",
       "      <td>[3.05738989e-02, 1.24812022e-01, 4.42865677e-0...</td>\n",
       "      <td>1</td>\n",
       "    </tr>\n",
       "    <tr>\n",
       "      <th>5976</th>\n",
       "      <td>D019821</td>\n",
       "      <td>MESH:D018908</td>\n",
       "      <td>[1.6617071e-02, 9.9785693e-02, 5.6648266e-02, ...</td>\n",
       "      <td>[5.62723773e-03, 1.45457312e-01, 3.73894423e-0...</td>\n",
       "      <td>1</td>\n",
       "    </tr>\n",
       "    <tr>\n",
       "      <th>9505</th>\n",
       "      <td>D015232</td>\n",
       "      <td>MESH:D020300</td>\n",
       "      <td>[0.02078298, 0.11145127, 0.0520744, -0.1102614...</td>\n",
       "      <td>[1.96472630e-02, 1.13115221e-01, 6.78690001e-0...</td>\n",
       "      <td>0</td>\n",
       "    </tr>\n",
       "    <tr>\n",
       "      <th>12320</th>\n",
       "      <td>D014700</td>\n",
       "      <td>MESH:D002311</td>\n",
       "      <td>[1.11296400e-02, 1.27578244e-01, 6.84579238e-0...</td>\n",
       "      <td>[0.08000185, 0.11272293, -0.04142686, -0.09970...</td>\n",
       "      <td>0</td>\n",
       "    </tr>\n",
       "    <tr>\n",
       "      <th>5443</th>\n",
       "      <td>C029938</td>\n",
       "      <td>MESH:D055371</td>\n",
       "      <td>[2.26494391e-02, 7.01798350e-02, 4.12261449e-0...</td>\n",
       "      <td>[0.02152295, 0.13721803, 0.07517391, -0.118709...</td>\n",
       "      <td>1</td>\n",
       "    </tr>\n",
       "    <tr>\n",
       "      <th>10218</th>\n",
       "      <td>D015232</td>\n",
       "      <td>MESH:D002779</td>\n",
       "      <td>[0.00174257, 0.08889782, -0.01832172, -0.07990...</td>\n",
       "      <td>[1.96472630e-02, 1.13115221e-01, 6.78690001e-0...</td>\n",
       "      <td>0</td>\n",
       "    </tr>\n",
       "  </tbody>\n",
       "</table>\n",
       "</div>"
      ],
      "text/plain": [
       "      ChemicalID     DiseaseID  \\\n",
       "105      D001564  MESH:D009361   \n",
       "11694    C089730  MESH:D003866   \n",
       "3281     D016572  MESH:D010146   \n",
       "12657    D037742  MESH:D065886   \n",
       "1329     D012906  MESH:D006333   \n",
       "1050     C023036  MESH:D011041   \n",
       "3248     D019256  MESH:D006948   \n",
       "4477     D017239  MESH:D006967   \n",
       "5976     D019821  MESH:D018908   \n",
       "9505     D015232  MESH:D020300   \n",
       "12320    D014700  MESH:D002311   \n",
       "5443     C029938  MESH:D055371   \n",
       "10218    D015232  MESH:D002779   \n",
       "\n",
       "                                                    DVec  \\\n",
       "105    [-0.01793019, 0.02332558, -0.13887669, -0.0121...   \n",
       "11694  [0.01702759, 0.12427577, 0.03813349, -0.110617...   \n",
       "3281   [3.53458934e-02, 1.41089112e-01, 2.37864740e-0...   \n",
       "12657  [0.03868974, 0.04606202, -0.11462147, -0.04161...   \n",
       "1329   [0.01560365, 0.13829835, -0.0064437, -0.112833...   \n",
       "1050   [0.02073777, 0.14103304, 0.07279226, -0.122865...   \n",
       "3248   [0.02679902, 0.13058257, 0.04513128, -0.107747...   \n",
       "4477   [3.33185270e-02, 1.05473764e-01, 1.61803439e-0...   \n",
       "5976   [1.6617071e-02, 9.9785693e-02, 5.6648266e-02, ...   \n",
       "9505   [0.02078298, 0.11145127, 0.0520744, -0.1102614...   \n",
       "12320  [1.11296400e-02, 1.27578244e-01, 6.84579238e-0...   \n",
       "5443   [2.26494391e-02, 7.01798350e-02, 4.12261449e-0...   \n",
       "10218  [0.00174257, 0.08889782, -0.01832172, -0.07990...   \n",
       "\n",
       "                                                    CVec  Correlation  \n",
       "105    [-8.07521492e-03, 1.39567137e-01, -2.41595390e...            1  \n",
       "11694  [0.01647617, 0.16031805, 0.03482624, -0.119994...            0  \n",
       "3281   [0.02098043, 0.16350506, 0.02600217, -0.136558...            1  \n",
       "12657  [0.01644101, 0.0993525, 0.04270832, -0.0963581...            0  \n",
       "1329   [0.0088706, 0.12644653, 0.05610176, -0.0973913...            1  \n",
       "1050   [0.03414991, 0.12547259, -0.00204764, -0.14949...            1  \n",
       "3248   [0.03078445, 0.11899038, 0.05539357, -0.125800...            1  \n",
       "4477   [3.05738989e-02, 1.24812022e-01, 4.42865677e-0...            1  \n",
       "5976   [5.62723773e-03, 1.45457312e-01, 3.73894423e-0...            1  \n",
       "9505   [1.96472630e-02, 1.13115221e-01, 6.78690001e-0...            0  \n",
       "12320  [0.08000185, 0.11272293, -0.04142686, -0.09970...            0  \n",
       "5443   [0.02152295, 0.13721803, 0.07517391, -0.118709...            1  \n",
       "10218  [1.96472630e-02, 1.13115221e-01, 6.78690001e-0...            0  "
      ]
     },
     "execution_count": 238,
     "metadata": {},
     "output_type": "execute_result"
    }
   ],
   "source": [
    "df1.sample(13)"
   ]
  },
  {
   "cell_type": "markdown",
   "metadata": {},
   "source": [
    "### 2. Preprocess\n",
    "Now that we have the df ready, let's split it into train/test/validation sets and convert it into numpy arrays so it can be consumed by a Keras NN"
   ]
  },
  {
   "cell_type": "code",
   "execution_count": 239,
   "metadata": {},
   "outputs": [
    {
     "data": {
      "text/html": [
       "<div>\n",
       "<style scoped>\n",
       "    .dataframe tbody tr th:only-of-type {\n",
       "        vertical-align: middle;\n",
       "    }\n",
       "\n",
       "    .dataframe tbody tr th {\n",
       "        vertical-align: top;\n",
       "    }\n",
       "\n",
       "    .dataframe thead th {\n",
       "        text-align: right;\n",
       "    }\n",
       "</style>\n",
       "<table border=\"1\" class=\"dataframe\">\n",
       "  <thead>\n",
       "    <tr style=\"text-align: right;\">\n",
       "      <th></th>\n",
       "      <th>ChemicalID</th>\n",
       "      <th>DiseaseID</th>\n",
       "      <th>DVec</th>\n",
       "      <th>CVec</th>\n",
       "      <th>Correlation</th>\n",
       "    </tr>\n",
       "  </thead>\n",
       "  <tbody>\n",
       "    <tr>\n",
       "      <th>1</th>\n",
       "      <td>C049584</td>\n",
       "      <td>MESH:D018270</td>\n",
       "      <td>[1.97611600e-02, 9.82791930e-02, 3.69541571e-0...</td>\n",
       "      <td>[0.02189679, 0.10079688, 0.04159389, -0.099326...</td>\n",
       "      <td>1</td>\n",
       "    </tr>\n",
       "    <tr>\n",
       "      <th>2</th>\n",
       "      <td>C049584</td>\n",
       "      <td>MESH:D019457</td>\n",
       "      <td>[0.03360923, 0.10056757, 0.05314376, -0.113913...</td>\n",
       "      <td>[0.02189679, 0.10079688, 0.04159389, -0.099326...</td>\n",
       "      <td>1</td>\n",
       "    </tr>\n",
       "    <tr>\n",
       "      <th>3</th>\n",
       "      <td>C049584</td>\n",
       "      <td>MESH:D003110</td>\n",
       "      <td>[0.00136586, 0.13832065, 0.02338981, -0.113038...</td>\n",
       "      <td>[0.02189679, 0.10079688, 0.04159389, -0.099326...</td>\n",
       "      <td>1</td>\n",
       "    </tr>\n",
       "    <tr>\n",
       "      <th>4</th>\n",
       "      <td>C049584</td>\n",
       "      <td>MESH:D015179</td>\n",
       "      <td>[-0.02237691, 0.07948194, -0.09784327, -0.0321...</td>\n",
       "      <td>[0.02189679, 0.10079688, 0.04159389, -0.099326...</td>\n",
       "      <td>1</td>\n",
       "    </tr>\n",
       "    <tr>\n",
       "      <th>5</th>\n",
       "      <td>C049584</td>\n",
       "      <td>MESH:D018450</td>\n",
       "      <td>[3.39546017e-02, 1.23659089e-01, 3.62569839e-0...</td>\n",
       "      <td>[0.02189679, 0.10079688, 0.04159389, -0.099326...</td>\n",
       "      <td>1</td>\n",
       "    </tr>\n",
       "  </tbody>\n",
       "</table>\n",
       "</div>"
      ],
      "text/plain": [
       "  ChemicalID     DiseaseID                                               DVec  \\\n",
       "1    C049584  MESH:D018270  [1.97611600e-02, 9.82791930e-02, 3.69541571e-0...   \n",
       "2    C049584  MESH:D019457  [0.03360923, 0.10056757, 0.05314376, -0.113913...   \n",
       "3    C049584  MESH:D003110  [0.00136586, 0.13832065, 0.02338981, -0.113038...   \n",
       "4    C049584  MESH:D015179  [-0.02237691, 0.07948194, -0.09784327, -0.0321...   \n",
       "5    C049584  MESH:D018450  [3.39546017e-02, 1.23659089e-01, 3.62569839e-0...   \n",
       "\n",
       "                                                CVec  Correlation  \n",
       "1  [0.02189679, 0.10079688, 0.04159389, -0.099326...            1  \n",
       "2  [0.02189679, 0.10079688, 0.04159389, -0.099326...            1  \n",
       "3  [0.02189679, 0.10079688, 0.04159389, -0.099326...            1  \n",
       "4  [0.02189679, 0.10079688, 0.04159389, -0.099326...            1  \n",
       "5  [0.02189679, 0.10079688, 0.04159389, -0.099326...            1  "
      ]
     },
     "execution_count": 239,
     "metadata": {},
     "output_type": "execute_result"
    }
   ],
   "source": [
    "df1.head()"
   ]
  },
  {
   "cell_type": "code",
   "execution_count": 240,
   "metadata": {},
   "outputs": [],
   "source": [
    "# # Split df into train, test, val\n",
    "# X_train, X_test, y_train, y_test = train_test_split(X, y, test_size=0.2, random_state=1)\n",
    "# X_train, X_val, y_train, y_val = train_test_split(X_train, y_train, test_size=0.2, random_state=1)"
   ]
  },
  {
   "cell_type": "code",
   "execution_count": 241,
   "metadata": {},
   "outputs": [],
   "source": [
    "# For Keras, need to turn inputs into numpy arrays instead of pandas df\n",
    "# First create single np array of the two vectors CONCERN: should these be two separate inputs?\n",
    "Dvecs = pd.DataFrame(df1.DVec.values.tolist(), index= df1.index)\n",
    "Cvecs = pd.DataFrame(df1.CVec.values.tolist(), index= df1.index)\n",
    "all_X = Dvecs.merge(Cvecs, how='outer', left_index=True, right_index=True)\n",
    "all_X = np.array(all_X)"
   ]
  },
  {
   "cell_type": "code",
   "execution_count": 242,
   "metadata": {},
   "outputs": [],
   "source": [
    "# Now create np array of the y output\n",
    "all_y = np.array(df1.Correlation)"
   ]
  },
  {
   "cell_type": "code",
   "execution_count": 243,
   "metadata": {},
   "outputs": [
    {
     "name": "stdout",
     "output_type": "stream",
     "text": [
      "y shape:  (9514,)\n",
      "X shape:  (9514, 400)\n"
     ]
    }
   ],
   "source": [
    "print('y shape: ', all_y.shape)\n",
    "print('X shape: ', all_X.shape)"
   ]
  },
  {
   "cell_type": "code",
   "execution_count": 244,
   "metadata": {},
   "outputs": [],
   "source": [
    "# Split into train, test, val\n",
    "X_train, X_test, y_train, y_test = train_test_split(all_X, all_y, test_size=0.2, random_state=1)\n",
    "X_train, X_val, y_train, y_val = train_test_split(X_train, y_train, test_size=0.2, random_state=1)"
   ]
  },
  {
   "cell_type": "code",
   "execution_count": 245,
   "metadata": {},
   "outputs": [
    {
     "data": {
      "text/plain": [
       "numpy.ndarray"
      ]
     },
     "execution_count": 245,
     "metadata": {},
     "output_type": "execute_result"
    }
   ],
   "source": [
    "type(X_train)"
   ]
  },
  {
   "cell_type": "markdown",
   "metadata": {},
   "source": [
    "### 3. Establish NN Model"
   ]
  },
  {
   "cell_type": "code",
   "execution_count": 246,
   "metadata": {},
   "outputs": [],
   "source": [
    "# 1. Establish the model architecture\n",
    "model = keras.Sequential([\n",
    "    keras.layers.Dense(200, activation=tf.nn.relu), #Dense layers are fully connected, this one 128 nodes\n",
    "    keras.layers.Dense(200, activation=tf.nn.relu), #it's safe to say that I don't know what I'm doing here\n",
    "    keras.layers.Dense(1, activation=tf.nn.sigmoid)\n",
    "])\n",
    "# ??? How is the number of nodes decided? Final layer has no. of outcome vars"
   ]
  },
  {
   "cell_type": "code",
   "execution_count": 247,
   "metadata": {},
   "outputs": [],
   "source": [
    "# 2. Compile the model (give it loss func, optimise func and eval metric)\n",
    "model.compile(optimizer=tf.train.AdamOptimizer(), # determines how the model is adapted based on loss func\n",
    "              loss='binary_crossentropy', # measure of accuracy during training\n",
    "              metrics=['accuracy']) # measure for train and testing steps "
   ]
  },
  {
   "cell_type": "code",
   "execution_count": 248,
   "metadata": {},
   "outputs": [
    {
     "name": "stdout",
     "output_type": "stream",
     "text": [
      "Epoch 1/6\n",
      "6088/6088 [==============================] - 4s 577us/step - loss: 0.6872 - acc: 0.5577\n",
      "Epoch 2/6\n",
      "6088/6088 [==============================] - 3s 447us/step - loss: 0.6847 - acc: 0.5631\n",
      "Epoch 3/6\n",
      "6088/6088 [==============================] - 3s 460us/step - loss: 0.6840 - acc: 0.5650\n",
      "Epoch 4/6\n",
      "6088/6088 [==============================] - 3s 439us/step - loss: 0.6845 - acc: 0.5578\n",
      "Epoch 5/6\n",
      "6088/6088 [==============================] - 3s 477us/step - loss: 0.6842 - acc: 0.5627\n",
      "Epoch 6/6\n",
      "6088/6088 [==============================] - 3s 421us/step - loss: 0.6825 - acc: 0.5626\n"
     ]
    },
    {
     "data": {
      "text/plain": [
       "<tensorflow.python.keras.callbacks.History at 0x7fd34afc30b8>"
      ]
     },
     "execution_count": 248,
     "metadata": {},
     "output_type": "execute_result"
    }
   ],
   "source": [
    "# 3. Train\n",
    "model.fit(X_train, y_train, epochs=6) # ??? How is the number of epochs decided, rule of thumb? elbow?"
   ]
  },
  {
   "cell_type": "code",
   "execution_count": 249,
   "metadata": {},
   "outputs": [
    {
     "name": "stdout",
     "output_type": "stream",
     "text": [
      "1903/1903 [==============================] - 1s 473us/step\n",
      "Test accuracy: 0.5622700998580149\n"
     ]
    }
   ],
   "source": [
    "# 4. Evaluate\n",
    "test_loss, test_acc = model.evaluate(X_test, y_test)\n",
    "print('Test accuracy:', test_acc)"
   ]
  },
  {
   "cell_type": "code",
   "execution_count": 228,
   "metadata": {},
   "outputs": [],
   "source": [
    "# # This is pointless - manually verifying accuracy test\n",
    "# # Round predictions to int based on threshold, run accuracy-test manually\n",
    "# predictions = model.predict(X_test)\n",
    "# threshold = predictions[:].sum()/len(predictions) # Threshold is the mean value of predictions\n",
    "# predictions = [int(round(x[0]-threshold+0.5)) for x in predictions]\n",
    "# manual_accuracy = sklearn.metrics.accuracy_score(y_test, predictions, normalize=True, sample_weight=None)\n",
    "# print(manual_accuracy)"
   ]
  },
  {
   "cell_type": "markdown",
   "metadata": {},
   "source": [
    "### 4. Calculate Cosine Similary\n",
    "So NN was a bust... will return to it but for now taking a step back and a broad view of which methods to use\n",
    "to predict chem-dis association <br>\n",
    "Starting with cosine sim of the dis and chem vecs"
   ]
  },
  {
   "cell_type": "code",
   "execution_count": 251,
   "metadata": {},
   "outputs": [
    {
     "data": {
      "text/html": [
       "<div>\n",
       "<style scoped>\n",
       "    .dataframe tbody tr th:only-of-type {\n",
       "        vertical-align: middle;\n",
       "    }\n",
       "\n",
       "    .dataframe tbody tr th {\n",
       "        vertical-align: top;\n",
       "    }\n",
       "\n",
       "    .dataframe thead th {\n",
       "        text-align: right;\n",
       "    }\n",
       "</style>\n",
       "<table border=\"1\" class=\"dataframe\">\n",
       "  <thead>\n",
       "    <tr style=\"text-align: right;\">\n",
       "      <th></th>\n",
       "      <th>ChemicalID</th>\n",
       "      <th>DiseaseID</th>\n",
       "      <th>DVec</th>\n",
       "      <th>CVec</th>\n",
       "      <th>Correlation</th>\n",
       "    </tr>\n",
       "  </thead>\n",
       "  <tbody>\n",
       "    <tr>\n",
       "      <th>1</th>\n",
       "      <td>C049584</td>\n",
       "      <td>MESH:D018270</td>\n",
       "      <td>[1.97611600e-02, 9.82791930e-02, 3.69541571e-0...</td>\n",
       "      <td>[0.02189679, 0.10079688, 0.04159389, -0.099326...</td>\n",
       "      <td>1</td>\n",
       "    </tr>\n",
       "    <tr>\n",
       "      <th>2</th>\n",
       "      <td>C049584</td>\n",
       "      <td>MESH:D019457</td>\n",
       "      <td>[0.03360923, 0.10056757, 0.05314376, -0.113913...</td>\n",
       "      <td>[0.02189679, 0.10079688, 0.04159389, -0.099326...</td>\n",
       "      <td>1</td>\n",
       "    </tr>\n",
       "    <tr>\n",
       "      <th>3</th>\n",
       "      <td>C049584</td>\n",
       "      <td>MESH:D003110</td>\n",
       "      <td>[0.00136586, 0.13832065, 0.02338981, -0.113038...</td>\n",
       "      <td>[0.02189679, 0.10079688, 0.04159389, -0.099326...</td>\n",
       "      <td>1</td>\n",
       "    </tr>\n",
       "    <tr>\n",
       "      <th>4</th>\n",
       "      <td>C049584</td>\n",
       "      <td>MESH:D015179</td>\n",
       "      <td>[-0.02237691, 0.07948194, -0.09784327, -0.0321...</td>\n",
       "      <td>[0.02189679, 0.10079688, 0.04159389, -0.099326...</td>\n",
       "      <td>1</td>\n",
       "    </tr>\n",
       "    <tr>\n",
       "      <th>5</th>\n",
       "      <td>C049584</td>\n",
       "      <td>MESH:D018450</td>\n",
       "      <td>[3.39546017e-02, 1.23659089e-01, 3.62569839e-0...</td>\n",
       "      <td>[0.02189679, 0.10079688, 0.04159389, -0.099326...</td>\n",
       "      <td>1</td>\n",
       "    </tr>\n",
       "  </tbody>\n",
       "</table>\n",
       "</div>"
      ],
      "text/plain": [
       "  ChemicalID     DiseaseID                                               DVec  \\\n",
       "1    C049584  MESH:D018270  [1.97611600e-02, 9.82791930e-02, 3.69541571e-0...   \n",
       "2    C049584  MESH:D019457  [0.03360923, 0.10056757, 0.05314376, -0.113913...   \n",
       "3    C049584  MESH:D003110  [0.00136586, 0.13832065, 0.02338981, -0.113038...   \n",
       "4    C049584  MESH:D015179  [-0.02237691, 0.07948194, -0.09784327, -0.0321...   \n",
       "5    C049584  MESH:D018450  [3.39546017e-02, 1.23659089e-01, 3.62569839e-0...   \n",
       "\n",
       "                                                CVec  Correlation  \n",
       "1  [0.02189679, 0.10079688, 0.04159389, -0.099326...            1  \n",
       "2  [0.02189679, 0.10079688, 0.04159389, -0.099326...            1  \n",
       "3  [0.02189679, 0.10079688, 0.04159389, -0.099326...            1  \n",
       "4  [0.02189679, 0.10079688, 0.04159389, -0.099326...            1  \n",
       "5  [0.02189679, 0.10079688, 0.04159389, -0.099326...            1  "
      ]
     },
     "execution_count": 251,
     "metadata": {},
     "output_type": "execute_result"
    }
   ],
   "source": [
    "df1.head()"
   ]
  },
  {
   "cell_type": "code",
   "execution_count": 260,
   "metadata": {},
   "outputs": [],
   "source": [
    "df1['dvector'] = df1.DVec.map(lambda x: [float(i) for i in x])# ((int(i) for i in x)) for x in df1.DVec)\n",
    "df1['cvector'] = df1.CVec.map(lambda x: [float(i) for i in x])"
   ]
  },
  {
   "cell_type": "code",
   "execution_count": 261,
   "metadata": {},
   "outputs": [
    {
     "data": {
      "text/html": [
       "<div>\n",
       "<style scoped>\n",
       "    .dataframe tbody tr th:only-of-type {\n",
       "        vertical-align: middle;\n",
       "    }\n",
       "\n",
       "    .dataframe tbody tr th {\n",
       "        vertical-align: top;\n",
       "    }\n",
       "\n",
       "    .dataframe thead th {\n",
       "        text-align: right;\n",
       "    }\n",
       "</style>\n",
       "<table border=\"1\" class=\"dataframe\">\n",
       "  <thead>\n",
       "    <tr style=\"text-align: right;\">\n",
       "      <th></th>\n",
       "      <th>ChemicalID</th>\n",
       "      <th>DiseaseID</th>\n",
       "      <th>DVec</th>\n",
       "      <th>CVec</th>\n",
       "      <th>Correlation</th>\n",
       "      <th>dvector</th>\n",
       "      <th>cvector</th>\n",
       "    </tr>\n",
       "  </thead>\n",
       "  <tbody>\n",
       "    <tr>\n",
       "      <th>1</th>\n",
       "      <td>C049584</td>\n",
       "      <td>MESH:D018270</td>\n",
       "      <td>[1.97611600e-02, 9.82791930e-02, 3.69541571e-0...</td>\n",
       "      <td>[0.02189679, 0.10079688, 0.04159389, -0.099326...</td>\n",
       "      <td>1</td>\n",
       "      <td>[0.01976116, 0.098279193, 0.0369541571, -0.089...</td>\n",
       "      <td>[0.02189679, 0.10079688, 0.04159389, -0.099326...</td>\n",
       "    </tr>\n",
       "    <tr>\n",
       "      <th>2</th>\n",
       "      <td>C049584</td>\n",
       "      <td>MESH:D019457</td>\n",
       "      <td>[0.03360923, 0.10056757, 0.05314376, -0.113913...</td>\n",
       "      <td>[0.02189679, 0.10079688, 0.04159389, -0.099326...</td>\n",
       "      <td>1</td>\n",
       "      <td>[0.03360923, 0.10056757, 0.05314376, -0.113913...</td>\n",
       "      <td>[0.02189679, 0.10079688, 0.04159389, -0.099326...</td>\n",
       "    </tr>\n",
       "    <tr>\n",
       "      <th>3</th>\n",
       "      <td>C049584</td>\n",
       "      <td>MESH:D003110</td>\n",
       "      <td>[0.00136586, 0.13832065, 0.02338981, -0.113038...</td>\n",
       "      <td>[0.02189679, 0.10079688, 0.04159389, -0.099326...</td>\n",
       "      <td>1</td>\n",
       "      <td>[0.00136586, 0.13832065, 0.02338981, -0.113038...</td>\n",
       "      <td>[0.02189679, 0.10079688, 0.04159389, -0.099326...</td>\n",
       "    </tr>\n",
       "    <tr>\n",
       "      <th>4</th>\n",
       "      <td>C049584</td>\n",
       "      <td>MESH:D015179</td>\n",
       "      <td>[-0.02237691, 0.07948194, -0.09784327, -0.0321...</td>\n",
       "      <td>[0.02189679, 0.10079688, 0.04159389, -0.099326...</td>\n",
       "      <td>1</td>\n",
       "      <td>[-0.02237691, 0.07948194, -0.09784327, -0.0321...</td>\n",
       "      <td>[0.02189679, 0.10079688, 0.04159389, -0.099326...</td>\n",
       "    </tr>\n",
       "    <tr>\n",
       "      <th>5</th>\n",
       "      <td>C049584</td>\n",
       "      <td>MESH:D018450</td>\n",
       "      <td>[3.39546017e-02, 1.23659089e-01, 3.62569839e-0...</td>\n",
       "      <td>[0.02189679, 0.10079688, 0.04159389, -0.099326...</td>\n",
       "      <td>1</td>\n",
       "      <td>[0.0339546017, 0.123659089, 0.0362569839, -0.1...</td>\n",
       "      <td>[0.02189679, 0.10079688, 0.04159389, -0.099326...</td>\n",
       "    </tr>\n",
       "  </tbody>\n",
       "</table>\n",
       "</div>"
      ],
      "text/plain": [
       "  ChemicalID     DiseaseID                                               DVec  \\\n",
       "1    C049584  MESH:D018270  [1.97611600e-02, 9.82791930e-02, 3.69541571e-0...   \n",
       "2    C049584  MESH:D019457  [0.03360923, 0.10056757, 0.05314376, -0.113913...   \n",
       "3    C049584  MESH:D003110  [0.00136586, 0.13832065, 0.02338981, -0.113038...   \n",
       "4    C049584  MESH:D015179  [-0.02237691, 0.07948194, -0.09784327, -0.0321...   \n",
       "5    C049584  MESH:D018450  [3.39546017e-02, 1.23659089e-01, 3.62569839e-0...   \n",
       "\n",
       "                                                CVec  Correlation  \\\n",
       "1  [0.02189679, 0.10079688, 0.04159389, -0.099326...            1   \n",
       "2  [0.02189679, 0.10079688, 0.04159389, -0.099326...            1   \n",
       "3  [0.02189679, 0.10079688, 0.04159389, -0.099326...            1   \n",
       "4  [0.02189679, 0.10079688, 0.04159389, -0.099326...            1   \n",
       "5  [0.02189679, 0.10079688, 0.04159389, -0.099326...            1   \n",
       "\n",
       "                                             dvector  \\\n",
       "1  [0.01976116, 0.098279193, 0.0369541571, -0.089...   \n",
       "2  [0.03360923, 0.10056757, 0.05314376, -0.113913...   \n",
       "3  [0.00136586, 0.13832065, 0.02338981, -0.113038...   \n",
       "4  [-0.02237691, 0.07948194, -0.09784327, -0.0321...   \n",
       "5  [0.0339546017, 0.123659089, 0.0362569839, -0.1...   \n",
       "\n",
       "                                             cvector  \n",
       "1  [0.02189679, 0.10079688, 0.04159389, -0.099326...  \n",
       "2  [0.02189679, 0.10079688, 0.04159389, -0.099326...  \n",
       "3  [0.02189679, 0.10079688, 0.04159389, -0.099326...  \n",
       "4  [0.02189679, 0.10079688, 0.04159389, -0.099326...  \n",
       "5  [0.02189679, 0.10079688, 0.04159389, -0.099326...  "
      ]
     },
     "execution_count": 261,
     "metadata": {},
     "output_type": "execute_result"
    }
   ],
   "source": [
    "df1.head()"
   ]
  },
  {
   "cell_type": "code",
   "execution_count": 266,
   "metadata": {},
   "outputs": [
    {
     "data": {
      "text/plain": [
       "[0.01976116,\n",
       " 0.098279193,\n",
       " 0.0369541571,\n",
       " -0.0897530913,\n",
       " -0.154745102,\n",
       " 0.0290236436,\n",
       " 0.0530408919,\n",
       " -0.000902482425,\n",
       " 0.0720053613,\n",
       " -0.041336827,\n",
       " 0.00992028508,\n",
       " -0.103465043,\n",
       " -0.014664581,\n",
       " 0.0093777962,\n",
       " 0.148570582,\n",
       " 0.0985531509,\n",
       " -0.0434654877,\n",
       " -0.0865896568,\n",
       " 0.00383703806,\n",
       " -0.00602399092,\n",
       " 0.0253834855,\n",
       " 0.0271703824,\n",
       " 0.0382526852,\n",
       " 0.0886162743,\n",
       " -0.0628179833,\n",
       " -0.0523640253,\n",
       " 0.0281912461,\n",
       " -0.106265023,\n",
       " 0.0880977809,\n",
       " 0.0111200521,\n",
       " 0.0212230459,\n",
       " -0.00216637924,\n",
       " -0.0410975516,\n",
       " 0.110580273,\n",
       " 0.0171194188,\n",
       " 0.0934675559,\n",
       " 0.101760432,\n",
       " -0.046714969,\n",
       " 0.113564804,\n",
       " 0.0228218939,\n",
       " -0.0267247092,\n",
       " 0.0281053428,\n",
       " -0.0340921618,\n",
       " 0.180602431,\n",
       " -0.15899086,\n",
       " -0.0727024078,\n",
       " 0.0102252197,\n",
       " -3.06672082e-05,\n",
       " 0.0731203109,\n",
       " 0.0928461328,\n",
       " 0.0489640646,\n",
       " -0.087873444,\n",
       " -0.0385674052,\n",
       " -0.101904385,\n",
       " -0.0293791089,\n",
       " 0.0235408749,\n",
       " 0.101567715,\n",
       " 0.0562058017,\n",
       " 0.0511286631,\n",
       " -0.0166602544,\n",
       " -0.020712819,\n",
       " 0.0195202716,\n",
       " -0.00397341931,\n",
       " 0.0343304649,\n",
       " 0.121722341,\n",
       " -0.0123476144,\n",
       " 0.0218852758,\n",
       " -0.0325965807,\n",
       " 0.155512631,\n",
       " 0.0549674854,\n",
       " -0.0878389329,\n",
       " -0.0400753655,\n",
       " -0.041420389,\n",
       " 0.0437979549,\n",
       " -0.0876975134,\n",
       " 0.0159843005,\n",
       " 0.0137631381,\n",
       " 0.0672762468,\n",
       " 0.12147674,\n",
       " 0.0141293807,\n",
       " -0.0351618826,\n",
       " 0.0105540548,\n",
       " 0.033783026,\n",
       " -0.123093829,\n",
       " -0.116569348,\n",
       " -0.0106221512,\n",
       " 0.12841545,\n",
       " 0.0514731593,\n",
       " 0.0299033113,\n",
       " 0.0514240451,\n",
       " -0.0349332988,\n",
       " -0.000967165979,\n",
       " 0.0673857406,\n",
       " 0.01660515,\n",
       " 0.0245992374,\n",
       " 0.0802912042,\n",
       " -0.00361268874,\n",
       " 0.0565439388,\n",
       " -0.0475817621,\n",
       " 0.0181755349,\n",
       " -0.0698470697,\n",
       " 0.0444384813,\n",
       " -0.0413401909,\n",
       " 0.0656687319,\n",
       " 0.0177244134,\n",
       " 0.0527696423,\n",
       " 0.108111247,\n",
       " -0.0356852822,\n",
       " -0.0533640273,\n",
       " -0.0721433461,\n",
       " -0.170182973,\n",
       " -0.0575000867,\n",
       " -0.0987882763,\n",
       " 0.0271505695,\n",
       " 0.00445841672,\n",
       " 0.0204351693,\n",
       " -0.128100693,\n",
       " 0.0090023065,\n",
       " 0.0352282375,\n",
       " 0.16023916,\n",
       " 0.00112828112,\n",
       " -0.00458763726,\n",
       " 0.011141046,\n",
       " -0.14761205,\n",
       " -0.0460876152,\n",
       " -0.0310723856,\n",
       " 0.0274213459,\n",
       " 0.0208546612,\n",
       " 0.0285958219,\n",
       " 0.0186498426,\n",
       " -0.0261295922,\n",
       " -0.0368124209,\n",
       " -0.0674811453,\n",
       " 0.0444066972,\n",
       " -0.100831471,\n",
       " 0.0788870975,\n",
       " 0.0156066613,\n",
       " 0.0129193375,\n",
       " -0.0940585211,\n",
       " -0.0904484838,\n",
       " 0.0866772085,\n",
       " -0.0876237601,\n",
       " 0.013715283,\n",
       " -0.0471406803,\n",
       " 0.140075266,\n",
       " -0.0535540655,\n",
       " -0.0614953451,\n",
       " 0.00888747908,\n",
       " -0.040833652,\n",
       " -0.0170766003,\n",
       " 0.0601788498,\n",
       " 0.046090845,\n",
       " -0.0382508561,\n",
       " 0.025382597,\n",
       " -0.073096469,\n",
       " 0.0841993093,\n",
       " -0.0663813204,\n",
       " -0.0470793322,\n",
       " -0.0781710893,\n",
       " 0.0666118637,\n",
       " 0.0217084177,\n",
       " 0.0233940501,\n",
       " -0.0339512788,\n",
       " -0.0307276398,\n",
       " -0.112150505,\n",
       " -0.0185523853,\n",
       " -0.0886714533,\n",
       " 0.0609160475,\n",
       " -0.00535748294,\n",
       " 0.0787673444,\n",
       " 0.0505717881,\n",
       " -0.0722109601,\n",
       " 0.0257497076,\n",
       " -0.124452978,\n",
       " 0.00464545051,\n",
       " -0.086503163,\n",
       " -0.134780958,\n",
       " 0.0552128591,\n",
       " 0.152813002,\n",
       " 0.0692452267,\n",
       " 0.0431827307,\n",
       " 0.0270960014,\n",
       " -0.000825036492,\n",
       " 0.0751617774,\n",
       " 0.0120612094,\n",
       " 0.0513097383,\n",
       " 0.107490771,\n",
       " 0.0139353378,\n",
       " 0.0411613658,\n",
       " 0.137252957,\n",
       " 0.0485222414,\n",
       " 0.000102987513,\n",
       " -0.0132643115,\n",
       " 0.0307199862,\n",
       " -0.00112088164,\n",
       " -0.0723629594,\n",
       " 0.051634226,\n",
       " 0.0850127116,\n",
       " 0.00593340956,\n",
       " 0.0607450977]"
      ]
     },
     "execution_count": 266,
     "metadata": {},
     "output_type": "execute_result"
    }
   ],
   "source": [
    "df1.dvector[1]"
   ]
  },
  {
   "cell_type": "code",
   "execution_count": 269,
   "metadata": {},
   "outputs": [],
   "source": [
    "s = tf.losses.cosine_distance(tf.nn.l2_normalize(df1.dvector[1], 0), tf.nn.l2_normalize(df1.cvector[1], 0), axis=0)"
   ]
  },
  {
   "cell_type": "code",
   "execution_count": 270,
   "metadata": {},
   "outputs": [
    {
     "data": {
      "text/plain": [
       "<tf.Tensor 'cosine_distance_loss_1/value:0' shape=() dtype=float32>"
      ]
     },
     "execution_count": 270,
     "metadata": {},
     "output_type": "execute_result"
    }
   ],
   "source": [
    "tf.losses.cosine_distance(\n",
    "    labels,\n",
    "    predictions,\n",
    "    axis=None,\n",
    "    weights=1.0,\n",
    "    scope=None,\n",
    "    loss_collection=tf.GraphKeys.LOSSES,\n",
    "    reduction=Reduction.SUM_BY_NONZERO_WEIGHTS,\n",
    "    dim=None\n",
    ")"
   ]
  },
  {
   "cell_type": "code",
   "execution_count": 279,
   "metadata": {},
   "outputs": [
    {
     "data": {
      "text/plain": [
       "array([[0.98706982]])"
      ]
     },
     "execution_count": 279,
     "metadata": {},
     "output_type": "execute_result"
    }
   ],
   "source": [
    "\n",
    "df1['cosine_sim'] = cosine_similarity(np.array(df1.dvector[1]).reshape(1, -1), np.array(df1.cvector[1]).reshape(1, -1))"
   ]
  },
  {
   "cell_type": "code",
   "execution_count": 291,
   "metadata": {},
   "outputs": [],
   "source": [
    "def cosine_sim (row):\n",
    "    return cosine_similarity(np.array(row.dvector).reshape(1, -1), np.array(row.cvector).reshape(1, -1))[0][0]"
   ]
  },
  {
   "cell_type": "code",
   "execution_count": 292,
   "metadata": {},
   "outputs": [],
   "source": [
    "df1['cosine_sim'] = df1.apply(lambda row: cosine_sim(row), axis=1)"
   ]
  },
  {
   "cell_type": "code",
   "execution_count": 293,
   "metadata": {},
   "outputs": [],
   "source": [
    "# type(cosine_similarity(np.array(df1.dvector[1]).reshape(1, -1), np.array(df1.cvector[1]).reshape(1, -1))[0][0])"
   ]
  },
  {
   "cell_type": "code",
   "execution_count": 296,
   "metadata": {},
   "outputs": [
    {
     "data": {
      "text/plain": [
       "0.8967551173162478"
      ]
     },
     "execution_count": 296,
     "metadata": {},
     "output_type": "execute_result"
    }
   ],
   "source": [
    "df1.cosine_sim.mean()"
   ]
  },
  {
   "cell_type": "code",
   "execution_count": 295,
   "metadata": {},
   "outputs": [
    {
     "data": {
      "text/html": [
       "<div>\n",
       "<style scoped>\n",
       "    .dataframe tbody tr th:only-of-type {\n",
       "        vertical-align: middle;\n",
       "    }\n",
       "\n",
       "    .dataframe tbody tr th {\n",
       "        vertical-align: top;\n",
       "    }\n",
       "\n",
       "    .dataframe thead th {\n",
       "        text-align: right;\n",
       "    }\n",
       "</style>\n",
       "<table border=\"1\" class=\"dataframe\">\n",
       "  <thead>\n",
       "    <tr style=\"text-align: right;\">\n",
       "      <th></th>\n",
       "      <th>ChemicalID</th>\n",
       "      <th>DiseaseID</th>\n",
       "      <th>DVec</th>\n",
       "      <th>CVec</th>\n",
       "      <th>Correlation</th>\n",
       "      <th>dvector</th>\n",
       "      <th>cvector</th>\n",
       "      <th>cosine_sim</th>\n",
       "    </tr>\n",
       "  </thead>\n",
       "  <tbody>\n",
       "    <tr>\n",
       "      <th>4487</th>\n",
       "      <td>D017239</td>\n",
       "      <td>MESH:D010523</td>\n",
       "      <td>[-1.09452317e-02, 1.57868296e-01, 1.80701411e-...</td>\n",
       "      <td>[3.05738989e-02, 1.24812022e-01, 4.42865677e-0...</td>\n",
       "      <td>1</td>\n",
       "      <td>[-0.0109452317, 0.157868296, 0.00180701411, -0...</td>\n",
       "      <td>[0.0305738989, 0.124812022, 0.0442865677, -0.1...</td>\n",
       "      <td>0.877209</td>\n",
       "    </tr>\n",
       "    <tr>\n",
       "      <th>12465</th>\n",
       "      <td>D014747</td>\n",
       "      <td>MESH:D007248</td>\n",
       "      <td>[1.71829686e-02, 1.39605537e-01, 2.36382452e-0...</td>\n",
       "      <td>[0.01618104, 0.07219438, -0.15823099, -0.02158...</td>\n",
       "      <td>0</td>\n",
       "      <td>[0.0171829686, 0.139605537, 0.00236382452, -0....</td>\n",
       "      <td>[0.01618104, 0.07219438, -0.15823099, -0.02158...</td>\n",
       "      <td>0.869425</td>\n",
       "    </tr>\n",
       "    <tr>\n",
       "      <th>12161</th>\n",
       "      <td>D017258</td>\n",
       "      <td>MESH:D001281</td>\n",
       "      <td>[0.03029574, 0.12470473, 0.04246138, -0.127076...</td>\n",
       "      <td>[3.73844840e-02, 9.46905091e-02, 2.48691831e-0...</td>\n",
       "      <td>0</td>\n",
       "      <td>[0.03029574, 0.12470473, 0.04246138, -0.127076...</td>\n",
       "      <td>[0.037384484, 0.0946905091, 0.0248691831, -0.1...</td>\n",
       "      <td>0.973461</td>\n",
       "    </tr>\n",
       "    <tr>\n",
       "      <th>2781</th>\n",
       "      <td>D026023</td>\n",
       "      <td>MESH:D005911</td>\n",
       "      <td>[3.08072437e-02, 1.20687835e-01, 4.16728817e-0...</td>\n",
       "      <td>[0.03310541, 0.08051842, 0.04012659, -0.070637...</td>\n",
       "      <td>1</td>\n",
       "      <td>[0.0308072437, 0.120687835, 0.0416728817, -0.1...</td>\n",
       "      <td>[0.03310541, 0.08051842, 0.04012659, -0.070637...</td>\n",
       "      <td>0.969631</td>\n",
       "    </tr>\n",
       "    <tr>\n",
       "      <th>5827</th>\n",
       "      <td>C030852</td>\n",
       "      <td>MESH:D013280</td>\n",
       "      <td>[0.02112314, 0.11517609, 0.04242558, -0.101617...</td>\n",
       "      <td>[0.0010688, 0.11910306, 0.03999582, -0.1281371...</td>\n",
       "      <td>1</td>\n",
       "      <td>[0.02112314, 0.11517609, 0.04242558, -0.101617...</td>\n",
       "      <td>[0.0010688, 0.11910306, 0.03999582, -0.1281371...</td>\n",
       "      <td>0.970135</td>\n",
       "    </tr>\n",
       "    <tr>\n",
       "      <th>13097</th>\n",
       "      <td>D003976</td>\n",
       "      <td>MESH:D003110</td>\n",
       "      <td>[0.00136586, 0.13832065, 0.02338981, -0.113038...</td>\n",
       "      <td>[2.63617318e-02, 1.08001307e-01, 4.83879410e-0...</td>\n",
       "      <td>0</td>\n",
       "      <td>[0.00136586, 0.13832065, 0.02338981, -0.113038...</td>\n",
       "      <td>[0.0263617318, 0.108001307, 0.048387941, -0.09...</td>\n",
       "      <td>0.892396</td>\n",
       "    </tr>\n",
       "    <tr>\n",
       "      <th>5929</th>\n",
       "      <td>D010894</td>\n",
       "      <td>MESH:D002779</td>\n",
       "      <td>[0.00174257, 0.08889782, -0.01832172, -0.07990...</td>\n",
       "      <td>[1.70917287e-02, 9.46692526e-02, 4.82771657e-0...</td>\n",
       "      <td>1</td>\n",
       "      <td>[0.00174257, 0.08889782, -0.01832172, -0.07990...</td>\n",
       "      <td>[0.0170917287, 0.0946692526, 0.0482771657, -0....</td>\n",
       "      <td>0.861249</td>\n",
       "    </tr>\n",
       "    <tr>\n",
       "      <th>10247</th>\n",
       "      <td>C049109</td>\n",
       "      <td>MESH:D006331</td>\n",
       "      <td>[1.17974998e-02, 1.22592472e-01, 2.86617447e-0...</td>\n",
       "      <td>[0.06243994, 0.11764007, 0.00298701, -0.105037...</td>\n",
       "      <td>0</td>\n",
       "      <td>[0.0117974998, 0.122592472, 0.0286617447, -0.1...</td>\n",
       "      <td>[0.06243994, 0.11764007, 0.00298701, -0.105037...</td>\n",
       "      <td>0.963265</td>\n",
       "    </tr>\n",
       "    <tr>\n",
       "      <th>1973</th>\n",
       "      <td>C006632</td>\n",
       "      <td>MESH:D017180</td>\n",
       "      <td>[0.04513699, 0.1102139, 0.02985132, -0.1074163...</td>\n",
       "      <td>[0.01304277, 0.08549409, 0.03833252, -0.092752...</td>\n",
       "      <td>1</td>\n",
       "      <td>[0.04513699, 0.1102139, 0.02985132, -0.1074163...</td>\n",
       "      <td>[0.01304277, 0.08549409, 0.03833252, -0.092752...</td>\n",
       "      <td>0.983344</td>\n",
       "    </tr>\n",
       "    <tr>\n",
       "      <th>2384</th>\n",
       "      <td>D010634</td>\n",
       "      <td>MESH:D019954</td>\n",
       "      <td>[0.02417529, 0.09007905, 0.0597823, -0.1178615...</td>\n",
       "      <td>[0.02074566, 0.09746573, 0.02772122, -0.109691...</td>\n",
       "      <td>1</td>\n",
       "      <td>[0.02417529, 0.09007905, 0.0597823, -0.1178615...</td>\n",
       "      <td>[0.02074566, 0.09746573, 0.02772122, -0.109691...</td>\n",
       "      <td>0.941925</td>\n",
       "    </tr>\n",
       "    <tr>\n",
       "      <th>4503</th>\n",
       "      <td>D017239</td>\n",
       "      <td>MESH:D009410</td>\n",
       "      <td>[0.00941612, 0.11272019, -0.06743897, -0.08106...</td>\n",
       "      <td>[3.05738989e-02, 1.24812022e-01, 4.42865677e-0...</td>\n",
       "      <td>1</td>\n",
       "      <td>[0.00941612, 0.11272019, -0.06743897, -0.08106...</td>\n",
       "      <td>[0.0305738989, 0.124812022, 0.0442865677, -0.1...</td>\n",
       "      <td>0.859734</td>\n",
       "    </tr>\n",
       "    <tr>\n",
       "      <th>9077</th>\n",
       "      <td>D014807</td>\n",
       "      <td>MESH:D007333</td>\n",
       "      <td>[0.02338716, 0.09601952, 0.02362998, -0.079770...</td>\n",
       "      <td>[5.64234215e-04, 1.36597201e-01, 1.32264718e-0...</td>\n",
       "      <td>0</td>\n",
       "      <td>[0.02338716, 0.09601952, 0.02362998, -0.079770...</td>\n",
       "      <td>[0.000564234215, 0.136597201, 0.0132264718, -0...</td>\n",
       "      <td>0.975617</td>\n",
       "    </tr>\n",
       "    <tr>\n",
       "      <th>11642</th>\n",
       "      <td>D014752</td>\n",
       "      <td>MESH:D006973</td>\n",
       "      <td>[0.04625722, 0.1161728, -0.05296138, -0.058156...</td>\n",
       "      <td>[-0.01697299, 0.10775778, 0.02723478, -0.09060...</td>\n",
       "      <td>0</td>\n",
       "      <td>[0.04625722, 0.1161728, -0.05296138, -0.058156...</td>\n",
       "      <td>[-0.01697299, 0.10775778, 0.02723478, -0.09060...</td>\n",
       "      <td>0.944625</td>\n",
       "    </tr>\n",
       "  </tbody>\n",
       "</table>\n",
       "</div>"
      ],
      "text/plain": [
       "      ChemicalID     DiseaseID  \\\n",
       "4487     D017239  MESH:D010523   \n",
       "12465    D014747  MESH:D007248   \n",
       "12161    D017258  MESH:D001281   \n",
       "2781     D026023  MESH:D005911   \n",
       "5827     C030852  MESH:D013280   \n",
       "13097    D003976  MESH:D003110   \n",
       "5929     D010894  MESH:D002779   \n",
       "10247    C049109  MESH:D006331   \n",
       "1973     C006632  MESH:D017180   \n",
       "2384     D010634  MESH:D019954   \n",
       "4503     D017239  MESH:D009410   \n",
       "9077     D014807  MESH:D007333   \n",
       "11642    D014752  MESH:D006973   \n",
       "\n",
       "                                                    DVec  \\\n",
       "4487   [-1.09452317e-02, 1.57868296e-01, 1.80701411e-...   \n",
       "12465  [1.71829686e-02, 1.39605537e-01, 2.36382452e-0...   \n",
       "12161  [0.03029574, 0.12470473, 0.04246138, -0.127076...   \n",
       "2781   [3.08072437e-02, 1.20687835e-01, 4.16728817e-0...   \n",
       "5827   [0.02112314, 0.11517609, 0.04242558, -0.101617...   \n",
       "13097  [0.00136586, 0.13832065, 0.02338981, -0.113038...   \n",
       "5929   [0.00174257, 0.08889782, -0.01832172, -0.07990...   \n",
       "10247  [1.17974998e-02, 1.22592472e-01, 2.86617447e-0...   \n",
       "1973   [0.04513699, 0.1102139, 0.02985132, -0.1074163...   \n",
       "2384   [0.02417529, 0.09007905, 0.0597823, -0.1178615...   \n",
       "4503   [0.00941612, 0.11272019, -0.06743897, -0.08106...   \n",
       "9077   [0.02338716, 0.09601952, 0.02362998, -0.079770...   \n",
       "11642  [0.04625722, 0.1161728, -0.05296138, -0.058156...   \n",
       "\n",
       "                                                    CVec  Correlation  \\\n",
       "4487   [3.05738989e-02, 1.24812022e-01, 4.42865677e-0...            1   \n",
       "12465  [0.01618104, 0.07219438, -0.15823099, -0.02158...            0   \n",
       "12161  [3.73844840e-02, 9.46905091e-02, 2.48691831e-0...            0   \n",
       "2781   [0.03310541, 0.08051842, 0.04012659, -0.070637...            1   \n",
       "5827   [0.0010688, 0.11910306, 0.03999582, -0.1281371...            1   \n",
       "13097  [2.63617318e-02, 1.08001307e-01, 4.83879410e-0...            0   \n",
       "5929   [1.70917287e-02, 9.46692526e-02, 4.82771657e-0...            1   \n",
       "10247  [0.06243994, 0.11764007, 0.00298701, -0.105037...            0   \n",
       "1973   [0.01304277, 0.08549409, 0.03833252, -0.092752...            1   \n",
       "2384   [0.02074566, 0.09746573, 0.02772122, -0.109691...            1   \n",
       "4503   [3.05738989e-02, 1.24812022e-01, 4.42865677e-0...            1   \n",
       "9077   [5.64234215e-04, 1.36597201e-01, 1.32264718e-0...            0   \n",
       "11642  [-0.01697299, 0.10775778, 0.02723478, -0.09060...            0   \n",
       "\n",
       "                                                 dvector  \\\n",
       "4487   [-0.0109452317, 0.157868296, 0.00180701411, -0...   \n",
       "12465  [0.0171829686, 0.139605537, 0.00236382452, -0....   \n",
       "12161  [0.03029574, 0.12470473, 0.04246138, -0.127076...   \n",
       "2781   [0.0308072437, 0.120687835, 0.0416728817, -0.1...   \n",
       "5827   [0.02112314, 0.11517609, 0.04242558, -0.101617...   \n",
       "13097  [0.00136586, 0.13832065, 0.02338981, -0.113038...   \n",
       "5929   [0.00174257, 0.08889782, -0.01832172, -0.07990...   \n",
       "10247  [0.0117974998, 0.122592472, 0.0286617447, -0.1...   \n",
       "1973   [0.04513699, 0.1102139, 0.02985132, -0.1074163...   \n",
       "2384   [0.02417529, 0.09007905, 0.0597823, -0.1178615...   \n",
       "4503   [0.00941612, 0.11272019, -0.06743897, -0.08106...   \n",
       "9077   [0.02338716, 0.09601952, 0.02362998, -0.079770...   \n",
       "11642  [0.04625722, 0.1161728, -0.05296138, -0.058156...   \n",
       "\n",
       "                                                 cvector  cosine_sim  \n",
       "4487   [0.0305738989, 0.124812022, 0.0442865677, -0.1...    0.877209  \n",
       "12465  [0.01618104, 0.07219438, -0.15823099, -0.02158...    0.869425  \n",
       "12161  [0.037384484, 0.0946905091, 0.0248691831, -0.1...    0.973461  \n",
       "2781   [0.03310541, 0.08051842, 0.04012659, -0.070637...    0.969631  \n",
       "5827   [0.0010688, 0.11910306, 0.03999582, -0.1281371...    0.970135  \n",
       "13097  [0.0263617318, 0.108001307, 0.048387941, -0.09...    0.892396  \n",
       "5929   [0.0170917287, 0.0946692526, 0.0482771657, -0....    0.861249  \n",
       "10247  [0.06243994, 0.11764007, 0.00298701, -0.105037...    0.963265  \n",
       "1973   [0.01304277, 0.08549409, 0.03833252, -0.092752...    0.983344  \n",
       "2384   [0.02074566, 0.09746573, 0.02772122, -0.109691...    0.941925  \n",
       "4503   [0.0305738989, 0.124812022, 0.0442865677, -0.1...    0.859734  \n",
       "9077   [0.000564234215, 0.136597201, 0.0132264718, -0...    0.975617  \n",
       "11642  [-0.01697299, 0.10775778, 0.02723478, -0.09060...    0.944625  "
      ]
     },
     "execution_count": 295,
     "metadata": {},
     "output_type": "execute_result"
    }
   ],
   "source": [
    "df1.sample(13)"
   ]
  },
  {
   "cell_type": "code",
   "execution_count": null,
   "metadata": {},
   "outputs": [],
   "source": []
  }
 ],
 "metadata": {
  "kernelspec": {
   "display_name": "Python 3",
   "language": "python",
   "name": "python3"
  },
  "language_info": {
   "codemirror_mode": {
    "name": "ipython",
    "version": 3
   },
   "file_extension": ".py",
   "mimetype": "text/x-python",
   "name": "python",
   "nbconvert_exporter": "python",
   "pygments_lexer": "ipython3",
   "version": "3.6.5"
  }
 },
 "nbformat": 4,
 "nbformat_minor": 2
}
