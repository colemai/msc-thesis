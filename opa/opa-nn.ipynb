{
 "cells": [
  {
   "cell_type": "markdown",
   "metadata": {},
   "source": [
    "# Notebook: Use NN to predict disease from chemicals using Opa2Vec vectors\n",
    "<b> Author: </b> Ian Coleman <br>\n",
    "<b> Purpose: </b> Take the vectors created in the opa2vec notebook. This took chemical go functions\n",
    "    and disease go function, creating vectors for each. Train a NN to predict positive chem-dis relationships from these vectors"
   ]
  },
  {
   "cell_type": "code",
   "execution_count": 48,
   "metadata": {},
   "outputs": [],
   "source": [
    "## TODO\n",
    "# Hyperparameter tuning:\n",
    "# 1. How many uncorrelated pairs do we want\n",
    "# 2. Epochs\n",
    "# 3. Batch size\n",
    "# 4. Number of layers, number of nodes per layer\n",
    "# 5. Activation functions"
   ]
  },
  {
   "cell_type": "code",
   "execution_count": 49,
   "metadata": {},
   "outputs": [],
   "source": [
    "import tensorflow as tf\n",
    "from tensorflow import keras\n",
    "import numpy as np\n",
    "import matplotlib.pyplot as plt\n",
    "import pandas as pd\n",
    "from random import randint\n",
    "import random\n",
    "from sklearn.model_selection import train_test_split\n",
    "import sklearn\n",
    "from sklearn.metrics.pairwise import cosine_similarity\n",
    "from sklearn.metrics import roc_curve\n",
    "from sklearn.metrics import roc_auc_score\n",
    "from pandas_ml import ConfusionMatrix\n",
    "import json\n",
    "import subprocess\n",
    "from correlade import correlade\n",
    "import distcorr\n",
    "\n",
    "#Set random seed\n",
    "np.random.seed(1606)"
   ]
  },
  {
   "cell_type": "markdown",
   "metadata": {},
   "source": [
    "### 1. Import Vectors and Pre-Process them"
   ]
  },
  {
   "cell_type": "code",
   "execution_count": 50,
   "metadata": {},
   "outputs": [],
   "source": [
    "# Import vec file\n",
    "with open('AllVectorResults.lst', 'r') as file:\n",
    "    text = file.read()"
   ]
  },
  {
   "cell_type": "code",
   "execution_count": 51,
   "metadata": {},
   "outputs": [],
   "source": [
    "# Strip and split vector data into list of lists [chem, vec]\n",
    "text = text.replace('\\n', '')\n",
    "text = text.split(']')\n",
    "text = [item.strip().split(' [') for item in text]\n",
    "\n",
    "# Turn it into a data frame\n",
    "df = pd.DataFrame(text)\n",
    "df.columns = ['ID', 'Vector']\n",
    "\n",
    "# Clean\n",
    "df = df.dropna()\n",
    "df['Vector'] = df.Vector.map(lambda x: x.rstrip().lstrip().replace('    ', ' ').replace('   ', ' ').replace('  ', ' ').replace(' ', ','))\n",
    "\n",
    "# Turn vector column into a list\n",
    "df['Vector'] = df.Vector.map(lambda x: x.split(','))"
   ]
  },
  {
   "cell_type": "code",
   "execution_count": 52,
   "metadata": {},
   "outputs": [
    {
     "data": {
      "text/html": [
       "<div>\n",
       "<style scoped>\n",
       "    .dataframe tbody tr th:only-of-type {\n",
       "        vertical-align: middle;\n",
       "    }\n",
       "\n",
       "    .dataframe tbody tr th {\n",
       "        vertical-align: top;\n",
       "    }\n",
       "\n",
       "    .dataframe thead th {\n",
       "        text-align: right;\n",
       "    }\n",
       "</style>\n",
       "<table border=\"1\" class=\"dataframe\">\n",
       "  <thead>\n",
       "    <tr style=\"text-align: right;\">\n",
       "      <th></th>\n",
       "      <th>ID</th>\n",
       "      <th>Vector</th>\n",
       "    </tr>\n",
       "  </thead>\n",
       "  <tbody>\n",
       "    <tr>\n",
       "      <th>0</th>\n",
       "      <td>MESH:D012559</td>\n",
       "      <td>[0.01491615, -0.00155747, -0.30986652, 0.04035...</td>\n",
       "    </tr>\n",
       "    <tr>\n",
       "      <th>1</th>\n",
       "      <td>MESH:D009404</td>\n",
       "      <td>[3.82804424e-02, 1.29408345e-01, 3.75053808e-0...</td>\n",
       "    </tr>\n",
       "    <tr>\n",
       "      <th>2</th>\n",
       "      <td>MESH:D001749</td>\n",
       "      <td>[-0.01025235, 0.00664143, -0.30367315, 0.15593...</td>\n",
       "    </tr>\n",
       "    <tr>\n",
       "      <th>3</th>\n",
       "      <td>MESH:D011471</td>\n",
       "      <td>[-0.0130785, -0.02445601, -0.46697775, 0.13181...</td>\n",
       "    </tr>\n",
       "    <tr>\n",
       "      <th>4</th>\n",
       "      <td>MESH:D008106</td>\n",
       "      <td>[-0.06240484, 0.00166245, -0.5013923, 0.116841...</td>\n",
       "    </tr>\n",
       "  </tbody>\n",
       "</table>\n",
       "</div>"
      ],
      "text/plain": [
       "             ID                                             Vector\n",
       "0  MESH:D012559  [0.01491615, -0.00155747, -0.30986652, 0.04035...\n",
       "1  MESH:D009404  [3.82804424e-02, 1.29408345e-01, 3.75053808e-0...\n",
       "2  MESH:D001749  [-0.01025235, 0.00664143, -0.30367315, 0.15593...\n",
       "3  MESH:D011471  [-0.0130785, -0.02445601, -0.46697775, 0.13181...\n",
       "4  MESH:D008106  [-0.06240484, 0.00166245, -0.5013923, 0.116841..."
      ]
     },
     "execution_count": 52,
     "metadata": {},
     "output_type": "execute_result"
    }
   ],
   "source": [
    "df.head()"
   ]
  },
  {
   "cell_type": "markdown",
   "metadata": {},
   "source": [
    "### 2. Create DF for NN\n",
    "Munge the df into the following columns:<br>\n",
    "ChemID DisID ChemVec DisVec PositiveAssociationExists(binary)"
   ]
  },
  {
   "cell_type": "code",
   "execution_count": 93,
   "metadata": {},
   "outputs": [
    {
     "data": {
      "text/html": [
       "<div>\n",
       "<style scoped>\n",
       "    .dataframe tbody tr th:only-of-type {\n",
       "        vertical-align: middle;\n",
       "    }\n",
       "\n",
       "    .dataframe tbody tr th {\n",
       "        vertical-align: top;\n",
       "    }\n",
       "\n",
       "    .dataframe thead th {\n",
       "        text-align: right;\n",
       "    }\n",
       "</style>\n",
       "<table border=\"1\" class=\"dataframe\">\n",
       "  <thead>\n",
       "    <tr style=\"text-align: right;\">\n",
       "      <th></th>\n",
       "      <th>ChemicalID</th>\n",
       "      <th>DiseaseID</th>\n",
       "      <th>DirectEvidence</th>\n",
       "    </tr>\n",
       "  </thead>\n",
       "  <tbody>\n",
       "    <tr>\n",
       "      <th>0</th>\n",
       "      <td>C046983</td>\n",
       "      <td>MESH:D054198</td>\n",
       "      <td>therapeutic</td>\n",
       "    </tr>\n",
       "    <tr>\n",
       "      <th>1</th>\n",
       "      <td>C112297</td>\n",
       "      <td>MESH:D006948</td>\n",
       "      <td>marker/mechanism</td>\n",
       "    </tr>\n",
       "    <tr>\n",
       "      <th>2</th>\n",
       "      <td>C112297</td>\n",
       "      <td>MESH:D012640</td>\n",
       "      <td>marker/mechanism</td>\n",
       "    </tr>\n",
       "    <tr>\n",
       "      <th>3</th>\n",
       "      <td>C039775</td>\n",
       "      <td>MESH:D004827</td>\n",
       "      <td>therapeutic</td>\n",
       "    </tr>\n",
       "    <tr>\n",
       "      <th>4</th>\n",
       "      <td>C425777</td>\n",
       "      <td>MESH:D006948</td>\n",
       "      <td>marker/mechanism</td>\n",
       "    </tr>\n",
       "  </tbody>\n",
       "</table>\n",
       "</div>"
      ],
      "text/plain": [
       "  ChemicalID     DiseaseID    DirectEvidence\n",
       "0    C046983  MESH:D054198       therapeutic\n",
       "1    C112297  MESH:D006948  marker/mechanism\n",
       "2    C112297  MESH:D012640  marker/mechanism\n",
       "3    C039775  MESH:D004827       therapeutic\n",
       "4    C425777  MESH:D006948  marker/mechanism"
      ]
     },
     "execution_count": 93,
     "metadata": {},
     "output_type": "execute_result"
    }
   ],
   "source": [
    "# Step 1: Import file of proven chem-dis positive associations (created in ctd-to-nt notebook from ctd data)\n",
    "chem_dis = pd.read_csv('../ctd-to-nt/chem-dis-pos-assocs.csv')\n",
    "chem_dis.head()"
   ]
  },
  {
   "cell_type": "code",
   "execution_count": 94,
   "metadata": {},
   "outputs": [
    {
     "data": {
      "text/plain": [
       "3191"
      ]
     },
     "execution_count": 94,
     "metadata": {},
     "output_type": "execute_result"
    }
   ],
   "source": [
    "chem_dis.DiseaseID.nunique()"
   ]
  },
  {
   "cell_type": "code",
   "execution_count": 95,
   "metadata": {},
   "outputs": [],
   "source": [
    "# Get rid of any chems/diseases that don't have a vector\n",
    "chem_dis['DiseaseID'] = chem_dis['DiseaseID'].astype(str)\n",
    "df['ID'] = df['ID'].astype(str)\n",
    "id_list = df.ID.tolist() # list of chems+diseases with vecs\n",
    "\n",
    "# chem_dis['DiseaseID'] = chem_dis['DiseaseID'].str.replace('MESH:', '')\n",
    "# chem_dis['DiseaseID'] = chem_dis['DiseaseID'].str.replace('OMIM:', '')\n",
    "\n",
    "chem_dis['hasDVec'] = chem_dis.DiseaseID.map(lambda x: x in id_list)\n",
    "chem_dis['hasCVec'] = chem_dis.ChemicalID.map(lambda x: x in id_list)\n",
    "chem_dis = chem_dis.loc[(chem_dis['hasDVec'] == True) & (chem_dis['hasCVec'] == True)]\n",
    "chem_dis = chem_dis.drop(['hasDVec','hasCVec'], axis=1)"
   ]
  },
  {
   "cell_type": "code",
   "execution_count": 96,
   "metadata": {},
   "outputs": [
    {
     "data": {
      "text/plain": [
       "['MESH:D012559', 'MESH:D009404', 'MESH:D001749', 'MESH:D011471']"
      ]
     },
     "execution_count": 96,
     "metadata": {},
     "output_type": "execute_result"
    }
   ],
   "source": [
    "id_list[:4]"
   ]
  },
  {
   "cell_type": "code",
   "execution_count": 97,
   "metadata": {},
   "outputs": [
    {
     "data": {
      "text/plain": [
       "2970"
      ]
     },
     "execution_count": 97,
     "metadata": {},
     "output_type": "execute_result"
    }
   ],
   "source": [
    "len(id_list)"
   ]
  },
  {
   "cell_type": "code",
   "execution_count": 98,
   "metadata": {},
   "outputs": [],
   "source": [
    "# merge all info into one df\n",
    "# this df now contains only correlated diseases and vecs\n",
    "df_d = df.copy()\n",
    "df_d.columns= ['DiseaseID', 'DVec']\n",
    "df_c = df.copy()\n",
    "df_c.columns= ['ChemicalID', 'CVec']\n",
    "df1 = pd.merge(chem_dis, df_d, on='DiseaseID')\n",
    "df1 = pd.merge(df1, df_c, on='ChemicalID')\n",
    "\n",
    "# df1['Correlation'] = 1 # currently only have correlated in there"
   ]
  },
  {
   "cell_type": "code",
   "execution_count": 103,
   "metadata": {},
   "outputs": [],
   "source": [
    "df1['Correlation'] = df1.DirectEvidence.map(lambda x: 0 if x == 'therapeutic' else 2)"
   ]
  },
  {
   "cell_type": "code",
   "execution_count": 105,
   "metadata": {},
   "outputs": [
    {
     "data": {
      "text/html": [
       "<div>\n",
       "<style scoped>\n",
       "    .dataframe tbody tr th:only-of-type {\n",
       "        vertical-align: middle;\n",
       "    }\n",
       "\n",
       "    .dataframe tbody tr th {\n",
       "        vertical-align: top;\n",
       "    }\n",
       "\n",
       "    .dataframe thead th {\n",
       "        text-align: right;\n",
       "    }\n",
       "</style>\n",
       "<table border=\"1\" class=\"dataframe\">\n",
       "  <thead>\n",
       "    <tr style=\"text-align: right;\">\n",
       "      <th></th>\n",
       "      <th>ChemicalID</th>\n",
       "      <th>DiseaseID</th>\n",
       "      <th>DirectEvidence</th>\n",
       "      <th>DVec</th>\n",
       "      <th>CVec</th>\n",
       "      <th>Correlation</th>\n",
       "    </tr>\n",
       "  </thead>\n",
       "  <tbody>\n",
       "    <tr>\n",
       "      <th>7990</th>\n",
       "      <td>D002762</td>\n",
       "      <td>MESH:D010146</td>\n",
       "      <td>therapeutic</td>\n",
       "      <td>[3.53458934e-02, 1.41089112e-01, 2.37864740e-0...</td>\n",
       "      <td>[0.00133334, 0.14482908, -0.00980334, -0.07434...</td>\n",
       "      <td>0</td>\n",
       "    </tr>\n",
       "    <tr>\n",
       "      <th>5088</th>\n",
       "      <td>D014750</td>\n",
       "      <td>MESH:D007418</td>\n",
       "      <td>marker/mechanism</td>\n",
       "      <td>[2.21003089e-02, 9.15838033e-02, 4.53496277e-0...</td>\n",
       "      <td>[0.02575784, -0.12796856, -0.45246562, 0.14957...</td>\n",
       "      <td>2</td>\n",
       "    </tr>\n",
       "    <tr>\n",
       "      <th>2979</th>\n",
       "      <td>D017239</td>\n",
       "      <td>MESH:D017563</td>\n",
       "      <td>marker/mechanism</td>\n",
       "      <td>[0.0294158, 0.10534758, 0.06155422, -0.1112284...</td>\n",
       "      <td>[3.05738989e-02, 1.24812022e-01, 4.42865677e-0...</td>\n",
       "      <td>2</td>\n",
       "    </tr>\n",
       "    <tr>\n",
       "      <th>4334</th>\n",
       "      <td>D013749</td>\n",
       "      <td>MESH:D001943</td>\n",
       "      <td>marker/mechanism</td>\n",
       "      <td>[-7.54089653e-03, 2.84954235e-02, -1.45941272e...</td>\n",
       "      <td>[-0.00484554, 0.04194254, -0.2854546, 0.007800...</td>\n",
       "      <td>2</td>\n",
       "    </tr>\n",
       "    <tr>\n",
       "      <th>3750</th>\n",
       "      <td>C059514</td>\n",
       "      <td>MESH:D007333</td>\n",
       "      <td>marker/mechanism</td>\n",
       "      <td>[0.02338716, 0.09601952, 0.02362998, -0.079770...</td>\n",
       "      <td>[-0.05124907, 0.13055305, 0.01643063, -0.13386...</td>\n",
       "      <td>2</td>\n",
       "    </tr>\n",
       "    <tr>\n",
       "      <th>5725</th>\n",
       "      <td>D010634</td>\n",
       "      <td>MESH:D006529</td>\n",
       "      <td>marker/mechanism</td>\n",
       "      <td>[0.00413939, 0.16396709, 0.01072616, -0.126804...</td>\n",
       "      <td>[0.02074566, 0.09746573, 0.02772122, -0.109691...</td>\n",
       "      <td>2</td>\n",
       "    </tr>\n",
       "    <tr>\n",
       "      <th>4724</th>\n",
       "      <td>D014451</td>\n",
       "      <td>MESH:D009205</td>\n",
       "      <td>marker/mechanism</td>\n",
       "      <td>[0.02784503, 0.11853101, 0.0447395, -0.1132468...</td>\n",
       "      <td>[0.02183472, 0.10678482, 0.03412488, -0.086460...</td>\n",
       "      <td>2</td>\n",
       "    </tr>\n",
       "    <tr>\n",
       "      <th>7661</th>\n",
       "      <td>D012293</td>\n",
       "      <td>MESH:D008181</td>\n",
       "      <td>marker/mechanism</td>\n",
       "      <td>[0.02943849, 0.11167332, 0.0409218, -0.0980009...</td>\n",
       "      <td>[0.01611397, 0.13506274, 0.06212807, -0.140545...</td>\n",
       "      <td>2</td>\n",
       "    </tr>\n",
       "    <tr>\n",
       "      <th>9298</th>\n",
       "      <td>C082360</td>\n",
       "      <td>MESH:D012640</td>\n",
       "      <td>marker/mechanism</td>\n",
       "      <td>[0.03174636, 0.09961556, -0.22433679, -0.00831...</td>\n",
       "      <td>[1.82336681e-02, 9.57204401e-02, 3.57790105e-0...</td>\n",
       "      <td>2</td>\n",
       "    </tr>\n",
       "    <tr>\n",
       "      <th>914</th>\n",
       "      <td>D002220</td>\n",
       "      <td>MESH:D014277</td>\n",
       "      <td>therapeutic</td>\n",
       "      <td>[-0.01447744, 0.10961439, -0.03909488, -0.0513...</td>\n",
       "      <td>[2.61190552e-02, 1.01711757e-01, 4.12642285e-0...</td>\n",
       "      <td>0</td>\n",
       "    </tr>\n",
       "    <tr>\n",
       "      <th>5249</th>\n",
       "      <td>D014810</td>\n",
       "      <td>MESH:D006333</td>\n",
       "      <td>marker/mechanism</td>\n",
       "      <td>[0.01560365, 0.13829835, -0.0064437, -0.112833...</td>\n",
       "      <td>[4.16034237e-02, -1.34754643e-01, -6.26714706e...</td>\n",
       "      <td>2</td>\n",
       "    </tr>\n",
       "    <tr>\n",
       "      <th>1848</th>\n",
       "      <td>D000431</td>\n",
       "      <td>MESH:D006130</td>\n",
       "      <td>marker/mechanism</td>\n",
       "      <td>[0.02419071, 0.12061294, 0.05716409, -0.094418...</td>\n",
       "      <td>[0.02346285, 0.0847908, 0.03937633, -0.0827736...</td>\n",
       "      <td>2</td>\n",
       "    </tr>\n",
       "    <tr>\n",
       "      <th>1092</th>\n",
       "      <td>D003561</td>\n",
       "      <td>MESH:D014657</td>\n",
       "      <td>marker/mechanism</td>\n",
       "      <td>[0.02034045, 0.1361345, 0.03307198, -0.1068504...</td>\n",
       "      <td>[0.01550489, 0.10461956, 0.03589396, -0.080799...</td>\n",
       "      <td>2</td>\n",
       "    </tr>\n",
       "  </tbody>\n",
       "</table>\n",
       "</div>"
      ],
      "text/plain": [
       "     ChemicalID     DiseaseID    DirectEvidence  \\\n",
       "7990    D002762  MESH:D010146       therapeutic   \n",
       "5088    D014750  MESH:D007418  marker/mechanism   \n",
       "2979    D017239  MESH:D017563  marker/mechanism   \n",
       "4334    D013749  MESH:D001943  marker/mechanism   \n",
       "3750    C059514  MESH:D007333  marker/mechanism   \n",
       "5725    D010634  MESH:D006529  marker/mechanism   \n",
       "4724    D014451  MESH:D009205  marker/mechanism   \n",
       "7661    D012293  MESH:D008181  marker/mechanism   \n",
       "9298    C082360  MESH:D012640  marker/mechanism   \n",
       "914     D002220  MESH:D014277       therapeutic   \n",
       "5249    D014810  MESH:D006333  marker/mechanism   \n",
       "1848    D000431  MESH:D006130  marker/mechanism   \n",
       "1092    D003561  MESH:D014657  marker/mechanism   \n",
       "\n",
       "                                                   DVec  \\\n",
       "7990  [3.53458934e-02, 1.41089112e-01, 2.37864740e-0...   \n",
       "5088  [2.21003089e-02, 9.15838033e-02, 4.53496277e-0...   \n",
       "2979  [0.0294158, 0.10534758, 0.06155422, -0.1112284...   \n",
       "4334  [-7.54089653e-03, 2.84954235e-02, -1.45941272e...   \n",
       "3750  [0.02338716, 0.09601952, 0.02362998, -0.079770...   \n",
       "5725  [0.00413939, 0.16396709, 0.01072616, -0.126804...   \n",
       "4724  [0.02784503, 0.11853101, 0.0447395, -0.1132468...   \n",
       "7661  [0.02943849, 0.11167332, 0.0409218, -0.0980009...   \n",
       "9298  [0.03174636, 0.09961556, -0.22433679, -0.00831...   \n",
       "914   [-0.01447744, 0.10961439, -0.03909488, -0.0513...   \n",
       "5249  [0.01560365, 0.13829835, -0.0064437, -0.112833...   \n",
       "1848  [0.02419071, 0.12061294, 0.05716409, -0.094418...   \n",
       "1092  [0.02034045, 0.1361345, 0.03307198, -0.1068504...   \n",
       "\n",
       "                                                   CVec  Correlation  \n",
       "7990  [0.00133334, 0.14482908, -0.00980334, -0.07434...            0  \n",
       "5088  [0.02575784, -0.12796856, -0.45246562, 0.14957...            2  \n",
       "2979  [3.05738989e-02, 1.24812022e-01, 4.42865677e-0...            2  \n",
       "4334  [-0.00484554, 0.04194254, -0.2854546, 0.007800...            2  \n",
       "3750  [-0.05124907, 0.13055305, 0.01643063, -0.13386...            2  \n",
       "5725  [0.02074566, 0.09746573, 0.02772122, -0.109691...            2  \n",
       "4724  [0.02183472, 0.10678482, 0.03412488, -0.086460...            2  \n",
       "7661  [0.01611397, 0.13506274, 0.06212807, -0.140545...            2  \n",
       "9298  [1.82336681e-02, 9.57204401e-02, 3.57790105e-0...            2  \n",
       "914   [2.61190552e-02, 1.01711757e-01, 4.12642285e-0...            0  \n",
       "5249  [4.16034237e-02, -1.34754643e-01, -6.26714706e...            2  \n",
       "1848  [0.02346285, 0.0847908, 0.03937633, -0.0827736...            2  \n",
       "1092  [0.01550489, 0.10461956, 0.03589396, -0.080799...            2  "
      ]
     },
     "execution_count": 105,
     "metadata": {},
     "output_type": "execute_result"
    }
   ],
   "source": [
    "df1.sample(13)"
   ]
  },
  {
   "cell_type": "code",
   "execution_count": 106,
   "metadata": {},
   "outputs": [],
   "source": [
    "# Create separate dfs of dis-vecs and chem-vecs ( in order to generate additional rows for df1)\n",
    "dis = df.ID.map(lambda x: ('MESH' in x) | ('OMIM' in x))\n",
    "chems = df.ID.map(lambda x: ('MESH' not in x) & ('OMIM' not in x))\n",
    "\n",
    "df_chems = df[chems]\n",
    "df_dis = df[dis]\n",
    "df_chems = df_chems.reset_index(drop=True)\n",
    "df_dis = df_dis.reset_index(drop=True)"
   ]
  },
  {
   "cell_type": "code",
   "execution_count": 107,
   "metadata": {},
   "outputs": [
    {
     "name": "stdout",
     "output_type": "stream",
     "text": [
      "shape:  10035\n",
      "Alert!\n",
      "Alert!\n",
      "Alert!\n",
      "Alert!\n",
      "(20071, 6)\n",
      "(18576, 6)\n"
     ]
    }
   ],
   "source": [
    "# Add unrelated pairs to df1\n",
    "no_rows = (df1.shape[0]-1)  # This is a parameter to be tuned --> how many uncorrelated pairs do we want\n",
    "print('shape: ', no_rows)\n",
    "\n",
    "# Randomly select chems and diseases (as many as there are related pairs)\n",
    "no_chems = len(df_chems) -1\n",
    "no_dis = len(df_dis) -1\n",
    "rand_chems = np.random.choice(no_chems, no_rows, replace=True)\n",
    "# np.random.seed(1606)\n",
    "rand_dis = np.random.choice(no_dis, no_rows, replace=True)\n",
    "\n",
    "# Add the new pairs as rows\n",
    "for x in range(0, no_rows):\n",
    "    int1 = rand_chems[x]\n",
    "    int2 = rand_dis[x]\n",
    "    chem, chemvec = df_chems.loc[int1, 'ID'], df_chems.loc[int1, 'Vector']\n",
    "    dis, disvec = df_dis.loc[int2, 'ID'], df_dis.loc[int2, 'Vector']\n",
    "    df1 = df1.append({'ChemicalID':chem, 'DiseaseID':dis, 'CVec':chemvec, 'DVec':disvec, 'Correlation':1}, ignore_index=True)\n",
    "\n",
    "print(df1.shape)\n",
    "# Drop any duplicates (removes known correlated pairs accidentally generated as uncorrelated)\n",
    "df1 = df1.drop_duplicates(subset=['ChemicalID', 'DiseaseID'], keep=False)\n",
    "print(df1.shape)"
   ]
  },
  {
   "cell_type": "code",
   "execution_count": 108,
   "metadata": {},
   "outputs": [],
   "source": [
    "# Convert the elements of the vectors to actual numbers\n",
    "df1['DVec'] = df1.DVec.map(lambda x: [float(i) for i in x])\n",
    "df1['CVec'] = df1.CVec.map(lambda x: [float(i) for i in x])"
   ]
  },
  {
   "cell_type": "markdown",
   "metadata": {},
   "source": [
    "### 2. Preprocess\n",
    "Now that we have the df ready, let's split it into train/test/validation sets and convert it into numpy arrays so it can be consumed by a Keras NN"
   ]
  },
  {
   "cell_type": "code",
   "execution_count": 120,
   "metadata": {},
   "outputs": [
    {
     "name": "stdout",
     "output_type": "stream",
     "text": [
      "5971\n",
      "2723\n",
      "9882\n"
     ]
    }
   ],
   "source": [
    "print(len(df1[df1.DirectEvidence =='marker/mechanism']))\n",
    "print(len(df1[df1.DirectEvidence =='therapeutic']))\n",
    "print(len(df1[df1.DirectEvidence.isna()]))"
   ]
  },
  {
   "cell_type": "code",
   "execution_count": 109,
   "metadata": {},
   "outputs": [
    {
     "data": {
      "text/html": [
       "<div>\n",
       "<style scoped>\n",
       "    .dataframe tbody tr th:only-of-type {\n",
       "        vertical-align: middle;\n",
       "    }\n",
       "\n",
       "    .dataframe tbody tr th {\n",
       "        vertical-align: top;\n",
       "    }\n",
       "\n",
       "    .dataframe thead th {\n",
       "        text-align: right;\n",
       "    }\n",
       "</style>\n",
       "<table border=\"1\" class=\"dataframe\">\n",
       "  <thead>\n",
       "    <tr style=\"text-align: right;\">\n",
       "      <th></th>\n",
       "      <th>ChemicalID</th>\n",
       "      <th>DiseaseID</th>\n",
       "      <th>DirectEvidence</th>\n",
       "      <th>DVec</th>\n",
       "      <th>CVec</th>\n",
       "      <th>Correlation</th>\n",
       "    </tr>\n",
       "  </thead>\n",
       "  <tbody>\n",
       "    <tr>\n",
       "      <th>0</th>\n",
       "      <td>C049584</td>\n",
       "      <td>MESH:D001943</td>\n",
       "      <td>marker/mechanism</td>\n",
       "      <td>[-0.00754089653, 0.0284954235, -0.145941272, -...</td>\n",
       "      <td>[0.02189679, 0.10079688, 0.04159389, -0.099326...</td>\n",
       "      <td>2</td>\n",
       "    </tr>\n",
       "    <tr>\n",
       "      <th>1</th>\n",
       "      <td>C049584</td>\n",
       "      <td>MESH:D018270</td>\n",
       "      <td>marker/mechanism</td>\n",
       "      <td>[0.01976116, 0.098279193, 0.0369541571, -0.089...</td>\n",
       "      <td>[0.02189679, 0.10079688, 0.04159389, -0.099326...</td>\n",
       "      <td>2</td>\n",
       "    </tr>\n",
       "    <tr>\n",
       "      <th>2</th>\n",
       "      <td>C049584</td>\n",
       "      <td>MESH:D019457</td>\n",
       "      <td>marker/mechanism</td>\n",
       "      <td>[0.03360923, 0.10056757, 0.05314376, -0.113913...</td>\n",
       "      <td>[0.02189679, 0.10079688, 0.04159389, -0.099326...</td>\n",
       "      <td>2</td>\n",
       "    </tr>\n",
       "    <tr>\n",
       "      <th>3</th>\n",
       "      <td>C049584</td>\n",
       "      <td>MESH:D003110</td>\n",
       "      <td>marker/mechanism</td>\n",
       "      <td>[0.00136586, 0.13832065, 0.02338981, -0.113038...</td>\n",
       "      <td>[0.02189679, 0.10079688, 0.04159389, -0.099326...</td>\n",
       "      <td>2</td>\n",
       "    </tr>\n",
       "    <tr>\n",
       "      <th>4</th>\n",
       "      <td>C049584</td>\n",
       "      <td>MESH:D015179</td>\n",
       "      <td>marker/mechanism</td>\n",
       "      <td>[-0.02237691, 0.07948194, -0.09784327, -0.0321...</td>\n",
       "      <td>[0.02189679, 0.10079688, 0.04159389, -0.099326...</td>\n",
       "      <td>2</td>\n",
       "    </tr>\n",
       "  </tbody>\n",
       "</table>\n",
       "</div>"
      ],
      "text/plain": [
       "  ChemicalID     DiseaseID    DirectEvidence  \\\n",
       "0    C049584  MESH:D001943  marker/mechanism   \n",
       "1    C049584  MESH:D018270  marker/mechanism   \n",
       "2    C049584  MESH:D019457  marker/mechanism   \n",
       "3    C049584  MESH:D003110  marker/mechanism   \n",
       "4    C049584  MESH:D015179  marker/mechanism   \n",
       "\n",
       "                                                DVec  \\\n",
       "0  [-0.00754089653, 0.0284954235, -0.145941272, -...   \n",
       "1  [0.01976116, 0.098279193, 0.0369541571, -0.089...   \n",
       "2  [0.03360923, 0.10056757, 0.05314376, -0.113913...   \n",
       "3  [0.00136586, 0.13832065, 0.02338981, -0.113038...   \n",
       "4  [-0.02237691, 0.07948194, -0.09784327, -0.0321...   \n",
       "\n",
       "                                                CVec  Correlation  \n",
       "0  [0.02189679, 0.10079688, 0.04159389, -0.099326...            2  \n",
       "1  [0.02189679, 0.10079688, 0.04159389, -0.099326...            2  \n",
       "2  [0.02189679, 0.10079688, 0.04159389, -0.099326...            2  \n",
       "3  [0.02189679, 0.10079688, 0.04159389, -0.099326...            2  \n",
       "4  [0.02189679, 0.10079688, 0.04159389, -0.099326...            2  "
      ]
     },
     "execution_count": 109,
     "metadata": {},
     "output_type": "execute_result"
    }
   ],
   "source": [
    "df1.head()"
   ]
  },
  {
   "cell_type": "code",
   "execution_count": 121,
   "metadata": {},
   "outputs": [],
   "source": [
    "# For Keras, need to turn inputs into numpy arrays instead of pandas df\n",
    "# First create single np array of the two vectors CONCERN: should these be two separate inputs?\n",
    "Dvecs = pd.DataFrame(df1.DVec.values.tolist(), index= df1.index)\n",
    "Cvecs = pd.DataFrame(df1.CVec.values.tolist(), index= df1.index)\n",
    "all_X = Dvecs.merge(Cvecs, how='outer', left_index=True, right_index=True)\n",
    "all_X = np.array(all_X)"
   ]
  },
  {
   "cell_type": "code",
   "execution_count": 198,
   "metadata": {},
   "outputs": [],
   "source": [
    "# Turn correlation into three options\n",
    "# [1,0,0] --> neg corr\n",
    "# [0,1,0] --> no corr\n",
    "# [0,0,1] --> pos corr\n",
    "# Note we can't be certain that the unrelated pairs are actually unrelated\n",
    "\n",
    "df1['y'] = df1.Correlation.map(lambda x: [1,0,0] if x == 0 else ([0,1,0] if x == 1 else [0,0,1]))"
   ]
  },
  {
   "cell_type": "code",
   "execution_count": 199,
   "metadata": {},
   "outputs": [
    {
     "data": {
      "text/html": [
       "<div>\n",
       "<style scoped>\n",
       "    .dataframe tbody tr th:only-of-type {\n",
       "        vertical-align: middle;\n",
       "    }\n",
       "\n",
       "    .dataframe tbody tr th {\n",
       "        vertical-align: top;\n",
       "    }\n",
       "\n",
       "    .dataframe thead th {\n",
       "        text-align: right;\n",
       "    }\n",
       "</style>\n",
       "<table border=\"1\" class=\"dataframe\">\n",
       "  <thead>\n",
       "    <tr style=\"text-align: right;\">\n",
       "      <th></th>\n",
       "      <th>index</th>\n",
       "      <th>ChemicalID</th>\n",
       "      <th>DiseaseID</th>\n",
       "      <th>DirectEvidence</th>\n",
       "      <th>DVec</th>\n",
       "      <th>CVec</th>\n",
       "      <th>Correlation</th>\n",
       "      <th>train</th>\n",
       "      <th>test</th>\n",
       "      <th>val</th>\n",
       "      <th>y</th>\n",
       "    </tr>\n",
       "  </thead>\n",
       "  <tbody>\n",
       "    <tr>\n",
       "      <th>1738</th>\n",
       "      <td>2027</td>\n",
       "      <td>D005472</td>\n",
       "      <td>MESH:D016171</td>\n",
       "      <td>marker/mechanism</td>\n",
       "      <td>[0.0451943986, 0.149554864, 0.0377507433, -0.1...</td>\n",
       "      <td>[0.0123879761, 0.102278464, 0.0492032096, -0.1...</td>\n",
       "      <td>2</td>\n",
       "      <td>True</td>\n",
       "      <td>False</td>\n",
       "      <td>False</td>\n",
       "      <td>[0, 0, 1]</td>\n",
       "    </tr>\n",
       "  </tbody>\n",
       "</table>\n",
       "</div>"
      ],
      "text/plain": [
       "      index ChemicalID     DiseaseID    DirectEvidence  \\\n",
       "1738   2027    D005472  MESH:D016171  marker/mechanism   \n",
       "\n",
       "                                                   DVec  \\\n",
       "1738  [0.0451943986, 0.149554864, 0.0377507433, -0.1...   \n",
       "\n",
       "                                                   CVec  Correlation  train  \\\n",
       "1738  [0.0123879761, 0.102278464, 0.0492032096, -0.1...            2   True   \n",
       "\n",
       "       test    val          y  \n",
       "1738  False  False  [0, 0, 1]  "
      ]
     },
     "execution_count": 199,
     "metadata": {},
     "output_type": "execute_result"
    }
   ],
   "source": [
    "df1.sample(1)"
   ]
  },
  {
   "cell_type": "code",
   "execution_count": 200,
   "metadata": {},
   "outputs": [],
   "source": [
    "# Now create np array of the y output\n",
    "all_y = np.array(df1.y)"
   ]
  },
  {
   "cell_type": "code",
   "execution_count": 201,
   "metadata": {},
   "outputs": [
    {
     "name": "stdout",
     "output_type": "stream",
     "text": [
      "y shape:  (18576,)\n",
      "X shape:  (18576, 400)\n"
     ]
    }
   ],
   "source": [
    "print('y shape: ', all_y.shape)\n",
    "print('X shape: ', all_X.shape)"
   ]
  },
  {
   "cell_type": "code",
   "execution_count": 203,
   "metadata": {},
   "outputs": [
    {
     "data": {
      "text/plain": [
       "array([list([0, 0, 1])], dtype=object)"
      ]
     },
     "execution_count": 203,
     "metadata": {},
     "output_type": "execute_result"
    }
   ],
   "source": []
  },
  {
   "cell_type": "code",
   "execution_count": 16,
   "metadata": {},
   "outputs": [],
   "source": [
    "# # Create training, test, val set in a way that we can later look at the rows of each BY ROWS\n",
    "# total_rows = len(all_X)\n",
    "# row_numbers = list(range(0, total_rows))\n",
    "\n",
    "# training_rows = random.sample(row_numbers, int(round(total_rows * .6)))\n",
    "# row_numbers = set(row_numbers) - set(training_rows)\n",
    "\n",
    "# test_rows = random.sample(row_numbers, int(round(total_rows * .2)))\n",
    "# row_numbers = set(row_numbers) - set(test_rows)\n",
    "\n",
    "# val_rows = list(row_numbers)"
   ]
  },
  {
   "cell_type": "code",
   "execution_count": 204,
   "metadata": {},
   "outputs": [
    {
     "name": "stdout",
     "output_type": "stream",
     "text": [
      "number of chemicals:  412\n",
      "number of dis:  2516\n",
      "247 83 82\n"
     ]
    }
   ],
   "source": [
    "# Split into train, test, val BY CHEMICAL instead of by random rows\n",
    "print('number of chemicals: ', len(df1.ChemicalID.unique()))\n",
    "print('number of dis: ', len(df1.DiseaseID.unique()))\n",
    "chems = list(df1.ChemicalID.unique())\n",
    "random.shuffle(chems)\n",
    "\n",
    "total_chems = len(chems)\n",
    "train_chems = chems[:round(total_chems * .6)]\n",
    "test_chems = chems[round(total_chems * .6):round(total_chems * .8)]\n",
    "val_chems = chems[round(total_chems * .8):]\n",
    "\n",
    "print(len(train_chems), len(test_chems), len(val_chems))\n",
    "\n",
    "# Now get the row numbers for each set of chemicals "
   ]
  },
  {
   "cell_type": "code",
   "execution_count": 205,
   "metadata": {},
   "outputs": [],
   "source": [
    "df1['train'] = df1.ChemicalID.isin(train_chems)\n",
    "df1['test'] = df1.ChemicalID.isin(test_chems)\n",
    "df1['val'] = df1.ChemicalID.isin(val_chems)"
   ]
  },
  {
   "cell_type": "code",
   "execution_count": 206,
   "metadata": {},
   "outputs": [],
   "source": [
    "df1 = df1.reset_index()\n",
    "training_rows = df1.index[df1.train == True].tolist()\n",
    "test_rows = df1.index[df1.test == True].tolist()\n",
    "val_rows = df1.index[df1.val == True].tolist()"
   ]
  },
  {
   "cell_type": "code",
   "execution_count": 207,
   "metadata": {},
   "outputs": [
    {
     "name": "stdout",
     "output_type": "stream",
     "text": [
      "11098 3826 3652\n"
     ]
    }
   ],
   "source": [
    "# Split into train, test, val\n",
    "X_train, X_test, X_val = all_X[training_rows], all_X[test_rows], all_X[val_rows]\n",
    "y_train, y_test, y_val = all_y[training_rows], all_y[test_rows], all_y[val_rows]\n",
    "\n",
    "print(len(training_rows), len(test_rows), len(val_rows))"
   ]
  },
  {
   "cell_type": "code",
   "execution_count": 208,
   "metadata": {},
   "outputs": [],
   "source": [
    "# # Split into train, test, val --> OLD WAY\n",
    "# X_train, X_test, y_train, y_test = train_test_split(all_X, all_y, test_size=0.2, random_state=1606)\n",
    "# X_train, X_val, y_train, y_val = train_test_split(X_train, y_train, test_size=0.2, random_state=1606)"
   ]
  },
  {
   "cell_type": "code",
   "execution_count": 209,
   "metadata": {},
   "outputs": [
    {
     "data": {
      "text/plain": [
       "array([list([0, 0, 1])], dtype=object)"
      ]
     },
     "execution_count": 209,
     "metadata": {},
     "output_type": "execute_result"
    }
   ],
   "source": [
    "y_train[:1]"
   ]
  },
  {
   "cell_type": "markdown",
   "metadata": {},
   "source": [
    "### 3. Establish NN Model"
   ]
  },
  {
   "cell_type": "code",
   "execution_count": 236,
   "metadata": {},
   "outputs": [],
   "source": [
    "# 1. Establish the model architecture\n",
    "#it's safe to say that I don't know what I'm doing here\n",
    "model = keras.Sequential([\n",
    "#     keras.layers.Dense(400, activation=tf.nn.relu), \n",
    "    keras.layers.Dense(200, input_shape=(10620, 400), activation=tf.nn.relu),\n",
    "#     keras.layers.Flatten(), \n",
    "#     tf.layers.flatten(inputs),\n",
    "#     keras.layers.Dropout(rate=0.2, noise_shape=None, seed=None),\n",
    "    keras.layers.Dense(10, activation=tf.nn.relu),\n",
    "#     keras.layers.Dropout(rate=0.2, noise_shape=None, seed=None),\n",
    "    keras.layers.Dense(3, activation=tf.nn.softmax)\n",
    "])\n",
    "from keras.layers import Dense, Dropout, Flatten\n",
    "\n",
    "model.add(keras.layers.Flatten())"
   ]
  },
  {
   "cell_type": "code",
   "execution_count": 237,
   "metadata": {},
   "outputs": [],
   "source": [
    "# 2. Compile the model (give it loss func, optimise func and eval metric)\n",
    "model.compile(optimizer=tf.train.AdamOptimizer(), # determines how the model is adapted based on loss func\n",
    "              loss='categorical_crossentropy', # measure of accuracy during training\n",
    "              metrics=['accuracy']) # measure for train and testing steps "
   ]
  },
  {
   "cell_type": "code",
   "execution_count": 238,
   "metadata": {},
   "outputs": [],
   "source": [
    "# Pre-training, set up training params\n",
    "# earlystop = keras.callbacks.EarlyStopping(monitor='val_loss', min_delta=0, patience=0, verbose=0, mode='auto', baseline=None)"
   ]
  },
  {
   "cell_type": "code",
   "execution_count": 239,
   "metadata": {},
   "outputs": [
    {
     "ename": "ValueError",
     "evalue": "Error when checking input: expected dense_76_input to have 3 dimensions, but got array with shape (11098, 400)",
     "output_type": "error",
     "traceback": [
      "\u001b[0;31m---------------------------------------------------------------------------\u001b[0m",
      "\u001b[0;31mValueError\u001b[0m                                Traceback (most recent call last)",
      "\u001b[0;32m<ipython-input-239-e83594fd54e7>\u001b[0m in \u001b[0;36m<module>\u001b[0;34m()\u001b[0m\n\u001b[1;32m      1\u001b[0m \u001b[0;31m# 3. Train\u001b[0m\u001b[0;34m\u001b[0m\u001b[0;34m\u001b[0m\u001b[0m\n\u001b[0;32m----> 2\u001b[0;31m \u001b[0mmodel\u001b[0m\u001b[0;34m.\u001b[0m\u001b[0mfit\u001b[0m\u001b[0;34m(\u001b[0m\u001b[0mX_train\u001b[0m\u001b[0;34m,\u001b[0m \u001b[0my_train\u001b[0m\u001b[0;34m,\u001b[0m \u001b[0mepochs\u001b[0m\u001b[0;34m=\u001b[0m\u001b[0;36m10\u001b[0m\u001b[0;34m,\u001b[0m \u001b[0mvalidation_data\u001b[0m\u001b[0;34m=\u001b[0m\u001b[0;34m(\u001b[0m\u001b[0mX_val\u001b[0m\u001b[0;34m,\u001b[0m \u001b[0my_val\u001b[0m\u001b[0;34m)\u001b[0m \u001b[0;34m)\u001b[0m \u001b[0;31m#, callbacks=[earlystop])\u001b[0m\u001b[0;34m\u001b[0m\u001b[0m\n\u001b[0m",
      "\u001b[0;32m~/anaconda3/lib/python3.6/site-packages/tensorflow/python/keras/_impl/keras/models.py\u001b[0m in \u001b[0;36mfit\u001b[0;34m(self, x, y, batch_size, epochs, verbose, callbacks, validation_split, validation_data, shuffle, class_weight, sample_weight, initial_epoch, steps_per_epoch, validation_steps, **kwargs)\u001b[0m\n\u001b[1;32m    918\u001b[0m         \u001b[0minitial_epoch\u001b[0m\u001b[0;34m=\u001b[0m\u001b[0minitial_epoch\u001b[0m\u001b[0;34m,\u001b[0m\u001b[0;34m\u001b[0m\u001b[0m\n\u001b[1;32m    919\u001b[0m         \u001b[0msteps_per_epoch\u001b[0m\u001b[0;34m=\u001b[0m\u001b[0msteps_per_epoch\u001b[0m\u001b[0;34m,\u001b[0m\u001b[0;34m\u001b[0m\u001b[0m\n\u001b[0;32m--> 920\u001b[0;31m         validation_steps=validation_steps)\n\u001b[0m\u001b[1;32m    921\u001b[0m \u001b[0;34m\u001b[0m\u001b[0m\n\u001b[1;32m    922\u001b[0m   \u001b[0;32mdef\u001b[0m \u001b[0mevaluate\u001b[0m\u001b[0;34m(\u001b[0m\u001b[0mself\u001b[0m\u001b[0;34m,\u001b[0m \u001b[0mx\u001b[0m\u001b[0;34m,\u001b[0m \u001b[0my\u001b[0m\u001b[0;34m,\u001b[0m \u001b[0mbatch_size\u001b[0m\u001b[0;34m=\u001b[0m\u001b[0;36m32\u001b[0m\u001b[0;34m,\u001b[0m \u001b[0mverbose\u001b[0m\u001b[0;34m=\u001b[0m\u001b[0;36m1\u001b[0m\u001b[0;34m,\u001b[0m \u001b[0msample_weight\u001b[0m\u001b[0;34m=\u001b[0m\u001b[0;32mNone\u001b[0m\u001b[0;34m)\u001b[0m\u001b[0;34m:\u001b[0m\u001b[0;34m\u001b[0m\u001b[0m\n",
      "\u001b[0;32m~/anaconda3/lib/python3.6/site-packages/tensorflow/python/keras/_impl/keras/engine/training.py\u001b[0m in \u001b[0;36mfit\u001b[0;34m(self, x, y, batch_size, epochs, verbose, callbacks, validation_split, validation_data, shuffle, class_weight, sample_weight, initial_epoch, steps_per_epoch, validation_steps)\u001b[0m\n\u001b[1;32m   1590\u001b[0m         \u001b[0mclass_weight\u001b[0m\u001b[0;34m=\u001b[0m\u001b[0mclass_weight\u001b[0m\u001b[0;34m,\u001b[0m\u001b[0;34m\u001b[0m\u001b[0m\n\u001b[1;32m   1591\u001b[0m         \u001b[0mcheck_batch_axis\u001b[0m\u001b[0;34m=\u001b[0m\u001b[0;32mFalse\u001b[0m\u001b[0;34m,\u001b[0m\u001b[0;34m\u001b[0m\u001b[0m\n\u001b[0;32m-> 1592\u001b[0;31m         batch_size=batch_size)\n\u001b[0m\u001b[1;32m   1593\u001b[0m \u001b[0;34m\u001b[0m\u001b[0m\n\u001b[1;32m   1594\u001b[0m     \u001b[0;31m# Prepare validation data.\u001b[0m\u001b[0;34m\u001b[0m\u001b[0;34m\u001b[0m\u001b[0m\n",
      "\u001b[0;32m~/anaconda3/lib/python3.6/site-packages/tensorflow/python/keras/_impl/keras/engine/training.py\u001b[0m in \u001b[0;36m_standardize_user_data\u001b[0;34m(self, x, y, sample_weight, class_weight, check_batch_axis, batch_size)\u001b[0m\n\u001b[1;32m   1429\u001b[0m         \u001b[0mself\u001b[0m\u001b[0;34m.\u001b[0m\u001b[0m_feed_input_shapes\u001b[0m\u001b[0;34m,\u001b[0m\u001b[0;34m\u001b[0m\u001b[0m\n\u001b[1;32m   1430\u001b[0m         \u001b[0mcheck_batch_axis\u001b[0m\u001b[0;34m=\u001b[0m\u001b[0;32mFalse\u001b[0m\u001b[0;34m,\u001b[0m\u001b[0;34m\u001b[0m\u001b[0m\n\u001b[0;32m-> 1431\u001b[0;31m         exception_prefix='input')\n\u001b[0m\u001b[1;32m   1432\u001b[0m     y = _standardize_input_data(\n\u001b[1;32m   1433\u001b[0m         \u001b[0my\u001b[0m\u001b[0;34m,\u001b[0m\u001b[0;34m\u001b[0m\u001b[0m\n",
      "\u001b[0;32m~/anaconda3/lib/python3.6/site-packages/tensorflow/python/keras/_impl/keras/engine/training.py\u001b[0m in \u001b[0;36m_standardize_input_data\u001b[0;34m(data, names, shapes, check_batch_axis, exception_prefix)\u001b[0m\n\u001b[1;32m    142\u001b[0m             \u001b[0;34m'Error when checking '\u001b[0m \u001b[0;34m+\u001b[0m \u001b[0mexception_prefix\u001b[0m \u001b[0;34m+\u001b[0m \u001b[0;34m': expected '\u001b[0m \u001b[0;34m+\u001b[0m \u001b[0mnames\u001b[0m\u001b[0;34m[\u001b[0m\u001b[0mi\u001b[0m\u001b[0;34m]\u001b[0m\u001b[0;34m\u001b[0m\u001b[0m\n\u001b[1;32m    143\u001b[0m             \u001b[0;34m+\u001b[0m \u001b[0;34m' to have '\u001b[0m \u001b[0;34m+\u001b[0m \u001b[0mstr\u001b[0m\u001b[0;34m(\u001b[0m\u001b[0mlen\u001b[0m\u001b[0;34m(\u001b[0m\u001b[0mshapes\u001b[0m\u001b[0;34m[\u001b[0m\u001b[0mi\u001b[0m\u001b[0;34m]\u001b[0m\u001b[0;34m)\u001b[0m\u001b[0;34m)\u001b[0m \u001b[0;34m+\u001b[0m\u001b[0;34m\u001b[0m\u001b[0m\n\u001b[0;32m--> 144\u001b[0;31m             ' dimensions, but got array with shape ' + str(array.shape))\n\u001b[0m\u001b[1;32m    145\u001b[0m       \u001b[0;32mfor\u001b[0m \u001b[0mj\u001b[0m\u001b[0;34m,\u001b[0m \u001b[0;34m(\u001b[0m\u001b[0mdim\u001b[0m\u001b[0;34m,\u001b[0m \u001b[0mref_dim\u001b[0m\u001b[0;34m)\u001b[0m \u001b[0;32min\u001b[0m \u001b[0menumerate\u001b[0m\u001b[0;34m(\u001b[0m\u001b[0mzip\u001b[0m\u001b[0;34m(\u001b[0m\u001b[0marray\u001b[0m\u001b[0;34m.\u001b[0m\u001b[0mshape\u001b[0m\u001b[0;34m,\u001b[0m \u001b[0mshapes\u001b[0m\u001b[0;34m[\u001b[0m\u001b[0mi\u001b[0m\u001b[0;34m]\u001b[0m\u001b[0;34m)\u001b[0m\u001b[0;34m)\u001b[0m\u001b[0;34m:\u001b[0m\u001b[0;34m\u001b[0m\u001b[0m\n\u001b[1;32m    146\u001b[0m         \u001b[0;32mif\u001b[0m \u001b[0;32mnot\u001b[0m \u001b[0mj\u001b[0m \u001b[0;32mand\u001b[0m \u001b[0;32mnot\u001b[0m \u001b[0mcheck_batch_axis\u001b[0m\u001b[0;34m:\u001b[0m\u001b[0;34m\u001b[0m\u001b[0m\n",
      "\u001b[0;31mValueError\u001b[0m: Error when checking input: expected dense_76_input to have 3 dimensions, but got array with shape (11098, 400)"
     ]
    }
   ],
   "source": [
    "# 3. Train\n",
    "model.fit(X_train, y_train, epochs=10, validation_data=(X_val, y_val) ) #, callbacks=[earlystop])"
   ]
  },
  {
   "cell_type": "markdown",
   "metadata": {},
   "source": [
    "### ...and evaluate"
   ]
  },
  {
   "cell_type": "code",
   "execution_count": 141,
   "metadata": {},
   "outputs": [
    {
     "name": "stdout",
     "output_type": "stream",
     "text": [
      "4001/4001 [==============================]4001/4001 [==============================] - 0s 32us/step\n",
      "\n",
      "Test accuracy: 0.5051237190702325\n"
     ]
    }
   ],
   "source": [
    "# 4. Evaluate\n",
    "# Accuracy\n",
    "test_loss, test_acc = model.evaluate(X_test, y_test)\n",
    "print('Test accuracy:', test_acc)"
   ]
  },
  {
   "cell_type": "code",
   "execution_count": 142,
   "metadata": {},
   "outputs": [],
   "source": [
    "# Get actual predictions for test set\n",
    "predictions = model.predict(X_test)\n",
    "rounded_predictions = [int(float(round(x[0]))) for x in predictions]"
   ]
  },
  {
   "cell_type": "code",
   "execution_count": 143,
   "metadata": {
    "scrolled": true
   },
   "outputs": [
    {
     "name": "stdout",
     "output_type": "stream",
     "text": [
      "Confusion matrix:\n",
      "Predicted  0     1  2  __all__\n",
      "Actual                        \n",
      "0          0   634  0      634\n",
      "1          0  2021  0     2021\n",
      "2          0  1346  0     1346\n",
      "__all__    0  4001  0     4001\n"
     ]
    },
    {
     "name": "stderr",
     "output_type": "stream",
     "text": [
      "/home/colemai/anaconda3/lib/python3.6/site-packages/pandas_ml/confusion_matrix/abstract.py:66: FutureWarning: \n",
      "Passing list-likes to .loc or [] with any missing label will raise\n",
      "KeyError in the future, you can use .reindex() as an alternative.\n",
      "\n",
      "See the documentation here:\n",
      "https://pandas.pydata.org/pandas-docs/stable/indexing.html#deprecate-loc-reindex-listlike\n",
      "  df = df.loc[idx, idx.copy()].fillna(0)  # if some columns or rows are missing\n"
     ]
    },
    {
     "data": {
      "text/plain": [
       "<matplotlib.axes._subplots.AxesSubplot at 0x7f6d746b0080>"
      ]
     },
     "execution_count": 143,
     "metadata": {},
     "output_type": "execute_result"
    },
    {
     "data": {
      "image/png": "[encoded data removed]",
      "text/plain": [
       "<Figure size 648x576 with 2 Axes>"
      ]
     },
     "metadata": {},
     "output_type": "display_data"
    }
   ],
   "source": [
    "%matplotlib inline\n",
    "# Confusion Matrix\n",
    "\n",
    "confusion_matrix = ConfusionMatrix(y_test, rounded_predictions)\n",
    "print(\"Confusion matrix:\\n%s\" % confusion_matrix)\n",
    "confusion_matrix.plot()"
   ]
  },
  {
   "cell_type": "code",
   "execution_count": 29,
   "metadata": {},
   "outputs": [
    {
     "name": "stdout",
     "output_type": "stream",
     "text": [
      "ROC AUC:  0.8308373189078753\n"
     ]
    }
   ],
   "source": [
    "# ROC AUC\n",
    "print('ROC AUC: ', roc_auc_score(y_test, predictions))"
   ]
  },
  {
   "cell_type": "markdown",
   "metadata": {},
   "source": [
    "### 4. Examine the predictions\n",
    "Let's look at the predictions the NN gets wrong, see if there's a pattern"
   ]
  },
  {
   "cell_type": "code",
   "execution_count": 30,
   "metadata": {},
   "outputs": [],
   "source": [
    "# Create df with the relevant data\n",
    "test_set = df1.loc[test_rows]\n",
    "test_set['Predictions'] = predictions\n",
    "test_set['RoundPredictions'] = rounded_predictions"
   ]
  },
  {
   "cell_type": "code",
   "execution_count": 31,
   "metadata": {},
   "outputs": [],
   "source": [
    "# Optimise memory --> set col types for the incoming CSV\n",
    "cds_cols = ['# ChemicalName', 'ChemicalID', 'DiseaseName', 'DiseaseID', 'DirectEvidence']\n",
    "cd_col_types = {   \n",
    "    '# ChemicalName': 'category',\n",
    "    'ChemicalID': 'category',\n",
    "    'DiseaseName': 'category',\n",
    "    'DiseaseID': 'category',\n",
    "}"
   ]
  },
  {
   "cell_type": "code",
   "execution_count": 32,
   "metadata": {},
   "outputs": [],
   "source": [
    "# Let's get the disease and chemical names back! For the sake of eyeballing for patterns\n",
    "# Read in CTD csv, skipping the intro rows\n",
    "df_cd = pd.read_csv('../ctd-to-nt/csvs/CTD_chemicals_diseases.csv', usecols=cds_cols, dtype=cd_col_types, skiprows=27)\n",
    "df_cd = df_cd.drop(0)\n",
    "df_cd = df_cd.dropna(subset=['DirectEvidence']) # drop if it doesn't have direct evidence"
   ]
  },
  {
   "cell_type": "code",
   "execution_count": 33,
   "metadata": {},
   "outputs": [
    {
     "data": {
      "text/html": [
       "<div>\n",
       "<style scoped>\n",
       "    .dataframe tbody tr th:only-of-type {\n",
       "        vertical-align: middle;\n",
       "    }\n",
       "\n",
       "    .dataframe tbody tr th {\n",
       "        vertical-align: top;\n",
       "    }\n",
       "\n",
       "    .dataframe thead th {\n",
       "        text-align: right;\n",
       "    }\n",
       "</style>\n",
       "<table border=\"1\" class=\"dataframe\">\n",
       "  <thead>\n",
       "    <tr style=\"text-align: right;\">\n",
       "      <th></th>\n",
       "      <th># ChemicalName</th>\n",
       "      <th>ChemicalID</th>\n",
       "      <th>DiseaseName</th>\n",
       "      <th>DiseaseID</th>\n",
       "      <th>DirectEvidence</th>\n",
       "    </tr>\n",
       "  </thead>\n",
       "  <tbody>\n",
       "    <tr>\n",
       "      <th>1</th>\n",
       "      <td>06-Paris-LA-66 protocol</td>\n",
       "      <td>C046983</td>\n",
       "      <td>Precursor Cell Lymphoblastic Leukemia-Lymphoma</td>\n",
       "      <td>MESH:D054198</td>\n",
       "      <td>therapeutic</td>\n",
       "    </tr>\n",
       "    <tr>\n",
       "      <th>71</th>\n",
       "      <td>10,10-bis(4-pyridinylmethyl)-9(10H)-anthracenone</td>\n",
       "      <td>C112297</td>\n",
       "      <td>Hyperkinesis</td>\n",
       "      <td>MESH:D006948</td>\n",
       "      <td>marker/mechanism</td>\n",
       "    </tr>\n",
       "    <tr>\n",
       "      <th>86</th>\n",
       "      <td>10,10-bis(4-pyridinylmethyl)-9(10H)-anthracenone</td>\n",
       "      <td>C112297</td>\n",
       "      <td>Seizures</td>\n",
       "      <td>MESH:D012640</td>\n",
       "      <td>marker/mechanism</td>\n",
       "    </tr>\n",
       "    <tr>\n",
       "      <th>135</th>\n",
       "      <td>10,11-dihydro-10-hydroxycarbamazepine</td>\n",
       "      <td>C039775</td>\n",
       "      <td>Epilepsy</td>\n",
       "      <td>MESH:D004827</td>\n",
       "      <td>therapeutic</td>\n",
       "    </tr>\n",
       "    <tr>\n",
       "      <th>189</th>\n",
       "      <td>10,11-dihydroxy-N-n-propylnorapomorphine</td>\n",
       "      <td>C425777</td>\n",
       "      <td>Hyperkinesis</td>\n",
       "      <td>MESH:D006948</td>\n",
       "      <td>marker/mechanism</td>\n",
       "    </tr>\n",
       "  </tbody>\n",
       "</table>\n",
       "</div>"
      ],
      "text/plain": [
       "                                       # ChemicalName ChemicalID  \\\n",
       "1                             06-Paris-LA-66 protocol    C046983   \n",
       "71   10,10-bis(4-pyridinylmethyl)-9(10H)-anthracenone    C112297   \n",
       "86   10,10-bis(4-pyridinylmethyl)-9(10H)-anthracenone    C112297   \n",
       "135             10,11-dihydro-10-hydroxycarbamazepine    C039775   \n",
       "189          10,11-dihydroxy-N-n-propylnorapomorphine    C425777   \n",
       "\n",
       "                                        DiseaseName     DiseaseID  \\\n",
       "1    Precursor Cell Lymphoblastic Leukemia-Lymphoma  MESH:D054198   \n",
       "71                                     Hyperkinesis  MESH:D006948   \n",
       "86                                         Seizures  MESH:D012640   \n",
       "135                                        Epilepsy  MESH:D004827   \n",
       "189                                    Hyperkinesis  MESH:D006948   \n",
       "\n",
       "       DirectEvidence  \n",
       "1         therapeutic  \n",
       "71   marker/mechanism  \n",
       "86   marker/mechanism  \n",
       "135       therapeutic  \n",
       "189  marker/mechanism  "
      ]
     },
     "execution_count": 33,
     "metadata": {},
     "output_type": "execute_result"
    }
   ],
   "source": [
    "df_cd.head()"
   ]
  },
  {
   "cell_type": "code",
   "execution_count": 34,
   "metadata": {},
   "outputs": [
    {
     "data": {
      "text/html": [
       "<div>\n",
       "<style scoped>\n",
       "    .dataframe tbody tr th:only-of-type {\n",
       "        vertical-align: middle;\n",
       "    }\n",
       "\n",
       "    .dataframe tbody tr th {\n",
       "        vertical-align: top;\n",
       "    }\n",
       "\n",
       "    .dataframe thead th {\n",
       "        text-align: right;\n",
       "    }\n",
       "</style>\n",
       "<table border=\"1\" class=\"dataframe\">\n",
       "  <thead>\n",
       "    <tr style=\"text-align: right;\">\n",
       "      <th></th>\n",
       "      <th>index</th>\n",
       "      <th>ChemicalID</th>\n",
       "      <th>DiseaseID</th>\n",
       "      <th>DVec</th>\n",
       "      <th>CVec</th>\n",
       "      <th>Correlation</th>\n",
       "      <th>train</th>\n",
       "      <th>test</th>\n",
       "      <th>val</th>\n",
       "      <th>Predictions</th>\n",
       "      <th>RoundPredictions</th>\n",
       "    </tr>\n",
       "  </thead>\n",
       "  <tbody>\n",
       "    <tr>\n",
       "      <th>504</th>\n",
       "      <td>508</td>\n",
       "      <td>D004317</td>\n",
       "      <td>MESH:D001943</td>\n",
       "      <td>[-0.00754089653, 0.0284954235, -0.145941272, -...</td>\n",
       "      <td>[0.0052996, 0.09436312, 0.06031594, -0.1170692...</td>\n",
       "      <td>1</td>\n",
       "      <td>False</td>\n",
       "      <td>True</td>\n",
       "      <td>False</td>\n",
       "      <td>0.782367</td>\n",
       "      <td>1</td>\n",
       "    </tr>\n",
       "    <tr>\n",
       "      <th>505</th>\n",
       "      <td>509</td>\n",
       "      <td>D004317</td>\n",
       "      <td>MESH:D019457</td>\n",
       "      <td>[0.03360923, 0.10056757, 0.05314376, -0.113913...</td>\n",
       "      <td>[0.0052996, 0.09436312, 0.06031594, -0.1170692...</td>\n",
       "      <td>1</td>\n",
       "      <td>False</td>\n",
       "      <td>True</td>\n",
       "      <td>False</td>\n",
       "      <td>0.258500</td>\n",
       "      <td>0</td>\n",
       "    </tr>\n",
       "    <tr>\n",
       "      <th>506</th>\n",
       "      <td>510</td>\n",
       "      <td>D004317</td>\n",
       "      <td>MESH:D007249</td>\n",
       "      <td>[0.01034204, 0.13031472, 0.01779367, -0.105695...</td>\n",
       "      <td>[0.0052996, 0.09436312, 0.06031594, -0.1170692...</td>\n",
       "      <td>1</td>\n",
       "      <td>False</td>\n",
       "      <td>True</td>\n",
       "      <td>False</td>\n",
       "      <td>0.738379</td>\n",
       "      <td>1</td>\n",
       "    </tr>\n",
       "    <tr>\n",
       "      <th>507</th>\n",
       "      <td>511</td>\n",
       "      <td>D004317</td>\n",
       "      <td>MESH:D015674</td>\n",
       "      <td>[0.02138487, 0.14707246, 0.01843957, -0.118100...</td>\n",
       "      <td>[0.0052996, 0.09436312, 0.06031594, -0.1170692...</td>\n",
       "      <td>1</td>\n",
       "      <td>False</td>\n",
       "      <td>True</td>\n",
       "      <td>False</td>\n",
       "      <td>0.555044</td>\n",
       "      <td>1</td>\n",
       "    </tr>\n",
       "    <tr>\n",
       "      <th>508</th>\n",
       "      <td>512</td>\n",
       "      <td>D004317</td>\n",
       "      <td>MESH:D009369</td>\n",
       "      <td>[-0.01337378, 0.07777877, -0.06938379, -0.0139...</td>\n",
       "      <td>[0.0052996, 0.09436312, 0.06031594, -0.1170692...</td>\n",
       "      <td>1</td>\n",
       "      <td>False</td>\n",
       "      <td>True</td>\n",
       "      <td>False</td>\n",
       "      <td>0.552310</td>\n",
       "      <td>1</td>\n",
       "    </tr>\n",
       "  </tbody>\n",
       "</table>\n",
       "</div>"
      ],
      "text/plain": [
       "     index ChemicalID     DiseaseID  \\\n",
       "504    508    D004317  MESH:D001943   \n",
       "505    509    D004317  MESH:D019457   \n",
       "506    510    D004317  MESH:D007249   \n",
       "507    511    D004317  MESH:D015674   \n",
       "508    512    D004317  MESH:D009369   \n",
       "\n",
       "                                                  DVec  \\\n",
       "504  [-0.00754089653, 0.0284954235, -0.145941272, -...   \n",
       "505  [0.03360923, 0.10056757, 0.05314376, -0.113913...   \n",
       "506  [0.01034204, 0.13031472, 0.01779367, -0.105695...   \n",
       "507  [0.02138487, 0.14707246, 0.01843957, -0.118100...   \n",
       "508  [-0.01337378, 0.07777877, -0.06938379, -0.0139...   \n",
       "\n",
       "                                                  CVec  Correlation  train  \\\n",
       "504  [0.0052996, 0.09436312, 0.06031594, -0.1170692...            1  False   \n",
       "505  [0.0052996, 0.09436312, 0.06031594, -0.1170692...            1  False   \n",
       "506  [0.0052996, 0.09436312, 0.06031594, -0.1170692...            1  False   \n",
       "507  [0.0052996, 0.09436312, 0.06031594, -0.1170692...            1  False   \n",
       "508  [0.0052996, 0.09436312, 0.06031594, -0.1170692...            1  False   \n",
       "\n",
       "     test    val  Predictions  RoundPredictions  \n",
       "504  True  False     0.782367                 1  \n",
       "505  True  False     0.258500                 0  \n",
       "506  True  False     0.738379                 1  \n",
       "507  True  False     0.555044                 1  \n",
       "508  True  False     0.552310                 1  "
      ]
     },
     "execution_count": 34,
     "metadata": {},
     "output_type": "execute_result"
    }
   ],
   "source": [
    "test_set.head()"
   ]
  },
  {
   "cell_type": "code",
   "execution_count": 35,
   "metadata": {},
   "outputs": [],
   "source": [
    "# Get ready for some memory-optimisation\n",
    "def mem_usage(pandas_obj):\n",
    "    if isinstance(pandas_obj,pd.DataFrame):\n",
    "        usage_b = pandas_obj.memory_usage(deep=True).sum()\n",
    "    else: # we assume if not a df it's a series\n",
    "        usage_b = pandas_obj.memory_usage(deep=True)\n",
    "    usage_mb = usage_b / 1024 ** 2 # convert bytes to megabytes\n",
    "    return \"{:03.2f} MB\".format(usage_mb)"
   ]
  },
  {
   "cell_type": "code",
   "execution_count": 36,
   "metadata": {},
   "outputs": [
    {
     "name": "stdout",
     "output_type": "stream",
     "text": [
      "0.04 MB\n",
      "0.02 MB\n"
     ]
    }
   ],
   "source": [
    "test_set['Correlation'] = test_set.Correlation.astype(np.uint8)\n",
    "print(mem_usage(test_set['RoundPredictions']))\n",
    "test_set['RoundPredictions'] = test_set.RoundPredictions.astype(np.uint8)\n",
    "print(mem_usage(test_set['RoundPredictions']))"
   ]
  },
  {
   "cell_type": "code",
   "execution_count": 37,
   "metadata": {},
   "outputs": [],
   "source": [
    "# merge in the names\n",
    "\n",
    "# Because this weirdly requires a tonne of memory, let's optimise (for stupid terrible top-of-range dell laptop)\n",
    "lst = [chem_dis, df, df_d, df_c, Dvecs, Cvecs]\n",
    "del lst\n",
    "test_set = test_set.drop(['DVec', 'CVec', 'index'], axis=1) # these cols are memory intensive\n",
    "df_cd.ChemicalID = df_cd.ChemicalID.astype('category')\n",
    "for col in ['DiseaseID', 'ChemicalID', 'DiseaseName', '# ChemicalName', 'DirectEvidence']:\n",
    "    if str(col) in df_cd.columns: df_cd[col] = df_cd[col].astype('category')\n",
    "    if col in test_set.columns: test_set[col] = test_set[col].astype('category')\n",
    "        \n",
    "test_set = pd.merge(test_set, df_cd[['DiseaseID', 'DiseaseName']], on='DiseaseID')\n",
    "test_set = pd.merge(test_set, df_cd[['# ChemicalName', 'ChemicalID']], on='ChemicalID')\n",
    "\n",
    "# weirdly these operations introduce millions of duplicate rows, so delete duplicates:\n",
    "test_set = test_set.drop_duplicates(list(set(test_set.columns.values))) #- set(['DVec','CVec'])))"
   ]
  },
  {
   "cell_type": "code",
   "execution_count": 38,
   "metadata": {},
   "outputs": [],
   "source": [
    "# Import gofunction counts (for each disease and each chem). This csv was output in opa2vec.ipynb\n",
    "gofunc_counts = pd.read_csv('gofunc_counts.csv')\n",
    "test_set = pd.merge(test_set, gofunc_counts[['ChemicalID', 'gofunc']], on='ChemicalID')\n",
    "test_set = test_set.rename(columns = {'gofunc':'ChemGoFuncs'})\n",
    "test_set = pd.merge(test_set, gofunc_counts[['DiseaseID', 'gofunc']], on='DiseaseID')\n",
    "test_set = test_set.rename(columns = {'gofunc':'DisGoFuncs'})\n",
    "\n",
    "# Create combined gofunc count col\n",
    "test_set['sumGoFuncs'] = test_set.ChemGoFuncs + test_set.DisGoFuncs\n",
    "test_set['prodGoFuncs'] = test_set.ChemGoFuncs * test_set.DisGoFuncs\n",
    "\n"
   ]
  },
  {
   "cell_type": "code",
   "execution_count": 70,
   "metadata": {},
   "outputs": [],
   "source": [
    "# Create false pos and false neg col\n",
    "test_set['false_pos'] = abs(test_set.RoundPredictions - test_set.Correlation).map(lambda x: 0 if x > 200 else x)\n",
    "test_set['true_pos'] = (test_set.RoundPredictions + test_set.Correlation).map(lambda x: 1 if x==2 else 0)"
   ]
  },
  {
   "cell_type": "code",
   "execution_count": 71,
   "metadata": {},
   "outputs": [
    {
     "data": {
      "text/html": [
       "<div>\n",
       "<style scoped>\n",
       "    .dataframe tbody tr th:only-of-type {\n",
       "        vertical-align: middle;\n",
       "    }\n",
       "\n",
       "    .dataframe tbody tr th {\n",
       "        vertical-align: top;\n",
       "    }\n",
       "\n",
       "    .dataframe thead th {\n",
       "        text-align: right;\n",
       "    }\n",
       "</style>\n",
       "<table border=\"1\" class=\"dataframe\">\n",
       "  <thead>\n",
       "    <tr style=\"text-align: right;\">\n",
       "      <th></th>\n",
       "      <th>ChemicalID</th>\n",
       "      <th>DiseaseID</th>\n",
       "      <th>Correlation</th>\n",
       "      <th>train</th>\n",
       "      <th>test</th>\n",
       "      <th>val</th>\n",
       "      <th>Predictions</th>\n",
       "      <th>RoundPredictions</th>\n",
       "      <th>DiseaseName</th>\n",
       "      <th># ChemicalName</th>\n",
       "      <th>ChemGoFuncs</th>\n",
       "      <th>DisGoFuncs</th>\n",
       "      <th>sumGoFuncs</th>\n",
       "      <th>prodGoFuncs</th>\n",
       "      <th>false_pos</th>\n",
       "      <th>true_pos</th>\n",
       "    </tr>\n",
       "  </thead>\n",
       "  <tbody>\n",
       "    <tr>\n",
       "      <th>42191</th>\n",
       "      <td>D013752</td>\n",
       "      <td>MESH:D009205</td>\n",
       "      <td>1</td>\n",
       "      <td>False</td>\n",
       "      <td>True</td>\n",
       "      <td>False</td>\n",
       "      <td>0.217463</td>\n",
       "      <td>0</td>\n",
       "      <td>Myocarditis</td>\n",
       "      <td>Tetracycline</td>\n",
       "      <td>13</td>\n",
       "      <td>21</td>\n",
       "      <td>34</td>\n",
       "      <td>273</td>\n",
       "      <td>0</td>\n",
       "      <td>0</td>\n",
       "    </tr>\n",
       "    <tr>\n",
       "      <th>87590</th>\n",
       "      <td>D016578</td>\n",
       "      <td>MESH:D009395</td>\n",
       "      <td>1</td>\n",
       "      <td>False</td>\n",
       "      <td>True</td>\n",
       "      <td>False</td>\n",
       "      <td>0.491535</td>\n",
       "      <td>0</td>\n",
       "      <td>Nephritis, Interstitial</td>\n",
       "      <td>Crack Cocaine</td>\n",
       "      <td>8</td>\n",
       "      <td>59</td>\n",
       "      <td>67</td>\n",
       "      <td>472</td>\n",
       "      <td>0</td>\n",
       "      <td>0</td>\n",
       "    </tr>\n",
       "    <tr>\n",
       "      <th>91455</th>\n",
       "      <td>D009151</td>\n",
       "      <td>MESH:D029424</td>\n",
       "      <td>1</td>\n",
       "      <td>False</td>\n",
       "      <td>True</td>\n",
       "      <td>False</td>\n",
       "      <td>0.654257</td>\n",
       "      <td>1</td>\n",
       "      <td>Pulmonary Disease, Chronic Obstructive</td>\n",
       "      <td>Mustard Gas</td>\n",
       "      <td>13</td>\n",
       "      <td>216</td>\n",
       "      <td>229</td>\n",
       "      <td>2808</td>\n",
       "      <td>0</td>\n",
       "      <td>1</td>\n",
       "    </tr>\n",
       "    <tr>\n",
       "      <th>75729</th>\n",
       "      <td>D016578</td>\n",
       "      <td>MESH:D011297</td>\n",
       "      <td>1</td>\n",
       "      <td>False</td>\n",
       "      <td>True</td>\n",
       "      <td>False</td>\n",
       "      <td>0.543976</td>\n",
       "      <td>1</td>\n",
       "      <td>Prenatal Exposure Delayed Effects</td>\n",
       "      <td>Crack Cocaine</td>\n",
       "      <td>8</td>\n",
       "      <td>29</td>\n",
       "      <td>37</td>\n",
       "      <td>232</td>\n",
       "      <td>0</td>\n",
       "      <td>1</td>\n",
       "    </tr>\n",
       "    <tr>\n",
       "      <th>160827</th>\n",
       "      <td>C021751</td>\n",
       "      <td>MESH:D015812</td>\n",
       "      <td>0</td>\n",
       "      <td>False</td>\n",
       "      <td>True</td>\n",
       "      <td>False</td>\n",
       "      <td>0.095831</td>\n",
       "      <td>0</td>\n",
       "      <td>Glaucoma, Angle-Closure</td>\n",
       "      <td>tanshinone</td>\n",
       "      <td>9</td>\n",
       "      <td>20</td>\n",
       "      <td>29</td>\n",
       "      <td>180</td>\n",
       "      <td>0</td>\n",
       "      <td>0</td>\n",
       "    </tr>\n",
       "    <tr>\n",
       "      <th>53443</th>\n",
       "      <td>D004317</td>\n",
       "      <td>MESH:D010493</td>\n",
       "      <td>1</td>\n",
       "      <td>False</td>\n",
       "      <td>True</td>\n",
       "      <td>False</td>\n",
       "      <td>0.097032</td>\n",
       "      <td>0</td>\n",
       "      <td>Pericarditis</td>\n",
       "      <td>Doxorubicin</td>\n",
       "      <td>23</td>\n",
       "      <td>7</td>\n",
       "      <td>30</td>\n",
       "      <td>161</td>\n",
       "      <td>0</td>\n",
       "      <td>0</td>\n",
       "    </tr>\n",
       "    <tr>\n",
       "      <th>131968</th>\n",
       "      <td>D016578</td>\n",
       "      <td>MESH:D014657</td>\n",
       "      <td>1</td>\n",
       "      <td>False</td>\n",
       "      <td>True</td>\n",
       "      <td>False</td>\n",
       "      <td>0.515549</td>\n",
       "      <td>1</td>\n",
       "      <td>Vasculitis</td>\n",
       "      <td>Crack Cocaine</td>\n",
       "      <td>8</td>\n",
       "      <td>81</td>\n",
       "      <td>89</td>\n",
       "      <td>648</td>\n",
       "      <td>0</td>\n",
       "      <td>1</td>\n",
       "    </tr>\n",
       "    <tr>\n",
       "      <th>73497</th>\n",
       "      <td>C086401</td>\n",
       "      <td>MESH:D006984</td>\n",
       "      <td>1</td>\n",
       "      <td>False</td>\n",
       "      <td>True</td>\n",
       "      <td>False</td>\n",
       "      <td>0.062695</td>\n",
       "      <td>0</td>\n",
       "      <td>Hypertrophy</td>\n",
       "      <td>pentabromodiphenyl ether</td>\n",
       "      <td>18</td>\n",
       "      <td>5</td>\n",
       "      <td>23</td>\n",
       "      <td>90</td>\n",
       "      <td>0</td>\n",
       "      <td>0</td>\n",
       "    </tr>\n",
       "    <tr>\n",
       "      <th>3535</th>\n",
       "      <td>D009151</td>\n",
       "      <td>MESH:D048629</td>\n",
       "      <td>1</td>\n",
       "      <td>False</td>\n",
       "      <td>True</td>\n",
       "      <td>False</td>\n",
       "      <td>0.169589</td>\n",
       "      <td>0</td>\n",
       "      <td>Micronuclei, Chromosome-Defective</td>\n",
       "      <td>Mustard Gas</td>\n",
       "      <td>13</td>\n",
       "      <td>17</td>\n",
       "      <td>30</td>\n",
       "      <td>221</td>\n",
       "      <td>0</td>\n",
       "      <td>0</td>\n",
       "    </tr>\n",
       "    <tr>\n",
       "      <th>59123</th>\n",
       "      <td>D020123</td>\n",
       "      <td>MESH:D033461</td>\n",
       "      <td>1</td>\n",
       "      <td>False</td>\n",
       "      <td>True</td>\n",
       "      <td>False</td>\n",
       "      <td>0.230612</td>\n",
       "      <td>0</td>\n",
       "      <td>Hyperuricemia</td>\n",
       "      <td>Sirolimus</td>\n",
       "      <td>25</td>\n",
       "      <td>19</td>\n",
       "      <td>44</td>\n",
       "      <td>475</td>\n",
       "      <td>0</td>\n",
       "      <td>0</td>\n",
       "    </tr>\n",
       "    <tr>\n",
       "      <th>122914</th>\n",
       "      <td>D016578</td>\n",
       "      <td>MESH:D012206</td>\n",
       "      <td>1</td>\n",
       "      <td>False</td>\n",
       "      <td>True</td>\n",
       "      <td>False</td>\n",
       "      <td>0.497777</td>\n",
       "      <td>0</td>\n",
       "      <td>Rhabdomyolysis</td>\n",
       "      <td>Crack Cocaine</td>\n",
       "      <td>8</td>\n",
       "      <td>24</td>\n",
       "      <td>32</td>\n",
       "      <td>192</td>\n",
       "      <td>0</td>\n",
       "      <td>0</td>\n",
       "    </tr>\n",
       "    <tr>\n",
       "      <th>143552</th>\n",
       "      <td>D008942</td>\n",
       "      <td>MESH:D015207</td>\n",
       "      <td>0</td>\n",
       "      <td>False</td>\n",
       "      <td>True</td>\n",
       "      <td>False</td>\n",
       "      <td>0.049094</td>\n",
       "      <td>0</td>\n",
       "      <td>Osteoarthritis, Hip</td>\n",
       "      <td>Mitoxantrone</td>\n",
       "      <td>22</td>\n",
       "      <td>8</td>\n",
       "      <td>30</td>\n",
       "      <td>176</td>\n",
       "      <td>0</td>\n",
       "      <td>0</td>\n",
       "    </tr>\n",
       "    <tr>\n",
       "      <th>72728</th>\n",
       "      <td>C009277</td>\n",
       "      <td>MESH:D006965</td>\n",
       "      <td>1</td>\n",
       "      <td>False</td>\n",
       "      <td>True</td>\n",
       "      <td>False</td>\n",
       "      <td>0.548153</td>\n",
       "      <td>1</td>\n",
       "      <td>Hyperplasia</td>\n",
       "      <td>sodium arsenate</td>\n",
       "      <td>7</td>\n",
       "      <td>43</td>\n",
       "      <td>50</td>\n",
       "      <td>301</td>\n",
       "      <td>0</td>\n",
       "      <td>1</td>\n",
       "    </tr>\n",
       "  </tbody>\n",
       "</table>\n",
       "</div>"
      ],
      "text/plain": [
       "       ChemicalID     DiseaseID  Correlation  train  test    val  Predictions  \\\n",
       "42191     D013752  MESH:D009205            1  False  True  False     0.217463   \n",
       "87590     D016578  MESH:D009395            1  False  True  False     0.491535   \n",
       "91455     D009151  MESH:D029424            1  False  True  False     0.654257   \n",
       "75729     D016578  MESH:D011297            1  False  True  False     0.543976   \n",
       "160827    C021751  MESH:D015812            0  False  True  False     0.095831   \n",
       "53443     D004317  MESH:D010493            1  False  True  False     0.097032   \n",
       "131968    D016578  MESH:D014657            1  False  True  False     0.515549   \n",
       "73497     C086401  MESH:D006984            1  False  True  False     0.062695   \n",
       "3535      D009151  MESH:D048629            1  False  True  False     0.169589   \n",
       "59123     D020123  MESH:D033461            1  False  True  False     0.230612   \n",
       "122914    D016578  MESH:D012206            1  False  True  False     0.497777   \n",
       "143552    D008942  MESH:D015207            0  False  True  False     0.049094   \n",
       "72728     C009277  MESH:D006965            1  False  True  False     0.548153   \n",
       "\n",
       "        RoundPredictions                             DiseaseName  \\\n",
       "42191                  0                             Myocarditis   \n",
       "87590                  0                 Nephritis, Interstitial   \n",
       "91455                  1  Pulmonary Disease, Chronic Obstructive   \n",
       "75729                  1       Prenatal Exposure Delayed Effects   \n",
       "160827                 0                 Glaucoma, Angle-Closure   \n",
       "53443                  0                            Pericarditis   \n",
       "131968                 1                              Vasculitis   \n",
       "73497                  0                             Hypertrophy   \n",
       "3535                   0       Micronuclei, Chromosome-Defective   \n",
       "59123                  0                           Hyperuricemia   \n",
       "122914                 0                          Rhabdomyolysis   \n",
       "143552                 0                     Osteoarthritis, Hip   \n",
       "72728                  1                             Hyperplasia   \n",
       "\n",
       "                  # ChemicalName  ChemGoFuncs  DisGoFuncs  sumGoFuncs  \\\n",
       "42191               Tetracycline           13          21          34   \n",
       "87590              Crack Cocaine            8          59          67   \n",
       "91455                Mustard Gas           13         216         229   \n",
       "75729              Crack Cocaine            8          29          37   \n",
       "160827                tanshinone            9          20          29   \n",
       "53443                Doxorubicin           23           7          30   \n",
       "131968             Crack Cocaine            8          81          89   \n",
       "73497   pentabromodiphenyl ether           18           5          23   \n",
       "3535                 Mustard Gas           13          17          30   \n",
       "59123                  Sirolimus           25          19          44   \n",
       "122914             Crack Cocaine            8          24          32   \n",
       "143552              Mitoxantrone           22           8          30   \n",
       "72728            sodium arsenate            7          43          50   \n",
       "\n",
       "        prodGoFuncs  false_pos  true_pos  \n",
       "42191           273          0         0  \n",
       "87590           472          0         0  \n",
       "91455          2808          0         1  \n",
       "75729           232          0         1  \n",
       "160827          180          0         0  \n",
       "53443           161          0         0  \n",
       "131968          648          0         1  \n",
       "73497            90          0         0  \n",
       "3535            221          0         0  \n",
       "59123           475          0         0  \n",
       "122914          192          0         0  \n",
       "143552          176          0         0  \n",
       "72728           301          0         1  "
      ]
     },
     "execution_count": 71,
     "metadata": {},
     "output_type": "execute_result"
    }
   ],
   "source": [
    "test_set.sample(13)"
   ]
  },
  {
   "cell_type": "code",
   "execution_count": null,
   "metadata": {},
   "outputs": [],
   "source": [
    "# v=np.linspace(-1,1,10001)\n",
    "# print (np.corrcoef(v,np.abs(v))[0,1], distcorr.distcorr(v,np.abs(v)))"
   ]
  },
  {
   "cell_type": "code",
   "execution_count": null,
   "metadata": {},
   "outputs": [],
   "source": [
    "# Test data for distance correlation\n",
    "data = [[4,10],[4,12],[6,13]]\n",
    "zdf = pd.DataFrame(data,columns=['Name','Age'],dtype=np.int64)\n",
    "type(zdf.Name[1])"
   ]
  },
  {
   "cell_type": "code",
   "execution_count": null,
   "metadata": {},
   "outputs": [],
   "source": [
    "# correlade.dcorr(zdf)\n",
    "zdf.head().corr()"
   ]
  },
  {
   "cell_type": "code",
   "execution_count": 72,
   "metadata": {},
   "outputs": [
    {
     "name": "stdout",
     "output_type": "stream",
     "text": [
      "                 Correlation Predictions RoundPredictions ChemGoFuncs  \\\n",
      "Correlation                1    0.188923         0.102508   0.0427998   \n",
      "Predictions         0.188923           1         0.828104    0.117136   \n",
      "RoundPredictions    0.102508    0.828104                1   0.0521023   \n",
      "ChemGoFuncs        0.0427998    0.117136        0.0521023           1   \n",
      "DisGoFuncs         0.0953994    0.790543         0.744659   0.0173606   \n",
      "sumGoFuncs         0.0915694    0.708864         0.673654    0.408123   \n",
      "prodGoFuncs          0.09322    0.571465         0.540877    0.401007   \n",
      "false_pos           0.259039    0.273393         0.328287    0.027043   \n",
      "\n",
      "                 DisGoFuncs sumGoFuncs prodGoFuncs false_pos  \n",
      "Correlation       0.0953994  0.0915694     0.09322  0.259039  \n",
      "Predictions        0.790543   0.708864    0.571465  0.273393  \n",
      "RoundPredictions   0.744659   0.673654    0.540877  0.328287  \n",
      "ChemGoFuncs       0.0173606   0.408123    0.401007  0.027043  \n",
      "DisGoFuncs                1   0.915406      0.7435  0.278766  \n",
      "sumGoFuncs         0.915406          1    0.851477  0.251603  \n",
      "prodGoFuncs          0.7435   0.851477           1  0.228747  \n",
      "false_pos          0.278766   0.251603    0.228747         1  \n"
     ]
    }
   ],
   "source": [
    "#Distance Correlation\n",
    "correlade.dcorr(test_set.sample(1300)[['Correlation', 'Predictions', 'RoundPredictions', 'ChemGoFuncs', 'DisGoFuncs', 'sumGoFuncs', 'prodGoFuncs', 'false_pos']])"
   ]
  },
  {
   "cell_type": "code",
   "execution_count": 73,
   "metadata": {},
   "outputs": [
    {
     "data": {
      "text/html": [
       "<div>\n",
       "<style scoped>\n",
       "    .dataframe tbody tr th:only-of-type {\n",
       "        vertical-align: middle;\n",
       "    }\n",
       "\n",
       "    .dataframe tbody tr th {\n",
       "        vertical-align: top;\n",
       "    }\n",
       "\n",
       "    .dataframe thead th {\n",
       "        text-align: right;\n",
       "    }\n",
       "</style>\n",
       "<table border=\"1\" class=\"dataframe\">\n",
       "  <thead>\n",
       "    <tr style=\"text-align: right;\">\n",
       "      <th></th>\n",
       "      <th>Correlation</th>\n",
       "      <th>Predictions</th>\n",
       "      <th>RoundPredictions</th>\n",
       "      <th>ChemGoFuncs</th>\n",
       "      <th>DisGoFuncs</th>\n",
       "      <th>sumGoFuncs</th>\n",
       "      <th>prodGoFuncs</th>\n",
       "      <th>false_pos</th>\n",
       "    </tr>\n",
       "  </thead>\n",
       "  <tbody>\n",
       "    <tr>\n",
       "      <th>Correlation</th>\n",
       "      <td>1.000000</td>\n",
       "      <td>0.170693</td>\n",
       "      <td>0.117550</td>\n",
       "      <td>-0.001071</td>\n",
       "      <td>0.026386</td>\n",
       "      <td>0.019070</td>\n",
       "      <td>0.013818</td>\n",
       "      <td>-0.256196</td>\n",
       "    </tr>\n",
       "    <tr>\n",
       "      <th>Predictions</th>\n",
       "      <td>0.170693</td>\n",
       "      <td>1.000000</td>\n",
       "      <td>0.841228</td>\n",
       "      <td>0.008825</td>\n",
       "      <td>0.619926</td>\n",
       "      <td>0.470424</td>\n",
       "      <td>0.114122</td>\n",
       "      <td>0.267114</td>\n",
       "    </tr>\n",
       "    <tr>\n",
       "      <th>RoundPredictions</th>\n",
       "      <td>0.117550</td>\n",
       "      <td>0.841228</td>\n",
       "      <td>1.000000</td>\n",
       "      <td>0.011549</td>\n",
       "      <td>0.554865</td>\n",
       "      <td>0.423458</td>\n",
       "      <td>0.103572</td>\n",
       "      <td>0.333286</td>\n",
       "    </tr>\n",
       "    <tr>\n",
       "      <th>ChemGoFuncs</th>\n",
       "      <td>-0.001071</td>\n",
       "      <td>0.008825</td>\n",
       "      <td>0.011549</td>\n",
       "      <td>1.000000</td>\n",
       "      <td>0.004361</td>\n",
       "      <td>0.662057</td>\n",
       "      <td>0.396091</td>\n",
       "      <td>-0.002486</td>\n",
       "    </tr>\n",
       "    <tr>\n",
       "      <th>DisGoFuncs</th>\n",
       "      <td>0.026386</td>\n",
       "      <td>0.619926</td>\n",
       "      <td>0.554865</td>\n",
       "      <td>0.004361</td>\n",
       "      <td>1.000000</td>\n",
       "      <td>0.752334</td>\n",
       "      <td>0.193820</td>\n",
       "      <td>0.297692</td>\n",
       "    </tr>\n",
       "    <tr>\n",
       "      <th>sumGoFuncs</th>\n",
       "      <td>0.019070</td>\n",
       "      <td>0.470424</td>\n",
       "      <td>0.423458</td>\n",
       "      <td>0.662057</td>\n",
       "      <td>0.752334</td>\n",
       "      <td>1.000000</td>\n",
       "      <td>0.406201</td>\n",
       "      <td>0.221471</td>\n",
       "    </tr>\n",
       "    <tr>\n",
       "      <th>prodGoFuncs</th>\n",
       "      <td>0.013818</td>\n",
       "      <td>0.114122</td>\n",
       "      <td>0.103572</td>\n",
       "      <td>0.396091</td>\n",
       "      <td>0.193820</td>\n",
       "      <td>0.406201</td>\n",
       "      <td>1.000000</td>\n",
       "      <td>0.031329</td>\n",
       "    </tr>\n",
       "    <tr>\n",
       "      <th>false_pos</th>\n",
       "      <td>-0.256196</td>\n",
       "      <td>0.267114</td>\n",
       "      <td>0.333286</td>\n",
       "      <td>-0.002486</td>\n",
       "      <td>0.297692</td>\n",
       "      <td>0.221471</td>\n",
       "      <td>0.031329</td>\n",
       "      <td>1.000000</td>\n",
       "    </tr>\n",
       "  </tbody>\n",
       "</table>\n",
       "</div>"
      ],
      "text/plain": [
       "                  Correlation  Predictions  RoundPredictions  ChemGoFuncs  \\\n",
       "Correlation          1.000000     0.170693          0.117550    -0.001071   \n",
       "Predictions          0.170693     1.000000          0.841228     0.008825   \n",
       "RoundPredictions     0.117550     0.841228          1.000000     0.011549   \n",
       "ChemGoFuncs         -0.001071     0.008825          0.011549     1.000000   \n",
       "DisGoFuncs           0.026386     0.619926          0.554865     0.004361   \n",
       "sumGoFuncs           0.019070     0.470424          0.423458     0.662057   \n",
       "prodGoFuncs          0.013818     0.114122          0.103572     0.396091   \n",
       "false_pos           -0.256196     0.267114          0.333286    -0.002486   \n",
       "\n",
       "                  DisGoFuncs  sumGoFuncs  prodGoFuncs  false_pos  \n",
       "Correlation         0.026386    0.019070     0.013818  -0.256196  \n",
       "Predictions         0.619926    0.470424     0.114122   0.267114  \n",
       "RoundPredictions    0.554865    0.423458     0.103572   0.333286  \n",
       "ChemGoFuncs         0.004361    0.662057     0.396091  -0.002486  \n",
       "DisGoFuncs          1.000000    0.752334     0.193820   0.297692  \n",
       "sumGoFuncs          0.752334    1.000000     0.406201   0.221471  \n",
       "prodGoFuncs         0.193820    0.406201     1.000000   0.031329  \n",
       "false_pos           0.297692    0.221471     0.031329   1.000000  "
      ]
     },
     "execution_count": 73,
     "metadata": {},
     "output_type": "execute_result"
    }
   ],
   "source": [
    "#Pearson Correlation\n",
    "test_set[['Correlation', 'Predictions', 'RoundPredictions', 'ChemGoFuncs', 'DisGoFuncs', 'sumGoFuncs', 'prodGoFuncs', 'false_pos']].corr()"
   ]
  },
  {
   "cell_type": "code",
   "execution_count": 74,
   "metadata": {},
   "outputs": [
    {
     "data": {
      "text/html": [
       "<div>\n",
       "<style scoped>\n",
       "    .dataframe tbody tr th:only-of-type {\n",
       "        vertical-align: middle;\n",
       "    }\n",
       "\n",
       "    .dataframe tbody tr th {\n",
       "        vertical-align: top;\n",
       "    }\n",
       "\n",
       "    .dataframe thead th {\n",
       "        text-align: right;\n",
       "    }\n",
       "</style>\n",
       "<table border=\"1\" class=\"dataframe\">\n",
       "  <thead>\n",
       "    <tr style=\"text-align: right;\">\n",
       "      <th></th>\n",
       "      <th>Correlation</th>\n",
       "      <th>Predictions</th>\n",
       "      <th>RoundPredictions</th>\n",
       "      <th>ChemGoFuncs</th>\n",
       "      <th>DisGoFuncs</th>\n",
       "      <th>sumGoFuncs</th>\n",
       "      <th>prodGoFuncs</th>\n",
       "      <th>false_pos</th>\n",
       "    </tr>\n",
       "  </thead>\n",
       "  <tbody>\n",
       "    <tr>\n",
       "      <th>Correlation</th>\n",
       "      <td>1.000000</td>\n",
       "      <td>0.200273</td>\n",
       "      <td>0.117550</td>\n",
       "      <td>-0.055372</td>\n",
       "      <td>0.108739</td>\n",
       "      <td>0.066899</td>\n",
       "      <td>0.065940</td>\n",
       "      <td>-0.256196</td>\n",
       "    </tr>\n",
       "    <tr>\n",
       "      <th>Predictions</th>\n",
       "      <td>0.200273</td>\n",
       "      <td>1.000000</td>\n",
       "      <td>0.636502</td>\n",
       "      <td>-0.181567</td>\n",
       "      <td>0.828172</td>\n",
       "      <td>0.657033</td>\n",
       "      <td>0.616205</td>\n",
       "      <td>0.208711</td>\n",
       "    </tr>\n",
       "    <tr>\n",
       "      <th>RoundPredictions</th>\n",
       "      <td>0.117550</td>\n",
       "      <td>0.636502</td>\n",
       "      <td>1.000000</td>\n",
       "      <td>-0.053804</td>\n",
       "      <td>0.599887</td>\n",
       "      <td>0.576462</td>\n",
       "      <td>0.539401</td>\n",
       "      <td>0.333286</td>\n",
       "    </tr>\n",
       "    <tr>\n",
       "      <th>ChemGoFuncs</th>\n",
       "      <td>-0.055372</td>\n",
       "      <td>-0.181567</td>\n",
       "      <td>-0.053804</td>\n",
       "      <td>1.000000</td>\n",
       "      <td>-0.026726</td>\n",
       "      <td>0.388584</td>\n",
       "      <td>0.475111</td>\n",
       "      <td>-0.039825</td>\n",
       "    </tr>\n",
       "    <tr>\n",
       "      <th>DisGoFuncs</th>\n",
       "      <td>0.108739</td>\n",
       "      <td>0.828172</td>\n",
       "      <td>0.599887</td>\n",
       "      <td>-0.026726</td>\n",
       "      <td>1.000000</td>\n",
       "      <td>0.844446</td>\n",
       "      <td>0.824239</td>\n",
       "      <td>0.209844</td>\n",
       "    </tr>\n",
       "    <tr>\n",
       "      <th>sumGoFuncs</th>\n",
       "      <td>0.066899</td>\n",
       "      <td>0.657033</td>\n",
       "      <td>0.576462</td>\n",
       "      <td>0.388584</td>\n",
       "      <td>0.844446</td>\n",
       "      <td>1.000000</td>\n",
       "      <td>0.979443</td>\n",
       "      <td>0.203650</td>\n",
       "    </tr>\n",
       "    <tr>\n",
       "      <th>prodGoFuncs</th>\n",
       "      <td>0.065940</td>\n",
       "      <td>0.616205</td>\n",
       "      <td>0.539401</td>\n",
       "      <td>0.475111</td>\n",
       "      <td>0.824239</td>\n",
       "      <td>0.979443</td>\n",
       "      <td>1.000000</td>\n",
       "      <td>0.187917</td>\n",
       "    </tr>\n",
       "    <tr>\n",
       "      <th>false_pos</th>\n",
       "      <td>-0.256196</td>\n",
       "      <td>0.208711</td>\n",
       "      <td>0.333286</td>\n",
       "      <td>-0.039825</td>\n",
       "      <td>0.209844</td>\n",
       "      <td>0.203650</td>\n",
       "      <td>0.187917</td>\n",
       "      <td>1.000000</td>\n",
       "    </tr>\n",
       "  </tbody>\n",
       "</table>\n",
       "</div>"
      ],
      "text/plain": [
       "                  Correlation  Predictions  RoundPredictions  ChemGoFuncs  \\\n",
       "Correlation          1.000000     0.200273          0.117550    -0.055372   \n",
       "Predictions          0.200273     1.000000          0.636502    -0.181567   \n",
       "RoundPredictions     0.117550     0.636502          1.000000    -0.053804   \n",
       "ChemGoFuncs         -0.055372    -0.181567         -0.053804     1.000000   \n",
       "DisGoFuncs           0.108739     0.828172          0.599887    -0.026726   \n",
       "sumGoFuncs           0.066899     0.657033          0.576462     0.388584   \n",
       "prodGoFuncs          0.065940     0.616205          0.539401     0.475111   \n",
       "false_pos           -0.256196     0.208711          0.333286    -0.039825   \n",
       "\n",
       "                  DisGoFuncs  sumGoFuncs  prodGoFuncs  false_pos  \n",
       "Correlation         0.108739    0.066899     0.065940  -0.256196  \n",
       "Predictions         0.828172    0.657033     0.616205   0.208711  \n",
       "RoundPredictions    0.599887    0.576462     0.539401   0.333286  \n",
       "ChemGoFuncs        -0.026726    0.388584     0.475111  -0.039825  \n",
       "DisGoFuncs          1.000000    0.844446     0.824239   0.209844  \n",
       "sumGoFuncs          0.844446    1.000000     0.979443   0.203650  \n",
       "prodGoFuncs         0.824239    0.979443     1.000000   0.187917  \n",
       "false_pos           0.209844    0.203650     0.187917   1.000000  "
      ]
     },
     "execution_count": 74,
     "metadata": {},
     "output_type": "execute_result"
    }
   ],
   "source": [
    "#Pearson Correlation\n",
    "test_set[['Correlation', 'Predictions', 'RoundPredictions', 'ChemGoFuncs', 'DisGoFuncs', 'sumGoFuncs', 'prodGoFuncs', 'false_pos']].corr(method='spearman')"
   ]
  },
  {
   "cell_type": "code",
   "execution_count": 69,
   "metadata": {},
   "outputs": [],
   "source": [
    "test_set[['DiseaseName', '# ChemicalName', 'Correlation', 'Predictions', 'RoundPredictions', 'ChemGoFuncs', 'DisGoFuncs', 'false_pos']].to_csv('predictions.csv', index=False)"
   ]
  },
  {
   "cell_type": "code",
   "execution_count": null,
   "metadata": {},
   "outputs": [],
   "source": [
    "# # This cell is pointless - manually verifying accuracy test\n",
    "# # Round predictions to int based on threshold, run accuracy-test manually\n",
    "# predictions = model.predict(X_test)\n",
    "# threshold = predictions[:].sum()/len(predictions) # Threshold is the mean value of predictions\n",
    "# predictions = [float(round(x[0]-threshold+0.5)) for x in predictions]\n",
    "# manual_accuracy = sklearn.metrics.accuracy_score(y_test, predictions, normalize=True, sample_weight=None)\n",
    "# print(manual_accuracy)"
   ]
  },
  {
   "cell_type": "markdown",
   "metadata": {},
   "source": [
    "### 5. Calculate Cosine Similary"
   ]
  },
  {
   "cell_type": "code",
   "execution_count": null,
   "metadata": {},
   "outputs": [],
   "source": [
    "# df1.head()"
   ]
  },
  {
   "cell_type": "code",
   "execution_count": null,
   "metadata": {},
   "outputs": [],
   "source": [
    "# Calculate out the cosine similarity and see if there's a difference between groups\n",
    "def cosine_sim (row):\n",
    "    return cosine_similarity(np.array(row.DVec).reshape(1, -1), np.array(row.CVec).reshape(1, -1))[0][0]\n",
    "\n",
    "df1['cosine_sim'] = df1.apply(lambda row: cosine_sim(row), axis=1)\n",
    "\n",
    "# Compare cosine sim of correlated and uncorrelated groups\n",
    "print('Cosine mean with no correlation: ', df1[df1.Correlation == 1 ].cosine_sim.mean())\n",
    "print('Cosine mean with correlation: ', df1[df1.Correlation == 0 ].cosine_sim.mean())"
   ]
  },
  {
   "cell_type": "markdown",
   "metadata": {},
   "source": [
    "### 6. Save Model"
   ]
  },
  {
   "cell_type": "code",
   "execution_count": null,
   "metadata": {},
   "outputs": [],
   "source": [
    "# # Save model (in two files, one for weights and one for json)\n",
    "# json_string = model.to_json()\n",
    "# model.save_weights(\"model2-0.82.h5\")\n",
    "# with open('model2-0.82.json', 'w') as outfile:\n",
    "#     json.dump(json_string, outfile)"
   ]
  },
  {
   "cell_type": "code",
   "execution_count": null,
   "metadata": {},
   "outputs": [],
   "source": []
  }
 ],
 "metadata": {
  "kernelspec": {
   "display_name": "Python 3",
   "language": "python",
   "name": "python3"
  },
  "language_info": {
   "codemirror_mode": {
    "name": "ipython",
    "version": 3
   },
   "file_extension": ".py",
   "mimetype": "text/x-python",
   "name": "python",
   "nbconvert_exporter": "python",
   "pygments_lexer": "ipython3",
   "version": "3.6.5"
  }
 },
 "nbformat": 4,
 "nbformat_minor": 2
}
