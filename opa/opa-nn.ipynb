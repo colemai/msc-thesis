{
 "cells": [
  {
   "cell_type": "markdown",
   "metadata": {},
   "source": [
    "# Notebook: Use NN to predict disease from chemicals using Opa2Vec vectors\n",
    "<b> Author: </b> Ian Coleman <br>\n",
    "<b> Purpose: </b> Take the vectors created in the opa2vec notebook. This took chemical go functions\n",
    "    and disease go function, creating vectors for each. Train a NN to predict positive chem-dis relationships from these vectors"
   ]
  },
  {
   "cell_type": "code",
   "execution_count": 821,
   "metadata": {},
   "outputs": [],
   "source": [
    "import tensorflow as tf\n",
    "from tensorflow import keras\n",
    "import numpy as np\n",
    "import matplotlib.pyplot as plt\n",
    "import pandas as pd\n",
    "from random import randint\n",
    "import random\n",
    "from sklearn.model_selection import train_test_split\n",
    "import sklearn\n",
    "from sklearn.metrics.pairwise import cosine_similarity\n",
    "from sklearn.metrics import roc_curve\n",
    "from sklearn.metrics import roc_auc_score\n",
    "from pandas_ml import ConfusionMatrix\n",
    "import json\n",
    "import subprocess\n",
    "import pickle\n",
    "import math\n",
    "\n",
    "#Set random seed\n",
    "np.random.seed(1606)"
   ]
  },
  {
   "cell_type": "markdown",
   "metadata": {},
   "source": [
    "### Functions"
   ]
  },
  {
   "cell_type": "code",
   "execution_count": 822,
   "metadata": {},
   "outputs": [],
   "source": [
    "# def mem_usage(pandas_obj):\n",
    "#     if isinstance(pandas_obj,pd.DataFrame):\n",
    "#         usage_b = pandas_obj.memory_usage(deep=True).sum()\n",
    "#     else: # we assume if not a df it's a series\n",
    "#         usage_b = pandas_obj.memory_usage(deep=True)\n",
    "#     usage_mb = usage_b / 1024 ** 2 # convert bytes to megabytes\n",
    "#     return \"{:03.2f} MB\".format(usage_mb)"
   ]
  },
  {
   "cell_type": "markdown",
   "metadata": {},
   "source": [
    "### 1. Import Vectors and Pre-Process them"
   ]
  },
  {
   "cell_type": "code",
   "execution_count": 823,
   "metadata": {},
   "outputs": [],
   "source": [
    "# Import Gofunc vec file\n",
    "# These are the gofuncs for diseases and chems both from ctd and from vmh, made in opa2vec.\n",
    "# VMH chems/diseases are to be removed as they are for a validation check\n",
    "with open('go-gofuncs.lst', 'r') as file:\n",
    "    text = file.read()\n",
    "    \n",
    "# Strip and split vector data into list of lists [chem, vec]\n",
    "text = text.replace('\\n', '')\n",
    "text = text.split(']')\n",
    "text = [item.strip().split(' [') for item in text]\n",
    "\n",
    "# Turn it into a data frame\n",
    "df = pd.DataFrame(text)\n",
    "df.columns = ['ID', 'Vector']\n",
    "\n",
    "# Clean\n",
    "df = df.dropna()\n",
    "df['Vector'] = df.Vector.map(lambda x: x.rstrip().lstrip().replace('    ', ' ').replace('   ', ' ').replace('  ', ' ').replace(' ', ','))\n",
    "\n",
    "# Turn vector column into a list\n",
    "df['Vector'] = df.Vector.map(lambda x: x.split(','))"
   ]
  },
  {
   "cell_type": "code",
   "execution_count": 824,
   "metadata": {},
   "outputs": [
    {
     "data": {
      "text/html": [
       "<div>\n",
       "<style scoped>\n",
       "    .dataframe tbody tr th:only-of-type {\n",
       "        vertical-align: middle;\n",
       "    }\n",
       "\n",
       "    .dataframe tbody tr th {\n",
       "        vertical-align: top;\n",
       "    }\n",
       "\n",
       "    .dataframe thead th {\n",
       "        text-align: right;\n",
       "    }\n",
       "</style>\n",
       "<table border=\"1\" class=\"dataframe\">\n",
       "  <thead>\n",
       "    <tr style=\"text-align: right;\">\n",
       "      <th></th>\n",
       "      <th>ID</th>\n",
       "      <th>Vector</th>\n",
       "    </tr>\n",
       "  </thead>\n",
       "  <tbody>\n",
       "    <tr>\n",
       "      <th>1297</th>\n",
       "      <td>MESH:C567764</td>\n",
       "      <td>[2.59589870e-02, 1.18869647e-01, 4.94366251e-0...</td>\n",
       "    </tr>\n",
       "    <tr>\n",
       "      <th>1791</th>\n",
       "      <td>MESH:C563557</td>\n",
       "      <td>[-0.00220508, 0.12581137, 0.03101973, -0.11821...</td>\n",
       "    </tr>\n",
       "    <tr>\n",
       "      <th>632</th>\n",
       "      <td>MESH:C564219</td>\n",
       "      <td>[-2.59858873e-02, 1.27377555e-01, -1.66070759e...</td>\n",
       "    </tr>\n",
       "    <tr>\n",
       "      <th>1166</th>\n",
       "      <td>OMIM:614898</td>\n",
       "      <td>[2.26386860e-02, 1.09396853e-01, 2.76846923e-0...</td>\n",
       "    </tr>\n",
       "    <tr>\n",
       "      <th>1615</th>\n",
       "      <td>OMIM:615828</td>\n",
       "      <td>[1.22775771e-02, 1.29769415e-01, 8.57655481e-0...</td>\n",
       "    </tr>\n",
       "    <tr>\n",
       "      <th>1283</th>\n",
       "      <td>MESH:D055371</td>\n",
       "      <td>[0.02456979, 0.09336999, 0.04372336, -0.103645...</td>\n",
       "    </tr>\n",
       "    <tr>\n",
       "      <th>1668</th>\n",
       "      <td>MESH:D057049</td>\n",
       "      <td>[0.02601669, 0.13012536, 0.03325291, -0.135834...</td>\n",
       "    </tr>\n",
       "    <tr>\n",
       "      <th>2737</th>\n",
       "      <td>C088658</td>\n",
       "      <td>[0.04418474, 0.14310175, 0.04817571, -0.159905...</td>\n",
       "    </tr>\n",
       "    <tr>\n",
       "      <th>2075</th>\n",
       "      <td>OMIM:613671</td>\n",
       "      <td>[0.01726108, 0.10205465, 0.04739797, -0.113752...</td>\n",
       "    </tr>\n",
       "    <tr>\n",
       "      <th>1179</th>\n",
       "      <td>MESH:D004769</td>\n",
       "      <td>[2.83928532e-02, 1.17765650e-01, 4.06522602e-0...</td>\n",
       "    </tr>\n",
       "    <tr>\n",
       "      <th>1671</th>\n",
       "      <td>MESH:D017689</td>\n",
       "      <td>[1.03104273e-02, 1.39258072e-01, 3.12689841e-0...</td>\n",
       "    </tr>\n",
       "    <tr>\n",
       "      <th>3203</th>\n",
       "      <td>AMAN</td>\n",
       "      <td>[0.03622663, 0.11843033, -0.01800258, -0.14433...</td>\n",
       "    </tr>\n",
       "    <tr>\n",
       "      <th>3334</th>\n",
       "      <td>FLIPO</td>\n",
       "      <td>[0.02578659, 0.1204352, 0.01970039, -0.1209402...</td>\n",
       "    </tr>\n",
       "    <tr>\n",
       "      <th>3088</th>\n",
       "      <td>D011137</td>\n",
       "      <td>[0.03088476, 0.10678955, 0.02904048, -0.107162...</td>\n",
       "    </tr>\n",
       "    <tr>\n",
       "      <th>1750</th>\n",
       "      <td>MESH:D012608</td>\n",
       "      <td>[0.02118959, 0.11798735, 0.06626675, -0.148499...</td>\n",
       "    </tr>\n",
       "  </tbody>\n",
       "</table>\n",
       "</div>"
      ],
      "text/plain": [
       "                ID                                             Vector\n",
       "1297  MESH:C567764  [2.59589870e-02, 1.18869647e-01, 4.94366251e-0...\n",
       "1791  MESH:C563557  [-0.00220508, 0.12581137, 0.03101973, -0.11821...\n",
       "632   MESH:C564219  [-2.59858873e-02, 1.27377555e-01, -1.66070759e...\n",
       "1166   OMIM:614898  [2.26386860e-02, 1.09396853e-01, 2.76846923e-0...\n",
       "1615   OMIM:615828  [1.22775771e-02, 1.29769415e-01, 8.57655481e-0...\n",
       "1283  MESH:D055371  [0.02456979, 0.09336999, 0.04372336, -0.103645...\n",
       "1668  MESH:D057049  [0.02601669, 0.13012536, 0.03325291, -0.135834...\n",
       "2737       C088658  [0.04418474, 0.14310175, 0.04817571, -0.159905...\n",
       "2075   OMIM:613671  [0.01726108, 0.10205465, 0.04739797, -0.113752...\n",
       "1179  MESH:D004769  [2.83928532e-02, 1.17765650e-01, 4.06522602e-0...\n",
       "1671  MESH:D017689  [1.03104273e-02, 1.39258072e-01, 3.12689841e-0...\n",
       "3203          AMAN  [0.03622663, 0.11843033, -0.01800258, -0.14433...\n",
       "3334         FLIPO  [0.02578659, 0.1204352, 0.01970039, -0.1209402...\n",
       "3088       D011137  [0.03088476, 0.10678955, 0.02904048, -0.107162...\n",
       "1750  MESH:D012608  [0.02118959, 0.11798735, 0.06626675, -0.148499..."
      ]
     },
     "execution_count": 824,
     "metadata": {},
     "output_type": "execute_result"
    }
   ],
   "source": [
    "df.sample(15)"
   ]
  },
  {
   "cell_type": "code",
   "execution_count": 825,
   "metadata": {},
   "outputs": [
    {
     "name": "stdout",
     "output_type": "stream",
     "text": [
      "(3412, 2)\n",
      "(3153, 2)\n"
     ]
    }
   ],
   "source": [
    "# Remove all VMH ids\n",
    "print(df.shape)\n",
    "vmh_entities = pd.read_csv('../validation/VMHentities.lst', names=['entity'])\n",
    "df = df[df.ID.map(lambda x: x not in list(vmh_entities.entity))]\n",
    "print(df.shape)"
   ]
  },
  {
   "cell_type": "code",
   "execution_count": 826,
   "metadata": {},
   "outputs": [
    {
     "name": "stdout",
     "output_type": "stream",
     "text": [
      "ID vec pairs:  3153\n",
      "No. unique entities:  3153\n"
     ]
    }
   ],
   "source": [
    "print('ID vec pairs: ', df.shape[0])\n",
    "print('No. unique entities: ', df.ID.nunique())"
   ]
  },
  {
   "cell_type": "code",
   "execution_count": 827,
   "metadata": {},
   "outputs": [
    {
     "data": {
      "text/html": [
       "<div>\n",
       "<style scoped>\n",
       "    .dataframe tbody tr th:only-of-type {\n",
       "        vertical-align: middle;\n",
       "    }\n",
       "\n",
       "    .dataframe tbody tr th {\n",
       "        vertical-align: top;\n",
       "    }\n",
       "\n",
       "    .dataframe thead th {\n",
       "        text-align: right;\n",
       "    }\n",
       "</style>\n",
       "<table border=\"1\" class=\"dataframe\">\n",
       "  <thead>\n",
       "    <tr style=\"text-align: right;\">\n",
       "      <th></th>\n",
       "      <th>ID</th>\n",
       "      <th>Vector</th>\n",
       "    </tr>\n",
       "  </thead>\n",
       "  <tbody>\n",
       "    <tr>\n",
       "      <th>2151</th>\n",
       "      <td>OMIM:614418</td>\n",
       "      <td>[0.01731275, 0.08382709, 0.04467984, -0.096550...</td>\n",
       "    </tr>\n",
       "    <tr>\n",
       "      <th>830</th>\n",
       "      <td>MESH:D016889</td>\n",
       "      <td>[0.00068161, 0.10528181, 0.00478705, -0.110485...</td>\n",
       "    </tr>\n",
       "    <tr>\n",
       "      <th>2462</th>\n",
       "      <td>OMIM:616900</td>\n",
       "      <td>[0.00370829, 0.11772701, 0.06661044, -0.115037...</td>\n",
       "    </tr>\n",
       "    <tr>\n",
       "      <th>2398</th>\n",
       "      <td>OMIM:616549</td>\n",
       "      <td>[0.03555591, 0.12016133, 0.04434789, -0.111885...</td>\n",
       "    </tr>\n",
       "  </tbody>\n",
       "</table>\n",
       "</div>"
      ],
      "text/plain": [
       "                ID                                             Vector\n",
       "2151   OMIM:614418  [0.01731275, 0.08382709, 0.04467984, -0.096550...\n",
       "830   MESH:D016889  [0.00068161, 0.10528181, 0.00478705, -0.110485...\n",
       "2462   OMIM:616900  [0.00370829, 0.11772701, 0.06661044, -0.115037...\n",
       "2398   OMIM:616549  [0.03555591, 0.12016133, 0.04434789, -0.111885..."
      ]
     },
     "execution_count": 827,
     "metadata": {},
     "output_type": "execute_result"
    }
   ],
   "source": [
    "df.sample(4)"
   ]
  },
  {
   "cell_type": "markdown",
   "metadata": {},
   "source": [
    "### 2. Create DF for NN\n",
    "Munge the df into the following columns:<br>\n",
    "ChemID DisID ChemVec DisVec PositiveAssociationExists(binary)"
   ]
  },
  {
   "cell_type": "code",
   "execution_count": 828,
   "metadata": {},
   "outputs": [
    {
     "data": {
      "text/html": [
       "<div>\n",
       "<style scoped>\n",
       "    .dataframe tbody tr th:only-of-type {\n",
       "        vertical-align: middle;\n",
       "    }\n",
       "\n",
       "    .dataframe tbody tr th {\n",
       "        vertical-align: top;\n",
       "    }\n",
       "\n",
       "    .dataframe thead th {\n",
       "        text-align: right;\n",
       "    }\n",
       "</style>\n",
       "<table border=\"1\" class=\"dataframe\">\n",
       "  <thead>\n",
       "    <tr style=\"text-align: right;\">\n",
       "      <th></th>\n",
       "      <th>ChemicalID</th>\n",
       "      <th>DiseaseID</th>\n",
       "    </tr>\n",
       "  </thead>\n",
       "  <tbody>\n",
       "    <tr>\n",
       "      <th>0</th>\n",
       "      <td>C112297</td>\n",
       "      <td>MESH:D006948</td>\n",
       "    </tr>\n",
       "    <tr>\n",
       "      <th>1</th>\n",
       "      <td>C112297</td>\n",
       "      <td>MESH:D012640</td>\n",
       "    </tr>\n",
       "    <tr>\n",
       "      <th>2</th>\n",
       "      <td>C425777</td>\n",
       "      <td>MESH:D006948</td>\n",
       "    </tr>\n",
       "    <tr>\n",
       "      <th>3</th>\n",
       "      <td>C013567</td>\n",
       "      <td>MESH:D006333</td>\n",
       "    </tr>\n",
       "    <tr>\n",
       "      <th>4</th>\n",
       "      <td>C418863</td>\n",
       "      <td>MESH:D013262</td>\n",
       "    </tr>\n",
       "  </tbody>\n",
       "</table>\n",
       "</div>"
      ],
      "text/plain": [
       "  ChemicalID     DiseaseID\n",
       "0    C112297  MESH:D006948\n",
       "1    C112297  MESH:D012640\n",
       "2    C425777  MESH:D006948\n",
       "3    C013567  MESH:D006333\n",
       "4    C418863  MESH:D013262"
      ]
     },
     "execution_count": 828,
     "metadata": {},
     "output_type": "execute_result"
    }
   ],
   "source": [
    "# Step 1: Import file of proven chem-dis positive associations (created in ctd-to-nt notebook from ctd data)\n",
    "chem_dis = pd.read_csv('../ctd-to-nt/chem-dis-pos-assocs.csv')\n",
    "chem_dis.head()"
   ]
  },
  {
   "cell_type": "code",
   "execution_count": 829,
   "metadata": {},
   "outputs": [],
   "source": [
    "# # Add control rows and correlation col\n",
    "# chem_dis['Correlation'] = 1\n",
    "\n",
    "# controls = pd.read_csv('../ctd-to-nt/uncorrelated_chemDis_pairs.csv')\n",
    "# chem_dis = pd.concat([chem_dis, controls], sort=True)\n",
    "# chem_dis = chem_dis.fillna(0)"
   ]
  },
  {
   "cell_type": "code",
   "execution_count": 830,
   "metadata": {},
   "outputs": [
    {
     "name": "stdout",
     "output_type": "stream",
     "text": [
      "No. unique diseases:  2539\n",
      "No. unique Chems:  6112\n"
     ]
    }
   ],
   "source": [
    "# print('Correlated pairs: ', chem_dis[chem_dis.Correlation == 1].shape[0])\n",
    "# print('UnCorrelated pairs: ', chem_dis[chem_dis.Correlation == 0].shape[0])\n",
    "print('No. unique diseases: ', chem_dis.DiseaseID.nunique())\n",
    "print('No. unique Chems: ', chem_dis.ChemicalID.nunique())"
   ]
  },
  {
   "cell_type": "code",
   "execution_count": 831,
   "metadata": {},
   "outputs": [],
   "source": [
    "# Get rid of any chems/diseases that don't have a vector\n",
    "chem_dis['DiseaseID'] = chem_dis['DiseaseID'].astype(str)\n",
    "df['ID'] = df['ID'].astype(str)\n",
    "id_list = df.ID.tolist() # list of chems+diseases with vecs\n",
    "\n",
    "chem_dis['hasDVec'] = chem_dis.DiseaseID.map(lambda x: x in id_list)\n",
    "chem_dis['hasCVec'] = chem_dis.ChemicalID.map(lambda x: x in id_list)\n",
    "chem_dis = chem_dis.loc[(chem_dis['hasDVec'] == True) & (chem_dis['hasCVec'] == True)]\n",
    "chem_dis = chem_dis.drop(['hasDVec','hasCVec'], axis=1)"
   ]
  },
  {
   "cell_type": "code",
   "execution_count": 832,
   "metadata": {},
   "outputs": [],
   "source": [
    "# print('Correlated pairs: ', chem_dis[chem_dis.Correlation == 1].shape[0])\n",
    "# print('UnCorrelated pairs: ', chem_dis[chem_dis.Correlation == 0].shape[0])"
   ]
  },
  {
   "cell_type": "code",
   "execution_count": 833,
   "metadata": {},
   "outputs": [],
   "source": [
    "# merge all info into one df\n",
    "# this df now contains only correlated diseases and vecs\n",
    "df_d = df.copy()\n",
    "df_d.columns= ['DiseaseID', 'DVec']\n",
    "df_c = df.copy()\n",
    "df_c.columns= ['ChemicalID', 'CVec']\n",
    "df1 = pd.merge(chem_dis, df_d, on='DiseaseID')\n",
    "df1 = pd.merge(df1, df_c, on='ChemicalID')\n",
    "\n",
    "df1['Correlation'] = 1 # currently only have correlated in there"
   ]
  },
  {
   "cell_type": "code",
   "execution_count": 834,
   "metadata": {},
   "outputs": [],
   "source": [
    "# # merge all info into one df\n",
    "# # this df now contains only correlated diseases and vecs\n",
    "# df_d = df.copy()\n",
    "# df_d.columns= ['DiseaseID', 'DVec']\n",
    "# df_c = df.copy()\n",
    "# df_c.columns= ['ChemicalID', 'CVec']\n",
    "# df1 = pd.merge(chem_dis, df_d, on='DiseaseID')\n",
    "# df1 = pd.merge(df1, df_c, on='ChemicalID')"
   ]
  },
  {
   "cell_type": "code",
   "execution_count": 835,
   "metadata": {},
   "outputs": [
    {
     "data": {
      "text/html": [
       "<div>\n",
       "<style scoped>\n",
       "    .dataframe tbody tr th:only-of-type {\n",
       "        vertical-align: middle;\n",
       "    }\n",
       "\n",
       "    .dataframe tbody tr th {\n",
       "        vertical-align: top;\n",
       "    }\n",
       "\n",
       "    .dataframe thead th {\n",
       "        text-align: right;\n",
       "    }\n",
       "</style>\n",
       "<table border=\"1\" class=\"dataframe\">\n",
       "  <thead>\n",
       "    <tr style=\"text-align: right;\">\n",
       "      <th></th>\n",
       "      <th>ChemicalID</th>\n",
       "      <th>DiseaseID</th>\n",
       "      <th>DVec</th>\n",
       "      <th>CVec</th>\n",
       "      <th>Correlation</th>\n",
       "    </tr>\n",
       "  </thead>\n",
       "  <tbody>\n",
       "    <tr>\n",
       "      <th>3184</th>\n",
       "      <td>D037742</td>\n",
       "      <td>MESH:D002471</td>\n",
       "      <td>[-0.0351216, 0.12595233, -0.03002397, -0.10022...</td>\n",
       "      <td>[0.01232813, 0.12974437, -0.00763494, -0.13151...</td>\n",
       "      <td>1</td>\n",
       "    </tr>\n",
       "    <tr>\n",
       "      <th>6590</th>\n",
       "      <td>D005472</td>\n",
       "      <td>MESH:D002972</td>\n",
       "      <td>[-1.06637282e-02, 1.32474691e-01, -1.14339013e...</td>\n",
       "      <td>[-2.96734683e-02, -7.76007175e-02, -4.85067695...</td>\n",
       "      <td>1</td>\n",
       "    </tr>\n",
       "    <tr>\n",
       "      <th>365</th>\n",
       "      <td>D001564</td>\n",
       "      <td>MESH:D009362</td>\n",
       "      <td>[-0.06323989, -0.00838911, -0.21696223, -0.110...</td>\n",
       "      <td>[-6.56977762e-04, 1.15829483e-02, -3.29673588e...</td>\n",
       "      <td>1</td>\n",
       "    </tr>\n",
       "    <tr>\n",
       "      <th>4306</th>\n",
       "      <td>D004008</td>\n",
       "      <td>MESH:D007410</td>\n",
       "      <td>[0.01581571, 0.13125835, 0.05351888, -0.116338...</td>\n",
       "      <td>[-0.02403709, 0.08844553, -0.10826206, -0.1294...</td>\n",
       "      <td>1</td>\n",
       "    </tr>\n",
       "    <tr>\n",
       "      <th>2533</th>\n",
       "      <td>D003042</td>\n",
       "      <td>MESH:D056486</td>\n",
       "      <td>[-5.73407635e-02, 5.87317832e-02, -2.38079086e...</td>\n",
       "      <td>[8.72457493e-03, 1.21514283e-01, -1.06348200e-...</td>\n",
       "      <td>1</td>\n",
       "    </tr>\n",
       "    <tr>\n",
       "      <th>3053</th>\n",
       "      <td>D005632</td>\n",
       "      <td>MESH:D056486</td>\n",
       "      <td>[-5.73407635e-02, 5.87317832e-02, -2.38079086e...</td>\n",
       "      <td>[-0.06154032, 0.02354902, -0.5231033, -0.13852...</td>\n",
       "      <td>1</td>\n",
       "    </tr>\n",
       "  </tbody>\n",
       "</table>\n",
       "</div>"
      ],
      "text/plain": [
       "     ChemicalID     DiseaseID  \\\n",
       "3184    D037742  MESH:D002471   \n",
       "6590    D005472  MESH:D002972   \n",
       "365     D001564  MESH:D009362   \n",
       "4306    D004008  MESH:D007410   \n",
       "2533    D003042  MESH:D056486   \n",
       "3053    D005632  MESH:D056486   \n",
       "\n",
       "                                                   DVec  \\\n",
       "3184  [-0.0351216, 0.12595233, -0.03002397, -0.10022...   \n",
       "6590  [-1.06637282e-02, 1.32474691e-01, -1.14339013e...   \n",
       "365   [-0.06323989, -0.00838911, -0.21696223, -0.110...   \n",
       "4306  [0.01581571, 0.13125835, 0.05351888, -0.116338...   \n",
       "2533  [-5.73407635e-02, 5.87317832e-02, -2.38079086e...   \n",
       "3053  [-5.73407635e-02, 5.87317832e-02, -2.38079086e...   \n",
       "\n",
       "                                                   CVec  Correlation  \n",
       "3184  [0.01232813, 0.12974437, -0.00763494, -0.13151...            1  \n",
       "6590  [-2.96734683e-02, -7.76007175e-02, -4.85067695...            1  \n",
       "365   [-6.56977762e-04, 1.15829483e-02, -3.29673588e...            1  \n",
       "4306  [-0.02403709, 0.08844553, -0.10826206, -0.1294...            1  \n",
       "2533  [8.72457493e-03, 1.21514283e-01, -1.06348200e-...            1  \n",
       "3053  [-0.06154032, 0.02354902, -0.5231033, -0.13852...            1  "
      ]
     },
     "execution_count": 835,
     "metadata": {},
     "output_type": "execute_result"
    }
   ],
   "source": [
    "# del df1['index']\n",
    "df1.sample(6)"
   ]
  },
  {
   "cell_type": "markdown",
   "metadata": {},
   "source": [
    "### Add control (uncorrelated) rows"
   ]
  },
  {
   "cell_type": "code",
   "execution_count": 836,
   "metadata": {},
   "outputs": [],
   "source": [
    "# len(id_list)"
   ]
  },
  {
   "cell_type": "code",
   "execution_count": 837,
   "metadata": {},
   "outputs": [],
   "source": [
    "# chem_dis.shape"
   ]
  },
  {
   "cell_type": "code",
   "execution_count": 838,
   "metadata": {},
   "outputs": [],
   "source": [
    "# Create separate dfs of dis-vecs and chem-vecs ( in order to generate additional rows for df1)\n",
    "dis = df.ID.map(lambda x: ('MESH' in x) | ('OMIM' in x))\n",
    "chems = df.ID.map(lambda x: ('MESH' not in x) & ('OMIM' not in x))\n",
    "\n",
    "df_chems = df[chems]\n",
    "df_dis = df[dis]\n",
    "df_chems = df_chems.reset_index(drop=True)\n",
    "df_dis = df_dis.reset_index(drop=True)"
   ]
  },
  {
   "cell_type": "code",
   "execution_count": 839,
   "metadata": {},
   "outputs": [],
   "source": [
    "# # Create separate dfs of dis-vecs and chem-vecs ( in order to generate additional rows for df1)\n",
    "# dis = df1.ChemicalID.unique()\n",
    "# chems = df1.DiseaseID.unique()"
   ]
  },
  {
   "cell_type": "code",
   "execution_count": 840,
   "metadata": {},
   "outputs": [
    {
     "name": "stdout",
     "output_type": "stream",
     "text": [
      "shape:  8919\n",
      "(17791, 5)\n",
      "(17739, 5)\n"
     ]
    }
   ],
   "source": [
    "# Add unrelated pairs to df1\n",
    "no_rows = (df1.shape[0]-1)  # This is a parameter to be tuned --> how many uncorrelated pairs do we want\n",
    "print('shape: ', no_rows)\n",
    "\n",
    "# Make list to check chem-dis pos assocs against\n",
    "chem_dis_pos_assocs = list(chem_dis['ChemicalID'] + chem_dis['DiseaseID'])\n",
    "\n",
    "# Randomly select chems and diseases (as many as there are related pairs)\n",
    "no_chems = len(df_chems) -1\n",
    "no_dis = len(df_dis) -1\n",
    "rand_chems = np.random.choice(no_chems, no_rows, replace=True)\n",
    "rand_dis = np.random.choice(no_dis, no_rows, replace=True)\n",
    "\n",
    "# Add the new pairs as rows\n",
    "for x in range(0, no_rows):\n",
    "    int1 = rand_chems[x]\n",
    "    int2 = rand_dis[x]\n",
    "    chem, chemvec = df_chems.loc[int1, 'ID'], df_chems.loc[int1, 'Vector']\n",
    "    dis, disvec = df_dis.loc[int2, 'ID'], df_dis.loc[int2, 'Vector']\n",
    "    if (chem + dis not in chem_dis_pos_assocs):\n",
    "        df1 = df1.append({'ChemicalID':chem, 'DiseaseID':dis, 'CVec':chemvec, 'DVec':disvec, 'Correlation':0}, ignore_index=True)\n",
    "\n",
    "print(df1.shape)\n",
    "# Drop any duplicates (removes known correlated pairs accidentally generated as uncorrelated)\n",
    "df1 = df1.drop_duplicates(subset=['ChemicalID', 'DiseaseID'], keep=False)\n",
    "print(df1.shape)\n"
   ]
  },
  {
   "cell_type": "code",
   "execution_count": 841,
   "metadata": {},
   "outputs": [],
   "source": [
    "# # Add unrelated pairs to df1\n",
    "\n",
    "# no_rows = (df1.shape[0]-1) * 10  # This is a parameter to be tuned --> how many uncorrelated pairs do we want\n",
    "# print('shape: ', no_rows)\n",
    "\n",
    "# # Make list to check chem-dis pos assocs against\n",
    "# chem_dis_pos_assocs = list(chem_dis['ChemicalID'] + chem_dis['DiseaseID'])\n",
    "\n",
    "# # Randomly select chems and diseases (as many as there are related pairs)\n",
    "# no_chems = len(chems) -1\n",
    "# no_dis = len(dis) -1\n",
    "# rand_chems = np.random.choice(no_chems, no_rows, replace=True)\n",
    "# rand_dis = np.random.choice(no_dis, no_rows, replace=True)\n",
    "\n",
    "# # Add the new pairs as rows\n",
    "# for x in range(0, no_rows):\n",
    "#     int1 = rand_chems[x]\n",
    "#     int2 = rand_dis[x]\n",
    "#     chem, chemvec = df1.loc[int1, 'ChemicalID'], df1.loc[int1, 'CVec']\n",
    "#     dis, disvec = df1.loc[int2, 'DiseaseID'], df1.loc[int2, 'DVec']\n",
    "#     if (chem + dis not in chem_dis_pos_assocs):\n",
    "#         df1 = df1.append({'ChemicalID':chem, 'DiseaseID':dis, 'CVec':chemvec, 'DVec':disvec, 'Correlation':0}, ignore_index=True)\n",
    "\n",
    "# print(df1.shape)\n",
    "# # Drop any duplicates (removes known correlated pairs accidentally generated as uncorrelated)\n",
    "# df1 = df1.drop_duplicates(subset=['ChemicalID', 'DiseaseID'], keep=False)\n",
    "# print(df1.shape)"
   ]
  },
  {
   "cell_type": "code",
   "execution_count": 842,
   "metadata": {},
   "outputs": [],
   "source": [
    "# Convert the elements of the vectors to actual numbers\n",
    "df1['DVec'] = df1.DVec.map(lambda x: [float(i) for i in x])\n",
    "df1['CVec'] = df1.CVec.map(lambda x: [float(i) for i in x])"
   ]
  },
  {
   "cell_type": "markdown",
   "metadata": {},
   "source": [
    "### Add Phenotype Vecs\n",
    "Got a list of Chem-Phenotypes from Sara Alth, where did these come from originally?\n",
    "They have CID identifiers (Pubchem). Need to convert CTD ID to CID ID\n",
    "Use API like so \n",
    "http://pubchem.ncbi.nlm.nih.gov/rest/pug/substance/sourceid/Comparative%20Toxicogenomics%20Database/C533207/cids/TXT/"
   ]
  },
  {
   "cell_type": "code",
   "execution_count": 843,
   "metadata": {},
   "outputs": [
    {
     "data": {
      "text/html": [
       "<div>\n",
       "<style scoped>\n",
       "    .dataframe tbody tr th:only-of-type {\n",
       "        vertical-align: middle;\n",
       "    }\n",
       "\n",
       "    .dataframe tbody tr th {\n",
       "        vertical-align: top;\n",
       "    }\n",
       "\n",
       "    .dataframe thead th {\n",
       "        text-align: right;\n",
       "    }\n",
       "</style>\n",
       "<table border=\"1\" class=\"dataframe\">\n",
       "  <thead>\n",
       "    <tr style=\"text-align: right;\">\n",
       "      <th></th>\n",
       "      <th>MESH</th>\n",
       "    </tr>\n",
       "  </thead>\n",
       "  <tbody>\n",
       "    <tr>\n",
       "      <th>0</th>\n",
       "      <td>MESH:D003920</td>\n",
       "    </tr>\n",
       "    <tr>\n",
       "      <th>1</th>\n",
       "      <td>MESH:D003924</td>\n",
       "    </tr>\n",
       "    <tr>\n",
       "      <th>2</th>\n",
       "      <td>MESH:D008113</td>\n",
       "    </tr>\n",
       "    <tr>\n",
       "      <th>3</th>\n",
       "      <td>MESH:D009369</td>\n",
       "    </tr>\n",
       "    <tr>\n",
       "      <th>4</th>\n",
       "      <td>MESH:D009765</td>\n",
       "    </tr>\n",
       "  </tbody>\n",
       "</table>\n",
       "</div>"
      ],
      "text/plain": [
       "           MESH\n",
       "0  MESH:D003920\n",
       "1  MESH:D003924\n",
       "2  MESH:D008113\n",
       "3  MESH:D009369\n",
       "4  MESH:D009765"
      ]
     },
     "execution_count": 843,
     "metadata": {},
     "output_type": "execute_result"
    }
   ],
   "source": [
    "# First Get FULL list of diseases from CTD\n",
    "diseases = pd.read_csv('../ctd-to-nt/all-diseases-w-genes-ctd.txt', names=['MESH'])\n",
    "diseases.head()"
   ]
  },
  {
   "cell_type": "code",
   "execution_count": 844,
   "metadata": {},
   "outputs": [
    {
     "name": "stdout",
     "output_type": "stream",
     "text": [
      "2390\n"
     ]
    }
   ],
   "source": [
    "# Then use premade map to get DOIDs for MESHs\n",
    "mapper = pd.read_csv('ctd_dis_to_doid.csv')\n",
    "print(mapper.DOID.nunique()) # 1671 --> 2390 after improvement\n",
    "mesh_to_doid = dict(zip(mapper.MESH, mapper.DOID))\n",
    "diseases['DOID'] = diseases.MESH.map(lambda x: mesh_to_doid.get(x))"
   ]
  },
  {
   "cell_type": "code",
   "execution_count": 845,
   "metadata": {},
   "outputs": [],
   "source": [
    "df1['DOID'] = df1.DiseaseID.map(lambda x: mesh_to_doid.get(x))"
   ]
  },
  {
   "cell_type": "code",
   "execution_count": 846,
   "metadata": {},
   "outputs": [],
   "source": [
    "# # Then get phens for all DOIDs\n",
    "# # Read in the association file from Sara\n",
    "# dis_phens = pd.read_csv('../opa/Disease-PhenotypeAssocation.txt', sep=' ', names=['DOID', 'Phenotype'])\n",
    "\n",
    "# # Let's create one associations file for each ontology (I believe we need to run HP and MP separately)\n",
    "# dis_phens.columns = ['ID', 'Phen']\n",
    "\n",
    "# # Split into MP/HP\n",
    "# total_hp = dis_phens.Phen.map(lambda x: 'obolibrary.org/obo/HP' in str(x))\n",
    "# total_mp = dis_phens.Phen.map(lambda x: 'obolibrary.org/obo/MP' in str(x))\n",
    "\n",
    "# total_hp = dis_phens[total_hp]\n",
    "# total_mp = dis_phens[total_mp]"
   ]
  },
  {
   "cell_type": "code",
   "execution_count": 847,
   "metadata": {},
   "outputs": [],
   "source": [
    "# # Export the association files and print some stats (more stats later)\n",
    "# np.savetxt(r'associations_hp.txt', total_hp.values, fmt='%s')\n",
    "# np.savetxt(r'associations_mp.txt', total_mp.values, fmt='%s')\n",
    "\n",
    "# print('Num HP associations: ', total_hp.shape[0])\n",
    "# print('Num MP associations: ', total_mp.shape[0])\n",
    "# print('Num ents with MP phen assocs: ', len(total_mp.ID.unique()))\n",
    "# print('Num ents with HP phen assocs: ', len(total_hp.ID.unique()))\n",
    "\n",
    "# # Create entities lists to inform opa2vec which entities we want vectors for\n",
    "# entities = total_mp.ID.unique().tolist()\n",
    "# np.savetxt(r'entities_mp.lst', entities, fmt='%s')\n",
    "\n",
    "# entities = total_hp.ID.unique().tolist()\n",
    "# np.savetxt(r'entities_hp.lst', entities, fmt='%s')"
   ]
  },
  {
   "cell_type": "code",
   "execution_count": 848,
   "metadata": {},
   "outputs": [],
   "source": [
    "# # HP --> takes ages so commenting out\n",
    "# subprocess.check_output('(cd ../../opa2vec/ ; python2 runOPA2Vec.py -ontology ../ontologies/hp.owl -associations ../msc-thesis/opa/associations_hp.txt -entities ../msc-thesis/opa/entities_hp.lst -outfile ../msc-thesis/opa/hpvecs.lst)', shell=True)"
   ]
  },
  {
   "cell_type": "code",
   "execution_count": 849,
   "metadata": {},
   "outputs": [],
   "source": [
    "# # # MP --> takes ages so commenting out\n",
    "# subprocess.check_output('(cd ../../opa2vec/ ; python2 runOPA2Vec.py -ontology ../ontologies/mp.owl -associations ../msc-thesis/opa/associations_mp.txt -entities ../msc-thesis/opa/entities_mp.lst -outfile ../msc-thesis/opa/mpvecs.lst)', shell=True)"
   ]
  },
  {
   "cell_type": "code",
   "execution_count": null,
   "metadata": {},
   "outputs": [],
   "source": []
  },
  {
   "cell_type": "code",
   "execution_count": 850,
   "metadata": {},
   "outputs": [],
   "source": [
    "# # Now import and integrate the vecs (all phen stuff above here should be in its own notebook )\n",
    "# # Import vec file\n",
    "# with open('hpvecs.lst', 'r') as file:\n",
    "#     text = file.read()\n",
    "    \n",
    "# # Strip and split vector data into list of lists [chem, vec]\n",
    "# text = text.replace('\\n', '')\n",
    "# text = text.split(']')\n",
    "# text = [item.strip().split(' [') for item in text]\n",
    "\n",
    "# # Turn it into a data frame\n",
    "# hp_vecs = pd.DataFrame(text)\n",
    "# hp_vecs.columns = ['ID', 'Vector']\n",
    "\n",
    "# Clean\n",
    "# hp_vecs = hp_vecs.dropna()\n",
    "# hp_vecs['Vector'] = hp_vecs.Vector.map(lambda x: x.rstrip().lstrip().replace('    ', ' ').replace('   ', ' ').replace('  ', ' ').replace(' ', ','))\n",
    "\n",
    "# # Turn vector column into a list\n",
    "# hp_vecs['Vector'] = hp_vecs.Vector.map(lambda x: x.split(','))"
   ]
  },
  {
   "cell_type": "code",
   "execution_count": 851,
   "metadata": {},
   "outputs": [],
   "source": [
    "# # Now import and integrate the mp vecs\n",
    "# # Import vec file\n",
    "# with open('mpvecs.lst', 'r') as file:\n",
    "#     text = file.read()\n",
    "\n",
    "# # Strip and split vector data into list of lists [chem, vec]\n",
    "# text = text.replace('\\n', '')\n",
    "# text = text.split(']')\n",
    "# text = [item.strip().split(' [') for item in text]\n",
    "\n",
    "# # Turn it into a data frame\n",
    "# mp_vecs = pd.DataFrame(text)\n",
    "# mp_vecs.columns = ['ID', 'Vector']\n",
    "\n",
    "# # Clean\n",
    "# mp_vecs = mp_vecs.dropna()\n",
    "# mp_vecs['Vector'] = mp_vecs.Vector.map(lambda x: x.rstrip().lstrip().replace('    ', ' ').replace('   ', ' ').replace('  ', ' ').replace(' ', ','))\n",
    "\n",
    "# # Turn vector column into a list\n",
    "# mp_vecs['Vector'] = mp_vecs.Vector.map(lambda x: x.split(','))"
   ]
  },
  {
   "cell_type": "code",
   "execution_count": 852,
   "metadata": {},
   "outputs": [],
   "source": [
    "# # Make Maps:\n",
    "# mp_ent_to_vec = dict(zip(mp_vecs.ID, mp_vecs.Vector))\n",
    "# hp_ent_to_vec = dict(zip(hp_vecs.ID, hp_vecs.Vector))"
   ]
  },
  {
   "cell_type": "code",
   "execution_count": 853,
   "metadata": {},
   "outputs": [],
   "source": [
    "# # export dis-mpVec and dis-hpVec maps\n",
    "# with open('dis_mpVec_map'+ '.pkl', 'wb') as f:\n",
    "#         pickle.dump(mp_ent_to_vec, f, pickle.HIGHEST_PROTOCOL)\n",
    "        \n",
    "# with open('dis_hpVec_map'+ '.pkl', 'wb') as f:\n",
    "#         pickle.dump(hp_ent_to_vec, f, pickle.HIGHEST_PROTOCOL)"
   ]
  },
  {
   "cell_type": "code",
   "execution_count": 854,
   "metadata": {},
   "outputs": [],
   "source": [
    "## The commented section above makes phen vecs for all ctd diseases that have doids. Import here \n",
    "def load_obj(name):\n",
    "    with open(name + '.pkl', 'rb') as f:\n",
    "        return pickle.load(f)\n",
    "\n",
    "dis_mpVec = load_obj('../opa/dis_mpVec_map')\n",
    "\n",
    "def load_obj(name):\n",
    "    with open(name + '.pkl', 'rb') as f:\n",
    "        return pickle.load(f)\n",
    "\n",
    "dis_hpVec = load_obj('../opa/dis_hpVec_map')"
   ]
  },
  {
   "cell_type": "code",
   "execution_count": 855,
   "metadata": {},
   "outputs": [],
   "source": [
    "# Standardise the DOIDs\n",
    "def doid_standardiser (doid):\n",
    "    doid = doid.replace(':', '_')\n",
    "    return doid\n",
    "\n",
    "df1['DOID'] = df1.DOID.astype(str).map(lambda x: np.nan if isinstance(x, float) else doid_standardiser(x))"
   ]
  },
  {
   "cell_type": "code",
   "execution_count": 856,
   "metadata": {},
   "outputs": [],
   "source": [
    "# Map entities to vecs (one set of vecs for mp and another for hp)\n",
    "df1['disPhenVecMP'] = df1.DOID.map(lambda x: dis_mpVec.get(x))\n",
    "df1['disPhenVecHP'] = df1.DOID.map(lambda x: dis_hpVec.get(x))\n",
    "\n",
    "df1['chemPhenVecHP'] = None\n",
    "df1['chemPhenVecMP'] = None"
   ]
  },
  {
   "cell_type": "code",
   "execution_count": null,
   "metadata": {},
   "outputs": [],
   "source": []
  },
  {
   "cell_type": "code",
   "execution_count": 857,
   "metadata": {},
   "outputs": [
    {
     "name": "stdout",
     "output_type": "stream",
     "text": [
      "Note these numbers include both correlated and uncorrelated pairs\n",
      "Number of rows with gofuncs:  17739\n",
      "Number of rows with dis mp vec:  8644\n",
      "Number of rows with dis hp vec:  8670\n",
      "total pos corr 8920\n",
      "total neg corr 8819\n"
     ]
    }
   ],
   "source": [
    "## TODO note that I have removed rows without gofuncVecs, maybe now they should be kept\n",
    "# Print Stats\n",
    "print('Note these numbers include both correlated and uncorrelated pairs')\n",
    "print('Number of rows with gofuncs: ', df1.shape[0]) ##NB change this if keeping rows w/o gofunc vecs\n",
    "print('Number of rows with dis mp vec: ', df1[df1.disPhenVecMP.map(lambda x: x is not None)].shape[0])\n",
    "print('Number of rows with dis hp vec: ', df1[df1.disPhenVecHP.map(lambda x: x is not None)].shape[0])\n",
    "# print('Number of rows with chem mp vec: ', df1[df1.chemPhenVecMP.map(lambda x: x is not None)].shape[0])\n",
    "# print('Number of rows with chem hp vec: ', df1[df1.chemPhenVecHP.map(lambda x: x is not None)].shape[0])\n",
    "no_dis_phen_vecs = df1.disPhenVecHP.map(lambda x: x is None) & df1.disPhenVecMP.map(lambda x: x is None)\n",
    "# no_chem_phen_vecs = df1.chemPhenVecHP.map(lambda x: x is None) & df1.chemPhenVecMP.map(lambda x: x is None)\n",
    "# no_phen_vecs = no_dis_phen_vecs & no_chem_phen_vecs\n",
    "# print('Number of rows with no phen vecs: ', df1[no_phen_vecs].shape[0])\n",
    "all_dis_phen_vecs = df1.disPhenVecHP.map(lambda x: x is not None) & df1.disPhenVecMP.map(lambda x: x is not None)\n",
    "# all_chem_phen_vecs = df1.chemPhenVecHP.map(lambda x: x is not None) & df1.chemPhenVecMP.map(lambda x: x is not None)\n",
    "# all_vecs = all_dis_phen_vecs & all_chem_phen_vecs\n",
    "# all_vecs_pos_corr = all_vecs & df1.Correlation.map(lambda x: x == 1)\n",
    "# all_vecs_neg_corr = all_vecs & df1.Correlation.map(lambda x: x == 0)\n",
    "# no_phen_vecs_corr = no_phen_vecs & df1.Correlation.map(lambda x: x == 1)\n",
    "# no_phen_vecs_uncorr = no_phen_vecs & df1.Correlation.map(lambda x: x == 0)\n",
    "\n",
    "\n",
    "\n",
    "# print('Number of rows with everything', df1[all_vecs].shape[0])\n",
    "\n",
    "# print('Number of correlated pairs with phenvecs', df1[no_phen_vecs_corr].shape[0])\n",
    "# print('Number of uncorrelated pairs with phenvecs', df1[no_phen_vecs_uncorr].shape[0])\n",
    "\n",
    "\n",
    "# print('Number of correlated pairs with everything', df1[all_vecs_pos_corr].shape[0])\n",
    "# print('Number of uncorrelated pairs with everything', df1[all_vecs_neg_corr].shape[0])\n",
    "\n",
    "print('total pos corr', df1[df1.Correlation.map(lambda x: x == 1)].shape[0])\n",
    "print('total neg corr', df1[df1.Correlation.map(lambda x: x == 0)].shape[0])"
   ]
  },
  {
   "cell_type": "code",
   "execution_count": 858,
   "metadata": {},
   "outputs": [],
   "source": [
    "# Add empty vecs for rows that don't have phen vecs\n",
    "empty_vec = [0] * 200\n",
    "\n",
    "for col in ['disPhenVecMP', 'disPhenVecHP', 'chemPhenVecHP', 'chemPhenVecMP']:\n",
    "    df1[col] = df1[col].map(lambda x: empty_vec if x is None else x)"
   ]
  },
  {
   "cell_type": "code",
   "execution_count": 859,
   "metadata": {},
   "outputs": [],
   "source": [
    "# Change the Phen vec elements from string to floats\n",
    "df1['disPhenVecHP'] = df1.disPhenVecHP.map(lambda x: [float(i) for i in x])\n",
    "df1['disPhenVecMP'] = df1.disPhenVecMP.map(lambda x: [float(i) for i in x])\n",
    "df1['chemPhenVecHP'] = df1.chemPhenVecHP.map(lambda x: [float(i) for i in x])\n",
    "df1['chemPhenVecMP'] = df1.chemPhenVecMP.map(lambda x: [float(i) for i in x])"
   ]
  },
  {
   "cell_type": "markdown",
   "metadata": {},
   "source": [
    "### Add CHEBI Vecs"
   ]
  },
  {
   "cell_type": "code",
   "execution_count": 860,
   "metadata": {},
   "outputs": [
    {
     "data": {
      "text/plain": [
       "(12885, 1)"
      ]
     },
     "execution_count": 860,
     "metadata": {},
     "output_type": "execute_result"
    }
   ],
   "source": [
    "# get ALL ctd chems that have gene associations\n",
    "chems = pd.read_csv('allchemsthathavegenesID.txt', names=['ChemicalID'])\n",
    "chems.shape # 12855"
   ]
  },
  {
   "cell_type": "code",
   "execution_count": 861,
   "metadata": {},
   "outputs": [],
   "source": [
    "# Map them to CIDs\n",
    "# Load the map from pickle object\n",
    "def load_obj(name):\n",
    "    with open(name + '.pkl', 'rb') as f:\n",
    "        return pickle.load(f)\n",
    "\n",
    "ctd_cid_map = load_obj('ctd_cid_map')\n",
    "\n",
    "chems['CID'] = chems.ChemicalID.map(lambda x: ctd_cid_map.get(x))"
   ]
  },
  {
   "cell_type": "code",
   "execution_count": 862,
   "metadata": {},
   "outputs": [
    {
     "data": {
      "text/plain": [
       "array([b'5494506', None, b'11267663', b'113918', b'10079106', b'10424358',\n",
       "       b'24762158', b'122347', b'97226', b'6420504'], dtype=object)"
      ]
     },
     "execution_count": 862,
     "metadata": {},
     "output_type": "execute_result"
    }
   ],
   "source": [
    "chems.CID.unique()[5:15]"
   ]
  },
  {
   "cell_type": "code",
   "execution_count": 863,
   "metadata": {},
   "outputs": [],
   "source": [
    "# Convert CIDS from bytes to strings and export in order to make a map from CID to CHEBI ID\n",
    "chems['CID'] = chems.CID.str.decode(\"utf-8\")\n",
    "np.savetxt(r'allCIDs.txt', chems.CID.unique(), fmt='%s')\n",
    "\n",
    "## NOTE the next step is MANUAL you need to upload this allCIDs.txt to http://cts.fiehnlab.ucdavis.edu/batch \n",
    "# and download it as ctd_chebi.csv to the current folder\n",
    "# !!! it no longer seems possible to convert from CID by the website. Think I'll need to write a script\n",
    "# and use the API. Currently running the website to convert from chemical name. \n",
    "# Right seems like API isn't working for my purposes either right now. Will cobble CHEBIs together from my\n",
    "# earlier download of this file, which wasn't comprehensive, plus what I can get from chem name (~20%)"
   ]
  },
  {
   "cell_type": "code",
   "execution_count": 864,
   "metadata": {},
   "outputs": [],
   "source": [
    "# import the chebi IDs I got from all chem names (about 1 in in 3)\n",
    "chebi_from_names = pd.read_csv('all_chem_names_chebi.csv')\n",
    "\n",
    "# chop any empty values\n",
    "chebi_from_names['ChEBI'] = chebi_from_names.ChEBI.map(lambda x: np.nan if x == 'No result' else x)\n",
    "chebi_from_names = chebi_from_names.dropna()\n",
    "\n",
    "# make map\n",
    "chem2chebi = dict(zip(chebi_from_names['Chemical Name'], chebi_from_names.ChEBI))"
   ]
  },
  {
   "cell_type": "code",
   "execution_count": 865,
   "metadata": {},
   "outputs": [
    {
     "data": {
      "text/html": [
       "<div>\n",
       "<style scoped>\n",
       "    .dataframe tbody tr th:only-of-type {\n",
       "        vertical-align: middle;\n",
       "    }\n",
       "\n",
       "    .dataframe tbody tr th {\n",
       "        vertical-align: top;\n",
       "    }\n",
       "\n",
       "    .dataframe thead th {\n",
       "        text-align: right;\n",
       "    }\n",
       "</style>\n",
       "<table border=\"1\" class=\"dataframe\">\n",
       "  <thead>\n",
       "    <tr style=\"text-align: right;\">\n",
       "      <th></th>\n",
       "      <th>Chemical Name</th>\n",
       "      <th>ChEBI</th>\n",
       "    </tr>\n",
       "  </thead>\n",
       "  <tbody>\n",
       "    <tr>\n",
       "      <th>1</th>\n",
       "      <td>10,10-bis(4-pyridinylmethyl)-9(10H)-anthracenone</td>\n",
       "      <td>CHEBI:35046</td>\n",
       "    </tr>\n",
       "    <tr>\n",
       "      <th>2</th>\n",
       "      <td>10,11-dihydro-10,11-dihydroxy-5H-dibenzazepine...</td>\n",
       "      <td>CHEBI:4592</td>\n",
       "    </tr>\n",
       "    <tr>\n",
       "      <th>3</th>\n",
       "      <td>10,11-dihydro-10-hydroxycarbamazepine</td>\n",
       "      <td>CHEBI:701</td>\n",
       "    </tr>\n",
       "    <tr>\n",
       "      <th>14</th>\n",
       "      <td>10-formyltetrahydropteroylglutamic acid</td>\n",
       "      <td>CHEBI:15637</td>\n",
       "    </tr>\n",
       "    <tr>\n",
       "      <th>15</th>\n",
       "      <td>10-hydroxycamptothecin</td>\n",
       "      <td>CHEBI:81395</td>\n",
       "    </tr>\n",
       "  </tbody>\n",
       "</table>\n",
       "</div>"
      ],
      "text/plain": [
       "                                        Chemical Name        ChEBI\n",
       "1    10,10-bis(4-pyridinylmethyl)-9(10H)-anthracenone  CHEBI:35046\n",
       "2   10,11-dihydro-10,11-dihydroxy-5H-dibenzazepine...   CHEBI:4592\n",
       "3               10,11-dihydro-10-hydroxycarbamazepine    CHEBI:701\n",
       "14            10-formyltetrahydropteroylglutamic acid  CHEBI:15637\n",
       "15                             10-hydroxycamptothecin  CHEBI:81395"
      ]
     },
     "execution_count": 865,
     "metadata": {},
     "output_type": "execute_result"
    }
   ],
   "source": [
    "chebi_from_names.head()"
   ]
  },
  {
   "cell_type": "code",
   "execution_count": 866,
   "metadata": {},
   "outputs": [
    {
     "data": {
      "text/plain": [
       "(4489, 2)"
      ]
     },
     "execution_count": 866,
     "metadata": {},
     "output_type": "execute_result"
    }
   ],
   "source": [
    "chebi_from_names.shape"
   ]
  },
  {
   "cell_type": "code",
   "execution_count": 867,
   "metadata": {},
   "outputs": [],
   "source": [
    "# Now import a second chebi map, one made earlier from CIDs tho only for chems with go vecs\n",
    "# Import CSV mapping CID to CHEBI\n",
    "ctdChebdf = pd.read_csv('ctd_chebiBACKUP.csv')\n",
    "\n",
    "# Turn it into a dict\n",
    "cid2chebi = dict(zip(ctdChebdf['PubChem CID'], ctdChebdf['ChEBI']))\n",
    "\n",
    "# Map the cids to chebis\n",
    "chems['CHEBI1'] = chems.CID.map(lambda x: cid2chebi.get(x))\n",
    "chems['CHEBI1'] = chems.CHEBI1.map(lambda x: None if x == 'No result' else x)"
   ]
  },
  {
   "cell_type": "code",
   "execution_count": 868,
   "metadata": {},
   "outputs": [
    {
     "data": {
      "text/plain": [
       "314"
      ]
     },
     "execution_count": 868,
     "metadata": {},
     "output_type": "execute_result"
    }
   ],
   "source": [
    "chems.CHEBI1.nunique() # 314"
   ]
  },
  {
   "cell_type": "code",
   "execution_count": 869,
   "metadata": {},
   "outputs": [],
   "source": [
    "# Must map chem names into our chems df before applying chemname2chebi\n",
    "chemnames = pd.read_csv('../ctd-to-nt/chemname_chemid.csv')"
   ]
  },
  {
   "cell_type": "code",
   "execution_count": 870,
   "metadata": {},
   "outputs": [
    {
     "data": {
      "text/html": [
       "<div>\n",
       "<style scoped>\n",
       "    .dataframe tbody tr th:only-of-type {\n",
       "        vertical-align: middle;\n",
       "    }\n",
       "\n",
       "    .dataframe tbody tr th {\n",
       "        vertical-align: top;\n",
       "    }\n",
       "\n",
       "    .dataframe thead th {\n",
       "        text-align: right;\n",
       "    }\n",
       "</style>\n",
       "<table border=\"1\" class=\"dataframe\">\n",
       "  <thead>\n",
       "    <tr style=\"text-align: right;\">\n",
       "      <th></th>\n",
       "      <th>ChemicalID</th>\n",
       "      <th># ChemicalName</th>\n",
       "    </tr>\n",
       "  </thead>\n",
       "  <tbody>\n",
       "    <tr>\n",
       "      <th>0</th>\n",
       "      <td>C046983</td>\n",
       "      <td>06-Paris-LA-66 protocol</td>\n",
       "    </tr>\n",
       "    <tr>\n",
       "      <th>1</th>\n",
       "      <td>C112297</td>\n",
       "      <td>10,10-bis(4-pyridinylmethyl)-9(10H)-anthracenone</td>\n",
       "    </tr>\n",
       "    <tr>\n",
       "      <th>2</th>\n",
       "      <td>C112297</td>\n",
       "      <td>10,10-bis(4-pyridinylmethyl)-9(10H)-anthracenone</td>\n",
       "    </tr>\n",
       "    <tr>\n",
       "      <th>3</th>\n",
       "      <td>C039775</td>\n",
       "      <td>10,11-dihydro-10-hydroxycarbamazepine</td>\n",
       "    </tr>\n",
       "    <tr>\n",
       "      <th>4</th>\n",
       "      <td>C425777</td>\n",
       "      <td>10,11-dihydroxy-N-n-propylnorapomorphine</td>\n",
       "    </tr>\n",
       "  </tbody>\n",
       "</table>\n",
       "</div>"
      ],
      "text/plain": [
       "  ChemicalID                                    # ChemicalName\n",
       "0    C046983                           06-Paris-LA-66 protocol\n",
       "1    C112297  10,10-bis(4-pyridinylmethyl)-9(10H)-anthracenone\n",
       "2    C112297  10,10-bis(4-pyridinylmethyl)-9(10H)-anthracenone\n",
       "3    C039775             10,11-dihydro-10-hydroxycarbamazepine\n",
       "4    C425777          10,11-dihydroxy-N-n-propylnorapomorphine"
      ]
     },
     "execution_count": 870,
     "metadata": {},
     "output_type": "execute_result"
    }
   ],
   "source": [
    "chemnames.head()"
   ]
  },
  {
   "cell_type": "code",
   "execution_count": 871,
   "metadata": {},
   "outputs": [],
   "source": [
    "# Make a map of it\n",
    "id2name = dict(zip(chemnames.ChemicalID, chemnames['# ChemicalName']))"
   ]
  },
  {
   "cell_type": "code",
   "execution_count": 872,
   "metadata": {},
   "outputs": [],
   "source": [
    "chems['ChemicalName'] = chems.ChemicalID.map(lambda x: id2name.get(x))"
   ]
  },
  {
   "cell_type": "code",
   "execution_count": 873,
   "metadata": {},
   "outputs": [
    {
     "data": {
      "text/html": [
       "<div>\n",
       "<style scoped>\n",
       "    .dataframe tbody tr th:only-of-type {\n",
       "        vertical-align: middle;\n",
       "    }\n",
       "\n",
       "    .dataframe tbody tr th {\n",
       "        vertical-align: top;\n",
       "    }\n",
       "\n",
       "    .dataframe thead th {\n",
       "        text-align: right;\n",
       "    }\n",
       "</style>\n",
       "<table border=\"1\" class=\"dataframe\">\n",
       "  <thead>\n",
       "    <tr style=\"text-align: right;\">\n",
       "      <th></th>\n",
       "      <th>ChemicalID</th>\n",
       "      <th>CID</th>\n",
       "      <th>CHEBI1</th>\n",
       "      <th>ChemicalName</th>\n",
       "    </tr>\n",
       "  </thead>\n",
       "  <tbody>\n",
       "    <tr>\n",
       "      <th>0</th>\n",
       "      <td>C534883</td>\n",
       "      <td>2836600</td>\n",
       "      <td>None</td>\n",
       "      <td>None</td>\n",
       "    </tr>\n",
       "    <tr>\n",
       "      <th>1</th>\n",
       "      <td>C112297</td>\n",
       "      <td>656732</td>\n",
       "      <td>None</td>\n",
       "      <td>10,10-bis(4-pyridinylmethyl)-9(10H)-anthracenone</td>\n",
       "    </tr>\n",
       "    <tr>\n",
       "      <th>2</th>\n",
       "      <td>C004822</td>\n",
       "      <td>83852</td>\n",
       "      <td>None</td>\n",
       "      <td>None</td>\n",
       "    </tr>\n",
       "    <tr>\n",
       "      <th>3</th>\n",
       "      <td>C039775</td>\n",
       "      <td>114709</td>\n",
       "      <td>None</td>\n",
       "      <td>10,11-dihydro-10-hydroxycarbamazepine</td>\n",
       "    </tr>\n",
       "    <tr>\n",
       "      <th>4</th>\n",
       "      <td>C515697</td>\n",
       "      <td>70029</td>\n",
       "      <td>None</td>\n",
       "      <td>None</td>\n",
       "    </tr>\n",
       "  </tbody>\n",
       "</table>\n",
       "</div>"
      ],
      "text/plain": [
       "  ChemicalID      CID CHEBI1                                      ChemicalName\n",
       "0    C534883  2836600   None                                              None\n",
       "1    C112297   656732   None  10,10-bis(4-pyridinylmethyl)-9(10H)-anthracenone\n",
       "2    C004822    83852   None                                              None\n",
       "3    C039775   114709   None             10,11-dihydro-10-hydroxycarbamazepine\n",
       "4    C515697    70029   None                                              None"
      ]
     },
     "execution_count": 873,
     "metadata": {},
     "output_type": "execute_result"
    }
   ],
   "source": [
    "chems.head()"
   ]
  },
  {
   "cell_type": "code",
   "execution_count": 874,
   "metadata": {},
   "outputs": [],
   "source": [
    "# Map the names to chebis\n",
    "chems['CHEBI2'] = chems.ChemicalName.map(lambda x: chem2chebi.get(x))\n",
    "chems['CHEBI2'] = chems.CHEBI2.map(lambda x: None if x == 'No result' else x)"
   ]
  },
  {
   "cell_type": "code",
   "execution_count": 875,
   "metadata": {},
   "outputs": [
    {
     "data": {
      "text/plain": [
       "2791"
      ]
     },
     "execution_count": 875,
     "metadata": {},
     "output_type": "execute_result"
    }
   ],
   "source": [
    "chems.CHEBI2.nunique() # 2791"
   ]
  },
  {
   "cell_type": "code",
   "execution_count": 876,
   "metadata": {},
   "outputs": [
    {
     "data": {
      "text/plain": [
       "2821"
      ]
     },
     "execution_count": 876,
     "metadata": {},
     "output_type": "execute_result"
    }
   ],
   "source": [
    "# Merge the CHEBIs\n",
    "chems.CHEBI1.fillna(chems.CHEBI2, inplace=True)\n",
    "chems.CHEBI1.nunique()"
   ]
  },
  {
   "cell_type": "code",
   "execution_count": 877,
   "metadata": {},
   "outputs": [],
   "source": [
    "# Cleaning\n",
    "del chems['CHEBI2']\n",
    "chems = chems.rename(columns = {'CHEBI1':'CHEBI'})"
   ]
  },
  {
   "cell_type": "code",
   "execution_count": 878,
   "metadata": {},
   "outputs": [],
   "source": [
    "# Make assoc file and entity file for opa\n",
    "# add uri col\n",
    "chems['CHEBI_uri'] = chems.dropna(subset=['CHEBI']).CHEBI.map(lambda x: '<http://purl.obolibrary.org/obo/' + x.replace(':', '_') + '>')\n",
    "\n",
    "# export association file from df\n",
    "np.savetxt(r'CHEBIassociations.txt', chems[['ChemicalID', 'CHEBI_uri']].dropna().drop_duplicates().values, fmt='%s')\n",
    "\n",
    "# Now an entities file\n",
    "chems_for_cheb = chems[['ChemicalID', 'CHEBI_uri']].dropna().drop_duplicates().ChemicalID.tolist()\n",
    "np.savetxt(r'CHEBIentities.txt', chems_for_cheb, fmt='%s')"
   ]
  },
  {
   "cell_type": "code",
   "execution_count": 879,
   "metadata": {},
   "outputs": [],
   "source": [
    "# # Run opa\n",
    "# # Commenting this out now that I already have the vectors, you'll need it if you don't have them\n",
    "# # Now run opa2vec on it \n",
    "# subprocess.check_output('(cd ../../opa2vec/ ; python2 runOPA2Vec.py -ontology ../ontologies/chebi.owl -associations ../msc-thesis/opa/CHEBIassociations.txt -entities ../msc-thesis/opa/CHEBIentities.txt -outfile ../msc-thesis/opa/chebi-vecs.lst)', shell=True)"
   ]
  },
  {
   "cell_type": "code",
   "execution_count": null,
   "metadata": {},
   "outputs": [],
   "source": []
  },
  {
   "cell_type": "code",
   "execution_count": null,
   "metadata": {},
   "outputs": [],
   "source": []
  },
  {
   "cell_type": "code",
   "execution_count": null,
   "metadata": {},
   "outputs": [],
   "source": []
  },
  {
   "cell_type": "code",
   "execution_count": null,
   "metadata": {},
   "outputs": [],
   "source": []
  },
  {
   "cell_type": "code",
   "execution_count": null,
   "metadata": {},
   "outputs": [],
   "source": []
  },
  {
   "cell_type": "code",
   "execution_count": 880,
   "metadata": {},
   "outputs": [],
   "source": [
    "# All below is original iteration that only dealt with chems that have govecs\n",
    "# First add CHEBI IDs for each chem"
   ]
  },
  {
   "cell_type": "code",
   "execution_count": 881,
   "metadata": {},
   "outputs": [],
   "source": [
    "# chem_names = df1.ChemicalID.unique().tolist()\n",
    "# np.savetxt(r'chem_names', total_hp.values, fmt='%s')"
   ]
  },
  {
   "cell_type": "code",
   "execution_count": 882,
   "metadata": {},
   "outputs": [],
   "source": [
    "# # To add chebi first need CID for ALL Chems so I made this comprehensive map:\n",
    "# # Load the map from pickle object\n",
    "# def load_obj(name):\n",
    "#     with open(name + '.pkl', 'rb') as f:\n",
    "#         return pickle.load(f)\n",
    "\n",
    "# ctd_cid_map = load_obj('ctd_cid_map')"
   ]
  },
  {
   "cell_type": "code",
   "execution_count": 883,
   "metadata": {},
   "outputs": [],
   "source": [
    "# df1['CID'] = df1.ChemicalID.map(lambda x: ctd_cid_map.get(x))"
   ]
  },
  {
   "cell_type": "code",
   "execution_count": 884,
   "metadata": {},
   "outputs": [],
   "source": [
    "# df1.sample(3)"
   ]
  },
  {
   "cell_type": "code",
   "execution_count": 885,
   "metadata": {},
   "outputs": [],
   "source": [
    "# # Convert CIDS from bytes to strings and export in order to make a map from CID to CHEBI ID\n",
    "# df1['CID'] = df1.CID.str.decode(\"utf-8\")\n",
    "# np.savetxt(r'allCIDs.txt', df1.CID.unique(), fmt='%s')\n",
    "\n",
    "# ## NOTE the next step is MANUAL you need to upload this allCIDs.txt to http://cts.fiehnlab.ucdavis.edu/batch \n",
    "# # and download it as ctd_chebi.csv to the current folder"
   ]
  },
  {
   "cell_type": "code",
   "execution_count": 886,
   "metadata": {},
   "outputs": [],
   "source": [
    "# # How many chemicals don't have CIDs? Hence don't get chebi vecs\n",
    "# print(df1.shape[0])\n",
    "# print(df1[df1.CID.map(lambda x: x is not None)].shape[0])"
   ]
  },
  {
   "cell_type": "code",
   "execution_count": 887,
   "metadata": {},
   "outputs": [],
   "source": [
    "# # Import CSV mapping CID to CHEBI\n",
    "# ctdChebdf = pd.read_csv('ctd_chebiBACKUP.csv')"
   ]
  },
  {
   "cell_type": "code",
   "execution_count": 888,
   "metadata": {},
   "outputs": [],
   "source": [
    "# ctdChebdf.head()"
   ]
  },
  {
   "cell_type": "code",
   "execution_count": 889,
   "metadata": {},
   "outputs": [],
   "source": [
    "# # Import CSV mapping CID to CHEBI\n",
    "# ctdChebdf = pd.read_csv('ctd_chebiBACKUP.csv')\n",
    "\n",
    "# # Turn it into a dict\n",
    "# ctd_chebi = dict(zip(ctdChebdf['PubChem CID'], ctdChebdf['ChEBI']))\n",
    "\n",
    "# # Map the cids to chebis\n",
    "# df1['CHEBI'] = df1.CID.map(lambda x: ctd_chebi.get(x))\n",
    "# df1['CHEBI'] = df1.CHEBI.map(lambda x: None if x == 'No result' else x)"
   ]
  },
  {
   "cell_type": "code",
   "execution_count": 890,
   "metadata": {},
   "outputs": [],
   "source": [
    "# # Now make CHEBI vecs using the CHEBI IDs\n",
    "# # First an association file - just linking each chebi to its own chebi entity\n",
    "\n",
    "# # add uri col\n",
    "# df1['CHEBI_uri'] = df1.dropna(subset=['CHEBI']).CHEBI.map(lambda x: '<http://purl.obolibrary.org/obo/' + x.replace(':', '_') + '>')\n",
    "\n",
    "# # export association file from df\n",
    "# np.savetxt(r'CHEBIassociations.txt', df1[['ChemicalID', 'CHEBI_uri']].dropna().drop_duplicates().values, fmt='%s')\n",
    "\n",
    "# # Now an entities file\n",
    "# chems_for_cheb = df1[['ChemicalID', 'CHEBI_uri']].dropna().drop_duplicates().ChemicalID.tolist()\n",
    "# np.savetxt(r'CHEBIentities.txt', chems_for_cheb, fmt='%s')"
   ]
  },
  {
   "cell_type": "code",
   "execution_count": 891,
   "metadata": {},
   "outputs": [],
   "source": [
    "# Commenting this out now that I already have the vectors, you'll need it if you don't have them\n",
    "# # Now run opa2vec on it \n",
    "# subprocess.check_output('(cd ../../opa2vec/ ; python2 runOPA2Vec.py -ontology ../ontologies/chebi.owl -associations ../msc-thesis/opa/CHEBIassociations.txt -entities ../msc-thesis/opa/CHEBIentities.txt -outfile ../msc-thesis/opa/chebi-vecs.lst)', shell=True)"
   ]
  },
  {
   "cell_type": "code",
   "execution_count": 892,
   "metadata": {},
   "outputs": [],
   "source": [
    "# Import CHEBI vec file\n",
    "with open('chebi-vecs.lst', 'r') as file:\n",
    "    text = file.read()\n",
    "    \n",
    "# Strip and split vector data into list of lists [chem, vec]\n",
    "text = text.replace('\\n', '')\n",
    "text = text.split(']')\n",
    "text = [item.strip().split(' [') for item in text]\n",
    "\n",
    "# Turn it into a data frame\n",
    "df = pd.DataFrame(text)\n",
    "df.columns = ['ID', 'Vector']\n",
    "\n",
    "# Clean\n",
    "df = df.dropna()\n",
    "df['Vector'] = df.Vector.map(lambda x: x.rstrip().lstrip().replace('    ', ' ').replace('   ', ' ').replace('  ', ' ').replace(' ', ','))\n",
    "\n",
    "# Turn vector column into a list\n",
    "df['Vector'] = df.Vector.map(lambda x: x.split(','))\n",
    "\n",
    "# Make a map of it (ChemID to CHEBIvec)\n",
    "chem_to_chebi_vec = dict(zip(df.ID, df.Vector))"
   ]
  },
  {
   "cell_type": "code",
   "execution_count": 893,
   "metadata": {},
   "outputs": [],
   "source": [
    "# Export the chem2chebi map for use in validation databases\n",
    "# export dis-mpVec and dis-hpVec maps\n",
    "with open('chem2chebi'+ '.pkl', 'wb') as f:\n",
    "        pickle.dump(chem_to_chebi_vec, f, pickle.HIGHEST_PROTOCOL)\n"
   ]
  },
  {
   "cell_type": "code",
   "execution_count": 894,
   "metadata": {},
   "outputs": [],
   "source": [
    "df1['CHEBIvec'] = df1.ChemicalID.map(lambda x: chem_to_chebi_vec.get(x))"
   ]
  },
  {
   "cell_type": "code",
   "execution_count": 895,
   "metadata": {},
   "outputs": [
    {
     "name": "stdout",
     "output_type": "stream",
     "text": [
      "Total Rows 17739\n",
      "Total Correlated Rows 8920\n",
      "Total CHEBI vec rows 10825\n",
      "Total CHEBI vec correlated rows 6150\n",
      "Total Chems 586\n",
      "Total Chems with CHEBI Vec 312\n"
     ]
    }
   ],
   "source": [
    "# How many rows have CHEBI Vecs?\n",
    "print('Total Rows', df1.shape[0])\n",
    "print('Total Correlated Rows', df1[df1.Correlation == 1].shape[0])\n",
    "print('Total CHEBI vec rows', df1.dropna(subset=['CHEBIvec']).shape[0])\n",
    "print('Total CHEBI vec correlated rows', df1[df1.Correlation == 1].dropna(subset=['CHEBIvec']).shape[0])\n",
    "print('Total Chems', len(df1.ChemicalID.unique()))\n",
    "print('Total Chems with CHEBI Vec', len(df1.dropna(subset=['CHEBIvec']).ChemicalID.unique()))\n",
    "# Total Rows 17675\n",
    "# Total Correlated Rows 8869\n",
    "# Total CHEBI vec rows 5323\n",
    "# Total CHEBI vec correlated rows 3361\n",
    "# Total Chems 586\n",
    "# Total Chems with CHEBI Vec 131"
   ]
  },
  {
   "cell_type": "code",
   "execution_count": 896,
   "metadata": {},
   "outputs": [
    {
     "data": {
      "text/html": [
       "<div>\n",
       "<style scoped>\n",
       "    .dataframe tbody tr th:only-of-type {\n",
       "        vertical-align: middle;\n",
       "    }\n",
       "\n",
       "    .dataframe tbody tr th {\n",
       "        vertical-align: top;\n",
       "    }\n",
       "\n",
       "    .dataframe thead th {\n",
       "        text-align: right;\n",
       "    }\n",
       "</style>\n",
       "<table border=\"1\" class=\"dataframe\">\n",
       "  <thead>\n",
       "    <tr style=\"text-align: right;\">\n",
       "      <th></th>\n",
       "      <th>ChemicalID</th>\n",
       "      <th>DiseaseID</th>\n",
       "      <th>DVec</th>\n",
       "      <th>CVec</th>\n",
       "      <th>Correlation</th>\n",
       "      <th>DOID</th>\n",
       "      <th>disPhenVecMP</th>\n",
       "      <th>disPhenVecHP</th>\n",
       "      <th>chemPhenVecHP</th>\n",
       "      <th>chemPhenVecMP</th>\n",
       "      <th>CHEBIvec</th>\n",
       "    </tr>\n",
       "  </thead>\n",
       "  <tbody>\n",
       "    <tr>\n",
       "      <th>9643</th>\n",
       "      <td>D017313</td>\n",
       "      <td>OMIM:617065</td>\n",
       "      <td>[0.01894779, 0.10575829, 0.03266486, -0.120980...</td>\n",
       "      <td>[0.0226929933, 0.14501299, 0.0597290248, -0.15...</td>\n",
       "      <td>0</td>\n",
       "      <td>nan</td>\n",
       "      <td>[0.0, 0.0, 0.0, 0.0, 0.0, 0.0, 0.0, 0.0, 0.0, ...</td>\n",
       "      <td>[0.0, 0.0, 0.0, 0.0, 0.0, 0.0, 0.0, 0.0, 0.0, ...</td>\n",
       "      <td>[0.0, 0.0, 0.0, 0.0, 0.0, 0.0, 0.0, 0.0, 0.0, ...</td>\n",
       "      <td>[0.0, 0.0, 0.0, 0.0, 0.0, 0.0, 0.0, 0.0, 0.0, ...</td>\n",
       "      <td>None</td>\n",
       "    </tr>\n",
       "    <tr>\n",
       "      <th>14736</th>\n",
       "      <td>C074283</td>\n",
       "      <td>MESH:C535702</td>\n",
       "      <td>[0.01089955, 0.14402176, 0.03286817, -0.150193...</td>\n",
       "      <td>[-0.0133901061, 0.116737746, 0.0253758859, -0....</td>\n",
       "      <td>0</td>\n",
       "      <td>nan</td>\n",
       "      <td>[0.0, 0.0, 0.0, 0.0, 0.0, 0.0, 0.0, 0.0, 0.0, ...</td>\n",
       "      <td>[0.0, 0.0, 0.0, 0.0, 0.0, 0.0, 0.0, 0.0, 0.0, ...</td>\n",
       "      <td>[0.0, 0.0, 0.0, 0.0, 0.0, 0.0, 0.0, 0.0, 0.0, ...</td>\n",
       "      <td>[0.0, 0.0, 0.0, 0.0, 0.0, 0.0, 0.0, 0.0, 0.0, ...</td>\n",
       "      <td>[0.01771633, 0.06411772, 0.03854137, -0.056743...</td>\n",
       "    </tr>\n",
       "    <tr>\n",
       "      <th>7342</th>\n",
       "      <td>D012969</td>\n",
       "      <td>MESH:D008569</td>\n",
       "      <td>[-0.00122191, 0.12140676, -0.06278317, -0.1614...</td>\n",
       "      <td>[0.000285959075, 0.148733377, 0.0078057549, -0...</td>\n",
       "      <td>1</td>\n",
       "      <td>nan</td>\n",
       "      <td>[0.0, 0.0, 0.0, 0.0, 0.0, 0.0, 0.0, 0.0, 0.0, ...</td>\n",
       "      <td>[0.0, 0.0, 0.0, 0.0, 0.0, 0.0, 0.0, 0.0, 0.0, ...</td>\n",
       "      <td>[0.0, 0.0, 0.0, 0.0, 0.0, 0.0, 0.0, 0.0, 0.0, ...</td>\n",
       "      <td>[0.0, 0.0, 0.0, 0.0, 0.0, 0.0, 0.0, 0.0, 0.0, ...</td>\n",
       "      <td>[0.01631292, 0.04949443, 0.01545214, -0.064467...</td>\n",
       "    </tr>\n",
       "  </tbody>\n",
       "</table>\n",
       "</div>"
      ],
      "text/plain": [
       "      ChemicalID     DiseaseID  \\\n",
       "9643     D017313   OMIM:617065   \n",
       "14736    C074283  MESH:C535702   \n",
       "7342     D012969  MESH:D008569   \n",
       "\n",
       "                                                    DVec  \\\n",
       "9643   [0.01894779, 0.10575829, 0.03266486, -0.120980...   \n",
       "14736  [0.01089955, 0.14402176, 0.03286817, -0.150193...   \n",
       "7342   [-0.00122191, 0.12140676, -0.06278317, -0.1614...   \n",
       "\n",
       "                                                    CVec  Correlation DOID  \\\n",
       "9643   [0.0226929933, 0.14501299, 0.0597290248, -0.15...            0  nan   \n",
       "14736  [-0.0133901061, 0.116737746, 0.0253758859, -0....            0  nan   \n",
       "7342   [0.000285959075, 0.148733377, 0.0078057549, -0...            1  nan   \n",
       "\n",
       "                                            disPhenVecMP  \\\n",
       "9643   [0.0, 0.0, 0.0, 0.0, 0.0, 0.0, 0.0, 0.0, 0.0, ...   \n",
       "14736  [0.0, 0.0, 0.0, 0.0, 0.0, 0.0, 0.0, 0.0, 0.0, ...   \n",
       "7342   [0.0, 0.0, 0.0, 0.0, 0.0, 0.0, 0.0, 0.0, 0.0, ...   \n",
       "\n",
       "                                            disPhenVecHP  \\\n",
       "9643   [0.0, 0.0, 0.0, 0.0, 0.0, 0.0, 0.0, 0.0, 0.0, ...   \n",
       "14736  [0.0, 0.0, 0.0, 0.0, 0.0, 0.0, 0.0, 0.0, 0.0, ...   \n",
       "7342   [0.0, 0.0, 0.0, 0.0, 0.0, 0.0, 0.0, 0.0, 0.0, ...   \n",
       "\n",
       "                                           chemPhenVecHP  \\\n",
       "9643   [0.0, 0.0, 0.0, 0.0, 0.0, 0.0, 0.0, 0.0, 0.0, ...   \n",
       "14736  [0.0, 0.0, 0.0, 0.0, 0.0, 0.0, 0.0, 0.0, 0.0, ...   \n",
       "7342   [0.0, 0.0, 0.0, 0.0, 0.0, 0.0, 0.0, 0.0, 0.0, ...   \n",
       "\n",
       "                                           chemPhenVecMP  \\\n",
       "9643   [0.0, 0.0, 0.0, 0.0, 0.0, 0.0, 0.0, 0.0, 0.0, ...   \n",
       "14736  [0.0, 0.0, 0.0, 0.0, 0.0, 0.0, 0.0, 0.0, 0.0, ...   \n",
       "7342   [0.0, 0.0, 0.0, 0.0, 0.0, 0.0, 0.0, 0.0, 0.0, ...   \n",
       "\n",
       "                                                CHEBIvec  \n",
       "9643                                                None  \n",
       "14736  [0.01771633, 0.06411772, 0.03854137, -0.056743...  \n",
       "7342   [0.01631292, 0.04949443, 0.01545214, -0.064467...  "
      ]
     },
     "execution_count": 896,
     "metadata": {},
     "output_type": "execute_result"
    }
   ],
   "source": [
    "df1.sample(3)"
   ]
  },
  {
   "cell_type": "code",
   "execution_count": 897,
   "metadata": {},
   "outputs": [],
   "source": [
    "# Add empty vecs for rows that don't have Chebi vecs\n",
    "empty_vec = [0] * 200\n",
    "df1['CHEBIvec'] = df1['CHEBIvec'].map(lambda x: empty_vec if x is None else x)\n",
    "\n",
    "# Change the Chebi vec elements from string to floats\n",
    "df1['CHEBIvec'] = df1.CHEBIvec.map(lambda x: [float(i) for i in x])"
   ]
  },
  {
   "cell_type": "markdown",
   "metadata": {},
   "source": [
    "### Add DO Vecs"
   ]
  },
  {
   "cell_type": "code",
   "execution_count": 898,
   "metadata": {},
   "outputs": [],
   "source": [
    "# Import Gofunc vec file\n",
    "with open('do-vecs.lst', 'r') as file:\n",
    "    text = file.read()\n",
    "    \n",
    "# Strip and split vector data into list of lists [disease, vec]\n",
    "text = text.replace('\\n', '')\n",
    "text = text.split(']')\n",
    "text = [item.strip().split(' [') for item in text]\n",
    "\n",
    "# Turn it into a data frame\n",
    "df = pd.DataFrame(text)\n",
    "df.columns = ['ID', 'Vector']\n",
    "\n",
    "# Clean\n",
    "df = df.dropna()\n",
    "df['Vector'] = df.Vector.map(lambda x: x.rstrip().lstrip().replace('    ', ' ').replace('   ', ' ').replace('  ', ' ').replace(' ', ','))\n",
    "\n",
    "# Turn vector column into a list\n",
    "df['Vector'] = df.Vector.map(lambda x: x.split(','))\n",
    "\n",
    "# Make a map of it (DisID to DOvec)\n",
    "dis_to_DOvec = dict(zip(df.ID, df.Vector))"
   ]
  },
  {
   "cell_type": "code",
   "execution_count": 899,
   "metadata": {},
   "outputs": [],
   "source": [
    "df1['DOvec'] = df1.DiseaseID.map(lambda x: dis_to_DOvec.get(x))"
   ]
  },
  {
   "cell_type": "code",
   "execution_count": 900,
   "metadata": {},
   "outputs": [],
   "source": [
    "# print(df1[df1.DOvec])"
   ]
  },
  {
   "cell_type": "code",
   "execution_count": 901,
   "metadata": {},
   "outputs": [],
   "source": [
    "# Change the DO vec elements from string to floats\n",
    "df1['DOvec'] = df1.DOvec.map(lambda x: [float(i) for i in x])"
   ]
  },
  {
   "cell_type": "markdown",
   "metadata": {},
   "source": [
    "### ADD HINO vecs\n",
    "This file is getting a bit long "
   ]
  },
  {
   "cell_type": "code",
   "execution_count": 902,
   "metadata": {},
   "outputs": [],
   "source": [
    "# Import HINO vec file\n",
    "with open('hinoVecs.lst', 'r') as file:\n",
    "    text = file.read()\n",
    "    \n",
    "# Strip and split vector data into list of lists [chem, vec]\n",
    "text = text.replace('\\n', '')\n",
    "text = text.split(']')\n",
    "text = [item.strip().split(' [') for item in text]\n",
    "\n",
    "# Turn it into a data frame\n",
    "df = pd.DataFrame(text)\n",
    "df.columns = ['ID', 'Vector']\n",
    "\n",
    "# Clean\n",
    "df = df.dropna()\n",
    "df['Vector'] = df.Vector.map(lambda x: x.rstrip().lstrip().replace('    ', ' ').replace('   ', ' ').replace('  ', ' ').replace(' ', ','))\n",
    "\n",
    "# Turn vector column into a list\n",
    "df['Vector'] = df.Vector.map(lambda x: x.split(','))\n",
    "\n",
    "# Make a map of it (DisID to DOvec)\n",
    "entity_to_HINOvec = dict(zip(df.ID, df.Vector))"
   ]
  },
  {
   "cell_type": "code",
   "execution_count": 903,
   "metadata": {},
   "outputs": [],
   "source": [
    "df1['dis_HINOvec'] = df1.DiseaseID.map(lambda x: entity_to_HINOvec.get(x))\n",
    "df1['chem_HINOvec'] = df1.ChemicalID.map(lambda x: entity_to_HINOvec.get(x))"
   ]
  },
  {
   "cell_type": "code",
   "execution_count": 904,
   "metadata": {},
   "outputs": [
    {
     "data": {
      "text/html": [
       "<div>\n",
       "<style scoped>\n",
       "    .dataframe tbody tr th:only-of-type {\n",
       "        vertical-align: middle;\n",
       "    }\n",
       "\n",
       "    .dataframe tbody tr th {\n",
       "        vertical-align: top;\n",
       "    }\n",
       "\n",
       "    .dataframe thead th {\n",
       "        text-align: right;\n",
       "    }\n",
       "</style>\n",
       "<table border=\"1\" class=\"dataframe\">\n",
       "  <thead>\n",
       "    <tr style=\"text-align: right;\">\n",
       "      <th></th>\n",
       "      <th>ChemicalID</th>\n",
       "      <th>DiseaseID</th>\n",
       "      <th>DVec</th>\n",
       "      <th>CVec</th>\n",
       "      <th>Correlation</th>\n",
       "      <th>DOID</th>\n",
       "      <th>disPhenVecMP</th>\n",
       "      <th>disPhenVecHP</th>\n",
       "      <th>chemPhenVecHP</th>\n",
       "      <th>chemPhenVecMP</th>\n",
       "      <th>CHEBIvec</th>\n",
       "      <th>DOvec</th>\n",
       "      <th>dis_HINOvec</th>\n",
       "      <th>chem_HINOvec</th>\n",
       "    </tr>\n",
       "  </thead>\n",
       "  <tbody>\n",
       "    <tr>\n",
       "      <th>97</th>\n",
       "      <td>D020106</td>\n",
       "      <td>MESH:D056486</td>\n",
       "      <td>[-0.0573407635, 0.0587317832, -0.238079086, -0...</td>\n",
       "      <td>[0.0128343292, 0.124974281, 0.0104902657, -0.1...</td>\n",
       "      <td>1</td>\n",
       "      <td>DOID_2044</td>\n",
       "      <td>[0.03597726, 0.1437135, 0.07756205, -0.1206207...</td>\n",
       "      <td>[0.03639936, 0.12774213, 0.06539351, -0.117954...</td>\n",
       "      <td>[0.0, 0.0, 0.0, 0.0, 0.0, 0.0, 0.0, 0.0, 0.0, ...</td>\n",
       "      <td>[0.0, 0.0, 0.0, 0.0, 0.0, 0.0, 0.0, 0.0, 0.0, ...</td>\n",
       "      <td>[0.02180431, 0.06118587, 0.03683005, -0.068677...</td>\n",
       "      <td>[0.018791426, 0.0550314896, 0.0336739607, -0.0...</td>\n",
       "      <td>[2.86019761e-02, 9.30668786e-02, 5.02847470e-0...</td>\n",
       "      <td>None</td>\n",
       "    </tr>\n",
       "    <tr>\n",
       "      <th>15064</th>\n",
       "      <td>C099813</td>\n",
       "      <td>MESH:C562729</td>\n",
       "      <td>[0.01318017, 0.1251859, -0.01394415, -0.118188...</td>\n",
       "      <td>[0.02968111, 0.10238931, 0.04476682, -0.105589...</td>\n",
       "      <td>0</td>\n",
       "      <td>nan</td>\n",
       "      <td>[0.0, 0.0, 0.0, 0.0, 0.0, 0.0, 0.0, 0.0, 0.0, ...</td>\n",
       "      <td>[0.0, 0.0, 0.0, 0.0, 0.0, 0.0, 0.0, 0.0, 0.0, ...</td>\n",
       "      <td>[0.0, 0.0, 0.0, 0.0, 0.0, 0.0, 0.0, 0.0, 0.0, ...</td>\n",
       "      <td>[0.0, 0.0, 0.0, 0.0, 0.0, 0.0, 0.0, 0.0, 0.0, ...</td>\n",
       "      <td>[0.0, 0.0, 0.0, 0.0, 0.0, 0.0, 0.0, 0.0, 0.0, ...</td>\n",
       "      <td>[0.01368068, 0.05909523, 0.03674051, -0.064458...</td>\n",
       "      <td>[0.01388473, 0.05762913, 0.03025182, -0.068478...</td>\n",
       "      <td>None</td>\n",
       "    </tr>\n",
       "    <tr>\n",
       "      <th>17177</th>\n",
       "      <td>D005372</td>\n",
       "      <td>MESH:D001943</td>\n",
       "      <td>[-0.09880375, -0.07782761, -0.21784736, -0.094...</td>\n",
       "      <td>[-0.00116740179, 0.0805704072, -0.0103234174, ...</td>\n",
       "      <td>0</td>\n",
       "      <td>DOID_3459</td>\n",
       "      <td>[0.01407156, 0.14879467, 0.08084341, -0.131606...</td>\n",
       "      <td>[0.03489758, 0.12943432, 0.06160691, -0.118124...</td>\n",
       "      <td>[0.0, 0.0, 0.0, 0.0, 0.0, 0.0, 0.0, 0.0, 0.0, ...</td>\n",
       "      <td>[0.0, 0.0, 0.0, 0.0, 0.0, 0.0, 0.0, 0.0, 0.0, ...</td>\n",
       "      <td>[0.0122307669, 0.0684281364, 0.0275013242, -0....</td>\n",
       "      <td>[0.0268149339, 0.0863542259, 0.0386081785, -0....</td>\n",
       "      <td>[2.97578666e-02, 1.17261335e-01, 4.91196848e-0...</td>\n",
       "      <td>[1.66756362e-02, 4.36262824e-02, 2.67493427e-0...</td>\n",
       "    </tr>\n",
       "  </tbody>\n",
       "</table>\n",
       "</div>"
      ],
      "text/plain": [
       "      ChemicalID     DiseaseID  \\\n",
       "97       D020106  MESH:D056486   \n",
       "15064    C099813  MESH:C562729   \n",
       "17177    D005372  MESH:D001943   \n",
       "\n",
       "                                                    DVec  \\\n",
       "97     [-0.0573407635, 0.0587317832, -0.238079086, -0...   \n",
       "15064  [0.01318017, 0.1251859, -0.01394415, -0.118188...   \n",
       "17177  [-0.09880375, -0.07782761, -0.21784736, -0.094...   \n",
       "\n",
       "                                                    CVec  Correlation  \\\n",
       "97     [0.0128343292, 0.124974281, 0.0104902657, -0.1...            1   \n",
       "15064  [0.02968111, 0.10238931, 0.04476682, -0.105589...            0   \n",
       "17177  [-0.00116740179, 0.0805704072, -0.0103234174, ...            0   \n",
       "\n",
       "            DOID                                       disPhenVecMP  \\\n",
       "97     DOID_2044  [0.03597726, 0.1437135, 0.07756205, -0.1206207...   \n",
       "15064        nan  [0.0, 0.0, 0.0, 0.0, 0.0, 0.0, 0.0, 0.0, 0.0, ...   \n",
       "17177  DOID_3459  [0.01407156, 0.14879467, 0.08084341, -0.131606...   \n",
       "\n",
       "                                            disPhenVecHP  \\\n",
       "97     [0.03639936, 0.12774213, 0.06539351, -0.117954...   \n",
       "15064  [0.0, 0.0, 0.0, 0.0, 0.0, 0.0, 0.0, 0.0, 0.0, ...   \n",
       "17177  [0.03489758, 0.12943432, 0.06160691, -0.118124...   \n",
       "\n",
       "                                           chemPhenVecHP  \\\n",
       "97     [0.0, 0.0, 0.0, 0.0, 0.0, 0.0, 0.0, 0.0, 0.0, ...   \n",
       "15064  [0.0, 0.0, 0.0, 0.0, 0.0, 0.0, 0.0, 0.0, 0.0, ...   \n",
       "17177  [0.0, 0.0, 0.0, 0.0, 0.0, 0.0, 0.0, 0.0, 0.0, ...   \n",
       "\n",
       "                                           chemPhenVecMP  \\\n",
       "97     [0.0, 0.0, 0.0, 0.0, 0.0, 0.0, 0.0, 0.0, 0.0, ...   \n",
       "15064  [0.0, 0.0, 0.0, 0.0, 0.0, 0.0, 0.0, 0.0, 0.0, ...   \n",
       "17177  [0.0, 0.0, 0.0, 0.0, 0.0, 0.0, 0.0, 0.0, 0.0, ...   \n",
       "\n",
       "                                                CHEBIvec  \\\n",
       "97     [0.02180431, 0.06118587, 0.03683005, -0.068677...   \n",
       "15064  [0.0, 0.0, 0.0, 0.0, 0.0, 0.0, 0.0, 0.0, 0.0, ...   \n",
       "17177  [0.0122307669, 0.0684281364, 0.0275013242, -0....   \n",
       "\n",
       "                                                   DOvec  \\\n",
       "97     [0.018791426, 0.0550314896, 0.0336739607, -0.0...   \n",
       "15064  [0.01368068, 0.05909523, 0.03674051, -0.064458...   \n",
       "17177  [0.0268149339, 0.0863542259, 0.0386081785, -0....   \n",
       "\n",
       "                                             dis_HINOvec  \\\n",
       "97     [2.86019761e-02, 9.30668786e-02, 5.02847470e-0...   \n",
       "15064  [0.01388473, 0.05762913, 0.03025182, -0.068478...   \n",
       "17177  [2.97578666e-02, 1.17261335e-01, 4.91196848e-0...   \n",
       "\n",
       "                                            chem_HINOvec  \n",
       "97                                                  None  \n",
       "15064                                               None  \n",
       "17177  [1.66756362e-02, 4.36262824e-02, 2.67493427e-0...  "
      ]
     },
     "execution_count": 904,
     "metadata": {},
     "output_type": "execute_result"
    }
   ],
   "source": [
    "df1.sample(3)"
   ]
  },
  {
   "cell_type": "code",
   "execution_count": 905,
   "metadata": {},
   "outputs": [
    {
     "name": "stdout",
     "output_type": "stream",
     "text": [
      "HINO dis vecs:  11456\n",
      "HINO chem vecs:  11516\n",
      "At least one hino vec:  15476\n"
     ]
    }
   ],
   "source": [
    "print('HINO dis vecs: ', df1[df1.dis_HINOvec.map(lambda x: x is not None)].shape[0])\n",
    "print('HINO chem vecs: ', df1[df1.chem_HINOvec.map(lambda x: x is not None)].shape[0])\n",
    "at_least_one = df1.chem_HINOvec.map(lambda x: x is not None) | df1.dis_HINOvec.map(lambda x: x is not None)\n",
    "print('At least one hino vec: ', df1[at_least_one].shape[0])"
   ]
  },
  {
   "cell_type": "code",
   "execution_count": 906,
   "metadata": {},
   "outputs": [],
   "source": [
    "# Add empty vecs in place of None\n",
    "empty_vec = [0] * 200\n",
    "\n",
    "for col in ['dis_HINOvec', 'chem_HINOvec']:\n",
    "    df1[col] = df1[col].map(lambda x: empty_vec if x is None else x)"
   ]
  },
  {
   "cell_type": "code",
   "execution_count": 907,
   "metadata": {},
   "outputs": [],
   "source": [
    "# Change the HINO vec elements from string to floats\n",
    "df1['dis_HINOvec'] = df1.dis_HINOvec.map(lambda x: [float(i) for i in x])\n",
    "df1['chem_HINOvec'] = df1.chem_HINOvec.map(lambda x: [float(i) for i in x])"
   ]
  },
  {
   "cell_type": "code",
   "execution_count": 908,
   "metadata": {},
   "outputs": [
    {
     "data": {
      "text/html": [
       "<div>\n",
       "<style scoped>\n",
       "    .dataframe tbody tr th:only-of-type {\n",
       "        vertical-align: middle;\n",
       "    }\n",
       "\n",
       "    .dataframe tbody tr th {\n",
       "        vertical-align: top;\n",
       "    }\n",
       "\n",
       "    .dataframe thead th {\n",
       "        text-align: right;\n",
       "    }\n",
       "</style>\n",
       "<table border=\"1\" class=\"dataframe\">\n",
       "  <thead>\n",
       "    <tr style=\"text-align: right;\">\n",
       "      <th></th>\n",
       "      <th>ChemicalID</th>\n",
       "      <th>DiseaseID</th>\n",
       "      <th>DVec</th>\n",
       "      <th>CVec</th>\n",
       "      <th>Correlation</th>\n",
       "      <th>DOID</th>\n",
       "      <th>disPhenVecMP</th>\n",
       "      <th>disPhenVecHP</th>\n",
       "      <th>chemPhenVecHP</th>\n",
       "      <th>chemPhenVecMP</th>\n",
       "      <th>CHEBIvec</th>\n",
       "      <th>DOvec</th>\n",
       "      <th>dis_HINOvec</th>\n",
       "      <th>chem_HINOvec</th>\n",
       "    </tr>\n",
       "  </thead>\n",
       "  <tbody>\n",
       "    <tr>\n",
       "      <th>0</th>\n",
       "      <td>C028474</td>\n",
       "      <td>MESH:D006528</td>\n",
       "      <td>[-0.0826218948, 0.0322816819, -0.121060327, -0...</td>\n",
       "      <td>[0.0135123692, 0.105312727, -0.0104590971, -0....</td>\n",
       "      <td>1</td>\n",
       "      <td>DOID_684</td>\n",
       "      <td>[0.03717217, 0.14535129, 0.06694908, -0.124857...</td>\n",
       "      <td>[0.0349340774, 0.147659555, 0.0655185208, -0.1...</td>\n",
       "      <td>[0.0, 0.0, 0.0, 0.0, 0.0, 0.0, 0.0, 0.0, 0.0, ...</td>\n",
       "      <td>[0.0, 0.0, 0.0, 0.0, 0.0, 0.0, 0.0, 0.0, 0.0, ...</td>\n",
       "      <td>[0.0, 0.0, 0.0, 0.0, 0.0, 0.0, 0.0, 0.0, 0.0, ...</td>\n",
       "      <td>[-0.00669117, 0.06971597, 0.03065702, -0.06519...</td>\n",
       "      <td>[0.017662406, 0.0882318914, 0.0445542857, -0.0...</td>\n",
       "      <td>[0.0, 0.0, 0.0, 0.0, 0.0, 0.0, 0.0, 0.0, 0.0, ...</td>\n",
       "    </tr>\n",
       "    <tr>\n",
       "      <th>1</th>\n",
       "      <td>C028474</td>\n",
       "      <td>MESH:D005355</td>\n",
       "      <td>[0.01802431, 0.14452943, -0.00467963, -0.15955...</td>\n",
       "      <td>[0.0135123692, 0.105312727, -0.0104590971, -0....</td>\n",
       "      <td>1</td>\n",
       "      <td>nan</td>\n",
       "      <td>[0.0, 0.0, 0.0, 0.0, 0.0, 0.0, 0.0, 0.0, 0.0, ...</td>\n",
       "      <td>[0.0, 0.0, 0.0, 0.0, 0.0, 0.0, 0.0, 0.0, 0.0, ...</td>\n",
       "      <td>[0.0, 0.0, 0.0, 0.0, 0.0, 0.0, 0.0, 0.0, 0.0, ...</td>\n",
       "      <td>[0.0, 0.0, 0.0, 0.0, 0.0, 0.0, 0.0, 0.0, 0.0, ...</td>\n",
       "      <td>[0.0, 0.0, 0.0, 0.0, 0.0, 0.0, 0.0, 0.0, 0.0, ...</td>\n",
       "      <td>[0.011856921, 0.0321784094, 0.0178192798, -0.0...</td>\n",
       "      <td>[0.00930883, 0.04089586, 0.01740959, -0.036715...</td>\n",
       "      <td>[0.0, 0.0, 0.0, 0.0, 0.0, 0.0, 0.0, 0.0, 0.0, ...</td>\n",
       "    </tr>\n",
       "    <tr>\n",
       "      <th>2</th>\n",
       "      <td>C028474</td>\n",
       "      <td>MESH:D006529</td>\n",
       "      <td>[-0.02036812, 0.09344074, -0.08194942, -0.1507...</td>\n",
       "      <td>[0.0135123692, 0.105312727, -0.0104590971, -0....</td>\n",
       "      <td>1</td>\n",
       "      <td>nan</td>\n",
       "      <td>[0.0, 0.0, 0.0, 0.0, 0.0, 0.0, 0.0, 0.0, 0.0, ...</td>\n",
       "      <td>[0.0, 0.0, 0.0, 0.0, 0.0, 0.0, 0.0, 0.0, 0.0, ...</td>\n",
       "      <td>[0.0, 0.0, 0.0, 0.0, 0.0, 0.0, 0.0, 0.0, 0.0, ...</td>\n",
       "      <td>[0.0, 0.0, 0.0, 0.0, 0.0, 0.0, 0.0, 0.0, 0.0, ...</td>\n",
       "      <td>[0.0, 0.0, 0.0, 0.0, 0.0, 0.0, 0.0, 0.0, 0.0, ...</td>\n",
       "      <td>[0.00442429, 0.02501368, 0.01620419, -0.024251...</td>\n",
       "      <td>[0.0262603536, 0.0958174169, 0.0440592952, -0....</td>\n",
       "      <td>[0.0, 0.0, 0.0, 0.0, 0.0, 0.0, 0.0, 0.0, 0.0, ...</td>\n",
       "    </tr>\n",
       "    <tr>\n",
       "      <th>3</th>\n",
       "      <td>C028474</td>\n",
       "      <td>MESH:D006965</td>\n",
       "      <td>[0.01746579, 0.14595346, 0.05720224, -0.153178...</td>\n",
       "      <td>[0.0135123692, 0.105312727, -0.0104590971, -0....</td>\n",
       "      <td>1</td>\n",
       "      <td>nan</td>\n",
       "      <td>[0.0, 0.0, 0.0, 0.0, 0.0, 0.0, 0.0, 0.0, 0.0, ...</td>\n",
       "      <td>[0.0, 0.0, 0.0, 0.0, 0.0, 0.0, 0.0, 0.0, 0.0, ...</td>\n",
       "      <td>[0.0, 0.0, 0.0, 0.0, 0.0, 0.0, 0.0, 0.0, 0.0, ...</td>\n",
       "      <td>[0.0, 0.0, 0.0, 0.0, 0.0, 0.0, 0.0, 0.0, 0.0, ...</td>\n",
       "      <td>[0.0, 0.0, 0.0, 0.0, 0.0, 0.0, 0.0, 0.0, 0.0, ...</td>\n",
       "      <td>[0.00854880922, 0.0434569977, 0.0188593101, -0...</td>\n",
       "      <td>[0.01259711, 0.04299367, 0.02412725, -0.042730...</td>\n",
       "      <td>[0.0, 0.0, 0.0, 0.0, 0.0, 0.0, 0.0, 0.0, 0.0, ...</td>\n",
       "    </tr>\n",
       "    <tr>\n",
       "      <th>4</th>\n",
       "      <td>C028474</td>\n",
       "      <td>MESH:D008114</td>\n",
       "      <td>[-0.05440867, 0.00954124, -0.18101129, -0.0743...</td>\n",
       "      <td>[0.0135123692, 0.105312727, -0.0104590971, -0....</td>\n",
       "      <td>1</td>\n",
       "      <td>nan</td>\n",
       "      <td>[0.0, 0.0, 0.0, 0.0, 0.0, 0.0, 0.0, 0.0, 0.0, ...</td>\n",
       "      <td>[0.0, 0.0, 0.0, 0.0, 0.0, 0.0, 0.0, 0.0, 0.0, ...</td>\n",
       "      <td>[0.0, 0.0, 0.0, 0.0, 0.0, 0.0, 0.0, 0.0, 0.0, ...</td>\n",
       "      <td>[0.0, 0.0, 0.0, 0.0, 0.0, 0.0, 0.0, 0.0, 0.0, ...</td>\n",
       "      <td>[0.0, 0.0, 0.0, 0.0, 0.0, 0.0, 0.0, 0.0, 0.0, ...</td>\n",
       "      <td>[0.00712068, 0.03850456, 0.01660043, -0.036797...</td>\n",
       "      <td>[0.0377231091, 0.093969211, 0.0376204327, -0.0...</td>\n",
       "      <td>[0.0, 0.0, 0.0, 0.0, 0.0, 0.0, 0.0, 0.0, 0.0, ...</td>\n",
       "    </tr>\n",
       "  </tbody>\n",
       "</table>\n",
       "</div>"
      ],
      "text/plain": [
       "  ChemicalID     DiseaseID                                               DVec  \\\n",
       "0    C028474  MESH:D006528  [-0.0826218948, 0.0322816819, -0.121060327, -0...   \n",
       "1    C028474  MESH:D005355  [0.01802431, 0.14452943, -0.00467963, -0.15955...   \n",
       "2    C028474  MESH:D006529  [-0.02036812, 0.09344074, -0.08194942, -0.1507...   \n",
       "3    C028474  MESH:D006965  [0.01746579, 0.14595346, 0.05720224, -0.153178...   \n",
       "4    C028474  MESH:D008114  [-0.05440867, 0.00954124, -0.18101129, -0.0743...   \n",
       "\n",
       "                                                CVec  Correlation      DOID  \\\n",
       "0  [0.0135123692, 0.105312727, -0.0104590971, -0....            1  DOID_684   \n",
       "1  [0.0135123692, 0.105312727, -0.0104590971, -0....            1       nan   \n",
       "2  [0.0135123692, 0.105312727, -0.0104590971, -0....            1       nan   \n",
       "3  [0.0135123692, 0.105312727, -0.0104590971, -0....            1       nan   \n",
       "4  [0.0135123692, 0.105312727, -0.0104590971, -0....            1       nan   \n",
       "\n",
       "                                        disPhenVecMP  \\\n",
       "0  [0.03717217, 0.14535129, 0.06694908, -0.124857...   \n",
       "1  [0.0, 0.0, 0.0, 0.0, 0.0, 0.0, 0.0, 0.0, 0.0, ...   \n",
       "2  [0.0, 0.0, 0.0, 0.0, 0.0, 0.0, 0.0, 0.0, 0.0, ...   \n",
       "3  [0.0, 0.0, 0.0, 0.0, 0.0, 0.0, 0.0, 0.0, 0.0, ...   \n",
       "4  [0.0, 0.0, 0.0, 0.0, 0.0, 0.0, 0.0, 0.0, 0.0, ...   \n",
       "\n",
       "                                        disPhenVecHP  \\\n",
       "0  [0.0349340774, 0.147659555, 0.0655185208, -0.1...   \n",
       "1  [0.0, 0.0, 0.0, 0.0, 0.0, 0.0, 0.0, 0.0, 0.0, ...   \n",
       "2  [0.0, 0.0, 0.0, 0.0, 0.0, 0.0, 0.0, 0.0, 0.0, ...   \n",
       "3  [0.0, 0.0, 0.0, 0.0, 0.0, 0.0, 0.0, 0.0, 0.0, ...   \n",
       "4  [0.0, 0.0, 0.0, 0.0, 0.0, 0.0, 0.0, 0.0, 0.0, ...   \n",
       "\n",
       "                                       chemPhenVecHP  \\\n",
       "0  [0.0, 0.0, 0.0, 0.0, 0.0, 0.0, 0.0, 0.0, 0.0, ...   \n",
       "1  [0.0, 0.0, 0.0, 0.0, 0.0, 0.0, 0.0, 0.0, 0.0, ...   \n",
       "2  [0.0, 0.0, 0.0, 0.0, 0.0, 0.0, 0.0, 0.0, 0.0, ...   \n",
       "3  [0.0, 0.0, 0.0, 0.0, 0.0, 0.0, 0.0, 0.0, 0.0, ...   \n",
       "4  [0.0, 0.0, 0.0, 0.0, 0.0, 0.0, 0.0, 0.0, 0.0, ...   \n",
       "\n",
       "                                       chemPhenVecMP  \\\n",
       "0  [0.0, 0.0, 0.0, 0.0, 0.0, 0.0, 0.0, 0.0, 0.0, ...   \n",
       "1  [0.0, 0.0, 0.0, 0.0, 0.0, 0.0, 0.0, 0.0, 0.0, ...   \n",
       "2  [0.0, 0.0, 0.0, 0.0, 0.0, 0.0, 0.0, 0.0, 0.0, ...   \n",
       "3  [0.0, 0.0, 0.0, 0.0, 0.0, 0.0, 0.0, 0.0, 0.0, ...   \n",
       "4  [0.0, 0.0, 0.0, 0.0, 0.0, 0.0, 0.0, 0.0, 0.0, ...   \n",
       "\n",
       "                                            CHEBIvec  \\\n",
       "0  [0.0, 0.0, 0.0, 0.0, 0.0, 0.0, 0.0, 0.0, 0.0, ...   \n",
       "1  [0.0, 0.0, 0.0, 0.0, 0.0, 0.0, 0.0, 0.0, 0.0, ...   \n",
       "2  [0.0, 0.0, 0.0, 0.0, 0.0, 0.0, 0.0, 0.0, 0.0, ...   \n",
       "3  [0.0, 0.0, 0.0, 0.0, 0.0, 0.0, 0.0, 0.0, 0.0, ...   \n",
       "4  [0.0, 0.0, 0.0, 0.0, 0.0, 0.0, 0.0, 0.0, 0.0, ...   \n",
       "\n",
       "                                               DOvec  \\\n",
       "0  [-0.00669117, 0.06971597, 0.03065702, -0.06519...   \n",
       "1  [0.011856921, 0.0321784094, 0.0178192798, -0.0...   \n",
       "2  [0.00442429, 0.02501368, 0.01620419, -0.024251...   \n",
       "3  [0.00854880922, 0.0434569977, 0.0188593101, -0...   \n",
       "4  [0.00712068, 0.03850456, 0.01660043, -0.036797...   \n",
       "\n",
       "                                         dis_HINOvec  \\\n",
       "0  [0.017662406, 0.0882318914, 0.0445542857, -0.0...   \n",
       "1  [0.00930883, 0.04089586, 0.01740959, -0.036715...   \n",
       "2  [0.0262603536, 0.0958174169, 0.0440592952, -0....   \n",
       "3  [0.01259711, 0.04299367, 0.02412725, -0.042730...   \n",
       "4  [0.0377231091, 0.093969211, 0.0376204327, -0.0...   \n",
       "\n",
       "                                        chem_HINOvec  \n",
       "0  [0.0, 0.0, 0.0, 0.0, 0.0, 0.0, 0.0, 0.0, 0.0, ...  \n",
       "1  [0.0, 0.0, 0.0, 0.0, 0.0, 0.0, 0.0, 0.0, 0.0, ...  \n",
       "2  [0.0, 0.0, 0.0, 0.0, 0.0, 0.0, 0.0, 0.0, 0.0, ...  \n",
       "3  [0.0, 0.0, 0.0, 0.0, 0.0, 0.0, 0.0, 0.0, 0.0, ...  \n",
       "4  [0.0, 0.0, 0.0, 0.0, 0.0, 0.0, 0.0, 0.0, 0.0, ...  "
      ]
     },
     "execution_count": 908,
     "metadata": {},
     "output_type": "execute_result"
    }
   ],
   "source": [
    "df1.head()"
   ]
  },
  {
   "cell_type": "code",
   "execution_count": null,
   "metadata": {},
   "outputs": [],
   "source": []
  },
  {
   "cell_type": "markdown",
   "metadata": {},
   "source": [
    "### Add Protein Ontology vecs"
   ]
  },
  {
   "cell_type": "code",
   "execution_count": 909,
   "metadata": {},
   "outputs": [],
   "source": [
    "# Import PRO vec file\n",
    "with open('PROVecs.lst', 'r') as file:\n",
    "    text = file.read()\n",
    "    \n",
    "# Strip and split vector data into list of lists [chem, vec]\n",
    "text = text.replace('\\n', '')\n",
    "text = text.split(']')\n",
    "text = [item.strip().split(' [') for item in text]\n",
    "\n",
    "# Turn it into a data frame\n",
    "df = pd.DataFrame(text)\n",
    "df.columns = ['ID', 'Vector']\n",
    "\n",
    "# Clean\n",
    "df = df.dropna()\n",
    "df['Vector'] = df.Vector.map(lambda x: x.rstrip().lstrip().replace('    ', ' ').replace('   ', ' ').replace('  ', ' ').replace(' ', ','))\n",
    "\n",
    "# Turn vector column into a list\n",
    "df['Vector'] = df.Vector.map(lambda x: x.split(','))\n",
    "\n",
    "# Make a map of it (DisID to DOvec)\n",
    "entity_to_PROvec = dict(zip(df.ID, df.Vector))"
   ]
  },
  {
   "cell_type": "code",
   "execution_count": 910,
   "metadata": {},
   "outputs": [],
   "source": [
    "df1['dis_PROvec'] = df1.DiseaseID.map(lambda x: entity_to_PROvec.get(x))\n",
    "df1['chem_PROvec'] = df1.ChemicalID.map(lambda x: entity_to_PROvec.get(x))"
   ]
  },
  {
   "cell_type": "code",
   "execution_count": null,
   "metadata": {},
   "outputs": [],
   "source": []
  },
  {
   "cell_type": "code",
   "execution_count": 911,
   "metadata": {},
   "outputs": [],
   "source": [
    "# Add empty vecs in place of None\n",
    "empty_vec = [0] * 200\n",
    "\n",
    "for col in ['dis_PROvec', 'chem_PROvec']:\n",
    "    df1[col] = df1[col].map(lambda x: empty_vec if x is None else x)"
   ]
  },
  {
   "cell_type": "code",
   "execution_count": 912,
   "metadata": {},
   "outputs": [],
   "source": [
    "# Change the vec elements from string to floats\n",
    "df1['dis_PROvec'] = df1.dis_PROvec.map(lambda x: [float(i) for i in x])\n",
    "df1['chem_PROvec'] = df1.chem_PROvec.map(lambda x: [float(i) for i in x])"
   ]
  },
  {
   "cell_type": "code",
   "execution_count": 913,
   "metadata": {},
   "outputs": [
    {
     "name": "stdout",
     "output_type": "stream",
     "text": [
      "Total Rows:  17739\n",
      "Num corr rows:  8920\n",
      "Num uncorr rows:  8819\n",
      "\n",
      "Have chem pro vec:  17739\n",
      "Have dis pro vec:  17739\n",
      "Corr rows with chem pro vec:  8920\n",
      "UnCorr rows with chem pro vec:  8819\n",
      "\n",
      "Corr rows with HP vec:  5175\n",
      "UnCorr rows with HP vec:  3495\n",
      "Corr rows with MP vec:  5175\n",
      "UnCorr rows with MP vec:  3469\n",
      "\n",
      "Corr rows with Hino chm vec:  6055\n",
      "UnCorr rows with Hino chm vec:  5461\n",
      "Corr rows with Hino dis vec:  7310\n",
      "UnCorr rows with Hino dis vec:  4146\n",
      "\n",
      "Corr rows with CHEBI vec:  6150\n",
      "UnCorr rows with CHEBI vec:  4675\n",
      "\n"
     ]
    }
   ],
   "source": [
    "# Print stuff\n",
    "# \n",
    "print('Total Rows: ', df1.shape[0])\n",
    "corr_rows = df1.Correlation == 1\n",
    "uncorr = df1.Correlation == 0\n",
    "print('Num corr rows: ', df1[corr_rows].shape[0])\n",
    "print('Num uncorr rows: ', df1[uncorr].shape[0])\n",
    "print()\n",
    "\n",
    "# PRO vecs\n",
    "have_chemv = df1.chem_PROvec.map(lambda x: x != empty_vec)\n",
    "print('Have chem pro vec: ', df1[have_chemv].shape[0])\n",
    "print('Have dis pro vec: ', df1[df1.dis_PROvec.map(lambda x: x != empty_vec)].shape[0])\n",
    "corr_w_pro = have_chemv & corr_rows\n",
    "uncorr_w_pro = have_chemv & uncorr\n",
    "print('Corr rows with chem pro vec: ', df1[corr_w_pro].shape[0])\n",
    "print('UnCorr rows with chem pro vec: ', df1[uncorr_w_pro].shape[0])\n",
    "print()\n",
    "\n",
    "# Phen vecs\n",
    "phendisHP = df1.disPhenVecHP.map(lambda x: x != empty_vec)\n",
    "phendisMP = df1.disPhenVecMP.map(lambda x: x != empty_vec)\n",
    "corr_w_HP = phendisHP & corr_rows\n",
    "uncorr_w_HP = phendisHP & uncorr\n",
    "corr_w_MP = phendisMP & corr_rows\n",
    "uncorr_w_MP = phendisMP & uncorr\n",
    "print('Corr rows with HP vec: ', df1[corr_w_HP].shape[0])\n",
    "print('UnCorr rows with HP vec: ', df1[uncorr_w_HP].shape[0])\n",
    "print('Corr rows with MP vec: ', df1[corr_w_MP].shape[0])\n",
    "print('UnCorr rows with MP vec: ', df1[uncorr_w_MP].shape[0])\n",
    "print()\n",
    "\n",
    "# HINO vecs\n",
    "hin_c = df1.chem_HINOvec.map(lambda x: x != empty_vec)\n",
    "hin_d = df1.dis_HINOvec.map(lambda x: x != empty_vec)\n",
    "corr_w_hin_c = corr_rows & hin_c\n",
    "uncorr_w_hin_c = uncorr & hin_c\n",
    "corr_w_hin_d = corr_rows & hin_d\n",
    "uncorr_w_hin_d = uncorr & hin_d\n",
    "print('Corr rows with Hino chm vec: ', df1[corr_w_hin_c].shape[0])\n",
    "print('UnCorr rows with Hino chm vec: ', df1[uncorr_w_hin_c].shape[0])\n",
    "print('Corr rows with Hino dis vec: ', df1[corr_w_hin_d].shape[0])\n",
    "print('UnCorr rows with Hino dis vec: ', df1[uncorr_w_hin_d].shape[0])\n",
    "print()\n",
    "\n",
    "# CHEBI\n",
    "cheb = df1.CHEBIvec.map(lambda x: x != empty_vec)\n",
    "corr_w_cheb = corr_rows & cheb\n",
    "uncorr_w_cheb = uncorr & cheb\n",
    "print('Corr rows with CHEBI vec: ', df1[corr_w_cheb].shape[0])\n",
    "print('UnCorr rows with CHEBI vec: ', df1[uncorr_w_cheb].shape[0])\n",
    "print()"
   ]
  },
  {
   "cell_type": "markdown",
   "metadata": {},
   "source": [
    "#### Optionally chop out rows so that number with each type of vec is balanced"
   ]
  },
  {
   "cell_type": "code",
   "execution_count": 914,
   "metadata": {},
   "outputs": [],
   "source": [
    "# Hdis = 3000\n",
    "# HP = 3000"
   ]
  },
  {
   "cell_type": "code",
   "execution_count": 915,
   "metadata": {},
   "outputs": [],
   "source": [
    "# # Create separate dfs of dis-vecs and chem-vecs ( in order to generate additional rows for df1)\n",
    "# dis = df.ID.map(lambda x: ('MESH' in x) | ('OMIM' in x))\n",
    "# chems = df.ID.map(lambda x: ('MESH' not in x) & ('OMIM' not in x))\n",
    "\n",
    "# df_chems = df[chems]\n",
    "# df_dis = df[dis]\n",
    "# df_chems = df_chems.reset_index(drop=True)\n",
    "# df_dis = df_dis.reset_index(drop=True)"
   ]
  },
  {
   "cell_type": "code",
   "execution_count": 916,
   "metadata": {},
   "outputs": [],
   "source": [
    "# # Add unrelated pairs to df1\n",
    "# no_rows = (df1.shape[0]-1) * 4 # This is a parameter to be tuned --> how many uncorrelated pairs do we want\n",
    "# print('shape: ', no_rows)\n",
    "\n",
    "# # Make list to check chem-dis pos assocs against\n",
    "# chem_dis_pos_assocs = list(chem_dis['ChemicalID'] + chem_dis['DiseaseID'])\n",
    "\n",
    "# # Randomly select chems and diseases (as many as there are related pairs)\n",
    "# no_chems = len(df_chems) -1\n",
    "# no_dis = len(df_dis) -1\n",
    "# rand_chems = np.random.choice(no_chems, no_rows, replace=True)\n",
    "# rand_dis = np.random.choice(no_dis, no_rows, replace=True)\n",
    "\n",
    "# # Add the new pairs as rows\n",
    "# for x in range(0, no_rows):\n",
    "#     int1 = rand_chems[x]\n",
    "#     int2 = rand_dis[x]\n",
    "#     chem, chemvec, cheb, chin, cpro = df1.loc[int1, 'ChemicalID'], df1.loc[int1, 'CVec'], df1.loc[int1, 'CHEBIvec'], df1.loc[int1, 'chem_HINOvec'], df1.loc[int1, 'chem_PROvec']\n",
    "#     dis, disvec, mp, hp, do, dhin, dispro = df1.loc[int2, 'DiseaseID'], df1.loc[int2, 'DVec'], df1.loc[int2, 'disPhenVecMP'], df1.loc[int2, 'disPhenVecHP'], df1.loc[int2, 'DOvec'], df1.loc[int2, 'dis_HINOvec'], df1.loc[int2, 'dis_PROvec']\n",
    "#     if (chem + dis not in chem_dis_pos_assocs):\n",
    "#         df1 = df1.append({'ChemicalID':chem, 'DiseaseID':dis, 'CVec':chemvec, 'DVec':disvec, 'Correlation':0, \n",
    "#                           'disPhenVecMP': mp, 'disPhenVecHP':hp, 'CHEBIvec':cheb, 'DOvec':do, \n",
    "#                          'dis_HINOvec': dhin, 'chem_HINOvec':chin, 'dis_PROvec':dispro, 'chem_PROvec': cpro}, ignore_index=True)\n",
    "\n",
    "# print(df1.shape)\n",
    "# # Drop any duplicates (removes known correlated pairs accidentally generated as uncorrelated)\n",
    "# df1 = df1.drop_duplicates(subset=['ChemicalID', 'DiseaseID'], keep=False)\n",
    "# print(df1.shape)\n"
   ]
  },
  {
   "cell_type": "code",
   "execution_count": 917,
   "metadata": {},
   "outputs": [],
   "source": [
    "# # Print stuff\n",
    "# # \n",
    "# print('Total Rows: ', df1.shape[0])\n",
    "# corr_rows = df1.Correlation == 1\n",
    "# uncorr = df1.Correlation == 0\n",
    "# print('Num corr rows: ', df1[corr_rows].shape[0])\n",
    "# print('Num uncorr rows: ', df1[uncorr].shape[0])\n",
    "# print()\n",
    "\n",
    "# # PRO vecs\n",
    "# have_chemv = df1.chem_PROvec.map(lambda x: x != empty_vec)\n",
    "# print('Have chem pro vec: ', df1[have_chemv].shape[0])\n",
    "# print('Have dis pro vec: ', df1[df1.dis_PROvec.map(lambda x: x != empty_vec)].shape[0])\n",
    "# corr_w_pro = have_chemv & corr_rows\n",
    "# uncorr_w_pro = have_chemv & uncorr\n",
    "# print('Corr rows with chem pro vec: ', df1[corr_w_pro].shape[0])\n",
    "# print('UnCorr rows with chem pro vec: ', df1[uncorr_w_pro].shape[0])\n",
    "# print()\n",
    "\n",
    "# # Phen vecs\n",
    "# phendisHP = df1.disPhenVecHP.map(lambda x: x != empty_vec)\n",
    "# phendisMP = df1.disPhenVecMP.map(lambda x: x != empty_vec)\n",
    "# corr_w_HP = phendisHP & corr_rows\n",
    "# uncorr_w_HP = phendisHP & uncorr\n",
    "# corr_w_MP = phendisMP & corr_rows\n",
    "# uncorr_w_MP = phendisMP & uncorr\n",
    "# print('Corr rows with HP vec: ', df1[corr_w_HP].shape[0])\n",
    "# print('UnCorr rows with HP vec: ', df1[uncorr_w_HP].shape[0])\n",
    "# print('Corr rows with MP vec: ', df1[corr_w_MP].shape[0])\n",
    "# print('UnCorr rows with MP vec: ', df1[uncorr_w_MP].shape[0])\n",
    "# print()\n",
    "\n",
    "# # HINO vecs\n",
    "# hin_c = df1.chem_HINOvec.map(lambda x: x != empty_vec)\n",
    "# hin_d = df1.dis_HINOvec.map(lambda x: x != empty_vec)\n",
    "# corr_w_hin_c = corr_rows & hin_c\n",
    "# uncorr_w_hin_c = uncorr & hin_c\n",
    "# corr_w_hin_d = corr_rows & hin_d\n",
    "# uncorr_w_hin_d = uncorr & hin_d\n",
    "# print('Corr rows with Hino chm vec: ', df1[corr_w_hin_c].shape[0])\n",
    "# print('UnCorr rows with Hino chm vec: ', df1[uncorr_w_hin_c].shape[0])\n",
    "# print('Corr rows with Hino dis vec: ', df1[corr_w_hin_d].shape[0])\n",
    "# print('UnCorr rows with Hino dis vec: ', df1[uncorr_w_hin_d].shape[0])\n",
    "# print()\n",
    "\n",
    "# # CHEBI\n",
    "# cheb = df1.CHEBIvec.map(lambda x: x != empty_vec)\n",
    "# corr_w_cheb = corr_rows & cheb\n",
    "# uncorr_w_cheb = uncorr & cheb\n",
    "# print('Corr rows with CHEBI vec: ', df1[corr_w_cheb].shape[0])\n",
    "# print('UnCorr rows with CHEBI vec: ', df1[uncorr_w_cheb].shape[0])\n",
    "# print()"
   ]
  },
  {
   "cell_type": "code",
   "execution_count": 918,
   "metadata": {},
   "outputs": [],
   "source": [
    "# df1 = df1[df1.ChemicalID.map(lambda x: ('D0' in x) | ('C0' in x))]"
   ]
  },
  {
   "cell_type": "code",
   "execution_count": 919,
   "metadata": {},
   "outputs": [],
   "source": [
    "# df1 = df1[df1.chem_HINOvec.map(lambda x: x != empty_vec)]\n",
    "# df1 = df1[df1.dis_HINOvec.map(lambda x: x != empty_vec)]\n",
    "# df1 = df1[df1.chem_PROvec.map(lambda x: x != empty_vec)]\n",
    "# df1 = df1[df1.dis_PROvec.map(lambda x: x != empty_vec)]\n",
    "# print('Total Rows: ', df1.shape[0])\n",
    "# corr_rows = df1.Correlation == 1\n",
    "# uncorr = df1.Correlation == 0\n",
    "# print('Num corr rows: ', df1[corr_rows].shape[0])\n",
    "# print('Num uncorr rows: ', df1[uncorr].shape[0])\n"
   ]
  },
  {
   "cell_type": "code",
   "execution_count": 962,
   "metadata": {},
   "outputs": [
    {
     "data": {
      "text/html": [
       "<div>\n",
       "<style scoped>\n",
       "    .dataframe tbody tr th:only-of-type {\n",
       "        vertical-align: middle;\n",
       "    }\n",
       "\n",
       "    .dataframe tbody tr th {\n",
       "        vertical-align: top;\n",
       "    }\n",
       "\n",
       "    .dataframe thead th {\n",
       "        text-align: right;\n",
       "    }\n",
       "</style>\n",
       "<table border=\"1\" class=\"dataframe\">\n",
       "  <thead>\n",
       "    <tr style=\"text-align: right;\">\n",
       "      <th></th>\n",
       "      <th>index</th>\n",
       "      <th>ChemicalID</th>\n",
       "      <th>DiseaseID</th>\n",
       "      <th>DVec</th>\n",
       "      <th>CVec</th>\n",
       "      <th>Correlation</th>\n",
       "      <th>DOID</th>\n",
       "      <th>disPhenVecMP</th>\n",
       "      <th>disPhenVecHP</th>\n",
       "      <th>chemPhenVecHP</th>\n",
       "      <th>chemPhenVecMP</th>\n",
       "      <th>CHEBIvec</th>\n",
       "      <th>DOvec</th>\n",
       "      <th>dis_HINOvec</th>\n",
       "      <th>chem_HINOvec</th>\n",
       "      <th>dis_PROvec</th>\n",
       "      <th>chem_PROvec</th>\n",
       "      <th>train</th>\n",
       "      <th>test</th>\n",
       "      <th>val</th>\n",
       "    </tr>\n",
       "  </thead>\n",
       "  <tbody>\n",
       "    <tr>\n",
       "      <th>12407</th>\n",
       "      <td>12426</td>\n",
       "      <td>C585004</td>\n",
       "      <td>MESH:C566437</td>\n",
       "      <td>[0.0178516116, 0.129063979, 0.0440639779, -0.1...</td>\n",
       "      <td>[0.00802847, 0.05518906, 0.01596555, -0.061243...</td>\n",
       "      <td>0</td>\n",
       "      <td>nan</td>\n",
       "      <td>[0.0, 0.0, 0.0, 0.0, 0.0, 0.0, 0.0, 0.0, 0.0, ...</td>\n",
       "      <td>[0.0, 0.0, 0.0, 0.0, 0.0, 0.0, 0.0, 0.0, 0.0, ...</td>\n",
       "      <td>[0.0, 0.0, 0.0, 0.0, 0.0, 0.0, 0.0, 0.0, 0.0, ...</td>\n",
       "      <td>[0.0, 0.0, 0.0, 0.0, 0.0, 0.0, 0.0, 0.0, 0.0, ...</td>\n",
       "      <td>[0.0, 0.0, 0.0, 0.0, 0.0, 0.0, 0.0, 0.0, 0.0, ...</td>\n",
       "      <td>[0.01108353, 0.02579284, 0.02297479, -0.030905...</td>\n",
       "      <td>[0.0, 0.0, 0.0, 0.0, 0.0, 0.0, 0.0, 0.0, 0.0, ...</td>\n",
       "      <td>[0.0, 0.0, 0.0, 0.0, 0.0, 0.0, 0.0, 0.0, 0.0, ...</td>\n",
       "      <td>[0.01566133, 0.04857548, 0.02970299, -0.043415...</td>\n",
       "      <td>[0.01412044, 0.06220014, 0.01958289, -0.057440...</td>\n",
       "      <td>True</td>\n",
       "      <td>False</td>\n",
       "      <td>False</td>\n",
       "    </tr>\n",
       "    <tr>\n",
       "      <th>14460</th>\n",
       "      <td>14498</td>\n",
       "      <td>C029892</td>\n",
       "      <td>OMIM:615506</td>\n",
       "      <td>[-0.00772564, 0.11521512, 0.03159769, -0.09823...</td>\n",
       "      <td>[-0.04489205, 0.1015925, -0.04218275, -0.10177...</td>\n",
       "      <td>0</td>\n",
       "      <td>DOID_1270</td>\n",
       "      <td>[0.03602267, 0.12640534, 0.05713778, -0.121963...</td>\n",
       "      <td>[0.05224485, 0.17113136, 0.06237527, -0.125073...</td>\n",
       "      <td>[0.0, 0.0, 0.0, 0.0, 0.0, 0.0, 0.0, 0.0, 0.0, ...</td>\n",
       "      <td>[0.0, 0.0, 0.0, 0.0, 0.0, 0.0, 0.0, 0.0, 0.0, ...</td>\n",
       "      <td>[0.00971474, 0.06020469, 0.02310122, -0.056813...</td>\n",
       "      <td>[0.0061767478, 0.042561475, 0.021559397, -0.04...</td>\n",
       "      <td>[0.0, 0.0, 0.0, 0.0, 0.0, 0.0, 0.0, 0.0, 0.0, ...</td>\n",
       "      <td>[0.02788606, 0.05563743, 0.02960872, -0.057964...</td>\n",
       "      <td>[0.00606101, 0.03981618, 0.03681268, -0.051392...</td>\n",
       "      <td>[-0.00389806041, 0.177872583, 0.178752482, -0....</td>\n",
       "      <td>True</td>\n",
       "      <td>False</td>\n",
       "      <td>False</td>\n",
       "    </tr>\n",
       "    <tr>\n",
       "      <th>7274</th>\n",
       "      <td>7274</td>\n",
       "      <td>D013792</td>\n",
       "      <td>MESH:D006330</td>\n",
       "      <td>[-0.03698885, 0.10640656, 0.04266896, -0.11854...</td>\n",
       "      <td>[0.03081484, 0.09913214, 0.03207956, -0.103434...</td>\n",
       "      <td>1</td>\n",
       "      <td>DOID_1682</td>\n",
       "      <td>[0.03444591, 0.13871114, 0.06273473, -0.116451...</td>\n",
       "      <td>[0.04854434, 0.14219971, 0.06581844, -0.120439...</td>\n",
       "      <td>[0.0, 0.0, 0.0, 0.0, 0.0, 0.0, 0.0, 0.0, 0.0, ...</td>\n",
       "      <td>[0.0, 0.0, 0.0, 0.0, 0.0, 0.0, 0.0, 0.0, 0.0, ...</td>\n",
       "      <td>[0.00497299, 0.05582581, 0.02947761, -0.065771...</td>\n",
       "      <td>[0.0223576613, 0.0660833195, 0.0532260239, -0....</td>\n",
       "      <td>[0.00216777, 0.03575544, 0.01668204, -0.047450...</td>\n",
       "      <td>[0.0103810523, 0.032505367, 0.0141531397, -0.0...</td>\n",
       "      <td>[0.01809987, 0.0619995, 0.04133413, -0.0556588...</td>\n",
       "      <td>[0.02391763, 0.11202934, 0.09044398, -0.124461...</td>\n",
       "      <td>True</td>\n",
       "      <td>False</td>\n",
       "      <td>True</td>\n",
       "    </tr>\n",
       "    <tr>\n",
       "      <th>10398</th>\n",
       "      <td>10408</td>\n",
       "      <td>D015123</td>\n",
       "      <td>OMIM:605751</td>\n",
       "      <td>[0.03006625, 0.1142808, 0.02214933, -0.1086056...</td>\n",
       "      <td>[0.0242559, 0.14431536, 0.03021326, -0.1690826...</td>\n",
       "      <td>0</td>\n",
       "      <td>DOID_0060169</td>\n",
       "      <td>[0.0225872658, 0.115744069, 0.0600522272, -0.1...</td>\n",
       "      <td>[0.0419743806, 0.167147085, 0.0554940738, -0.1...</td>\n",
       "      <td>[0.0, 0.0, 0.0, 0.0, 0.0, 0.0, 0.0, 0.0, 0.0, ...</td>\n",
       "      <td>[0.0, 0.0, 0.0, 0.0, 0.0, 0.0, 0.0, 0.0, 0.0, ...</td>\n",
       "      <td>[0.00736426, 0.04131737, 0.03052316, -0.040788...</td>\n",
       "      <td>[0.01876928, 0.04385401, 0.01897988, -0.052993...</td>\n",
       "      <td>[0.0, 0.0, 0.0, 0.0, 0.0, 0.0, 0.0, 0.0, 0.0, ...</td>\n",
       "      <td>[0.0, 0.0, 0.0, 0.0, 0.0, 0.0, 0.0, 0.0, 0.0, ...</td>\n",
       "      <td>[0.01081047, 0.03728157, 0.02402995, -0.037493...</td>\n",
       "      <td>[0.01992319, 0.08258455, 0.04906219, -0.080891...</td>\n",
       "      <td>True</td>\n",
       "      <td>False</td>\n",
       "      <td>False</td>\n",
       "    </tr>\n",
       "    <tr>\n",
       "      <th>3693</th>\n",
       "      <td>3693</td>\n",
       "      <td>D014635</td>\n",
       "      <td>MESH:D001851</td>\n",
       "      <td>[0.0040225, 0.10908766, 0.0372559, -0.12564489...</td>\n",
       "      <td>[-0.00786130223, 0.140450239, -0.0648044944, -...</td>\n",
       "      <td>1</td>\n",
       "      <td>nan</td>\n",
       "      <td>[0.0, 0.0, 0.0, 0.0, 0.0, 0.0, 0.0, 0.0, 0.0, ...</td>\n",
       "      <td>[0.0, 0.0, 0.0, 0.0, 0.0, 0.0, 0.0, 0.0, 0.0, ...</td>\n",
       "      <td>[0.0, 0.0, 0.0, 0.0, 0.0, 0.0, 0.0, 0.0, 0.0, ...</td>\n",
       "      <td>[0.0, 0.0, 0.0, 0.0, 0.0, 0.0, 0.0, 0.0, 0.0, ...</td>\n",
       "      <td>[0.0, 0.0, 0.0, 0.0, 0.0, 0.0, 0.0, 0.0, 0.0, ...</td>\n",
       "      <td>[0.0060772141, 0.027040552, 0.012369524, -0.03...</td>\n",
       "      <td>[0.00885478128, 0.041987747, 0.0208982788, -0....</td>\n",
       "      <td>[0.0238118339, 0.0890578777, 0.0379080884, -0....</td>\n",
       "      <td>[0.0102019692, 0.0441244468, 0.0342550427, -0....</td>\n",
       "      <td>[0.02629412, 0.23361763, 0.23687215, -0.219725...</td>\n",
       "      <td>True</td>\n",
       "      <td>False</td>\n",
       "      <td>True</td>\n",
       "    </tr>\n",
       "  </tbody>\n",
       "</table>\n",
       "</div>"
      ],
      "text/plain": [
       "       index ChemicalID     DiseaseID  \\\n",
       "12407  12426    C585004  MESH:C566437   \n",
       "14460  14498    C029892   OMIM:615506   \n",
       "7274    7274    D013792  MESH:D006330   \n",
       "10398  10408    D015123   OMIM:605751   \n",
       "3693    3693    D014635  MESH:D001851   \n",
       "\n",
       "                                                    DVec  \\\n",
       "12407  [0.0178516116, 0.129063979, 0.0440639779, -0.1...   \n",
       "14460  [-0.00772564, 0.11521512, 0.03159769, -0.09823...   \n",
       "7274   [-0.03698885, 0.10640656, 0.04266896, -0.11854...   \n",
       "10398  [0.03006625, 0.1142808, 0.02214933, -0.1086056...   \n",
       "3693   [0.0040225, 0.10908766, 0.0372559, -0.12564489...   \n",
       "\n",
       "                                                    CVec  Correlation  \\\n",
       "12407  [0.00802847, 0.05518906, 0.01596555, -0.061243...            0   \n",
       "14460  [-0.04489205, 0.1015925, -0.04218275, -0.10177...            0   \n",
       "7274   [0.03081484, 0.09913214, 0.03207956, -0.103434...            1   \n",
       "10398  [0.0242559, 0.14431536, 0.03021326, -0.1690826...            0   \n",
       "3693   [-0.00786130223, 0.140450239, -0.0648044944, -...            1   \n",
       "\n",
       "               DOID                                       disPhenVecMP  \\\n",
       "12407           nan  [0.0, 0.0, 0.0, 0.0, 0.0, 0.0, 0.0, 0.0, 0.0, ...   \n",
       "14460     DOID_1270  [0.03602267, 0.12640534, 0.05713778, -0.121963...   \n",
       "7274      DOID_1682  [0.03444591, 0.13871114, 0.06273473, -0.116451...   \n",
       "10398  DOID_0060169  [0.0225872658, 0.115744069, 0.0600522272, -0.1...   \n",
       "3693            nan  [0.0, 0.0, 0.0, 0.0, 0.0, 0.0, 0.0, 0.0, 0.0, ...   \n",
       "\n",
       "                                            disPhenVecHP  \\\n",
       "12407  [0.0, 0.0, 0.0, 0.0, 0.0, 0.0, 0.0, 0.0, 0.0, ...   \n",
       "14460  [0.05224485, 0.17113136, 0.06237527, -0.125073...   \n",
       "7274   [0.04854434, 0.14219971, 0.06581844, -0.120439...   \n",
       "10398  [0.0419743806, 0.167147085, 0.0554940738, -0.1...   \n",
       "3693   [0.0, 0.0, 0.0, 0.0, 0.0, 0.0, 0.0, 0.0, 0.0, ...   \n",
       "\n",
       "                                           chemPhenVecHP  \\\n",
       "12407  [0.0, 0.0, 0.0, 0.0, 0.0, 0.0, 0.0, 0.0, 0.0, ...   \n",
       "14460  [0.0, 0.0, 0.0, 0.0, 0.0, 0.0, 0.0, 0.0, 0.0, ...   \n",
       "7274   [0.0, 0.0, 0.0, 0.0, 0.0, 0.0, 0.0, 0.0, 0.0, ...   \n",
       "10398  [0.0, 0.0, 0.0, 0.0, 0.0, 0.0, 0.0, 0.0, 0.0, ...   \n",
       "3693   [0.0, 0.0, 0.0, 0.0, 0.0, 0.0, 0.0, 0.0, 0.0, ...   \n",
       "\n",
       "                                           chemPhenVecMP  \\\n",
       "12407  [0.0, 0.0, 0.0, 0.0, 0.0, 0.0, 0.0, 0.0, 0.0, ...   \n",
       "14460  [0.0, 0.0, 0.0, 0.0, 0.0, 0.0, 0.0, 0.0, 0.0, ...   \n",
       "7274   [0.0, 0.0, 0.0, 0.0, 0.0, 0.0, 0.0, 0.0, 0.0, ...   \n",
       "10398  [0.0, 0.0, 0.0, 0.0, 0.0, 0.0, 0.0, 0.0, 0.0, ...   \n",
       "3693   [0.0, 0.0, 0.0, 0.0, 0.0, 0.0, 0.0, 0.0, 0.0, ...   \n",
       "\n",
       "                                                CHEBIvec  \\\n",
       "12407  [0.0, 0.0, 0.0, 0.0, 0.0, 0.0, 0.0, 0.0, 0.0, ...   \n",
       "14460  [0.00971474, 0.06020469, 0.02310122, -0.056813...   \n",
       "7274   [0.00497299, 0.05582581, 0.02947761, -0.065771...   \n",
       "10398  [0.00736426, 0.04131737, 0.03052316, -0.040788...   \n",
       "3693   [0.0, 0.0, 0.0, 0.0, 0.0, 0.0, 0.0, 0.0, 0.0, ...   \n",
       "\n",
       "                                                   DOvec  \\\n",
       "12407  [0.01108353, 0.02579284, 0.02297479, -0.030905...   \n",
       "14460  [0.0061767478, 0.042561475, 0.021559397, -0.04...   \n",
       "7274   [0.0223576613, 0.0660833195, 0.0532260239, -0....   \n",
       "10398  [0.01876928, 0.04385401, 0.01897988, -0.052993...   \n",
       "3693   [0.0060772141, 0.027040552, 0.012369524, -0.03...   \n",
       "\n",
       "                                             dis_HINOvec  \\\n",
       "12407  [0.0, 0.0, 0.0, 0.0, 0.0, 0.0, 0.0, 0.0, 0.0, ...   \n",
       "14460  [0.0, 0.0, 0.0, 0.0, 0.0, 0.0, 0.0, 0.0, 0.0, ...   \n",
       "7274   [0.00216777, 0.03575544, 0.01668204, -0.047450...   \n",
       "10398  [0.0, 0.0, 0.0, 0.0, 0.0, 0.0, 0.0, 0.0, 0.0, ...   \n",
       "3693   [0.00885478128, 0.041987747, 0.0208982788, -0....   \n",
       "\n",
       "                                            chem_HINOvec  \\\n",
       "12407  [0.0, 0.0, 0.0, 0.0, 0.0, 0.0, 0.0, 0.0, 0.0, ...   \n",
       "14460  [0.02788606, 0.05563743, 0.02960872, -0.057964...   \n",
       "7274   [0.0103810523, 0.032505367, 0.0141531397, -0.0...   \n",
       "10398  [0.0, 0.0, 0.0, 0.0, 0.0, 0.0, 0.0, 0.0, 0.0, ...   \n",
       "3693   [0.0238118339, 0.0890578777, 0.0379080884, -0....   \n",
       "\n",
       "                                              dis_PROvec  \\\n",
       "12407  [0.01566133, 0.04857548, 0.02970299, -0.043415...   \n",
       "14460  [0.00606101, 0.03981618, 0.03681268, -0.051392...   \n",
       "7274   [0.01809987, 0.0619995, 0.04133413, -0.0556588...   \n",
       "10398  [0.01081047, 0.03728157, 0.02402995, -0.037493...   \n",
       "3693   [0.0102019692, 0.0441244468, 0.0342550427, -0....   \n",
       "\n",
       "                                             chem_PROvec  train   test    val  \n",
       "12407  [0.01412044, 0.06220014, 0.01958289, -0.057440...   True  False  False  \n",
       "14460  [-0.00389806041, 0.177872583, 0.178752482, -0....   True  False  False  \n",
       "7274   [0.02391763, 0.11202934, 0.09044398, -0.124461...   True  False   True  \n",
       "10398  [0.01992319, 0.08258455, 0.04906219, -0.080891...   True  False  False  \n",
       "3693   [0.02629412, 0.23361763, 0.23687215, -0.219725...   True  False   True  "
      ]
     },
     "execution_count": 962,
     "metadata": {},
     "output_type": "execute_result"
    }
   ],
   "source": [
    "df1.sample(5)"
   ]
  },
  {
   "cell_type": "markdown",
   "metadata": {},
   "source": [
    "### 2. Preprocess\n",
    "Now that we have the df ready, let's split it into train/test/validation sets and convert it into numpy arrays so it can be consumed by a Keras NN"
   ]
  },
  {
   "cell_type": "code",
   "execution_count": 921,
   "metadata": {},
   "outputs": [
    {
     "name": "stdout",
     "output_type": "stream",
     "text": [
      "8920\n",
      "(17739, 16)\n"
     ]
    }
   ],
   "source": [
    "print(df1[df1.Correlation == 1].shape[0])\n",
    "print(df1.shape)"
   ]
  },
  {
   "cell_type": "code",
   "execution_count": 922,
   "metadata": {},
   "outputs": [],
   "source": [
    "# del df1['chemPhenVecHP']\n",
    "# del df1['chemPhenVecMP']"
   ]
  },
  {
   "cell_type": "code",
   "execution_count": 924,
   "metadata": {},
   "outputs": [
    {
     "name": "stdout",
     "output_type": "stream",
     "text": [
      "8920\n",
      "8819\n",
      "(17739, 16)\n"
     ]
    }
   ],
   "source": [
    "print(df1[df1.Correlation == 1].shape[0])\n",
    "print(df1[df1.Correlation == 0].shape[0])\n",
    "print(df1.shape)"
   ]
  },
  {
   "cell_type": "code",
   "execution_count": 936,
   "metadata": {},
   "outputs": [],
   "source": [
    "# Version for GoFuncs, DIS-Phens, CHEBI, DO, HINO, PRO\n",
    "# For Keras, need to turn inputs into numpy arrays instead of pandas df\n",
    "# First create single np array of all vecs... not pretty:\n",
    "Dvecs = pd.DataFrame(df1.DVec.values.tolist(), index= df1.index)\n",
    "Cvecs = pd.DataFrame(df1.CVec.values.tolist(), index= df1.index)\n",
    "gofuncs = Dvecs.merge(Cvecs, how='outer', left_index=True, right_index=True)\n",
    "\n",
    "# all_X = Dvecs.merge(Cvecs, how='outer', left_index=True, right_index=True)\n",
    "DMPvecs = pd.DataFrame(df1.disPhenVecHP.values.tolist(), index= df1.index)\n",
    "DHPvecs = pd.DataFrame(df1.disPhenVecMP.values.tolist(), index= df1.index)\n",
    "disPvecs = DMPvecs.merge(DHPvecs, how='outer', left_index=True, right_index=True)\n",
    "all_X = disPvecs.merge(gofuncs, how='outer', left_index=True, right_index=True)\n",
    "\n",
    "CHEBvecs = pd.DataFrame(df1.CHEBIvec.values.tolist(), index = df1.index)\n",
    "all_X = CHEBvecs.merge(all_X, how='outer', left_index=True, right_index=True)\n",
    "\n",
    "DOvecs = pd.DataFrame(df1.DOvec.values.tolist(), index = df1.index)\n",
    "all_X = DOvecs.merge(all_X, how='outer', left_index=True, right_index=True)\n",
    "\n",
    "dHINOvecs = pd.DataFrame(df1.dis_HINOvec.values.tolist(), index=df1.index)\n",
    "cHINOvecs = pd.DataFrame(df1.chem_HINOvec.values.tolist(), index=df1.index)\n",
    "hinovecs = cHINOvecs.merge(dHINOvecs, how='outer', left_index=True, right_index=True)\n",
    "all_X = all_X.merge(hinovecs, how='outer', left_index=True, right_index=True)\n",
    "\n",
    "dPROvecs = pd.DataFrame(df1.dis_PROvec.values.tolist(), index=df1.index)\n",
    "cPROvecs = pd.DataFrame(df1.chem_PROvec.values.tolist(), index=df1.index)\n",
    "PROvecs = cPROvecs.merge(dPROvecs, how='outer', left_index=True, right_index=True)\n",
    "all_X = PROvecs.merge(all_X, how='outer', left_index=True, right_index=True)\n",
    "\n",
    "all_X = np.array(all_X)"
   ]
  },
  {
   "cell_type": "code",
   "execution_count": 940,
   "metadata": {},
   "outputs": [],
   "source": [
    "# Now create np array of the y output\n",
    "all_y = np.array(df1.Correlation)"
   ]
  },
  {
   "cell_type": "code",
   "execution_count": 941,
   "metadata": {},
   "outputs": [
    {
     "name": "stdout",
     "output_type": "stream",
     "text": [
      "y shape:  (17739,)\n",
      "X shape:  (17739, 2000)\n"
     ]
    }
   ],
   "source": [
    "print('y shape: ', all_y.shape)\n",
    "print('X shape: ', all_X.shape)\n",
    "# y shape:  (17675,)\n",
    "# X shape:  (17675, 2000)"
   ]
  },
  {
   "cell_type": "code",
   "execution_count": 943,
   "metadata": {},
   "outputs": [
    {
     "data": {
      "text/html": [
       "<div>\n",
       "<style scoped>\n",
       "    .dataframe tbody tr th:only-of-type {\n",
       "        vertical-align: middle;\n",
       "    }\n",
       "\n",
       "    .dataframe tbody tr th {\n",
       "        vertical-align: top;\n",
       "    }\n",
       "\n",
       "    .dataframe thead th {\n",
       "        text-align: right;\n",
       "    }\n",
       "</style>\n",
       "<table border=\"1\" class=\"dataframe\">\n",
       "  <thead>\n",
       "    <tr style=\"text-align: right;\">\n",
       "      <th></th>\n",
       "      <th>ChemicalID</th>\n",
       "      <th>DiseaseID</th>\n",
       "      <th>DVec</th>\n",
       "      <th>CVec</th>\n",
       "      <th>Correlation</th>\n",
       "      <th>DOID</th>\n",
       "      <th>disPhenVecMP</th>\n",
       "      <th>disPhenVecHP</th>\n",
       "      <th>chemPhenVecHP</th>\n",
       "      <th>chemPhenVecMP</th>\n",
       "      <th>CHEBIvec</th>\n",
       "      <th>DOvec</th>\n",
       "      <th>dis_HINOvec</th>\n",
       "      <th>chem_HINOvec</th>\n",
       "      <th>dis_PROvec</th>\n",
       "      <th>chem_PROvec</th>\n",
       "    </tr>\n",
       "  </thead>\n",
       "  <tbody>\n",
       "    <tr>\n",
       "      <th>11676</th>\n",
       "      <td>D004976</td>\n",
       "      <td>OMIM:616029</td>\n",
       "      <td>[0.01110281, 0.1308181, 0.04154986, -0.1199143...</td>\n",
       "      <td>[-0.01413547, 0.08303787, -0.01955403, -0.1131...</td>\n",
       "      <td>0</td>\n",
       "      <td>nan</td>\n",
       "      <td>[0.0, 0.0, 0.0, 0.0, 0.0, 0.0, 0.0, 0.0, 0.0, ...</td>\n",
       "      <td>[0.0, 0.0, 0.0, 0.0, 0.0, 0.0, 0.0, 0.0, 0.0, ...</td>\n",
       "      <td>[0.0, 0.0, 0.0, 0.0, 0.0, 0.0, 0.0, 0.0, 0.0, ...</td>\n",
       "      <td>[0.0, 0.0, 0.0, 0.0, 0.0, 0.0, 0.0, 0.0, 0.0, ...</td>\n",
       "      <td>[-0.0105681615, 0.0655511394, 0.0389601327, -0...</td>\n",
       "      <td>[0.00407805, 0.01086104, 0.00906756, -0.011142...</td>\n",
       "      <td>[0.0, 0.0, 0.0, 0.0, 0.0, 0.0, 0.0, 0.0, 0.0, ...</td>\n",
       "      <td>[0.01234934, 0.04246313, 0.02713044, -0.038481...</td>\n",
       "      <td>[0.0195394214, 0.0614561625, 0.0311379563, -0....</td>\n",
       "      <td>[0.00306525035, 0.0314503983, 0.0225284826, -0...</td>\n",
       "    </tr>\n",
       "    <tr>\n",
       "      <th>3408</th>\n",
       "      <td>D012822</td>\n",
       "      <td>MESH:D007249</td>\n",
       "      <td>[-0.0277476925, 0.0750728771, -0.0467409752, -...</td>\n",
       "      <td>[-0.02130347, 0.12069956, -0.0284533, -0.16649...</td>\n",
       "      <td>1</td>\n",
       "      <td>nan</td>\n",
       "      <td>[0.0, 0.0, 0.0, 0.0, 0.0, 0.0, 0.0, 0.0, 0.0, ...</td>\n",
       "      <td>[0.0, 0.0, 0.0, 0.0, 0.0, 0.0, 0.0, 0.0, 0.0, ...</td>\n",
       "      <td>[0.0, 0.0, 0.0, 0.0, 0.0, 0.0, 0.0, 0.0, 0.0, ...</td>\n",
       "      <td>[0.0, 0.0, 0.0, 0.0, 0.0, 0.0, 0.0, 0.0, 0.0, ...</td>\n",
       "      <td>[0.01334718, 0.05003666, 0.03613209, -0.063900...</td>\n",
       "      <td>[0.00287144678, 0.00431187358, 0.00524504948, ...</td>\n",
       "      <td>[0.00588627, 0.03549788, 0.02160759, -0.041763...</td>\n",
       "      <td>[0.0213766, 0.07985521, 0.04007628, -0.0768351...</td>\n",
       "      <td>[0.0147975, 0.11409546, 0.08489356, -0.0961316...</td>\n",
       "      <td>[0.0451346003, 0.158171102, 0.10044241, -0.135...</td>\n",
       "    </tr>\n",
       "    <tr>\n",
       "      <th>11978</th>\n",
       "      <td>D003999</td>\n",
       "      <td>OMIM:602032</td>\n",
       "      <td>[0.020248726, 0.102991901, 0.043994803, -0.113...</td>\n",
       "      <td>[-0.05105152, 0.01829539, -0.1720042, -0.10613...</td>\n",
       "      <td>0</td>\n",
       "      <td>nan</td>\n",
       "      <td>[0.0, 0.0, 0.0, 0.0, 0.0, 0.0, 0.0, 0.0, 0.0, ...</td>\n",
       "      <td>[0.0, 0.0, 0.0, 0.0, 0.0, 0.0, 0.0, 0.0, 0.0, ...</td>\n",
       "      <td>[0.0, 0.0, 0.0, 0.0, 0.0, 0.0, 0.0, 0.0, 0.0, ...</td>\n",
       "      <td>[0.0, 0.0, 0.0, 0.0, 0.0, 0.0, 0.0, 0.0, 0.0, ...</td>\n",
       "      <td>[-0.00026532, 0.05962338, 0.03326733, -0.06779...</td>\n",
       "      <td>[-0.00168685988, 0.010406238, 0.00898917764, -...</td>\n",
       "      <td>[0.0, 0.0, 0.0, 0.0, 0.0, 0.0, 0.0, 0.0, 0.0, ...</td>\n",
       "      <td>[0.01564022, 0.08462708, 0.03893205, -0.088779...</td>\n",
       "      <td>[0.0121956, 0.05512463, 0.02447045, -0.0492384...</td>\n",
       "      <td>[0.01132234, 0.18855645, 0.18929744, -0.172771...</td>\n",
       "    </tr>\n",
       "  </tbody>\n",
       "</table>\n",
       "</div>"
      ],
      "text/plain": [
       "      ChemicalID     DiseaseID  \\\n",
       "11676    D004976   OMIM:616029   \n",
       "3408     D012822  MESH:D007249   \n",
       "11978    D003999   OMIM:602032   \n",
       "\n",
       "                                                    DVec  \\\n",
       "11676  [0.01110281, 0.1308181, 0.04154986, -0.1199143...   \n",
       "3408   [-0.0277476925, 0.0750728771, -0.0467409752, -...   \n",
       "11978  [0.020248726, 0.102991901, 0.043994803, -0.113...   \n",
       "\n",
       "                                                    CVec  Correlation DOID  \\\n",
       "11676  [-0.01413547, 0.08303787, -0.01955403, -0.1131...            0  nan   \n",
       "3408   [-0.02130347, 0.12069956, -0.0284533, -0.16649...            1  nan   \n",
       "11978  [-0.05105152, 0.01829539, -0.1720042, -0.10613...            0  nan   \n",
       "\n",
       "                                            disPhenVecMP  \\\n",
       "11676  [0.0, 0.0, 0.0, 0.0, 0.0, 0.0, 0.0, 0.0, 0.0, ...   \n",
       "3408   [0.0, 0.0, 0.0, 0.0, 0.0, 0.0, 0.0, 0.0, 0.0, ...   \n",
       "11978  [0.0, 0.0, 0.0, 0.0, 0.0, 0.0, 0.0, 0.0, 0.0, ...   \n",
       "\n",
       "                                            disPhenVecHP  \\\n",
       "11676  [0.0, 0.0, 0.0, 0.0, 0.0, 0.0, 0.0, 0.0, 0.0, ...   \n",
       "3408   [0.0, 0.0, 0.0, 0.0, 0.0, 0.0, 0.0, 0.0, 0.0, ...   \n",
       "11978  [0.0, 0.0, 0.0, 0.0, 0.0, 0.0, 0.0, 0.0, 0.0, ...   \n",
       "\n",
       "                                           chemPhenVecHP  \\\n",
       "11676  [0.0, 0.0, 0.0, 0.0, 0.0, 0.0, 0.0, 0.0, 0.0, ...   \n",
       "3408   [0.0, 0.0, 0.0, 0.0, 0.0, 0.0, 0.0, 0.0, 0.0, ...   \n",
       "11978  [0.0, 0.0, 0.0, 0.0, 0.0, 0.0, 0.0, 0.0, 0.0, ...   \n",
       "\n",
       "                                           chemPhenVecMP  \\\n",
       "11676  [0.0, 0.0, 0.0, 0.0, 0.0, 0.0, 0.0, 0.0, 0.0, ...   \n",
       "3408   [0.0, 0.0, 0.0, 0.0, 0.0, 0.0, 0.0, 0.0, 0.0, ...   \n",
       "11978  [0.0, 0.0, 0.0, 0.0, 0.0, 0.0, 0.0, 0.0, 0.0, ...   \n",
       "\n",
       "                                                CHEBIvec  \\\n",
       "11676  [-0.0105681615, 0.0655511394, 0.0389601327, -0...   \n",
       "3408   [0.01334718, 0.05003666, 0.03613209, -0.063900...   \n",
       "11978  [-0.00026532, 0.05962338, 0.03326733, -0.06779...   \n",
       "\n",
       "                                                   DOvec  \\\n",
       "11676  [0.00407805, 0.01086104, 0.00906756, -0.011142...   \n",
       "3408   [0.00287144678, 0.00431187358, 0.00524504948, ...   \n",
       "11978  [-0.00168685988, 0.010406238, 0.00898917764, -...   \n",
       "\n",
       "                                             dis_HINOvec  \\\n",
       "11676  [0.0, 0.0, 0.0, 0.0, 0.0, 0.0, 0.0, 0.0, 0.0, ...   \n",
       "3408   [0.00588627, 0.03549788, 0.02160759, -0.041763...   \n",
       "11978  [0.0, 0.0, 0.0, 0.0, 0.0, 0.0, 0.0, 0.0, 0.0, ...   \n",
       "\n",
       "                                            chem_HINOvec  \\\n",
       "11676  [0.01234934, 0.04246313, 0.02713044, -0.038481...   \n",
       "3408   [0.0213766, 0.07985521, 0.04007628, -0.0768351...   \n",
       "11978  [0.01564022, 0.08462708, 0.03893205, -0.088779...   \n",
       "\n",
       "                                              dis_PROvec  \\\n",
       "11676  [0.0195394214, 0.0614561625, 0.0311379563, -0....   \n",
       "3408   [0.0147975, 0.11409546, 0.08489356, -0.0961316...   \n",
       "11978  [0.0121956, 0.05512463, 0.02447045, -0.0492384...   \n",
       "\n",
       "                                             chem_PROvec  \n",
       "11676  [0.00306525035, 0.0314503983, 0.0225284826, -0...  \n",
       "3408   [0.0451346003, 0.158171102, 0.10044241, -0.135...  \n",
       "11978  [0.01132234, 0.18855645, 0.18929744, -0.172771...  "
      ]
     },
     "execution_count": 943,
     "metadata": {},
     "output_type": "execute_result"
    }
   ],
   "source": [
    "df1.sample(3)"
   ]
  },
  {
   "cell_type": "code",
   "execution_count": 944,
   "metadata": {},
   "outputs": [
    {
     "name": "stdout",
     "output_type": "stream",
     "text": [
      "number of chemicals:  586\n",
      "number of dis:  2492\n",
      "469 117 117\n"
     ]
    }
   ],
   "source": [
    "# Split into train, test, val BY CHEMICAL instead of by random rows\n",
    "print('number of chemicals: ', len(df1.ChemicalID.unique()))\n",
    "print('number of dis: ', len(df1.DiseaseID.unique()))\n",
    "chems = list(df1.ChemicalID.unique())\n",
    "random.shuffle(chems)\n",
    "\n",
    "total_chems = len(chems)\n",
    "train_chems = chems[:round(total_chems * .6)]\n",
    "test_chems = chems[round(total_chems * .6):round(total_chems * .8)]\n",
    "val_chems = chems[round(total_chems * .8):]\n",
    "\n",
    "train_chems = train_chems + val_chems ### NB the validation rows are eaten\n",
    "\n",
    "print(len(train_chems), len(test_chems), len(val_chems))\n",
    "\n",
    "# Now get the row numbers for each set of chemicals \n",
    "# number of chemicals:  586\n",
    "# number of dis:  2504\n",
    "# 352 117 117"
   ]
  },
  {
   "cell_type": "code",
   "execution_count": null,
   "metadata": {},
   "outputs": [],
   "source": []
  },
  {
   "cell_type": "code",
   "execution_count": 945,
   "metadata": {},
   "outputs": [],
   "source": [
    "# # Export the chemical list, this will be used to ensure validation test sets don't overlap with this db\n",
    "# np.savetxt(r'chemsInNN.txt', chems, fmt='%s')"
   ]
  },
  {
   "cell_type": "code",
   "execution_count": 946,
   "metadata": {},
   "outputs": [],
   "source": [
    "df1['train'] = df1.ChemicalID.isin(train_chems)\n",
    "df1['test'] = df1.ChemicalID.isin(test_chems)\n",
    "df1['val'] = df1.ChemicalID.isin(val_chems)"
   ]
  },
  {
   "cell_type": "code",
   "execution_count": 947,
   "metadata": {},
   "outputs": [
    {
     "name": "stdout",
     "output_type": "stream",
     "text": [
      "number of chemicals:  586\n",
      "number of dis:  2492\n"
     ]
    }
   ],
   "source": [
    "# Split by CHEMICAL instead of by random rows\n",
    "print('number of chemicals: ', len(df1.ChemicalID.unique()))\n",
    "print('number of dis: ', len(df1.DiseaseID.unique()))\n",
    "chems = list(df1.ChemicalID.unique())\n",
    "df1 = df1.reset_index()\n",
    "training_rows = df1.index[df1.train == True].tolist()\n",
    "test_rows = df1.index[df1.test == True].tolist()\n",
    "val_rows = df1.index[df1.val == True].tolist()"
   ]
  },
  {
   "cell_type": "code",
   "execution_count": 948,
   "metadata": {},
   "outputs": [],
   "source": [
    "testers = df1[df1.test == True]"
   ]
  },
  {
   "cell_type": "code",
   "execution_count": 949,
   "metadata": {},
   "outputs": [
    {
     "data": {
      "text/html": [
       "<div>\n",
       "<style scoped>\n",
       "    .dataframe tbody tr th:only-of-type {\n",
       "        vertical-align: middle;\n",
       "    }\n",
       "\n",
       "    .dataframe tbody tr th {\n",
       "        vertical-align: top;\n",
       "    }\n",
       "\n",
       "    .dataframe thead th {\n",
       "        text-align: right;\n",
       "    }\n",
       "</style>\n",
       "<table border=\"1\" class=\"dataframe\">\n",
       "  <thead>\n",
       "    <tr style=\"text-align: right;\">\n",
       "      <th></th>\n",
       "      <th>index</th>\n",
       "      <th>ChemicalID</th>\n",
       "      <th>DiseaseID</th>\n",
       "      <th>DVec</th>\n",
       "      <th>CVec</th>\n",
       "      <th>Correlation</th>\n",
       "      <th>DOID</th>\n",
       "      <th>disPhenVecMP</th>\n",
       "      <th>disPhenVecHP</th>\n",
       "      <th>chemPhenVecHP</th>\n",
       "      <th>chemPhenVecMP</th>\n",
       "      <th>CHEBIvec</th>\n",
       "      <th>DOvec</th>\n",
       "      <th>dis_HINOvec</th>\n",
       "      <th>chem_HINOvec</th>\n",
       "      <th>dis_PROvec</th>\n",
       "      <th>chem_PROvec</th>\n",
       "      <th>train</th>\n",
       "      <th>test</th>\n",
       "      <th>val</th>\n",
       "    </tr>\n",
       "  </thead>\n",
       "  <tbody>\n",
       "    <tr>\n",
       "      <th>135</th>\n",
       "      <td>135</td>\n",
       "      <td>D001151</td>\n",
       "      <td>MESH:D006528</td>\n",
       "      <td>[-0.0826218948, 0.0322816819, -0.121060327, -0...</td>\n",
       "      <td>[0.030142, 0.12874685, 0.05916668, -0.1366483,...</td>\n",
       "      <td>1</td>\n",
       "      <td>DOID_684</td>\n",
       "      <td>[0.03717217, 0.14535129, 0.06694908, -0.124857...</td>\n",
       "      <td>[0.0349340774, 0.147659555, 0.0655185208, -0.1...</td>\n",
       "      <td>[0.0, 0.0, 0.0, 0.0, 0.0, 0.0, 0.0, 0.0, 0.0, ...</td>\n",
       "      <td>[0.0, 0.0, 0.0, 0.0, 0.0, 0.0, 0.0, 0.0, 0.0, ...</td>\n",
       "      <td>[0.0, 0.0, 0.0, 0.0, 0.0, 0.0, 0.0, 0.0, 0.0, ...</td>\n",
       "      <td>[-0.00669117, 0.06971597, 0.03065702, -0.06519...</td>\n",
       "      <td>[0.017662406, 0.0882318914, 0.0445542857, -0.0...</td>\n",
       "      <td>[0.01152079, 0.05805393, 0.03004528, -0.044912...</td>\n",
       "      <td>[0.00526265, 0.13656862, 0.10465749, -0.126299...</td>\n",
       "      <td>[0.0268701483, 0.0704930648, 0.0475564972, -0....</td>\n",
       "      <td>False</td>\n",
       "      <td>True</td>\n",
       "      <td>False</td>\n",
       "    </tr>\n",
       "    <tr>\n",
       "      <th>136</th>\n",
       "      <td>136</td>\n",
       "      <td>D001151</td>\n",
       "      <td>MESH:D006529</td>\n",
       "      <td>[-0.02036812, 0.09344074, -0.08194942, -0.1507...</td>\n",
       "      <td>[0.030142, 0.12874685, 0.05916668, -0.1366483,...</td>\n",
       "      <td>1</td>\n",
       "      <td>nan</td>\n",
       "      <td>[0.0, 0.0, 0.0, 0.0, 0.0, 0.0, 0.0, 0.0, 0.0, ...</td>\n",
       "      <td>[0.0, 0.0, 0.0, 0.0, 0.0, 0.0, 0.0, 0.0, 0.0, ...</td>\n",
       "      <td>[0.0, 0.0, 0.0, 0.0, 0.0, 0.0, 0.0, 0.0, 0.0, ...</td>\n",
       "      <td>[0.0, 0.0, 0.0, 0.0, 0.0, 0.0, 0.0, 0.0, 0.0, ...</td>\n",
       "      <td>[0.0, 0.0, 0.0, 0.0, 0.0, 0.0, 0.0, 0.0, 0.0, ...</td>\n",
       "      <td>[0.00442429, 0.02501368, 0.01620419, -0.024251...</td>\n",
       "      <td>[0.0262603536, 0.0958174169, 0.0440592952, -0....</td>\n",
       "      <td>[0.01152079, 0.05805393, 0.03004528, -0.044912...</td>\n",
       "      <td>[0.0273059886, 0.13361977, 0.0845196024, -0.13...</td>\n",
       "      <td>[0.0268701483, 0.0704930648, 0.0475564972, -0....</td>\n",
       "      <td>False</td>\n",
       "      <td>True</td>\n",
       "      <td>False</td>\n",
       "    </tr>\n",
       "    <tr>\n",
       "      <th>137</th>\n",
       "      <td>137</td>\n",
       "      <td>D001151</td>\n",
       "      <td>MESH:D006965</td>\n",
       "      <td>[0.01746579, 0.14595346, 0.05720224, -0.153178...</td>\n",
       "      <td>[0.030142, 0.12874685, 0.05916668, -0.1366483,...</td>\n",
       "      <td>1</td>\n",
       "      <td>nan</td>\n",
       "      <td>[0.0, 0.0, 0.0, 0.0, 0.0, 0.0, 0.0, 0.0, 0.0, ...</td>\n",
       "      <td>[0.0, 0.0, 0.0, 0.0, 0.0, 0.0, 0.0, 0.0, 0.0, ...</td>\n",
       "      <td>[0.0, 0.0, 0.0, 0.0, 0.0, 0.0, 0.0, 0.0, 0.0, ...</td>\n",
       "      <td>[0.0, 0.0, 0.0, 0.0, 0.0, 0.0, 0.0, 0.0, 0.0, ...</td>\n",
       "      <td>[0.0, 0.0, 0.0, 0.0, 0.0, 0.0, 0.0, 0.0, 0.0, ...</td>\n",
       "      <td>[0.00854880922, 0.0434569977, 0.0188593101, -0...</td>\n",
       "      <td>[0.01259711, 0.04299367, 0.02412725, -0.042730...</td>\n",
       "      <td>[0.01152079, 0.05805393, 0.03004528, -0.044912...</td>\n",
       "      <td>[0.00861423835, 0.0521622188, 0.0352579467, -0...</td>\n",
       "      <td>[0.0268701483, 0.0704930648, 0.0475564972, -0....</td>\n",
       "      <td>False</td>\n",
       "      <td>True</td>\n",
       "      <td>False</td>\n",
       "    </tr>\n",
       "    <tr>\n",
       "      <th>138</th>\n",
       "      <td>138</td>\n",
       "      <td>D001151</td>\n",
       "      <td>MESH:D007859</td>\n",
       "      <td>[-0.01181277, 0.10171013, -0.00727475, -0.1292...</td>\n",
       "      <td>[0.030142, 0.12874685, 0.05916668, -0.1366483,...</td>\n",
       "      <td>1</td>\n",
       "      <td>DOID_8927</td>\n",
       "      <td>[0.00977632776, 0.0837049186, 0.0411540754, -0...</td>\n",
       "      <td>[0.03334394, 0.15838003, 0.06624279, -0.129232...</td>\n",
       "      <td>[0.0, 0.0, 0.0, 0.0, 0.0, 0.0, 0.0, 0.0, 0.0, ...</td>\n",
       "      <td>[0.0, 0.0, 0.0, 0.0, 0.0, 0.0, 0.0, 0.0, 0.0, ...</td>\n",
       "      <td>[0.0, 0.0, 0.0, 0.0, 0.0, 0.0, 0.0, 0.0, 0.0, ...</td>\n",
       "      <td>[0.0243733507, 0.0613955259, 0.0312294979, -0....</td>\n",
       "      <td>[0.00565458, 0.04158513, 0.02313795, -0.051488...</td>\n",
       "      <td>[0.01152079, 0.05805393, 0.03004528, -0.044912...</td>\n",
       "      <td>[0.01341004, 0.09400155, 0.05519716, -0.064768...</td>\n",
       "      <td>[0.0268701483, 0.0704930648, 0.0475564972, -0....</td>\n",
       "      <td>False</td>\n",
       "      <td>True</td>\n",
       "      <td>False</td>\n",
       "    </tr>\n",
       "    <tr>\n",
       "      <th>139</th>\n",
       "      <td>139</td>\n",
       "      <td>D001151</td>\n",
       "      <td>MESH:D008107</td>\n",
       "      <td>[-0.051334165, 0.102005176, -0.123613983, -0.1...</td>\n",
       "      <td>[0.030142, 0.12874685, 0.05916668, -0.1366483,...</td>\n",
       "      <td>1</td>\n",
       "      <td>DOID_409</td>\n",
       "      <td>[0.03211775, 0.11817781, 0.05308362, -0.127228...</td>\n",
       "      <td>[0.03109402, 0.14638369, 0.06144669, -0.120720...</td>\n",
       "      <td>[0.0, 0.0, 0.0, 0.0, 0.0, 0.0, 0.0, 0.0, 0.0, ...</td>\n",
       "      <td>[0.0, 0.0, 0.0, 0.0, 0.0, 0.0, 0.0, 0.0, 0.0, ...</td>\n",
       "      <td>[0.0, 0.0, 0.0, 0.0, 0.0, 0.0, 0.0, 0.0, 0.0, ...</td>\n",
       "      <td>[0.02640878, 0.06983079, 0.03131083, -0.071272...</td>\n",
       "      <td>[0.02112234, 0.08956511, 0.034652, -0.09259173...</td>\n",
       "      <td>[0.01152079, 0.05805393, 0.03004528, -0.044912...</td>\n",
       "      <td>[0.018974429, 0.137680769, 0.108466499, -0.131...</td>\n",
       "      <td>[0.0268701483, 0.0704930648, 0.0475564972, -0....</td>\n",
       "      <td>False</td>\n",
       "      <td>True</td>\n",
       "      <td>False</td>\n",
       "    </tr>\n",
       "  </tbody>\n",
       "</table>\n",
       "</div>"
      ],
      "text/plain": [
       "     index ChemicalID     DiseaseID  \\\n",
       "135    135    D001151  MESH:D006528   \n",
       "136    136    D001151  MESH:D006529   \n",
       "137    137    D001151  MESH:D006965   \n",
       "138    138    D001151  MESH:D007859   \n",
       "139    139    D001151  MESH:D008107   \n",
       "\n",
       "                                                  DVec  \\\n",
       "135  [-0.0826218948, 0.0322816819, -0.121060327, -0...   \n",
       "136  [-0.02036812, 0.09344074, -0.08194942, -0.1507...   \n",
       "137  [0.01746579, 0.14595346, 0.05720224, -0.153178...   \n",
       "138  [-0.01181277, 0.10171013, -0.00727475, -0.1292...   \n",
       "139  [-0.051334165, 0.102005176, -0.123613983, -0.1...   \n",
       "\n",
       "                                                  CVec  Correlation  \\\n",
       "135  [0.030142, 0.12874685, 0.05916668, -0.1366483,...            1   \n",
       "136  [0.030142, 0.12874685, 0.05916668, -0.1366483,...            1   \n",
       "137  [0.030142, 0.12874685, 0.05916668, -0.1366483,...            1   \n",
       "138  [0.030142, 0.12874685, 0.05916668, -0.1366483,...            1   \n",
       "139  [0.030142, 0.12874685, 0.05916668, -0.1366483,...            1   \n",
       "\n",
       "          DOID                                       disPhenVecMP  \\\n",
       "135   DOID_684  [0.03717217, 0.14535129, 0.06694908, -0.124857...   \n",
       "136        nan  [0.0, 0.0, 0.0, 0.0, 0.0, 0.0, 0.0, 0.0, 0.0, ...   \n",
       "137        nan  [0.0, 0.0, 0.0, 0.0, 0.0, 0.0, 0.0, 0.0, 0.0, ...   \n",
       "138  DOID_8927  [0.00977632776, 0.0837049186, 0.0411540754, -0...   \n",
       "139   DOID_409  [0.03211775, 0.11817781, 0.05308362, -0.127228...   \n",
       "\n",
       "                                          disPhenVecHP  \\\n",
       "135  [0.0349340774, 0.147659555, 0.0655185208, -0.1...   \n",
       "136  [0.0, 0.0, 0.0, 0.0, 0.0, 0.0, 0.0, 0.0, 0.0, ...   \n",
       "137  [0.0, 0.0, 0.0, 0.0, 0.0, 0.0, 0.0, 0.0, 0.0, ...   \n",
       "138  [0.03334394, 0.15838003, 0.06624279, -0.129232...   \n",
       "139  [0.03109402, 0.14638369, 0.06144669, -0.120720...   \n",
       "\n",
       "                                         chemPhenVecHP  \\\n",
       "135  [0.0, 0.0, 0.0, 0.0, 0.0, 0.0, 0.0, 0.0, 0.0, ...   \n",
       "136  [0.0, 0.0, 0.0, 0.0, 0.0, 0.0, 0.0, 0.0, 0.0, ...   \n",
       "137  [0.0, 0.0, 0.0, 0.0, 0.0, 0.0, 0.0, 0.0, 0.0, ...   \n",
       "138  [0.0, 0.0, 0.0, 0.0, 0.0, 0.0, 0.0, 0.0, 0.0, ...   \n",
       "139  [0.0, 0.0, 0.0, 0.0, 0.0, 0.0, 0.0, 0.0, 0.0, ...   \n",
       "\n",
       "                                         chemPhenVecMP  \\\n",
       "135  [0.0, 0.0, 0.0, 0.0, 0.0, 0.0, 0.0, 0.0, 0.0, ...   \n",
       "136  [0.0, 0.0, 0.0, 0.0, 0.0, 0.0, 0.0, 0.0, 0.0, ...   \n",
       "137  [0.0, 0.0, 0.0, 0.0, 0.0, 0.0, 0.0, 0.0, 0.0, ...   \n",
       "138  [0.0, 0.0, 0.0, 0.0, 0.0, 0.0, 0.0, 0.0, 0.0, ...   \n",
       "139  [0.0, 0.0, 0.0, 0.0, 0.0, 0.0, 0.0, 0.0, 0.0, ...   \n",
       "\n",
       "                                              CHEBIvec  \\\n",
       "135  [0.0, 0.0, 0.0, 0.0, 0.0, 0.0, 0.0, 0.0, 0.0, ...   \n",
       "136  [0.0, 0.0, 0.0, 0.0, 0.0, 0.0, 0.0, 0.0, 0.0, ...   \n",
       "137  [0.0, 0.0, 0.0, 0.0, 0.0, 0.0, 0.0, 0.0, 0.0, ...   \n",
       "138  [0.0, 0.0, 0.0, 0.0, 0.0, 0.0, 0.0, 0.0, 0.0, ...   \n",
       "139  [0.0, 0.0, 0.0, 0.0, 0.0, 0.0, 0.0, 0.0, 0.0, ...   \n",
       "\n",
       "                                                 DOvec  \\\n",
       "135  [-0.00669117, 0.06971597, 0.03065702, -0.06519...   \n",
       "136  [0.00442429, 0.02501368, 0.01620419, -0.024251...   \n",
       "137  [0.00854880922, 0.0434569977, 0.0188593101, -0...   \n",
       "138  [0.0243733507, 0.0613955259, 0.0312294979, -0....   \n",
       "139  [0.02640878, 0.06983079, 0.03131083, -0.071272...   \n",
       "\n",
       "                                           dis_HINOvec  \\\n",
       "135  [0.017662406, 0.0882318914, 0.0445542857, -0.0...   \n",
       "136  [0.0262603536, 0.0958174169, 0.0440592952, -0....   \n",
       "137  [0.01259711, 0.04299367, 0.02412725, -0.042730...   \n",
       "138  [0.00565458, 0.04158513, 0.02313795, -0.051488...   \n",
       "139  [0.02112234, 0.08956511, 0.034652, -0.09259173...   \n",
       "\n",
       "                                          chem_HINOvec  \\\n",
       "135  [0.01152079, 0.05805393, 0.03004528, -0.044912...   \n",
       "136  [0.01152079, 0.05805393, 0.03004528, -0.044912...   \n",
       "137  [0.01152079, 0.05805393, 0.03004528, -0.044912...   \n",
       "138  [0.01152079, 0.05805393, 0.03004528, -0.044912...   \n",
       "139  [0.01152079, 0.05805393, 0.03004528, -0.044912...   \n",
       "\n",
       "                                            dis_PROvec  \\\n",
       "135  [0.00526265, 0.13656862, 0.10465749, -0.126299...   \n",
       "136  [0.0273059886, 0.13361977, 0.0845196024, -0.13...   \n",
       "137  [0.00861423835, 0.0521622188, 0.0352579467, -0...   \n",
       "138  [0.01341004, 0.09400155, 0.05519716, -0.064768...   \n",
       "139  [0.018974429, 0.137680769, 0.108466499, -0.131...   \n",
       "\n",
       "                                           chem_PROvec  train  test    val  \n",
       "135  [0.0268701483, 0.0704930648, 0.0475564972, -0....  False  True  False  \n",
       "136  [0.0268701483, 0.0704930648, 0.0475564972, -0....  False  True  False  \n",
       "137  [0.0268701483, 0.0704930648, 0.0475564972, -0....  False  True  False  \n",
       "138  [0.0268701483, 0.0704930648, 0.0475564972, -0....  False  True  False  \n",
       "139  [0.0268701483, 0.0704930648, 0.0475564972, -0....  False  True  False  "
      ]
     },
     "execution_count": 949,
     "metadata": {},
     "output_type": "execute_result"
    }
   ],
   "source": [
    "testers.head()"
   ]
  },
  {
   "cell_type": "code",
   "execution_count": 950,
   "metadata": {},
   "outputs": [
    {
     "name": "stdout",
     "output_type": "stream",
     "text": [
      "14287 3452 3775\n"
     ]
    }
   ],
   "source": [
    "# Split into train, test, val\n",
    "X_train, X_test, X_val = all_X[training_rows], all_X[test_rows], all_X[val_rows]\n",
    "y_train, y_test, y_val = all_y[training_rows], all_y[test_rows], all_y[val_rows]\n",
    "\n",
    "print(len(training_rows), len(test_rows), len(val_rows))"
   ]
  },
  {
   "cell_type": "code",
   "execution_count": 967,
   "metadata": {},
   "outputs": [],
   "source": [
    "from sklearn.model_selection import train_test_split, StratifiedKFold\n",
    "folds = list(StratifiedKFold(n_splits=5, shuffle=True, random_state=1).split(X_train, y_train))"
   ]
  },
  {
   "cell_type": "code",
   "execution_count": 968,
   "metadata": {},
   "outputs": [],
   "source": [
    "# # Split into train, test, val --> OLD WAY\n",
    "# X_train, X_test, y_train, y_test = train_test_split(all_X, all_y, test_size=0.2, random_state=1606)\n",
    "# X_train, X_val, y_train, y_val = train_test_split(X_train, y_train, test_size=0.2, random_state=1606)"
   ]
  },
  {
   "cell_type": "markdown",
   "metadata": {},
   "source": [
    "### 3. Establish NN Model"
   ]
  },
  {
   "cell_type": "code",
   "execution_count": 969,
   "metadata": {},
   "outputs": [],
   "source": [
    "# 1. Establish the model architecture\n",
    "#it's safe to say that I don't know what I'm doing here\n",
    "model = keras.Sequential([\n",
    "#     keras.layers.Dense(400, activation=tf.nn.relu), \n",
    "    keras.layers.Flatten(input_shape=[2000]),\n",
    "    keras.layers.Dense(200, activation=tf.nn.relu),\n",
    "    keras.layers.Dense(60, activation=tf.nn.relu),\n",
    "    keras.layers.Dense(10, activation=tf.nn.relu),\n",
    "    keras.layers.Dense(1, activation=tf.nn.sigmoid)\n",
    "])"
   ]
  },
  {
   "cell_type": "code",
   "execution_count": 970,
   "metadata": {},
   "outputs": [],
   "source": [
    "# 2. Compile the model (give it loss func, optimise func and eval metric)\n",
    "model.compile(optimizer=tf.train.AdamOptimizer(), # determines how the model is adapted based on loss func\n",
    "              loss='binary_crossentropy', # measure of accuracy during training\n",
    "              metrics=['accuracy']) # measure for train and testing steps "
   ]
  },
  {
   "cell_type": "code",
   "execution_count": 971,
   "metadata": {},
   "outputs": [],
   "source": [
    "# Pre-training, set up training params\n",
    "earlystop = keras.callbacks.EarlyStopping(monitor='val_loss', min_delta=0, patience=0, verbose=0, mode='auto', baseline=None)"
   ]
  },
  {
   "cell_type": "code",
   "execution_count": 972,
   "metadata": {},
   "outputs": [
    {
     "name": "stdout",
     "output_type": "stream",
     "text": [
      "\n",
      "Fold  0\n",
      "Epoch 1/10\n",
      "11428/11428 [==============================] - 3s 236us/step - loss: 0.5152 - acc: 0.7495\n",
      "Epoch 2/10\n",
      "11428/11428 [==============================] - 2s 162us/step - loss: 0.4558 - acc: 0.7890\n",
      "Epoch 3/10\n",
      "11428/11428 [==============================] - 2s 135us/step - loss: 0.4253 - acc: 0.8085\n",
      "Epoch 4/10\n",
      "11428/11428 [==============================] - 2s 137us/step - loss: 0.4087 - acc: 0.8175\n",
      "Epoch 5/10\n",
      "11428/11428 [==============================] - 2s 143us/step - loss: 0.3833 - acc: 0.8295\n",
      "Epoch 6/10\n",
      "11428/11428 [==============================] - 2s 134us/step - loss: 0.3589 - acc: 0.8463\n",
      "Epoch 7/10\n",
      "11428/11428 [==============================] - 2s 135us/step - loss: 0.3562 - acc: 0.8426\n",
      "Epoch 8/10\n",
      "11428/11428 [==============================] - 2s 135us/step - loss: 0.3370 - acc: 0.8550\n",
      "Epoch 9/10\n",
      "11428/11428 [==============================] - 2s 164us/step - loss: 0.3350 - acc: 0.8554\n",
      "Epoch 10/10\n",
      "11428/11428 [==============================] - 2s 196us/step - loss: 0.3243 - acc: 0.8630\n",
      "3452/3452 [==============================] - 1s 165us/step\n",
      "Test accuracy: 0.8453070681589642\n",
      "ROC AUC:  0.9222606018427819\n",
      "\n",
      "Fold  1\n",
      "Epoch 1/10\n",
      "11430/11430 [==============================] - 2s 183us/step - loss: 0.3089 - acc: 0.8681\n",
      "Epoch 2/10\n",
      "11430/11430 [==============================] - 2s 186us/step - loss: 0.3104 - acc: 0.8736\n",
      "Epoch 3/10\n",
      "11430/11430 [==============================] - 2s 176us/step - loss: 0.2965 - acc: 0.8744\n",
      "Epoch 4/10\n",
      "11430/11430 [==============================] - 2s 179us/step - loss: 0.2867 - acc: 0.8813\n",
      "Epoch 5/10\n",
      "11430/11430 [==============================] - 2s 180us/step - loss: 0.2828 - acc: 0.8821\n",
      "Epoch 6/10\n",
      "11430/11430 [==============================] - 2s 175us/step - loss: 0.2666 - acc: 0.8904\n",
      "Epoch 7/10\n",
      "11430/11430 [==============================] - 2s 176us/step - loss: 0.2700 - acc: 0.8873\n",
      "Epoch 8/10\n",
      "11430/11430 [==============================] - 2s 175us/step - loss: 0.2698 - acc: 0.8887\n",
      "Epoch 9/10\n",
      "11430/11430 [==============================] - 2s 181us/step - loss: 0.2607 - acc: 0.8927\n",
      "Epoch 10/10\n",
      "11430/11430 [==============================] - 2s 175us/step - loss: 0.2576 - acc: 0.8942\n",
      "3452/3452 [==============================] - 0s 96us/step\n",
      "Test accuracy: 0.8519698725376593\n",
      "ROC AUC:  0.92823978006786\n",
      "\n",
      "Fold  2\n",
      "Epoch 1/10\n",
      "11430/11430 [==============================] - 2s 173us/step - loss: 0.2628 - acc: 0.8921\n",
      "Epoch 2/10\n",
      "11430/11430 [==============================] - 2s 174us/step - loss: 0.2491 - acc: 0.8964\n",
      "Epoch 3/10\n",
      "11430/11430 [==============================] - 2s 173us/step - loss: 0.2500 - acc: 0.8980\n",
      "Epoch 4/10\n",
      "11430/11430 [==============================] - 2s 175us/step - loss: 0.2452 - acc: 0.9027\n",
      "Epoch 5/10\n",
      "11430/11430 [==============================] - 2s 175us/step - loss: 0.2472 - acc: 0.9010\n",
      "Epoch 6/10\n",
      "11430/11430 [==============================] - 2s 177us/step - loss: 0.2416 - acc: 0.9026\n",
      "Epoch 7/10\n",
      "11430/11430 [==============================] - 2s 177us/step - loss: 0.2289 - acc: 0.9087\n",
      "Epoch 8/10\n",
      "11430/11430 [==============================] - 2s 176us/step - loss: 0.2309 - acc: 0.9067\n",
      "Epoch 9/10\n",
      "11430/11430 [==============================] - 2s 176us/step - loss: 0.2251 - acc: 0.9084\n",
      "Epoch 10/10\n",
      "11430/11430 [==============================] - 2s 177us/step - loss: 0.2206 - acc: 0.9095\n",
      "3452/3452 [==============================] - 0s 94us/step\n",
      "Test accuracy: 0.8174971030595543\n",
      "ROC AUC:  0.9343493422164661\n",
      "\n",
      "Fold  3\n",
      "Epoch 1/10\n",
      "11430/11430 [==============================] - 2s 170us/step - loss: 0.2320 - acc: 0.9061\n",
      "Epoch 2/10\n",
      "11430/11430 [==============================] - 2s 190us/step - loss: 0.2229 - acc: 0.9108\n",
      "Epoch 3/10\n",
      "11430/11430 [==============================] - 2s 179us/step - loss: 0.2260 - acc: 0.9098\n",
      "Epoch 4/10\n",
      "11430/11430 [==============================] - 2s 176us/step - loss: 0.2178 - acc: 0.9132\n",
      "Epoch 5/10\n",
      "11430/11430 [==============================] - 2s 176us/step - loss: 0.2133 - acc: 0.9182\n",
      "Epoch 6/10\n",
      "11430/11430 [==============================] - 2s 174us/step - loss: 0.2187 - acc: 0.9118\n",
      "Epoch 7/10\n",
      "11430/11430 [==============================] - 2s 174us/step - loss: 0.2046 - acc: 0.9193\n",
      "Epoch 8/10\n",
      "11430/11430 [==============================] - 2s 176us/step - loss: 0.2094 - acc: 0.9171\n",
      "Epoch 9/10\n",
      "11430/11430 [==============================] - 2s 176us/step - loss: 0.2025 - acc: 0.9220\n",
      "Epoch 10/10\n",
      "11430/11430 [==============================] - 2s 176us/step - loss: 0.1957 - acc: 0.9238\n",
      "3452/3452 [==============================] - 0s 94us/step\n",
      "Test accuracy: 0.8557358055374438\n",
      "ROC AUC:  0.934162503398215\n",
      "\n",
      "Fold  4\n",
      "Epoch 1/10\n",
      "11430/11430 [==============================] - 2s 173us/step - loss: 0.2076 - acc: 0.9184\n",
      "Epoch 2/10\n",
      "11430/11430 [==============================] - 2s 173us/step - loss: 0.2045 - acc: 0.9179\n",
      "Epoch 3/10\n",
      "11430/11430 [==============================] - 2s 174us/step - loss: 0.1955 - acc: 0.9237\n",
      "Epoch 4/10\n",
      "11430/11430 [==============================] - 2s 175us/step - loss: 0.1987 - acc: 0.9203\n",
      "Epoch 5/10\n",
      "11430/11430 [==============================] - 2s 174us/step - loss: 0.1886 - acc: 0.9251\n",
      "Epoch 6/10\n",
      "11430/11430 [==============================] - 2s 199us/step - loss: 0.1891 - acc: 0.9227\n",
      "Epoch 7/10\n",
      "11430/11430 [==============================] - 2s 181us/step - loss: 0.1944 - acc: 0.9222\n",
      "Epoch 8/10\n",
      "11430/11430 [==============================] - 2s 175us/step - loss: 0.1801 - acc: 0.9274\n",
      "Epoch 9/10\n",
      "11430/11430 [==============================] - 2s 172us/step - loss: 0.1857 - acc: 0.9240\n",
      "Epoch 10/10\n",
      "11430/11430 [==============================] - 2s 174us/step - loss: 0.1851 - acc: 0.9283\n",
      "3452/3452 [==============================] - 0s 95us/step\n",
      "Test accuracy: 0.8525492468134415\n",
      "ROC AUC:  0.91905745864931\n"
     ]
    }
   ],
   "source": [
    "for j, (train_idx, val_idx) in enumerate(folds):\n",
    "    \n",
    "    print('\\nFold ',j, train_idx, val_idx)\n",
    "    X_train_cv = X_train[train_idx]\n",
    "    y_train_cv = y_train[train_idx]\n",
    "    X_valid_cv = X_train[val_idx]\n",
    "    y_valid_cv= y_train[val_idx]\n",
    "    \n",
    "    name_weights = \"final_model_fold\" + str(j) + \"_weights.h5\"\n",
    "#     callbacks = get_callbacks(name_weights = name_weights, patience_lr=10)\n",
    "#     generator = gen.flow(X_train_cv, y_train_cv, batch_size = batch_size)\n",
    "#     model = get_model()\n",
    "    model.fit(X_train_cv, y_train_cv, epochs = 10)\n",
    "    test_loss, test_acc = model.evaluate(X_valid_cv, y_valid_cv)\n",
    "    print('Test accuracy:', test_acc)\n",
    "    predictions = model.predict(X_valid_cv)\n",
    "    print('ROC AUC: ', roc_auc_score(y_valid_cv, predictions))\n",
    "    \n",
    "#     print(model.evaluate(X_valid_cv, y_valid_cv))"
   ]
  },
  {
   "cell_type": "code",
   "execution_count": 973,
   "metadata": {},
   "outputs": [],
   "source": [
    "# 3. Train\n",
    "# model.fit(X_train, y_train, epochs=30) #, validation_data=(X_val, y_val) ) #, callbacks=[earlystop])"
   ]
  },
  {
   "cell_type": "markdown",
   "metadata": {},
   "source": [
    "### ...and evaluate"
   ]
  },
  {
   "cell_type": "code",
   "execution_count": 956,
   "metadata": {},
   "outputs": [
    {
     "name": "stdout",
     "output_type": "stream",
     "text": [
      "3452/3452 [==============================] - 1s 211us/step\n",
      "Test accuracy: 0.8534183080889811\n"
     ]
    }
   ],
   "source": [
    "# 4. Evaluate\n",
    "# Accuracy\n",
    "test_loss, test_acc = model.evaluate(X_test, y_test)\n",
    "print('Test accuracy:', test_acc)"
   ]
  },
  {
   "cell_type": "code",
   "execution_count": 957,
   "metadata": {},
   "outputs": [],
   "source": [
    "# Get actual predictions for test set\n",
    "predictions = model.predict(X_test)\n",
    "rounded_predictions = [int(float(round(x[0]))) for x in predictions]"
   ]
  },
  {
   "cell_type": "code",
   "execution_count": 958,
   "metadata": {
    "scrolled": true
   },
   "outputs": [
    {
     "name": "stdout",
     "output_type": "stream",
     "text": [
      "Confusion matrix:\n",
      "Predicted  False  True  __all__\n",
      "Actual                         \n",
      "False       1542   241     1783\n",
      "True         265  1404     1669\n",
      "__all__     1807  1645     3452\n"
     ]
    },
    {
     "data": {
      "text/plain": [
       "<matplotlib.axes._subplots.AxesSubplot at 0x7fda374483c8>"
      ]
     },
     "execution_count": 958,
     "metadata": {},
     "output_type": "execute_result"
    },
    {
     "data": {
      "image/png": "[encoded data removed]",
      "text/plain": [
       "<Figure size 648x576 with 2 Axes>"
      ]
     },
     "metadata": {},
     "output_type": "display_data"
    }
   ],
   "source": [
    "%matplotlib inline\n",
    "# Confusion Matrix\n",
    "\n",
    "confusion_matrix = ConfusionMatrix(y_test, rounded_predictions)\n",
    "print(\"Confusion matrix:\\n%s\" % confusion_matrix)\n",
    "confusion_matrix.plot()"
   ]
  },
  {
   "cell_type": "code",
   "execution_count": 959,
   "metadata": {},
   "outputs": [
    {
     "name": "stdout",
     "output_type": "stream",
     "text": [
      "ROC AUC:  0.9286547907522851\n"
     ]
    }
   ],
   "source": [
    "# ROC AUC\n",
    "print('ROC AUC: ', roc_auc_score(y_test, predictions))"
   ]
  },
  {
   "cell_type": "code",
   "execution_count": 960,
   "metadata": {},
   "outputs": [],
   "source": [
    "# Results at 60 epochs, 1 iteration:\n",
    "# Just Govecs i think was like .84 AUC\n",
    "# DisPhen and GoVecs: .88 AUC\n",
    "# Chebi, disphen, govecs: .895 AUC then .873 on second round... once off results are pointless at this level diff"
   ]
  },
  {
   "cell_type": "code",
   "execution_count": 961,
   "metadata": {},
   "outputs": [
    {
     "ename": "SyntaxError",
     "evalue": "invalid syntax (<ipython-input-961-440e5fd394b4>, line 2)",
     "output_type": "error",
     "traceback": [
      "\u001b[0;36m  File \u001b[0;32m\"<ipython-input-961-440e5fd394b4>\"\u001b[0;36m, line \u001b[0;32m2\u001b[0m\n\u001b[0;31m    for a in i\u001b[0m\n\u001b[0m              ^\u001b[0m\n\u001b[0;31mSyntaxError\u001b[0m\u001b[0;31m:\u001b[0m invalid syntax\n"
     ]
    }
   ],
   "source": [
    "# Error out to stop notebook\n",
    "for a in i\n",
    "def \n"
   ]
  },
  {
   "cell_type": "code",
   "execution_count": null,
   "metadata": {},
   "outputs": [],
   "source": [
    "# Save entire model to a HDF5 file\n",
    "model.save('nn20022019auc889GOpro.h5')"
   ]
  },
  {
   "cell_type": "code",
   "execution_count": null,
   "metadata": {},
   "outputs": [],
   "source": []
  },
  {
   "cell_type": "code",
   "execution_count": null,
   "metadata": {},
   "outputs": [],
   "source": [
    "# "
   ]
  },
  {
   "cell_type": "code",
   "execution_count": null,
   "metadata": {},
   "outputs": [],
   "source": [
    "# testers.shape[0]"
   ]
  },
  {
   "cell_type": "code",
   "execution_count": null,
   "metadata": {},
   "outputs": [],
   "source": [
    "# testers.head()"
   ]
  },
  {
   "cell_type": "code",
   "execution_count": null,
   "metadata": {},
   "outputs": [],
   "source": [
    "# # Version for GoFuncs, DIS-Phens, CHEBI, DO, HINO, PRO\n",
    "# # For Keras, need to turn inputs into numpy arrays instead of pandas df\n",
    "# # First create single np array of all vecs... not pretty:\n",
    "# Dvecs = pd.DataFrame(testers.DVec.values.tolist(), index= testers.index)\n",
    "# Cvecs = pd.DataFrame(testers.CVec.values.tolist(), index= testers.index)\n",
    "# gofuncs = Dvecs.merge(Cvecs, how='outer', left_index=True, right_index=True)\n",
    "\n",
    "# DMPvecs = pd.DataFrame(testers.disPhenVecHP.values.tolist(), index= testers.index)\n",
    "# DHPvecs = pd.DataFrame(testers.disPhenVecMP.values.tolist(), index= testers.index)\n",
    "# disPvecs = DMPvecs.merge(DHPvecs, how='outer', left_index=True, right_index=True)\n",
    "\n",
    "# all_X = disPvecs.merge(gofuncs, how='outer', left_index=True, right_index=True)\n",
    "\n",
    "# CHEBvecs = pd.DataFrame(testers.CHEBIvec.values.tolist(), index = testers.index)\n",
    "# all_X = CHEBvecs.merge(all_X, how='outer', left_index=True, right_index=True)\n",
    "\n",
    "# DOvecs = pd.DataFrame(testers.DOvec.values.tolist(), index = testers.index)\n",
    "# all_X = DOvecs.merge(all_X, how='outer', left_index=True, right_index=True)\n",
    "\n",
    "# dHINOvecs = pd.DataFrame(testers.dis_HINOvec.values.tolist(), index=testers.index)\n",
    "# cHINOvecs = pd.DataFrame(testers.chem_HINOvec.values.tolist(), index=testers.index)\n",
    "# hinovecs = cHINOvecs.merge(dHINOvecs, how='outer', left_index=True, right_index=True)\n",
    "# all_X = all_X.merge(hinovecs, how='outer', left_index=True, right_index=True)\n",
    "\n",
    "# dPROvecs = pd.DataFrame(testers.dis_PROvec.values.tolist(), index=testers.index)\n",
    "# cPROvecs = pd.DataFrame(testers.chem_PROvec.values.tolist(), index=testers.index)\n",
    "# PROvecs = cPROvecs.merge(dPROvecs, how='outer', left_index=True, right_index=True)\n",
    "# all_X = PROvecs.merge(all_X, how='outer', left_index=True, right_index=True)\n",
    "\n",
    "# all_X = np.array(all_X)"
   ]
  },
  {
   "cell_type": "code",
   "execution_count": null,
   "metadata": {},
   "outputs": [],
   "source": [
    "# # Now create np array of the y output\n",
    "# all_y = np.array(testers.Correlation)"
   ]
  },
  {
   "cell_type": "code",
   "execution_count": null,
   "metadata": {},
   "outputs": [],
   "source": [
    "# # Accuracy\n",
    "# test_loss, test_acc = model.evaluate(all_X, all_y)\n",
    "# print('Test accuracy:', test_acc)\n",
    "\n",
    "# # Get actual predictions for test set\n",
    "# predictions = model.predict(all_X)\n",
    "# rounded_predictions = [int(float(round(x[0]))) for x in predictions]\n",
    "# print('ROC AUC: ', roc_auc_score(all_y, predictions))\n"
   ]
  },
  {
   "cell_type": "code",
   "execution_count": null,
   "metadata": {},
   "outputs": [],
   "source": []
  },
  {
   "cell_type": "code",
   "execution_count": null,
   "metadata": {},
   "outputs": [],
   "source": []
  },
  {
   "cell_type": "code",
   "execution_count": null,
   "metadata": {},
   "outputs": [],
   "source": []
  },
  {
   "cell_type": "markdown",
   "metadata": {},
   "source": [
    "### 4. Examine the predictions\n",
    "Let's look at the predictions the NN gets wrong, see if there's a pattern"
   ]
  },
  {
   "cell_type": "code",
   "execution_count": null,
   "metadata": {},
   "outputs": [],
   "source": [
    "# Create df with the relevant data\n",
    "test_set = df1.loc[test_rows]\n",
    "test_set['Predictions'] = predictions\n",
    "test_set['RoundPredictions'] = rounded_predictions"
   ]
  },
  {
   "cell_type": "code",
   "execution_count": null,
   "metadata": {},
   "outputs": [],
   "source": [
    "# Optimise memory --> set col types for the incoming CSV\n",
    "cds_cols = ['# ChemicalName', 'ChemicalID', 'DiseaseName', 'DiseaseID', 'DirectEvidence']\n",
    "cd_col_types = {   \n",
    "    '# ChemicalName': 'category',\n",
    "    'ChemicalID': 'category',\n",
    "    'DiseaseName': 'category',\n",
    "    'DiseaseID': 'category',\n",
    "}"
   ]
  },
  {
   "cell_type": "code",
   "execution_count": null,
   "metadata": {},
   "outputs": [],
   "source": [
    "# Let's get the disease and chemical names back! For the sake of eyeballing for patterns\n",
    "# Read in CTD csv, skipping the intro rows\n",
    "df_cd = pd.read_csv('../ctd-to-nt/csvs/CTD_chemicals_diseases.csv', usecols=cds_cols, dtype=cd_col_types, skiprows=27)\n",
    "df_cd = df_cd.drop(0)\n",
    "df_cd = df_cd.dropna(subset=['DirectEvidence']) # drop if it doesn't have direct evidence"
   ]
  },
  {
   "cell_type": "code",
   "execution_count": null,
   "metadata": {},
   "outputs": [],
   "source": [
    "df_cd.head()"
   ]
  },
  {
   "cell_type": "code",
   "execution_count": null,
   "metadata": {},
   "outputs": [],
   "source": [
    "test_set.head()"
   ]
  },
  {
   "cell_type": "code",
   "execution_count": null,
   "metadata": {},
   "outputs": [],
   "source": [
    "# test_set.DiseaseID.nunique()"
   ]
  },
  {
   "cell_type": "code",
   "execution_count": null,
   "metadata": {},
   "outputs": [],
   "source": []
  },
  {
   "cell_type": "code",
   "execution_count": null,
   "metadata": {},
   "outputs": [],
   "source": [
    "test_set['Correlation'] = test_set.Correlation.astype(np.uint8)\n",
    "print(mem_usage(test_set['RoundPredictions']))\n",
    "test_set['RoundPredictions'] = test_set.RoundPredictions.astype(np.uint8)\n",
    "print(mem_usage(test_set['RoundPredictions']))"
   ]
  },
  {
   "cell_type": "code",
   "execution_count": null,
   "metadata": {},
   "outputs": [],
   "source": [
    "lst = [chem_dis, df, df_d, df_c, Dvecs, Cvecs]\n",
    "del lst\n",
    "test_set = test_set.drop(['DVec', 'CVec', 'index'], axis=1) # memory intensive\n",
    "for col in ['DiseaseID', 'ChemicalID', 'DiseaseName', '# ChemicalName', 'DirectEvidence']:\n",
    "    print(col,  df_cd.columns)\n",
    "    if str(col) in df_cd.columns: print('sd') # df_cd[col] = df_cd[col].astype('category')\n",
    "    if col in test_set.columns: test_set[col] = test_set[col].astype('category')"
   ]
  },
  {
   "cell_type": "code",
   "execution_count": null,
   "metadata": {},
   "outputs": [],
   "source": [
    "mem_usage(df_cd)"
   ]
  },
  {
   "cell_type": "code",
   "execution_count": null,
   "metadata": {},
   "outputs": [],
   "source": [
    "# merge in the names\n",
    "\n",
    "# Because this weirdly requires a tonne of memory, let's optimise (for stupid terrible top-of-range dell laptop)\n",
    "# lst = [chem_dis, df, df_d, df_c, Dvecs, Cvecs]\n",
    "# del lst\n",
    "# test_set = test_set.drop(['DVec', 'CVec', 'index'], axis=1) # memory intensive\n",
    "# for col in ['DiseaseID', 'ChemicalID', 'DiseaseName', '# ChemicalName', 'DirectEvidence']:\n",
    "#     if col in df_cd.columns: df_cd[col] = df_cd[col].astype('category')\n",
    "#     if col in test_set.columns: test_set[col] = test_set[col].astype('category')\n",
    "\n",
    "test_set = pd.merge(test_set, df_cd[['DiseaseID', 'DiseaseName']], on='DiseaseID')\n",
    "test_set = pd.merge(test_set, df_cd[['# ChemicalName', 'ChemicalID']], on='ChemicalID')\n",
    "\n",
    "# weirdly these operations introduce millions of duplicate rows, so delete duplicates:\n",
    "test_set = test_set.drop_duplicates(list(set(test_set.columns.values))) #- set(['DVec','CVec'])))"
   ]
  },
  {
   "cell_type": "code",
   "execution_count": null,
   "metadata": {},
   "outputs": [],
   "source": [
    "df_cd.ChemicalID = df_cd.ChemicalID.astype('category')\n",
    "type(df_cd.ChemicalID[1])"
   ]
  },
  {
   "cell_type": "code",
   "execution_count": null,
   "metadata": {},
   "outputs": [],
   "source": [
    "test_set[['DiseaseName', '# ChemicalName', 'Correlation', 'Predictions', 'RoundPredictions']].to_csv('predictions.csv', index=False)"
   ]
  },
  {
   "cell_type": "code",
   "execution_count": null,
   "metadata": {},
   "outputs": [],
   "source": [
    "test_set.head()"
   ]
  },
  {
   "cell_type": "code",
   "execution_count": null,
   "metadata": {},
   "outputs": [],
   "source": [
    "# Import gofunction counts (for each disease and each chem). This csv was output in opa2vec.ipynb\n",
    "gofunc_counts = pd.read_csv('gofunc_counts.csv')\n",
    "test_set = pd.merge(test_set, gofunc_counts[['ChemicalID', 'gofunc']], on='ChemicalID')\n",
    "test_set = test_set.rename(columns = {'gofunc':'ChemGoFuncs'})\n",
    "test_set = pd.merge(test_set, gofunc_counts[['DiseaseID', 'gofunc']], on='DiseaseID')\n",
    "test_set = test_set.rename(columns = {'gofunc':'DisGoFuncs'})"
   ]
  },
  {
   "cell_type": "code",
   "execution_count": null,
   "metadata": {},
   "outputs": [],
   "source": [
    "test_set.head()"
   ]
  },
  {
   "cell_type": "code",
   "execution_count": null,
   "metadata": {},
   "outputs": [],
   "source": []
  },
  {
   "cell_type": "code",
   "execution_count": null,
   "metadata": {},
   "outputs": [],
   "source": [
    "# # This cell is pointless - manually verifying accuracy test\n",
    "# # Round predictions to int based on threshold, run accuracy-test manually\n",
    "# predictions = model.predict(X_test)\n",
    "# threshold = predictions[:].sum()/len(predictions) # Threshold is the mean value of predictions\n",
    "# predictions = [float(round(x[0]-threshold+0.5)) for x in predictions]\n",
    "# manual_accuracy = sklearn.metrics.accuracy_score(y_test, predictions, normalize=True, sample_weight=None)\n",
    "# print(manual_accuracy)"
   ]
  },
  {
   "cell_type": "markdown",
   "metadata": {},
   "source": [
    "### 5. Calculate Cosine Similarity"
   ]
  },
  {
   "cell_type": "code",
   "execution_count": null,
   "metadata": {},
   "outputs": [],
   "source": [
    "# df1.head()"
   ]
  },
  {
   "cell_type": "code",
   "execution_count": null,
   "metadata": {},
   "outputs": [],
   "source": [
    "# # Calculate out the cosine similarity and see if there's a difference between groups\n",
    "# def cosine_sim (row):\n",
    "#     return cosine_similarity(np.array(row.DVec).reshape(1, -1), np.array(row.CVec).reshape(1, -1))[0][0]\n",
    "\n",
    "# df1['cosine_sim'] = df1.apply(lambda row: cosine_sim(row), axis=1)\n",
    "\n",
    "# # Compare cosine sim of correlated and uncorrelated groups\n",
    "# print('Cosine mean with no correlation: ', df1[df1.Correlation == 1 ].cosine_sim.mean())\n",
    "# print('Cosine mean with correlation: ', df1[df1.Correlation == 0 ].cosine_sim.mean())"
   ]
  },
  {
   "cell_type": "markdown",
   "metadata": {},
   "source": [
    "### 6. Save Model"
   ]
  },
  {
   "cell_type": "code",
   "execution_count": null,
   "metadata": {},
   "outputs": [],
   "source": [
    "# Save entire model to a HDF5 file\n",
    "model.save('nn15022019auc92GoPhenCHEdoHIpro.h5')"
   ]
  }
 ],
 "metadata": {
  "kernelspec": {
   "display_name": "Python 3",
   "language": "python",
   "name": "python3"
  },
  "language_info": {
   "codemirror_mode": {
    "name": "ipython",
    "version": 3
   },
   "file_extension": ".py",
   "mimetype": "text/x-python",
   "name": "python",
   "nbconvert_exporter": "python",
   "pygments_lexer": "ipython3",
   "version": "3.6.5"
  }
 },
 "nbformat": 4,
 "nbformat_minor": 2
}
