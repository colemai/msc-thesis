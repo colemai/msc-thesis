{
 "cells": [
  {
   "cell_type": "markdown",
   "metadata": {},
   "source": [
    "# Create HINO Vectors\n",
    "<b>Author</b>: Ian Coleman <br/>\n",
    "<b>Function</b>: Create vectors for Chems/Diseases on the Human Interaction Network Ontology. I'll get the Chem/Dis - pathways associations from CTD. These are inferred (I believe from the gene associations...?)"
   ]
  },
  {
   "cell_type": "code",
   "execution_count": 26,
   "metadata": {},
   "outputs": [],
   "source": [
    "import pandas as pd\n",
    "import numpy as np\n",
    "import scipy as sp\n",
    "import subprocess\n",
    "import math\n",
    "import re"
   ]
  },
  {
   "cell_type": "markdown",
   "metadata": {},
   "source": [
    "### First we need to get the HINO IDs from the REACT and KEGG IDs that CTD uses"
   ]
  },
  {
   "cell_type": "code",
   "execution_count": 27,
   "metadata": {},
   "outputs": [
    {
     "name": "stderr",
     "output_type": "stream",
     "text": [
      "/home/ian/anaconda3/lib/python3.6/site-packages/IPython/core/interactiveshell.py:2785: DtypeWarning: Columns (8,12,13,18,25,41,42,43,48,49,50,56,57,61,65,66,70,71,73,76,79,81,83,84,85,86,87,94,95,100,126,135,139,142) have mixed types. Specify dtype option on import or set low_memory=False.\n",
      "  interactivity=interactivity, compiler=compiler, result=result)\n"
     ]
    }
   ],
   "source": [
    "# Import HINO CSV\n",
    "# Class ID,Preferred Label,Synonyms,Definitions,Obsolete,CUI,Semantic Types,Parents,alternative term,bearer of,before,before or simultaneous with,BFO CLIF specification label,BFO OWL specification label,causal relation between processes,causally downstream of,causally downstream of or within,causally related to,causally upstream of,causally upstream of or within,\"causally upstream of, negative effect\",\"causally upstream of, positive effect\",Contributor,controls,Coverage,Creator,curator note,database_cross_reference,Date,definition,definition source,depends on,Description,directly activates,directly inhibits,directly negatively regulates,directly positively regulates,directly provides input for,directly regulates,during which ends,during which starts,editor note,editor preferred term,elucidation,encompasses,ends,ends after,ends during,ends with,example of literature mining keyword usage,example of usage,expand expression to,Format,functionally related to,happens during,has activator,has associated axiom(fol),has associated axiom(nl),has component,has component activity,has component process,has curation status,has direct input,has effector activity,has input,has interaction type,has keyword dependency pattern,has literature mining keywords,has output,has part,has participant,has role,has_alternative_id,has_broad_synonym,has_controller,has_exact_synonym,has_narrow_synonym,has_next_step,has_obo_namespace,has_rank,has_related_synonym,http://data.bioontology.org/metadata/obo/part_of,http://data.bioontology.org/metadata/prefixIRI,http://data.bioontology.org/metadata/treeView,http://purl.obolibrary.org/obo/hasExactSynonym,http://purl.obolibrary.org/obo/hasNarrowSynonym,http://purl.obolibrary.org/obo/hasOBONamespace,http://purl.obolibrary.org/obo/id,http://purl.obolibrary.org/obo/mi#PSI-MI_slim,http://www.biopax.org/release/biopax-level3.owl#controlled,http://www.biopax.org/release/biopax-level3.owl#controlType,http://www.biopax.org/release/biopax-level3.owl#name,http://www.biopax.org/release/biopax-level3.owl#pathwayOrder,http://www.biopax.org/release/biopax-level3.owl#product,http://www.geneontology.org/formats/oboInOwl#created_by,http://www.geneontology.org/formats/oboInOwl#creation_date,http://www.geneontology.org/formats/oboInOwl#id,http://www.obofoundry.org/ro/ro.owl#has_part,http://www.obofoundry.org/ro/ro.owl#located_in,http://www.w3.org/2000/01/rdf-schema#comment,http://www.w3.org/2000/01/rdf-schema#isDefinedBy,http://www.w3.org/2004/02/skos/core#notation,http://xmlns.com/foaf/0.1/homepage,http://xmlns.com/foaf/0.1/page,immediately causally downstream of,immediately causally upstream of,immediately preceded by,immediately precedes,imported from,in_subset,indirectly activates,indirectly inhibits,inheres in,inheres in part of,input of,is direct form of,is indirect form of,label,lacks part,Language,logical macro assertion,logical macro assertion on a property,logical macro assertion on an annotation property,logical macro assertion on an object property,mereotopologically related to,negatively regulated by,negatively regulates,OBO foundry unique label,obsolete has direct output,obsolete preceded by,output of,overlaps,part of,participates in,positively regulated by,positively regulates,preceded by,precedes,Publisher,realized in,realizes,regulated by,regulates,related via dependence to,Relation,Resource Identifier,Resource Type,Rights Management,simultaneous with,Source,starts,starts before,starts during,starts with,Subject and Keywords,temporal interpretation,temporally related to,term editor,Title,transitively provides input for\n",
    "hino = pd.read_csv('/home/ian/Downloads/HINO.csv')#.iloc[:,0:4]#, usecols=['uri', 'label', 'synonyms', 'defs'])"
   ]
  },
  {
   "cell_type": "code",
   "execution_count": 28,
   "metadata": {},
   "outputs": [
    {
     "data": {
      "text/html": [
       "<div>\n",
       "<style scoped>\n",
       "    .dataframe tbody tr th:only-of-type {\n",
       "        vertical-align: middle;\n",
       "    }\n",
       "\n",
       "    .dataframe tbody tr th {\n",
       "        vertical-align: top;\n",
       "    }\n",
       "\n",
       "    .dataframe thead th {\n",
       "        text-align: right;\n",
       "    }\n",
       "</style>\n",
       "<table border=\"1\" class=\"dataframe\">\n",
       "  <thead>\n",
       "    <tr style=\"text-align: right;\">\n",
       "      <th></th>\n",
       "      <th>Class ID</th>\n",
       "      <th>Preferred Label</th>\n",
       "      <th>Synonyms</th>\n",
       "      <th>Definitions</th>\n",
       "      <th>Obsolete</th>\n",
       "      <th>CUI</th>\n",
       "      <th>Semantic Types</th>\n",
       "      <th>Parents</th>\n",
       "      <th>alternative term</th>\n",
       "      <th>bearer of</th>\n",
       "      <th>...</th>\n",
       "      <th>starts</th>\n",
       "      <th>starts before</th>\n",
       "      <th>starts during</th>\n",
       "      <th>starts with</th>\n",
       "      <th>Subject and Keywords</th>\n",
       "      <th>temporal interpretation</th>\n",
       "      <th>temporally related to</th>\n",
       "      <th>term editor</th>\n",
       "      <th>Title</th>\n",
       "      <th>transitively provides input for</th>\n",
       "    </tr>\n",
       "  </thead>\n",
       "  <tbody>\n",
       "    <tr>\n",
       "      <th>17767</th>\n",
       "      <td>http://purl.obolibrary.org/obo/HINO_0021844</td>\n",
       "      <td>PI3K:CD2AP:p-Nephrin:Fyn:NEPH1</td>\n",
       "      <td>NaN</td>\n",
       "      <td>Reactome DB_ID: 451720|has a Stoichiometric co...</td>\n",
       "      <td>False</td>\n",
       "      <td>NaN</td>\n",
       "      <td>NaN</td>\n",
       "      <td>http://purl.obolibrary.org/obo/INO_0000090</td>\n",
       "      <td>NaN</td>\n",
       "      <td>NaN</td>\n",
       "      <td>...</td>\n",
       "      <td>NaN</td>\n",
       "      <td>NaN</td>\n",
       "      <td>NaN</td>\n",
       "      <td>NaN</td>\n",
       "      <td>NaN</td>\n",
       "      <td>NaN</td>\n",
       "      <td>NaN</td>\n",
       "      <td>NaN</td>\n",
       "      <td>NaN</td>\n",
       "      <td>NaN</td>\n",
       "    </tr>\n",
       "    <tr>\n",
       "      <th>16957</th>\n",
       "      <td>http://purl.obolibrary.org/obo/HINO_0019951</td>\n",
       "      <td>Deamination at C6 position of adenosine in Edi...</td>\n",
       "      <td>NaN</td>\n",
       "      <td>At the beginning of this reaction, 1 molecule ...</td>\n",
       "      <td>False</td>\n",
       "      <td>NaN</td>\n",
       "      <td>NaN</td>\n",
       "      <td>http://purl.obolibrary.org/obo/INO_0000040</td>\n",
       "      <td>NaN</td>\n",
       "      <td>NaN</td>\n",
       "      <td>...</td>\n",
       "      <td>NaN</td>\n",
       "      <td>NaN</td>\n",
       "      <td>NaN</td>\n",
       "      <td>NaN</td>\n",
       "      <td>NaN</td>\n",
       "      <td>NaN</td>\n",
       "      <td>NaN</td>\n",
       "      <td>NaN</td>\n",
       "      <td>NaN</td>\n",
       "      <td>NaN</td>\n",
       "    </tr>\n",
       "    <tr>\n",
       "      <th>8533</th>\n",
       "      <td>http://purl.obolibrary.org/obo/UniProt_Q15561</td>\n",
       "      <td>UniProt_Q15561</td>\n",
       "      <td>NaN</td>\n",
       "      <td>NaN</td>\n",
       "      <td>False</td>\n",
       "      <td>NaN</td>\n",
       "      <td>NaN</td>\n",
       "      <td>http://purl.obolibrary.org/obo/PR_000000001</td>\n",
       "      <td>NaN</td>\n",
       "      <td>NaN</td>\n",
       "      <td>...</td>\n",
       "      <td>NaN</td>\n",
       "      <td>NaN</td>\n",
       "      <td>NaN</td>\n",
       "      <td>NaN</td>\n",
       "      <td>NaN</td>\n",
       "      <td>NaN</td>\n",
       "      <td>NaN</td>\n",
       "      <td>NaN</td>\n",
       "      <td>NaN</td>\n",
       "      <td>NaN</td>\n",
       "    </tr>\n",
       "    <tr>\n",
       "      <th>16131</th>\n",
       "      <td>http://purl.obolibrary.org/obo/HINO_0026437</td>\n",
       "      <td>High affinity binding complex dimers of cytoki...</td>\n",
       "      <td>NaN</td>\n",
       "      <td>Converted from EntitySet in Reactome|Reactome ...</td>\n",
       "      <td>False</td>\n",
       "      <td>NaN</td>\n",
       "      <td>NaN</td>\n",
       "      <td>http://purl.obolibrary.org/obo/INO_0000090</td>\n",
       "      <td>NaN</td>\n",
       "      <td>NaN</td>\n",
       "      <td>...</td>\n",
       "      <td>NaN</td>\n",
       "      <td>NaN</td>\n",
       "      <td>NaN</td>\n",
       "      <td>NaN</td>\n",
       "      <td>NaN</td>\n",
       "      <td>NaN</td>\n",
       "      <td>NaN</td>\n",
       "      <td>NaN</td>\n",
       "      <td>NaN</td>\n",
       "      <td>NaN</td>\n",
       "    </tr>\n",
       "  </tbody>\n",
       "</table>\n",
       "<p>4 rows × 160 columns</p>\n",
       "</div>"
      ],
      "text/plain": [
       "                                            Class ID  \\\n",
       "17767    http://purl.obolibrary.org/obo/HINO_0021844   \n",
       "16957    http://purl.obolibrary.org/obo/HINO_0019951   \n",
       "8533   http://purl.obolibrary.org/obo/UniProt_Q15561   \n",
       "16131    http://purl.obolibrary.org/obo/HINO_0026437   \n",
       "\n",
       "                                         Preferred Label Synonyms  \\\n",
       "17767                     PI3K:CD2AP:p-Nephrin:Fyn:NEPH1      NaN   \n",
       "16957  Deamination at C6 position of adenosine in Edi...      NaN   \n",
       "8533                                      UniProt_Q15561      NaN   \n",
       "16131  High affinity binding complex dimers of cytoki...      NaN   \n",
       "\n",
       "                                             Definitions  Obsolete  CUI  \\\n",
       "17767  Reactome DB_ID: 451720|has a Stoichiometric co...     False  NaN   \n",
       "16957  At the beginning of this reaction, 1 molecule ...     False  NaN   \n",
       "8533                                                 NaN     False  NaN   \n",
       "16131  Converted from EntitySet in Reactome|Reactome ...     False  NaN   \n",
       "\n",
       "       Semantic Types                                      Parents  \\\n",
       "17767             NaN   http://purl.obolibrary.org/obo/INO_0000090   \n",
       "16957             NaN   http://purl.obolibrary.org/obo/INO_0000040   \n",
       "8533              NaN  http://purl.obolibrary.org/obo/PR_000000001   \n",
       "16131             NaN   http://purl.obolibrary.org/obo/INO_0000090   \n",
       "\n",
       "      alternative term  bearer of               ...                 starts  \\\n",
       "17767              NaN        NaN               ...                    NaN   \n",
       "16957              NaN        NaN               ...                    NaN   \n",
       "8533               NaN        NaN               ...                    NaN   \n",
       "16131              NaN        NaN               ...                    NaN   \n",
       "\n",
       "       starts before starts during starts with  Subject and Keywords  \\\n",
       "17767            NaN           NaN         NaN                   NaN   \n",
       "16957            NaN           NaN         NaN                   NaN   \n",
       "8533             NaN           NaN         NaN                   NaN   \n",
       "16131            NaN           NaN         NaN                   NaN   \n",
       "\n",
       "       temporal interpretation  temporally related to  term editor Title  \\\n",
       "17767                      NaN                    NaN          NaN   NaN   \n",
       "16957                      NaN                    NaN          NaN   NaN   \n",
       "8533                       NaN                    NaN          NaN   NaN   \n",
       "16131                      NaN                    NaN          NaN   NaN   \n",
       "\n",
       "       transitively provides input for  \n",
       "17767                              NaN  \n",
       "16957                              NaN  \n",
       "8533                               NaN  \n",
       "16131                              NaN  \n",
       "\n",
       "[4 rows x 160 columns]"
      ]
     },
     "execution_count": 28,
     "metadata": {},
     "output_type": "execute_result"
    }
   ],
   "source": [
    "hino.sample(4)"
   ]
  },
  {
   "cell_type": "code",
   "execution_count": 29,
   "metadata": {},
   "outputs": [
    {
     "data": {
      "text/plain": [
       "has participant                                                                                               NaN\n",
       "has role                                                                                                      NaN\n",
       "has_alternative_id                                                                                            NaN\n",
       "has_broad_synonym                                                                                             NaN\n",
       "has_controller                                                                                                NaN\n",
       "has_exact_synonym                                                                                             NaN\n",
       "has_narrow_synonym                                                                                            NaN\n",
       "has_next_step                                                                                                 NaN\n",
       "has_obo_namespace                                                                                             NaN\n",
       "has_rank                                                                                                      NaN\n",
       "has_related_synonym                                                                                           NaN\n",
       "http://data.bioontology.org/metadata/obo/part_of                                                              NaN\n",
       "http://data.bioontology.org/metadata/prefixIRI                                                       HINO:0025202\n",
       "http://data.bioontology.org/metadata/treeView                                                                 NaN\n",
       "http://purl.obolibrary.org/obo/hasExactSynonym                                                                NaN\n",
       "http://purl.obolibrary.org/obo/hasNarrowSynonym                                                               NaN\n",
       "http://purl.obolibrary.org/obo/hasOBONamespace                                                                NaN\n",
       "http://purl.obolibrary.org/obo/id                                                                             NaN\n",
       "http://purl.obolibrary.org/obo/mi#PSI-MI_slim                                                                 NaN\n",
       "http://www.biopax.org/release/biopax-level3.owl#controlled                                                    NaN\n",
       "http://www.biopax.org/release/biopax-level3.owl#controlType                                                   NaN\n",
       "http://www.biopax.org/release/biopax-level3.owl#name                                                          NaN\n",
       "http://www.biopax.org/release/biopax-level3.owl#pathwayOrder                                                  NaN\n",
       "http://www.biopax.org/release/biopax-level3.owl#product                                                       NaN\n",
       "http://www.geneontology.org/formats/oboInOwl#created_by                                                       NaN\n",
       "http://www.geneontology.org/formats/oboInOwl#creation_date                                                    NaN\n",
       "http://www.geneontology.org/formats/oboInOwl#id                                                               NaN\n",
       "http://www.obofoundry.org/ro/ro.owl#has_part                    http://purl.obolibrary.org/obo/UniProt_P17252|...\n",
       "http://www.obofoundry.org/ro/ro.owl#located_in                          http://purl.obolibrary.org/obo/GO_0005829\n",
       "http://www.w3.org/2000/01/rdf-schema#comment                    Converted from EntitySet in Reactome|Reactome ...\n",
       "http://www.w3.org/2000/01/rdf-schema#isDefinedBy                                                              NaN\n",
       "http://www.w3.org/2004/02/skos/core#notation                                                                  NaN\n",
       "http://xmlns.com/foaf/0.1/homepage                                                                            NaN\n",
       "http://xmlns.com/foaf/0.1/page                                                                                NaN\n",
       "immediately causally downstream of                                                                            NaN\n",
       "immediately causally upstream of                                                                              NaN\n",
       "immediately preceded by                                                                                       NaN\n",
       "immediately precedes                                                                                          NaN\n",
       "imported from                                                                                                 NaN\n",
       "in_subset                                                                                                     NaN\n",
       "indirectly activates                                                                                          NaN\n",
       "indirectly inhibits                                                                                           NaN\n",
       "inheres in                                                                                                    NaN\n",
       "inheres in part of                                                                                            NaN\n",
       "input of                                                                                                      NaN\n",
       "is direct form of                                                                                             NaN\n",
       "is indirect form of                                                                                           NaN\n",
       "label                                                                      Protein kinase C (alpha, gamma, delta)\n",
       "lacks part                                                                                                    NaN\n",
       "Language                                                                                                      NaN\n",
       "logical macro assertion                                                                                       NaN\n",
       "logical macro assertion on a property                                                                         NaN\n",
       "logical macro assertion on an annotation property                                                             NaN\n",
       "logical macro assertion on an object property                                                                 NaN\n",
       "mereotopologically related to                                                                                 NaN\n",
       "negatively regulated by                                                                                       NaN\n",
       "negatively regulates                                                                                          NaN\n",
       "OBO foundry unique label                                                                                      NaN\n",
       "obsolete has direct output                                                                                    NaN\n",
       "obsolete preceded by                                                                                          NaN\n",
       "Name: 7, dtype: object"
      ]
     },
     "execution_count": 29,
     "metadata": {},
     "output_type": "execute_result"
    }
   ],
   "source": [
    "# examine the many cols\n",
    "hino.iloc[7, 70:130]"
   ]
  },
  {
   "cell_type": "code",
   "execution_count": 30,
   "metadata": {},
   "outputs": [
    {
     "data": {
      "text/html": [
       "<div>\n",
       "<style scoped>\n",
       "    .dataframe tbody tr th:only-of-type {\n",
       "        vertical-align: middle;\n",
       "    }\n",
       "\n",
       "    .dataframe tbody tr th {\n",
       "        vertical-align: top;\n",
       "    }\n",
       "\n",
       "    .dataframe thead th {\n",
       "        text-align: right;\n",
       "    }\n",
       "</style>\n",
       "<table border=\"1\" class=\"dataframe\">\n",
       "  <thead>\n",
       "    <tr style=\"text-align: right;\">\n",
       "      <th></th>\n",
       "      <th>http://www.obofoundry.org/ro/ro.owl#has_part</th>\n",
       "      <th>label</th>\n",
       "      <th>Definitions</th>\n",
       "      <th>has_exact_synonym</th>\n",
       "      <th>has_related_synonym</th>\n",
       "    </tr>\n",
       "  </thead>\n",
       "  <tbody>\n",
       "    <tr>\n",
       "      <th>6</th>\n",
       "      <td>NaN</td>\n",
       "      <td>NaN</td>\n",
       "      <td>NaN</td>\n",
       "      <td>NaN</td>\n",
       "      <td>NaN</td>\n",
       "    </tr>\n",
       "    <tr>\n",
       "      <th>7</th>\n",
       "      <td>http://purl.obolibrary.org/obo/UniProt_P17252|...</td>\n",
       "      <td>Protein kinase C (alpha, gamma, delta)</td>\n",
       "      <td>Converted from EntitySet in Reactome|Reactome ...</td>\n",
       "      <td>NaN</td>\n",
       "      <td>NaN</td>\n",
       "    </tr>\n",
       "    <tr>\n",
       "      <th>8</th>\n",
       "      <td>http://purl.obolibrary.org/obo/HINO_0006569</td>\n",
       "      <td>PathwayStep1895</td>\n",
       "      <td>NaN</td>\n",
       "      <td>NaN</td>\n",
       "      <td>NaN</td>\n",
       "    </tr>\n",
       "  </tbody>\n",
       "</table>\n",
       "</div>"
      ],
      "text/plain": [
       "        http://www.obofoundry.org/ro/ro.owl#has_part  \\\n",
       "6                                                NaN   \n",
       "7  http://purl.obolibrary.org/obo/UniProt_P17252|...   \n",
       "8        http://purl.obolibrary.org/obo/HINO_0006569   \n",
       "\n",
       "                                    label  \\\n",
       "6                                     NaN   \n",
       "7  Protein kinase C (alpha, gamma, delta)   \n",
       "8                         PathwayStep1895   \n",
       "\n",
       "                                         Definitions has_exact_synonym  \\\n",
       "6                                                NaN               NaN   \n",
       "7  Converted from EntitySet in Reactome|Reactome ...               NaN   \n",
       "8                                                NaN               NaN   \n",
       "\n",
       "  has_related_synonym  \n",
       "6                 NaN  \n",
       "7                 NaN  \n",
       "8                 NaN  "
      ]
     },
     "execution_count": 30,
     "metadata": {},
     "output_type": "execute_result"
    }
   ],
   "source": [
    "hino.loc[6:8, ['http://www.obofoundry.org/ro/ro.owl#has_part','label', 'Definitions', \n",
    "                'has_exact_synonym', 'has_related_synonym']]"
   ]
  },
  {
   "cell_type": "code",
   "execution_count": 31,
   "metadata": {},
   "outputs": [],
   "source": [
    "hino.rename(columns={'http://www.obofoundry.org/ro/ro.owl#has_part': 'hasPart'}, inplace=True)"
   ]
  },
  {
   "cell_type": "code",
   "execution_count": 32,
   "metadata": {},
   "outputs": [],
   "source": [
    "# # Use regex to get the reactome ID from Definitions\n",
    "# r = re.compile('Reactome DB_ID: [0-9]*')\n",
    "# vmatch = np.vectorize(lambda x:bool(r.match(x)))\n",
    "\n",
    "# # func to extract the reactome bit\n",
    "# def get_react_id(x, r):\n",
    "#     if x is not None:\n",
    "#         results = r.search(x)\n",
    "#         if results is None: return None\n",
    "#         else: return results[0].replace('Reactome DB_ID: ', 'REACT:R-HSA-')\n",
    "#     else:\n",
    "#         return None\n",
    "\n",
    "# # Convert to str and extract\n",
    "# hino['Definitions'] = hino.Definitions.astype(str)\n",
    "# hino['Definitions'] = hino.Definitions.map(lambda x: get_react_id(x,r))\n",
    "\n",
    "# hino = hino.dropna(subset=['Definitions'])\n",
    "# print(len(hino))"
   ]
  },
  {
   "cell_type": "code",
   "execution_count": 33,
   "metadata": {},
   "outputs": [],
   "source": [
    "# Actually instead Use regex to get the Uniprot ID from Definitions\n",
    "r = re.compile('UniProt_[^,| ]*')\n",
    "vmatch = np.vectorize(lambda x:bool(r.match(x)))\n",
    "\n",
    "# func to extract the reactome bit\n",
    "def get_uniprot_id(x, r):\n",
    "    if x is not None:\n",
    "        results = r.findall(x)\n",
    "        if results is None: return None\n",
    "        else: return results\n",
    "    else:\n",
    "        return None\n",
    "\n",
    "# Convert to str and extract\n",
    "hino['hasPart'] = hino['hasPart'].astype(str)\n",
    "hino['Uniprot'] = hino.hasPart.map(lambda x: get_uniprot_id(x,r))"
   ]
  },
  {
   "cell_type": "code",
   "execution_count": 34,
   "metadata": {},
   "outputs": [],
   "source": [
    "hino = hino[['Class ID', 'Definitions', 'hasPart', 'Uniprot']]"
   ]
  },
  {
   "cell_type": "code",
   "execution_count": 35,
   "metadata": {},
   "outputs": [],
   "source": [
    "# look at uniprot col\n",
    "# [x for x in hino.Uniprot if x][:3]"
   ]
  },
  {
   "cell_type": "code",
   "execution_count": 36,
   "metadata": {},
   "outputs": [
    {
     "data": {
      "text/html": [
       "<div>\n",
       "<style scoped>\n",
       "    .dataframe tbody tr th:only-of-type {\n",
       "        vertical-align: middle;\n",
       "    }\n",
       "\n",
       "    .dataframe tbody tr th {\n",
       "        vertical-align: top;\n",
       "    }\n",
       "\n",
       "    .dataframe thead th {\n",
       "        text-align: right;\n",
       "    }\n",
       "</style>\n",
       "<table border=\"1\" class=\"dataframe\">\n",
       "  <thead>\n",
       "    <tr style=\"text-align: right;\">\n",
       "      <th></th>\n",
       "      <th>Class ID</th>\n",
       "      <th>Definitions</th>\n",
       "      <th>hasPart</th>\n",
       "      <th>Uniprot</th>\n",
       "    </tr>\n",
       "  </thead>\n",
       "  <tbody>\n",
       "    <tr>\n",
       "      <th>14226</th>\n",
       "      <td>http://purl.obolibrary.org/obo/HINO_0009552</td>\n",
       "      <td>Reactome DB_ID: 1799320</td>\n",
       "      <td>nan</td>\n",
       "      <td>[]</td>\n",
       "    </tr>\n",
       "    <tr>\n",
       "      <th>26834</th>\n",
       "      <td>http://purl.obolibrary.org/obo/HINO_0013660</td>\n",
       "      <td>NaN</td>\n",
       "      <td>http://purl.obolibrary.org/obo/HINO_0020031</td>\n",
       "      <td>[]</td>\n",
       "    </tr>\n",
       "    <tr>\n",
       "      <th>32663</th>\n",
       "      <td>http://purl.obolibrary.org/obo/HINO_0005588</td>\n",
       "      <td>NaN</td>\n",
       "      <td>http://purl.obolibrary.org/obo/HINO_0001172|ht...</td>\n",
       "      <td>[]</td>\n",
       "    </tr>\n",
       "    <tr>\n",
       "      <th>10504</th>\n",
       "      <td>http://purl.obolibrary.org/obo/UniProt_Q6V0L0</td>\n",
       "      <td>NaN</td>\n",
       "      <td>nan</td>\n",
       "      <td>[]</td>\n",
       "    </tr>\n",
       "    <tr>\n",
       "      <th>1487</th>\n",
       "      <td>http://purl.obolibrary.org/obo/HINO_0026477</td>\n",
       "      <td>NaN</td>\n",
       "      <td>http://purl.obolibrary.org/obo/HINO_0027478</td>\n",
       "      <td>[]</td>\n",
       "    </tr>\n",
       "    <tr>\n",
       "      <th>34736</th>\n",
       "      <td>http://purl.obolibrary.org/obo/HINO_0022050</td>\n",
       "      <td>Reactome DB_ID: 170865|has a Stoichiometric co...</td>\n",
       "      <td>http://purl.obolibrary.org/obo/HINO_0013815|ht...</td>\n",
       "      <td>[]</td>\n",
       "    </tr>\n",
       "  </tbody>\n",
       "</table>\n",
       "</div>"
      ],
      "text/plain": [
       "                                            Class ID  \\\n",
       "14226    http://purl.obolibrary.org/obo/HINO_0009552   \n",
       "26834    http://purl.obolibrary.org/obo/HINO_0013660   \n",
       "32663    http://purl.obolibrary.org/obo/HINO_0005588   \n",
       "10504  http://purl.obolibrary.org/obo/UniProt_Q6V0L0   \n",
       "1487     http://purl.obolibrary.org/obo/HINO_0026477   \n",
       "34736    http://purl.obolibrary.org/obo/HINO_0022050   \n",
       "\n",
       "                                             Definitions  \\\n",
       "14226                            Reactome DB_ID: 1799320   \n",
       "26834                                                NaN   \n",
       "32663                                                NaN   \n",
       "10504                                                NaN   \n",
       "1487                                                 NaN   \n",
       "34736  Reactome DB_ID: 170865|has a Stoichiometric co...   \n",
       "\n",
       "                                                 hasPart Uniprot  \n",
       "14226                                                nan      []  \n",
       "26834        http://purl.obolibrary.org/obo/HINO_0020031      []  \n",
       "32663  http://purl.obolibrary.org/obo/HINO_0001172|ht...      []  \n",
       "10504                                                nan      []  \n",
       "1487         http://purl.obolibrary.org/obo/HINO_0027478      []  \n",
       "34736  http://purl.obolibrary.org/obo/HINO_0013815|ht...      []  "
      ]
     },
     "execution_count": 36,
     "metadata": {},
     "output_type": "execute_result"
    }
   ],
   "source": [
    "hino.sample(6)"
   ]
  },
  {
   "cell_type": "code",
   "execution_count": 37,
   "metadata": {},
   "outputs": [],
   "source": [
    "# create map of uniprot ID to URI\n",
    "#First we need to split uniprot lists into multiple cols RUN ONLY ONCE per\n",
    "s = hino.Uniprot.apply(pd.Series, 1).stack()\n",
    "s.index = s.index.droplevel(-1)\n",
    "s.name = 'Uniprot'\n",
    "hino = hino.join(s.apply(lambda x: pd.Series(x)))\n",
    "hino = hino.reset_index(drop=True)\n",
    "hino.rename({0:\"UniprotID\"}, axis='columns', inplace=True)\n",
    "hino.drop('Uniprot', axis=1, inplace=True)"
   ]
  },
  {
   "cell_type": "code",
   "execution_count": 38,
   "metadata": {},
   "outputs": [],
   "source": [
    "# Now that we have one uniprot id per row (max) let's make a map\n",
    "uniprot_hino = dict(zip(hino.dropna(subset=['UniprotID']).UniprotID, hino.dropna(subset=['UniprotID'])['Class ID']))"
   ]
  },
  {
   "cell_type": "code",
   "execution_count": 39,
   "metadata": {},
   "outputs": [],
   "source": [
    "# Here we export the dictionary in a way that's easily imported as dict\n",
    "import pickle \n",
    "\n",
    "with open('Uniprot_HINO_map'+ '.pkl', 'wb') as f:\n",
    "        pickle.dump(uniprot_hino, f, pickle.HIGHEST_PROTOCOL)"
   ]
  },
  {
   "cell_type": "code",
   "execution_count": 40,
   "metadata": {},
   "outputs": [],
   "source": [
    "# C/D HINOuri\n",
    "chem_g_uni = pd.read_csv('CHEM_GENE_UNIPROT.csv')\n",
    "dis_g_uni = pd.read_csv('DIS_GENE_UNIPROT.csv')"
   ]
  },
  {
   "cell_type": "code",
   "execution_count": 41,
   "metadata": {},
   "outputs": [],
   "source": [
    "dis_g_uni['UniprotID'] = dis_g_uni.UniprotID.map(lambda x: 'UniProt_' + x)\n",
    "chem_g_uni['UniprotID'] = chem_g_uni.UniprotID.map(lambda x: 'UniProt_' + x)"
   ]
  },
  {
   "cell_type": "code",
   "execution_count": 42,
   "metadata": {},
   "outputs": [],
   "source": [
    "dis_g_uni['Hino'] = dis_g_uni.UniprotID.map(lambda x: uniprot_hino.get(x))\n",
    "chem_g_uni['Hino'] = chem_g_uni.UniprotID.map(lambda x: uniprot_hino.get(x))"
   ]
  },
  {
   "cell_type": "code",
   "execution_count": 64,
   "metadata": {},
   "outputs": [
    {
     "data": {
      "text/html": [
       "<div>\n",
       "<style scoped>\n",
       "    .dataframe tbody tr th:only-of-type {\n",
       "        vertical-align: middle;\n",
       "    }\n",
       "\n",
       "    .dataframe tbody tr th {\n",
       "        vertical-align: top;\n",
       "    }\n",
       "\n",
       "    .dataframe thead th {\n",
       "        text-align: right;\n",
       "    }\n",
       "</style>\n",
       "<table border=\"1\" class=\"dataframe\">\n",
       "  <thead>\n",
       "    <tr style=\"text-align: right;\">\n",
       "      <th></th>\n",
       "      <th>GeneID</th>\n",
       "      <th>UniprotID</th>\n",
       "      <th>ChemicalID</th>\n",
       "      <th>Hino</th>\n",
       "    </tr>\n",
       "  </thead>\n",
       "  <tbody>\n",
       "    <tr>\n",
       "      <th>2</th>\n",
       "      <td>2</td>\n",
       "      <td>UniProt_P01023</td>\n",
       "      <td>D005620</td>\n",
       "      <td>http://purl.obolibrary.org/obo/HINO_0003920</td>\n",
       "    </tr>\n",
       "    <tr>\n",
       "      <th>24</th>\n",
       "      <td>18</td>\n",
       "      <td>UniProt_P80404</td>\n",
       "      <td>D000431</td>\n",
       "      <td>http://purl.obolibrary.org/obo/HINO_0009223</td>\n",
       "    </tr>\n",
       "    <tr>\n",
       "      <th>28</th>\n",
       "      <td>19</td>\n",
       "      <td>UniProt_O95477</td>\n",
       "      <td>D005632</td>\n",
       "      <td>http://purl.obolibrary.org/obo/HINO_0024720</td>\n",
       "    </tr>\n",
       "    <tr>\n",
       "      <th>29</th>\n",
       "      <td>20</td>\n",
       "      <td>UniProt_Q9BZC7</td>\n",
       "      <td>D005485</td>\n",
       "      <td>http://purl.obolibrary.org/obo/HINO_0019202</td>\n",
       "    </tr>\n",
       "    <tr>\n",
       "      <th>31</th>\n",
       "      <td>21</td>\n",
       "      <td>UniProt_Q99758</td>\n",
       "      <td>C007738</td>\n",
       "      <td>http://purl.obolibrary.org/obo/HINO_0019202</td>\n",
       "    </tr>\n",
       "  </tbody>\n",
       "</table>\n",
       "</div>"
      ],
      "text/plain": [
       "    GeneID       UniprotID ChemicalID  \\\n",
       "2        2  UniProt_P01023    D005620   \n",
       "24      18  UniProt_P80404    D000431   \n",
       "28      19  UniProt_O95477    D005632   \n",
       "29      20  UniProt_Q9BZC7    D005485   \n",
       "31      21  UniProt_Q99758    C007738   \n",
       "\n",
       "                                           Hino  \n",
       "2   http://purl.obolibrary.org/obo/HINO_0003920  \n",
       "24  http://purl.obolibrary.org/obo/HINO_0009223  \n",
       "28  http://purl.obolibrary.org/obo/HINO_0024720  \n",
       "29  http://purl.obolibrary.org/obo/HINO_0019202  \n",
       "31  http://purl.obolibrary.org/obo/HINO_0019202  "
      ]
     },
     "execution_count": 64,
     "metadata": {},
     "output_type": "execute_result"
    }
   ],
   "source": [
    "chem_g_uni.head()"
   ]
  },
  {
   "cell_type": "code",
   "execution_count": 65,
   "metadata": {},
   "outputs": [
    {
     "data": {
      "text/html": [
       "<div>\n",
       "<style scoped>\n",
       "    .dataframe tbody tr th:only-of-type {\n",
       "        vertical-align: middle;\n",
       "    }\n",
       "\n",
       "    .dataframe tbody tr th {\n",
       "        vertical-align: top;\n",
       "    }\n",
       "\n",
       "    .dataframe thead th {\n",
       "        text-align: right;\n",
       "    }\n",
       "</style>\n",
       "<table border=\"1\" class=\"dataframe\">\n",
       "  <thead>\n",
       "    <tr style=\"text-align: right;\">\n",
       "      <th></th>\n",
       "      <th>GeneID</th>\n",
       "      <th>UniprotID</th>\n",
       "      <th>DiseaseID</th>\n",
       "      <th>Hino</th>\n",
       "    </tr>\n",
       "  </thead>\n",
       "  <tbody>\n",
       "    <tr>\n",
       "      <th>2</th>\n",
       "      <td>2</td>\n",
       "      <td>UniProt_P01023</td>\n",
       "      <td>MESH:D009404</td>\n",
       "      <td>http://purl.obolibrary.org/obo/HINO_0003920</td>\n",
       "    </tr>\n",
       "    <tr>\n",
       "      <th>24</th>\n",
       "      <td>18</td>\n",
       "      <td>UniProt_P80404</td>\n",
       "      <td>MESH:D012640</td>\n",
       "      <td>http://purl.obolibrary.org/obo/HINO_0009223</td>\n",
       "    </tr>\n",
       "    <tr>\n",
       "      <th>28</th>\n",
       "      <td>19</td>\n",
       "      <td>UniProt_O95477</td>\n",
       "      <td>MESH:D013631</td>\n",
       "      <td>http://purl.obolibrary.org/obo/HINO_0024720</td>\n",
       "    </tr>\n",
       "    <tr>\n",
       "      <th>31</th>\n",
       "      <td>21</td>\n",
       "      <td>UniProt_Q99758</td>\n",
       "      <td>MESH:C567046</td>\n",
       "      <td>http://purl.obolibrary.org/obo/HINO_0019202</td>\n",
       "    </tr>\n",
       "    <tr>\n",
       "      <th>34</th>\n",
       "      <td>22</td>\n",
       "      <td>UniProt_O75027</td>\n",
       "      <td>MESH:D001259</td>\n",
       "      <td>http://purl.obolibrary.org/obo/HINO_0022160</td>\n",
       "    </tr>\n",
       "  </tbody>\n",
       "</table>\n",
       "</div>"
      ],
      "text/plain": [
       "    GeneID       UniprotID     DiseaseID  \\\n",
       "2        2  UniProt_P01023  MESH:D009404   \n",
       "24      18  UniProt_P80404  MESH:D012640   \n",
       "28      19  UniProt_O95477  MESH:D013631   \n",
       "31      21  UniProt_Q99758  MESH:C567046   \n",
       "34      22  UniProt_O75027  MESH:D001259   \n",
       "\n",
       "                                           Hino  \n",
       "2   http://purl.obolibrary.org/obo/HINO_0003920  \n",
       "24  http://purl.obolibrary.org/obo/HINO_0009223  \n",
       "28  http://purl.obolibrary.org/obo/HINO_0024720  \n",
       "31  http://purl.obolibrary.org/obo/HINO_0019202  \n",
       "34  http://purl.obolibrary.org/obo/HINO_0022160  "
      ]
     },
     "execution_count": 65,
     "metadata": {},
     "output_type": "execute_result"
    }
   ],
   "source": [
    "dis_g_uni.head()"
   ]
  },
  {
   "cell_type": "code",
   "execution_count": 62,
   "metadata": {},
   "outputs": [],
   "source": [
    "# Drop any row that has empty HINO or entity ID\n",
    "dis_g_uni['Hino'] = dis_g_uni.Hino.map(lambda x: np.nan if x is None else x)\n",
    "chem_g_uni['Hino'] = chem_g_uni.Hino.map(lambda x: np.nan if x is None else x)\n",
    "\n",
    "dis_g_uni = dis_g_uni.dropna(subset=['DiseaseID', 'Hino'])\n",
    "chem_g_uni = chem_g_uni.dropna(subset=['ChemicalID', 'Hino'])"
   ]
  },
  {
   "cell_type": "code",
   "execution_count": 66,
   "metadata": {},
   "outputs": [
    {
     "name": "stdout",
     "output_type": "stream",
     "text": [
      "(3015, 4)\n",
      "(5229, 4)\n"
     ]
    }
   ],
   "source": [
    "print(dis_g_uni.shape)\n",
    "print(chem_g_uni.shape)"
   ]
  },
  {
   "cell_type": "code",
   "execution_count": 69,
   "metadata": {},
   "outputs": [
    {
     "data": {
      "text/plain": [
       "0"
      ]
     },
     "execution_count": 69,
     "metadata": {},
     "output_type": "execute_result"
    }
   ],
   "source": [
    "# Create associations files\n",
    "# Output an association file for each of chem and dis\n",
    "np.savetxt(r'associations_disHINO.txt', dis_g_uni[['DiseaseID', 'Hino']].values, fmt='%s')\n",
    "np.savetxt(r'associations_chemHINO.txt', chem_g_uni[['ChemicalID', 'Hino']].values, fmt='%s')\n",
    "\n",
    "# Merge the two\n",
    "subprocess.call('cat associations_disHINO.txt > hinoAssociations', shell=True)\n",
    "subprocess.call('cat associations_chemHINO.txt >> hinoAssociations', shell=True)"
   ]
  },
  {
   "cell_type": "code",
   "execution_count": 70,
   "metadata": {},
   "outputs": [],
   "source": [
    "# Make entities file\n",
    "entities = dis_g_uni.DiseaseID.unique().tolist() + chem_g_uni.ChemicalID.unique().tolist()\n",
    "np.savetxt(r'HINOentities.lst', entities, fmt='%s')"
   ]
  },
  {
   "cell_type": "markdown",
   "metadata": {},
   "source": [
    "### Running OPA"
   ]
  },
  {
   "cell_type": "code",
   "execution_count": 71,
   "metadata": {},
   "outputs": [
    {
     "data": {
      "text/plain": [
       "b'Loading of Axioms ...\\nLoading 1 of 6 ...\\n    1%\\n    2%\\n    3%\\n    4%\\n    5%\\n    6%\\n    7%\\n    8%\\n    9%\\n    10%\\n    12%\\n    13%\\n    15%\\n    17%\\n    18%\\n    20%\\n    21%\\n    23%\\n    25%\\n    26%\\n    28%\\n    29%\\n    31%\\n    32%\\n    34%\\n    36%\\n    38%\\n    39%\\n    41%\\n    43%\\n    45%\\n    48%\\n    50%\\n    53%\\n    55%\\n    57%\\n    59%\\n    61%\\n    64%\\n    66%\\n    69%\\n    71%\\n    73%\\n    76%\\n    77%\\n    79%\\n    81%\\n    83%\\n    85%\\n    87%\\n    89%\\n    90%\\n    92%\\n    94%\\n    96%\\n    97%\\n    ... finished\\nLoading 2 of 6 ...\\n    25%\\n    ... finished\\nLoading 3 of 6 ...\\n    ... finished\\nLoading 4 of 6 ...\\n    39%\\n    ... finished\\nLoading 5 of 6 ...\\n    5%\\n    33%\\n    ... finished\\nLoading 6 of 6 ...\\n    ... finished\\n    ... finished\\nProperty Saturation Initialization ...\\n    ... finished\\nReflexive Property Computation ...\\n    ... finished\\nObject Property Hierarchy and Composition Computation ...\\n    ... finished\\nContext Initialization ...\\n    ... finished\\nConsistency Checking ...\\n    ... finished\\nClass Taxonomy Computation ...\\n    9%\\n    18%\\n    47%\\n    53%\\n    80%\\n    ... finished\\n***********OPA2Vec Running ...***********\\n\\n***********Ontology Processing ...***********\\n\\n***********Ontology Processing Complete ...***********\\n\\n***********Metadata Extraction ...***********\\n\\n***********Metadata Extraction Complete ...***********\\n\\n***********Propagate Associations through hierarchy ...***********\\n\\n***********Association propagation Complete ...***********\\n***********Corpus Creation ...***********\\n\\n***********Corpus Creation Complete ...***********\\n\\n***********Running Word2Vec ...*********** \\n\\n***********Vector representations available at AllVectorResults.lst ***********\\n\\n***********OPA2Vec Complete ...***********\\n\\n'"
      ]
     },
     "execution_count": 71,
     "metadata": {},
     "output_type": "execute_result"
    }
   ],
   "source": [
    "# Ok let's actually run it \n",
    "subprocess.check_output('(cd ../../opa2vec/ ; python2 runOPA2Vec.py -ontology ../ontologies/hino.owl -associations ../msc-thesis/opa/hinoAssociations -entities ../msc-thesis/opa/HINOentities.lst -outfile ../msc-thesis/opa/hinoVecs.lst)', shell=True)"
   ]
  },
  {
   "cell_type": "markdown",
   "metadata": {},
   "source": [
    "### Finished OPA"
   ]
  },
  {
   "cell_type": "code",
   "execution_count": 156,
   "metadata": {},
   "outputs": [],
   "source": [
    "# Create map of REACT ID to URI\n",
    "\n",
    "# Make the maps from this\n",
    "# react_map = dict(zip(hino.Definitions, hino['Class ID']))"
   ]
  },
  {
   "cell_type": "code",
   "execution_count": 157,
   "metadata": {},
   "outputs": [],
   "source": [
    "# read in chem-path and dis-path\n",
    "# create associations file\n",
    "# create entities file\n",
    "# run opa2vec\n",
    "# Switch to opa-nn and import the vectors"
   ]
  },
  {
   "cell_type": "code",
   "execution_count": 158,
   "metadata": {},
   "outputs": [],
   "source": [
    "# # Read in Chem path\n",
    "# df_cpath = pd.read_csv('../ctd-to-nt/csvs/CTD_chem_pathways_enriched.csv.gz', skiprows=27)\n",
    "# df_cpath = df_cpath.drop(0)\n",
    "\n",
    "# # Read in dis path\n",
    "# df_dp = pd.read_csv('../ctd-to-nt/csvs/CTD_diseases_pathways.csv', skiprows=27)\n",
    "# df_dp = df_dp.drop(0)"
   ]
  },
  {
   "cell_type": "code",
   "execution_count": 159,
   "metadata": {},
   "outputs": [
    {
     "data": {
      "text/html": [
       "<div>\n",
       "<style scoped>\n",
       "    .dataframe tbody tr th:only-of-type {\n",
       "        vertical-align: middle;\n",
       "    }\n",
       "\n",
       "    .dataframe tbody tr th {\n",
       "        vertical-align: top;\n",
       "    }\n",
       "\n",
       "    .dataframe thead th {\n",
       "        text-align: right;\n",
       "    }\n",
       "</style>\n",
       "<table border=\"1\" class=\"dataframe\">\n",
       "  <thead>\n",
       "    <tr style=\"text-align: right;\">\n",
       "      <th></th>\n",
       "      <th># ChemicalName</th>\n",
       "      <th>ChemicalID</th>\n",
       "      <th>CasRN</th>\n",
       "      <th>PathwayName</th>\n",
       "      <th>PathwayID</th>\n",
       "      <th>PValue</th>\n",
       "      <th>CorrectedPValue</th>\n",
       "      <th>TargetMatchQty</th>\n",
       "      <th>TargetTotalQty</th>\n",
       "      <th>BackgroundMatchQty</th>\n",
       "      <th>BackgroundTotalQty</th>\n",
       "    </tr>\n",
       "  </thead>\n",
       "  <tbody>\n",
       "    <tr>\n",
       "      <th>18193</th>\n",
       "      <td>2-(2-amino-3-methoxyphenyl)-4H-1-benzopyran-4-one</td>\n",
       "      <td>C093973</td>\n",
       "      <td>NaN</td>\n",
       "      <td>Pancreatic secretion</td>\n",
       "      <td>KEGG:hsa04972</td>\n",
       "      <td>1.330000e-09</td>\n",
       "      <td>0.000002</td>\n",
       "      <td>11.0</td>\n",
       "      <td>391.0</td>\n",
       "      <td>96.0</td>\n",
       "      <td>43067.0</td>\n",
       "    </tr>\n",
       "    <tr>\n",
       "      <th>201894</th>\n",
       "      <td>Benzamides</td>\n",
       "      <td>D001549</td>\n",
       "      <td>NaN</td>\n",
       "      <td>Arginine biosynthesis</td>\n",
       "      <td>KEGG:hsa00220</td>\n",
       "      <td>8.960000e-09</td>\n",
       "      <td>0.000020</td>\n",
       "      <td>13.0</td>\n",
       "      <td>4297.0</td>\n",
       "      <td>21.0</td>\n",
       "      <td>43067.0</td>\n",
       "    </tr>\n",
       "    <tr>\n",
       "      <th>70017</th>\n",
       "      <td>7-(benzylamino)-1,3,4,8-tetrahydropyrrolo(4,3,...</td>\n",
       "      <td>C553817</td>\n",
       "      <td>NaN</td>\n",
       "      <td>Thyroid hormone signaling pathway</td>\n",
       "      <td>KEGG:hsa04919</td>\n",
       "      <td>1.420000e-07</td>\n",
       "      <td>0.000100</td>\n",
       "      <td>6.0</td>\n",
       "      <td>87.0</td>\n",
       "      <td>116.0</td>\n",
       "      <td>43067.0</td>\n",
       "    </tr>\n",
       "  </tbody>\n",
       "</table>\n",
       "</div>"
      ],
      "text/plain": [
       "                                           # ChemicalName ChemicalID CasRN  \\\n",
       "18193   2-(2-amino-3-methoxyphenyl)-4H-1-benzopyran-4-one    C093973   NaN   \n",
       "201894                                         Benzamides    D001549   NaN   \n",
       "70017   7-(benzylamino)-1,3,4,8-tetrahydropyrrolo(4,3,...    C553817   NaN   \n",
       "\n",
       "                              PathwayName      PathwayID        PValue  \\\n",
       "18193                Pancreatic secretion  KEGG:hsa04972  1.330000e-09   \n",
       "201894              Arginine biosynthesis  KEGG:hsa00220  8.960000e-09   \n",
       "70017   Thyroid hormone signaling pathway  KEGG:hsa04919  1.420000e-07   \n",
       "\n",
       "        CorrectedPValue  TargetMatchQty  TargetTotalQty  BackgroundMatchQty  \\\n",
       "18193          0.000002            11.0           391.0                96.0   \n",
       "201894         0.000020            13.0          4297.0                21.0   \n",
       "70017          0.000100             6.0            87.0               116.0   \n",
       "\n",
       "        BackgroundTotalQty  \n",
       "18193              43067.0  \n",
       "201894             43067.0  \n",
       "70017              43067.0  "
      ]
     },
     "execution_count": 159,
     "metadata": {},
     "output_type": "execute_result"
    }
   ],
   "source": [
    "# # Create association file\n",
    "# df_cpath.sample(3)"
   ]
  },
  {
   "cell_type": "code",
   "execution_count": 160,
   "metadata": {},
   "outputs": [],
   "source": [
    "# # ChemicalID PathwayID URI\n",
    "# df_cpath['URI'] = df_cpath.PathwayID.map(lambda x: react_map.get(x))\n",
    "# # # Apply the maps to df1\n",
    "# # df1['DOID'] = df1.DiseaseID.map(lambda x: dis_map.get(x))\n",
    "# # df1['CID'] = df1.ChemicalID.map(lambda x: chem_map.get(x))"
   ]
  },
  {
   "cell_type": "code",
   "execution_count": 162,
   "metadata": {},
   "outputs": [
    {
     "data": {
      "text/plain": [
       "0"
      ]
     },
     "execution_count": 162,
     "metadata": {},
     "output_type": "execute_result"
    }
   ],
   "source": [
    "# df_cpath.URI.nunique()"
   ]
  },
  {
   "cell_type": "code",
   "execution_count": 47,
   "metadata": {},
   "outputs": [],
   "source": [
    "# tester = df_cpath.PathwayID.unique()\n",
    "# tester = [x for x in tester if 'REACT' in x]\n",
    "# sorted(tester)"
   ]
  },
  {
   "cell_type": "code",
   "execution_count": 48,
   "metadata": {},
   "outputs": [],
   "source": [
    "# tester2 = react_map.keys()\n",
    "# print(len(tester2))\n",
    "# sorted(tester2)"
   ]
  },
  {
   "cell_type": "code",
   "execution_count": 49,
   "metadata": {},
   "outputs": [],
   "source": [
    "# 'REACT:R-HSA-9033520' in tester2"
   ]
  },
  {
   "cell_type": "code",
   "execution_count": 50,
   "metadata": {},
   "outputs": [],
   "source": [
    "# len(react_map)"
   ]
  },
  {
   "cell_type": "code",
   "execution_count": null,
   "metadata": {},
   "outputs": [],
   "source": [
    "# Get uniprot ids for chem dis (already have somewhere)\n",
    "# Create map of uniprot to HINO as above\n",
    "# Game set match"
   ]
  },
  {
   "cell_type": "code",
   "execution_count": null,
   "metadata": {},
   "outputs": [],
   "source": []
  }
 ],
 "metadata": {
  "kernelspec": {
   "display_name": "Python 3",
   "language": "python",
   "name": "python3"
  },
  "language_info": {
   "codemirror_mode": {
    "name": "ipython",
    "version": 3
   },
   "file_extension": ".py",
   "mimetype": "text/x-python",
   "name": "python",
   "nbconvert_exporter": "python",
   "pygments_lexer": "ipython3",
   "version": "3.6.5"
  }
 },
 "nbformat": 4,
 "nbformat_minor": 2
}
