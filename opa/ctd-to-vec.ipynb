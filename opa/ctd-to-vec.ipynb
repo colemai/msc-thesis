{
 "cells": [
  {
   "cell_type": "markdown",
   "metadata": {},
   "source": [
    "# Notebook: Create associations file of CTD elements for OPA2VEC\n",
    "<b>Author</b>: Ian Coleman <br/>\n",
    "<b>Function</b>: Get CTD elements (e.g chemicals and diseases), take their go functions and assign to the associated chem/dis in an associations file. Also output finalclasses.lst, a file that tells opa2vec which entities you would like the vectors for\n"
   ]
  },
  {
   "cell_type": "code",
   "execution_count": 2,
   "metadata": {},
   "outputs": [],
   "source": [
    "import pandas as pd\n",
    "import numpy as np\n",
    "import subprocess"
   ]
  },
  {
   "cell_type": "code",
   "execution_count": 6,
   "metadata": {},
   "outputs": [],
   "source": [
    "df_gene_ref = pd.read_csv('../csvs/CTD_genes.csv', skiprows=27 )\n",
    "df_gene_ref = df_gene_ref.drop(0)"
   ]
  },
  {
   "cell_type": "code",
   "execution_count": 7,
   "metadata": {},
   "outputs": [
    {
     "data": {
      "text/html": [
       "<div>\n",
       "<style scoped>\n",
       "    .dataframe tbody tr th:only-of-type {\n",
       "        vertical-align: middle;\n",
       "    }\n",
       "\n",
       "    .dataframe tbody tr th {\n",
       "        vertical-align: top;\n",
       "    }\n",
       "\n",
       "    .dataframe thead th {\n",
       "        text-align: right;\n",
       "    }\n",
       "</style>\n",
       "<table border=\"1\" class=\"dataframe\">\n",
       "  <thead>\n",
       "    <tr style=\"text-align: right;\">\n",
       "      <th></th>\n",
       "      <th># GeneSymbol</th>\n",
       "      <th>GeneName</th>\n",
       "      <th>GeneID</th>\n",
       "      <th>AltGeneIDs</th>\n",
       "      <th>Synonyms</th>\n",
       "      <th>BioGRIDIDs</th>\n",
       "      <th>PharmGKBIDs</th>\n",
       "      <th>UniProtIDs</th>\n",
       "    </tr>\n",
       "  </thead>\n",
       "  <tbody>\n",
       "    <tr>\n",
       "      <th>1</th>\n",
       "      <td>03B03F</td>\n",
       "      <td>DNA segment, 03B03F (Research Genetics)</td>\n",
       "      <td>27777.0</td>\n",
       "      <td>NaN</td>\n",
       "      <td>NaN</td>\n",
       "      <td>NaN</td>\n",
       "      <td>NaN</td>\n",
       "      <td>NaN</td>\n",
       "    </tr>\n",
       "    <tr>\n",
       "      <th>2</th>\n",
       "      <td>03B03R</td>\n",
       "      <td>DNA segment, 03B03R (Research Genetics)</td>\n",
       "      <td>27778.0</td>\n",
       "      <td>NaN</td>\n",
       "      <td>NaN</td>\n",
       "      <td>NaN</td>\n",
       "      <td>NaN</td>\n",
       "      <td>NaN</td>\n",
       "    </tr>\n",
       "    <tr>\n",
       "      <th>3</th>\n",
       "      <td>03.MMHAP34FRA.SEQ</td>\n",
       "      <td>DNA segment, 03.MMHAP34FRA.seq</td>\n",
       "      <td>53288.0</td>\n",
       "      <td>NaN</td>\n",
       "      <td>NaN</td>\n",
       "      <td>NaN</td>\n",
       "      <td>NaN</td>\n",
       "      <td>NaN</td>\n",
       "    </tr>\n",
       "    <tr>\n",
       "      <th>4</th>\n",
       "      <td>064YA</td>\n",
       "      <td>NaN</td>\n",
       "      <td>5658107.0</td>\n",
       "      <td>NaN</td>\n",
       "      <td>unnamed</td>\n",
       "      <td>NaN</td>\n",
       "      <td>NaN</td>\n",
       "      <td>NaN</td>\n",
       "    </tr>\n",
       "    <tr>\n",
       "      <th>5</th>\n",
       "      <td>102G4T7</td>\n",
       "      <td>DNA segment, 102g4T7</td>\n",
       "      <td>56573.0</td>\n",
       "      <td>NaN</td>\n",
       "      <td>NaN</td>\n",
       "      <td>NaN</td>\n",
       "      <td>NaN</td>\n",
       "      <td>NaN</td>\n",
       "    </tr>\n",
       "  </tbody>\n",
       "</table>\n",
       "</div>"
      ],
      "text/plain": [
       "        # GeneSymbol                                 GeneName     GeneID  \\\n",
       "1             03B03F  DNA segment, 03B03F (Research Genetics)    27777.0   \n",
       "2             03B03R  DNA segment, 03B03R (Research Genetics)    27778.0   \n",
       "3  03.MMHAP34FRA.SEQ           DNA segment, 03.MMHAP34FRA.seq    53288.0   \n",
       "4              064YA                                      NaN  5658107.0   \n",
       "5            102G4T7                     DNA segment, 102g4T7    56573.0   \n",
       "\n",
       "  AltGeneIDs Synonyms BioGRIDIDs PharmGKBIDs UniProtIDs  \n",
       "1        NaN      NaN        NaN         NaN        NaN  \n",
       "2        NaN      NaN        NaN         NaN        NaN  \n",
       "3        NaN      NaN        NaN         NaN        NaN  \n",
       "4        NaN  unnamed        NaN         NaN        NaN  \n",
       "5        NaN      NaN        NaN         NaN        NaN  "
      ]
     },
     "execution_count": 7,
     "metadata": {},
     "output_type": "execute_result"
    }
   ],
   "source": [
    "df_gene_ref.head()"
   ]
  },
  {
   "cell_type": "code",
   "execution_count": 9,
   "metadata": {},
   "outputs": [
    {
     "data": {
      "text/plain": [
       "(508297, 8)"
      ]
     },
     "execution_count": 9,
     "metadata": {},
     "output_type": "execute_result"
    }
   ],
   "source": [
    "df_gene_ref.shape"
   ]
  },
  {
   "cell_type": "code",
   "execution_count": 12,
   "metadata": {},
   "outputs": [],
   "source": [
    "df_gene_ref = df_gene_ref.dropna(subset=['UniProtIDs', 'GeneID']) # drop if it doesn't have UniprotID"
   ]
  },
  {
   "cell_type": "code",
   "execution_count": 13,
   "metadata": {},
   "outputs": [
    {
     "data": {
      "text/plain": [
       "(291192, 8)"
      ]
     },
     "execution_count": 13,
     "metadata": {},
     "output_type": "execute_result"
    }
   ],
   "source": [
    "df_gene_ref.shape"
   ]
  },
  {
   "cell_type": "code",
   "execution_count": null,
   "metadata": {},
   "outputs": [],
   "source": []
  },
  {
   "cell_type": "code",
   "execution_count": null,
   "metadata": {},
   "outputs": [],
   "source": []
  }
 ],
 "metadata": {
  "kernelspec": {
   "display_name": "Python 3",
   "language": "python",
   "name": "python3"
  },
  "language_info": {
   "codemirror_mode": {
    "name": "ipython",
    "version": 3
   },
   "file_extension": ".py",
   "mimetype": "text/x-python",
   "name": "python",
   "nbconvert_exporter": "python",
   "pygments_lexer": "ipython3",
   "version": "3.6.5"
  }
 },
 "nbformat": 4,
 "nbformat_minor": 2
}
