{
 "cells": [
  {
   "cell_type": "markdown",
   "metadata": {},
   "source": [
    "# Notebook: Create OPA2VEC associations file - Phenotypes\n",
    "<b>Author</b>: Ian Coleman <br/>\n",
    "<b>Function</b>: Get phenotypes associated with diseases and chemicals. Create association file between entity and phenotypes, for use in opa2vec. Also output finalclasses.lst, a file that tells opa2vec which entities you would like the vectors for <br>\n",
    "(i) creates map of Disease IDs to DOIDS"
   ]
  },
  {
   "cell_type": "code",
   "execution_count": 53,
   "metadata": {},
   "outputs": [],
   "source": [
    "import pandas as pd\n",
    "import numpy as np\n",
    "import subprocess\n",
    "import pickle\n",
    "import ast\n",
    "import re"
   ]
  },
  {
   "cell_type": "markdown",
   "metadata": {},
   "source": [
    "##### Create CTD to CID map for all chemicals... \n",
    "will take ages to run, so might as well create full map instead of running each time I need it"
   ]
  },
  {
   "cell_type": "code",
   "execution_count": 54,
   "metadata": {},
   "outputs": [],
   "source": [
    "# # Add PubChem CIDs to chems -- ONLY have to run this if pkl object not already made, takes a while you see\n",
    "# df = pd.read_csv('allchemsthathavegenesID.txt', names=['ID'])\n",
    "\n",
    "# # Export CTD IDs for conversion\n",
    "# np.savetxt(r'CTDids.csv', df_chems.ID.unique(), fmt='%s')\n",
    "\n",
    "# Run a pre-made script to convert them via an API --> Creates CTD:CID map as ctd_cid_map.pkl\n",
    "# subprocess.check_output('python3 CTDtoCID.py allchemsthathavegenesID.txt', shell=True)\n"
   ]
  },
  {
   "cell_type": "code",
   "execution_count": 55,
   "metadata": {},
   "outputs": [],
   "source": [
    "# This creates map as pickle object --> a python dict that you can load like so:\n",
    "# # Load the dictionary object output by the above-run script\n",
    "# def load_obj(name):\n",
    "#     with open(name + '.pkl', 'rb') as f:\n",
    "#         return pickle.load(f)\n",
    "\n",
    "# ctd_cid_map = load_obj('ctd_cid_map')"
   ]
  },
  {
   "cell_type": "markdown",
   "metadata": {},
   "source": [
    "### 1. Read in Disease and Chemical IDs\n",
    "And map in the relevant ID format (Pubchem CID for chems, Disease ontology ID for Diseases)"
   ]
  },
  {
   "cell_type": "code",
   "execution_count": 56,
   "metadata": {},
   "outputs": [],
   "source": [
    "# Read in all of the CTD diseases that have positive gene association(s)\n",
    "diseases = pd.read_csv('../ctd-to-nt/all-diseases-w-genes-ctd.txt', names=['MESH'])"
   ]
  },
  {
   "cell_type": "code",
   "execution_count": 57,
   "metadata": {},
   "outputs": [],
   "source": [
    "# Read in the ctd map of various disease identifiers\n",
    "ctd_dis = pd.read_csv('../ctd-to-nt/csvs/CTD_diseases.csv', skiprows=27)\n",
    "ctd_dis['AltDiseaseIDs'] = ctd_dis.AltDiseaseIDs.astype(str)\n",
    "ctd_dis = ctd_dis.drop(0)"
   ]
  },
  {
   "cell_type": "code",
   "execution_count": 58,
   "metadata": {},
   "outputs": [
    {
     "data": {
      "text/html": [
       "<div>\n",
       "<style scoped>\n",
       "    .dataframe tbody tr th:only-of-type {\n",
       "        vertical-align: middle;\n",
       "    }\n",
       "\n",
       "    .dataframe tbody tr th {\n",
       "        vertical-align: top;\n",
       "    }\n",
       "\n",
       "    .dataframe thead th {\n",
       "        text-align: right;\n",
       "    }\n",
       "</style>\n",
       "<table border=\"1\" class=\"dataframe\">\n",
       "  <thead>\n",
       "    <tr style=\"text-align: right;\">\n",
       "      <th></th>\n",
       "      <th># DiseaseName</th>\n",
       "      <th>DiseaseID</th>\n",
       "      <th>AltDiseaseIDs</th>\n",
       "      <th>Definition</th>\n",
       "      <th>ParentIDs</th>\n",
       "      <th>TreeNumbers</th>\n",
       "      <th>ParentTreeNumbers</th>\n",
       "      <th>Synonyms</th>\n",
       "      <th>SlimMappings</th>\n",
       "    </tr>\n",
       "  </thead>\n",
       "  <tbody>\n",
       "    <tr>\n",
       "      <th>9430</th>\n",
       "      <td>Pancreatic cancer, adult</td>\n",
       "      <td>MESH:C535836</td>\n",
       "      <td>nan</td>\n",
       "      <td>NaN</td>\n",
       "      <td>MESH:D002277|MESH:D010190</td>\n",
       "      <td>C04.557.470.200/C535836|C04.588.274.761/C53583...</td>\n",
       "      <td>C04.557.470.200|C04.588.274.761|C04.588.322.47...</td>\n",
       "      <td>NaN</td>\n",
       "      <td>Cancer|Digestive system disease|Endocrine syst...</td>\n",
       "    </tr>\n",
       "    <tr>\n",
       "      <th>6210</th>\n",
       "      <td>Ichthyosis, X-Linked, without Steroid Sulfatas...</td>\n",
       "      <td>MESH:C564729</td>\n",
       "      <td>nan</td>\n",
       "      <td>NaN</td>\n",
       "      <td>MESH:D016114</td>\n",
       "      <td>C16.131.831.512.420/C564729|C16.320.322.241/C5...</td>\n",
       "      <td>C16.131.831.512.420|C16.320.322.241|C16.320.56...</td>\n",
       "      <td>NaN</td>\n",
       "      <td>Congenital abnormality|Genetic disease (inborn...</td>\n",
       "    </tr>\n",
       "    <tr>\n",
       "      <th>11517</th>\n",
       "      <td>Spinal Muscular Atrophy, Distal, Autosomal Rec...</td>\n",
       "      <td>MESH:C564626</td>\n",
       "      <td>OMIM:607088</td>\n",
       "      <td>NaN</td>\n",
       "      <td>MESH:D009134</td>\n",
       "      <td>C10.228.854.468/C564626|C10.574.562.500/C56462...</td>\n",
       "      <td>C10.228.854.468|C10.574.562.500|C10.668.467.500</td>\n",
       "      <td>DHMN3|DHMN4|DSMA3|HMN3|HMN4|HMN III|HMN IV|Neu...</td>\n",
       "      <td>Nervous system disease</td>\n",
       "    </tr>\n",
       "  </tbody>\n",
       "</table>\n",
       "</div>"
      ],
      "text/plain": [
       "                                           # DiseaseName     DiseaseID  \\\n",
       "9430                            Pancreatic cancer, adult  MESH:C535836   \n",
       "6210   Ichthyosis, X-Linked, without Steroid Sulfatas...  MESH:C564729   \n",
       "11517  Spinal Muscular Atrophy, Distal, Autosomal Rec...  MESH:C564626   \n",
       "\n",
       "      AltDiseaseIDs Definition                  ParentIDs  \\\n",
       "9430            nan        NaN  MESH:D002277|MESH:D010190   \n",
       "6210            nan        NaN               MESH:D016114   \n",
       "11517   OMIM:607088        NaN               MESH:D009134   \n",
       "\n",
       "                                             TreeNumbers  \\\n",
       "9430   C04.557.470.200/C535836|C04.588.274.761/C53583...   \n",
       "6210   C16.131.831.512.420/C564729|C16.320.322.241/C5...   \n",
       "11517  C10.228.854.468/C564626|C10.574.562.500/C56462...   \n",
       "\n",
       "                                       ParentTreeNumbers  \\\n",
       "9430   C04.557.470.200|C04.588.274.761|C04.588.322.47...   \n",
       "6210   C16.131.831.512.420|C16.320.322.241|C16.320.56...   \n",
       "11517    C10.228.854.468|C10.574.562.500|C10.668.467.500   \n",
       "\n",
       "                                                Synonyms  \\\n",
       "9430                                                 NaN   \n",
       "6210                                                 NaN   \n",
       "11517  DHMN3|DHMN4|DSMA3|HMN3|HMN4|HMN III|HMN IV|Neu...   \n",
       "\n",
       "                                            SlimMappings  \n",
       "9430   Cancer|Digestive system disease|Endocrine syst...  \n",
       "6210   Congenital abnormality|Genetic disease (inborn...  \n",
       "11517                             Nervous system disease  "
      ]
     },
     "execution_count": 58,
     "metadata": {},
     "output_type": "execute_result"
    }
   ],
   "source": [
    "ctd_dis.sample(3)"
   ]
  },
  {
   "cell_type": "code",
   "execution_count": 59,
   "metadata": {},
   "outputs": [],
   "source": [
    "# Isolate only rows with DOID\n",
    "ctd_dis = ctd_dis[ctd_dis.AltDiseaseIDs.map(lambda x: 'DOID' in x)]\n",
    "\n",
    "# Use regex to extract the DOID\n",
    "r = re.compile('DOID:[0-9]*')\n",
    "\n",
    "def get_doid(x, r):\n",
    "    return (r.findall(x)[-1])\n",
    "\n",
    "ctd_dis['AltDiseaseIDs'] = ctd_dis.AltDiseaseIDs.map(lambda x: get_doid(x, r))"
   ]
  },
  {
   "cell_type": "code",
   "execution_count": 60,
   "metadata": {},
   "outputs": [],
   "source": [
    "# map ctd's mesh to doid\n",
    "ctd_dis2doid = dict(zip(ctd_dis.DiseaseID, ctd_dis.AltDiseaseIDs))"
   ]
  },
  {
   "cell_type": "code",
   "execution_count": 98,
   "metadata": {},
   "outputs": [
    {
     "data": {
      "text/html": [
       "<div>\n",
       "<style scoped>\n",
       "    .dataframe tbody tr th:only-of-type {\n",
       "        vertical-align: middle;\n",
       "    }\n",
       "\n",
       "    .dataframe tbody tr th {\n",
       "        vertical-align: top;\n",
       "    }\n",
       "\n",
       "    .dataframe thead th {\n",
       "        text-align: right;\n",
       "    }\n",
       "</style>\n",
       "<table border=\"1\" class=\"dataframe\">\n",
       "  <thead>\n",
       "    <tr style=\"text-align: right;\">\n",
       "      <th></th>\n",
       "      <th>MESH</th>\n",
       "      <th>DOID</th>\n",
       "    </tr>\n",
       "  </thead>\n",
       "  <tbody>\n",
       "    <tr>\n",
       "      <th>878</th>\n",
       "      <td>MESH:C536436</td>\n",
       "      <td>DOID:1925</td>\n",
       "    </tr>\n",
       "    <tr>\n",
       "      <th>1331</th>\n",
       "      <td>OMIM:616907</td>\n",
       "      <td>DOID:0110821</td>\n",
       "    </tr>\n",
       "    <tr>\n",
       "      <th>2426</th>\n",
       "      <td>MESH:C537104</td>\n",
       "      <td>DOID:0060232</td>\n",
       "    </tr>\n",
       "  </tbody>\n",
       "</table>\n",
       "</div>"
      ],
      "text/plain": [
       "              MESH          DOID\n",
       "878   MESH:C536436     DOID:1925\n",
       "1331   OMIM:616907  DOID:0110821\n",
       "2426  MESH:C537104  DOID:0060232"
      ]
     },
     "execution_count": 98,
     "metadata": {},
     "output_type": "execute_result"
    }
   ],
   "source": [
    "diseases.sample(3)"
   ]
  },
  {
   "cell_type": "code",
   "execution_count": 86,
   "metadata": {},
   "outputs": [],
   "source": [
    "# # Download a doid-mesh file offered by human disease ontology in order to make a second map from this source\n",
    "# url = \"https://raw.githubusercontent.com/obophenotype/human-disease-ontology/master/src/experimental/align-doid-to-mesh.tsv\"\n",
    "# !wget -O doid_mesh.tsv $url"
   ]
  },
  {
   "cell_type": "code",
   "execution_count": 85,
   "metadata": {},
   "outputs": [],
   "source": [
    "doid_mesh = pd.read_csv('doid_mesh.tsv', sep='\\t', names=['DOID', 'doid-dis', 'MESH', 'mesh-dis', 'bool', 'nans']\n",
    "                       , nrows=6768)\n",
    "mesh_to_doid = doid_mesh.set_index('MESH').DOID.to_dict()"
   ]
  },
  {
   "cell_type": "code",
   "execution_count": 87,
   "metadata": {},
   "outputs": [],
   "source": [
    "diseases['DOID'] = diseases.MESH.map(lambda x: ctd_dis2doid.get(x))\n",
    "diseases['DOID2'] = diseases.MESH.map(lambda x: mesh_to_doid.get(x))\n",
    "# Note I also tried the maps mona gave me but they don't seem to add anything beyond these two"
   ]
  },
  {
   "cell_type": "code",
   "execution_count": 88,
   "metadata": {},
   "outputs": [
    {
     "name": "stdout",
     "output_type": "stream",
     "text": [
      "2166\n",
      "1586\n"
     ]
    }
   ],
   "source": [
    "print(diseases.DOID.nunique())\n",
    "print(diseases.DOID2.nunique())"
   ]
  },
  {
   "cell_type": "code",
   "execution_count": 97,
   "metadata": {},
   "outputs": [],
   "source": [
    "# Merge the two columns of DOIDs\n",
    "diseases['DOID'] = diseases.DOID.map(lambda x: np.nan if x is None else x)\n",
    "diseases.DOID.fillna(diseases.DOID2, inplace=True)\n",
    "del diseases['DOID2']"
   ]
  },
  {
   "cell_type": "code",
   "execution_count": null,
   "metadata": {},
   "outputs": [],
   "source": [
    "# Export this as a csv to be imported into opa-nn\n",
    "df.to_csv('chem_dis_to_CID_DOID.csv', index=False)"
   ]
  },
  {
   "cell_type": "code",
   "execution_count": null,
   "metadata": {},
   "outputs": [],
   "source": [
    "# full_file_list = full_file_string.split('[Term]')"
   ]
  },
  {
   "cell_type": "code",
   "execution_count": null,
   "metadata": {},
   "outputs": [],
   "source": [
    "# full_file_list[3:6]"
   ]
  },
  {
   "cell_type": "code",
   "execution_count": null,
   "metadata": {},
   "outputs": [],
   "source": [
    "# # Regx\n",
    "# import re\n",
    "# # (DOID|MESH|OMIM|UMLS)[^\\\\ ]*"
   ]
  },
  {
   "cell_type": "code",
   "execution_count": null,
   "metadata": {},
   "outputs": [],
   "source": [
    "# full_file_list[5]"
   ]
  },
  {
   "cell_type": "code",
   "execution_count": null,
   "metadata": {},
   "outputs": [],
   "source": [
    "# re.findall('(?:DOID|MESH|OMIM|UMLS_CUI)[.:0-9A-Za-z]*', full_file_list[5])"
   ]
  },
  {
   "cell_type": "code",
   "execution_count": null,
   "metadata": {},
   "outputs": [],
   "source": [
    "# m.group(1)"
   ]
  },
  {
   "cell_type": "code",
   "execution_count": null,
   "metadata": {},
   "outputs": [],
   "source": [
    "# processed_hdo = []\n",
    "# for item in full_file_list:\n",
    "#     processed_hdo.append(re.findall('(?:DOID|MESH|OMIM|UMLS_CUI)[.:0-9A-Za-z]*', item))"
   ]
  },
  {
   "cell_type": "code",
   "execution_count": null,
   "metadata": {},
   "outputs": [],
   "source": [
    "# processed_hdo[1]"
   ]
  },
  {
   "cell_type": "code",
   "execution_count": null,
   "metadata": {},
   "outputs": [],
   "source": [
    "# regex = re.compile(r'OMIM|MESH')\n",
    "# filtered = [processed_hdo[1][0]] + [i for i in processed_hdo[1][1:] if regex.search(i)]"
   ]
  },
  {
   "cell_type": "code",
   "execution_count": null,
   "metadata": {},
   "outputs": [],
   "source": [
    "# filtered"
   ]
  },
  {
   "cell_type": "code",
   "execution_count": null,
   "metadata": {},
   "outputs": [],
   "source": [
    "# regex = re.compile(r'OMIM|MESH')\n",
    "# doid_mesh_omim = []\n",
    "# for lister in processed_hdo:\n",
    "#         if len(lister) < 2:\n",
    "#             doid_mesh_omim.append(np.nan)\n",
    "#         else:\n",
    "#             doid_mesh_omim.append([i for i in lister[1:] if regex.search(i)])\n",
    "    "
   ]
  },
  {
   "cell_type": "code",
   "execution_count": null,
   "metadata": {},
   "outputs": [],
   "source": [
    "# doid_mesh_omim"
   ]
  },
  {
   "cell_type": "code",
   "execution_count": null,
   "metadata": {},
   "outputs": [],
   "source": [
    "# pd.DataFrame(processed_hdo)"
   ]
  },
  {
   "cell_type": "code",
   "execution_count": null,
   "metadata": {},
   "outputs": [],
   "source": []
  }
 ],
 "metadata": {
  "kernelspec": {
   "display_name": "Python 3",
   "language": "python",
   "name": "python3"
  },
  "language_info": {
   "codemirror_mode": {
    "name": "ipython",
    "version": 3
   },
   "file_extension": ".py",
   "mimetype": "text/x-python",
   "name": "python",
   "nbconvert_exporter": "python",
   "pygments_lexer": "ipython3",
   "version": "3.6.5"
  }
 },
 "nbformat": 4,
 "nbformat_minor": 2
}
