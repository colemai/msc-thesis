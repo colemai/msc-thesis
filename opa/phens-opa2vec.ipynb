{
 "cells": [
  {
   "cell_type": "markdown",
   "metadata": {},
   "source": [
    "# Notebook: Create OPA2VEC associations file - Phenotypes\n",
    "<b>Author</b>: Ian Coleman <br/>\n",
    "<b>Function</b>: Get phenotypes associated with diseases and chemicals. Create association file between entity and phenotypes, for use in opa2vec. Also output finalclasses.lst, a file that tells opa2vec which entities you would like the vectors for <br>\n",
    "(i) creates map of Disease IDs to DOIDS"
   ]
  },
  {
   "cell_type": "code",
   "execution_count": 102,
   "metadata": {},
   "outputs": [],
   "source": [
    "import pandas as pd\n",
    "import numpy as np\n",
    "import subprocess\n",
    "import pickle\n",
    "import ast\n",
    "import re"
   ]
  },
  {
   "cell_type": "markdown",
   "metadata": {},
   "source": [
    "##### Create CTD to CID map for all chemicals... \n",
    "will take ages to run, so might as well create full map instead of running each time I need it"
   ]
  },
  {
   "cell_type": "code",
   "execution_count": 103,
   "metadata": {},
   "outputs": [],
   "source": [
    "# # Add PubChem CIDs to chems -- ONLY have to run this if pkl object not already made, takes a while you see\n",
    "# df = pd.read_csv('allchemsthathavegenesID.txt', names=['ID'])\n",
    "\n",
    "# # Export CTD IDs for conversion\n",
    "# np.savetxt(r'CTDids.csv', df_chems.ID.unique(), fmt='%s')\n",
    "\n",
    "# Run a pre-made script to convert them via an API --> Creates CTD:CID map as ctd_cid_map.pkl\n",
    "# subprocess.check_output('python3 CTDtoCID.py allchemsthathavegenesID.txt', shell=True)\n"
   ]
  },
  {
   "cell_type": "code",
   "execution_count": 104,
   "metadata": {},
   "outputs": [],
   "source": [
    "# This creates map as pickle object --> a python dict that you can load like so:\n",
    "# # Load the dictionary object output by the above-run script\n",
    "# def load_obj(name):\n",
    "#     with open(name + '.pkl', 'rb') as f:\n",
    "#         return pickle.load(f)\n",
    "\n",
    "# ctd_cid_map = load_obj('ctd_cid_map')"
   ]
  },
  {
   "cell_type": "markdown",
   "metadata": {},
   "source": [
    "### 1. Read in Disease and Chemical IDs\n",
    "And map in the relevant ID format (Pubchem CID for chems, Disease ontology ID for Diseases)"
   ]
  },
  {
   "cell_type": "code",
   "execution_count": 105,
   "metadata": {},
   "outputs": [],
   "source": [
    "# Read in all of the CTD diseases that have positive gene association(s)\n",
    "diseases = pd.read_csv('../ctd-to-nt/all-diseases-w-genes-ctd.txt', names=['MESH'])"
   ]
  },
  {
   "cell_type": "code",
   "execution_count": 106,
   "metadata": {},
   "outputs": [],
   "source": [
    "# Read in the ctd map of various disease identifiers\n",
    "ctd_dis = pd.read_csv('../ctd-to-nt/csvs/CTD_diseases.csv', skiprows=27)\n",
    "ctd_dis['AltDiseaseIDs'] = ctd_dis.AltDiseaseIDs.astype(str)\n",
    "ctd_dis = ctd_dis.drop(0)"
   ]
  },
  {
   "cell_type": "code",
   "execution_count": 107,
   "metadata": {},
   "outputs": [
    {
     "data": {
      "text/html": [
       "<div>\n",
       "<style scoped>\n",
       "    .dataframe tbody tr th:only-of-type {\n",
       "        vertical-align: middle;\n",
       "    }\n",
       "\n",
       "    .dataframe tbody tr th {\n",
       "        vertical-align: top;\n",
       "    }\n",
       "\n",
       "    .dataframe thead th {\n",
       "        text-align: right;\n",
       "    }\n",
       "</style>\n",
       "<table border=\"1\" class=\"dataframe\">\n",
       "  <thead>\n",
       "    <tr style=\"text-align: right;\">\n",
       "      <th></th>\n",
       "      <th># DiseaseName</th>\n",
       "      <th>DiseaseID</th>\n",
       "      <th>AltDiseaseIDs</th>\n",
       "      <th>Definition</th>\n",
       "      <th>ParentIDs</th>\n",
       "      <th>TreeNumbers</th>\n",
       "      <th>ParentTreeNumbers</th>\n",
       "      <th>Synonyms</th>\n",
       "      <th>SlimMappings</th>\n",
       "    </tr>\n",
       "  </thead>\n",
       "  <tbody>\n",
       "    <tr>\n",
       "      <th>9084</th>\n",
       "      <td>Oligohydramnios</td>\n",
       "      <td>MESH:D016104</td>\n",
       "      <td>DO:DOID:12215</td>\n",
       "      <td>A condition of abnormally low AMNIOTIC FLUID v...</td>\n",
       "      <td>MESH:D011248</td>\n",
       "      <td>C13.703.560</td>\n",
       "      <td>C13.703</td>\n",
       "      <td>NaN</td>\n",
       "      <td>Pregnancy complication</td>\n",
       "    </tr>\n",
       "    <tr>\n",
       "      <th>138</th>\n",
       "      <td>Achard-Thiers syndrome</td>\n",
       "      <td>MESH:C536013</td>\n",
       "      <td>nan</td>\n",
       "      <td>NaN</td>\n",
       "      <td>MESH:D010051|MESH:D014770|MESH:D048909</td>\n",
       "      <td>C04.588.322.455/C536013|C13.351.500.056.630.70...</td>\n",
       "      <td>C04.588.322.455|C13.351.500.056.630.705|C13.35...</td>\n",
       "      <td>Adenoma associated virilism of older women|Bea...</td>\n",
       "      <td>Cancer|Endocrine system disease|Signs and symp...</td>\n",
       "    </tr>\n",
       "    <tr>\n",
       "      <th>2546</th>\n",
       "      <td>Chromosome 8, trisomy</td>\n",
       "      <td>MESH:C537942</td>\n",
       "      <td>nan</td>\n",
       "      <td>NaN</td>\n",
       "      <td>MESH:D014314</td>\n",
       "      <td>C23.550.210.050.750/C537942|C23.550.210.182.50...</td>\n",
       "      <td>C23.550.210.050.750|C23.550.210.182.500</td>\n",
       "      <td>Chromosome 8 duplication|Trisomy 8</td>\n",
       "      <td>Pathology (process)</td>\n",
       "    </tr>\n",
       "  </tbody>\n",
       "</table>\n",
       "</div>"
      ],
      "text/plain": [
       "               # DiseaseName     DiseaseID  AltDiseaseIDs  \\\n",
       "9084         Oligohydramnios  MESH:D016104  DO:DOID:12215   \n",
       "138   Achard-Thiers syndrome  MESH:C536013            nan   \n",
       "2546   Chromosome 8, trisomy  MESH:C537942            nan   \n",
       "\n",
       "                                             Definition  \\\n",
       "9084  A condition of abnormally low AMNIOTIC FLUID v...   \n",
       "138                                                 NaN   \n",
       "2546                                                NaN   \n",
       "\n",
       "                                   ParentIDs  \\\n",
       "9084                            MESH:D011248   \n",
       "138   MESH:D010051|MESH:D014770|MESH:D048909   \n",
       "2546                            MESH:D014314   \n",
       "\n",
       "                                            TreeNumbers  \\\n",
       "9084                                        C13.703.560   \n",
       "138   C04.588.322.455/C536013|C13.351.500.056.630.70...   \n",
       "2546  C23.550.210.050.750/C537942|C23.550.210.182.50...   \n",
       "\n",
       "                                      ParentTreeNumbers  \\\n",
       "9084                                            C13.703   \n",
       "138   C04.588.322.455|C13.351.500.056.630.705|C13.35...   \n",
       "2546            C23.550.210.050.750|C23.550.210.182.500   \n",
       "\n",
       "                                               Synonyms  \\\n",
       "9084                                                NaN   \n",
       "138   Adenoma associated virilism of older women|Bea...   \n",
       "2546                 Chromosome 8 duplication|Trisomy 8   \n",
       "\n",
       "                                           SlimMappings  \n",
       "9084                             Pregnancy complication  \n",
       "138   Cancer|Endocrine system disease|Signs and symp...  \n",
       "2546                                Pathology (process)  "
      ]
     },
     "execution_count": 107,
     "metadata": {},
     "output_type": "execute_result"
    }
   ],
   "source": [
    "ctd_dis.sample(3)"
   ]
  },
  {
   "cell_type": "code",
   "execution_count": 108,
   "metadata": {},
   "outputs": [],
   "source": [
    "# Isolate only rows with DOID\n",
    "ctd_dis = ctd_dis[ctd_dis.AltDiseaseIDs.map(lambda x: 'DOID' in x)]\n",
    "\n",
    "# Use regex to extract the DOID\n",
    "r = re.compile('DOID:[0-9]*')\n",
    "\n",
    "def get_doid(x, r):\n",
    "    return (r.findall(x)[-1])\n",
    "\n",
    "ctd_dis['AltDiseaseIDs'] = ctd_dis.AltDiseaseIDs.map(lambda x: get_doid(x, r))"
   ]
  },
  {
   "cell_type": "code",
   "execution_count": 109,
   "metadata": {},
   "outputs": [],
   "source": [
    "# map ctd's mesh to doid\n",
    "ctd_dis2doid = dict(zip(ctd_dis.DiseaseID, ctd_dis.AltDiseaseIDs))"
   ]
  },
  {
   "cell_type": "code",
   "execution_count": 110,
   "metadata": {},
   "outputs": [
    {
     "data": {
      "text/html": [
       "<div>\n",
       "<style scoped>\n",
       "    .dataframe tbody tr th:only-of-type {\n",
       "        vertical-align: middle;\n",
       "    }\n",
       "\n",
       "    .dataframe tbody tr th {\n",
       "        vertical-align: top;\n",
       "    }\n",
       "\n",
       "    .dataframe thead th {\n",
       "        text-align: right;\n",
       "    }\n",
       "</style>\n",
       "<table border=\"1\" class=\"dataframe\">\n",
       "  <thead>\n",
       "    <tr style=\"text-align: right;\">\n",
       "      <th></th>\n",
       "      <th>MESH</th>\n",
       "    </tr>\n",
       "  </thead>\n",
       "  <tbody>\n",
       "    <tr>\n",
       "      <th>2885</th>\n",
       "      <td>OMIM:615473</td>\n",
       "    </tr>\n",
       "    <tr>\n",
       "      <th>3893</th>\n",
       "      <td>OMIM:613672</td>\n",
       "    </tr>\n",
       "    <tr>\n",
       "      <th>4847</th>\n",
       "      <td>OMIM:616402</td>\n",
       "    </tr>\n",
       "    <tr>\n",
       "      <th>5783</th>\n",
       "      <td>OMIM:616469</td>\n",
       "    </tr>\n",
       "    <tr>\n",
       "      <th>3309</th>\n",
       "      <td>MESH:D016883</td>\n",
       "    </tr>\n",
       "    <tr>\n",
       "      <th>1348</th>\n",
       "      <td>MESH:C565833</td>\n",
       "    </tr>\n",
       "  </tbody>\n",
       "</table>\n",
       "</div>"
      ],
      "text/plain": [
       "              MESH\n",
       "2885   OMIM:615473\n",
       "3893   OMIM:613672\n",
       "4847   OMIM:616402\n",
       "5783   OMIM:616469\n",
       "3309  MESH:D016883\n",
       "1348  MESH:C565833"
      ]
     },
     "execution_count": 110,
     "metadata": {},
     "output_type": "execute_result"
    }
   ],
   "source": [
    "diseases.sample(6)"
   ]
  },
  {
   "cell_type": "code",
   "execution_count": 111,
   "metadata": {},
   "outputs": [],
   "source": [
    "# # Download a doid-mesh file offered by human disease ontology in order to make a second map from this source\n",
    "# url = \"https://raw.githubusercontent.com/obophenotype/human-disease-ontology/master/src/experimental/align-doid-to-mesh.tsv\"\n",
    "# !wget -O doid_mesh.tsv $url"
   ]
  },
  {
   "cell_type": "code",
   "execution_count": 112,
   "metadata": {},
   "outputs": [],
   "source": [
    "doid_mesh = pd.read_csv('doid_mesh.tsv', sep='\\t', names=['DOID', 'doid-dis', 'MESH', 'mesh-dis', 'bool', 'nans']\n",
    "                       , nrows=6768)\n",
    "mesh_to_doid = doid_mesh.set_index('MESH').DOID.to_dict()"
   ]
  },
  {
   "cell_type": "code",
   "execution_count": 113,
   "metadata": {},
   "outputs": [],
   "source": [
    "diseases['DOID'] = diseases.MESH.map(lambda x: ctd_dis2doid.get(x))\n",
    "diseases['DOID2'] = diseases.MESH.map(lambda x: mesh_to_doid.get(x))\n",
    "# Note I also tried the maps mona gave me but they don't seem to add anything beyond these two"
   ]
  },
  {
   "cell_type": "code",
   "execution_count": 114,
   "metadata": {},
   "outputs": [
    {
     "name": "stdout",
     "output_type": "stream",
     "text": [
      "2166\n",
      "1586\n"
     ]
    }
   ],
   "source": [
    "print(diseases.DOID.nunique())\n",
    "print(diseases.DOID2.nunique())"
   ]
  },
  {
   "cell_type": "code",
   "execution_count": 115,
   "metadata": {},
   "outputs": [],
   "source": [
    "# Merge the two columns of DOIDs\n",
    "diseases['DOID'] = diseases.DOID.map(lambda x: np.nan if x is None else x)\n",
    "diseases.DOID.fillna(diseases.DOID2, inplace=True)\n",
    "del diseases['DOID2']"
   ]
  },
  {
   "cell_type": "code",
   "execution_count": 116,
   "metadata": {},
   "outputs": [],
   "source": [
    "# Export this as a csv to be imported into opa-nn\n",
    "diseases.to_csv('ctd_dis_to_doid.csv', index=False)"
   ]
  },
  {
   "cell_type": "code",
   "execution_count": null,
   "metadata": {},
   "outputs": [],
   "source": []
  }
 ],
 "metadata": {
  "kernelspec": {
   "display_name": "Python 3",
   "language": "python",
   "name": "python3"
  },
  "language_info": {
   "codemirror_mode": {
    "name": "ipython",
    "version": 3
   },
   "file_extension": ".py",
   "mimetype": "text/x-python",
   "name": "python",
   "nbconvert_exporter": "python",
   "pygments_lexer": "ipython3",
   "version": "3.6.5"
  }
 },
 "nbformat": 4,
 "nbformat_minor": 2
}
