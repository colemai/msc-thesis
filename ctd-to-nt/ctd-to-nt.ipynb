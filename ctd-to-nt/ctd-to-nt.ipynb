{
 "cells": [
  {
   "cell_type": "markdown",
   "metadata": {},
   "source": [
    "# Create NT files from CTD csvs\n",
    "<b>Author</b>: Ian Coleman <br/>\n",
    "<b>Function</b>: Takes local CTD csvs and turns each into a .nt file"
   ]
  },
  {
   "cell_type": "markdown",
   "metadata": {},
   "source": [
    "<b>Notes:</b>\n",
    "To run this for visualising and investigating the data you'll need to ensure that each pd.read_csv line takes the argument   or some other small number <br>\n",
    "To run it for the intended purpose of converting the DBs to RDF make sure that the nrows argument is not being passed anywhere"
   ]
  },
  {
   "cell_type": "code",
   "execution_count": 1,
   "metadata": {},
   "outputs": [],
   "source": [
    "import pandas as pd\n",
    "import numpy as np\n",
    "import scipy as sp\n",
    "import subprocess\n",
    "import math\n",
    "import pickle"
   ]
  },
  {
   "cell_type": "code",
   "execution_count": 2,
   "metadata": {},
   "outputs": [
    {
     "data": {
      "text/plain": [
       "0"
      ]
     },
     "execution_count": 2,
     "metadata": {},
     "output_type": "execute_result"
    }
   ],
   "source": [
    "# Begin log file (progress etc so can be checked from ssh)\n",
    "subprocess.call('echo \"Date: \" `date` > log.txt', shell=True)"
   ]
  },
  {
   "cell_type": "markdown",
   "metadata": {},
   "source": [
    "## Functions"
   ]
  },
  {
   "cell_type": "code",
   "execution_count": 13,
   "metadata": {},
   "outputs": [],
   "source": [
    "# def convert_df_nt (df, output_file, subj_url, subj_col, obj_url, obj_col, pred_col, odd_url=0):\n",
    "#     \"\"\"\n",
    "#     Input:\n",
    "#         DF: some rows and columns of a dataframe\n",
    "#         STR: name for the output file, include filetype .nt\n",
    "#         STR: subj_url is the url to be used for all subjects\n",
    "#         STR: subj_col is the column from which to get the id for the subj\n",
    "#         STR: obj_url is the url to be used for all objects\n",
    "#         STR: obj_col is the column from which to get the id for the obj\n",
    "#         STR: OPTIONAL odd_url is for when a subset obj/subj of require a different url \n",
    "#     Output:\n",
    "#         NT file\n",
    "#     \"\"\"\n",
    "#     f = open(output_file,'w')\n",
    "#     for index, row in df.iterrows():\n",
    "#         subj = '<' + subj_url + row[subj_col] + '> '\n",
    "#         pred = '<' + 'http://ian.ie/' + row[pred_col] + '> '\n",
    "#         if 'OMIM' in row[obj_col]:\n",
    "#             row[obj_col] = row[obj_col].replace('OMIM:', '')\n",
    "#             obj = '<' + odd_url + row[obj_col] + '> '\n",
    "#         else:\n",
    "#             obj = '<' + obj_url + row[obj_col] + '> '\n",
    "#         f.write(subj + pred + obj + '.' + '\\n')\n",
    "#     f.close()"
   ]
  },
  {
   "cell_type": "code",
   "execution_count": 2,
   "metadata": {},
   "outputs": [],
   "source": [
    "# Version 2 of this function. It aims to include predicate code if provided, preferentially\n",
    "# to handmade URI. ALSO now accounts for kegg in the pathway columns\n",
    "\n",
    "def convert_df_nt (df, output_file, subj_url, subj_col, obj_url, obj_col, pred_col, odd_url=['~`']):\n",
    "    \"\"\"\n",
    "    Input:\n",
    "        DF: some rows and columns of a dataframe\n",
    "        STR: name for the output file, include filetype .nt\n",
    "        STR: subj_url is the url to be used for all subjects\n",
    "        STR: subj_col is the column from which to get the id for the subj\n",
    "        STR: obj_url is the url to be used for all objects\n",
    "        STR: obj_col is the column from which to get the id for the obj\n",
    "        List: OPTIONAL odd_url is for when a subset obj/subj of require a different url\n",
    "        it should be a list of [substr to remove, URL]\n",
    "    Output:\n",
    "        NT file\n",
    "    \"\"\"\n",
    "    # establish boolean to determine whether df has predicate codes\n",
    "    pred_code = False \n",
    "    if 'pred_code' in list(df.columns): \n",
    "        pred_code = True\n",
    "        \n",
    "    f = open(output_file,'w')\n",
    "    for index, row in df.iterrows():\n",
    "        subj = '<' + subj_url + row[subj_col] + '> '\n",
    "        if row.pred_code == 'nan':\n",
    "            pred = '<' + 'http://ian.ie/' + row[pred_col] + '> '\n",
    "        else:\n",
    "            pred = '<' + 'http://purl.obolibrary.org/obo/' + row['pred_code'] + '> '\n",
    "        if odd_url[0] in row[obj_col]:\n",
    "            row[obj_col] = row[obj_col].replace(odd_url[0], '')\n",
    "            obj = '<' + odd_url[1] + row[obj_col] + '> '\n",
    "        else:\n",
    "            obj = '<' + obj_url + row[obj_col] + '> '\n",
    "        f.write(subj + pred + obj + '.' + '\\n')\n",
    "    f.close()"
   ]
  },
  {
   "cell_type": "code",
   "execution_count": 15,
   "metadata": {},
   "outputs": [],
   "source": [
    "#TODO rework this to vectorise it\n",
    "# def convert_df_nt (df, output_file, subj_url, subj_col, obj_url, obj_col, pred_col, odd_url=0):\n",
    "#     \"\"\"\n",
    "#     Input:\n",
    "#         DF: some rows and columns of a dataframe\n",
    "#         STR: name for the output file, include filetype .nt\n",
    "#         STR: subj_url is the url to be used for all subjects\n",
    "#         STR: subj_col is the column from which to get the id for the subj\n",
    "#         STR: obj_url is the url to be used for all objects\n",
    "#         STR: obj_col is the column from which to get the id for the obj\n",
    "#         STR: OPTIONAL odd_url is for when a subset obj/subj of require a different url \n",
    "#     Output:\n",
    "#         NT file\n",
    "#     \"\"\"\n",
    "#     f = open(output_file,'w')\n",
    "#     for index, row in df.iterrows():\n",
    "#         subj = '<' + subj_url + row[subj_col] + '> '\n",
    "#         pred = '<' + 'http://ian.ie/' + row[pred_col] + '> '\n",
    "#         if 'OMIM' in row[obj_col]:\n",
    "#             row[obj_col] = row[obj_col].replace('OMIM:', '')\n",
    "#             obj = '<' + odd_url + row[obj_col] + '> '\n",
    "#         else:\n",
    "#             obj = '<' + obj_url + row[obj_col] + '> '\n",
    "#         f.write(subj + pred + obj + '.' + '\\n')\n",
    "#     f.close()"
   ]
  },
  {
   "cell_type": "markdown",
   "metadata": {},
   "source": [
    "## Download Databases"
   ]
  },
  {
   "cell_type": "code",
   "execution_count": 16,
   "metadata": {},
   "outputs": [],
   "source": [
    "# # subprocess.call('pip3 install wget', shell=True)\n",
    "# subprocess.call('wget http://ctdbase.org/reports/CTD_chem_gene_ixns.csv.gz', shell=True)\n",
    "# subprocess.call('wget http://ctdbase.org/reports/CTD_chemicals_diseases.csv.gz', shell = True)\n",
    "# subprocess.call('wget http://ctdbase.org/reports/CTD_chem_pathways_enriched.csv.gz', shell = True)\n",
    "# subprocess.call('wget http://ctdbase.org/reports/CTD_genes_diseases.csv.gz', shell = True)\n",
    "# subprocess.call('wget http://ctdbase.org/reports/CTD_genes_pathways.csv.gz', shell = True)\n",
    "# subprocess.call('wget http://ctdbase.org/reports/CTD_diseases_pathways.csv.gz', shell = True)\n",
    "# subprocess.call('wget http://ctdbase.org/reports/CTD_pheno_term_ixns.csv.gz', shell = True)"
   ]
  },
  {
   "cell_type": "code",
   "execution_count": 17,
   "metadata": {},
   "outputs": [],
   "source": [
    "# # Move all the csvs to a subfolder and unzip them\n",
    "# subprocess.call('mkdir csvs', shell=True)\n",
    "# subprocess.call('mv *.gz csvs/', shell=True)\n",
    "# subprocess.call('gunzip csvs/*.gz', shell=True)"
   ]
  },
  {
   "cell_type": "code",
   "execution_count": 18,
   "metadata": {},
   "outputs": [],
   "source": [
    "# too ambitious?? \n",
    "# TODO attempt to make one func to import and process all ctd databases\n",
    "# def ctd_to_rdf(csv, output_file, subj_url, subj_col, obj_url, obj_col, pred_col):\n",
    "#     \"\"\"\n",
    "#     \"\"\"\n",
    "#     df = pd.read_csv(csv, skiprows=27 )\n",
    "#     df = df.drop(0)\n",
    "#     convert_df_nt(df, output_file, subj_url, subj_col, obj_url, obj_col, pred_col)"
   ]
  },
  {
   "cell_type": "markdown",
   "metadata": {},
   "source": [
    "## CHEM-GENE "
   ]
  },
  {
   "cell_type": "code",
   "execution_count": 19,
   "metadata": {},
   "outputs": [
    {
     "data": {
      "text/plain": [
       "0"
      ]
     },
     "execution_count": 19,
     "metadata": {},
     "output_type": "execute_result"
    }
   ],
   "source": [
    "# Log progress\n",
    "subprocess.call('echo \"Begin Chem-Gene\" >> log.txt', shell=True)"
   ]
  },
  {
   "cell_type": "code",
   "execution_count": null,
   "metadata": {},
   "outputs": [],
   "source": []
  },
  {
   "cell_type": "code",
   "execution_count": null,
   "metadata": {},
   "outputs": [],
   "source": [
    "# Read in CTD sample, skipping the intro rows8888\n",
    "df_cg = pd.read_csv('csvs/CTD_chem_gene_ixns.csv', skiprows=27, nrows=1000)\n",
    "df_cg = df_cg.drop(0)\n",
    "df_cg = df_cg.rename(columns={'# ChemicalName': 'ChemicalName'}) # rename of a column"
   ]
  },
  {
   "cell_type": "code",
   "execution_count": 13,
   "metadata": {},
   "outputs": [
    {
     "name": "stdout",
     "output_type": "stream",
     "text": [
      "(1678128, 11)\n"
     ]
    }
   ],
   "source": [
    "print(df_cg.shape)"
   ]
  },
  {
   "cell_type": "code",
   "execution_count": null,
   "metadata": {},
   "outputs": [],
   "source": [
    "# Split the interactionActions into separate predicates RUN THIS ONLY ONCE\n",
    "s = df_cg['InteractionActions'].str.split('|').apply(pd.Series, 1).stack()\n",
    "s.index = s.index.droplevel(-1)\n",
    "s.name = 'InteractionActions'\n",
    "df_cg = df_cg.join(s.apply(lambda x: pd.Series(x.split('|'))))"
   ]
  },
  {
   "cell_type": "code",
   "execution_count": null,
   "metadata": {},
   "outputs": [],
   "source": [
    "df_cg.head()"
   ]
  },
  {
   "cell_type": "code",
   "execution_count": null,
   "metadata": {},
   "outputs": [],
   "source": [
    "# Make the new column prettier\n",
    "df_cg = df_cg.rename(columns={0: 'Predicate'})\n",
    "df_cg['Predicate'] = df_cg.Predicate.str.replace('^', '_')\n",
    "df_cg['Predicate'] = df_cg.Predicate.str.replace(' ', '_')"
   ]
  },
  {
   "cell_type": "code",
   "execution_count": null,
   "metadata": {},
   "outputs": [],
   "source": [
    "# Need to change float to int for the url to work\n",
    "df_cg['GeneID'] = df_cg.GeneID.astype(int)\n",
    "\n",
    "#Specify type to optimise\n",
    "df_cg['ChemicalID'] = df_cg.ChemicalID.astype(str)\n",
    "df_cg['GeneID'] = df_cg.GeneID.astype(str)"
   ]
  },
  {
   "cell_type": "code",
   "execution_count": null,
   "metadata": {},
   "outputs": [],
   "source": [
    "# Painstakingly split the predicates into the available RO/GO predicates... will do only a\n",
    "# partial job as am in proof of concept stage and Ontology may change [ only clearest effects]\n",
    "# RO_0002213 = positively regulates\n",
    "# RO_0002212 = negatively regulates \n",
    "# http://purl.obolibrary.org/obo/RO_0002213\n",
    "\n",
    "map_to_ro = {\n",
    "    'increases_expression' : 'RO_0002213',\n",
    "    'decreases_activity' : 'RO_0002212',\n",
    "    'decreases_expression': 'RO_0002212',\n",
    "    'increases_activity': 'RO_0002213',\n",
    "    'increases_stability': 'RO_0002213',\n",
    "    'decreases_stability': 'RO_0002212',\n",
    "    'increases_abundance': 'RO_0002213',\n",
    "    'decreases_abundance': 'RO_0002212',\n",
    "    'increases_degradation': 'RO_0002212',\n",
    "    'decreases_degradation': 'RO_0002213'\n",
    "}\n",
    "\n",
    "# Apply map to create ro_predicate value for applicable predicates\n",
    "df_cg['pred_code'] = df_cg.Predicate.map(map_to_ro).astype(str)"
   ]
  },
  {
   "cell_type": "code",
   "execution_count": null,
   "metadata": {},
   "outputs": [],
   "source": [
    "print(df_cg.Predicate.value_counts())"
   ]
  },
  {
   "cell_type": "code",
   "execution_count": null,
   "metadata": {},
   "outputs": [],
   "source": [
    "len(df_cg)\n",
    "# len(df_cg[df_cg.OrganismID == 9606.0])"
   ]
  },
  {
   "cell_type": "code",
   "execution_count": null,
   "metadata": {},
   "outputs": [],
   "source": [
    "# This cell makes the association file for opa2vec, limiting to humans and limiting to positive regulation\n",
    "# of a gene\n"
   ]
  },
  {
   "cell_type": "code",
   "execution_count": null,
   "metadata": {},
   "outputs": [],
   "source": [
    "df_cg[10:30]"
   ]
  },
  {
   "cell_type": "code",
   "execution_count": null,
   "metadata": {},
   "outputs": [],
   "source": [
    "print(df_cg.shape)"
   ]
  },
  {
   "cell_type": "code",
   "execution_count": null,
   "metadata": {},
   "outputs": [],
   "source": [
    "# Export map of Chems:Genes\n",
    "chem_gene_map = dict(zip(df_cg.ChemicalID, df_cg.GeneID))\n",
    "\n",
    "with open('CHEM_GENE_map'+ '.pkl', 'wb') as f:\n",
    "        pickle.dump(chem_gene_map, f, pickle.HIGHEST_PROTOCOL)"
   ]
  },
  {
   "cell_type": "code",
   "execution_count": null,
   "metadata": {},
   "outputs": [],
   "source": [
    "subj_url = 'http://identifiers.org/ctd.chemical/' \n",
    "subj_col = 'ChemicalID'\n",
    "obj_url = 'http://identifiers.org/ctd.gene/' \n",
    "obj_col = 'GeneID'\n",
    "pred_col = 'Predicate'\n",
    "\n",
    "convert_df_nt(df_cg, 'output_cg.nt', subj_url, subj_col, obj_url, obj_col, pred_col)"
   ]
  },
  {
   "cell_type": "markdown",
   "metadata": {},
   "source": [
    "## Chem-Disease"
   ]
  },
  {
   "cell_type": "code",
   "execution_count": null,
   "metadata": {},
   "outputs": [],
   "source": [
    "# Log progress\n",
    "subprocess.call('echo \"Begin Chem-Dis\" >> log.txt', shell=True)"
   ]
  },
  {
   "cell_type": "code",
   "execution_count": 3,
   "metadata": {},
   "outputs": [],
   "source": [
    "# Read in CTD sample, skipping the intro rows\n",
    "cols = ['ChemicalID', 'DiseaseID', 'DirectEvidence']\n",
    "col_types = {   \n",
    "    'ChemicalID': 'category',\n",
    "    'DiseaseID': 'category',\n",
    "    'DirectEvidence': 'category'\n",
    "}\n",
    "df_cd = pd.read_csv('csvs/CTD_chemicals_diseases.csv', skiprows=27, usecols=cols, dtype=col_types)\n",
    "df_cd = df_cd.drop(0)\n",
    "df_cd = df_cd.dropna(subset=['DirectEvidence']) # drop if it doesn't have direct evidence"
   ]
  },
  {
   "cell_type": "code",
   "execution_count": 4,
   "metadata": {},
   "outputs": [
    {
     "data": {
      "text/html": [
       "<div>\n",
       "<style scoped>\n",
       "    .dataframe tbody tr th:only-of-type {\n",
       "        vertical-align: middle;\n",
       "    }\n",
       "\n",
       "    .dataframe tbody tr th {\n",
       "        vertical-align: top;\n",
       "    }\n",
       "\n",
       "    .dataframe thead th {\n",
       "        text-align: right;\n",
       "    }\n",
       "</style>\n",
       "<table border=\"1\" class=\"dataframe\">\n",
       "  <thead>\n",
       "    <tr style=\"text-align: right;\">\n",
       "      <th></th>\n",
       "      <th>ChemicalID</th>\n",
       "      <th>DiseaseID</th>\n",
       "      <th>DirectEvidence</th>\n",
       "    </tr>\n",
       "  </thead>\n",
       "  <tbody>\n",
       "    <tr>\n",
       "      <th>1</th>\n",
       "      <td>C046983</td>\n",
       "      <td>MESH:D054198</td>\n",
       "      <td>therapeutic</td>\n",
       "    </tr>\n",
       "    <tr>\n",
       "      <th>71</th>\n",
       "      <td>C112297</td>\n",
       "      <td>MESH:D006948</td>\n",
       "      <td>marker/mechanism</td>\n",
       "    </tr>\n",
       "    <tr>\n",
       "      <th>86</th>\n",
       "      <td>C112297</td>\n",
       "      <td>MESH:D012640</td>\n",
       "      <td>marker/mechanism</td>\n",
       "    </tr>\n",
       "    <tr>\n",
       "      <th>135</th>\n",
       "      <td>C039775</td>\n",
       "      <td>MESH:D004827</td>\n",
       "      <td>therapeutic</td>\n",
       "    </tr>\n",
       "    <tr>\n",
       "      <th>189</th>\n",
       "      <td>C425777</td>\n",
       "      <td>MESH:D006948</td>\n",
       "      <td>marker/mechanism</td>\n",
       "    </tr>\n",
       "  </tbody>\n",
       "</table>\n",
       "</div>"
      ],
      "text/plain": [
       "    ChemicalID     DiseaseID    DirectEvidence\n",
       "1      C046983  MESH:D054198       therapeutic\n",
       "71     C112297  MESH:D006948  marker/mechanism\n",
       "86     C112297  MESH:D012640  marker/mechanism\n",
       "135    C039775  MESH:D004827       therapeutic\n",
       "189    C425777  MESH:D006948  marker/mechanism"
      ]
     },
     "execution_count": 4,
     "metadata": {},
     "output_type": "execute_result"
    }
   ],
   "source": [
    "df_cd.head()"
   ]
  },
  {
   "cell_type": "code",
   "execution_count": 16,
   "metadata": {},
   "outputs": [],
   "source": [
    "# Create list of all chems and diseases for use elsewhere\n",
    "allChems = list(df_cd.ChemicalID.unique())\n",
    "allDis =  list(df_cd.DiseaseID.unique())\n",
    "all_chems_all_dis = np.asarray(allChems + allDis)\n",
    "np.savetxt(r'all-ctd_chems_dis.txt', all_chems_all_dis, fmt='%s')"
   ]
  },
  {
   "cell_type": "code",
   "execution_count": null,
   "metadata": {},
   "outputs": [],
   "source": [
    "# ## Create chem-dis file with only positive, directly-evidenced associations (for use in opa-nn)\n",
    "df1 = df_cd[df_cd.DirectEvidence == 'marker/mechanism']\n",
    "df1 = df1[['ChemicalID', 'DiseaseID']]\n",
    "df1.to_csv('chem-dis-pos-assocs.csv', index=False)"
   ]
  },
  {
   "cell_type": "code",
   "execution_count": null,
   "metadata": {},
   "outputs": [],
   "source": [
    "# Process DiseaseID so as to be usable in url\n",
    "df_cd['DiseaseID'] = df_cd['DiseaseID'].str.replace('MESH:', '')\n",
    "\n",
    "#Specify type to optimise\n",
    "df_cd['ChemicalID'] = df_cd.ChemicalID.astype(str)\n",
    "# df_cd['InferenceGeneSymbol'] = df_cd.InferenceGeneSymbol.astype(str)"
   ]
  },
  {
   "cell_type": "code",
   "execution_count": null,
   "metadata": {},
   "outputs": [],
   "source": [
    "# Create Predicate Column\n",
    "def cd_predicate(r):\n",
    "    \"\"\"\n",
    "    Create predicate from directevidence if available\n",
    "    \"\"\"\n",
    "    return 'associated_directly_with'\n",
    "\n",
    "# df_cd['DirectEvidence'] = df_cd.DirectEvidence.astype(str) \n",
    "df_cd['Predicate'] = df_cd.apply(cd_predicate, axis=1)\n",
    "df_cd['Predicate'] = df_cd.Predicate.astype(str)"
   ]
  },
  {
   "cell_type": "code",
   "execution_count": null,
   "metadata": {},
   "outputs": [],
   "source": [
    "# #Specify type to optimise\n",
    "# df_cd['ChemicalID'] = df_cd.ChemicalID.astype(str)\n",
    "# df_cd['DiseaseID'] = df_cd.DiseaseID.astype(str)\n",
    "\n",
    "df_cd.DirectEvidence.unique()\n"
   ]
  },
  {
   "cell_type": "code",
   "execution_count": null,
   "metadata": {},
   "outputs": [],
   "source": [
    "# Painstakingly split the predicates into the available RO/GO predicates... will do only a\n",
    "# partial job as am in proof of concept stage and Ontology may change [ only clearest effects]\n",
    "# RO_0002213 = positively regulates\n",
    "# RO_0002212 = negatively regulates \n",
    "# RO_0003308 = correlated with condition\n",
    "# http://purl.obolibrary.org/obo/RO_0002213\n",
    "\n",
    "map_to_ro = {\n",
    "    'therapeutic': 'RO_0002212',\n",
    "    'marker/mechanism': 'RO_0003308' \n",
    "}\n",
    "\n",
    "# Apply map to create ro_predicate value for applicable predicates\n",
    "df_cd['pred_code'] = df_cd.DirectEvidence.map(map_to_ro).astype(str)"
   ]
  },
  {
   "cell_type": "code",
   "execution_count": null,
   "metadata": {},
   "outputs": [],
   "source": [
    "# # Exporting diseaseID and Disease Name for mapping DisGeNet UMLS codes to MESH\n",
    "# df_cd_mesh = df_cd.loc[:, ('DiseaseName', 'DiseaseID')]\n",
    "# df_cd_mesh.to_csv('CTDdis-names.csv', index=False)"
   ]
  },
  {
   "cell_type": "code",
   "execution_count": null,
   "metadata": {},
   "outputs": [],
   "source": []
  },
  {
   "cell_type": "code",
   "execution_count": null,
   "metadata": {},
   "outputs": [],
   "source": [
    "subj_url = 'http://identifiers.org/ctd.chemical/' \n",
    "subj_col = 'ChemicalID'\n",
    "obj_url = 'http://identifiers.org/mesh/'\n",
    "obj_url_2 = 'http://identifiers.org/omim/' # to use when CTD gives an omim disease id\n",
    "obj_col = 'DiseaseID'\n",
    "pred_col = 'Predicate'\n",
    "\n",
    "convert_df_nt(df_cd, 'output_cd.nt', subj_url, subj_col, obj_url, obj_col, pred_col, ['OMIM:',obj_url_2])"
   ]
  },
  {
   "cell_type": "markdown",
   "metadata": {},
   "source": [
    "## Gene Disease"
   ]
  },
  {
   "cell_type": "code",
   "execution_count": null,
   "metadata": {},
   "outputs": [],
   "source": [
    "# Log progress\n",
    "subprocess.call('echo \"Begin Gene-Dis\" >> log.txt', shell=True)"
   ]
  },
  {
   "cell_type": "code",
   "execution_count": null,
   "metadata": {},
   "outputs": [],
   "source": [
    "# Read in CTD sample, skipping the intro rows\n",
    "# TODO probably faster to pre-process out rows without direct evidence:\n",
    "# awk  '$5!=\"\"' CTD_genes_diseases.csv > CTD_genes_diseases.csv\n",
    "cols = ['GeneID', 'DiseaseID', 'DirectEvidence']\n",
    "col_types = {   \n",
    "    'GeneID': 'category',\n",
    "    'DiseaseID': 'category',\n",
    "    'DirectEvidence': 'category'\n",
    "}\n",
    "df_gd = pd.read_csv('csvs/CTD_genes_diseases.csv', skiprows=27, usecols=cols, dtype=col_types)\n",
    "df_gd = df_gd.drop(0)\n",
    "df_gd = df_gd.dropna(subset=['DirectEvidence']) # drop if it doesn't have direct evidence"
   ]
  },
  {
   "cell_type": "code",
   "execution_count": null,
   "metadata": {},
   "outputs": [],
   "source": [
    "# # Export a list of all diseases that have genes\n",
    "# ctd_diseases = df_gd.DiseaseID.unique()\n",
    "# np.savetxt(r'all-diseases-w-genes-ctd.txt', ctd_diseases, fmt='%s')"
   ]
  },
  {
   "cell_type": "code",
   "execution_count": null,
   "metadata": {},
   "outputs": [],
   "source": [
    "#Specify type to optimise\n",
    "df_gd['GeneID'] = df_gd.GeneID.astype(str)\n",
    "df_gd['DiseaseID'] = df_gd.DiseaseID.astype(str)"
   ]
  },
  {
   "cell_type": "code",
   "execution_count": null,
   "metadata": {},
   "outputs": [],
   "source": [
    "# Export map of Chems:Genes\n",
    "dis_gene_map = dict(zip(df_gd.DiseaseID, df_cg.GeneID))\n",
    "\n",
    "with open('DIS_GENE_map'+ '.pkl', 'wb') as f:\n",
    "        pickle.dump(dis_gene_map, f, pickle.HIGHEST_PROTOCOL)"
   ]
  },
  {
   "cell_type": "code",
   "execution_count": null,
   "metadata": {},
   "outputs": [],
   "source": [
    "## Create gene-dis file with only positive, directly-evidenced associations (for use in opa-nn)\n",
    "df1 = df_gd[df_gd.DirectEvidence == 'marker/mechanism']\n",
    "df1 = df1[['GeneID', 'DiseaseID']]\n",
    "df1.to_csv('gene-dis-pos-assocs.csv', index=False)"
   ]
  },
  {
   "cell_type": "code",
   "execution_count": null,
   "metadata": {},
   "outputs": [],
   "source": [
    "df_gd.head()"
   ]
  },
  {
   "cell_type": "code",
   "execution_count": null,
   "metadata": {},
   "outputs": [],
   "source": [
    "df_gd[df_gd.DirectEvidence == 'marker/mechanism'].shape"
   ]
  },
  {
   "cell_type": "code",
   "execution_count": null,
   "metadata": {},
   "outputs": [],
   "source": [
    "df_gd.head()"
   ]
  },
  {
   "cell_type": "code",
   "execution_count": null,
   "metadata": {},
   "outputs": [],
   "source": [
    "# Must make some quick refinements to ensure resulting URLs work\n",
    "df_gd['GeneID'] = df_gd.GeneID.astype(float) \n",
    "df_gd['GeneID'] = df_gd['GeneID'].fillna(0).astype(int)\n",
    "df_gd['GeneID'] = df_gd['GeneID'].astype(str)\n",
    "df_gd['DirectEvidence'] = df_gd.DirectEvidence.astype(str) \n",
    "df_gd['DiseaseID'] = df_gd['DiseaseID'].str.replace('MESH:', '')\n",
    "\n",
    "# Create Predicate Column\n",
    "def gd_predicate(r):\n",
    "    \"\"\"\n",
    "    Create predicate\n",
    "    \"\"\"\n",
    "    return 'associated_directly_with'\n",
    "    \n",
    "df_gd['Predicate'] = df_gd.apply(gd_predicate, axis=1)\n",
    "df_gd['Predicate'] = df_gd.Predicate.astype(str)"
   ]
  },
  {
   "cell_type": "code",
   "execution_count": null,
   "metadata": {},
   "outputs": [],
   "source": [
    "df_gd.head()\n",
    "df_gd.DirectEvidence.unique()"
   ]
  },
  {
   "cell_type": "code",
   "execution_count": null,
   "metadata": {},
   "outputs": [],
   "source": [
    "# Painstakingly split the predicates into the available RO/GO predicates... will do only a\n",
    "# partial job as am in proof of concept stage and Ontology may change [ only clearest effects]\n",
    "# RO_0002213 = positively regulates\n",
    "# RO_0002212 = negatively regulates \n",
    "# RO_0003308 = correlated with condition\n",
    "# http://purl.obolibrary.org/obo/RO_0002213\n",
    "\n",
    "map_to_ro = {\n",
    "    'therapeutic': 'RO_0002212',\n",
    "    'marker/mechanism': 'RO_0003308' \n",
    "}\n",
    "\n",
    "# Apply map to create ro_predicate value for applicable predicates\n",
    "df_gd['pred_code'] = df_gd.DirectEvidence.map(map_to_ro).astype(str)"
   ]
  },
  {
   "cell_type": "code",
   "execution_count": null,
   "metadata": {},
   "outputs": [],
   "source": []
  },
  {
   "cell_type": "code",
   "execution_count": null,
   "metadata": {},
   "outputs": [],
   "source": [
    "subj_url = 'http://identifiers.org/ctd.gene/' \n",
    "subj_col = 'GeneID'\n",
    "obj_url = 'http://identifiers.org/mesh/' \n",
    "obj_url_2 = 'http://identifiers.org/omim/' # to use when CTD gives an omim disease id\n",
    "obj_col = 'DiseaseID'\n",
    "pred_col = 'Predicate'\n",
    "\n",
    "convert_df_nt(df_gd, 'output_gd.nt', subj_url, subj_col, obj_url, obj_col, pred_col, ['OMIM:',obj_url_2])"
   ]
  },
  {
   "cell_type": "markdown",
   "metadata": {},
   "source": [
    "## Gene Pathway"
   ]
  },
  {
   "cell_type": "code",
   "execution_count": null,
   "metadata": {},
   "outputs": [],
   "source": [
    "# Log progress\n",
    "subprocess.call('echo \"Begin Gene-Path\" >> log.txt', shell=True)"
   ]
  },
  {
   "cell_type": "code",
   "execution_count": 2,
   "metadata": {},
   "outputs": [],
   "source": [
    "# Read in CTD sample, skipping the intro rows\n",
    "df_gp = pd.read_csv('csvs/CTD_genes_pathways.csv', skiprows=27, nrows=1000 )\n",
    "df_gp = df_gp.drop(0)"
   ]
  },
  {
   "cell_type": "code",
   "execution_count": 9,
   "metadata": {},
   "outputs": [
    {
     "data": {
      "text/html": [
       "<div>\n",
       "<style scoped>\n",
       "    .dataframe tbody tr th:only-of-type {\n",
       "        vertical-align: middle;\n",
       "    }\n",
       "\n",
       "    .dataframe tbody tr th {\n",
       "        vertical-align: top;\n",
       "    }\n",
       "\n",
       "    .dataframe thead th {\n",
       "        text-align: right;\n",
       "    }\n",
       "</style>\n",
       "<table border=\"1\" class=\"dataframe\">\n",
       "  <thead>\n",
       "    <tr style=\"text-align: right;\">\n",
       "      <th></th>\n",
       "      <th># GeneSymbol</th>\n",
       "      <th>GeneID</th>\n",
       "      <th>PathwayName</th>\n",
       "      <th>PathwayID</th>\n",
       "    </tr>\n",
       "  </thead>\n",
       "  <tbody>\n",
       "    <tr>\n",
       "      <th>998</th>\n",
       "      <td>ACOT4</td>\n",
       "      <td>122970.0</td>\n",
       "      <td>Metabolism</td>\n",
       "      <td>REACT:R-HSA-1430728</td>\n",
       "    </tr>\n",
       "    <tr>\n",
       "      <th>952</th>\n",
       "      <td>ACO2</td>\n",
       "      <td>50.0</td>\n",
       "      <td>Citric acid cycle (TCA cycle)</td>\n",
       "      <td>REACT:R-HSA-71403</td>\n",
       "    </tr>\n",
       "    <tr>\n",
       "      <th>573</th>\n",
       "      <td>ABR</td>\n",
       "      <td>29.0</td>\n",
       "      <td>Signaling by Rho GTPases</td>\n",
       "      <td>REACT:R-HSA-194315</td>\n",
       "    </tr>\n",
       "    <tr>\n",
       "      <th>430</th>\n",
       "      <td>ABCG5</td>\n",
       "      <td>64240.0</td>\n",
       "      <td>Transmembrane transport of small molecules</td>\n",
       "      <td>REACT:R-HSA-382551</td>\n",
       "    </tr>\n",
       "    <tr>\n",
       "      <th>169</th>\n",
       "      <td>ABAT</td>\n",
       "      <td>18.0</td>\n",
       "      <td>Metabolic pathways</td>\n",
       "      <td>KEGG:hsa01100</td>\n",
       "    </tr>\n",
       "    <tr>\n",
       "      <th>668</th>\n",
       "      <td>ACACB</td>\n",
       "      <td>32.0</td>\n",
       "      <td>Pyruvate metabolism</td>\n",
       "      <td>KEGG:hsa00620</td>\n",
       "    </tr>\n",
       "    <tr>\n",
       "      <th>987</th>\n",
       "      <td>ACOT2</td>\n",
       "      <td>10965.0</td>\n",
       "      <td>Fatty Acyl-CoA Biosynthesis</td>\n",
       "      <td>REACT:R-HSA-75105</td>\n",
       "    </tr>\n",
       "    <tr>\n",
       "      <th>242</th>\n",
       "      <td>ABCB10</td>\n",
       "      <td>23456.0</td>\n",
       "      <td>ABC transporters</td>\n",
       "      <td>KEGG:hsa02010</td>\n",
       "    </tr>\n",
       "    <tr>\n",
       "      <th>736</th>\n",
       "      <td>ACADSB</td>\n",
       "      <td>36.0</td>\n",
       "      <td>Fatty acid degradation</td>\n",
       "      <td>KEGG:hsa00071</td>\n",
       "    </tr>\n",
       "    <tr>\n",
       "      <th>23</th>\n",
       "      <td>A2M</td>\n",
       "      <td>2.0</td>\n",
       "      <td>Platelet activation, signaling and aggregation</td>\n",
       "      <td>REACT:R-HSA-76002</td>\n",
       "    </tr>\n",
       "    <tr>\n",
       "      <th>159</th>\n",
       "      <td>AATF</td>\n",
       "      <td>26574.0</td>\n",
       "      <td>p75 NTR receptor-mediated signalling</td>\n",
       "      <td>REACT:R-HSA-193704</td>\n",
       "    </tr>\n",
       "    <tr>\n",
       "      <th>649</th>\n",
       "      <td>ACACA</td>\n",
       "      <td>31.0</td>\n",
       "      <td>Pyruvate metabolism</td>\n",
       "      <td>KEGG:hsa00620</td>\n",
       "    </tr>\n",
       "    <tr>\n",
       "      <th>70</th>\n",
       "      <td>AAAS</td>\n",
       "      <td>8086.0</td>\n",
       "      <td>NEP/NS2 Interacts with the Cellular Export Mac...</td>\n",
       "      <td>REACT:R-HSA-168333</td>\n",
       "    </tr>\n",
       "    <tr>\n",
       "      <th>851</th>\n",
       "      <td>ACE</td>\n",
       "      <td>1636.0</td>\n",
       "      <td>Renin secretion</td>\n",
       "      <td>KEGG:hsa04924</td>\n",
       "    </tr>\n",
       "  </tbody>\n",
       "</table>\n",
       "</div>"
      ],
      "text/plain": [
       "    # GeneSymbol    GeneID                                        PathwayName  \\\n",
       "998        ACOT4  122970.0                                         Metabolism   \n",
       "952         ACO2      50.0                      Citric acid cycle (TCA cycle)   \n",
       "573          ABR      29.0                           Signaling by Rho GTPases   \n",
       "430        ABCG5   64240.0         Transmembrane transport of small molecules   \n",
       "169         ABAT      18.0                                 Metabolic pathways   \n",
       "668        ACACB      32.0                                Pyruvate metabolism   \n",
       "987        ACOT2   10965.0                        Fatty Acyl-CoA Biosynthesis   \n",
       "242       ABCB10   23456.0                                   ABC transporters   \n",
       "736       ACADSB      36.0                             Fatty acid degradation   \n",
       "23           A2M       2.0     Platelet activation, signaling and aggregation   \n",
       "159         AATF   26574.0               p75 NTR receptor-mediated signalling   \n",
       "649        ACACA      31.0                                Pyruvate metabolism   \n",
       "70          AAAS    8086.0  NEP/NS2 Interacts with the Cellular Export Mac...   \n",
       "851          ACE    1636.0                                    Renin secretion   \n",
       "\n",
       "               PathwayID  \n",
       "998  REACT:R-HSA-1430728  \n",
       "952    REACT:R-HSA-71403  \n",
       "573   REACT:R-HSA-194315  \n",
       "430   REACT:R-HSA-382551  \n",
       "169        KEGG:hsa01100  \n",
       "668        KEGG:hsa00620  \n",
       "987    REACT:R-HSA-75105  \n",
       "242        KEGG:hsa02010  \n",
       "736        KEGG:hsa00071  \n",
       "23     REACT:R-HSA-76002  \n",
       "159   REACT:R-HSA-193704  \n",
       "649        KEGG:hsa00620  \n",
       "70    REACT:R-HSA-168333  \n",
       "851        KEGG:hsa04924  "
      ]
     },
     "execution_count": 9,
     "metadata": {},
     "output_type": "execute_result"
    }
   ],
   "source": [
    "df_gp.sample(14)"
   ]
  },
  {
   "cell_type": "code",
   "execution_count": null,
   "metadata": {},
   "outputs": [],
   "source": [
    "# Must make some quick refinements to ensure resulting URLs work\n",
    "df_gp['GeneID'] = df_gp['GeneID'].fillna(0).astype(int)\n",
    "df_gp['GeneID'] = df_gp.GeneID.astype(int) \n",
    "df_gp['PathwayID'] = df_gp['PathwayID'].str.replace('REACT:', '')\n",
    "\n",
    "# Create Predicate Column\n",
    "def gp_predicate(r):\n",
    "    return 'RO_0002213'\n",
    "    \n",
    "df_gp['pred_code'] = df_gp.apply(gp_predicate, axis=1)"
   ]
  },
  {
   "cell_type": "code",
   "execution_count": null,
   "metadata": {},
   "outputs": [],
   "source": [
    "#Specify type to optimise\n",
    "df_gp['GeneID'] = df_gp.GeneID.astype(str)\n",
    "df_gp['PathwayID'] = df_gp.PathwayID.astype(str)\n",
    "df_gp['pred_code'] = df_gp.pred_code.astype(str)"
   ]
  },
  {
   "cell_type": "code",
   "execution_count": null,
   "metadata": {},
   "outputs": [],
   "source": [
    "df_gp.iloc[80:100]"
   ]
  },
  {
   "cell_type": "code",
   "execution_count": null,
   "metadata": {},
   "outputs": [],
   "source": [
    "# # Painstakingly split the predicates into the available RO/GO predicates... will do only a\n",
    "# # partial job as am in proof of concept stage and Ontology may change [ only clearest effects]\n",
    "# # RO_0002213 = positively regulates\n",
    "# # RO_0002212 = negatively regulates \n",
    "# # RO_0003308 = correlated with condition\n",
    "# # http://purl.obolibrary.org/obo/RO_0002213\n",
    "\n",
    "# map_to_ro = {\n",
    "#     'therapeutic': 'RO_0002212',\n",
    "#     'marker/mechanism': 'RO_0003308' \n",
    "# }\n",
    "\n",
    "# # Apply map to create ro_predicate value for applicable predicates\n",
    "# df_gd['pred_code'] = df_gd.DirectEvidence.map(map_to_ro).astype(str)"
   ]
  },
  {
   "cell_type": "code",
   "execution_count": null,
   "metadata": {},
   "outputs": [],
   "source": [
    "subj_url = 'http://identifiers.org/ctd.gene/' \n",
    "subj_col = 'GeneID'\n",
    "obj_url = 'http://identifiers.org/reactome/' \n",
    "obj_col = 'PathwayID'\n",
    "pred_col = 'pred_code'\n",
    "obj_url_2 = 'http://identifiers.org/kegg.pathway/'\n",
    "\n",
    "convert_df_nt(df_gp, 'output_gp.nt', subj_url, subj_col, obj_url, obj_col, pred_col, ['KEGG:',obj_url_2])"
   ]
  },
  {
   "cell_type": "markdown",
   "metadata": {},
   "source": [
    "### Chem Pathway Enriched"
   ]
  },
  {
   "cell_type": "code",
   "execution_count": 7,
   "metadata": {},
   "outputs": [],
   "source": [
    "df_cpath = pd.read_csv('csvs/CTD_chem_pathways_enriched.csv.gz', skiprows=27, nrows=1000)\n",
    "df_cpath = df_cpath.drop(0)"
   ]
  },
  {
   "cell_type": "code",
   "execution_count": 8,
   "metadata": {},
   "outputs": [
    {
     "data": {
      "text/html": [
       "<div>\n",
       "<style scoped>\n",
       "    .dataframe tbody tr th:only-of-type {\n",
       "        vertical-align: middle;\n",
       "    }\n",
       "\n",
       "    .dataframe tbody tr th {\n",
       "        vertical-align: top;\n",
       "    }\n",
       "\n",
       "    .dataframe thead th {\n",
       "        text-align: right;\n",
       "    }\n",
       "</style>\n",
       "<table border=\"1\" class=\"dataframe\">\n",
       "  <thead>\n",
       "    <tr style=\"text-align: right;\">\n",
       "      <th></th>\n",
       "      <th># ChemicalName</th>\n",
       "      <th>ChemicalID</th>\n",
       "      <th>CasRN</th>\n",
       "      <th>PathwayName</th>\n",
       "      <th>PathwayID</th>\n",
       "      <th>PValue</th>\n",
       "      <th>CorrectedPValue</th>\n",
       "      <th>TargetMatchQty</th>\n",
       "      <th>TargetTotalQty</th>\n",
       "      <th>BackgroundMatchQty</th>\n",
       "      <th>BackgroundTotalQty</th>\n",
       "    </tr>\n",
       "  </thead>\n",
       "  <tbody>\n",
       "    <tr>\n",
       "      <th>0</th>\n",
       "      <td>#</td>\n",
       "      <td>NaN</td>\n",
       "      <td>NaN</td>\n",
       "      <td>NaN</td>\n",
       "      <td>NaN</td>\n",
       "      <td>NaN</td>\n",
       "      <td>NaN</td>\n",
       "      <td>NaN</td>\n",
       "      <td>NaN</td>\n",
       "      <td>NaN</td>\n",
       "      <td>NaN</td>\n",
       "    </tr>\n",
       "    <tr>\n",
       "      <th>1</th>\n",
       "      <td>10074-G5</td>\n",
       "      <td>C534883</td>\n",
       "      <td>NaN</td>\n",
       "      <td>Cell Cycle, Mitotic</td>\n",
       "      <td>REACT:R-HSA-69278</td>\n",
       "      <td>0.000142</td>\n",
       "      <td>0.009240</td>\n",
       "      <td>2.0</td>\n",
       "      <td>2.0</td>\n",
       "      <td>514.0</td>\n",
       "      <td>43067.0</td>\n",
       "    </tr>\n",
       "    <tr>\n",
       "      <th>2</th>\n",
       "      <td>10074-G5</td>\n",
       "      <td>C534883</td>\n",
       "      <td>NaN</td>\n",
       "      <td>Cyclin A:Cdk2-associated events at S phase entry</td>\n",
       "      <td>REACT:R-HSA-69656</td>\n",
       "      <td>0.000003</td>\n",
       "      <td>0.000174</td>\n",
       "      <td>2.0</td>\n",
       "      <td>2.0</td>\n",
       "      <td>71.0</td>\n",
       "      <td>43067.0</td>\n",
       "    </tr>\n",
       "    <tr>\n",
       "      <th>3</th>\n",
       "      <td>10074-G5</td>\n",
       "      <td>C534883</td>\n",
       "      <td>NaN</td>\n",
       "      <td>Cyclin E associated events during G1/S transition</td>\n",
       "      <td>REACT:R-HSA-69202</td>\n",
       "      <td>0.000003</td>\n",
       "      <td>0.000179</td>\n",
       "      <td>2.0</td>\n",
       "      <td>2.0</td>\n",
       "      <td>72.0</td>\n",
       "      <td>43067.0</td>\n",
       "    </tr>\n",
       "    <tr>\n",
       "      <th>4</th>\n",
       "      <td>10074-G5</td>\n",
       "      <td>C534883</td>\n",
       "      <td>NaN</td>\n",
       "      <td>G1/S Transition</td>\n",
       "      <td>REACT:R-HSA-69206</td>\n",
       "      <td>0.000008</td>\n",
       "      <td>0.000492</td>\n",
       "      <td>2.0</td>\n",
       "      <td>2.0</td>\n",
       "      <td>119.0</td>\n",
       "      <td>43067.0</td>\n",
       "    </tr>\n",
       "  </tbody>\n",
       "</table>\n",
       "</div>"
      ],
      "text/plain": [
       "  # ChemicalName ChemicalID CasRN  \\\n",
       "0              #        NaN   NaN   \n",
       "1       10074-G5    C534883   NaN   \n",
       "2       10074-G5    C534883   NaN   \n",
       "3       10074-G5    C534883   NaN   \n",
       "4       10074-G5    C534883   NaN   \n",
       "\n",
       "                                         PathwayName          PathwayID  \\\n",
       "0                                                NaN                NaN   \n",
       "1                                Cell Cycle, Mitotic  REACT:R-HSA-69278   \n",
       "2   Cyclin A:Cdk2-associated events at S phase entry  REACT:R-HSA-69656   \n",
       "3  Cyclin E associated events during G1/S transition  REACT:R-HSA-69202   \n",
       "4                                    G1/S Transition  REACT:R-HSA-69206   \n",
       "\n",
       "     PValue  CorrectedPValue  TargetMatchQty  TargetTotalQty  \\\n",
       "0       NaN              NaN             NaN             NaN   \n",
       "1  0.000142         0.009240             2.0             2.0   \n",
       "2  0.000003         0.000174             2.0             2.0   \n",
       "3  0.000003         0.000179             2.0             2.0   \n",
       "4  0.000008         0.000492             2.0             2.0   \n",
       "\n",
       "   BackgroundMatchQty  BackgroundTotalQty  \n",
       "0                 NaN                 NaN  \n",
       "1               514.0             43067.0  \n",
       "2                71.0             43067.0  \n",
       "3                72.0             43067.0  \n",
       "4               119.0             43067.0  "
      ]
     },
     "execution_count": 8,
     "metadata": {},
     "output_type": "execute_result"
    }
   ],
   "source": [
    "df_cpath.head()"
   ]
  },
  {
   "cell_type": "markdown",
   "metadata": {},
   "source": [
    "## Disease Pathway\n",
    "Commenting out as is inferred"
   ]
  },
  {
   "cell_type": "code",
   "execution_count": null,
   "metadata": {},
   "outputs": [],
   "source": [
    "# # Log progress\n",
    "# subprocess.call('echo \"Begin Dis-Path\" >> log.txt', shell=True)"
   ]
  },
  {
   "cell_type": "code",
   "execution_count": 4,
   "metadata": {},
   "outputs": [],
   "source": [
    "# Read in CTD sample, skipping the intro rows\n",
    "df_dp = pd.read_csv('csvs/CTD_diseases_pathways.csv', skiprows=27, nrows=1000 )\n",
    "df_dp = df_dp.drop(0)"
   ]
  },
  {
   "cell_type": "code",
   "execution_count": 5,
   "metadata": {},
   "outputs": [
    {
     "data": {
      "text/html": [
       "<div>\n",
       "<style scoped>\n",
       "    .dataframe tbody tr th:only-of-type {\n",
       "        vertical-align: middle;\n",
       "    }\n",
       "\n",
       "    .dataframe tbody tr th {\n",
       "        vertical-align: top;\n",
       "    }\n",
       "\n",
       "    .dataframe thead th {\n",
       "        text-align: right;\n",
       "    }\n",
       "</style>\n",
       "<table border=\"1\" class=\"dataframe\">\n",
       "  <thead>\n",
       "    <tr style=\"text-align: right;\">\n",
       "      <th></th>\n",
       "      <th># DiseaseName</th>\n",
       "      <th>DiseaseID</th>\n",
       "      <th>PathwayName</th>\n",
       "      <th>PathwayID</th>\n",
       "      <th>InferenceGeneSymbol</th>\n",
       "    </tr>\n",
       "  </thead>\n",
       "  <tbody>\n",
       "    <tr>\n",
       "      <th>260</th>\n",
       "      <td>3-methylcrotonyl CoA carboxylase 1 deficiency</td>\n",
       "      <td>MESH:C535308</td>\n",
       "      <td>Metabolism of water-soluble vitamins and cofac...</td>\n",
       "      <td>REACT:R-HSA-196849</td>\n",
       "      <td>MCCC1</td>\n",
       "    </tr>\n",
       "    <tr>\n",
       "      <th>937</th>\n",
       "      <td>Abnormalities, Multiple</td>\n",
       "      <td>MESH:D000015</td>\n",
       "      <td>Downstream signaling events of B Cell Receptor...</td>\n",
       "      <td>REACT:R-HSA-1168372</td>\n",
       "      <td>PTEN</td>\n",
       "    </tr>\n",
       "    <tr>\n",
       "      <th>925</th>\n",
       "      <td>Abnormalities, Multiple</td>\n",
       "      <td>MESH:D000015</td>\n",
       "      <td>DNA Damage Bypass</td>\n",
       "      <td>REACT:R-HSA-73893</td>\n",
       "      <td>POLD1</td>\n",
       "    </tr>\n",
       "    <tr>\n",
       "      <th>648</th>\n",
       "      <td>Aberrant Crypt Foci</td>\n",
       "      <td>MESH:D058739</td>\n",
       "      <td>Signaling by WNT in cancer</td>\n",
       "      <td>REACT:R-HSA-4791275</td>\n",
       "      <td>CTNNB1</td>\n",
       "    </tr>\n",
       "    <tr>\n",
       "      <th>467</th>\n",
       "      <td>ABCD syndrome</td>\n",
       "      <td>MESH:C535334</td>\n",
       "      <td>Gastrin-CREB signalling pathway via PKC and MAPK</td>\n",
       "      <td>REACT:R-HSA-881907</td>\n",
       "      <td>EDNRB</td>\n",
       "    </tr>\n",
       "    <tr>\n",
       "      <th>952</th>\n",
       "      <td>Abnormalities, Multiple</td>\n",
       "      <td>MESH:D000015</td>\n",
       "      <td>Endometrial cancer</td>\n",
       "      <td>KEGG:hsa05213</td>\n",
       "      <td>CTNNB1</td>\n",
       "    </tr>\n",
       "    <tr>\n",
       "      <th>548</th>\n",
       "      <td>Aberrant Crypt Foci</td>\n",
       "      <td>MESH:D058739</td>\n",
       "      <td>AXIN missense mutants destabilize the destruct...</td>\n",
       "      <td>REACT:R-HSA-5467340</td>\n",
       "      <td>APC</td>\n",
       "    </tr>\n",
       "    <tr>\n",
       "      <th>107</th>\n",
       "      <td>22q11 Deletion Syndrome</td>\n",
       "      <td>MESH:D058165</td>\n",
       "      <td>SHC1 events in EGFR signaling</td>\n",
       "      <td>REACT:R-HSA-180336</td>\n",
       "      <td>FGF8</td>\n",
       "    </tr>\n",
       "    <tr>\n",
       "      <th>791</th>\n",
       "      <td>Abnormalities, Drug-Induced</td>\n",
       "      <td>MESH:D000014</td>\n",
       "      <td>Signalling by NGF</td>\n",
       "      <td>REACT:R-HSA-166520</td>\n",
       "      <td>RHOA</td>\n",
       "    </tr>\n",
       "    <tr>\n",
       "      <th>766</th>\n",
       "      <td>Abnormalities, Drug-Induced</td>\n",
       "      <td>MESH:D000014</td>\n",
       "      <td>Rap1 signaling pathway</td>\n",
       "      <td>KEGG:hsa04015</td>\n",
       "      <td>RHOA</td>\n",
       "    </tr>\n",
       "    <tr>\n",
       "      <th>164</th>\n",
       "      <td>2-Hydroxyglutaricaciduria</td>\n",
       "      <td>MESH:C535306</td>\n",
       "      <td>Glutathione metabolism</td>\n",
       "      <td>KEGG:hsa00480</td>\n",
       "      <td>IDH2</td>\n",
       "    </tr>\n",
       "    <tr>\n",
       "      <th>856</th>\n",
       "      <td>Abnormalities, Multiple</td>\n",
       "      <td>MESH:D000015</td>\n",
       "      <td>Breast cancer</td>\n",
       "      <td>KEGG:hsa05224</td>\n",
       "      <td>PTEN</td>\n",
       "    </tr>\n",
       "    <tr>\n",
       "      <th>665</th>\n",
       "      <td>Aberrant Crypt Foci</td>\n",
       "      <td>MESH:D058739</td>\n",
       "      <td>VEGFA-VEGFR2 Pathway</td>\n",
       "      <td>REACT:R-HSA-4420097</td>\n",
       "      <td>CTNNB1</td>\n",
       "    </tr>\n",
       "  </tbody>\n",
       "</table>\n",
       "</div>"
      ],
      "text/plain": [
       "                                     # DiseaseName     DiseaseID  \\\n",
       "260  3-methylcrotonyl CoA carboxylase 1 deficiency  MESH:C535308   \n",
       "937                        Abnormalities, Multiple  MESH:D000015   \n",
       "925                        Abnormalities, Multiple  MESH:D000015   \n",
       "648                            Aberrant Crypt Foci  MESH:D058739   \n",
       "467                                  ABCD syndrome  MESH:C535334   \n",
       "952                        Abnormalities, Multiple  MESH:D000015   \n",
       "548                            Aberrant Crypt Foci  MESH:D058739   \n",
       "107                        22q11 Deletion Syndrome  MESH:D058165   \n",
       "791                    Abnormalities, Drug-Induced  MESH:D000014   \n",
       "766                    Abnormalities, Drug-Induced  MESH:D000014   \n",
       "164                      2-Hydroxyglutaricaciduria  MESH:C535306   \n",
       "856                        Abnormalities, Multiple  MESH:D000015   \n",
       "665                            Aberrant Crypt Foci  MESH:D058739   \n",
       "\n",
       "                                           PathwayName            PathwayID  \\\n",
       "260  Metabolism of water-soluble vitamins and cofac...   REACT:R-HSA-196849   \n",
       "937  Downstream signaling events of B Cell Receptor...  REACT:R-HSA-1168372   \n",
       "925                                  DNA Damage Bypass    REACT:R-HSA-73893   \n",
       "648                         Signaling by WNT in cancer  REACT:R-HSA-4791275   \n",
       "467   Gastrin-CREB signalling pathway via PKC and MAPK   REACT:R-HSA-881907   \n",
       "952                                 Endometrial cancer        KEGG:hsa05213   \n",
       "548  AXIN missense mutants destabilize the destruct...  REACT:R-HSA-5467340   \n",
       "107                      SHC1 events in EGFR signaling   REACT:R-HSA-180336   \n",
       "791                                  Signalling by NGF   REACT:R-HSA-166520   \n",
       "766                             Rap1 signaling pathway        KEGG:hsa04015   \n",
       "164                             Glutathione metabolism        KEGG:hsa00480   \n",
       "856                                      Breast cancer        KEGG:hsa05224   \n",
       "665                               VEGFA-VEGFR2 Pathway  REACT:R-HSA-4420097   \n",
       "\n",
       "    InferenceGeneSymbol  \n",
       "260               MCCC1  \n",
       "937                PTEN  \n",
       "925               POLD1  \n",
       "648              CTNNB1  \n",
       "467               EDNRB  \n",
       "952              CTNNB1  \n",
       "548                 APC  \n",
       "107                FGF8  \n",
       "791                RHOA  \n",
       "766                RHOA  \n",
       "164                IDH2  \n",
       "856                PTEN  \n",
       "665              CTNNB1  "
      ]
     },
     "execution_count": 5,
     "metadata": {},
     "output_type": "execute_result"
    }
   ],
   "source": [
    "df_dp.sample(13\n",
    "            )"
   ]
  },
  {
   "cell_type": "code",
   "execution_count": null,
   "metadata": {},
   "outputs": [],
   "source": [
    "# #Specify type to optimise\n",
    "# df_dp['DiseaseID'] = df_dp.DiseaseID.astype(str)\n",
    "# df_dp['PathwayID'] = df_dp.PathwayID.astype(str)\n",
    "# df_dp['InferenceGeneSymbol'] = df_dp.InferenceGeneSymbol.astype(str)"
   ]
  },
  {
   "cell_type": "code",
   "execution_count": null,
   "metadata": {},
   "outputs": [],
   "source": [
    "# # Must make some quick refinements to ensure resulting URLs work\n",
    "# df_dp['PathwayID'] = df_dp['PathwayID'].str.replace('REACT:', '')\n",
    "# df_dp['DiseaseID'] = df_dp['DiseaseID'].str.replace('MESH:', '')\n",
    "\n",
    "\n",
    "# # Create Predicate Column\n",
    "# def dp_predicate(r):\n",
    "#     return 'associated_directly_with'\n",
    "    \n",
    "# df_dp['Predicate'] = df_dp.apply(dp_predicate, axis=1)\n",
    "# df_dp['Predicate'] = df_dp.Predicate.astype(str)"
   ]
  },
  {
   "cell_type": "code",
   "execution_count": null,
   "metadata": {},
   "outputs": [],
   "source": [
    "# df_dp.head()"
   ]
  },
  {
   "cell_type": "code",
   "execution_count": null,
   "metadata": {},
   "outputs": [],
   "source": [
    "# subj_url = 'http://identifiers.org/mesh/' \n",
    "# subj_col = 'DiseaseID'\n",
    "# obj_url = 'http://identifiers.org/reactome/' \n",
    "# obj_col = 'PathwayID'\n",
    "# pred_col = 'Predicate'\n",
    "\n",
    "# convert_df_nt(df_dp, 'output_dp.nt', subj_url, subj_col, obj_url, obj_col, pred_col)"
   ]
  },
  {
   "cell_type": "code",
   "execution_count": null,
   "metadata": {},
   "outputs": [],
   "source": [
    "# df_dp"
   ]
  },
  {
   "cell_type": "markdown",
   "metadata": {},
   "source": [
    "## Phenotype Chemical\n",
    "I'm going to comment this section out as this is the Y data and shouldn't be in KG ( I think )"
   ]
  },
  {
   "cell_type": "code",
   "execution_count": null,
   "metadata": {},
   "outputs": [],
   "source": [
    "# Read in CTD sample, skipping the intro rows\n",
    "# df_pc = pd.read_csv('csvs/CTD_pheno_term_ixns.csv', skiprows=27  )\n",
    "# df_pc = df_pc.drop(0)\n",
    "# df_pc[10:20]"
   ]
  },
  {
   "cell_type": "code",
   "execution_count": null,
   "metadata": {},
   "outputs": [],
   "source": [
    "# Split the interactionActions into separate predicates RUN THIS ONLY ONCE\n",
    "# s = df_pc['interactionactions'].str.split('|').apply(pd.Series, 1).stack()\n",
    "# s.index = s.index.droplevel(-1)\n",
    "# s.name = 'interactionactions'\n",
    "# df_pc = df_pc.join(s.apply(lambda x: pd.Series(x.split('|'))))\n",
    "# df_pc = df_pc.rename(columns={0: 'Predicate'})\n",
    "# df_pc['Predicate'] = df_pc.Predicate.str.replace('^', '_')\n",
    "# df_pc['Predicate'] = df_pc.Predicate.str.replace(' ', '_')"
   ]
  },
  {
   "cell_type": "code",
   "execution_count": null,
   "metadata": {},
   "outputs": [],
   "source": [
    "# subj_url = 'http://identifiers.org/ctd.chemical/'  \n",
    "# subj_col = 'chemicalid'\n",
    "# obj_url = 'http://identifiers.org/go/' \n",
    "# obj_col = 'phenotypeid'\n",
    "# pred_col = 'Predicate'\n",
    "\n",
    "# convert_df_nt(df_pc, 'output_pc.nt', subj_url, subj_col, obj_url, obj_col, pred_col)"
   ]
  },
  {
   "cell_type": "markdown",
   "metadata": {},
   "source": [
    "## Merge NT files"
   ]
  },
  {
   "cell_type": "code",
   "execution_count": null,
   "metadata": {},
   "outputs": [],
   "source": [
    "# Log progress\n",
    "# import subprocess\n",
    "subprocess.call('echo \"Begin Merging\" >> log.txt', shell=True)"
   ]
  },
  {
   "cell_type": "code",
   "execution_count": null,
   "metadata": {},
   "outputs": [],
   "source": [
    "subprocess.call('cat *.nt > master.nt', shell=True)"
   ]
  },
  {
   "cell_type": "code",
   "execution_count": null,
   "metadata": {},
   "outputs": [],
   "source": [
    "# Log progress\n",
    "subprocess.call('echo \"Finished Merging\" >> log.txt', shell=True)"
   ]
  },
  {
   "cell_type": "markdown",
   "metadata": {},
   "source": [
    "Note that Jena doesn't accept a percentage sign unless it's followed by two hexadecimals, so you can run the following to replace the % sign with the word percentage"
   ]
  },
  {
   "cell_type": "code",
   "execution_count": null,
   "metadata": {},
   "outputs": [],
   "source": [
    "# subproces.call(\"sed -i '/%/ s//percent/g' master.nt\", shell=True)"
   ]
  },
  {
   "cell_type": "code",
   "execution_count": null,
   "metadata": {},
   "outputs": [],
   "source": [
    "# # You'll need to install Apache Jena for this\n",
    "# subprocess.call('riot --output=RDFXML master.nt > master.rdf', shell=True)"
   ]
  }
 ],
 "metadata": {
  "kernelspec": {
   "display_name": "Python 3",
   "language": "python",
   "name": "python3"
  },
  "language_info": {
   "codemirror_mode": {
    "name": "ipython",
    "version": 3
   },
   "file_extension": ".py",
   "mimetype": "text/x-python",
   "name": "python",
   "nbconvert_exporter": "python",
   "pygments_lexer": "ipython3",
   "version": "3.6.5"
  }
 },
 "nbformat": 4,
 "nbformat_minor": 2
}
