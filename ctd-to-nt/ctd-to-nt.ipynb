{
 "cells": [
  {
   "cell_type": "markdown",
   "metadata": {},
   "source": [
    "#### Create NT files from CTD csvs\n",
    "<b>Author</b>: Ian Coleman <br/>\n",
    "<b>Function</b>: Takes local CTD csvs and turns each into a .nt file"
   ]
  },
  {
   "cell_type": "markdown",
   "metadata": {},
   "source": [
    "<b>Notes:</b>\n",
    "To run this for visualising and investigating the data you'll need to ensure that each pd.read_csv line takes the argument   or some other small number <br>\n",
    "To run it for the intended purpose of converting the DBs to RDF make sure that the nrows argument is not being passed anywhere"
   ]
  },
  {
   "cell_type": "code",
   "execution_count": 1,
   "metadata": {},
   "outputs": [],
   "source": [
    "# %reset"
   ]
  },
  {
   "cell_type": "code",
   "execution_count": 2,
   "metadata": {},
   "outputs": [],
   "source": [
    "import pandas as pd\n",
    "import numpy as np\n",
    "import scipy as sp\n",
    "import subprocess\n",
    "import math"
   ]
  },
  {
   "cell_type": "code",
   "execution_count": 3,
   "metadata": {},
   "outputs": [
    {
     "data": {
      "text/plain": [
       "0"
      ]
     },
     "execution_count": 3,
     "metadata": {},
     "output_type": "execute_result"
    }
   ],
   "source": [
    "# Begin log file (progress etc so can be checked from ssh)\n",
    "subprocess.call('echo \"Date: \" `date` > log.txt', shell=True)"
   ]
  },
  {
   "cell_type": "markdown",
   "metadata": {},
   "source": [
    "## Functions"
   ]
  },
  {
   "cell_type": "code",
   "execution_count": 29,
   "metadata": {},
   "outputs": [],
   "source": [
    "# def convert_df_nt (df, output_file, subj_url, subj_col, obj_url, obj_col, pred_col, odd_url=0):\n",
    "#     \"\"\"\n",
    "#     Input:\n",
    "#         DF: some rows and columns of a dataframe\n",
    "#         STR: name for the output file, include filetype .nt\n",
    "#         STR: subj_url is the url to be used for all subjects\n",
    "#         STR: subj_col is the column from which to get the id for the subj\n",
    "#         STR: obj_url is the url to be used for all objects\n",
    "#         STR: obj_col is the column from which to get the id for the obj\n",
    "#         STR: OPTIONAL odd_url is for when a subset obj/subj of require a different url \n",
    "#     Output:\n",
    "#         NT file\n",
    "#     \"\"\"\n",
    "#     f = open(output_file,'w')\n",
    "#     for index, row in df.iterrows():\n",
    "#         subj = '<' + subj_url + row[subj_col] + '> '\n",
    "#         pred = '<' + 'http://ian.ie/' + row[pred_col] + '> '\n",
    "#         if 'OMIM' in row[obj_col]:\n",
    "#             row[obj_col] = row[obj_col].replace('OMIM:', '')\n",
    "#             obj = '<' + odd_url + row[obj_col] + '> '\n",
    "#         else:\n",
    "#             obj = '<' + obj_url + row[obj_col] + '> '\n",
    "#         f.write(subj + pred + obj + '.' + '\\n')\n",
    "#     f.close()"
   ]
  },
  {
   "cell_type": "code",
   "execution_count": 30,
   "metadata": {},
   "outputs": [],
   "source": [
    "# Version 2 of this function. It aims to include predicate code if provided, preferentially\n",
    "# to handmade URI. ALSO now accounts for kegg in the pathway columns\n",
    "\n",
    "def convert_df_nt (df, output_file, subj_url, subj_col, obj_url, obj_col, pred_col, odd_url=['~`']):\n",
    "    \"\"\"\n",
    "    Input:\n",
    "        DF: some rows and columns of a dataframe\n",
    "        STR: name for the output file, include filetype .nt\n",
    "        STR: subj_url is the url to be used for all subjects\n",
    "        STR: subj_col is the column from which to get the id for the subj\n",
    "        STR: obj_url is the url to be used for all objects\n",
    "        STR: obj_col is the column from which to get the id for the obj\n",
    "        List: OPTIONAL odd_url is for when a subset obj/subj of require a different url\n",
    "        it should be a list of [substr to remove, URL]\n",
    "    Output:\n",
    "        NT file\n",
    "    \"\"\"\n",
    "    # establish boolean to determine whether df has predicate codes\n",
    "    pred_code = False \n",
    "    if 'pred_code' in list(df.columns): \n",
    "        pred_code = True\n",
    "        \n",
    "    f = open(output_file,'w')\n",
    "    for index, row in df.iterrows():\n",
    "        subj = '<' + subj_url + row[subj_col] + '> '\n",
    "        if row.pred_code == 'nan':\n",
    "            pred = '<' + 'http://ian.ie/' + row[pred_col] + '> '\n",
    "        else:\n",
    "            pred = '<' + 'http://purl.obolibrary.org/obo/' + row['pred_code'] + '> '\n",
    "        if odd_url[0] in row[obj_col]:\n",
    "            row[obj_col] = row[obj_col].replace(odd_url[0], '')\n",
    "            obj = '<' + odd_url[1] + row[obj_col] + '> '\n",
    "        else:\n",
    "            obj = '<' + obj_url + row[obj_col] + '> '\n",
    "        f.write(subj + pred + obj + '.' + '\\n')\n",
    "    f.close()"
   ]
  },
  {
   "cell_type": "code",
   "execution_count": 31,
   "metadata": {},
   "outputs": [],
   "source": [
    "#TODO rework this to vectorise it\n",
    "# def convert_df_nt (df, output_file, subj_url, subj_col, obj_url, obj_col, pred_col, odd_url=0):\n",
    "#     \"\"\"\n",
    "#     Input:\n",
    "#         DF: some rows and columns of a dataframe\n",
    "#         STR: name for the output file, include filetype .nt\n",
    "#         STR: subj_url is the url to be used for all subjects\n",
    "#         STR: subj_col is the column from which to get the id for the subj\n",
    "#         STR: obj_url is the url to be used for all objects\n",
    "#         STR: obj_col is the column from which to get the id for the obj\n",
    "#         STR: OPTIONAL odd_url is for when a subset obj/subj of require a different url \n",
    "#     Output:\n",
    "#         NT file\n",
    "#     \"\"\"\n",
    "#     f = open(output_file,'w')\n",
    "#     for index, row in df.iterrows():\n",
    "#         subj = '<' + subj_url + row[subj_col] + '> '\n",
    "#         pred = '<' + 'http://ian.ie/' + row[pred_col] + '> '\n",
    "#         if 'OMIM' in row[obj_col]:\n",
    "#             row[obj_col] = row[obj_col].replace('OMIM:', '')\n",
    "#             obj = '<' + odd_url + row[obj_col] + '> '\n",
    "#         else:\n",
    "#             obj = '<' + obj_url + row[obj_col] + '> '\n",
    "#         f.write(subj + pred + obj + '.' + '\\n')\n",
    "#     f.close()"
   ]
  },
  {
   "cell_type": "markdown",
   "metadata": {},
   "source": [
    "## Download Databases"
   ]
  },
  {
   "cell_type": "code",
   "execution_count": 32,
   "metadata": {},
   "outputs": [],
   "source": [
    "# # subprocess.call('pip3 install wget', shell=True)\n",
    "# subprocess.call('wget http://ctdbase.org/reports/CTD_chem_gene_ixns.csv.gz', shell=True)\n",
    "# subprocess.call('wget http://ctdbase.org/reports/CTD_chemicals_diseases.csv.gz', shell = True)\n",
    "# subprocess.call('wget http://ctdbase.org/reports/CTD_chem_pathways_enriched.csv.gz', shell = True)\n",
    "# subprocess.call('wget http://ctdbase.org/reports/CTD_genes_diseases.csv.gz', shell = True)\n",
    "# subprocess.call('wget http://ctdbase.org/reports/CTD_genes_pathways.csv.gz', shell = True)\n",
    "# subprocess.call('wget http://ctdbase.org/reports/CTD_diseases_pathways.csv.gz', shell = True)\n",
    "# subprocess.call('wget http://ctdbase.org/reports/CTD_pheno_term_ixns.csv.gz', shell = True)"
   ]
  },
  {
   "cell_type": "code",
   "execution_count": 33,
   "metadata": {},
   "outputs": [],
   "source": [
    "# # Move all the csvs to a subfolder and unzip them\n",
    "# subprocess.call('mkdir csvs', shell=True)\n",
    "# subprocess.call('mv *.gz csvs/', shell=True)\n",
    "# subprocess.call('gunzip csvs/*.gz', shell=True)"
   ]
  },
  {
   "cell_type": "code",
   "execution_count": 34,
   "metadata": {},
   "outputs": [],
   "source": [
    "# too ambitious?? \n",
    "# TODO attempt to make one func to import and process all ctd databases\n",
    "# def ctd_to_rdf(csv, output_file, subj_url, subj_col, obj_url, obj_col, pred_col):\n",
    "#     \"\"\"\n",
    "#     \"\"\"\n",
    "#     df = pd.read_csv(csv, skiprows=27 )\n",
    "#     df = df.drop(0)\n",
    "#     convert_df_nt(df, output_file, subj_url, subj_col, obj_url, obj_col, pred_col)"
   ]
  },
  {
   "cell_type": "markdown",
   "metadata": {},
   "source": [
    "## CHEM-GENE "
   ]
  },
  {
   "cell_type": "code",
   "execution_count": 35,
   "metadata": {},
   "outputs": [
    {
     "data": {
      "text/plain": [
       "0"
      ]
     },
     "execution_count": 35,
     "metadata": {},
     "output_type": "execute_result"
    }
   ],
   "source": [
    "# Log progress\n",
    "subprocess.call('echo \"Begin Chem-Gene\" >> log.txt', shell=True)"
   ]
  },
  {
   "cell_type": "code",
   "execution_count": 2,
   "metadata": {},
   "outputs": [],
   "source": [
    "# Read in CTD sample, skipping the intro rows8888\n",
    "df_cg = pd.read_csv('csvs/CTD_chem_gene_ixns.csv', skiprows=27, nrows=10000)\n",
    "df_cg = df_cg.drop(0)\n",
    "df_cg = df_cg.rename(columns={'# ChemicalName': 'ChemicalName'}) # rename of a column"
   ]
  },
  {
   "cell_type": "code",
   "execution_count": 3,
   "metadata": {},
   "outputs": [],
   "source": [
    "# Split the interactionActions into separate predicates RUN THIS ONLY ONCE\n",
    "s = df_cg['InteractionActions'].str.split('|').apply(pd.Series, 1).stack()\n",
    "s.index = s.index.droplevel(-1)\n",
    "s.name = 'InteractionActions'\n",
    "df_cg = df_cg.join(s.apply(lambda x: pd.Series(x.split('|'))))"
   ]
  },
  {
   "cell_type": "code",
   "execution_count": 4,
   "metadata": {},
   "outputs": [],
   "source": [
    "# Make the new column prettier\n",
    "df_cg = df_cg.rename(columns={0: 'Predicate'})\n",
    "df_cg['Predicate'] = df_cg.Predicate.str.replace('^', '_')\n",
    "df_cg['Predicate'] = df_cg.Predicate.str.replace(' ', '_')"
   ]
  },
  {
   "cell_type": "code",
   "execution_count": 5,
   "metadata": {},
   "outputs": [],
   "source": [
    "# Need to change float to int for the url to work\n",
    "df_cg['GeneID'] = df_cg.GeneID.astype(int)\n",
    "\n",
    "#Specify type to optimise\n",
    "df_cg['ChemicalID'] = df_cg.ChemicalID.astype(str)\n",
    "df_cg['GeneID'] = df_cg.GeneID.astype(str)"
   ]
  },
  {
   "cell_type": "code",
   "execution_count": 6,
   "metadata": {},
   "outputs": [
    {
     "data": {
      "text/html": [
       "<div>\n",
       "<style scoped>\n",
       "    .dataframe tbody tr th:only-of-type {\n",
       "        vertical-align: middle;\n",
       "    }\n",
       "\n",
       "    .dataframe tbody tr th {\n",
       "        vertical-align: top;\n",
       "    }\n",
       "\n",
       "    .dataframe thead th {\n",
       "        text-align: right;\n",
       "    }\n",
       "</style>\n",
       "<table border=\"1\" class=\"dataframe\">\n",
       "  <thead>\n",
       "    <tr style=\"text-align: right;\">\n",
       "      <th></th>\n",
       "      <th>ChemicalName</th>\n",
       "      <th>ChemicalID</th>\n",
       "      <th>CasRN</th>\n",
       "      <th>GeneSymbol</th>\n",
       "      <th>GeneID</th>\n",
       "      <th>GeneForms</th>\n",
       "      <th>Organism</th>\n",
       "      <th>OrganismID</th>\n",
       "      <th>Interaction</th>\n",
       "      <th>InteractionActions</th>\n",
       "      <th>PubMedIDs</th>\n",
       "      <th>Predicate</th>\n",
       "    </tr>\n",
       "  </thead>\n",
       "  <tbody>\n",
       "    <tr>\n",
       "      <th>1</th>\n",
       "      <td>10074-G5</td>\n",
       "      <td>C534883</td>\n",
       "      <td>NaN</td>\n",
       "      <td>MAX</td>\n",
       "      <td>4149</td>\n",
       "      <td>protein</td>\n",
       "      <td>NaN</td>\n",
       "      <td>NaN</td>\n",
       "      <td>10074-G5 affects the folding of and results in...</td>\n",
       "      <td>affects^binding|affects^folding|decreases^acti...</td>\n",
       "      <td>26474287</td>\n",
       "      <td>affects_binding</td>\n",
       "    </tr>\n",
       "    <tr>\n",
       "      <th>1</th>\n",
       "      <td>10074-G5</td>\n",
       "      <td>C534883</td>\n",
       "      <td>NaN</td>\n",
       "      <td>MAX</td>\n",
       "      <td>4149</td>\n",
       "      <td>protein</td>\n",
       "      <td>NaN</td>\n",
       "      <td>NaN</td>\n",
       "      <td>10074-G5 affects the folding of and results in...</td>\n",
       "      <td>affects^binding|affects^folding|decreases^acti...</td>\n",
       "      <td>26474287</td>\n",
       "      <td>affects_folding</td>\n",
       "    </tr>\n",
       "    <tr>\n",
       "      <th>1</th>\n",
       "      <td>10074-G5</td>\n",
       "      <td>C534883</td>\n",
       "      <td>NaN</td>\n",
       "      <td>MAX</td>\n",
       "      <td>4149</td>\n",
       "      <td>protein</td>\n",
       "      <td>NaN</td>\n",
       "      <td>NaN</td>\n",
       "      <td>10074-G5 affects the folding of and results in...</td>\n",
       "      <td>affects^binding|affects^folding|decreases^acti...</td>\n",
       "      <td>26474287</td>\n",
       "      <td>decreases_activity</td>\n",
       "    </tr>\n",
       "    <tr>\n",
       "      <th>2</th>\n",
       "      <td>10074-G5</td>\n",
       "      <td>C534883</td>\n",
       "      <td>NaN</td>\n",
       "      <td>MAX</td>\n",
       "      <td>4149</td>\n",
       "      <td>protein</td>\n",
       "      <td>NaN</td>\n",
       "      <td>NaN</td>\n",
       "      <td>10074-G5 inhibits the reaction [MYC protein bi...</td>\n",
       "      <td>affects^binding|decreases^reaction</td>\n",
       "      <td>26474287</td>\n",
       "      <td>affects_binding</td>\n",
       "    </tr>\n",
       "    <tr>\n",
       "      <th>2</th>\n",
       "      <td>10074-G5</td>\n",
       "      <td>C534883</td>\n",
       "      <td>NaN</td>\n",
       "      <td>MAX</td>\n",
       "      <td>4149</td>\n",
       "      <td>protein</td>\n",
       "      <td>NaN</td>\n",
       "      <td>NaN</td>\n",
       "      <td>10074-G5 inhibits the reaction [MYC protein bi...</td>\n",
       "      <td>affects^binding|decreases^reaction</td>\n",
       "      <td>26474287</td>\n",
       "      <td>decreases_reaction</td>\n",
       "    </tr>\n",
       "  </tbody>\n",
       "</table>\n",
       "</div>"
      ],
      "text/plain": [
       "  ChemicalName ChemicalID CasRN GeneSymbol GeneID GeneForms Organism  \\\n",
       "1     10074-G5    C534883   NaN        MAX   4149   protein      NaN   \n",
       "1     10074-G5    C534883   NaN        MAX   4149   protein      NaN   \n",
       "1     10074-G5    C534883   NaN        MAX   4149   protein      NaN   \n",
       "2     10074-G5    C534883   NaN        MAX   4149   protein      NaN   \n",
       "2     10074-G5    C534883   NaN        MAX   4149   protein      NaN   \n",
       "\n",
       "   OrganismID                                        Interaction  \\\n",
       "1         NaN  10074-G5 affects the folding of and results in...   \n",
       "1         NaN  10074-G5 affects the folding of and results in...   \n",
       "1         NaN  10074-G5 affects the folding of and results in...   \n",
       "2         NaN  10074-G5 inhibits the reaction [MYC protein bi...   \n",
       "2         NaN  10074-G5 inhibits the reaction [MYC protein bi...   \n",
       "\n",
       "                                  InteractionActions PubMedIDs  \\\n",
       "1  affects^binding|affects^folding|decreases^acti...  26474287   \n",
       "1  affects^binding|affects^folding|decreases^acti...  26474287   \n",
       "1  affects^binding|affects^folding|decreases^acti...  26474287   \n",
       "2                 affects^binding|decreases^reaction  26474287   \n",
       "2                 affects^binding|decreases^reaction  26474287   \n",
       "\n",
       "            Predicate  \n",
       "1     affects_binding  \n",
       "1     affects_folding  \n",
       "1  decreases_activity  \n",
       "2     affects_binding  \n",
       "2  decreases_reaction  "
      ]
     },
     "execution_count": 6,
     "metadata": {},
     "output_type": "execute_result"
    }
   ],
   "source": [
    "df_cg.head()"
   ]
  },
  {
   "cell_type": "code",
   "execution_count": 40,
   "metadata": {},
   "outputs": [],
   "source": [
    "# Painstakingly split the predicates into the available RO/GO predicates... will do only a\n",
    "# partial job as am in proof of concept stage and Ontology may change [ only clearest effects]\n",
    "# RO_0002213 = positively regulates\n",
    "# RO_0002212 = negatively regulates \n",
    "# http://purl.obolibrary.org/obo/RO_0002213\n",
    "\n",
    "map_to_ro = {\n",
    "    'increases_expression' : 'RO_0002213',\n",
    "    'decreases_activity' : 'RO_0002212',\n",
    "    'decreases_expression': 'RO_0002212',\n",
    "    'increases_activity': 'RO_0002213',\n",
    "    'increases_stability': 'RO_0002213',\n",
    "    'decreases_stability': 'RO_0002212',\n",
    "    'increases_abundance': 'RO_0002213',\n",
    "    'decreases_abundance': 'RO_0002212',\n",
    "    'increases_degradation': 'RO_0002212',\n",
    "    'decreases_degradation': 'RO_0002213'\n",
    "}\n",
    "\n",
    "# Apply map to create ro_predicate value for applicable predicates\n",
    "df_cg['pred_code'] = df_cg.Predicate.map(map_to_ro).astype(str)"
   ]
  },
  {
   "cell_type": "code",
   "execution_count": 44,
   "metadata": {},
   "outputs": [
    {
     "name": "stdout",
     "output_type": "stream",
     "text": [
      "increases_expression               4442\n",
      "decreases_expression               3059\n",
      "decreases_reaction                 1784\n",
      "increases_reaction                  768\n",
      "affects_binding                     727\n",
      "increases_activity                  667\n",
      "affects_cotreatment                 613\n",
      "increases_phosphorylation           288\n",
      "decreases_activity                  284\n",
      "affects_expression                  271\n",
      "affects_reaction                    191\n",
      "increases_cleavage                  105\n",
      "affects_response_to_substance       102\n",
      "increases_metabolic_processing       90\n",
      "increases_chemical_synthesis         87\n",
      "affects_localization                 84\n",
      "decreases_phosphorylation            79\n",
      "increases_abundance                  69\n",
      "increases_response_to_substance      60\n",
      "decreases_response_to_substance      60\n",
      "increases_secretion                  58\n",
      "affects_metabolic_processing         40\n",
      "increases_oxidation                  31\n",
      "increases_degradation                21\n",
      "affects_activity                     20\n",
      "increases_reduction                  19\n",
      "increases_mutagenesis                18\n",
      "increases_transport                  15\n",
      "decreases_abundance                  15\n",
      "decreases_degradation                12\n",
      "                                   ... \n",
      "decreases_secretion                   9\n",
      "affects_abundance                     7\n",
      "increases_glucuronidation             7\n",
      "increases_stability                   7\n",
      "increases_ubiquitination              6\n",
      "decreases_metabolic_processing        6\n",
      "affects_phosphorylation               5\n",
      "increases_uptake                      5\n",
      "affects_folding                       5\n",
      "decreases_chemical_synthesis          4\n",
      "affects_chemical_synthesis            4\n",
      "decreases_cleavage                    4\n",
      "increases_export                      3\n",
      "increases_alkylation                  2\n",
      "decreases_methylation                 2\n",
      "increases_splicing                    2\n",
      "affects_secretion                     2\n",
      "decreases_nitrosation                 2\n",
      "increases_hydrolysis                  2\n",
      "decreases_hydroxylation               1\n",
      "decreases_stability                   1\n",
      "affects_ubiquitination                1\n",
      "increases_import                      1\n",
      "affects_transport                     1\n",
      "decreases_lipidation                  1\n",
      "affects_stability                     1\n",
      "decreases_localization                1\n",
      "increases_nitrosation                 1\n",
      "decreases_glucuronidation             1\n",
      "decreases_export                      1\n",
      "Name: Predicate, Length: 63, dtype: int64\n"
     ]
    }
   ],
   "source": [
    "print(df_cg.Predicate.value_counts())"
   ]
  },
  {
   "cell_type": "code",
   "execution_count": 50,
   "metadata": {},
   "outputs": [
    {
     "data": {
      "text/plain": [
       "14204"
      ]
     },
     "execution_count": 50,
     "metadata": {},
     "output_type": "execute_result"
    }
   ],
   "source": [
    "len(df_cg)\n",
    "# len(df_cg[df_cg.OrganismID == 9606.0])"
   ]
  },
  {
   "cell_type": "code",
   "execution_count": null,
   "metadata": {},
   "outputs": [],
   "source": [
    "# This cell makes the association file for opa2vec, limiting to humans and limiting to positive regulation\n",
    "# of a gene\n"
   ]
  },
  {
   "cell_type": "code",
   "execution_count": 48,
   "metadata": {},
   "outputs": [
    {
     "data": {
      "text/html": [
       "<div>\n",
       "<style scoped>\n",
       "    .dataframe tbody tr th:only-of-type {\n",
       "        vertical-align: middle;\n",
       "    }\n",
       "\n",
       "    .dataframe tbody tr th {\n",
       "        vertical-align: top;\n",
       "    }\n",
       "\n",
       "    .dataframe thead th {\n",
       "        text-align: right;\n",
       "    }\n",
       "</style>\n",
       "<table border=\"1\" class=\"dataframe\">\n",
       "  <thead>\n",
       "    <tr style=\"text-align: right;\">\n",
       "      <th></th>\n",
       "      <th>ChemicalName</th>\n",
       "      <th>ChemicalID</th>\n",
       "      <th>CasRN</th>\n",
       "      <th>GeneSymbol</th>\n",
       "      <th>GeneID</th>\n",
       "      <th>GeneForms</th>\n",
       "      <th>Organism</th>\n",
       "      <th>OrganismID</th>\n",
       "      <th>Interaction</th>\n",
       "      <th>InteractionActions</th>\n",
       "      <th>PubMedIDs</th>\n",
       "      <th>Predicate</th>\n",
       "      <th>pred_code</th>\n",
       "    </tr>\n",
       "  </thead>\n",
       "  <tbody>\n",
       "    <tr>\n",
       "      <th>6</th>\n",
       "      <td>10074-G5</td>\n",
       "      <td>C534883</td>\n",
       "      <td>NaN</td>\n",
       "      <td>MYC</td>\n",
       "      <td>4609</td>\n",
       "      <td>protein</td>\n",
       "      <td>NaN</td>\n",
       "      <td>NaN</td>\n",
       "      <td>10074-G5 affects the folding of and results in...</td>\n",
       "      <td>affects^binding|affects^folding|decreases^acti...</td>\n",
       "      <td>26474287</td>\n",
       "      <td>decreases_activity</td>\n",
       "      <td>RO_0002212</td>\n",
       "    </tr>\n",
       "    <tr>\n",
       "      <th>7</th>\n",
       "      <td>10074-G5</td>\n",
       "      <td>C534883</td>\n",
       "      <td>NaN</td>\n",
       "      <td>MYC</td>\n",
       "      <td>4609</td>\n",
       "      <td>protein</td>\n",
       "      <td>NaN</td>\n",
       "      <td>NaN</td>\n",
       "      <td>10074-G5 inhibits the reaction [MYC protein bi...</td>\n",
       "      <td>affects^binding|decreases^reaction</td>\n",
       "      <td>26474287</td>\n",
       "      <td>affects_binding</td>\n",
       "      <td>nan</td>\n",
       "    </tr>\n",
       "    <tr>\n",
       "      <th>7</th>\n",
       "      <td>10074-G5</td>\n",
       "      <td>C534883</td>\n",
       "      <td>NaN</td>\n",
       "      <td>MYC</td>\n",
       "      <td>4609</td>\n",
       "      <td>protein</td>\n",
       "      <td>NaN</td>\n",
       "      <td>NaN</td>\n",
       "      <td>10074-G5 inhibits the reaction [MYC protein bi...</td>\n",
       "      <td>affects^binding|decreases^reaction</td>\n",
       "      <td>26474287</td>\n",
       "      <td>decreases_reaction</td>\n",
       "      <td>nan</td>\n",
       "    </tr>\n",
       "    <tr>\n",
       "      <th>8</th>\n",
       "      <td>10,10-bis(4-pyridinylmethyl)-9(10H)-anthracenone</td>\n",
       "      <td>C112297</td>\n",
       "      <td>NaN</td>\n",
       "      <td>FOS</td>\n",
       "      <td>2353</td>\n",
       "      <td>protein</td>\n",
       "      <td>Mus musculus</td>\n",
       "      <td>10090.0</td>\n",
       "      <td>10,10-bis(4-pyridinylmethyl)-9(10H)-anthraceno...</td>\n",
       "      <td>decreases^reaction|increases^expression</td>\n",
       "      <td>26348896</td>\n",
       "      <td>decreases_reaction</td>\n",
       "      <td>nan</td>\n",
       "    </tr>\n",
       "    <tr>\n",
       "      <th>8</th>\n",
       "      <td>10,10-bis(4-pyridinylmethyl)-9(10H)-anthracenone</td>\n",
       "      <td>C112297</td>\n",
       "      <td>NaN</td>\n",
       "      <td>FOS</td>\n",
       "      <td>2353</td>\n",
       "      <td>protein</td>\n",
       "      <td>Mus musculus</td>\n",
       "      <td>10090.0</td>\n",
       "      <td>10,10-bis(4-pyridinylmethyl)-9(10H)-anthraceno...</td>\n",
       "      <td>decreases^reaction|increases^expression</td>\n",
       "      <td>26348896</td>\n",
       "      <td>increases_expression</td>\n",
       "      <td>RO_0002213</td>\n",
       "    </tr>\n",
       "    <tr>\n",
       "      <th>9</th>\n",
       "      <td>10,10-bis(4-pyridinylmethyl)-9(10H)-anthracenone</td>\n",
       "      <td>C112297</td>\n",
       "      <td>NaN</td>\n",
       "      <td>KCNQ1</td>\n",
       "      <td>3784</td>\n",
       "      <td>protein</td>\n",
       "      <td>NaN</td>\n",
       "      <td>NaN</td>\n",
       "      <td>10,10-bis(4-pyridinylmethyl)-9(10H)-anthraceno...</td>\n",
       "      <td>decreases^activity</td>\n",
       "      <td>18568022</td>\n",
       "      <td>decreases_activity</td>\n",
       "      <td>RO_0002212</td>\n",
       "    </tr>\n",
       "    <tr>\n",
       "      <th>10</th>\n",
       "      <td>10,10-bis(4-pyridinylmethyl)-9(10H)-anthracenone</td>\n",
       "      <td>C112297</td>\n",
       "      <td>NaN</td>\n",
       "      <td>KCNQ2</td>\n",
       "      <td>3785</td>\n",
       "      <td>protein</td>\n",
       "      <td>Mus musculus</td>\n",
       "      <td>10090.0</td>\n",
       "      <td>10,10-bis(4-pyridinylmethyl)-9(10H)-anthraceno...</td>\n",
       "      <td>affects^reaction|increases^activity|increases^...</td>\n",
       "      <td>15634793</td>\n",
       "      <td>affects_reaction</td>\n",
       "      <td>nan</td>\n",
       "    </tr>\n",
       "    <tr>\n",
       "      <th>10</th>\n",
       "      <td>10,10-bis(4-pyridinylmethyl)-9(10H)-anthracenone</td>\n",
       "      <td>C112297</td>\n",
       "      <td>NaN</td>\n",
       "      <td>KCNQ2</td>\n",
       "      <td>3785</td>\n",
       "      <td>protein</td>\n",
       "      <td>Mus musculus</td>\n",
       "      <td>10090.0</td>\n",
       "      <td>10,10-bis(4-pyridinylmethyl)-9(10H)-anthraceno...</td>\n",
       "      <td>affects^reaction|increases^activity|increases^...</td>\n",
       "      <td>15634793</td>\n",
       "      <td>increases_activity</td>\n",
       "      <td>RO_0002213</td>\n",
       "    </tr>\n",
       "    <tr>\n",
       "      <th>10</th>\n",
       "      <td>10,10-bis(4-pyridinylmethyl)-9(10H)-anthracenone</td>\n",
       "      <td>C112297</td>\n",
       "      <td>NaN</td>\n",
       "      <td>KCNQ2</td>\n",
       "      <td>3785</td>\n",
       "      <td>protein</td>\n",
       "      <td>Mus musculus</td>\n",
       "      <td>10090.0</td>\n",
       "      <td>10,10-bis(4-pyridinylmethyl)-9(10H)-anthraceno...</td>\n",
       "      <td>affects^reaction|increases^activity|increases^...</td>\n",
       "      <td>15634793</td>\n",
       "      <td>increases_import</td>\n",
       "      <td>nan</td>\n",
       "    </tr>\n",
       "    <tr>\n",
       "      <th>11</th>\n",
       "      <td>10,10-bis(4-pyridinylmethyl)-9(10H)-anthracenone</td>\n",
       "      <td>C112297</td>\n",
       "      <td>NaN</td>\n",
       "      <td>KCNQ2</td>\n",
       "      <td>3785</td>\n",
       "      <td>protein</td>\n",
       "      <td>NaN</td>\n",
       "      <td>NaN</td>\n",
       "      <td>10,10-bis(4-pyridinylmethyl)-9(10H)-anthraceno...</td>\n",
       "      <td>affects^binding|decreases^reaction|increases^t...</td>\n",
       "      <td>20208034</td>\n",
       "      <td>affects_binding</td>\n",
       "      <td>nan</td>\n",
       "    </tr>\n",
       "    <tr>\n",
       "      <th>11</th>\n",
       "      <td>10,10-bis(4-pyridinylmethyl)-9(10H)-anthracenone</td>\n",
       "      <td>C112297</td>\n",
       "      <td>NaN</td>\n",
       "      <td>KCNQ2</td>\n",
       "      <td>3785</td>\n",
       "      <td>protein</td>\n",
       "      <td>NaN</td>\n",
       "      <td>NaN</td>\n",
       "      <td>10,10-bis(4-pyridinylmethyl)-9(10H)-anthraceno...</td>\n",
       "      <td>affects^binding|decreases^reaction|increases^t...</td>\n",
       "      <td>20208034</td>\n",
       "      <td>decreases_reaction</td>\n",
       "      <td>nan</td>\n",
       "    </tr>\n",
       "    <tr>\n",
       "      <th>11</th>\n",
       "      <td>10,10-bis(4-pyridinylmethyl)-9(10H)-anthracenone</td>\n",
       "      <td>C112297</td>\n",
       "      <td>NaN</td>\n",
       "      <td>KCNQ2</td>\n",
       "      <td>3785</td>\n",
       "      <td>protein</td>\n",
       "      <td>NaN</td>\n",
       "      <td>NaN</td>\n",
       "      <td>10,10-bis(4-pyridinylmethyl)-9(10H)-anthraceno...</td>\n",
       "      <td>affects^binding|decreases^reaction|increases^t...</td>\n",
       "      <td>20208034</td>\n",
       "      <td>increases_transport</td>\n",
       "      <td>nan</td>\n",
       "    </tr>\n",
       "    <tr>\n",
       "      <th>12</th>\n",
       "      <td>10,10-bis(4-pyridinylmethyl)-9(10H)-anthracenone</td>\n",
       "      <td>C112297</td>\n",
       "      <td>NaN</td>\n",
       "      <td>KCNQ3</td>\n",
       "      <td>3786</td>\n",
       "      <td>protein</td>\n",
       "      <td>NaN</td>\n",
       "      <td>NaN</td>\n",
       "      <td>10,10-bis(4-pyridinylmethyl)-9(10H)-anthraceno...</td>\n",
       "      <td>affects^binding|decreases^reaction|increases^t...</td>\n",
       "      <td>20208034</td>\n",
       "      <td>affects_binding</td>\n",
       "      <td>nan</td>\n",
       "    </tr>\n",
       "    <tr>\n",
       "      <th>12</th>\n",
       "      <td>10,10-bis(4-pyridinylmethyl)-9(10H)-anthracenone</td>\n",
       "      <td>C112297</td>\n",
       "      <td>NaN</td>\n",
       "      <td>KCNQ3</td>\n",
       "      <td>3786</td>\n",
       "      <td>protein</td>\n",
       "      <td>NaN</td>\n",
       "      <td>NaN</td>\n",
       "      <td>10,10-bis(4-pyridinylmethyl)-9(10H)-anthraceno...</td>\n",
       "      <td>affects^binding|decreases^reaction|increases^t...</td>\n",
       "      <td>20208034</td>\n",
       "      <td>decreases_reaction</td>\n",
       "      <td>nan</td>\n",
       "    </tr>\n",
       "    <tr>\n",
       "      <th>12</th>\n",
       "      <td>10,10-bis(4-pyridinylmethyl)-9(10H)-anthracenone</td>\n",
       "      <td>C112297</td>\n",
       "      <td>NaN</td>\n",
       "      <td>KCNQ3</td>\n",
       "      <td>3786</td>\n",
       "      <td>protein</td>\n",
       "      <td>NaN</td>\n",
       "      <td>NaN</td>\n",
       "      <td>10,10-bis(4-pyridinylmethyl)-9(10H)-anthraceno...</td>\n",
       "      <td>affects^binding|decreases^reaction|increases^t...</td>\n",
       "      <td>20208034</td>\n",
       "      <td>increases_transport</td>\n",
       "      <td>nan</td>\n",
       "    </tr>\n",
       "    <tr>\n",
       "      <th>13</th>\n",
       "      <td>10,11-dihydro-10,11-dihydroxy-5H-dibenzazepine...</td>\n",
       "      <td>C004822</td>\n",
       "      <td>35079-97-1</td>\n",
       "      <td>EPHX1</td>\n",
       "      <td>2052</td>\n",
       "      <td>gene</td>\n",
       "      <td>Homo sapiens</td>\n",
       "      <td>9606.0</td>\n",
       "      <td>[EPHX1 gene SNP affects the metabolism of carb...</td>\n",
       "      <td>affects^chemical synthesis|affects^metabolic p...</td>\n",
       "      <td>15692831</td>\n",
       "      <td>affects_chemical_synthesis</td>\n",
       "      <td>nan</td>\n",
       "    </tr>\n",
       "    <tr>\n",
       "      <th>13</th>\n",
       "      <td>10,11-dihydro-10,11-dihydroxy-5H-dibenzazepine...</td>\n",
       "      <td>C004822</td>\n",
       "      <td>35079-97-1</td>\n",
       "      <td>EPHX1</td>\n",
       "      <td>2052</td>\n",
       "      <td>gene</td>\n",
       "      <td>Homo sapiens</td>\n",
       "      <td>9606.0</td>\n",
       "      <td>[EPHX1 gene SNP affects the metabolism of carb...</td>\n",
       "      <td>affects^chemical synthesis|affects^metabolic p...</td>\n",
       "      <td>15692831</td>\n",
       "      <td>affects_metabolic_processing</td>\n",
       "      <td>nan</td>\n",
       "    </tr>\n",
       "    <tr>\n",
       "      <th>14</th>\n",
       "      <td>10,11-dihydro-10,11-dihydroxy-5H-dibenzazepine...</td>\n",
       "      <td>C004822</td>\n",
       "      <td>35079-97-1</td>\n",
       "      <td>EPHX1</td>\n",
       "      <td>2052</td>\n",
       "      <td>protein</td>\n",
       "      <td>Homo sapiens</td>\n",
       "      <td>9606.0</td>\n",
       "      <td>[EPHX1 protein results in increased metabolism...</td>\n",
       "      <td>increases^chemical synthesis|increases^metabol...</td>\n",
       "      <td>15692831</td>\n",
       "      <td>increases_chemical_synthesis</td>\n",
       "      <td>nan</td>\n",
       "    </tr>\n",
       "    <tr>\n",
       "      <th>14</th>\n",
       "      <td>10,11-dihydro-10,11-dihydroxy-5H-dibenzazepine...</td>\n",
       "      <td>C004822</td>\n",
       "      <td>35079-97-1</td>\n",
       "      <td>EPHX1</td>\n",
       "      <td>2052</td>\n",
       "      <td>protein</td>\n",
       "      <td>Homo sapiens</td>\n",
       "      <td>9606.0</td>\n",
       "      <td>[EPHX1 protein results in increased metabolism...</td>\n",
       "      <td>increases^chemical synthesis|increases^metabol...</td>\n",
       "      <td>15692831</td>\n",
       "      <td>increases_metabolic_processing</td>\n",
       "      <td>nan</td>\n",
       "    </tr>\n",
       "    <tr>\n",
       "      <th>15</th>\n",
       "      <td>10,11-dihydro-10-hydroxycarbamazepine</td>\n",
       "      <td>C039775</td>\n",
       "      <td>NaN</td>\n",
       "      <td>ABCB1</td>\n",
       "      <td>5243</td>\n",
       "      <td>protein</td>\n",
       "      <td>Homo sapiens</td>\n",
       "      <td>9606.0</td>\n",
       "      <td>ABCB1 protein results in increased transport o...</td>\n",
       "      <td>increases^transport</td>\n",
       "      <td>16190932</td>\n",
       "      <td>increases_transport</td>\n",
       "      <td>nan</td>\n",
       "    </tr>\n",
       "  </tbody>\n",
       "</table>\n",
       "</div>"
      ],
      "text/plain": [
       "                                         ChemicalName ChemicalID       CasRN  \\\n",
       "6                                            10074-G5    C534883         NaN   \n",
       "7                                            10074-G5    C534883         NaN   \n",
       "7                                            10074-G5    C534883         NaN   \n",
       "8    10,10-bis(4-pyridinylmethyl)-9(10H)-anthracenone    C112297         NaN   \n",
       "8    10,10-bis(4-pyridinylmethyl)-9(10H)-anthracenone    C112297         NaN   \n",
       "9    10,10-bis(4-pyridinylmethyl)-9(10H)-anthracenone    C112297         NaN   \n",
       "10   10,10-bis(4-pyridinylmethyl)-9(10H)-anthracenone    C112297         NaN   \n",
       "10   10,10-bis(4-pyridinylmethyl)-9(10H)-anthracenone    C112297         NaN   \n",
       "10   10,10-bis(4-pyridinylmethyl)-9(10H)-anthracenone    C112297         NaN   \n",
       "11   10,10-bis(4-pyridinylmethyl)-9(10H)-anthracenone    C112297         NaN   \n",
       "11   10,10-bis(4-pyridinylmethyl)-9(10H)-anthracenone    C112297         NaN   \n",
       "11   10,10-bis(4-pyridinylmethyl)-9(10H)-anthracenone    C112297         NaN   \n",
       "12   10,10-bis(4-pyridinylmethyl)-9(10H)-anthracenone    C112297         NaN   \n",
       "12   10,10-bis(4-pyridinylmethyl)-9(10H)-anthracenone    C112297         NaN   \n",
       "12   10,10-bis(4-pyridinylmethyl)-9(10H)-anthracenone    C112297         NaN   \n",
       "13  10,11-dihydro-10,11-dihydroxy-5H-dibenzazepine...    C004822  35079-97-1   \n",
       "13  10,11-dihydro-10,11-dihydroxy-5H-dibenzazepine...    C004822  35079-97-1   \n",
       "14  10,11-dihydro-10,11-dihydroxy-5H-dibenzazepine...    C004822  35079-97-1   \n",
       "14  10,11-dihydro-10,11-dihydroxy-5H-dibenzazepine...    C004822  35079-97-1   \n",
       "15              10,11-dihydro-10-hydroxycarbamazepine    C039775         NaN   \n",
       "\n",
       "   GeneSymbol GeneID GeneForms      Organism  OrganismID  \\\n",
       "6         MYC   4609   protein           NaN         NaN   \n",
       "7         MYC   4609   protein           NaN         NaN   \n",
       "7         MYC   4609   protein           NaN         NaN   \n",
       "8         FOS   2353   protein  Mus musculus     10090.0   \n",
       "8         FOS   2353   protein  Mus musculus     10090.0   \n",
       "9       KCNQ1   3784   protein           NaN         NaN   \n",
       "10      KCNQ2   3785   protein  Mus musculus     10090.0   \n",
       "10      KCNQ2   3785   protein  Mus musculus     10090.0   \n",
       "10      KCNQ2   3785   protein  Mus musculus     10090.0   \n",
       "11      KCNQ2   3785   protein           NaN         NaN   \n",
       "11      KCNQ2   3785   protein           NaN         NaN   \n",
       "11      KCNQ2   3785   protein           NaN         NaN   \n",
       "12      KCNQ3   3786   protein           NaN         NaN   \n",
       "12      KCNQ3   3786   protein           NaN         NaN   \n",
       "12      KCNQ3   3786   protein           NaN         NaN   \n",
       "13      EPHX1   2052      gene  Homo sapiens      9606.0   \n",
       "13      EPHX1   2052      gene  Homo sapiens      9606.0   \n",
       "14      EPHX1   2052   protein  Homo sapiens      9606.0   \n",
       "14      EPHX1   2052   protein  Homo sapiens      9606.0   \n",
       "15      ABCB1   5243   protein  Homo sapiens      9606.0   \n",
       "\n",
       "                                          Interaction  \\\n",
       "6   10074-G5 affects the folding of and results in...   \n",
       "7   10074-G5 inhibits the reaction [MYC protein bi...   \n",
       "7   10074-G5 inhibits the reaction [MYC protein bi...   \n",
       "8   10,10-bis(4-pyridinylmethyl)-9(10H)-anthraceno...   \n",
       "8   10,10-bis(4-pyridinylmethyl)-9(10H)-anthraceno...   \n",
       "9   10,10-bis(4-pyridinylmethyl)-9(10H)-anthraceno...   \n",
       "10  10,10-bis(4-pyridinylmethyl)-9(10H)-anthraceno...   \n",
       "10  10,10-bis(4-pyridinylmethyl)-9(10H)-anthraceno...   \n",
       "10  10,10-bis(4-pyridinylmethyl)-9(10H)-anthraceno...   \n",
       "11  10,10-bis(4-pyridinylmethyl)-9(10H)-anthraceno...   \n",
       "11  10,10-bis(4-pyridinylmethyl)-9(10H)-anthraceno...   \n",
       "11  10,10-bis(4-pyridinylmethyl)-9(10H)-anthraceno...   \n",
       "12  10,10-bis(4-pyridinylmethyl)-9(10H)-anthraceno...   \n",
       "12  10,10-bis(4-pyridinylmethyl)-9(10H)-anthraceno...   \n",
       "12  10,10-bis(4-pyridinylmethyl)-9(10H)-anthraceno...   \n",
       "13  [EPHX1 gene SNP affects the metabolism of carb...   \n",
       "13  [EPHX1 gene SNP affects the metabolism of carb...   \n",
       "14  [EPHX1 protein results in increased metabolism...   \n",
       "14  [EPHX1 protein results in increased metabolism...   \n",
       "15  ABCB1 protein results in increased transport o...   \n",
       "\n",
       "                                   InteractionActions PubMedIDs  \\\n",
       "6   affects^binding|affects^folding|decreases^acti...  26474287   \n",
       "7                  affects^binding|decreases^reaction  26474287   \n",
       "7                  affects^binding|decreases^reaction  26474287   \n",
       "8             decreases^reaction|increases^expression  26348896   \n",
       "8             decreases^reaction|increases^expression  26348896   \n",
       "9                                  decreases^activity  18568022   \n",
       "10  affects^reaction|increases^activity|increases^...  15634793   \n",
       "10  affects^reaction|increases^activity|increases^...  15634793   \n",
       "10  affects^reaction|increases^activity|increases^...  15634793   \n",
       "11  affects^binding|decreases^reaction|increases^t...  20208034   \n",
       "11  affects^binding|decreases^reaction|increases^t...  20208034   \n",
       "11  affects^binding|decreases^reaction|increases^t...  20208034   \n",
       "12  affects^binding|decreases^reaction|increases^t...  20208034   \n",
       "12  affects^binding|decreases^reaction|increases^t...  20208034   \n",
       "12  affects^binding|decreases^reaction|increases^t...  20208034   \n",
       "13  affects^chemical synthesis|affects^metabolic p...  15692831   \n",
       "13  affects^chemical synthesis|affects^metabolic p...  15692831   \n",
       "14  increases^chemical synthesis|increases^metabol...  15692831   \n",
       "14  increases^chemical synthesis|increases^metabol...  15692831   \n",
       "15                                increases^transport  16190932   \n",
       "\n",
       "                         Predicate   pred_code  \n",
       "6               decreases_activity  RO_0002212  \n",
       "7                  affects_binding         nan  \n",
       "7               decreases_reaction         nan  \n",
       "8               decreases_reaction         nan  \n",
       "8             increases_expression  RO_0002213  \n",
       "9               decreases_activity  RO_0002212  \n",
       "10                affects_reaction         nan  \n",
       "10              increases_activity  RO_0002213  \n",
       "10                increases_import         nan  \n",
       "11                 affects_binding         nan  \n",
       "11              decreases_reaction         nan  \n",
       "11             increases_transport         nan  \n",
       "12                 affects_binding         nan  \n",
       "12              decreases_reaction         nan  \n",
       "12             increases_transport         nan  \n",
       "13      affects_chemical_synthesis         nan  \n",
       "13    affects_metabolic_processing         nan  \n",
       "14    increases_chemical_synthesis         nan  \n",
       "14  increases_metabolic_processing         nan  \n",
       "15             increases_transport         nan  "
      ]
     },
     "execution_count": 48,
     "metadata": {},
     "output_type": "execute_result"
    }
   ],
   "source": [
    "df_cg[10:30]"
   ]
  },
  {
   "cell_type": "code",
   "execution_count": 190,
   "metadata": {},
   "outputs": [],
   "source": [
    "subj_url = 'http://identifiers.org/ctd.chemical/' \n",
    "subj_col = 'ChemicalID'\n",
    "obj_url = 'http://identifiers.org/ctd.gene/' \n",
    "obj_col = 'GeneID'\n",
    "pred_col = 'Predicate'\n",
    "\n",
    "convert_df_nt(df_cg, 'output_cg.nt', subj_url, subj_col, obj_url, obj_col, pred_col)"
   ]
  },
  {
   "cell_type": "markdown",
   "metadata": {},
   "source": [
    "## Chem-Disease"
   ]
  },
  {
   "cell_type": "code",
   "execution_count": 12,
   "metadata": {},
   "outputs": [
    {
     "data": {
      "text/plain": [
       "0"
      ]
     },
     "execution_count": 12,
     "metadata": {},
     "output_type": "execute_result"
    }
   ],
   "source": [
    "# Log progress\n",
    "subprocess.call('echo \"Begin Chem-Dis\" >> log.txt', shell=True)"
   ]
  },
  {
   "cell_type": "code",
   "execution_count": 3,
   "metadata": {},
   "outputs": [],
   "source": [
    "# Read in CTD sample, skipping the intro rows\n",
    "df_cd = pd.read_csv('csvs/CTD_chemicals_diseases.csv', skiprows=27)\n",
    "df_cd = df_cd.drop(0)\n",
    "df_cd = df_cd.dropna(subset=['DirectEvidence']) # drop if it doesn't have direct evidence"
   ]
  },
  {
   "cell_type": "code",
   "execution_count": 4,
   "metadata": {},
   "outputs": [
    {
     "name": "stdout",
     "output_type": "stream",
     "text": [
      "Number of diseases:\n"
     ]
    },
    {
     "data": {
      "text/plain": [
       "3191"
      ]
     },
     "execution_count": 4,
     "metadata": {},
     "output_type": "execute_result"
    }
   ],
   "source": [
    "print('Number of diseases:')\n",
    "df_cd[(df_cd.DirectEvidence == 'marker/mechanism') | (df_cd.DirectEvidence == 'therapeutic')].DiseaseID.nunique()"
   ]
  },
  {
   "cell_type": "code",
   "execution_count": 5,
   "metadata": {},
   "outputs": [],
   "source": [
    "# ## Create chem-dis file with only directly-evidenced associations (for use in opa-nn)\n",
    "df1 = df_cd[(df_cd.DirectEvidence == 'marker/mechanism') | (df_cd.DirectEvidence == 'therapeutic')]\n",
    "df1 = df1[['ChemicalID', 'DiseaseID', 'DirectEvidence']]\n",
    "df1.to_csv('chem-dis-pos-assocs.csv', index=False)"
   ]
  },
  {
   "cell_type": "code",
   "execution_count": 6,
   "metadata": {},
   "outputs": [
    {
     "data": {
      "text/plain": [
       "(96086, 3)"
      ]
     },
     "execution_count": 6,
     "metadata": {},
     "output_type": "execute_result"
    }
   ],
   "source": [
    "df1.shape"
   ]
  },
  {
   "cell_type": "code",
   "execution_count": 8,
   "metadata": {},
   "outputs": [
    {
     "data": {
      "text/html": [
       "<div>\n",
       "<style scoped>\n",
       "    .dataframe tbody tr th:only-of-type {\n",
       "        vertical-align: middle;\n",
       "    }\n",
       "\n",
       "    .dataframe tbody tr th {\n",
       "        vertical-align: top;\n",
       "    }\n",
       "\n",
       "    .dataframe thead th {\n",
       "        text-align: right;\n",
       "    }\n",
       "</style>\n",
       "<table border=\"1\" class=\"dataframe\">\n",
       "  <thead>\n",
       "    <tr style=\"text-align: right;\">\n",
       "      <th></th>\n",
       "      <th>ChemicalID</th>\n",
       "      <th>DiseaseID</th>\n",
       "      <th>DirectEvidence</th>\n",
       "    </tr>\n",
       "  </thead>\n",
       "  <tbody>\n",
       "    <tr>\n",
       "      <th>1</th>\n",
       "      <td>C046983</td>\n",
       "      <td>MESH:D054198</td>\n",
       "      <td>therapeutic</td>\n",
       "    </tr>\n",
       "    <tr>\n",
       "      <th>71</th>\n",
       "      <td>C112297</td>\n",
       "      <td>MESH:D006948</td>\n",
       "      <td>marker/mechanism</td>\n",
       "    </tr>\n",
       "    <tr>\n",
       "      <th>86</th>\n",
       "      <td>C112297</td>\n",
       "      <td>MESH:D012640</td>\n",
       "      <td>marker/mechanism</td>\n",
       "    </tr>\n",
       "    <tr>\n",
       "      <th>135</th>\n",
       "      <td>C039775</td>\n",
       "      <td>MESH:D004827</td>\n",
       "      <td>therapeutic</td>\n",
       "    </tr>\n",
       "    <tr>\n",
       "      <th>189</th>\n",
       "      <td>C425777</td>\n",
       "      <td>MESH:D006948</td>\n",
       "      <td>marker/mechanism</td>\n",
       "    </tr>\n",
       "  </tbody>\n",
       "</table>\n",
       "</div>"
      ],
      "text/plain": [
       "    ChemicalID     DiseaseID    DirectEvidence\n",
       "1      C046983  MESH:D054198       therapeutic\n",
       "71     C112297  MESH:D006948  marker/mechanism\n",
       "86     C112297  MESH:D012640  marker/mechanism\n",
       "135    C039775  MESH:D004827       therapeutic\n",
       "189    C425777  MESH:D006948  marker/mechanism"
      ]
     },
     "execution_count": 8,
     "metadata": {},
     "output_type": "execute_result"
    }
   ],
   "source": [
    "df1.head()"
   ]
  },
  {
   "cell_type": "code",
   "execution_count": 5,
   "metadata": {},
   "outputs": [],
   "source": [
    "# Process DiseaseID so as to be usable in url\n",
    "df_cd['DiseaseID'] = df_cd['DiseaseID'].str.replace('MESH:', '')\n",
    "\n",
    "#Specify type to optimise\n",
    "df_cd['ChemicalID'] = df_cd.ChemicalID.astype(str)\n",
    "# df_cd['InferenceGeneSymbol'] = df_cd.InferenceGeneSymbol.astype(str)"
   ]
  },
  {
   "cell_type": "code",
   "execution_count": 6,
   "metadata": {},
   "outputs": [
    {
     "data": {
      "text/html": [
       "<div>\n",
       "<style scoped>\n",
       "    .dataframe tbody tr th:only-of-type {\n",
       "        vertical-align: middle;\n",
       "    }\n",
       "\n",
       "    .dataframe tbody tr th {\n",
       "        vertical-align: top;\n",
       "    }\n",
       "\n",
       "    .dataframe thead th {\n",
       "        text-align: right;\n",
       "    }\n",
       "</style>\n",
       "<table border=\"1\" class=\"dataframe\">\n",
       "  <thead>\n",
       "    <tr style=\"text-align: right;\">\n",
       "      <th></th>\n",
       "      <th># ChemicalName</th>\n",
       "      <th>ChemicalID</th>\n",
       "      <th>CasRN</th>\n",
       "      <th>DiseaseName</th>\n",
       "      <th>DiseaseID</th>\n",
       "      <th>DirectEvidence</th>\n",
       "      <th>InferenceGeneSymbol</th>\n",
       "      <th>InferenceScore</th>\n",
       "      <th>OmimIDs</th>\n",
       "      <th>PubMedIDs</th>\n",
       "    </tr>\n",
       "  </thead>\n",
       "  <tbody>\n",
       "    <tr>\n",
       "      <th>1</th>\n",
       "      <td>06-Paris-LA-66 protocol</td>\n",
       "      <td>C046983</td>\n",
       "      <td>NaN</td>\n",
       "      <td>Precursor Cell Lymphoblastic Leukemia-Lymphoma</td>\n",
       "      <td>D054198</td>\n",
       "      <td>therapeutic</td>\n",
       "      <td>NaN</td>\n",
       "      <td>NaN</td>\n",
       "      <td>NaN</td>\n",
       "      <td>4519131</td>\n",
       "    </tr>\n",
       "    <tr>\n",
       "      <th>71</th>\n",
       "      <td>10,10-bis(4-pyridinylmethyl)-9(10H)-anthracenone</td>\n",
       "      <td>C112297</td>\n",
       "      <td>NaN</td>\n",
       "      <td>Hyperkinesis</td>\n",
       "      <td>D006948</td>\n",
       "      <td>marker/mechanism</td>\n",
       "      <td>NaN</td>\n",
       "      <td>NaN</td>\n",
       "      <td>NaN</td>\n",
       "      <td>19098162</td>\n",
       "    </tr>\n",
       "    <tr>\n",
       "      <th>86</th>\n",
       "      <td>10,10-bis(4-pyridinylmethyl)-9(10H)-anthracenone</td>\n",
       "      <td>C112297</td>\n",
       "      <td>NaN</td>\n",
       "      <td>Seizures</td>\n",
       "      <td>D012640</td>\n",
       "      <td>marker/mechanism</td>\n",
       "      <td>NaN</td>\n",
       "      <td>NaN</td>\n",
       "      <td>NaN</td>\n",
       "      <td>26348896</td>\n",
       "    </tr>\n",
       "    <tr>\n",
       "      <th>135</th>\n",
       "      <td>10,11-dihydro-10-hydroxycarbamazepine</td>\n",
       "      <td>C039775</td>\n",
       "      <td>NaN</td>\n",
       "      <td>Epilepsy</td>\n",
       "      <td>D004827</td>\n",
       "      <td>therapeutic</td>\n",
       "      <td>NaN</td>\n",
       "      <td>NaN</td>\n",
       "      <td>NaN</td>\n",
       "      <td>17516704</td>\n",
       "    </tr>\n",
       "    <tr>\n",
       "      <th>189</th>\n",
       "      <td>10,11-dihydroxy-N-n-propylnorapomorphine</td>\n",
       "      <td>C425777</td>\n",
       "      <td>NaN</td>\n",
       "      <td>Hyperkinesis</td>\n",
       "      <td>D006948</td>\n",
       "      <td>marker/mechanism</td>\n",
       "      <td>NaN</td>\n",
       "      <td>NaN</td>\n",
       "      <td>NaN</td>\n",
       "      <td>15765258</td>\n",
       "    </tr>\n",
       "  </tbody>\n",
       "</table>\n",
       "</div>"
      ],
      "text/plain": [
       "                                       # ChemicalName ChemicalID CasRN  \\\n",
       "1                             06-Paris-LA-66 protocol    C046983   NaN   \n",
       "71   10,10-bis(4-pyridinylmethyl)-9(10H)-anthracenone    C112297   NaN   \n",
       "86   10,10-bis(4-pyridinylmethyl)-9(10H)-anthracenone    C112297   NaN   \n",
       "135             10,11-dihydro-10-hydroxycarbamazepine    C039775   NaN   \n",
       "189          10,11-dihydroxy-N-n-propylnorapomorphine    C425777   NaN   \n",
       "\n",
       "                                        DiseaseName DiseaseID  \\\n",
       "1    Precursor Cell Lymphoblastic Leukemia-Lymphoma   D054198   \n",
       "71                                     Hyperkinesis   D006948   \n",
       "86                                         Seizures   D012640   \n",
       "135                                        Epilepsy   D004827   \n",
       "189                                    Hyperkinesis   D006948   \n",
       "\n",
       "       DirectEvidence InferenceGeneSymbol  InferenceScore OmimIDs PubMedIDs  \n",
       "1         therapeutic                 NaN             NaN     NaN   4519131  \n",
       "71   marker/mechanism                 NaN             NaN     NaN  19098162  \n",
       "86   marker/mechanism                 NaN             NaN     NaN  26348896  \n",
       "135       therapeutic                 NaN             NaN     NaN  17516704  \n",
       "189  marker/mechanism                 NaN             NaN     NaN  15765258  "
      ]
     },
     "execution_count": 6,
     "metadata": {},
     "output_type": "execute_result"
    }
   ],
   "source": [
    "df_cd.head()"
   ]
  },
  {
   "cell_type": "code",
   "execution_count": 7,
   "metadata": {},
   "outputs": [
    {
     "data": {
      "text/plain": [
       "34071"
      ]
     },
     "execution_count": 7,
     "metadata": {},
     "output_type": "execute_result"
    }
   ],
   "source": [
    "len(df_cd[df_cd.DirectEvidence =='therapeutic'])"
   ]
  },
  {
   "cell_type": "code",
   "execution_count": 6,
   "metadata": {},
   "outputs": [],
   "source": [
    "# Create Predicate Column\n",
    "def cd_predicate(r):\n",
    "    \"\"\"\n",
    "    Create predicate from directevidence if available\n",
    "    \"\"\"\n",
    "    return 'associated_directly_with'\n",
    "\n",
    "# df_cd['DirectEvidence'] = df_cd.DirectEvidence.astype(str) \n",
    "df_cd['Predicate'] = df_cd.apply(cd_predicate, axis=1)\n",
    "df_cd['Predicate'] = df_cd.Predicate.astype(str)"
   ]
  },
  {
   "cell_type": "code",
   "execution_count": 7,
   "metadata": {},
   "outputs": [
    {
     "data": {
      "text/plain": [
       "array(['therapeutic', 'marker/mechanism'], dtype=object)"
      ]
     },
     "execution_count": 7,
     "metadata": {},
     "output_type": "execute_result"
    }
   ],
   "source": [
    "# #Specify type to optimise\n",
    "# df_cd['ChemicalID'] = df_cd.ChemicalID.astype(str)\n",
    "# df_cd['DiseaseID'] = df_cd.DiseaseID.astype(str)\n",
    "\n",
    "df_cd.DirectEvidence.unique()\n"
   ]
  },
  {
   "cell_type": "code",
   "execution_count": 8,
   "metadata": {},
   "outputs": [],
   "source": [
    "# Painstakingly split the predicates into the available RO/GO predicates... will do only a\n",
    "# partial job as am in proof of concept stage and Ontology may change [ only clearest effects]\n",
    "# RO_0002213 = positively regulates\n",
    "# RO_0002212 = negatively regulates \n",
    "# RO_0003308 = correlated with condition\n",
    "# http://purl.obolibrary.org/obo/RO_0002213\n",
    "\n",
    "map_to_ro = {\n",
    "    'therapeutic': 'RO_0002212',\n",
    "    'marker/mechanism': 'RO_0003308' \n",
    "}\n",
    "\n",
    "# Apply map to create ro_predicate value for applicable predicates\n",
    "df_cd['pred_code'] = df_cd.DirectEvidence.map(map_to_ro).astype(str)"
   ]
  },
  {
   "cell_type": "code",
   "execution_count": 9,
   "metadata": {},
   "outputs": [],
   "source": [
    "# # Exporting diseaseID and Disease Name for mapping DisGeNet UMLS codes to MESH\n",
    "# df_cd_mesh = df_cd.loc[:, ('DiseaseName', 'DiseaseID')]\n",
    "# df_cd_mesh.to_csv('CTDdis-names.csv', index=False)"
   ]
  },
  {
   "cell_type": "code",
   "execution_count": null,
   "metadata": {},
   "outputs": [],
   "source": []
  },
  {
   "cell_type": "code",
   "execution_count": 10,
   "metadata": {},
   "outputs": [],
   "source": [
    "subj_url = 'http://identifiers.org/ctd.chemical/' \n",
    "subj_col = 'ChemicalID'\n",
    "obj_url = 'http://identifiers.org/mesh/'\n",
    "obj_url_2 = 'http://identifiers.org/omim/' # to use when CTD gives an omim disease id\n",
    "obj_col = 'DiseaseID'\n",
    "pred_col = 'Predicate'\n",
    "\n",
    "convert_df_nt(df_cd, 'output_cd.nt', subj_url, subj_col, obj_url, obj_col, pred_col, ['OMIM:',obj_url_2])"
   ]
  },
  {
   "cell_type": "markdown",
   "metadata": {},
   "source": [
    "## Gene Disease"
   ]
  },
  {
   "cell_type": "code",
   "execution_count": 1,
   "metadata": {},
   "outputs": [
    {
     "ename": "NameError",
     "evalue": "name 'subprocess' is not defined",
     "output_type": "error",
     "traceback": [
      "\u001b[0;31m-----------------------------------------\u001b[0m",
      "\u001b[0;31mNameError\u001b[0mTraceback (most recent call last)",
      "\u001b[0;32m<ipython-input-1-d99a9ece30bf>\u001b[0m in \u001b[0;36m<module>\u001b[0;34m()\u001b[0m\n\u001b[1;32m      1\u001b[0m \u001b[0;31m# Log progress\u001b[0m\u001b[0;34m\u001b[0m\u001b[0;34m\u001b[0m\u001b[0m\n\u001b[0;32m----> 2\u001b[0;31m \u001b[0msubprocess\u001b[0m\u001b[0;34m.\u001b[0m\u001b[0mcall\u001b[0m\u001b[0;34m(\u001b[0m\u001b[0;34m'echo \"Begin Gene-Dis\" >> log.txt'\u001b[0m\u001b[0;34m,\u001b[0m \u001b[0mshell\u001b[0m\u001b[0;34m=\u001b[0m\u001b[0;32mTrue\u001b[0m\u001b[0;34m)\u001b[0m\u001b[0;34m\u001b[0m\u001b[0m\n\u001b[0m",
      "\u001b[0;31mNameError\u001b[0m: name 'subprocess' is not defined"
     ]
    }
   ],
   "source": [
    "# Log progress\n",
    "subprocess.call('echo \"Begin Gene-Dis\" >> log.txt', shell=True)"
   ]
  },
  {
   "cell_type": "code",
   "execution_count": null,
   "metadata": {},
   "outputs": [
    {
     "name": "stderr",
     "output_type": "stream",
     "text": [
      "/home/ian/anaconda3/lib/python3.6/site-packages/IPython/core/interactiveshell.py:2785: DtypeWarning: Columns (4,7) have mixed types. Specify dtype option on import or set low_memory=False.\n",
      "  interactivity=interactivity, compiler=compiler, result=result)\n"
     ]
    }
   ],
   "source": [
    "# Read in CTD sample, skipping the intro rows\n",
    "# TODO probably faster to pre-process out rows without direct evidence\n",
    "df_gd = pd.read_csv('csvs/CTD_genes_diseases.csv', skiprows=27)\n",
    "df_gd = df_gd.drop(0)\n",
    "df_gd = df_gd.dropna(subset=['DirectEvidence']) # drop if it doesn't have direct evidence"
   ]
  },
  {
   "cell_type": "code",
   "execution_count": null,
   "metadata": {},
   "outputs": [],
   "source": [
    "## Create gene-dis file directly-evidenced associations (for use in opa-nn)\n",
    "\n",
    "\n",
    "df1 = df_gd[(df_gd.DirectEvidence == 'marker/mechanism')]\n",
    "\n",
    "df1 = df1[['GeneID', 'DiseaseID']]\n",
    "df1.to_csv('gene-dis-pos-assocs.csv', index=False)"
   ]
  },
  {
   "cell_type": "code",
   "execution_count": null,
   "metadata": {},
   "outputs": [],
   "source": [
    "df_gd.head()"
   ]
  },
  {
   "cell_type": "code",
   "execution_count": null,
   "metadata": {},
   "outputs": [],
   "source": [
    "df_gd[(df_gd.DirectEvidence == 'marker/mechanism')].shape"
   ]
  },
  {
   "cell_type": "code",
   "execution_count": 6,
   "metadata": {},
   "outputs": [],
   "source": [
    "#Specify type to optimise\n",
    "df_gd['GeneID'] = df_gd.GeneID.astype(str)\n",
    "df_gd['DiseaseID'] = df_gd.DiseaseID.astype(str)"
   ]
  },
  {
   "cell_type": "code",
   "execution_count": 7,
   "metadata": {},
   "outputs": [
    {
     "data": {
      "text/html": [
       "<div>\n",
       "<style scoped>\n",
       "    .dataframe tbody tr th:only-of-type {\n",
       "        vertical-align: middle;\n",
       "    }\n",
       "\n",
       "    .dataframe tbody tr th {\n",
       "        vertical-align: top;\n",
       "    }\n",
       "\n",
       "    .dataframe thead th {\n",
       "        text-align: right;\n",
       "    }\n",
       "</style>\n",
       "<table border=\"1\" class=\"dataframe\">\n",
       "  <thead>\n",
       "    <tr style=\"text-align: right;\">\n",
       "      <th></th>\n",
       "      <th># GeneSymbol</th>\n",
       "      <th>GeneID</th>\n",
       "      <th>DiseaseName</th>\n",
       "      <th>DiseaseID</th>\n",
       "      <th>DirectEvidence</th>\n",
       "      <th>InferenceChemicalName</th>\n",
       "      <th>InferenceScore</th>\n",
       "      <th>OmimIDs</th>\n",
       "      <th>PubMedIDs</th>\n",
       "    </tr>\n",
       "  </thead>\n",
       "  <tbody>\n",
       "    <tr>\n",
       "      <th>3323</th>\n",
       "      <td>A</td>\n",
       "      <td>50518.0</td>\n",
       "      <td>Diabetes Mellitus</td>\n",
       "      <td>MESH:D003920</td>\n",
       "      <td>marker/mechanism</td>\n",
       "      <td>NaN</td>\n",
       "      <td>NaN</td>\n",
       "      <td>NaN</td>\n",
       "      <td>1473152</td>\n",
       "    </tr>\n",
       "    <tr>\n",
       "      <th>3326</th>\n",
       "      <td>A</td>\n",
       "      <td>50518.0</td>\n",
       "      <td>Diabetes Mellitus, Type 2</td>\n",
       "      <td>MESH:D003924</td>\n",
       "      <td>marker/mechanism</td>\n",
       "      <td>NaN</td>\n",
       "      <td>NaN</td>\n",
       "      <td>NaN</td>\n",
       "      <td>8146154</td>\n",
       "    </tr>\n",
       "    <tr>\n",
       "      <th>3545</th>\n",
       "      <td>A</td>\n",
       "      <td>50518.0</td>\n",
       "      <td>Liver Neoplasms</td>\n",
       "      <td>MESH:D008113</td>\n",
       "      <td>marker/mechanism</td>\n",
       "      <td>NaN</td>\n",
       "      <td>NaN</td>\n",
       "      <td>NaN</td>\n",
       "      <td>15175105</td>\n",
       "    </tr>\n",
       "    <tr>\n",
       "      <th>3652</th>\n",
       "      <td>A</td>\n",
       "      <td>50518.0</td>\n",
       "      <td>Neoplasms</td>\n",
       "      <td>MESH:D009369</td>\n",
       "      <td>marker/mechanism</td>\n",
       "      <td>NaN</td>\n",
       "      <td>NaN</td>\n",
       "      <td>NaN</td>\n",
       "      <td>1473152</td>\n",
       "    </tr>\n",
       "    <tr>\n",
       "      <th>3702</th>\n",
       "      <td>A</td>\n",
       "      <td>50518.0</td>\n",
       "      <td>Obesity</td>\n",
       "      <td>MESH:D009765</td>\n",
       "      <td>marker/mechanism</td>\n",
       "      <td>NaN</td>\n",
       "      <td>NaN</td>\n",
       "      <td>NaN</td>\n",
       "      <td>1473152|25447408|25448685|8146154</td>\n",
       "    </tr>\n",
       "  </tbody>\n",
       "</table>\n",
       "</div>"
      ],
      "text/plain": [
       "     # GeneSymbol   GeneID                DiseaseName     DiseaseID  \\\n",
       "3323            A  50518.0          Diabetes Mellitus  MESH:D003920   \n",
       "3326            A  50518.0  Diabetes Mellitus, Type 2  MESH:D003924   \n",
       "3545            A  50518.0            Liver Neoplasms  MESH:D008113   \n",
       "3652            A  50518.0                  Neoplasms  MESH:D009369   \n",
       "3702            A  50518.0                    Obesity  MESH:D009765   \n",
       "\n",
       "        DirectEvidence InferenceChemicalName  InferenceScore  OmimIDs  \\\n",
       "3323  marker/mechanism                   NaN             NaN      NaN   \n",
       "3326  marker/mechanism                   NaN             NaN      NaN   \n",
       "3545  marker/mechanism                   NaN             NaN      NaN   \n",
       "3652  marker/mechanism                   NaN             NaN      NaN   \n",
       "3702  marker/mechanism                   NaN             NaN      NaN   \n",
       "\n",
       "                              PubMedIDs  \n",
       "3323                            1473152  \n",
       "3326                            8146154  \n",
       "3545                           15175105  \n",
       "3652                            1473152  \n",
       "3702  1473152|25447408|25448685|8146154  "
      ]
     },
     "execution_count": 7,
     "metadata": {},
     "output_type": "execute_result"
    }
   ],
   "source": [
    "df_gd.head()"
   ]
  },
  {
   "cell_type": "code",
   "execution_count": 6,
   "metadata": {},
   "outputs": [],
   "source": [
    "# Must make some quick refinements to ensure resulting URLs work\n",
    "df_gd['GeneID'] = df_gd.GeneID.astype(float) \n",
    "df_gd['GeneID'] = df_gd['GeneID'].fillna(0).astype(int)\n",
    "df_gd['GeneID'] = df_gd['GeneID'].astype(str)\n",
    "df_gd['DirectEvidence'] = df_gd.DirectEvidence.astype(str) \n",
    "df_gd['DiseaseID'] = df_gd['DiseaseID'].str.replace('MESH:', '')\n",
    "\n",
    "# Create Predicate Column\n",
    "def gd_predicate(r):\n",
    "    \"\"\"\n",
    "    Create predicate\n",
    "    \"\"\"\n",
    "    return 'associated_directly_with'\n",
    "    \n",
    "df_gd['Predicate'] = df_gd.apply(gd_predicate, axis=1)\n",
    "df_gd['Predicate'] = df_gd.Predicate.astype(str)"
   ]
  },
  {
   "cell_type": "code",
   "execution_count": 7,
   "metadata": {},
   "outputs": [
    {
     "data": {
      "text/plain": [
       "array(['marker/mechanism', 'therapeutic', 'marker/mechanism|therapeutic'],\n",
       "      dtype=object)"
      ]
     },
     "execution_count": 7,
     "metadata": {},
     "output_type": "execute_result"
    }
   ],
   "source": [
    "df_gd.head()\n",
    "df_gd.DirectEvidence.unique()"
   ]
  },
  {
   "cell_type": "code",
   "execution_count": 8,
   "metadata": {},
   "outputs": [],
   "source": [
    "# Painstakingly split the predicates into the available RO/GO predicates... will do only a\n",
    "# partial job as am in proof of concept stage and Ontology may change [ only clearest effects]\n",
    "# RO_0002213 = positively regulates\n",
    "# RO_0002212 = negatively regulates \n",
    "# RO_0003308 = correlated with condition\n",
    "# http://purl.obolibrary.org/obo/RO_0002213\n",
    "\n",
    "map_to_ro = {\n",
    "    'therapeutic': 'RO_0002212',\n",
    "    'marker/mechanism': 'RO_0003308' \n",
    "}\n",
    "\n",
    "# Apply map to create ro_predicate value for applicable predicates\n",
    "df_gd['pred_code'] = df_gd.DirectEvidence.map(map_to_ro).astype(str)"
   ]
  },
  {
   "cell_type": "code",
   "execution_count": null,
   "metadata": {},
   "outputs": [],
   "source": []
  },
  {
   "cell_type": "code",
   "execution_count": 9,
   "metadata": {},
   "outputs": [],
   "source": [
    "subj_url = 'http://identifiers.org/ctd.gene/' \n",
    "subj_col = 'GeneID'\n",
    "obj_url = 'http://identifiers.org/mesh/' \n",
    "obj_url_2 = 'http://identifiers.org/omim/' # to use when CTD gives an omim disease id\n",
    "obj_col = 'DiseaseID'\n",
    "pred_col = 'Predicate'\n",
    "\n",
    "convert_df_nt(df_gd, 'output_gd.nt', subj_url, subj_col, obj_url, obj_col, pred_col, ['OMIM:',obj_url_2])"
   ]
  },
  {
   "cell_type": "markdown",
   "metadata": {},
   "source": [
    "## Gene Pathway"
   ]
  },
  {
   "cell_type": "code",
   "execution_count": 205,
   "metadata": {},
   "outputs": [
    {
     "data": {
      "text/plain": [
       "0"
      ]
     },
     "execution_count": 205,
     "metadata": {},
     "output_type": "execute_result"
    }
   ],
   "source": [
    "# Log progress\n",
    "subprocess.call('echo \"Begin Gene-Path\" >> log.txt', shell=True)"
   ]
  },
  {
   "cell_type": "code",
   "execution_count": 206,
   "metadata": {},
   "outputs": [],
   "source": [
    "# Read in CTD sample, skipping the intro rows\n",
    "df_gp = pd.read_csv('csvs/CTD_genes_pathways.csv', skiprows=27 )\n",
    "df_gp = df_gp.drop(0)"
   ]
  },
  {
   "cell_type": "code",
   "execution_count": 207,
   "metadata": {},
   "outputs": [],
   "source": [
    "# Must make some quick refinements to ensure resulting URLs work\n",
    "df_gp['GeneID'] = df_gp['GeneID'].fillna(0).astype(int)\n",
    "df_gp['GeneID'] = df_gp.GeneID.astype(int) \n",
    "df_gp['PathwayID'] = df_gp['PathwayID'].str.replace('REACT:', '')\n",
    "\n",
    "# Create Predicate Column\n",
    "def gp_predicate(r):\n",
    "    return 'RO_0002213'\n",
    "    \n",
    "df_gp['pred_code'] = df_gp.apply(gp_predicate, axis=1)"
   ]
  },
  {
   "cell_type": "code",
   "execution_count": 208,
   "metadata": {},
   "outputs": [],
   "source": [
    "#Specify type to optimise\n",
    "df_gp['GeneID'] = df_gp.GeneID.astype(str)\n",
    "df_gp['PathwayID'] = df_gp.PathwayID.astype(str)\n",
    "df_gp['pred_code'] = df_gp.pred_code.astype(str)"
   ]
  },
  {
   "cell_type": "code",
   "execution_count": 209,
   "metadata": {},
   "outputs": [
    {
     "data": {
      "text/html": [
       "<div>\n",
       "<style scoped>\n",
       "    .dataframe tbody tr th:only-of-type {\n",
       "        vertical-align: middle;\n",
       "    }\n",
       "\n",
       "    .dataframe tbody tr th {\n",
       "        vertical-align: top;\n",
       "    }\n",
       "\n",
       "    .dataframe thead th {\n",
       "        text-align: right;\n",
       "    }\n",
       "</style>\n",
       "<table border=\"1\" class=\"dataframe\">\n",
       "  <thead>\n",
       "    <tr style=\"text-align: right;\">\n",
       "      <th></th>\n",
       "      <th># GeneSymbol</th>\n",
       "      <th>GeneID</th>\n",
       "      <th>PathwayName</th>\n",
       "      <th>PathwayID</th>\n",
       "      <th>pred_code</th>\n",
       "    </tr>\n",
       "  </thead>\n",
       "  <tbody>\n",
       "    <tr>\n",
       "      <th>81</th>\n",
       "      <td>AAAS</td>\n",
       "      <td>8086</td>\n",
       "      <td>RNA transport</td>\n",
       "      <td>KEGG:hsa03013</td>\n",
       "      <td>RO_0002213</td>\n",
       "    </tr>\n",
       "    <tr>\n",
       "      <th>82</th>\n",
       "      <td>AAAS</td>\n",
       "      <td>8086</td>\n",
       "      <td>SLC-mediated transmembrane transport</td>\n",
       "      <td>R-HSA-425407</td>\n",
       "      <td>RO_0002213</td>\n",
       "    </tr>\n",
       "    <tr>\n",
       "      <th>83</th>\n",
       "      <td>AAAS</td>\n",
       "      <td>8086</td>\n",
       "      <td>snRNP Assembly</td>\n",
       "      <td>R-HSA-191859</td>\n",
       "      <td>RO_0002213</td>\n",
       "    </tr>\n",
       "    <tr>\n",
       "      <th>84</th>\n",
       "      <td>AAAS</td>\n",
       "      <td>8086</td>\n",
       "      <td>SUMO E3 ligases SUMOylate target proteins</td>\n",
       "      <td>R-HSA-3108232</td>\n",
       "      <td>RO_0002213</td>\n",
       "    </tr>\n",
       "    <tr>\n",
       "      <th>85</th>\n",
       "      <td>AAAS</td>\n",
       "      <td>8086</td>\n",
       "      <td>SUMOylation</td>\n",
       "      <td>R-HSA-2990846</td>\n",
       "      <td>RO_0002213</td>\n",
       "    </tr>\n",
       "    <tr>\n",
       "      <th>86</th>\n",
       "      <td>AAAS</td>\n",
       "      <td>8086</td>\n",
       "      <td>SUMOylation of DNA damage response and repair ...</td>\n",
       "      <td>R-HSA-3108214</td>\n",
       "      <td>RO_0002213</td>\n",
       "    </tr>\n",
       "    <tr>\n",
       "      <th>87</th>\n",
       "      <td>AAAS</td>\n",
       "      <td>8086</td>\n",
       "      <td>SUMOylation of DNA replication proteins</td>\n",
       "      <td>R-HSA-4615885</td>\n",
       "      <td>RO_0002213</td>\n",
       "    </tr>\n",
       "    <tr>\n",
       "      <th>88</th>\n",
       "      <td>AAAS</td>\n",
       "      <td>8086</td>\n",
       "      <td>SUMOylation of RNA binding proteins</td>\n",
       "      <td>R-HSA-4570464</td>\n",
       "      <td>RO_0002213</td>\n",
       "    </tr>\n",
       "    <tr>\n",
       "      <th>89</th>\n",
       "      <td>AAAS</td>\n",
       "      <td>8086</td>\n",
       "      <td>Transcriptional regulation by small RNAs</td>\n",
       "      <td>R-HSA-5578749</td>\n",
       "      <td>RO_0002213</td>\n",
       "    </tr>\n",
       "    <tr>\n",
       "      <th>90</th>\n",
       "      <td>AAAS</td>\n",
       "      <td>8086</td>\n",
       "      <td>Transmembrane transport of small molecules</td>\n",
       "      <td>R-HSA-382551</td>\n",
       "      <td>RO_0002213</td>\n",
       "    </tr>\n",
       "    <tr>\n",
       "      <th>91</th>\n",
       "      <td>AAAS</td>\n",
       "      <td>8086</td>\n",
       "      <td>Transport of Mature mRNA derived from an Intro...</td>\n",
       "      <td>R-HSA-159236</td>\n",
       "      <td>RO_0002213</td>\n",
       "    </tr>\n",
       "    <tr>\n",
       "      <th>92</th>\n",
       "      <td>AAAS</td>\n",
       "      <td>8086</td>\n",
       "      <td>Transport of Mature mRNA Derived from an Intro...</td>\n",
       "      <td>R-HSA-159231</td>\n",
       "      <td>RO_0002213</td>\n",
       "    </tr>\n",
       "    <tr>\n",
       "      <th>93</th>\n",
       "      <td>AAAS</td>\n",
       "      <td>8086</td>\n",
       "      <td>Transport of Mature mRNAs Derived from Intronl...</td>\n",
       "      <td>R-HSA-159234</td>\n",
       "      <td>RO_0002213</td>\n",
       "    </tr>\n",
       "    <tr>\n",
       "      <th>94</th>\n",
       "      <td>AAAS</td>\n",
       "      <td>8086</td>\n",
       "      <td>Transport of Mature Transcript to Cytoplasm</td>\n",
       "      <td>R-HSA-72202</td>\n",
       "      <td>RO_0002213</td>\n",
       "    </tr>\n",
       "    <tr>\n",
       "      <th>95</th>\n",
       "      <td>AAAS</td>\n",
       "      <td>8086</td>\n",
       "      <td>Transport of Ribonucleoproteins into the Host ...</td>\n",
       "      <td>R-HSA-168271</td>\n",
       "      <td>RO_0002213</td>\n",
       "    </tr>\n",
       "    <tr>\n",
       "      <th>96</th>\n",
       "      <td>AAAS</td>\n",
       "      <td>8086</td>\n",
       "      <td>Transport of the SLBP Dependant Mature mRNA</td>\n",
       "      <td>R-HSA-159230</td>\n",
       "      <td>RO_0002213</td>\n",
       "    </tr>\n",
       "    <tr>\n",
       "      <th>97</th>\n",
       "      <td>AAAS</td>\n",
       "      <td>8086</td>\n",
       "      <td>Transport of the SLBP independent Mature mRNA</td>\n",
       "      <td>R-HSA-159227</td>\n",
       "      <td>RO_0002213</td>\n",
       "    </tr>\n",
       "    <tr>\n",
       "      <th>98</th>\n",
       "      <td>AAAS</td>\n",
       "      <td>8086</td>\n",
       "      <td>tRNA processing</td>\n",
       "      <td>R-HSA-72306</td>\n",
       "      <td>RO_0002213</td>\n",
       "    </tr>\n",
       "    <tr>\n",
       "      <th>99</th>\n",
       "      <td>AAAS</td>\n",
       "      <td>8086</td>\n",
       "      <td>tRNA processing in the nucleus</td>\n",
       "      <td>R-HSA-6784531</td>\n",
       "      <td>RO_0002213</td>\n",
       "    </tr>\n",
       "    <tr>\n",
       "      <th>100</th>\n",
       "      <td>AAAS</td>\n",
       "      <td>8086</td>\n",
       "      <td>Viral Messenger RNA Synthesis</td>\n",
       "      <td>R-HSA-168325</td>\n",
       "      <td>RO_0002213</td>\n",
       "    </tr>\n",
       "  </tbody>\n",
       "</table>\n",
       "</div>"
      ],
      "text/plain": [
       "    # GeneSymbol GeneID                                        PathwayName  \\\n",
       "81          AAAS   8086                                      RNA transport   \n",
       "82          AAAS   8086               SLC-mediated transmembrane transport   \n",
       "83          AAAS   8086                                     snRNP Assembly   \n",
       "84          AAAS   8086          SUMO E3 ligases SUMOylate target proteins   \n",
       "85          AAAS   8086                                        SUMOylation   \n",
       "86          AAAS   8086  SUMOylation of DNA damage response and repair ...   \n",
       "87          AAAS   8086            SUMOylation of DNA replication proteins   \n",
       "88          AAAS   8086                SUMOylation of RNA binding proteins   \n",
       "89          AAAS   8086           Transcriptional regulation by small RNAs   \n",
       "90          AAAS   8086         Transmembrane transport of small molecules   \n",
       "91          AAAS   8086  Transport of Mature mRNA derived from an Intro...   \n",
       "92          AAAS   8086  Transport of Mature mRNA Derived from an Intro...   \n",
       "93          AAAS   8086  Transport of Mature mRNAs Derived from Intronl...   \n",
       "94          AAAS   8086        Transport of Mature Transcript to Cytoplasm   \n",
       "95          AAAS   8086  Transport of Ribonucleoproteins into the Host ...   \n",
       "96          AAAS   8086        Transport of the SLBP Dependant Mature mRNA   \n",
       "97          AAAS   8086      Transport of the SLBP independent Mature mRNA   \n",
       "98          AAAS   8086                                    tRNA processing   \n",
       "99          AAAS   8086                     tRNA processing in the nucleus   \n",
       "100         AAAS   8086                      Viral Messenger RNA Synthesis   \n",
       "\n",
       "         PathwayID   pred_code  \n",
       "81   KEGG:hsa03013  RO_0002213  \n",
       "82    R-HSA-425407  RO_0002213  \n",
       "83    R-HSA-191859  RO_0002213  \n",
       "84   R-HSA-3108232  RO_0002213  \n",
       "85   R-HSA-2990846  RO_0002213  \n",
       "86   R-HSA-3108214  RO_0002213  \n",
       "87   R-HSA-4615885  RO_0002213  \n",
       "88   R-HSA-4570464  RO_0002213  \n",
       "89   R-HSA-5578749  RO_0002213  \n",
       "90    R-HSA-382551  RO_0002213  \n",
       "91    R-HSA-159236  RO_0002213  \n",
       "92    R-HSA-159231  RO_0002213  \n",
       "93    R-HSA-159234  RO_0002213  \n",
       "94     R-HSA-72202  RO_0002213  \n",
       "95    R-HSA-168271  RO_0002213  \n",
       "96    R-HSA-159230  RO_0002213  \n",
       "97    R-HSA-159227  RO_0002213  \n",
       "98     R-HSA-72306  RO_0002213  \n",
       "99   R-HSA-6784531  RO_0002213  \n",
       "100   R-HSA-168325  RO_0002213  "
      ]
     },
     "execution_count": 209,
     "metadata": {},
     "output_type": "execute_result"
    }
   ],
   "source": [
    "df_gp.iloc[80:100]"
   ]
  },
  {
   "cell_type": "code",
   "execution_count": 210,
   "metadata": {},
   "outputs": [],
   "source": [
    "# # Painstakingly split the predicates into the available RO/GO predicates... will do only a\n",
    "# # partial job as am in proof of concept stage and Ontology may change [ only clearest effects]\n",
    "# # RO_0002213 = positively regulates\n",
    "# # RO_0002212 = negatively regulates \n",
    "# # RO_0003308 = correlated with condition\n",
    "# # http://purl.obolibrary.org/obo/RO_0002213\n",
    "\n",
    "# map_to_ro = {\n",
    "#     'therapeutic': 'RO_0002212',\n",
    "#     'marker/mechanism': 'RO_0003308' \n",
    "# }\n",
    "\n",
    "# # Apply map to create ro_predicate value for applicable predicates\n",
    "# df_gd['pred_code'] = df_gd.DirectEvidence.map(map_to_ro).astype(str)"
   ]
  },
  {
   "cell_type": "code",
   "execution_count": 211,
   "metadata": {},
   "outputs": [],
   "source": [
    "subj_url = 'http://identifiers.org/ctd.gene/' \n",
    "subj_col = 'GeneID'\n",
    "obj_url = 'http://identifiers.org/reactome/' \n",
    "obj_col = 'PathwayID'\n",
    "pred_col = 'pred_code'\n",
    "obj_url_2 = 'http://identifiers.org/kegg.pathway/'\n",
    "\n",
    "convert_df_nt(df_gp, 'output_gp.nt', subj_url, subj_col, obj_url, obj_col, pred_col, ['KEGG:',obj_url_2])"
   ]
  },
  {
   "cell_type": "markdown",
   "metadata": {},
   "source": [
    "## Disease Pathway\n",
    "Commenting out as is inferred"
   ]
  },
  {
   "cell_type": "code",
   "execution_count": 212,
   "metadata": {},
   "outputs": [],
   "source": [
    "# # Log progress\n",
    "# subprocess.call('echo \"Begin Dis-Path\" >> log.txt', shell=True)"
   ]
  },
  {
   "cell_type": "code",
   "execution_count": 213,
   "metadata": {},
   "outputs": [],
   "source": [
    "# # Read in CTD sample, skipping the intro rows\n",
    "# df_dp = pd.read_csv('csvs/CTD_diseases_pathways.csv', skiprows=27 )\n",
    "# df_dp = df_dp.drop(0)"
   ]
  },
  {
   "cell_type": "code",
   "execution_count": 214,
   "metadata": {},
   "outputs": [],
   "source": [
    "# #Specify type to optimise\n",
    "# df_dp['DiseaseID'] = df_dp.DiseaseID.astype(str)\n",
    "# df_dp['PathwayID'] = df_dp.PathwayID.astype(str)\n",
    "# df_dp['InferenceGeneSymbol'] = df_dp.InferenceGeneSymbol.astype(str)"
   ]
  },
  {
   "cell_type": "code",
   "execution_count": 215,
   "metadata": {},
   "outputs": [],
   "source": [
    "# # Must make some quick refinements to ensure resulting URLs work\n",
    "# df_dp['PathwayID'] = df_dp['PathwayID'].str.replace('REACT:', '')\n",
    "# df_dp['DiseaseID'] = df_dp['DiseaseID'].str.replace('MESH:', '')\n",
    "\n",
    "\n",
    "# # Create Predicate Column\n",
    "# def dp_predicate(r):\n",
    "#     return 'associated_directly_with'\n",
    "    \n",
    "# df_dp['Predicate'] = df_dp.apply(dp_predicate, axis=1)\n",
    "# df_dp['Predicate'] = df_dp.Predicate.astype(str)"
   ]
  },
  {
   "cell_type": "code",
   "execution_count": 216,
   "metadata": {},
   "outputs": [],
   "source": [
    "# df_dp.head()"
   ]
  },
  {
   "cell_type": "code",
   "execution_count": 217,
   "metadata": {},
   "outputs": [],
   "source": [
    "# subj_url = 'http://identifiers.org/mesh/' \n",
    "# subj_col = 'DiseaseID'\n",
    "# obj_url = 'http://identifiers.org/reactome/' \n",
    "# obj_col = 'PathwayID'\n",
    "# pred_col = 'Predicate'\n",
    "\n",
    "# convert_df_nt(df_dp, 'output_dp.nt', subj_url, subj_col, obj_url, obj_col, pred_col)"
   ]
  },
  {
   "cell_type": "code",
   "execution_count": 218,
   "metadata": {},
   "outputs": [],
   "source": [
    "# df_dp"
   ]
  },
  {
   "cell_type": "markdown",
   "metadata": {},
   "source": [
    "## Phenotype Chemical\n",
    "I'm going to comment this section out as this is the Y data and shouldn't be in KG ( I think )"
   ]
  },
  {
   "cell_type": "code",
   "execution_count": 219,
   "metadata": {},
   "outputs": [],
   "source": [
    "# Read in CTD sample, skipping the intro rows\n",
    "# df_pc = pd.read_csv('csvs/CTD_pheno_term_ixns.csv', skiprows=27  )\n",
    "# df_pc = df_pc.drop(0)\n",
    "# df_pc[10:20]"
   ]
  },
  {
   "cell_type": "code",
   "execution_count": 220,
   "metadata": {},
   "outputs": [],
   "source": [
    "# Split the interactionActions into separate predicates RUN THIS ONLY ONCE\n",
    "# s = df_pc['interactionactions'].str.split('|').apply(pd.Series, 1).stack()\n",
    "# s.index = s.index.droplevel(-1)\n",
    "# s.name = 'interactionactions'\n",
    "# df_pc = df_pc.join(s.apply(lambda x: pd.Series(x.split('|'))))\n",
    "# df_pc = df_pc.rename(columns={0: 'Predicate'})\n",
    "# df_pc['Predicate'] = df_pc.Predicate.str.replace('^', '_')\n",
    "# df_pc['Predicate'] = df_pc.Predicate.str.replace(' ', '_')"
   ]
  },
  {
   "cell_type": "code",
   "execution_count": 221,
   "metadata": {},
   "outputs": [],
   "source": [
    "# subj_url = 'http://identifiers.org/ctd.chemical/'  \n",
    "# subj_col = 'chemicalid'\n",
    "# obj_url = 'http://identifiers.org/go/' \n",
    "# obj_col = 'phenotypeid'\n",
    "# pred_col = 'Predicate'\n",
    "\n",
    "# convert_df_nt(df_pc, 'output_pc.nt', subj_url, subj_col, obj_url, obj_col, pred_col)"
   ]
  },
  {
   "cell_type": "markdown",
   "metadata": {},
   "source": [
    "## Merge NT files"
   ]
  },
  {
   "cell_type": "code",
   "execution_count": 10,
   "metadata": {},
   "outputs": [
    {
     "data": {
      "text/plain": [
       "0"
      ]
     },
     "execution_count": 10,
     "metadata": {},
     "output_type": "execute_result"
    }
   ],
   "source": [
    "# Log progress\n",
    "# import subprocess\n",
    "subprocess.call('echo \"Begin Merging\" >> log.txt', shell=True)"
   ]
  },
  {
   "cell_type": "code",
   "execution_count": 11,
   "metadata": {},
   "outputs": [
    {
     "data": {
      "text/plain": [
       "0"
      ]
     },
     "execution_count": 11,
     "metadata": {},
     "output_type": "execute_result"
    }
   ],
   "source": [
    "subprocess.call('cat *.nt > master.nt', shell=True)"
   ]
  },
  {
   "cell_type": "code",
   "execution_count": 224,
   "metadata": {},
   "outputs": [
    {
     "data": {
      "text/plain": [
       "0"
      ]
     },
     "execution_count": 224,
     "metadata": {},
     "output_type": "execute_result"
    }
   ],
   "source": [
    "# Log progress\n",
    "subprocess.call('echo \"Finished Merging\" >> log.txt', shell=True)"
   ]
  },
  {
   "cell_type": "markdown",
   "metadata": {},
   "source": [
    "Note that Jena doesn't accept a percentage sign unless it's followed by two hexadecimals, so you can run the following to replace the % sign with the word percentage"
   ]
  },
  {
   "cell_type": "code",
   "execution_count": 225,
   "metadata": {},
   "outputs": [],
   "source": [
    "# subproces.call(\"sed -i '/%/ s//percent/g' master.nt\", shell=True)"
   ]
  },
  {
   "cell_type": "code",
   "execution_count": 226,
   "metadata": {},
   "outputs": [],
   "source": [
    "# # You'll need to install Apache Jena for this\n",
    "# subprocess.call('riot --output=RDFXML master.nt > master.rdf', shell=True)"
   ]
  },
  {
   "cell_type": "code",
   "execution_count": null,
   "metadata": {},
   "outputs": [],
   "source": []
  }
 ],
 "metadata": {
  "kernelspec": {
   "display_name": "Python 3",
   "language": "python",
   "name": "python3"
  },
  "language_info": {
   "codemirror_mode": {
    "name": "ipython",
    "version": 3
   },
   "file_extension": ".py",
   "mimetype": "text/x-python",
   "name": "python",
   "nbconvert_exporter": "python",
   "pygments_lexer": "ipython3",
   "version": "3.6.5"
  }
 },
 "nbformat": 4,
 "nbformat_minor": 2
}
